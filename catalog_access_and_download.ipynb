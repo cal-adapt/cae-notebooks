{
 "cells": [
  {
   "cell_type": "markdown",
   "id": "74513442-4067-44c4-b1c8-7216c5670d98",
   "metadata": {
    "tags": []
   },
   "source": [
    "Cal-Adapt Analytics Engine Data Catalog Access and Data Download\n",
    "----------------------------------------------------------------"
   ]
  },
  {
   "cell_type": "markdown",
   "id": "abdc33c9-127b-4d9d-ac27-08e2fab953d6",
   "metadata": {},
   "source": [
    "All of the climate data within the Analytics Engine is stored in a publicly accessible AWS S3 bucket. If you are familiar with programming in Python you can easily access the data using the intake package to create an xarray dataset. This xarray dataset then can be exported to NetCDF and stored physically on your computer."
   ]
  },
  {
   "cell_type": "code",
   "execution_count": null,
   "id": "c0ed041d-b80c-4622-8fe3-dbcd373bff57",
   "metadata": {},
   "outputs": [],
   "source": [
    "#If running this notebook in an environment outside of the Cal-Adapt Analytics Engine Jupyter Hub make sure to install intake-esm and s3fs packages\n",
    "import intake"
   ]
  },
  {
   "cell_type": "markdown",
   "id": "fc76f1f0-b98d-43f5-9409-d40dcb05f7d8",
   "metadata": {},
   "source": [
    "To connect to the data catalog that stores all the relevant metadata needed to access the data issue these commands:"
   ]
  },
  {
   "cell_type": "code",
   "execution_count": null,
   "id": "87ef2aed-5484-491c-b92b-251958f1e047",
   "metadata": {},
   "outputs": [],
   "source": [
    "# Open catalog of available data sets using intake-esm package\n",
    "cat = intake.open_esm_datastore('https://cadcat.s3.amazonaws.com/cae-collection.json')"
   ]
  },
  {
   "cell_type": "code",
   "execution_count": null,
   "id": "568e8271-502f-4e14-9a05-a2c33b486692",
   "metadata": {},
   "outputs": [],
   "source": [
    "# inspecting the catalog object will show the number of datasets and unique attributes\n",
    "cat"
   ]
  },
  {
   "cell_type": "markdown",
   "id": "a2ac7e1a-a726-4152-8846-a7324dc424b2",
   "metadata": {},
   "source": [
    "This catalog object can be converted to a Pandas dataframe to easily see the contents:"
   ]
  },
  {
   "cell_type": "code",
   "execution_count": null,
   "id": "d95a17d4",
   "metadata": {},
   "outputs": [],
   "source": [
    "# Access catalog as dataframe and inspect the first few rows\n",
    "cat_df = cat.df\n",
    "cat_df.head()"
   ]
  },
  {
   "cell_type": "markdown",
   "id": "f8fa0861-80b3-4d62-b66e-7ae52bd689e4",
   "metadata": {},
   "source": [
    "You can also list just the column names in the catalog by doing:"
   ]
  },
  {
   "cell_type": "code",
   "execution_count": null,
   "id": "5afe8952",
   "metadata": {},
   "outputs": [],
   "source": [
    "# Print column names\n",
    "for col in cat_df:\n",
    "    print(col)"
   ]
  },
  {
   "cell_type": "markdown",
   "id": "8af88025-6818-4d66-838f-92174bea698e",
   "metadata": {},
   "source": [
    "To see the unique values in each column run the following code:"
   ]
  },
  {
   "cell_type": "code",
   "execution_count": null,
   "id": "f16ad636",
   "metadata": {},
   "outputs": [],
   "source": [
    "# unique values in each column. Not all combinations of values will link to a dataset.\n",
    "for col in cat_df:\n",
    "    print(cat_df[col].unique())"
   ]
  },
  {
   "cell_type": "markdown",
   "id": "bdc579ea-bfae-447a-a976-1ad09a867da0",
   "metadata": {},
   "source": [
    "This will give you an idea of the available query parameters that can be entered to retrieve a particular set of data. Below is a sample query against the whole catalog to refine catalog entries to those of interest."
   ]
  },
  {
   "cell_type": "code",
   "execution_count": null,
   "id": "e5d23ffb",
   "metadata": {},
   "outputs": [],
   "source": [
    "# form query dictionary\n",
    "query = {\n",
    "    # Downscaling method\n",
    "    'activity_id': 'WRF',\n",
    "    # GCM name\n",
    "    'source_id': 'CESM2',\n",
    "    # time period - historical or emissions scenario\n",
    "    'experiment_id': ['historical', 'ssp370'],\n",
    "    # variable\n",
    "    'variable_id': 't2',\n",
    "    # monthly time resolution\n",
    "    'table_id': 'mon',\n",
    "    # grid resolution: d01 = 45km, d02 = 9km, d03 = 3km\n",
    "    'grid_label': 'd03'\n",
    "}\n",
    "# subset catalog and get some metrics grouped by 'source_id'\n",
    "cat_subset = cat.search(require_all_on=['source_id'], **query)\n",
    "cat_subset"
   ]
  },
  {
   "cell_type": "markdown",
   "id": "e22c23b2-ecc0-494f-96a5-a824e85f26ff",
   "metadata": {},
   "source": [
    "The zarr datasets of interest can then be loaded into memory as xarray datasets using:"
   ]
  },
  {
   "cell_type": "code",
   "execution_count": null,
   "id": "02e397c9",
   "metadata": {},
   "outputs": [],
   "source": [
    "dsets = cat_subset.to_dataset_dict(xarray_open_kwargs={'consolidated': True},\n",
    "                                   storage_options={'anon': True})"
   ]
  },
  {
   "cell_type": "markdown",
   "id": "f6ceae18-b4fa-4c54-a008-df082d589640",
   "metadata": {},
   "source": [
    "To see the dataset keys, you can list the keys."
   ]
  },
  {
   "cell_type": "code",
   "execution_count": null,
   "id": "df7a7ff0",
   "metadata": {},
   "outputs": [],
   "source": [
    "# See object keys in dsets\n",
    "list(dsets)"
   ]
  },
  {
   "cell_type": "markdown",
   "id": "cb63aa86-d389-4b4f-aaf6-42267ff92037",
   "metadata": {},
   "source": [
    "To get down to one dataset of interest, use the key to query."
   ]
  },
  {
   "cell_type": "code",
   "execution_count": null,
   "id": "c5f67531-9de3-4031-8595-99e4596d1ecb",
   "metadata": {
    "scrolled": true
   },
   "outputs": [],
   "source": [
    "# Subset to historical time period and examine data object\n",
    "data = dsets['WRF.UCLA.CESM2.historical.mon.d03']\n",
    "data"
   ]
  },
  {
   "cell_type": "markdown",
   "id": "0a6b4dcc-184b-4f66-8094-32f366f064b9",
   "metadata": {},
   "source": [
    "Finally to save a dataset to NetCDF run the last cell below."
   ]
  },
  {
   "cell_type": "code",
   "execution_count": null,
   "id": "1089d8cf-1ccc-4d5c-a471-20b425ee2cea",
   "metadata": {},
   "outputs": [],
   "source": [
    "data.to_netcdf('WRF-UCLA-CESM2-historical-mon-d03.nc')"
   ]
  }
 ],
 "metadata": {
  "kernelspec": {
   "display_name": "Python 3 (ipykernel)",
   "language": "python",
   "name": "python3"
  },
  "language_info": {
   "codemirror_mode": {
    "name": "ipython",
    "version": 3
   },
   "file_extension": ".py",
   "mimetype": "text/x-python",
   "name": "python",
   "nbconvert_exporter": "python",
   "pygments_lexer": "ipython3",
   "version": "3.9.13"
  }
 },
 "nbformat": 4,
 "nbformat_minor": 5
}
