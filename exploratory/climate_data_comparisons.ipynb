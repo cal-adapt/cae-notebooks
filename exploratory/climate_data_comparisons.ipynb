{
 "cells": [
  {
   "cell_type": "markdown",
   "id": "8a4ed666-0365-49f2-adf7-2872aa9cd5e8",
   "metadata": {
    "execution": {
     "iopub.execute_input": "2024-04-08T15:20:31.939115Z",
     "iopub.status.busy": "2024-04-08T15:20:31.938716Z",
     "iopub.status.idle": "2024-04-08T15:20:47.869887Z",
     "shell.execute_reply": "2024-04-08T15:20:47.869165Z",
     "shell.execute_reply.started": "2024-04-08T15:20:31.939045Z"
    }
   },
   "source": [
    "# Understanding Climate Data on the Analytics Engine\n",
    "This notebook is a walkthrough of how to utilize different kinds of climate data, including weather observations, reanalysis products, and model output available on the Analytics Engine. \n",
    "* Weather observations are inherently point locations, tied to a single station location, and represent the actual values of weather variables. Weather observations are highly localized weather information, and are limited by instrumentation constraints.\n",
    "* Reanalysis products are reconstructions of the historical weather observation period. Limitations...\n",
    "* Climate model output is a representation of a time period, and are intentionally not designed to recreate the trends seen in weather observations, but capture one possible realization of those trends. The variability in individual climate model realizations is how we are able to determine the range of potential future realities.  \n",
    "\n",
    "**Intended Application**: As a user, I want to be able to understand the **strengths and weaknesses of comparing observations, reanalysis, and model output** by:\n",
    "1. Visualizing observations to reanalysis\n",
    "2. Visualizing observations to climate model output\n",
    "\n",
    "**Runtime**: This notebook is in active development, and the runtime may vary as complexity is added. \n",
    "\n",
    "### Step 0: Set-up"
   ]
  },
  {
   "cell_type": "code",
   "execution_count": null,
   "id": "de8dc5fc-5b43-4828-9a1c-1eca28d3d9f5",
   "metadata": {
    "tags": []
   },
   "outputs": [],
   "source": [
    "import climakitae as ck\n",
    "import xarray as xr\n",
    "import pandas as pd\n",
    "import numpy as np\n",
    "\n",
    "import hvplot.pandas  # noqa\n",
    "pd.options.plotting.backend = 'holoviews'"
   ]
  },
  {
   "cell_type": "markdown",
   "id": "f07ea5ae-5b7a-4493-a9c7-19cf11df6480",
   "metadata": {},
   "source": [
    "### Step 1: Select data\n",
    "First we will retrieve precipitation datay using LOCA2-Hybrid models: FOGALS-g3, EC-Earth3-Veg, and CNRM-ESM2-1 for a single location. "
   ]
  },
  {
   "cell_type": "code",
   "execution_count": null,
   "id": "4ad50a1b-fcb3-47f4-a0b2-6f448c14bdf3",
   "metadata": {
    "tags": []
   },
   "outputs": [],
   "source": [
    "selections = ck.Select()\n",
    "\n",
    "selections.downscaling_method = 'Statistical'\n",
    "selections.variable = 'Precipitation (total)'\n",
    "selections.timescale = 'monthly'\n",
    "selections.units = 'inches'\n",
    "selections.resolution = '3 km'\n",
    "selections.time_slice = (1950, 2002)\n",
    "selections.area_subset = 'lat/lon'\n",
    "selections.cached_area = ['coordinate selection']\n",
    "selections.area_average = 'No'\n",
    "selections.latitude = (34.067 - 0.02, 34.067 + 0.02) # specifically at station coordinates, with small buffer\n",
    "selections.longitude = (-117.65 - 0.02, -117.65 + 0.02) # specifically at station coordinates, with small buffer"
   ]
  },
  {
   "cell_type": "code",
   "execution_count": null,
   "id": "c213e1ed-1b5f-4a03-8b01-97c3aa4d9e1c",
   "metadata": {
    "tags": []
   },
   "outputs": [],
   "source": [
    "# retrieving data\n",
    "ds = selections.retrieve()\n",
    "\n",
    "# subset for models of interest\n",
    "mdls = ['LOCA2_EC-Earth3_r1i1p1f1', 'LOCA2_FGOALS-g3_r1i1p1f1', 'LOCA2_CNRM-ESM2-1_r1i1p1f2']\n",
    "ds = ds.sel(simulation = mdls)\n",
    "\n",
    "# loading into memory -- will take a few minutes! \n",
    "ds = ck.load(ds)\n",
    "ds = ds.squeeze()\n",
    "ds"
   ]
  },
  {
   "cell_type": "markdown",
   "id": "ac1abc43-9a8f-40d5-bf9d-4e530fe81d05",
   "metadata": {},
   "source": [
    "Read in weather observations for comparison. In this example, we are looking at observations from a weather station near Ontario, in San Bernadino County."
   ]
  },
  {
   "cell_type": "code",
   "execution_count": null,
   "id": "a18e75f6-77d9-4ac6-9254-83e248673f30",
   "metadata": {
    "tags": []
   },
   "outputs": [],
   "source": [
    "wx_obs = pd.read_csv('1026_data_cleaned.csv') ## we'll use the \"total_precipitation_in\" column for comparison\n",
    "\n",
    "# adding an easy to interpret time (month-year) column so we can compare side by side\n",
    "wx_obs['day'] = 1 # using first of the month for ease\n",
    "wx_obs['time'] = pd.to_datetime(wx_obs[['year', 'month', 'day']])\n",
    "wx_obs = wx_obs.drop(columns=['year', 'month', 'day']) # minor cleanup\n",
    "wx_obs"
   ]
  },
  {
   "cell_type": "markdown",
   "id": "aa593807-f20b-4f0c-aa6d-c79f47eeabcb",
   "metadata": {},
   "source": [
    "### Step 2: Visualize trends between observations and model output"
   ]
  },
  {
   "cell_type": "code",
   "execution_count": null,
   "id": "a65e1a4d-f2d9-43da-bc86-41d4831aaeac",
   "metadata": {
    "tags": []
   },
   "outputs": [],
   "source": [
    "models_to_plot = ds.hvplot.line(x='time', by='simulation', title='Observations to Model Comparison');\n",
    "obs = wx_obs.hvplot(x='time', y='total_precipitation_in', color='black', label='Observations');\n",
    "\n",
    "models_to_plot * obs"
   ]
  },
  {
   "cell_type": "code",
   "execution_count": null,
   "id": "d00ae1d9-c984-475a-824e-e68a5200ead7",
   "metadata": {},
   "outputs": [],
   "source": [
    "# lets zoom in on a particular year to really focus our analysis\n",
    "# you can always use the zoom tool too!"
   ]
  },
  {
   "cell_type": "markdown",
   "id": "dbd6c56a-8bef-4272-b007-f645af5f03a8",
   "metadata": {},
   "source": [
    "Key takeaways here:\n",
    "* Climate model output trends may look very different from observations! This is okay -- it's by design!\n",
    "* An ordered timeseries from a climate model will never match the observational timeseries.\n",
    "* *Coming soon* Looking at reanalysis will illustrate those historical observed trends better, because that is how reanalysis datasets are intended to be used!"
   ]
  },
  {
   "cell_type": "code",
   "execution_count": null,
   "id": "4f4b4011-8c15-4dd5-8da8-4cb73c0925b3",
   "metadata": {
    "tags": []
   },
   "outputs": [],
   "source": [
    "# first we'll subset for precipitation events above 1mm to remove the \"drizzle signal\"\n",
    "ds = ds.clip(min=1.)\n",
    "\n",
    "# mask <1mm in weather obs\n",
    "valid_obs = wx_obs.loc[wx_obs['total_precipitation_in'] > 1]"
   ]
  },
  {
   "cell_type": "code",
   "execution_count": null,
   "id": "87f0399e-ba76-441a-a0ed-9ba906354100",
   "metadata": {
    "tags": []
   },
   "outputs": [],
   "source": [
    "# manual version, ugly\n",
    "m1 = ds.sel(simulation='LOCA2_EC-Earth3_r1i1p1f1').hvplot.hist(title='Observations to Model Comparison', alpha=0.3)\n",
    "m2 = ds.sel(simulation='LOCA2_FGOALS-g3_r1i1p1f1').hvplot.hist(alpha=0.3)\n",
    "m3 = ds.sel(simulation='LOCA2_CNRM-ESM2-1_r1i1p1f2').hvplot.hist(alpha=0.3)\n",
    "\n",
    "obs_hist = valid_obs['total_precipitation_in'].hvplot.hist(color='black', label='Observations')\n",
    "\n",
    "m1 * m2 * m3 * obs_hist"
   ]
  },
  {
   "cell_type": "code",
   "execution_count": null,
   "id": "b61eaa21-e884-4035-b6cc-c309548c2d03",
   "metadata": {
    "tags": []
   },
   "outputs": [],
   "source": [
    "# slight improvement, looking to add model labels if possible\n",
    "plot = None\n",
    "for sim in ds.simulation:\n",
    "    curr_plot = ds.sel(simulation=sim).hvplot.hist(alpha=0.3, title='Obs to Model Comparison', label=sim.item())\n",
    "    plot = curr_plot if plot is None else plot * curr_plot\n",
    "    \n",
    "plot * obs_hist"
   ]
  },
  {
   "cell_type": "markdown",
   "id": "0c8c9ee9-8c5b-4547-9b4f-421b87503109",
   "metadata": {},
   "source": [
    "Some final key takeaway messages -- *in development*"
   ]
  }
 ],
 "metadata": {
  "kernelspec": {
   "display_name": "Python 3 (ipykernel)",
   "language": "python",
   "name": "python3"
  },
  "language_info": {
   "codemirror_mode": {
    "name": "ipython",
    "version": 3
   },
   "file_extension": ".py",
   "mimetype": "text/x-python",
   "name": "python",
   "nbconvert_exporter": "python",
   "pygments_lexer": "ipython3",
   "version": "3.9.13"
  }
 },
 "nbformat": 4,
 "nbformat_minor": 5
}
