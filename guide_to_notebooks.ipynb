{
 "cells": [
  {
   "cell_type": "markdown",
   "id": "2761f194-012c-4a1d-947c-e06ca0827d37",
   "metadata": {},
   "source": [
    "# Cal-Adapt: Analytics Engine Navigation Guide"
   ]
  },
  {
   "cell_type": "markdown",
   "id": "a1a0d94d-d313-42cf-b45a-0dd31953daf8",
   "metadata": {},
   "source": [
    "Welcome to the Cal-Adapt: Analytics Engine JupyterHub! Here, you can access tools and guidance to explore and analyze climate projections data downscaled for California. \n",
    "\n",
    "If you are new to working with Jupyter notebooks, check out our [video tutorial](https://www.youtube.com/watch?v=eEo9V_OJw9w) or review Jupyter's [introductory documentation](https://jupyter.org/try-jupyter/retro/notebooks/?path=notebooks/Intro.ipynb). You can also review our [technical documentation](https://climakitae.readthedocs.io/en/latest/) to learn more about the open source python library that powers these notebooks, `climakitae`.\n",
    "\n",
    "Each link below will open up a Jupyter notebook that will step through: \n",
    "1) Selecting climate data you are interested in\n",
    "2) Transforming the data or conducting an analysis\n",
    "3) Exporting data or visualizations\n",
    "\n",
    "You can also access these notebooks through the file directory on the left side of the screen. These notebook files will automatically update to reflect our latest development, so we suggest creating a copy of the file if you want to change or insert your own code."
   ]
  },
  {
   "cell_type": "markdown",
   "id": "65d883b8-4f4d-4bc9-bf5f-7ecf1363a36a",
   "metadata": {},
   "source": [
    "### Get Started with the Analytics Engine\n",
    "[getting_started.ipynb](getting_started.ipynb): Introduction to retrieving, visualizing, and exporting climate data using python and the Analytics Engine\n",
    "\n",
    "### Introduction to Sources of Uncertainty \n",
    "[explore_internal_variability.ipynb](explore_internal_variability.ipynb): Explore uncertainty within climate models due to internal variability in the climate system, using projected changes in extreme precipitation across different climate model simulations\n",
    "\n",
    "[explore_model_uncertainty.ipynb](explore_model_uncertainty.ipynb): Explore uncertainty across climate models, using projected variations in air temperature trends across different climate model simulations \n",
    "\n",
    "### Extreme Weather Events \n",
    "[threshold_tools_basics.ipynb](threshold_tools_basics.ipynb): Introduction to extreme value analysis. Demonstrates how to compute statistical values of interest related to extreme weather events. \n",
    "\n",
    "[threshold_tools_exceedance.ipynb](threshold_tools_exceedance.ipynb): Perform calculations and explore visualizations of threshold exceedance events using an interactive graphical user interface (GUI). An extension of the topics introduced in threshold_tools_basics. \n",
    "\n",
    "[threshold_tools_application_example.ipynb](threshold_tools_application_example.ipynb): A walk through of two applications of the AE threshold tools for the energy sector: (1) updating design standards and (2) asset-by-asset vulnerability assessments\n",
    "\n",
    "### Other Science Applications\n",
    "[explore_amy.ipynb](explore_amy.ipynb): Explore the concept and applications of an Average Meteorological Year to represent the mean climatological conditions over one year of hourly data.\n",
    "\n",
    "explore_warming.ipynb: Explore the concept of Global Warming Levels, which can be used to compare possible climate outcomes across multiple scenarios or model simulations.\n",
    "\n",
    "timeseries_example.ipynb: Explore data transformation and analysis options for working with climate timeseries data using a graphical user interface (GUI). "
   ]
  }
 ],
 "metadata": {
  "kernelspec": {
   "display_name": "Python 3 (ipykernel)",
   "language": "python",
   "name": "python3"
  },
  "language_info": {
   "codemirror_mode": {
    "name": "ipython",
    "version": 3
   },
   "file_extension": ".py",
   "mimetype": "text/x-python",
   "name": "python",
   "nbconvert_exporter": "python",
   "pygments_lexer": "ipython3",
   "version": "3.9.7"
  }
 },
 "nbformat": 4,
 "nbformat_minor": 5
}
