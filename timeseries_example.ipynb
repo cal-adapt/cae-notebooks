{
 "cells": [
  {
   "cell_type": "markdown",
   "id": "15c0a6fa-0468-4b54-b6bc-9148ff425c5d",
   "metadata": {},
   "source": [
    "# Cal-Adapt Analytics Engine: Timeseries Tools\n",
    "A notebook to demonstrate the usage of the timeseries toolkit to visualize and process timeseries data.\n",
    "\n",
    "## Step 0: Setup"
   ]
  },
  {
   "cell_type": "code",
   "execution_count": null,
   "id": "8ef193b0-5de8-4105-b0b5-9eb4e1831fa2",
   "metadata": {},
   "outputs": [],
   "source": [
    "import panel as pn\n",
    "pn.extension()"
   ]
  },
  {
   "cell_type": "markdown",
   "id": "e0ab34a6-30f1-4497-81e8-e44b7cc265a7",
   "metadata": {},
   "source": [
    "This time we'll also load the timeseries tools with their own abbreviation for convenience."
   ]
  },
  {
   "cell_type": "code",
   "execution_count": null,
   "id": "035681b9-f330-407d-bc93-dd0d3b88f3fe",
   "metadata": {},
   "outputs": [],
   "source": [
    "import climakitae as ck\n",
    "from climakitae import timeseriestools as tst"
   ]
  },
  {
   "cell_type": "markdown",
   "id": "54b4b6bf-8949-4155-ac6d-e9a686347278",
   "metadata": {},
   "source": [
    "Additionally, get set up to make the computing go faster by executing the following cell. Learn more about dask and see some common [troubleshooting tips on our FAQ page](https://analytics.cal-adapt.org/docs/faq/)."
   ]
  },
  {
   "cell_type": "code",
   "execution_count": null,
   "id": "80537bea-0a3a-44ac-a5c8-4bef62f22e0c",
   "metadata": {},
   "outputs": [],
   "source": [
    "from climakitae.cluster import Cluster\n",
    "cluster = Cluster()\n",
    "cluster.adapt(minimum=0, maximum=8)\n",
    "client = cluster.get_client()\n",
    "cluster"
   ]
  },
  {
   "cell_type": "code",
   "execution_count": null,
   "id": "7128a831-6c48-4bb9-bd51-2677b31be3aa",
   "metadata": {},
   "outputs": [],
   "source": [
    "app = ck.Application()"
   ]
  },
  {
   "cell_type": "markdown",
   "id": "c1ff8a1c-a590-4266-af3f-862f2181c065",
   "metadata": {},
   "source": [
    "## Step 1: Select\n",
    "In order to work with the timeseries tools, **be sure to select both \"Historical Climate\" and one of the SSP timeseries options.** The historical data will be automatically appended to a SSP time series when both are selected. **You'll also need to compute an area average over the grid cells. This option is found in the second tab, where you'll select **yes** under the area average selection.\n",
    "\n",
    "To learn more about the data available on the Analytics Engine, [see our data catalog](https://analytics.cal-adapt.org/data/). "
   ]
  },
  {
   "cell_type": "code",
   "execution_count": null,
   "id": "5c224921-529d-4742-a2db-fd8f89aa2162",
   "metadata": {},
   "outputs": [],
   "source": [
    "app.select()"
   ]
  },
  {
   "cell_type": "markdown",
   "id": "eca30468-7387-459d-846e-2990a9845cd2",
   "metadata": {},
   "source": [
    "## Step 2: Retrieve"
   ]
  },
  {
   "cell_type": "code",
   "execution_count": null,
   "id": "2f0c820e-6122-4eef-b682-f31fe380b31b",
   "metadata": {},
   "outputs": [],
   "source": [
    "my_data = app.retrieve()"
   ]
  },
  {
   "cell_type": "code",
   "execution_count": null,
   "id": "b9b00682-2852-4249-a1ac-6255c5ee47ce",
   "metadata": {},
   "outputs": [],
   "source": [
    "my_data"
   ]
  },
  {
   "cell_type": "markdown",
   "id": "6adfd743-aef3-46b9-9ddf-e5d63dac7773",
   "metadata": {},
   "source": [
    "For the timeseries 'explore' function, we first need to load the dataset, so that the subsequent operations will be speedy. To do this, we'll use the `app.load()` fuction in climakitae.\n",
    "\n",
    "The 'retrieve' step above previews, but does not compute, the aggregation of all the selected data into timeseries. This may take a few minutes."
   ]
  },
  {
   "cell_type": "code",
   "execution_count": null,
   "id": "00e95422-45e6-444f-b150-897b37937874",
   "metadata": {},
   "outputs": [],
   "source": [
    "my_data = app.load(my_data)"
   ]
  },
  {
   "cell_type": "markdown",
   "id": "5aeafe33-9dca-4e15-ac85-cb5a40257de9",
   "metadata": {},
   "source": [
    "## Steps 3 & 4: Visualize and Transform"
   ]
  },
  {
   "cell_type": "code",
   "execution_count": null,
   "id": "b9f482ab-0609-43b9-9e60-de1c0e1b2cb9",
   "metadata": {},
   "outputs": [],
   "source": [
    "timeseries = tst.Timeseries(my_data)"
   ]
  },
  {
   "cell_type": "markdown",
   "id": "59ac5d9a-d4fb-4747-bb45-43bb398a835c",
   "metadata": {},
   "source": [
    "Preview various transforms on the data in real time."
   ]
  },
  {
   "cell_type": "code",
   "execution_count": null,
   "id": "d5f2c6ca-410b-432b-bed4-cd1c8f3e70c3",
   "metadata": {},
   "outputs": [],
   "source": [
    "timeseries.explore()"
   ]
  },
  {
   "cell_type": "markdown",
   "id": "1263b30d-9bca-4344-b70f-245bbd7c8315",
   "metadata": {
    "tags": []
   },
   "source": [
    "And then output whatever the current state is to another variable:"
   ]
  },
  {
   "cell_type": "code",
   "execution_count": null,
   "id": "64b01589-78ba-487d-8c51-7a69e4de3544",
   "metadata": {},
   "outputs": [],
   "source": [
    "transformed = timeseries.output_current()"
   ]
  },
  {
   "cell_type": "code",
   "execution_count": null,
   "id": "d4ec278e-13c0-4d4a-af28-1db20e188112",
   "metadata": {},
   "outputs": [],
   "source": [
    "transformed"
   ]
  },
  {
   "cell_type": "markdown",
   "id": "2adac189-00bb-4f77-acd5-cce37b9e72a9",
   "metadata": {},
   "source": [
    "## Step 5: Export\n",
    "\n",
    "To export, first pick a format from the dropdown menu.\n",
    "- We recommend NetCDF, which will work with any number of variables and dimensions in your dataset\n",
    "- CSV works best up to 2-dimensional data (e.g., lon x lat), and will be compressed and exported with a separate metadata file\n",
    "- GeoTIFF is not possible as the time series data does not retain a spatial component"
   ]
  },
  {
   "cell_type": "code",
   "execution_count": null,
   "id": "ca6b8b60-be5d-4c21-828e-b11d1ad47994",
   "metadata": {},
   "outputs": [],
   "source": [
    "app.export_as()"
   ]
  },
  {
   "cell_type": "markdown",
   "id": "cd729c6a-62e4-4388-b570-7b6ce76a3712",
   "metadata": {},
   "source": [
    "Next, write in the object you wish to export and your desired filename (in single or double quotation marks)."
   ]
  },
  {
   "cell_type": "code",
   "execution_count": null,
   "id": "3cdc0db0-40dc-4aec-9020-3763df604fe9",
   "metadata": {},
   "outputs": [],
   "source": [
    "app.export_dataset(transformed,'my_filename')"
   ]
  },
  {
   "cell_type": "markdown",
   "id": "b5614d47-642d-4d3e-af25-d8a617371aa1",
   "metadata": {},
   "source": [
    "Lastly, when you are done, close your cluster resources to free them up for the next time you work. "
   ]
  },
  {
   "cell_type": "code",
   "execution_count": null,
   "id": "5414eb1b-3734-411e-bb11-ad8b95c96f36",
   "metadata": {},
   "outputs": [],
   "source": [
    "cluster.close()"
   ]
  }
 ],
 "metadata": {
  "kernelspec": {
   "display_name": "Python 3 (ipykernel)",
   "language": "python",
   "name": "python3"
  },
  "language_info": {
   "codemirror_mode": {
    "name": "ipython",
    "version": 3
   },
   "file_extension": ".py",
   "mimetype": "text/x-python",
   "name": "python",
   "nbconvert_exporter": "python",
   "pygments_lexer": "ipython3",
   "version": "3.9.7"
  }
 },
 "nbformat": 4,
 "nbformat_minor": 5
}
