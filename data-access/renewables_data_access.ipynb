{
 "cells": [
  {
   "cell_type": "markdown",
   "id": "f0ccb7c5-cb66-4e7a-9973-b72aabeec8e4",
   "metadata": {},
   "source": [
    "# Accessing renewables data \n",
    "Data access for our derived renewables data is still a work in progress as we build a data catalog and continue generating data products. Eventually, helper functions will be incorporated into `climakitae` to streamline data access. For the time being, here's the best way to access this data using python.<br><br>For more details on data availability and production, check our memo here: https://wfclimres.s3.amazonaws.com/era/data-guide_pv-wind.pdf\n"
   ]
  },
  {
   "cell_type": "markdown",
   "id": "4b456853-e5d1-4a9b-9c66-671a9d66af54",
   "metadata": {
    "execution": {
     "iopub.execute_input": "2025-03-14T22:42:33.105833Z",
     "iopub.status.busy": "2025-03-14T22:42:33.105482Z",
     "iopub.status.idle": "2025-03-14T22:42:33.123401Z",
     "shell.execute_reply": "2025-03-14T22:42:33.122837Z",
     "shell.execute_reply.started": "2025-03-14T22:42:33.105805Z"
    }
   },
   "source": [
    "## The basics\n",
    "Retrieve renewables data from the AWS s3 bucket and download it to your current directory as a netcdf file. "
   ]
  },
  {
   "cell_type": "code",
   "execution_count": null,
   "id": "87960918-5410-42fc-8d17-e42568c98342",
   "metadata": {},
   "outputs": [],
   "source": [
    "# Library for reading zarrs into data objects using python \n",
    "import xarray as xr "
   ]
  },
  {
   "cell_type": "code",
   "execution_count": null,
   "id": "b96eb468-609c-42ae-9345-e8ac9723c7be",
   "metadata": {},
   "outputs": [],
   "source": [
    "# Set your simulation: one of [\"ec-earth3\",\"miroc6\",\"mpi-esm1-2-hr\",\"taiesm1\", \"era5\"]\n",
    "simulation = \"taiesm1\" \n",
    "\n",
    "# Set your technology: one of [\"pv_distributed\",\"pv_utility\",\"windpower_offshore\",\"windpower_onshore\"]\n",
    "technology = \"pv_utility\"\n",
    "\n",
    "# Set your variable: on of [\"cf\", \"gen\"] \n",
    "variable = \"gen\" \n",
    "\n",
    "# Set your scenario: either \"renanalysis\" for model \"era5\" or one of [\"historical\",\"ssp370\"] for any other model \n",
    "scenario = \"ssp370\" "
   ]
  },
  {
   "cell_type": "code",
   "execution_count": null,
   "id": "56fc996f-2a5c-43b9-a3ac-17eafb62d185",
   "metadata": {},
   "outputs": [],
   "source": [
    "# Retrieve the data from s3 \n",
    "path_to_zarr = f\"s3://wfclimres/era/{technology}/{simulation}/{scenario}/1hr/{variable}/d03/\"\n",
    "ds = xr.open_zarr(path_to_zarr, storage_options={\"anon\": True})"
   ]
  },
  {
   "cell_type": "code",
   "execution_count": null,
   "id": "79ece3bf-f321-4457-ab18-3558380042ea",
   "metadata": {},
   "outputs": [],
   "source": [
    "# Download the data to a netcdf \n",
    "# Just download one timestep as an example \n",
    "ds_to_download = ds.isel(time=0)\n",
    "ds_to_download.to_netcdf(\"my-renewables-data.nc\")"
   ]
  },
  {
   "cell_type": "markdown",
   "id": "8847842a-b2f8-4646-88ab-d9bb10df7307",
   "metadata": {},
   "source": [
    "## Make a quick plot of the data \n",
    "xarray has some nice mapping features that enable you to quickly generate a plot for a single timestep. This lets you get a sense for the data you read in. "
   ]
  },
  {
   "cell_type": "code",
   "execution_count": null,
   "id": "c74c31b3-24f8-4150-b3cb-e3f9f14730cf",
   "metadata": {},
   "outputs": [],
   "source": [
    "one_timestep = ds[variable].isel(time=0).compute() # Select the first timestep and read it into memory \n",
    "one_timestep.plot();"
   ]
  },
  {
   "cell_type": "markdown",
   "id": "6810b5fe-5256-4e74-8898-79fbd034a8a9",
   "metadata": {},
   "source": [
    "## A peek into the available data options \n",
    "We are working on building a more user-friendly catalog to detail all of the data options in a more user-friendly manner, but for now, here's a simple table that shows all the current available options for renewables data. "
   ]
  },
  {
   "cell_type": "code",
   "execution_count": null,
   "id": "32bbb595-4d76-4d73-92a5-d88ad7c02dcf",
   "metadata": {},
   "outputs": [],
   "source": [
    "import pandas as pd "
   ]
  },
  {
   "cell_type": "code",
   "execution_count": null,
   "id": "8cb76fe0-ac61-4e03-8f2b-17669536f7e6",
   "metadata": {},
   "outputs": [],
   "source": [
    "def build_ren_catalog(): \n",
    "    \"\"\"Build a simple pandas DataFrame showing current available data options \n",
    "    Temporary method-- will be replaced by an intake ESM catalog in the future \n",
    "    \"\"\"\n",
    "    def _ren_cat_by_technology(technology, reanalysis, variable, frequency=\"1hr\"): \n",
    "        rows = 1 if reanalysis else 16\n",
    "        return pd.DataFrame({\n",
    "            \"variable\": [variable]*rows,\n",
    "            \"technology\": [technology]*rows,\n",
    "            \"simulation\": [\"ec-earth3\",\"miroc6\",\"mpi-esm1-2-hr\",\"taiesm1\"]*4 if reanalysis is False else [\"era5\"]*rows,\n",
    "            \"scenario\": [\"historical\"]*4 + [\"ssp370\"]*4 + [\"historical\"]*4 + [\"ssp370\"]*4 if reanalysis is False else [\"reanalysis\"]*rows,\n",
    "            \"frequency\": [frequency]*rows,\n",
    "            \"resolution\" : [\"3 km\"]*rows,\n",
    "        })\n",
    "\n",
    "    # Use a list comprehension to generate all combinations\n",
    "    ren_cat = pd.concat(\n",
    "        [_ren_cat_by_technology(technology, False, \"cf\", \"1hr\") for technology in [\"pv_distributed\",\"pv_utility\",\"windpower_offshore\",\"windpower_onshore\"]] + \n",
    "        [_ren_cat_by_technology(technology, False, \"gen\", \"1hr\") for technology in [\"pv_distributed\",\"pv_utility\",\"windpower_offshore\",\"windpower_onshore\"]] + \n",
    "        [_ren_cat_by_technology(technology, False, \"cf\", \"day\") for technology in [\"pv_distributed\",\"pv_utility\",\"windpower_offshore\",\"windpower_onshore\"]] + \n",
    "        [_ren_cat_by_technology(technology, False, \"gen\", \"day\") for technology in [\"pv_distributed\",\"pv_utility\",\"windpower_offshore\",\"windpower_onshore\"]] +\n",
    "        [_ren_cat_by_technology(technology, True, \"cf\", \"1hr\") for technology in [\"pv_distributed\",\"pv_utility\",\"windpower_offshore\",\"windpower_onshore\"]] + \n",
    "        [_ren_cat_by_technology(technology, True, \"gen\", \"1hr\") for technology in [\"pv_distributed\",\"pv_utility\",\"windpower_offshore\",\"windpower_onshore\"]] \n",
    "    \n",
    "    ).reset_index(drop=True)\n",
    "    return ren_cat"
   ]
  },
  {
   "cell_type": "code",
   "execution_count": null,
   "id": "932667ae-1138-4827-b086-43a985230880",
   "metadata": {},
   "outputs": [],
   "source": [
    "# Generate and display the catalog \n",
    "ren_cat = build_ren_catalog()\n",
    "ren_cat"
   ]
  },
  {
   "cell_type": "markdown",
   "id": "7c05b589-39fe-428e-9d0e-c6d3bd9d625a",
   "metadata": {},
   "source": [
    "You can easily filter this table to see available options for a particular variable, technology, simulation, or scenario of interest. For example, let's look at all the available data options for total generated power (`\"gen\"`) derived from ERA5, a reanalysis product. "
   ]
  },
  {
   "cell_type": "code",
   "execution_count": null,
   "id": "11f56a16-0061-48c5-addb-cdb52161edbb",
   "metadata": {},
   "outputs": [],
   "source": [
    "ren_cat[(ren_cat[\"simulation\"] == \"era5\") & (ren_cat[\"variable\"] == \"gen\")]"
   ]
  },
  {
   "cell_type": "markdown",
   "id": "f433dd33-dd3b-48af-a274-a194f6dbab15",
   "metadata": {},
   "source": [
    "Now, let's read in that first row of data "
   ]
  },
  {
   "cell_type": "code",
   "execution_count": null,
   "id": "0974703d-2916-4bf4-b35e-be8ebd50bb23",
   "metadata": {},
   "outputs": [],
   "source": [
    "# Data settings\n",
    "simulation = \"era5\" \n",
    "technology = \"pv_distributed\"\n",
    "variable = \"gen\" \n",
    "scenario = \"reanalysis\" \n",
    "\n",
    "# Read zarr using xarray \n",
    "path_to_zarr = f\"s3://wfclimres/era/{technology}/{simulation}/{scenario}/1hr/{variable}/d03/\"\n",
    "era5 = xr.open_zarr(path_to_zarr, storage_options={\"anon\": True})\n",
    "\n",
    "# Display xarray object in notebook\n",
    "era5"
   ]
  },
  {
   "cell_type": "markdown",
   "id": "1a94d7c2-2aa9-4135-9a8c-84c9d2216d6a",
   "metadata": {},
   "source": [
    "## Get the closest gridcell for a coordinate pair \n",
    "For this, we'll use a helper function from `climakitae`. We'll demonstrate how to do this for the the coordinates of the city of San Francisco. "
   ]
  },
  {
   "cell_type": "code",
   "execution_count": null,
   "id": "c0a8d0dd-5182-434a-a94a-bda71ffd1ab2",
   "metadata": {},
   "outputs": [],
   "source": [
    "from climakitae.util.utils import get_closest_gridcell\n",
    "import numpy as np"
   ]
  },
  {
   "cell_type": "markdown",
   "id": "50280b51-fcbb-4ce9-9971-315308b98162",
   "metadata": {},
   "source": [
    "First, let's read in some total generated power (`\"gen\"`) data for distributed solar photovoltaic (`\"pv_distributed\"`) in the past (`\"historical\"`) from the EC-Earth3 model simulation (`\"ec-earth3\"`)"
   ]
  },
  {
   "cell_type": "code",
   "execution_count": null,
   "id": "6ea559cb-e354-41db-a0a4-bcf5f38135f1",
   "metadata": {},
   "outputs": [],
   "source": [
    "# Data settings\n",
    "simulation = \"ec-earth3\" \n",
    "technology = \"pv_distributed\"\n",
    "variable = \"gen\" \n",
    "scenario = \"historical\" \n",
    "\n",
    "# Read zarr using xarray \n",
    "path_to_zarr = f\"s3://wfclimres/era/{technology}/{simulation}/{scenario}/1hr/{variable}/d03/\"\n",
    "ds = xr.open_zarr(path_to_zarr, storage_options={\"anon\": True})"
   ]
  },
  {
   "cell_type": "markdown",
   "id": "acd30e30-5ab4-4e9f-87f5-bfa7f68bf6b2",
   "metadata": {},
   "source": [
    "Next, let's use `climakitae`'s utility function `get_closest_gridcell` to grab the model gridcell that is closest to the coordinates for the city of San Francisco. <br><br>**NOTE**: The renewables data has missing values where data was not generated for a variety of reasons, so this function may return `nan` if your coordinates closest gridcell is over one of these missing value regions. Missing data regions will vary by technology type. "
   ]
  },
  {
   "cell_type": "code",
   "execution_count": null,
   "id": "36e73f81-3fba-489b-ac19-727bf0e2af37",
   "metadata": {},
   "outputs": [],
   "source": [
    "# Coordinates of San Francisco \n",
    "lat = 37.7749\n",
    "lon = -122.4194\n",
    "\n",
    "# Reassign attribute so the function can find the resolution \n",
    "ds.attrs[\"resolution\"] = ds.attrs[\"nominal_resolution\"]\n",
    "\n",
    "# Use the function to get the closest gridcell of data \n",
    "closest_gridcell = get_closest_gridcell(data=ds, lat=lat, lon=lon)"
   ]
  },
  {
   "cell_type": "markdown",
   "id": "08dfd75e-e923-48f2-bbda-a167fb83f0a1",
   "metadata": {},
   "source": [
    "Finally, let's make a quick plot of the data for the first year of the timeseries. "
   ]
  },
  {
   "cell_type": "code",
   "execution_count": null,
   "id": "a88fc291-61ce-4b69-b3b7-2ef6cae8615a",
   "metadata": {},
   "outputs": [],
   "source": [
    "# Get the first 365 days of data and read into memory \n",
    "to_plot = closest_gridcell.isel(time=np.arange(0,365)).compute()\n",
    "\n",
    "# Generate a simple lineplot \n",
    "to_plot.gen.plot();"
   ]
  }
 ],
 "metadata": {
  "kernelspec": {
   "display_name": "Python 3 (ipykernel)",
   "language": "python",
   "name": "python3"
  },
  "language_info": {
   "codemirror_mode": {
    "name": "ipython",
    "version": 3
   },
   "file_extension": ".py",
   "mimetype": "text/x-python",
   "name": "python",
   "nbconvert_exporter": "python",
   "pygments_lexer": "ipython3",
   "version": "3.12.7"
  }
 },
 "nbformat": 4,
 "nbformat_minor": 5
}
