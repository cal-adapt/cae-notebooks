{
 "cells": [
  {
   "cell_type": "markdown",
   "id": "17a5d892-8f8a-44c6-a2e6-888a6b368d29",
   "metadata": {},
   "source": [
    "# Accessing renewables data \n",
    "Data access for our derived renewables data is still a work in progress as we build a data catalog and continue generating data products. Eventually, helper functions will be incorporated into `climakitae` to streamline data access. For the time being, here's the best way to access this data using Python.<br><br>For more details on data availability and production, check our memo here: [https://wfclimres.s3.amazonaws.com/era/data-guide_pv-wind.pdf](https://wfclimres.s3.amazonaws.com/era/data-guide_pv-wind.pdf)"
   ]
  },
  {
   "cell_type": "markdown",
   "id": "59748e75-2691-41b4-afc0-a68e64013b57",
   "metadata": {},
   "source": [
    "## The basics\n",
    "Retrieve renewables data from the AWS S3 bucket and download it to your current directory as a NetCDF file. "
   ]
  },
  {
   "cell_type": "code",
   "execution_count": null,
   "id": "8d808533-69dc-4149-a5a2-ffb2ae32d67e",
   "metadata": {},
   "outputs": [],
   "source": [
    "import intake "
   ]
  },
  {
   "cell_type": "markdown",
   "id": "02ef8cf6-5dad-48a9-bca4-1272bcdf5f35",
   "metadata": {},
   "source": [
    "First, read in the catalog file from S3 using the `intake` package. This enables you to view and load the data easily. "
   ]
  },
  {
   "cell_type": "code",
   "execution_count": null,
   "id": "357d0690-ac2c-4090-879e-f65941a21d0f",
   "metadata": {},
   "outputs": [],
   "source": [
    "# Read from AWS using S3 URI for JSON file \n",
    "cat = intake.open_esm_datastore(\"https://wfclimres.s3.amazonaws.com/era/era-ren-collection.json\")"
   ]
  },
  {
   "cell_type": "markdown",
   "id": "c9a6c998-cc0c-4b54-8e2d-8ca9a6474fbd",
   "metadata": {},
   "source": [
    "You can easily view the entire renewables data catalog using the `.df` accessor:  "
   ]
  },
  {
   "cell_type": "code",
   "execution_count": null,
   "id": "cc0bfea6-7aa8-44ec-8310-555800df26c2",
   "metadata": {},
   "outputs": [],
   "source": [
    "# Access catalog as dataframe and inspect the first few rows\n",
    "cat_df = cat.df\n",
    "cat_df.head()"
   ]
  },
  {
   "cell_type": "markdown",
   "id": "873dfa16-e76e-4e04-bb6f-508b8e3e1856",
   "metadata": {},
   "source": [
    "To see all the available options for each column, use the `.unique()` call for the column of interest: "
   ]
  },
  {
   "cell_type": "code",
   "execution_count": null,
   "id": "50f6e769-5b15-4cee-800d-54beb86fddbb",
   "metadata": {},
   "outputs": [],
   "source": [
    "# See all model options \n",
    "# Replace \"source_id\" with a different column name to see other unique column options\n",
    "cat_df[\"source_id\"].unique()"
   ]
  },
  {
   "cell_type": "markdown",
   "id": "2115014c-108e-4b20-921d-b01388ce78ad",
   "metadata": {},
   "source": [
    "You can subset the catalog and read in the Zarrs as `xarray.Dataset` objects using the method shown below. To change the data downloaded, simply modify the inputs in the dictionary `query`. "
   ]
  },
  {
   "cell_type": "code",
   "execution_count": null,
   "id": "1116302b-0d93-4c97-a0b4-50e3abe8ced8",
   "metadata": {},
   "outputs": [],
   "source": [
    "# Form query dictionary\n",
    "query = {\n",
    "    # GCM name\n",
    "    'source_id': 'EC-Earth3',\n",
    "    # time period - historical or emissions scenario\n",
    "    'experiment_id': ['historical', 'ssp370'],\n",
    "    # variable: 'cf' or 'gen' \n",
    "    'variable_id': 'cf',\n",
    "    # time resolution \n",
    "    'table_id': 'day',\n",
    "    # grid resolution: d02 = 9km, d03 = 3km\n",
    "    'grid_label': 'd03',\n",
    "    # installation type: 'pv_distributed', 'pv_utility', 'windpower_offshore', 'windpower_onshore'\n",
    "    'installation': ['pv_distributed','pv_utility']\n",
    "}\n",
    "\n",
    "# Subset catalog \n",
    "cat_subset = cat.search(**query)\n",
    "\n",
    "# View the data you've selected before downloading\n",
    "cat_subset.df"
   ]
  },
  {
   "cell_type": "markdown",
   "id": "d9457062-cc58-4550-8db9-b84471fb2faa",
   "metadata": {},
   "source": [
    "Then, you can download all the files. The files will be downloaded as a dictionary with the following format: \n",
    "```\n",
    "{ <string ID of data> : <xarray.Dataset for that ID> }\n",
    "```\n",
    "For example, for the data below: \n",
    "```python\n",
    "{\n",
    "    'pv_distributed.WRF.ERA.EC-Earth3.ssp370.day.d03'      : <xarray.Dataset> ,\n",
    "    'pv_utility.WRF.ERA.EC-Earth3.historical.day.d03'      : <xarray.Dataset> ,\n",
    "    'pv_utility.WRF.ERA.EC-Earth3.ssp370.day.d03'          : <xarray.Dataset> ,\n",
    "    'pv_distributed.WRF.ERA.EC-Earth3.historical.day.d03'  : <xarray.Dataset> ,\n",
    "}\n",
    "```"
   ]
  },
  {
   "cell_type": "code",
   "execution_count": null,
   "id": "7e5b4579-50cb-4bd1-8b16-eef3bf989514",
   "metadata": {},
   "outputs": [],
   "source": [
    "# Get dataset dictionary \n",
    "dsets = cat_subset.to_dataset_dict(\n",
    "    xarray_open_kwargs={'consolidated': True},\n",
    "    storage_options={'anon': True}\n",
    ")"
   ]
  },
  {
   "cell_type": "markdown",
   "id": "5409e5d1-9b5f-4c0b-86d9-d75c7f1515d8",
   "metadata": {},
   "source": [
    "To see all the string IDs for the Datasets in the dictionary, you can print them with the following code: "
   ]
  },
  {
   "cell_type": "code",
   "execution_count": null,
   "id": "c9266606-3fed-498a-b1b6-ba964c9e79f0",
   "metadata": {},
   "outputs": [],
   "source": [
    "list(dsets.keys())"
   ]
  },
  {
   "cell_type": "markdown",
   "id": "49a023be-ba4f-48a4-9f41-e4b944cf1f2a",
   "metadata": {},
   "source": [
    "You can easily access the files in the dictionary using the following format: \n",
    "```\n",
    "dsets[<string ID of data>]\n",
    "```\n",
    "For example:"
   ]
  },
  {
   "cell_type": "code",
   "execution_count": null,
   "id": "60686cb7-f9ac-4342-980c-0064a584ee4e",
   "metadata": {},
   "outputs": [],
   "source": [
    "# Retrieve a single file\n",
    "ds = dsets[\"pv_distributed.WRF.ERA.EC-Earth3.ssp370.day.d03\"]\n",
    "ds"
   ]
  },
  {
   "cell_type": "markdown",
   "id": "33accaeb-c581-4b40-83e3-78a5c893474c",
   "metadata": {},
   "source": [
    "## Make a quick plot of the data \n",
    "`xarray` has some nice mapping features that enable you to quickly generate a plot for a single timestep. This lets you get a sense for the data you read in. "
   ]
  },
  {
   "cell_type": "code",
   "execution_count": null,
   "id": "e88fad65-85e3-410b-8763-d482a9386291",
   "metadata": {},
   "outputs": [],
   "source": [
    "one_timestep = ds['cf'].isel(time=0).compute() # Select the first timestep and read it into memory \n",
    "one_timestep.plot();"
   ]
  },
  {
   "cell_type": "markdown",
   "id": "d506194e-a453-4f05-8820-ccf9453fba3e",
   "metadata": {},
   "source": [
    "## Get the closest gridcell for a coordinate pair \n",
    "For this, we'll use a helper function from `climakitae`. We'll demonstrate how to do this for the the coordinates of the city of San Francisco. "
   ]
  },
  {
   "cell_type": "code",
   "execution_count": null,
   "id": "ffd05115-75e6-4805-bce5-cd3cb71544ad",
   "metadata": {},
   "outputs": [],
   "source": [
    "from climakitae.util.utils import get_closest_gridcell\n",
    "import numpy as np"
   ]
  },
  {
   "cell_type": "markdown",
   "id": "6ea063d9-dc5f-43bb-b1c3-5cd5325862d5",
   "metadata": {},
   "source": [
    "First, we need to retrieve the data using `intake`: "
   ]
  },
  {
   "cell_type": "code",
   "execution_count": null,
   "id": "1128ec39-4ca2-4024-973f-814cd3568a43",
   "metadata": {},
   "outputs": [],
   "source": [
    "# Form query dictionary\n",
    "query = {\n",
    "    'source_id': 'MPI-ESM1-2-HR',\n",
    "    'experiment_id': 'historical',\n",
    "    'variable_id': 'gen',\n",
    "    'table_id': 'day',\n",
    "    'grid_label': 'd03',\n",
    "    'installation': 'pv_distributed'\n",
    "}\n",
    "\n",
    "# Subset catalog \n",
    "cat_subset = cat.search(**query)\n",
    "\n",
    "# Get dataset dictionary \n",
    "dsets = cat_subset.to_dataset_dict(\n",
    "    xarray_open_kwargs={'consolidated': True},\n",
    "    storage_options={'anon': True}\n",
    ")\n",
    "\n",
    "# Retrieve the data object \n",
    "ds = dsets['pv_distributed.WRF.ERA.MPI-ESM1-2-HR.historical.day.d03']"
   ]
  },
  {
   "cell_type": "markdown",
   "id": "39a04b28-7407-4670-93ed-858880348b5d",
   "metadata": {},
   "source": [
    "Next, let's use `climakitae`'s utility function `get_closest_gridcell` to grab the model gridcell that is closest to the coordinates for the city of San Francisco. <br><br>**NOTE**: The renewables data has missing values where data was not generated for a variety of reasons, so this function may return `nan` if your coordinates closest gridcell is over one of these missing value regions. Missing data regions will vary by technology type. "
   ]
  },
  {
   "cell_type": "code",
   "execution_count": null,
   "id": "a78e4579-c9f1-4844-a7d8-4a4f9019a154",
   "metadata": {},
   "outputs": [],
   "source": [
    "# Coordinates of San Francisco \n",
    "lat = 37.7749\n",
    "lon = -122.4194\n",
    "\n",
    "# Reassign attribute so the function can find the resolution \n",
    "ds.attrs[\"resolution\"] = ds.attrs[\"nominal_resolution\"]\n",
    "\n",
    "# Use the function to get the closest gridcell of data \n",
    "closest_gridcell = get_closest_gridcell(data=ds, lat=lat, lon=lon)"
   ]
  },
  {
   "cell_type": "markdown",
   "id": "db426871-2090-4ba5-9ee3-91deb27af7bd",
   "metadata": {},
   "source": [
    "Finally, let's make a quick plot of the data for the first year of the timeseries. "
   ]
  },
  {
   "cell_type": "code",
   "execution_count": null,
   "id": "702e4463-ef3f-4e03-8efd-1fdbf1e679a0",
   "metadata": {},
   "outputs": [],
   "source": [
    "# Get the first 365 days of data and read into memory \n",
    "to_plot = closest_gridcell.isel(time=np.arange(0,365)).compute()\n",
    "\n",
    "# Generate a simple lineplot \n",
    "to_plot.gen.plot();"
   ]
  }
 ],
 "metadata": {
  "kernelspec": {
   "display_name": "Python 3 (ipykernel)",
   "language": "python",
   "name": "python3"
  },
  "language_info": {
   "codemirror_mode": {
    "name": "ipython",
    "version": 3
   },
   "file_extension": ".py",
   "mimetype": "text/x-python",
   "name": "python",
   "nbconvert_exporter": "python",
   "pygments_lexer": "ipython3",
   "version": "3.12.8"
  }
 },
 "nbformat": 4,
 "nbformat_minor": 5
}
