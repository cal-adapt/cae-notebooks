{
 "cells": [
  {
   "cell_type": "markdown",
   "id": "9f08fc37-bdd8-4c20-8af8-13b0058ae288",
   "metadata": {},
   "source": [
    "# Using the Analytics Engine (AE) to access station data\n",
    "This notebook illustrates how to access the historical meteorological station data at stations of interest throughout WECC.\n",
    "\n",
    "To execute a given 'cell' of this notebook, place the cursor in the cell and press the 'play' icon, or simply press shift+enter together. Some cells will take longer to run, and you will see a [$\\ast$] to the left of the cell while AE is still working.\n",
    "\n",
    "**Intended Application**: As a user, I want to **<span style=\"color:#FF0000\">access the historical meteorological station data</span>** that is used to localize the dynamically downscaled WRF data in demand forecast modeling through:\n",
    "1. Accessing and visualizing historical data at a station of interest\n",
    "2. Exporting the historical data at a station of interest in a reader-friendly format\n",
    "\n",
    "**Runtime**: With the default settings, this notebook takes approximately **less than 1 minute** to run from start to finish. Modifications to selections may increase the runtime. \n",
    "\n",
    "### Step 0: Set-up"
   ]
  },
  {
   "cell_type": "code",
   "execution_count": null,
   "id": "085a824d-7228-463e-8e17-14e733e0f8dc",
   "metadata": {
    "tags": []
   },
   "outputs": [],
   "source": [
    "import climakitae as ck\n",
    "import climakitaegui as ckg\n",
    "import pandas as pd\n",
    "import xarray as xr\n",
    "import panel as pn\n",
    "pn.extension()\n",
    "\n",
    "from climakitae.util.utils import read_csv_file"
   ]
  },
  {
   "cell_type": "markdown",
   "id": "c73a68e3-d76e-4b0a-bfd8-c1da07307f28",
   "metadata": {},
   "source": [
    "### Step 1: Select a station of interest\n",
    "\n",
    "First, we'll read in a station file of all the HadISD stations currently hooked up to the Analytics Engine. "
   ]
  },
  {
   "cell_type": "code",
   "execution_count": null,
   "id": "f86683dd-b2af-497c-89c8-39a22858b69a",
   "metadata": {
    "tags": []
   },
   "outputs": [],
   "source": [
    "# Import stations names and coordinates file\n",
    "stations = \"data/hadisd_stations.csv\"\n",
    "stations_df = read_csv_file(stations)\n",
    "stations_df"
   ]
  },
  {
   "cell_type": "markdown",
   "id": "bd77b41b-81bb-4ebb-a08c-a18bde1d605e",
   "metadata": {},
   "source": [
    "The easiest way to access a station is to use the `ID` of the station. We'll demonstrate with \"KSAC\" for Sacramento Executive Airport. If you are looking to export multiple stations, the following cell is the only one you need to modify in this notebook. "
   ]
  },
  {
   "cell_type": "code",
   "execution_count": null,
   "id": "5f27fbb4-e623-4952-858c-31c24887a482",
   "metadata": {
    "tags": []
   },
   "outputs": [],
   "source": [
    "my_station = 'KSAC' # set to any station of interest"
   ]
  },
  {
   "cell_type": "code",
   "execution_count": null,
   "id": "332aa4c9-a82a-4402-94d0-0fd5d000a976",
   "metadata": {
    "tags": []
   },
   "outputs": [],
   "source": [
    "station_id = str(stations_df[stations_df['ID'] == my_station]['station id'].values[0])\n",
    "filepaths = [\"s3://cadcat/hadisd/HadISD_{}.zarr\".format(s_id) for s_id in [station_id]]\n",
    "filepaths # check the filepath"
   ]
  },
  {
   "cell_type": "markdown",
   "id": "a87bef4e-4dec-4bc4-b719-84c57d36e330",
   "metadata": {},
   "source": [
    "### Step 2: Retrieve the station data from the s3 bucket\n",
    "Here we'll use a handy function to access the data. You don't have to change anything -- this step is set-up with the filepath we identified above."
   ]
  },
  {
   "cell_type": "code",
   "execution_count": null,
   "id": "85b8f598-d96e-49cb-8f13-e7aaa26d1424",
   "metadata": {
    "tags": []
   },
   "outputs": [],
   "source": [
    "obs_ds = xr.open_mfdataset(\n",
    "    filepaths,\n",
    "    engine=\"zarr\",\n",
    "    consolidated=False,\n",
    "    parallel=True,\n",
    "    backend_kwargs=dict(storage_options={\"anon\": True}),\n",
    ")\n",
    "\n",
    "obs_ds"
   ]
  },
  {
   "cell_type": "markdown",
   "id": "8d1f4d34-4392-4887-bcea-76cdf3a6698e",
   "metadata": {},
   "source": [
    "Next, we'll load the data into memory, which will help with both visualizing the data and exporting it in Step 3. "
   ]
  },
  {
   "cell_type": "code",
   "execution_count": null,
   "id": "f0a6f42f-9ba6-4f7d-8feb-3e68d636c7b0",
   "metadata": {
    "tags": []
   },
   "outputs": [],
   "source": [
    "obs_ds = ck.load(obs_ds)"
   ]
  },
  {
   "cell_type": "code",
   "execution_count": null,
   "id": "dcc96fe5-2527-4c88-a723-6e97b4bffb9f",
   "metadata": {
    "tags": []
   },
   "outputs": [],
   "source": [
    "ckg.view(obs_ds)"
   ]
  },
  {
   "cell_type": "markdown",
   "id": "032c7cb5-3a61-45a0-8d49-05a954edb8e7",
   "metadata": {},
   "source": [
    "### Step 3: Export the station into csv format for ease of use\n",
    "To export into a reader-friendly format, we'll run the next cell. You don't need to modify anything here - it's set-up to automatically identify the station we have been using (KSAC, as the default). "
   ]
  },
  {
   "cell_type": "code",
   "execution_count": null,
   "id": "361675a6-271d-45d8-99bd-e2734bf4c9e0",
   "metadata": {},
   "outputs": [],
   "source": [
    "filename = 'HadISD_{}'.format(station_id)\n",
    "ck.export(obs_ds, filename, \"csv\")"
   ]
  },
  {
   "cell_type": "markdown",
   "id": "e9efaf17-fde0-4a95-b242-d5a2598ddeed",
   "metadata": {},
   "source": [
    "### Step 4: Optional \"fast access\" mode\n",
    "We provide this step where all of the above cells are condensed into a single run for faster access. We've set `my_station` to a different station this time, to demonstrate. "
   ]
  },
  {
   "cell_type": "code",
   "execution_count": null,
   "id": "ba1bcc7c-d356-4e83-af4b-9818284d7918",
   "metadata": {
    "tags": []
   },
   "outputs": [],
   "source": [
    "# read in station data\n",
    "stations = \"data/hadisd_stations.csv\"\n",
    "stations_df = read_csv_file(stations)\n",
    "\n",
    "# identify station to export\n",
    "my_station = 'KACV' # set to any station of interst\n",
    "\n",
    "# retrieves data\n",
    "station_id = str(stations_df[stations_df['ID'] == my_station]['station id'].values[0])\n",
    "filepaths = [\"s3://cadcat/hadisd/HadISD_{}.zarr\".format(s_id) for s_id in [station_id]]\n",
    "obs_ds = xr.open_mfdataset(\n",
    "    filepaths,\n",
    "    engine=\"zarr\",\n",
    "    consolidated=False,\n",
    "    parallel=True,\n",
    "    backend_kwargs=dict(storage_options={\"anon\": True}),\n",
    ")\n",
    "\n",
    "# load data in for export\n",
    "obs_ds = ck.load(obs_ds)\n",
    "\n",
    "# export\n",
    "filename = 'HadISD_{}'.format(station_id)\n",
    "ck.export(obs_ds, filename, \"csv\")"
   ]
  }
 ],
 "metadata": {
  "kernelspec": {
   "display_name": "Python 3 (ipykernel)",
   "language": "python",
   "name": "python3"
  },
  "language_info": {
   "codemirror_mode": {
    "name": "ipython",
    "version": 3
   },
   "file_extension": ".py",
   "mimetype": "text/x-python",
   "name": "python",
   "nbconvert_exporter": "python",
   "pygments_lexer": "ipython3",
   "version": "3.9.13"
  }
 },
 "nbformat": 4,
 "nbformat_minor": 5
}
