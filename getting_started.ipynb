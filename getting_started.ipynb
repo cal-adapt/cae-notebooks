{
 "cells": [
  {
   "cell_type": "markdown",
   "id": "0892c866-e625-4ed9-a7a3-7437b0c71372",
   "metadata": {},
   "source": [
    "# Getting started with the Analytics Engine (AE)\n",
    "This notebook covers:\n",
    "1. selecting data to work with\n",
    "2. retrieving a dataset from the catalog\n",
    "3. a simple plot to preview the data\n",
    "4. how to export that data\n",
    "\n",
    "To execute a given 'cell' of this notebook, place the cursor in the cell and press the 'play' icon, or simply press shift+enter together. Some cells will take longer to run, and you will see a [$\\ast$] to the left of the cell while AE is still working.\n",
    "\n",
    "## Step 0: Setup\n",
    "This cell imports the python library [climakitae](https://github.com/cal-adapt/climakitae), our AE toolkit for climate data analysis, and any other specialized libraries needed for a given notebook."
   ]
  },
  {
   "cell_type": "code",
   "execution_count": null,
   "id": "8703a0d0-82dc-41d1-8482-e0c7e824f5f9",
   "metadata": {},
   "outputs": [],
   "source": [
    "import panel as pn\n",
    "pn.extension()\n",
    "\n",
    "import climakitae as ck"
   ]
  },
  {
   "cell_type": "markdown",
   "id": "49d7b471-cf37-4f74-8d50-b29fd6f5bbc1",
   "metadata": {},
   "source": [
    "To use climakitae, load a new application:"
   ]
  },
  {
   "cell_type": "code",
   "execution_count": null,
   "id": "8afd4668-4e0e-4386-9b91-39feb323d866",
   "metadata": {},
   "outputs": [],
   "source": [
    "app = ck.Application()"
   ]
  },
  {
   "cell_type": "markdown",
   "id": "53dc6528-c111-480b-b014-dbffb11549c7",
   "metadata": {
    "tags": []
   },
   "source": [
    "## Step 1: Select data\n",
    "Now we can call 'select' to display an interface from which to select the data to examine. Execute the cell, and read on for more explanation.\n",
    "\n",
    "Currently, you can select from [dynamically-downscaled](https://dept.atmos.ucla.edu/alexhall/downscaling-cmip6) data produced at hourly intervals. If you select 'daily' or 'monthly' for 'Timescale', you will receive an average of the hourly data. The spatial resolution options, on the other hand, are each the output of a different simulation, nesting to higher resolution over smaller areas.\n",
    "\n",
    "Future projections are available for a [greenhouse gas emission scenario (Shared Socioeconomic Pathway, or SSP)](https://climatescenarios.org/primer/socioeconomic-development) through 2100 for SSP 3-7.0 for 4 General Circulation Models (GCMs).\n",
    "\n",
    "At 45 and 9km, more GCMs are to come, and one GCM was also downscaled for a higher and lower SSP. (Later, statistical downscaling will also be available at 3km for more GCMs.)\n",
    "\n",
    "“Historical Climate” includes data from 1980-2014 simulated from the same GCMs used to produce the SSPs. They can be appended to a SSP time series using the option “Append historical.” Because this historical data is obtained through simulations, it represents average weather during the historical period and is not meant to capture historical timeseries as they occurred. \n",
    "\n",
    "“Historical Reconstruction” provides a reference downscaled [reanalysis](https://www.ecmwf.int/en/about/media-centre/focus/2020/fact-sheet-reanalysis) dataset based on atmospheric models fit to satellite and station observations, and as a result will reflect observed historical time-evolution of the weather.\n",
    "\n",
    "To learn more about the data available on the Analytics Engine, [see our data catalog](https://analytics.cal-adapt.org/data/). "
   ]
  },
  {
   "cell_type": "code",
   "execution_count": null,
   "id": "1fff8052-489f-4182-8dee-c165fd1b53a6",
   "metadata": {
    "tags": []
   },
   "outputs": [],
   "source": [
    "app.select()"
   ]
  },
  {
   "cell_type": "markdown",
   "id": "aa0850bb-5ae1-47da-b228-ba6651438d4e",
   "metadata": {},
   "source": [
    "Nothing is required to enter these selections, besides moving on to Step 2.\n",
    "\n",
    "However, if you want to preview what has been selected, you can type \"app.selections\" alone in a new cell, and \"app.location\". These store your selections behind-the-scenes.\n",
    "\n",
    "($+$ will create a new cell, following the currently selected) \n",
    "\n",
    "## Step 2: Retrieve data\n",
    "Call app.retrieve(), to assign the subset/combo of data specified to a variable name of your choosing, in an xarray [DataArray](https://docs.xarray.dev/en/stable/generated/xarray.DataArray.html) format."
   ]
  },
  {
   "cell_type": "code",
   "execution_count": null,
   "id": "5c0a0be4-c09f-4e56-8edc-d47eacfa539c",
   "metadata": {
    "scrolled": true,
    "tags": []
   },
   "outputs": [],
   "source": [
    "data_to_use = app.retrieve()"
   ]
  },
  {
   "cell_type": "markdown",
   "id": "6021719d-ddc9-43bb-a4ee-ce5de5c1299c",
   "metadata": {},
   "source": [
    "You can preview the data in the retrieved, aggregated dataset when this is complete."
   ]
  },
  {
   "cell_type": "code",
   "execution_count": null,
   "id": "a83e3d37-6d65-45c9-b137-08a4c2e07218",
   "metadata": {},
   "outputs": [],
   "source": [
    "data_to_use"
   ]
  },
  {
   "cell_type": "markdown",
   "id": "843ab298-4e2f-4a82-b225-afe618d54c35",
   "metadata": {},
   "source": [
    "Next, load the data into memory. This step may take a few minutes to compute, because the data is only loaded \"lazily\" until you output it (in visualize or export). This allows teh previous steps to run faster."
   ]
  },
  {
   "cell_type": "code",
   "execution_count": null,
   "id": "d4d12dc6-ad79-4b7d-837f-7d8fbe7128b6",
   "metadata": {},
   "outputs": [],
   "source": [
    "data_to_use = data_to_use.compute()"
   ]
  },
  {
   "cell_type": "markdown",
   "id": "e1e0b7e0-6f30-4cf6-a1cd-9346c5b8df7d",
   "metadata": {
    "tags": []
   },
   "source": [
    "## Step 3: Visualize data\n",
    "Preview the data before doing further calculations. "
   ]
  },
  {
   "cell_type": "code",
   "execution_count": null,
   "id": "df5326c6-01fb-44f6-a20c-ad0fd316a2d4",
   "metadata": {},
   "outputs": [],
   "source": [
    "app.view(data_to_use)"
   ]
  },
  {
   "cell_type": "markdown",
   "id": "6c5dff22-886b-4502-b2e8-e7de9326d9ca",
   "metadata": {},
   "source": [
    "The data previewer is also customizable: Check out an example where the display colors and coordinates are modified."
   ]
  },
  {
   "cell_type": "code",
   "execution_count": null,
   "id": "01518678-0008-4313-8bfc-73ed547e89ff",
   "metadata": {},
   "outputs": [],
   "source": [
    "app.view(data_to_use, lat_lon = False, cmap = \"viridis\")"
   ]
  },
  {
   "cell_type": "markdown",
   "id": "4971a5c0-d9b5-45f0-9b5a-9ee6eab91a5b",
   "metadata": {},
   "source": [
    "More plotting helper-functions will be forthcoming.\n",
    "\n",
    "See other notebooks for example analyses, or add your own."
   ]
  },
  {
   "cell_type": "code",
   "execution_count": null,
   "id": "25295014-dd9d-4dab-9ca4-3af7f13b80e0",
   "metadata": {},
   "outputs": [],
   "source": [
    "# [insert your own code here]"
   ]
  },
  {
   "cell_type": "markdown",
   "id": "a38447d6-f0ae-46f2-aaf4-a322f250008e",
   "metadata": {},
   "source": [
    "You can load up another variable or resolution by modifying your selections and calling: next_data = app.retrieve()\n",
    "\n",
    "If you do this a lot, and things are starting to get slow, you might want to try: data_to_use.close()"
   ]
  },
  {
   "cell_type": "markdown",
   "id": "b9688a2a-e72b-4239-b8fb-56ae8080bdc5",
   "metadata": {},
   "source": [
    "## Step 4: Export data\n",
    "\n",
    "To export, first pick a format from the dropdown menu.\n",
    "- We recommend NetCDF, which will work with any number of variables and dimensions in your dataset\n",
    "- CSV and GeoTIFF can only be used for data arrays with one variable\n",
    "- CSV works best for up to 2-dimensional data (e.g., lon x lat), and will be compressed and exported with a separate metadata file\n",
    "- GeoTIFF can accept 3 dimensions total: \n",
    "    - X and Y dimensions are required\n",
    "    - The third dimension is flexible and will be a \"band\" in the file: time, simulation, or scenario could go here\n",
    "    - Metadata will be accessible as \"tags\" in the .tif"
   ]
  },
  {
   "cell_type": "code",
   "execution_count": null,
   "id": "eca5edd7-acee-427b-a4a5-e74fb425d7a0",
   "metadata": {},
   "outputs": [],
   "source": [
    "app.export_as()"
   ]
  },
  {
   "cell_type": "markdown",
   "id": "35321f78-0a2b-465a-9ebb-f5441c95ab53",
   "metadata": {},
   "source": [
    "Next, write in the object you wish to export and your desired filename (in single or double quotation marks)."
   ]
  },
  {
   "cell_type": "code",
   "execution_count": null,
   "id": "d0110114-e2ec-45a4-8357-f486ff4b225e",
   "metadata": {},
   "outputs": [],
   "source": [
    "app.export_dataset(data_to_use, 'my_filename')"
   ]
  }
 ],
 "metadata": {
  "kernelspec": {
   "display_name": "Python 3 (ipykernel)",
   "language": "python",
   "name": "python3"
  },
  "language_info": {
   "codemirror_mode": {
    "name": "ipython",
    "version": 3
   },
   "file_extension": ".py",
   "mimetype": "text/x-python",
   "name": "python",
   "nbconvert_exporter": "python",
   "pygments_lexer": "ipython3",
   "version": "3.9.12"
  }
 },
 "nbformat": 4,
 "nbformat_minor": 5
}
