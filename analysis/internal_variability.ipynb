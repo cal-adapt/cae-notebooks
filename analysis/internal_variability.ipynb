{
 "cells": [
  {
   "cell_type": "markdown",
   "id": "39c7ab89-d6db-4fa2-a4ec-08dfae9b20d9",
   "metadata": {
    "tags": []
   },
   "source": [
    "# Exploring Uncertainty in Extreme Climate Events "
   ]
  },
  {
   "cell_type": "markdown",
   "id": "b997dbc7-5213-4959-99c3-7c31eae37360",
   "metadata": {
    "tags": []
   },
   "source": [
    "There are several kinds of scientific uncertainty that arise when working with long-term projections of future climates:\n",
    "\n",
    "1. <b>Model Uncertainty</b>, or the differences between different models (namely, how model physics, settings, or parameters can change the outcome).\n",
    "2. <b>Internal Variability</b>, which represents the variations inherent within the climate system itself.\n",
    "3. <b>Scenario Uncertainty</b>, which arises from differences in outcomes between emissions trajectories.\n",
    "\n",
    "This notebook explores <b>Internal Variability</b> in the Cal-Adapt: Analytics Engine by focusing on projected changes in extreme precipitation. We show results across the suite of models currently available in the [Cal-Adapt Data Catalog](https://analytics.cal-adapt.org/data/) as well as the full set of CMIP6 models. We also provide a reasonable strategy for handling data with large internal variability.\n",
    "\n",
    "**Intended application**: While the assessment and handling of extreme events shown here applies to any extreme event for any variable, here we choose to explore <b>precipitation</b> because it in particular tends to have very high natural background variability which is represented by internal variability here. In this notebook, we examine <span style=\"color:red\"><b>projected changes in extreme precipitation accumulations</b></span>, in particular to meet needs associated with planning and preparedness for precipitation impacts.\n",
    "\n",
    "**Terms used throughout this notebook:**\n",
    "- **Ensemble**: A set of simulations run using a single model. For the purposes of this analysis, each <i>ensemble member</i> might differ in the following ways:\n",
    "    - What point in time of the control data set was used as input data for the ensemble member.\n",
    "    - What physics options are used.\n",
    "- Since the underlying model structure and emissions scenario remain constant across an ensemble, we call the differences between ensemble members **internal variability**.\n",
    "- **Downscaling**: Global climate models are often run with a coarse grid size (on the order of 1 x 1 degrees [100 x 100 km]) which is much larger than the scale of many weather events of interest (on the order of 1-10 km). To capture smaller scale processes, one ensemble member from each Cal-Adapt: Analytics Engine model was used to provide input data for the Weather Research and Forecasting (WRF) Model. The WRF output provides data at 45 km, 9 km, and 3 km spatial scale for the WECC region. The following table shows the original grid sizes for the downscaled models.\n",
    "\n",
    "| Model name    | Longitude spacing (deg) | Latitude spacing (deg) |\n",
    "|---------------|-------------------------|------------------------|\n",
    "| CESM2, TaiESM1 |                     1.3 |                    0.9 |\n",
    "| CNRM-ESM2-1, MIROC6 |                     1.4 |                    1.4 |\n",
    "| EC-EARTH3, EC-EARTH3-Veg |                     0.7 |                    0.7 |\n",
    "| FGOALS-g3 |                       2 |                    2.3 |\n",
    "| MPI-ESM1-2-HR | 0.9 | 0.9 |\n",
    "\n",
    "- **Data pooling**: In our case, this refers to placing all the model output into a single data \"bucket\" to increase our sample size before computing statistics. This notebook will show why this is an appropriate practice. \n",
    "\n",
    "<span style=\"color:red\">**Scientific note**</span>: Why do extreme events benefit from special handling? Extreme events are often poorly sampled (a 1-in-100 year event may only happen one time in a given ensemble run), leading to higher model uncertainty and internal variability for these events. \n",
    "\n",
    "**Runtime**: With the default settings, this notebook takes approximately **13 minutes** to run from start to finish. Modifications to selections may increase the runtime."
   ]
  },
  {
   "cell_type": "markdown",
   "id": "4d34eb90-84c8-4a9d-90ec-f507f3a5a323",
   "metadata": {
    "tags": []
   },
   "source": [
    "## Step 0: Setup"
   ]
  },
  {
   "cell_type": "markdown",
   "id": "681e2561-dd76-4a90-b52b-53486f406cfb",
   "metadata": {},
   "source": [
    "Import the climakitae library and other dependencies."
   ]
  },
  {
   "cell_type": "code",
   "execution_count": null,
   "id": "25f3706b-fb81-4ae5-b3fe-04f71ac4fc34",
   "metadata": {
    "tags": []
   },
   "outputs": [],
   "source": [
    "import climakitae as ck\n",
    "from climakitae.core.data_interface import DataParameters\n",
    "import panel as pn\n",
    "pn.extension()\n",
    "from climakitae.explore.uncertainty import (\n",
    "    CmipOpt, get_ensemble_data,\n",
    "    get_warm_level, grab_multimodel_data,\n",
    "    _area_wgt_average, get_ks_pval_df)\n",
    "from climakitae.util.colormap import read_ae_colormap\n",
    "\n",
    "import holoviews as hv\n",
    "from bokeh.models import HoverTool\n",
    "import xarray as xr\n",
    "import numpy as np\n",
    "import matplotlib.pyplot as plt\n",
    "import warnings\n",
    "warnings.filterwarnings(\"ignore\")\n",
    "%config InlineBackend.figure_format = 'svg' # Make plots look better in the notebook environment"
   ]
  },
  {
   "cell_type": "markdown",
   "id": "51b07eb6-eebd-4ccb-955c-3854f164bd2d",
   "metadata": {},
   "source": [
    "## Step 1: Introduction to uncertainty\n",
    "\n",
    "### 1a) Model uncertainty\n",
    "We begin by illustrating differences in results across the eight downscaled Cal-Adapt models. First, retrieve the Cal-Adapt model output over California for the historical and SSP3-7.0 scenarios. "
   ]
  },
  {
   "cell_type": "code",
   "execution_count": null,
   "id": "cca191af-ce6e-4f77-b1e6-c8fc189c9014",
   "metadata": {
    "tags": []
   },
   "outputs": [],
   "source": [
    "selections = DataParameters()\n",
    "selections.area_average = 'No'\n",
    "selections.area_subset = 'states'\n",
    "selections.cached_area = ['CA']\n",
    "selections.downscaling_method = 'Dynamical'\n",
    "selections.scenario_historical = ['Historical Climate']\n",
    "selections.scenario_ssp = ['SSP 3-7.0']\n",
    "selections.append_historical = True\n",
    "selections.variable = 'Precipitation (total)'\n",
    "selections.time_slice = (1981, 2100)\n",
    "selections.resolution = '9 km'\n",
    "selections.timescale = 'monthly'\n",
    "wrf_ds = selections.retrieve().squeeze()\n",
    "\n",
    "cmip_names = [\n",
    "    'EC-Earth3', 'EC-Earth3-Veg', 'CESM2', 'CNRM-ESM2-1',  'FGOALS-g3', \n",
    "    'MIROC6', 'TaiESM1', 'MPI-ESM1-2-HR'\n",
    "]  # Simulation names in CMIP6\n",
    "\n",
    "# WRF simulation names have additional information about activity ID and ensemble\n",
    "# Lookup dictionary used to rename simulation values\n",
    "wrf_cmip_lookup_dict = {\n",
    "    'WRF_EC-Earth3-Veg_r1i1p1f1': 'EC-Earth3-Veg',\n",
    "    'WRF_EC-Earth3_r1i1p1f1': 'EC-Earth3',\n",
    "    'WRF_CESM2_r11i1p1f1': 'CESM2',\n",
    "    'WRF_CNRM-ESM2-1_r1i1p1f2': 'CNRM-ESM2-1',\n",
    "    'WRF_FGOALS-g3_r1i1p1f1': 'FGOALS-g3',\n",
    "    'WRF_MIROC6_r1i1p1f1': 'MIROC6',\n",
    "    'WRF_TaiESM1_r1i1p1f1': 'TaiESM1',\n",
    "    'WRF_MPI-ESM1-2-HR_r3i1p1f1': 'MPI-ESM1-2-HR'\n",
    "}\n",
    "\n",
    "wrf_ds = wrf_ds.sortby(\"simulation\") # Sort simulations alphabetically   \n",
    "wrf_ds[\"simulation\"] = [wrf_cmip_lookup_dict[sim] for sim in wrf_ds.simulation.values] # Rename simulations \n",
    "wrf_ds = wrf_ds.clip(0.1) # Remove values less than 0.1"
   ]
  },
  {
   "cell_type": "markdown",
   "id": "fcbbf656-f49f-4a55-ba2c-1657548c38b7",
   "metadata": {},
   "source": [
    "Specify the warming threshold in deg C. You don't have to change anything, but feel free to specify any of the following: `1.5, 2.0, 3.0`."
   ]
  },
  {
   "cell_type": "code",
   "execution_count": null,
   "id": "eb4a30bf-e17b-4a94-822c-6703aa0dfec7",
   "metadata": {
    "tags": []
   },
   "outputs": [],
   "source": [
    "warm_level = 3.0"
   ]
  },
  {
   "cell_type": "markdown",
   "id": "d1dc72a3-a82b-4a79-8649-e3c48ff0173f",
   "metadata": {},
   "source": [
    "Process the data and compute the 99th percentile"
   ]
  },
  {
   "cell_type": "code",
   "execution_count": null,
   "id": "fde659c8-575f-4206-a182-9f989c0edd84",
   "metadata": {
    "tags": []
   },
   "outputs": [],
   "source": [
    "hist_wrf = wrf_ds.sel(\n",
    "    time=slice('1981','2010'))\n",
    "\n",
    "sim_idx = list(wrf_ds.simulation.values)\n",
    "ssp_wrf_list = [get_warm_level(\n",
    "            warm_level, wrf_ds.sel(\n",
    "            simulation=s).squeeze(), ipcc=False) \n",
    "            for s in sim_idx]\n",
    "\n",
    "ssp_wrf_list = list(filter(lambda item: item is not None, ssp_wrf_list))\n",
    "ssp_wrf = xr.concat(ssp_wrf_list,dim='simulation')\n",
    "\n",
    "hist_wrf = hist_wrf.sel(simulation = ssp_wrf.simulation.values)\n",
    "\n",
    "# # mean and 99th percentile all models\n",
    "cads_hist_percentile = hist_wrf.chunk(dict(\n",
    "    time=-1)).quantile([.99],\n",
    "    dim='time').compute().squeeze()\n",
    "\n",
    "cads_ssp_percentile = ssp_wrf.chunk(dict(\n",
    "    time=-1)).quantile([.99],\n",
    "    dim='time').compute().squeeze()\n",
    "\n",
    "cads_delta_percentile = (cads_ssp_percentile \n",
    "                         - cads_hist_percentile).compute()"
   ]
  },
  {
   "cell_type": "markdown",
   "id": "4456df58-595b-4616-9984-02ea51b158ea",
   "metadata": {},
   "source": [
    "Show the inter-model spread by plotting the following maps for each of the eight downscaled Cal-Adapt models that reaches the specified warming level:\n",
    "- Present-day (1981 - 2010) 99th percentile monthly precipitation accumulation\n",
    "- 99th percentile monthly precipitation accumulation under warming conditions (+/- 15 years from the year in which the warming threshold was reached; varies by model)\n",
    "- The change in 99th percentile monthly precipitation realized under those warming conditions "
   ]
  },
  {
   "cell_type": "code",
   "execution_count": null,
   "id": "c6a86c4b-199f-4e27-9467-b36097e02e11",
   "metadata": {
    "tags": []
   },
   "outputs": [],
   "source": [
    "## define a plotting function\n",
    "def make_precip_unc_map(\n",
    "    data,\n",
    "    title,\n",
    "    vmin,\n",
    "    vmax,\n",
    "    sopt=False,\n",
    "    width=250,\n",
    "    height=250,\n",
    "    xlim=(None, None),\n",
    "    ylim=(None, None),\n",
    "    xticks=[None],\n",
    "    yticks=[None],\n",
    "    xaxis=None,\n",
    "    yaxis=None,\n",
    "    absolute=True,\n",
    "):\n",
    "    \"\"\"Make single map\"\"\"\n",
    "    \n",
    "    if absolute:\n",
    "        val_str = \"Precipitation (mm/month)\"\n",
    "    else:\n",
    "        val_str = \"% change\"\n",
    "\n",
    "    hover = HoverTool(\n",
    "        description=\"Custom Tooltip\",\n",
    "        tooltips=[\n",
    "            (\"Longitude (deg E)\", \"@x\"),\n",
    "            (\"Latitude (deg N)\", \"@y\"),\n",
    "            (val_str, \"@z\"),\n",
    "        ],\n",
    "    )\n",
    "\n",
    "    if sopt:\n",
    "        cmap = read_ae_colormap(\n",
    "            cmap=\"ae_diverging_r\", cmap_hex=True\n",
    "        )  # sets to a diverging colormap\n",
    "    else:\n",
    "        cmap = read_ae_colormap(cmap=\"ae_blue\", cmap_hex=True)\n",
    "\n",
    "    _plot = hv.QuadMesh((data[\"lon\"], data[\"lat\"], data)).opts(\n",
    "        tools=[hover],\n",
    "        colorbar=True,\n",
    "        cmap=cmap,\n",
    "        symmetric=sopt,\n",
    "        clim=(vmin, vmax),\n",
    "        xaxis=None,\n",
    "        yaxis=None,\n",
    "        clabel=\"Precipitation (mm/month)\",\n",
    "        title=title,\n",
    "        width=width,\n",
    "        height=height,\n",
    "        xlim=xlim,\n",
    "        ylim=ylim,\n",
    "    )\n",
    "    return _plot"
   ]
  },
  {
   "cell_type": "code",
   "execution_count": null,
   "id": "c8e8171f-897a-4d12-9a7f-079f312408ef",
   "metadata": {
    "tags": []
   },
   "outputs": [],
   "source": [
    "vmin = 0\n",
    "vmax = 2000\n",
    "delta_vmin = None\n",
    "delta_vmax = None\n",
    "ncols = 3\n",
    "num_simulations = len(cads_delta_percentile.simulation.values)\n",
    "\n",
    "cads_hist_plots = make_precip_unc_map(\n",
    "        data=cads_hist_percentile.isel(simulation=0),\n",
    "        title=(cads_hist_percentile.isel(simulation=0\n",
    "        ).simulation.item()), vmin=vmin, \n",
    "        vmax=vmax, sopt=False, width=300, height=300)\n",
    "\n",
    "for sim_i in range(1, num_simulations): # plot remaining simulations\n",
    "    pl_i = make_precip_unc_map(\n",
    "        data=cads_hist_percentile.isel(simulation=sim_i),\n",
    "        title=(cads_hist_percentile.isel(simulation=sim_i\n",
    "        ).simulation.item()), vmin=vmin,\n",
    "        vmax=vmax, sopt=False, width=300, height=300)\n",
    "    cads_hist_plots += pl_i\n",
    "\n",
    "# additional aesthetic settings to tidy figure\n",
    "cads_hist_plots.cols(ncols)  # organize columns\n",
    "cads_hist_plots.opts(hv.opts.Layout(merge_tools=True))  # merge toolbar\n",
    "cads_hist_plots.opts(toolbar=\"below\")  # set toolbar location\n",
    "cads_hist_plots.opts(\n",
    "            title=\"99th percentile monthly precipitation accumulation\"\n",
    "            + \" across models, 1981-2010\"\n",
    "        )  # add title\n",
    "\n",
    "# now for EOC\n",
    "cads_ssp_plots = make_precip_unc_map(\n",
    "        data=cads_ssp_percentile.isel(simulation=0),\n",
    "        title=(cads_ssp_percentile.isel(simulation=0\n",
    "        ).simulation.item()), vmin=vmin, \n",
    "        vmax=vmax, sopt=False, width=300, height=300)\n",
    "\n",
    "for sim_i in range(1, num_simulations): # plot remaining simulations\n",
    "    pl_i = make_precip_unc_map(\n",
    "        data=cads_ssp_percentile.isel(simulation=sim_i),\n",
    "        title=(cads_ssp_percentile.isel(simulation=sim_i\n",
    "        ).simulation.item()), vmin=vmin,\n",
    "        vmax=vmax, sopt=False, width=300, height=300)\n",
    "    cads_ssp_plots += pl_i\n",
    "\n",
    "# additional aesthetic settings to tidy figure\n",
    "cads_ssp_plots.cols(ncols)  # organize columns\n",
    "cads_ssp_plots.opts(hv.opts.Layout(merge_tools=True))  # merge toolbar\n",
    "cads_ssp_plots.opts(toolbar=\"below\")  # set toolbar location\n",
    "cads_ssp_plots.opts(\n",
    "            title=\"99th percentile monthly precipitation accumulation\"\n",
    "            + \" across models, +/- 15 years of warming level\"\n",
    "        )  # add title\n",
    "\n",
    "# now for the difference\n",
    "cads_diff_plots = make_precip_unc_map(\n",
    "        data=cads_delta_percentile.isel(simulation=0),\n",
    "        title=(cads_delta_percentile.isel(simulation=0\n",
    "        ).simulation.item()), vmin=delta_vmin,\n",
    "        vmax=delta_vmax, sopt=True, width=300, height=300)\n",
    "\n",
    "for sim_i in range(1, num_simulations): # plot remaining simulations\n",
    "    pl_i = make_precip_unc_map(\n",
    "        data=cads_delta_percentile.isel(simulation=sim_i),\n",
    "        title=(cads_delta_percentile.isel(simulation=sim_i\n",
    "        ).simulation.item()), vmin=delta_vmin,\n",
    "        vmax=delta_vmax, sopt=True, width=300, height=300)\n",
    "    cads_diff_plots += pl_i\n",
    "\n",
    "# additional aesthetic settings to tidy figure\n",
    "cads_diff_plots.cols(ncols)  # organize columns\n",
    "cads_diff_plots.opts(hv.opts.Layout(merge_tools=True))  # merge toolbar\n",
    "cads_diff_plots.opts(toolbar=\"below\")  # set toolbar location\n",
    "cads_diff_plots.opts(\n",
    "            title=\"Change in 99th percentile monthly precipitation accumulation\"\n",
    "            + \"  across models\"\n",
    "        )  # add title\n",
    "\n",
    "cads_tabs = pn.Tabs(('Present-day',cads_hist_plots), \n",
    "               ('+ '+ str(warm_level)+' C',cads_ssp_plots),\n",
    "               ('Difference',cads_diff_plots), \n",
    "               dynamic=False)\n",
    "cads_tabs"
   ]
  },
  {
   "cell_type": "markdown",
   "id": "f6348efc-9c25-4e8d-b828-fb5f9b79d58d",
   "metadata": {
    "tags": []
   },
   "source": [
    "#### Interpretation\n",
    "\n",
    "Looking at all Cal-Adapt models reveals quite a bit of disagreement in precipitation accumulations, as well as precipitation sign and magnitude changes by end-of-century. These plots show that sampling from a single simulation can limit our understanding, while comparing across simulations can give conflicting and confusing results which are difficult to interpret from a practical perspective. In the next section, we will elucidate how internal variability contributes to these differences."
   ]
  },
  {
   "cell_type": "markdown",
   "id": "659e8475-5cb8-4e79-b940-24695142436c",
   "metadata": {
    "tags": []
   },
   "source": [
    "### 1b) Internal variability\n",
    "\n",
    "Internal variability describes the intra-model differences, or those which occur across a given model's ensemble (recall that an ensemble is a series of model runs which feature small tweaks in initial conditions, and sometimes use different underlying physics which govern smaller scale processes). Internal variability results from the inherently chaotic nature of the climate system, and as a result provides an analog for natural background variability.  \n",
    "\n",
    "<b>We illustrate internal variability</b> by comparing the ensemble members of the CMIP6 models which provided the large-scale input for the downscaled Cal-Adapt models shown above."
   ]
  },
  {
   "cell_type": "markdown",
   "id": "51d5396e-349e-45ea-9095-c1d7f35b17d7",
   "metadata": {},
   "source": [
    "Set options for CMIP6 data"
   ]
  },
  {
   "cell_type": "code",
   "execution_count": null,
   "id": "3efbf741-92bc-4634-900b-c6671e2a6cec",
   "metadata": {
    "tags": []
   },
   "outputs": [],
   "source": [
    "# select data options\n",
    "copt = CmipOpt()\n",
    "copt.variable = 'pr' # near-surface air temperature\n",
    "copt.area_subset = 'states' \n",
    "copt.location = 'California' # location of interest to subset for\n",
    "copt.area_average = False # ensures that we grab spatiotemporal data\n",
    "copt.timescale = 'Amon' # monthly frequency"
   ]
  },
  {
   "cell_type": "markdown",
   "id": "adc3a531-47fb-477a-9179-86a10a76e63d",
   "metadata": {},
   "source": [
    "Get the CMIP6 ensemble runs for the relevant GCMs (those which correspond to the downscaled models shown in step 1a from the catalog)."
   ]
  },
  {
   "cell_type": "code",
   "execution_count": null,
   "id": "761cf95b-b710-47e3-8d14-9822654ed521",
   "metadata": {
    "tags": []
   },
   "outputs": [],
   "source": [
    "hist_cae_ds, warm_cae_ds = get_ensemble_data(\n",
    "    variable=copt.variable, selections=selections, \n",
    "    cmip_names=cmip_names, warm_level=warm_level\n",
    ")"
   ]
  },
  {
   "cell_type": "markdown",
   "id": "3fbdec60-f0d5-45f7-8203-e43a9b0875cc",
   "metadata": {},
   "source": [
    "The following cell computes the 99th percentile for each ensemble member."
   ]
  },
  {
   "cell_type": "code",
   "execution_count": null,
   "id": "16e10ef0-1bba-41d6-a617-9eb4af510d44",
   "metadata": {
    "tags": []
   },
   "outputs": [],
   "source": [
    "# Compute the 99th percentile \n",
    "hist_cae_percentile = hist_cae_ds.quantile(.99, dim=\"time\").squeeze()\n",
    "ssp_cae_percentile = warm_cae_ds.quantile(.99, dim=\"time\").squeeze()\n",
    "\n",
    "# Compute the difference between 99th percentile for future - present-day \n",
    "cae_delta_percentile = ssp_cae_percentile - hist_cae_percentile"
   ]
  },
  {
   "cell_type": "markdown",
   "id": "dca38cc7-d380-4ae2-8e04-ee6dd0ed7d2a",
   "metadata": {},
   "source": [
    "Show the intra-model spread by plotting the following maps for each ensemble member of the eight Cal-Adapt models that reaches the specified warming level:\n",
    "- Present-day (1981 - 2010) 99th percentile monthly precipitation accumulation\n",
    "- 99th percentile monthly precipitation accumulation under warming conditions (+/- 15 years from the year in which the warming threshold was reached)\n",
    "- The change in 99th percentile monthly precipitation realized under those warming conditions"
   ]
  },
  {
   "cell_type": "code",
   "execution_count": null,
   "id": "36d2ac31-ae62-47fd-8fe2-0de2f535ac12",
   "metadata": {
    "tags": []
   },
   "outputs": [],
   "source": [
    "# Plotting helper functions\n",
    "def _hvplot_one_sim(data, sim_name, vmin=0, vmax=900, sopt=False, num_cols=6):\n",
    "    \"\"\"\n",
    "    Using make_precip_unc_map, plot all member_id data for an input simulation.\n",
    "    This will make a single row of maps.\n",
    "    \"\"\"\n",
    "    plots_by_sim = None\n",
    "    # Get the data just at the input simulation\n",
    "    # Rename x --> lon and y --> lat so that the make_precip_unc_map can read the dataset\n",
    "    to_plot_by_sim = data.where(data.simulation == sim_name, drop=True).rename(\n",
    "        {\"x\": \"lon\", \"y\": \"lat\"}\n",
    "    )\n",
    "    # Make a plot for each individual member_id\n",
    "    for member_id_i in range(len(to_plot_by_sim.member_id.values)):\n",
    "        plot_i = make_precip_unc_map(\n",
    "            to_plot_by_sim.drop(\"simulation\").isel(member_id=member_id_i),\n",
    "            title=\"{0} member {1}\".format(sim_name, member_id_i + 1),\n",
    "            vmin=vmin,\n",
    "            vmax=vmax,\n",
    "            sopt=sopt,\n",
    "        )\n",
    "        plots_by_sim = plot_i if plots_by_sim is None else plots_by_sim + plot_i\n",
    "    return (plots_by_sim + hv.Layout()).cols(6)\n",
    "\n",
    "def hvplot_percentile_column(\n",
    "    data, col_title=\"\", vmin=0, vmax=900, sopt=False, num_cols=6\n",
    "):\n",
    "    \"\"\"\n",
    "    Create a pn.Column object, in which each row is a different simulation.\n",
    "    Set col_title to give the Column a name.\n",
    "    Set num_cols to indicate how many maps you want to show in each row.\n",
    "    \"\"\"\n",
    "    col = pn.Column(col_title)\n",
    "    for sim in np.unique(data.simulation.values):\n",
    "        pl_by_sim = _hvplot_one_sim(\n",
    "            data, sim_name=sim, vmin=vmin, vmax=vmax, sopt=sopt, num_cols=6\n",
    "        )\n",
    "        col += pn.Row(pl_by_sim)\n",
    "    return col"
   ]
  },
  {
   "cell_type": "code",
   "execution_count": null,
   "id": "db16eeb1-0866-48fe-9788-9982cac07f5b",
   "metadata": {
    "tags": []
   },
   "outputs": [],
   "source": [
    "all_hist_ens = hvplot_percentile_column(\n",
    "    data=hist_cae_percentile.pr, \n",
    "    col_title=\"### 99th percentile monthly precipitation accumulation across model ensemble members, 1981-2010\", \n",
    "    vmin=0, vmax=900, \n",
    "    sopt=False\n",
    ") \n",
    "\n",
    "all_ssp_ens = hvplot_percentile_column(\n",
    "    data=ssp_cae_percentile.pr, \n",
    "    col_title=\"### 99th percentile monthly precipitation accumulation across model ensemble members, 2071-2100\", \n",
    "    vmin=0, vmax=900, \n",
    "    sopt=False\n",
    ") \n",
    "\n",
    "all_diff_ens = hvplot_percentile_column(\n",
    "    data=cae_delta_percentile.pr, \n",
    "    col_title=\"### Change in 99th percentile monthly precipitation accumulation across ensemble members by end-of-century\", \n",
    "    vmin=-150, vmax=150, \n",
    "    sopt=True\n",
    ") \n",
    "\n",
    "pn.Tabs(('Present-day',all_hist_ens),\n",
    "        ('+ '+ str(warm_level)+' C',all_ssp_ens),\n",
    "        ('Difference',all_diff_ens))"
   ]
  },
  {
   "cell_type": "markdown",
   "id": "bbdf55cd-fdad-42a4-94a7-10e964de5a72",
   "metadata": {
    "jp-MarkdownHeadingCollapsed": true,
    "tags": []
   },
   "source": [
    "#### Interpretation\n",
    "We have now expanded our analysis to the larger model ensembles from which the Cal-Adapt models were derived. Doing so shows us that not only are differences across models substantial, but so are differences within models. Since the downscaled Cal-Adapt models come from one ensemble member, <b>the model differences shown in the first set of maps result from a combination of model uncertainty and internal variability</b>. "
   ]
  },
  {
   "cell_type": "markdown",
   "id": "4f1840bb-d7e3-4a49-a557-b4a8961e6178",
   "metadata": {},
   "source": [
    "### 1c) Model uncertainty across the CMIP6 catalog"
   ]
  },
  {
   "cell_type": "markdown",
   "id": "c32645b8-ce5e-4b33-a77b-bc1cb6d7a830",
   "metadata": {},
   "source": [
    "Get the available CMIP6 output from the catalog. It can take a couple minutes to read in and prepare the data."
   ]
  },
  {
   "cell_type": "code",
   "execution_count": null,
   "id": "96160b74-abd5-47e2-97fe-da1c1b2a7a20",
   "metadata": {
    "tags": []
   },
   "outputs": [],
   "source": [
    "mdls_ds = grab_multimodel_data(copt,alpha_sort=True)\n",
    "\n",
    "hist_ds = mdls_ds.sel(time=slice('1981','2010'))\n",
    "ssp_ds = mdls_ds.sel(time=slice('2014','2100'))\n",
    "\n",
    "num_simulations = range(len(ssp_ds.simulation.values))\n",
    "ssp_ds_list = [get_warm_level(warm_level, \n",
    "                ssp_ds.isel(simulation=i), ipcc=False) \n",
    "                for i in num_simulations]\n",
    "ssp_ds_list = [i for i in ssp_ds_list if i]\n",
    "ssp_ds = xr.concat(ssp_ds_list, dim='simulation').squeeze()\n",
    "hist_ds = hist_ds.sel(simulation=ssp_ds.simulation.values)"
   ]
  },
  {
   "cell_type": "markdown",
   "id": "3f59b6ae-dffb-4e0e-bd2a-220d7aba03eb",
   "metadata": {},
   "source": [
    "Next we compute statistics."
   ]
  },
  {
   "cell_type": "code",
   "execution_count": null,
   "id": "c1735845-4ef3-419c-80d3-b7def064e15d",
   "metadata": {
    "tags": []
   },
   "outputs": [],
   "source": [
    "# 99th percentile all models\n",
    "hist_percentile = hist_ds.chunk(dict(\n",
    "    time=-1)).quantile([.99],\n",
    "    dim='time').compute().squeeze()\n",
    "\n",
    "ssp_percentile = ssp_ds.chunk(dict(\n",
    "    time=-1)).quantile([.99],\n",
    "    dim='time').compute().squeeze()\n",
    "\n",
    "delta_percentile = (ssp_percentile \n",
    "                    - hist_percentile).compute()"
   ]
  },
  {
   "cell_type": "markdown",
   "id": "b725eea0-c0df-4f4d-9740-f0c6cf8f5d4e",
   "metadata": {},
   "source": [
    "Show the inter-model spread by plotting the following maps for one ensemble member of each of the available CMIP6 simulations:\n",
    "- Present-day (1981 - 2010) 99th percentile monthly precipitation accumulation\n",
    "- 99th percentile monthly precipitation accumulation under warming conditions (+/- 15 years from the year in which the warming threshold was reached)\n",
    "- The change in 99th percentile monthly precipitation realized under those warming conditions"
   ]
  },
  {
   "cell_type": "code",
   "execution_count": null,
   "id": "177a3cd3-a380-4ee9-8bf1-3630119a5950",
   "metadata": {
    "tags": []
   },
   "outputs": [],
   "source": [
    "vmin = 0\n",
    "vmax = 900\n",
    "delta_vmin = -150\n",
    "delta_vmax = 150\n",
    "ncols = 5\n",
    "num_simulations = len(hist_percentile.simulation)\n",
    "\n",
    "hist_plots = make_precip_unc_map(\n",
    "        data=hist_percentile.pr.isel(simulation=0\n",
    "        ).rename({'x' : 'lon', 'y' : 'lat'}),\n",
    "        title=(hist_percentile.isel(simulation=0\n",
    "        ).simulation.item()), vmin=vmin,\n",
    "        vmax=vmax, sopt=False)\n",
    "\n",
    "for sim_i in range(1, num_simulations): # plot remaining simulations\n",
    "    pl_i = make_precip_unc_map(\n",
    "        data=hist_percentile.pr.isel(simulation=sim_i\n",
    "        ).rename({'x' : 'lon', 'y' : 'lat'}),\n",
    "        title=(hist_percentile.isel(simulation=sim_i\n",
    "        ).simulation.item()), vmin=vmin,\n",
    "        vmax=vmax, sopt=False)\n",
    "    hist_plots += pl_i\n",
    "\n",
    "# additional aesthetic settings to tidy figure\n",
    "hist_plots.cols(ncols)  # organize columns\n",
    "hist_plots.opts(hv.opts.Layout(merge_tools=True))  # merge toolbar\n",
    "hist_plots.opts(toolbar=\"below\")  # set toolbar location\n",
    "hist_plots.opts(\n",
    "            title=\"99th percentile monthly precipitation accumulation\"\n",
    "            + \" in each model, 1981-2010\"\n",
    "        )  # add title\n",
    "\n",
    "# now for warming\n",
    "ssp_plots = make_precip_unc_map(\n",
    "        data=ssp_percentile.pr.isel(simulation=0\n",
    "        ).rename({'x' : 'lon', 'y' : 'lat'}),\n",
    "        title=(ssp_percentile.isel(simulation=0\n",
    "        ).simulation.item()), vmin=vmin,\n",
    "        vmax=vmax, sopt=False)\n",
    "\n",
    "for sim_i in range(1, num_simulations): # plot remaining simulations\n",
    "    pl_i = make_precip_unc_map(\n",
    "        data=ssp_percentile.pr.isel(simulation=sim_i\n",
    "        ).rename({'x' : 'lon','y' : 'lat'}),\n",
    "        title=(ssp_percentile.isel(simulation=sim_i\n",
    "        ).simulation.item()), vmin=vmin,\n",
    "        vmax=vmax, sopt=False)\n",
    "    ssp_plots += pl_i\n",
    "\n",
    "# additional aesthetic settings to tidy figure\n",
    "ssp_plots.cols(ncols)  # organize columns\n",
    "ssp_plots.opts(hv.opts.Layout(merge_tools=True))  # merge toolbar\n",
    "ssp_plots.opts(toolbar=\"below\")  # set toolbar location\n",
    "ssp_plots.opts(\n",
    "            title=\"99th percentile monthly precipitation accumulation\"\n",
    "            + \" in each model, 2071-2100\"\n",
    "        )  # add title\n",
    "\n",
    "# now for the difference\n",
    "diff_plots = make_precip_unc_map(\n",
    "        data=delta_percentile.pr.isel(simulation=0\n",
    "        ).rename({'x' : 'lon','y' : 'lat'}),\n",
    "        title=(delta_percentile.isel(simulation=0\n",
    "        ).simulation.item()), vmin=delta_vmin,\n",
    "        vmax=delta_vmax, sopt=True)\n",
    "\n",
    "for sim_i in range(1, num_simulations): # plot remaining simulations\n",
    "    pl_i = make_precip_unc_map(\n",
    "        data=delta_percentile.pr.isel(simulation=sim_i\n",
    "        ).rename({'x' : 'lon', 'y' : 'lat'}),\n",
    "        title=(delta_percentile.isel(simulation=sim_i\n",
    "        ).simulation.item()), vmin=delta_vmin,\n",
    "        vmax=delta_vmax, sopt=True)\n",
    "    diff_plots += pl_i\n",
    "\n",
    "# additional aesthetic settings to tidy figure\n",
    "diff_plots.cols(ncols)  # organize columns\n",
    "diff_plots.opts(hv.opts.Layout(merge_tools=True))  # merge toolbar\n",
    "diff_plots.opts(toolbar=\"below\")  # set toolbar location\n",
    "diff_plots.opts(\n",
    "            title=\"Change in 99th percentile monthly precipitation accumulation\"\n",
    "            + \" in each model by end-of-century\"\n",
    "        )  # add title\n",
    "\n",
    "tabs = pn.Tabs(('1981-2010',hist_plots), \n",
    "               ('+ '+ str(warm_level)+' C',ssp_plots),\n",
    "               ('Difference',diff_plots), \n",
    "               dynamic=False)\n",
    "tabs"
   ]
  },
  {
   "cell_type": "markdown",
   "id": "7470536e-b407-4a2c-ac2e-27885b9d28a4",
   "metadata": {
    "tags": []
   },
   "source": [
    "#### Interpretation \n",
    "The above maps show substantial differences across models which are particularly apparent in the difference between end-of-century and present-day results. Importantly, the intra-model differences shown in the previous set of maps also showed substantial variation. In light of this, we conclude that <b>differences across models occur both as a result of actual structural model differences and internal variability.</b> In the next section, we will show how these two sources of uncertainty compare to one another. "
   ]
  },
  {
   "cell_type": "markdown",
   "id": "7af1e2f9-d52c-4ebd-9d8a-db510babe168",
   "metadata": {
    "tags": []
   },
   "source": [
    "### 1d) Uncertainty summarized\n",
    "We will compactly summarize model uncertainty and internal variability by examining the area-average change over a small region. We use here a box surrounding the Bay Area.\n",
    "\n",
    "Note that <b>here we analyze relative (expressed as a percent) changes rather than absolute changes</b>. This is because smaller grid sizes (such as those in the Cal-Adapt downscaled models) generally drive more higher extreme precipitation magnitudes than models with larger grid sizes (such as the CMIP6 models). These grid size effects occur due to differences in model physics and surface effects from the representation of topography. "
   ]
  },
  {
   "cell_type": "markdown",
   "id": "99af904c-dd40-4245-97e0-895ed592bee2",
   "metadata": {},
   "source": [
    "Get the Bay Area data."
   ]
  },
  {
   "cell_type": "code",
   "execution_count": null,
   "id": "2d359a58-0665-4598-8266-0c499810f1ed",
   "metadata": {
    "tags": []
   },
   "outputs": [],
   "source": [
    "selections.timescale = 'monthly'\n",
    "selections.area_subset = 'lat/lon'\n",
    "selections.cached_area = ['coordinate selection']\n",
    "selections.latitude = (37,38.5)\n",
    "selections.longitude = (-123,-121.5)\n",
    "selections.area_average = 'Yes'\n",
    "\n",
    "reg_wrf_ds = selections.retrieve().squeeze()\n",
    "reg_wrf_ds = reg_wrf_ds.sortby(\"simulation\") # Sort simulations alphabetically   \n",
    "reg_wrf_ds[\"simulation\"] = [wrf_cmip_lookup_dict[sim] for sim in reg_wrf_ds.simulation.values] # Rename simulations \n",
    "reg_wrf_ds = reg_wrf_ds.clip(0.1)"
   ]
  },
  {
   "cell_type": "markdown",
   "id": "eea985b0-7047-44b0-bdf5-4fa83743a26f",
   "metadata": {},
   "source": [
    "Show maps of the relative change in 99th percentile monthly precipitation accumulation under warming conditions, with the subarea boxed for reference"
   ]
  },
  {
   "cell_type": "code",
   "execution_count": null,
   "id": "4737e327-7f07-40e7-8225-a0aaebad5389",
   "metadata": {
    "tags": []
   },
   "outputs": [],
   "source": [
    "lat0 = selections.latitude[0]\n",
    "lat1 = selections.latitude[1]\n",
    "lon0 = selections.longitude[0]\n",
    "lon1 = selections.longitude[1]\n",
    "\n",
    "cads_rel_delta_percentile = (\n",
    "    (cads_delta_percentile / cads_hist_percentile\n",
    "     )*100).compute() \n",
    "lons = cads_rel_delta_percentile.lon[0]\n",
    "lats = cads_rel_delta_percentile.lat[0]\n",
    "num_simulations = len(cads_rel_delta_percentile.simulation.values)\n",
    "\n",
    "cads_rel_diff_plots = make_precip_unc_map(\n",
    "        data=cads_rel_delta_percentile.isel(simulation=0),\n",
    "        title=(cads_rel_delta_percentile.isel(simulation=0\n",
    "         ).simulation.item()), vmin=-60, vmax=60, sopt=True,\n",
    "        ylim=(lat0,lat1), xlim=(lon0,lon1),\n",
    "        yticks=[lat0,lat1], xticks=[lon0,lon1], absolute=False)\n",
    "cads_rel_diff_plots.opts(clabel = '% change from present-day')\n",
    "\n",
    "for sim_i in range(1, num_simulations): # plot remaining simulations\n",
    "    pl_i = make_precip_unc_map(\n",
    "        data=cads_rel_delta_percentile.isel(simulation=sim_i),\n",
    "        title=(cads_rel_delta_percentile.isel(simulation=sim_i\n",
    "        ).simulation.item()), vmin=-60, vmax=60, sopt=True,\n",
    "     ylim=(lat0,lat1), xlim=(lon0,lon1),\n",
    "    yticks=[lat0,lat1], xticks=[lon0,lon1], absolute=False)\n",
    "    pl_i.opts(clabel = '% change from present-day')\n",
    "    cads_rel_diff_plots += pl_i\n",
    "\n",
    "# additional aesthetic settings to tidy figure\n",
    "cads_rel_diff_plots.cols(3)  # organize columns\n",
    "cads_rel_diff_plots.opts(hv.opts.Layout(merge_tools=True))  # merge toolbar\n",
    "cads_rel_diff_plots.opts(toolbar=\"below\")  # set toolbar location\n",
    "\n",
    "box = hv.Bounds((lon0,lat0,lon1,lat1)).opts(color='k')\n",
    "diff_with_box = cads_rel_diff_plots*box\n",
    "\n",
    "diff_with_box.opts(\n",
    "            title=\"Relative change in 99th percentile monthly precipitation accumulation\"\n",
    "            + \"  across models under \" + str(warm_level)+' C warming',\n",
    "            toolbar=\"below\" ) \n",
    "\n",
    "diff_with_box"
   ]
  },
  {
   "cell_type": "markdown",
   "id": "05658df6-fcfe-48a8-aa0a-798f4acc619c",
   "metadata": {},
   "source": [
    "Process data and compute statistics. As with the other cells which run statistics, this can take some time to run."
   ]
  },
  {
   "cell_type": "code",
   "execution_count": null,
   "id": "6bedd466-e867-46d0-9a17-20ffbe7b010e",
   "metadata": {
    "tags": []
   },
   "outputs": [],
   "source": [
    "# first for the downscaled results\n",
    "reg_hist_wrf = reg_wrf_ds.sel(\n",
    "    time=slice('1981','2010'))\n",
    "\n",
    "sim_idx = list(reg_wrf_ds.simulation.values)\n",
    "reg_ssp_wrf_list = [get_warm_level(\n",
    "            warm_level, reg_wrf_ds.sel(\n",
    "            simulation=s).squeeze(), ipcc=False) \n",
    "            for s in sim_idx]\n",
    "reg_ssp_wrf_list = list(filter(lambda item: \n",
    "                item is not None, reg_ssp_wrf_list))\n",
    "reg_ssp_wrf = xr.concat(reg_ssp_wrf_list,dim='simulation')\n",
    "\n",
    "reg_cads_hist_percentile = reg_hist_wrf.chunk(dict(\n",
    "    time=-1)).quantile([.99],\n",
    "    dim='time').compute().squeeze()\n",
    "\n",
    "reg_cads_ssp_percentile = reg_ssp_wrf.chunk(dict(\n",
    "    time=-1)).quantile([.99],\n",
    "    dim='time').compute().squeeze()\n",
    "\n",
    "reg_cads_delta_percentile = (((reg_cads_ssp_percentile\n",
    "                              - reg_cads_hist_percentile)\n",
    "                             /reg_cads_hist_percentile\n",
    "                             )*100).compute()\n",
    "# then for the GCMs\n",
    "cae_rel_delta_percentile = (cae_delta_percentile\n",
    "                            / hist_cae_percentile \n",
    "                            *100).compute()\n",
    "reg_cae_delta_percentile = _area_wgt_average(\n",
    "                            cae_rel_delta_percentile.sel(\n",
    "                            y=slice(lat0,lat1),\n",
    "                            x=slice(lon0,lon1)))"
   ]
  },
  {
   "cell_type": "markdown",
   "id": "c7ff3842-cc4d-40c1-9611-908102cba55a",
   "metadata": {},
   "source": [
    "Plot relative changes in 99th percentile precipitation accumulation for the Cal-Adapt GCM ensemble and downscaled Cal-Adapt members\n"
   ]
  },
  {
   "cell_type": "code",
   "execution_count": null,
   "id": "55622c8b-dcde-4031-922a-aa0cf6052360",
   "metadata": {
    "tags": []
   },
   "outputs": [],
   "source": [
    "bar_tops = []\n",
    "bar_floors = []\n",
    "line_pos = []\n",
    "sims = np.unique(reg_cads_delta_percentile.simulation.values)\n",
    "for sim in sims:    \n",
    "    data = reg_cae_delta_percentile.where(\n",
    "        reg_cae_delta_percentile.simulation==sim, drop=True\n",
    "    )\n",
    "    bar_tops.append(data.pr.max(dim=\"member_id\",skipna=True).item())\n",
    "    bar_floors.append(data.pr.min(dim=\"member_id\",skipna=True).item())\n",
    "    line_pos.append(data.pr.median(dim=\"member_id\",skipna=True).item())\n",
    "\n",
    "fig, ax = plt.subplots(figsize=(8, 5))\n",
    "plt.vlines(\n",
    "    x=sims, ymax=bar_tops, ymin=bar_floors,\n",
    "    linewidths=20, color='#009292', alpha=.5, label=\"Ensemble range\"\n",
    ")\n",
    "ax.scatter(\n",
    "    sims, reg_cads_delta_percentile,\n",
    "    zorder=2,ec='k', fc='#ffff6d', s=200, label=\"Downscaled \\n simulation\"\n",
    ")\n",
    "ax.scatter(\n",
    "    sims, line_pos, zorder=2, ec='k', s=700, marker=\"_\", label=\"Ensemble median\"\n",
    ")\n",
    "ax.legend(ncol=1, bbox_to_anchor=(1.4, .9), frameon=False)\n",
    "ax.set_title(\"Relative change in 99th percentile monthly\"\n",
    "             + \" precipitation accumulation, subregion average\")\n",
    "ax.set_ylabel(\"% change\", fontsize=14)\n",
    "ax.set_xlabel(\"Model\", fontsize=14)\n",
    "plt.xticks(rotation=20)\n",
    "plt.show()"
   ]
  },
  {
   "cell_type": "markdown",
   "id": "a46dd421-5b95-4264-a0b2-aade7f00cafa",
   "metadata": {},
   "source": [
    "#### Interpretation\n",
    "- The intra-model range (i.e., internal variability; represented by the blue shading) for each model is larger than the differences between models; in other words, <b>internal variability dominates model uncertainty</b>.\n",
    "- Accordingly, we would expect a similar range in the response for the downscaled Cal-Adapt models if we had multiple ensemble members for each of them. \n",
    "- While we do not necessarily expect the downscaled model change (yellow circles) for a single member to overlap with the blue shading, we would expect there to be overlap between the blue shading and the range in responses across ensemble members for each downscaled model if they existed. \n",
    "- The range in responses, which occurs as a result of both internal variability and model uncertainty, makes it difficult to use the data presented above to form actionable conclusions. \n",
    "\n",
    "The next section shows a reasonable analysis technique in light of the uncertainty we have illustrated so far. "
   ]
  },
  {
   "cell_type": "markdown",
   "id": "6daa06c0-b726-4ad9-9f5d-938012d15a07",
   "metadata": {},
   "source": [
    "## Step 2: Handling uncertainty"
   ]
  },
  {
   "cell_type": "markdown",
   "id": "07ceed10-0184-4b26-b6d9-5521d74994a2",
   "metadata": {},
   "source": [
    "Given that internal variability is high compared to model uncertainty (which we show above), and assuming that a model run appropriately captures the relevant processes for extreme precipitation, we can treat each ensemble member of each model as an equally plausible representation of the climate. <b>Under this treatment, we can pool the data from all simulations (which increases our sampling by a factor of up to eight) and sample from the larger distribution.</b>"
   ]
  },
  {
   "cell_type": "code",
   "execution_count": null,
   "id": "16e3b462-3eae-4b42-a592-beb6b24eb8f0",
   "metadata": {
    "tags": []
   },
   "outputs": [],
   "source": [
    "selections.area_subset='states'\n",
    "selections.cached_area = ['CA']\n",
    "selections.area_average = 'No'\n",
    "selections.timescale = 'monthly'\n",
    "box_wrf_ds = selections.retrieve().squeeze()\n",
    "\n",
    "box_wrf_ds = box_wrf_ds.sortby(\"simulation\") # Sort simulations alphabetically   \n",
    "box_wrf_ds[\"simulation\"] = [wrf_cmip_lookup_dict[sim] for sim in box_wrf_ds.simulation.values] # Rename simulations \n",
    "box_wrf_ds = box_wrf_ds.clip(0.1) # Remove values less than 0.1"
   ]
  },
  {
   "cell_type": "code",
   "execution_count": null,
   "id": "dbed3ea6-b9d2-40b2-ad21-68f3f7587772",
   "metadata": {
    "tags": []
   },
   "outputs": [],
   "source": [
    "box_hist_wrf = box_wrf_ds.sel(\n",
    "    time=slice('1981','2010'))\n",
    "\n",
    "sim_idx = list(box_wrf_ds.simulation.values)\n",
    "box_ssp_wrf_list = [get_warm_level(\n",
    "            warm_level, box_wrf_ds.sel(\n",
    "            simulation=s).squeeze(), ipcc=False) \n",
    "            for s in sim_idx]\n",
    "\n",
    "box_ssp_wrf_list = list(filter(lambda item: item is not None, ssp_wrf_list))\n",
    "box_ssp_wrf = xr.concat(box_ssp_wrf_list,dim='simulation')\n",
    "\n",
    "box_hist_wrf = box_hist_wrf.sel(simulation = box_ssp_wrf.simulation.values)\n",
    "\n",
    "box_cads_hist_percentile = box_hist_wrf.chunk(dict(\n",
    "    time=-1)).quantile([.99],\n",
    "    dim='time').compute().squeeze()\n",
    "\n",
    "box_cads_ssp_percentile = box_ssp_wrf.chunk(dict(\n",
    "    time=-1)).quantile([.99],\n",
    "    dim='time').compute().squeeze()\n",
    "\n",
    "box_cads_delta_percentile = (((box_cads_ssp_percentile\n",
    "                              - box_cads_hist_percentile)\n",
    "                             /box_cads_hist_percentile\n",
    "                             )*100).compute()"
   ]
  },
  {
   "cell_type": "code",
   "execution_count": null,
   "id": "ce7a9586-7590-4c22-947e-3d7d160ab50f",
   "metadata": {
    "tags": []
   },
   "outputs": [],
   "source": [
    "hist_wrf_pool = box_hist_wrf.stack(index=['simulation','time'])\n",
    "hist_wrf_pool = hist_wrf_pool.compute()\n",
    "\n",
    "ssp_percentile_mmm = box_cads_ssp_percentile.mean(\n",
    "    dim=\"simulation\").compute().squeeze()\n",
    "hist_percentile_mmm = box_cads_hist_percentile.mean(\n",
    "    dim=\"simulation\").compute().squeeze()\n",
    "delta_percentile_mmm = (ssp_percentile_mmm \n",
    "            - hist_percentile_mmm).compute().squeeze()\n",
    "hist_wrf_pool = box_hist_wrf.stack(index=['simulation','time'])\n",
    "ssp_wrf_pool = box_ssp_wrf.stack(index=['simulation','time'])"
   ]
  },
  {
   "cell_type": "markdown",
   "id": "27641907-670b-4e45-b13c-6cb51d82246b",
   "metadata": {},
   "source": [
    "Here we perform basic statistics as before, as well as a Kolmogorov-Smirnov (KS) test between our present-day and warming level data to determine statistical significance (p < 0.05). The KS test essentially answers the question, _\"How likely is it that we would see two sets of samples like this if they were drawn from the same (but unknown) probability distribution?\"_ (via [Wikipedia](https://en.wikipedia.org/wiki/Kolmogorov%E2%80%93Smirnov_test)). In other words, statistical significance is achieved when two samples (in this case, the present-day and warming level 99th percentile monthly precipitation accumulations) are sufficiently different from one another. \n",
    "\n",
    "There is lots of computation here, and it will take a few minutes to run."
   ]
  },
  {
   "cell_type": "code",
   "execution_count": null,
   "id": "f6f6ecb9-98f5-4cc8-be8b-673e3d27556e",
   "metadata": {
    "tags": []
   },
   "outputs": [],
   "source": [
    "hist_wrf_pool_perc = hist_wrf_pool.chunk(\n",
    "    dict(index=-1)).quantile([.99],\n",
    "    dim='index').compute().squeeze()\n",
    "\n",
    "ssp_wrf_pool_perc = ssp_wrf_pool.chunk(\n",
    "    dict(index=-1)).quantile([.99],\n",
    "    dim='index').compute().squeeze()\n",
    "\n",
    "delta_wrf_pool_perc = (ssp_wrf_pool_perc\n",
    "                       - hist_wrf_pool_perc\n",
    "                      ).compute()\n",
    "\n",
    "hist_wrf_pool = hist_wrf_pool.compute()\n",
    "ssp_wrf_pool = ssp_wrf_pool.compute()\n",
    "pooled_p_df = get_ks_pval_df(hist_wrf_pool, ssp_wrf_pool)\n",
    "\n",
    "hist_wrf_mmm = box_hist_wrf.mean(dim='simulation').rename({'time':'index'}).compute()\n",
    "ssp_wrf_mmm = box_ssp_wrf.mean(dim='simulation').rename({'time':'index'}).compute()\n",
    "mmm_p_df = get_ks_pval_df(hist_wrf_mmm, ssp_wrf_mmm)"
   ]
  },
  {
   "cell_type": "markdown",
   "id": "1602620a-406f-4606-8d24-9dc9b429a51b",
   "metadata": {},
   "source": [
    "Get ready the make the relevant plots"
   ]
  },
  {
   "cell_type": "code",
   "execution_count": null,
   "id": "28dfeb20-d40a-4895-9777-6e742489f58b",
   "metadata": {
    "tags": []
   },
   "outputs": [],
   "source": [
    "vmin = 0\n",
    "vmax = 2000\n",
    "delta_vmin = None\n",
    "delta_vmax = None\n",
    "\n",
    "mmm_hist_plot = make_precip_unc_map(\n",
    "        data=hist_percentile_mmm, title=(\"Multi-model mean\"),\n",
    "        vmin=vmin, vmax=vmax, sopt=False,\n",
    "        height=300, width=300)\n",
    "\n",
    "mmm_ssp_plot = make_precip_unc_map(\n",
    "        data=ssp_percentile_mmm, title=(\"Multi-model mean\"),\n",
    "        vmin=vmin, vmax=vmax, sopt=False,\n",
    "        height=300, width=300)\n",
    "\n",
    "mmm_diff_plot = make_precip_unc_map(\n",
    "        data=delta_percentile_mmm, title=(\"Multi-model mean\"),\n",
    "        vmin=delta_vmin, vmax=delta_vmax, sopt=True,\n",
    "        height=300, width=300)\n",
    "\n",
    "pool_hist_plot = make_precip_unc_map(\n",
    "        data=hist_wrf_pool_perc, title=(\"Multi-model pool\"),\n",
    "        vmin=vmin, vmax=vmax, sopt=False,\n",
    "        height=300, width=300)\n",
    "\n",
    "pool_ssp_plot = make_precip_unc_map(\n",
    "        data=ssp_wrf_pool_perc, title=(\"Multi-model pool\"),\n",
    "        vmin=vmin, vmax=vmax, sopt=False,\n",
    "        height=300, width=300)\n",
    "\n",
    "pool_diff_plot = make_precip_unc_map(\n",
    "        data=delta_wrf_pool_perc, title=(\"Multi-model pool\"),\n",
    "        vmin=delta_vmin, vmax=delta_vmax, sopt=True,\n",
    "        height=300, width=300)\n",
    "\n",
    "pool_sig_diff = pool_diff_plot*hv.Points(\n",
    "        pooled_p_df).opts(color='k', \n",
    "        marker='dot', size=5)\n",
    "\n",
    "mmm_sig_diff = mmm_diff_plot*hv.Points(\n",
    "        mmm_p_df).opts(color='k', \n",
    "        marker='dot', size=5)\n",
    "\n",
    "pooled_hist = mmm_hist_plot + pool_hist_plot\n",
    "pooled_ssp = mmm_ssp_plot + pool_ssp_plot\n",
    "pooled_diff = mmm_diff_plot + pool_diff_plot\n",
    "pooled_stippled = mmm_sig_diff + pool_sig_diff\n",
    "\n",
    "pool_cads_tabs = pn.Tabs(\n",
    "                ('Present-day',pooled_hist), \n",
    "                ('+ '+ str(warm_level)+' C',pooled_ssp),\n",
    "                ('Difference',pooled_diff),\n",
    "                ('Difference, with significance',\n",
    "                 pooled_stippled), dynamic=False)"
   ]
  },
  {
   "cell_type": "markdown",
   "id": "95426556-e94d-4421-b77f-8f250e73fe59",
   "metadata": {},
   "source": [
    "Show maps of the results of taking the multi-model mean and pooling the data across models:\n",
    "- Present-day (1981 - 2010) 99th percentile monthly precipitation accumulation\n",
    "- 99th percentile monthly precipitation accumulation under warming conditions (+/- 15 years from the year in which the warming threshold was reached)\n",
    "- The change in 99th percentile monthly precipitation realized under those warming conditions\n",
    "\n",
    "We also highlight the points where the difference is statistically significant (p<0.05) via the KS test. "
   ]
  },
  {
   "cell_type": "code",
   "execution_count": null,
   "id": "1969c1c5-ead1-4fae-ab7c-e8f6e4815c6b",
   "metadata": {
    "tags": []
   },
   "outputs": [],
   "source": [
    "pool_cads_tabs"
   ]
  },
  {
   "cell_type": "markdown",
   "id": "003443fd-d9c0-430e-b539-0aa543561e39",
   "metadata": {},
   "source": [
    "#### Interpretation\n",
    "\n",
    "Differences between results obtained via a multi-model mean or multi-model pool are subtle. There are even many points at which the difference is statistically significant in both the mean and pooled results. This might suggest that either method is acceptable. However, extreme events are rare (i.e., they give us a very small sample size), there are large differences between models (Section 1a), and there is even more substantial internal variability (Section 1d). In light of this, <b>any statistical significance between the multi-model means can lead to overconfidence in the results</b>. Instead, the available data should be pooled to increase the sample size. "
   ]
  },
  {
   "cell_type": "markdown",
   "id": "f594c942-c2e8-4a25-b0a8-bced4cb38792",
   "metadata": {},
   "source": [
    "## Summary and key points\n",
    "As discussed in Section 1b, the model uncertainty shown in this notebook occurs as a function of both actual model differences and internal variability.\n",
    "* The uncertainty related to these sources is exacerbated by small sample size.\n",
    "* The 'Difference' results in 1a show that cross-model results can be in conflict with one another, with some models showing marked decreases in extreme precipitation where others show large increases. This makes it difficult to use these projections for impacts research and planning and preparedness purposes.\n",
    "\n",
    "Here we overcame some of these issues by pooling the data across models before computing statistics, a strategy which provided the following advantages:\n",
    "* Increased the underlying sample size from which to derive statistics.\n",
    "* Provided interpretable results which are useful from an impacts perspective.\n",
    "\n",
    "Want to know more about model uncertainty? Check out the [model_uncertainty.ipynb](model_uncertainty.ipynb) notebook too!"
   ]
  }
 ],
 "metadata": {
  "kernelspec": {
   "display_name": "Python 3 (ipykernel)",
   "language": "python",
   "name": "python3"
  },
  "language_info": {
   "codemirror_mode": {
    "name": "ipython",
    "version": 3
   },
   "file_extension": ".py",
   "mimetype": "text/x-python",
   "name": "python",
   "nbconvert_exporter": "python",
   "pygments_lexer": "ipython3",
   "version": "3.9.13"
  }
 },
 "nbformat": 4,
 "nbformat_minor": 5
}
