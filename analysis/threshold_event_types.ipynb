{
 "cells": [
  {
   "cell_type": "markdown",
   "metadata": {},
   "source": [
    "# Threshold Tools: Defining and analyzing custom extreme events\n",
    "\n",
    "A notebook for defining and analyzing different types of extreme events using the `get_block_maxima` function in `threshold_tools`. For a basic introduction and explanations of the functions in the `threshold_tools` module, see the notebook [threshold_basics.ipynb](../work-in-progress/threshold_basics.ipynb)\n",
    "\n",
    "This notebook calculates the Block Maximum Series for 4 differently defined extreme events (Step 2), then proceeds with extreme value analysis for each of the 4 event types (Step 3).\n",
    "\n",
    "This notebook also includes a discussion of some of the relevant underlying assumptions of extreme value theory, in particular around the effective sample size of the data that is used in the block maxima approach (under example 3 in Step 2).\n",
    "\n",
    "The 4 differently defined extreme events used as examples in this notebook are:\n",
    "- Example 1: hottest hour in each year\n",
    "- Example 2: the hottest continuous 3-hour event in each year\n",
    "- Example 3: the hottest temperature that is reached 3 days in a row\n",
    "- Example 4: hottest temperature that is reached for 4 hours a day, for 3 days in a row\n",
    "\n",
    "**Intended Application**: As a user, I want to understand the expected frequency of different types of extreme events.\n",
    "\n",
    "**Runtime**: With the default settings, this notebook takes approximately **2 minutes** to run from start to finish. Modifications to selections may increase the runtime."
   ]
  },
  {
   "cell_type": "markdown",
   "metadata": {},
   "source": [
    "<a id='setup'></a>\n",
    "## Step 0: Setup"
   ]
  },
  {
   "cell_type": "markdown",
   "metadata": {},
   "source": [
    "Import needed libraries and functions."
   ]
  },
  {
   "cell_type": "code",
   "execution_count": null,
   "metadata": {},
   "outputs": [],
   "source": [
    "import panel as pn\n",
    "pn.extension()\n",
    "import matplotlib.pyplot as plt\n",
    "\n",
    "import climakitae as ck\n",
    "import climakitaegui as ckg\n",
    "from climakitae.explore import threshold_tools\n",
    "from climakitae.explore.threshold_tools import get_block_maxima, get_return_value, get_return_period"
   ]
  },
  {
   "cell_type": "markdown",
   "metadata": {},
   "source": [
    "<a id='sel'></a>\n",
    "## Step 1: Select and retrieve data of interest"
   ]
  },
  {
   "cell_type": "markdown",
   "metadata": {},
   "source": [
    "In the code cell below, the `ckg.Select()` function of the `climakitaegui` app displays an interface for data selection.\n",
    "\n",
    "To perform the example analyses provided later in this notebook, we will set the data retrieval selections to the following: \n",
    "- hourly temperature data in degrees Fahrenheit\n",
    "- SSP 3-7.0, no historical data (you can explore the analysis for other scenarios as well, the choice of SSP 3.7 is for the purpose of this example) \n",
    "- choose Sacramento County, and take an area average (the following analyses can also be performed on spatial data, but will take longer to run)\n",
    "\n",
    "To learn more about the data available on the Analytics Engine, see our [data catalog](https://analytics.cal-adapt.org/data/). The [gettting_started.ipynb](../getting_started.ipynb) notebook contains additional explanations of the data."
   ]
  },
  {
   "cell_type": "code",
   "execution_count": null,
   "metadata": {
    "tags": []
   },
   "outputs": [],
   "source": [
    "selections = ckg.Select()"
   ]
  },
  {
   "cell_type": "code",
   "execution_count": null,
   "metadata": {
    "tags": []
   },
   "outputs": [],
   "source": [
    "selections.scenario_historical=[]\n",
    "selections.scenario_ssp=['SSP 3-7.0']\n",
    "selections.append_historical = False\n",
    "selections.variable = 'Air Temperature at 2m'\n",
    "selections.time_slice = (2015, 2100)\n",
    "selections.resolution = '9 km'\n",
    "selections.timescale = 'hourly'\n",
    "selections.units = 'degF'\n",
    "selections.downscaling_method = \"Dynamical\"\n",
    "selections.area_subset = 'CA counties'\n",
    "selections.cached_area = ['Sacramento County']\n",
    "selections.area_average = 'Yes'"
   ]
  },
  {
   "cell_type": "markdown",
   "metadata": {},
   "source": [
    "### Retrieve data"
   ]
  },
  {
   "cell_type": "markdown",
   "metadata": {},
   "source": [
    "Run `selections.retrieve()` to load the data selected above."
   ]
  },
  {
   "cell_type": "code",
   "execution_count": null,
   "metadata": {},
   "outputs": [],
   "source": [
    "hourly_data = selections.retrieve()"
   ]
  },
  {
   "cell_type": "markdown",
   "metadata": {},
   "source": [
    "For the following analysis, we will work with a subset of the data from just one model simulation:"
   ]
  },
  {
   "cell_type": "code",
   "execution_count": null,
   "metadata": {},
   "outputs": [],
   "source": [
    "hourly_data_subset = hourly_data.isel(simulation=0, scenario=0)"
   ]
  },
  {
   "cell_type": "markdown",
   "metadata": {},
   "source": [
    "To speed up the following computations, load the selected subset of data into memory. This step may take a few minutes to compute."
   ]
  },
  {
   "cell_type": "code",
   "execution_count": null,
   "metadata": {},
   "outputs": [],
   "source": [
    "hourly_data_subset = ck.load(hourly_data_subset)"
   ]
  },
  {
   "cell_type": "markdown",
   "metadata": {},
   "source": [
    "<a id='transform'></a>\n",
    "## Step 2: Get block maxima series for different event types\n",
    "\n",
    "To facilitate custom definitions of different types of extreme events, there are optional keyword arguments to the `get_block_maxima` function to pull the maximum annual value. The keyword options are:\n",
    "- `duration`: how long an event continuously lasts in hours (see example 2)\n",
    "- `groupby` and  `grouped_duration`: work together to define multi-day events (see examples 3 and 4)\n",
    "\n",
    "The following four examples show how to use these options to construct different types of events of interest. See section 3 for further analysis and discussion of these events."
   ]
  },
  {
   "cell_type": "markdown",
   "metadata": {},
   "source": [
    "### Example 1: hottest hour in each year\n",
    "The basic use case of `get_block_maxima` pulls the maximum value in each year of data, shown here:"
   ]
  },
  {
   "cell_type": "code",
   "execution_count": null,
   "metadata": {},
   "outputs": [],
   "source": [
    "ams = get_block_maxima(hourly_data_subset)"
   ]
  },
  {
   "cell_type": "markdown",
   "metadata": {},
   "source": [
    "Next, we can vizualize the annual maximum values that we just calculated:"
   ]
  },
  {
   "cell_type": "code",
   "execution_count": null,
   "metadata": {},
   "outputs": [],
   "source": [
    "ams.plot()\n",
    "plt.title('Hottest hour in each year')\n",
    "plt.show()"
   ]
  },
  {
   "cell_type": "markdown",
   "metadata": {},
   "source": [
    "### Example 2: the hottest continuous 3-hour event in each year\n",
    "Users may be interested in extremes that last longer than 1 hour. This example identifies the temperature value that corresponds to the hottest continuous 3-hour period in each year, using the optional `duration` argument. "
   ]
  },
  {
   "cell_type": "code",
   "execution_count": null,
   "metadata": {},
   "outputs": [],
   "source": [
    "ams_3h = get_block_maxima(\n",
    "    hourly_data_subset,\n",
    "    duration = (3, 'hour')\n",
    ")"
   ]
  },
  {
   "cell_type": "code",
   "execution_count": null,
   "metadata": {},
   "outputs": [],
   "source": [
    "ams_3h.plot()\n",
    "plt.title('Hottest 3-hour event in each year')\n",
    "plt.show()"
   ]
  },
  {
   "cell_type": "markdown",
   "metadata": {},
   "source": [
    "### Example 3: the hottest temperature that is reached 3 days in a row\n",
    "This example identifies the max temperature value that is reached for at least 1 hour each day for 3 days in a row, using the `groupby` and `grouped_duration` arguments."
   ]
  },
  {
   "cell_type": "code",
   "execution_count": null,
   "metadata": {},
   "outputs": [],
   "source": [
    "ams_3d = get_block_maxima(\n",
    "    hourly_data_subset,\n",
    "    groupby = (1, 'day'), \n",
    "    grouped_duration = (3, 'day')\n",
    ")"
   ]
  },
  {
   "cell_type": "markdown",
   "metadata": {},
   "source": [
    "#### Note: effective sample size\n",
    "In the above example we see a warning about the effective sample size (ESS) for this event type. Extreme value analysis relies on having enough data to characterize the extremes, which is complicated by the fact that hourly climate data are \"autocorrelated\", meaning that one hour of data is not independent from the previous hour. This inherent autocorrelation of timeseries data reduces the \"effective sample size\" of the data, which is an estimate of how many independent data values we have. \n",
    "\n",
    "As we specify types of extreme events lasting longer than one hour, the effective sample size of how many of these events there are in each year of data decreases. When the sample size is too small, the underlying assumptions for extreme value analysis may no longer be satisfied, which can result in biased estimates of the distributions of extreme values. This is why the code will display a warning if the average ESS in your blocks of data is less than 25. \n",
    "\n",
    "If you are only interested in identifying the maximum extreme value in each year of the data and do not plan to fit an extreme value distribution to the maximums, you can proceed with block size of 1 year, and can suppress the warning with the optional `check_ess=False`. \n",
    "\n",
    "However, if you will use these block maxima values for extreme value analysis and the sample size is too low, we recommend increasing the block size, shown in the following code cell. Here we pull the maximum event values in 2-year intervals, instead of annual maximums, using the additional `block_size` argument:"
   ]
  },
  {
   "cell_type": "code",
   "execution_count": null,
   "metadata": {},
   "outputs": [],
   "source": [
    "bms_3d = get_block_maxima(\n",
    "    hourly_data_subset,\n",
    "    extremes_type='max', \n",
    "    groupby=(1, 'day'), \n",
    "    grouped_duration = (3, 'day'),\n",
    "    block_size=2\n",
    ")"
   ]
  },
  {
   "cell_type": "code",
   "execution_count": null,
   "metadata": {},
   "outputs": [],
   "source": [
    "bms_3d.plot()\n",
    "plt.title('Hottest temperature reached 3 days in a row')\n",
    "plt.show()"
   ]
  },
  {
   "cell_type": "markdown",
   "metadata": {},
   "source": [
    "### Example 4: hottest temperature that is reached for 4 hours a day, for 3 days in a row\n",
    "This example identifies the max temperature value that is reached for at least 4 hours each day for 3 days in a row, using all three optional arguments `duration`, `groupby`, and `grouped_duration`."
   ]
  },
  {
   "cell_type": "code",
   "execution_count": null,
   "metadata": {},
   "outputs": [],
   "source": [
    "ams_4h3d = get_block_maxima(\n",
    "    hourly_data_subset,\n",
    "    duration = (4, 'hour'), \n",
    "    groupby = (1, 'day'), \n",
    "    grouped_duration = (3, 'day')\n",
    ")"
   ]
  },
  {
   "cell_type": "markdown",
   "metadata": {},
   "source": [
    "In this example event type, we also see the warning about low effective sample size. We will proceed with using a block size of 2 years for this event type as well:"
   ]
  },
  {
   "cell_type": "code",
   "execution_count": null,
   "metadata": {},
   "outputs": [],
   "source": [
    "bms_4h3d = get_block_maxima(\n",
    "    hourly_data_subset,\n",
    "    duration = (4, 'hour'), \n",
    "    groupby = (1, 'day'), \n",
    "    grouped_duration = (3, 'day'),\n",
    "    block_size = 2\n",
    ")"
   ]
  },
  {
   "cell_type": "code",
   "execution_count": null,
   "metadata": {},
   "outputs": [],
   "source": [
    "bms_4h3d.plot()\n",
    "plt.title('Hottest temperature reached for 4 hours a day, 3 days in a row')\n",
    "plt.show()"
   ]
  },
  {
   "cell_type": "markdown",
   "metadata": {},
   "source": [
    "## Step 3: Proceed with Extreme Value Analysis on the different event types\n",
    "\n",
    "Using the block maxima series calculated for each of the event types in Step 2, we can now calculate return values and probabilities for each of the four event types. Further discussion of these extreme value analysis functions can be found in the [threshold_basics.ipynb](../work-in-progress/threshold_basics.ipynb) notebook."
   ]
  },
  {
   "cell_type": "markdown",
   "metadata": {},
   "source": [
    "### 1-in-20 Return values\n",
    "What is the highest temperature value for each event type we expect to experience about once every 20 years? The following four code cells calculate the estimated 1-in-20 return values  for each of the four different event types. The `get_return_value()` function accepts the block maximum series data (computed for each of the four examples in step 2) as the first argument. Notice how the longer event types have lower return values--this represents the fact that extreme distributions for multi-day events will have lower temperature values than extreme distributions for single hour-long events."
   ]
  },
  {
   "cell_type": "markdown",
   "metadata": {},
   "source": [
    "**Return value for example 1, hottest hour:**"
   ]
  },
  {
   "cell_type": "code",
   "execution_count": null,
   "metadata": {},
   "outputs": [],
   "source": [
    "get_return_value(ams, return_period=20, multiple_points=False)"
   ]
  },
  {
   "cell_type": "markdown",
   "metadata": {},
   "source": [
    "**Return value for example 2, hottest 3-hour event:**"
   ]
  },
  {
   "cell_type": "code",
   "execution_count": null,
   "metadata": {},
   "outputs": [],
   "source": [
    "get_return_value(ams_3h, return_period=20, multiple_points=False)"
   ]
  },
  {
   "cell_type": "markdown",
   "metadata": {},
   "source": [
    "**Return value for example 3, hottest temperature reached 3 days in a row:**"
   ]
  },
  {
   "cell_type": "code",
   "execution_count": null,
   "metadata": {},
   "outputs": [],
   "source": [
    "get_return_value(bms_3d, return_period=20, multiple_points=False)"
   ]
  },
  {
   "cell_type": "markdown",
   "metadata": {},
   "source": [
    "**Return value for example 4, hottest temperature reached for 4 hours each day 3 days in a row:**"
   ]
  },
  {
   "cell_type": "code",
   "execution_count": null,
   "metadata": {},
   "outputs": [],
   "source": [
    "get_return_value(bms_4h3d, return_period=20, multiple_points=False)"
   ]
  },
  {
   "cell_type": "markdown",
   "metadata": {},
   "source": [
    "### Return periods\n",
    "About how often do we expect to experience an event exceeding 105F for each of the four defined event types? The `get_return_period` function returns the estimate, in years, of how frequent these events exceed 105F. Notice that the return period is larger for the longer event types. For example, we expect to experience 3 days in a row that reach 105F (example 3) less frequently than we expect to experience a single hour reaching 105F (example 1).\n",
    "\n",
    "*Note: if you are performing this analysis for an area other than Sacramento County, you may be interested in a temperature value different than 105F that is more relevant to the local climate.*"
   ]
  },
  {
   "cell_type": "markdown",
   "metadata": {},
   "source": [
    "**Return period for example 1:**"
   ]
  },
  {
   "cell_type": "code",
   "execution_count": null,
   "metadata": {},
   "outputs": [],
   "source": [
    "get_return_period(ams, return_value=105, multiple_points=False)"
   ]
  },
  {
   "cell_type": "markdown",
   "metadata": {},
   "source": [
    "**Return period for example 2:**"
   ]
  },
  {
   "cell_type": "code",
   "execution_count": null,
   "metadata": {},
   "outputs": [],
   "source": [
    "get_return_period(ams_3h, return_value=105, multiple_points=False)"
   ]
  },
  {
   "cell_type": "markdown",
   "metadata": {},
   "source": [
    "**Return period for example 3:**"
   ]
  },
  {
   "cell_type": "code",
   "execution_count": null,
   "metadata": {},
   "outputs": [],
   "source": [
    "get_return_period(bms_3d, return_value=105, multiple_points=False)"
   ]
  },
  {
   "cell_type": "markdown",
   "metadata": {},
   "source": [
    "**Return period for example 4:**"
   ]
  },
  {
   "cell_type": "code",
   "execution_count": null,
   "metadata": {
    "tags": []
   },
   "outputs": [],
   "source": [
    "get_return_period(bms_4h3d, return_value=105, multiple_points=False)"
   ]
  }
 ],
 "metadata": {
  "kernelspec": {
   "display_name": "Python 3 (ipykernel)",
   "language": "python",
   "name": "python3"
  },
  "language_info": {
   "codemirror_mode": {
    "name": "ipython",
    "version": 3
   },
   "file_extension": ".py",
   "mimetype": "text/x-python",
   "name": "python",
   "nbconvert_exporter": "python",
   "pygments_lexer": "ipython3",
   "version": "3.9.13"
  },
  "vscode": {
   "interpreter": {
    "hash": "eaee9dbdb2bee9c95df3dd98ac90037952958783396234bf4543cdd5e423e8bd"
   }
  }
 },
 "nbformat": 4,
 "nbformat_minor": 4
}
