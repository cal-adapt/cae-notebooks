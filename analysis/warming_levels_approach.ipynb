{
 "cells": [
  {
   "cell_type": "markdown",
   "metadata": {},
   "source": [
    "# Exploring the Differences Between a Traditional SSP Framework and a Global Warming Levels Approach"
   ]
  },
  {
   "cell_type": "markdown",
   "metadata": {},
   "source": [
    "In this notebook, we will explore the different scientific procedures that go behind two major approaches towards understanding regional global warming today:\n",
    "1. Traditional global warming approach using SSP's (Shared Socioeconomic Pathways)\n",
    "    - We will reference this approach as the **Traditional SSP Approach** throughout this notebook.\n",
    "2. New global warming approach using Warming Levels\n",
    "    - We will reference this approach as the **New GWL Approach** throughout this notebook."
   ]
  },
  {
   "cell_type": "markdown",
   "metadata": {},
   "source": [
    "From this notebook, we will understand:\n",
    "- The different approaches towards understanding global warming levels\n",
    "- Calculating a metric on both approaches' datasets to see what are the differences"
   ]
  },
  {
   "cell_type": "markdown",
   "metadata": {},
   "source": [
    "**Intended Application:** As a user, I want to  **<span style=\"color:#FF0000\">understand the differences between a traditional SSP approach and the new Global Warming Levels framework, and use cases where I would consider a Global Warming Levels framework over a traditional SSP approach.</span>**"
   ]
  },
  {
   "cell_type": "markdown",
   "metadata": {},
   "source": [
    "**Runtime**: With the default settings, this notebook takes approximately **10 minutes** to run from start to finish. Modifications to selections may increase the runtime."
   ]
  },
  {
   "cell_type": "markdown",
   "metadata": {},
   "source": [
    "## Step 1: Conceptual explanation of GWL"
   ]
  },
  {
   "cell_type": "markdown",
   "metadata": {},
   "source": [
    "**TODO: Insert conceptual explanation of GWL here**"
   ]
  },
  {
   "cell_type": "markdown",
   "metadata": {},
   "source": [
    "## Step 2: Using AE to load climate data on GWLs"
   ]
  },
  {
   "cell_type": "markdown",
   "metadata": {},
   "source": [
    "#### Importing libraries and helpers"
   ]
  },
  {
   "cell_type": "code",
   "execution_count": null,
   "metadata": {},
   "outputs": [],
   "source": [
    "import numpy as np\n",
    "import matplotlib.pyplot as plt\n",
    "import warnings\n",
    "warnings.filterwarnings('ignore')\n",
    "from climakitae.core.data_load import load\n",
    "from climakitae.util.utils import add_dummy_time_to_wl\n",
    "from climakitae.util.unit_conversions import convert_units"
   ]
  },
  {
   "cell_type": "markdown",
   "metadata": {},
   "source": [
    "In this notebook, we'll be demonstrating two methods to grab Global Warming Level data from `climakitae`: `get_data` and `ClimateData`. Both methods are valid for retrieving our climate data. For more information about how both of these methods work, check out <a href=\"https://github.com/cal-adapt/cae-notebooks/blob/main/data-access/basic_data_access.ipynb\" target=\"_blank\" style=\"color: blue; text-decoration: underline;\">this notebook</a>.\n"
   ]
  },
  {
   "cell_type": "markdown",
   "metadata": {},
   "source": [
    "**In this notebook, we will be using warming levels 0.8 and 2.0 to compare a historical climate and a future climate respectively.**\n",
    "\n",
    "We will be grabbing the following data for demonstration purposes:\n",
    "- Maximum air temperature at 2m\n",
    "- LOCA2-downscaled\n",
    "- Monthly time frequency\n",
    "- 3 km\n",
    "- Warming Levels: 0.8 and 2.0, with a warming level window of 15 years."
   ]
  },
  {
   "cell_type": "markdown",
   "metadata": {},
   "source": [
    "### Method 1: `get_data`"
   ]
  },
  {
   "cell_type": "markdown",
   "metadata": {},
   "source": [
    "First, we'll go through an example that retrieves data using `get_data`."
   ]
  },
  {
   "cell_type": "code",
   "execution_count": null,
   "metadata": {},
   "outputs": [],
   "source": [
    "from climakitae.core.data_interface import get_data\n",
    "gwl_data = get_data(\n",
    "    variable=\"Maximum air temperature at 2m\",\n",
    "    resolution=\"3 km\",\n",
    "    timescale=\"monthly\",\n",
    "    downscaling_method=\"Statistical\",\n",
    "    approach=\"Warming Level\",\n",
    "    warming_level=[0.8, 2.0]\n",
    ")"
   ]
  },
  {
   "cell_type": "markdown",
   "metadata": {},
   "source": [
    "### Method 2: `ClimateData`"
   ]
  },
  {
   "cell_type": "markdown",
   "metadata": {},
   "source": [
    "Now, we'll go through an example retrieving the same data using the newer `ClimateData` class."
   ]
  },
  {
   "cell_type": "code",
   "execution_count": null,
   "metadata": {},
   "outputs": [],
   "source": [
    "from climakitae.new_core.user_interface import ClimateData\n",
    "cd = ClimateData()"
   ]
  },
  {
   "cell_type": "markdown",
   "metadata": {},
   "source": [
    "Above, we've created a `ClimateData` object called `cd`, which we will use to grab GWL (Global Warming Level approach) data below."
   ]
  },
  {
   "cell_type": "code",
   "execution_count": null,
   "metadata": {},
   "outputs": [],
   "source": [
    "# Here is an example of loading data at 2 specific warming levels (0.8 and 2.0) with a 15-year window for Max Temp.\n",
    "gwl_data = (cd\n",
    "    .catalog(\"cadcat\") \n",
    "    .activity_id(\"LOCA2\")   # Statistical downscaling\n",
    "    .table_id(\"mon\")        # Looking at `monthly` data\n",
    "    .grid_label(\"d03\")      # Looking at `45 km` data\n",
    "    .variable(\"tasmax\")     # Grabbing the maximum temperature variable\n",
    "    .processes({            # Centering our dataset around GWLs\n",
    "        \"warming_level\": {\n",
    "            \"warming_levels\": [0.8, 2.0], # Available warming levels include: 0.8, 1.5, 2.0, 2.5, 3.0, 3.5, 4.0\n",
    "            \"warming_level_window\": 15, # Default is 15\n",
    "            # \"warming_level_months\": [6, 7, 8], # Optional: specify months for seasonal averages, still WIP development\n",
    "        },\n",
    "    })\n",
    "    .get()\n",
    ")"
   ]
  },
  {
   "cell_type": "markdown",
   "metadata": {},
   "source": [
    "**You'll notice how we did not have to specify an SSP to choose in either example**. \n",
    "\n",
    "This is inline with what we discussed about GWLs above, that *one of the benefits of a GWL approach means not needing to choose an SSP scenario*."
   ]
  },
  {
   "cell_type": "markdown",
   "metadata": {},
   "source": [
    "We are also not limited to the parameters listed above. We'll retrieve another set of Global Warming Level data with totally different parameters."
   ]
  },
  {
   "cell_type": "code",
   "execution_count": null,
   "metadata": {},
   "outputs": [],
   "source": [
    "other_gwl_data = (cd\n",
    "    .catalog(\"cadcat\")    # Same catalog of data as before\n",
    "    .activity_id(\"WRF\")   # Dynamically-downscaled data\n",
    "    .table_id(\"day\")      # Daily data\n",
    "    .grid_label(\"d02\")    # 9 km data\n",
    "    .variable(\"prec\")     # Precipitation data\n",
    "    .processes({         \n",
    "        \"warming_level\": {\n",
    "            \"warming_levels\": [1.5, 3.0], # Available warming levels include: 0.8, 1.5, 2.0, 2.5, 3.0, 3.5, 4.0\n",
    "            \"warming_level_window\": 10, # Number of years (+/-) around warming level to retrieve\n",
    "        },\n",
    "    })\n",
    "    .get()\n",
    ")"
   ]
  },
  {
   "cell_type": "markdown",
   "metadata": {},
   "source": [
    "### What does this data look like?"
   ]
  },
  {
   "cell_type": "markdown",
   "metadata": {},
   "source": [
    "Let's take a look at the objects and some quick visualizations of the data."
   ]
  },
  {
   "cell_type": "code",
   "execution_count": null,
   "metadata": {},
   "outputs": [],
   "source": [
    "# Looking at the `gwl_data` variable\n",
    "gwl_data"
   ]
  },
  {
   "cell_type": "markdown",
   "metadata": {},
   "source": [
    "**ASIDE: One key difference between the `gwl_data` object returned by `ClimateData` and `get_data` is that `ClimateData` will return a xr.Dataset, while `get_data` will return a xr.DataArray. You will just need to dot index (i.e. `gwl_data.tasmax`) into the xr.Dataset to get the DataArray information from above.**"
   ]
  },
  {
   "cell_type": "markdown",
   "metadata": {},
   "source": [
    "You'll notice that there are two dimensions and one coordinate that are not common in climate data retrieved using an SSP-approach:\n",
    "1. `warming_level`: This dimension denotes which warming levels the data is centered around, and in this case, we can see the values as 0.8 and 2.0. These are the same as the WLs we chose above.\n",
    "2. `time_delta`: This dimension represents the offset in timesteps from the `centered_year` of a given simulation. Since each simulation spans 30 years, we can align and stack them along a common `time_delta` axis. Negative values indicate timesteps before the `centered_year`, while positive values indicate timesteps after it.\n",
    "3. `centered_year`: The year that a given simulation reaches a certain `warming_level`."
   ]
  },
  {
   "cell_type": "markdown",
   "metadata": {},
   "source": [
    "Now, let's take a quick glance at what this data looks like in a couple of figures:"
   ]
  },
  {
   "cell_type": "code",
   "execution_count": null,
   "metadata": {},
   "outputs": [],
   "source": [
    "# Plotting the first timestep of GWL max temp data in a side-by-side plot\n",
    "from plot_helpers import fig1, lighter_r_rev\n",
    "\n",
    "# Selecting the first simulation, then converting temperature to degF and averaging across the WL data\n",
    "arr = convert_units(gwl_data.tasmax.isel(sim=0), 'degF').mean(dim='time_delta').compute()\n",
    "\n",
    "# Finding the difference between WL 2.0 and WL 0.8\n",
    "diff = arr.sel(warming_level=arr.warming_level.values[-1]) - arr.sel(\n",
    "    warming_level=arr.warming_level.values[0]\n",
    ")"
   ]
  },
  {
   "cell_type": "code",
   "execution_count": null,
   "metadata": {},
   "outputs": [],
   "source": [
    "# Using a plotting helper to plot the average warming and a delta plot\n",
    "fig1(arr, diff)"
   ]
  },
  {
   "cell_type": "markdown",
   "metadata": {},
   "source": [
    "#### **It's STRONGLY recommended to take the deltas of warming levels before aggregating across simulations**."
   ]
  },
  {
   "cell_type": "markdown",
   "metadata": {},
   "source": [
    "Below is another example demonstrating how we recommend doing these types of delta analyses. "
   ]
  },
  {
   "cell_type": "code",
   "execution_count": null,
   "metadata": {},
   "outputs": [],
   "source": [
    "# Here, we're taking a subset of simulations to look at (just the first 10 simulations).\n",
    "subset_gwl_data = gwl_data.isel(sim=range(10))\n",
    "\n",
    "# Then, we TAKE THE DIFFERENCE between warming levels before aggregating across simulations.\n",
    "wl_diff = subset_gwl_data.sel(warming_level=2.0) - subset_gwl_data.sel(warming_level=0.8)\n",
    "\n",
    "# Finally, we average the differences across simulations and time.\n",
    "avg_diff = wl_diff.mean(dim=['sim', 'time_delta'])"
   ]
  },
  {
   "cell_type": "code",
   "execution_count": null,
   "metadata": {},
   "outputs": [],
   "source": [
    "# Plot the difference to see what it looks like\n",
    "p = avg_diff.tasmax.plot(cmap=lighter_r_rev)\n",
    "p.colorbar.set_label(\"Δ Tasmax (°F)\")\n",
    "plt.title('Avg Max Temp Diff between WL 2.0 and\\nWL 0.8 of 10 LOCA2 Simulations')\n",
    "plt.show()"
   ]
  },
  {
   "cell_type": "markdown",
   "metadata": {},
   "source": [
    "## Step 3: Using AE to load climate data for target-year planning"
   ]
  },
  {
   "cell_type": "markdown",
   "metadata": {},
   "source": [
    "Now that we've seen a GWL approach in action, let's go back to an SSP-approach and grab data using that approach.\n",
    "\n",
    "But in order to do that, we need to know **when** to grab this data. What are `GWL 2.0 and 0.8` in an SSP-approach? Fortunately, we have a tool to answer this very question.\n",
    "\n",
    "The `get_year_at_gwl` tool translates GWLs to years using IPCC trajectories. If you're interested in learning more about how these tools work, check out the following notebook that dives deeper into its usage: **TODO: FILL LINK HERE ONCE NOTEBOOK IS MERGED**"
   ]
  },
  {
   "cell_type": "code",
   "execution_count": null,
   "metadata": {},
   "outputs": [],
   "source": [
    "from climakitae.util.warming_levels import get_year_at_gwl"
   ]
  },
  {
   "cell_type": "markdown",
   "metadata": {},
   "source": [
    "#### **Grabbing SSP-equivalent data of WL 0.8**"
   ]
  },
  {
   "cell_type": "code",
   "execution_count": null,
   "metadata": {},
   "outputs": [],
   "source": [
    "# Let's see what year the world would reach 0.8 degrees celsius of warming above pre-industrial levels at different SSP trajectories\n",
    "get_year_at_gwl(0.8, 'all')"
   ]
  },
  {
   "cell_type": "markdown",
   "metadata": {},
   "source": [
    "We'll only be looking at the historical row for WL 0.8, as no simulations reach 0.8 degrees of warming before 2015 (when SSP data begins). \n",
    "\n",
    "We'll take a 30-year time slice around the year **2002**."
   ]
  },
  {
   "cell_type": "code",
   "execution_count": null,
   "metadata": {},
   "outputs": [],
   "source": [
    "# Here, we'll use the `ClimateData` object again now to retrieve SSP data.\n",
    "time_data_08 = (cd\n",
    "    .catalog(\"cadcat\")\n",
    "    .activity_id(\"LOCA2\")                    # Statistical downscaling\n",
    "    .table_id(\"mon\")                         # Looking at `monthly` data\n",
    "    .grid_label(\"d03\")                       # Looking at `45 km` data\n",
    "    .variable(\"pr\")                          # Grabbing the precipitation variable (will be used later)\n",
    "    .experiment_id([\"historical\", \"ssp370\"]) # Grabbing historical + SSP 3-7.0 data\n",
    "    .processes({\n",
    "        \"time_slice\": ('1987-01-01', '2016-12-31'), # Only selecting data from 1987 to 2017 (a 30-year slice around the year 2002).\n",
    "    })\n",
    "    .get()\n",
    ")"
   ]
  },
  {
   "cell_type": "markdown",
   "metadata": {},
   "source": [
    "#### **Grabbing SSP-equivalent data of WL 2.0**"
   ]
  },
  {
   "cell_type": "code",
   "execution_count": null,
   "metadata": {},
   "outputs": [],
   "source": [
    "# Let's see what year the world would reach 2.0 degrees celsius of warming above pre-industrial levels at different SSP trajectories\n",
    "get_year_at_gwl(2.0, 'all')"
   ]
  },
  {
   "cell_type": "markdown",
   "metadata": {},
   "source": [
    "Let's use SSP 3-7.0 for comparison, and take a 30-year time slice of data around the year **2047** (based on the table above)."
   ]
  },
  {
   "cell_type": "code",
   "execution_count": null,
   "metadata": {},
   "outputs": [],
   "source": [
    "# Here, we'll use the `ClimateData` object again now to retrieve SSP data.\n",
    "time_data_20 = (cd\n",
    "    .catalog(\"cadcat\")\n",
    "    .activity_id(\"LOCA2\")                    # Statistical downscaling\n",
    "    .table_id(\"mon\")                         # Looking at `monthly` data\n",
    "    .grid_label(\"d03\")                       # Looking at `45 km` data\n",
    "    .variable(\"pr\")                          # Grabbing the precipitation variable (will be used later)\n",
    "    .experiment_id([\"historical\", \"ssp370\"]) # Grabbing historical + SSP 3-7.0 data\n",
    "    .processes({\n",
    "        \"time_slice\": ('2033-01-01', '2062-12-31'), # Only selecting data from 2033 to 2062 (a 30-year slice around the year 2047).\n",
    "    })\n",
    "    .get()\n",
    ")"
   ]
  },
  {
   "cell_type": "markdown",
   "metadata": {},
   "source": [
    "## Step 4: Do some analysis on the data we loaded"
   ]
  },
  {
   "cell_type": "markdown",
   "metadata": {},
   "source": [
    "For the next two sections, we are going to conduct a comparison of the two datasets by analyzing *extreme precipitation events.* More specifically, we will try to answer the following question:\n",
    "<br>\n",
    "<br>\n",
    "\n",
    "<h4>&emsp;How might extreme precipitation events change under a 0.8°C and 2.0°C warming world, for Half Dome in Yosemite National Park?</h4>"
   ]
  },
  {
   "cell_type": "markdown",
   "metadata": {},
   "source": [
    "We will conduct a comparison between the 0.8°C and 2.0°C datasets, and do a corresponding time-based component comparison, to further illustrate the usefulness of a GWL approach."
   ]
  },
  {
   "cell_type": "markdown",
   "metadata": {},
   "source": [
    "We're going to look at extreme precipitation events for Steps 4 and 5 to further illustrate the usefulness of a GWL approach."
   ]
  },
  {
   "cell_type": "code",
   "execution_count": null,
   "metadata": {},
   "outputs": [],
   "source": [
    "precip_gwl_data = (cd\n",
    "    .catalog(\"cadcat\")    # Same catalog of data as before\n",
    "    .activity_id(\"LOCA2\") # Statistically-downscaled data\n",
    "    .table_id(\"mon\")      # Monthly data\n",
    "    .grid_label(\"d03\")    # 3 km data\n",
    "    .variable(\"pr\")       # Precipitation data\n",
    "    .processes({         \n",
    "        \"warming_level\": {\n",
    "            \"warming_levels\": [0.8, 2.0], # Available warming levels include: 0.8, 1.5, 2.0, 2.5, 3.0, 3.5, 4.0\n",
    "            \"warming_level_window\": 15, # Number of years (+/-) around warming level to retrieve\n",
    "        },\n",
    "    })\n",
    "    .get()\n",
    ")"
   ]
  },
  {
   "cell_type": "code",
   "execution_count": null,
   "metadata": {},
   "outputs": [],
   "source": [
    "# We're going to clip our data to the gridcell of interest\n",
    "lat = 37.745899\n",
    "lon = -119.533197\n",
    "\n",
    "gwl_halfdome = precip_gwl_data.sel(lat=lat, lon=lon, method='nearest')\n",
    "time_08_halfdome = time_data_08.sel(lat=lat, lon=lon, method='nearest')\n",
    "time_20_halfdome = time_data_20.sel(lat=lat, lon=lon, method='nearest')"
   ]
  },
  {
   "cell_type": "markdown",
   "metadata": {},
   "source": [
    "Now that our data is clipped, let's analyze both our GWL data and our SSP data."
   ]
  },
  {
   "cell_type": "markdown",
   "metadata": {},
   "source": [
    "### GWL-approach analysis"
   ]
  },
  {
   "cell_type": "markdown",
   "metadata": {},
   "source": [
    "We will be using a function called `add_dummy_time_to_wl`. This function replaces the `time_delta` axis in GWL data with a dummy time axis (starting from 2000), in order to do time-based operations.\n",
    "\n",
    "We will take a look at:\n",
    "1. The 99th percentile of historical precipitation events.\n",
    "2. Use that as a threshold for determining the future extreme precipitation events."
   ]
  },
  {
   "cell_type": "code",
   "execution_count": null,
   "metadata": {},
   "outputs": [],
   "source": [
    "# Setting some params for both approaches\n",
    "data_freq = \"monthly\"\n",
    "q = 0.999"
   ]
  },
  {
   "cell_type": "code",
   "execution_count": null,
   "metadata": {},
   "outputs": [],
   "source": [
    "# Using the `add_dummy_time_to_wl` function so that we can do other time-based operations later.\n",
    "gwl_halfdome_dummytime = add_dummy_time_to_wl(gwl_halfdome.pr, freq_name=data_freq)\n",
    "gwl_halfdome_dummytime.attrs[\"frequency\"] = data_freq\n",
    "gwl_inches = convert_units(gwl_halfdome_dummytime, 'inches') # Converting to inches of rain"
   ]
  },
  {
   "cell_type": "code",
   "execution_count": null,
   "metadata": {},
   "outputs": [],
   "source": [
    "# 1. Find the 99th percentile of historical precipitation events\n",
    "hist_q = gwl_inches.sel(warming_level=0.8).quantile(q=q, dim='time')"
   ]
  },
  {
   "cell_type": "code",
   "execution_count": null,
   "metadata": {},
   "outputs": [],
   "source": [
    "# 2. Determine future extreme preciptiation events\n",
    "future_extreme_gwl = gwl_inches.sel(warming_level=2.0).where(gwl_inches.sel(warming_level=2.0) > hist_q).compute()"
   ]
  },
  {
   "cell_type": "markdown",
   "metadata": {},
   "source": [
    "### Time-based approach analysis"
   ]
  },
  {
   "cell_type": "markdown",
   "metadata": {},
   "source": [
    "With a time-based approach, we will similarly look at:\n",
    "1. The 99.9th percentile of historical precipitation events (1987-2016)\n",
    "2. Use that threshold for determining future extreme precipitation events (2033-2062)"
   ]
  },
  {
   "cell_type": "code",
   "execution_count": null,
   "metadata": {},
   "outputs": [],
   "source": [
    "# 1. Find the 99.9th percentile of historical precipitation events\n",
    "time_08_halfdome.pr.attrs[\"frequency\"] = data_freq\n",
    "hist_time_inches = convert_units(time_08_halfdome.pr, 'inches')\n",
    "hist_q = hist_time_inches.quantile(q=q, dim='time')"
   ]
  },
  {
   "cell_type": "code",
   "execution_count": null,
   "metadata": {},
   "outputs": [],
   "source": [
    "# 2. Determine future extreme preciptiation events\n",
    "time_20_halfdome.pr.attrs[\"frequency\"] = data_freq\n",
    "future_time_inches = convert_units(time_20_halfdome.pr, 'inches')\n",
    "future_extreme_time = future_time_inches.where(future_time_inches > hist_q).compute()"
   ]
  },
  {
   "cell_type": "markdown",
   "metadata": {},
   "source": [
    "## Step 5: Illustrating differences between GWL and target-year planning"
   ]
  },
  {
   "cell_type": "code",
   "execution_count": null,
   "metadata": {},
   "outputs": [],
   "source": [
    "# Plotting the differences between GWL and target-year planning\n",
    "plt.figure(figsize=(6, 3))\n",
    "future_extreme_gwl.plot.hist(width=0.5, bins = np.arange(10, 40, 0.5), alpha=0.6, label='GWL')\n",
    "future_extreme_time.plot.hist(width=0.5, bins = np.arange(10, 40, 0.5), alpha=0.6, label='Target-Year Planning')\n",
    "plt.title('Comparing Extreme Precipitation\\n by GWL vs Time-based Approach')\n",
    "plt.xlabel('Inches of Rain')\n",
    "plt.ylabel('Count of Months')\n",
    "plt.legend()\n",
    "plt.show();"
   ]
  },
  {
   "cell_type": "markdown",
   "metadata": {},
   "source": [
    "As we can see from the above plot, there are visually more counts of extreme precipitation events under a GWL approach than a target-year approach. By using a GWL approach, we gain access to a larger set of future extreme precipitation events, allowing for more detailed examination and helping Half Dome better prepare for such extremes.\n",
    "\n",
    "Extreme event analysis is particularly well-suited to a GWL approach, since having a larger sample of extreme events is essential for robust climate assessments. More samples improve statistical reliability, enhance characterization of rare events, and provide stronger insights into the potential impacts of future precipitation extremes."
   ]
  },
  {
   "cell_type": "markdown",
   "metadata": {},
   "source": [
    "**If you're interested in learning more about use-cases when you'd want to use a Global Warming Level approach over a time-based approach, check out our guidance <a href=\"https://analytics.cal-adapt.org/guidance/using_in_decision_making/#how-should-a-user-choose-between-global-warming-levels-and-a-time-based-approach-to-planning\" target=\"_blank\" style=\"color: blue; text-decoration: underline;\">here</a> for more details.**"
   ]
  }
 ],
 "metadata": {
  "kernelspec": {
   "display_name": "Python 3 (ipykernel)",
   "language": "python",
   "name": "python3"
  },
  "language_info": {
   "codemirror_mode": {
    "name": "ipython",
    "version": 3
   },
   "file_extension": ".py",
   "mimetype": "text/x-python",
   "name": "python",
   "nbconvert_exporter": "python",
   "pygments_lexer": "ipython3",
   "version": "3.12.10"
  }
 },
 "nbformat": 4,
 "nbformat_minor": 4
}
