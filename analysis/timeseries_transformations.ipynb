{
 "cells": [
  {
   "cell_type": "markdown",
   "id": "15c0a6fa-0468-4b54-b6bc-9148ff425c5d",
   "metadata": {},
   "source": [
    "# Cal-Adapt Analytics Engine: Timeseries Transformations\n",
    "\n",
    "**Intended Application**: As a user, I want to **<span style=\"color:#FF0000\">analyze climate timeseries data</span>** by:\n",
    "1. Computing trends of importance to my region of interest in a climatologically-appropriate manner\n",
    "\n",
    "**Runtime**: With the default settings, this notebook takes approximately **less than 1 minute** to run from start to finish. Modifications to selections may increase the runtime.\n",
    "\n",
    "## Step 0: Setup"
   ]
  },
  {
   "cell_type": "code",
   "execution_count": null,
   "id": "8ef193b0-5de8-4105-b0b5-9eb4e1831fa2",
   "metadata": {
    "tags": []
   },
   "outputs": [],
   "source": [
    "import climakitae as ck\n",
    "import climakitaegui as ckg"
   ]
  },
  {
   "cell_type": "markdown",
   "id": "c1ff8a1c-a590-4266-af3f-862f2181c065",
   "metadata": {},
   "source": [
    "## Step 1: Select\n",
    "In order to work with the timeseries tools, select `Historical Climate` and `one of the SSP timeseries options`. The historical data will be automatically appended to a SSP time series when both are selected, and select \"yes\" for `area averaging`.\n",
    "\n",
    "To learn more about the data available on the Analytics Engine, [see our data catalog](https://analytics.cal-adapt.org/data/). "
   ]
  },
  {
   "cell_type": "code",
   "execution_count": null,
   "id": "5c224921-529d-4742-a2db-fd8f89aa2162",
   "metadata": {},
   "outputs": [],
   "source": [
    "selections = ckg.Select()\n",
    "selections.area_average = 'Yes'\n",
    "selections.scenario_ssp = ['SSP 3-7.0']\n",
    "selections.show()"
   ]
  },
  {
   "cell_type": "markdown",
   "id": "eca30468-7387-459d-846e-2990a9845cd2",
   "metadata": {},
   "source": [
    "## Step 2: Retrieve"
   ]
  },
  {
   "cell_type": "code",
   "execution_count": null,
   "id": "2f0c820e-6122-4eef-b682-f31fe380b31b",
   "metadata": {},
   "outputs": [],
   "source": [
    "my_data = selections.retrieve()"
   ]
  },
  {
   "cell_type": "code",
   "execution_count": null,
   "id": "b9b00682-2852-4249-a1ac-6255c5ee47ce",
   "metadata": {},
   "outputs": [],
   "source": [
    "my_data"
   ]
  },
  {
   "cell_type": "markdown",
   "id": "6adfd743-aef3-46b9-9ddf-e5d63dac7773",
   "metadata": {},
   "source": [
    "For the timeseries 'explore' function, we first need to load the dataset, so that the subsequent operations will be speedy. To do this, we'll use the `ck.load()` function in climakitae.\n",
    "\n",
    "The `retrieve` step above previews, but does not compute, the aggregation of all the selected data into timeseries. This may take a few minutes."
   ]
  },
  {
   "cell_type": "code",
   "execution_count": null,
   "id": "00e95422-45e6-444f-b150-897b37937874",
   "metadata": {},
   "outputs": [],
   "source": [
    "my_data = ck.load(my_data)"
   ]
  },
  {
   "cell_type": "markdown",
   "id": "5aeafe33-9dca-4e15-ac85-cb5a40257de9",
   "metadata": {},
   "source": [
    "## Steps 3 & 4: Visualize and Transform"
   ]
  },
  {
   "cell_type": "code",
   "execution_count": null,
   "id": "b9f482ab-0609-43b9-9e60-de1c0e1b2cb9",
   "metadata": {},
   "outputs": [],
   "source": [
    "import climakitaegui.explore.timeseries as tst\n",
    "timeseries = tst.TimeSeries(my_data)"
   ]
  },
  {
   "cell_type": "markdown",
   "id": "59ac5d9a-d4fb-4747-bb45-43bb398a835c",
   "metadata": {},
   "source": [
    "Preview various transforms on the data in real time. The below panel walks through several options for transforming your time series, such as:\n",
    "- Comparing the difference between the variable of interest and a 30-year historical baseline of January 1, 1981 to December 31, 2010. You can also select your own baseline range of interest out to 12/31/2021.\n",
    "- Removing the seasonal cycle (removing the mean monthly signal in each month) to view within-year patterns independent from the impact of seasonality.\n",
    "- Smooth your timeseries to remove noise with a running average, by specifying the number of timesteps to average over (for example you may want to average over 1, 3, 5, or 10 years). This option is only recommended if you want to examine changes in mean conditions.\n",
    "- Choose the disaggregate into four seasons option to examine patterns in a given season (data is grouped into December-January-February, March-April-May, June-July-August, or September-October-November, which can be toggled between in a dropdown menu at the bottom of the panel).\n",
    "\n",
    "You may also choose to explore patterns in the minimum, maximum, or an extreme of your choice (defined by the percentile slider: e.g. temperatures above the 90th percentile)\n",
    "- If you choose to look at extremes, you can change the resampling window and period to assess how extreme a pattern is over a time period of your own choosing\n",
    "    - For example, you may want to examine the annual minimum, in which we would recommend selecting “min”, 1 for the window, and “years” for the resample period. \n",
    "    - Likewise, if you were interested in the decadal maximum, you would select “max”, 10 for the window, and “years” for the period\n",
    "\n",
    "Examples of climatological interest: \n",
    "- Hourly: Consider 6, 12, or 24 hour events\n",
    "- Daily: Consider 3 day (heat wave length events), 7 day (week long), 14 day (biweekly), or 30 day events\n",
    "- Monthly: Consider sub-annual and seasonal scales, where 3, 6, 12 months could represent seasonal or dry/wet season interest periods\n",
    "- Yearly: Consider 5, 10 year intervals and beyond to assess long-term climatology trends\n",
    "\n",
    "Please note, the figure may take a few minutes to update with your selections. "
   ]
  },
  {
   "cell_type": "code",
   "execution_count": null,
   "id": "d5f2c6ca-410b-432b-bed4-cd1c8f3e70c3",
   "metadata": {},
   "outputs": [],
   "source": [
    "timeseries.explore()"
   ]
  },
  {
   "cell_type": "markdown",
   "id": "1263b30d-9bca-4344-b70f-245bbd7c8315",
   "metadata": {
    "tags": []
   },
   "source": [
    "And then output whatever the current state is to another variable:"
   ]
  },
  {
   "cell_type": "code",
   "execution_count": null,
   "id": "64b01589-78ba-487d-8c51-7a69e4de3544",
   "metadata": {},
   "outputs": [],
   "source": [
    "transformed = timeseries.output_current()"
   ]
  },
  {
   "cell_type": "code",
   "execution_count": null,
   "id": "d4ec278e-13c0-4d4a-af28-1db20e188112",
   "metadata": {},
   "outputs": [],
   "source": [
    "transformed"
   ]
  },
  {
   "cell_type": "markdown",
   "id": "2adac189-00bb-4f77-acd5-cce37b9e72a9",
   "metadata": {},
   "source": [
    "## Step 5: Export\n",
    "\n",
    "To save data as a file, call `export` and input your desired\n",
    "1) data to export – an [xarray DataArray or Dataset](https://docs.xarray.dev/en/stable/user-guide/data-structures.html), as output by e.g. selections.retrieve()\n",
    "2) output file name (without file extension)\n",
    "3) file format (\"NetCDF\" or \"CSV\")\n",
    "\n",
    "To learn more about the file format options, see [getting_started.ipynb](getting_started.ipynb)."
   ]
  },
  {
   "cell_type": "code",
   "execution_count": null,
   "id": "3cdc0db0-40dc-4aec-9020-3763df604fe9",
   "metadata": {
    "tags": []
   },
   "outputs": [],
   "source": [
    "ck.export(transformed, \"my_filename\", \"NetCDF\")"
   ]
  }
 ],
 "metadata": {
  "kernelspec": {
   "display_name": "Python 3 (ipykernel)",
   "language": "python",
   "name": "python3"
  },
  "language_info": {
   "codemirror_mode": {
    "name": "ipython",
    "version": 3
   },
   "file_extension": ".py",
   "mimetype": "text/x-python",
   "name": "python",
   "nbconvert_exporter": "python",
   "pygments_lexer": "ipython3",
   "version": "3.9.13"
  }
 },
 "nbformat": 4,
 "nbformat_minor": 5
}
