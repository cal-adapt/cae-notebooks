{
 "cells": [
  {
   "cell_type": "markdown",
   "id": "703c8f97-c8b2-4814-bb44-56427b7df722",
   "metadata": {},
   "source": [
    "# Exploring Uncertainty in Climate Data"
   ]
  },
  {
   "cell_type": "markdown",
   "id": "424a4c4f-812e-411b-b413-5022671b0149",
   "metadata": {},
   "source": [
    "There are several kinds of scientific uncertainty that arise when working with long-term projections of future climates:\n",
    "1. **Model Uncertainty**, which illustrates the differences between different models (namely, how model physics, settings, or parameters can change the outcome)\n",
    "2. **Internal Variability**, which represents the variations inherent within the climate system itself\n",
    "3. **Scenario Uncertainty**, which arises from differences in outcomes between emissions trajectories.\n",
    "\n",
    "This notebook explores **Model Uncertainty** in the Cal-Adapt: Analytics Engine by focusing on **temperature trends** across simulations. We also compare the suite of models currently available in the [Cal-Adapt Data Catalog](https://analytics.cal-adapt.org/data/) to the full set of CMIP6 models to illustrate the differences between our models and all available models.\n",
    "\n",
    "**Intended Application**: As a user, I want to understand when <span style=\"color:#FF0000\">**taking a mean across models is appropriate for my research question**<span style=\"color:#000000\">, by learning about:\n",
    "1. The wide range of possibilities for the end of century across all available CMIP6 models\n",
    "2. What kinds of questions can be answered with the multi-model mean (qualitative), and which cannot (quantitative)\n",
    "3. How the Analytics Engine models compare to all available CMIP6 models\n",
    "    \n",
    "**Terms used in this notebook**:  \n",
    "- **Ensemble member**: When a given model is run multiple times, we call the group of runs an *ensemble*. Each member of that ensemble represents a distinct realization featuring its own combination of model parameters.\n",
    "- **Multi-model mean**: The average response across all models.\n",
    "    \n",
    "**Runtime**: With the default settings, this notebook takes approximately **less than 1 minute** to run from start to finish. Modifications to selections may increase the runtime."
   ]
  },
  {
   "cell_type": "markdown",
   "id": "734ed991-6e06-406b-8a97-c25043a17641",
   "metadata": {},
   "source": [
    "## Step 0: Setup and CMIP6 data processing\n",
    "Import useful packages and libraries. "
   ]
  },
  {
   "cell_type": "code",
   "execution_count": null,
   "id": "e2d43c16-7e00-4df9-9423-2b9e760de696",
   "metadata": {
    "tags": []
   },
   "outputs": [],
   "source": [
    "import climakitae as ck\n",
    "import xarray as xr\n",
    "import pandas as pd\n",
    "import numpy as np\n",
    "import cartopy.crs as ccrs\n",
    "import holoviews as hv\n",
    "import hvplot.xarray\n",
    "from climakitae.util.utils import read_csv_file\n",
    "\n",
    "import warnings\n",
    "warnings.filterwarnings(\"ignore\")"
   ]
  },
  {
   "cell_type": "markdown",
   "id": "cb604802-4492-438d-a8d2-26af499c3312",
   "metadata": {},
   "source": [
    "First, we will want to grab the regridded CMIP6 models that have both historical and SSP3-7.0 simulations by setting specific data options in order to assess air temperature trends for California. To do this, we will want to grab monthly near-surface air temperature data, and subset the global data for the state of California.\n",
    "\n",
    "The next few cells process the data into a consistent format for our use."
   ]
  },
  {
   "cell_type": "code",
   "execution_count": null,
   "id": "cfd8143d-7a64-4c7c-8bba-a5e0d675ffd9",
   "metadata": {},
   "outputs": [],
   "source": [
    "from climakitae.explore.uncertainty import CmipOpt\n",
    "\n",
    "# select data options\n",
    "copt = CmipOpt()\n",
    "copt.variable = 'tas' # near-surface air temperature\n",
    "copt.area_subset = 'states' \n",
    "copt.location = 'California' # location of interest to subset for\n",
    "copt.area_average = False # ensures that we grab spatiotemporal data\n",
    "copt.timescale = 'Amon' # monthly frequency"
   ]
  },
  {
   "cell_type": "markdown",
   "id": "555f79b0-d643-4d53-9416-2a2fab02ca16",
   "metadata": {},
   "source": [
    "The next cell does the actual work of grabbing the data from the catalog and pre-processing it. Several things happen during pre-processing:\n",
    "- First we search the catalog for the data we want to use. We will compare the first ensemble member from each model in the CMIP6 archive that has both a historical and SSP3-7.0 simulation.\n",
    "- Then we organize each of the resulting available data, with our specific data selections, and pre-process it so that it subsets correctly for California. \n",
    "- Lastly, the datasets are merged together for ease of use throughout the rest of our analysis. \n",
    "\n",
    "After running the following cell, you can examine the resulting Dataset that holds all of the CMIP6 models of interest."
   ]
  },
  {
   "cell_type": "code",
   "execution_count": null,
   "id": "e5a7b2ac-b722-4b13-8564-ea5fe061da83",
   "metadata": {
    "tags": []
   },
   "outputs": [],
   "source": [
    "from climakitae.explore.uncertainty import grab_multimodel_data\n",
    "\n",
    "mdls_ds = grab_multimodel_data(copt)\n",
    "mdls_ds"
   ]
  },
  {
   "cell_type": "markdown",
   "id": "8c7d1f9e-e036-40b9-9cdd-c37dc5af2ea5",
   "metadata": {
    "tags": []
   },
   "source": [
    "## Step 1: Assess CMIP6 multi-model spread\n",
    "\n",
    "#### 1a) Calculate useful metrics\n",
    "Now that we have all of our desired models processed, the next step is to calculate several key metrics of interest using functions in [climakitae](https://github.com/cal-adapt/climakitae):\n",
    "- `cmip_annual` calculates the annual average temperature in each model, collapsing from monthly data\n",
    "- `calc_anom` calculates the temperature difference (i.e., anomaly) from a historical baseline, of which we use 1850-1900 to place our results in a global warming levels context. **For more information** on warming levels, check out the `warming_levels.ipynb` notebook\n",
    "- `cmip_mmm` calculates the average response across models, otherwise known as the multi-model mean\n",
    "\n",
    "These next cells will take 1-2 minutes to run - hang tight!"
   ]
  },
  {
   "cell_type": "code",
   "execution_count": null,
   "id": "663e4cca-9219-415b-a310-a6f878e56478",
   "metadata": {
    "tags": []
   },
   "outputs": [],
   "source": [
    "from climakitae.explore.uncertainty import weighted_temporal_mean, calc_anom, cmip_mmm\n",
    "\n",
    "# calculate spatial data first for the entire cmip6 archive\n",
    "xy_ds_yr = weighted_temporal_mean(mdls_ds).compute()\n",
    "xy_ds_yr = xy_ds_yr - 273.15 # convert to Celsius\n",
    "xy_ds_yr.tas.attrs['units'] = '°C' # set units to Celsius\n",
    "\n",
    "xy_anom = calc_anom(xy_ds_yr, base_start=1850, base_end=1900)\n",
    "xy_anom.tas.attrs['units'] = '°C' # set units to Celsius\n",
    "xy_anom_mmm = cmip_mmm(xy_anom)\n",
    "\n",
    "# calculate area-averaged timeseries\n",
    "cmip_anom = xy_anom.groupby(\"time\").mean(dim=[\"x\",\"y\"])\n",
    "cmip_anom.tas.attrs['units'] = '°C' # set units to Celsius\n",
    "cmip_anom_mmm = cmip_mmm(cmip_anom)"
   ]
  },
  {
   "cell_type": "code",
   "execution_count": null,
   "id": "cfffe304-f9a2-413b-a142-0e79dfa63f8e",
   "metadata": {
    "tags": []
   },
   "outputs": [],
   "source": [
    "# calculate the difference and multi-model mean specifically for the cal-adapt: analytics engine models\n",
    "hist_start, hist_end, ssp_end = 1950, 2014, 2100 # historical start and end dates, future end date\n",
    "cae_mdls_ls = [\"FGOALS-g3\", \"EC-Earth3-Veg\", \"CESM2\", \"CNRM-ESM2-1\", \"MIROC6\", \"MPI-ESM1-2-HR\", \"EC-Earth3\", \"TaiESM1\"]\n",
    "cae_mdls = cmip_anom.sel(simulation=cae_mdls_ls)\n",
    "cae_anom = cae_mdls.sel(time=slice(hist_start, ssp_end))\n",
    "\n",
    "# calculate the historical anomaly and multi-model mean\n",
    "hist_anom = cmip_anom.sel(time=slice(hist_start, hist_end))\n",
    "hist_anom_mmm = cmip_anom_mmm.sel(time=slice(hist_start, hist_end))\n",
    "\n",
    "# calculate the future anomaly and multi-model mean\n",
    "ssp_anom = cmip_anom.sel(time=slice(hist_end, ssp_end))\n",
    "ssp_anom_mmm = cmip_anom_mmm.sel(time=slice(hist_end, ssp_end))"
   ]
  },
  {
   "cell_type": "markdown",
   "id": "20c9e79a-01d7-409a-823d-339ac6cd0725",
   "metadata": {},
   "source": [
    "Next, we read in a reference table that provides several warming level options (1.5°C, 2.0°C, 3.0°C, 4.0°C) for the CMIP6 archive. We identify which model ensemble members are essential for our analysis and grab these specific simulations. "
   ]
  },
  {
   "cell_type": "code",
   "execution_count": null,
   "id": "454d705e-a535-4d15-8e1e-812d4c9971bf",
   "metadata": {
    "tags": []
   },
   "outputs": [],
   "source": [
    "# read in global warming levels table\n",
    "from climakitae.core.paths import gwl_1850_1900_file\n",
    "gwl_times = read_csv_file(gwl_1850_1900_file, index_col=[0, 1, 2])\n",
    "\n",
    "# grab the ensemble members specific to our needs here\n",
    "sim_idx = []\n",
    "scenario = 'ssp370'\n",
    "for simulation in ssp_anom.simulation.values:\n",
    "    if simulation in gwl_times.index:\n",
    "        if simulation == 'CESM2':\n",
    "            sim_idx.append((simulation, 'r11i1p1f1', scenario))\n",
    "        elif simulation == 'CNRM-ESM2-1':\n",
    "            sim_idx.append((simulation, 'r1i1p1f2', scenario))\n",
    "        else:\n",
    "            sim_idx.append((simulation, 'r1i1p1f1', scenario))"
   ]
  },
  {
   "cell_type": "markdown",
   "id": "847c62e3-755d-43de-992e-4aab5cdded21",
   "metadata": {},
   "source": [
    "We need to identify where each individual model reaches a designated warming level. As the default, we select **3.0°C** as our desired warming level to investigate. Depending on the warming level we also provide information as to whether any model **does not** reach the selected warming level by 2100. Play around with different values for the warming level to see how the resulting analyses change throughout the rest of this notebook!"
   ]
  },
  {
   "cell_type": "code",
   "execution_count": null,
   "id": "79811cd5-227b-4770-a552-f8f03d9810d2",
   "metadata": {
    "tags": []
   },
   "outputs": [],
   "source": [
    "# warming level\n",
    "warm_level = 3.0\n",
    "\n",
    "# identify the year that the selected warming level is reached for each ensemble member\n",
    "xy_da_list = []\n",
    "year_reached_by_sim = []\n",
    "for i in sim_idx:\n",
    "    year_warmlevel_reached = str(gwl_times[str(warm_level)].loc[i])[:4]\n",
    "    if len(year_warmlevel_reached) != 4:\n",
    "        print(\"{}°C warming level not reached for {}\".format(warm_level, i[0]))\n",
    "    else:\n",
    "        year_reached_by_sim.append((i, int(year_warmlevel_reached)))\n",
    "        xy_da_list.append(xy_anom.sel(time=int(year_warmlevel_reached), simulation=i[0]))\n",
    "    \n",
    "thresh_df = pd.DataFrame(\n",
    "    data=year_reached_by_sim, \n",
    "    columns=[\"simulation\",\"year_warming_level_reached\"])\n",
    "xy_by_warmlevel = xr.concat(xy_da_list, dim=\"simulation\")"
   ]
  },
  {
   "cell_type": "markdown",
   "id": "7970bcb0-9df8-4743-934b-5c8a65ea45f2",
   "metadata": {},
   "source": [
    "#### 1b) Visualize the range in temperature amongst the CMIP6 archive\n",
    "\n",
    "We also highlight the Cal-Adapt: Analytics Engine models in order to illustrate where these models fall within the larger CMIP6 model spread. Many things are happening in this figure. Let's break it down:\n",
    "- The <span style=\"color:#818589\">thin grey lines <span style=\"color:#000000\">represent a single CMIP6 model in the historical (1950-2014) period. Their corresponding future (SSP 3-7.0) counterparts are illustrated by the <span style=\"color:#F28C28\">thin orange lines <span style=\"color:#000000\">for 2014-2100. \n",
    "- The **thick** black line represents the multi-model mean for the **historical** period\n",
    "- The <span style=\"color:#FF0000\">**thick** red line <span style=\"color:#000000\">represents the multi-model mean for the **future** period\n",
    "- The <span style=\"color:#0000FF\">thin blue lines <span style=\"color:#000000\">represent the currently downscaled models available in the Cal-Adapt: Analytics Engine\n",
    "- The dashed line at 0°C is also provided to help visualize the overall trend\n",
    "- The two vertical lines represent the earliest and latest occurrences that any model exceeds the selected warming level (here it is 3.0°C), if prior to 2100. Play around with different warming level values to see how it changes the response.\n",
    "\n",
    "This cell will take a few minutes to run; it has a lot of information to display! "
   ]
  },
  {
   "cell_type": "code",
   "execution_count": null,
   "id": "ce37176c-1bfc-44b7-bcaf-0f36a30350a4",
   "metadata": {
    "tags": []
   },
   "outputs": [],
   "source": [
    "# figure set-up\n",
    "h_color, ssp_color, cae_color = 'grey', 'orange', 'blue'\n",
    "lw, alpha = 0.75, 0.25\n",
    "ylab = hist_anom.tas.long_name + ' (' + hist_anom.tas.attrs['units'] + ')'\n",
    "\n",
    "# all individual models\n",
    "all_hist = hist_anom.hvplot.line(x=\"time\", ylabel=ylab, by='simulation', line_width=lw, color=h_color, legend=False, alpha=alpha)\n",
    "all_ssp = ssp_anom.hvplot.line(x=\"time\", by=\"simulation\", line_width=lw, color=ssp_color, legend=False, alpha=alpha)\n",
    "\n",
    "# cal-adapt models\n",
    "all_cae = cae_anom.hvplot.line(x=\"time\", by=\"simulation\", line_width=lw, color=cae_color, alpha=alpha*1.5, legend=False)\n",
    "\n",
    "# multi-model means\n",
    "mmm_hist = hist_anom_mmm.hvplot.line(x=\"time\", line_width=lw*3, color='black')\n",
    "mmm_ssp = ssp_anom_mmm.hvplot.line(x=\"time\", line_width=lw*3, color='red',\n",
    "                                                       title=\"CMIP6 mean surface temperature change in California\")\n",
    "# warming level boundaries\n",
    "warmlevel_firstoccurence = hv.VLine(int(thresh_df['year_warming_level_reached'].min())).opts(color='black', line_width=lw)\n",
    "warmlevel_lastoccurence = hv.VLine(int(thresh_df['year_warming_level_reached'].max())).opts(color='black', line_width=lw)\n",
    "zero_line = hv.HLine(0.0).opts(color=\"black\", line_width=0.5, line_dash=\"dashed\")\n",
    "\n",
    "# plot all together\n",
    "mmm_ssp * all_hist * all_ssp * all_cae * mmm_hist * zero_line * warmlevel_firstoccurence * warmlevel_lastoccurence"
   ]
  },
  {
   "cell_type": "markdown",
   "id": "dc54cc77-d8b0-4a10-8253-43bc384fba23",
   "metadata": {},
   "source": [
    "Visualizing temperature trends in this way allows us to identify several key pieces of information:\n",
    "1. Temperatures in California are projected to be higher in the future than the historical period given this emissions scenario. \n",
    "2. The range of temperatures by 2100 is several degrees, between 2-8°C higher than 1850-1900. However, not all models are weighted equally by the IPCC in terms of their global mean temperature change. This is particularly important for considering our results within a warming levels context, as we do here. \n",
    "3. Several models project a much faster increase in temperature, while others increase at a slower rate. This will have an impact on California climate, with differences at the local scale. "
   ]
  },
  {
   "cell_type": "markdown",
   "id": "461632de-7004-4647-a207-04edb227efe4",
   "metadata": {
    "tags": []
   },
   "source": [
    "## Step 2: Illustrate spatial statistics across California\n",
    "\n",
    "#### 2a) Visualize the year that the warming level is reached\n",
    "Next, let's spatially visualize the differences between the CMIP6 model archive at a designated warming level. We will also identify how the Cal-Adapt: Analytics Engine models compares to the broader spread. In the next cell, we do some minor plot set-up and calculate the minimum and maximum of our data to ensure that each plot displays on the same range for ease of comparison. "
   ]
  },
  {
   "cell_type": "code",
   "execution_count": null,
   "id": "ff500228-80b8-411c-9c62-4d00e2ff71cc",
   "metadata": {},
   "outputs": [],
   "source": [
    "# set up for plots\n",
    "from climakitae.explore.uncertainty import compute_vmin_vmax\n",
    "from climakitae.util.colormap import read_ae_colormap\n",
    "cmap = read_ae_colormap(cmap='ae_orange', cmap_hex=True)\n",
    "\n",
    "from bokeh.models import HoverTool\n",
    "hover = HoverTool(description='Custom Tooltip', \n",
    "        tooltips=[('Longitude (deg E)', '@x'), \n",
    "        ('Latitude (deg N)', '@y'),\n",
    "        ('Air Temp (°C)', '@z')])\n",
    "\n",
    "def make_hvplot(data, title, vmin, vmax, sopt, width=200, height=200):\n",
    "    \"\"\"Make single map\"\"\"\n",
    "    _plot = hv.QuadMesh(\n",
    "        (data['x'], data['y'], data)).opts(\n",
    "        tools=[hover],\n",
    "        colorbar=True, cmap=cmap,\n",
    "        symmetric=False, clim=(vmin,vmax),\n",
    "        xaxis=None, yaxis=None,\n",
    "        clabel=\"Air Temperature (°C)\",\n",
    "        title=title,\n",
    "        width=width, height=height)\n",
    "    return _plot\n",
    "\n",
    "num_simulations = len(xy_by_warmlevel.simulation.values) # number of simulations\n",
    "\n",
    "# compute 1% min and 99% max of all simulations\n",
    "vmin_l, vmax_l = [], []\n",
    "for sim in range(num_simulations):\n",
    "    data = xy_by_warmlevel.isel(simulation=sim)\n",
    "    vmin_i, vmax_i, sopt = compute_vmin_vmax(data.tas, data.tas)\n",
    "    vmin_l.append(vmin_i)\n",
    "    vmax_l.append(vmax_i)\n",
    "vmin = np.nanmin(vmin_l)\n",
    "vmax = np.nanmax(vmax_l)"
   ]
  },
  {
   "cell_type": "markdown",
   "id": "e9d20d98-ba32-4057-8e19-3b4ad0539863",
   "metadata": {
    "tags": []
   },
   "source": [
    "In the next cell we visualize what each model simulates at the year the warming level is reached for California. In other words, the next figure will show how each model spatially represents the selected warming level and the differences across the state."
   ]
  },
  {
   "cell_type": "code",
   "execution_count": null,
   "id": "de58ccf9-7f95-48d3-899f-ea472e8775c6",
   "metadata": {},
   "outputs": [],
   "source": [
    "all_plots = make_hvplot(  # plot first simulation separate from the loop\n",
    "        data=xy_by_warmlevel.tas.isel(simulation=0),\n",
    "        sopt=sopt, vmin=vmin, vmax=vmax,\n",
    "        title=xy_by_warmlevel.isel(simulation=0).simulation.item())\n",
    "\n",
    "for sim_i in range(1, num_simulations): # plot remaining simulations\n",
    "    pl_i = make_hvplot(\n",
    "        data=xy_by_warmlevel.tas.isel(simulation=sim_i),\n",
    "        sopt=sopt, vmin=vmin, vmax=vmax,\n",
    "        title=xy_by_warmlevel.isel(simulation=sim_i).simulation.item())\n",
    "    all_plots += pl_i\n",
    "\n",
    "# additional aesthetic settings to tidy figure\n",
    "all_plots.cols(5)  # organize columns\n",
    "all_plots.opts(hv.opts.Layout(merge_tools=True))  # merge toolbar\n",
    "all_plots.opts(toolbar=\"below\")  # set toolbar location\n",
    "all_plots.opts(title=\"Air Temperature at 2m: Anomalies for \" \n",
    "               + str(warm_level) \n",
    "               + \"°C Warming by Simulation\")  # add title\n",
    "all_plots"
   ]
  },
  {
   "cell_type": "markdown",
   "id": "8371cc60-5f65-4c16-95f0-56f609b62b1f",
   "metadata": {},
   "source": [
    "Above we've plotted each CMIP6 model at our selected warming level (in this example, 3°C) for California. There are a few key features to take note of:\n",
    "1. The increase in temperature will be perceived differently across California. Some locations may have a smaller increase (for example, coastal regions in some models, but not all), while other locations will have a larger increase in temperature (for example, the Sierra Nevadas and northern California in some models, but not all). \n",
    "2. There is a substantial difference between each model in how temperatures are simulated at the year the warming level is reached. \n",
    "\n",
    "It is important to note that no one model is \"better\" or \"worse\" than another model. In terms of understanding model uncertainty, inter-model variations and internal variation expressed between models represent a range of possibilities. \n",
    "\n",
    "#### 2b) Calculate and visualize statistics for a cross-model analysis\n",
    "Next, let's visualize the minimum/maximum/median/mean conditions across models. These statistics are calculated from the data observed in the figure above at each grid cell. For example, in the minimum map, each grid cell represents the model that had the lowest value for that grid cell and the process is repeated for each grid cell (i.e., a grid cell may be the minimum value at that location from one model, while the grid cell next to it may be the minimum from a different model for that location)."
   ]
  },
  {
   "cell_type": "code",
   "execution_count": null,
   "id": "802f871c-0e52-41c5-9f7a-ba778f7fd73f",
   "metadata": {},
   "outputs": [],
   "source": [
    "# compute stats\n",
    "min_data = xy_by_warmlevel.tas.min(dim=\"simulation\")\n",
    "max_data = xy_by_warmlevel.tas.max(dim=\"simulation\")\n",
    "med_data = xy_by_warmlevel.tas.median(dim=\"simulation\")\n",
    "mean_data = xy_by_warmlevel.tas.mean(dim=\"simulation\")\n",
    "\n",
    "# set up plots\n",
    "min_plot = make_hvplot(data=min_data, sopt=sopt, vmin=vmin, vmax=vmax, title=\"Minimum\")\n",
    "max_plot = make_hvplot(data=max_data, sopt=sopt, vmin=vmin, vmax=vmax,title=\"Maximum\")\n",
    "med_plot = make_hvplot(data=med_data, sopt=sopt, vmin=vmin, vmax=vmax, title=\"Median\")\n",
    "mean_plot = make_hvplot(data=mean_data, sopt=sopt, vmin=vmin, vmax=vmax, title=\"Mean\")"
   ]
  },
  {
   "cell_type": "code",
   "execution_count": null,
   "id": "fb8eb9e8-cbdf-4c6c-954a-d46a57ba79ee",
   "metadata": {},
   "outputs": [],
   "source": [
    "all_plots = mean_plot + med_plot + min_plot + max_plot\n",
    "\n",
    "# additional aesthetic settings to tidy figure\n",
    "all_plots.opts(toolbar=\"below\")  # set toolbar location\n",
    "all_plots.opts(hv.opts.Layout(merge_tools=True))  # merge toolbar\n",
    "all_plots.opts(title=\"Air Temperature at 2m: \"\n",
    "               + str(warm_level)\n",
    "               + \"°C Warming Across Models\")  # add title\n",
    "all_plots"
   ]
  },
  {
   "cell_type": "markdown",
   "id": "05383a4c-a6ac-4f0f-bafa-4afee4d7b874",
   "metadata": {
    "tags": []
   },
   "source": [
    "Illustrating cross-model statistics can tell us several things. Let's break it down:\n",
    "1. For a 3°C warming level, across statistics, models simulate California warming in the future. \n",
    "2. For a 3°C warming level, there is approximately 1 degree °C difference in the mean conditions, and a 2.2-3.7 degree °C difference between the minimum and maximum simulated conditions. Differences also exist across the state, with some regions simulating more or less warming than other locations. \n",
    "\n",
    "## Step 3: Example applications\n",
    "\n",
    "What might be most useful to know when addressing model uncertainty in climate data is to know when it is **reasonable to use an average across models** and when it is **not appropriate** (note this depends on the question being asked).\n",
    "\n",
    "#### 3a) When it is reasonable to use a multi-model mean\n",
    "To assess when it is reasonable to use a multi-model mean, we'll look at a hypothetical question that asks: *\"Will Southern California be warmer in the future than it was in the past?\"*\n",
    "\n",
    "First, we'll calculate a 10-year running average to display the trends over time, so that we can assess the long-term decadal trend in the historical period. Then, we'll select a location of interest, focusing on Southern California. To compare the future and past, we'll select 30 year comparison periods in each. For the past, we'll focus on 1981-2010, which is a commonly used climatological baseline. For the future, we'll look towards the end of the century and focus on 2071-2100. "
   ]
  },
  {
   "cell_type": "code",
   "execution_count": null,
   "id": "4fbbfa98-7ced-48b5-92da-42d5e538032c",
   "metadata": {},
   "outputs": [],
   "source": [
    "# calculate running mean first, then calculate anomaly\n",
    "xy_10yr_rolling = xy_ds_yr.rolling(time=10, center=True).mean()\n",
    "xy_10yr_anom = calc_anom(xy_10yr_rolling, base_start=1850, base_end=1900)"
   ]
  },
  {
   "cell_type": "code",
   "execution_count": null,
   "id": "cfaf9c4a-7490-476c-8688-017d575d47d6",
   "metadata": {},
   "outputs": [],
   "source": [
    "# calculate the area average and the multi-model mean for S. California\n",
    "def socal_area_average(ds):\n",
    "    lower_lat, upper_lat = 33.0, 37.0\n",
    "    socal_ts = ds.sel(y=slice(lower_lat, upper_lat)).mean(dim=[\"x\",\"y\"])\n",
    "    return socal_ts\n",
    "\n",
    "socal_hist = socal_area_average(xy_10yr_anom).sel(time=slice(1981,2010))\n",
    "socal_hist.tas.attrs['units'] = '°C'\n",
    "socal_hist_mmm = cmip_mmm(socal_hist)\n",
    "\n",
    "socal_ssp = socal_area_average(xy_10yr_anom).sel(time=slice(2071,2100))\n",
    "socal_ssp.tas.attrs['units'] = '°C'\n",
    "socal_ssp_mmm = cmip_mmm(socal_ssp)"
   ]
  },
  {
   "cell_type": "markdown",
   "id": "3d08d5ae-cc69-42a5-b520-8ededd5e0551",
   "metadata": {},
   "source": [
    "Now let's plot the historical timeseries for 1981-2010 to understand how models have represented this period. We continue to use 1850-1900 to assess how conditions have changed in a warming level context. "
   ]
  },
  {
   "cell_type": "code",
   "execution_count": null,
   "id": "146bbc59-515b-4f55-89b6-b15c359b8243",
   "metadata": {
    "tags": []
   },
   "outputs": [],
   "source": [
    "# visualize historical model response and the multi-model mean\n",
    "socal_hist_mdls = socal_hist.hvplot.line(x='time', by='simulation', line_width=lw, color=h_color, alpha=alpha, legend=False)\n",
    "hist_mmm = socal_hist_mmm.hvplot.line(x='time', line_width=lw*3, color='black', legend=False,\n",
    "                                     title='Historical S. California mean surface temperature change relative to 1850-1900')\n",
    "hist_mmm * socal_hist_mdls"
   ]
  },
  {
   "cell_type": "markdown",
   "id": "4f8512bc-fd7b-4051-855a-8fb2609bafb4",
   "metadata": {},
   "source": [
    "Notice throughout 1981-2010 that the multi-model mean increases by approximately 1°C. Now, let's look at the future period to compare how conditions may be at the end of the century."
   ]
  },
  {
   "cell_type": "code",
   "execution_count": null,
   "id": "c1df31d2-d689-4f1f-b93b-83cfd93fd29f",
   "metadata": {
    "tags": []
   },
   "outputs": [],
   "source": [
    "# visualize future model response and the multi-model mean\n",
    "socal_ssp_mdls = socal_ssp.hvplot.line(x='time', by='simulation', line_width=lw, color=ssp_color, alpha=alpha, legend=False)\n",
    "ssp_mmm = socal_ssp_mmm.hvplot.line(x='time', line_width=lw*3, color='r', legend=False,\n",
    "                                   title='Future S. California mean surface temperature change relative to 1850-1900')\n",
    "ssp_mmm * socal_ssp_mdls"
   ]
  },
  {
   "cell_type": "markdown",
   "id": "41ab9ab3-ca2b-4467-95c3-1ec74b8f6137",
   "metadata": {},
   "source": [
    "Upon comparison to the historical period, we note that the multi-model mean increases between 3.5°C and 4.8°C for Southern California. Note, the future timeseries ends before 2100 because of the rolling average; this ensures we capture the overall long-term climatological trend. \n",
    "\n",
    "Lastly, let's establish the difference between the multi-model mean in the historical (1981-2010) and future (2071-2100) periods to answer our question."
   ]
  },
  {
   "cell_type": "code",
   "execution_count": null,
   "id": "aa235fd4-c635-4f4c-ac9c-69f47cedf83b",
   "metadata": {
    "tags": []
   },
   "outputs": [],
   "source": [
    "historical = np.asarray(socal_hist_mmm.tas.values)\n",
    "future = np.asarray(socal_ssp_mmm.tas.values)\n",
    "\n",
    "print('The future multi-model mean is {:.2f}-{:.2f}°C above the historical multi-model mean'.format(np.nanmin(future - historical), np.nanmax(future - historical)))"
   ]
  },
  {
   "cell_type": "markdown",
   "id": "b5177ccd-7485-4dcd-9589-ab33b24189e0",
   "metadata": {},
   "source": [
    "Using the individual models, the multi-model mean, and this min-max range, we can see that the future period consistently is higher than the historical period for Southern California. Thus, we can definitively answer **\"yes, there will be a higher temperature in the future\"** in this example. \n",
    "\n",
    "However, if we wanted to know <span style=\"color:#FF0000\">*how much warmer in the future*<span style=\"color:#000000\">, we **must consider the full range** and cannot use only the multi-model mean as we lose a lot of valuable information about the regional response if the full range is not considered. "
   ]
  },
  {
   "cell_type": "markdown",
   "id": "b584d045-3595-47fb-a95d-2c64470a6172",
   "metadata": {
    "tags": []
   },
   "source": [
    "\n",
    "#### 3b) When it is **not** appropriate to use an average across models\n",
    "Here, we'll address a hypothetical example with the question: *\"I want to know the exact temperature it will be at my location in 2100\"* and discuss why this is **not** the right question to ask. \n",
    "\n",
    "With **more than a 4°C** difference between models, it is therefore **not appropriate** to utilize the multi-model mean in this example. Each of these simulations represent a possible climate future, and there is too much variation to confidently say the multi-model mean represents the overall climate conditions. It is **strongly recommended** that the full range of climate possibilities be considered; a single value cannot represent this range accurately. \n",
    "\n",
    "## Summary and Key Points\n",
    "This notebook has illustrated how to diagnose and consider the differences between multiple models in representing climate, otherwise known as model uncertainty. We discussed several important aspects of model uncertainty:\n",
    "1. The range of plausible future climates can be substantial, with a model simulating a very different response than another.\n",
    "2. The multi-model mean captures the average conditions, but provides no information towards the range of plausible outcomes. \n",
    "3. In addition to an annual time series, the differences between models throughout your area of interest is critical for understanding the spatial impact(s) of a plausible climate future.\n",
    "4. The multi-model mean is a useful tool, but should be employed carefully when answering a question. The multi-model mean can only report the average conditions. For many questions, this is an inappropriate metric to solely rely on. \n",
    "\n",
    "**Recommendation**: If you are using GCM output as input into another model, we suggest running that model with output from all GCMs available.\n",
    "\n",
    "Want to know more about different kinds of climate uncertainty in climate data? Check out the `internal_variability.ipynb` notebook too!"
   ]
  }
 ],
 "metadata": {
  "kernelspec": {
   "display_name": "Python 3 (ipykernel)",
   "language": "python",
   "name": "python3"
  },
  "language_info": {
   "codemirror_mode": {
    "name": "ipython",
    "version": 3
   },
   "file_extension": ".py",
   "mimetype": "text/x-python",
   "name": "python",
   "nbconvert_exporter": "python",
   "pygments_lexer": "ipython3",
   "version": "3.9.13"
  }
 },
 "nbformat": 4,
 "nbformat_minor": 5
}
