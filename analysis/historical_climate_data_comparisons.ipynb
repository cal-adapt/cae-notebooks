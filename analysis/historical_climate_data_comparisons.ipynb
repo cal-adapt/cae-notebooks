{
 "cells": [
  {
   "cell_type": "markdown",
   "id": "8a4ed666-0365-49f2-adf7-2872aa9cd5e8",
   "metadata": {
    "execution": {
     "iopub.execute_input": "2024-04-08T15:20:31.939115Z",
     "iopub.status.busy": "2024-04-08T15:20:31.938716Z",
     "iopub.status.idle": "2024-04-08T15:20:47.869887Z",
     "shell.execute_reply": "2024-04-08T15:20:47.869165Z",
     "shell.execute_reply.started": "2024-04-08T15:20:31.939045Z"
    },
    "tags": []
   },
   "source": [
    "# Understanding Historical Climate Data on the Analytics Engine\n",
    "This notebook is a walkthrough of how to utilize different kinds of historical climate data, including weather observations, reanalysis products, and model output available on the Analytics Engine. \n",
    "\n",
    "* Weather observations are inherently point locations, tied to a single station location, and represent the actual values of weather variables. Weather observations are highly localized weather information, and are limited by instrumentation constraints.\n",
    "* Reanalysis products are reconstructions of the historical weather observation period. Like a climate model, reanalysis products have a complete set of atmospheric and surface weather variables on a full spatial grid. Because reanalysis synthesizes many sources of observations and utilizes simulations to produce a continuous output,  it should closely resemble observation from weather station data but should not be expected to match exactly.\n",
    "\n",
    "* Climate models run over the historical period represent the *general conditions* during a time period, but *do not reproduce specific events from the historical record*. Each simulation from a climate model is a free-running simulation producing unique weather events and internal variability. This variability in individual climate model realizations is how we are able to determine the range of potential future realities. In the historical period, variability across each climate model realizaiton represents the range of possible conditions that could have occurred. \n",
    "\n",
    "**Intended Application**: As a user, I want to be able to understand the <span style=\"color:red\">**strengths and weaknesses of comparing historical observations, reanalysis, and model output**</span> by:\n",
    "1. Visualizing observations compred to reanalysis\n",
    "2. Visualizing observations compared to climate model output\n",
    "\n",
    "**Runtime**: With the default settings, this notebook takes approximately **less than 1 minute** to run from start to finish. Modifications to selections may increase the runtime. \n",
    "\n",
    "### Step 0: Set-up"
   ]
  },
  {
   "cell_type": "code",
   "execution_count": null,
   "id": "de8dc5fc-5b43-4828-9a1c-1eca28d3d9f5",
   "metadata": {
    "tags": []
   },
   "outputs": [],
   "source": [
    "import climakitae as ck\n",
    "from climakitae.core.data_interface import DataParameters\n",
    "import xarray as xr\n",
    "import pandas as pd\n",
    "import numpy as np\n",
    "\n",
    "import hvplot.pandas  # noqa\n",
    "import hvplot.xarray\n",
    "pd.options.plotting.backend = 'holoviews'"
   ]
  },
  {
   "cell_type": "markdown",
   "id": "f07ea5ae-5b7a-4493-a9c7-19cf11df6480",
   "metadata": {},
   "source": [
    "### Step 1: Select data\n",
    "#### 1a) Climate model data\n",
    "First we will retrieve precipitation data using LOCA2-Hybrid models: multiple ensemble members for both CESM2-LENS and EC-Earth3 for a single location. "
   ]
  },
  {
   "cell_type": "code",
   "execution_count": null,
   "id": "4ad50a1b-fcb3-47f4-a0b2-6f448c14bdf3",
   "metadata": {
    "tags": []
   },
   "outputs": [],
   "source": [
    "selections = DataParameters()\n",
    "\n",
    "selections.downscaling_method = 'Statistical'\n",
    "selections.variable = 'Precipitation (total)'\n",
    "selections.timescale = 'monthly'\n",
    "selections.units = 'inches'\n",
    "selections.resolution = '3 km'\n",
    "selections.time_slice = (1980, 2001) # trim to the time period that overlaps between models, reanalysis, and station observations\n",
    "selections.area_subset = 'lat/lon'\n",
    "selections.cached_area = ['coordinate selection']\n",
    "selections.area_average = 'No'\n",
    "selections.latitude = (34.067 - 0.02, 34.067 + 0.02) # specifically at station coordinates, with small buffer\n",
    "selections.longitude = (-117.65 - 0.02, -117.65 + 0.02) # specifically at station coordinates, with small buffer"
   ]
  },
  {
   "cell_type": "code",
   "execution_count": null,
   "id": "c213e1ed-1b5f-4a03-8b01-97c3aa4d9e1c",
   "metadata": {
    "tags": []
   },
   "outputs": [],
   "source": [
    "# retrieving data\n",
    "ds = selections.retrieve()\n",
    "\n",
    "# subset for models of interest\n",
    "mdls = ['LOCA2_EC-Earth3_r1i1p1f1', 'LOCA2_EC-Earth3_r2i1p1f1', 'LOCA2_CESM2-LENS_r1i1p1f1', 'LOCA2_CESM2-LENS_r2i1p1f1',  'LOCA2_CESM2-LENS_r3i1p1f1']\n",
    "ds = ds.sel(simulation = mdls)\n",
    "\n",
    "# loading into memory -- will take a few minutes! \n",
    "ds = ck.load(ds)\n",
    "model_ds = ds.squeeze()\n",
    "model_ds"
   ]
  },
  {
   "cell_type": "markdown",
   "id": "32f41198",
   "metadata": {},
   "source": [
    "### 1b) Reanalysis data\n",
    "Next retrieve dynamically downscaled reanalysis for the same location."
   ]
  },
  {
   "cell_type": "code",
   "execution_count": null,
   "id": "400db224",
   "metadata": {},
   "outputs": [],
   "source": [
    "selections = DataParameters()\n",
    "\n",
    "selections.variable = 'Precipitation (total)'\n",
    "selections.scenario_historical = [\"Historical Reconstruction\"]\n",
    "selections.timescale = 'monthly'\n",
    "selections.units = 'inches'\n",
    "selections.time_slice = (1980, 2001)\n",
    "selections.area_subset = 'lat/lon'\n",
    "selections.cached_area = ['coordinate selection']\n",
    "selections.area_average = 'No'\n",
    "selections.latitude = (34.067 - 0.03, 34.067 + 0.03) # specifically at station coordinates, with small buffer\n",
    "selections.longitude = (-117.65 - 0.03, -117.65 + 0.03) # specifically at station coordinates, with small buffer"
   ]
  },
  {
   "cell_type": "code",
   "execution_count": null,
   "id": "11c2e063",
   "metadata": {},
   "outputs": [],
   "source": [
    "# retrieving data\n",
    "ds = selections.retrieve()\n",
    "\n",
    "# loading into memory -- will take a few minutes! \n",
    "ds = ck.load(ds)\n",
    "reanalysis_ds = ds.squeeze()\n",
    "reanalysis_ds"
   ]
  },
  {
   "cell_type": "markdown",
   "id": "ac1abc43-9a8f-40d5-bf9d-4e530fe81d05",
   "metadata": {},
   "source": [
    "#### 1c) Observational data\n",
    "Lastly, we'll read in weather observations for comparison. In this example, we are looking at precipitation observations from a weather station near Ontario, in San Bernadino County."
   ]
  },
  {
   "cell_type": "code",
   "execution_count": null,
   "id": "a18e75f6-77d9-4ac6-9254-83e248673f30",
   "metadata": {
    "tags": []
   },
   "outputs": [],
   "source": [
    "wx_obs = pd.read_csv('1026_data_cleaned.csv') ## we'll use the \"total_precipitation_in\" column for comparison\n",
    "# trim to the time period that overlaps between models, reanalysis, and station observations\n",
    "wx_obs = wx_obs[(wx_obs['year'] >= 1980) & (wx_obs['year'] <= 2001)]\n",
    "\n",
    "# adding an easy to interpret time (month-year) column so we can compare side by side\n",
    "wx_obs['day'] = 1 # using first of the month for ease\n",
    "wx_obs['time'] = pd.to_datetime(wx_obs[['year', 'month', 'day']])\n",
    "wx_obs = wx_obs.drop(columns=['year', 'month', 'day']) # minor cleanup\n",
    "\n",
    "wx_obs"
   ]
  },
  {
   "cell_type": "markdown",
   "id": "aa593807-f20b-4f0c-aa6d-c79f47eeabcb",
   "metadata": {},
   "source": [
    "### Step 2: Visualize timseries between observations, reanalysis, and model output"
   ]
  },
  {
   "cell_type": "markdown",
   "id": "dac62726",
   "metadata": {},
   "source": [
    "First, visualize the variability across realizations of climate models"
   ]
  },
  {
   "cell_type": "code",
   "execution_count": null,
   "id": "4e3f1b9a",
   "metadata": {
    "tags": []
   },
   "outputs": [],
   "source": [
    "rolling_window = 12 # use a smoothing window to better visualize trends\n",
    "models_to_plot = model_ds.rolling(time=rolling_window).mean().hvplot.line(\n",
    "    x='time', by='simulation', title='Inter- and Intra-model comparison', width=1000, height=400);\n",
    "\n",
    "models_to_plot"
   ]
  },
  {
   "cell_type": "markdown",
   "id": "637e7c2c",
   "metadata": {},
   "source": [
    "Key takeaways here:\n",
    "* Each run of a climate model produces a unique timeseries, with the timing wet and dry years varying from run to run. This is okay -- it's by design!\n",
    "* Even within a single model, different realizations (or runs, e.g. r1i1p1f1, r2i1p1f1) produce different outputs.\n",
    "* Although the timing is different in each run, the overall range of values and magnitude of interannual variability is similar across models.\n",
    "\n",
    "Useful note: You can also \"turn off\" certain lines in the plot above if you want to focus on any particular model better. Just click on the name in the legend to \"hide\" and \"unhide\" a particular model.\n",
    "\n",
    "Next, we'll plot the station observations alongside the WRF-ERA5 reanalysis product to see how these datasets compare."
   ]
  },
  {
   "cell_type": "code",
   "execution_count": null,
   "id": "a65e1a4d-f2d9-43da-bc86-41d4831aaeac",
   "metadata": {
    "tags": []
   },
   "outputs": [],
   "source": [
    "wx_obs['total_precipitation_in_smooth'] = wx_obs['total_precipitation_in'].rolling(rolling_window).mean()\n",
    "obs = wx_obs.hvplot(x='time', y='total_precipitation_in_smooth', color='black', label='Observations', \n",
    "                    line_width=3, width=1000, height=400,title='Station to Reanalysis Comparison');\n",
    "\n",
    "models_to_plot = model_ds.sel(simulation='LOCA2_CESM2-LENS_r1i1p1f1').rolling(time=rolling_window).mean().hvplot.line(\n",
    "    x='time', by='simulation', color = 'orange');\n",
    "reanalysis_to_plot = reanalysis_ds.rolling(time=rolling_window).mean().hvplot.line(\n",
    "    x='time', color='blue', label='ERA5 Reanalysis',  width=1000, height=400);\n",
    "\n",
    "obs * models_to_plot * reanalysis_to_plot"
   ]
  },
  {
   "cell_type": "markdown",
   "id": "dbd6c56a-8bef-4272-b007-f645af5f03a8",
   "metadata": {},
   "source": [
    "Key takeaways here:\n",
    "* Unlike the climate model data (single orange line), the reanalysis (blue line) generally follows the same sequence of events as the station data (e.g. wet years in 1983 and 1993, dry period 1984-1991).\n",
    "* There are still some discrepancies between the reanalysis and station observations. These could be due to limitations of the instruments at the station, calibration issues, or the reanalysis producing weather events in slightly different locations than the observations.\n",
    "* An ordered timeseries from a climate model will never match the observational timeseries, but it should generally reproduce climate characteristics and variabilty (more on this below)."
   ]
  },
  {
   "cell_type": "markdown",
   "id": "e9502c22",
   "metadata": {},
   "source": [
    "### Step 3: Visualize distibutions and variability over a climatology period\n",
    "Next, we'll visualize the overall distribution of precipitation values to assess whether the model reproduces the *overall general conditions* of the station. We are also going to mask out the lowest 0.1 inch of precipitation from all 3 datasets. This is a common practice in climate analyses to remove *trace precipitaition* which can dramatically change the distribution of precipitation by introducing instrumentation inaccuracies to the result."
   ]
  },
  {
   "cell_type": "code",
   "execution_count": null,
   "id": "4f4b4011-8c15-4dd5-8da8-4cb73c0925b3",
   "metadata": {
    "tags": []
   },
   "outputs": [],
   "source": [
    "# Remove dry days (< 0.1 inch) to compare distribution of precipitation\n",
    "model_ds = model_ds.where(model_ds > .1)\n",
    "reanalysis_ds = reanalysis_ds.where(reanalysis_ds > .1)\n",
    "\n",
    "# mask <1mm in in weather obs\n",
    "valid_obs = wx_obs.loc[wx_obs['total_precipitation_in'] > .1]"
   ]
  },
  {
   "cell_type": "code",
   "execution_count": null,
   "id": "ccbd2b9e-564c-4e65-96c7-a67b2fb663d2",
   "metadata": {
    "tags": []
   },
   "outputs": [],
   "source": [
    "def hist_overlay(obs, model, reanalysis):\n",
    "    bins = np.arange(0,10,0.4)\n",
    "    \n",
    "    # relabel for legend\n",
    "    obs.name = 'Observations'\n",
    "    model.name = 'LOCA2_CESM2-LENS_r1i1p1f1'\n",
    "    reanalysis.name = 'WRF-ERA5 reanalysis'\n",
    "    \n",
    "    obs_plot = obs.to_xarray().hvplot.hist(bins=bins, color='black', alpha=0.75)\n",
    "    mdl_plot = model.hvplot.hist(bins=bins, color='orange')\n",
    "    re_plot = reanalysis.hvplot.hist(bins=bins, color='blue', title='Observations to Model Comparison')\n",
    "    return (re_plot * mdl_plot * obs_plot).options(xlabel='Precipitation (total) [inches]', \n",
    "                                                   ylabel='Number of months', width=800, height=400)\n",
    "\n",
    "# now plot all three datasets together!\n",
    "hist_overlay(obs=valid_obs['total_precipitation_in'],\n",
    "             model = model_ds.sel(simulation='LOCA2_CESM2-LENS_r1i1p1f1'),\n",
    "             reanalysis = reanalysis_ds)"
   ]
  },
  {
   "cell_type": "markdown",
   "id": "0c8c9ee9-8c5b-4547-9b4f-421b87503109",
   "metadata": {},
   "source": [
    "Now looking at the comparison of distributions, we see that the spread of monthly precipitation values lines up reasonably well between observations and model output. \n",
    "* An ordered timeseries from a climate model will never match the observational timeseries, but it should generally reproduce climate characteristics and variabilty, which we see above in the spread of values. \n",
    "* This is especially important with **precipitation**, given that precipitation does not follow a normal distribution and can be highly variable spatiotemporally and is challenging to model accurately. \n",
    "\n",
    "If you want to analyze real-world events from the historical record, we recommend the use of reanalysis data produccts like WRF-ERA5 (or ERA5 itself!) as an easy way to do so that is much more flexible than individual weather stations that may have gaps in their reporting record or other instrumentation inconsistencies (e.g., missing data). Climate model data will not match the year-to-year historical record, but it can be very useful to compare model output to observations or reanalysis product to evaluate how well each model represents particular features of the climate. When making these comparisons, it's important to only compare measurements aggregated over a sufficiently long enough time period (typically at least 30 years) that samples a range of the climate's natural variability. \n",
    "\n",
    "For more information on climate variability, check out the `internal_variability.ipynb` and `model_variability.ipynb` notebooks!"
   ]
  },
  {
   "cell_type": "code",
   "execution_count": null,
   "id": "0da07f0e-68c0-4411-8c9b-597044aeb046",
   "metadata": {},
   "outputs": [],
   "source": []
  }
 ],
 "metadata": {
  "kernelspec": {
   "display_name": "Python 3 (ipykernel)",
   "language": "python",
   "name": "python3"
  },
  "language_info": {
   "codemirror_mode": {
    "name": "ipython",
    "version": 3
   },
   "file_extension": ".py",
   "mimetype": "text/x-python",
   "name": "python",
   "nbconvert_exporter": "python",
   "pygments_lexer": "ipython3",
   "version": "3.12.7"
  }
 },
 "nbformat": 4,
 "nbformat_minor": 5
}
