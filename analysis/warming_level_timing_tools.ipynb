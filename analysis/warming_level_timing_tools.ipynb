{
 "cells": [
  {
   "cell_type": "markdown",
   "metadata": {},
   "source": [
    "# Global Warming Level Timing Tools\n",
    "\n",
    "This notebook explores the estimated timing of Global Warming Levels (GWLs) based on the IPCC's warming trajectory estimates from the AR6 report. This is the recommended method for estimating the timing of climate impacts on GWLs. The notebook contains descriptive information to help users understand the motivation and process for planning around GWLs, as well as demonstrations of tools for calculating ant visualizing GWL timing data. The approach illustrated in this notebook is also described in our guidance material [here](https://analytics.cal-adapt.org/data/about/).\n",
    "\n",
    "**Intended application:** As a user, I want to understand how to understand how timing estimates for global warming levels are calculated, and use tools to translate target-years in to GWLs, or vice versa.\n",
    "\n",
    "**Runtime:** Less than 5 minutes.\n",
    "\n",
    "**Table of Contents**\n",
    "1. Global Warming Levels and the hot model problem\n",
    "2. Visualizing warming levels and IPCC scenario trajectories\n",
    "3. A simple lookup tool for estimating GWL timing\n",
    "4. Using GWL timing tools in a planning workflow\n"
   ]
  },
  {
   "cell_type": "code",
   "execution_count": 39,
   "metadata": {},
   "outputs": [],
   "source": [
    "import pandas as pd\n",
    "import numpy as np\n",
    "\n",
    "from climakitae.util.warming_levels import get_gwl_at_year, get_year_at_gwl\n",
    "from climakitaegui.explore.warming import IPCCVisualize\n"
   ]
  },
  {
   "cell_type": "markdown",
   "metadata": {},
   "source": [
    "# 1. Global Warming Levels and the hot model problem"
   ]
  },
  {
   "cell_type": "markdown",
   "metadata": {},
   "source": [
    "The **hot model problem** refers to the fact that several models from the latest generation of the Couple Model Intercomparison Project (CMIP6) are known to have a warming sensitivity to CO2 that is unrealistically high. While these models still produce excellent simulations of the global climate and how it will respond to continued warming, the **timing** of that warming signal is faster than the current scientific consensus. An accessible overview of the issue can be read [here](https://www.carbonbrief.org/guest-post-how-climate-scientists-should-handle-hot-models/).\n",
    "\n",
    "Using a **Global Warming Levels** approach to studying climate change helps avoid the timing bias introduced by hot models in the following way:\n",
    "\n",
    "* We use climate model data on global warming levels to answer the question: \"What will regional impacts from climage change look like at 2.0°C of global warming?\"\n",
    "* We then use a different set of specialized simulations to answer the question: \"When is the world most likely to hit 2.0°C of global warming under different emissions scenarios?\"\n",
    "\n",
    "The specialized models that are used to estimate the most likely warming timelines were developed as part of the IPCC's Sixth Assessment Report (AR6), and combine a variety of observational constraints on climate sensitivity with simplified global climate simulations. A full discussion of the sources included in these estimates can be found in [box 4.1 of the IPCC AR6 report](https://www.ipcc.ch/report/ar6/wg1/chapter/chapter-4/#box-4.1), and the data for these warming trajectories can be found [here](https://data.ceda.ac.uk/badc/ar6_wg1/data/spm/spm_08/v20210809/panel_a).\n",
    "\n",
    "\n",
    "The resulting global warming trajectories can be visualized using this plotting tool:"
   ]
  },
  {
   "cell_type": "code",
   "execution_count": 40,
   "metadata": {},
   "outputs": [
    {
     "data": {},
     "metadata": {},
     "output_type": "display_data"
    },
    {
     "data": {
      "application/vnd.holoviews_exec.v0+json": "",
      "text/html": [
       "<div id='00f37254-b9e3-48e8-beeb-884d2c71aca2'>\n",
       "  <div id=\"cf42b118-6e2b-49ac-b0d6-431a64a6c7d6\" data-root-id=\"00f37254-b9e3-48e8-beeb-884d2c71aca2\" style=\"display: contents;\"></div>\n",
       "</div>\n",
       "<script type=\"application/javascript\">(function(root) {\n",
       "  var docs_json = {\"1faf7339-e5cc-4a63-b143-a5e16f03ca82\":{\"version\":\"3.6.3\",\"title\":\"Bokeh Application\",\"roots\":[{\"type\":\"object\",\"name\":\"Row\",\"id\":\"00f37254-b9e3-48e8-beeb-884d2c71aca2\",\"attributes\":{\"name\":\"Row02357\",\"tags\":[\"embedded\"],\"stylesheets\":[\"\\n:host(.pn-loading):before, .pn-loading:before {\\n  background-color: #c3c3c3;\\n  mask-size: auto calc(min(50%, 400px));\\n  -webkit-mask-size: auto calc(min(50%, 400px));\\n}\",{\"type\":\"object\",\"name\":\"ImportedStyleSheet\",\"id\":\"9a598469-f17f-443e-9e54-301a7f657c7f\",\"attributes\":{\"url\":\"https://cdn.holoviz.org/panel/1.6.1/dist/css/loading.css\"}},{\"type\":\"object\",\"name\":\"ImportedStyleSheet\",\"id\":\"b8e56edd-2554-487d-b5d6-864fae62e4c9\",\"attributes\":{\"url\":\"https://cdn.holoviz.org/panel/1.6.1/dist/css/listpanel.css\"}},{\"type\":\"object\",\"name\":\"ImportedStyleSheet\",\"id\":\"815c9273-78fb-49a0-a7dd-627e732d2008\",\"attributes\":{\"url\":\"https://cdn.holoviz.org/panel/1.6.1/dist/bundled/theme/default.css\"}},{\"type\":\"object\",\"name\":\"ImportedStyleSheet\",\"id\":\"233fcd06-7589-4a35-8590-fc74786af440\",\"attributes\":{\"url\":\"https://cdn.holoviz.org/panel/1.6.1/dist/bundled/theme/native.css\"}}],\"min_width\":575,\"margin\":0,\"sizing_mode\":\"stretch_width\",\"align\":\"start\",\"children\":[{\"type\":\"object\",\"name\":\"Spacer\",\"id\":\"02bc1818-3c77-4903-b071-bf0124d6e678\",\"attributes\":{\"name\":\"HSpacer02361\",\"stylesheets\":[\"\\n:host(.pn-loading):before, .pn-loading:before {\\n  background-color: #c3c3c3;\\n  mask-size: auto calc(min(50%, 400px));\\n  -webkit-mask-size: auto calc(min(50%, 400px));\\n}\",{\"id\":\"9a598469-f17f-443e-9e54-301a7f657c7f\"},{\"id\":\"815c9273-78fb-49a0-a7dd-627e732d2008\"},{\"id\":\"233fcd06-7589-4a35-8590-fc74786af440\"}],\"margin\":0,\"sizing_mode\":\"stretch_width\",\"align\":\"start\"}},{\"type\":\"object\",\"name\":\"Figure\",\"id\":\"52f6e2e1-63c6-46a3-9afc-28366e356b28\",\"attributes\":{\"width\":575,\"height\":300,\"margin\":[5,10],\"sizing_mode\":\"fixed\",\"align\":\"start\",\"x_range\":{\"type\":\"object\",\"name\":\"Range1d\",\"id\":\"8205652e-c942-46c2-baff-4e84bc0ab4fa\",\"attributes\":{\"name\":\"Year\",\"tags\":[[[\"Year\",null]],[]],\"start\":1950,\"end\":2100,\"reset_start\":1950,\"reset_end\":2100}},\"y_range\":{\"type\":\"object\",\"name\":\"Range1d\",\"id\":\"d37af3fa-5703-441e-92be-2940c66d2ce6\",\"attributes\":{\"name\":\"Mean\",\"tags\":[[[\"Mean\",null]],{\"type\":\"map\",\"entries\":[[\"invert_yaxis\",false],[\"autorange\",false]]}],\"start\":-1,\"end\":5,\"reset_start\":-1,\"reset_end\":5}},\"x_scale\":{\"type\":\"object\",\"name\":\"LinearScale\",\"id\":\"4d5af781-806d-41f2-bd19-cecb4ba5c9fa\"},\"y_scale\":{\"type\":\"object\",\"name\":\"LinearScale\",\"id\":\"c68357e2-abf4-4db6-aed2-25d250d0bbc7\"},\"title\":{\"type\":\"object\",\"name\":\"Title\",\"id\":\"599dd9ad-8dca-41a5-86fc-39cbe1696024\",\"attributes\":{\"text\":\"Global mean surface temperature change relative to 1850-1900\",\"text_color\":\"black\",\"text_font_size\":\"12pt\"}},\"renderers\":[{\"type\":\"object\",\"name\":\"GlyphRenderer\",\"id\":\"1bf3bb25-a506-4a9a-b1cc-dd64c8f6d28c\",\"attributes\":{\"name\":\"Historical\",\"data_source\":{\"type\":\"object\",\"name\":\"ColumnDataSource\",\"id\":\"50d6a956-b297-4065-873d-6ae5dca62adb\",\"attributes\":{\"selected\":{\"type\":\"object\",\"name\":\"Selection\",\"id\":\"72291ae8-c209-4ab2-a2ad-0c4e779d2552\",\"attributes\":{\"indices\":[],\"line_indices\":[]}},\"selection_policy\":{\"type\":\"object\",\"name\":\"UnionRenderers\",\"id\":\"e9c187d5-47d6-4671-b3ca-d18d10101be9\"},\"data\":{\"type\":\"map\",\"entries\":[[\"Year\",{\"type\":\"ndarray\",\"array\":{\"type\":\"bytes\",\"data\":\"ngcAAJ8HAACgBwAAoQcAAKIHAACjBwAApAcAAKUHAACmBwAApwcAAKgHAACpBwAAqgcAAKsHAACsBwAArQcAAK4HAACvBwAAsAcAALEHAACyBwAAswcAALQHAAC1BwAAtgcAALcHAAC4BwAAuQcAALoHAAC7BwAAvAcAAL0HAAC+BwAAvwcAAMAHAADBBwAAwgcAAMMHAADEBwAAxQcAAMYHAADHBwAAyAcAAMkHAADKBwAAywcAAMwHAADNBwAAzgcAAM8HAADQBwAA0QcAANIHAADTBwAA1AcAANUHAADWBwAA1wcAANgHAADZBwAA2gcAANsHAADcBwAA3QcAAN4HAAA=\"},\"shape\":[65],\"dtype\":\"int32\",\"order\":\"little\"}],[\"Mean\",{\"type\":\"ndarray\",\"array\":{\"type\":\"bytes\",\"data\":\"U14robsk0D/3Hi457pTRP8V1jCsujtE/y9dl+E830D/Oxd/2BInPP8mutIzUe9E/v9NkxttK0T+BIatbPSfRP1hZ2xSPi9A/4etrXWqE0D+Tqu0m+KbRP83NN6J71tE/n3JMFvcfzz8N/n4xW7LCP8CR5cnaS7E/vmckQiPYtj9ck25L5ILBPwVpxqLp7MA/forjwKvlxD+TcYxkj1DJPxN+qZ83Fcs/Onr83qY/zT/mkT8YeO7JPyjS/ZyC/Mw/1ZEjnYGRzz/JdOj0vBvLP2e0VUlkH8w/ZXH/kenQ0T/ZXgt6bwzSP4Hrihnh7dM/7pQO1v851j//BBcrajDYP3nnUIaqmNU/A30iT5KuzT+HGK95VWfTP2MOgo5WtdY/eR7cnbXb2D/nw7MEGQHcP2/W4H1VLt4/WybD8XyG4D+dg2dCk8TiP7iVXpuNFeI/VwirsYS10j+bkUHuIkzWP586Vik909w/VHB4QURq3z8viEhNuxjiP2pMiLmkauQ/wm1t4Xmp5D/yfAbUm9HlP/Mf0m9fh+c/NQpJZvWO6T9gx3+BIEDqP1GiJY+nZes/5BOy8za26z+cwd8vZkvsP/ymsFJBxew/qMXgYdq37T87qMR1jCvuP13iyAORxe4/XwzlRLsK8D+i0R3EzpTwP7Pqc7UV+/A/z2vsEtVb8T9gqwSLw5nxPw==\"},\"shape\":[65],\"dtype\":\"float64\",\"order\":\"little\"}]]}}},\"view\":{\"type\":\"object\",\"name\":\"CDSView\",\"id\":\"d6c49bca-aac4-4666-bf77-1be144e1f65c\",\"attributes\":{\"filter\":{\"type\":\"object\",\"name\":\"AllIndices\",\"id\":\"4a76387d-7825-4b60-9b24-db35065689d1\"}}},\"glyph\":{\"type\":\"object\",\"name\":\"Line\",\"id\":\"c1ec3446-3f12-45c4-80c6-a036e18f9a10\",\"attributes\":{\"tags\":[\"apply_ranges\"],\"x\":{\"type\":\"field\",\"field\":\"Year\"},\"y\":{\"type\":\"field\",\"field\":\"Mean\"},\"line_color\":\"#000000\",\"line_width\":2}},\"selection_glyph\":{\"type\":\"object\",\"name\":\"Line\",\"id\":\"c4db4e02-ae26-4300-b876-cd71f0d307cd\",\"attributes\":{\"tags\":[\"apply_ranges\"],\"x\":{\"type\":\"field\",\"field\":\"Year\"},\"y\":{\"type\":\"field\",\"field\":\"Mean\"},\"line_color\":\"#000000\",\"line_width\":2}},\"nonselection_glyph\":{\"type\":\"object\",\"name\":\"Line\",\"id\":\"f070a9c5-7325-4ed7-9ba2-78d758ea95a9\",\"attributes\":{\"tags\":[\"apply_ranges\"],\"x\":{\"type\":\"field\",\"field\":\"Year\"},\"y\":{\"type\":\"field\",\"field\":\"Mean\"},\"line_color\":\"#000000\",\"line_alpha\":0.1,\"line_width\":2}},\"muted_glyph\":{\"type\":\"object\",\"name\":\"Line\",\"id\":\"44f7f4bb-06d4-45ca-9ea3-738f5cc614f3\",\"attributes\":{\"tags\":[\"apply_ranges\"],\"x\":{\"type\":\"field\",\"field\":\"Year\"},\"y\":{\"type\":\"field\",\"field\":\"Mean\"},\"line_color\":\"#000000\",\"line_alpha\":0.2,\"line_width\":2}}}},{\"type\":\"object\",\"name\":\"GlyphRenderer\",\"id\":\"d2c46a9c-774e-4636-a335-d2f81e01d0cf\",\"attributes\":{\"data_source\":{\"type\":\"object\",\"name\":\"ColumnDataSource\",\"id\":\"d95aec18-b3a3-4074-b4bb-c334af1bc380\",\"attributes\":{\"selected\":{\"type\":\"object\",\"name\":\"Selection\",\"id\":\"13cd5137-879e-4ea6-9b5d-f3c87203d0bb\",\"attributes\":{\"indices\":[],\"line_indices\":[]}},\"selection_policy\":{\"type\":\"object\",\"name\":\"UnionRenderers\",\"id\":\"f9056f73-1d98-4c88-b209-e3875e64cac2\"},\"data\":{\"type\":\"map\",\"entries\":[[\"x\",{\"type\":\"ndarray\",\"array\":{\"type\":\"bytes\",\"data\":\"ngcAAJ8HAACgBwAAoQcAAKIHAACjBwAApAcAAKUHAACmBwAApwcAAKgHAACpBwAAqgcAAKsHAACsBwAArQcAAK4HAACvBwAAsAcAALEHAACyBwAAswcAALQHAAC1BwAAtgcAALcHAAC4BwAAuQcAALoHAAC7BwAAvAcAAL0HAAC+BwAAvwcAAMAHAADBBwAAwgcAAMMHAADEBwAAxQcAAMYHAADHBwAAyAcAAMkHAADKBwAAywcAAMwHAADNBwAAzgcAAM8HAADQBwAA0QcAANIHAADTBwAA1AcAANUHAADWBwAA1wcAANgHAADZBwAA2gcAANsHAADcBwAA3QcAAN4HAADeBwAA3QcAANwHAADbBwAA2gcAANkHAADYBwAA1wcAANYHAADVBwAA1AcAANMHAADSBwAA0QcAANAHAADPBwAAzgcAAM0HAADMBwAAywcAAMoHAADJBwAAyAcAAMcHAADGBwAAxQcAAMQHAADDBwAAwgcAAMEHAADABwAAvwcAAL4HAAC9BwAAvAcAALsHAAC6BwAAuQcAALgHAAC3BwAAtgcAALUHAAC0BwAAswcAALIHAACxBwAAsAcAAK8HAACuBwAArQcAAKwHAACrBwAAqgcAAKkHAACoBwAApwcAAKYHAAClBwAApAcAAKMHAACiBwAAoQcAAKAHAACfBwAAngcAAA==\"},\"shape\":[130],\"dtype\":\"int32\",\"order\":\"little\"}],[\"y\",{\"type\":\"ndarray\",\"array\":{\"type\":\"bytes\",\"data\":\"XJIDdjV54z8peAq5Us/gP68l5IOeTeE/VwbVBici4T9KfVnaqbnhP8udmWA4V+E/exaE8j4O4z850a5Cyk/iP0EpWrkXGOE/Bfhu88bJ4T8tlbcjnJbhP8zUJHhDGuM/F7mnqzsW3z+Ws3dGW5XcP2w/GePD7NY/2pB/ZhAf1T+H/gkuVtTaP/rVHCCYo9s/W9JRDmYT3j+PxMvTuaLbP7Xf2omSkN8/9pfdk4cF4T8fDhKifEHePwxZ3eo56dw/GY7nM6De3z87Hch6avXgPzntKTkn9t0/RUjdzr7y3z+QhegQOJLjP3Ww/s9hPuI/rU85Jov74z/tmpDWGPTiPyhGlsyxvOI/aM76lGMy4j/XaDnQQ23jP1UVGohls+Q/E9Iag04I5j95Vz1gHjLmP5xrmKHxROY/7MA5I0p75z/WbrvQXCfqP/fI5qp5Duo/wjI2dLO/4D9EiCtn7wzkP0p/L4UHzeU/xY1bzM8N6D/DSC9q9yvoPyaMZmX7EOs/7nn+tFGd6j8qyqXxC6/rPy/9S1KZ4us/IO9VKxP+7z9hxhSscbbvPxa/KaxU0O8/KQXdXtIY8T857pQO1v/wP+6x9KELavE/YOrnTUWq8T8tlbcjnBbyP9fAVgkWh/I/z0nvG1979D+6SQwCKwfzP5kNMsnI2fM/p3nHKTqS9D8fuqC+ZU71P36s4Lchxu0/tMu3Pqw37T8c6+I2GkDsP8B1xYzw9uo/z2kWaHfI6j92qnzPSITpP8/AyMuaWOk/xK9Yw0Vu5z8EAp1JmyrmP83Ji0zAL+Y/6EoEqn8Q5j9Wtg95y9XlP3ptNlZiHuM//7Pmx19a4z84ns+AejPhP0YMO4xJf9w/Z++MtiqJ3D8B++jUlc/bP+fj2lAxztY/XTKOkewR0j/DvMeZJmzFP0s/4ezWMsM/r3srEhPUsD+oxeBh2jfTP6fqHtlcNdo/jBL0F3rE0j8ZAKq4cYvDPw3EsplDUsU/3bJD/MOWwj8x+OqZFNWpP87ixcIQOcE/dUJDWr6JjL+wWYnUD0WyP5FhFW9kHr0/ipqeZjfpoD/knehfNxGavzTO8LCa+Jw/ar3faMcNlz9Y6Un0jUOQvzpCYatfRJ6/aFB+nHrujr+tc8I6RJKXv8x8Bz9xAMe/bJc2HJYGyL9VKYdgZum4v2nlXmBWKMK/0uRiDKzjzL9eDybFxyfQv/AZ5Il7h7S/aOkKthFPyL+9qN2vAnzJv/q0iv7QzMO/qinJOhxdvb8xpqoazkaYP/Q0YJD0abW/5c7xdikamL8loeNZOP+hv6BYAoRq3rS/1NNH4A8/v79k7yDRX0OnvxuADYgQV8C/Y1BcRMoFlb+F25A12fWlv9Bdt63Sgqy/XMmOjUC8rr8=\"},\"shape\":[130],\"dtype\":\"float64\",\"order\":\"little\"}]]}}},\"view\":{\"type\":\"object\",\"name\":\"CDSView\",\"id\":\"eb7da36a-71e5-4dcb-882b-a8ffce13b0b9\",\"attributes\":{\"filter\":{\"type\":\"object\",\"name\":\"AllIndices\",\"id\":\"f181b0c4-e10a-4cb9-b7c0-09514c4f3987\"}}},\"glyph\":{\"type\":\"object\",\"name\":\"Patch\",\"id\":\"40b14edf-6d60-4de7-8ad7-26d1eecc64da\",\"attributes\":{\"tags\":[\"apply_ranges\"],\"x\":{\"type\":\"field\",\"field\":\"x\"},\"y\":{\"type\":\"field\",\"field\":\"y\"},\"line_alpha\":0.1,\"fill_color\":\"#000000\",\"fill_alpha\":0.1,\"hatch_color\":\"#000000\",\"hatch_alpha\":0.1}},\"selection_glyph\":{\"type\":\"object\",\"name\":\"Patch\",\"id\":\"ddc99307-1150-49a3-9f95-29d6a5e6a67e\",\"attributes\":{\"tags\":[\"apply_ranges\"],\"x\":{\"type\":\"field\",\"field\":\"x\"},\"y\":{\"type\":\"field\",\"field\":\"y\"},\"line_alpha\":0.1,\"fill_color\":\"#000000\",\"fill_alpha\":0.1,\"hatch_color\":\"#000000\",\"hatch_alpha\":0.1}},\"nonselection_glyph\":{\"type\":\"object\",\"name\":\"Patch\",\"id\":\"14cf1a01-aea2-4a6a-a451-85d5c5a1bc74\",\"attributes\":{\"tags\":[\"apply_ranges\"],\"x\":{\"type\":\"field\",\"field\":\"x\"},\"y\":{\"type\":\"field\",\"field\":\"y\"},\"line_alpha\":0.1,\"fill_color\":\"#000000\",\"fill_alpha\":0.1,\"hatch_color\":\"#000000\",\"hatch_alpha\":0.1}},\"muted_glyph\":{\"type\":\"object\",\"name\":\"Patch\",\"id\":\"2c42dbda-3238-46b4-8546-7fe0746a1464\",\"attributes\":{\"tags\":[\"apply_ranges\"],\"x\":{\"type\":\"field\",\"field\":\"x\"},\"y\":{\"type\":\"field\",\"field\":\"y\"},\"line_alpha\":0.2,\"fill_color\":\"#000000\",\"fill_alpha\":0.2,\"hatch_color\":\"#000000\",\"hatch_alpha\":0.2}}}},{\"type\":\"object\",\"name\":\"GlyphRenderer\",\"id\":\"a3bbd77b-661e-45b3-b7a9-491d7494491c\",\"attributes\":{\"name\":\"SSP1-1.9\",\"data_source\":{\"type\":\"object\",\"name\":\"ColumnDataSource\",\"id\":\"6a528722-cbd1-4f1a-b0fc-df7da523e04c\",\"attributes\":{\"selected\":{\"type\":\"object\",\"name\":\"Selection\",\"id\":\"aff540e1-6d09-442e-a799-ecedbee2d054\",\"attributes\":{\"indices\":[],\"line_indices\":[]}},\"selection_policy\":{\"type\":\"object\",\"name\":\"UnionRenderers\",\"id\":\"5bf76b25-d0b7-4880-9ea0-80722ea72d00\"},\"data\":{\"type\":\"map\",\"entries\":[[\"Year\",{\"type\":\"ndarray\",\"array\":{\"type\":\"bytes\",\"data\":\"AAAAAAB8n0AAAAAAAICfQAAAAAAAhJ9AAAAAAACIn0AAAAAAAIyfQAAAAAAAkJ9AAAAAAACUn0AAAAAAAJifQAAAAAAAnJ9AAAAAAACgn0AAAAAAAKSfQAAAAAAAqJ9AAAAAAACsn0AAAAAAALCfQAAAAAAAtJ9AAAAAAAC4n0AAAAAAALyfQAAAAAAAwJ9AAAAAAADEn0AAAAAAAMifQAAAAAAAzJ9AAAAAAADQn0AAAAAAANSfQAAAAAAA2J9AAAAAAADcn0AAAAAAAOCfQAAAAAAA5J9AAAAAAADon0AAAAAAAOyfQAAAAAAA8J9AAAAAAAD0n0AAAAAAAPifQAAAAAAA/J9AAAAAAAAAoEAAAAAAAAKgQAAAAAAABKBAAAAAAAAGoEAAAAAAAAigQAAAAAAACqBAAAAAAAAMoEAAAAAAAA6gQAAAAAAAEKBAAAAAAAASoEAAAAAAABSgQAAAAAAAFqBAAAAAAAAYoEAAAAAAABqgQAAAAAAAHKBAAAAAAAAeoEAAAAAAACCgQAAAAAAAIqBAAAAAAAAkoEAAAAAAACagQAAAAAAAKKBAAAAAAAAqoEAAAAAAACygQAAAAAAALqBAAAAAAAAwoEAAAAAAADKgQAAAAAAANKBAAAAAAAA2oEAAAAAAADigQAAAAAAAOqBAAAAAAAA8oEAAAAAAAD6gQAAAAAAAQKBAAAAAAABCoEAAAAAAAESgQAAAAAAARqBAAAAAAABIoEAAAAAAAEqgQAAAAAAATKBAAAAAAABOoEAAAAAAAFCgQAAAAAAAUqBAAAAAAABUoEAAAAAAAFagQAAAAAAAWKBAAAAAAABaoEAAAAAAAFygQAAAAAAAXqBAAAAAAABgoEAAAAAAAGKgQAAAAAAAZKBAAAAAAABmoEA=\"},\"shape\":[85],\"dtype\":\"float64\",\"order\":\"little\"}],[\"Mean\",{\"type\":\"ndarray\",\"array\":{\"type\":\"bytes\",\"data\":\"vMzSVLaU8T8n6C/iw/jxP62/5pC2YfI/CfMLj6PN8j/oWv4VrDXzPzxQIf6Im/M/iNrrKAcH9D+g04WTbG70P6ovVzX5zPQ/SUMWp60k9T+TnT3qUoD1P1VavBw43vU/E5D1vE829j8nzbyPH4T2P+DrRI8Z0fY/XAGkO5YY9z8397zxZlj3P7Th+pa4lfc/Igpnf0fO9z/gXq4/YP33P5/a1hM8Kfg/AOLo7htS+D9yc/PsrHP4P7A6V3y8kPg/m1KihGmw+D+CFjQcTsv4P6RGCXSu3fg/cEjHn5Pw+D8skl4EOwH5P7FjhDvMD/k/GQrhIAYX+T8nLtQrHxP5P+2JuAFvEvk/C4n463sR+T9YjltfCg/5P2oFHhETDPk/493vAscI+T97k1beWAH5P8pvQzPR+vg/cB6G4Zv1+D8pVqUeUur4P2wTnZVx2vg/FfdrDxrM+D/PJShmx8H4Pw5YFILJsvg/yjVvvdyj+D++lvC7B5b4P38fcgfeh/g/ct5sVe12+D8SRc4aNWb4PxaC+ZxAVPg/7b5bmWNJ+D/w1EgYIjv4P3BPI8Y3K/g/kHRFw6Ia+D8zABHUZwv4P4oCd+kj/fc/5ZsSF97t9z8BmqVOOuD3P8mnhroL0/c/nnJd4YvJ9z9iePfvSbv3P8oTAvjoq/c/9dUVTKCY9z/znfSsIIH3PwQcQ8W8avc/jpHiP0ZZ9z8nL9HGjUj3P9VYTJR4N/c/chJLYikl9z/23Fj2Bxn3PysXY0eIBvc/2LjRu4nz9j/UwMtzcd/2PzRDLtxIyPY/gp3wwqOv9j81evDiA6H2PwWDkz1kk/Y/DCBjcNyD9j9HsYdgGHT2P8k5nXC+ZPY/IXDYvLxV9j9vx2ykk0b2P2p4xOrlNvY/QSBL8Zso9j8=\"},\"shape\":[85],\"dtype\":\"float64\",\"order\":\"little\"}]]}}},\"view\":{\"type\":\"object\",\"name\":\"CDSView\",\"id\":\"27d3ccc8-eb6a-4109-bf52-87e456375a82\",\"attributes\":{\"filter\":{\"type\":\"object\",\"name\":\"AllIndices\",\"id\":\"952aad12-dfcd-43e6-b783-26e8104ec574\"}}},\"glyph\":{\"type\":\"object\",\"name\":\"Line\",\"id\":\"4a93a114-27d1-4910-82b4-6668173fff7f\",\"attributes\":{\"tags\":[\"apply_ranges\"],\"x\":{\"type\":\"field\",\"field\":\"Year\"},\"y\":{\"type\":\"field\",\"field\":\"Mean\"},\"line_color\":\"#00a9cf\",\"line_width\":2}},\"selection_glyph\":{\"type\":\"object\",\"name\":\"Line\",\"id\":\"67da2fdc-069c-444f-8800-72dd16ed96b1\",\"attributes\":{\"tags\":[\"apply_ranges\"],\"x\":{\"type\":\"field\",\"field\":\"Year\"},\"y\":{\"type\":\"field\",\"field\":\"Mean\"},\"line_color\":\"#00a9cf\",\"line_width\":2}},\"nonselection_glyph\":{\"type\":\"object\",\"name\":\"Line\",\"id\":\"b84a4060-d402-4e22-81cb-f8cb0e8ed42a\",\"attributes\":{\"tags\":[\"apply_ranges\"],\"x\":{\"type\":\"field\",\"field\":\"Year\"},\"y\":{\"type\":\"field\",\"field\":\"Mean\"},\"line_color\":\"#00a9cf\",\"line_alpha\":0.1,\"line_width\":2}},\"muted_glyph\":{\"type\":\"object\",\"name\":\"Line\",\"id\":\"64abc54d-966f-41a0-8e4c-f513a1dbd4e7\",\"attributes\":{\"tags\":[\"apply_ranges\"],\"x\":{\"type\":\"field\",\"field\":\"Year\"},\"y\":{\"type\":\"field\",\"field\":\"Mean\"},\"line_color\":\"#00a9cf\",\"line_alpha\":0.2,\"line_width\":2}}}},{\"type\":\"object\",\"name\":\"GlyphRenderer\",\"id\":\"e6711e8d-590e-43fb-9d20-e005e72bc65b\",\"attributes\":{\"name\":\"SSP1-2.6\",\"data_source\":{\"type\":\"object\",\"name\":\"ColumnDataSource\",\"id\":\"c3551569-2fc5-4f05-b4ec-0058883a6376\",\"attributes\":{\"selected\":{\"type\":\"object\",\"name\":\"Selection\",\"id\":\"1a438ef3-6d5f-48a0-a512-58c243ef5dd1\",\"attributes\":{\"indices\":[],\"line_indices\":[]}},\"selection_policy\":{\"type\":\"object\",\"name\":\"UnionRenderers\",\"id\":\"735a985d-ca18-4b1b-88d1-f620b17bc4d8\"},\"data\":{\"type\":\"map\",\"entries\":[[\"Year\",{\"type\":\"ndarray\",\"array\":{\"type\":\"bytes\",\"data\":\"3wcAAOAHAADhBwAA4gcAAOMHAADkBwAA5QcAAOYHAADnBwAA6AcAAOkHAADqBwAA6wcAAOwHAADtBwAA7gcAAO8HAADwBwAA8QcAAPIHAADzBwAA9AcAAPUHAAD2BwAA9wcAAPgHAAD5BwAA+gcAAPsHAAD8BwAA/QcAAP4HAAD/BwAAAAgAAAEIAAACCAAAAwgAAAQIAAAFCAAABggAAAcIAAAICAAACQgAAAoIAAALCAAADAgAAA0IAAAOCAAADwgAABAIAAARCAAAEggAABMIAAAUCAAAFQgAABYIAAAXCAAAGAgAABkIAAAaCAAAGwgAABwIAAAdCAAAHggAAB8IAAAgCAAAIQgAACIIAAAjCAAAJAgAACUIAAAmCAAAJwgAACgIAAApCAAAKggAACsIAAAsCAAALQgAAC4IAAAvCAAAMAgAADEIAAAyCAAAMwgAAA==\"},\"shape\":[85],\"dtype\":\"int32\",\"order\":\"little\"}],[\"Mean\",{\"type\":\"ndarray\",\"array\":{\"type\":\"bytes\",\"data\":\"7CuJmISW8T8iUGVnvf/xP7zalnAEa/I/Ge7nCnLU8j/wv7uzezzzP1tOhgYJqfM/AmRf5+MQ9D+HqBPn4HX0P1+icvoX1PQ/OfQlOhw09T/XQ0AtIpz1P5Iq74I/9vU/pRJ9wgJV9j8MVP5pLq32P7P/kjhRCfc/Y2A5HD9f9z9BXx9CAbD3P3LfGVa5/Pc/g9WxeiJI+D9LHE6gVYz4P1I7OOINzPg/a2VfBToL+T++b800mUX5Py77rVGag/k/c2pLQ6vA+T+HwJFAg/X5P5r29cWjKfo/T+3UqPxd+j8vYPeNF5H6P2VMo8QMt/o/a9BsXqLg+j8bIEVbnQ37P8B/IxzbNPs/EbwutwxU+z8Mf6SNxXT7P6RESGbAlPs/h/AW5SW5+z9JyPFXidj7P8Dr9gNl9fs/hXrwlogQ/D//tNIdJCn8P4UIWZITQPw/tX08ssFT/D+xPe3PyWP8P3hUSybmcvw/4BiNcuyF/D83KO1P2pL8Pyzb3byem/w/6/X7ufmq/D90UVXqV7f8P6XaRLl2wvw/T1a7DwjI/D9i7wJ7Bcf8P2+OEnLgyPw/xKRsT5jR/D85XW/L4s78PzmX03+Fzfw/2fi22m/P/D8YHZ2uf8v8P7c0JuCxyfw/ZFnDVBnH/D9nNIyXe8T8P5lFI/3Ivfw/ZoEgh1uy/D9j9vFR+Kz8P+SbHCdNn/w/1l+iht6W/D/d7DVbfor8PxCEKZ8lffw/0cBnogpy/D/SAqLKqmT8PzgVuFvjWvw//nxRPuFN/D9cwnF+Yjv8P03/q/FGLPw/0m4a+cEj/D9C0LCcrRH8P9RYWPZ4//s/NCWjFL7w+z+C4DMKMOH7PygLX1/r0vs/wYVOZdfB+z/PC4RYjrT7P0oy0z+Go/s/R8QdOgCU+z8=\"},\"shape\":[85],\"dtype\":\"float64\",\"order\":\"little\"}]]}}},\"view\":{\"type\":\"object\",\"name\":\"CDSView\",\"id\":\"a54ea5d1-87f2-40ab-a9f7-1d9680d66ac5\",\"attributes\":{\"filter\":{\"type\":\"object\",\"name\":\"AllIndices\",\"id\":\"9fdb0768-7b90-45b2-838f-76d5fb16be0a\"}}},\"glyph\":{\"type\":\"object\",\"name\":\"Line\",\"id\":\"e346bd8d-1fa3-4ee2-a55b-14df923a999b\",\"attributes\":{\"tags\":[\"apply_ranges\"],\"x\":{\"type\":\"field\",\"field\":\"Year\"},\"y\":{\"type\":\"field\",\"field\":\"Mean\"},\"line_color\":\"#003466\",\"line_width\":2}},\"selection_glyph\":{\"type\":\"object\",\"name\":\"Line\",\"id\":\"ce4bbf28-e980-4b0e-bd9e-857869083486\",\"attributes\":{\"tags\":[\"apply_ranges\"],\"x\":{\"type\":\"field\",\"field\":\"Year\"},\"y\":{\"type\":\"field\",\"field\":\"Mean\"},\"line_color\":\"#003466\",\"line_width\":2}},\"nonselection_glyph\":{\"type\":\"object\",\"name\":\"Line\",\"id\":\"d7f834a9-56d3-4a8f-8866-d99aecb83af2\",\"attributes\":{\"tags\":[\"apply_ranges\"],\"x\":{\"type\":\"field\",\"field\":\"Year\"},\"y\":{\"type\":\"field\",\"field\":\"Mean\"},\"line_color\":\"#003466\",\"line_alpha\":0.1,\"line_width\":2}},\"muted_glyph\":{\"type\":\"object\",\"name\":\"Line\",\"id\":\"4a823167-c237-465a-b125-94baae1d1ebe\",\"attributes\":{\"tags\":[\"apply_ranges\"],\"x\":{\"type\":\"field\",\"field\":\"Year\"},\"y\":{\"type\":\"field\",\"field\":\"Mean\"},\"line_color\":\"#003466\",\"line_alpha\":0.2,\"line_width\":2}}}},{\"type\":\"object\",\"name\":\"GlyphRenderer\",\"id\":\"c5275ba6-a727-4846-be7f-6fcac4d6d9f5\",\"attributes\":{\"name\":\"SSP2-4.5\",\"data_source\":{\"type\":\"object\",\"name\":\"ColumnDataSource\",\"id\":\"82993049-6353-4d4c-9841-f055bb976cec\",\"attributes\":{\"selected\":{\"type\":\"object\",\"name\":\"Selection\",\"id\":\"4b368391-83f2-4f69-af69-0f0ab4e16a64\",\"attributes\":{\"indices\":[],\"line_indices\":[]}},\"selection_policy\":{\"type\":\"object\",\"name\":\"UnionRenderers\",\"id\":\"c3e2d35b-7d5d-490f-a357-47efc4ed4f85\"},\"data\":{\"type\":\"map\",\"entries\":[[\"Year\",{\"type\":\"ndarray\",\"array\":{\"type\":\"bytes\",\"data\":\"AAAAAAB8n0AAAAAAAICfQAAAAAAAhJ9AAAAAAACIn0AAAAAAAIyfQAAAAAAAkJ9AAAAAAACUn0AAAAAAAJifQAAAAAAAnJ9AAAAAAACgn0AAAAAAAKSfQAAAAAAAqJ9AAAAAAACsn0AAAAAAALCfQAAAAAAAtJ9AAAAAAAC4n0AAAAAAALyfQAAAAAAAwJ9AAAAAAADEn0AAAAAAAMifQAAAAAAAzJ9AAAAAAADQn0AAAAAAANSfQAAAAAAA2J9AAAAAAADcn0AAAAAAAOCfQAAAAAAA5J9AAAAAAADon0AAAAAAAOyfQAAAAAAA8J9AAAAAAAD0n0AAAAAAAPifQAAAAAAA/J9AAAAAAAAAoEAAAAAAAAKgQAAAAAAABKBAAAAAAAAGoEAAAAAAAAigQAAAAAAACqBAAAAAAAAMoEAAAAAAAA6gQAAAAAAAEKBAAAAAAAASoEAAAAAAABSgQAAAAAAAFqBAAAAAAAAYoEAAAAAAABqgQAAAAAAAHKBAAAAAAAAeoEAAAAAAACCgQAAAAAAAIqBAAAAAAAAkoEAAAAAAACagQAAAAAAAKKBAAAAAAAAqoEAAAAAAACygQAAAAAAALqBAAAAAAAAwoEAAAAAAADKgQAAAAAAANKBAAAAAAAA2oEAAAAAAADigQAAAAAAAOqBAAAAAAAA8oEAAAAAAAD6gQAAAAAAAQKBAAAAAAABCoEAAAAAAAESgQAAAAAAARqBAAAAAAABIoEAAAAAAAEqgQAAAAAAATKBAAAAAAABOoEAAAAAAAFCgQAAAAAAAUqBAAAAAAABUoEAAAAAAAFagQAAAAAAAWKBAAAAAAABaoEAAAAAAAFygQAAAAAAAXqBAAAAAAABgoEAAAAAAAGKgQAAAAAAAZKBAAAAAAABmoEA=\"},\"shape\":[85],\"dtype\":\"float64\",\"order\":\"little\"}],[\"Mean\",{\"type\":\"ndarray\",\"array\":{\"type\":\"bytes\",\"data\":\"lunettOm8T9nJ9AkygfyP6dp9cpCbvI/8VSRugvW8j9P2Qo7Hz/zP0WFY8/PrfM/qM2k7cAX9D/lb8Y9T4D0P7KysfYb6PQ/EEQemVZT9T8pJyFL4bj1P0MhF7NnGfY/5vwShiJ99j99K1wRyez2P5f8RjofVPc/0GzdLiK69z9sh4wOeBn4P8wHOWKcePg/LGd7qqrS+D90MDt2MCr5P39gMf97gfk/+oOb+cLf+T8saLsCQkH6PxeG4OuipPo/wOjALL0G+z/fjvshuWX7P4gRXgx2yvs/xvfKWdIv/D+O3ALSV5b8PxYnaFUJ8vw/+HnB4b5K/T/BlLYFEqz9Px9O1atNFP4/GnMafYVt/j+a5rw8B8L+P5TzVd7jIf8/Hsn4652S/z8oQzjNben/P2vDGoHlIgBA1aYnviJPAEBvioC5T30AQMX5+xPWqwBAYAo8jbnVAEBFUAfBqf8AQLFpz37/KQFAWzMiUStSAUCNPXPgZX0BQIOclbecpAFApu9wbpPNAUDiK6hGUvYBQCpKHy11GwJAvRtRXANAAkD0aJTKDWMCQPJ+RK6nhwJAH/mAIb+rAkAKGpyTI8wCQKkxv8AV7QJAZRpKBdEVA0AYxzyc/DQDQAaOjcPpXQNA0FBZ2PJ+A0AEpMN1IZgDQKq7NRn6wANAj2oi7TDhA0AoXR2eUP0DQC6c5Z2YGgRAliedxcM3BED45hWR21YEQF4zWXHWdARAOiGiOeaSBEDk6Qpki7AEQExOiKDfzQRAzfJL2WDqBEBkgpmC8QQFQPJ65LlwHAVAVzI9a2MzBUBqblj1kFEFQBhOUsoLZwVA8bgoit9+BUDrmSRGNpYFQCPD5/mwrQVAlHmd2FvFBUA7Rm5SndcFQJqXJQ8u6wVA/c8rhi38BUA=\"},\"shape\":[85],\"dtype\":\"float64\",\"order\":\"little\"}]]}}},\"view\":{\"type\":\"object\",\"name\":\"CDSView\",\"id\":\"b0f3fdec-c620-409e-905d-f7537512a99d\",\"attributes\":{\"filter\":{\"type\":\"object\",\"name\":\"AllIndices\",\"id\":\"86cdfce3-b21d-4c77-95cc-79ffff6a8d2d\"}}},\"glyph\":{\"type\":\"object\",\"name\":\"Line\",\"id\":\"fa191577-70f0-41d7-be6f-a7c5a84a3e1c\",\"attributes\":{\"tags\":[\"apply_ranges\"],\"x\":{\"type\":\"field\",\"field\":\"Year\"},\"y\":{\"type\":\"field\",\"field\":\"Mean\"},\"line_color\":\"#f69320\",\"line_width\":2}},\"selection_glyph\":{\"type\":\"object\",\"name\":\"Line\",\"id\":\"52bf01bd-0ea9-4c21-8fe3-a8abf083f1a2\",\"attributes\":{\"tags\":[\"apply_ranges\"],\"x\":{\"type\":\"field\",\"field\":\"Year\"},\"y\":{\"type\":\"field\",\"field\":\"Mean\"},\"line_color\":\"#f69320\",\"line_width\":2}},\"nonselection_glyph\":{\"type\":\"object\",\"name\":\"Line\",\"id\":\"08859760-0148-427e-9663-f99699a6ef94\",\"attributes\":{\"tags\":[\"apply_ranges\"],\"x\":{\"type\":\"field\",\"field\":\"Year\"},\"y\":{\"type\":\"field\",\"field\":\"Mean\"},\"line_color\":\"#f69320\",\"line_alpha\":0.1,\"line_width\":2}},\"muted_glyph\":{\"type\":\"object\",\"name\":\"Line\",\"id\":\"0420afe6-3063-40b3-a291-6a3066c649ab\",\"attributes\":{\"tags\":[\"apply_ranges\"],\"x\":{\"type\":\"field\",\"field\":\"Year\"},\"y\":{\"type\":\"field\",\"field\":\"Mean\"},\"line_color\":\"#f69320\",\"line_alpha\":0.2,\"line_width\":2}}}},{\"type\":\"object\",\"name\":\"GlyphRenderer\",\"id\":\"2ead9de2-c69f-4039-9bfb-ebf26463bc14\",\"attributes\":{\"name\":\"SSP3-7.0\",\"data_source\":{\"type\":\"object\",\"name\":\"ColumnDataSource\",\"id\":\"e53ebed1-ed9d-443c-9dea-b50454e4fb38\",\"attributes\":{\"selected\":{\"type\":\"object\",\"name\":\"Selection\",\"id\":\"e73d5fb3-700c-4557-9f78-46d2e1ba43f1\",\"attributes\":{\"indices\":[],\"line_indices\":[]}},\"selection_policy\":{\"type\":\"object\",\"name\":\"UnionRenderers\",\"id\":\"dfae95e4-099d-4413-bd92-25e35bea9639\"},\"data\":{\"type\":\"map\",\"entries\":[[\"Year\",{\"type\":\"ndarray\",\"array\":{\"type\":\"bytes\",\"data\":\"3wcAAOAHAADhBwAA4gcAAOMHAADkBwAA5QcAAOYHAADnBwAA6AcAAOkHAADqBwAA6wcAAOwHAADtBwAA7gcAAO8HAADwBwAA8QcAAPIHAADzBwAA9AcAAPUHAAD2BwAA9wcAAPgHAAD5BwAA+gcAAPsHAAD8BwAA/QcAAP4HAAD/BwAAAAgAAAEIAAACCAAAAwgAAAQIAAAFCAAABggAAAcIAAAICAAACQgAAAoIAAALCAAADAgAAA0IAAAOCAAADwgAABAIAAARCAAAEggAABMIAAAUCAAAFQgAABYIAAAXCAAAGAgAABkIAAAaCAAAGwgAABwIAAAdCAAAHggAAB8IAAAgCAAAIQgAACIIAAAjCAAAJAgAACUIAAAmCAAAJwgAACgIAAApCAAAKggAACsIAAAsCAAALQgAAC4IAAAvCAAAMAgAADEIAAAyCAAAMwgAAA==\"},\"shape\":[85],\"dtype\":\"int32\",\"order\":\"little\"}],[\"Mean\",{\"type\":\"ndarray\",\"array\":{\"type\":\"bytes\",\"data\":\"FRJPx3qC8T/1fJiACePxP/YoQDqTS/I/9b34NaG38j8WC1AO9x3zP0FPjvjRhfM/NiI+zjny8z+d4ifEEl30PzV7fwcvx/Q/4xkqgtwu9T/SFjVqTpb1PwaaDB30AvY/DIRT1bpz9j/BeY84Bur2P5Gl5t0eXfc/1rqx+ejP9z8quNFgUEf4Pwxs3+2Lvfg/3m96OP0w+T9ECmPgwKH5P8Mnk9a8E/o/m/hyuLmN+j+KWOp3Zgz7Px2+wSGYhvs/S+Oblu39+z80s7rISYD8P41w5pmPCv0/l1a1NweO/T+zOScmCgX+P6nXOixlhf4/Lpk/s98L/z/en7NOWpX/PzJ+7L77DABA2BVRGDZMAEAO/CROWYcAQNtM4+klzgBAqwA9398QAUBUjHwp/1QBQLeYdJs9mgFAcm9ibhXhAUAuNjYGYCUCQPTLFv8tZwJARqjxiXerAkDLusu6ifICQIjTFMTqOgNAbFJLHyyCA0A7dkNf6cgDQCYfruGRFARAA92/+6hfBEBEWMfQNawEQPjfKWiD+QRAV0N1ghxFBUDpn6i45pAFQBNeUhoJ1wVAw3YggA4eBkAGojHXxWQGQNWxmzCZsgZAIw2KwDoBB0Agw7tAb0wHQHI1m4+3mQdA3KVjh17mB0APguRWbjkIQP+zPMgYhwhAxUAWI8TRCEAY6sdeoyAJQIncE/HEcglAtUfDtx2/CUAOS/6F8AgKQASicfJsWApAYeZrMaCoCkD7E+hVlfgKQL0NvQfgRQtAXk0VwTyWC0AZlHhf5uoLQDwsyihzPAxABSDw64CKDEBHrFgL0tkMQEFF0Pa6KQ1AkzaczFR5DUDwsNKiE8UNQDemsB1PEQ5Ay7ikyCxfDkDIkcROVa4OQIhdoTCk+g5A+F0qmRBFD0A=\"},\"shape\":[85],\"dtype\":\"float64\",\"order\":\"little\"}]]}}},\"view\":{\"type\":\"object\",\"name\":\"CDSView\",\"id\":\"f61aea13-1c79-47e9-be86-b730cbd5bcfd\",\"attributes\":{\"filter\":{\"type\":\"object\",\"name\":\"AllIndices\",\"id\":\"69f999eb-2f90-4dcd-bd77-660629ec3f0e\"}}},\"glyph\":{\"type\":\"object\",\"name\":\"Line\",\"id\":\"8a23b970-93c6-472a-af2f-b4153234a2a0\",\"attributes\":{\"tags\":[\"apply_ranges\"],\"x\":{\"type\":\"field\",\"field\":\"Year\"},\"y\":{\"type\":\"field\",\"field\":\"Mean\"},\"line_color\":\"#df0000\",\"line_width\":2}},\"selection_glyph\":{\"type\":\"object\",\"name\":\"Line\",\"id\":\"3835b6ed-aa62-44eb-a086-c802b38abe95\",\"attributes\":{\"tags\":[\"apply_ranges\"],\"x\":{\"type\":\"field\",\"field\":\"Year\"},\"y\":{\"type\":\"field\",\"field\":\"Mean\"},\"line_color\":\"#df0000\",\"line_width\":2}},\"nonselection_glyph\":{\"type\":\"object\",\"name\":\"Line\",\"id\":\"f74c0ff5-a6dd-4593-9a92-59e2176e31a6\",\"attributes\":{\"tags\":[\"apply_ranges\"],\"x\":{\"type\":\"field\",\"field\":\"Year\"},\"y\":{\"type\":\"field\",\"field\":\"Mean\"},\"line_color\":\"#df0000\",\"line_alpha\":0.1,\"line_width\":2}},\"muted_glyph\":{\"type\":\"object\",\"name\":\"Line\",\"id\":\"e51a0928-5461-4814-bfa7-9f63490a7ca6\",\"attributes\":{\"tags\":[\"apply_ranges\"],\"x\":{\"type\":\"field\",\"field\":\"Year\"},\"y\":{\"type\":\"field\",\"field\":\"Mean\"},\"line_color\":\"#df0000\",\"line_alpha\":0.2,\"line_width\":2}}}},{\"type\":\"object\",\"name\":\"GlyphRenderer\",\"id\":\"2e67bd47-1b9b-4ad5-879e-9370faaa0975\",\"attributes\":{\"name\":\"SSP5-8.5\",\"data_source\":{\"type\":\"object\",\"name\":\"ColumnDataSource\",\"id\":\"e661bcad-f2ed-4e2e-8668-de36b691fab8\",\"attributes\":{\"selected\":{\"type\":\"object\",\"name\":\"Selection\",\"id\":\"c769e51f-1e13-48f5-a7db-1abac6b1b921\",\"attributes\":{\"indices\":[],\"line_indices\":[]}},\"selection_policy\":{\"type\":\"object\",\"name\":\"UnionRenderers\",\"id\":\"d2f6f9f7-193f-4065-b151-676aa7d07929\"},\"data\":{\"type\":\"map\",\"entries\":[[\"Year\",{\"type\":\"ndarray\",\"array\":{\"type\":\"bytes\",\"data\":\"AAAAAAB8n0AAAAAAAICfQAAAAAAAhJ9AAAAAAACIn0AAAAAAAIyfQAAAAAAAkJ9AAAAAAACUn0AAAAAAAJifQAAAAAAAnJ9AAAAAAACgn0AAAAAAAKSfQAAAAAAAqJ9AAAAAAACsn0AAAAAAALCfQAAAAAAAtJ9AAAAAAAC4n0AAAAAAALyfQAAAAAAAwJ9AAAAAAADEn0AAAAAAAMifQAAAAAAAzJ9AAAAAAADQn0AAAAAAANSfQAAAAAAA2J9AAAAAAADcn0AAAAAAAOCfQAAAAAAA5J9AAAAAAADon0AAAAAAAOyfQAAAAAAA8J9AAAAAAAD0n0AAAAAAAPifQAAAAAAA/J9AAAAAAAAAoEAAAAAAAAKgQAAAAAAABKBAAAAAAAAGoEAAAAAAAAigQAAAAAAACqBAAAAAAAAMoEAAAAAAAA6gQAAAAAAAEKBAAAAAAAASoEAAAAAAABSgQAAAAAAAFqBAAAAAAAAYoEAAAAAAABqgQAAAAAAAHKBAAAAAAAAeoEAAAAAAACCgQAAAAAAAIqBAAAAAAAAkoEAAAAAAACagQAAAAAAAKKBAAAAAAAAqoEAAAAAAACygQAAAAAAALqBAAAAAAAAwoEAAAAAAADKgQAAAAAAANKBAAAAAAAA2oEAAAAAAADigQAAAAAAAOqBAAAAAAAA8oEAAAAAAAD6gQAAAAAAAQKBAAAAAAABCoEAAAAAAAESgQAAAAAAARqBAAAAAAABIoEAAAAAAAEqgQAAAAAAATKBAAAAAAABOoEAAAAAAAFCgQAAAAAAAUqBAAAAAAABUoEAAAAAAAFagQAAAAAAAWKBAAAAAAABaoEAAAAAAAFygQAAAAAAAXqBAAAAAAABgoEAAAAAAAGKgQAAAAAAAZKBAAAAAAABmoEA=\"},\"shape\":[85],\"dtype\":\"float64\",\"order\":\"little\"}],[\"Mean\",{\"type\":\"ndarray\",\"array\":{\"type\":\"bytes\",\"data\":\"q8uwOuvC8T+HXlFwdDDyP3Dq3CiBqPI/2v5d39gf8z/tvlD265TzP/Oml/1DD/Q/kMwX+heJ9D+Q9IggQw71PzRTEyF+jPU/QNzM8GIH9j+/AOkh4Y32PyCUUHbuEfc/Shzfb3ia9z8yQabmECX4PzNOgGe7svg/JRz5ihk7+T+a7EHUW8T5P2LaXAbmTvo/wILuxJLY+j9sD+g4TWf7P1czSeBP9vs/l8zHVTuH/D+S3RrvpRX9PyMg75Maqf0/6wN+awBH/j83/WasU+3+P0f+FpZAk/8/VbYYTyoXAEBXNMecg2oAQMJI4/b2wABA7NX4HooVAUCLEGYYjmsBQJH0XJw3wQFAsxvAl/0VAkBTQzcUuW4CQH2pmPyXyQJAE62sMqUkA0CRtu1v14IDQGnmIXEH5ANAHlzjO5w/BEC7ye6YEpYEQCe3Shig9ARAGvfq609YBUBDWbpGcbMFQJzuXq6oDgZA9Im9q5lfBkDLqCxKbcIGQOZSnuF2JQdA1DnkdTiJB0AFDU7giekHQCyauUFOSghAcW/9cl2wCED88Wu3hxMJQI4OT7j3cQlAr4+fgO3VCUAf1W5yjDwKQOS3HfSYogpAvre75XUCC0AH1DmnPmkLQOA2O3dv0wtAY7UAMlA6DECgkj/HzaAMQH9eSb9ZCQ1AnKv8pThvDUCJkhnNjd4NQG8HFmZXRg5AFtO1CLCqDkDLwsBtpRUPQCwqrD86gw9AzSbWSoDsD0DXf3S3LisQQO4aI45aXxBAzMQ7p6uUEED7Tn7GmsoQQLkHbNtF/xBA+uWcgkczEUDGAC2wCmcRQD7vsbFWmxFA7MM4T3nNEUCFg79TIf8RQODSdXHZMRJAASppowljEkDVDoK/8pMSQLv5fpM1whJAxFs+zE/wEkA=\"},\"shape\":[85],\"dtype\":\"float64\",\"order\":\"little\"}]]}}},\"view\":{\"type\":\"object\",\"name\":\"CDSView\",\"id\":\"b0850b45-8063-4c33-99c1-51dd302c8ca9\",\"attributes\":{\"filter\":{\"type\":\"object\",\"name\":\"AllIndices\",\"id\":\"e4c3dc42-81ee-472d-b7ae-ac2d29d45283\"}}},\"glyph\":{\"type\":\"object\",\"name\":\"Line\",\"id\":\"7ef53077-c002-42c4-bb19-7c8f6a262750\",\"attributes\":{\"tags\":[\"apply_ranges\"],\"x\":{\"type\":\"field\",\"field\":\"Year\"},\"y\":{\"type\":\"field\",\"field\":\"Mean\"},\"line_color\":\"#980002\",\"line_width\":2}},\"selection_glyph\":{\"type\":\"object\",\"name\":\"Line\",\"id\":\"7c1e215c-a374-471d-b1f1-a54a9a1bce5b\",\"attributes\":{\"tags\":[\"apply_ranges\"],\"x\":{\"type\":\"field\",\"field\":\"Year\"},\"y\":{\"type\":\"field\",\"field\":\"Mean\"},\"line_color\":\"#980002\",\"line_width\":2}},\"nonselection_glyph\":{\"type\":\"object\",\"name\":\"Line\",\"id\":\"f2b33c7a-099d-4dd5-b95c-c55ca0df2e1c\",\"attributes\":{\"tags\":[\"apply_ranges\"],\"x\":{\"type\":\"field\",\"field\":\"Year\"},\"y\":{\"type\":\"field\",\"field\":\"Mean\"},\"line_color\":\"#980002\",\"line_alpha\":0.1,\"line_width\":2}},\"muted_glyph\":{\"type\":\"object\",\"name\":\"Line\",\"id\":\"817b2247-0295-4938-9c1c-42d959b49e71\",\"attributes\":{\"tags\":[\"apply_ranges\"],\"x\":{\"type\":\"field\",\"field\":\"Year\"},\"y\":{\"type\":\"field\",\"field\":\"Mean\"},\"line_color\":\"#980002\",\"line_alpha\":0.2,\"line_width\":2}}}},{\"type\":\"object\",\"name\":\"Span\",\"id\":\"2de2591e-69c2-4b92-8095-6fc5a959c527\",\"attributes\":{\"level\":\"glyph\",\"location\":1.5}},{\"type\":\"object\",\"name\":\"GlyphRenderer\",\"id\":\"c04eae21-6e2f-45b0-84f6-1b5bb651835d\",\"attributes\":{\"data_source\":{\"type\":\"object\",\"name\":\"ColumnDataSource\",\"id\":\"2d8ddf96-88e8-46d2-8c90-55412119a95a\",\"attributes\":{\"selected\":{\"type\":\"object\",\"name\":\"Selection\",\"id\":\"f87168b2-357e-48a8-8f1c-596f5c0fe09b\",\"attributes\":{\"indices\":[],\"line_indices\":[]}},\"selection_policy\":{\"type\":\"object\",\"name\":\"UnionRenderers\",\"id\":\"00e7db0a-a705-4486-8caa-2f43a249e743\"},\"data\":{\"type\":\"map\",\"entries\":[[\"x\",[1968]],[\"y\",[1.75]],[\"text\",[\"1.5\\u00b0C warming level\"]]]}}},\"view\":{\"type\":\"object\",\"name\":\"CDSView\",\"id\":\"db5a082f-82f5-410c-92d7-38c7c0bf9d04\",\"attributes\":{\"filter\":{\"type\":\"object\",\"name\":\"AllIndices\",\"id\":\"44110247-0cc2-463a-ad7d-d6bb35332c2a\"}}},\"glyph\":{\"type\":\"object\",\"name\":\"Text\",\"id\":\"28d5332c-8cf2-4cb6-b483-e617c1450e08\",\"attributes\":{\"tags\":[\"apply_ranges\"],\"x\":{\"type\":\"field\",\"field\":\"x\"},\"y\":{\"type\":\"field\",\"field\":\"y\"},\"text\":{\"type\":\"field\",\"field\":\"text\"},\"text_color\":{\"type\":\"value\",\"value\":\"black\"},\"text_font_size\":{\"type\":\"value\",\"value\":\"8pt\"},\"text_align\":{\"type\":\"value\",\"value\":\"center\"},\"text_baseline\":{\"type\":\"value\",\"value\":\"middle\"}}},\"selection_glyph\":{\"type\":\"object\",\"name\":\"Text\",\"id\":\"42ae530d-de40-4513-959e-8a9bef92ed0c\",\"attributes\":{\"tags\":[\"apply_ranges\"],\"x\":{\"type\":\"field\",\"field\":\"x\"},\"y\":{\"type\":\"field\",\"field\":\"y\"},\"text\":{\"type\":\"field\",\"field\":\"text\"},\"angle\":{\"type\":\"value\",\"value\":0.0},\"x_offset\":{\"type\":\"value\",\"value\":0},\"y_offset\":{\"type\":\"value\",\"value\":0},\"outline_shape\":{\"type\":\"value\",\"value\":\"box\"},\"text_color\":{\"type\":\"value\",\"value\":\"black\"},\"text_outline_color\":{\"type\":\"value\",\"value\":null},\"text_alpha\":{\"type\":\"value\",\"value\":1.0},\"text_font_size\":{\"type\":\"value\",\"value\":\"8pt\"},\"text_font_style\":{\"type\":\"value\",\"value\":\"normal\"},\"text_align\":{\"type\":\"value\",\"value\":\"center\"},\"text_baseline\":{\"type\":\"value\",\"value\":\"middle\"},\"text_line_height\":{\"type\":\"value\",\"value\":1.2},\"background_fill_color\":{\"type\":\"value\",\"value\":null},\"background_fill_alpha\":{\"type\":\"value\",\"value\":1.0},\"background_hatch_color\":{\"type\":\"value\",\"value\":null},\"background_hatch_alpha\":{\"type\":\"value\",\"value\":1.0},\"background_hatch_scale\":{\"type\":\"value\",\"value\":12.0},\"background_hatch_pattern\":{\"type\":\"value\",\"value\":null},\"background_hatch_weight\":{\"type\":\"value\",\"value\":1.0},\"border_line_color\":{\"type\":\"value\",\"value\":null},\"border_line_alpha\":{\"type\":\"value\",\"value\":1.0},\"border_line_width\":{\"type\":\"value\",\"value\":1},\"border_line_join\":{\"type\":\"value\",\"value\":\"bevel\"},\"border_line_cap\":{\"type\":\"value\",\"value\":\"butt\"},\"border_line_dash\":{\"type\":\"value\",\"value\":[]},\"border_line_dash_offset\":{\"type\":\"value\",\"value\":0}}},\"nonselection_glyph\":{\"type\":\"object\",\"name\":\"Text\",\"id\":\"d94c54a0-7cd0-422e-b0f5-cb58ad249652\",\"attributes\":{\"tags\":[\"apply_ranges\"],\"x\":{\"type\":\"field\",\"field\":\"x\"},\"y\":{\"type\":\"field\",\"field\":\"y\"},\"text\":{\"type\":\"field\",\"field\":\"text\"},\"text_color\":{\"type\":\"value\",\"value\":\"black\"},\"text_alpha\":{\"type\":\"value\",\"value\":0.1},\"text_font_size\":{\"type\":\"value\",\"value\":\"8pt\"},\"text_align\":{\"type\":\"value\",\"value\":\"center\"},\"text_baseline\":{\"type\":\"value\",\"value\":\"middle\"}}},\"muted_glyph\":{\"type\":\"object\",\"name\":\"Text\",\"id\":\"5b052931-63b8-458a-9fe9-d6df55641ff6\",\"attributes\":{\"tags\":[\"apply_ranges\"],\"x\":{\"type\":\"field\",\"field\":\"x\"},\"y\":{\"type\":\"field\",\"field\":\"y\"},\"text\":{\"type\":\"field\",\"field\":\"text\"},\"text_color\":{\"type\":\"value\",\"value\":\"black\"},\"text_alpha\":{\"type\":\"value\",\"value\":0.2},\"text_font_size\":{\"type\":\"value\",\"value\":\"8pt\"},\"text_align\":{\"type\":\"value\",\"value\":\"center\"},\"text_baseline\":{\"type\":\"value\",\"value\":\"middle\"}}}}}],\"toolbar\":{\"type\":\"object\",\"name\":\"Toolbar\",\"id\":\"5476268e-3b13-47f4-8583-f43bdf5640a1\",\"attributes\":{\"tools\":[{\"type\":\"object\",\"name\":\"WheelZoomTool\",\"id\":\"e920aab5-ab68-4ad6-bc57-be5196b11e97\",\"attributes\":{\"tags\":[\"hv_created\"],\"renderers\":\"auto\",\"zoom_together\":\"none\"}},{\"type\":\"object\",\"name\":\"HoverTool\",\"id\":\"6fca9874-05e5-4a45-a9bf-2f39fe7512c4\",\"attributes\":{\"tags\":[\"hv_created\"],\"renderers\":[{\"id\":\"1bf3bb25-a506-4a9a-b1cc-dd64c8f6d28c\"},{\"id\":\"a3bbd77b-661e-45b3-b7a9-491d7494491c\"},{\"id\":\"e6711e8d-590e-43fb-9d20-e005e72bc65b\"},{\"id\":\"c5275ba6-a727-4846-be7f-6fcac4d6d9f5\"},{\"id\":\"2ead9de2-c69f-4039-9bfb-ebf26463bc14\"},{\"id\":\"2e67bd47-1b9b-4ad5-879e-9370faaa0975\"}],\"tooltips\":[[\"Year\",\"@{Year}\"],[\"Mean\",\"@{Mean}\"]]}},{\"type\":\"object\",\"name\":\"HoverTool\",\"id\":\"a5e2187c-8f86-430d-a7ae-e45c0363c210\",\"attributes\":{\"tags\":[\"hv_created\"],\"renderers\":[{\"id\":\"d2c46a9c-774e-4636-a335-d2f81e01d0cf\"}],\"tooltips\":[[\"Year\",\"@{Year}\"],[\"5%\",\"@{A_5_percent}\"],[\"95%\",\"@{A_95_percent}\"]]}},{\"type\":\"object\",\"name\":\"SaveTool\",\"id\":\"accc3f2e-9a0b-49c4-aea8-5281eaf9fdc2\"},{\"type\":\"object\",\"name\":\"PanTool\",\"id\":\"f3242937-7baa-4e92-bd30-dbfc85440fcd\"},{\"type\":\"object\",\"name\":\"BoxZoomTool\",\"id\":\"dbc18039-41fd-4705-82ec-bf296c74d7bd\",\"attributes\":{\"overlay\":{\"type\":\"object\",\"name\":\"BoxAnnotation\",\"id\":\"d4170888-4d21-4723-87df-db02d18e2100\",\"attributes\":{\"syncable\":false,\"line_color\":\"black\",\"line_alpha\":1.0,\"line_width\":2,\"line_dash\":[4,4],\"fill_color\":\"lightgrey\",\"fill_alpha\":0.5,\"level\":\"overlay\",\"visible\":false,\"left\":{\"type\":\"number\",\"value\":\"nan\"},\"right\":{\"type\":\"number\",\"value\":\"nan\"},\"top\":{\"type\":\"number\",\"value\":\"nan\"},\"bottom\":{\"type\":\"number\",\"value\":\"nan\"},\"left_units\":\"canvas\",\"right_units\":\"canvas\",\"top_units\":\"canvas\",\"bottom_units\":\"canvas\",\"handles\":{\"type\":\"object\",\"name\":\"BoxInteractionHandles\",\"id\":\"5c91b5d1-ef7b-4896-9bf3-fa46d09a6abc\",\"attributes\":{\"all\":{\"type\":\"object\",\"name\":\"AreaVisuals\",\"id\":\"73281e19-f43e-458b-be7a-b52ef01b561d\",\"attributes\":{\"fill_color\":\"white\",\"hover_fill_color\":\"lightgray\"}}}}}}}},{\"type\":\"object\",\"name\":\"ResetTool\",\"id\":\"51ceb607-6ebf-4275-b444-1943bdde7bfc\"}],\"active_drag\":{\"id\":\"f3242937-7baa-4e92-bd30-dbfc85440fcd\"}}},\"left\":[{\"type\":\"object\",\"name\":\"LinearAxis\",\"id\":\"4f07b3f3-f92d-4935-861f-bdd67eaf4091\",\"attributes\":{\"ticker\":{\"type\":\"object\",\"name\":\"BasicTicker\",\"id\":\"8ed5c8c2-d29b-4efe-b976-a0eb50cd2d50\",\"attributes\":{\"mantissas\":[1,2,5]}},\"formatter\":{\"type\":\"object\",\"name\":\"BasicTickFormatter\",\"id\":\"f7c5b1d1-0f31-4396-97d5-863c34e21e4d\"},\"axis_label\":\"\\u00b0C\",\"major_label_policy\":{\"type\":\"object\",\"name\":\"AllLabels\",\"id\":\"97dfcea9-65cf-4af9-8e1b-b1e584988ae7\"}}}],\"below\":[{\"type\":\"object\",\"name\":\"LinearAxis\",\"id\":\"ceac54c3-56b3-4ebf-8591-6d9f3eb2dbdf\",\"attributes\":{\"ticker\":{\"type\":\"object\",\"name\":\"BasicTicker\",\"id\":\"c0d2ee7c-b0de-47de-8895-6f04daed6fde\",\"attributes\":{\"mantissas\":[1,2,5]}},\"formatter\":{\"type\":\"object\",\"name\":\"BasicTickFormatter\",\"id\":\"78e849c5-d12d-4149-bf52-f78646374bfe\"},\"axis_label\":\"\",\"major_label_policy\":{\"type\":\"object\",\"name\":\"AllLabels\",\"id\":\"7a067003-52bf-4f90-b4ce-e0a48c17fb05\"}}},{\"type\":\"object\",\"name\":\"Legend\",\"id\":\"f1137351-ad2d-4ef3-85b0-b629f524cfec\",\"attributes\":{\"location\":[0,0],\"orientation\":\"horizontal\",\"click_policy\":\"mute\",\"items\":[{\"type\":\"object\",\"name\":\"LegendItem\",\"id\":\"b9ddd8df-e516-4b30-b091-911630737bb6\",\"attributes\":{\"label\":{\"type\":\"value\",\"value\":\"Historical\"},\"renderers\":[{\"id\":\"1bf3bb25-a506-4a9a-b1cc-dd64c8f6d28c\"}]}},{\"type\":\"object\",\"name\":\"LegendItem\",\"id\":\"a408c5df-f570-499d-b232-55aaab71d1f9\",\"attributes\":{\"label\":{\"type\":\"value\",\"value\":\"SSP1-1.9\"},\"renderers\":[{\"id\":\"a3bbd77b-661e-45b3-b7a9-491d7494491c\"}]}},{\"type\":\"object\",\"name\":\"LegendItem\",\"id\":\"6e9856cb-c122-4178-ad51-24d6c98ec4e7\",\"attributes\":{\"label\":{\"type\":\"value\",\"value\":\"SSP1-2.6\"},\"renderers\":[{\"id\":\"e6711e8d-590e-43fb-9d20-e005e72bc65b\"}]}},{\"type\":\"object\",\"name\":\"LegendItem\",\"id\":\"e578a657-e4f9-4b2e-9734-a4a893cf8938\",\"attributes\":{\"label\":{\"type\":\"value\",\"value\":\"SSP2-4.5\"},\"renderers\":[{\"id\":\"c5275ba6-a727-4846-be7f-6fcac4d6d9f5\"}]}},{\"type\":\"object\",\"name\":\"LegendItem\",\"id\":\"b1e8a30e-c119-41ce-94d8-688ac76ddb0d\",\"attributes\":{\"label\":{\"type\":\"value\",\"value\":\"SSP3-7.0\"},\"renderers\":[{\"id\":\"2ead9de2-c69f-4039-9bfb-ebf26463bc14\"}]}},{\"type\":\"object\",\"name\":\"LegendItem\",\"id\":\"f901cbef-1b2d-4486-8b6f-5309f002fde3\",\"attributes\":{\"label\":{\"type\":\"value\",\"value\":\"SSP5-8.5\"},\"renderers\":[{\"id\":\"2e67bd47-1b9b-4ad5-879e-9370faaa0975\"}]}}]}}],\"center\":[{\"type\":\"object\",\"name\":\"Grid\",\"id\":\"5778ef99-f27b-4113-a657-bc557cf3c4b1\",\"attributes\":{\"axis\":{\"id\":\"ceac54c3-56b3-4ebf-8591-6d9f3eb2dbdf\"},\"grid_line_color\":null}},{\"type\":\"object\",\"name\":\"Grid\",\"id\":\"071645c4-2a46-4e05-a58c-84d6ab282ec8\",\"attributes\":{\"dimension\":1,\"axis\":{\"id\":\"4f07b3f3-f92d-4935-861f-bdd67eaf4091\"},\"grid_line_color\":null}}],\"min_border_top\":10,\"min_border_bottom\":10,\"min_border_left\":10,\"min_border_right\":10,\"output_backend\":\"webgl\"}},{\"type\":\"object\",\"name\":\"Spacer\",\"id\":\"bd2e4312-89f9-4aab-a5ba-cbbe6775cd92\",\"attributes\":{\"name\":\"HSpacer02362\",\"stylesheets\":[\"\\n:host(.pn-loading):before, .pn-loading:before {\\n  background-color: #c3c3c3;\\n  mask-size: auto calc(min(50%, 400px));\\n  -webkit-mask-size: auto calc(min(50%, 400px));\\n}\",{\"id\":\"9a598469-f17f-443e-9e54-301a7f657c7f\"},{\"id\":\"815c9273-78fb-49a0-a7dd-627e732d2008\"},{\"id\":\"233fcd06-7589-4a35-8590-fc74786af440\"}],\"margin\":0,\"sizing_mode\":\"stretch_width\",\"align\":\"start\"}}]}}],\"defs\":[{\"type\":\"model\",\"name\":\"ReactiveHTML1\"},{\"type\":\"model\",\"name\":\"FlexBox1\",\"properties\":[{\"name\":\"align_content\",\"kind\":\"Any\",\"default\":\"flex-start\"},{\"name\":\"align_items\",\"kind\":\"Any\",\"default\":\"flex-start\"},{\"name\":\"flex_direction\",\"kind\":\"Any\",\"default\":\"row\"},{\"name\":\"flex_wrap\",\"kind\":\"Any\",\"default\":\"wrap\"},{\"name\":\"gap\",\"kind\":\"Any\",\"default\":\"\"},{\"name\":\"justify_content\",\"kind\":\"Any\",\"default\":\"flex-start\"}]},{\"type\":\"model\",\"name\":\"FloatPanel1\",\"properties\":[{\"name\":\"config\",\"kind\":\"Any\",\"default\":{\"type\":\"map\"}},{\"name\":\"contained\",\"kind\":\"Any\",\"default\":true},{\"name\":\"position\",\"kind\":\"Any\",\"default\":\"right-top\"},{\"name\":\"offsetx\",\"kind\":\"Any\",\"default\":null},{\"name\":\"offsety\",\"kind\":\"Any\",\"default\":null},{\"name\":\"theme\",\"kind\":\"Any\",\"default\":\"primary\"},{\"name\":\"status\",\"kind\":\"Any\",\"default\":\"normalized\"}]},{\"type\":\"model\",\"name\":\"GridStack1\",\"properties\":[{\"name\":\"mode\",\"kind\":\"Any\",\"default\":\"warn\"},{\"name\":\"ncols\",\"kind\":\"Any\",\"default\":null},{\"name\":\"nrows\",\"kind\":\"Any\",\"default\":null},{\"name\":\"allow_resize\",\"kind\":\"Any\",\"default\":true},{\"name\":\"allow_drag\",\"kind\":\"Any\",\"default\":true},{\"name\":\"state\",\"kind\":\"Any\",\"default\":[]}]},{\"type\":\"model\",\"name\":\"drag1\",\"properties\":[{\"name\":\"slider_width\",\"kind\":\"Any\",\"default\":5},{\"name\":\"slider_color\",\"kind\":\"Any\",\"default\":\"black\"},{\"name\":\"value\",\"kind\":\"Any\",\"default\":50}]},{\"type\":\"model\",\"name\":\"click1\",\"properties\":[{\"name\":\"terminal_output\",\"kind\":\"Any\",\"default\":\"\"},{\"name\":\"debug_name\",\"kind\":\"Any\",\"default\":\"\"},{\"name\":\"clears\",\"kind\":\"Any\",\"default\":0}]},{\"type\":\"model\",\"name\":\"FastWrapper1\",\"properties\":[{\"name\":\"object\",\"kind\":\"Any\",\"default\":null},{\"name\":\"style\",\"kind\":\"Any\",\"default\":null}]},{\"type\":\"model\",\"name\":\"NotificationAreaBase1\",\"properties\":[{\"name\":\"js_events\",\"kind\":\"Any\",\"default\":{\"type\":\"map\"}},{\"name\":\"position\",\"kind\":\"Any\",\"default\":\"bottom-right\"},{\"name\":\"_clear\",\"kind\":\"Any\",\"default\":0}]},{\"type\":\"model\",\"name\":\"NotificationArea1\",\"properties\":[{\"name\":\"js_events\",\"kind\":\"Any\",\"default\":{\"type\":\"map\"}},{\"name\":\"notifications\",\"kind\":\"Any\",\"default\":[]},{\"name\":\"position\",\"kind\":\"Any\",\"default\":\"bottom-right\"},{\"name\":\"_clear\",\"kind\":\"Any\",\"default\":0},{\"name\":\"types\",\"kind\":\"Any\",\"default\":[{\"type\":\"map\",\"entries\":[[\"type\",\"warning\"],[\"background\",\"#ffc107\"],[\"icon\",{\"type\":\"map\",\"entries\":[[\"className\",\"fas fa-exclamation-triangle\"],[\"tagName\",\"i\"],[\"color\",\"white\"]]}]]},{\"type\":\"map\",\"entries\":[[\"type\",\"info\"],[\"background\",\"#007bff\"],[\"icon\",{\"type\":\"map\",\"entries\":[[\"className\",\"fas fa-info-circle\"],[\"tagName\",\"i\"],[\"color\",\"white\"]]}]]}]}]},{\"type\":\"model\",\"name\":\"Notification\",\"properties\":[{\"name\":\"background\",\"kind\":\"Any\",\"default\":null},{\"name\":\"duration\",\"kind\":\"Any\",\"default\":3000},{\"name\":\"icon\",\"kind\":\"Any\",\"default\":null},{\"name\":\"message\",\"kind\":\"Any\",\"default\":\"\"},{\"name\":\"notification_type\",\"kind\":\"Any\",\"default\":null},{\"name\":\"_rendered\",\"kind\":\"Any\",\"default\":false},{\"name\":\"_destroyed\",\"kind\":\"Any\",\"default\":false}]},{\"type\":\"model\",\"name\":\"TemplateActions1\",\"properties\":[{\"name\":\"open_modal\",\"kind\":\"Any\",\"default\":0},{\"name\":\"close_modal\",\"kind\":\"Any\",\"default\":0}]},{\"type\":\"model\",\"name\":\"BootstrapTemplateActions1\",\"properties\":[{\"name\":\"open_modal\",\"kind\":\"Any\",\"default\":0},{\"name\":\"close_modal\",\"kind\":\"Any\",\"default\":0}]},{\"type\":\"model\",\"name\":\"TemplateEditor1\",\"properties\":[{\"name\":\"layout\",\"kind\":\"Any\",\"default\":[]}]},{\"type\":\"model\",\"name\":\"MaterialTemplateActions1\",\"properties\":[{\"name\":\"open_modal\",\"kind\":\"Any\",\"default\":0},{\"name\":\"close_modal\",\"kind\":\"Any\",\"default\":0}]},{\"type\":\"model\",\"name\":\"ReactiveESM1\",\"properties\":[{\"name\":\"esm_constants\",\"kind\":\"Any\",\"default\":{\"type\":\"map\"}}]},{\"type\":\"model\",\"name\":\"JSComponent1\",\"properties\":[{\"name\":\"esm_constants\",\"kind\":\"Any\",\"default\":{\"type\":\"map\"}}]},{\"type\":\"model\",\"name\":\"ReactComponent1\",\"properties\":[{\"name\":\"esm_constants\",\"kind\":\"Any\",\"default\":{\"type\":\"map\"}}]},{\"type\":\"model\",\"name\":\"AnyWidgetComponent1\",\"properties\":[{\"name\":\"esm_constants\",\"kind\":\"Any\",\"default\":{\"type\":\"map\"}}]},{\"type\":\"model\",\"name\":\"request_value1\",\"properties\":[{\"name\":\"fill\",\"kind\":\"Any\",\"default\":\"none\"},{\"name\":\"_synced\",\"kind\":\"Any\",\"default\":null},{\"name\":\"_request_sync\",\"kind\":\"Any\",\"default\":0}]}]}};\n",
       "  var render_items = [{\"docid\":\"1faf7339-e5cc-4a63-b143-a5e16f03ca82\",\"roots\":{\"00f37254-b9e3-48e8-beeb-884d2c71aca2\":\"cf42b118-6e2b-49ac-b0d6-431a64a6c7d6\"},\"root_ids\":[\"00f37254-b9e3-48e8-beeb-884d2c71aca2\"]}];\n",
       "  var docs = Object.values(docs_json)\n",
       "  if (!docs) {\n",
       "    return\n",
       "  }\n",
       "  const py_version = docs[0].version.replace('rc', '-rc.').replace('.dev', '-dev.')\n",
       "  async function embed_document(root) {\n",
       "    var Bokeh = get_bokeh(root)\n",
       "    await Bokeh.embed.embed_items_notebook(docs_json, render_items);\n",
       "    for (const render_item of render_items) {\n",
       "      for (const root_id of render_item.root_ids) {\n",
       "\tconst id_el = document.getElementById(root_id)\n",
       "\tif (id_el.children.length && id_el.children[0].hasAttribute('data-root-id')) {\n",
       "\t  const root_el = id_el.children[0]\n",
       "\t  root_el.id = root_el.id + '-rendered'\n",
       "\t  for (const child of root_el.children) {\n",
       "            // Ensure JupyterLab does not capture keyboard shortcuts\n",
       "            // see: https://jupyterlab.readthedocs.io/en/4.1.x/extension/notebook.html#keyboard-interaction-model\n",
       "\t    child.setAttribute('data-lm-suppress-shortcuts', 'true')\n",
       "\t  }\n",
       "\t}\n",
       "      }\n",
       "    }\n",
       "  }\n",
       "  function get_bokeh(root) {\n",
       "    if (root.Bokeh === undefined) {\n",
       "      return null\n",
       "    } else if (root.Bokeh.version !== py_version) {\n",
       "      if (root.Bokeh.versions === undefined || !root.Bokeh.versions.has(py_version)) {\n",
       "\treturn null\n",
       "      }\n",
       "      return root.Bokeh.versions.get(py_version);\n",
       "    } else if (root.Bokeh.version === py_version) {\n",
       "      return root.Bokeh\n",
       "    }\n",
       "    return null\n",
       "  }\n",
       "  function is_loaded(root) {\n",
       "    var Bokeh = get_bokeh(root)\n",
       "    return (Bokeh != null && Bokeh.Panel !== undefined)\n",
       "  }\n",
       "  if (is_loaded(root)) {\n",
       "    embed_document(root);\n",
       "  } else {\n",
       "    var attempts = 0;\n",
       "    var timer = setInterval(function(root) {\n",
       "      if (is_loaded(root)) {\n",
       "        clearInterval(timer);\n",
       "        embed_document(root);\n",
       "      } else if (document.readyState == \"complete\") {\n",
       "        attempts++;\n",
       "        if (attempts > 200) {\n",
       "          clearInterval(timer);\n",
       "\t  var Bokeh = get_bokeh(root)\n",
       "\t  if (Bokeh == null || Bokeh.Panel == null) {\n",
       "            console.warn(\"Panel: ERROR: Unable to run Panel code because Bokeh or Panel library is missing\");\n",
       "\t  } else {\n",
       "\t    console.warn(\"Panel: WARNING: Attempting to render but not all required libraries could be resolved.\")\n",
       "\t    embed_document(root)\n",
       "\t  }\n",
       "        }\n",
       "      }\n",
       "    }, 25, root)\n",
       "  }\n",
       "})(window);</script>"
      ],
      "text/plain": [
       ":Overlay\n",
       "   .Curve.Historical                      :Curve   [Year]   (Mean)\n",
       "   .Area.I                                :Area   [Year]   (5%,95%)\n",
       "   .Curve.SSP1_hyphen_minus_1_full_stop_9 :Curve   [Year]   (Mean)\n",
       "   .Curve.SSP1_hyphen_minus_2_full_stop_6 :Curve   [Year]   (Mean)\n",
       "   .Curve.SSP2_hyphen_minus_4_full_stop_5 :Curve   [Year]   (Mean)\n",
       "   .Curve.SSP3_hyphen_minus_7_full_stop_0 :Curve   [Year]   (Mean)\n",
       "   .Curve.SSP5_hyphen_minus_8_full_stop_5 :Curve   [Year]   (Mean)\n",
       "   .HLine.I                               :HLine   [x,y]\n",
       "   .Text.I                                :Text   [x,y]"
      ]
     },
     "execution_count": 40,
     "metadata": {
      "application/vnd.holoviews_exec.v0+json": {
       "id": "00f37254-b9e3-48e8-beeb-884d2c71aca2"
      }
     },
     "output_type": "execute_result"
    }
   ],
   "source": [
    "gwl_viz = IPCCVisualize()\n",
    "gwl_viz.plot_warming_trajectories()"
   ]
  },
  {
   "cell_type": "markdown",
   "metadata": {},
   "source": [
    "NOTE: The climate scenarios for CMIP6 were defined in 2016, so for the purpose of all of the climate simulations discussed here and used throughout the Analytics Engine, the **\"Historical\" time period is defined as 1950-2014, and the future scenarios run from 2015-2100.**"
   ]
  },
  {
   "cell_type": "markdown",
   "metadata": {},
   "source": [
    "# 2. Visualizing warming levels and IPCC scenario trajectories"
   ]
  },
  {
   "cell_type": "markdown",
   "metadata": {},
   "source": [
    "This visualization tool has a few additional features to help illustate the timing of global warming levels."
   ]
  },
  {
   "cell_type": "code",
   "execution_count": 41,
   "metadata": {},
   "outputs": [
    {
     "data": {},
     "metadata": {},
     "output_type": "display_data"
    },
    {
     "data": {
      "application/vnd.holoviews_exec.v0+json": "",
      "text/html": [
       "<div id='c152ec1a-990d-41c0-a90c-7178089e6104'>\n",
       "  <div id=\"c1ba5132-c22d-403f-9850-4b3396a4983f\" data-root-id=\"c152ec1a-990d-41c0-a90c-7178089e6104\" style=\"display: contents;\"></div>\n",
       "</div>\n",
       "<script type=\"application/javascript\">(function(root) {\n",
       "  var docs_json = {\"4309bd1c-88c5-4218-a978-8b7529345540\":{\"version\":\"3.6.3\",\"title\":\"Bokeh Application\",\"roots\":[{\"type\":\"object\",\"name\":\"Row\",\"id\":\"c152ec1a-990d-41c0-a90c-7178089e6104\",\"attributes\":{\"name\":\"Row02640\",\"tags\":[\"embedded\"],\"stylesheets\":[\"\\n:host(.pn-loading):before, .pn-loading:before {\\n  background-color: #c3c3c3;\\n  mask-size: auto calc(min(50%, 400px));\\n  -webkit-mask-size: auto calc(min(50%, 400px));\\n}\",{\"type\":\"object\",\"name\":\"ImportedStyleSheet\",\"id\":\"6e79ebc1-78db-4a8e-be59-62423907e3bb\",\"attributes\":{\"url\":\"https://cdn.holoviz.org/panel/1.6.1/dist/css/loading.css\"}},{\"type\":\"object\",\"name\":\"ImportedStyleSheet\",\"id\":\"91e4a8c9-af6c-4623-98d3-956a3e41df90\",\"attributes\":{\"url\":\"https://cdn.holoviz.org/panel/1.6.1/dist/css/listpanel.css\"}},{\"type\":\"object\",\"name\":\"ImportedStyleSheet\",\"id\":\"ad862fcd-856f-40f3-9cbf-87de487fb932\",\"attributes\":{\"url\":\"https://cdn.holoviz.org/panel/1.6.1/dist/bundled/theme/default.css\"}},{\"type\":\"object\",\"name\":\"ImportedStyleSheet\",\"id\":\"b58c3b61-0f8d-4b6b-b8ff-b934a398f0d2\",\"attributes\":{\"url\":\"https://cdn.holoviz.org/panel/1.6.1/dist/bundled/theme/native.css\"}}],\"min_width\":575,\"margin\":0,\"sizing_mode\":\"stretch_width\",\"align\":\"start\",\"children\":[{\"type\":\"object\",\"name\":\"Spacer\",\"id\":\"bfeb6a54-ae11-49bd-9f8d-4e645d7238ed\",\"attributes\":{\"name\":\"HSpacer02644\",\"stylesheets\":[\"\\n:host(.pn-loading):before, .pn-loading:before {\\n  background-color: #c3c3c3;\\n  mask-size: auto calc(min(50%, 400px));\\n  -webkit-mask-size: auto calc(min(50%, 400px));\\n}\",{\"id\":\"6e79ebc1-78db-4a8e-be59-62423907e3bb\"},{\"id\":\"ad862fcd-856f-40f3-9cbf-87de487fb932\"},{\"id\":\"b58c3b61-0f8d-4b6b-b8ff-b934a398f0d2\"}],\"margin\":0,\"sizing_mode\":\"stretch_width\",\"align\":\"start\"}},{\"type\":\"object\",\"name\":\"Figure\",\"id\":\"c5252aa0-37a3-4b12-952a-0de612b7d734\",\"attributes\":{\"width\":575,\"height\":300,\"margin\":[5,10],\"sizing_mode\":\"fixed\",\"align\":\"start\",\"x_range\":{\"type\":\"object\",\"name\":\"Range1d\",\"id\":\"414e3f44-5be0-43ef-a8ea-d804019449d5\",\"attributes\":{\"name\":\"Year\",\"tags\":[[[\"Year\",null]],[]],\"start\":1950,\"end\":2100,\"reset_start\":1950,\"reset_end\":2100}},\"y_range\":{\"type\":\"object\",\"name\":\"Range1d\",\"id\":\"cbab2f11-8649-4db6-8756-19f1d6c70f08\",\"attributes\":{\"name\":\"Mean\",\"tags\":[[[\"Mean\",null]],{\"type\":\"map\",\"entries\":[[\"invert_yaxis\",false],[\"autorange\",false]]}],\"start\":-1,\"end\":5,\"reset_start\":-1,\"reset_end\":5}},\"x_scale\":{\"type\":\"object\",\"name\":\"LinearScale\",\"id\":\"27f30220-f7e2-464f-b791-05e2455b22e7\"},\"y_scale\":{\"type\":\"object\",\"name\":\"LinearScale\",\"id\":\"b09999db-118e-440e-8cf5-007d33d98d76\"},\"title\":{\"type\":\"object\",\"name\":\"Title\",\"id\":\"713c5dc2-0123-4e72-8626-7f53dbf67834\",\"attributes\":{\"text\":\"Global mean surface temperature change relative to 1850-1900\",\"text_color\":\"black\",\"text_font_size\":\"12pt\"}},\"renderers\":[{\"type\":\"object\",\"name\":\"GlyphRenderer\",\"id\":\"679c29d6-29c7-43dd-9448-1df72fa20163\",\"attributes\":{\"name\":\"Historical\",\"data_source\":{\"type\":\"object\",\"name\":\"ColumnDataSource\",\"id\":\"ee36ea07-cded-4ffc-b4c9-a52bf2be6630\",\"attributes\":{\"selected\":{\"type\":\"object\",\"name\":\"Selection\",\"id\":\"c5ffcc0a-a528-4e78-8d7c-1b9c2245ebbd\",\"attributes\":{\"indices\":[],\"line_indices\":[]}},\"selection_policy\":{\"type\":\"object\",\"name\":\"UnionRenderers\",\"id\":\"ec54c646-9a7c-4188-ba8c-be63ae6c967b\"},\"data\":{\"type\":\"map\",\"entries\":[[\"Year\",{\"type\":\"ndarray\",\"array\":{\"type\":\"bytes\",\"data\":\"ngcAAJ8HAACgBwAAoQcAAKIHAACjBwAApAcAAKUHAACmBwAApwcAAKgHAACpBwAAqgcAAKsHAACsBwAArQcAAK4HAACvBwAAsAcAALEHAACyBwAAswcAALQHAAC1BwAAtgcAALcHAAC4BwAAuQcAALoHAAC7BwAAvAcAAL0HAAC+BwAAvwcAAMAHAADBBwAAwgcAAMMHAADEBwAAxQcAAMYHAADHBwAAyAcAAMkHAADKBwAAywcAAMwHAADNBwAAzgcAAM8HAADQBwAA0QcAANIHAADTBwAA1AcAANUHAADWBwAA1wcAANgHAADZBwAA2gcAANsHAADcBwAA3QcAAN4HAAA=\"},\"shape\":[65],\"dtype\":\"int32\",\"order\":\"little\"}],[\"Mean\",{\"type\":\"ndarray\",\"array\":{\"type\":\"bytes\",\"data\":\"U14robsk0D/3Hi457pTRP8V1jCsujtE/y9dl+E830D/Oxd/2BInPP8mutIzUe9E/v9NkxttK0T+BIatbPSfRP1hZ2xSPi9A/4etrXWqE0D+Tqu0m+KbRP83NN6J71tE/n3JMFvcfzz8N/n4xW7LCP8CR5cnaS7E/vmckQiPYtj9ck25L5ILBPwVpxqLp7MA/forjwKvlxD+TcYxkj1DJPxN+qZ83Fcs/Onr83qY/zT/mkT8YeO7JPyjS/ZyC/Mw/1ZEjnYGRzz/JdOj0vBvLP2e0VUlkH8w/ZXH/kenQ0T/ZXgt6bwzSP4Hrihnh7dM/7pQO1v851j//BBcrajDYP3nnUIaqmNU/A30iT5KuzT+HGK95VWfTP2MOgo5WtdY/eR7cnbXb2D/nw7MEGQHcP2/W4H1VLt4/WybD8XyG4D+dg2dCk8TiP7iVXpuNFeI/VwirsYS10j+bkUHuIkzWP586Vik909w/VHB4QURq3z8viEhNuxjiP2pMiLmkauQ/wm1t4Xmp5D/yfAbUm9HlP/Mf0m9fh+c/NQpJZvWO6T9gx3+BIEDqP1GiJY+nZes/5BOy8za26z+cwd8vZkvsP/ymsFJBxew/qMXgYdq37T87qMR1jCvuP13iyAORxe4/XwzlRLsK8D+i0R3EzpTwP7Pqc7UV+/A/z2vsEtVb8T9gqwSLw5nxPw==\"},\"shape\":[65],\"dtype\":\"float64\",\"order\":\"little\"}]]}}},\"view\":{\"type\":\"object\",\"name\":\"CDSView\",\"id\":\"b2bb2fc6-fde6-4814-b1ec-f5edc7a88d21\",\"attributes\":{\"filter\":{\"type\":\"object\",\"name\":\"AllIndices\",\"id\":\"853229d8-8b73-4364-8d42-61ddf870150c\"}}},\"glyph\":{\"type\":\"object\",\"name\":\"Line\",\"id\":\"13393f1d-aa0e-4bfe-a622-b584869f4d76\",\"attributes\":{\"tags\":[\"apply_ranges\"],\"x\":{\"type\":\"field\",\"field\":\"Year\"},\"y\":{\"type\":\"field\",\"field\":\"Mean\"},\"line_color\":\"#000000\",\"line_width\":2}},\"selection_glyph\":{\"type\":\"object\",\"name\":\"Line\",\"id\":\"cb8a1424-b930-4b7c-aa96-fdcedefab9f7\",\"attributes\":{\"tags\":[\"apply_ranges\"],\"x\":{\"type\":\"field\",\"field\":\"Year\"},\"y\":{\"type\":\"field\",\"field\":\"Mean\"},\"line_color\":\"#000000\",\"line_width\":2}},\"nonselection_glyph\":{\"type\":\"object\",\"name\":\"Line\",\"id\":\"d6dfb0c1-a576-4e00-93e4-9b92332d8153\",\"attributes\":{\"tags\":[\"apply_ranges\"],\"x\":{\"type\":\"field\",\"field\":\"Year\"},\"y\":{\"type\":\"field\",\"field\":\"Mean\"},\"line_color\":\"#000000\",\"line_alpha\":0.1,\"line_width\":2}},\"muted_glyph\":{\"type\":\"object\",\"name\":\"Line\",\"id\":\"1025485a-67cd-4f78-bbae-2f59e6444250\",\"attributes\":{\"tags\":[\"apply_ranges\"],\"x\":{\"type\":\"field\",\"field\":\"Year\"},\"y\":{\"type\":\"field\",\"field\":\"Mean\"},\"line_color\":\"#000000\",\"line_alpha\":0.2,\"line_width\":2}}}},{\"type\":\"object\",\"name\":\"GlyphRenderer\",\"id\":\"05c86b18-6436-4e7a-873b-258fe58889cb\",\"attributes\":{\"data_source\":{\"type\":\"object\",\"name\":\"ColumnDataSource\",\"id\":\"f4f72ea4-8aea-4735-902d-6f5739d9e779\",\"attributes\":{\"selected\":{\"type\":\"object\",\"name\":\"Selection\",\"id\":\"d47009ae-043e-4a9f-89a1-63f466ab74a8\",\"attributes\":{\"indices\":[],\"line_indices\":[]}},\"selection_policy\":{\"type\":\"object\",\"name\":\"UnionRenderers\",\"id\":\"bd3a42c3-7ef7-43cf-8dff-964c7637f6a9\"},\"data\":{\"type\":\"map\",\"entries\":[[\"x\",{\"type\":\"ndarray\",\"array\":{\"type\":\"bytes\",\"data\":\"ngcAAJ8HAACgBwAAoQcAAKIHAACjBwAApAcAAKUHAACmBwAApwcAAKgHAACpBwAAqgcAAKsHAACsBwAArQcAAK4HAACvBwAAsAcAALEHAACyBwAAswcAALQHAAC1BwAAtgcAALcHAAC4BwAAuQcAALoHAAC7BwAAvAcAAL0HAAC+BwAAvwcAAMAHAADBBwAAwgcAAMMHAADEBwAAxQcAAMYHAADHBwAAyAcAAMkHAADKBwAAywcAAMwHAADNBwAAzgcAAM8HAADQBwAA0QcAANIHAADTBwAA1AcAANUHAADWBwAA1wcAANgHAADZBwAA2gcAANsHAADcBwAA3QcAAN4HAADeBwAA3QcAANwHAADbBwAA2gcAANkHAADYBwAA1wcAANYHAADVBwAA1AcAANMHAADSBwAA0QcAANAHAADPBwAAzgcAAM0HAADMBwAAywcAAMoHAADJBwAAyAcAAMcHAADGBwAAxQcAAMQHAADDBwAAwgcAAMEHAADABwAAvwcAAL4HAAC9BwAAvAcAALsHAAC6BwAAuQcAALgHAAC3BwAAtgcAALUHAAC0BwAAswcAALIHAACxBwAAsAcAAK8HAACuBwAArQcAAKwHAACrBwAAqgcAAKkHAACoBwAApwcAAKYHAAClBwAApAcAAKMHAACiBwAAoQcAAKAHAACfBwAAngcAAA==\"},\"shape\":[130],\"dtype\":\"int32\",\"order\":\"little\"}],[\"y\",{\"type\":\"ndarray\",\"array\":{\"type\":\"bytes\",\"data\":\"XJIDdjV54z8peAq5Us/gP68l5IOeTeE/VwbVBici4T9KfVnaqbnhP8udmWA4V+E/exaE8j4O4z850a5Cyk/iP0EpWrkXGOE/Bfhu88bJ4T8tlbcjnJbhP8zUJHhDGuM/F7mnqzsW3z+Ws3dGW5XcP2w/GePD7NY/2pB/ZhAf1T+H/gkuVtTaP/rVHCCYo9s/W9JRDmYT3j+PxMvTuaLbP7Xf2omSkN8/9pfdk4cF4T8fDhKifEHePwxZ3eo56dw/GY7nM6De3z87Hch6avXgPzntKTkn9t0/RUjdzr7y3z+QhegQOJLjP3Ww/s9hPuI/rU85Jov74z/tmpDWGPTiPyhGlsyxvOI/aM76lGMy4j/XaDnQQ23jP1UVGohls+Q/E9Iag04I5j95Vz1gHjLmP5xrmKHxROY/7MA5I0p75z/WbrvQXCfqP/fI5qp5Duo/wjI2dLO/4D9EiCtn7wzkP0p/L4UHzeU/xY1bzM8N6D/DSC9q9yvoPyaMZmX7EOs/7nn+tFGd6j8qyqXxC6/rPy/9S1KZ4us/IO9VKxP+7z9hxhSscbbvPxa/KaxU0O8/KQXdXtIY8T857pQO1v/wP+6x9KELavE/YOrnTUWq8T8tlbcjnBbyP9fAVgkWh/I/z0nvG1979D+6SQwCKwfzP5kNMsnI2fM/p3nHKTqS9D8fuqC+ZU71P36s4Lchxu0/tMu3Pqw37T8c6+I2GkDsP8B1xYzw9uo/z2kWaHfI6j92qnzPSITpP8/AyMuaWOk/xK9Yw0Vu5z8EAp1JmyrmP83Ji0zAL+Y/6EoEqn8Q5j9Wtg95y9XlP3ptNlZiHuM//7Pmx19a4z84ns+AejPhP0YMO4xJf9w/Z++MtiqJ3D8B++jUlc/bP+fj2lAxztY/XTKOkewR0j/DvMeZJmzFP0s/4ezWMsM/r3srEhPUsD+oxeBh2jfTP6fqHtlcNdo/jBL0F3rE0j8ZAKq4cYvDPw3EsplDUsU/3bJD/MOWwj8x+OqZFNWpP87ixcIQOcE/dUJDWr6JjL+wWYnUD0WyP5FhFW9kHr0/ipqeZjfpoD/knehfNxGavzTO8LCa+Jw/ar3faMcNlz9Y6Un0jUOQvzpCYatfRJ6/aFB+nHrujr+tc8I6RJKXv8x8Bz9xAMe/bJc2HJYGyL9VKYdgZum4v2nlXmBWKMK/0uRiDKzjzL9eDybFxyfQv/AZ5Il7h7S/aOkKthFPyL+9qN2vAnzJv/q0iv7QzMO/qinJOhxdvb8xpqoazkaYP/Q0YJD0abW/5c7xdikamL8loeNZOP+hv6BYAoRq3rS/1NNH4A8/v79k7yDRX0OnvxuADYgQV8C/Y1BcRMoFlb+F25A12fWlv9Bdt63Sgqy/XMmOjUC8rr8=\"},\"shape\":[130],\"dtype\":\"float64\",\"order\":\"little\"}]]}}},\"view\":{\"type\":\"object\",\"name\":\"CDSView\",\"id\":\"bff6c2bd-9aae-4f88-9d5c-db4602b0be53\",\"attributes\":{\"filter\":{\"type\":\"object\",\"name\":\"AllIndices\",\"id\":\"89dfe875-4ff8-44e2-89c9-b9f36be8e06b\"}}},\"glyph\":{\"type\":\"object\",\"name\":\"Patch\",\"id\":\"d57c6df2-76cf-4e28-951e-dc08945b4159\",\"attributes\":{\"tags\":[\"apply_ranges\"],\"x\":{\"type\":\"field\",\"field\":\"x\"},\"y\":{\"type\":\"field\",\"field\":\"y\"},\"line_alpha\":0.1,\"fill_color\":\"#000000\",\"fill_alpha\":0.1,\"hatch_color\":\"#000000\",\"hatch_alpha\":0.1}},\"selection_glyph\":{\"type\":\"object\",\"name\":\"Patch\",\"id\":\"a64654ee-711e-443d-84ee-3ab0383ae8a8\",\"attributes\":{\"tags\":[\"apply_ranges\"],\"x\":{\"type\":\"field\",\"field\":\"x\"},\"y\":{\"type\":\"field\",\"field\":\"y\"},\"line_alpha\":0.1,\"fill_color\":\"#000000\",\"fill_alpha\":0.1,\"hatch_color\":\"#000000\",\"hatch_alpha\":0.1}},\"nonselection_glyph\":{\"type\":\"object\",\"name\":\"Patch\",\"id\":\"c7057ea8-4b84-465f-8171-88dd52789f75\",\"attributes\":{\"tags\":[\"apply_ranges\"],\"x\":{\"type\":\"field\",\"field\":\"x\"},\"y\":{\"type\":\"field\",\"field\":\"y\"},\"line_alpha\":0.1,\"fill_color\":\"#000000\",\"fill_alpha\":0.1,\"hatch_color\":\"#000000\",\"hatch_alpha\":0.1}},\"muted_glyph\":{\"type\":\"object\",\"name\":\"Patch\",\"id\":\"eda7ae95-52ef-4ac6-8639-d836a5d922a8\",\"attributes\":{\"tags\":[\"apply_ranges\"],\"x\":{\"type\":\"field\",\"field\":\"x\"},\"y\":{\"type\":\"field\",\"field\":\"y\"},\"line_alpha\":0.2,\"fill_color\":\"#000000\",\"fill_alpha\":0.2,\"hatch_color\":\"#000000\",\"hatch_alpha\":0.2}}}},{\"type\":\"object\",\"name\":\"GlyphRenderer\",\"id\":\"530386ab-f1fc-4e98-a20f-bf1f400dd4d7\",\"attributes\":{\"name\":\"90% interval\",\"data_source\":{\"type\":\"object\",\"name\":\"ColumnDataSource\",\"id\":\"673ac7f5-975e-49ff-801e-e5603e5bce53\",\"attributes\":{\"selected\":{\"type\":\"object\",\"name\":\"Selection\",\"id\":\"7c44ffc5-01ed-460f-9e7b-856ec16652cd\",\"attributes\":{\"indices\":[],\"line_indices\":[]}},\"selection_policy\":{\"type\":\"object\",\"name\":\"UnionRenderers\",\"id\":\"6df4c848-7653-4c77-aa9c-034ab87b33b4\"},\"data\":{\"type\":\"map\",\"entries\":[[\"x\",{\"type\":\"ndarray\",\"array\":{\"type\":\"bytes\",\"data\":\"3wcAAOAHAADhBwAA4gcAAOMHAADkBwAA5QcAAOYHAADnBwAA6AcAAOkHAADqBwAA6wcAAOwHAADtBwAA7gcAAO8HAADwBwAA8QcAAPIHAADzBwAA9AcAAPUHAAD2BwAA9wcAAPgHAAD5BwAA+gcAAPsHAAD8BwAA/QcAAP4HAAD/BwAAAAgAAAEIAAACCAAAAwgAAAQIAAAFCAAABggAAAcIAAAICAAACQgAAAoIAAALCAAADAgAAA0IAAAOCAAADwgAABAIAAARCAAAEggAABMIAAAUCAAAFQgAABYIAAAXCAAAGAgAABkIAAAaCAAAGwgAABwIAAAdCAAAHggAAB8IAAAgCAAAIQgAACIIAAAjCAAAJAgAACUIAAAmCAAAJwgAACgIAAApCAAAKggAACsIAAAsCAAALQgAAC4IAAAvCAAAMAgAADEIAAAyCAAAMwgAADMIAAAyCAAAMQgAADAIAAAvCAAALggAAC0IAAAsCAAAKwgAACoIAAApCAAAKAgAACcIAAAmCAAAJQgAACQIAAAjCAAAIggAACEIAAAgCAAAHwgAAB4IAAAdCAAAHAgAABsIAAAaCAAAGQgAABgIAAAXCAAAFggAABUIAAAUCAAAEwgAABIIAAARCAAAEAgAAA8IAAAOCAAADQgAAAwIAAALCAAACggAAAkIAAAICAAABwgAAAYIAAAFCAAABAgAAAMIAAACCAAAAQgAAAAIAAD/BwAA/gcAAP0HAAD8BwAA+wcAAPoHAAD5BwAA+AcAAPcHAAD2BwAA9QcAAPQHAADzBwAA8gcAAPEHAADwBwAA7wcAAO4HAADtBwAA7AcAAOsHAADqBwAA6QcAAOgHAADnBwAA5gcAAOUHAADkBwAA4wcAAOIHAADhBwAA4AcAAN8HAAA=\"},\"shape\":[170],\"dtype\":\"int32\",\"order\":\"little\"}],[\"y\",{\"type\":\"ndarray\",\"array\":{\"type\":\"bytes\",\"data\":\"YkwgQ8wP8z9HCV83I5XzP6Ql2H2cIPQ/N40TfUOz9D8yO7GlTFT1P1wtwfOc7vU/FtXCL2yC9j+V4X/45xT3PwA/QzWukvc/4eGMTWo5+D8BXR/J8cr4P2hOzri/Xvk/5xeDWTH0+T+Kkk4sCXv6P56bhyo0FPs/p+JwLS2v+z98NwF5u038PxYqLZNJ7Pw/e0M1swOP/T8tRLf5py3+P6635PD9yP4/wnUl/xx5/z9bww9FtgwAQNDYNEKBXwBAWbwjJlKxAEDSyc6yWQcBQP6O8t33VQFAdHwAx6i3AUDXOd3kfQ0CQBFhkZnqZQJAedYfdfy+AkCd6HbThhcDQFbYPKlXbwNAE0w/JQrEA0BL7xPuMhsEQAA2N97RdgRAyY6k3DHMBEBHnOMW0iUFQFXcZ379gAVAd4Adu+jcBUBbu9tft0AGQJ0w/glwngZAz6qAj4L6BkALv2k0mFYHQJMLf5obtgdAYV+Atx8UCECbmG0oLnMIQGOfyN8y1QhAvNdxRSc4CUC0CwMfTpcJQLuS0NXX/AlA8nj/xG1hCkAYiIRARcUKQAxTtKJoKgtAgBepPCmPC0C3B6/KdvMLQPZIL9xMWAxAHvpRgVG9DEClgC7GMiQNQGpP2GTeiQ1AqX+UATXzDUAniCxlKF0OQJd/GBQSyA5AATEJF/IwD0AHWHHLw5kPQNorXvJgARBAZg+qkM82EEBmWpgOaGoQQBeOSF0woRBAk6t+w0naEEALPFWQLxMRQHOVR2f7ShFAGUrKNqCCEUAA2c2HxboRQA1b8vna7xFAkc9ejx8qEkBmM7yW5mESQOSMf6QqmRJAwrS0whDREkBYGPJtmQgTQE7hLBihPxNAW6e6Ffx3E0AzSZx9NLATQKBRnp8A5xNArqmlGYgcFEDsOjCNGogIQIOqyTq5UghAetEXdb8cCEBzZL/QHuUHQHQ/ci5vrQdAzo5C/D11B0C9CiaHGjwHQJNTO8PUAgdAsJmke5vHBkCeyOLqP5AGQIIA0mTqUQZAI4NJ4sYUBkAitWqGPdEFQG/awcXgkgVAuirKUfJZBUAvyBKtRx8FQOwcqvmP5ARAASHRhQqqBECOiYCCDHIEQGePXKZCOgRAVaKlWFn+A0CsHPKAxsEDQBOcFpYhiQNANiJkldxVA0BYfTmp6xkDQL10fHyO3AJAqqgGCW2fAkCQofsjIGcCQJ0S6svNLQJAQiGxxqH2AUCs5e9aGcMBQC82AxW7iQFAOTCQ0jJXAUBao2/p0CEBQAt9J5uv8ABAN8KBFGW8AEAmeHgM5YUAQNF8SqUKUABA7AvKL+EiAEA4N8R9ht3/PwwKBLOie/8/XYPQ17IY/z9p+LZjYa3+P8scnYP/Pv4/iZIUgX/U/T+LDbrd+3b9Py3gbffVGf0/MJvVQpar/D/+wGmCJ0P8P9pDGa8b3Ps/PP4aLy58+z+RPMMT+xX7PwHWKd39tPo//cGfZQZP+j/SWjFZZen5P4A2kDPvhvk/h4MNGr0k+T9XjZq5BMP4P35nPJBDXPg/46l3U/Lz9z+Z/+PGJYX3P2xqeDHPJfc/2HzlDIjS9j+HcgLQsXb2P89PVcdIG/Y/1dxdqV/A9T9Ii1SUImT1P65trdZZEvU/NcdKsF679D+5QRDHimf0P9gkAH4UFfQ/PSK4J87F8z/UyrdQj3PzP3bDHikOJ/M/NJxTRcjb8j8usWcMyZLyPyxhOJrNSvI/if/tEtID8j+xQ2dfmr7xP6r4FSTjdPE/6fCo4top8T9BoG0U3ePwPwZCCzlRm/A/38TXcdhS8D97G23lvRPwPw==\"},\"shape\":[170],\"dtype\":\"float64\",\"order\":\"little\"}]]}}},\"view\":{\"type\":\"object\",\"name\":\"CDSView\",\"id\":\"9c9784e8-fde9-4932-a810-fb36c8bea210\",\"attributes\":{\"filter\":{\"type\":\"object\",\"name\":\"AllIndices\",\"id\":\"17b0598d-6b76-4b02-981b-b8402081f02c\"}}},\"glyph\":{\"type\":\"object\",\"name\":\"Patch\",\"id\":\"08baa884-69fd-4807-97c2-63bfe4923412\",\"attributes\":{\"tags\":[\"apply_ranges\"],\"x\":{\"type\":\"field\",\"field\":\"x\"},\"y\":{\"type\":\"field\",\"field\":\"y\"},\"line_alpha\":0.2,\"fill_color\":\"#df0000\",\"fill_alpha\":0.2,\"hatch_color\":\"#df0000\",\"hatch_alpha\":0.2}},\"selection_glyph\":{\"type\":\"object\",\"name\":\"Patch\",\"id\":\"aa5e7fc2-60fa-4f8c-b498-af956ec468cf\",\"attributes\":{\"tags\":[\"apply_ranges\"],\"x\":{\"type\":\"field\",\"field\":\"x\"},\"y\":{\"type\":\"field\",\"field\":\"y\"},\"line_alpha\":0.2,\"fill_color\":\"#df0000\",\"fill_alpha\":0.2,\"hatch_color\":\"#df0000\",\"hatch_alpha\":0.2}},\"nonselection_glyph\":{\"type\":\"object\",\"name\":\"Patch\",\"id\":\"c7684eb5-5eea-48ae-8c95-f5e3f9bfd8c7\",\"attributes\":{\"tags\":[\"apply_ranges\"],\"x\":{\"type\":\"field\",\"field\":\"x\"},\"y\":{\"type\":\"field\",\"field\":\"y\"},\"line_alpha\":0.2,\"fill_color\":\"#df0000\",\"fill_alpha\":0.2,\"hatch_color\":\"#df0000\",\"hatch_alpha\":0.1}},\"muted_glyph\":{\"type\":\"object\",\"name\":\"Patch\",\"id\":\"27fc204e-9e3c-4281-b912-57feeec82972\",\"attributes\":{\"tags\":[\"apply_ranges\"],\"x\":{\"type\":\"field\",\"field\":\"x\"},\"y\":{\"type\":\"field\",\"field\":\"y\"},\"line_alpha\":0.2,\"fill_color\":\"#df0000\",\"fill_alpha\":0.2,\"hatch_color\":\"#df0000\",\"hatch_alpha\":0.2}}}},{\"type\":\"object\",\"name\":\"GlyphRenderer\",\"id\":\"b220dcf5-55b3-46fd-861b-25d0457dc8a8\",\"attributes\":{\"name\":\"SSP3-7.0\",\"data_source\":{\"type\":\"object\",\"name\":\"ColumnDataSource\",\"id\":\"46d604a8-50a4-4e4b-9089-552a8d563410\",\"attributes\":{\"selected\":{\"type\":\"object\",\"name\":\"Selection\",\"id\":\"5b3280d5-11bf-43cf-aad5-2dac458736fd\",\"attributes\":{\"indices\":[],\"line_indices\":[]}},\"selection_policy\":{\"type\":\"object\",\"name\":\"UnionRenderers\",\"id\":\"fcf250a2-3b54-4be2-946b-8478678ec653\"},\"data\":{\"type\":\"map\",\"entries\":[[\"Year\",{\"type\":\"ndarray\",\"array\":{\"type\":\"bytes\",\"data\":\"3wcAAOAHAADhBwAA4gcAAOMHAADkBwAA5QcAAOYHAADnBwAA6AcAAOkHAADqBwAA6wcAAOwHAADtBwAA7gcAAO8HAADwBwAA8QcAAPIHAADzBwAA9AcAAPUHAAD2BwAA9wcAAPgHAAD5BwAA+gcAAPsHAAD8BwAA/QcAAP4HAAD/BwAAAAgAAAEIAAACCAAAAwgAAAQIAAAFCAAABggAAAcIAAAICAAACQgAAAoIAAALCAAADAgAAA0IAAAOCAAADwgAABAIAAARCAAAEggAABMIAAAUCAAAFQgAABYIAAAXCAAAGAgAABkIAAAaCAAAGwgAABwIAAAdCAAAHggAAB8IAAAgCAAAIQgAACIIAAAjCAAAJAgAACUIAAAmCAAAJwgAACgIAAApCAAAKggAACsIAAAsCAAALQgAAC4IAAAvCAAAMAgAADEIAAAyCAAAMwgAAA==\"},\"shape\":[85],\"dtype\":\"int32\",\"order\":\"little\"}],[\"Mean\",{\"type\":\"ndarray\",\"array\":{\"type\":\"bytes\",\"data\":\"FRJPx3qC8T/1fJiACePxP/YoQDqTS/I/9b34NaG38j8WC1AO9x3zP0FPjvjRhfM/NiI+zjny8z+d4ifEEl30PzV7fwcvx/Q/4xkqgtwu9T/SFjVqTpb1PwaaDB30AvY/DIRT1bpz9j/BeY84Bur2P5Gl5t0eXfc/1rqx+ejP9z8quNFgUEf4Pwxs3+2Lvfg/3m96OP0w+T9ECmPgwKH5P8Mnk9a8E/o/m/hyuLmN+j+KWOp3Zgz7Px2+wSGYhvs/S+Oblu39+z80s7rISYD8P41w5pmPCv0/l1a1NweO/T+zOScmCgX+P6nXOixlhf4/Lpk/s98L/z/en7NOWpX/PzJ+7L77DABA2BVRGDZMAEAO/CROWYcAQNtM4+klzgBAqwA9398QAUBUjHwp/1QBQLeYdJs9mgFAcm9ibhXhAUAuNjYGYCUCQPTLFv8tZwJARqjxiXerAkDLusu6ifICQIjTFMTqOgNAbFJLHyyCA0A7dkNf6cgDQCYfruGRFARAA92/+6hfBEBEWMfQNawEQPjfKWiD+QRAV0N1ghxFBUDpn6i45pAFQBNeUhoJ1wVAw3YggA4eBkAGojHXxWQGQNWxmzCZsgZAIw2KwDoBB0Agw7tAb0wHQHI1m4+3mQdA3KVjh17mB0APguRWbjkIQP+zPMgYhwhAxUAWI8TRCEAY6sdeoyAJQIncE/HEcglAtUfDtx2/CUAOS/6F8AgKQASicfJsWApAYeZrMaCoCkD7E+hVlfgKQL0NvQfgRQtAXk0VwTyWC0AZlHhf5uoLQDwsyihzPAxABSDw64CKDEBHrFgL0tkMQEFF0Pa6KQ1AkzaczFR5DUDwsNKiE8UNQDemsB1PEQ5Ay7ikyCxfDkDIkcROVa4OQIhdoTCk+g5A+F0qmRBFD0A=\"},\"shape\":[85],\"dtype\":\"float64\",\"order\":\"little\"}]]}}},\"view\":{\"type\":\"object\",\"name\":\"CDSView\",\"id\":\"6f067381-2bba-434f-84b0-4cda6cc91946\",\"attributes\":{\"filter\":{\"type\":\"object\",\"name\":\"AllIndices\",\"id\":\"b6f48e5f-3c51-4284-80d3-1858f8857426\"}}},\"glyph\":{\"type\":\"object\",\"name\":\"Line\",\"id\":\"a7ec4747-24a5-4694-a754-08a31db051d1\",\"attributes\":{\"tags\":[\"apply_ranges\"],\"x\":{\"type\":\"field\",\"field\":\"Year\"},\"y\":{\"type\":\"field\",\"field\":\"Mean\"},\"line_color\":\"#df0000\",\"line_width\":2}},\"selection_glyph\":{\"type\":\"object\",\"name\":\"Line\",\"id\":\"d80ff061-a21d-4e1a-bbc8-7f0918b6299f\",\"attributes\":{\"tags\":[\"apply_ranges\"],\"x\":{\"type\":\"field\",\"field\":\"Year\"},\"y\":{\"type\":\"field\",\"field\":\"Mean\"},\"line_color\":\"#df0000\",\"line_width\":2}},\"nonselection_glyph\":{\"type\":\"object\",\"name\":\"Line\",\"id\":\"2d11e5f1-14c0-4ba6-82d8-820fa2be8118\",\"attributes\":{\"tags\":[\"apply_ranges\"],\"x\":{\"type\":\"field\",\"field\":\"Year\"},\"y\":{\"type\":\"field\",\"field\":\"Mean\"},\"line_color\":\"#df0000\",\"line_alpha\":0.1,\"line_width\":2}},\"muted_glyph\":{\"type\":\"object\",\"name\":\"Line\",\"id\":\"548fe8e6-bcef-4a4e-8b7f-10dd5bad1bdf\",\"attributes\":{\"tags\":[\"apply_ranges\"],\"x\":{\"type\":\"field\",\"field\":\"Year\"},\"y\":{\"type\":\"field\",\"field\":\"Mean\"},\"line_color\":\"#df0000\",\"line_alpha\":0.2,\"line_width\":2}}}},{\"type\":\"object\",\"name\":\"Span\",\"id\":\"aac6e4dc-bd2f-4cdf-acce-66203e030083\",\"attributes\":{\"level\":\"glyph\",\"location\":2047,\"dimension\":\"height\",\"line_color\":\"#df0000\",\"line_dash\":[6]}},{\"type\":\"object\",\"name\":\"GlyphRenderer\",\"id\":\"0d18fd68-5bae-4b7d-8cb6-52a3234a12d1\",\"attributes\":{\"data_source\":{\"type\":\"object\",\"name\":\"ColumnDataSource\",\"id\":\"30924a86-98e2-4a21-b422-e8d91c9c9aeb\",\"attributes\":{\"selected\":{\"type\":\"object\",\"name\":\"Selection\",\"id\":\"a4ceb883-e9d6-421e-8d79-7ee1bf7cdd1f\",\"attributes\":{\"indices\":[],\"line_indices\":[]}},\"selection_policy\":{\"type\":\"object\",\"name\":\"UnionRenderers\",\"id\":\"13749128-1402-4d3f-bf3e-b839e513076c\"},\"data\":{\"type\":\"map\",\"entries\":[[\"x\",[2051]],[\"y\",[4.5]],[\"text\",[\"2047\"]]]}}},\"view\":{\"type\":\"object\",\"name\":\"CDSView\",\"id\":\"0fed012d-2289-4165-9519-feb0d497696f\",\"attributes\":{\"filter\":{\"type\":\"object\",\"name\":\"AllIndices\",\"id\":\"b9bca897-517c-4697-af48-7ba05d53e309\"}}},\"glyph\":{\"type\":\"object\",\"name\":\"Text\",\"id\":\"d27e04aa-4894-4f55-828a-7168260ac2aa\",\"attributes\":{\"tags\":[\"apply_ranges\"],\"x\":{\"type\":\"field\",\"field\":\"x\"},\"y\":{\"type\":\"field\",\"field\":\"y\"},\"text\":{\"type\":\"field\",\"field\":\"text\"},\"text_color\":{\"type\":\"value\",\"value\":\"#df0000\"},\"text_font_size\":{\"type\":\"value\",\"value\":\"8pt\"},\"text_font_style\":{\"type\":\"value\",\"value\":\"bold\"},\"text_align\":{\"type\":\"value\",\"value\":\"center\"},\"text_baseline\":{\"type\":\"value\",\"value\":\"middle\"}}},\"selection_glyph\":{\"type\":\"object\",\"name\":\"Text\",\"id\":\"9a43f064-9461-4ec8-b7c8-d320b5686f9e\",\"attributes\":{\"tags\":[\"apply_ranges\"],\"x\":{\"type\":\"field\",\"field\":\"x\"},\"y\":{\"type\":\"field\",\"field\":\"y\"},\"text\":{\"type\":\"field\",\"field\":\"text\"},\"angle\":{\"type\":\"value\",\"value\":0.0},\"x_offset\":{\"type\":\"value\",\"value\":0},\"y_offset\":{\"type\":\"value\",\"value\":0},\"outline_shape\":{\"type\":\"value\",\"value\":\"box\"},\"text_color\":{\"type\":\"value\",\"value\":\"#df0000\"},\"text_outline_color\":{\"type\":\"value\",\"value\":null},\"text_alpha\":{\"type\":\"value\",\"value\":1.0},\"text_font_size\":{\"type\":\"value\",\"value\":\"8pt\"},\"text_font_style\":{\"type\":\"value\",\"value\":\"bold\"},\"text_align\":{\"type\":\"value\",\"value\":\"center\"},\"text_baseline\":{\"type\":\"value\",\"value\":\"middle\"},\"text_line_height\":{\"type\":\"value\",\"value\":1.2},\"background_fill_color\":{\"type\":\"value\",\"value\":null},\"background_fill_alpha\":{\"type\":\"value\",\"value\":1.0},\"background_hatch_color\":{\"type\":\"value\",\"value\":null},\"background_hatch_alpha\":{\"type\":\"value\",\"value\":1.0},\"background_hatch_scale\":{\"type\":\"value\",\"value\":12.0},\"background_hatch_pattern\":{\"type\":\"value\",\"value\":null},\"background_hatch_weight\":{\"type\":\"value\",\"value\":1.0},\"border_line_color\":{\"type\":\"value\",\"value\":null},\"border_line_alpha\":{\"type\":\"value\",\"value\":1.0},\"border_line_width\":{\"type\":\"value\",\"value\":1},\"border_line_join\":{\"type\":\"value\",\"value\":\"bevel\"},\"border_line_cap\":{\"type\":\"value\",\"value\":\"butt\"},\"border_line_dash\":{\"type\":\"value\",\"value\":[]},\"border_line_dash_offset\":{\"type\":\"value\",\"value\":0}}},\"nonselection_glyph\":{\"type\":\"object\",\"name\":\"Text\",\"id\":\"d2c3504e-40ce-4302-933f-d7d68cbe9ae2\",\"attributes\":{\"tags\":[\"apply_ranges\"],\"x\":{\"type\":\"field\",\"field\":\"x\"},\"y\":{\"type\":\"field\",\"field\":\"y\"},\"text\":{\"type\":\"field\",\"field\":\"text\"},\"text_color\":{\"type\":\"value\",\"value\":\"#df0000\"},\"text_alpha\":{\"type\":\"value\",\"value\":0.1},\"text_font_size\":{\"type\":\"value\",\"value\":\"8pt\"},\"text_font_style\":{\"type\":\"value\",\"value\":\"bold\"},\"text_align\":{\"type\":\"value\",\"value\":\"center\"},\"text_baseline\":{\"type\":\"value\",\"value\":\"middle\"}}},\"muted_glyph\":{\"type\":\"object\",\"name\":\"Text\",\"id\":\"8fee2524-394c-42a7-bfa3-b8030322ed8c\",\"attributes\":{\"tags\":[\"apply_ranges\"],\"x\":{\"type\":\"field\",\"field\":\"x\"},\"y\":{\"type\":\"field\",\"field\":\"y\"},\"text\":{\"type\":\"field\",\"field\":\"text\"},\"text_color\":{\"type\":\"value\",\"value\":\"#df0000\"},\"text_alpha\":{\"type\":\"value\",\"value\":0.2},\"text_font_size\":{\"type\":\"value\",\"value\":\"8pt\"},\"text_font_style\":{\"type\":\"value\",\"value\":\"bold\"},\"text_align\":{\"type\":\"value\",\"value\":\"center\"},\"text_baseline\":{\"type\":\"value\",\"value\":\"middle\"}}}}},{\"type\":\"object\",\"name\":\"Span\",\"id\":\"9dec7443-9f94-45a8-a6ba-9ad8f776e68e\",\"attributes\":{\"level\":\"glyph\",\"location\":2037,\"dimension\":\"height\",\"line_color\":\"#df0000\"}},{\"type\":\"object\",\"name\":\"Span\",\"id\":\"1eec1b85-3953-41f4-911e-515f453d5313\",\"attributes\":{\"level\":\"glyph\",\"location\":2061,\"dimension\":\"height\",\"line_color\":\"#df0000\"}},{\"type\":\"object\",\"name\":\"GlyphRenderer\",\"id\":\"8dcd4431-97b4-4aea-8022-283775fbf6c5\",\"attributes\":{\"data_source\":{\"type\":\"object\",\"name\":\"ColumnDataSource\",\"id\":\"347f5ef6-2b76-40cb-a2f2-4cccd48d900a\",\"attributes\":{\"selected\":{\"type\":\"object\",\"name\":\"Selection\",\"id\":\"2d2f8d5c-b5c8-40d8-a95d-ee719b297817\",\"attributes\":{\"indices\":[],\"line_indices\":[]}},\"selection_policy\":{\"type\":\"object\",\"name\":\"UnionRenderers\",\"id\":\"5f95fc88-77af-45e7-a9ec-dc11c205b714\"},\"data\":{\"type\":\"map\",\"entries\":[[\"x\",{\"type\":\"ndarray\",\"array\":{\"type\":\"bytes\",\"data\":\"9QcAAA0IAAA=\"},\"shape\":[2],\"dtype\":\"int32\",\"order\":\"little\"}],[\"y\",{\"type\":\"ndarray\",\"array\":{\"type\":\"bytes\",\"data\":\"AAAAAAAA4L8AAAAAAADgvw==\"},\"shape\":[2],\"dtype\":\"float64\",\"order\":\"little\"}]]}}},\"view\":{\"type\":\"object\",\"name\":\"CDSView\",\"id\":\"2565602e-d637-4a97-acc8-39df1485fff0\",\"attributes\":{\"filter\":{\"type\":\"object\",\"name\":\"AllIndices\",\"id\":\"1ff5ba74-bdab-445c-a292-2318da58efe5\"}}},\"glyph\":{\"type\":\"object\",\"name\":\"Line\",\"id\":\"a963f911-8c75-45ae-9755-859b34763349\",\"attributes\":{\"tags\":[\"apply_ranges\"],\"x\":{\"type\":\"field\",\"field\":\"x\"},\"y\":{\"type\":\"field\",\"field\":\"y\"},\"line_color\":\"#df0000\"}},\"selection_glyph\":{\"type\":\"object\",\"name\":\"Line\",\"id\":\"0100071a-809a-481d-af21-6635222c5290\",\"attributes\":{\"tags\":[\"apply_ranges\"],\"x\":{\"type\":\"field\",\"field\":\"x\"},\"y\":{\"type\":\"field\",\"field\":\"y\"},\"line_color\":\"#df0000\"}},\"nonselection_glyph\":{\"type\":\"object\",\"name\":\"Line\",\"id\":\"5151c45e-b44b-4511-8903-1db8047f0fd5\",\"attributes\":{\"tags\":[\"apply_ranges\"],\"x\":{\"type\":\"field\",\"field\":\"x\"},\"y\":{\"type\":\"field\",\"field\":\"y\"},\"line_color\":\"#df0000\",\"line_alpha\":0.1}},\"muted_glyph\":{\"type\":\"object\",\"name\":\"Line\",\"id\":\"e23969ad-a869-4944-a375-04808987bbdc\",\"attributes\":{\"tags\":[\"apply_ranges\"],\"x\":{\"type\":\"field\",\"field\":\"x\"},\"y\":{\"type\":\"field\",\"field\":\"y\"},\"line_color\":\"#df0000\",\"line_alpha\":0.2}}}},{\"type\":\"object\",\"name\":\"GlyphRenderer\",\"id\":\"45b34c8b-a770-4ef9-9bea-689ab969f9e7\",\"attributes\":{\"data_source\":{\"type\":\"object\",\"name\":\"ColumnDataSource\",\"id\":\"cad04010-eba2-4dd9-86b8-d4aa62b7a52a\",\"attributes\":{\"selected\":{\"type\":\"object\",\"name\":\"Selection\",\"id\":\"004924d6-2a5c-481d-91fa-4612d05f1e39\",\"attributes\":{\"indices\":[],\"line_indices\":[]}},\"selection_policy\":{\"type\":\"object\",\"name\":\"UnionRenderers\",\"id\":\"50f4a879-12c0-4487-9f06-42120cd20d0d\"},\"data\":{\"type\":\"map\",\"entries\":[[\"x\",[2049.0]],[\"y\",[-0.25]],[\"text\",[\"24yrs\"]]]}}},\"view\":{\"type\":\"object\",\"name\":\"CDSView\",\"id\":\"74691423-3ef5-4299-b2ec-2e9afbc62e02\",\"attributes\":{\"filter\":{\"type\":\"object\",\"name\":\"AllIndices\",\"id\":\"510ce0cf-a678-4ce7-ab2a-1a4098306e6c\"}}},\"glyph\":{\"type\":\"object\",\"name\":\"Text\",\"id\":\"c5734b18-faf2-40a5-b55e-8aab9a048550\",\"attributes\":{\"tags\":[\"apply_ranges\"],\"x\":{\"type\":\"field\",\"field\":\"x\"},\"y\":{\"type\":\"field\",\"field\":\"y\"},\"text\":{\"type\":\"field\",\"field\":\"text\"},\"text_color\":{\"type\":\"value\",\"value\":\"#df0000\"},\"text_font_size\":{\"type\":\"value\",\"value\":\"8pt\"},\"text_align\":{\"type\":\"value\",\"value\":\"center\"},\"text_baseline\":{\"type\":\"value\",\"value\":\"middle\"}}},\"selection_glyph\":{\"type\":\"object\",\"name\":\"Text\",\"id\":\"bdf05811-9ded-4c07-8965-c1b804631a24\",\"attributes\":{\"tags\":[\"apply_ranges\"],\"x\":{\"type\":\"field\",\"field\":\"x\"},\"y\":{\"type\":\"field\",\"field\":\"y\"},\"text\":{\"type\":\"field\",\"field\":\"text\"},\"angle\":{\"type\":\"value\",\"value\":0.0},\"x_offset\":{\"type\":\"value\",\"value\":0},\"y_offset\":{\"type\":\"value\",\"value\":0},\"outline_shape\":{\"type\":\"value\",\"value\":\"box\"},\"text_color\":{\"type\":\"value\",\"value\":\"#df0000\"},\"text_outline_color\":{\"type\":\"value\",\"value\":null},\"text_alpha\":{\"type\":\"value\",\"value\":1.0},\"text_font_size\":{\"type\":\"value\",\"value\":\"8pt\"},\"text_font_style\":{\"type\":\"value\",\"value\":\"normal\"},\"text_align\":{\"type\":\"value\",\"value\":\"center\"},\"text_baseline\":{\"type\":\"value\",\"value\":\"middle\"},\"text_line_height\":{\"type\":\"value\",\"value\":1.2},\"background_fill_color\":{\"type\":\"value\",\"value\":null},\"background_fill_alpha\":{\"type\":\"value\",\"value\":1.0},\"background_hatch_color\":{\"type\":\"value\",\"value\":null},\"background_hatch_alpha\":{\"type\":\"value\",\"value\":1.0},\"background_hatch_scale\":{\"type\":\"value\",\"value\":12.0},\"background_hatch_pattern\":{\"type\":\"value\",\"value\":null},\"background_hatch_weight\":{\"type\":\"value\",\"value\":1.0},\"border_line_color\":{\"type\":\"value\",\"value\":null},\"border_line_alpha\":{\"type\":\"value\",\"value\":1.0},\"border_line_width\":{\"type\":\"value\",\"value\":1},\"border_line_join\":{\"type\":\"value\",\"value\":\"bevel\"},\"border_line_cap\":{\"type\":\"value\",\"value\":\"butt\"},\"border_line_dash\":{\"type\":\"value\",\"value\":[]},\"border_line_dash_offset\":{\"type\":\"value\",\"value\":0}}},\"nonselection_glyph\":{\"type\":\"object\",\"name\":\"Text\",\"id\":\"dc1b7f94-03c8-4000-a9a3-a8baa99747e8\",\"attributes\":{\"tags\":[\"apply_ranges\"],\"x\":{\"type\":\"field\",\"field\":\"x\"},\"y\":{\"type\":\"field\",\"field\":\"y\"},\"text\":{\"type\":\"field\",\"field\":\"text\"},\"text_color\":{\"type\":\"value\",\"value\":\"#df0000\"},\"text_alpha\":{\"type\":\"value\",\"value\":0.1},\"text_font_size\":{\"type\":\"value\",\"value\":\"8pt\"},\"text_align\":{\"type\":\"value\",\"value\":\"center\"},\"text_baseline\":{\"type\":\"value\",\"value\":\"middle\"}}},\"muted_glyph\":{\"type\":\"object\",\"name\":\"Text\",\"id\":\"e6a0fac7-5bf2-452a-82ff-c53823c70c44\",\"attributes\":{\"tags\":[\"apply_ranges\"],\"x\":{\"type\":\"field\",\"field\":\"x\"},\"y\":{\"type\":\"field\",\"field\":\"y\"},\"text\":{\"type\":\"field\",\"field\":\"text\"},\"text_color\":{\"type\":\"value\",\"value\":\"#df0000\"},\"text_alpha\":{\"type\":\"value\",\"value\":0.2},\"text_font_size\":{\"type\":\"value\",\"value\":\"8pt\"},\"text_align\":{\"type\":\"value\",\"value\":\"center\"},\"text_baseline\":{\"type\":\"value\",\"value\":\"middle\"}}}}},{\"type\":\"object\",\"name\":\"Span\",\"id\":\"d221063d-affa-47d7-be8e-8b1df6679a98\",\"attributes\":{\"level\":\"glyph\",\"location\":2.0}},{\"type\":\"object\",\"name\":\"GlyphRenderer\",\"id\":\"96bae240-a238-4f00-bff0-9d6b1ea1fcab\",\"attributes\":{\"data_source\":{\"type\":\"object\",\"name\":\"ColumnDataSource\",\"id\":\"b85b6478-2132-4333-8db8-f6541bcc4b9a\",\"attributes\":{\"selected\":{\"type\":\"object\",\"name\":\"Selection\",\"id\":\"48c3c9ae-f925-438a-a3b8-838679802ff2\",\"attributes\":{\"indices\":[],\"line_indices\":[]}},\"selection_policy\":{\"type\":\"object\",\"name\":\"UnionRenderers\",\"id\":\"1eae5760-add8-4cc5-ad5c-77f130305898\"},\"data\":{\"type\":\"map\",\"entries\":[[\"x\",[1968]],[\"y\",[2.25]],[\"text\",[\"2.0\\u00b0C warming level\"]]]}}},\"view\":{\"type\":\"object\",\"name\":\"CDSView\",\"id\":\"a486aac9-25c3-4251-ad87-ba597dbb6276\",\"attributes\":{\"filter\":{\"type\":\"object\",\"name\":\"AllIndices\",\"id\":\"2c086f31-9db6-4c54-8ac2-78964732cb27\"}}},\"glyph\":{\"type\":\"object\",\"name\":\"Text\",\"id\":\"8fd4af5b-98d1-49a4-9163-14c503349714\",\"attributes\":{\"tags\":[\"apply_ranges\"],\"x\":{\"type\":\"field\",\"field\":\"x\"},\"y\":{\"type\":\"field\",\"field\":\"y\"},\"text\":{\"type\":\"field\",\"field\":\"text\"},\"text_color\":{\"type\":\"value\",\"value\":\"black\"},\"text_font_size\":{\"type\":\"value\",\"value\":\"8pt\"},\"text_align\":{\"type\":\"value\",\"value\":\"center\"},\"text_baseline\":{\"type\":\"value\",\"value\":\"middle\"}}},\"selection_glyph\":{\"type\":\"object\",\"name\":\"Text\",\"id\":\"b26fd485-5b51-4edb-9bdb-a1253347b014\",\"attributes\":{\"tags\":[\"apply_ranges\"],\"x\":{\"type\":\"field\",\"field\":\"x\"},\"y\":{\"type\":\"field\",\"field\":\"y\"},\"text\":{\"type\":\"field\",\"field\":\"text\"},\"angle\":{\"type\":\"value\",\"value\":0.0},\"x_offset\":{\"type\":\"value\",\"value\":0},\"y_offset\":{\"type\":\"value\",\"value\":0},\"outline_shape\":{\"type\":\"value\",\"value\":\"box\"},\"text_color\":{\"type\":\"value\",\"value\":\"black\"},\"text_outline_color\":{\"type\":\"value\",\"value\":null},\"text_alpha\":{\"type\":\"value\",\"value\":1.0},\"text_font_size\":{\"type\":\"value\",\"value\":\"8pt\"},\"text_font_style\":{\"type\":\"value\",\"value\":\"normal\"},\"text_align\":{\"type\":\"value\",\"value\":\"center\"},\"text_baseline\":{\"type\":\"value\",\"value\":\"middle\"},\"text_line_height\":{\"type\":\"value\",\"value\":1.2},\"background_fill_color\":{\"type\":\"value\",\"value\":null},\"background_fill_alpha\":{\"type\":\"value\",\"value\":1.0},\"background_hatch_color\":{\"type\":\"value\",\"value\":null},\"background_hatch_alpha\":{\"type\":\"value\",\"value\":1.0},\"background_hatch_scale\":{\"type\":\"value\",\"value\":12.0},\"background_hatch_pattern\":{\"type\":\"value\",\"value\":null},\"background_hatch_weight\":{\"type\":\"value\",\"value\":1.0},\"border_line_color\":{\"type\":\"value\",\"value\":null},\"border_line_alpha\":{\"type\":\"value\",\"value\":1.0},\"border_line_width\":{\"type\":\"value\",\"value\":1},\"border_line_join\":{\"type\":\"value\",\"value\":\"bevel\"},\"border_line_cap\":{\"type\":\"value\",\"value\":\"butt\"},\"border_line_dash\":{\"type\":\"value\",\"value\":[]},\"border_line_dash_offset\":{\"type\":\"value\",\"value\":0}}},\"nonselection_glyph\":{\"type\":\"object\",\"name\":\"Text\",\"id\":\"b5b6c819-4667-4c9a-8eff-8cc205d29458\",\"attributes\":{\"tags\":[\"apply_ranges\"],\"x\":{\"type\":\"field\",\"field\":\"x\"},\"y\":{\"type\":\"field\",\"field\":\"y\"},\"text\":{\"type\":\"field\",\"field\":\"text\"},\"text_color\":{\"type\":\"value\",\"value\":\"black\"},\"text_alpha\":{\"type\":\"value\",\"value\":0.1},\"text_font_size\":{\"type\":\"value\",\"value\":\"8pt\"},\"text_align\":{\"type\":\"value\",\"value\":\"center\"},\"text_baseline\":{\"type\":\"value\",\"value\":\"middle\"}}},\"muted_glyph\":{\"type\":\"object\",\"name\":\"Text\",\"id\":\"9edc44c2-72b9-4b73-9a49-3251c6d4a038\",\"attributes\":{\"tags\":[\"apply_ranges\"],\"x\":{\"type\":\"field\",\"field\":\"x\"},\"y\":{\"type\":\"field\",\"field\":\"y\"},\"text\":{\"type\":\"field\",\"field\":\"text\"},\"text_color\":{\"type\":\"value\",\"value\":\"black\"},\"text_alpha\":{\"type\":\"value\",\"value\":0.2},\"text_font_size\":{\"type\":\"value\",\"value\":\"8pt\"},\"text_align\":{\"type\":\"value\",\"value\":\"center\"},\"text_baseline\":{\"type\":\"value\",\"value\":\"middle\"}}}}}],\"toolbar\":{\"type\":\"object\",\"name\":\"Toolbar\",\"id\":\"499ae1e7-8e5b-4e51-a2c3-a8639469e385\",\"attributes\":{\"tools\":[{\"type\":\"object\",\"name\":\"WheelZoomTool\",\"id\":\"c514212e-eeea-44a9-bbbc-3b33bab9035b\",\"attributes\":{\"tags\":[\"hv_created\"],\"renderers\":\"auto\",\"zoom_together\":\"none\"}},{\"type\":\"object\",\"name\":\"HoverTool\",\"id\":\"d01bf7ac-f105-41c8-9146-7da37de662a3\",\"attributes\":{\"tags\":[\"hv_created\"],\"renderers\":[{\"id\":\"679c29d6-29c7-43dd-9448-1df72fa20163\"},{\"id\":\"b220dcf5-55b3-46fd-861b-25d0457dc8a8\"}],\"tooltips\":[[\"Year\",\"@{Year}\"],[\"Mean\",\"@{Mean}\"]]}},{\"type\":\"object\",\"name\":\"HoverTool\",\"id\":\"f8f9cf24-4b4c-4383-add9-01bf41dd7667\",\"attributes\":{\"tags\":[\"hv_created\"],\"renderers\":[{\"id\":\"05c86b18-6436-4e7a-873b-258fe58889cb\"},{\"id\":\"530386ab-f1fc-4e98-a20f-bf1f400dd4d7\"}],\"tooltips\":[[\"Year\",\"@{Year}\"],[\"5%\",\"@{A_5_percent}\"],[\"95%\",\"@{A_95_percent}\"]]}},{\"type\":\"object\",\"name\":\"SaveTool\",\"id\":\"5388764c-bad6-48be-9060-f68f731c5b25\"},{\"type\":\"object\",\"name\":\"PanTool\",\"id\":\"8c57746d-607b-47d0-b9d9-374c7337b9b6\"},{\"type\":\"object\",\"name\":\"BoxZoomTool\",\"id\":\"7846bbfa-5eb7-4724-b111-e7b0adb8b67b\",\"attributes\":{\"overlay\":{\"type\":\"object\",\"name\":\"BoxAnnotation\",\"id\":\"31b8523b-d409-4216-a51a-c22141dc36d5\",\"attributes\":{\"syncable\":false,\"line_color\":\"black\",\"line_alpha\":1.0,\"line_width\":2,\"line_dash\":[4,4],\"fill_color\":\"lightgrey\",\"fill_alpha\":0.5,\"level\":\"overlay\",\"visible\":false,\"left\":{\"type\":\"number\",\"value\":\"nan\"},\"right\":{\"type\":\"number\",\"value\":\"nan\"},\"top\":{\"type\":\"number\",\"value\":\"nan\"},\"bottom\":{\"type\":\"number\",\"value\":\"nan\"},\"left_units\":\"canvas\",\"right_units\":\"canvas\",\"top_units\":\"canvas\",\"bottom_units\":\"canvas\",\"handles\":{\"type\":\"object\",\"name\":\"BoxInteractionHandles\",\"id\":\"2b0ad332-c732-4f00-930d-49cc8de829c0\",\"attributes\":{\"all\":{\"type\":\"object\",\"name\":\"AreaVisuals\",\"id\":\"78836d08-d293-42dc-b0c9-c956101a0b89\",\"attributes\":{\"fill_color\":\"white\",\"hover_fill_color\":\"lightgray\"}}}}}}}},{\"type\":\"object\",\"name\":\"ResetTool\",\"id\":\"3aa39ecf-7645-439a-a16c-8251ce4750b7\"}],\"active_drag\":{\"id\":\"8c57746d-607b-47d0-b9d9-374c7337b9b6\"}}},\"left\":[{\"type\":\"object\",\"name\":\"LinearAxis\",\"id\":\"89bd77b1-3977-4725-b53d-ce92c631ad7f\",\"attributes\":{\"ticker\":{\"type\":\"object\",\"name\":\"BasicTicker\",\"id\":\"2a387826-0d56-4414-bd14-e8e8d24eb4ab\",\"attributes\":{\"mantissas\":[1,2,5]}},\"formatter\":{\"type\":\"object\",\"name\":\"BasicTickFormatter\",\"id\":\"08707654-1f85-469f-bb45-d554af784701\"},\"axis_label\":\"\\u00b0C\",\"major_label_policy\":{\"type\":\"object\",\"name\":\"AllLabels\",\"id\":\"cbf5cf9c-0cd2-4490-9bc4-b61d82707fd1\"}}}],\"below\":[{\"type\":\"object\",\"name\":\"LinearAxis\",\"id\":\"06112cf8-c78d-4cf2-9b0c-1d5b3c4c6d3e\",\"attributes\":{\"ticker\":{\"type\":\"object\",\"name\":\"BasicTicker\",\"id\":\"2a01b211-45fe-4f5d-b8b5-8b59a3e057ce\",\"attributes\":{\"mantissas\":[1,2,5]}},\"formatter\":{\"type\":\"object\",\"name\":\"BasicTickFormatter\",\"id\":\"e9d00725-a8e3-43fc-92f7-9eee7f75ef63\"},\"axis_label\":\"\",\"major_label_policy\":{\"type\":\"object\",\"name\":\"AllLabels\",\"id\":\"a8b26347-ce6f-4e49-9138-4603c211af8e\"}}},{\"type\":\"object\",\"name\":\"Legend\",\"id\":\"d19ef9f4-ee62-4a89-adc4-1397c62378b8\",\"attributes\":{\"location\":[0,0],\"orientation\":\"horizontal\",\"click_policy\":\"mute\",\"items\":[{\"type\":\"object\",\"name\":\"LegendItem\",\"id\":\"ff1fa0bf-74ad-468a-96bd-3f3c92373a44\",\"attributes\":{\"label\":{\"type\":\"value\",\"value\":\"Historical\"},\"renderers\":[{\"id\":\"679c29d6-29c7-43dd-9448-1df72fa20163\"}]}},{\"type\":\"object\",\"name\":\"LegendItem\",\"id\":\"22818f96-0429-46a5-a57a-30421b90b695\",\"attributes\":{\"label\":{\"type\":\"value\",\"value\":\"90% interval\"},\"renderers\":[{\"id\":\"530386ab-f1fc-4e98-a20f-bf1f400dd4d7\"}]}},{\"type\":\"object\",\"name\":\"LegendItem\",\"id\":\"4cd2a9a3-9568-4ffe-b33b-8bd5130b7426\",\"attributes\":{\"label\":{\"type\":\"value\",\"value\":\"SSP3-7.0\"},\"renderers\":[{\"id\":\"b220dcf5-55b3-46fd-861b-25d0457dc8a8\"}]}}]}}],\"center\":[{\"type\":\"object\",\"name\":\"Grid\",\"id\":\"2b5fea1d-65a8-470b-b25d-e68debaca50f\",\"attributes\":{\"axis\":{\"id\":\"06112cf8-c78d-4cf2-9b0c-1d5b3c4c6d3e\"},\"grid_line_color\":null}},{\"type\":\"object\",\"name\":\"Grid\",\"id\":\"89053d21-aedb-42f2-9c67-ef70dc9861d7\",\"attributes\":{\"dimension\":1,\"axis\":{\"id\":\"89bd77b1-3977-4725-b53d-ce92c631ad7f\"},\"grid_line_color\":null}}],\"min_border_top\":10,\"min_border_bottom\":10,\"min_border_left\":10,\"min_border_right\":10,\"output_backend\":\"webgl\"}},{\"type\":\"object\",\"name\":\"Spacer\",\"id\":\"3fd27b17-9195-448d-bd09-54b5d13cd39c\",\"attributes\":{\"name\":\"HSpacer02645\",\"stylesheets\":[\"\\n:host(.pn-loading):before, .pn-loading:before {\\n  background-color: #c3c3c3;\\n  mask-size: auto calc(min(50%, 400px));\\n  -webkit-mask-size: auto calc(min(50%, 400px));\\n}\",{\"id\":\"6e79ebc1-78db-4a8e-be59-62423907e3bb\"},{\"id\":\"ad862fcd-856f-40f3-9cbf-87de487fb932\"},{\"id\":\"b58c3b61-0f8d-4b6b-b8ff-b934a398f0d2\"}],\"margin\":0,\"sizing_mode\":\"stretch_width\",\"align\":\"start\"}}]}}],\"defs\":[{\"type\":\"model\",\"name\":\"ReactiveHTML1\"},{\"type\":\"model\",\"name\":\"FlexBox1\",\"properties\":[{\"name\":\"align_content\",\"kind\":\"Any\",\"default\":\"flex-start\"},{\"name\":\"align_items\",\"kind\":\"Any\",\"default\":\"flex-start\"},{\"name\":\"flex_direction\",\"kind\":\"Any\",\"default\":\"row\"},{\"name\":\"flex_wrap\",\"kind\":\"Any\",\"default\":\"wrap\"},{\"name\":\"gap\",\"kind\":\"Any\",\"default\":\"\"},{\"name\":\"justify_content\",\"kind\":\"Any\",\"default\":\"flex-start\"}]},{\"type\":\"model\",\"name\":\"FloatPanel1\",\"properties\":[{\"name\":\"config\",\"kind\":\"Any\",\"default\":{\"type\":\"map\"}},{\"name\":\"contained\",\"kind\":\"Any\",\"default\":true},{\"name\":\"position\",\"kind\":\"Any\",\"default\":\"right-top\"},{\"name\":\"offsetx\",\"kind\":\"Any\",\"default\":null},{\"name\":\"offsety\",\"kind\":\"Any\",\"default\":null},{\"name\":\"theme\",\"kind\":\"Any\",\"default\":\"primary\"},{\"name\":\"status\",\"kind\":\"Any\",\"default\":\"normalized\"}]},{\"type\":\"model\",\"name\":\"GridStack1\",\"properties\":[{\"name\":\"mode\",\"kind\":\"Any\",\"default\":\"warn\"},{\"name\":\"ncols\",\"kind\":\"Any\",\"default\":null},{\"name\":\"nrows\",\"kind\":\"Any\",\"default\":null},{\"name\":\"allow_resize\",\"kind\":\"Any\",\"default\":true},{\"name\":\"allow_drag\",\"kind\":\"Any\",\"default\":true},{\"name\":\"state\",\"kind\":\"Any\",\"default\":[]}]},{\"type\":\"model\",\"name\":\"drag1\",\"properties\":[{\"name\":\"slider_width\",\"kind\":\"Any\",\"default\":5},{\"name\":\"slider_color\",\"kind\":\"Any\",\"default\":\"black\"},{\"name\":\"value\",\"kind\":\"Any\",\"default\":50}]},{\"type\":\"model\",\"name\":\"click1\",\"properties\":[{\"name\":\"terminal_output\",\"kind\":\"Any\",\"default\":\"\"},{\"name\":\"debug_name\",\"kind\":\"Any\",\"default\":\"\"},{\"name\":\"clears\",\"kind\":\"Any\",\"default\":0}]},{\"type\":\"model\",\"name\":\"FastWrapper1\",\"properties\":[{\"name\":\"object\",\"kind\":\"Any\",\"default\":null},{\"name\":\"style\",\"kind\":\"Any\",\"default\":null}]},{\"type\":\"model\",\"name\":\"NotificationAreaBase1\",\"properties\":[{\"name\":\"js_events\",\"kind\":\"Any\",\"default\":{\"type\":\"map\"}},{\"name\":\"position\",\"kind\":\"Any\",\"default\":\"bottom-right\"},{\"name\":\"_clear\",\"kind\":\"Any\",\"default\":0}]},{\"type\":\"model\",\"name\":\"NotificationArea1\",\"properties\":[{\"name\":\"js_events\",\"kind\":\"Any\",\"default\":{\"type\":\"map\"}},{\"name\":\"notifications\",\"kind\":\"Any\",\"default\":[]},{\"name\":\"position\",\"kind\":\"Any\",\"default\":\"bottom-right\"},{\"name\":\"_clear\",\"kind\":\"Any\",\"default\":0},{\"name\":\"types\",\"kind\":\"Any\",\"default\":[{\"type\":\"map\",\"entries\":[[\"type\",\"warning\"],[\"background\",\"#ffc107\"],[\"icon\",{\"type\":\"map\",\"entries\":[[\"className\",\"fas fa-exclamation-triangle\"],[\"tagName\",\"i\"],[\"color\",\"white\"]]}]]},{\"type\":\"map\",\"entries\":[[\"type\",\"info\"],[\"background\",\"#007bff\"],[\"icon\",{\"type\":\"map\",\"entries\":[[\"className\",\"fas fa-info-circle\"],[\"tagName\",\"i\"],[\"color\",\"white\"]]}]]}]}]},{\"type\":\"model\",\"name\":\"Notification\",\"properties\":[{\"name\":\"background\",\"kind\":\"Any\",\"default\":null},{\"name\":\"duration\",\"kind\":\"Any\",\"default\":3000},{\"name\":\"icon\",\"kind\":\"Any\",\"default\":null},{\"name\":\"message\",\"kind\":\"Any\",\"default\":\"\"},{\"name\":\"notification_type\",\"kind\":\"Any\",\"default\":null},{\"name\":\"_rendered\",\"kind\":\"Any\",\"default\":false},{\"name\":\"_destroyed\",\"kind\":\"Any\",\"default\":false}]},{\"type\":\"model\",\"name\":\"TemplateActions1\",\"properties\":[{\"name\":\"open_modal\",\"kind\":\"Any\",\"default\":0},{\"name\":\"close_modal\",\"kind\":\"Any\",\"default\":0}]},{\"type\":\"model\",\"name\":\"BootstrapTemplateActions1\",\"properties\":[{\"name\":\"open_modal\",\"kind\":\"Any\",\"default\":0},{\"name\":\"close_modal\",\"kind\":\"Any\",\"default\":0}]},{\"type\":\"model\",\"name\":\"TemplateEditor1\",\"properties\":[{\"name\":\"layout\",\"kind\":\"Any\",\"default\":[]}]},{\"type\":\"model\",\"name\":\"MaterialTemplateActions1\",\"properties\":[{\"name\":\"open_modal\",\"kind\":\"Any\",\"default\":0},{\"name\":\"close_modal\",\"kind\":\"Any\",\"default\":0}]},{\"type\":\"model\",\"name\":\"ReactiveESM1\",\"properties\":[{\"name\":\"esm_constants\",\"kind\":\"Any\",\"default\":{\"type\":\"map\"}}]},{\"type\":\"model\",\"name\":\"JSComponent1\",\"properties\":[{\"name\":\"esm_constants\",\"kind\":\"Any\",\"default\":{\"type\":\"map\"}}]},{\"type\":\"model\",\"name\":\"ReactComponent1\",\"properties\":[{\"name\":\"esm_constants\",\"kind\":\"Any\",\"default\":{\"type\":\"map\"}}]},{\"type\":\"model\",\"name\":\"AnyWidgetComponent1\",\"properties\":[{\"name\":\"esm_constants\",\"kind\":\"Any\",\"default\":{\"type\":\"map\"}}]},{\"type\":\"model\",\"name\":\"request_value1\",\"properties\":[{\"name\":\"fill\",\"kind\":\"Any\",\"default\":\"none\"},{\"name\":\"_synced\",\"kind\":\"Any\",\"default\":null},{\"name\":\"_request_sync\",\"kind\":\"Any\",\"default\":0}]}]}};\n",
       "  var render_items = [{\"docid\":\"4309bd1c-88c5-4218-a978-8b7529345540\",\"roots\":{\"c152ec1a-990d-41c0-a90c-7178089e6104\":\"c1ba5132-c22d-403f-9850-4b3396a4983f\"},\"root_ids\":[\"c152ec1a-990d-41c0-a90c-7178089e6104\"]}];\n",
       "  var docs = Object.values(docs_json)\n",
       "  if (!docs) {\n",
       "    return\n",
       "  }\n",
       "  const py_version = docs[0].version.replace('rc', '-rc.').replace('.dev', '-dev.')\n",
       "  async function embed_document(root) {\n",
       "    var Bokeh = get_bokeh(root)\n",
       "    await Bokeh.embed.embed_items_notebook(docs_json, render_items);\n",
       "    for (const render_item of render_items) {\n",
       "      for (const root_id of render_item.root_ids) {\n",
       "\tconst id_el = document.getElementById(root_id)\n",
       "\tif (id_el.children.length && id_el.children[0].hasAttribute('data-root-id')) {\n",
       "\t  const root_el = id_el.children[0]\n",
       "\t  root_el.id = root_el.id + '-rendered'\n",
       "\t  for (const child of root_el.children) {\n",
       "            // Ensure JupyterLab does not capture keyboard shortcuts\n",
       "            // see: https://jupyterlab.readthedocs.io/en/4.1.x/extension/notebook.html#keyboard-interaction-model\n",
       "\t    child.setAttribute('data-lm-suppress-shortcuts', 'true')\n",
       "\t  }\n",
       "\t}\n",
       "      }\n",
       "    }\n",
       "  }\n",
       "  function get_bokeh(root) {\n",
       "    if (root.Bokeh === undefined) {\n",
       "      return null\n",
       "    } else if (root.Bokeh.version !== py_version) {\n",
       "      if (root.Bokeh.versions === undefined || !root.Bokeh.versions.has(py_version)) {\n",
       "\treturn null\n",
       "      }\n",
       "      return root.Bokeh.versions.get(py_version);\n",
       "    } else if (root.Bokeh.version === py_version) {\n",
       "      return root.Bokeh\n",
       "    }\n",
       "    return null\n",
       "  }\n",
       "  function is_loaded(root) {\n",
       "    var Bokeh = get_bokeh(root)\n",
       "    return (Bokeh != null && Bokeh.Panel !== undefined)\n",
       "  }\n",
       "  if (is_loaded(root)) {\n",
       "    embed_document(root);\n",
       "  } else {\n",
       "    var attempts = 0;\n",
       "    var timer = setInterval(function(root) {\n",
       "      if (is_loaded(root)) {\n",
       "        clearInterval(timer);\n",
       "        embed_document(root);\n",
       "      } else if (document.readyState == \"complete\") {\n",
       "        attempts++;\n",
       "        if (attempts > 200) {\n",
       "          clearInterval(timer);\n",
       "\t  var Bokeh = get_bokeh(root)\n",
       "\t  if (Bokeh == null || Bokeh.Panel == null) {\n",
       "            console.warn(\"Panel: ERROR: Unable to run Panel code because Bokeh or Panel library is missing\");\n",
       "\t  } else {\n",
       "\t    console.warn(\"Panel: WARNING: Attempting to render but not all required libraries could be resolved.\")\n",
       "\t    embed_document(root)\n",
       "\t  }\n",
       "        }\n",
       "      }\n",
       "    }, 25, root)\n",
       "  }\n",
       "})(window);</script>"
      ],
      "text/plain": [
       ":Overlay\n",
       "   .Curve.Historical                      :Curve   [Year]   (Mean)\n",
       "   .Area.I                                :Area   [Year]   (5%,95%)\n",
       "   .Area.A_90_percent_interval            :Area   [Year]   (5%,95%)\n",
       "   .Curve.SSP3_hyphen_minus_7_full_stop_0 :Curve   [Year]   (Mean)\n",
       "   .VLine.I                               :VLine   [x,y]\n",
       "   .Text.I                                :Text   [x,y]\n",
       "   .VLine.II                              :VLine   [x,y]\n",
       "   .VLine.III                             :VLine   [x,y]\n",
       "   .Curve.I                               :Curve   [x]   (y)\n",
       "   .Text.II                               :Text   [x,y]\n",
       "   .HLine.I                               :HLine   [x,y]\n",
       "   .Text.III                              :Text   [x,y]"
      ]
     },
     "execution_count": 41,
     "metadata": {
      "application/vnd.holoviews_exec.v0+json": {
       "id": "c152ec1a-990d-41c0-a90c-7178089e6104"
      }
     },
     "output_type": "execute_result"
    }
   ],
   "source": [
    "gwl_viz.plot_warming_trajectories(ssp='SSP 3-7.0', warming_level=2.0)"
   ]
  },
  {
   "cell_type": "markdown",
   "metadata": {},
   "source": [
    "If an individual SSP  scenario is specified, two additional elements are added to the visualization:\n",
    "\n",
    "* 90% confidence interval -- shown as a shaded area, represents the **very likely** (90% confidence) range of uncertainty around the best estimate for this scenario's warming trajectory.\n",
    "* Best estimate crossing year - indicated by the vertical dashed line, along with the range of possible crossing years corresponding to the 90% confidence interval."
   ]
  },
  {
   "cell_type": "code",
   "execution_count": 42,
   "metadata": {},
   "outputs": [
    {
     "data": {},
     "metadata": {},
     "output_type": "display_data"
    },
    {
     "data": {
      "application/vnd.holoviews_exec.v0+json": "",
      "text/html": [
       "<div id='fd204c48-44ac-43a5-8f35-0e5a4ef389ec'>\n",
       "  <div id=\"ae13882a-3d98-4bea-8f5d-4180bdc166d5\" data-root-id=\"fd204c48-44ac-43a5-8f35-0e5a4ef389ec\" style=\"display: contents;\"></div>\n",
       "</div>\n",
       "<script type=\"application/javascript\">(function(root) {\n",
       "  var docs_json = {\"0ac93049-ebaf-40d5-ac43-f31cbc68f4b6\":{\"version\":\"3.6.3\",\"title\":\"Bokeh Application\",\"roots\":[{\"type\":\"object\",\"name\":\"Row\",\"id\":\"fd204c48-44ac-43a5-8f35-0e5a4ef389ec\",\"attributes\":{\"name\":\"Row02917\",\"tags\":[\"embedded\"],\"stylesheets\":[\"\\n:host(.pn-loading):before, .pn-loading:before {\\n  background-color: #c3c3c3;\\n  mask-size: auto calc(min(50%, 400px));\\n  -webkit-mask-size: auto calc(min(50%, 400px));\\n}\",{\"type\":\"object\",\"name\":\"ImportedStyleSheet\",\"id\":\"2c25abd5-cf0c-463a-84a1-f665cc023304\",\"attributes\":{\"url\":\"https://cdn.holoviz.org/panel/1.6.1/dist/css/loading.css\"}},{\"type\":\"object\",\"name\":\"ImportedStyleSheet\",\"id\":\"c0fb52af-bb55-4969-b9b0-46bd0ac7f597\",\"attributes\":{\"url\":\"https://cdn.holoviz.org/panel/1.6.1/dist/css/listpanel.css\"}},{\"type\":\"object\",\"name\":\"ImportedStyleSheet\",\"id\":\"c885fe0d-0040-473c-84f0-f123f18a5b24\",\"attributes\":{\"url\":\"https://cdn.holoviz.org/panel/1.6.1/dist/bundled/theme/default.css\"}},{\"type\":\"object\",\"name\":\"ImportedStyleSheet\",\"id\":\"df8d9f88-571c-41b3-b59d-45a029ed6524\",\"attributes\":{\"url\":\"https://cdn.holoviz.org/panel/1.6.1/dist/bundled/theme/native.css\"}}],\"min_width\":575,\"margin\":0,\"sizing_mode\":\"stretch_width\",\"align\":\"start\",\"children\":[{\"type\":\"object\",\"name\":\"Spacer\",\"id\":\"56927222-b3db-41d9-8cd9-925f44d8c3e7\",\"attributes\":{\"name\":\"HSpacer02921\",\"stylesheets\":[\"\\n:host(.pn-loading):before, .pn-loading:before {\\n  background-color: #c3c3c3;\\n  mask-size: auto calc(min(50%, 400px));\\n  -webkit-mask-size: auto calc(min(50%, 400px));\\n}\",{\"id\":\"2c25abd5-cf0c-463a-84a1-f665cc023304\"},{\"id\":\"c885fe0d-0040-473c-84f0-f123f18a5b24\"},{\"id\":\"df8d9f88-571c-41b3-b59d-45a029ed6524\"}],\"margin\":0,\"sizing_mode\":\"stretch_width\",\"align\":\"start\"}},{\"type\":\"object\",\"name\":\"Figure\",\"id\":\"bb545091-d254-4d3c-a57f-cd613a73833e\",\"attributes\":{\"width\":575,\"height\":300,\"margin\":[5,10],\"sizing_mode\":\"fixed\",\"align\":\"start\",\"x_range\":{\"type\":\"object\",\"name\":\"Range1d\",\"id\":\"67969710-6681-491e-ab16-b0bc9a93e995\",\"attributes\":{\"name\":\"Year\",\"tags\":[[[\"Year\",null]],[]],\"start\":1950,\"end\":2100,\"reset_start\":1950,\"reset_end\":2100}},\"y_range\":{\"type\":\"object\",\"name\":\"Range1d\",\"id\":\"5621b4c9-6146-406a-abc0-0ccef5be9809\",\"attributes\":{\"name\":\"Mean\",\"tags\":[[[\"Mean\",null]],{\"type\":\"map\",\"entries\":[[\"invert_yaxis\",false],[\"autorange\",false]]}],\"start\":-1,\"end\":5,\"reset_start\":-1,\"reset_end\":5}},\"x_scale\":{\"type\":\"object\",\"name\":\"LinearScale\",\"id\":\"2e0c2ec7-f68e-4b81-8537-f3b170a5035c\"},\"y_scale\":{\"type\":\"object\",\"name\":\"LinearScale\",\"id\":\"a8c97e12-e37c-4cee-b337-f1dcac238754\"},\"title\":{\"type\":\"object\",\"name\":\"Title\",\"id\":\"43e35b18-7b8b-4d43-9cdb-d6ae92410c6a\",\"attributes\":{\"text\":\"Global mean surface temperature change relative to 1850-1900\",\"text_color\":\"black\",\"text_font_size\":\"12pt\"}},\"renderers\":[{\"type\":\"object\",\"name\":\"GlyphRenderer\",\"id\":\"cab4d9dd-6a4c-4a11-b431-a4c27daab6d3\",\"attributes\":{\"name\":\"Historical\",\"data_source\":{\"type\":\"object\",\"name\":\"ColumnDataSource\",\"id\":\"2ac11e8a-942f-4037-a15c-6627ed7a239d\",\"attributes\":{\"selected\":{\"type\":\"object\",\"name\":\"Selection\",\"id\":\"23c865f2-73de-4b9d-bb20-a4e2ce99036f\",\"attributes\":{\"indices\":[],\"line_indices\":[]}},\"selection_policy\":{\"type\":\"object\",\"name\":\"UnionRenderers\",\"id\":\"35493bf8-d9be-48a6-8747-fe14806a5a58\"},\"data\":{\"type\":\"map\",\"entries\":[[\"Year\",{\"type\":\"ndarray\",\"array\":{\"type\":\"bytes\",\"data\":\"ngcAAJ8HAACgBwAAoQcAAKIHAACjBwAApAcAAKUHAACmBwAApwcAAKgHAACpBwAAqgcAAKsHAACsBwAArQcAAK4HAACvBwAAsAcAALEHAACyBwAAswcAALQHAAC1BwAAtgcAALcHAAC4BwAAuQcAALoHAAC7BwAAvAcAAL0HAAC+BwAAvwcAAMAHAADBBwAAwgcAAMMHAADEBwAAxQcAAMYHAADHBwAAyAcAAMkHAADKBwAAywcAAMwHAADNBwAAzgcAAM8HAADQBwAA0QcAANIHAADTBwAA1AcAANUHAADWBwAA1wcAANgHAADZBwAA2gcAANsHAADcBwAA3QcAAN4HAAA=\"},\"shape\":[65],\"dtype\":\"int32\",\"order\":\"little\"}],[\"Mean\",{\"type\":\"ndarray\",\"array\":{\"type\":\"bytes\",\"data\":\"U14robsk0D/3Hi457pTRP8V1jCsujtE/y9dl+E830D/Oxd/2BInPP8mutIzUe9E/v9NkxttK0T+BIatbPSfRP1hZ2xSPi9A/4etrXWqE0D+Tqu0m+KbRP83NN6J71tE/n3JMFvcfzz8N/n4xW7LCP8CR5cnaS7E/vmckQiPYtj9ck25L5ILBPwVpxqLp7MA/forjwKvlxD+TcYxkj1DJPxN+qZ83Fcs/Onr83qY/zT/mkT8YeO7JPyjS/ZyC/Mw/1ZEjnYGRzz/JdOj0vBvLP2e0VUlkH8w/ZXH/kenQ0T/ZXgt6bwzSP4Hrihnh7dM/7pQO1v851j//BBcrajDYP3nnUIaqmNU/A30iT5KuzT+HGK95VWfTP2MOgo5WtdY/eR7cnbXb2D/nw7MEGQHcP2/W4H1VLt4/WybD8XyG4D+dg2dCk8TiP7iVXpuNFeI/VwirsYS10j+bkUHuIkzWP586Vik909w/VHB4QURq3z8viEhNuxjiP2pMiLmkauQ/wm1t4Xmp5D/yfAbUm9HlP/Mf0m9fh+c/NQpJZvWO6T9gx3+BIEDqP1GiJY+nZes/5BOy8za26z+cwd8vZkvsP/ymsFJBxew/qMXgYdq37T87qMR1jCvuP13iyAORxe4/XwzlRLsK8D+i0R3EzpTwP7Pqc7UV+/A/z2vsEtVb8T9gqwSLw5nxPw==\"},\"shape\":[65],\"dtype\":\"float64\",\"order\":\"little\"}]]}}},\"view\":{\"type\":\"object\",\"name\":\"CDSView\",\"id\":\"6461830e-eac7-4190-b60c-9928f20b112b\",\"attributes\":{\"filter\":{\"type\":\"object\",\"name\":\"AllIndices\",\"id\":\"93003e67-ca93-4025-a0ea-086a11132e13\"}}},\"glyph\":{\"type\":\"object\",\"name\":\"Line\",\"id\":\"388ed0c2-c82f-452a-8e77-fdbe404e6608\",\"attributes\":{\"tags\":[\"apply_ranges\"],\"x\":{\"type\":\"field\",\"field\":\"Year\"},\"y\":{\"type\":\"field\",\"field\":\"Mean\"},\"line_color\":\"#000000\",\"line_width\":2}},\"selection_glyph\":{\"type\":\"object\",\"name\":\"Line\",\"id\":\"7167911a-4265-4789-9887-fe68c7db652b\",\"attributes\":{\"tags\":[\"apply_ranges\"],\"x\":{\"type\":\"field\",\"field\":\"Year\"},\"y\":{\"type\":\"field\",\"field\":\"Mean\"},\"line_color\":\"#000000\",\"line_width\":2}},\"nonselection_glyph\":{\"type\":\"object\",\"name\":\"Line\",\"id\":\"c06ae61a-d9e1-42fc-9137-ac4d338e26bc\",\"attributes\":{\"tags\":[\"apply_ranges\"],\"x\":{\"type\":\"field\",\"field\":\"Year\"},\"y\":{\"type\":\"field\",\"field\":\"Mean\"},\"line_color\":\"#000000\",\"line_alpha\":0.1,\"line_width\":2}},\"muted_glyph\":{\"type\":\"object\",\"name\":\"Line\",\"id\":\"f453ae59-de8f-43b9-a6d4-31c539251a0e\",\"attributes\":{\"tags\":[\"apply_ranges\"],\"x\":{\"type\":\"field\",\"field\":\"Year\"},\"y\":{\"type\":\"field\",\"field\":\"Mean\"},\"line_color\":\"#000000\",\"line_alpha\":0.2,\"line_width\":2}}}},{\"type\":\"object\",\"name\":\"GlyphRenderer\",\"id\":\"951df7d7-6293-4a00-94e5-9d9f194a51a2\",\"attributes\":{\"data_source\":{\"type\":\"object\",\"name\":\"ColumnDataSource\",\"id\":\"0ce1819b-31b9-4a57-90b4-7b386e7dc5a3\",\"attributes\":{\"selected\":{\"type\":\"object\",\"name\":\"Selection\",\"id\":\"e7383ce5-de5b-458d-a0f1-293e051560cb\",\"attributes\":{\"indices\":[],\"line_indices\":[]}},\"selection_policy\":{\"type\":\"object\",\"name\":\"UnionRenderers\",\"id\":\"cebc2932-f836-4575-a2aa-285790f28ff6\"},\"data\":{\"type\":\"map\",\"entries\":[[\"x\",{\"type\":\"ndarray\",\"array\":{\"type\":\"bytes\",\"data\":\"ngcAAJ8HAACgBwAAoQcAAKIHAACjBwAApAcAAKUHAACmBwAApwcAAKgHAACpBwAAqgcAAKsHAACsBwAArQcAAK4HAACvBwAAsAcAALEHAACyBwAAswcAALQHAAC1BwAAtgcAALcHAAC4BwAAuQcAALoHAAC7BwAAvAcAAL0HAAC+BwAAvwcAAMAHAADBBwAAwgcAAMMHAADEBwAAxQcAAMYHAADHBwAAyAcAAMkHAADKBwAAywcAAMwHAADNBwAAzgcAAM8HAADQBwAA0QcAANIHAADTBwAA1AcAANUHAADWBwAA1wcAANgHAADZBwAA2gcAANsHAADcBwAA3QcAAN4HAADeBwAA3QcAANwHAADbBwAA2gcAANkHAADYBwAA1wcAANYHAADVBwAA1AcAANMHAADSBwAA0QcAANAHAADPBwAAzgcAAM0HAADMBwAAywcAAMoHAADJBwAAyAcAAMcHAADGBwAAxQcAAMQHAADDBwAAwgcAAMEHAADABwAAvwcAAL4HAAC9BwAAvAcAALsHAAC6BwAAuQcAALgHAAC3BwAAtgcAALUHAAC0BwAAswcAALIHAACxBwAAsAcAAK8HAACuBwAArQcAAKwHAACrBwAAqgcAAKkHAACoBwAApwcAAKYHAAClBwAApAcAAKMHAACiBwAAoQcAAKAHAACfBwAAngcAAA==\"},\"shape\":[130],\"dtype\":\"int32\",\"order\":\"little\"}],[\"y\",{\"type\":\"ndarray\",\"array\":{\"type\":\"bytes\",\"data\":\"XJIDdjV54z8peAq5Us/gP68l5IOeTeE/VwbVBici4T9KfVnaqbnhP8udmWA4V+E/exaE8j4O4z850a5Cyk/iP0EpWrkXGOE/Bfhu88bJ4T8tlbcjnJbhP8zUJHhDGuM/F7mnqzsW3z+Ws3dGW5XcP2w/GePD7NY/2pB/ZhAf1T+H/gkuVtTaP/rVHCCYo9s/W9JRDmYT3j+PxMvTuaLbP7Xf2omSkN8/9pfdk4cF4T8fDhKifEHePwxZ3eo56dw/GY7nM6De3z87Hch6avXgPzntKTkn9t0/RUjdzr7y3z+QhegQOJLjP3Ww/s9hPuI/rU85Jov74z/tmpDWGPTiPyhGlsyxvOI/aM76lGMy4j/XaDnQQ23jP1UVGohls+Q/E9Iag04I5j95Vz1gHjLmP5xrmKHxROY/7MA5I0p75z/WbrvQXCfqP/fI5qp5Duo/wjI2dLO/4D9EiCtn7wzkP0p/L4UHzeU/xY1bzM8N6D/DSC9q9yvoPyaMZmX7EOs/7nn+tFGd6j8qyqXxC6/rPy/9S1KZ4us/IO9VKxP+7z9hxhSscbbvPxa/KaxU0O8/KQXdXtIY8T857pQO1v/wP+6x9KELavE/YOrnTUWq8T8tlbcjnBbyP9fAVgkWh/I/z0nvG1979D+6SQwCKwfzP5kNMsnI2fM/p3nHKTqS9D8fuqC+ZU71P36s4Lchxu0/tMu3Pqw37T8c6+I2GkDsP8B1xYzw9uo/z2kWaHfI6j92qnzPSITpP8/AyMuaWOk/xK9Yw0Vu5z8EAp1JmyrmP83Ji0zAL+Y/6EoEqn8Q5j9Wtg95y9XlP3ptNlZiHuM//7Pmx19a4z84ns+AejPhP0YMO4xJf9w/Z++MtiqJ3D8B++jUlc/bP+fj2lAxztY/XTKOkewR0j/DvMeZJmzFP0s/4ezWMsM/r3srEhPUsD+oxeBh2jfTP6fqHtlcNdo/jBL0F3rE0j8ZAKq4cYvDPw3EsplDUsU/3bJD/MOWwj8x+OqZFNWpP87ixcIQOcE/dUJDWr6JjL+wWYnUD0WyP5FhFW9kHr0/ipqeZjfpoD/knehfNxGavzTO8LCa+Jw/ar3faMcNlz9Y6Un0jUOQvzpCYatfRJ6/aFB+nHrujr+tc8I6RJKXv8x8Bz9xAMe/bJc2HJYGyL9VKYdgZum4v2nlXmBWKMK/0uRiDKzjzL9eDybFxyfQv/AZ5Il7h7S/aOkKthFPyL+9qN2vAnzJv/q0iv7QzMO/qinJOhxdvb8xpqoazkaYP/Q0YJD0abW/5c7xdikamL8loeNZOP+hv6BYAoRq3rS/1NNH4A8/v79k7yDRX0OnvxuADYgQV8C/Y1BcRMoFlb+F25A12fWlv9Bdt63Sgqy/XMmOjUC8rr8=\"},\"shape\":[130],\"dtype\":\"float64\",\"order\":\"little\"}]]}}},\"view\":{\"type\":\"object\",\"name\":\"CDSView\",\"id\":\"ab77e217-58b3-448a-9128-9a4e672a4440\",\"attributes\":{\"filter\":{\"type\":\"object\",\"name\":\"AllIndices\",\"id\":\"bcdf80d2-3bf3-48ab-ae12-c545a1a7de50\"}}},\"glyph\":{\"type\":\"object\",\"name\":\"Patch\",\"id\":\"f5566534-565e-4749-afc3-0974900a070b\",\"attributes\":{\"tags\":[\"apply_ranges\"],\"x\":{\"type\":\"field\",\"field\":\"x\"},\"y\":{\"type\":\"field\",\"field\":\"y\"},\"line_alpha\":0.1,\"fill_color\":\"#000000\",\"fill_alpha\":0.1,\"hatch_color\":\"#000000\",\"hatch_alpha\":0.1}},\"selection_glyph\":{\"type\":\"object\",\"name\":\"Patch\",\"id\":\"7b0027c6-576f-4153-8340-226cb07dfadb\",\"attributes\":{\"tags\":[\"apply_ranges\"],\"x\":{\"type\":\"field\",\"field\":\"x\"},\"y\":{\"type\":\"field\",\"field\":\"y\"},\"line_alpha\":0.1,\"fill_color\":\"#000000\",\"fill_alpha\":0.1,\"hatch_color\":\"#000000\",\"hatch_alpha\":0.1}},\"nonselection_glyph\":{\"type\":\"object\",\"name\":\"Patch\",\"id\":\"67eaeaa1-7282-4501-9bc9-531898fd6148\",\"attributes\":{\"tags\":[\"apply_ranges\"],\"x\":{\"type\":\"field\",\"field\":\"x\"},\"y\":{\"type\":\"field\",\"field\":\"y\"},\"line_alpha\":0.1,\"fill_color\":\"#000000\",\"fill_alpha\":0.1,\"hatch_color\":\"#000000\",\"hatch_alpha\":0.1}},\"muted_glyph\":{\"type\":\"object\",\"name\":\"Patch\",\"id\":\"8458e135-16ef-4ceb-b4b9-5ce3d7a63b71\",\"attributes\":{\"tags\":[\"apply_ranges\"],\"x\":{\"type\":\"field\",\"field\":\"x\"},\"y\":{\"type\":\"field\",\"field\":\"y\"},\"line_alpha\":0.2,\"fill_color\":\"#000000\",\"fill_alpha\":0.2,\"hatch_color\":\"#000000\",\"hatch_alpha\":0.2}}}},{\"type\":\"object\",\"name\":\"GlyphRenderer\",\"id\":\"400fe72c-fa68-46f2-8e12-88655016793c\",\"attributes\":{\"name\":\"90% interval\",\"data_source\":{\"type\":\"object\",\"name\":\"ColumnDataSource\",\"id\":\"fdcabe0c-6881-4fad-80b6-242bd2b020a7\",\"attributes\":{\"selected\":{\"type\":\"object\",\"name\":\"Selection\",\"id\":\"9659d4b6-616c-471b-8d84-ab07d0e2ef1c\",\"attributes\":{\"indices\":[],\"line_indices\":[]}},\"selection_policy\":{\"type\":\"object\",\"name\":\"UnionRenderers\",\"id\":\"9e339862-87b8-4229-8600-0a2c9f9219bc\"},\"data\":{\"type\":\"map\",\"entries\":[[\"x\",{\"type\":\"ndarray\",\"array\":{\"type\":\"bytes\",\"data\":\"AAAAAAB8n0AAAAAAAICfQAAAAAAAhJ9AAAAAAACIn0AAAAAAAIyfQAAAAAAAkJ9AAAAAAACUn0AAAAAAAJifQAAAAAAAnJ9AAAAAAACgn0AAAAAAAKSfQAAAAAAAqJ9AAAAAAACsn0AAAAAAALCfQAAAAAAAtJ9AAAAAAAC4n0AAAAAAALyfQAAAAAAAwJ9AAAAAAADEn0AAAAAAAMifQAAAAAAAzJ9AAAAAAADQn0AAAAAAANSfQAAAAAAA2J9AAAAAAADcn0AAAAAAAOCfQAAAAAAA5J9AAAAAAADon0AAAAAAAOyfQAAAAAAA8J9AAAAAAAD0n0AAAAAAAPifQAAAAAAA/J9AAAAAAAAAoEAAAAAAAAKgQAAAAAAABKBAAAAAAAAGoEAAAAAAAAigQAAAAAAACqBAAAAAAAAMoEAAAAAAAA6gQAAAAAAAEKBAAAAAAAASoEAAAAAAABSgQAAAAAAAFqBAAAAAAAAYoEAAAAAAABqgQAAAAAAAHKBAAAAAAAAeoEAAAAAAACCgQAAAAAAAIqBAAAAAAAAkoEAAAAAAACagQAAAAAAAKKBAAAAAAAAqoEAAAAAAACygQAAAAAAALqBAAAAAAAAwoEAAAAAAADKgQAAAAAAANKBAAAAAAAA2oEAAAAAAADigQAAAAAAAOqBAAAAAAAA8oEAAAAAAAD6gQAAAAAAAQKBAAAAAAABCoEAAAAAAAESgQAAAAAAARqBAAAAAAABIoEAAAAAAAEqgQAAAAAAATKBAAAAAAABOoEAAAAAAAFCgQAAAAAAAUqBAAAAAAABUoEAAAAAAAFagQAAAAAAAWKBAAAAAAABaoEAAAAAAAFygQAAAAAAAXqBAAAAAAABgoEAAAAAAAGKgQAAAAAAAZKBAAAAAAABmoEAAAAAAAGagQAAAAAAAZKBAAAAAAABioEAAAAAAAGCgQAAAAAAAXqBAAAAAAABcoEAAAAAAAFqgQAAAAAAAWKBAAAAAAABWoEAAAAAAAFSgQAAAAAAAUqBAAAAAAABQoEAAAAAAAE6gQAAAAAAATKBAAAAAAABKoEAAAAAAAEigQAAAAAAARqBAAAAAAABEoEAAAAAAAEKgQAAAAAAAQKBAAAAAAAA+oEAAAAAAADygQAAAAAAAOqBAAAAAAAA4oEAAAAAAADagQAAAAAAANKBAAAAAAAAyoEAAAAAAADCgQAAAAAAALqBAAAAAAAAsoEAAAAAAACqgQAAAAAAAKKBAAAAAAAAmoEAAAAAAACSgQAAAAAAAIqBAAAAAAAAgoEAAAAAAAB6gQAAAAAAAHKBAAAAAAAAaoEAAAAAAABigQAAAAAAAFqBAAAAAAAAUoEAAAAAAABKgQAAAAAAAEKBAAAAAAAAOoEAAAAAAAAygQAAAAAAACqBAAAAAAAAIoEAAAAAAAAagQAAAAAAABKBAAAAAAAACoEAAAAAAAACgQAAAAAAA/J9AAAAAAAD4n0AAAAAAAPSfQAAAAAAA8J9AAAAAAADsn0AAAAAAAOifQAAAAAAA5J9AAAAAAADgn0AAAAAAANyfQAAAAAAA2J9AAAAAAADUn0AAAAAAANCfQAAAAAAAzJ9AAAAAAADIn0AAAAAAAMSfQAAAAAAAwJ9AAAAAAAC8n0AAAAAAALifQAAAAAAAtJ9AAAAAAACwn0AAAAAAAKyfQAAAAAAAqJ9AAAAAAACkn0AAAAAAAKCfQAAAAAAAnJ9AAAAAAACYn0AAAAAAAJSfQAAAAAAAkJ9AAAAAAACMn0AAAAAAAIifQAAAAAAAhJ9AAAAAAACAn0AAAAAAAHyfQA==\"},\"shape\":[170],\"dtype\":\"float64\",\"order\":\"little\"}],[\"y\",{\"type\":\"ndarray\",\"array\":{\"type\":\"bytes\",\"data\":\"FXwll9Md8z9/3cqIoKrzP+nCl3BROvQ/Z/LsGcTN9D91iy89NWT1P0BJDG04C/Y//TQaVdia9j/DqdzwdCn3P2JH+DNetfc/SXy8gMw9+D/4VDuxssb4P011NnbaTfk/cy9mliTZ+T8x4EeWZmX6P+dxXEuM8/o/bqzPdjGC+z8gWe20ww38P0nsMyerkvw/azXjBuob/T86U/C1EKL9P5RA8RtmJP4/MVTihwOn/j9zbG2UoSn/P7xq7T4mtf8/CmC0XB4gAEAtbLUEJGQAQNw/pFV0qgBApehi9L3wAEDaC+DsqzYBQD8BeHRIfQFArys66nXPAUByeoSW0xECQMs3hilpWAJAYalsk9ifAkDOQGVI2N8CQMxH11/DMwNAmtqsWhljA0D7hIPgA7IDQE98bJwr9ANAD54FCToyBEBpwwHTiF0EQAmbmo+UnQRAoAD+Sz/ZBECpANvoAhIFQFYnR8jnSwVA02VfKT6ZBUAkNhWLZ9MFQKpUmB4WHwZAlY8aNBBYBkBKwdfKFI4GQDqx7u7lxQZAUCISw2H5BkCYcY1tPS4HQJkvxeXyXgdAFXpKtJWPB0BVpj0oN78HQNTllNm1AAhAcTLv09UyCEBWUYikrmEIQKcCiQeIkwhA87qW1GrDCEDL9QgqofIIQBYS3DcOIwlA//+17/dSCUDI3jRbdH4JQMSAVoH9qAlA1Qhn+X3UCUAw+ganagEKQIwfLu5vLQpA0BBv5ddXCkBQUYg5a4AKQALfkrl5rApAymwP9fnYCkAifJAUegILQArtq2IVLAtAvGzy22hTC0BkJtja63oLQImcYpYGoQtAfxdRiHPGC0CeJ4d+F+cLQAGpxNzzCAxA99I/YwcqDECmj5/B3EkMQMRwVh1uaAxA98KnEaOGDECmHVAqNScBQKb/UlsbGwFA+mpMLmIOAUCK75QiPQMBQPxx6VIq+ABAOwvAvo3qAEDJWy188tsAQMdpPypqzgBAFfUAAWHAAED1J5fAya4AQL6mD9YPoABAGJadI4WQAECOvQATnIAAQGJqcX9QbwBALHgwZXZaAECvhrwtmkUAQIgY1twPNQBAvWdXE4EkAECqu84ueBAAQK8qMDHD/f8/DoSNjDja/z9h+xovJ7P/P2ZYrCqDiP8/wNvO7/hY/z9aEK4riyr/P8DhEi8U/v4/fO+q+fvR/j9/fi/975/+PwCaNuzybP4/njsyYo9A/j8r+A5qLBP+P1f4u7f94P0/n5lKUX2q/T+Gx+ySvXP9Px1BIKgtP/0/vFpUGQAH/T8Mg+T2Pcr8P4MvxcFykfw/laZZB2Ze/D+PAerD7yH8P/821qA05fs/qgjyTQWy+z/FEyh3j3n7P5UYB+MGQvs/CkAgpJoM+z/mRzWEj9D6Pzw0HYODlPo/BGwfGVlb+j/t1ZmbgRX6PyQJ+5Eh0vk/1a7k1xSR+T9WTeODvlT5PxtiP5hNEvk/zxRciljS+D955AYRHJL4P/h+VrLzTPg/Sp1Q8EMF+D+KeihZMrr3P5IF3KO8b/c/kcFSP+oq9z9se+LIJ+P2PzeHDqeNlfY/jeEoWutI9j9ke0KFRQP2P0BPTCDAvvU/tN0GNQF79T8cJsr+CjP1P50sr/oe8PQ/1c/mifOt9D+cLRPjI2b0PyXDCoQzGvQ/xz+dvmPN8z8XMvmJloHzP4z00SmQOfM/iZ+jUyvw8j+gMSMXg73yP1s8wQopevI/c11Izi448j/Oj0ThQ+vxPzz4tdj8mvE/5+B7BRhN8T/AIo1TmwfxPwM/ivdew/A/qZpzrmt68D+dL/v3pS3wPw==\"},\"shape\":[170],\"dtype\":\"float64\",\"order\":\"little\"}]]}}},\"view\":{\"type\":\"object\",\"name\":\"CDSView\",\"id\":\"4c89aa31-9320-4ad3-b524-afa45d6f7031\",\"attributes\":{\"filter\":{\"type\":\"object\",\"name\":\"AllIndices\",\"id\":\"897bdfb6-723d-4be1-a747-7ffbe0aa7596\"}}},\"glyph\":{\"type\":\"object\",\"name\":\"Patch\",\"id\":\"08ca5b00-c9ae-4445-aa9e-29517845ee02\",\"attributes\":{\"tags\":[\"apply_ranges\"],\"x\":{\"type\":\"field\",\"field\":\"x\"},\"y\":{\"type\":\"field\",\"field\":\"y\"},\"line_alpha\":0.2,\"fill_color\":\"#f69320\",\"fill_alpha\":0.2,\"hatch_color\":\"#f69320\",\"hatch_alpha\":0.2}},\"selection_glyph\":{\"type\":\"object\",\"name\":\"Patch\",\"id\":\"1de367ce-8532-4378-9a36-cc14593be03b\",\"attributes\":{\"tags\":[\"apply_ranges\"],\"x\":{\"type\":\"field\",\"field\":\"x\"},\"y\":{\"type\":\"field\",\"field\":\"y\"},\"line_alpha\":0.2,\"fill_color\":\"#f69320\",\"fill_alpha\":0.2,\"hatch_color\":\"#f69320\",\"hatch_alpha\":0.2}},\"nonselection_glyph\":{\"type\":\"object\",\"name\":\"Patch\",\"id\":\"e8cc1ae5-9360-434b-9699-a5cc16edeffa\",\"attributes\":{\"tags\":[\"apply_ranges\"],\"x\":{\"type\":\"field\",\"field\":\"x\"},\"y\":{\"type\":\"field\",\"field\":\"y\"},\"line_alpha\":0.2,\"fill_color\":\"#f69320\",\"fill_alpha\":0.2,\"hatch_color\":\"#f69320\",\"hatch_alpha\":0.1}},\"muted_glyph\":{\"type\":\"object\",\"name\":\"Patch\",\"id\":\"c92b0a9b-060e-4414-83fe-f2ec8cce5714\",\"attributes\":{\"tags\":[\"apply_ranges\"],\"x\":{\"type\":\"field\",\"field\":\"x\"},\"y\":{\"type\":\"field\",\"field\":\"y\"},\"line_alpha\":0.2,\"fill_color\":\"#f69320\",\"fill_alpha\":0.2,\"hatch_color\":\"#f69320\",\"hatch_alpha\":0.2}}}},{\"type\":\"object\",\"name\":\"GlyphRenderer\",\"id\":\"da275a6f-93c3-416a-9791-eac506607258\",\"attributes\":{\"name\":\"SSP2-4.5\",\"data_source\":{\"type\":\"object\",\"name\":\"ColumnDataSource\",\"id\":\"a9f2fdd1-1437-4c7c-92ca-8f1d17775e47\",\"attributes\":{\"selected\":{\"type\":\"object\",\"name\":\"Selection\",\"id\":\"697592ec-2e8f-4a6c-a365-1f7b32ec266a\",\"attributes\":{\"indices\":[],\"line_indices\":[]}},\"selection_policy\":{\"type\":\"object\",\"name\":\"UnionRenderers\",\"id\":\"ec8caf8c-e625-4dd5-baf8-3e34f6c54fd2\"},\"data\":{\"type\":\"map\",\"entries\":[[\"Year\",{\"type\":\"ndarray\",\"array\":{\"type\":\"bytes\",\"data\":\"AAAAAAB8n0AAAAAAAICfQAAAAAAAhJ9AAAAAAACIn0AAAAAAAIyfQAAAAAAAkJ9AAAAAAACUn0AAAAAAAJifQAAAAAAAnJ9AAAAAAACgn0AAAAAAAKSfQAAAAAAAqJ9AAAAAAACsn0AAAAAAALCfQAAAAAAAtJ9AAAAAAAC4n0AAAAAAALyfQAAAAAAAwJ9AAAAAAADEn0AAAAAAAMifQAAAAAAAzJ9AAAAAAADQn0AAAAAAANSfQAAAAAAA2J9AAAAAAADcn0AAAAAAAOCfQAAAAAAA5J9AAAAAAADon0AAAAAAAOyfQAAAAAAA8J9AAAAAAAD0n0AAAAAAAPifQAAAAAAA/J9AAAAAAAAAoEAAAAAAAAKgQAAAAAAABKBAAAAAAAAGoEAAAAAAAAigQAAAAAAACqBAAAAAAAAMoEAAAAAAAA6gQAAAAAAAEKBAAAAAAAASoEAAAAAAABSgQAAAAAAAFqBAAAAAAAAYoEAAAAAAABqgQAAAAAAAHKBAAAAAAAAeoEAAAAAAACCgQAAAAAAAIqBAAAAAAAAkoEAAAAAAACagQAAAAAAAKKBAAAAAAAAqoEAAAAAAACygQAAAAAAALqBAAAAAAAAwoEAAAAAAADKgQAAAAAAANKBAAAAAAAA2oEAAAAAAADigQAAAAAAAOqBAAAAAAAA8oEAAAAAAAD6gQAAAAAAAQKBAAAAAAABCoEAAAAAAAESgQAAAAAAARqBAAAAAAABIoEAAAAAAAEqgQAAAAAAATKBAAAAAAABOoEAAAAAAAFCgQAAAAAAAUqBAAAAAAABUoEAAAAAAAFagQAAAAAAAWKBAAAAAAABaoEAAAAAAAFygQAAAAAAAXqBAAAAAAABgoEAAAAAAAGKgQAAAAAAAZKBAAAAAAABmoEA=\"},\"shape\":[85],\"dtype\":\"float64\",\"order\":\"little\"}],[\"Mean\",{\"type\":\"ndarray\",\"array\":{\"type\":\"bytes\",\"data\":\"lunettOm8T9nJ9AkygfyP6dp9cpCbvI/8VSRugvW8j9P2Qo7Hz/zP0WFY8/PrfM/qM2k7cAX9D/lb8Y9T4D0P7KysfYb6PQ/EEQemVZT9T8pJyFL4bj1P0MhF7NnGfY/5vwShiJ99j99K1wRyez2P5f8RjofVPc/0GzdLiK69z9sh4wOeBn4P8wHOWKcePg/LGd7qqrS+D90MDt2MCr5P39gMf97gfk/+oOb+cLf+T8saLsCQkH6PxeG4OuipPo/wOjALL0G+z/fjvshuWX7P4gRXgx2yvs/xvfKWdIv/D+O3ALSV5b8PxYnaFUJ8vw/+HnB4b5K/T/BlLYFEqz9Px9O1atNFP4/GnMafYVt/j+a5rw8B8L+P5TzVd7jIf8/Hsn4652S/z8oQzjNben/P2vDGoHlIgBA1aYnviJPAEBvioC5T30AQMX5+xPWqwBAYAo8jbnVAEBFUAfBqf8AQLFpz37/KQFAWzMiUStSAUCNPXPgZX0BQIOclbecpAFApu9wbpPNAUDiK6hGUvYBQCpKHy11GwJAvRtRXANAAkD0aJTKDWMCQPJ+RK6nhwJAH/mAIb+rAkAKGpyTI8wCQKkxv8AV7QJAZRpKBdEVA0AYxzyc/DQDQAaOjcPpXQNA0FBZ2PJ+A0AEpMN1IZgDQKq7NRn6wANAj2oi7TDhA0AoXR2eUP0DQC6c5Z2YGgRAliedxcM3BED45hWR21YEQF4zWXHWdARAOiGiOeaSBEDk6Qpki7AEQExOiKDfzQRAzfJL2WDqBEBkgpmC8QQFQPJ65LlwHAVAVzI9a2MzBUBqblj1kFEFQBhOUsoLZwVA8bgoit9+BUDrmSRGNpYFQCPD5/mwrQVAlHmd2FvFBUA7Rm5SndcFQJqXJQ8u6wVA/c8rhi38BUA=\"},\"shape\":[85],\"dtype\":\"float64\",\"order\":\"little\"}]]}}},\"view\":{\"type\":\"object\",\"name\":\"CDSView\",\"id\":\"e54036ff-f181-4904-8a4b-a5be311894e5\",\"attributes\":{\"filter\":{\"type\":\"object\",\"name\":\"AllIndices\",\"id\":\"84774f54-7b8d-4914-85f6-40df988e82b0\"}}},\"glyph\":{\"type\":\"object\",\"name\":\"Line\",\"id\":\"78664717-e09a-44d3-a9a9-eff4874d73cd\",\"attributes\":{\"tags\":[\"apply_ranges\"],\"x\":{\"type\":\"field\",\"field\":\"Year\"},\"y\":{\"type\":\"field\",\"field\":\"Mean\"},\"line_color\":\"#f69320\",\"line_width\":2}},\"selection_glyph\":{\"type\":\"object\",\"name\":\"Line\",\"id\":\"be3493e1-a604-49ad-a360-e593770c50bc\",\"attributes\":{\"tags\":[\"apply_ranges\"],\"x\":{\"type\":\"field\",\"field\":\"Year\"},\"y\":{\"type\":\"field\",\"field\":\"Mean\"},\"line_color\":\"#f69320\",\"line_width\":2}},\"nonselection_glyph\":{\"type\":\"object\",\"name\":\"Line\",\"id\":\"43ebe11b-548a-47d7-b766-00a282c78d70\",\"attributes\":{\"tags\":[\"apply_ranges\"],\"x\":{\"type\":\"field\",\"field\":\"Year\"},\"y\":{\"type\":\"field\",\"field\":\"Mean\"},\"line_color\":\"#f69320\",\"line_alpha\":0.1,\"line_width\":2}},\"muted_glyph\":{\"type\":\"object\",\"name\":\"Line\",\"id\":\"20bca703-820e-4d60-b5ed-83c7666482a6\",\"attributes\":{\"tags\":[\"apply_ranges\"],\"x\":{\"type\":\"field\",\"field\":\"Year\"},\"y\":{\"type\":\"field\",\"field\":\"Mean\"},\"line_color\":\"#f69320\",\"line_alpha\":0.2,\"line_width\":2}}}},{\"type\":\"object\",\"name\":\"Span\",\"id\":\"8399029f-22b9-4842-a63b-8a752f4e81ea\",\"attributes\":{\"level\":\"glyph\",\"location\":2053.0,\"dimension\":\"height\",\"line_color\":\"#f69320\",\"line_dash\":[6]}},{\"type\":\"object\",\"name\":\"GlyphRenderer\",\"id\":\"3f5730f1-90e9-4315-9cb0-cd0949040299\",\"attributes\":{\"data_source\":{\"type\":\"object\",\"name\":\"ColumnDataSource\",\"id\":\"8bd2439c-1bb6-43e8-a6dd-82c874795543\",\"attributes\":{\"selected\":{\"type\":\"object\",\"name\":\"Selection\",\"id\":\"b8457505-1661-4e32-a641-d89d0ba15ca7\",\"attributes\":{\"indices\":[],\"line_indices\":[]}},\"selection_policy\":{\"type\":\"object\",\"name\":\"UnionRenderers\",\"id\":\"f80e0abc-e404-47a5-a419-54dbbb10abd1\"},\"data\":{\"type\":\"map\",\"entries\":[[\"x\",[2057.0]],[\"y\",[4.5]],[\"text\",[\"2053\"]]]}}},\"view\":{\"type\":\"object\",\"name\":\"CDSView\",\"id\":\"27aa1b95-0aa0-41a4-9342-39bb1328b6bc\",\"attributes\":{\"filter\":{\"type\":\"object\",\"name\":\"AllIndices\",\"id\":\"b6eba434-39b5-492d-b0e4-f62d5867793a\"}}},\"glyph\":{\"type\":\"object\",\"name\":\"Text\",\"id\":\"4dbef3d1-5d0a-43d1-92a6-9aab0eee6d52\",\"attributes\":{\"tags\":[\"apply_ranges\"],\"x\":{\"type\":\"field\",\"field\":\"x\"},\"y\":{\"type\":\"field\",\"field\":\"y\"},\"text\":{\"type\":\"field\",\"field\":\"text\"},\"text_color\":{\"type\":\"value\",\"value\":\"#f69320\"},\"text_font_size\":{\"type\":\"value\",\"value\":\"8pt\"},\"text_font_style\":{\"type\":\"value\",\"value\":\"bold\"},\"text_align\":{\"type\":\"value\",\"value\":\"center\"},\"text_baseline\":{\"type\":\"value\",\"value\":\"middle\"}}},\"selection_glyph\":{\"type\":\"object\",\"name\":\"Text\",\"id\":\"1850a90c-763c-457e-a476-cb07c955df30\",\"attributes\":{\"tags\":[\"apply_ranges\"],\"x\":{\"type\":\"field\",\"field\":\"x\"},\"y\":{\"type\":\"field\",\"field\":\"y\"},\"text\":{\"type\":\"field\",\"field\":\"text\"},\"angle\":{\"type\":\"value\",\"value\":0.0},\"x_offset\":{\"type\":\"value\",\"value\":0},\"y_offset\":{\"type\":\"value\",\"value\":0},\"outline_shape\":{\"type\":\"value\",\"value\":\"box\"},\"text_color\":{\"type\":\"value\",\"value\":\"#f69320\"},\"text_outline_color\":{\"type\":\"value\",\"value\":null},\"text_alpha\":{\"type\":\"value\",\"value\":1.0},\"text_font_size\":{\"type\":\"value\",\"value\":\"8pt\"},\"text_font_style\":{\"type\":\"value\",\"value\":\"bold\"},\"text_align\":{\"type\":\"value\",\"value\":\"center\"},\"text_baseline\":{\"type\":\"value\",\"value\":\"middle\"},\"text_line_height\":{\"type\":\"value\",\"value\":1.2},\"background_fill_color\":{\"type\":\"value\",\"value\":null},\"background_fill_alpha\":{\"type\":\"value\",\"value\":1.0},\"background_hatch_color\":{\"type\":\"value\",\"value\":null},\"background_hatch_alpha\":{\"type\":\"value\",\"value\":1.0},\"background_hatch_scale\":{\"type\":\"value\",\"value\":12.0},\"background_hatch_pattern\":{\"type\":\"value\",\"value\":null},\"background_hatch_weight\":{\"type\":\"value\",\"value\":1.0},\"border_line_color\":{\"type\":\"value\",\"value\":null},\"border_line_alpha\":{\"type\":\"value\",\"value\":1.0},\"border_line_width\":{\"type\":\"value\",\"value\":1},\"border_line_join\":{\"type\":\"value\",\"value\":\"bevel\"},\"border_line_cap\":{\"type\":\"value\",\"value\":\"butt\"},\"border_line_dash\":{\"type\":\"value\",\"value\":[]},\"border_line_dash_offset\":{\"type\":\"value\",\"value\":0}}},\"nonselection_glyph\":{\"type\":\"object\",\"name\":\"Text\",\"id\":\"aefd1853-8e89-4ec2-b128-8468508cf29f\",\"attributes\":{\"tags\":[\"apply_ranges\"],\"x\":{\"type\":\"field\",\"field\":\"x\"},\"y\":{\"type\":\"field\",\"field\":\"y\"},\"text\":{\"type\":\"field\",\"field\":\"text\"},\"text_color\":{\"type\":\"value\",\"value\":\"#f69320\"},\"text_alpha\":{\"type\":\"value\",\"value\":0.1},\"text_font_size\":{\"type\":\"value\",\"value\":\"8pt\"},\"text_font_style\":{\"type\":\"value\",\"value\":\"bold\"},\"text_align\":{\"type\":\"value\",\"value\":\"center\"},\"text_baseline\":{\"type\":\"value\",\"value\":\"middle\"}}},\"muted_glyph\":{\"type\":\"object\",\"name\":\"Text\",\"id\":\"8706c4c8-e68f-402b-b6b4-930774d90ce2\",\"attributes\":{\"tags\":[\"apply_ranges\"],\"x\":{\"type\":\"field\",\"field\":\"x\"},\"y\":{\"type\":\"field\",\"field\":\"y\"},\"text\":{\"type\":\"field\",\"field\":\"text\"},\"text_color\":{\"type\":\"value\",\"value\":\"#f69320\"},\"text_alpha\":{\"type\":\"value\",\"value\":0.2},\"text_font_size\":{\"type\":\"value\",\"value\":\"8pt\"},\"text_font_style\":{\"type\":\"value\",\"value\":\"bold\"},\"text_align\":{\"type\":\"value\",\"value\":\"center\"},\"text_baseline\":{\"type\":\"value\",\"value\":\"middle\"}}}}},{\"type\":\"object\",\"name\":\"Span\",\"id\":\"7d2514e6-8c38-478b-8a64-75e98693088b\",\"attributes\":{\"level\":\"glyph\",\"location\":2039.0,\"dimension\":\"height\",\"line_color\":\"#f69320\"}},{\"type\":\"object\",\"name\":\"Span\",\"id\":\"a3c8ac85-ad83-40bd-88af-9a69e82abb95\",\"attributes\":{\"level\":\"glyph\",\"location\":2081.0,\"dimension\":\"height\",\"line_color\":\"#f69320\"}},{\"type\":\"object\",\"name\":\"GlyphRenderer\",\"id\":\"21ad46f9-8906-45c1-acea-02d336e5a1aa\",\"attributes\":{\"data_source\":{\"type\":\"object\",\"name\":\"ColumnDataSource\",\"id\":\"4db0b207-f5e7-4e99-ab75-60ec067050d6\",\"attributes\":{\"selected\":{\"type\":\"object\",\"name\":\"Selection\",\"id\":\"851310ee-e905-4dfc-b46d-ce0f32010a12\",\"attributes\":{\"indices\":[],\"line_indices\":[]}},\"selection_policy\":{\"type\":\"object\",\"name\":\"UnionRenderers\",\"id\":\"e031c4f9-0551-4064-9164-2b565283b9af\"},\"data\":{\"type\":\"map\",\"entries\":[[\"x\",{\"type\":\"ndarray\",\"array\":{\"type\":\"bytes\",\"data\":\"AAAAAADcn0AAAAAAAEKgQA==\"},\"shape\":[2],\"dtype\":\"float64\",\"order\":\"little\"}],[\"y\",{\"type\":\"ndarray\",\"array\":{\"type\":\"bytes\",\"data\":\"AAAAAAAA4L8AAAAAAADgvw==\"},\"shape\":[2],\"dtype\":\"float64\",\"order\":\"little\"}]]}}},\"view\":{\"type\":\"object\",\"name\":\"CDSView\",\"id\":\"d309c7d7-25d5-4c44-b64b-a7cfecd276fb\",\"attributes\":{\"filter\":{\"type\":\"object\",\"name\":\"AllIndices\",\"id\":\"6ba7026f-990e-4a83-939d-e480166c4a01\"}}},\"glyph\":{\"type\":\"object\",\"name\":\"Line\",\"id\":\"e029e52c-59b7-4951-8f18-6df2f69877a0\",\"attributes\":{\"tags\":[\"apply_ranges\"],\"x\":{\"type\":\"field\",\"field\":\"x\"},\"y\":{\"type\":\"field\",\"field\":\"y\"},\"line_color\":\"#f69320\"}},\"selection_glyph\":{\"type\":\"object\",\"name\":\"Line\",\"id\":\"005c053d-c63d-4523-9c6d-ff126205381a\",\"attributes\":{\"tags\":[\"apply_ranges\"],\"x\":{\"type\":\"field\",\"field\":\"x\"},\"y\":{\"type\":\"field\",\"field\":\"y\"},\"line_color\":\"#f69320\"}},\"nonselection_glyph\":{\"type\":\"object\",\"name\":\"Line\",\"id\":\"d0b8c2e1-1986-40f1-a1a4-dcf19382d2f2\",\"attributes\":{\"tags\":[\"apply_ranges\"],\"x\":{\"type\":\"field\",\"field\":\"x\"},\"y\":{\"type\":\"field\",\"field\":\"y\"},\"line_color\":\"#f69320\",\"line_alpha\":0.1}},\"muted_glyph\":{\"type\":\"object\",\"name\":\"Line\",\"id\":\"dfae40c0-7cc6-4336-aa60-f29bce3b5a68\",\"attributes\":{\"tags\":[\"apply_ranges\"],\"x\":{\"type\":\"field\",\"field\":\"x\"},\"y\":{\"type\":\"field\",\"field\":\"y\"},\"line_color\":\"#f69320\",\"line_alpha\":0.2}}}},{\"type\":\"object\",\"name\":\"GlyphRenderer\",\"id\":\"dbedb551-1acb-4061-ab14-577a257c43ff\",\"attributes\":{\"data_source\":{\"type\":\"object\",\"name\":\"ColumnDataSource\",\"id\":\"e2ef8fe9-04cb-4b4c-b1c3-efb41416405c\",\"attributes\":{\"selected\":{\"type\":\"object\",\"name\":\"Selection\",\"id\":\"ed6fb55a-8b9e-46ac-aca5-cb179107b88a\",\"attributes\":{\"indices\":[],\"line_indices\":[]}},\"selection_policy\":{\"type\":\"object\",\"name\":\"UnionRenderers\",\"id\":\"61f79b8e-4eab-48f7-9d16-5662ed9922a8\"},\"data\":{\"type\":\"map\",\"entries\":[[\"x\",[2060.0]],[\"y\",[-0.25]],[\"text\",[\"42yrs\"]]]}}},\"view\":{\"type\":\"object\",\"name\":\"CDSView\",\"id\":\"d1ebf2fa-6a07-4d03-9d35-a44babbd2df5\",\"attributes\":{\"filter\":{\"type\":\"object\",\"name\":\"AllIndices\",\"id\":\"c694e054-ce13-4596-9f79-e3f80f409d34\"}}},\"glyph\":{\"type\":\"object\",\"name\":\"Text\",\"id\":\"d58150ea-2184-4220-99b6-e2127831213f\",\"attributes\":{\"tags\":[\"apply_ranges\"],\"x\":{\"type\":\"field\",\"field\":\"x\"},\"y\":{\"type\":\"field\",\"field\":\"y\"},\"text\":{\"type\":\"field\",\"field\":\"text\"},\"text_color\":{\"type\":\"value\",\"value\":\"#f69320\"},\"text_font_size\":{\"type\":\"value\",\"value\":\"8pt\"},\"text_align\":{\"type\":\"value\",\"value\":\"center\"},\"text_baseline\":{\"type\":\"value\",\"value\":\"middle\"}}},\"selection_glyph\":{\"type\":\"object\",\"name\":\"Text\",\"id\":\"574705b5-89fc-46a8-9298-7cc770ab3bce\",\"attributes\":{\"tags\":[\"apply_ranges\"],\"x\":{\"type\":\"field\",\"field\":\"x\"},\"y\":{\"type\":\"field\",\"field\":\"y\"},\"text\":{\"type\":\"field\",\"field\":\"text\"},\"angle\":{\"type\":\"value\",\"value\":0.0},\"x_offset\":{\"type\":\"value\",\"value\":0},\"y_offset\":{\"type\":\"value\",\"value\":0},\"outline_shape\":{\"type\":\"value\",\"value\":\"box\"},\"text_color\":{\"type\":\"value\",\"value\":\"#f69320\"},\"text_outline_color\":{\"type\":\"value\",\"value\":null},\"text_alpha\":{\"type\":\"value\",\"value\":1.0},\"text_font_size\":{\"type\":\"value\",\"value\":\"8pt\"},\"text_font_style\":{\"type\":\"value\",\"value\":\"normal\"},\"text_align\":{\"type\":\"value\",\"value\":\"center\"},\"text_baseline\":{\"type\":\"value\",\"value\":\"middle\"},\"text_line_height\":{\"type\":\"value\",\"value\":1.2},\"background_fill_color\":{\"type\":\"value\",\"value\":null},\"background_fill_alpha\":{\"type\":\"value\",\"value\":1.0},\"background_hatch_color\":{\"type\":\"value\",\"value\":null},\"background_hatch_alpha\":{\"type\":\"value\",\"value\":1.0},\"background_hatch_scale\":{\"type\":\"value\",\"value\":12.0},\"background_hatch_pattern\":{\"type\":\"value\",\"value\":null},\"background_hatch_weight\":{\"type\":\"value\",\"value\":1.0},\"border_line_color\":{\"type\":\"value\",\"value\":null},\"border_line_alpha\":{\"type\":\"value\",\"value\":1.0},\"border_line_width\":{\"type\":\"value\",\"value\":1},\"border_line_join\":{\"type\":\"value\",\"value\":\"bevel\"},\"border_line_cap\":{\"type\":\"value\",\"value\":\"butt\"},\"border_line_dash\":{\"type\":\"value\",\"value\":[]},\"border_line_dash_offset\":{\"type\":\"value\",\"value\":0}}},\"nonselection_glyph\":{\"type\":\"object\",\"name\":\"Text\",\"id\":\"d96057cd-4315-4d2f-b447-f072096b641a\",\"attributes\":{\"tags\":[\"apply_ranges\"],\"x\":{\"type\":\"field\",\"field\":\"x\"},\"y\":{\"type\":\"field\",\"field\":\"y\"},\"text\":{\"type\":\"field\",\"field\":\"text\"},\"text_color\":{\"type\":\"value\",\"value\":\"#f69320\"},\"text_alpha\":{\"type\":\"value\",\"value\":0.1},\"text_font_size\":{\"type\":\"value\",\"value\":\"8pt\"},\"text_align\":{\"type\":\"value\",\"value\":\"center\"},\"text_baseline\":{\"type\":\"value\",\"value\":\"middle\"}}},\"muted_glyph\":{\"type\":\"object\",\"name\":\"Text\",\"id\":\"87e2c1e5-53f4-44b5-9f0d-24e21f24a1d8\",\"attributes\":{\"tags\":[\"apply_ranges\"],\"x\":{\"type\":\"field\",\"field\":\"x\"},\"y\":{\"type\":\"field\",\"field\":\"y\"},\"text\":{\"type\":\"field\",\"field\":\"text\"},\"text_color\":{\"type\":\"value\",\"value\":\"#f69320\"},\"text_alpha\":{\"type\":\"value\",\"value\":0.2},\"text_font_size\":{\"type\":\"value\",\"value\":\"8pt\"},\"text_align\":{\"type\":\"value\",\"value\":\"center\"},\"text_baseline\":{\"type\":\"value\",\"value\":\"middle\"}}}}},{\"type\":\"object\",\"name\":\"Span\",\"id\":\"6014c639-53ca-46f4-8564-ab87d08fb903\",\"attributes\":{\"level\":\"glyph\",\"location\":2.0}},{\"type\":\"object\",\"name\":\"GlyphRenderer\",\"id\":\"65276158-bae5-4a92-ac6b-077c3e0e7db8\",\"attributes\":{\"data_source\":{\"type\":\"object\",\"name\":\"ColumnDataSource\",\"id\":\"2106ee09-7192-404e-ae49-958d3eec4ef4\",\"attributes\":{\"selected\":{\"type\":\"object\",\"name\":\"Selection\",\"id\":\"4a406222-bc12-4f5b-8269-88cac04f6306\",\"attributes\":{\"indices\":[],\"line_indices\":[]}},\"selection_policy\":{\"type\":\"object\",\"name\":\"UnionRenderers\",\"id\":\"0b6c0ad5-2867-4d0a-b84d-86c488db3868\"},\"data\":{\"type\":\"map\",\"entries\":[[\"x\",[1968]],[\"y\",[2.25]],[\"text\",[\"2.0\\u00b0C warming level\"]]]}}},\"view\":{\"type\":\"object\",\"name\":\"CDSView\",\"id\":\"256da60c-b522-48a1-8237-ac316b318dd2\",\"attributes\":{\"filter\":{\"type\":\"object\",\"name\":\"AllIndices\",\"id\":\"407f1b82-038e-4309-8d53-88dec6bb343c\"}}},\"glyph\":{\"type\":\"object\",\"name\":\"Text\",\"id\":\"136a2362-2411-40c2-93e7-3bd42955029e\",\"attributes\":{\"tags\":[\"apply_ranges\"],\"x\":{\"type\":\"field\",\"field\":\"x\"},\"y\":{\"type\":\"field\",\"field\":\"y\"},\"text\":{\"type\":\"field\",\"field\":\"text\"},\"text_color\":{\"type\":\"value\",\"value\":\"black\"},\"text_font_size\":{\"type\":\"value\",\"value\":\"8pt\"},\"text_align\":{\"type\":\"value\",\"value\":\"center\"},\"text_baseline\":{\"type\":\"value\",\"value\":\"middle\"}}},\"selection_glyph\":{\"type\":\"object\",\"name\":\"Text\",\"id\":\"6a627fb1-db50-474c-b13a-a2869ebb02ac\",\"attributes\":{\"tags\":[\"apply_ranges\"],\"x\":{\"type\":\"field\",\"field\":\"x\"},\"y\":{\"type\":\"field\",\"field\":\"y\"},\"text\":{\"type\":\"field\",\"field\":\"text\"},\"angle\":{\"type\":\"value\",\"value\":0.0},\"x_offset\":{\"type\":\"value\",\"value\":0},\"y_offset\":{\"type\":\"value\",\"value\":0},\"outline_shape\":{\"type\":\"value\",\"value\":\"box\"},\"text_color\":{\"type\":\"value\",\"value\":\"black\"},\"text_outline_color\":{\"type\":\"value\",\"value\":null},\"text_alpha\":{\"type\":\"value\",\"value\":1.0},\"text_font_size\":{\"type\":\"value\",\"value\":\"8pt\"},\"text_font_style\":{\"type\":\"value\",\"value\":\"normal\"},\"text_align\":{\"type\":\"value\",\"value\":\"center\"},\"text_baseline\":{\"type\":\"value\",\"value\":\"middle\"},\"text_line_height\":{\"type\":\"value\",\"value\":1.2},\"background_fill_color\":{\"type\":\"value\",\"value\":null},\"background_fill_alpha\":{\"type\":\"value\",\"value\":1.0},\"background_hatch_color\":{\"type\":\"value\",\"value\":null},\"background_hatch_alpha\":{\"type\":\"value\",\"value\":1.0},\"background_hatch_scale\":{\"type\":\"value\",\"value\":12.0},\"background_hatch_pattern\":{\"type\":\"value\",\"value\":null},\"background_hatch_weight\":{\"type\":\"value\",\"value\":1.0},\"border_line_color\":{\"type\":\"value\",\"value\":null},\"border_line_alpha\":{\"type\":\"value\",\"value\":1.0},\"border_line_width\":{\"type\":\"value\",\"value\":1},\"border_line_join\":{\"type\":\"value\",\"value\":\"bevel\"},\"border_line_cap\":{\"type\":\"value\",\"value\":\"butt\"},\"border_line_dash\":{\"type\":\"value\",\"value\":[]},\"border_line_dash_offset\":{\"type\":\"value\",\"value\":0}}},\"nonselection_glyph\":{\"type\":\"object\",\"name\":\"Text\",\"id\":\"60f61906-c6ce-430d-b245-314ac8e2ca36\",\"attributes\":{\"tags\":[\"apply_ranges\"],\"x\":{\"type\":\"field\",\"field\":\"x\"},\"y\":{\"type\":\"field\",\"field\":\"y\"},\"text\":{\"type\":\"field\",\"field\":\"text\"},\"text_color\":{\"type\":\"value\",\"value\":\"black\"},\"text_alpha\":{\"type\":\"value\",\"value\":0.1},\"text_font_size\":{\"type\":\"value\",\"value\":\"8pt\"},\"text_align\":{\"type\":\"value\",\"value\":\"center\"},\"text_baseline\":{\"type\":\"value\",\"value\":\"middle\"}}},\"muted_glyph\":{\"type\":\"object\",\"name\":\"Text\",\"id\":\"7e77b4a2-e73a-4e57-ab17-052ab54307e4\",\"attributes\":{\"tags\":[\"apply_ranges\"],\"x\":{\"type\":\"field\",\"field\":\"x\"},\"y\":{\"type\":\"field\",\"field\":\"y\"},\"text\":{\"type\":\"field\",\"field\":\"text\"},\"text_color\":{\"type\":\"value\",\"value\":\"black\"},\"text_alpha\":{\"type\":\"value\",\"value\":0.2},\"text_font_size\":{\"type\":\"value\",\"value\":\"8pt\"},\"text_align\":{\"type\":\"value\",\"value\":\"center\"},\"text_baseline\":{\"type\":\"value\",\"value\":\"middle\"}}}}}],\"toolbar\":{\"type\":\"object\",\"name\":\"Toolbar\",\"id\":\"d6c429f5-4cb2-4e62-abb1-235e4203a53e\",\"attributes\":{\"tools\":[{\"type\":\"object\",\"name\":\"WheelZoomTool\",\"id\":\"1e155d77-64fa-4fa8-93fb-24db2f417bad\",\"attributes\":{\"tags\":[\"hv_created\"],\"renderers\":\"auto\",\"zoom_together\":\"none\"}},{\"type\":\"object\",\"name\":\"HoverTool\",\"id\":\"3e7daf84-fdd3-46b3-8eeb-8e67a09bb096\",\"attributes\":{\"tags\":[\"hv_created\"],\"renderers\":[{\"id\":\"cab4d9dd-6a4c-4a11-b431-a4c27daab6d3\"},{\"id\":\"da275a6f-93c3-416a-9791-eac506607258\"}],\"tooltips\":[[\"Year\",\"@{Year}\"],[\"Mean\",\"@{Mean}\"]]}},{\"type\":\"object\",\"name\":\"HoverTool\",\"id\":\"9cadbbb7-7963-4fc5-9227-5093f8839065\",\"attributes\":{\"tags\":[\"hv_created\"],\"renderers\":[{\"id\":\"951df7d7-6293-4a00-94e5-9d9f194a51a2\"},{\"id\":\"400fe72c-fa68-46f2-8e12-88655016793c\"}],\"tooltips\":[[\"Year\",\"@{Year}\"],[\"5%\",\"@{A_5_percent}\"],[\"95%\",\"@{A_95_percent}\"]]}},{\"type\":\"object\",\"name\":\"SaveTool\",\"id\":\"2c7821f5-b479-4af4-8cad-31603dbb2c3d\"},{\"type\":\"object\",\"name\":\"PanTool\",\"id\":\"2fc470ee-bf9e-42b4-a195-d56d35367fa5\"},{\"type\":\"object\",\"name\":\"BoxZoomTool\",\"id\":\"4b3a5096-bb50-45fa-82b0-3fc673d19e9e\",\"attributes\":{\"overlay\":{\"type\":\"object\",\"name\":\"BoxAnnotation\",\"id\":\"5d963e8a-d6c9-4789-af12-1bb2a1d0b467\",\"attributes\":{\"syncable\":false,\"line_color\":\"black\",\"line_alpha\":1.0,\"line_width\":2,\"line_dash\":[4,4],\"fill_color\":\"lightgrey\",\"fill_alpha\":0.5,\"level\":\"overlay\",\"visible\":false,\"left\":{\"type\":\"number\",\"value\":\"nan\"},\"right\":{\"type\":\"number\",\"value\":\"nan\"},\"top\":{\"type\":\"number\",\"value\":\"nan\"},\"bottom\":{\"type\":\"number\",\"value\":\"nan\"},\"left_units\":\"canvas\",\"right_units\":\"canvas\",\"top_units\":\"canvas\",\"bottom_units\":\"canvas\",\"handles\":{\"type\":\"object\",\"name\":\"BoxInteractionHandles\",\"id\":\"d1589a52-9b9c-4098-95f1-08f667644e59\",\"attributes\":{\"all\":{\"type\":\"object\",\"name\":\"AreaVisuals\",\"id\":\"b50bd710-5ccd-4635-8cfc-6dc6f6f1cdf9\",\"attributes\":{\"fill_color\":\"white\",\"hover_fill_color\":\"lightgray\"}}}}}}}},{\"type\":\"object\",\"name\":\"ResetTool\",\"id\":\"7b8d8806-1ff0-4c1a-900f-ea06e7b1b316\"}],\"active_drag\":{\"id\":\"2fc470ee-bf9e-42b4-a195-d56d35367fa5\"}}},\"left\":[{\"type\":\"object\",\"name\":\"LinearAxis\",\"id\":\"1996df83-eb0f-4296-8604-f61c1d0c4c19\",\"attributes\":{\"ticker\":{\"type\":\"object\",\"name\":\"BasicTicker\",\"id\":\"0d8dd724-e1a9-4a1f-b2cc-b17f2b718a9f\",\"attributes\":{\"mantissas\":[1,2,5]}},\"formatter\":{\"type\":\"object\",\"name\":\"BasicTickFormatter\",\"id\":\"b4f2c57b-cac7-4753-87e3-45587fe20855\"},\"axis_label\":\"\\u00b0C\",\"major_label_policy\":{\"type\":\"object\",\"name\":\"AllLabels\",\"id\":\"6e4999af-b815-4e99-9ca4-90396fedc8a6\"}}}],\"below\":[{\"type\":\"object\",\"name\":\"LinearAxis\",\"id\":\"06e24ac0-78d3-4650-8515-fcaddad1d8f5\",\"attributes\":{\"ticker\":{\"type\":\"object\",\"name\":\"BasicTicker\",\"id\":\"0159d62b-e5d0-41b3-b12a-74a98137277d\",\"attributes\":{\"mantissas\":[1,2,5]}},\"formatter\":{\"type\":\"object\",\"name\":\"BasicTickFormatter\",\"id\":\"e154fe32-b7cb-4c23-90b9-2ae022d250a2\"},\"axis_label\":\"\",\"major_label_policy\":{\"type\":\"object\",\"name\":\"AllLabels\",\"id\":\"030c619a-4c53-47a5-b145-be12b4b43067\"}}},{\"type\":\"object\",\"name\":\"Legend\",\"id\":\"278218ec-4969-488d-9948-619d7f73799d\",\"attributes\":{\"location\":[0,0],\"orientation\":\"horizontal\",\"click_policy\":\"mute\",\"items\":[{\"type\":\"object\",\"name\":\"LegendItem\",\"id\":\"dc488fff-bccd-4c66-a057-8871fae96225\",\"attributes\":{\"label\":{\"type\":\"value\",\"value\":\"Historical\"},\"renderers\":[{\"id\":\"cab4d9dd-6a4c-4a11-b431-a4c27daab6d3\"}]}},{\"type\":\"object\",\"name\":\"LegendItem\",\"id\":\"9c8316d4-d8c2-4e18-a468-04e8708e7710\",\"attributes\":{\"label\":{\"type\":\"value\",\"value\":\"90% interval\"},\"renderers\":[{\"id\":\"400fe72c-fa68-46f2-8e12-88655016793c\"}]}},{\"type\":\"object\",\"name\":\"LegendItem\",\"id\":\"14db5b36-bfcb-4825-a169-bb650a75942f\",\"attributes\":{\"label\":{\"type\":\"value\",\"value\":\"SSP2-4.5\"},\"renderers\":[{\"id\":\"da275a6f-93c3-416a-9791-eac506607258\"}]}}]}}],\"center\":[{\"type\":\"object\",\"name\":\"Grid\",\"id\":\"18e9146a-ae40-4c55-b91c-ae1230fd6b04\",\"attributes\":{\"axis\":{\"id\":\"06e24ac0-78d3-4650-8515-fcaddad1d8f5\"},\"grid_line_color\":null}},{\"type\":\"object\",\"name\":\"Grid\",\"id\":\"5b8ad188-4992-40db-8d9c-cf8386cb9751\",\"attributes\":{\"dimension\":1,\"axis\":{\"id\":\"1996df83-eb0f-4296-8604-f61c1d0c4c19\"},\"grid_line_color\":null}}],\"min_border_top\":10,\"min_border_bottom\":10,\"min_border_left\":10,\"min_border_right\":10,\"output_backend\":\"webgl\"}},{\"type\":\"object\",\"name\":\"Spacer\",\"id\":\"95114781-050f-47b1-a852-1fe3fd8bab7e\",\"attributes\":{\"name\":\"HSpacer02922\",\"stylesheets\":[\"\\n:host(.pn-loading):before, .pn-loading:before {\\n  background-color: #c3c3c3;\\n  mask-size: auto calc(min(50%, 400px));\\n  -webkit-mask-size: auto calc(min(50%, 400px));\\n}\",{\"id\":\"2c25abd5-cf0c-463a-84a1-f665cc023304\"},{\"id\":\"c885fe0d-0040-473c-84f0-f123f18a5b24\"},{\"id\":\"df8d9f88-571c-41b3-b59d-45a029ed6524\"}],\"margin\":0,\"sizing_mode\":\"stretch_width\",\"align\":\"start\"}}]}}],\"defs\":[{\"type\":\"model\",\"name\":\"ReactiveHTML1\"},{\"type\":\"model\",\"name\":\"FlexBox1\",\"properties\":[{\"name\":\"align_content\",\"kind\":\"Any\",\"default\":\"flex-start\"},{\"name\":\"align_items\",\"kind\":\"Any\",\"default\":\"flex-start\"},{\"name\":\"flex_direction\",\"kind\":\"Any\",\"default\":\"row\"},{\"name\":\"flex_wrap\",\"kind\":\"Any\",\"default\":\"wrap\"},{\"name\":\"gap\",\"kind\":\"Any\",\"default\":\"\"},{\"name\":\"justify_content\",\"kind\":\"Any\",\"default\":\"flex-start\"}]},{\"type\":\"model\",\"name\":\"FloatPanel1\",\"properties\":[{\"name\":\"config\",\"kind\":\"Any\",\"default\":{\"type\":\"map\"}},{\"name\":\"contained\",\"kind\":\"Any\",\"default\":true},{\"name\":\"position\",\"kind\":\"Any\",\"default\":\"right-top\"},{\"name\":\"offsetx\",\"kind\":\"Any\",\"default\":null},{\"name\":\"offsety\",\"kind\":\"Any\",\"default\":null},{\"name\":\"theme\",\"kind\":\"Any\",\"default\":\"primary\"},{\"name\":\"status\",\"kind\":\"Any\",\"default\":\"normalized\"}]},{\"type\":\"model\",\"name\":\"GridStack1\",\"properties\":[{\"name\":\"mode\",\"kind\":\"Any\",\"default\":\"warn\"},{\"name\":\"ncols\",\"kind\":\"Any\",\"default\":null},{\"name\":\"nrows\",\"kind\":\"Any\",\"default\":null},{\"name\":\"allow_resize\",\"kind\":\"Any\",\"default\":true},{\"name\":\"allow_drag\",\"kind\":\"Any\",\"default\":true},{\"name\":\"state\",\"kind\":\"Any\",\"default\":[]}]},{\"type\":\"model\",\"name\":\"drag1\",\"properties\":[{\"name\":\"slider_width\",\"kind\":\"Any\",\"default\":5},{\"name\":\"slider_color\",\"kind\":\"Any\",\"default\":\"black\"},{\"name\":\"value\",\"kind\":\"Any\",\"default\":50}]},{\"type\":\"model\",\"name\":\"click1\",\"properties\":[{\"name\":\"terminal_output\",\"kind\":\"Any\",\"default\":\"\"},{\"name\":\"debug_name\",\"kind\":\"Any\",\"default\":\"\"},{\"name\":\"clears\",\"kind\":\"Any\",\"default\":0}]},{\"type\":\"model\",\"name\":\"FastWrapper1\",\"properties\":[{\"name\":\"object\",\"kind\":\"Any\",\"default\":null},{\"name\":\"style\",\"kind\":\"Any\",\"default\":null}]},{\"type\":\"model\",\"name\":\"NotificationAreaBase1\",\"properties\":[{\"name\":\"js_events\",\"kind\":\"Any\",\"default\":{\"type\":\"map\"}},{\"name\":\"position\",\"kind\":\"Any\",\"default\":\"bottom-right\"},{\"name\":\"_clear\",\"kind\":\"Any\",\"default\":0}]},{\"type\":\"model\",\"name\":\"NotificationArea1\",\"properties\":[{\"name\":\"js_events\",\"kind\":\"Any\",\"default\":{\"type\":\"map\"}},{\"name\":\"notifications\",\"kind\":\"Any\",\"default\":[]},{\"name\":\"position\",\"kind\":\"Any\",\"default\":\"bottom-right\"},{\"name\":\"_clear\",\"kind\":\"Any\",\"default\":0},{\"name\":\"types\",\"kind\":\"Any\",\"default\":[{\"type\":\"map\",\"entries\":[[\"type\",\"warning\"],[\"background\",\"#ffc107\"],[\"icon\",{\"type\":\"map\",\"entries\":[[\"className\",\"fas fa-exclamation-triangle\"],[\"tagName\",\"i\"],[\"color\",\"white\"]]}]]},{\"type\":\"map\",\"entries\":[[\"type\",\"info\"],[\"background\",\"#007bff\"],[\"icon\",{\"type\":\"map\",\"entries\":[[\"className\",\"fas fa-info-circle\"],[\"tagName\",\"i\"],[\"color\",\"white\"]]}]]}]}]},{\"type\":\"model\",\"name\":\"Notification\",\"properties\":[{\"name\":\"background\",\"kind\":\"Any\",\"default\":null},{\"name\":\"duration\",\"kind\":\"Any\",\"default\":3000},{\"name\":\"icon\",\"kind\":\"Any\",\"default\":null},{\"name\":\"message\",\"kind\":\"Any\",\"default\":\"\"},{\"name\":\"notification_type\",\"kind\":\"Any\",\"default\":null},{\"name\":\"_rendered\",\"kind\":\"Any\",\"default\":false},{\"name\":\"_destroyed\",\"kind\":\"Any\",\"default\":false}]},{\"type\":\"model\",\"name\":\"TemplateActions1\",\"properties\":[{\"name\":\"open_modal\",\"kind\":\"Any\",\"default\":0},{\"name\":\"close_modal\",\"kind\":\"Any\",\"default\":0}]},{\"type\":\"model\",\"name\":\"BootstrapTemplateActions1\",\"properties\":[{\"name\":\"open_modal\",\"kind\":\"Any\",\"default\":0},{\"name\":\"close_modal\",\"kind\":\"Any\",\"default\":0}]},{\"type\":\"model\",\"name\":\"TemplateEditor1\",\"properties\":[{\"name\":\"layout\",\"kind\":\"Any\",\"default\":[]}]},{\"type\":\"model\",\"name\":\"MaterialTemplateActions1\",\"properties\":[{\"name\":\"open_modal\",\"kind\":\"Any\",\"default\":0},{\"name\":\"close_modal\",\"kind\":\"Any\",\"default\":0}]},{\"type\":\"model\",\"name\":\"ReactiveESM1\",\"properties\":[{\"name\":\"esm_constants\",\"kind\":\"Any\",\"default\":{\"type\":\"map\"}}]},{\"type\":\"model\",\"name\":\"JSComponent1\",\"properties\":[{\"name\":\"esm_constants\",\"kind\":\"Any\",\"default\":{\"type\":\"map\"}}]},{\"type\":\"model\",\"name\":\"ReactComponent1\",\"properties\":[{\"name\":\"esm_constants\",\"kind\":\"Any\",\"default\":{\"type\":\"map\"}}]},{\"type\":\"model\",\"name\":\"AnyWidgetComponent1\",\"properties\":[{\"name\":\"esm_constants\",\"kind\":\"Any\",\"default\":{\"type\":\"map\"}}]},{\"type\":\"model\",\"name\":\"request_value1\",\"properties\":[{\"name\":\"fill\",\"kind\":\"Any\",\"default\":\"none\"},{\"name\":\"_synced\",\"kind\":\"Any\",\"default\":null},{\"name\":\"_request_sync\",\"kind\":\"Any\",\"default\":0}]}]}};\n",
       "  var render_items = [{\"docid\":\"0ac93049-ebaf-40d5-ac43-f31cbc68f4b6\",\"roots\":{\"fd204c48-44ac-43a5-8f35-0e5a4ef389ec\":\"ae13882a-3d98-4bea-8f5d-4180bdc166d5\"},\"root_ids\":[\"fd204c48-44ac-43a5-8f35-0e5a4ef389ec\"]}];\n",
       "  var docs = Object.values(docs_json)\n",
       "  if (!docs) {\n",
       "    return\n",
       "  }\n",
       "  const py_version = docs[0].version.replace('rc', '-rc.').replace('.dev', '-dev.')\n",
       "  async function embed_document(root) {\n",
       "    var Bokeh = get_bokeh(root)\n",
       "    await Bokeh.embed.embed_items_notebook(docs_json, render_items);\n",
       "    for (const render_item of render_items) {\n",
       "      for (const root_id of render_item.root_ids) {\n",
       "\tconst id_el = document.getElementById(root_id)\n",
       "\tif (id_el.children.length && id_el.children[0].hasAttribute('data-root-id')) {\n",
       "\t  const root_el = id_el.children[0]\n",
       "\t  root_el.id = root_el.id + '-rendered'\n",
       "\t  for (const child of root_el.children) {\n",
       "            // Ensure JupyterLab does not capture keyboard shortcuts\n",
       "            // see: https://jupyterlab.readthedocs.io/en/4.1.x/extension/notebook.html#keyboard-interaction-model\n",
       "\t    child.setAttribute('data-lm-suppress-shortcuts', 'true')\n",
       "\t  }\n",
       "\t}\n",
       "      }\n",
       "    }\n",
       "  }\n",
       "  function get_bokeh(root) {\n",
       "    if (root.Bokeh === undefined) {\n",
       "      return null\n",
       "    } else if (root.Bokeh.version !== py_version) {\n",
       "      if (root.Bokeh.versions === undefined || !root.Bokeh.versions.has(py_version)) {\n",
       "\treturn null\n",
       "      }\n",
       "      return root.Bokeh.versions.get(py_version);\n",
       "    } else if (root.Bokeh.version === py_version) {\n",
       "      return root.Bokeh\n",
       "    }\n",
       "    return null\n",
       "  }\n",
       "  function is_loaded(root) {\n",
       "    var Bokeh = get_bokeh(root)\n",
       "    return (Bokeh != null && Bokeh.Panel !== undefined)\n",
       "  }\n",
       "  if (is_loaded(root)) {\n",
       "    embed_document(root);\n",
       "  } else {\n",
       "    var attempts = 0;\n",
       "    var timer = setInterval(function(root) {\n",
       "      if (is_loaded(root)) {\n",
       "        clearInterval(timer);\n",
       "        embed_document(root);\n",
       "      } else if (document.readyState == \"complete\") {\n",
       "        attempts++;\n",
       "        if (attempts > 200) {\n",
       "          clearInterval(timer);\n",
       "\t  var Bokeh = get_bokeh(root)\n",
       "\t  if (Bokeh == null || Bokeh.Panel == null) {\n",
       "            console.warn(\"Panel: ERROR: Unable to run Panel code because Bokeh or Panel library is missing\");\n",
       "\t  } else {\n",
       "\t    console.warn(\"Panel: WARNING: Attempting to render but not all required libraries could be resolved.\")\n",
       "\t    embed_document(root)\n",
       "\t  }\n",
       "        }\n",
       "      }\n",
       "    }, 25, root)\n",
       "  }\n",
       "})(window);</script>"
      ],
      "text/plain": [
       ":Overlay\n",
       "   .Curve.Historical                      :Curve   [Year]   (Mean)\n",
       "   .Area.I                                :Area   [Year]   (5%,95%)\n",
       "   .Area.A_90_percent_interval            :Area   [Year]   (5%,95%)\n",
       "   .Curve.SSP2_hyphen_minus_4_full_stop_5 :Curve   [Year]   (Mean)\n",
       "   .VLine.I                               :VLine   [x,y]\n",
       "   .Text.I                                :Text   [x,y]\n",
       "   .VLine.II                              :VLine   [x,y]\n",
       "   .VLine.III                             :VLine   [x,y]\n",
       "   .Curve.I                               :Curve   [x]   (y)\n",
       "   .Text.II                               :Text   [x,y]\n",
       "   .HLine.I                               :HLine   [x,y]\n",
       "   .Text.III                              :Text   [x,y]"
      ]
     },
     "execution_count": 42,
     "metadata": {
      "application/vnd.holoviews_exec.v0+json": {
       "id": "fd204c48-44ac-43a5-8f35-0e5a4ef389ec"
      }
     },
     "output_type": "execute_result"
    }
   ],
   "source": [
    "gwl_viz.plot_warming_trajectories(ssp='SSP 2-4.5', warming_level=2.0)"
   ]
  },
  {
   "cell_type": "markdown",
   "metadata": {},
   "source": [
    "Choosing a different scenario for the same warming level illustates how the best estimate for the **crossing year** and the **range of uncertainty** can change depending on the warming scenario."
   ]
  },
  {
   "cell_type": "code",
   "execution_count": 43,
   "metadata": {},
   "outputs": [
    {
     "data": {},
     "metadata": {},
     "output_type": "display_data"
    },
    {
     "data": {
      "application/vnd.holoviews_exec.v0+json": "",
      "text/html": [
       "<div id='406c8a8f-6131-4c06-ad76-778f0aba86ac'>\n",
       "  <div id=\"a5f25ef7-f747-4ff6-b004-cb01537ca0df\" data-root-id=\"406c8a8f-6131-4c06-ad76-778f0aba86ac\" style=\"display: contents;\"></div>\n",
       "</div>\n",
       "<script type=\"application/javascript\">(function(root) {\n",
       "  var docs_json = {\"2a71e04c-5ab6-4625-999c-dfa440f1adc8\":{\"version\":\"3.6.3\",\"title\":\"Bokeh Application\",\"roots\":[{\"type\":\"object\",\"name\":\"Row\",\"id\":\"406c8a8f-6131-4c06-ad76-778f0aba86ac\",\"attributes\":{\"name\":\"Row03149\",\"tags\":[\"embedded\"],\"stylesheets\":[\"\\n:host(.pn-loading):before, .pn-loading:before {\\n  background-color: #c3c3c3;\\n  mask-size: auto calc(min(50%, 400px));\\n  -webkit-mask-size: auto calc(min(50%, 400px));\\n}\",{\"type\":\"object\",\"name\":\"ImportedStyleSheet\",\"id\":\"946bcbc7-5849-456f-ab41-e76211b9c500\",\"attributes\":{\"url\":\"https://cdn.holoviz.org/panel/1.6.1/dist/css/loading.css\"}},{\"type\":\"object\",\"name\":\"ImportedStyleSheet\",\"id\":\"05b74897-1608-4986-8c92-1afa15e25a71\",\"attributes\":{\"url\":\"https://cdn.holoviz.org/panel/1.6.1/dist/css/listpanel.css\"}},{\"type\":\"object\",\"name\":\"ImportedStyleSheet\",\"id\":\"8bb30df9-327f-4e9b-aa89-e775141f7e7e\",\"attributes\":{\"url\":\"https://cdn.holoviz.org/panel/1.6.1/dist/bundled/theme/default.css\"}},{\"type\":\"object\",\"name\":\"ImportedStyleSheet\",\"id\":\"68adec08-5bee-4235-8ca3-83e9f32dbc74\",\"attributes\":{\"url\":\"https://cdn.holoviz.org/panel/1.6.1/dist/bundled/theme/native.css\"}}],\"min_width\":575,\"margin\":0,\"sizing_mode\":\"stretch_width\",\"align\":\"start\",\"children\":[{\"type\":\"object\",\"name\":\"Spacer\",\"id\":\"a9c32557-3522-4c14-8d7e-112c26c94391\",\"attributes\":{\"name\":\"HSpacer03153\",\"stylesheets\":[\"\\n:host(.pn-loading):before, .pn-loading:before {\\n  background-color: #c3c3c3;\\n  mask-size: auto calc(min(50%, 400px));\\n  -webkit-mask-size: auto calc(min(50%, 400px));\\n}\",{\"id\":\"946bcbc7-5849-456f-ab41-e76211b9c500\"},{\"id\":\"8bb30df9-327f-4e9b-aa89-e775141f7e7e\"},{\"id\":\"68adec08-5bee-4235-8ca3-83e9f32dbc74\"}],\"margin\":0,\"sizing_mode\":\"stretch_width\",\"align\":\"start\"}},{\"type\":\"object\",\"name\":\"Figure\",\"id\":\"dc4aaf01-b2cd-4f06-816a-f445c1dfaa5b\",\"attributes\":{\"width\":575,\"height\":300,\"margin\":[5,10],\"sizing_mode\":\"fixed\",\"align\":\"start\",\"x_range\":{\"type\":\"object\",\"name\":\"Range1d\",\"id\":\"d0f04fc3-d647-43c6-9e3a-7ac25687b3bf\",\"attributes\":{\"name\":\"Year\",\"tags\":[[[\"Year\",null]],[]],\"start\":1950,\"end\":2100,\"reset_start\":1950,\"reset_end\":2100}},\"y_range\":{\"type\":\"object\",\"name\":\"Range1d\",\"id\":\"dbdb6014-e95d-4011-b1fd-b14fa34ee51f\",\"attributes\":{\"name\":\"Mean\",\"tags\":[[[\"Mean\",null]],{\"type\":\"map\",\"entries\":[[\"invert_yaxis\",false],[\"autorange\",false]]}],\"start\":-1,\"end\":5,\"reset_start\":-1,\"reset_end\":5}},\"x_scale\":{\"type\":\"object\",\"name\":\"LinearScale\",\"id\":\"cc900aa8-b83c-48f2-a2df-06e711c7117c\"},\"y_scale\":{\"type\":\"object\",\"name\":\"LinearScale\",\"id\":\"ac5c1a57-442d-4525-a202-90c02ec354aa\"},\"title\":{\"type\":\"object\",\"name\":\"Title\",\"id\":\"a6269ff9-dfdb-4d4c-a807-0f7cb94438cd\",\"attributes\":{\"text\":\"Global mean surface temperature change relative to 1850-1900\",\"text_color\":\"black\",\"text_font_size\":\"12pt\"}},\"renderers\":[{\"type\":\"object\",\"name\":\"GlyphRenderer\",\"id\":\"5c56750c-31c0-4530-956c-b0a17b5b755e\",\"attributes\":{\"name\":\"Historical\",\"data_source\":{\"type\":\"object\",\"name\":\"ColumnDataSource\",\"id\":\"e03a33bc-b9dc-4b0a-8228-3f3a57862eaf\",\"attributes\":{\"selected\":{\"type\":\"object\",\"name\":\"Selection\",\"id\":\"83d81795-8f9b-46aa-986a-64688ffb9685\",\"attributes\":{\"indices\":[],\"line_indices\":[]}},\"selection_policy\":{\"type\":\"object\",\"name\":\"UnionRenderers\",\"id\":\"20afed46-2396-4575-8f67-e27576644f6a\"},\"data\":{\"type\":\"map\",\"entries\":[[\"Year\",{\"type\":\"ndarray\",\"array\":{\"type\":\"bytes\",\"data\":\"ngcAAJ8HAACgBwAAoQcAAKIHAACjBwAApAcAAKUHAACmBwAApwcAAKgHAACpBwAAqgcAAKsHAACsBwAArQcAAK4HAACvBwAAsAcAALEHAACyBwAAswcAALQHAAC1BwAAtgcAALcHAAC4BwAAuQcAALoHAAC7BwAAvAcAAL0HAAC+BwAAvwcAAMAHAADBBwAAwgcAAMMHAADEBwAAxQcAAMYHAADHBwAAyAcAAMkHAADKBwAAywcAAMwHAADNBwAAzgcAAM8HAADQBwAA0QcAANIHAADTBwAA1AcAANUHAADWBwAA1wcAANgHAADZBwAA2gcAANsHAADcBwAA3QcAAN4HAAA=\"},\"shape\":[65],\"dtype\":\"int32\",\"order\":\"little\"}],[\"Mean\",{\"type\":\"ndarray\",\"array\":{\"type\":\"bytes\",\"data\":\"U14robsk0D/3Hi457pTRP8V1jCsujtE/y9dl+E830D/Oxd/2BInPP8mutIzUe9E/v9NkxttK0T+BIatbPSfRP1hZ2xSPi9A/4etrXWqE0D+Tqu0m+KbRP83NN6J71tE/n3JMFvcfzz8N/n4xW7LCP8CR5cnaS7E/vmckQiPYtj9ck25L5ILBPwVpxqLp7MA/forjwKvlxD+TcYxkj1DJPxN+qZ83Fcs/Onr83qY/zT/mkT8YeO7JPyjS/ZyC/Mw/1ZEjnYGRzz/JdOj0vBvLP2e0VUlkH8w/ZXH/kenQ0T/ZXgt6bwzSP4Hrihnh7dM/7pQO1v851j//BBcrajDYP3nnUIaqmNU/A30iT5KuzT+HGK95VWfTP2MOgo5WtdY/eR7cnbXb2D/nw7MEGQHcP2/W4H1VLt4/WybD8XyG4D+dg2dCk8TiP7iVXpuNFeI/VwirsYS10j+bkUHuIkzWP586Vik909w/VHB4QURq3z8viEhNuxjiP2pMiLmkauQ/wm1t4Xmp5D/yfAbUm9HlP/Mf0m9fh+c/NQpJZvWO6T9gx3+BIEDqP1GiJY+nZes/5BOy8za26z+cwd8vZkvsP/ymsFJBxew/qMXgYdq37T87qMR1jCvuP13iyAORxe4/XwzlRLsK8D+i0R3EzpTwP7Pqc7UV+/A/z2vsEtVb8T9gqwSLw5nxPw==\"},\"shape\":[65],\"dtype\":\"float64\",\"order\":\"little\"}]]}}},\"view\":{\"type\":\"object\",\"name\":\"CDSView\",\"id\":\"96d5f17a-2998-4ad5-b9e8-721b03d812a3\",\"attributes\":{\"filter\":{\"type\":\"object\",\"name\":\"AllIndices\",\"id\":\"bbc91bbe-9493-4b02-8f5a-575f601833f2\"}}},\"glyph\":{\"type\":\"object\",\"name\":\"Line\",\"id\":\"8193fc65-10b4-44ac-ac38-250d2c086c47\",\"attributes\":{\"tags\":[\"apply_ranges\"],\"x\":{\"type\":\"field\",\"field\":\"Year\"},\"y\":{\"type\":\"field\",\"field\":\"Mean\"},\"line_color\":\"#000000\",\"line_width\":2}},\"selection_glyph\":{\"type\":\"object\",\"name\":\"Line\",\"id\":\"a7a63b42-6b92-419a-9365-96bdd23a5304\",\"attributes\":{\"tags\":[\"apply_ranges\"],\"x\":{\"type\":\"field\",\"field\":\"Year\"},\"y\":{\"type\":\"field\",\"field\":\"Mean\"},\"line_color\":\"#000000\",\"line_width\":2}},\"nonselection_glyph\":{\"type\":\"object\",\"name\":\"Line\",\"id\":\"a3e279fa-d4e0-4f3a-814a-7be4ece4577d\",\"attributes\":{\"tags\":[\"apply_ranges\"],\"x\":{\"type\":\"field\",\"field\":\"Year\"},\"y\":{\"type\":\"field\",\"field\":\"Mean\"},\"line_color\":\"#000000\",\"line_alpha\":0.1,\"line_width\":2}},\"muted_glyph\":{\"type\":\"object\",\"name\":\"Line\",\"id\":\"6516f342-2da0-4b1e-882f-a19acc4149e9\",\"attributes\":{\"tags\":[\"apply_ranges\"],\"x\":{\"type\":\"field\",\"field\":\"Year\"},\"y\":{\"type\":\"field\",\"field\":\"Mean\"},\"line_color\":\"#000000\",\"line_alpha\":0.2,\"line_width\":2}}}},{\"type\":\"object\",\"name\":\"GlyphRenderer\",\"id\":\"86d3626c-7131-4509-95c6-013e684d6750\",\"attributes\":{\"data_source\":{\"type\":\"object\",\"name\":\"ColumnDataSource\",\"id\":\"3e76ab50-5490-4e61-8b7c-23d7d78ff987\",\"attributes\":{\"selected\":{\"type\":\"object\",\"name\":\"Selection\",\"id\":\"1e8a61cc-479f-4b6b-9daa-276fb97d798d\",\"attributes\":{\"indices\":[],\"line_indices\":[]}},\"selection_policy\":{\"type\":\"object\",\"name\":\"UnionRenderers\",\"id\":\"ca23cd43-5cb3-413c-89a1-f4aac825b887\"},\"data\":{\"type\":\"map\",\"entries\":[[\"x\",{\"type\":\"ndarray\",\"array\":{\"type\":\"bytes\",\"data\":\"ngcAAJ8HAACgBwAAoQcAAKIHAACjBwAApAcAAKUHAACmBwAApwcAAKgHAACpBwAAqgcAAKsHAACsBwAArQcAAK4HAACvBwAAsAcAALEHAACyBwAAswcAALQHAAC1BwAAtgcAALcHAAC4BwAAuQcAALoHAAC7BwAAvAcAAL0HAAC+BwAAvwcAAMAHAADBBwAAwgcAAMMHAADEBwAAxQcAAMYHAADHBwAAyAcAAMkHAADKBwAAywcAAMwHAADNBwAAzgcAAM8HAADQBwAA0QcAANIHAADTBwAA1AcAANUHAADWBwAA1wcAANgHAADZBwAA2gcAANsHAADcBwAA3QcAAN4HAADeBwAA3QcAANwHAADbBwAA2gcAANkHAADYBwAA1wcAANYHAADVBwAA1AcAANMHAADSBwAA0QcAANAHAADPBwAAzgcAAM0HAADMBwAAywcAAMoHAADJBwAAyAcAAMcHAADGBwAAxQcAAMQHAADDBwAAwgcAAMEHAADABwAAvwcAAL4HAAC9BwAAvAcAALsHAAC6BwAAuQcAALgHAAC3BwAAtgcAALUHAAC0BwAAswcAALIHAACxBwAAsAcAAK8HAACuBwAArQcAAKwHAACrBwAAqgcAAKkHAACoBwAApwcAAKYHAAClBwAApAcAAKMHAACiBwAAoQcAAKAHAACfBwAAngcAAA==\"},\"shape\":[130],\"dtype\":\"int32\",\"order\":\"little\"}],[\"y\",{\"type\":\"ndarray\",\"array\":{\"type\":\"bytes\",\"data\":\"XJIDdjV54z8peAq5Us/gP68l5IOeTeE/VwbVBici4T9KfVnaqbnhP8udmWA4V+E/exaE8j4O4z850a5Cyk/iP0EpWrkXGOE/Bfhu88bJ4T8tlbcjnJbhP8zUJHhDGuM/F7mnqzsW3z+Ws3dGW5XcP2w/GePD7NY/2pB/ZhAf1T+H/gkuVtTaP/rVHCCYo9s/W9JRDmYT3j+PxMvTuaLbP7Xf2omSkN8/9pfdk4cF4T8fDhKifEHePwxZ3eo56dw/GY7nM6De3z87Hch6avXgPzntKTkn9t0/RUjdzr7y3z+QhegQOJLjP3Ww/s9hPuI/rU85Jov74z/tmpDWGPTiPyhGlsyxvOI/aM76lGMy4j/XaDnQQ23jP1UVGohls+Q/E9Iag04I5j95Vz1gHjLmP5xrmKHxROY/7MA5I0p75z/WbrvQXCfqP/fI5qp5Duo/wjI2dLO/4D9EiCtn7wzkP0p/L4UHzeU/xY1bzM8N6D/DSC9q9yvoPyaMZmX7EOs/7nn+tFGd6j8qyqXxC6/rPy/9S1KZ4us/IO9VKxP+7z9hxhSscbbvPxa/KaxU0O8/KQXdXtIY8T857pQO1v/wP+6x9KELavE/YOrnTUWq8T8tlbcjnBbyP9fAVgkWh/I/z0nvG1979D+6SQwCKwfzP5kNMsnI2fM/p3nHKTqS9D8fuqC+ZU71P36s4Lchxu0/tMu3Pqw37T8c6+I2GkDsP8B1xYzw9uo/z2kWaHfI6j92qnzPSITpP8/AyMuaWOk/xK9Yw0Vu5z8EAp1JmyrmP83Ji0zAL+Y/6EoEqn8Q5j9Wtg95y9XlP3ptNlZiHuM//7Pmx19a4z84ns+AejPhP0YMO4xJf9w/Z++MtiqJ3D8B++jUlc/bP+fj2lAxztY/XTKOkewR0j/DvMeZJmzFP0s/4ezWMsM/r3srEhPUsD+oxeBh2jfTP6fqHtlcNdo/jBL0F3rE0j8ZAKq4cYvDPw3EsplDUsU/3bJD/MOWwj8x+OqZFNWpP87ixcIQOcE/dUJDWr6JjL+wWYnUD0WyP5FhFW9kHr0/ipqeZjfpoD/knehfNxGavzTO8LCa+Jw/ar3faMcNlz9Y6Un0jUOQvzpCYatfRJ6/aFB+nHrujr+tc8I6RJKXv8x8Bz9xAMe/bJc2HJYGyL9VKYdgZum4v2nlXmBWKMK/0uRiDKzjzL9eDybFxyfQv/AZ5Il7h7S/aOkKthFPyL+9qN2vAnzJv/q0iv7QzMO/qinJOhxdvb8xpqoazkaYP/Q0YJD0abW/5c7xdikamL8loeNZOP+hv6BYAoRq3rS/1NNH4A8/v79k7yDRX0OnvxuADYgQV8C/Y1BcRMoFlb+F25A12fWlv9Bdt63Sgqy/XMmOjUC8rr8=\"},\"shape\":[130],\"dtype\":\"float64\",\"order\":\"little\"}]]}}},\"view\":{\"type\":\"object\",\"name\":\"CDSView\",\"id\":\"9e08dbbe-7d50-44c0-962e-ba380d892f55\",\"attributes\":{\"filter\":{\"type\":\"object\",\"name\":\"AllIndices\",\"id\":\"5d42dc90-ecc5-4538-8508-b8ff3963bfbf\"}}},\"glyph\":{\"type\":\"object\",\"name\":\"Patch\",\"id\":\"93063b48-d8c5-4981-9997-387ec75b0976\",\"attributes\":{\"tags\":[\"apply_ranges\"],\"x\":{\"type\":\"field\",\"field\":\"x\"},\"y\":{\"type\":\"field\",\"field\":\"y\"},\"line_alpha\":0.1,\"fill_color\":\"#000000\",\"fill_alpha\":0.1,\"hatch_color\":\"#000000\",\"hatch_alpha\":0.1}},\"selection_glyph\":{\"type\":\"object\",\"name\":\"Patch\",\"id\":\"3947bbad-e775-4698-93b1-ddf785aebecb\",\"attributes\":{\"tags\":[\"apply_ranges\"],\"x\":{\"type\":\"field\",\"field\":\"x\"},\"y\":{\"type\":\"field\",\"field\":\"y\"},\"line_alpha\":0.1,\"fill_color\":\"#000000\",\"fill_alpha\":0.1,\"hatch_color\":\"#000000\",\"hatch_alpha\":0.1}},\"nonselection_glyph\":{\"type\":\"object\",\"name\":\"Patch\",\"id\":\"e66c8e4e-a319-449e-babf-9f2cc827998c\",\"attributes\":{\"tags\":[\"apply_ranges\"],\"x\":{\"type\":\"field\",\"field\":\"x\"},\"y\":{\"type\":\"field\",\"field\":\"y\"},\"line_alpha\":0.1,\"fill_color\":\"#000000\",\"fill_alpha\":0.1,\"hatch_color\":\"#000000\",\"hatch_alpha\":0.1}},\"muted_glyph\":{\"type\":\"object\",\"name\":\"Patch\",\"id\":\"c259a310-bfde-4500-91b8-c59080188dd9\",\"attributes\":{\"tags\":[\"apply_ranges\"],\"x\":{\"type\":\"field\",\"field\":\"x\"},\"y\":{\"type\":\"field\",\"field\":\"y\"},\"line_alpha\":0.2,\"fill_color\":\"#000000\",\"fill_alpha\":0.2,\"hatch_color\":\"#000000\",\"hatch_alpha\":0.2}}}},{\"type\":\"object\",\"name\":\"GlyphRenderer\",\"id\":\"969f1d02-bd71-4afb-a0d6-24773e40bd84\",\"attributes\":{\"name\":\"90% interval\",\"data_source\":{\"type\":\"object\",\"name\":\"ColumnDataSource\",\"id\":\"f7914598-27f5-4ece-b61d-bd4d1e10f1bd\",\"attributes\":{\"selected\":{\"type\":\"object\",\"name\":\"Selection\",\"id\":\"b8e2ca4a-b1a9-45e6-81f2-65748d6bed00\",\"attributes\":{\"indices\":[],\"line_indices\":[]}},\"selection_policy\":{\"type\":\"object\",\"name\":\"UnionRenderers\",\"id\":\"b9279355-cc70-4f0d-b75a-d3990d859242\"},\"data\":{\"type\":\"map\",\"entries\":[[\"x\",{\"type\":\"ndarray\",\"array\":{\"type\":\"bytes\",\"data\":\"3wcAAOAHAADhBwAA4gcAAOMHAADkBwAA5QcAAOYHAADnBwAA6AcAAOkHAADqBwAA6wcAAOwHAADtBwAA7gcAAO8HAADwBwAA8QcAAPIHAADzBwAA9AcAAPUHAAD2BwAA9wcAAPgHAAD5BwAA+gcAAPsHAAD8BwAA/QcAAP4HAAD/BwAAAAgAAAEIAAACCAAAAwgAAAQIAAAFCAAABggAAAcIAAAICAAACQgAAAoIAAALCAAADAgAAA0IAAAOCAAADwgAABAIAAARCAAAEggAABMIAAAUCAAAFQgAABYIAAAXCAAAGAgAABkIAAAaCAAAGwgAABwIAAAdCAAAHggAAB8IAAAgCAAAIQgAACIIAAAjCAAAJAgAACUIAAAmCAAAJwgAACgIAAApCAAAKggAACsIAAAsCAAALQgAAC4IAAAvCAAAMAgAADEIAAAyCAAAMwgAADMIAAAyCAAAMQgAADAIAAAvCAAALggAAC0IAAAsCAAAKwgAACoIAAApCAAAKAgAACcIAAAmCAAAJQgAACQIAAAjCAAAIggAACEIAAAgCAAAHwgAAB4IAAAdCAAAHAgAABsIAAAaCAAAGQgAABgIAAAXCAAAFggAABUIAAAUCAAAEwgAABIIAAARCAAAEAgAAA8IAAAOCAAADQgAAAwIAAALCAAACggAAAkIAAAICAAABwgAAAYIAAAFCAAABAgAAAMIAAACCAAAAQgAAAAIAAD/BwAA/gcAAP0HAAD8BwAA+wcAAPoHAAD5BwAA+AcAAPcHAAD2BwAA9QcAAPQHAADzBwAA8gcAAPEHAADwBwAA7wcAAO4HAADtBwAA7AcAAOsHAADqBwAA6QcAAOgHAADnBwAA5gcAAOUHAADkBwAA4wcAAOIHAADhBwAA4AcAAN8HAAA=\"},\"shape\":[170],\"dtype\":\"int32\",\"order\":\"little\"}],[\"y\",{\"type\":\"ndarray\",\"array\":{\"type\":\"bytes\",\"data\":\"vZhtdLwk8z+93MfU1LfzPwc+HcfDRvQ/5QqZcljW9D+0bAuhE3L1P5YFhdT8D/Y/LnDXHRuh9j8xCqPVoDL3P4n1WpEXwPc/6kOJKaBX+D/bzv4NyNj4P+noKG+WXvk/wod6EO7V+T+/iEFWc1X6P5NLU2wb2vo/vxhf7nJV+z/D32kR1cz7P2nxaRttP/w/yoAeMDCv/D8iblPevCD9P1GlkY8Qf/0/nApln8/h/T+RG2mckkv+P/5gaatVrf4/15GIyGcM/z88+RXnf2T/P4r3LYTmvP8//EjStBIOAEA/29oq1zsAQEnhcqNlZABAlvkCC0SJAEDnWMIA4KkAQJLj7nY05wBAXZcFBlUGAUDU61idgyQBQJBtmvCrPwFABhmHTl1aAUBVqyt2ZnQBQPudI3tPjAFAcqM193GjAUDq+VbItbkBQH9mlFd8zQFAPVCfy3HeAUCQLlICRPABQHgvO+dOAAJAu9bt0tcOAkBk29QGSBwCQNiIwI6IKAJAOKDsAGQxAkAkk9dzZzwCQMNZ+JcwSAJAXcUNuOFRAkBzmKQ8N1gCQIOU+8TRXgJAgit9QTtmAkBRMfSmJ24CQGJpbvJMdQJAorB3viB7AkC6nHrzB4ICQHP4iL7ZhwJA1ymqDFCPAkDsuuVaHJQCQKO0IFxNlwJACXQ6UZGZAkAftleTZZwCQF8eFI/pmwJAbl129xyeAkBS1I8J1Z4CQF7q776NoQJAlTqgI/SiAkC4K/t7F6UCQNwr7p2jpgJArGMv8OmpAkDwS4tnwakCQOunfizkqAJASW+rZdqmAkCQJHPyQ6kCQMxoP639qAJATjrlXzioAkA3e5ikz6YCQFzC/yh6pAJAiUnyO9GiAkDikwdPDKACQKgYvO/lnAJAJainsM6YAkDZJUeNSx31P0SSFOliMfU/3gBU7apC9T+8GKLBqFf1PzcOC6HCavU/OfB0K6d89T/VprR1pZL1P3KZ2h8WpPU/II85/xG29T/IHfJznMP1P49SbHmj1vU/1cZ4lwLn9T/9I6Fnkvz1PxSlYVFBEPY/oxHgshIc9j9i+f3fNCT2Pw2aUYS4OPY/Wvq+IjlF9j+mZbjCOkz2P22/1WqqX/Y/BeGBNnZn9j9cv4T943T2PyW+2FBxgfY/CmUjCD6D9j9R1FVeS4D2P2vI0JUug/Y/Uzhpt+mB9j8aP/dfk4f2P60ad4/bi/Y/6wU8vCmN9j+5Nk/TOY/2P4eCTERVkvY/xTqck/OS9j83AZUQ/ZH2P1pKT77Ek/Y/uGC4WQ2Q9j/KH2I8sIf2P83sLcRugPY/mnO7Wph89j9m0BrN23L2P4dGwZ1VcPY/fLQ4Y5hr9j/NMHGIEWL2P+lH5DdcXvY/FPAuwfBc9j/cPvCg9VL2PwMZ/xNjTvY/i7Dj6sBE9j96gOzKbjP2PwQFWpEDLPY/ZLyXD8kn9j+PgtqB0Bj2P5b/W4wrDfY/ZUVEmVwA9j+ULs0SPOz1P8bclHaT1fU/O/Muu4C/9T9PK+WyWqv1P/j+MW0yjPU/fkcibi1v9T+3ytSj9031P9MAPnU1LPU/307yiKkL9T9WqED2Euz0P4B52nfLyfQ/peGoneCp9D/z3WkP1IH0PxbAsNYyVPQ/nLWp9PIn9D+lig3WMvPzPznZ0/ybufM/AhJhhG+A8z+IdKDQsEXzP1f/FWlKCfM/a7rlvUbP8j+yIU4T9ZPyP2nRenmzVvI/bgLjS24V8j/Ie6pKKNPxP0hubsgWlPE/t0kXKwJN8T80G6ivjgPxP3uNob93u/A/JA/h661x8D/proKeISrwPw==\"},\"shape\":[170],\"dtype\":\"float64\",\"order\":\"little\"}]]}}},\"view\":{\"type\":\"object\",\"name\":\"CDSView\",\"id\":\"2623de50-581d-4b57-a7d8-a5c0a9e75043\",\"attributes\":{\"filter\":{\"type\":\"object\",\"name\":\"AllIndices\",\"id\":\"81fded19-53e7-4c88-ae46-4a63b4e734ad\"}}},\"glyph\":{\"type\":\"object\",\"name\":\"Patch\",\"id\":\"5d798377-e1b1-48c7-8959-76729dbc1ed6\",\"attributes\":{\"tags\":[\"apply_ranges\"],\"x\":{\"type\":\"field\",\"field\":\"x\"},\"y\":{\"type\":\"field\",\"field\":\"y\"},\"line_alpha\":0.2,\"fill_color\":\"#003466\",\"fill_alpha\":0.2,\"hatch_color\":\"#003466\",\"hatch_alpha\":0.2}},\"selection_glyph\":{\"type\":\"object\",\"name\":\"Patch\",\"id\":\"728bb6bf-593c-44ac-94b1-487269c5acbe\",\"attributes\":{\"tags\":[\"apply_ranges\"],\"x\":{\"type\":\"field\",\"field\":\"x\"},\"y\":{\"type\":\"field\",\"field\":\"y\"},\"line_alpha\":0.2,\"fill_color\":\"#003466\",\"fill_alpha\":0.2,\"hatch_color\":\"#003466\",\"hatch_alpha\":0.2}},\"nonselection_glyph\":{\"type\":\"object\",\"name\":\"Patch\",\"id\":\"c9de5c55-d6ed-41f7-8a97-2a2e04f703a3\",\"attributes\":{\"tags\":[\"apply_ranges\"],\"x\":{\"type\":\"field\",\"field\":\"x\"},\"y\":{\"type\":\"field\",\"field\":\"y\"},\"line_alpha\":0.2,\"fill_color\":\"#003466\",\"fill_alpha\":0.2,\"hatch_color\":\"#003466\",\"hatch_alpha\":0.1}},\"muted_glyph\":{\"type\":\"object\",\"name\":\"Patch\",\"id\":\"6a4bcbaa-8243-4afb-a048-8eea25bcbce8\",\"attributes\":{\"tags\":[\"apply_ranges\"],\"x\":{\"type\":\"field\",\"field\":\"x\"},\"y\":{\"type\":\"field\",\"field\":\"y\"},\"line_alpha\":0.2,\"fill_color\":\"#003466\",\"fill_alpha\":0.2,\"hatch_color\":\"#003466\",\"hatch_alpha\":0.2}}}},{\"type\":\"object\",\"name\":\"GlyphRenderer\",\"id\":\"8e6a1393-9884-4386-861e-da1ae727e483\",\"attributes\":{\"name\":\"SSP1-2.6\",\"data_source\":{\"type\":\"object\",\"name\":\"ColumnDataSource\",\"id\":\"b17351d9-54eb-4174-bfae-146c9244e712\",\"attributes\":{\"selected\":{\"type\":\"object\",\"name\":\"Selection\",\"id\":\"29bf26a9-3e70-48c9-b200-e40ec29b4c12\",\"attributes\":{\"indices\":[],\"line_indices\":[]}},\"selection_policy\":{\"type\":\"object\",\"name\":\"UnionRenderers\",\"id\":\"4c35e279-bbc5-4bde-a3b6-96c46f9d88d6\"},\"data\":{\"type\":\"map\",\"entries\":[[\"Year\",{\"type\":\"ndarray\",\"array\":{\"type\":\"bytes\",\"data\":\"3wcAAOAHAADhBwAA4gcAAOMHAADkBwAA5QcAAOYHAADnBwAA6AcAAOkHAADqBwAA6wcAAOwHAADtBwAA7gcAAO8HAADwBwAA8QcAAPIHAADzBwAA9AcAAPUHAAD2BwAA9wcAAPgHAAD5BwAA+gcAAPsHAAD8BwAA/QcAAP4HAAD/BwAAAAgAAAEIAAACCAAAAwgAAAQIAAAFCAAABggAAAcIAAAICAAACQgAAAoIAAALCAAADAgAAA0IAAAOCAAADwgAABAIAAARCAAAEggAABMIAAAUCAAAFQgAABYIAAAXCAAAGAgAABkIAAAaCAAAGwgAABwIAAAdCAAAHggAAB8IAAAgCAAAIQgAACIIAAAjCAAAJAgAACUIAAAmCAAAJwgAACgIAAApCAAAKggAACsIAAAsCAAALQgAAC4IAAAvCAAAMAgAADEIAAAyCAAAMwgAAA==\"},\"shape\":[85],\"dtype\":\"int32\",\"order\":\"little\"}],[\"Mean\",{\"type\":\"ndarray\",\"array\":{\"type\":\"bytes\",\"data\":\"7CuJmISW8T8iUGVnvf/xP7zalnAEa/I/Ge7nCnLU8j/wv7uzezzzP1tOhgYJqfM/AmRf5+MQ9D+HqBPn4HX0P1+icvoX1PQ/OfQlOhw09T/XQ0AtIpz1P5Iq74I/9vU/pRJ9wgJV9j8MVP5pLq32P7P/kjhRCfc/Y2A5HD9f9z9BXx9CAbD3P3LfGVa5/Pc/g9WxeiJI+D9LHE6gVYz4P1I7OOINzPg/a2VfBToL+T++b800mUX5Py77rVGag/k/c2pLQ6vA+T+HwJFAg/X5P5r29cWjKfo/T+3UqPxd+j8vYPeNF5H6P2VMo8QMt/o/a9BsXqLg+j8bIEVbnQ37P8B/IxzbNPs/EbwutwxU+z8Mf6SNxXT7P6RESGbAlPs/h/AW5SW5+z9JyPFXidj7P8Dr9gNl9fs/hXrwlogQ/D//tNIdJCn8P4UIWZITQPw/tX08ssFT/D+xPe3PyWP8P3hUSybmcvw/4BiNcuyF/D83KO1P2pL8Pyzb3byem/w/6/X7ufmq/D90UVXqV7f8P6XaRLl2wvw/T1a7DwjI/D9i7wJ7Bcf8P2+OEnLgyPw/xKRsT5jR/D85XW/L4s78PzmX03+Fzfw/2fi22m/P/D8YHZ2uf8v8P7c0JuCxyfw/ZFnDVBnH/D9nNIyXe8T8P5lFI/3Ivfw/ZoEgh1uy/D9j9vFR+Kz8P+SbHCdNn/w/1l+iht6W/D/d7DVbfor8PxCEKZ8lffw/0cBnogpy/D/SAqLKqmT8PzgVuFvjWvw//nxRPuFN/D9cwnF+Yjv8P03/q/FGLPw/0m4a+cEj/D9C0LCcrRH8P9RYWPZ4//s/NCWjFL7w+z+C4DMKMOH7PygLX1/r0vs/wYVOZdfB+z/PC4RYjrT7P0oy0z+Go/s/R8QdOgCU+z8=\"},\"shape\":[85],\"dtype\":\"float64\",\"order\":\"little\"}]]}}},\"view\":{\"type\":\"object\",\"name\":\"CDSView\",\"id\":\"f15cb144-7a58-4374-92dd-7d51de431238\",\"attributes\":{\"filter\":{\"type\":\"object\",\"name\":\"AllIndices\",\"id\":\"f0c43d59-fc65-449c-bbe9-64149849427b\"}}},\"glyph\":{\"type\":\"object\",\"name\":\"Line\",\"id\":\"756e99ed-280b-4142-89fd-da9a8f756f71\",\"attributes\":{\"tags\":[\"apply_ranges\"],\"x\":{\"type\":\"field\",\"field\":\"Year\"},\"y\":{\"type\":\"field\",\"field\":\"Mean\"},\"line_color\":\"#003466\",\"line_width\":2}},\"selection_glyph\":{\"type\":\"object\",\"name\":\"Line\",\"id\":\"5e1bd2a5-b454-4fd3-928d-0c9e2173f3bb\",\"attributes\":{\"tags\":[\"apply_ranges\"],\"x\":{\"type\":\"field\",\"field\":\"Year\"},\"y\":{\"type\":\"field\",\"field\":\"Mean\"},\"line_color\":\"#003466\",\"line_width\":2}},\"nonselection_glyph\":{\"type\":\"object\",\"name\":\"Line\",\"id\":\"36d6311b-d87e-4146-97e0-66a0f7e318f4\",\"attributes\":{\"tags\":[\"apply_ranges\"],\"x\":{\"type\":\"field\",\"field\":\"Year\"},\"y\":{\"type\":\"field\",\"field\":\"Mean\"},\"line_color\":\"#003466\",\"line_alpha\":0.1,\"line_width\":2}},\"muted_glyph\":{\"type\":\"object\",\"name\":\"Line\",\"id\":\"1ee391c9-9266-4271-bb31-c93fba418b0a\",\"attributes\":{\"tags\":[\"apply_ranges\"],\"x\":{\"type\":\"field\",\"field\":\"Year\"},\"y\":{\"type\":\"field\",\"field\":\"Mean\"},\"line_color\":\"#003466\",\"line_alpha\":0.2,\"line_width\":2}}}},{\"type\":\"object\",\"name\":\"Span\",\"id\":\"2c5dfbb3-1689-47fd-b3b2-a5c06009c50b\",\"attributes\":{\"level\":\"glyph\",\"location\":2.0}},{\"type\":\"object\",\"name\":\"GlyphRenderer\",\"id\":\"cb1f69c8-df96-4c26-9846-bdcca1810b39\",\"attributes\":{\"data_source\":{\"type\":\"object\",\"name\":\"ColumnDataSource\",\"id\":\"0a20f7cd-7779-44c0-857d-9124edd79638\",\"attributes\":{\"selected\":{\"type\":\"object\",\"name\":\"Selection\",\"id\":\"d11fdcb6-75ed-4fda-a95e-e1c3ecc5513b\",\"attributes\":{\"indices\":[],\"line_indices\":[]}},\"selection_policy\":{\"type\":\"object\",\"name\":\"UnionRenderers\",\"id\":\"25dabe8b-7538-4dc4-ab82-73ee46d064b3\"},\"data\":{\"type\":\"map\",\"entries\":[[\"x\",[1968]],[\"y\",[2.25]],[\"text\",[\"2.0\\u00b0C warming level\"]]]}}},\"view\":{\"type\":\"object\",\"name\":\"CDSView\",\"id\":\"010edcf2-1415-4a35-9de2-96931bf2a889\",\"attributes\":{\"filter\":{\"type\":\"object\",\"name\":\"AllIndices\",\"id\":\"c14adee3-5ad7-4ee4-a645-952900e14e5b\"}}},\"glyph\":{\"type\":\"object\",\"name\":\"Text\",\"id\":\"7d69140a-1259-495f-ad02-870919cc5f60\",\"attributes\":{\"tags\":[\"apply_ranges\"],\"x\":{\"type\":\"field\",\"field\":\"x\"},\"y\":{\"type\":\"field\",\"field\":\"y\"},\"text\":{\"type\":\"field\",\"field\":\"text\"},\"text_color\":{\"type\":\"value\",\"value\":\"black\"},\"text_font_size\":{\"type\":\"value\",\"value\":\"8pt\"},\"text_align\":{\"type\":\"value\",\"value\":\"center\"},\"text_baseline\":{\"type\":\"value\",\"value\":\"middle\"}}},\"selection_glyph\":{\"type\":\"object\",\"name\":\"Text\",\"id\":\"29818c3f-85ce-419e-96f7-97eb4e7d07bc\",\"attributes\":{\"tags\":[\"apply_ranges\"],\"x\":{\"type\":\"field\",\"field\":\"x\"},\"y\":{\"type\":\"field\",\"field\":\"y\"},\"text\":{\"type\":\"field\",\"field\":\"text\"},\"angle\":{\"type\":\"value\",\"value\":0.0},\"x_offset\":{\"type\":\"value\",\"value\":0},\"y_offset\":{\"type\":\"value\",\"value\":0},\"outline_shape\":{\"type\":\"value\",\"value\":\"box\"},\"text_color\":{\"type\":\"value\",\"value\":\"black\"},\"text_outline_color\":{\"type\":\"value\",\"value\":null},\"text_alpha\":{\"type\":\"value\",\"value\":1.0},\"text_font_size\":{\"type\":\"value\",\"value\":\"8pt\"},\"text_font_style\":{\"type\":\"value\",\"value\":\"normal\"},\"text_align\":{\"type\":\"value\",\"value\":\"center\"},\"text_baseline\":{\"type\":\"value\",\"value\":\"middle\"},\"text_line_height\":{\"type\":\"value\",\"value\":1.2},\"background_fill_color\":{\"type\":\"value\",\"value\":null},\"background_fill_alpha\":{\"type\":\"value\",\"value\":1.0},\"background_hatch_color\":{\"type\":\"value\",\"value\":null},\"background_hatch_alpha\":{\"type\":\"value\",\"value\":1.0},\"background_hatch_scale\":{\"type\":\"value\",\"value\":12.0},\"background_hatch_pattern\":{\"type\":\"value\",\"value\":null},\"background_hatch_weight\":{\"type\":\"value\",\"value\":1.0},\"border_line_color\":{\"type\":\"value\",\"value\":null},\"border_line_alpha\":{\"type\":\"value\",\"value\":1.0},\"border_line_width\":{\"type\":\"value\",\"value\":1},\"border_line_join\":{\"type\":\"value\",\"value\":\"bevel\"},\"border_line_cap\":{\"type\":\"value\",\"value\":\"butt\"},\"border_line_dash\":{\"type\":\"value\",\"value\":[]},\"border_line_dash_offset\":{\"type\":\"value\",\"value\":0}}},\"nonselection_glyph\":{\"type\":\"object\",\"name\":\"Text\",\"id\":\"49bd00a7-e93b-4e8f-8542-9b4b2b0667ea\",\"attributes\":{\"tags\":[\"apply_ranges\"],\"x\":{\"type\":\"field\",\"field\":\"x\"},\"y\":{\"type\":\"field\",\"field\":\"y\"},\"text\":{\"type\":\"field\",\"field\":\"text\"},\"text_color\":{\"type\":\"value\",\"value\":\"black\"},\"text_alpha\":{\"type\":\"value\",\"value\":0.1},\"text_font_size\":{\"type\":\"value\",\"value\":\"8pt\"},\"text_align\":{\"type\":\"value\",\"value\":\"center\"},\"text_baseline\":{\"type\":\"value\",\"value\":\"middle\"}}},\"muted_glyph\":{\"type\":\"object\",\"name\":\"Text\",\"id\":\"425b502f-99ae-44a3-a77b-f89b66991115\",\"attributes\":{\"tags\":[\"apply_ranges\"],\"x\":{\"type\":\"field\",\"field\":\"x\"},\"y\":{\"type\":\"field\",\"field\":\"y\"},\"text\":{\"type\":\"field\",\"field\":\"text\"},\"text_color\":{\"type\":\"value\",\"value\":\"black\"},\"text_alpha\":{\"type\":\"value\",\"value\":0.2},\"text_font_size\":{\"type\":\"value\",\"value\":\"8pt\"},\"text_align\":{\"type\":\"value\",\"value\":\"center\"},\"text_baseline\":{\"type\":\"value\",\"value\":\"middle\"}}}}}],\"toolbar\":{\"type\":\"object\",\"name\":\"Toolbar\",\"id\":\"a8686a24-1013-4f92-86a6-d3088fbbcfb6\",\"attributes\":{\"tools\":[{\"type\":\"object\",\"name\":\"WheelZoomTool\",\"id\":\"334105b4-8e7d-4bc6-9bad-d976637c7723\",\"attributes\":{\"tags\":[\"hv_created\"],\"renderers\":\"auto\",\"zoom_together\":\"none\"}},{\"type\":\"object\",\"name\":\"HoverTool\",\"id\":\"9430cd0c-5642-45ba-a651-3f39fbb56483\",\"attributes\":{\"tags\":[\"hv_created\"],\"renderers\":[{\"id\":\"5c56750c-31c0-4530-956c-b0a17b5b755e\"},{\"id\":\"8e6a1393-9884-4386-861e-da1ae727e483\"}],\"tooltips\":[[\"Year\",\"@{Year}\"],[\"Mean\",\"@{Mean}\"]]}},{\"type\":\"object\",\"name\":\"HoverTool\",\"id\":\"51d3a23a-3d77-4421-9758-5877e844efd3\",\"attributes\":{\"tags\":[\"hv_created\"],\"renderers\":[{\"id\":\"86d3626c-7131-4509-95c6-013e684d6750\"},{\"id\":\"969f1d02-bd71-4afb-a0d6-24773e40bd84\"}],\"tooltips\":[[\"Year\",\"@{Year}\"],[\"5%\",\"@{A_5_percent}\"],[\"95%\",\"@{A_95_percent}\"]]}},{\"type\":\"object\",\"name\":\"SaveTool\",\"id\":\"46dac46e-2eb3-45cc-865f-4f84a665c925\"},{\"type\":\"object\",\"name\":\"PanTool\",\"id\":\"a283fd26-7d58-4140-a1da-c3e70c9edba6\"},{\"type\":\"object\",\"name\":\"BoxZoomTool\",\"id\":\"b1090052-f038-4023-9ef7-29ac50be450d\",\"attributes\":{\"overlay\":{\"type\":\"object\",\"name\":\"BoxAnnotation\",\"id\":\"41807f52-5530-4874-b10f-54b8cc6bb09f\",\"attributes\":{\"syncable\":false,\"line_color\":\"black\",\"line_alpha\":1.0,\"line_width\":2,\"line_dash\":[4,4],\"fill_color\":\"lightgrey\",\"fill_alpha\":0.5,\"level\":\"overlay\",\"visible\":false,\"left\":{\"type\":\"number\",\"value\":\"nan\"},\"right\":{\"type\":\"number\",\"value\":\"nan\"},\"top\":{\"type\":\"number\",\"value\":\"nan\"},\"bottom\":{\"type\":\"number\",\"value\":\"nan\"},\"left_units\":\"canvas\",\"right_units\":\"canvas\",\"top_units\":\"canvas\",\"bottom_units\":\"canvas\",\"handles\":{\"type\":\"object\",\"name\":\"BoxInteractionHandles\",\"id\":\"ed1421c5-8d14-46fc-9f76-ba08413ef4b2\",\"attributes\":{\"all\":{\"type\":\"object\",\"name\":\"AreaVisuals\",\"id\":\"251d540a-67e9-4208-b818-80f8e3ad20f5\",\"attributes\":{\"fill_color\":\"white\",\"hover_fill_color\":\"lightgray\"}}}}}}}},{\"type\":\"object\",\"name\":\"ResetTool\",\"id\":\"2fd0753f-d385-42f7-b0a9-21ff7da79a92\"}],\"active_drag\":{\"id\":\"a283fd26-7d58-4140-a1da-c3e70c9edba6\"}}},\"left\":[{\"type\":\"object\",\"name\":\"LinearAxis\",\"id\":\"fcb266d5-936f-4c38-8345-3779c14a177c\",\"attributes\":{\"ticker\":{\"type\":\"object\",\"name\":\"BasicTicker\",\"id\":\"c7f41df1-a607-4803-bbcf-bdff4ab8822b\",\"attributes\":{\"mantissas\":[1,2,5]}},\"formatter\":{\"type\":\"object\",\"name\":\"BasicTickFormatter\",\"id\":\"4cd1a00d-e78b-4f11-af9e-303e674bf5a2\"},\"axis_label\":\"\\u00b0C\",\"major_label_policy\":{\"type\":\"object\",\"name\":\"AllLabels\",\"id\":\"2172c5c9-3a40-4b25-aa27-abf11343e026\"}}}],\"below\":[{\"type\":\"object\",\"name\":\"LinearAxis\",\"id\":\"aed6f905-467c-42f6-a158-c0525cb76d99\",\"attributes\":{\"ticker\":{\"type\":\"object\",\"name\":\"BasicTicker\",\"id\":\"fb6dc35a-eed4-40ca-afa4-73624ae10e45\",\"attributes\":{\"mantissas\":[1,2,5]}},\"formatter\":{\"type\":\"object\",\"name\":\"BasicTickFormatter\",\"id\":\"2a143259-9bc6-4313-94a7-cd778cfdf227\"},\"axis_label\":\"\",\"major_label_policy\":{\"type\":\"object\",\"name\":\"AllLabels\",\"id\":\"73f88cf5-ce08-4e44-83ab-a26b6062cf16\"}}},{\"type\":\"object\",\"name\":\"Legend\",\"id\":\"4c6560aa-19cb-4b4d-84db-be30cc2c84de\",\"attributes\":{\"location\":[0,0],\"orientation\":\"horizontal\",\"click_policy\":\"mute\",\"items\":[{\"type\":\"object\",\"name\":\"LegendItem\",\"id\":\"3452f000-b0e0-48b9-9026-d9a59fcfc38a\",\"attributes\":{\"label\":{\"type\":\"value\",\"value\":\"Historical\"},\"renderers\":[{\"id\":\"5c56750c-31c0-4530-956c-b0a17b5b755e\"}]}},{\"type\":\"object\",\"name\":\"LegendItem\",\"id\":\"5eb4e3cb-07d2-4099-a170-d9856975bb8c\",\"attributes\":{\"label\":{\"type\":\"value\",\"value\":\"90% interval\"},\"renderers\":[{\"id\":\"969f1d02-bd71-4afb-a0d6-24773e40bd84\"}]}},{\"type\":\"object\",\"name\":\"LegendItem\",\"id\":\"5f56536b-7182-40d6-b9fb-5f5f8c5e9d1c\",\"attributes\":{\"label\":{\"type\":\"value\",\"value\":\"SSP1-2.6\"},\"renderers\":[{\"id\":\"8e6a1393-9884-4386-861e-da1ae727e483\"}]}}]}}],\"center\":[{\"type\":\"object\",\"name\":\"Grid\",\"id\":\"d1e97703-ef7f-4d88-82c1-c4dbb4a55f88\",\"attributes\":{\"axis\":{\"id\":\"aed6f905-467c-42f6-a158-c0525cb76d99\"},\"grid_line_color\":null}},{\"type\":\"object\",\"name\":\"Grid\",\"id\":\"f443212d-bbf6-4d26-9158-fee556c0d0b3\",\"attributes\":{\"dimension\":1,\"axis\":{\"id\":\"fcb266d5-936f-4c38-8345-3779c14a177c\"},\"grid_line_color\":null}}],\"min_border_top\":10,\"min_border_bottom\":10,\"min_border_left\":10,\"min_border_right\":10,\"output_backend\":\"webgl\"}},{\"type\":\"object\",\"name\":\"Spacer\",\"id\":\"256629a8-1f76-4f82-a8af-9673f301749e\",\"attributes\":{\"name\":\"HSpacer03154\",\"stylesheets\":[\"\\n:host(.pn-loading):before, .pn-loading:before {\\n  background-color: #c3c3c3;\\n  mask-size: auto calc(min(50%, 400px));\\n  -webkit-mask-size: auto calc(min(50%, 400px));\\n}\",{\"id\":\"946bcbc7-5849-456f-ab41-e76211b9c500\"},{\"id\":\"8bb30df9-327f-4e9b-aa89-e775141f7e7e\"},{\"id\":\"68adec08-5bee-4235-8ca3-83e9f32dbc74\"}],\"margin\":0,\"sizing_mode\":\"stretch_width\",\"align\":\"start\"}}]}}],\"defs\":[{\"type\":\"model\",\"name\":\"ReactiveHTML1\"},{\"type\":\"model\",\"name\":\"FlexBox1\",\"properties\":[{\"name\":\"align_content\",\"kind\":\"Any\",\"default\":\"flex-start\"},{\"name\":\"align_items\",\"kind\":\"Any\",\"default\":\"flex-start\"},{\"name\":\"flex_direction\",\"kind\":\"Any\",\"default\":\"row\"},{\"name\":\"flex_wrap\",\"kind\":\"Any\",\"default\":\"wrap\"},{\"name\":\"gap\",\"kind\":\"Any\",\"default\":\"\"},{\"name\":\"justify_content\",\"kind\":\"Any\",\"default\":\"flex-start\"}]},{\"type\":\"model\",\"name\":\"FloatPanel1\",\"properties\":[{\"name\":\"config\",\"kind\":\"Any\",\"default\":{\"type\":\"map\"}},{\"name\":\"contained\",\"kind\":\"Any\",\"default\":true},{\"name\":\"position\",\"kind\":\"Any\",\"default\":\"right-top\"},{\"name\":\"offsetx\",\"kind\":\"Any\",\"default\":null},{\"name\":\"offsety\",\"kind\":\"Any\",\"default\":null},{\"name\":\"theme\",\"kind\":\"Any\",\"default\":\"primary\"},{\"name\":\"status\",\"kind\":\"Any\",\"default\":\"normalized\"}]},{\"type\":\"model\",\"name\":\"GridStack1\",\"properties\":[{\"name\":\"mode\",\"kind\":\"Any\",\"default\":\"warn\"},{\"name\":\"ncols\",\"kind\":\"Any\",\"default\":null},{\"name\":\"nrows\",\"kind\":\"Any\",\"default\":null},{\"name\":\"allow_resize\",\"kind\":\"Any\",\"default\":true},{\"name\":\"allow_drag\",\"kind\":\"Any\",\"default\":true},{\"name\":\"state\",\"kind\":\"Any\",\"default\":[]}]},{\"type\":\"model\",\"name\":\"drag1\",\"properties\":[{\"name\":\"slider_width\",\"kind\":\"Any\",\"default\":5},{\"name\":\"slider_color\",\"kind\":\"Any\",\"default\":\"black\"},{\"name\":\"value\",\"kind\":\"Any\",\"default\":50}]},{\"type\":\"model\",\"name\":\"click1\",\"properties\":[{\"name\":\"terminal_output\",\"kind\":\"Any\",\"default\":\"\"},{\"name\":\"debug_name\",\"kind\":\"Any\",\"default\":\"\"},{\"name\":\"clears\",\"kind\":\"Any\",\"default\":0}]},{\"type\":\"model\",\"name\":\"FastWrapper1\",\"properties\":[{\"name\":\"object\",\"kind\":\"Any\",\"default\":null},{\"name\":\"style\",\"kind\":\"Any\",\"default\":null}]},{\"type\":\"model\",\"name\":\"NotificationAreaBase1\",\"properties\":[{\"name\":\"js_events\",\"kind\":\"Any\",\"default\":{\"type\":\"map\"}},{\"name\":\"position\",\"kind\":\"Any\",\"default\":\"bottom-right\"},{\"name\":\"_clear\",\"kind\":\"Any\",\"default\":0}]},{\"type\":\"model\",\"name\":\"NotificationArea1\",\"properties\":[{\"name\":\"js_events\",\"kind\":\"Any\",\"default\":{\"type\":\"map\"}},{\"name\":\"notifications\",\"kind\":\"Any\",\"default\":[]},{\"name\":\"position\",\"kind\":\"Any\",\"default\":\"bottom-right\"},{\"name\":\"_clear\",\"kind\":\"Any\",\"default\":0},{\"name\":\"types\",\"kind\":\"Any\",\"default\":[{\"type\":\"map\",\"entries\":[[\"type\",\"warning\"],[\"background\",\"#ffc107\"],[\"icon\",{\"type\":\"map\",\"entries\":[[\"className\",\"fas fa-exclamation-triangle\"],[\"tagName\",\"i\"],[\"color\",\"white\"]]}]]},{\"type\":\"map\",\"entries\":[[\"type\",\"info\"],[\"background\",\"#007bff\"],[\"icon\",{\"type\":\"map\",\"entries\":[[\"className\",\"fas fa-info-circle\"],[\"tagName\",\"i\"],[\"color\",\"white\"]]}]]}]}]},{\"type\":\"model\",\"name\":\"Notification\",\"properties\":[{\"name\":\"background\",\"kind\":\"Any\",\"default\":null},{\"name\":\"duration\",\"kind\":\"Any\",\"default\":3000},{\"name\":\"icon\",\"kind\":\"Any\",\"default\":null},{\"name\":\"message\",\"kind\":\"Any\",\"default\":\"\"},{\"name\":\"notification_type\",\"kind\":\"Any\",\"default\":null},{\"name\":\"_rendered\",\"kind\":\"Any\",\"default\":false},{\"name\":\"_destroyed\",\"kind\":\"Any\",\"default\":false}]},{\"type\":\"model\",\"name\":\"TemplateActions1\",\"properties\":[{\"name\":\"open_modal\",\"kind\":\"Any\",\"default\":0},{\"name\":\"close_modal\",\"kind\":\"Any\",\"default\":0}]},{\"type\":\"model\",\"name\":\"BootstrapTemplateActions1\",\"properties\":[{\"name\":\"open_modal\",\"kind\":\"Any\",\"default\":0},{\"name\":\"close_modal\",\"kind\":\"Any\",\"default\":0}]},{\"type\":\"model\",\"name\":\"TemplateEditor1\",\"properties\":[{\"name\":\"layout\",\"kind\":\"Any\",\"default\":[]}]},{\"type\":\"model\",\"name\":\"MaterialTemplateActions1\",\"properties\":[{\"name\":\"open_modal\",\"kind\":\"Any\",\"default\":0},{\"name\":\"close_modal\",\"kind\":\"Any\",\"default\":0}]},{\"type\":\"model\",\"name\":\"ReactiveESM1\",\"properties\":[{\"name\":\"esm_constants\",\"kind\":\"Any\",\"default\":{\"type\":\"map\"}}]},{\"type\":\"model\",\"name\":\"JSComponent1\",\"properties\":[{\"name\":\"esm_constants\",\"kind\":\"Any\",\"default\":{\"type\":\"map\"}}]},{\"type\":\"model\",\"name\":\"ReactComponent1\",\"properties\":[{\"name\":\"esm_constants\",\"kind\":\"Any\",\"default\":{\"type\":\"map\"}}]},{\"type\":\"model\",\"name\":\"AnyWidgetComponent1\",\"properties\":[{\"name\":\"esm_constants\",\"kind\":\"Any\",\"default\":{\"type\":\"map\"}}]},{\"type\":\"model\",\"name\":\"request_value1\",\"properties\":[{\"name\":\"fill\",\"kind\":\"Any\",\"default\":\"none\"},{\"name\":\"_synced\",\"kind\":\"Any\",\"default\":null},{\"name\":\"_request_sync\",\"kind\":\"Any\",\"default\":0}]}]}};\n",
       "  var render_items = [{\"docid\":\"2a71e04c-5ab6-4625-999c-dfa440f1adc8\",\"roots\":{\"406c8a8f-6131-4c06-ad76-778f0aba86ac\":\"a5f25ef7-f747-4ff6-b004-cb01537ca0df\"},\"root_ids\":[\"406c8a8f-6131-4c06-ad76-778f0aba86ac\"]}];\n",
       "  var docs = Object.values(docs_json)\n",
       "  if (!docs) {\n",
       "    return\n",
       "  }\n",
       "  const py_version = docs[0].version.replace('rc', '-rc.').replace('.dev', '-dev.')\n",
       "  async function embed_document(root) {\n",
       "    var Bokeh = get_bokeh(root)\n",
       "    await Bokeh.embed.embed_items_notebook(docs_json, render_items);\n",
       "    for (const render_item of render_items) {\n",
       "      for (const root_id of render_item.root_ids) {\n",
       "\tconst id_el = document.getElementById(root_id)\n",
       "\tif (id_el.children.length && id_el.children[0].hasAttribute('data-root-id')) {\n",
       "\t  const root_el = id_el.children[0]\n",
       "\t  root_el.id = root_el.id + '-rendered'\n",
       "\t  for (const child of root_el.children) {\n",
       "            // Ensure JupyterLab does not capture keyboard shortcuts\n",
       "            // see: https://jupyterlab.readthedocs.io/en/4.1.x/extension/notebook.html#keyboard-interaction-model\n",
       "\t    child.setAttribute('data-lm-suppress-shortcuts', 'true')\n",
       "\t  }\n",
       "\t}\n",
       "      }\n",
       "    }\n",
       "  }\n",
       "  function get_bokeh(root) {\n",
       "    if (root.Bokeh === undefined) {\n",
       "      return null\n",
       "    } else if (root.Bokeh.version !== py_version) {\n",
       "      if (root.Bokeh.versions === undefined || !root.Bokeh.versions.has(py_version)) {\n",
       "\treturn null\n",
       "      }\n",
       "      return root.Bokeh.versions.get(py_version);\n",
       "    } else if (root.Bokeh.version === py_version) {\n",
       "      return root.Bokeh\n",
       "    }\n",
       "    return null\n",
       "  }\n",
       "  function is_loaded(root) {\n",
       "    var Bokeh = get_bokeh(root)\n",
       "    return (Bokeh != null && Bokeh.Panel !== undefined)\n",
       "  }\n",
       "  if (is_loaded(root)) {\n",
       "    embed_document(root);\n",
       "  } else {\n",
       "    var attempts = 0;\n",
       "    var timer = setInterval(function(root) {\n",
       "      if (is_loaded(root)) {\n",
       "        clearInterval(timer);\n",
       "        embed_document(root);\n",
       "      } else if (document.readyState == \"complete\") {\n",
       "        attempts++;\n",
       "        if (attempts > 200) {\n",
       "          clearInterval(timer);\n",
       "\t  var Bokeh = get_bokeh(root)\n",
       "\t  if (Bokeh == null || Bokeh.Panel == null) {\n",
       "            console.warn(\"Panel: ERROR: Unable to run Panel code because Bokeh or Panel library is missing\");\n",
       "\t  } else {\n",
       "\t    console.warn(\"Panel: WARNING: Attempting to render but not all required libraries could be resolved.\")\n",
       "\t    embed_document(root)\n",
       "\t  }\n",
       "        }\n",
       "      }\n",
       "    }, 25, root)\n",
       "  }\n",
       "})(window);</script>"
      ],
      "text/plain": [
       ":Overlay\n",
       "   .Curve.Historical                      :Curve   [Year]   (Mean)\n",
       "   .Area.I                                :Area   [Year]   (5%,95%)\n",
       "   .Area.A_90_percent_interval            :Area   [Year]   (5%,95%)\n",
       "   .Curve.SSP1_hyphen_minus_2_full_stop_6 :Curve   [Year]   (Mean)\n",
       "   .HLine.I                               :HLine   [x,y]\n",
       "   .Text.I                                :Text   [x,y]"
      ]
     },
     "execution_count": 43,
     "metadata": {
      "application/vnd.holoviews_exec.v0+json": {
       "id": "406c8a8f-6131-4c06-ad76-778f0aba86ac"
      }
     },
     "output_type": "execute_result"
    }
   ],
   "source": [
    "gwl_viz.plot_warming_trajectories(ssp='SSP 1-2.6', warming_level=2.0)"
   ]
  },
  {
   "cell_type": "markdown",
   "metadata": {},
   "source": [
    "Some warming levels are not reached by every scenario before the end of the century, so no best estimate year can be returned."
   ]
  },
  {
   "cell_type": "markdown",
   "metadata": {},
   "source": [
    "# 3. A simple lookup tool for estimating GWL timing"
   ]
  },
  {
   "cell_type": "markdown",
   "metadata": {},
   "source": [
    "Two functions are available to easily estimate GWL timing using the IPCC's likely warming trajectories without the plotting visualization."
   ]
  },
  {
   "cell_type": "markdown",
   "metadata": {},
   "source": [
    "The ```get_year_at_gwl``` function returns the best estimate for the year a specified GWL is reached for each scenario, along with the years that represent a 90% confidence interval around that estimate, as illustrated above."
   ]
  },
  {
   "cell_type": "code",
   "execution_count": 44,
   "metadata": {},
   "outputs": [
    {
     "data": {
      "text/html": [
       "<div>\n",
       "<style scoped>\n",
       "    .dataframe tbody tr th:only-of-type {\n",
       "        vertical-align: middle;\n",
       "    }\n",
       "\n",
       "    .dataframe tbody tr th {\n",
       "        vertical-align: top;\n",
       "    }\n",
       "\n",
       "    .dataframe thead th {\n",
       "        text-align: right;\n",
       "    }\n",
       "</style>\n",
       "<table border=\"1\" class=\"dataframe\">\n",
       "  <thead>\n",
       "    <tr style=\"text-align: right;\">\n",
       "      <th></th>\n",
       "      <th>5%</th>\n",
       "      <th>Mean</th>\n",
       "      <th>95%</th>\n",
       "    </tr>\n",
       "  </thead>\n",
       "  <tbody>\n",
       "    <tr>\n",
       "      <th>Historical</th>\n",
       "      <td>&lt;NA&gt;</td>\n",
       "      <td>&lt;NA&gt;</td>\n",
       "      <td>&lt;NA&gt;</td>\n",
       "    </tr>\n",
       "    <tr>\n",
       "      <th>SSP 1-1.9</th>\n",
       "      <td>&lt;NA&gt;</td>\n",
       "      <td>&lt;NA&gt;</td>\n",
       "      <td>&lt;NA&gt;</td>\n",
       "    </tr>\n",
       "    <tr>\n",
       "      <th>SSP 1-2.6</th>\n",
       "      <td>&lt;NA&gt;</td>\n",
       "      <td>&lt;NA&gt;</td>\n",
       "      <td>&lt;NA&gt;</td>\n",
       "    </tr>\n",
       "    <tr>\n",
       "      <th>SSP 2-4.5</th>\n",
       "      <td>2039</td>\n",
       "      <td>2053</td>\n",
       "      <td>2081</td>\n",
       "    </tr>\n",
       "    <tr>\n",
       "      <th>SSP 3-7.0</th>\n",
       "      <td>2037</td>\n",
       "      <td>2047</td>\n",
       "      <td>2061</td>\n",
       "    </tr>\n",
       "    <tr>\n",
       "      <th>SSP 5-8.5</th>\n",
       "      <td>2034</td>\n",
       "      <td>2042</td>\n",
       "      <td>2054</td>\n",
       "    </tr>\n",
       "  </tbody>\n",
       "</table>\n",
       "</div>"
      ],
      "text/plain": [
       "              5%  Mean   95%\n",
       "Historical  <NA>  <NA>  <NA>\n",
       "SSP 1-1.9   <NA>  <NA>  <NA>\n",
       "SSP 1-2.6   <NA>  <NA>  <NA>\n",
       "SSP 2-4.5   2039  2053  2081\n",
       "SSP 3-7.0   2037  2047  2061\n",
       "SSP 5-8.5   2034  2042  2054"
      ]
     },
     "execution_count": 44,
     "metadata": {},
     "output_type": "execute_result"
    }
   ],
   "source": [
    "get_year_at_gwl(2.0)"
   ]
  },
  {
   "cell_type": "code",
   "execution_count": 45,
   "metadata": {},
   "outputs": [
    {
     "data": {
      "text/html": [
       "<div>\n",
       "<style scoped>\n",
       "    .dataframe tbody tr th:only-of-type {\n",
       "        vertical-align: middle;\n",
       "    }\n",
       "\n",
       "    .dataframe tbody tr th {\n",
       "        vertical-align: top;\n",
       "    }\n",
       "\n",
       "    .dataframe thead th {\n",
       "        text-align: right;\n",
       "    }\n",
       "</style>\n",
       "<table border=\"1\" class=\"dataframe\">\n",
       "  <thead>\n",
       "    <tr style=\"text-align: right;\">\n",
       "      <th></th>\n",
       "      <th>5%</th>\n",
       "      <th>Mean</th>\n",
       "      <th>95%</th>\n",
       "    </tr>\n",
       "  </thead>\n",
       "  <tbody>\n",
       "    <tr>\n",
       "      <th>SSP 3-7.0</th>\n",
       "      <td>2024</td>\n",
       "      <td>2031</td>\n",
       "      <td>2041</td>\n",
       "    </tr>\n",
       "  </tbody>\n",
       "</table>\n",
       "</div>"
      ],
      "text/plain": [
       "             5%  Mean   95%\n",
       "SSP 3-7.0  2024  2031  2041"
      ]
     },
     "execution_count": 45,
     "metadata": {},
     "output_type": "execute_result"
    }
   ],
   "source": [
    "get_year_at_gwl(1.5, ssp='SSP 3-7.0')"
   ]
  },
  {
   "cell_type": "markdown",
   "metadata": {},
   "source": [
    "Warming levels below approximatel 1.2°C are reached in the historical period (before 2015), and only return dates for the historical scenario."
   ]
  },
  {
   "cell_type": "code",
   "execution_count": 46,
   "metadata": {},
   "outputs": [
    {
     "data": {
      "text/html": [
       "<div>\n",
       "<style scoped>\n",
       "    .dataframe tbody tr th:only-of-type {\n",
       "        vertical-align: middle;\n",
       "    }\n",
       "\n",
       "    .dataframe tbody tr th {\n",
       "        vertical-align: top;\n",
       "    }\n",
       "\n",
       "    .dataframe thead th {\n",
       "        text-align: right;\n",
       "    }\n",
       "</style>\n",
       "<table border=\"1\" class=\"dataframe\">\n",
       "  <thead>\n",
       "    <tr style=\"text-align: right;\">\n",
       "      <th></th>\n",
       "      <th>5%</th>\n",
       "      <th>Mean</th>\n",
       "      <th>95%</th>\n",
       "    </tr>\n",
       "  </thead>\n",
       "  <tbody>\n",
       "    <tr>\n",
       "      <th>Historical</th>\n",
       "      <td>1990</td>\n",
       "      <td>2002</td>\n",
       "      <td>2010</td>\n",
       "    </tr>\n",
       "    <tr>\n",
       "      <th>SSP 1-1.9</th>\n",
       "      <td>&lt;NA&gt;</td>\n",
       "      <td>&lt;NA&gt;</td>\n",
       "      <td>&lt;NA&gt;</td>\n",
       "    </tr>\n",
       "    <tr>\n",
       "      <th>SSP 1-2.6</th>\n",
       "      <td>&lt;NA&gt;</td>\n",
       "      <td>&lt;NA&gt;</td>\n",
       "      <td>&lt;NA&gt;</td>\n",
       "    </tr>\n",
       "    <tr>\n",
       "      <th>SSP 2-4.5</th>\n",
       "      <td>&lt;NA&gt;</td>\n",
       "      <td>&lt;NA&gt;</td>\n",
       "      <td>&lt;NA&gt;</td>\n",
       "    </tr>\n",
       "    <tr>\n",
       "      <th>SSP 3-7.0</th>\n",
       "      <td>&lt;NA&gt;</td>\n",
       "      <td>&lt;NA&gt;</td>\n",
       "      <td>&lt;NA&gt;</td>\n",
       "    </tr>\n",
       "    <tr>\n",
       "      <th>SSP 5-8.5</th>\n",
       "      <td>&lt;NA&gt;</td>\n",
       "      <td>&lt;NA&gt;</td>\n",
       "      <td>&lt;NA&gt;</td>\n",
       "    </tr>\n",
       "  </tbody>\n",
       "</table>\n",
       "</div>"
      ],
      "text/plain": [
       "              5%  Mean   95%\n",
       "Historical  1990  2002  2010\n",
       "SSP 1-1.9   <NA>  <NA>  <NA>\n",
       "SSP 1-2.6   <NA>  <NA>  <NA>\n",
       "SSP 2-4.5   <NA>  <NA>  <NA>\n",
       "SSP 3-7.0   <NA>  <NA>  <NA>\n",
       "SSP 5-8.5   <NA>  <NA>  <NA>"
      ]
     },
     "execution_count": 46,
     "metadata": {},
     "output_type": "execute_result"
    }
   ],
   "source": [
    "get_year_at_gwl(0.8)"
   ]
  },
  {
   "cell_type": "code",
   "execution_count": 47,
   "metadata": {},
   "outputs": [
    {
     "data": {
      "text/html": [
       "<div>\n",
       "<style scoped>\n",
       "    .dataframe tbody tr th:only-of-type {\n",
       "        vertical-align: middle;\n",
       "    }\n",
       "\n",
       "    .dataframe tbody tr th {\n",
       "        vertical-align: top;\n",
       "    }\n",
       "\n",
       "    .dataframe thead th {\n",
       "        text-align: right;\n",
       "    }\n",
       "</style>\n",
       "<table border=\"1\" class=\"dataframe\">\n",
       "  <thead>\n",
       "    <tr style=\"text-align: right;\">\n",
       "      <th></th>\n",
       "      <th>5%</th>\n",
       "      <th>Mean</th>\n",
       "      <th>95%</th>\n",
       "    </tr>\n",
       "  </thead>\n",
       "  <tbody>\n",
       "    <tr>\n",
       "      <th>Historical</th>\n",
       "      <td>2004</td>\n",
       "      <td>2010</td>\n",
       "      <td>&lt;NA&gt;</td>\n",
       "    </tr>\n",
       "  </tbody>\n",
       "</table>\n",
       "</div>"
      ],
      "text/plain": [
       "              5%  Mean   95%\n",
       "Historical  2004  2010  <NA>"
      ]
     },
     "execution_count": 47,
     "metadata": {},
     "output_type": "execute_result"
    }
   ],
   "source": [
    "get_year_at_gwl(1.0, ssp=\"Historical\")"
   ]
  },
  {
   "cell_type": "markdown",
   "metadata": {},
   "source": [
    "Note: Warming levels that fall near the edges of scenario definitions (including the transition between historical and future scenarios in 2015) may return NA values"
   ]
  },
  {
   "cell_type": "markdown",
   "metadata": {},
   "source": [
    "The ```get_gwl_at_year``` function performs a lookup in the opposite direction from the same dataset, finding the *very likely* range of global warming levels for a specified future year and SSP scenario. This can be used to help choose which GWL targets are a good replacement for existing target-years in a planning process."
   ]
  },
  {
   "cell_type": "code",
   "execution_count": 48,
   "metadata": {},
   "outputs": [
    {
     "data": {
      "text/html": [
       "<div>\n",
       "<style scoped>\n",
       "    .dataframe tbody tr th:only-of-type {\n",
       "        vertical-align: middle;\n",
       "    }\n",
       "\n",
       "    .dataframe tbody tr th {\n",
       "        vertical-align: top;\n",
       "    }\n",
       "\n",
       "    .dataframe thead th {\n",
       "        text-align: right;\n",
       "    }\n",
       "</style>\n",
       "<table border=\"1\" class=\"dataframe\">\n",
       "  <thead>\n",
       "    <tr style=\"text-align: right;\">\n",
       "      <th></th>\n",
       "      <th>5%</th>\n",
       "      <th>Mean</th>\n",
       "      <th>95%</th>\n",
       "    </tr>\n",
       "  </thead>\n",
       "  <tbody>\n",
       "    <tr>\n",
       "      <th>SSP 1-1.9</th>\n",
       "      <td>1.27</td>\n",
       "      <td>1.55</td>\n",
       "      <td>1.86</td>\n",
       "    </tr>\n",
       "    <tr>\n",
       "      <th>SSP 1-2.6</th>\n",
       "      <td>1.34</td>\n",
       "      <td>1.62</td>\n",
       "      <td>1.96</td>\n",
       "    </tr>\n",
       "    <tr>\n",
       "      <th>SSP 2-4.5</th>\n",
       "      <td>1.45</td>\n",
       "      <td>1.71</td>\n",
       "      <td>2.05</td>\n",
       "    </tr>\n",
       "    <tr>\n",
       "      <th>SSP 3-7.0</th>\n",
       "      <td>1.50</td>\n",
       "      <td>1.78</td>\n",
       "      <td>2.13</td>\n",
       "    </tr>\n",
       "    <tr>\n",
       "      <th>SSP 5-8.5</th>\n",
       "      <td>1.59</td>\n",
       "      <td>1.93</td>\n",
       "      <td>2.31</td>\n",
       "    </tr>\n",
       "  </tbody>\n",
       "</table>\n",
       "</div>"
      ],
      "text/plain": [
       "             5%  Mean   95%\n",
       "SSP 1-1.9  1.27  1.55  1.86\n",
       "SSP 1-2.6  1.34  1.62  1.96\n",
       "SSP 2-4.5  1.45  1.71  2.05\n",
       "SSP 3-7.0  1.50  1.78  2.13\n",
       "SSP 5-8.5  1.59  1.93  2.31"
      ]
     },
     "execution_count": 48,
     "metadata": {},
     "output_type": "execute_result"
    }
   ],
   "source": [
    "get_gwl_at_year(2040)"
   ]
  },
  {
   "cell_type": "code",
   "execution_count": 49,
   "metadata": {},
   "outputs": [
    {
     "data": {
      "text/html": [
       "<div>\n",
       "<style scoped>\n",
       "    .dataframe tbody tr th:only-of-type {\n",
       "        vertical-align: middle;\n",
       "    }\n",
       "\n",
       "    .dataframe tbody tr th {\n",
       "        vertical-align: top;\n",
       "    }\n",
       "\n",
       "    .dataframe thead th {\n",
       "        text-align: right;\n",
       "    }\n",
       "</style>\n",
       "<table border=\"1\" class=\"dataframe\">\n",
       "  <thead>\n",
       "    <tr style=\"text-align: right;\">\n",
       "      <th></th>\n",
       "      <th>5%</th>\n",
       "      <th>Mean</th>\n",
       "      <th>95%</th>\n",
       "    </tr>\n",
       "  </thead>\n",
       "  <tbody>\n",
       "    <tr>\n",
       "      <th>SSP 3-7.0</th>\n",
       "      <td>2.39</td>\n",
       "      <td>2.99</td>\n",
       "      <td>3.74</td>\n",
       "    </tr>\n",
       "  </tbody>\n",
       "</table>\n",
       "</div>"
      ],
      "text/plain": [
       "             5%  Mean   95%\n",
       "SSP 3-7.0  2.39  2.99  3.74"
      ]
     },
     "execution_count": 49,
     "metadata": {},
     "output_type": "execute_result"
    }
   ],
   "source": [
    "get_gwl_at_year(2075, 'SSP 3-7.0')"
   ]
  },
  {
   "cell_type": "markdown",
   "metadata": {},
   "source": [
    "# Using GWL timing tools in a planning workflow"
   ]
  },
  {
   "cell_type": "markdown",
   "metadata": {},
   "source": [
    "### Planning arounnd established Global Warming Level targets\n",
    "The process for planning with global warming levels will look something like this:\n",
    "\n",
    "1. Choose one or more target global warming levels\n",
    "2. Use tools in the Analytics Engine to analyze regional climate impacts at each warming level\n",
    "3. Choose an SSP scenario to inform timing estimates for global warming level targets\n",
    "4. Use ```get_year_at_gwl``` to estimate the most likely range of years that the analyzed impacts will be realized\n",
    "\n",
    "Using this process, which starts with specific GWL targets, decisions about which SSP scenario to use for timing estimates can be made and changed independant of the data analysis.\n",
    "\n",
    "\n"
   ]
  },
  {
   "cell_type": "markdown",
   "metadata": {},
   "source": [
    "### Adapting target-year planning to a Global Warming Level Approach\n",
    "\n",
    "If you are adapting a planning process that is based around specific target years to a global warming level framework, the process could look like this:\n",
    "\n",
    "1. Start with a particular target year you would like to plan around (e.g. 2050)\n",
    "2. Choose the SSP emissions scenario(s) you would like to use for estimating the timing of warming\n",
    "3. Use the ```get_gwl_at_year``` tool to determine the most likely range of GWLs that will be reached at your target year\n",
    "4. Use tools in the Analytics Engine to load data at the GWL(s) that correspond with your target year.\n",
    "\n",
    "By analyzing impacts at multiple GWLs that span the likely range from the IPCC trajectories, this analysis can capture a range of uncertainty around the target year.\n",
    "\n",
    "\n",
    "Note: In this planning process, the SSP that is used to translate years into GWLs must be chosen *before* the analysis is performed, and can not be changed afterwards. \n",
    "\n"
   ]
  },
  {
   "cell_type": "code",
   "execution_count": null,
   "metadata": {},
   "outputs": [],
   "source": []
  },
  {
   "cell_type": "code",
   "execution_count": null,
   "metadata": {},
   "outputs": [],
   "source": []
  }
 ],
 "metadata": {
  "kernelspec": {
   "display_name": "pangeo",
   "language": "python",
   "name": "python3"
  },
  "language_info": {
   "codemirror_mode": {
    "name": "ipython",
    "version": 3
   },
   "file_extension": ".py",
   "mimetype": "text/x-python",
   "name": "python",
   "nbconvert_exporter": "python",
   "pygments_lexer": "ipython3",
   "version": "3.12.9"
  }
 },
 "nbformat": 4,
 "nbformat_minor": 2
}
