{
 "cells": [
  {
   "cell_type": "markdown",
   "metadata": {},
   "source": [
    "# Global Warming Level Timing Tools\n",
    "\n",
    "This notebook explores the estimated timing of Global Warming Levels (GWLs) based on the IPCC's warming trajectory estimates from the AR6 report. This is the recommended method for estimating the timing of climate impacts on GWLs. The notebook contains descriptive information to help users understand the motivation and process for planning around GWLs, as well as demonstrations of tools for calculating ant visualizing GWL timing data. The approach illustrated in this notebook is also described in our guidance material [here](https://analytics.cal-adapt.org/data/about/).\n",
    "\n",
    "**Intended application:** As a user, I want to understand how to understand how timing estimates for global warming levels are calculated, and use tools to translate target-years in to GWLs, or vice versa.\n",
    "\n",
    "**Runtime:** Less than 5 minutes.\n",
    "\n",
    "**Table of Contents**\n",
    "1. Global Warming Levels and the hot model problem\n",
    "2. Visualizing warming levels and IPCC scenario trajectories\n",
    "3. A simple lookup tool for estimating GWL timing\n",
    "4. Using GWL timing tools in a planning workflow\n"
   ]
  },
  {
   "cell_type": "code",
   "execution_count": null,
   "metadata": {},
   "outputs": [],
   "source": [
    "import pandas as pd\n",
    "import numpy as np\n",
    "\n",
    "from climakitae.util.warming_levels import get_gwl_at_year, get_year_at_gwl\n",
    "from climakitaegui.explore.warming import IPCCVisualize\n"
   ]
  },
  {
   "cell_type": "markdown",
   "metadata": {},
   "source": [
    "# 1. Global Warming Levels and the hot model problem"
   ]
  },
  {
   "cell_type": "markdown",
   "metadata": {},
   "source": [
    "The **hot model problem** refers to the fact that several models from the latest generation of the Couple Model Intercomparison Project (CMIP6) are known to have a warming sensitivity to CO2 that is unrealistically high. While these models still produce excellent simulations of the global climate and how it will respond to continued warming, the **timing** of that warming signal is faster than the current scientific consensus. An accessible overview of the issue can be read [here](https://www.carbonbrief.org/guest-post-how-climate-scientists-should-handle-hot-models/).\n",
    "\n",
    "Using a **Global Warming Levels** approach to studying climate change helps avoid the timing bias introduced by hot models in the following way:\n",
    "\n",
    "* We use climate model data on global warming levels to answer the question: \"What will regional impacts from climage change look like at 2.0°C of global warming?\"\n",
    "* We then use a different set of specialized simulations to answer the question: \"When is the world most likely to hit 2.0°C of global warming under different emissions scenarios?\"\n",
    "\n",
    "The specialized models that are used to estimate the most likely warming timelines were developed as part of the IPCC's Sixth Assessment Report (AR6), and combine a variety of observational constraints on climate sensitivity with simplified global climate simulations. A full discussion of the sources included in these estimates can be found in [box 4.1 of the IPCC AR6 report](https://www.ipcc.ch/report/ar6/wg1/chapter/chapter-4/#box-4.1), and the data for these warming trajectories can be found [here](https://data.ceda.ac.uk/badc/ar6_wg1/data/spm/spm_08/v20210809/panel_a).\n",
    "\n",
    "\n",
    "The resulting global warming trajectories can be visualized using this plotting tool:"
   ]
  },
  {
   "cell_type": "code",
   "execution_count": null,
   "metadata": {},
   "outputs": [],
   "source": [
    "gwl_viz = IPCCVisualize()\n",
    "gwl_viz.plot_warming_trajectories()"
   ]
  },
  {
   "cell_type": "markdown",
   "metadata": {},
   "source": [
    "NOTE: The climate scenarios for CMIP6 were defined in 2016, so for the purpose of all of the climate simulations discussed here and used throughout the Analytics Engine, the **\"Historical\" time period is defined as 1950-2014, and the future scenarios run from 2015-2100.**"
   ]
  },
  {
   "cell_type": "markdown",
   "metadata": {},
   "source": [
    "# 2. Visualizing warming levels and IPCC scenario trajectories"
   ]
  },
  {
   "cell_type": "markdown",
   "metadata": {},
   "source": [
    "This visualization tool has a few additional features to help illustate the timing of global warming levels."
   ]
  },
  {
   "cell_type": "code",
   "execution_count": null,
   "metadata": {},
   "outputs": [],
   "source": [
    "gwl_viz.plot_warming_trajectories(ssp='SSP 3-7.0', warming_level=2.0)"
   ]
  },
  {
   "cell_type": "markdown",
   "metadata": {},
   "source": [
    "If an individual SSP  scenario is specified, two additional elements are added to the visualization:\n",
    "\n",
    "* 90% confidence interval -- shown as a shaded area, represents the **very likely** (90% confidence) range of uncertainty around the best estimate for this scenario's warming trajectory.\n",
    "* Best estimate crossing year - indicated by the vertical dashed line, along with the range of possible crossing years corresponding to the 90% confidence interval."
   ]
  },
  {
   "cell_type": "code",
   "execution_count": null,
   "metadata": {},
   "outputs": [],
   "source": [
    "gwl_viz.plot_warming_trajectories(ssp='SSP 2-4.5', warming_level=2.0)"
   ]
  },
  {
   "cell_type": "markdown",
   "metadata": {},
   "source": [
    "Choosing a different scenario for the same warming level illustates how the best estimate for the **crossing year** and the **range of uncertainty** can change depending on the warming scenario."
   ]
  },
  {
   "cell_type": "code",
   "execution_count": null,
   "metadata": {},
   "outputs": [],
   "source": [
    "gwl_viz.plot_warming_trajectories(ssp='SSP 1-2.6', warming_level=2.0)"
   ]
  },
  {
   "cell_type": "markdown",
   "metadata": {},
   "source": [
    "Some warming levels are not reached by every scenario before the end of the century, so no best estimate year can be returned."
   ]
  },
  {
   "cell_type": "markdown",
   "metadata": {},
   "source": [
    "# 3. A simple lookup tool for estimating GWL timing"
   ]
  },
  {
   "cell_type": "markdown",
   "metadata": {},
   "source": [
    "Two functions are available to easily estimate GWL timing using the IPCC's likely warming trajectories without the plotting visualization."
   ]
  },
  {
   "cell_type": "markdown",
   "metadata": {},
   "source": [
    "The ```get_year_at_gwl``` function returns the best estimate for the year a specified GWL is reached for each scenario, along with the years that represent a 90% confidence interval around that estimate, as illustrated above."
   ]
  },
  {
   "cell_type": "code",
   "execution_count": null,
   "metadata": {},
   "outputs": [],
   "source": [
    "get_year_at_gwl(2.0)"
   ]
  },
  {
   "cell_type": "code",
   "execution_count": null,
   "metadata": {},
   "outputs": [],
   "source": [
    "get_year_at_gwl(1.5, ssp='SSP 3-7.0')"
   ]
  },
  {
   "cell_type": "markdown",
   "metadata": {},
   "source": [
    "Warming levels below approximatel 1.2°C are reached in the historical period (before 2015), and only return dates for the historical scenario."
   ]
  },
  {
   "cell_type": "code",
   "execution_count": null,
   "metadata": {},
   "outputs": [],
   "source": [
    "get_year_at_gwl(0.8)"
   ]
  },
  {
   "cell_type": "code",
   "execution_count": null,
   "metadata": {},
   "outputs": [],
   "source": [
    "get_year_at_gwl(1.0, ssp=\"Historical\")"
   ]
  },
  {
   "cell_type": "markdown",
   "metadata": {},
   "source": [
    "Note: Warming levels that fall near the edges of scenario definitions (including the transition between historical and future scenarios in 2015) may return NA values"
   ]
  },
  {
   "cell_type": "markdown",
   "metadata": {},
   "source": [
    "The ```get_gwl_at_year``` function performs a lookup in the opposite direction from the same dataset, finding the *very likely* range of global warming levels for a specified future year and SSP scenario. This can be used to help choose which GWL targets are a good replacement for existing target-years in a planning process."
   ]
  },
  {
   "cell_type": "code",
   "execution_count": null,
   "metadata": {},
   "outputs": [],
   "source": [
    "get_gwl_at_year(2040)"
   ]
  },
  {
   "cell_type": "code",
   "execution_count": null,
   "metadata": {},
   "outputs": [],
   "source": [
    "get_gwl_at_year(2075, 'SSP 3-7.0')"
   ]
  },
  {
   "cell_type": "markdown",
   "metadata": {},
   "source": [
    "# Using GWL timing tools in a planning workflow"
   ]
  },
  {
   "cell_type": "markdown",
   "metadata": {},
   "source": [
    "### Planning arounnd established Global Warming Level targets\n",
    "The process for planning with global warming levels will look something like this:\n",
    "\n",
    "1. Choose one or more target global warming levels\n",
    "2. Use tools in the Analytics Engine to analyze regional climate impacts at each warming level\n",
    "3. Choose an SSP scenario to inform timing estimates for global warming level targets\n",
    "4. Use ```get_year_at_gwl``` to estimate the most likely range of years that the analyzed impacts will be realized\n",
    "\n",
    "Using this process, which starts with specific GWL targets, decisions about which SSP scenario to use for timing estimates can be made and changed independant of the data analysis.\n",
    "\n",
    "\n"
   ]
  },
  {
   "cell_type": "markdown",
   "metadata": {},
   "source": [
    "### Adapting target-year planning to a Global Warming Level Approach\n",
    "\n",
    "If you are adapting a planning process that is based around specific target years to a global warming level framework, the process could look like this:\n",
    "\n",
    "1. Start with a particular target year you would like to plan around (e.g. 2050)\n",
    "2. Choose the SSP emissions scenario(s) you would like to use for estimating the timing of warming\n",
    "3. Use the ```get_gwl_at_year``` tool to determine the most likely range of GWLs that will be reached at your target year\n",
    "4. Use tools in the Analytics Engine to load data at the GWL(s) that correspond with your target year.\n",
    "\n",
    "By analyzing impacts at multiple GWLs that span the likely range from the IPCC trajectories, this analysis can capture a range of uncertainty around the target year.\n",
    "\n",
    "\n",
    "Note: In this planning process, the SSP that is used to translate years into GWLs must be chosen *before* the analysis is performed, and can not be changed afterwards. \n",
    "\n"
   ]
  }
 ],
 "metadata": {
  "kernelspec": {
   "display_name": "pangeo",
   "language": "python",
   "name": "python3"
  },
  "language_info": {
   "codemirror_mode": {
    "name": "ipython",
    "version": 3
   },
   "file_extension": ".py",
   "mimetype": "text/x-python",
   "name": "python",
   "nbconvert_exporter": "python",
   "pygments_lexer": "ipython3",
   "version": "3.12.9"
  }
 },
 "nbformat": 4,
 "nbformat_minor": 2
}
