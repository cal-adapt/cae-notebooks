{
 "cells": [
  {
   "cell_type": "markdown",
   "id": "0892c866-e625-4ed9-a7a3-7437b0c71372",
   "metadata": {},
   "source": [
    "# Cal-Adapt Analytics Engine: Threshold Tools Basics"
   ]
  },
  {
   "cell_type": "markdown",
   "id": "f2f64bdd-38ab-431e-8b6c-85336b3a6495",
   "metadata": {},
   "source": [
    "A notebook on how to use the *climakitae* package and *threshold_tools* to calculate values of interest related to extreme weather events along the following dimensions:\n",
    "- return values (ex., the value of a daily preciptation event that will occur with a 10-year return period or once every 10 years), \n",
    "- return probabilities (ex., the probability of exceeding a 45 Degrees C temperature event), \n",
    "- and return periods (ex., how often, on average, a 150 mm daily preciptation event will occur).\n",
    "\n",
    "The techniques in this notebook come from applications of extreme value theory to climate data. For further reading on this topic, see [Cooley 2009](https://link.springer.com/article/10.1007/s10584-009-9627-x)."
   ]
  },
  {
   "cell_type": "markdown",
   "id": "75e715a2-8aa5-4d1d-8ac1-3819d136136f",
   "metadata": {},
   "source": [
    "## Step 0: Import"
   ]
  },
  {
   "cell_type": "markdown",
   "id": "8c38c4a0-96c7-41ec-b4e5-cc6f35f1b7e7",
   "metadata": {},
   "source": [
    "### Import neccessary packages before running analysis"
   ]
  },
  {
   "cell_type": "code",
   "execution_count": null,
   "id": "06921645",
   "metadata": {},
   "outputs": [],
   "source": [
    "import panel as pn\n",
    "pn.extension()"
   ]
  },
  {
   "cell_type": "code",
   "execution_count": null,
   "id": "1700f497-f85b-4d74-8150-1cfc32a9e4d9",
   "metadata": {
    "tags": []
   },
   "outputs": [],
   "source": [
    "import xarray as xr\n",
    "\n",
    "import climakitae as ck\n",
    "from climakitae import threshold_tools"
   ]
  },
  {
   "cell_type": "markdown",
   "id": "0444b879-9e3c-4ba2-a830-57e36c88a30b",
   "metadata": {},
   "source": [
    "Additionally, get set up to make the computing go faster, by executing the following cell. It may take a minute or two to spin up! Learn more about dask and see some common [troubleshooting tips on our FAQ page](https://analytics.cal-adapt.org/docs/faq/)."
   ]
  },
  {
   "cell_type": "code",
   "execution_count": null,
   "id": "c5fc721f-5043-4e1e-83aa-f71b3be42ee6",
   "metadata": {},
   "outputs": [],
   "source": [
    "from dask_gateway import GatewayCluster\n",
    "cluster = GatewayCluster()\n",
    "cluster.adapt(minimum=0, maximum=16)\n",
    "client = cluster.get_client()\n",
    "cluster"
   ]
  },
  {
   "cell_type": "markdown",
   "id": "49d7b471-cf37-4f74-8d50-b29fd6f5bbc1",
   "metadata": {},
   "source": [
    "## Step 1: Select"
   ]
  },
  {
   "cell_type": "markdown",
   "id": "ea90980b-aa82-442b-9e1e-ec809bde86c9",
   "metadata": {},
   "source": [
    "### Load a new application and call *select* to display interface from which to choose location, variables, scenarios, and designate warming levels of interest"
   ]
  },
  {
   "cell_type": "code",
   "execution_count": null,
   "id": "8afd4668-4e0e-4386-9b91-39feb323d866",
   "metadata": {},
   "outputs": [],
   "source": [
    "app = ck.Application()"
   ]
  },
  {
   "cell_type": "markdown",
   "id": "53dc6528-c111-480b-b014-dbffb11549c7",
   "metadata": {
    "tags": []
   },
   "source": [
    "### Call *select* to display an interface from which to select the data to examine"
   ]
  },
  {
   "cell_type": "markdown",
   "id": "53bd3073-285a-492d-b914-3919559cfaa3",
   "metadata": {},
   "source": [
    "For this example, please select an area or region of interest without the \"Area average\" option.\n",
    "\n",
    "Note:\n",
    "- This version only offers the dynamically-downscaled data.\n",
    "- To streamline later analysis, it's helpful to select just one scenario.\n",
    "\n",
    "To learn more about the data available on the Analytics Engine, [see our data catalog](https://analytics.cal-adapt.org/data/). "
   ]
  },
  {
   "cell_type": "code",
   "execution_count": null,
   "id": "1fff8052-489f-4182-8dee-c165fd1b53a6",
   "metadata": {
    "tags": []
   },
   "outputs": [],
   "source": [
    "app.select()"
   ]
  },
  {
   "cell_type": "markdown",
   "id": "aa0850bb-5ae1-47da-b228-ba6651438d4e",
   "metadata": {},
   "source": [
    "## Step 2: Retrieve"
   ]
  },
  {
   "cell_type": "markdown",
   "id": "7adfed16-8786-4d0e-a577-088fc70c5aff",
   "metadata": {},
   "source": [
    "### Call *app.retrieve()* to load the subset/combo of data specified"
   ]
  },
  {
   "cell_type": "code",
   "execution_count": null,
   "id": "5c0a0be4-c09f-4e56-8edc-d47eacfa539c",
   "metadata": {
    "scrolled": true,
    "tags": []
   },
   "outputs": [],
   "source": [
    "generated_data = app.retrieve()"
   ]
  },
  {
   "cell_type": "markdown",
   "id": "6021719d-ddc9-43bb-a4ee-ce5de5c1299c",
   "metadata": {},
   "source": [
    "Note: You can preview the data in the retrieved, aggregated dataset when this is complete. It may take several minutes."
   ]
  },
  {
   "cell_type": "code",
   "execution_count": null,
   "id": "a83e3d37-6d65-45c9-b137-08a4c2e07218",
   "metadata": {},
   "outputs": [],
   "source": [
    "generated_data"
   ]
  },
  {
   "cell_type": "markdown",
   "id": "4d505537-5ebe-4004-9113-12e02c447be6",
   "metadata": {},
   "source": [
    "### Subset data by scenario and simulation to prepare it for *threshold_tools* functions"
   ]
  },
  {
   "cell_type": "markdown",
   "id": "04dd2528-7b54-4f38-adaf-4ee4cdb8f57c",
   "metadata": {},
   "source": [
    "Replace *scenario=* and *simulation=* with the particular selections that are present in your generated data"
   ]
  },
  {
   "cell_type": "code",
   "execution_count": null,
   "id": "d687a334-28b1-4281-a4b6-2d0190daec48",
   "metadata": {},
   "outputs": [],
   "source": [
    "subsetted_data = generated_data.sel(scenario='Historical Climate').sel(simulation='cnrm-esm2-1')\n",
    "subsetted_data"
   ]
  },
  {
   "cell_type": "markdown",
   "id": "92cc3aaa-fc19-4743-b6d3-a6b1454b1236",
   "metadata": {
    "tags": []
   },
   "source": [
    "## Step 3: Transform"
   ]
  },
  {
   "cell_type": "markdown",
   "id": "2efcbeb2-d4d8-4756-8ab0-050ae79aa75f",
   "metadata": {},
   "source": [
    "### Pull Annual Maximum Series (AMS) for all grid cells"
   ]
  },
  {
   "cell_type": "markdown",
   "id": "fd019335-b8f9-45ea-938f-34d5619a5853",
   "metadata": {},
   "source": [
    "This is the first step of extreme value analysis -- identifying what conditions are extreme. In this example, we default to considering each annual maximum value as a sample of an extreme event. Here, extreme events are evaluated using the annual block maxima approach, which determines the maximum value within a given block period (year). This approach is limited in that it excludes extreme events (that may be more extreme than maxima in subsequent years) when multiple extremes occur in a single year by returning only the maximum. Please consider this when using these tools for California in cases such as atmospheric river events and evaluating wet and dry years.\n",
    "\n",
    "Future approaches will include the option to specify a threshold (i.e. critical value for infrastructure or high percentile) as the basis for identifying extremes.\n",
    "\n",
    "After pulling the AMS, run *.compute()* to bring down the data to an appropriate size for later computations.\n",
    "\n",
    "Note: Running *.compute()* may take several minutes."
   ]
  },
  {
   "cell_type": "code",
   "execution_count": null,
   "id": "b3795d8a-adc0-486e-94ac-2b4caf5b8a4b",
   "metadata": {},
   "outputs": [],
   "source": [
    "ams = threshold_tools.get_ams(subsetted_data, extremes_type='max')\n",
    "ams = ams.compute()\n",
    "ams"
   ]
  },
  {
   "cell_type": "markdown",
   "id": "2ac7f323-ab33-4d7b-ad70-3cf3383a078f",
   "metadata": {},
   "source": [
    "### Calculate goodness of fit of selected distribution"
   ]
  },
  {
   "cell_type": "markdown",
   "id": "570adf4a-c1d3-4a5a-82fa-77027b401cfb",
   "metadata": {},
   "source": [
    "The KS test for goodness of fit can be used to compare a sample data with a reference probability distribution. It can be useful to understand the goodness of fit between the distribution and sample.\n",
    "\n",
    "Note: You can input the following distributions in *threshold_tools* functions that have a *distr=* argument:\n",
    "- gev: Generalized extreme value distribution - allows for a continuous range of different shapes, and will reduce to the Gumbel, Weibull, and Generalized Pareto distributions under different conditions. The GEV may generally provide a better fit than the three individual distributions, and is a common approach in hydrological applications.\n",
    "- gumbel: Range of interest is unlimited\n",
    "- weibull: Range of interest has an upper limit\n",
    "- pearson3: Range of interest has a lower limit\n",
    "- genpareto: This distribution is often used in application for river flood events and suggested to be of a good general fit for precipitation in the United States."
   ]
  },
  {
   "cell_type": "code",
   "execution_count": null,
   "id": "e3eff081-3555-43fe-9b93-ad5c9ae32d7a",
   "metadata": {},
   "outputs": [],
   "source": [
    "goodness_of_fit = threshold_tools.get_ks_stat(ams, distr='gev', multiple_points=True)\n",
    "goodness_of_fit"
   ]
  },
  {
   "cell_type": "markdown",
   "id": "5ab6c1af-24fb-470b-97a7-f3b355a18874",
   "metadata": {},
   "source": [
    "### Calculate return value for a selected return period"
   ]
  },
  {
   "cell_type": "markdown",
   "id": "9e194972-94d1-4ed8-bcf9-59735a867a1e",
   "metadata": {},
   "source": [
    "Evaluate the return value for a particular return period (i.e., 1-in-X-year event). Specify the return period of interest, in years, by changing the *return_period=*. In the example, we evaluate the return value for a 1-in-10-year temperature event.\n",
    "\n",
    "Note: *bootstrap_runs*, *conf_int_lower_bound*, and *conf_int_upper_bound* arguments are set to the default values listed below and hence don't always need to be explicitly specified or called."
   ]
  },
  {
   "cell_type": "code",
   "execution_count": null,
   "id": "4c0cd847-1a20-4abc-a1b8-a84e7e1debe1",
   "metadata": {},
   "outputs": [],
   "source": [
    "return_value = threshold_tools.get_return_value(ams, return_period=10, distr='gev', \n",
    "                                                bootstrap_runs=100, \n",
    "                                                conf_int_lower_bound=2.5, \n",
    "                                                conf_int_upper_bound=97.5, \n",
    "                                                multiple_points=True)\n",
    "return_value"
   ]
  },
  {
   "cell_type": "markdown",
   "id": "61e8fd0d-25f4-4dfa-914b-00ae70acaf5a",
   "metadata": {},
   "source": [
    "### Calculate return probability for a selected threshold"
   ]
  },
  {
   "cell_type": "markdown",
   "id": "06d767b1-9901-4e49-b124-b1dc2fbf4365",
   "metadata": {},
   "source": [
    "Evaluate the probability of a certain threshold being exceeded by setting *threshold=* to the value of interest. In the example, we evaluate the probability of exceeding a 300 K temperature event.\n",
    "\n",
    "Note: The *threshold=* input needs to be in equivalent units to those of the variable in the AMS.\n",
    "\n",
    "Note: *bootstrap_runs*, *conf_int_lower_bound*, and *conf_int_upper_bound* arguments are not explicity specified and therefore are set to the following default values: *bootstrap_runs=100*, *conf_int_lower_bound=2.5*, and *conf_int_upper_bound=97.5*."
   ]
  },
  {
   "cell_type": "code",
   "execution_count": null,
   "id": "a65eb953-e638-4328-9268-89578770e3d3",
   "metadata": {},
   "outputs": [],
   "source": [
    "return_prob = threshold_tools.get_return_prob(ams, threshold=300, distr='pearson3', multiple_points=True)\n",
    "return_prob"
   ]
  },
  {
   "cell_type": "markdown",
   "id": "7a71a999-18fb-441f-b458-b873891faf64",
   "metadata": {},
   "source": [
    "### Calculate return period for a selected return value"
   ]
  },
  {
   "cell_type": "markdown",
   "id": "cdf354d2-713c-4018-a927-7c806e648539",
   "metadata": {},
   "source": [
    "Evaluate the return period (i.e., 1-in-X-year) for a certain return value of interest. In this example, we evaluate the return period of a 300 K return value.\n",
    "\n",
    "Note: The return value will have units equivalent to those of the variable in the AMS.\n",
    "\n",
    "Note: *bootstrap_runs*, *conf_int_lower_bound*, and *conf_int_upper_bound* arguments are not explicity specified and therefore are set to the following default values: *bootstrap_runs=100*, *conf_int_lower_bound=2.5*, and *conf_int_upper_bound=97.5*."
   ]
  },
  {
   "cell_type": "code",
   "execution_count": null,
   "id": "9233d090-f8b3-4274-b091-1cef479ffe38",
   "metadata": {},
   "outputs": [],
   "source": [
    "return_period = threshold_tools.get_return_period(ams, return_value=300, distr='weibull', multiple_points=True)\n",
    "return_period"
   ]
  },
  {
   "cell_type": "markdown",
   "id": "cd12d449-7a22-4533-8c9f-0cd65f3ee2f7",
   "metadata": {},
   "source": [
    "## Step 4: Visualize"
   ]
  },
  {
   "cell_type": "markdown",
   "id": "94a24f65-6eba-44d3-8366-220a28f04eff",
   "metadata": {},
   "source": [
    "### Visualize goodness of fit of distribution"
   ]
  },
  {
   "cell_type": "markdown",
   "id": "ff96b922-711a-49ec-8566-3a3c4500a939",
   "metadata": {},
   "source": [
    "Observe a geospatial map of p-values from the KS test."
   ]
  },
  {
   "cell_type": "code",
   "execution_count": null,
   "id": "6b9a7db3-34de-44fa-93b0-04f38b39dba6",
   "metadata": {},
   "outputs": [],
   "source": [
    "threshold_tools.get_geospatial_plot(goodness_of_fit, data_variable='p_value')"
   ]
  },
  {
   "cell_type": "markdown",
   "id": "808801af-932a-43d4-9e24-7efa36f884df",
   "metadata": {},
   "source": [
    "### Visualize return value"
   ]
  },
  {
   "cell_type": "markdown",
   "id": "042212f2-09ec-45be-8d97-4c5526482acc",
   "metadata": {},
   "source": [
    "Observe a geospatial map of return values for selected return period."
   ]
  },
  {
   "cell_type": "code",
   "execution_count": null,
   "id": "e6daf6f5-52d5-48da-b2a6-99cef16bdf0d",
   "metadata": {},
   "outputs": [],
   "source": [
    "threshold_tools.get_geospatial_plot(return_value, data_variable='return_value')"
   ]
  },
  {
   "cell_type": "markdown",
   "id": "b49e0227-d97d-4f95-b82b-bbd2cc30ea82",
   "metadata": {},
   "source": [
    "### Visualize return probability"
   ]
  },
  {
   "cell_type": "markdown",
   "id": "2bb4e1e7-33f0-44c7-8bed-2537e30e0cd6",
   "metadata": {},
   "source": [
    "Observe a geospatial map of return probabilities of exceedance for selected threshold."
   ]
  },
  {
   "cell_type": "code",
   "execution_count": null,
   "id": "62c71b4c-9627-44c8-83b1-d49fb3050fb7",
   "metadata": {},
   "outputs": [],
   "source": [
    "threshold_tools.get_geospatial_plot(return_prob, data_variable='return_prob')"
   ]
  },
  {
   "cell_type": "markdown",
   "id": "251f4a84-25f2-453e-80ba-3ecc1916fbca",
   "metadata": {},
   "source": [
    "### Visualize return period"
   ]
  },
  {
   "cell_type": "markdown",
   "id": "5a7702ce-7bdb-4792-8592-8d58441c7623",
   "metadata": {},
   "source": [
    "Observe a geospatial map of return periods for selected return value."
   ]
  },
  {
   "cell_type": "code",
   "execution_count": null,
   "id": "968a2715-a854-4fe2-b3b5-92f724f9f86d",
   "metadata": {},
   "outputs": [],
   "source": [
    "threshold_tools.get_geospatial_plot(return_period, data_variable='return_period', bar_max=1000)"
   ]
  },
  {
   "cell_type": "markdown",
   "id": "b9688a2a-e72b-4239-b8fb-56ae8080bdc5",
   "metadata": {},
   "source": [
    "## Step 5: Export\n",
    "\n",
    "To export the threshold tools variables, we recommend NetCDF file format, which will work with any number of variables and dimensions in your dataset. "
   ]
  },
  {
   "cell_type": "code",
   "execution_count": null,
   "id": "eca5edd7-acee-427b-a4a5-e74fb425d7a0",
   "metadata": {},
   "outputs": [],
   "source": [
    "app.export_as()"
   ]
  },
  {
   "cell_type": "markdown",
   "id": "4cb3a817-9313-49d0-9fac-ae4810f63110",
   "metadata": {},
   "source": [
    "Next, write in the object you wish to export and your desired filename (in single or double quotation marks)."
   ]
  },
  {
   "cell_type": "code",
   "execution_count": null,
   "id": "3211a176-e026-463c-b479-05b8b735bf9d",
   "metadata": {},
   "outputs": [],
   "source": [
    "app.export_dataset(return_period, 'my_filename')"
   ]
  },
  {
   "cell_type": "markdown",
   "id": "087c0d3d-e96d-4134-b37f-7c90db035154",
   "metadata": {},
   "source": [
    "If you would like to save data as a GeoTIFF or CSV file and the dataset contains scenarios or simulations, additionally provide arguments specifying the scenario (scenario=”historical”) and the simulation (simulation=”cesm2”).\n",
    "- CSV and GeoTIFF can only be used for data arrays with one variable\n",
    "- CSV works best for up to 2-dimensional data (e.g., lon x lat), and will be compressed and exported with a separate metadata file\n",
    "- GeoTIFF can accept 3 dimensions total:\n",
    "    - X and Y dimensions are required\n",
    "    - The third dimension is flexible and will be a \"band\" in the file: time, simulation, or scenario could go here\n",
    "    - Metadata will be accessible as \"tags\" in the .tif\n",
    "    \n",
    "To export as a GeoTIFF or CSV file, please susbet the data with your desired variable first, then select either CSV or GeoTIFF as your format (NetCDF will also work):"
   ]
  },
  {
   "cell_type": "code",
   "execution_count": null,
   "id": "c042aac6-980e-4b66-b3b0-eaa2f9179e7a",
   "metadata": {},
   "outputs": [],
   "source": [
    "return_period_variable = return_period['return_period']"
   ]
  },
  {
   "cell_type": "code",
   "execution_count": null,
   "id": "ebccea83-07bf-41d6-b263-9aa137861b3f",
   "metadata": {},
   "outputs": [],
   "source": [
    "app.export_as()"
   ]
  },
  {
   "cell_type": "code",
   "execution_count": null,
   "id": "f7662a3c-be83-41d7-b65f-1ce968fc99d1",
   "metadata": {},
   "outputs": [],
   "source": [
    "app.export_dataset(return_period_variable, 'my_filename')"
   ]
  },
  {
   "cell_type": "markdown",
   "id": "b57e04f1-c3eb-40dd-806f-06e2e86b5c05",
   "metadata": {},
   "source": [
    "Lastly, when you are done, close your cluster resources to free them up for the next time you work. "
   ]
  },
  {
   "cell_type": "code",
   "execution_count": null,
   "id": "e23c484c-b1c8-444f-875c-55296dfca12d",
   "metadata": {},
   "outputs": [],
   "source": [
    "cluster.close()"
   ]
  }
 ],
 "metadata": {
  "kernelspec": {
   "display_name": "Python 3 (ipykernel)",
   "language": "python",
   "name": "python3"
  },
  "language_info": {
   "codemirror_mode": {
    "name": "ipython",
    "version": 3
   },
   "file_extension": ".py",
   "mimetype": "text/x-python",
   "name": "python",
   "nbconvert_exporter": "python",
   "pygments_lexer": "ipython3",
   "version": "3.9.7"
  }
 },
 "nbformat": 4,
 "nbformat_minor": 5
}
