{
 "cells": [
  {
   "cell_type": "markdown",
   "id": "49898327-28b8-4118-b034-d20529fe8418",
   "metadata": {},
   "source": [
    "# Determining an Average Meteorological Year"
   ]
  },
  {
   "cell_type": "markdown",
   "id": "c3623eb5-ced0-452a-bf14-efd4ab4e66ff",
   "metadata": {},
   "source": [
    "This notebook calculates an hourly time series for an average meteorological year (AMY) for a given location, representing the mean weather conditions for a one-year period. This was designed to provide a similar product to a [Typical Meteorological Year](https://nsrdb.nrel.gov/data-sets/tmy), an hourly dataset used for applications in energy and building systems modeling. Because this represents average rather than extreme conditions, an AMY dataset is not suited for designing systems to meet the worst-case conditions occurring at a location.\n",
    "\n",
    "In the Cal-Adapt: Analytics Engine, there are three options for investigating AMY:  \n",
    "1. Absolute AMY: represents the historical reference period (1981-2010) or a future reference period based around a 30-year warming level time window. **Note: Absolute AMY data and display is not bias corrected, and should be used for visual data inspection only.**\n",
    "2. Difference AMY: represents the difference between a designated future 30-year period and the historical baseline (1981-2010)\n",
    "3. Severe meteorological year: represents the difference between the 90th percentile for a designated future 30-year period and the historical baseline (1981-2010)\n",
    "\n",
    "\n",
    "**Intended Application**: As a user, I want to **<span style=\"color:#FF0000\">analyze the average weather conditions</span>** of a region of interest by:\n",
    "1. Computing the average weather conditions\n",
    "2. Visualize average conditions throughout the year in a heatmap\n",
    "\n",
    "**Note**: An update on the AMY methodology to be more consistent with the *Typical Meteorological Year* method is forthcoming, and will eventually replace the AMY calculation. For progress, check out `amy_to_tmy.ipynb` notebook!\n",
    "\n",
    "**Runtime**: With the default settings, this notebook takes approximately **5 minutes** to run from start to finish. Modifications to selections may increase the runtime."
   ]
  },
  {
   "cell_type": "markdown",
   "id": "07c0eb87-5be0-4447-8c02-722dc6476412",
   "metadata": {},
   "source": [
    "## Step 0: Setup"
   ]
  },
  {
   "cell_type": "markdown",
   "id": "f4dab5f1-134e-4371-b848-522c37aac44f",
   "metadata": {},
   "source": [
    "Import the [climakitae](https://github.com/cal-adapt/climakitae) library and other dependencies."
   ]
  },
  {
   "cell_type": "code",
   "execution_count": null,
   "id": "ec5f30ad-f9f7-475e-b1bb-d76339c51203",
   "metadata": {
    "tags": []
   },
   "outputs": [],
   "source": [
    "%config InlineBackend.figure_format = 'svg' # Make plots look better in the notebook environment \n",
    "\n",
    "from climakitaegui.explore.amy import lineplot_from_amy_data\n",
    "from climakitae.explore.amy import compute_amy, compute_severe_yr\n",
    "\n",
    "import climakitae as ck\n",
    "import climakitaegui as ckg\n",
    "import pandas as pd"
   ]
  },
  {
   "cell_type": "markdown",
   "id": "2b98d0b8-453f-4ab4-9139-ffbd42c4bd53",
   "metadata": {},
   "source": [
    "## Step 1: Explore the Average Meteorological Year"
   ]
  },
  {
   "cell_type": "markdown",
   "id": "0a62fb56-002b-49d0-b7ad-4c46ce727a6d",
   "metadata": {},
   "source": [
    "The below panel can be used to explore an AMY for a particular variable and geographic area of interest during the historical period, as well as comparisons to an AMY under future conditions at different global warming levels (for more information about warming levels, see the `explore_warming.ipynb` notebook). \n",
    "\n",
    "The absolute AMY for a given 30-year period (either the historical period 1981-2010, or a thirty year window centered on where each GCM simulation reaches the specified global warming level) is calculated by identifying for each hour the hourly value that is closest to the mean hourly value across all years to produce a full annual timeseries of hourly data for a variable of interest that best represents the average conditions.\n",
    "\n",
    "An absolute AMY for the historical period can then be compared to an AMY under different warming levels, and the difference in hourly values of a given variable for an AMY under historical conditions and future conditions can be plotted using the \"Difference\" button.\n",
    "\n",
    "The resulting heatmap of AMY values for a full annual timeseries is then plotted, with day of year 1 being January 1st and hour of day given in Pacific Standard Time. A static version of the plot can be saved by using the save button in the lower right of the plot window.\n",
    "\n",
    "To learn more about the data available on the Analytics Engine, [see our data catalog](https://analytics.cal-adapt.org/data/). "
   ]
  },
  {
   "cell_type": "markdown",
   "id": "77f451da-502e-4bef-92f9-c276a316c3bb",
   "metadata": {},
   "source": [
    "<span style=\"color:#FF0000\">\n",
    "\n",
    "**Note:** Once you have selected the options you would like to investigate, please select the \"Reload Data\" button. It will take 2-4 minutes to update, hang tight!"
   ]
  },
  {
   "cell_type": "code",
   "execution_count": null,
   "id": "dbd6df3d-1705-4787-a8eb-cfae966d2e2a",
   "metadata": {
    "tags": []
   },
   "outputs": [],
   "source": [
    "from climakitaegui.explore import amy\n",
    "\n",
    "amy = amy()\n",
    "amy.show()"
   ]
  },
  {
   "cell_type": "markdown",
   "id": "816305e2-d9bf-4b7f-b7eb-a65df33f248c",
   "metadata": {},
   "source": [
    "## Step 2: Application"
   ]
  },
  {
   "cell_type": "markdown",
   "id": "2ecd8fcd-5fe1-45d7-b837-7d3c84f2bd6c",
   "metadata": {},
   "source": [
    "Examining a particular month within the Average Meteorological Year can provide hourly information that could inform energy usage analysis. For example, a warm season month can be used to examine cooling demand; while a cold season month can be used for exploring heating demand change under future climate conditions.\n",
    "\n",
    "To analyze a specific month, we'll retrieve some of the absolute AMY data of interest shown above. Please select in the explore panel above 'Absolute' as your AMY Type, and either 'Historical' or 'Warming Level Future' with a warming level of your choosing. A progress bar is provided when running the cell below, as this step may take a little while. "
   ]
  },
  {
   "cell_type": "markdown",
   "id": "aa3feebd-27e1-4ead-bd31-246a7f4bd70a",
   "metadata": {},
   "source": [
    "#### Retrieve and display the data\n",
    "First, we'll read in the data from the catalog and simplify the dataset by reducing the simulation and scenario dimensions."
   ]
  },
  {
   "cell_type": "code",
   "execution_count": null,
   "id": "601570c9-96a4-4340-a0cd-e2dff990d87f",
   "metadata": {},
   "outputs": [],
   "source": [
    "my_data = amy.retrieve() \n",
    "my_data = my_data.isel(simulation=0, scenario=0) \n",
    "display(my_data)"
   ]
  },
  {
   "cell_type": "markdown",
   "id": "fa72b241-031a-478a-a2a0-360e953e32fb",
   "metadata": {},
   "source": [
    "#### Read the raw hourly data into memory \n",
    "First we read in the raw data that will be used to compute AMY in the next step. This step may take a while because the hourly data is quite large."
   ]
  },
  {
   "cell_type": "code",
   "execution_count": null,
   "id": "51c778cb-2fad-480b-885b-0a709cc477dc",
   "metadata": {},
   "outputs": [],
   "source": [
    "my_data = ck.load(my_data) "
   ]
  },
  {
   "cell_type": "markdown",
   "id": "f9b8921b-729a-4e8f-a7ac-0c942cab5e1d",
   "metadata": {},
   "source": [
    "#### Use the gridded data to compute the Average Meteorological Year\n",
    "We can easily do this using the *climakitae* function `compute_amy`, which is also used under the hood in the panel generated by amy(). This step may take a while as well (approx 1-2 minutes)."
   ]
  },
  {
   "cell_type": "code",
   "execution_count": null,
   "id": "de48034b-61f9-4d4b-b962-42ecca96cb57",
   "metadata": {
    "tags": []
   },
   "outputs": [],
   "source": [
    "amy_data = compute_amy(my_data)\n",
    "display(amy_data)"
   ]
  },
  {
   "cell_type": "markdown",
   "id": "62175df4-a588-4a59-84b3-8b0b538ddca1",
   "metadata": {
    "tags": []
   },
   "source": [
    "#### Visualize one month from the Average Meteorological Year \n",
    "First, we'll subset the dataframe to grab data for the month of January. You can change the month easily by changing the variable `month`; just make sure the value you is the shortened version of the month (i.e. \"Jan\" instead of \"January\") so that the code can find the substring in the `amy_data` object. "
   ]
  },
  {
   "cell_type": "code",
   "execution_count": null,
   "id": "eacc7507-0588-472d-9082-939d1224283d",
   "metadata": {
    "tags": []
   },
   "outputs": [],
   "source": [
    "month = 'Jan'\n",
    "one_month = amy_data[amy_data.index.str.match(month)] # Subset data for just one month "
   ]
  },
  {
   "cell_type": "markdown",
   "id": "b0bdfd11-1704-4357-b1db-8cc1bc67c94a",
   "metadata": {},
   "source": [
    "Next, we'll use the *climakitae* function `lineplot_from_amy_data` to generate a lineplot of our final data. We'll use information about the user inputs to add a descriptive title to the lineplot. "
   ]
  },
  {
   "cell_type": "code",
   "execution_count": null,
   "id": "03c63d96-8c61-4e04-93d5-e96ba1cb3e10",
   "metadata": {
    "tags": []
   },
   "outputs": [],
   "source": [
    "lineplot_from_amy_data(\n",
    "    one_month, \n",
    "    computation_method=amy.computation_method, # Historical or Warming Level Future  \n",
    "    location_subset=amy.cached_area[0], # Location subset information \n",
    "    warmlevel=amy.warmlevel, # Warming level selection \n",
    "    variable=amy.variable+\"(\"+amy.units+\")\" # Variable and units selected. \n",
    ")"
   ]
  },
  {
   "cell_type": "markdown",
   "id": "4c5e189a-2b93-4153-a41f-5df46b0a800e",
   "metadata": {},
   "source": [
    "#### Use the gridded data to compute the Severe Meteorological Year\n",
    "\n",
    "We can also calculate the 90th percentile of data using the *climakitae* function `compute_severe_yr()`. This step may take a while as well (approx 1-2 minutes)."
   ]
  },
  {
   "cell_type": "code",
   "execution_count": null,
   "id": "47532c1e-046d-46c5-9913-e2c39a306437",
   "metadata": {
    "tags": []
   },
   "outputs": [],
   "source": [
    "severe_data = compute_severe_yr(my_data)\n",
    "display(severe_data)"
   ]
  },
  {
   "cell_type": "markdown",
   "id": "930291dc-f097-4d64-bbad-65a4f81f20a3",
   "metadata": {},
   "source": [
    "## Step 3: Export data"
   ]
  },
  {
   "cell_type": "markdown",
   "id": "0d51edfd-0895-4a61-a0c8-c6adee39c1b9",
   "metadata": {},
   "source": [
    "To export the Average Meteorological Year data, use the following code. Likewise, you can also export the Severe Meteorological Year by exporting the 'severe_data' variable instead of 'amy_data'."
   ]
  },
  {
   "cell_type": "code",
   "execution_count": null,
   "id": "50743b0c-4106-423d-858a-f7791974b3ee",
   "metadata": {
    "tags": []
   },
   "outputs": [],
   "source": [
    "amy_data.to_csv('my_filename' + '.csv')"
   ]
  },
  {
   "cell_type": "markdown",
   "id": "ef6b147c-ad5f-41ea-89f0-4ff5aca9a9f7",
   "metadata": {},
   "source": [
    "To export other data, call `export` and input your desired\n",
    "1) data to export – an [xarray DataArray or Dataset](https://docs.xarray.dev/en/stable/user-guide/data-structures.html), as output by e.g. amy.retrieve()\n",
    "2) output file name (without file extension)\n",
    "3) file format (\"NetCDF\" or \"CSV\")\n",
    "\n",
    "To learn more about the file format options, see [getting_started.ipynb](getting_started.ipynb)."
   ]
  },
  {
   "cell_type": "markdown",
   "id": "9d6ba840-a1d2-49e9-aa3b-0eaf76034b16",
   "metadata": {},
   "source": [
    "As an example, the following code exports the data that is used to calculate the Average Meteorological Year (not the AMY result) to a NetCDF file named \"my_filename\"."
   ]
  },
  {
   "cell_type": "code",
   "execution_count": null,
   "id": "9e20abd3-bde3-4896-b10a-52063ceac085",
   "metadata": {
    "tags": []
   },
   "outputs": [],
   "source": [
    "ck.export(my_data, \"my_filename\", \"NetCDF\")"
   ]
  }
 ],
 "metadata": {
  "kernelspec": {
   "display_name": "Python 3 (ipykernel)",
   "language": "python",
   "name": "python3"
  },
  "language_info": {
   "codemirror_mode": {
    "name": "ipython",
    "version": 3
   },
   "file_extension": ".py",
   "mimetype": "text/x-python",
   "name": "python",
   "nbconvert_exporter": "python",
   "pygments_lexer": "ipython3",
   "version": "3.9.13"
  }
 },
 "nbformat": 4,
 "nbformat_minor": 5
}
