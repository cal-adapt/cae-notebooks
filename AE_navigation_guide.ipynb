{
 "cells": [
  {
   "cell_type": "markdown",
   "id": "2761f194-012c-4a1d-947c-e06ca0827d37",
   "metadata": {},
   "source": [
    "# Cal-Adapt: Analytics Engine Navigation Guide"
   ]
  },
  {
   "cell_type": "markdown",
   "id": "a1a0d94d-d313-42cf-b45a-0dd31953daf8",
   "metadata": {},
   "source": [
    "Welcome to the [Cal-Adapt: Analytics Engine](https://analytics.cal-adapt.org/about/) JupyterHub! Here, you can access tools and guidance to explore and analyze climate projections data downscaled for California. \n",
    "\n",
    "If you are new to working with Jupyter Notebooks, check out our [video tutorial](https://www.youtube.com/watch?v=eEo9V_OJw9w) or review Jupyter's [introductory documentation](https://jupyter.org/try-jupyter/retro/notebooks/?path=notebooks/Intro.ipynb). You can also review our [technical documentation](https://climakitae.readthedocs.io/en/latest/) to learn more about the open source python library that powers these notebooks, `climakitae`.\n",
    "\n",
    "Each link below will open up a Jupyter notebook that will step through: \n",
    "1) Selecting climate data you are interested in\n",
    "2) Transforming the data or conducting an analysis\n",
    "3) Exporting data or visualizations\n",
    "\n",
    "You can also access these notebooks through the file directory on the left side of the screen. These notebook files will automatically update to reflect our latest development, so we suggest creating a copy of the file if you want to change or insert your own code. In addition, your copies of notebooks will persist in your personal file directory between sessions. Each notebook is flexibly designed so that users can follow existing analyses informed by best practices in climate science and build on or modify these analyses to meet their own specific needs."
   ]
  },
  {
   "cell_type": "markdown",
   "id": "65d883b8-4f4d-4bc9-bf5f-7ecf1363a36a",
   "metadata": {
    "tags": []
   },
   "source": [
    "### Accessing data and getting started with the Analytics Engine\n",
    "-------------------------------------------------------------------\n",
    "[getting_started.ipynb](getting_started.ipynb): Introduction to retrieving, visualizing, and exporting climate data using python and the Analytics Engine. This notebook features an interactive graphical user interface (GUI) that makes viewing the available data options simple and intuitive. <br>*For example: What data is available on the Analytics Engine?*\n",
    "\n",
    "[climakitae_direct_data_download.ipynb](climakitae_direct_data_download.ipynb): Overview to accessing and exporting climate data from the AE catalog using helper functions in `climakitae`. These functions enable you to perform spatial subsetting when downloading the data using `climakitae`'s many geometry options, such as county, state, or watershed. <br>*For example: What are the Analytic Engine's command line options for viewing data options, downloading climate data, and performing spatial subsetting without using a GUI?*\n",
    "\n",
    "[intake_direct_data_download.ipynb](intake_direct_data_download.ipynb): Overview to accessing and exporting climate data from the AE catalog using the python library `intake`.<br>*For example: How do I download raw climate data directly from the catalog without using climakitae or a GUI?*\n",
    "\n",
    "### Exploratory Notebooks\n",
    "------------------------------------------\n",
    "[internal_variability.ipynb](exploratory/internal_variability.ipynb): Explore uncertainty within climate models due to internal variability in the climate system, using projected changes in extreme precipitation across different climate model simulations.<br>*For example: When should I pool observations across different global climate models to study extreme events?*\n",
    "\n",
    "[model_uncertainty.ipynb](exploratory/model_uncertainty.ipynb): Explore uncertainty across climate models, using projected variations in air temperature trends across different climate model simulations.<br>*For example: When is it appropriate to take a mean across different global climate models?*\n",
    "\n",
    "[climate_data_comparisons.ipynb](exploratory/climate_data_comparisons): Explore how to compare datasets across the historical period, using observations, reanalysis, and model output.<br>*For example: How do I compare historical precipitation between a weather station and climate model?*\n",
    "\n",
    "### Tool Notebooks\n",
    "---------------------------------\n",
    "#### Extreme Weather Events \n",
    "[threshold_exceedance.ipynb](tools/threshold_exceedance.ipynb): Perform calculations and explore visualizations of threshold exceedance events using an interactive graphical user interface (GUI). An extension of the topics introduced in threshold_basics.<br>*For example: How will the frequency of an event where temperatures are above 110°F for at least 5 hours in LA County change between now and end of century?* \n",
    "\n",
    "[threshold_event_types.ipynb](tools/threshold_event_types.ipynb): Define different types of extreme events and explore their likelihood of occurence using extreme value theory.<br>*For example: What is the return period (expected frequency of occurence) of an extreme heat event in Sacramento County that reaches at least 100 degrees for 3 days in a row?*\n",
    "\n",
    "#### Other Science Applications\n",
    "[warming_levels.ipynb](tools/warming_levels.ipynb): Explore the concept of Global Warming Levels, which can be used to compare possible climate outcomes across multiple scenarios or model simulations.<br>*For example: How will average maximum temperatures in the Bay Area change when the world reaches 2°C of global warming?*\n",
    "\n",
    "[average_meteorological_year.ipynb](tools/average_meteorological_year.ipynb): Explore the concept and applications of an Average Meteorological Year to represent the mean climatological conditions over one year of hourly data.<br>*For example: What will an average year of hourly temperature data look like in a 2°C warmer world?*\n",
    "\n",
    "[timeseries_tranformations.ipynb](tools/timeseries_transformations.ipynb): Explore data transformation and analysis options for working with climate timeseries data using a graphical user interface (GUI).<br>*For example: How will the 90th percentile of daily temperature values change in mid-century compared to the historical baseline?*\n",
    "\n",
    "### Collaborative Notebooks\n",
    "-------------------------------------\n",
    "#### Demand Forecast Unit\n",
    "[annual_consumption_model.ipynb](collaborative/DFU/annual_consumption_model.ipynb): Perform calculations and explore visualizations of generated weather and climate information for an annual consumption model by producing heating and cooling degree days.<br>*For example: How will heating degree days in Sacramento change by mid-century?*\n",
    "\n",
    "[localization_methodology.ipynb](collaborative/DFU/localization_methodology.ipynb): Introduction to the localization method for examining climate projections at a location.<br>*For example: How does localization of global climate models to a weather station work?*\n",
    "\n",
    "[station_hourly_profiles.ipynb](collaborative/DFU/station_hourly_profiles.ipynb): Explore the process to produce hourly profiles of localized data.<br>*For example: What does the median hourly profile of 8760s look like for Los Angeles?*\n",
    "\n",
    "#### Investor-Owned Utilities\n",
    "[heat_index.ipynb](collaborative/IOU/heat_index.ipynb): Generate historical and projected trends of Heat Index at a location.<br>*For example: How many summer days will be above a heat index of 91°F in Fresno by mid-century?*\n",
    "\n",
    "### Work in Progress \n",
    "--------------------------------------\n",
    "[threshold_basics.ipynb](work_in_progress/threshold_basics.ipynb): Introduction to extreme value analysis. Demonstrates how to compute statistical values of interest related to extreme weather events.<br>*For example: What is the return value for a 1 in 20 extreme heat event in Sacramento County at mid-century?*\n",
    "\n",
    "[typical_meteorological_year_methodology.ipynb](work_in_progress/typical_meteorological_year_methodology.ipynb): Explore the concept and methodology of a Typical Meteorological Year to represent the typical climatological conditions over one year of hourly data.<br>*For example: What will an average year of hourly temperature data look like in a 2°C warmer world?*\n",
    "\n",
    "[model_variance.ipynb](work_in_progress/variance_calculations.ipynb): Introduction to calculating model variance across climate models at a location.<br>*For example: What is the full range of possible outcomes in air temperature in Alameda County if I can only select a few model simulations?*\n",
    "\n",
    "[agnostic_tools.ipynb](work_in_progress/agnostic_tools.ipynb): Introduction to model agnostic tool development for model selection based on a set of preformulated metrics.<br>*For example: What is the projected warming level in the year 2050 based on all available model simulations?*"
   ]
  },
  {
   "cell_type": "code",
   "execution_count": null,
   "id": "8ffa65da",
   "metadata": {},
   "outputs": [],
   "source": []
  }
 ],
 "metadata": {
  "kernelspec": {
   "display_name": "Python 3 (ipykernel)",
   "language": "python",
   "name": "python3"
  },
  "language_info": {
   "codemirror_mode": {
    "name": "ipython",
    "version": 3
   },
   "file_extension": ".py",
   "mimetype": "text/x-python",
   "name": "python",
   "nbconvert_exporter": "python",
   "pygments_lexer": "ipython3",
   "version": "3.9.13"
  }
 },
 "nbformat": 4,
 "nbformat_minor": 5
}
