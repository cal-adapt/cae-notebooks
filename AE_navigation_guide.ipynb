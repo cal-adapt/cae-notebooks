{
 "cells": [
  {
   "cell_type": "markdown",
   "id": "a1a0d94d-d313-42cf-b45a-0dd31953daf8",
   "metadata": {},
   "source": [
    "# Cal-Adapt: Analytics Engine Navigation Guide\n",
    "Welcome to the [Cal-Adapt: Analytics Engine](https://analytics.cal-adapt.org/about/) JupyterHub! Here, you can access tools and guidance to explore and analyze climate projections data downscaled for California. Scroll down for a table of contents with a brief description of our available notebooks. \n",
    "\n",
    "### About Jupyter Notebooks \n",
    "-------------------------------------------------------------------\n",
    "If you are new to working with Jupyter Notebooks, check out our [video tutorial](https://www.youtube.com/watch?v=eEo9V_OJw9w) or review Jupyter's [introductory documentation](https://jupyter.org/try-jupyter/retro/notebooks/?path=notebooks/Intro.ipynb). You can also review our [technical documentation](https://climakitae.readthedocs.io/en/latest/) to learn more about the open source python library that powers these notebooks, `climakitae`. \n",
    "\n",
    "Each link below will open up a Jupyter notebook that will step through: \n",
    "1) Selecting climate data you are interested in\n",
    "2) Transforming the data or conducting an analysis\n",
    "3) Exporting data or visualizations<br>\n",
    "\n",
    "You can also access these notebooks through the file directory on the left side of the screen. \n",
    "\n",
    "To start working with Jupyter Notebooks, it's important to know the following: You can execute a given 'cell' in any notebook by placing your cursor in the cell and pressing the 'play' icon, or simply press shift+enter together. Some cells will take longer to run, and you will see a [$\\ast$] to the left of the cell while AE is still working.\n",
    "\n",
    "### About the AE Jupyer Hub\n",
    "-------------------------------------------------------------------\n",
    "Each notebook is flexibly designed so that users can follow existing analyses informed by best practices in climate science and build on or modify these analyses to meet their own specific needs. However, due to the configurations of the AE Jupyter Hub and the fact that this project is in active development, the Jupyter Notebooks will automatically update to reflect our team's latest code updates. To ensure that any changes you make are preserved, we suggest creating a copy of the file if you want to change and modifying that file instead. These copies of notebooks will persist in your personal file directory between sessions. "
   ]
  },
  {
   "cell_type": "markdown",
   "id": "65d883b8-4f4d-4bc9-bf5f-7ecf1363a36a",
   "metadata": {
    "tags": []
   },
   "source": [
    "## Table of Contents \n",
    "\n",
    "### data-access\n",
    "-------------------------------------------------------------------\n",
    "AE catalog data can be accessed in **three different ways**, each with distinct benefits. The appropriate data access method will depend on your unique use case and workflow.  \n",
    "\n",
    "1. [basic_data_access.ipynb](data-access/basic_data_access.ipynb): Overview to accessing, spatially and temporally subsetting, and exporting climate data from the AE catalog using helper functions in `climakitae`. \n",
    "\n",
    "2. [interactive_data_access_and_viz.ipynb](data-access/interactive_data_access_and_viz.ipynb): Retrieve, subset, and visualize data options using a simple and intuitive interactive graphical user interface (GUI). This notebook leverages functionality from both `climakitae` and our visualizations library `climakitaegui`. \n",
    "\n",
    "3. [outside_AE_data_access.ipynb](data-access/intake_direct_data_download.ipynb): Access and export AE catalog data without using the helper functions from `climakitae`. This notebook instead leverages the python library `intake` for interfacing with the data catalog. This method may be more useful for users accessing the data outside of the Analytics Engine. \n",
    "\n",
    "### exploratory\n",
    "------------------------------------------\n",
    "Explore our data and some useful climate science topics with these notebooks. \n",
    "- [internal_variability.ipynb](exploratory/internal_variability.ipynb): Explore uncertainty within climate models due to internal variability in the climate system, using projected changes in extreme precipitation across different climate model simulations.<br>*For example: When should I pool observations across different global climate models to study extreme events?*\n",
    "\n",
    "- [model_uncertainty.ipynb](exploratory/model_uncertainty.ipynb): Explore uncertainty across climate models, using projected variations in air temperature trends across different climate model simulations.<br>*For example: When is it appropriate to take a mean across different global climate models?*\n",
    "\n",
    "- [climate_data_comparisons.ipynb](exploratory/climate_data_comparisons): Explore how to compare datasets across the historical period, using observations, reanalysis, and model output.<br>*For example: How do I compare historical precipitation between a weather station and climate model?*\n",
    "\n",
    "- [warming_levels.ipynb](tools/warming_levels.ipynb): Explore the concept of Global Warming Levels, which can be used to compare possible climate outcomes across multiple scenarios or model simulations.<br>*For example: How will average maximum temperatures in the Bay Area change when the world reaches 2°C of global warming?*\n",
    "\n",
    "- [average_meteorological_year.ipynb](tools/average_meteorological_year.ipynb): Explore the concept and applications of an Average Meteorological Year to represent the mean climatological conditions over one year of hourly data.<br>*For example: What will an average year of hourly temperature data look like in a 2°C warmer world?*\n",
    "\n",
    "- [timeseries_tranformations.ipynb](tools/timeseries_transformations.ipynb): Explore data transformation and analysis options for working with climate timeseries data using a graphical user interface (GUI).<br>*For example: How will the 90th percentile of daily temperature values change in mid-century compared to the historical baseline?*\n",
    "\n",
    "### threshold-tools\n",
    "---------------------------------\n",
    "Notebooks for understanding extreme weather. \n",
    "\n",
    "- [threshold_exceedance.ipynb](tools/threshold_exceedance.ipynb): Perform calculations and explore visualizations of threshold exceedance events using an interactive graphical user interface (GUI). An extension of the topics introduced in threshold_basics.<br>*For example: How will the frequency of an event where temperatures are above 110°F for at least 5 hours in LA County change between now and end of century?* \n",
    "\n",
    "- [threshold_event_types.ipynb](tools/threshold_event_types.ipynb): Define different types of extreme events and explore their likelihood of occurence using extreme value theory.<br>*For example: What is the return period (expected frequency of occurence) of an extreme heat event in Sacramento County that reaches at least 100 degrees for 3 days in a row?*\n",
    "\n",
    "### collaborative\n",
    "-------------------------------------\n",
    "Notebooks we have developed with industry partners. \n",
    "#### Demand Forecast Unit\n",
    "- [degree_days.ipynb](collaborative/DFU/degree_days.ipynb): Perform calculations and explore visualizations of generated weather and climate information for an annual consumption model by producing heating and cooling degree days.<br>*For example: How will the number of heating degree days above 70°F in Sacramento change by mid-century?*\n",
    "\n",
    "- [localization_methodology.ipynb](collaborative/DFU/localization_methodology.ipynb): Introduction to the localization method for examining climate projections at a location.<br>*For example: How does localization of global climate models to a weather station work?*\n",
    "\n",
    "- [station_hourly_profiles.ipynb](collaborative/DFU/station_hourly_profiles.ipynb): Explore the process to produce hourly profiles of localized data.<br>*For example: What does the median hourly profile of 8760s look like for Los Angeles?*\n",
    "\n",
    "#### Investor-Owned Utilities\n",
    "- [heat_index.ipynb](collaborative/IOU/heat_index.ipynb): Generate historical and projected trends of Heat Index at a location.<br>*For example: How many summer days will be above a heat index of 91°F in Fresno by mid-century?*\n",
    "\n",
    "### work_in_progress\n",
    "--------------------------------------\n",
    "Notebooks that are actively in development-- proceed with caution! These notebooks are likely to change as we work to improve our workflow and methodology. \n",
    "- [threshold_basics.ipynb](work_in_progress/threshold_basics.ipynb): Introduction to extreme value analysis. Demonstrates how to compute statistical values of interest related to extreme weather events.<br>*For example: What is the return value for a 1 in 20 extreme heat event in Sacramento County at mid-century?*\n",
    "\n",
    "- [typical_meteorological_year_methodology.ipynb](work_in_progress/typical_meteorological_year_methodology.ipynb): Explore the concept and methodology of a Typical Meteorological Year to represent the typical climatological conditions over one year of hourly data.<br>*For example: What will an average year of hourly temperature data look like in a 2°C warmer world?*\n",
    "\n",
    "- [model_variance.ipynb](work_in_progress/variance_calculations.ipynb): Introduction to calculating model variance across climate models at a location.<br>*For example: What is the full range of possible outcomes in air temperature in Alameda County if I can only select a few model simulations?*\n",
    "\n",
    "- [agnostic_tools.ipynb](work_in_progress/agnostic_tools.ipynb): Introduction to model agnostic tool development for model selection based on a set of preformulated metrics.<br>*For example: What is the projected warming level in the year 2050 based on all available model simulations?*"
   ]
  },
  {
   "cell_type": "markdown",
   "id": "dfbea4ce",
   "metadata": {},
   "source": []
  }
 ],
 "metadata": {
  "kernelspec": {
   "display_name": "Python 3 (ipykernel)",
   "language": "python",
   "name": "python3"
  },
  "language_info": {
   "codemirror_mode": {
    "name": "ipython",
    "version": 3
   },
   "file_extension": ".py",
   "mimetype": "text/x-python",
   "name": "python",
   "nbconvert_exporter": "python",
   "pygments_lexer": "ipython3",
   "version": "3.9.13"
  }
 },
 "nbformat": 4,
 "nbformat_minor": 5
}
