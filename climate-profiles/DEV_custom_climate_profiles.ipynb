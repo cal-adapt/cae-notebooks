{
 "cells": [
  {
   "cell_type": "markdown",
   "id": "1eb5860a-029b-46ad-adc4-cf8fa11895c6",
   "metadata": {},
   "source": [
    "# Custom Climate Profiles Generation\n",
    "\n",
    "\n",
    "This notebook generates custom `Climate Profile` hourly datasets (8760) of two varieties. \n",
    "\n",
    "1. Standard Year Profile (AMY, single variable)\n",
    "2. Typical Meteorological Year Profile (TMY, multi-variable)\n",
    "\n",
    "You will be able to generate a climate profile for a warming level and/or location not already present in our catalog. \n",
    "\n",
    "### What is a climate profile?\n",
    "\n",
    "A climate profile...\n",
    "\n",
    "### 2 Different kinds of profiles\n",
    "\n",
    "1. AMY\n",
    "2. TMY\n",
    "\n",
    "Are you just looking to generate profiles for one of the pre-generated 32 weather stations? Check out this page."
   ]
  },
  {
   "cell_type": "markdown",
   "id": "b009daff",
   "metadata": {},
   "source": [
    "## Setup"
   ]
  },
  {
   "cell_type": "code",
   "execution_count": null,
   "id": "5c38af90",
   "metadata": {},
   "outputs": [],
   "source": [
    "%config InlineBackend.figure_format = 'svg' # Make plots look better in the notebook environment \n",
    "%reload_ext autoreload\n",
    "%autoreload 2\n",
    "\n",
    "from climakitae.explore.amy import get_climate_profile\n",
    "\n",
    "import climakitae as ck\n",
    "import pandas as pd\n",
    "\n",
    "import matplotlib.pyplot as plt\n"
   ]
  },
  {
   "cell_type": "markdown",
   "id": "f5d16686",
   "metadata": {},
   "source": [
    "## Average Meteoroligical Year (AMY)"
   ]
  },
  {
   "cell_type": "markdown",
   "id": "760031b3",
   "metadata": {},
   "source": [
    "The average meteorological year (AMY) represents the mean weather conditions for a one-year period. Because this represents average rather than extreme conditions, an AMY dataset is not suited for designing systems to meet the worst-case conditions occurring at a location.\n",
    "\n",
    "Examining a particular month within the Average Meteorological Year can provide hourly information that could inform energy usage analysis. For example, a warm season month can be used to examine cooling demand; while a cold season month can be used for exploring heating demand change under future climate conditions.\n",
    "\n",
    "To analyze a specific month, we'll retrieve some of the absolute AMY data of interest shown above. Please select in the explore panel above 'Absolute' as your AMY Type, and either 'Historical' or 'Warming Level Future' with a warming level of your choosing. A progress bar is provided when running the cell below, as this step may take a little while. \n",
    "\n",
    "Visualize one month from the Average Meteorological Year \n",
    "First, we'll subset the dataframe to grab data for the month of January. You can change the month easily by changing the variable `month`; just make sure the value you is the shortened version of the month (i.e. \"Jan\" instead of \"January\") so that the code can find the substring in the `amy_data` object. \n",
    "\n",
    "**Intended Application**: As a user, I want to **<span style=\"color:#FF0000\">analyze the average weather conditions</span>** of a region of interest by:\n",
    "1. Computing the average weather conditions\n",
    "2. Visualize average conditions throughout the year in a heatmap\n",
    "\n",
    "**Runtime**: AMY generation time ranges from around **5 minutes** for a single grid cell and and to **1 hour** for the entire state of California.  "
   ]
  },
  {
   "cell_type": "markdown",
   "id": "04ea8f32",
   "metadata": {},
   "source": [
    "### Generating AMY"
   ]
  },
  {
   "cell_type": "markdown",
   "id": "81e766c2",
   "metadata": {},
   "source": [
    "Select the warming level, location and variable for which you want to generate the AMY. You can view your options for each variable by _"
   ]
  },
  {
   "cell_type": "markdown",
   "id": "13406e72",
   "metadata": {},
   "source": [
    "1. **Select variable.** The default is \"Air Temperature at 2m\". Want to know what variables (and their associated units) are available to choose from? Check out our variable list [here](https://github.com/cal-adapt/climakitae/blob/main/climakitae/data/variable_descriptions.csv)."
   ]
  },
  {
   "cell_type": "code",
   "execution_count": null,
   "id": "ea8d893a",
   "metadata": {},
   "outputs": [],
   "source": [
    "variable = \"Air Temperature at 2m\" \n",
    "units = \"degF\""
   ]
  },
  {
   "cell_type": "markdown",
   "id": "c1b22990",
   "metadata": {},
   "source": [
    "2. **Select quantile.** Insert explanation and acceptable range."
   ]
  },
  {
   "cell_type": "code",
   "execution_count": null,
   "id": "377b00bd",
   "metadata": {},
   "outputs": [],
   "source": [
    "q = 0.5 # float | list[float], default 0.5, quantile for profile calculation"
   ]
  },
  {
   "cell_type": "markdown",
   "id": "70d0d01b",
   "metadata": {},
   "source": [
    "3. **Select warming level.** The default is [1.2] and base options are [1.5, 1.75, 2.0, 2.25, 2.5]. If you decide to generate AMY for a warming level outside of that list, keep in mind that the realistic range of warming levels is _. "
   ]
  },
  {
   "cell_type": "code",
   "execution_count": null,
   "id": "3235fc29",
   "metadata": {},
   "outputs": [],
   "source": [
    "warming_level = [1.45]  # List[float], default [1.2]"
   ]
  },
  {
   "cell_type": "markdown",
   "id": "d7112033",
   "metadata": {},
   "source": [
    "4. **Select location.** You have a choice of either selecting from one of 32 cached locations, _ cashed areas, or providing a custom point location of interest. If you are only interested in generating an AMY for a cached location, please go to this notebook instead."
   ]
  },
  {
   "cell_type": "code",
   "execution_count": null,
   "id": "c0bd998e",
   "metadata": {},
   "outputs": [],
   "source": [
    "latitude = 32.7136 # float or tuple\n",
    "longitude = -117.2031  # float or tuple"
   ]
  },
  {
   "cell_type": "markdown",
   "id": "ef62cb0a",
   "metadata": {},
   "source": [
    "5. Now we define the selection by the choices you've made above and generate the climate profile. AMY generation time ranges from around 5 miinutes for a single grid cell and and to an hour for the entire state of California."
   ]
  },
  {
   "cell_type": "code",
   "execution_count": null,
   "id": "ed95b834",
   "metadata": {},
   "outputs": [],
   "source": [
    "selection = {\n",
    "    \"variable\": variable,\n",
    "    \"resolution\": \"3 km\",\n",
    "    \"warming_level\": warming_level,\n",
    "    \"units\": units,\n",
    "    \"latitude\": latitude,\n",
    "    \"longitude\": longitude\n",
    "}"
   ]
  },
  {
   "cell_type": "code",
   "execution_count": null,
   "id": "04826c65",
   "metadata": {},
   "outputs": [],
   "source": [
    "\n",
    "profile = get_climate_profile(**selection)"
   ]
  },
  {
   "cell_type": "code",
   "execution_count": null,
   "id": "cc3ead55",
   "metadata": {},
   "outputs": [],
   "source": [
    "# for testing\n",
    "profile = get_climate_profile(\n",
    "    stations=[\"San Diego Lindbergh Field (KSAN)\"],\n",
    "    warming_level=[2.0],\n",
    ")"
   ]
  },
  {
   "cell_type": "markdown",
   "id": "7d2848e8",
   "metadata": {},
   "source": [
    "###  Visualizing AMY"
   ]
  },
  {
   "cell_type": "markdown",
   "id": "7d04cc12",
   "metadata": {},
   "source": [
    "If you generated AMY for a single warming level, you can visualize your result below. A figure is produce for each of the 8 simulations used in profile generation."
   ]
  },
  {
   "cell_type": "code",
   "execution_count": null,
   "id": "a03d76e1",
   "metadata": {},
   "outputs": [],
   "source": [
    "idx = pd.IndexSlice\n",
    "sims = profile.columns.get_level_values(\"Simulation\").unique().tolist()\n",
    "\n",
    "for sim in sims:\n",
    "    # Select columns for the current simulation\n",
    "    data = profile.loc[:, idx[:, sim]]\n",
    "    # Assuming the first level is month and the second is simulation\n",
    "    # We'll plot a heatmap of the data for each simulation\n",
    "    plt.figure(figsize=(12, 6))\n",
    "    plt.imshow(data.values.T, aspect=\"auto\", cmap=\"coolwarm\")\n",
    "    plt.colorbar(label=f\"{selection['variable']} ({selection['units']})\")\n",
    "    plt.yticks(range(data.shape[1]), data.columns.get_level_values(0))\n",
    "    plt.xticks(range(data.shape[0]), data.index)\n",
    "    plt.title(\n",
    "        f\"{sim} - {selection['variable']} at {selection['warming_level'][0]}°C Warming\"\n",
    "    )\n",
    "    plt.xlabel(\"Day of Year\")\n",
    "    plt.ylabel(\"Hour of Day\")\n",
    "    vmin = -max(abs(data.values.max()), abs(data.values.min()))\n",
    "    vmax = max(abs(data.values.max()), abs(data.values.min()))\n",
    "    xtick_freq = max(1, data.shape[0] // 12)\n",
    "    plt.xticks(range(0, data.shape[0], xtick_freq), data.index[::xtick_freq])\n",
    "    plt.clim(vmin, vmax)\n",
    "    plt.show()"
   ]
  },
  {
   "cell_type": "markdown",
   "id": "bd5b901f",
   "metadata": {},
   "source": [
    "If you generated AMY for multuple warming levels, visualize your result here. It will produce a figure for each of the 8 simulations used in profile generation, for each warming level you provided."
   ]
  },
  {
   "cell_type": "code",
   "execution_count": null,
   "id": "1b246ef6",
   "metadata": {},
   "outputs": [],
   "source": [
    "idx = pd.IndexSlice\n",
    "sims = profile.columns.get_level_values(\"Simulation\").unique().tolist()\n",
    "wls = profile.columns.get_level_values(\"Warming_Level\").unique().tolist()\n",
    "\n",
    "for wl in wls:\n",
    "    for sim in sims:\n",
    "        # Select columns for the current simulation\n",
    "        data = profile.loc[:, idx[:, wl, sim]]\n",
    "        # Assuming the first level is month and the second is simulation\n",
    "        # We'll plot a heatmap of the data for each simulation\n",
    "        plt.figure(figsize=(12, 6))\n",
    "        plt.imshow(data.values.T, aspect='auto', cmap='coolwarm')\n",
    "        plt.colorbar(label=f\"{selection['variable']} ({selection['units']})\")\n",
    "        plt.yticks(range(data.shape[1]), data.columns.get_level_values(0))\n",
    "        plt.xticks(range(data.shape[0]), data.index)\n",
    "        plt.title(f\"{sim} - {selection['variable']} at {wl}°C Warming\")\n",
    "        plt.xlabel(\"Day of Year\")\n",
    "        plt.ylabel(\"Hour of Day\")\n",
    "        vmin = -max(abs(data.values.max()), abs(data.values.min()))\n",
    "        vmax = max(abs(data.values.max()), abs(data.values.min()))\n",
    "        xtick_freq = max(1, data.shape[0] // 12)\n",
    "        plt.xticks(range(0, data.shape[0], xtick_freq), data.index[::xtick_freq])\n",
    "        plt.clim(vmin, vmax)\n",
    "        plt.show()"
   ]
  },
  {
   "cell_type": "markdown",
   "id": "612ca39a",
   "metadata": {},
   "source": [
    "## Typical Meteorological Year (TMY)"
   ]
  },
  {
   "cell_type": "markdown",
   "id": "177c7c9f",
   "metadata": {},
   "source": [
    "## 1. Calculating a Typical Meteorological Year\n",
    "<br>This section walks through the process of calculating a [Typical Meteorological Year](https://nsrdb.nrel.gov/data-sets/tmy), an hourly dataset used for applications in energy and building systems modeling. Because this represents average rather than extreme conditions, an TMY dataset is not suited for designing systems to meet the worst-case conditions occurring at a location. \n",
    "\n",
    "The TMY methodology here mirrors that of the Sandia/NREL TMY3 methodology, and uses historic and projected downscaled climate data available through the Cal-Adapt: Analytics Engine catalog. As this methodology heavily weights the solar radiation input data, be aware that the final selection of \"typical\" months may not be typical for other variables. \n",
    "\n",
    "**Intended Application** As a user, I want to <span style=\"color:#FF0000\">**generate a typical meteorological year file**</span> for a location of interest:\n",
    "- Understand the methods that are involved in generating a TMY dataset\n",
    "- Visualize the TMY dataset across all input variables\n",
    "- Export the TMY dataset for available models for input into my workflow\n",
    "\n",
    "**Note**: \n",
    "1. For practical generation of a TMY dataset, a user <span style=\"color:#FF0000\">**only needs to provide 2 elements**</span>: the **location**, and **reference time period**. These selections are highlighted below for you. \n",
    "\n",
    "**Runtime**: With the default settings, this section takes approximately **50 minutes** to run from start to finish. Modifications to selections may increase the runtime."
   ]
  },
  {
   "cell_type": "markdown",
   "id": "57fc1271",
   "metadata": {},
   "source": [
    "### Generating TMY"
   ]
  },
  {
   "cell_type": "markdown",
   "id": "12fdf1ed",
   "metadata": {},
   "source": [
    "1. Select warming level"
   ]
  },
  {
   "cell_type": "markdown",
   "id": "eaad3326",
   "metadata": {},
   "source": [
    "2. Select location"
   ]
  },
  {
   "cell_type": "markdown",
   "id": "3c56c5e5",
   "metadata": {},
   "source": [
    "### Visualizing TMY"
   ]
  },
  {
   "cell_type": "markdown",
   "id": "6fa792ba",
   "metadata": {},
   "source": [
    "# Scraps"
   ]
  },
  {
   "cell_type": "markdown",
   "id": "31eea172",
   "metadata": {},
   "source": [
    "Options for\n",
    "GWL selection\n",
    "variable\n",
    "custom point-location\n",
    "Timing estimate\n",
    "      \n",
    "\n",
    "        - variable (Optional) : str, default \"Air Temperature at 2m\"\n",
    "        - resolution (Optional) : str, default \"3 km\"\n",
    "        - warming_level (Required) : List[float], default [1.2]\n",
    "        - cached_area (Optional) : str or List[str]\n",
    "        - units (Optional) : str, default \"degF\"\n",
    "        - latitude (Optional) : float or tuple\n",
    "        - longitude (Optional) : float or tuple\n",
    "        - stations (Optional) : list[str], default None\n",
    "        - days_in_year (Optional) : int, default 365\n",
    "        - q (Optional) : float | list[float], default 0.5, quantile for profile calculation\n",
    "        - no_delta (optional) : bool, default False, if True, do not apply baseline subtraction, return raw future profile\n"
   ]
  },
  {
   "cell_type": "markdown",
   "id": "6fa8f303",
   "metadata": {},
   "source": [
    "from climakitae.explore.amy import get_climate_profile\n",
    "\n",
    "# Test with a single station\n",
    "print(\"Testing with San Diego station...\")\n",
    "profile_one_station = get_climate_profile(\n",
    "    stations=[\"San Diego Lindbergh Field (KSAN)\"],\n",
    "    warming_level=[2.0],\n",
    ")\n",
    "\n",
    "profile_two_stations = get_climate_profile(\n",
    "    stations=[\n",
    "        \"San Diego Lindbergh Field (KSAN)\", \n",
    "        \"Los Angeles International Airport (KLAX)\"\n",
    "    ],\n",
    "    warming_level=[2.0],\n",
    ")"
   ]
  },
  {
   "cell_type": "markdown",
   "id": "c77a59da",
   "metadata": {},
   "source": [
    "https://github.com/cal-adapt/climakitae/blob/8182900aa62947285cb8ebbe6f29d9b9acdc6991/climakitae/explore/amy.py#L214"
   ]
  }
 ],
 "metadata": {
  "kernelspec": {
   "display_name": "climakitae",
   "language": "python",
   "name": "python3"
  },
  "language_info": {
   "codemirror_mode": {
    "name": "ipython",
    "version": 3
   },
   "file_extension": ".py",
   "mimetype": "text/x-python",
   "name": "python",
   "nbconvert_exporter": "python",
   "pygments_lexer": "ipython3",
   "version": "3.12.7"
  }
 },
 "nbformat": 4,
 "nbformat_minor": 5
}
