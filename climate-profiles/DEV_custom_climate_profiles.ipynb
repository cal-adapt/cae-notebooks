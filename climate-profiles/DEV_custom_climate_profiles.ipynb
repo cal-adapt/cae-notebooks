{
 "cells": [
  {
   "cell_type": "markdown",
   "id": "1eb5860a-029b-46ad-adc4-cf8fa11895c6",
   "metadata": {},
   "source": [
    "# Custom Climate Profiles Generation\n",
    "\n",
    "\n",
    "This notebook generates custom `Climate Profile` hourly datasets (8760) of two varieties. \n",
    "\n",
    "1. Average Meteorological Year (AMY, single variable)\n",
    "2. Typical Meteorological Year Profile (TMY, multi-variable)\n",
    "\n",
    "You will be able to generate a climate profile for a warming level and/or location not already present in our catalog. If you are looking to generate profiles for one of the pre-generated locations and warming level, Check out this page.\n",
    "\n",
    "### What is a climate profile?\n",
    "\n",
    "A climate profile is a representative year of hourly data that is meant to capture the intrannual weather patterns for a location of interest. This time series is constructed by piecing together either historical or synthetic data. Thhis notebook generated two type of climate profiles: the average meteorolical year (AMY) and the typical meteorological year (TMY). AMY is recommended for most applications, while TMY is a strictly defined construct suitable for a narrow range of applications in the utilities sector.\n"
   ]
  },
  {
   "cell_type": "markdown",
   "id": "b009daff",
   "metadata": {},
   "source": [
    "## Setup\n",
    "\n",
    "Import the [climakitae](https://github.com/cal-adapt/climakitae) library and other dependencies."
   ]
  },
  {
   "cell_type": "code",
   "execution_count": 3,
   "id": "5c38af90",
   "metadata": {},
   "outputs": [],
   "source": [
    "%config InlineBackend.figure_format = 'svg' # Make plots look better in the notebook environment \n",
    "%reload_ext autoreload\n",
    "%autoreload 2\n",
    "\n",
    "import climakitae as ck\n",
    "import pandas as pd\n",
    "import matplotlib.pyplot as plt\n",
    "\n",
    "from climakitae.explore.amy import get_climate_profile\n",
    "\n",
    "from climakitae.explore.typical_meteorological_year import TMY\n",
    "from climakitae.util.utils import read_csv_file"
   ]
  },
  {
   "cell_type": "markdown",
   "id": "f5d16686",
   "metadata": {},
   "source": [
    "## Average Meteoroligical Year (AMY)"
   ]
  },
  {
   "cell_type": "markdown",
   "id": "760031b3",
   "metadata": {},
   "source": [
    "The average meteorological year (AMY) represents the mean weather conditions for a one-year period. \n",
    "\n",
    "Examining a particular month within the Average Meteorological Year can provide hourly information that could inform energy usage analysis. For example, a warm season month can be used to examine cooling demand; while a cold season month can be used for exploring heating demand change under future climate conditions.\n",
    "\n",
    "The absolute AMY for a given 30-year period (either the historical period 1981-2010, or a thirty year window centered on where each GCM simulation reaches the specified global warming level) is calculated by identifying for each hour the hourly value that is closest to the mean hourly value across all years to produce a full annual timeseries of hourly data for a variable of interest that best represents the average conditions.\n",
    "\n",
    "The resulting heatmap of AMY values for a full annual timeseries is then plotted, with day of year 1 being January 1st and hour of day given in Pacific Standard Time. \n",
    "\n",
    "To learn more about the data available on the Analytics Engine, [see our data catalog](https://analytics.cal-adapt.org/data/). \n",
    "\n",
    "**Intended Application**: As a user, I want to **<span style=\"color:#FF0000\">analyze the average weather conditions</span>** of a region of interest by:\n",
    "1. Computing the average weather conditions\n",
    "2. Visualize average conditions throughout the year in a heatmap\n",
    "\n",
    "Because this represents average rather than extreme conditions, an AMY dataset is not suited for designing systems to meet the worst-case conditions occurring at a location.\n",
    "\n",
    "**Runtime**: AMY generation time ranges from around **5 minutes** for a single grid cell and and to **1 hour** for the entire state of California.  "
   ]
  },
  {
   "cell_type": "markdown",
   "id": "04ea8f32",
   "metadata": {},
   "source": [
    "### Generating AMY"
   ]
  },
  {
   "cell_type": "markdown",
   "id": "81e766c2",
   "metadata": {},
   "source": [
    "Select the warming level, location and variable for which you want to generate the AMY."
   ]
  },
  {
   "cell_type": "markdown",
   "id": "13406e72",
   "metadata": {},
   "source": [
    "1. **Select variable.** The default is \"Air Temperature at 2m\". Want to know what variables (and their associated units) are available to choose from? Check out our variable list [here](https://github.com/cal-adapt/climakitae/blob/main/climakitae/data/variable_descriptions.csv)."
   ]
  },
  {
   "cell_type": "code",
   "execution_count": null,
   "id": "ea8d893a",
   "metadata": {},
   "outputs": [],
   "source": [
    "variable = \"Air Temperature at 2m\" \n",
    "units = \"degF\""
   ]
  },
  {
   "cell_type": "markdown",
   "id": "c1b22990",
   "metadata": {},
   "source": [
    "2. **Select quantile.** Insert explanation and acceptable range."
   ]
  },
  {
   "cell_type": "code",
   "execution_count": null,
   "id": "377b00bd",
   "metadata": {},
   "outputs": [],
   "source": [
    "q = 0.5 # float | list[float], default 0.5, quantile for profile calculation"
   ]
  },
  {
   "cell_type": "markdown",
   "id": "70d0d01b",
   "metadata": {},
   "source": [
    "3. **Select warming level.** The default is [1.2] and base options are [1.5, 1.75, 2.0, 2.25, 2.5]. If you decide to generate AMY for a warming level outside of that list, keep in mind that the realistic range of warming levels is _. "
   ]
  },
  {
   "cell_type": "code",
   "execution_count": null,
   "id": "3235fc29",
   "metadata": {},
   "outputs": [],
   "source": [
    "warming_level = [1.45]  # List[float], default [1.2]"
   ]
  },
  {
   "cell_type": "markdown",
   "id": "d7112033",
   "metadata": {},
   "source": [
    "4. **Select location.** You have a choice of either selecting from one of 32 cached locations, _ cashed areas, or providing a custom point location of interest. If you are only interested in generating an AMY for a cached location, please go to this notebook instead."
   ]
  },
  {
   "cell_type": "code",
   "execution_count": null,
   "id": "c0bd998e",
   "metadata": {},
   "outputs": [],
   "source": [
    "latitude = 32.7136 # float or tuple\n",
    "longitude = -117.2031  # float or tuple"
   ]
  },
  {
   "cell_type": "markdown",
   "id": "ef62cb0a",
   "metadata": {},
   "source": [
    "5. Now we define the selection by the choices you've made above and generate the climate profile. AMY generation time ranges from around 5 miinutes for a single grid cell and and to an hour for the entire state of California."
   ]
  },
  {
   "cell_type": "code",
   "execution_count": null,
   "id": "ed95b834",
   "metadata": {},
   "outputs": [],
   "source": [
    "# define the selection\n",
    "selection = {\n",
    "    \"variable\": variable,\n",
    "    \"resolution\": \"3 km\",\n",
    "    \"warming_level\": warming_level,\n",
    "    \"units\": units,\n",
    "    \"latitude\": latitude,\n",
    "    \"longitude\": longitude\n",
    "}"
   ]
  },
  {
   "cell_type": "code",
   "execution_count": null,
   "id": "04826c65",
   "metadata": {},
   "outputs": [],
   "source": [
    "\n",
    "# generate the climate profile\n",
    "profile = get_climate_profile(**selection)"
   ]
  },
  {
   "cell_type": "code",
   "execution_count": null,
   "id": "cc3ead55",
   "metadata": {},
   "outputs": [],
   "source": [
    "# for testing\n",
    "profile = get_climate_profile(\n",
    "    stations=[\"San Diego Lindbergh Field (KSAN)\"],\n",
    "    warming_level=[2.0],\n",
    ")"
   ]
  },
  {
   "cell_type": "markdown",
   "id": "7d2848e8",
   "metadata": {},
   "source": [
    "###  Visualizing AMY"
   ]
  },
  {
   "cell_type": "markdown",
   "id": "7d04cc12",
   "metadata": {},
   "source": [
    "If you generated AMY for a single warming level, you can visualize your result below. A figure is produce for each of the 8 simulations used in profile generation."
   ]
  },
  {
   "cell_type": "code",
   "execution_count": null,
   "id": "a03d76e1",
   "metadata": {},
   "outputs": [],
   "source": [
    "idx = pd.IndexSlice\n",
    "sims = profile.columns.get_level_values(\"Simulation\").unique().tolist()\n",
    "\n",
    "for sim in sims:\n",
    "    # Select columns for the current simulation\n",
    "    data = profile.loc[:, idx[:, sim]]\n",
    "    # Assuming the first level is month and the second is simulation\n",
    "    # We'll plot a heatmap of the data for each simulation\n",
    "    plt.figure(figsize=(12, 6))\n",
    "    plt.imshow(data.values.T, aspect=\"auto\", cmap=\"coolwarm\")\n",
    "    plt.colorbar(label=f\"{selection['variable']} ({selection['units']})\")\n",
    "    plt.yticks(range(data.shape[1]), data.columns.get_level_values(0))\n",
    "    plt.xticks(range(data.shape[0]), data.index)\n",
    "    plt.title(\n",
    "        f\"{sim} - {selection['variable']} at {selection['warming_level'][0]}°C Warming\"\n",
    "    )\n",
    "    plt.xlabel(\"Day of Year\")\n",
    "    plt.ylabel(\"Hour of Day\")\n",
    "    vmin = -max(abs(data.values.max()), abs(data.values.min()))\n",
    "    vmax = max(abs(data.values.max()), abs(data.values.min()))\n",
    "    xtick_freq = max(1, data.shape[0] // 12)\n",
    "    plt.xticks(range(0, data.shape[0], xtick_freq), data.index[::xtick_freq])\n",
    "    plt.clim(vmin, vmax)\n",
    "    plt.show()"
   ]
  },
  {
   "cell_type": "markdown",
   "id": "bd5b901f",
   "metadata": {},
   "source": [
    "If you generated AMY for multuple warming levels, visualize your result here. It will produce a figure for each of the 8 simulations used in profile generation, for each warming level you provided."
   ]
  },
  {
   "cell_type": "code",
   "execution_count": null,
   "id": "1b246ef6",
   "metadata": {},
   "outputs": [],
   "source": [
    "idx = pd.IndexSlice\n",
    "sims = profile.columns.get_level_values(\"Simulation\").unique().tolist()\n",
    "wls = profile.columns.get_level_values(\"Warming_Level\").unique().tolist()\n",
    "\n",
    "for wl in wls:\n",
    "    for sim in sims:\n",
    "        # Select columns for the current simulation\n",
    "        data = profile.loc[:, idx[:, wl, sim]]\n",
    "        # Assuming the first level is month and the second is simulation\n",
    "        # We'll plot a heatmap of the data for each simulation\n",
    "        plt.figure(figsize=(12, 6))\n",
    "        plt.imshow(data.values.T, aspect='auto', cmap='coolwarm')\n",
    "        plt.colorbar(label=f\"{selection['variable']} ({selection['units']})\")\n",
    "        plt.yticks(range(data.shape[1]), data.columns.get_level_values(0))\n",
    "        plt.xticks(range(data.shape[0]), data.index)\n",
    "        plt.title(f\"{sim} - {selection['variable']} at {wl}°C Warming\")\n",
    "        plt.xlabel(\"Day of Year\")\n",
    "        plt.ylabel(\"Hour of Day\")\n",
    "        vmin = -max(abs(data.values.max()), abs(data.values.min()))\n",
    "        vmax = max(abs(data.values.max()), abs(data.values.min()))\n",
    "        xtick_freq = max(1, data.shape[0] // 12)\n",
    "        plt.xticks(range(0, data.shape[0], xtick_freq), data.index[::xtick_freq])\n",
    "        plt.clim(vmin, vmax)\n",
    "        plt.show()"
   ]
  },
  {
   "cell_type": "markdown",
   "id": "612ca39a",
   "metadata": {},
   "source": [
    "## Typical Meteorological Year (TMY)"
   ]
  },
  {
   "cell_type": "markdown",
   "id": "177c7c9f",
   "metadata": {},
   "source": [
    "<br>The [Typical Meteorological Year](https://nsrdb.nrel.gov/data-sets/tmy) is an hourly dataset used for applications in energy and building systems modeling. Because this represents average rather than extreme conditions, an TMY dataset is not suited for designing systems to meet the worst-case conditions occurring at a location. \n",
    "\n",
    "The TMY methodology here mirrors that of the Sandia/NREL TMY3 methodology, and uses historic and projected downscaled climate data available through the Cal-Adapt: Analytics Engine catalog. The [TMY3 method](https://www.nrel.gov/docs/fy08osti/43156.pdf) selects a \"typical\" month based on ten daily variables: max, min, and mean air and dew point temperatures, max and mean wind speed, global irradiance and direct irradiance. As this methodology heavily weights the solar radiation input data, be aware that the final selection of \"typical\" months may not be typical for other variables. \n",
    "\n",
    "**Intended Application** As a user, I want to <span style=\"color:#FF0000\">**generate a typical meteorological year file**</span> for a location of interest:\n",
    "- Visualize the TMY dataset across all input variables\n",
    "- Export the TMY dataset for available models for input into my workflow\n",
    "\n",
    "**Note**: \n",
    "1. For practical generation of a TMY dataset, a user <span style=\"color:#FF0000\">**only needs to provide 2 elements**</span>: the **location**, and **reference time period**. These selections are highlighted below for you. \n",
    "\n",
    "**Runtime**: With the default settings, this section takes approximately **50 minutes** to run from start to finish. Modifications to selections may increase the runtime."
   ]
  },
  {
   "cell_type": "markdown",
   "id": "57fc1271",
   "metadata": {},
   "source": [
    "### Generating TMY"
   ]
  },
  {
   "cell_type": "markdown",
   "id": "62d1c037",
   "metadata": {},
   "source": [
    "First, select the location and warming level for which the TMY is generated. TMY considers a set of 10 variables that, unlike for AMY, cannot be changed."
   ]
  },
  {
   "cell_type": "markdown",
   "id": "12fdf1ed",
   "metadata": {},
   "source": [
    "1. **Select Location.** "
   ]
  },
  {
   "cell_type": "code",
   "execution_count": 4,
   "id": "b585b5b7",
   "metadata": {},
   "outputs": [],
   "source": [
    "# read in station file of CA HadISD stations\n",
    "stn_file = read_csv_file(\"data/hadisd_stations.csv\")\n",
    "# Display station names\n",
    "list(stn_file[\"station\"])\n",
    "\n",
    "#latitude = 37.9\n",
    "#longitude = -122.06\n",
    "\n",
    "stn_name = \"Bakersfield Meadows Field (KBFL)\""
   ]
  },
  {
   "cell_type": "markdown",
   "id": "eaad3326",
   "metadata": {},
   "source": [
    "2. **Select warming level.** "
   ]
  },
  {
   "cell_type": "code",
   "execution_count": 5,
   "id": "d0690bc4",
   "metadata": {},
   "outputs": [],
   "source": [
    "warming_level = 2.0"
   ]
  },
  {
   "cell_type": "markdown",
   "id": "0b14437c",
   "metadata": {},
   "source": [
    "3. We can use the TMY object to set up, run, and output TMY results to file. The first step is to initialize the object with your desired reference period (start_year and end_year) and location (stn_name). True is the default value for verbose but we have also set it explicitly for demonstr"
   ]
  },
  {
   "cell_type": "code",
   "execution_count": 6,
   "id": "f579f2a5",
   "metadata": {},
   "outputs": [
    {
     "name": "stdout",
     "output_type": "stream",
     "text": [
      "Initializing TMY object for Bakersfield Meadows Field (KBFL).\n"
     ]
    }
   ],
   "source": [
    "\n",
    "tmy = TMY(warming_level=warming_level,\n",
    "          #latitude = latitude,\n",
    "          #longitude = longitude,\n",
    "          station_name=stn_name, \n",
    "          verbose=True)"
   ]
  },
  {
   "cell_type": "markdown",
   "id": "e38ef26b",
   "metadata": {},
   "source": [
    "4. We can run the entire TMY workflow with a single command, as shown below. This will write 4 TMY files, one for each model.\n",
    "The runtime for this command can reach up to 30 minutes. Because we set verbose to True, the TMY object will print updates as different parts of the workflow initialize."
   ]
  },
  {
   "cell_type": "code",
   "execution_count": 7,
   "id": "5df75dd3",
   "metadata": {},
   "outputs": [
    {
     "name": "stdout",
     "output_type": "stream",
     "text": [
      "Running TMY workflow. Expected overall runtime: 40 minutes\n",
      "Loading data from catalog. Expected runtime: 7 minutes\n",
      "  Getting air temperature... Data converted to America/Los_Angeles timezone.\n",
      "  Getting dew point temperature... Data converted to America/Los_Angeles timezone.\n",
      "  Getting wind speed... Data converted to America/Los_Angeles timezone.\n",
      "  Getting global irradiance... Data converted to America/Los_Angeles timezone.\n",
      "  Getting direct normal irradiance... Data converted to America/Los_Angeles timezone.\n",
      "  Loading all variables into memory.\n"
     ]
    },
    {
     "ename": "KeyboardInterrupt",
     "evalue": "",
     "output_type": "error",
     "traceback": [
      "\u001b[31m---------------------------------------------------------------------------\u001b[39m",
      "\u001b[31mKeyboardInterrupt\u001b[39m                         Traceback (most recent call last)",
      "\u001b[36mCell\u001b[39m\u001b[36m \u001b[39m\u001b[32mIn[7]\u001b[39m\u001b[32m, line 1\u001b[39m\n\u001b[32m----> \u001b[39m\u001b[32m1\u001b[39m \u001b[43mtmy\u001b[49m\u001b[43m.\u001b[49m\u001b[43mgenerate_tmy\u001b[49m\u001b[43m(\u001b[49m\u001b[43m)\u001b[49m\n",
      "\u001b[36mFile \u001b[39m\u001b[32m~/code/climakitae/climakitae/explore/typical_meteorological_year.py:1033\u001b[39m, in \u001b[36mTMY.generate_tmy\u001b[39m\u001b[34m(self)\u001b[39m\n\u001b[32m   1031\u001b[39m \u001b[38;5;66;03m# This runs the whole workflow at once\u001b[39;00m\n\u001b[32m   1032\u001b[39m \u001b[38;5;28mprint\u001b[39m(\u001b[33m\"\u001b[39m\u001b[33mRunning TMY workflow. Expected overall runtime: 40 minutes\u001b[39m\u001b[33m\"\u001b[39m)\n\u001b[32m-> \u001b[39m\u001b[32m1033\u001b[39m \u001b[38;5;28;43mself\u001b[39;49m\u001b[43m.\u001b[49m\u001b[43mload_all_variables\u001b[49m\u001b[43m(\u001b[49m\u001b[43m)\u001b[49m\n\u001b[32m   1034\u001b[39m \u001b[38;5;28mself\u001b[39m.get_candidate_months()\n\u001b[32m   1035\u001b[39m \u001b[38;5;28mself\u001b[39m.run_tmy_analysis()\n",
      "\u001b[36mFile \u001b[39m\u001b[32m~/code/climakitae/climakitae/explore/typical_meteorological_year.py:848\u001b[39m, in \u001b[36mTMY.load_all_variables\u001b[39m\u001b[34m(self)\u001b[39m\n\u001b[32m    845\u001b[39m all_vars = xr.merge(all_data_arrays)\n\u001b[32m    847\u001b[39m \u001b[38;5;66;03m# load all indices in\u001b[39;00m\n\u001b[32m--> \u001b[39m\u001b[32m848\u001b[39m \u001b[38;5;28mself\u001b[39m.all_vars = \u001b[43mall_vars\u001b[49m\u001b[43m.\u001b[49m\u001b[43mcompute\u001b[49m\u001b[43m(\u001b[49m\u001b[43m)\u001b[49m\n\u001b[32m    849\u001b[39m \u001b[38;5;28mself\u001b[39m._vprint(\u001b[33m\"\u001b[39m\u001b[33m  All TMY variables loaded.\u001b[39m\u001b[33m\"\u001b[39m)\n",
      "\u001b[36mFile \u001b[39m\u001b[32m~/.local/lib/python3.12/site-packages/xarray/core/dataset.py:1073\u001b[39m, in \u001b[36mDataset.compute\u001b[39m\u001b[34m(self, **kwargs)\u001b[39m\n\u001b[32m   1049\u001b[39m \u001b[38;5;250m\u001b[39m\u001b[33;03m\"\"\"Manually trigger loading and/or computation of this dataset's data\u001b[39;00m\n\u001b[32m   1050\u001b[39m \u001b[33;03mfrom disk or a remote source into memory and return a new dataset.\u001b[39;00m\n\u001b[32m   1051\u001b[39m \u001b[33;03mUnlike load, the original dataset is left unaltered.\u001b[39;00m\n\u001b[32m   (...)\u001b[39m\u001b[32m   1070\u001b[39m \u001b[33;03mdask.compute\u001b[39;00m\n\u001b[32m   1071\u001b[39m \u001b[33;03m\"\"\"\u001b[39;00m\n\u001b[32m   1072\u001b[39m new = \u001b[38;5;28mself\u001b[39m.copy(deep=\u001b[38;5;28;01mFalse\u001b[39;00m)\n\u001b[32m-> \u001b[39m\u001b[32m1073\u001b[39m \u001b[38;5;28;01mreturn\u001b[39;00m \u001b[43mnew\u001b[49m\u001b[43m.\u001b[49m\u001b[43mload\u001b[49m\u001b[43m(\u001b[49m\u001b[43m*\u001b[49m\u001b[43m*\u001b[49m\u001b[43mkwargs\u001b[49m\u001b[43m)\u001b[49m\n",
      "\u001b[36mFile \u001b[39m\u001b[32m~/.local/lib/python3.12/site-packages/xarray/core/dataset.py:900\u001b[39m, in \u001b[36mDataset.load\u001b[39m\u001b[34m(self, **kwargs)\u001b[39m\n\u001b[32m    897\u001b[39m chunkmanager = get_chunked_array_type(*lazy_data.values())\n\u001b[32m    899\u001b[39m \u001b[38;5;66;03m# evaluate all the chunked arrays simultaneously\u001b[39;00m\n\u001b[32m--> \u001b[39m\u001b[32m900\u001b[39m evaluated_data: \u001b[38;5;28mtuple\u001b[39m[np.ndarray[Any, Any], ...] = \u001b[43mchunkmanager\u001b[49m\u001b[43m.\u001b[49m\u001b[43mcompute\u001b[49m\u001b[43m(\u001b[49m\n\u001b[32m    901\u001b[39m \u001b[43m    \u001b[49m\u001b[43m*\u001b[49m\u001b[43mlazy_data\u001b[49m\u001b[43m.\u001b[49m\u001b[43mvalues\u001b[49m\u001b[43m(\u001b[49m\u001b[43m)\u001b[49m\u001b[43m,\u001b[49m\u001b[43m \u001b[49m\u001b[43m*\u001b[49m\u001b[43m*\u001b[49m\u001b[43mkwargs\u001b[49m\n\u001b[32m    902\u001b[39m \u001b[43m\u001b[49m\u001b[43m)\u001b[49m\n\u001b[32m    904\u001b[39m \u001b[38;5;28;01mfor\u001b[39;00m k, data \u001b[38;5;129;01min\u001b[39;00m \u001b[38;5;28mzip\u001b[39m(lazy_data, evaluated_data, strict=\u001b[38;5;28;01mFalse\u001b[39;00m):\n\u001b[32m    905\u001b[39m     \u001b[38;5;28mself\u001b[39m.variables[k].data = data\n",
      "\u001b[36mFile \u001b[39m\u001b[32m~/.local/lib/python3.12/site-packages/xarray/namedarray/daskmanager.py:85\u001b[39m, in \u001b[36mDaskManager.compute\u001b[39m\u001b[34m(self, *data, **kwargs)\u001b[39m\n\u001b[32m     80\u001b[39m \u001b[38;5;28;01mdef\u001b[39;00m\u001b[38;5;250m \u001b[39m\u001b[34mcompute\u001b[39m(\n\u001b[32m     81\u001b[39m     \u001b[38;5;28mself\u001b[39m, *data: Any, **kwargs: Any\n\u001b[32m     82\u001b[39m ) -> \u001b[38;5;28mtuple\u001b[39m[np.ndarray[Any, _DType_co], ...]:\n\u001b[32m     83\u001b[39m     \u001b[38;5;28;01mfrom\u001b[39;00m\u001b[38;5;250m \u001b[39m\u001b[34;01mdask\u001b[39;00m\u001b[34;01m.\u001b[39;00m\u001b[34;01marray\u001b[39;00m\u001b[38;5;250m \u001b[39m\u001b[38;5;28;01mimport\u001b[39;00m compute\n\u001b[32m---> \u001b[39m\u001b[32m85\u001b[39m     \u001b[38;5;28;01mreturn\u001b[39;00m \u001b[43mcompute\u001b[49m\u001b[43m(\u001b[49m\u001b[43m*\u001b[49m\u001b[43mdata\u001b[49m\u001b[43m,\u001b[49m\u001b[43m \u001b[49m\u001b[43m*\u001b[49m\u001b[43m*\u001b[49m\u001b[43mkwargs\u001b[49m\u001b[43m)\u001b[49m\n",
      "\u001b[36mFile \u001b[39m\u001b[32m~/.local/lib/python3.12/site-packages/dask/base.py:660\u001b[39m, in \u001b[36mcompute\u001b[39m\u001b[34m(traverse, optimize_graph, scheduler, get, *args, **kwargs)\u001b[39m\n\u001b[32m    657\u001b[39m     postcomputes.append(x.__dask_postcompute__())\n\u001b[32m    659\u001b[39m \u001b[38;5;28;01mwith\u001b[39;00m shorten_traceback():\n\u001b[32m--> \u001b[39m\u001b[32m660\u001b[39m     results = \u001b[43mschedule\u001b[49m\u001b[43m(\u001b[49m\u001b[43mdsk\u001b[49m\u001b[43m,\u001b[49m\u001b[43m \u001b[49m\u001b[43mkeys\u001b[49m\u001b[43m,\u001b[49m\u001b[43m \u001b[49m\u001b[43m*\u001b[49m\u001b[43m*\u001b[49m\u001b[43mkwargs\u001b[49m\u001b[43m)\u001b[49m\n\u001b[32m    662\u001b[39m \u001b[38;5;28;01mreturn\u001b[39;00m repack([f(r, *a) \u001b[38;5;28;01mfor\u001b[39;00m r, (f, a) \u001b[38;5;129;01min\u001b[39;00m \u001b[38;5;28mzip\u001b[39m(results, postcomputes)])\n",
      "\u001b[36mFile \u001b[39m\u001b[32m~/miniconda3/envs/climakitae/lib/python3.12/queue.py:171\u001b[39m, in \u001b[36mQueue.get\u001b[39m\u001b[34m(self, block, timeout)\u001b[39m\n\u001b[32m    169\u001b[39m \u001b[38;5;28;01melif\u001b[39;00m timeout \u001b[38;5;129;01mis\u001b[39;00m \u001b[38;5;28;01mNone\u001b[39;00m:\n\u001b[32m    170\u001b[39m     \u001b[38;5;28;01mwhile\u001b[39;00m \u001b[38;5;129;01mnot\u001b[39;00m \u001b[38;5;28mself\u001b[39m._qsize():\n\u001b[32m--> \u001b[39m\u001b[32m171\u001b[39m         \u001b[38;5;28;43mself\u001b[39;49m\u001b[43m.\u001b[49m\u001b[43mnot_empty\u001b[49m\u001b[43m.\u001b[49m\u001b[43mwait\u001b[49m\u001b[43m(\u001b[49m\u001b[43m)\u001b[49m\n\u001b[32m    172\u001b[39m \u001b[38;5;28;01melif\u001b[39;00m timeout < \u001b[32m0\u001b[39m:\n\u001b[32m    173\u001b[39m     \u001b[38;5;28;01mraise\u001b[39;00m \u001b[38;5;167;01mValueError\u001b[39;00m(\u001b[33m\"\u001b[39m\u001b[33m'\u001b[39m\u001b[33mtimeout\u001b[39m\u001b[33m'\u001b[39m\u001b[33m must be a non-negative number\u001b[39m\u001b[33m\"\u001b[39m)\n",
      "\u001b[36mFile \u001b[39m\u001b[32m~/miniconda3/envs/climakitae/lib/python3.12/threading.py:355\u001b[39m, in \u001b[36mCondition.wait\u001b[39m\u001b[34m(self, timeout)\u001b[39m\n\u001b[32m    353\u001b[39m \u001b[38;5;28;01mtry\u001b[39;00m:    \u001b[38;5;66;03m# restore state no matter what (e.g., KeyboardInterrupt)\u001b[39;00m\n\u001b[32m    354\u001b[39m     \u001b[38;5;28;01mif\u001b[39;00m timeout \u001b[38;5;129;01mis\u001b[39;00m \u001b[38;5;28;01mNone\u001b[39;00m:\n\u001b[32m--> \u001b[39m\u001b[32m355\u001b[39m         \u001b[43mwaiter\u001b[49m\u001b[43m.\u001b[49m\u001b[43macquire\u001b[49m\u001b[43m(\u001b[49m\u001b[43m)\u001b[49m\n\u001b[32m    356\u001b[39m         gotit = \u001b[38;5;28;01mTrue\u001b[39;00m\n\u001b[32m    357\u001b[39m     \u001b[38;5;28;01melse\u001b[39;00m:\n",
      "\u001b[31mKeyboardInterrupt\u001b[39m: "
     ]
    }
   ],
   "source": [
    "tmy.generate_tmy()"
   ]
  },
  {
   "cell_type": "markdown",
   "id": "b09ae54f",
   "metadata": {},
   "source": [
    "5. **(Optional) Export to non-edw format.** The TMY files are exported in .epw format by default, but they can be saved as .tmy files using the method export_tmy_data with the argument extension=\"tmy\" as shown here (uncomment to run):"
   ]
  },
  {
   "cell_type": "code",
   "execution_count": null,
   "id": "0612323b",
   "metadata": {},
   "outputs": [],
   "source": [
    "#tmy.export_tmy_data(extension=\"csv\")"
   ]
  },
  {
   "cell_type": "markdown",
   "id": "3c56c5e5",
   "metadata": {},
   "source": [
    "### Visualizing TMY"
   ]
  },
  {
   "cell_type": "code",
   "execution_count": null,
   "id": "0e263c45",
   "metadata": {},
   "outputs": [],
   "source": [
    "idx = pd.IndexSlice\n",
    "sims = tmy.columns.get_level_values(\"Simulation\").unique().tolist()"
   ]
  },
  {
   "cell_type": "code",
   "execution_count": null,
   "id": "469e717d",
   "metadata": {},
   "outputs": [],
   "source": [
    "for sim in sims:\n",
    "    # Select columns for the current simulation\n",
    "    data = profile.loc[:, idx[:, sim]]\n",
    "    # Assuming the first level is month and the second is simulation\n",
    "    # We'll plot a heatmap of the data for each simulation\n",
    "    plt.figure(figsize=(12, 6))\n",
    "    plt.imshow(data.values.T, aspect=\"auto\", cmap=\"coolwarm\")\n",
    "    plt.colorbar(label=f\"{selection['variable']} ({selection['units']})\")\n",
    "    plt.yticks(range(data.shape[1]), data.columns.get_level_values(0))\n",
    "    plt.xticks(range(data.shape[0]), data.index)\n",
    "    plt.title(\n",
    "        f\"{sim} - {selection['variable']} at {selection['warming_level'][0]}°C Warming\"\n",
    "    )\n",
    "    plt.xlabel(\"Day of Year\")\n",
    "    plt.ylabel(\"Hour of Day\")\n",
    "    vmin = -max(abs(data.values.max()), abs(data.values.min()))\n",
    "    vmax = max(abs(data.values.max()), abs(data.values.min()))\n",
    "    xtick_freq = max(1, data.shape[0] // 12)\n",
    "    plt.xticks(range(0, data.shape[0], xtick_freq), data.index[::xtick_freq])\n",
    "    plt.clim(vmin, vmax)\n",
    "    plt.show()"
   ]
  }
 ],
 "metadata": {
  "kernelspec": {
   "display_name": "climakitae",
   "language": "python",
   "name": "python3"
  },
  "language_info": {
   "codemirror_mode": {
    "name": "ipython",
    "version": 3
   },
   "file_extension": ".py",
   "mimetype": "text/x-python",
   "name": "python",
   "nbconvert_exporter": "python",
   "pygments_lexer": "ipython3",
   "version": "3.12.7"
  }
 },
 "nbformat": 4,
 "nbformat_minor": 5
}
