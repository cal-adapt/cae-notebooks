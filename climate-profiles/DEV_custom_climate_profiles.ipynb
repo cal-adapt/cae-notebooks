{
 "cells": [
  {
   "cell_type": "markdown",
   "id": "1eb5860a-029b-46ad-adc4-cf8fa11895c6",
   "metadata": {},
   "source": [
    "# Custom Climate Profiles Generation\n",
    "\n",
    "\n",
    "This notebook generates custom `Climate Profile` hourly datasets (8760) of two varieties. \n",
    "\n",
    "1. Standard Year Profile (single variable) -- *in development*\n",
    "2. Typical Meteorological Year Profile (TMY, multi-variable)\n",
    "\n",
    "**Coming soon!** This work is *in development* by the AE team. \n",
    "\n",
    "### What is a climate profile?\n",
    "\n",
    "\n",
    "### 2 Different kinds of profiles\n",
    "\n",
    "1. AMY\n",
    "2. TMY\n",
    "\n",
    "Are you just looking to generate profiles for one of the pre-generated 32 weather stations? Check out this page."
   ]
  },
  {
   "cell_type": "markdown",
   "id": "b009daff",
   "metadata": {},
   "source": [
    "## Setup"
   ]
  },
  {
   "cell_type": "code",
   "execution_count": 2,
   "id": "5c38af90",
   "metadata": {},
   "outputs": [],
   "source": [
    "%config InlineBackend.figure_format = 'svg' # Make plots look better in the notebook environment \n",
    "%reload_ext autoreload\n",
    "%autoreload 2\n",
    "\n",
    "from climakitae.explore.amy import get_climate_profile\n",
    "\n",
    "import climakitae as ck\n",
    "import pandas as pd"
   ]
  },
  {
   "cell_type": "markdown",
   "id": "f5d16686",
   "metadata": {},
   "source": [
    "## Average Meteoroligical Year"
   ]
  },
  {
   "cell_type": "markdown",
   "id": "760031b3",
   "metadata": {},
   "source": [
    "Examining a particular month within the Average Meteorological Year can provide hourly information that could inform energy usage analysis. For example, a warm season month can be used to examine cooling demand; while a cold season month can be used for exploring heating demand change under future climate conditions.\n",
    "\n",
    "To analyze a specific month, we'll retrieve some of the absolute AMY data of interest shown above. Please select in the explore panel above 'Absolute' as your AMY Type, and either 'Historical' or 'Warming Level Future' with a warming level of your choosing. A progress bar is provided when running the cell below, as this step may take a little while. \n",
    "\n",
    "Visualize one month from the Average Meteorological Year \n",
    "First, we'll subset the dataframe to grab data for the month of January. You can change the month easily by changing the variable `month`; just make sure the value you is the shortened version of the month (i.e. \"Jan\" instead of \"January\") so that the code can find the substring in the `amy_data` object. "
   ]
  },
  {
   "cell_type": "markdown",
   "id": "20b1c6dc",
   "metadata": {},
   "source": [
    "https://github.com/cal-adapt/climakitae/blob/8182900aa62947285cb8ebbe6f29d9b9acdc6991/climakitae/explore/amy.py#L214"
   ]
  },
  {
   "cell_type": "markdown",
   "id": "04ea8f32",
   "metadata": {},
   "source": [
    "### Generating AMY"
   ]
  },
  {
   "cell_type": "markdown",
   "id": "1e7eb760",
   "metadata": {},
   "source": [
    "        - variable (Optional) : str, default \"Air Temperature at 2m\"\n",
    "        - resolution (Optional) : str, default \"3 km\"\n",
    "        - warming_level (Required) : List[float], default [1.2]\n",
    "        - cached_area (Optional) : str or List[str]\n",
    "        - units (Optional) : str, default \"degF\"\n",
    "        - latitude (Optional) : float or tuple\n",
    "        - longitude (Optional) : float or tuple\n",
    "        - stations (Optional) : list[str], default None\n",
    "        - days_in_year (Optional) : int, default 365\n",
    "        - q (Optional) : float | list[float], default 0.5, quantile for profile calculation\n",
    "        - no_delta (optional) : bool, default False, if True, do not apply baseline subtraction, return raw future profile\n"
   ]
  },
  {
   "cell_type": "code",
   "execution_count": null,
   "id": "c1d7dfea",
   "metadata": {},
   "outputs": [],
   "source": [
    "variable =  # str, default \"Air Temperature at 2m\"\n",
    "resolution = # str, default \"3 km\"\n",
    "warming_level =  # List[float], default [1.2]\n",
    "cached_area =  # str or List[str]\n",
    "units = # str, default \"degF\"\n",
    "latitude = # float or tuple\n",
    "longitude = # float or tuple\n",
    "stations = # list[str], default None\n",
    "days_in_year = # : int, default 365\n",
    "q = # float | list[float], default 0.5, quantile for profile calculation\n",
    "no_delta = # bool, default False, if True, do not apply baseline subtraction, return raw future profile\n"
   ]
  },
  {
   "cell_type": "code",
   "execution_count": 3,
   "id": "ed95b834",
   "metadata": {},
   "outputs": [],
   "source": [
    "selection = {\n",
    "    \"variable\": \"Air Temperature at 2m\",\n",
    "    \"resolution\": \"3 km\",\n",
    "    \"warming_level\": [2.0],\n",
    "    # \"warming_level\": [1.5, 1.75, 2.0, 2.25, 2.5],\n",
    "    \"units\": \"degF\",\n",
    "    \"cached_area\": [\"Los Angeles County\"],\n",
    "}"
   ]
  },
  {
   "cell_type": "code",
   "execution_count": null,
   "id": "04826c65",
   "metadata": {},
   "outputs": [
    {
     "name": "stdout",
     "output_type": "stream",
     "text": [
      "📊 Retrieving climate data...\n"
     ]
    },
    {
     "data": {
      "application/vnd.jupyter.widget-view+json": {
       "model_id": "6d752a1dca334a6fa43f7d3372e3193b",
       "version_major": 2,
       "version_minor": 0
      },
      "text/plain": [
       "Data retrieval:   0%|          | 0/2 [00:00<?, ?dataset/s]"
      ]
     },
     "metadata": {},
     "output_type": "display_data"
    },
    {
     "name": "stdout",
     "output_type": "stream",
     "text": [
      "⚙️  Computing climate profiles...\n",
      "      📊 Processing 262,800 hours (30 years) of data\n",
      "      🎯 Computing 50th percentile for each hour of year\n",
      "      ⚙️ Computing quantiles for 1 warming level(s) and 8 simulation(s)\n"
     ]
    },
    {
     "data": {
      "application/vnd.jupyter.widget-view+json": {
       "model_id": "17a5bec2ddff498aabf76c3a81905890",
       "version_major": 2,
       "version_minor": 0
      },
      "text/plain": [
       "      Computing profiles:   0%|          | 0/8 [00:00<?, ?combo/s]"
      ]
     },
     "metadata": {},
     "output_type": "display_data"
    },
    {
     "name": "stdout",
     "output_type": "stream",
     "text": [
      "      ✅ Profile computation complete! Final shape: (365, 192)\n",
      "         With index: Day of Year, columns: ['Hour', 'Simulation']\n",
      "         Units: degF\n",
      "      📊 Processing 262,800 hours (30 years) of data\n",
      "      🎯 Computing 50th percentile for each hour of year\n",
      "      ⚙️ Computing quantiles for 1 warming level(s) and 8 simulation(s)\n"
     ]
    },
    {
     "data": {
      "application/vnd.jupyter.widget-view+json": {
       "model_id": "530e22123ffd40be8b533f87e09e58ab",
       "version_major": 2,
       "version_minor": 0
      },
      "text/plain": [
       "      Computing profiles:   0%|          | 0/8 [00:00<?, ?combo/s]"
      ]
     },
     "metadata": {},
     "output_type": "display_data"
    }
   ],
   "source": [
    "profile = get_climate_profile(**selection)"
   ]
  },
  {
   "cell_type": "markdown",
   "id": "7d2848e8",
   "metadata": {},
   "source": [
    "###  Visualization"
   ]
  },
  {
   "cell_type": "markdown",
   "id": "c3a470f5",
   "metadata": {},
   "source": [
    "import matplotlib.pyplot as plt\n",
    "import pandas as pd\n",
    "\n",
    "# plotting for only one warming level\n",
    "idx = pd.IndexSlice\n",
    "sims = profile.columns.get_level_values(\"Simulation\").unique().tolist()\n",
    "\n",
    "for sim in sims:\n",
    "    # Select columns for the current simulation\n",
    "    data = profile.loc[:, idx[:, sim]]\n",
    "    # Assuming the first level is month and the second is simulation\n",
    "    # We'll plot a heatmap of the data for each simulation\n",
    "    plt.figure(figsize=(12, 6))\n",
    "    plt.imshow(data.values.T, aspect=\"auto\", cmap=\"coolwarm\")\n",
    "    plt.colorbar(label=f\"{selection['variable']} ({selection['units']})\")\n",
    "    plt.yticks(range(data.shape[1]), data.columns.get_level_values(0))\n",
    "    plt.xticks(range(data.shape[0]), data.index)\n",
    "    plt.title(\n",
    "        f\"{sim} - {selection['variable']} at {selection['warming_level'][0]}°C Warming\"\n",
    "    )\n",
    "    plt.xlabel(\"Day of Year\")\n",
    "    plt.ylabel(\"Hour of Day\")\n",
    "    vmin = -max(abs(data.values.max()), abs(data.values.min()))\n",
    "    vmax = max(abs(data.values.max()), abs(data.values.min()))\n",
    "    xtick_freq = max(1, data.shape[0] // 12)\n",
    "    plt.xticks(range(0, data.shape[0], xtick_freq), data.index[::xtick_freq])\n",
    "    plt.clim(vmin, vmax)\n",
    "    plt.show()"
   ]
  }
 ],
 "metadata": {
  "kernelspec": {
   "display_name": "climakitae",
   "language": "python",
   "name": "python3"
  },
  "language_info": {
   "codemirror_mode": {
    "name": "ipython",
    "version": 3
   },
   "file_extension": ".py",
   "mimetype": "text/x-python",
   "name": "python",
   "nbconvert_exporter": "python",
   "pygments_lexer": "ipython3",
   "version": "3.12.7"
  }
 },
 "nbformat": 4,
 "nbformat_minor": 5
}
