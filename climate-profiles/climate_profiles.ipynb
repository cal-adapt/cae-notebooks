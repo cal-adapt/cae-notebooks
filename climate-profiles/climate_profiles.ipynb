{
 "cells": [
  {
   "cell_type": "markdown",
   "id": "1eb5860a-029b-46ad-adc4-cf8fa11895c6",
   "metadata": {},
   "source": [
    "# Climate Profiles Notebook"
   ]
  },
  {
   "cell_type": "markdown",
   "id": "defbbda8-2af9-4853-a11b-3a303078d79a",
   "metadata": {},
   "source": [
    "## 1. Calculating a Typical Meteorological Year\n",
    "<br>This section walks through the process of calculating a [Typical Meteorological Year](https://nsrdb.nrel.gov/data-sets/tmy), an hourly dataset used for applications in energy and building systems modeling. Because this represents average rather than extreme conditions, an TMY dataset is not suited for designing systems to meet the worst-case conditions occurring at a location. \n",
    "\n",
    "The TMY methodology here mirrors that of the Sandia/NREL TMY3 methodology, and uses historic and projected downscaled climate data available through the Cal-Adapt: Analytics Engine catalog. As this methodology heavily weights the solar radiation input data, be aware that the final selection of \"typical\" months may not be typical for other variables. \n",
    "\n",
    "**Intended Application** As a user, I want to <span style=\"color:#FF0000\">**generate a typical meteorological year file**</span> for a location of interest:\n",
    "- Understand the methods that are involved in generating a TMY dataset\n",
    "- Visualize the TMY dataset across all input variables\n",
    "- Export the TMY dataset for available models for input into my workflow\n",
    "\n",
    "**Note**: \n",
    "1. For practical generation of a TMY dataset, a user <span style=\"color:#FF0000\">**only needs to provide 2 elements**</span>: the **location**, and **reference time period**. These selections are highlighted below for you. \n",
    "\n",
    "**Runtime**: With the default settings, this notebook takes approximately **50 minutes** to run from start to finish. Modifications to selections may increase the runtime."
   ]
  },
  {
   "cell_type": "markdown",
   "id": "3980ac79-7d49-4b5a-b546-78e7cabf7cb6",
   "metadata": {},
   "source": [
    "### Step 0: Set-up\n",
    "\n",
    "Import the [climakitae](https://github.com/cal-adapt/climakitae) library and other dependencies."
   ]
  },
  {
   "cell_type": "code",
   "execution_count": null,
   "id": "d4f84659-89f9-4c38-83c6-c6b353b14a3b",
   "metadata": {},
   "outputs": [],
   "source": [
    "from climakitae.explore.typical_meteorological_year import TMY\n",
    "from climakitaegui.explore.typical_meteorological_year import plot_one_var_cdf\n",
    "from climakitae.util.utils import read_csv_file\n",
    "\n",
    "import warnings\n",
    "\n",
    "warnings.filterwarnings(\"ignore\")"
   ]
  },
  {
   "cell_type": "markdown",
   "id": "0e3f3146-9f57-4e1d-b3c0-c0bb47519969",
   "metadata": {},
   "source": [
    "### Step 1: Grab and process all required input data\n",
    "\n",
    "The [TMY3 method](https://www.nrel.gov/docs/fy08osti/43156.pdf) selects a \"typical\" month based on ten daily variables: max, min, and mean air and dew point temperatures, max and mean wind speed, global irradiance and direct irradiance.  \n",
    "\n",
    "#### Step 1a: Select location of interest\n",
    "TMYs are calculated for a specific location of interest, like a building or power plant. Here, we will use a known weather station location, via their latitude and longitude to extract the data that we need to calculate the TMY. In the example below, we will look specifically at Los Angeles International Airport, but will note in the code below how you can provide your own location coordinates too. \n",
    "\n",
    "First we display a list of available stations:"
   ]
  },
  {
   "cell_type": "code",
   "execution_count": null,
   "id": "016b3e79-cebf-47a6-b9aa-7754be27cbf2",
   "metadata": {},
   "outputs": [],
   "source": [
    "# read in station file of CA HadISD stations\n",
    "stn_file = read_csv_file(\"data/hadisd_stations.csv\")\n",
    "# Display station names\n",
    "list(stn_file[\"station\"])"
   ]
  },
  {
   "cell_type": "markdown",
   "id": "27602476-973f-456f-85a6-cf7ca9526dcd",
   "metadata": {},
   "source": [
    "In the following cell we set the `stn_name` variable to the chosen station. The name must match the version that appears in the station list above."
   ]
  },
  {
   "cell_type": "code",
   "execution_count": null,
   "id": "797a336b-65ee-4ce4-a939-72dd9342fb42",
   "metadata": {},
   "outputs": [],
   "source": [
    "stn_name = \"Los Angeles International Airport (KLAX)\""
   ]
  },
  {
   "cell_type": "markdown",
   "id": "9e464e10-3def-4811-83e8-83c1e143cf27",
   "metadata": {},
   "source": [
    "Alternatively, we can choose a latitude and longitude. In this case, we do not set the `stn_name` variable."
   ]
  },
  {
   "cell_type": "code",
   "execution_count": null,
   "id": "e29c3efe-269c-4ba9-8948-b8d98debe719",
   "metadata": {},
   "outputs": [],
   "source": [
    "# Uncomment (delete the # character) to set latitude and longitude.\n",
    "# latitude = 37.9\n",
    "# longitude = -122.06"
   ]
  },
  {
   "cell_type": "markdown",
   "id": "e2a79592-7542-456c-a1d1-b7dc9b5fc367",
   "metadata": {},
   "source": [
    "#### Step 1b: Select time frame of interest\n",
    "The second required input for generating a TMY dataset is the **time frame of interest**. The recommended minimum number of input years for a TMY dataset is 15-20 years worth of daily data; we will use 30 years to represent a standard climatological period. For data post-2014, the available scenario is SSP 3-7.0, although scenario selection in the near-future is relatively independent.\n",
    "\n",
    "We will also process the data for our designated station location (latitude, and longitude) at 9 km over the <span style=\"color:#FF0000\">1990-2020 period</span> as an example."
   ]
  },
  {
   "cell_type": "code",
   "execution_count": null,
   "id": "ed710054-71c5-4883-80c5-293c1c154d17",
   "metadata": {},
   "outputs": [],
   "source": [
    "# selected reference period\n",
    "start_year = 1990\n",
    "end_year = 2020"
   ]
  },
  {
   "cell_type": "markdown",
   "id": "0869a098-12d6-4f11-85cc-a5aba5d3df29",
   "metadata": {},
   "source": [
    "### Step 2: Generate the TMY data outputs\n",
    "\n",
    "Generally, the following data is outputted using the TMY months:\n",
    "- Date & time (UTC)\n",
    "- Air temperature at 2m [°C]\n",
    "- Dew point temperature [°C]\n",
    "- Relative humidity [%]\n",
    "- Global horizontal irradiance [W/m2]\n",
    "- Direct normal irradiance [W/m2]\n",
    "- Diffuse horizontal irradiance [W/m2]\n",
    "- Downwelling infrared radiation [W/m2]\n",
    "- Wind speed at 10m [m/s]\n",
    "- Wind direction at 10m [°]\n",
    "- Surface air pressure [Pa]\n",
    "\n",
    "We can use the TMY object to set up, run, and output TMY results to file. The first step is to initialize the object with your desired reference period (`start_year` and `end_year`) and location (`stn_name`). `True` is the default value for `verbose` but we have also set it explicitly for demonstration."
   ]
  },
  {
   "cell_type": "code",
   "execution_count": null,
   "id": "027c5d66-7171-4f67-a6d5-c13a4843ce4b",
   "metadata": {
    "scrolled": true
   },
   "outputs": [],
   "source": [
    "# Initialize TMY object\n",
    "tmy = TMY(\n",
    "    start_year=start_year,\n",
    "    end_year=end_year,\n",
    "    station_name=\"Los Angeles International Airport (KLAX)\",\n",
    "    verbose=True,\n",
    ")\n",
    "\n",
    "# Or, using latitude and longitude (the nearest lat/lon cell on the data grid will be selected):\n",
    "# tmy = TMY(start_year=start_year, end_year=end_year, latitude=latitude, longitude=longitude, verbose=True)\n",
    "\n",
    "# A custom station name can be provided with custom lat/lon. The name cannot match an existing HadISD station.\n",
    "# tmy = TMY(start_year=start_year, end_year=end_year, latitude=latitude, longitude=longitude, station_name = \"Custom name\", verbose=True)"
   ]
  },
  {
   "cell_type": "markdown",
   "id": "60dac2b9-cb0c-4395-a309-f78abd014d40",
   "metadata": {},
   "source": [
    "We can run the entire TMY workflow with a single command, as shown below. This will write 4 TMY files, one for each model.  \n",
    "The runtime for this command can reach up to **30 minutes**. Because we set `verbose` to True, the TMY object will print updates as different parts of the workflow initialize."
   ]
  },
  {
   "cell_type": "code",
   "execution_count": null,
   "id": "9ad6f622-e31f-4f41-bdf7-1898f459c983",
   "metadata": {},
   "outputs": [],
   "source": [
    "tmy.generate_tmy()"
   ]
  },
  {
   "cell_type": "markdown",
   "id": "53704638-cc1e-4af9-832c-b9e6d1cef29d",
   "metadata": {},
   "source": [
    "Let's observe what the TMY data looks like for one of the simulations. The data we want is saved in the class attribute `tmy_data_to_export`."
   ]
  },
  {
   "cell_type": "code",
   "execution_count": null,
   "id": "380ece63-6c46-40ae-9184-26501886581f",
   "metadata": {},
   "outputs": [],
   "source": [
    "simulation = \"WRF_MPI-ESM1-2-HR_r3i1p1f1\"\n",
    "tmy.tmy_data_to_export[simulation].head(5)"
   ]
  },
  {
   "cell_type": "markdown",
   "id": "7cf860f9-0b6d-485a-b133-4cb98ba5b9de",
   "metadata": {},
   "source": [
    "Next, we visualize the TMY data itself. We show the results for the same simulation:"
   ]
  },
  {
   "cell_type": "code",
   "execution_count": null,
   "id": "95e67b3f-c5b6-4515-9481-145abe774f97",
   "metadata": {},
   "outputs": [],
   "source": [
    "tmy.show_tmy_data_to_export(simulation)"
   ]
  },
  {
   "cell_type": "markdown",
   "id": "4e2871d7-64b5-4ece-8fd4-5f1610bd4824",
   "metadata": {},
   "source": [
    "### Step 3. Explore the TMY process"
   ]
  },
  {
   "cell_type": "markdown",
   "id": "3081aede-02e6-4e89-b534-ab143eb707c1",
   "metadata": {},
   "source": [
    "#### Step 3a. Models\n",
    "It is important to note that not all models in the Cal-Adapt: Analytics Engine have the solar variables critical for TMY file generation - in fact, only 4 do! The TMY class subsets our variables to ensure that the same 4 models are selected for consistency. The simulations are shown below:"
   ]
  },
  {
   "cell_type": "code",
   "execution_count": null,
   "id": "94b684f3-fa03-4947-937c-0eeeb924c1cd",
   "metadata": {},
   "outputs": [],
   "source": [
    "tmy.simulations"
   ]
  },
  {
   "cell_type": "markdown",
   "id": "9f9c48d9-7df9-4c64-a01c-23d358a9a2f4",
   "metadata": {},
   "source": [
    "#### Step 3b. How top months are chosen\n",
    "\n",
    "Now that we've run the TMY workflow, we can investigate the Cumulative Distribution Function results that were used to select top months.\n",
    "\n",
    "In the plot below, we'll display maximum air temperature to assess the climatological CDF pattern, but you can modify the variable here to one of your choosing to see the pattern too! Also select a different month by moving the slider bar to see the pattern throughout the year. "
   ]
  },
  {
   "cell_type": "code",
   "execution_count": null,
   "id": "07e16654-973e-4985-b90c-4d8dd6fa9ef8",
   "metadata": {},
   "outputs": [],
   "source": [
    "# Choose your desired variable\n",
    "var = \"Daily max air temperature\"\n",
    "\n",
    "# Make the plot\n",
    "cdf_plot = plot_one_var_cdf(tmy.cdf_climatology, var)\n",
    "display(cdf_plot)"
   ]
  },
  {
   "cell_type": "markdown",
   "id": "9172073a-a52d-4c7f-bba9-2fedb152157e",
   "metadata": {},
   "source": [
    "Like the climatology CDF figure above, let's check out the individual months next. You can modify the variable, and month-year to display too. "
   ]
  },
  {
   "cell_type": "code",
   "execution_count": null,
   "id": "43caf3b8-b596-4e90-b7be-c99416e1c461",
   "metadata": {},
   "outputs": [],
   "source": [
    "# Choose your desired variable\n",
    "var = \"Daily max air temperature\"\n",
    "\n",
    "# Make the plot\n",
    "cdf_plot_mon_yr = plot_one_var_cdf(tmy.cdf_monthly, var)\n",
    "display(cdf_plot_mon_yr)"
   ]
  },
  {
   "cell_type": "markdown",
   "id": "0550ff14-3883-4b6f-859a-638b96b776ad",
   "metadata": {},
   "source": [
    "If you want to inspect the top months without running the entire TMY workflow, you can! The TMY workflow can be run in a step-by-step manner.\n",
    "\n",
    "We'll demonstrate this with a fresh TMY object that does not have data loaded."
   ]
  },
  {
   "cell_type": "code",
   "execution_count": null,
   "id": "78d48755-0845-4002-bb3a-c1bb7f9531fb",
   "metadata": {},
   "outputs": [],
   "source": [
    "start_year = 1990\n",
    "end_year = 2020\n",
    "latitude = 37.9\n",
    "longitude = -122.06\n",
    "tmy = TMY(\n",
    "    start_year=start_year,\n",
    "    end_year=end_year,\n",
    "    latitude=latitude,\n",
    "    longitude=longitude,\n",
    "    verbose=False,\n",
    ")"
   ]
  },
  {
   "cell_type": "markdown",
   "id": "0f81ea04-9030-450c-a4d0-7be1d1a71e8f",
   "metadata": {},
   "source": [
    "The method load_all_variables() will load the five variables needed for the TMY analysis into memory. The loaded data can be accessed via the class variable `all_vars`.\n",
    "\n",
    "The following variables from the Analytics Engine catalog are used:  \n",
    "* Air Temperature at 2m\n",
    "* Wind speed at 10m  \n",
    "* Dew point temperature  \n",
    "* Instantaneous downwelling shortwave flux at bottom  \n",
    "* Shortwave surface downward direct normal irradiance  "
   ]
  },
  {
   "cell_type": "code",
   "execution_count": null,
   "id": "9f8e169b-4624-4542-904d-9cb4e6d814ec",
   "metadata": {},
   "outputs": [],
   "source": [
    "tmy.load_all_variables()  # Load model datasets\n",
    "tmy.all_vars"
   ]
  },
  {
   "cell_type": "markdown",
   "id": "344b1f98-3f0d-456c-9062-387916ae70c6",
   "metadata": {},
   "source": [
    "The `set_cdf_climatology` method uses the loaded data to calculate the CDF for the baseline period climatology. The results can be accessed via the class variable `cdf_climatology`. See these links to the source code for <span style=\"color: blue;\">[set_cdf_climatology](https://github.com/cal-adapt/climakitae/blob/improve/tmy-refactor/climakitae/explore/typical_meteorological_year.py#L641)</span> and <span style=\"color: blue;\">[get_cdf](https://github.com/cal-adapt/climakitae/blob/improve/tmy-refactor/climakitae/explore/typical_meteorological_year.py#L90)</span>."
   ]
  },
  {
   "cell_type": "code",
   "execution_count": null,
   "id": "f458f1fe-4687-46fc-b993-ccab7049d347",
   "metadata": {},
   "outputs": [],
   "source": [
    "tmy.set_cdf_climatology()\n",
    "tmy.cdf_climatology"
   ]
  },
  {
   "cell_type": "markdown",
   "id": "ddc2061c-ed8c-44f2-a7c1-86e1b62c268e",
   "metadata": {},
   "source": [
    "After the climatology CDF is obtained, we calculate the monthly CDF for all months and simulations. This is done in the method `set_cdf_monthly`. The results can be accessed via the class variable `cdf_monthly`. See these links to the source code for <span style=\"color: blue;\">[set_cdf_monthly](https://github.com/cal-adapt/climakitae/blob/improve/tmy-refactor/climakitae/explore/typical_meteorological_year.py#L651)</span> and <span style=\"color: blue;\">[get_cdf_monthly](https://github.com/cal-adapt/climakitae/blob/improve/tmy-refactor/climakitae/explore/typical_meteorological_year.py#L105)</span>."
   ]
  },
  {
   "cell_type": "code",
   "execution_count": null,
   "id": "4afc2b88-47df-42ca-a906-6e72743243aa",
   "metadata": {},
   "outputs": [],
   "source": [
    "tmy.set_cdf_monthly()\n",
    "tmy.cdf_monthly"
   ]
  },
  {
   "cell_type": "markdown",
   "id": "8594c653-206f-4d94-9dd8-562fb4b22891",
   "metadata": {},
   "source": [
    "When both the climatology CDF and monthly CDFs are available, we can get the weighted Finkelstein-Schafer (F-S) statistic in `set_weighted_statistic`. The results can be accessed via class variable `weighted_fs_sum`.  See this link to the source code for <span style=\"color: blue;\">[set_weighted_statistic](https://github.com/cal-adapt/climakitae/blob/improve/tmy-refactor/climakitae/explore/typical_meteorological_year.py#L661)</span>."
   ]
  },
  {
   "cell_type": "code",
   "execution_count": null,
   "id": "4d95cdec-52c8-494d-b7bb-f79aa3246396",
   "metadata": {},
   "outputs": [],
   "source": [
    "tmy.set_weighted_statistic()\n",
    "tmy.weighted_fs_sum"
   ]
  },
  {
   "cell_type": "markdown",
   "id": "f1968363-903c-49b4-92d1-0a66fe5bb091",
   "metadata": {},
   "source": [
    "Finally, the weighted F-S statistic is used to choose the top months for each model to include in the TMY. This is done in method `set_top_months`. The resulting pandas dataframe table can be accessed via class variable `top_months`. See these links to the source code for <span style=\"color: blue;\">[set_top_months](https://github.com/cal-adapt/climakitae/blob/improve/tmy-refactor/climakitae/explore/typical_meteorological_year.py#L673)</span> and <span style=\"color: blue;\">[get_top_months](https://github.com/cal-adapt/climakitae/blob/improve/tmy-refactor/climakitae/explore/typical_meteorological_year.py#L222)</span>."
   ]
  },
  {
   "cell_type": "code",
   "execution_count": null,
   "id": "007a824d-4786-4a14-be5f-fc1850ac1016",
   "metadata": {},
   "outputs": [],
   "source": [
    "tmy.set_top_months()\n",
    "tmy.top_months"
   ]
  },
  {
   "cell_type": "markdown",
   "id": "868e4129-cdec-4cbe-b0b3-fca296abe741",
   "metadata": {},
   "source": [
    "A convenience function is provided to allow you to run the entire workflow for selecting top months without running the full TMY analysis. The call shown below will run every step between `load_all_variables` and `set_top_months` (uncomment to call)."
   ]
  },
  {
   "cell_type": "code",
   "execution_count": null,
   "id": "41f224eb-a9f1-4842-b6a2-2e66e6d5b9b4",
   "metadata": {},
   "outputs": [],
   "source": [
    "# This method runs the whole workflow up to set_top_df()\n",
    "# tmy.get_candidate_months()"
   ]
  },
  {
   "cell_type": "markdown",
   "id": "53cfc0b7-d111-45b3-b474-ef9749a0fab4",
   "metadata": {},
   "source": [
    "Once the top months have been generated and examined, the analysis can be continued using the following function calls (uncomment to run):"
   ]
  },
  {
   "cell_type": "code",
   "execution_count": 1,
   "id": "1d149810-be2d-46bc-8eb8-4a34a0d9acf2",
   "metadata": {},
   "outputs": [],
   "source": [
    "# Run analysis\n",
    "# tmy.run_tmy_analysis()\n",
    "\n",
    "# Look at results\n",
    "# tmy.tmy_data_to_export()\n",
    "\n",
    "# Write to file\n",
    "# tmy.export_tmy_data(extension=\"tmy\") # options are \"epw\" and \"tmy\""
   ]
  },
  {
   "cell_type": "code",
   "execution_count": null,
   "id": "d3e664df-4f48-4614-8cbc-871328ff0e5d",
   "metadata": {},
   "outputs": [],
   "source": []
  }
 ],
 "metadata": {
  "kernelspec": {
   "display_name": "Python 3 (ipykernel)",
   "language": "python",
   "name": "python3"
  },
  "language_info": {
   "codemirror_mode": {
    "name": "ipython",
    "version": 3
   },
   "file_extension": ".py",
   "mimetype": "text/x-python",
   "name": "python",
   "nbconvert_exporter": "python",
   "pygments_lexer": "ipython3",
   "version": "3.12.10"
  }
 },
 "nbformat": 4,
 "nbformat_minor": 5
}
