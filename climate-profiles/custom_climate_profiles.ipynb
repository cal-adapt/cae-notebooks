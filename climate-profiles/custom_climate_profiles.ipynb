{
 "cells": [
  {
   "cell_type": "markdown",
   "id": "1eb5860a-029b-46ad-adc4-cf8fa11895c6",
   "metadata": {},
   "source": [
    "# Custom Climate Profiles Generation\n",
    "\n",
    "\n",
    "** insert paragraphs 1 and 3 from the guidance document **"
   ]
  },
  {
   "cell_type": "markdown",
   "id": "b009daff",
   "metadata": {},
   "source": [
    "## Setup\n",
    "\n",
    "Import the [climakitae](https://github.com/cal-adapt/climakitae) library and other dependencies."
   ]
  },
  {
   "cell_type": "code",
   "execution_count": 4,
   "id": "5c38af90",
   "metadata": {},
   "outputs": [],
   "source": [
    "%config InlineBackend.figure_format = 'svg' # Make plots look better in the notebook environment \n",
    "%reload_ext autoreload\n",
    "%autoreload 2\n",
    "\n",
    "import climakitae as ck\n",
    "import pandas as pd\n",
    "import matplotlib.pyplot as plt\n",
    "\n",
    "from climakitae.explore.amy import get_climate_profile\n",
    "\n",
    "from climakitae.explore.typical_meteorological_year import TMY\n",
    "from climakitae.util.utils import read_csv_file"
   ]
  },
  {
   "cell_type": "markdown",
   "id": "f5d16686",
   "metadata": {},
   "source": [
    "## Standard Year Profile "
   ]
  },
  {
   "cell_type": "markdown",
   "id": "760031b3",
   "metadata": {},
   "source": [
    "The Standard Year Profile (SY) represents the mean weather conditions for a one-year period. \n",
    "\n",
    "Examining a particular month within the Average Meteorological Year can provide hourly information that could inform energy usage analysis. For example, a warm season month can be used to examine cooling demand; while a cold season month can be used for exploring heating demand change under future climate conditions.\n",
    "\n",
    "The SY for a given 30-year period (either the historical period 1981-2010, or a thirty year window centered on where each GCM simulation reaches the specified global warming level) is calculated by identifying for each hour the hourly value that is closest to the mean hourly value across all years to produce a full annual timeseries of hourly data for a variable of interest that best represents the average conditions.\n",
    "\n",
    "The resulting heatmap of AMY values for a full annual timeseries is then plotted, with day of year 1 being January 1st and hour of day given in Pacific Standard Time. \n",
    "\n",
    "To learn more about the data available on the Analytics Engine, [see our data catalog](https://analytics.cal-adapt.org/data/). \n",
    "\n",
    "**Intended Application**: As a user, I want to **<span style=\"color:#FF0000\">analyze the average weather conditions</span>** of a region of interest by:\n",
    "1. Computing the average weather conditions\n",
    "2. Visualize average conditions throughout the year in a heatmap\n",
    "\n",
    "Because this represents average rather than extreme conditions, a Standard Year Profile is not suited for designing systems to meet the worst-case conditions occurring at a location.\n",
    "\n",
    "**Runtime**: Standard Year Profile generation time ranges from around **5 minutes** for a single grid cell and and to **1 hour** for the entire state of California.  "
   ]
  },
  {
   "cell_type": "markdown",
   "id": "04ea8f32",
   "metadata": {},
   "source": [
    "### Generating the Standard Year Profile"
   ]
  },
  {
   "cell_type": "markdown",
   "id": "81e766c2",
   "metadata": {},
   "source": [
    "Select the warming level, location and variable for which you want to generate the Standard Year Profile."
   ]
  },
  {
   "cell_type": "markdown",
   "id": "13406e72",
   "metadata": {},
   "source": [
    "1. **Select variable.** The default is \"Air Temperature at 2m\". Want to know what variables (and their associated units) are available to choose from? Check out our variable list [here](https://github.com/cal-adapt/climakitae/blob/main/climakitae/data/variable_descriptions.csv)."
   ]
  },
  {
   "cell_type": "code",
   "execution_count": null,
   "id": "ea8d893a",
   "metadata": {},
   "outputs": [],
   "source": [
    "variable = \"Air Temperature at 2m\" \n",
    "units = \"degF\""
   ]
  },
  {
   "cell_type": "markdown",
   "id": "c1b22990",
   "metadata": {},
   "source": [
    "2. **Select quantile.** The range is 0.0 to 1.0."
   ]
  },
  {
   "cell_type": "code",
   "execution_count": 2,
   "id": "377b00bd",
   "metadata": {},
   "outputs": [],
   "source": [
    "q = 0.5 "
   ]
  },
  {
   "cell_type": "markdown",
   "id": "70d0d01b",
   "metadata": {},
   "source": [
    "3. **Select warming level.** The default is [1.2] and base options are [1.5, 1.75, 2.0, 2.25, 2.5]. If you decide to generate SY for a warming level outside of that list, keep in mind that the realistic range of warming levels is 0.5-4.0. "
   ]
  },
  {
   "cell_type": "code",
   "execution_count": 7,
   "id": "3235fc29",
   "metadata": {},
   "outputs": [],
   "source": [
    "warming_level = [1.45]"
   ]
  },
  {
   "cell_type": "markdown",
   "id": "d7112033",
   "metadata": {},
   "source": [
    "4. **Select location.** You have a choice of either selecting from one of 33 cached weather stations, cached areas, or providing a custom point location of interest. Pleae uncomment the code chunk below that corresponds to your choice. We're provided code for viewing the available options for cached weather stations and areas.."
   ]
  },
  {
   "cell_type": "markdown",
   "id": "76ae47ac",
   "metadata": {},
   "source": [
    "Custom point location"
   ]
  },
  {
   "cell_type": "code",
   "execution_count": null,
   "id": "6f791860",
   "metadata": {},
   "outputs": [],
   "source": [
    "# custom point location: provide a latitude and longitude\n",
    "latitude = 32.7136  \n",
    "longitude = -117.2031  "
   ]
  },
  {
   "cell_type": "markdown",
   "id": "517ee9e6",
   "metadata": {},
   "source": [
    "Cached weather station"
   ]
  },
  {
   "cell_type": "code",
   "execution_count": null,
   "id": "74f766f7",
   "metadata": {},
   "outputs": [],
   "source": [
    "# # cached weather station: provide the station name\n",
    "\n",
    "# stn_name = \"Sacramento Executive Airport (KSAC)\"\n",
    "\n",
    "\n",
    "# # view options for cached weather staions by uncommenting the block of code below\n",
    "\n",
    "# # # read in station file of CA HadISD stations\n",
    "# # stn_file = read_csv_file(\"data/hadisd_stations.csv\")\n",
    "# # # Display station names\n",
    "# # list(stn_file[\"station\"])"
   ]
  },
  {
   "cell_type": "markdown",
   "id": "a4c9617a",
   "metadata": {},
   "source": [
    "Cached area"
   ]
  },
  {
   "cell_type": "code",
   "execution_count": null,
   "id": "7cdf46ff",
   "metadata": {},
   "outputs": [],
   "source": [
    "# # cached area: provide the area name\n",
    "# area = \"Los Angeles County\"\n",
    "\n",
    "# # view options for cached weather staions by uncommenting the block of code below\n",
    "\n",
    "# # # read in station file of CA HadISD stations\n",
    "# # stn_file = read_csv_file(\"data/hadisd_stations.csv\")\n",
    "# # # Display station names\n",
    "# # list(stn_file[\"station\"])"
   ]
  },
  {
   "cell_type": "markdown",
   "id": "53792b45",
   "metadata": {},
   "source": [
    "5. Finally, decide on the delta option."
   ]
  },
  {
   "cell_type": "code",
   "execution_count": null,
   "id": "27113c60",
   "metadata": {},
   "outputs": [],
   "source": []
  },
  {
   "cell_type": "markdown",
   "id": "ef62cb0a",
   "metadata": {},
   "source": [
    "6. Now we define the selection by the choices you've made above and generate the climate profile. SY generation time ranges from around 5 miinutes for a single grid cell and and to an hour for the entire state of California."
   ]
  },
  {
   "cell_type": "code",
   "execution_count": null,
   "id": "ed95b834",
   "metadata": {},
   "outputs": [],
   "source": [
    "# define the selection\n",
    "selection = {\n",
    "    \"variable\": variable,\n",
    "    \"resolution\": \"3 km\",\n",
    "    \"warming_level\": warming_level,\n",
    "    \"units\": units,\n",
    "    \"latitude\": latitude,\n",
    "    \"longitude\": longitude,\n",
    "    \"delta\": True,\n",
    "}"
   ]
  },
  {
   "cell_type": "code",
   "execution_count": null,
   "id": "04826c65",
   "metadata": {},
   "outputs": [],
   "source": [
    "\n",
    "# generate the climate profile\n",
    "profile = get_climate_profile(**selection)"
   ]
  },
  {
   "cell_type": "markdown",
   "id": "df2e04f8",
   "metadata": {},
   "source": [
    "7. You can now export your result, if you wish."
   ]
  },
  {
   "cell_type": "code",
   "execution_count": null,
   "id": "e54a693a",
   "metadata": {},
   "outputs": [],
   "source": []
  },
  {
   "cell_type": "markdown",
   "id": "7d2848e8",
   "metadata": {},
   "source": [
    "###  Visualizing the Standard Year Profile"
   ]
  },
  {
   "cell_type": "markdown",
   "id": "7d04cc12",
   "metadata": {},
   "source": [
    "If you generated the SY for a single warming level, you can visualize your result below. A figure is produce for each of the 8 simulations used in profile generation."
   ]
  },
  {
   "cell_type": "code",
   "execution_count": null,
   "id": "a03d76e1",
   "metadata": {},
   "outputs": [],
   "source": [
    "idx = pd.IndexSlice\n",
    "sims = profile.columns.get_level_values(\"Simulation\").unique().tolist()\n",
    "\n",
    "for sim in sims:\n",
    "    # Select columns for the current simulation\n",
    "    data = profile.loc[:, idx[:, sim]]\n",
    "    # Assuming the first level is month and the second is simulation\n",
    "    # We'll plot a heatmap of the data for each simulation\n",
    "    plt.figure(figsize=(12, 6))\n",
    "    plt.imshow(data.values.T, aspect=\"auto\", cmap=\"coolwarm\")\n",
    "    plt.colorbar(label=f\"{selection['variable']} ({selection['units']})\")\n",
    "    plt.yticks(range(data.shape[1]), data.columns.get_level_values(0))\n",
    "    plt.xticks(range(data.shape[0]), data.index)\n",
    "    plt.title(\n",
    "        f\"{sim} - {selection['variable']} at {selection['warming_level'][0]}°C Warming\"\n",
    "    )\n",
    "    plt.xlabel(\"Day of Year\")\n",
    "    plt.ylabel(\"Hour of Day\")\n",
    "    vmin = -max(abs(data.values.max()), abs(data.values.min()))\n",
    "    vmax = max(abs(data.values.max()), abs(data.values.min()))\n",
    "    xtick_freq = max(1, data.shape[0] // 12)\n",
    "    plt.xticks(range(0, data.shape[0], xtick_freq), data.index[::xtick_freq])\n",
    "    plt.clim(vmin, vmax)\n",
    "    plt.show()"
   ]
  },
  {
   "cell_type": "markdown",
   "id": "bd5b901f",
   "metadata": {},
   "source": [
    "If you generated the SY for multuple warming levels, visualize your result here. It will produce a figure for each of the 8 simulations used in profile generation, for each warming level you provided."
   ]
  },
  {
   "cell_type": "code",
   "execution_count": null,
   "id": "1b246ef6",
   "metadata": {},
   "outputs": [],
   "source": [
    "idx = pd.IndexSlice\n",
    "sims = profile.columns.get_level_values(\"Simulation\").unique().tolist()\n",
    "wls = profile.columns.get_level_values(\"Warming_Level\").unique().tolist()\n",
    "\n",
    "for wl in wls:\n",
    "    for sim in sims:\n",
    "        # Select columns for the current simulation\n",
    "        data = profile.loc[:, idx[:, wl, sim]]\n",
    "        # Assuming the first level is month and the second is simulation\n",
    "        # We'll plot a heatmap of the data for each simulation\n",
    "        plt.figure(figsize=(12, 6))\n",
    "        plt.imshow(data.values.T, aspect='auto', cmap='coolwarm')\n",
    "        plt.colorbar(label=f\"{selection['variable']} ({selection['units']})\")\n",
    "        plt.yticks(range(data.shape[1]), data.columns.get_level_values(0))\n",
    "        plt.xticks(range(data.shape[0]), data.index)\n",
    "        plt.title(f\"{sim} - {selection['variable']} at {wl}°C Warming\")\n",
    "        plt.xlabel(\"Day of Year\")\n",
    "        plt.ylabel(\"Hour of Day\")\n",
    "        vmin = -max(abs(data.values.max()), abs(data.values.min()))\n",
    "        vmax = max(abs(data.values.max()), abs(data.values.min()))\n",
    "        xtick_freq = max(1, data.shape[0] // 12)\n",
    "        plt.xticks(range(0, data.shape[0], xtick_freq), data.index[::xtick_freq])\n",
    "        plt.clim(vmin, vmax)\n",
    "        plt.show()"
   ]
  },
  {
   "cell_type": "markdown",
   "id": "612ca39a",
   "metadata": {},
   "source": [
    "## Typical Meteorological Year Profile (TMY)"
   ]
  },
  {
   "cell_type": "markdown",
   "id": "177c7c9f",
   "metadata": {},
   "source": [
    "<br>The [Typical Meteorological Year](https://nsrdb.nrel.gov/data-sets/tmy) is an hourly dataset used for applications in energy and building systems modeling. Because this represents average rather than extreme conditions, an TMY dataset is not suited for designing systems to meet the worst-case conditions occurring at a location. \n",
    "\n",
    "The TMY methodology here mirrors that of the Sandia/NREL TMY3 methodology, and uses historic and projected downscaled climate data available through the Cal-Adapt: Analytics Engine catalog. The [TMY3 method](https://www.nrel.gov/docs/fy08osti/43156.pdf) selects a \"typical\" month based on ten daily variables: max, min, and mean air and dew point temperatures, max and mean wind speed, global irradiance and direct irradiance. As this methodology heavily weights the solar radiation input data, be aware that the final selection of \"typical\" months may not be typical for other variables. \n",
    "\n",
    "**Intended Application** As a user, I want to <span style=\"color:#FF0000\">**generate a typical meteorological year file**</span> for a location of interest:\n",
    "- Visualize the TMY dataset across all input variables\n",
    "- Export the TMY dataset for available models for input into my workflow\n",
    "\n",
    "**Note**: \n",
    "1. For practical generation of a TMY dataset, a user <span style=\"color:#FF0000\">**only needs to provide 2 elements**</span>: the **location**, and **reference time period**. These selections are highlighted below for you. \n",
    "\n",
    "**Runtime**: With the default settings, this section takes approximately **50 minutes** to run from start to finish. Modifications to selections may increase the runtime."
   ]
  },
  {
   "cell_type": "markdown",
   "id": "57fc1271",
   "metadata": {},
   "source": [
    "### Generating TMY"
   ]
  },
  {
   "cell_type": "markdown",
   "id": "62d1c037",
   "metadata": {},
   "source": [
    "First, select the location and warming level for which the TMY is generated. TMY considers a set of 10 variables that, unlike for AMY, cannot be changed."
   ]
  },
  {
   "cell_type": "markdown",
   "id": "12fdf1ed",
   "metadata": {},
   "source": [
    "1. **Select Location.** You can either select a station from our pre-generated set of 32 weather stations, are define custom latitude and longitude. Run the block below to list out all station name options."
   ]
  },
  {
   "cell_type": "code",
   "execution_count": null,
   "id": "0ab0aeb3",
   "metadata": {},
   "outputs": [],
   "source": [
    "# read in station file of CA HadISD stations\n",
    "stn_file = read_csv_file(\"data/hadisd_stations.csv\")\n",
    "# Display station names\n",
    "list(stn_file[\"station\"])"
   ]
  },
  {
   "cell_type": "code",
   "execution_count": null,
   "id": "b585b5b7",
   "metadata": {},
   "outputs": [],
   "source": [
    "latitude = 37.9\n",
    "longitude = -122.06\n",
    "\n",
    "#stn_name = \"Bakersfield Meadows Field (KBFL)\""
   ]
  },
  {
   "cell_type": "markdown",
   "id": "eaad3326",
   "metadata": {},
   "source": [
    "2. **Select warming level.** The base options are [1.5, 1.75, 2.0, 2.25, 2.5]. If you decide to generate AMY for a warming level outside of that list, keep in mind that the realistic range of warming levels is _. "
   ]
  },
  {
   "cell_type": "code",
   "execution_count": null,
   "id": "d0690bc4",
   "metadata": {},
   "outputs": [],
   "source": [
    "warming_level = 2.0"
   ]
  },
  {
   "cell_type": "markdown",
   "id": "0b14437c",
   "metadata": {},
   "source": [
    "3. We can use the TMY object to set up, run, and output TMY results to file. The first step is to initialize the object with your selected location and warming level. True is the default value for verbose but we have also set it explicitly for demonstration."
   ]
  },
  {
   "cell_type": "code",
   "execution_count": null,
   "id": "f579f2a5",
   "metadata": {},
   "outputs": [],
   "source": [
    "\n",
    "tmy = TMY(warming_level=warming_level,\n",
    "          latitude = latitude,\n",
    "          longitude = longitude,\n",
    "          #station_name=stn_name, \n",
    "          verbose=True)"
   ]
  },
  {
   "cell_type": "markdown",
   "id": "e38ef26b",
   "metadata": {},
   "source": [
    "4. We can run the entire TMY workflow with a single command, as shown below. This will write 4 TMY files, one for each model.\n",
    "The runtime for this command can reach up to 30 minutes. Because we set verbose to True, the TMY object will print updates as different parts of the workflow initialize."
   ]
  },
  {
   "cell_type": "code",
   "execution_count": null,
   "id": "5df75dd3",
   "metadata": {},
   "outputs": [],
   "source": [
    "tmy.generate_tmy()"
   ]
  },
  {
   "cell_type": "markdown",
   "id": "b09ae54f",
   "metadata": {},
   "source": [
    "5. **(Optional) Export to non-edw format.** The TMY files are exported in .epw format by default, but they can be saved as .tmy files using the method export_tmy_data with the argument extension=\"tmy\" as shown here (uncomment to run):"
   ]
  },
  {
   "cell_type": "code",
   "execution_count": null,
   "id": "0612323b",
   "metadata": {},
   "outputs": [],
   "source": [
    "#tmy.export_tmy_data(extension=\"csv\")"
   ]
  },
  {
   "cell_type": "markdown",
   "id": "3c56c5e5",
   "metadata": {},
   "source": [
    "### Visualizing TMY"
   ]
  },
  {
   "cell_type": "code",
   "execution_count": null,
   "id": "0e263c45",
   "metadata": {},
   "outputs": [],
   "source": [
    "idx = pd.IndexSlice\n",
    "sims = tmy.columns.get_level_values(\"Simulation\").unique().tolist()"
   ]
  },
  {
   "cell_type": "code",
   "execution_count": null,
   "id": "469e717d",
   "metadata": {},
   "outputs": [],
   "source": [
    "for sim in sims:\n",
    "    # Select columns for the current simulation\n",
    "    data = profile.loc[:, idx[:, sim]]\n",
    "    # Assuming the first level is month and the second is simulation\n",
    "    # We'll plot a heatmap of the data for each simulation\n",
    "    plt.figure(figsize=(12, 6))\n",
    "    plt.imshow(data.values.T, aspect=\"auto\", cmap=\"coolwarm\")\n",
    "    plt.colorbar(label=f\"{selection['variable']} ({selection['units']})\")\n",
    "    plt.yticks(range(data.shape[1]), data.columns.get_level_values(0))\n",
    "    plt.xticks(range(data.shape[0]), data.index)\n",
    "    plt.title(\n",
    "        f\"{sim} - {selection['variable']} at {selection['warming_level'][0]}°C Warming\"\n",
    "    )\n",
    "    plt.xlabel(\"Day of Year\")\n",
    "    plt.ylabel(\"Hour of Day\")\n",
    "    vmin = -max(abs(data.values.max()), abs(data.values.min()))\n",
    "    vmax = max(abs(data.values.max()), abs(data.values.min()))\n",
    "    xtick_freq = max(1, data.shape[0] // 12)\n",
    "    plt.xticks(range(0, data.shape[0], xtick_freq), data.index[::xtick_freq])\n",
    "    plt.clim(vmin, vmax)\n",
    "    plt.show()"
   ]
  }
 ],
 "metadata": {
  "kernelspec": {
   "display_name": "climakitae",
   "language": "python",
   "name": "python3"
  },
  "language_info": {
   "codemirror_mode": {
    "name": "ipython",
    "version": 3
   },
   "file_extension": ".py",
   "mimetype": "text/x-python",
   "name": "python",
   "nbconvert_exporter": "python",
   "pygments_lexer": "ipython3",
   "version": "3.12.7"
  }
 },
 "nbformat": 4,
 "nbformat_minor": 5
}
