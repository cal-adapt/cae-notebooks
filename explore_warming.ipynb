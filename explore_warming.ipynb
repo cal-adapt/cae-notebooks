{
 "cells": [
  {
   "cell_type": "markdown",
   "id": "49898327-28b8-4118-b034-d20529fe8418",
   "metadata": {},
   "source": [
    "# Exploring the regional response to a warmer world"
   ]
  },
  {
   "cell_type": "markdown",
   "id": "c3623eb5-ced0-452a-bf14-efd4ab4e66ff",
   "metadata": {},
   "source": [
    "This notebook allows you to explore the regional response to a warmer world at a series of global **warming levels** (changes in global mean temperature relative to the historical baseline): 1.5˚, 2˚, 3˚, and 4˚C. Warming levels can be used to explore future possible trajectories of any climate variable of interest for a given increase in global mean temperature.\n",
    "\n",
    "Because warming levels are defined based on amount of global mean temperature change, they can be used to compare possible outcomes across multiple scenarios or model simulations. The same total warming benchmark may be reached at different times in different simulations. Warming levels are often used in international policy discussions, such as the [Paris Agreement](https://unfccc.int/process-and-meetings/the-paris-agreement/the-paris-agreement) to limit warming to 2˚C.\n",
    "\n",
    "For a given warming level, we will then use this tool to:\n",
    "\n",
    "- Examine the range of possibility in maps of regional changes in temperature (or any variable of interest) across climate models dynamically downscaled to-date\n",
    "\n",
    "- View the change in a typical meteorological year (a dataset of a full annual cycle of hourly climate data used to capture mean conditions over a multi-year period, often used in renewable energy production models. For more information see Step 1)\n",
    "\n",
    "- Map day-of-year/time-of-day combinations with especially large increases in temperature, and overlay the locations of power plants to help identify vulnerable assets"
   ]
  },
  {
   "cell_type": "markdown",
   "id": "07c0eb87-5be0-4447-8c02-722dc6476412",
   "metadata": {},
   "source": [
    "## Step 0: Setup"
   ]
  },
  {
   "cell_type": "markdown",
   "id": "f4dab5f1-134e-4371-b848-522c37aac44f",
   "metadata": {},
   "source": [
    "Import libraries needed."
   ]
  },
  {
   "cell_type": "code",
   "execution_count": null,
   "id": "8cdb17d4-0dac-4dad-ab1e-8efc5d506220",
   "metadata": {
    "tags": []
   },
   "outputs": [],
   "source": [
    "import panel as pn\n",
    "pn.extension()\n",
    "\n",
    "import climakitae as ck"
   ]
  },
  {
   "cell_type": "markdown",
   "id": "59d2cc2a-e77f-4b1f-b226-d224d97be98b",
   "metadata": {},
   "source": [
    "Additionally, get set up to make the computing go faster, by executing this cell:"
   ]
  },
  {
   "cell_type": "code",
   "execution_count": null,
   "id": "8d3ea1c3-ea84-448c-8c77-6f41e78b5e01",
   "metadata": {},
   "outputs": [],
   "source": [
    "from dask_gateway import GatewayCluster\n",
    "cluster = GatewayCluster()\n",
    "cluster.adapt(minimum=0, maximum=16)\n",
    "client = cluster.get_client()\n",
    "cluster"
   ]
  },
  {
   "cell_type": "markdown",
   "id": "b7ce9644-37a3-4b87-8d6a-5fef599be779",
   "metadata": {},
   "source": [
    "Launch the tools in the [Clima-Kit-AE library](https://github.com/cal-adapt/climakitae):"
   ]
  },
  {
   "cell_type": "code",
   "execution_count": null,
   "id": "0ea6c8ef-0576-41d1-a29f-106886d03688",
   "metadata": {},
   "outputs": [],
   "source": [
    "app = ck.Application()"
   ]
  },
  {
   "cell_type": "markdown",
   "id": "4274cd9b-6a58-4ad0-aa4e-d85b590810c2",
   "metadata": {},
   "source": [
    "## Step 1: Explore data"
   ]
  },
  {
   "cell_type": "markdown",
   "id": "7539acd2-be4a-4b95-98ff-6cd35c75829f",
   "metadata": {},
   "source": [
    "Launch a panel to view localized projections under varying levels of warming. First, select a warming level, variable, and spatial area of interest. The right panel will show projected changes in global mean temperature -- use the drop down menu to visualize when simulations of a scenario of interest will reach the specified global warming level. Scenarios shown are Shared Socioeconomic Pathways ([SSPs](https://www.sciencedirect.com/science/article/pii/S0959378016300681)): ranging from low (SSP 1-1.9) to high (SSP 5-8.5) emissions trajectories. \n",
    "\n",
    "Simulations of high emissions scenarios will generally reach a given warming level faster than simulations of lower emissions scenarios.\n",
    "\n",
    "The bottom panel shows regional responses of the variable of interest for the selected warming level for each individual model simulation. You can also see an average, minimum, and maximum regional response across simulations. \n",
    "\n",
    "The final tab shows a [Typical Meteorological Year](https://nsrdb.nrel.gov/data-sets/tmy) (TMY), which is a summary that best represents *average* conditions during the 30-year period centered on the global warming level selected. TMYs are often used as inputs into models of energy production estimates and building systems, because they summarize the typical conditions for each day of the year and hour of the day."
   ]
  },
  {
   "cell_type": "code",
   "execution_count": null,
   "id": "cae5dc13-d176-4d8b-82e0-2fbcffa90201",
   "metadata": {},
   "outputs": [],
   "source": [
    "app.explore.warming_levels()"
   ]
  },
  {
   "cell_type": "markdown",
   "id": "b220f4ec-5c6d-4ea6-bdc9-696755787dc3",
   "metadata": {},
   "source": [
    "## Step 2: Application"
   ]
  },
  {
   "cell_type": "markdown",
   "id": "dd8bace3-2dd9-4588-b940-95338b120376",
   "metadata": {},
   "source": [
    "Prepare a map of the changes for a day and time when the largest temperature increases are projected, and overlay the locations of California [power plants](https://cecgis-caenergy.opendata.arcgis.com/datasets/CAEnergy::california-power-plants/explore?location=37.174065,-118.394256,6.93) and [substations](https://cecgis-caenergy.opendata.arcgis.com/datasets/CAEnergy::california-electric-substations/explore?location=37.225884,-119.175779,6.93) on the map to identify vulnerable assets.\n",
    "\n",
    "We'll start by retrieving the same data shown above, making sure that it is hourly time-resolution:"
   ]
  },
  {
   "cell_type": "code",
   "execution_count": null,
   "id": "923a70f4-640b-4372-afbb-5c281937cfeb",
   "metadata": {},
   "outputs": [],
   "source": [
    "app.selections.timescale = 'hourly'"
   ]
  },
  {
   "cell_type": "code",
   "execution_count": null,
   "id": "7d105943-223e-4429-ba2c-c1c9b1487462",
   "metadata": {
    "scrolled": true,
    "tags": []
   },
   "outputs": [],
   "source": [
    "my_data = app.retrieve()\n",
    "my_data"
   ]
  },
  {
   "cell_type": "markdown",
   "id": "4e393171-6052-4372-8394-400de5d47ccb",
   "metadata": {},
   "source": [
    "Here we select a particular day of the year and time of day, based on inspection of the typical meteorological year difference plot in the explore panel in Step 1:"
   ]
  },
  {
   "cell_type": "code",
   "execution_count": null,
   "id": "9a93d851-485d-4ec2-8cce-477f74b88630",
   "metadata": {
    "scrolled": true,
    "tags": []
   },
   "outputs": [],
   "source": [
    "one_day = my_data.isel(time=(my_data.time.dt.dayofyear == 216))\n",
    "one_hour = one_day.isel(time=(one_day.time.dt.hour == 23))\n",
    "one_hour"
   ]
  },
  {
   "cell_type": "markdown",
   "id": "c7118b04-8aa1-4921-8d71-78150237b719",
   "metadata": {},
   "source": [
    "And format the information to be plotted as a difference from historical for a given warming level:"
   ]
  },
  {
   "cell_type": "code",
   "execution_count": null,
   "id": "67b5037c-4055-4565-b36c-4632af4efaae",
   "metadata": {
    "scrolled": true,
    "tags": []
   },
   "outputs": [],
   "source": [
    "from climakitae.warming_levels import get_anomaly_data\n",
    "\n",
    "my_gwl = 3.0  # 3˚ global warming\n",
    "plots = get_anomaly_data(one_hour, warmlevel=my_gwl)\n",
    "plots.name = 'degrees warmer'\n",
    "plots"
   ]
  },
  {
   "cell_type": "markdown",
   "id": "c11477ab-1dc5-47ea-8396-53a5de17eea1",
   "metadata": {},
   "source": [
    "Force the data to be computed and ready to plot. This may take a minute."
   ]
  },
  {
   "cell_type": "code",
   "execution_count": null,
   "id": "ac9a5f0c-d9df-4c48-b929-d8aa550e62b8",
   "metadata": {},
   "outputs": [],
   "source": [
    "plots = plots.compute()"
   ]
  },
  {
   "cell_type": "markdown",
   "id": "4aee142d-6d84-43e4-b65f-7c1d2ad617ab",
   "metadata": {},
   "source": [
    "Load some data that contains locations of power plants:"
   ]
  },
  {
   "cell_type": "code",
   "execution_count": null,
   "id": "7bb1274f-9709-4cc6-a6d7-45d40dc4b67c",
   "metadata": {},
   "outputs": [],
   "source": [
    "import geopandas as gpd\n",
    "\n",
    "# URLs to shapefiles for example point data from CEC (power plants and substations available)\n",
    "URLs = {\n",
    "    'power_plants' : \"https://opendata.arcgis.com/api/v3/datasets/4a702cd67be24ae7ab8173423a768e1b_0/downloads/data?format=geojson&spatialRefId=4326&where=1%3D1\",\n",
    "    'substations' : \"https://cecgis-caenergy.opendata.arcgis.com/datasets/CAEnergy::california-electric-substations.geojson?outSR=%7B%22latestWkid%22%3A3857%2C%22wkid%22%3A102100%7D\"\n",
    "}\n",
    "\n",
    "# Download the desired data\n",
    "power_plants = gpd.read_file(URLs['power_plants']).rename(columns = {'Lon_WGS84':'lon', 'Lat_WGS84':'lat'})"
   ]
  },
  {
   "cell_type": "markdown",
   "id": "51d43bf6-c0af-4acb-918e-1901ee1816a1",
   "metadata": {},
   "source": [
    "Finally, prepare the map, and display it with power plant locations overlaid. "
   ]
  },
  {
   "cell_type": "code",
   "execution_count": null,
   "id": "bbb065df-c86d-4786-838f-3e4f73bf4122",
   "metadata": {
    "tags": []
   },
   "outputs": [],
   "source": [
    "import cartopy.crs as ccrs\n",
    "\n",
    "gridded = plots.plot.pcolormesh('lon','lat', col='simulation',\n",
    "                     transform=ccrs.PlateCarree(),subplot_kws={'projection': ccrs.Orthographic(-100,40)},\n",
    "                         figsize=[15,5],cmap='Reds')\n",
    "for ax in gridded.axes.flat:\n",
    "    ax.coastlines()\n",
    "    ax.scatter(power_plants.lon, power_plants.lat, transform=ccrs.PlateCarree(),s=0.2,c='k')"
   ]
  },
  {
   "cell_type": "markdown",
   "id": "16510d3f-7df1-44b5-a726-66d0567a7f40",
   "metadata": {},
   "source": [
    "## Step 3: Clean up"
   ]
  },
  {
   "cell_type": "code",
   "execution_count": null,
   "id": "20c90dbc-13cc-40ea-a7ea-35e4bcd5dbd6",
   "metadata": {},
   "outputs": [],
   "source": [
    "client.close()\n",
    "cluster.shutdown()"
   ]
  }
 ],
 "metadata": {
  "kernelspec": {
   "display_name": "Python 3 (ipykernel)",
   "language": "python",
   "name": "python3"
  },
  "language_info": {
   "codemirror_mode": {
    "name": "ipython",
    "version": 3
   },
   "file_extension": ".py",
   "mimetype": "text/x-python",
   "name": "python",
   "nbconvert_exporter": "python",
   "pygments_lexer": "ipython3",
   "version": "3.9.12"
  }
 },
 "nbformat": 4,
 "nbformat_minor": 5
}
