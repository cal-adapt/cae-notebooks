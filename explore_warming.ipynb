{
 "cells": [
  {
   "cell_type": "markdown",
   "id": "49898327-28b8-4118-b034-d20529fe8418",
   "metadata": {},
   "source": [
    "# Exploring the regional response to a warmer world"
   ]
  },
  {
   "cell_type": "markdown",
   "id": "c3623eb5-ced0-452a-bf14-efd4ab4e66ff",
   "metadata": {},
   "source": [
    "This notebook allows you to explore the regional response to a warmer world at a series of global **warming levels** (changes in global mean temperature relative to the historical baseline): 1.5˚, 2˚, 3˚, and 4˚C. Warming levels can be used to explore future possible trajectories of any climate variable of interest for a given increase in global mean temperature.\n",
    "\n",
    "Because warming levels are defined based on amount of global mean temperature change, they can be used to compare possible outcomes across multiple scenarios or model simulations. \n",
    "\n",
    "Warming levels are often used in international policy discussions, such as the [Paris Agreement](https://unfccc.int/process-and-meetings/the-paris-agreement/the-paris-agreement) to limit warming to 2˚C.\n",
    "\n",
    "For a given warming level, we will then use this tool to:\n",
    "\n",
    "- Examine the range of possibility in maps of regional changes across climate models\n",
    "\n",
    "- Map day-of-year/time-of-day combinations with especially large increases in temperature, and overlay the locations of power plants to help identify vulnerable assets"
   ]
  },
  {
   "cell_type": "markdown",
   "id": "07c0eb87-5be0-4447-8c02-722dc6476412",
   "metadata": {
    "tags": []
   },
   "source": [
    "## Step 0: Setup"
   ]
  },
  {
   "cell_type": "markdown",
   "id": "f4dab5f1-134e-4371-b848-522c37aac44f",
   "metadata": {},
   "source": [
    "Import libraries needed."
   ]
  },
  {
   "cell_type": "code",
   "execution_count": null,
   "id": "8cdb17d4-0dac-4dad-ab1e-8efc5d506220",
   "metadata": {
    "tags": []
   },
   "outputs": [],
   "source": [
    "import climakitae as ck\n",
    "from climakitae.explore import warming_levels"
   ]
  },
  {
   "cell_type": "markdown",
   "id": "4274cd9b-6a58-4ad0-aa4e-d85b590810c2",
   "metadata": {},
   "source": [
    "## Step 1: Explore data"
   ]
  },
  {
   "cell_type": "markdown",
   "id": "7539acd2-be4a-4b95-98ff-6cd35c75829f",
   "metadata": {},
   "source": [
    "Launch a toolkit view localized projections under varying levels of warming. First, choose a variable, and spatial area of interest. \n",
    "\n",
    "You are best off choosing the coarsest time-scale available (monthly) for the visualization, unless you plan to export data at higher time-resolution."
   ]
  },
  {
   "cell_type": "code",
   "execution_count": null,
   "id": "cae5dc13-d176-4d8b-82e0-2fbcffa90201",
   "metadata": {
    "tags": []
   },
   "outputs": [],
   "source": [
    "wl = warming_levels()\n",
    "wl.choose_data()"
   ]
  },
  {
   "cell_type": "markdown",
   "id": "6853f5e9-8084-4f69-b8c4-acc36d615278",
   "metadata": {},
   "source": [
    "### Now retrieve and process the data\n",
    "The calculate step may take a while to complete. Selecting statistical downscaling will take longer because there are more simulations to work with, and they are at the highest spatial resolution (~10-15min)."
   ]
  },
  {
   "cell_type": "code",
   "execution_count": null,
   "id": "f0f14a5e-e07c-4111-892f-2afbd4f314e8",
   "metadata": {
    "tags": []
   },
   "outputs": [],
   "source": [
    "%%time\n",
    "wl.calculate()"
   ]
  },
  {
   "cell_type": "markdown",
   "id": "8ec9685c-939c-437b-bcf5-b0512e1a63f0",
   "metadata": {},
   "source": [
    "### Next visualize the regional response at a series of global warming levels.\n",
    "Use the drop down menu to visualize when a specified global warming level in reached for a scenario of interest. Scenarios shown are Shared Socioeconomic Pathways ([SSPs](https://www.sciencedirect.com/science/article/pii/S0959378016300681)): ranging from low (SSP 1-1.9) to high (SSP 5-8.5) emissions trajectories. \n",
    "\n",
    "To learn more about the data available on the Analytics Engine, [see our data catalog](https://analytics.cal-adapt.org/data/). "
   ]
  },
  {
   "cell_type": "code",
   "execution_count": null,
   "id": "b538032f-63d9-4cdd-8534-c7acb1252b33",
   "metadata": {},
   "outputs": [],
   "source": [
    "wl.visualize()"
   ]
  },
  {
   "cell_type": "markdown",
   "id": "183deba2-9aca-45ee-bed8-8ae90c4db735",
   "metadata": {},
   "source": [
    "wl.visualize() step, above, is optional if you want to go directly to extracting the data."
   ]
  },
  {
   "cell_type": "markdown",
   "id": "dfc3281c-b213-47b2-b930-7ab5bb414965",
   "metadata": {},
   "source": [
    "### Extract the data in the snapshots in the panel\n",
    "Then examine it, plot it yourself some other way, or save it out."
   ]
  },
  {
   "cell_type": "code",
   "execution_count": null,
   "id": "39e18f95-61f1-4755-821a-369f91eb1ebf",
   "metadata": {
    "tags": []
   },
   "outputs": [],
   "source": [
    "regional_response = wl.gwl_snapshots"
   ]
  },
  {
   "cell_type": "markdown",
   "id": "ab7c8c40-b8e9-46a7-aef5-6b2a9c5a3b06",
   "metadata": {},
   "source": [
    "### Extract slices of data centered at warming levels:"
   ]
  },
  {
   "cell_type": "code",
   "execution_count": null,
   "id": "0590d49b-5678-44e3-8149-05e2747c13f7",
   "metadata": {},
   "outputs": [],
   "source": [
    "test = wl.sliced_data"
   ]
  },
  {
   "cell_type": "markdown",
   "id": "3297baf2-5aac-4566-8ba0-9e9e649a65cb",
   "metadata": {},
   "source": [
    "**Optional:** Get a feel for how the data is stored, by looking at timeseries for a single grid cell. The 30-year slice is different for each simulation, with some that reach the warming level sooner or later that others."
   ]
  },
  {
   "cell_type": "code",
   "execution_count": null,
   "id": "f58bd588-1ccb-42cd-b28f-605c5fac471e",
   "metadata": {},
   "outputs": [],
   "source": [
    "if wl.wl_params.downscaling_method == ['Dynamical']:\n",
    "    out = test.sel(warming_level=\"2.0\").mean(['x','y']).squeeze().to_pandas()\n",
    "else:\n",
    "    out = test.sel(warming_level=\"2.0\").mean(['lat','lon']).squeeze().to_pandas()"
   ]
  },
  {
   "cell_type": "code",
   "execution_count": null,
   "id": "3b52a1ac-a255-47a3-8c02-5dd634e54e14",
   "metadata": {},
   "outputs": [],
   "source": [
    "out.plot.line(legend=None,figsize=[13,2])"
   ]
  },
  {
   "cell_type": "markdown",
   "id": "b220f4ec-5c6d-4ea6-bdc9-696755787dc3",
   "metadata": {},
   "source": [
    "## Step 2: Application"
   ]
  },
  {
   "cell_type": "markdown",
   "id": "dd8bace3-2dd9-4588-b940-95338b120376",
   "metadata": {},
   "source": [
    "Prepare a map of the changes for a day and time when the largest temperature increases are projected, and overlay the locations of California [power plants](https://cecgis-caenergy.opendata.arcgis.com/datasets/CAEnergy::california-power-plants/explore?location=37.174065,-118.394256,6.93) and [substations](https://cecgis-caenergy.opendata.arcgis.com/datasets/CAEnergy::california-electric-substations/explore?location=37.225884,-119.175779,6.93) on the map to identify vulnerable assets.\n",
    "\n",
    "We'll start by retrieving some data, making sure that it is hourly time-resolution."
   ]
  },
  {
   "cell_type": "code",
   "execution_count": null,
   "id": "9d53ea9b-b6f8-45f3-a7d3-d4f9cafb7f4d",
   "metadata": {},
   "outputs": [],
   "source": [
    "wl2 = warming_levels()\n",
    "wl2.choose_data()"
   ]
  },
  {
   "cell_type": "markdown",
   "id": "be2f1ab4-04e2-42cf-82e9-be49b16607cd",
   "metadata": {},
   "source": [
    "Here are some good options for this. You'll want to look over the whole state of California."
   ]
  },
  {
   "cell_type": "code",
   "execution_count": null,
   "id": "923a70f4-640b-4372-afbb-5c281937cfeb",
   "metadata": {},
   "outputs": [],
   "source": [
    "wl2.wl_params.downscaling_method=['Dynamical']\n",
    "wl2.wl_params.timescale = 'hourly'\n",
    "wl2.wl_params.resolution = '45 km'\n",
    "wl2.wl_params.variable='Air Temperature at 2m'\n",
    "wl2.wl_params.units='degF'"
   ]
  },
  {
   "cell_type": "code",
   "execution_count": null,
   "id": "279a6d43-8bb2-476c-b2c9-77fa15ede8f6",
   "metadata": {},
   "outputs": [],
   "source": [
    "wl2.calculate()"
   ]
  },
  {
   "cell_type": "code",
   "execution_count": null,
   "id": "b663a818-9150-433e-9e4e-85b12f7f7a4d",
   "metadata": {},
   "outputs": [],
   "source": [
    "my_gwl = 3.0  # 3˚ global warming"
   ]
  },
  {
   "cell_type": "code",
   "execution_count": null,
   "id": "7d105943-223e-4429-ba2c-c1c9b1487462",
   "metadata": {
    "scrolled": true,
    "tags": []
   },
   "outputs": [],
   "source": [
    "my_data = wl2.sliced_data.sel(warming_level=str(float(my_gwl)))\n",
    "my_data"
   ]
  },
  {
   "cell_type": "markdown",
   "id": "4e393171-6052-4372-8394-400de5d47ccb",
   "metadata": {},
   "source": [
    "Here we select a particular day of the year and time of day to investigate:"
   ]
  },
  {
   "cell_type": "code",
   "execution_count": null,
   "id": "9a93d851-485d-4ec2-8cce-477f74b88630",
   "metadata": {
    "scrolled": true,
    "tags": []
   },
   "outputs": [],
   "source": [
    "one_day = my_data.isel(time=(my_data.time.dt.dayofyear == 216))\n",
    "one_hour = one_day.isel(time=(one_day.time.dt.hour == 23))\n",
    "one_hour"
   ]
  },
  {
   "cell_type": "markdown",
   "id": "c7118b04-8aa1-4921-8d71-78150237b719",
   "metadata": {},
   "source": [
    "And format the information to be plotted as a difference from historical for a given warming level:"
   ]
  },
  {
   "cell_type": "code",
   "execution_count": null,
   "id": "47fd2e66-0ec9-409d-b1fb-7ae1770da955",
   "metadata": {},
   "outputs": [],
   "source": [
    "to_plot = one_hour.mean('time')\n",
    "to_plot.name = 'degrees warmer'\n",
    "to_plot"
   ]
  },
  {
   "cell_type": "markdown",
   "id": "c11477ab-1dc5-47ea-8396-53a5de17eea1",
   "metadata": {},
   "source": [
    "Force the data to be computed and ready to plot. This may take a minute."
   ]
  },
  {
   "cell_type": "code",
   "execution_count": null,
   "id": "ac9a5f0c-d9df-4c48-b929-d8aa550e62b8",
   "metadata": {},
   "outputs": [],
   "source": [
    "to_plot = ck.load(to_plot)"
   ]
  },
  {
   "cell_type": "markdown",
   "id": "4aee142d-6d84-43e4-b65f-7c1d2ad617ab",
   "metadata": {},
   "source": [
    "Load some data that contains locations of power plants:"
   ]
  },
  {
   "cell_type": "code",
   "execution_count": null,
   "id": "7bb1274f-9709-4cc6-a6d7-45d40dc4b67c",
   "metadata": {},
   "outputs": [],
   "source": [
    "import geopandas as gpd\n",
    "\n",
    "# URLs to shapefiles for example point data from CEC (power plants and substations available)\n",
    "URLs = {\n",
    "    'power_plants' : \"https://opendata.arcgis.com/api/v3/datasets/4a702cd67be24ae7ab8173423a768e1b_0/downloads/data?format=geojson&spatialRefId=4326&where=1%3D1\",\n",
    "    'substations' : \"https://cecgis-caenergy.opendata.arcgis.com/datasets/CAEnergy::california-electric-substations.geojson?outSR=%7B%22latestWkid%22%3A3857%2C%22wkid%22%3A102100%7D\"\n",
    "}\n",
    "\n",
    "# Download the desired data\n",
    "power_plants = gpd.read_file(URLs['power_plants']).rename(columns = {'Lon_WGS84':'lon', 'Lat_WGS84':'lat'})"
   ]
  },
  {
   "cell_type": "markdown",
   "id": "51d43bf6-c0af-4acb-918e-1901ee1816a1",
   "metadata": {},
   "source": [
    "Finally, prepare the map, and display it with power plant locations overlaid. "
   ]
  },
  {
   "cell_type": "code",
   "execution_count": null,
   "id": "bbb065df-c86d-4786-838f-3e4f73bf4122",
   "metadata": {
    "tags": []
   },
   "outputs": [],
   "source": [
    "import cartopy.crs as ccrs\n",
    "from climakitae.util.utils import read_ae_colormap\n",
    "cmap = read_ae_colormap(cmap='ae_orange', cmap_hex=False)\n",
    "\n",
    "gridded = to_plot.plot.pcolormesh(x='lon',y='lat', col='all_sims',\n",
    "                     transform=ccrs.PlateCarree(),subplot_kws={'projection': ccrs.Orthographic(-100,40)},\n",
    "                         figsize=[15,5],cmap=cmap)\n",
    "for ax in gridded.axes.flat:\n",
    "    ax.coastlines()\n",
    "    ax.scatter(power_plants.geometry.x, power_plants.geometry.y, transform=ccrs.PlateCarree(),s=0.2,c='k')"
   ]
  },
  {
   "cell_type": "markdown",
   "id": "93761342-6d30-46a8-ad7d-f70c6fdeb679",
   "metadata": {},
   "source": [
    "## Step 3: Export\n",
    "\n",
    "To save data as a file, call `export` and input your desired\n",
    "1) data to export – an [xarray DataArray or Dataset](https://docs.xarray.dev/en/stable/user-guide/data-structures.html), as output by e.g. wl.retrieve()\n",
    "2) output file name (without file extension)\n",
    "3) file format (\"NetCDF\" or \"CSV\")\n",
    "\n",
    "To learn more about the file format options, see [getting_started.ipynb](getting_started.ipynb)."
   ]
  },
  {
   "cell_type": "code",
   "execution_count": null,
   "id": "40c767c9-a78d-436c-bc33-e8682845dc87",
   "metadata": {},
   "outputs": [],
   "source": [
    "ck.export(to_plot, \"my_filename\", \"NetCDF\")"
   ]
  },
  {
   "cell_type": "code",
   "execution_count": null,
   "id": "6b8af6af-5a05-4572-8a6a-f3c6ca17d49b",
   "metadata": {},
   "outputs": [],
   "source": []
  }
 ],
 "metadata": {
  "kernelspec": {
   "display_name": "Python 3 (ipykernel)",
   "language": "python",
   "name": "python3"
  },
  "language_info": {
   "codemirror_mode": {
    "name": "ipython",
    "version": 3
   },
   "file_extension": ".py",
   "mimetype": "text/x-python",
   "name": "python",
   "nbconvert_exporter": "python",
   "pygments_lexer": "ipython3",
   "version": "3.9.13"
  }
 },
 "nbformat": 4,
 "nbformat_minor": 5
}
