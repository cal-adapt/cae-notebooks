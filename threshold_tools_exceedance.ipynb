{
 "cells": [
  {
   "cell_type": "markdown",
   "id": "2e222069-ccfd-4139-8ad8-73e33094f70d",
   "metadata": {},
   "source": [
    "# Counting threshold exceedance events\n",
    "## Cal-Adapt Analytics Engine: threshold tools\n",
    "\n",
    "This notebook calculates exceedance events (time periods above or below a certain threshold) at different time scales using the `app.explore.threshold()` tool, using different criteria describing the extreme event severity and duration (for example, how many 3-day periods per year contain at least five hours of temperatures above 100 degrees F?). For any given location using hourly data, we can calculate and display how frequencies of extreme events will change under different global emissions scenarios and across model simulations. This tool can be used for applications such as:\n",
    "- Examining how the frequency of cold snaps or heat waves of a user-defined temperature (e.g. above 95 degF), duration (e.g. 3 hours or more), and period of time (e.g. for 6 days in a row) will change annually or seasonally\n",
    "- Exploring changes in the frequency of extreme precipitation events (for example, periods of low to no precipitation or high precipitation within a season or year) under different global emissions scenarios"
   ]
  },
  {
   "cell_type": "markdown",
   "id": "12d3d1b9-dc2d-419f-a4dd-9ae31bbe92b1",
   "metadata": {},
   "source": [
    "## Step 0: setup\n",
    "Import the [climakitae](https://github.com/cal-adapt/climakitae) library and other dependencies."
   ]
  },
  {
   "cell_type": "code",
   "execution_count": null,
   "id": "2f7d3d54-c3ac-4bd6-b268-dc7cd3a33e5e",
   "metadata": {},
   "outputs": [],
   "source": [
    "import panel as pn\n",
    "pn.extension()\n",
    "\n",
    "import climakitae as ck\n",
    "from climakitae import threshold_tools\n",
    "import xarray as xr"
   ]
  },
  {
   "cell_type": "markdown",
   "id": "077457d2-b993-4bba-b46f-2b27133fb311",
   "metadata": {},
   "source": [
    "## Step 1: Select data\n",
    "### Load a new application and call *select* to display interface from which to choose location, variables, scenarios, and designate warming levels of interest"
   ]
  },
  {
   "cell_type": "markdown",
   "id": "4fb5fd01-a686-434d-9205-d79542ad2a50",
   "metadata": {},
   "source": [
    "For the example in this notebook, select:\n",
    "- Hourly data\n",
    "- Any desired time slice\n",
    "- Any scenario(s) of interest (with or without historic data)\n",
    "- Use the \"Air Temperature at 2m\" variable with degF units\n",
    "- Any grid resolution of interest, but 45km will be fastest (note that 3, 9, and 45km spatial resolutions are not aggregates of each other, so results may differ between resolution\n",
    "- Any location of interest, but select the \"area average\" option to average by hour across space (or you can subset the retrieved data to one location later)\n",
    "\n",
    "Consider exploring multiple models and scenarios to explore the range of possible outcomes for the exceedance events you are interested in."
   ]
  },
  {
   "cell_type": "code",
   "execution_count": null,
   "id": "e8bab0c7-e7a8-4b98-9f2b-2cff26a374a7",
   "metadata": {},
   "outputs": [],
   "source": [
    "app = ck.Application()\n",
    "app.select()"
   ]
  },
  {
   "cell_type": "markdown",
   "id": "f47e4b68-579a-40d8-9021-b86b59fe01d9",
   "metadata": {},
   "source": [
    "## Step 2: Retrieve data"
   ]
  },
  {
   "cell_type": "code",
   "execution_count": null,
   "id": "1310df4e-6a48-4fe9-95b1-df011761c4d7",
   "metadata": {},
   "outputs": [],
   "source": [
    "selected_data = app.retrieve()"
   ]
  },
  {
   "cell_type": "code",
   "execution_count": null,
   "id": "b7e0084b-bd96-48d0-a477-2cff83740320",
   "metadata": {},
   "outputs": [],
   "source": [
    "# Optionally view the selected data to check if dimensions and attributes are as expected\n",
    "selected_data"
   ]
  },
  {
   "cell_type": "markdown",
   "id": "65f83c5a-1960-40e2-8bb7-0ccce8274d1e",
   "metadata": {},
   "source": [
    "After retrieval, we want to load the data locally with the `.compute()` function. This step will be slow, but will allow for faster computation in our tool later."
   ]
  },
  {
   "cell_type": "code",
   "execution_count": null,
   "id": "47df5ec8-46d4-48b4-b2de-bff4d0f202ed",
   "metadata": {},
   "outputs": [],
   "source": [
    "selected_data = selected_data.compute()"
   ]
  },
  {
   "cell_type": "markdown",
   "id": "bea5df8e-b35a-4f9c-a159-26f7cb86a0ad",
   "metadata": {},
   "source": [
    "## Step 3: Explore threshold exceedance events and plot"
   ]
  },
  {
   "cell_type": "markdown",
   "id": "40c1075b-c3f4-407f-b065-44a9758eb742",
   "metadata": {},
   "source": [
    "Below, use the `app.explore.threshold()` GUI to explore extreme events. First, select the variable you are interested in characterizing extreme events of, and the units of that variable. You can also select an area of interest for exploring extreme events.\n",
    "\n",
    "The exceedance calculator can then be used to measure the frequency of exceedance events based on four different parameters: threshold to capture events above or below (e.g. temperatures above 80 degF, temperatures below 30 degF), length of time of the event (e.g. temperatures above a threshold for three hours), whether to count frequency of events seasonally or annually, and duration of extreme event occurrences (for example, to measure multi-day heat events, set this to the number of days you want to consider a heat event). \n",
    "\n",
    "Once you select the parameters of the event of interest, the plot on the right will show how frequencies of the defined extreme event change through the year 2100 across different GCM simulations, and changes can be explored for each global emissions scenario using the dropdown menu below the plot. Smoothing can optionally be applied to the time series as well.\n",
    "\n",
    "**Note** the GUI below can be reloaded to reflect new selections using the 'Reload data' button. Static plots can be saved to export to your local computer by using the save button in the lower right of the plot window."
   ]
  },
  {
   "cell_type": "code",
   "execution_count": null,
   "id": "c2c273af-24e0-4dcd-8a85-0504d4f269cd",
   "metadata": {},
   "outputs": [],
   "source": [
    "app.explore.thresholds()"
   ]
  },
  {
   "cell_type": "markdown",
   "id": "870aef3e",
   "metadata": {},
   "source": [
    "## Step 4: Export\n",
    "\n",
    "To export, first pick a format from the dropdown menu.\n",
    "\n",
    "- We recommend NetCDF, which will work with any number of variables and dimensions in your dataset\n",
    "- CSV works best up to 2-dimensional data (e.g., lon x lat), and will be compressed and exported with a separate metadata file\n",
    "- GeoTIFF is not possible as the time series data does not retain a spatial component"
   ]
  },
  {
   "cell_type": "code",
   "execution_count": null,
   "id": "d285bf80-2c9f-44f2-ba1d-f8861b525a53",
   "metadata": {},
   "outputs": [],
   "source": [
    "app.export_as()"
   ]
  },
  {
   "cell_type": "markdown",
   "id": "1f59f39b-5a39-4ec0-a008-859923b70ed9",
   "metadata": {},
   "source": [
    "Next, write in the object you wish to export and your desired filename (in single or double quotation marks)."
   ]
  },
  {
   "cell_type": "code",
   "execution_count": null,
   "id": "fb553b93-3cb1-4b79-bbb7-d270bbf10f61",
   "metadata": {},
   "outputs": [],
   "source": [
    "app.export_dataset(selected_data,'my_filename')"
   ]
  }
 ],
 "metadata": {
  "kernelspec": {
   "display_name": "Python 3 (ipykernel)",
   "language": "python",
   "name": "python3"
  },
  "language_info": {
   "codemirror_mode": {
    "name": "ipython",
    "version": 3
   },
   "file_extension": ".py",
   "mimetype": "text/x-python",
   "name": "python",
   "nbconvert_exporter": "python",
   "pygments_lexer": "ipython3",
   "version": "3.9.7"
  },
  "vscode": {
   "interpreter": {
    "hash": "da0264d0526899f72b05d2a36560599b4d2b14d4646b6f1d9307ef58a826dd52"
   }
  }
 },
 "nbformat": 4,
 "nbformat_minor": 5
}
