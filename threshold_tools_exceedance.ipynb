{
 "cells": [
  {
   "cell_type": "markdown",
   "id": "2e222069-ccfd-4139-8ad8-73e33094f70d",
   "metadata": {},
   "source": [
    "# Counting threshold exceedance events\n",
    "## Cal-Adapt Analytics Engine: threshold tools\n",
    "\n",
    "This notebook calculates exceedance events (time periods above or below a certain threshold) at different time scales using the `app.explore.threshold()` tool, using different criteria describing the extreme event severity and duration (for example, how many 3-day periods per year contain at least five hours of temperatures above 100 degrees F?). For any given location using hourly data, we can calculate and display how frequencies of extreme events will change under different global emissions scenarios and across model simulations. This tool can be used for applications such as:\n",
    "- Examining how the frequency of cold snaps or heat waves of a user-defined temperature (e.g. above 95 degF), duration (e.g. 3 hours or more), and period of time (e.g. for 6 days in a row) will change annually or seasonally\n",
    "- Exploring changes in the frequency of extreme precipitation events (for example, periods of low to no precipitation or high precipitation within a season or year) under different global emissions scenarios\n",
    "\n",
    "*Coming soon!* Export functionality of your selected timeseries transformations"
   ]
  },
  {
   "cell_type": "markdown",
   "id": "12d3d1b9-dc2d-419f-a4dd-9ae31bbe92b1",
   "metadata": {},
   "source": [
    "## Step 0: setup\n",
    "Import the [climakitae](https://github.com/cal-adapt/climakitae) library and other dependencies."
   ]
  },
  {
   "cell_type": "code",
   "execution_count": null,
   "id": "2f7d3d54-c3ac-4bd6-b268-dc7cd3a33e5e",
   "metadata": {},
   "outputs": [],
   "source": [
    "import panel as pn\n",
    "pn.extension()\n",
    "\n",
    "import climakitae as ck\n",
    "from climakitae import threshold_tools\n",
    "import xarray as xr"
   ]
  },
  {
   "cell_type": "markdown",
   "id": "bea5df8e-b35a-4f9c-a159-26f7cb86a0ad",
   "metadata": {},
   "source": [
    "## Step 1: Explore threshold exceedance events and plot"
   ]
  },
  {
   "cell_type": "markdown",
   "id": "40c1075b-c3f4-407f-b065-44a9758eb742",
   "metadata": {},
   "source": [
    "Below, use the `app.explore.thresholds()` GUI to explore extreme events. First, select the variable you are interested in characterizing extreme events of, and the units of that variable. You can also select an area of interest for exploring extreme events.\n",
    "\n",
    "The exceedance calculator can then be used to measure the frequency of exceedance events based on four different parameters: threshold to capture events above or below (e.g. temperatures above 80 degF, temperatures below 30 degF), length of time of the event (e.g. temperatures above a threshold for three hours), whether to count frequency of events seasonally or annually, and duration of extreme event occurrences (for example, to measure multi-day heat events, set this to the number of days you want to consider a heat event). \n",
    "\n",
    "Once you select the parameters of the event of interest, the plot on the right will show how frequencies of the defined extreme event change through the year 2100 across different GCM simulations, and changes can be explored for each global emissions scenario using the dropdown menu below the plot. Smoothing can optionally be applied to the time series as well.\n",
    "\n",
    "**Note** the GUI below can be reloaded to reflect new selections using the 'Reload data' button. Static plots can be saved to export to your local computer by using the save button in the lower right of the plot window."
   ]
  },
  {
   "cell_type": "code",
   "execution_count": null,
   "id": "3ecd8cf3-aa8f-4bbe-80a1-69ceae5482f3",
   "metadata": {},
   "outputs": [],
   "source": [
    "app = ck.Application()"
   ]
  },
  {
   "cell_type": "code",
   "execution_count": null,
   "id": "c2c273af-24e0-4dcd-8a85-0504d4f269cd",
   "metadata": {},
   "outputs": [],
   "source": [
    "app.explore.thresholds()"
   ]
  },
  {
   "cell_type": "markdown",
   "id": "7c1471a9-b087-4793-a99f-81e060da83e9",
   "metadata": {},
   "source": [
    "### Step 2: Close cluster resources"
   ]
  },
  {
   "cell_type": "markdown",
   "id": "5c74f92c-05c1-44fd-96a9-c566a02dbf44",
   "metadata": {},
   "source": [
    "Lastly, when you are done, close your cluster resources to free them up for the next time you work. "
   ]
  },
  {
   "cell_type": "code",
   "execution_count": null,
   "id": "c30ed108-98e3-46a8-be11-339583ee5262",
   "metadata": {},
   "outputs": [],
   "source": [
    "cluster.close()"
   ]
  }
 ],
 "metadata": {
  "kernelspec": {
   "display_name": "Python 3 (ipykernel)",
   "language": "python",
   "name": "python3"
  },
  "language_info": {
   "codemirror_mode": {
    "name": "ipython",
    "version": 3
   },
   "file_extension": ".py",
   "mimetype": "text/x-python",
   "name": "python",
   "nbconvert_exporter": "python",
   "pygments_lexer": "ipython3",
   "version": "3.9.13"
  },
  "vscode": {
   "interpreter": {
    "hash": "da0264d0526899f72b05d2a36560599b4d2b14d4646b6f1d9307ef58a826dd52"
   }
  }
 },
 "nbformat": 4,
 "nbformat_minor": 5
}
