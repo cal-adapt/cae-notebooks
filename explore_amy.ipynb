{
 "cells": [
  {
   "cell_type": "markdown",
   "id": "49898327-28b8-4118-b034-d20529fe8418",
   "metadata": {},
   "source": [
    "# Determining an Average Meteorological Year"
   ]
  },
  {
   "cell_type": "markdown",
   "id": "c3623eb5-ced0-452a-bf14-efd4ab4e66ff",
   "metadata": {},
   "source": [
    "This notebook calculates an hourly time series for an average meteorological year (AMY) for a given location, representing the mean weather conditions for a one-year period. This was designed to provide a similar product to a [Typical Meteorological Year](https://nsrdb.nrel.gov/data-sets/tmy), an hourly dataset used for applications in energy and building systems modeling. Because this represents average rather than extreme conditions, an AMY dataset is not suited for designing systems to meet the worst-case conditions occurring at a location.\n",
    "\n",
    "In the Cal-Adapt: Analytics Engine, there are three options for investigating AMY:  \n",
    "1. Absolute AMY: represents the historical reference period (1981-2010) or a future reference period based around a 30-year warming level time window. **Note: Absolute AMY data and display is not bias corrected, and should be used for visual data inspection only.**\n",
    "2. Difference AMY: represents the difference between a designated future 30-year period and the historical baseline (1981-2010)\n",
    "3. *Coming soon!* Severe meteorological year: represents the difference between a designated extreme percentile for a designated future 30-year period and the historical baseline (1981-2010)\n",
    "\n",
    "For any given location, we can calculate the desired AMY option and display one of the following three options depending on your selections:\n",
    "1. Heatmap of AMY\n",
    "2. Diurnal cycle of a typical day within the AMY\n",
    "3. Annual cycle of a typical hour within the AMY"
   ]
  },
  {
   "cell_type": "markdown",
   "id": "07c0eb87-5be0-4447-8c02-722dc6476412",
   "metadata": {},
   "source": [
    "## Step 0: Setup"
   ]
  },
  {
   "cell_type": "markdown",
   "id": "f4dab5f1-134e-4371-b848-522c37aac44f",
   "metadata": {},
   "source": [
    "Import the [climakitae](https://github.com/cal-adapt/climakitae) library and other dependencies."
   ]
  },
  {
   "cell_type": "code",
   "execution_count": null,
   "id": "8cdb17d4-0dac-4dad-ab1e-8efc5d506220",
   "metadata": {},
   "outputs": [],
   "source": [
    "import panel as pn\n",
    "pn.extension()\n",
    "\n",
    "import climakitae as ck\n",
    "import xarray as xr\n",
    "import pandas as pd\n",
    "import numpy as np\n",
    "import datetime\n",
    "\n",
    "import logging\n",
    "logging.captureWarnings(capture=True)"
   ]
  },
  {
   "cell_type": "markdown",
   "id": "bcd8743c-ff16-4c8c-8b64-29d25cc358b9",
   "metadata": {},
   "source": [
    "Additionally, get set up to make the computing go faster by executing the following cell. It will likely take several minutes to spin up! Learn more about dask and see some common [troubleshooting tips on our FAQ page](https://analytics.cal-adapt.org/docs/faq/)."
   ]
  },
  {
   "cell_type": "code",
   "execution_count": null,
   "id": "b86eee7f-0ce0-487a-88cd-e5017b0fcbc9",
   "metadata": {},
   "outputs": [],
   "source": [
    "from dask.distributed import progress\n",
    "from dask_gateway import GatewayCluster\n",
    "cluster = GatewayCluster()\n",
    "cluster.adapt(minimum=0, maximum=16)\n",
    "client = cluster.get_client()\n",
    "cluster"
   ]
  },
  {
   "cell_type": "markdown",
   "id": "d12c6245-6eda-4245-bf30-0dfd876a7dda",
   "metadata": {},
   "source": [
    "To use *climakitae*, load a new application:"
   ]
  },
  {
   "cell_type": "code",
   "execution_count": null,
   "id": "4a22b9df-242c-444c-95f6-2913e82f5f1a",
   "metadata": {},
   "outputs": [],
   "source": [
    "app = ck.Application()"
   ]
  },
  {
   "cell_type": "markdown",
   "id": "2b98d0b8-453f-4ab4-9139-ffbd42c4bd53",
   "metadata": {},
   "source": [
    "## Step 1: Explore the Average Meteorological Year"
   ]
  },
  {
   "cell_type": "markdown",
   "id": "0a62fb56-002b-49d0-b7ad-4c46ce727a6d",
   "metadata": {},
   "source": [
    "The below panel can be used to explore an AMY for a particular variable and geographic area of interest during the historical period, as well as comparisons to an AMY under future conditions at different global warming levels (for more information about warming levels, see the `explore_warming.ipynb` notebook). \n",
    "\n",
    "The absolute AMY for a given 30-year period (either the historical period 1981-2010, or a thirty year window centered on where each GCM simulation reaches the specified global warming level) is calculated by identifying for each hour the hourly value that is closest to the mean hourly value across all years to produce a full annual timeseries of hourly data for a variable of interest that best represents the average conditions.\n",
    "\n",
    "An absolute AMY for the historical period can then be compared to an AMY under different warming levels, and the difference in hourly values of a given variable for an AMY under historical conditions and future conditions can be plotted using the \"Difference\" button.\n",
    "\n",
    "The resulting heatmap of AMY values for a full annual timeseries is then plotted, with day of year 1 being January 1st and hour of day given in Pacific Standard Time. A static version of the plot can be saved by using the save button in the lower right of the plot window.\n",
    "\n",
    "To learn more about the data available on the Analytics Engine, [see our data catalog](https://analytics.cal-adapt.org/data/). "
   ]
  },
  {
   "cell_type": "markdown",
   "id": "77f451da-502e-4bef-92f9-c276a316c3bb",
   "metadata": {},
   "source": [
    "<span style=\"color:#FF0000\">\n",
    "\n",
    "**Note:** Once you have selected the options you would like to investigate, please select the \"Reload Data\" button. It will take 2-4 minutes to update, hang tight!"
   ]
  },
  {
   "cell_type": "code",
   "execution_count": null,
   "id": "dbd6df3d-1705-4787-a8eb-cfae966d2e2a",
   "metadata": {},
   "outputs": [],
   "source": [
    "%%time\n",
    "app.explore.amy()"
   ]
  },
  {
   "cell_type": "markdown",
   "id": "816305e2-d9bf-4b7f-b7eb-a65df33f248c",
   "metadata": {},
   "source": [
    "## Step 2: Application"
   ]
  },
  {
   "cell_type": "markdown",
   "id": "2ecd8fcd-5fe1-45d7-b837-7d3c84f2bd6c",
   "metadata": {},
   "source": [
    "Examining a particular month within the Average Meteorological Year can provide information towards a long-term energy yield analysis during a particular time of year. For example, a warm season month can provide details on a climatological conditions during times of peak demand or output; while a cold season month can highlight a minimum baseline for operating conditions across the energy sector.\n",
    "\n",
    "To analyze a specific month, we'll retrieve some of the absolute AMY data of interest shown above. Please select in the explore panel above 'Absolute' as your AMY Type, and either 'Historical' or 'Warming Level Future' with a warming level of your choosing. A progress bar is provided when running the cell below, as this step may take a little while. "
   ]
  },
  {
   "cell_type": "code",
   "execution_count": null,
   "id": "601570c9-96a4-4340-a0cd-e2dff990d87f",
   "metadata": {},
   "outputs": [],
   "source": [
    "my_data = client.compute(app.retrieve().mean(dim=\"simulation\").isel(scenario=0))\n",
    "progress(my_data, multi=False)"
   ]
  },
  {
   "cell_type": "code",
   "execution_count": null,
   "id": "e8ab0353-a640-4882-9ef9-e3a68011e530",
   "metadata": {},
   "outputs": [],
   "source": [
    "my_data = my_data.result()"
   ]
  },
  {
   "cell_type": "code",
   "execution_count": null,
   "id": "de48034b-61f9-4d4b-b962-42ecca96cb57",
   "metadata": {},
   "outputs": [],
   "source": [
    "from climakitae.tmy import tmy_calc\n",
    "amy_data = tmy_calc(my_data)"
   ]
  },
  {
   "cell_type": "markdown",
   "id": "62175df4-a588-4a59-84b3-8b0b538ddca1",
   "metadata": {},
   "source": [
    "Grab a particular month from the Average Meteorological Year. Here, we select September."
   ]
  },
  {
   "cell_type": "code",
   "execution_count": null,
   "id": "f81f25ff-06be-471c-bd71-7125e4e21330",
   "metadata": {},
   "outputs": [],
   "source": [
    "month = 'Sep'\n",
    "one_month = amy_data.iloc[amy_month(month)[0]:amy_month(month)[1]]\n",
    "one_month = pd.DataFrame(one_month.values.ravel(), columns=['Hour'])\n",
    "one_month.name = my_data.name + ' (' + my_data.attrs['units'] + ')'"
   ]
  },
  {
   "cell_type": "markdown",
   "id": "b0bdfd11-1704-4357-b1db-8cc1bc67c94a",
   "metadata": {},
   "source": [
    "Next, we will visualize what one month in the Average Meteorological Year looks like for our selected month."
   ]
  },
  {
   "cell_type": "code",
   "execution_count": null,
   "id": "03c63d96-8c61-4e04-93d5-e96ba1cb3e10",
   "metadata": {},
   "outputs": [],
   "source": [
    "one_month.hvplot.line(x='Hour of the Month',\n",
    "                      ylabel=one_month.name,\n",
    "                      title='Average Meteorological Year: ' + app.selections.location.cached_area\n",
    "                      + '\\n' + datetime.datetime.strptime(month, '%b').date().strftime('%B') + ' ' + app.selections.scenario[0], # want to grab computation option instead here (+ warming level of choice if future)\n",
    "                      height=400, width=650)"
   ]
  },
  {
   "cell_type": "markdown",
   "id": "930291dc-f097-4d64-bbad-65a4f81f20a3",
   "metadata": {},
   "source": [
    "## Step 3: Export data"
   ]
  },
  {
   "cell_type": "markdown",
   "id": "0d51edfd-0895-4a61-a0c8-c6adee39c1b9",
   "metadata": {},
   "source": [
    "To export the Average Meteorologial Year data, use the following code:"
   ]
  },
  {
   "cell_type": "code",
   "execution_count": null,
   "id": "50743b0c-4106-423d-858a-f7791974b3ee",
   "metadata": {},
   "outputs": [],
   "source": [
    "amy_data.to_csv('my_filename' + '.csv')"
   ]
  },
  {
   "cell_type": "markdown",
   "id": "ef6b147c-ad5f-41ea-89f0-4ff5aca9a9f7",
   "metadata": {},
   "source": [
    "To export the data that is used to calculate the Average Meteorological Year (not the AMY result), first pick a format from the dropdown menu.\n",
    "\n",
    "- We recommend NetCDF, which will work with any number of variables and dimensions in your dataset\n",
    "- CSV works best up to 2-dimensional data (e.g., lon x lat), and will be compressed and exported with a separate metadata file\n",
    "- GeoTIFF is not possible for Average Meteorological Year as the time series data does not retain a spatial component"
   ]
  },
  {
   "cell_type": "code",
   "execution_count": null,
   "id": "9ea09d8f-c1af-4c99-8554-760fb0016c54",
   "metadata": {},
   "outputs": [],
   "source": [
    "app.export_as()"
   ]
  },
  {
   "cell_type": "markdown",
   "id": "9d6ba840-a1d2-49e9-aa3b-0eaf76034b16",
   "metadata": {},
   "source": [
    "Next, write in the object you wish to export and your desired filename (in single or double quotation marks)."
   ]
  },
  {
   "cell_type": "code",
   "execution_count": null,
   "id": "9e20abd3-bde3-4896-b10a-52063ceac085",
   "metadata": {},
   "outputs": [],
   "source": [
    "app.export_dataset(my_data, 'my_filename')"
   ]
  },
  {
   "cell_type": "markdown",
   "id": "d434fbf0-f318-473f-a81d-f2dd7912b4b4",
   "metadata": {},
   "source": [
    "Lastly, when you are done, close your cluster resources to free them up for the next time you work. "
   ]
  },
  {
   "cell_type": "code",
   "execution_count": null,
   "id": "870e049e-17d1-48cb-a80a-14889695c33d",
   "metadata": {},
   "outputs": [],
   "source": [
    "client.close()"
   ]
  },
  {
   "cell_type": "code",
   "execution_count": null,
   "id": "8cbeee11-6907-47c2-ab0b-35df8d435c4d",
   "metadata": {},
   "outputs": [],
   "source": []
  }
 ],
 "metadata": {
  "kernelspec": {
   "display_name": "Python 3 (ipykernel)",
   "language": "python",
   "name": "python3"
  },
  "language_info": {
   "codemirror_mode": {
    "name": "ipython",
    "version": 3
   },
   "file_extension": ".py",
   "mimetype": "text/x-python",
   "name": "python",
   "nbconvert_exporter": "python",
   "pygments_lexer": "ipython3",
   "version": "3.9.7"
  }
 },
 "nbformat": 4,
 "nbformat_minor": 5
}
