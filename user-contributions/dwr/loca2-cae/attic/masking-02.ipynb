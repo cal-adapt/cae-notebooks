{
 "cells": [
  {
   "cell_type": "code",
   "execution_count": null,
   "id": "bd1e0d55-f3cd-4e7c-af62-fa7025fc2f99",
   "metadata": {},
   "outputs": [],
   "source": [
    "import intake\n",
    "from shapely.geometry import Point, Polygon\n",
    "import geopandas as gpd\n",
    "import numpy as np\n",
    "import xarray as xr"
   ]
  },
  {
   "cell_type": "code",
   "execution_count": null,
   "id": "8c113106-b94f-440b-920f-1fbd28238e62",
   "metadata": {},
   "outputs": [],
   "source": [
    "import tempfile\n",
    "import zipfile"
   ]
  },
  {
   "cell_type": "code",
   "execution_count": null,
   "id": "2ab309fc-d272-46cf-8e33-f208347228e6",
   "metadata": {},
   "outputs": [],
   "source": [
    "basin_path = \"Clip/CalSimIII_AllWatersheds_20200417_WGS84.shp\""
   ]
  },
  {
   "cell_type": "code",
   "execution_count": null,
   "id": "3436ba3d-df88-4dd1-8d3a-295402de3d2e",
   "metadata": {},
   "outputs": [],
   "source": [
    "def get_dataset(dataset_params):\n",
    "    # Open catalog of available data sets using intake-esm package\n",
    "    cat = intake.open_esm_datastore('https://cadcat.s3.amazonaws.com/cae-collection.json')\n",
    "    cat_item = cat.search(\n",
    "        activity_id=dataset_params[\"activity_id\"],\n",
    "        institution_id=dataset_params[\"institution_id\"],\n",
    "        table_id=dataset_params[\"table_id\"], \n",
    "        variable_id=dataset_params[\"variable_id\"],\n",
    "        experiment_id=dataset_params[\"experiment_id\"],\n",
    "        grid_label=dataset_params[\"grid_label\"],\n",
    "        member_id=dataset_params[\"member_id\"],\n",
    "        source_id=dataset_params[\"source_id\"],  \n",
    "    )\n",
    "    data_dict = cat_item.to_dataset_dict(\n",
    "        xarray_open_kwargs={'consolidated': True},\n",
    "        storage_options={'anon': True}\n",
    "    )\n",
    "    \n",
    "    key = \"{}.{}.{}.{}.{}.{}\".format(\n",
    "            dataset_params['activity_id'],\n",
    "            dataset_params['institution_id'],\n",
    "            dataset_params['source_id'],\n",
    "            dataset_params['experiment_id'],\n",
    "            dataset_params['table_id'],\n",
    "            dataset_params['grid_label'],)\n",
    "    \n",
    "    return data_dict[key]"
   ]
  },
  {
   "cell_type": "code",
   "execution_count": null,
   "id": "404c088c-3360-4cce-b976-e6b04181f8be",
   "metadata": {},
   "outputs": [],
   "source": [
    "# dataset_params = {\n",
    "#     \"activity_id\": \"LOCA2\",\n",
    "#     \"institution_id\": \"UCSD\",\n",
    "#     \"table_id\": \"day\",\n",
    "#     \"variable_id\": \"pr\",\n",
    "#     \"experiment_id\": \"ssp245\",\n",
    "#     \"member_id\": \"r1i1p1f2\",\n",
    "#     \"source_id\": \"CNRM-ESM2-1\",\n",
    "#     \"grid_label\": \"d03\",\n",
    "# }\n",
    "\n",
    "dataset_params = {\n",
    "    \"activity_id\": \"LOCA2\",\n",
    "    \"institution_id\": \"UCSD\",\n",
    "    \"table_id\": \"day\",\n",
    "    \"variable_id\": [\"pr\",\"tasmax\",\"tasmin\"],\n",
    "    \"experiment_id\": \"ssp370\",\n",
    "    \"member_id\": \"r1i1p1f1\",\n",
    "    \"source_id\": \"ACCESS-CM2\",\n",
    "    \"grid_label\": \"d03\",\n",
    "}\n",
    "\n",
    "\n",
    "ds = get_dataset(dataset_params)"
   ]
  },
  {
   "cell_type": "code",
   "execution_count": null,
   "id": "23aa1503-7ac5-477f-bc66-b9d98c1cf84e",
   "metadata": {},
   "outputs": [],
   "source": [
    "ds"
   ]
  },
  {
   "cell_type": "code",
   "execution_count": null,
   "id": "76825b7b-e41b-4c9c-b30f-9ebbc14a768f",
   "metadata": {},
   "outputs": [],
   "source": [
    "time_slice = (2015, 2100)\n",
    "ds = ds.sel(time=slice(str(time_slice[0]), str(time_slice[1])))"
   ]
  },
  {
   "cell_type": "code",
   "execution_count": null,
   "id": "e8abb4fd-08d8-4b82-915b-7859b09f6b10",
   "metadata": {},
   "outputs": [],
   "source": [
    "ds"
   ]
  },
  {
   "cell_type": "code",
   "execution_count": null,
   "id": "e35e60d2-77df-44ba-b8d9-2b5ddcc0ce74",
   "metadata": {},
   "outputs": [],
   "source": [
    "# https://geohackweek.github.io/nDarrays/05-aggregation/"
   ]
  },
  {
   "cell_type": "code",
   "execution_count": null,
   "id": "2878572c-5ea5-450a-9664-6dad91ea2b57",
   "metadata": {},
   "outputs": [],
   "source": [
    "# time slice\n",
    "time_slice = (2022, 2023)\n",
    "ds = ds.sel(time=slice(str(time_slice[0]), str(time_slice[1])))"
   ]
  },
  {
   "cell_type": "code",
   "execution_count": null,
   "id": "a694b184-d65d-48dd-ad74-3224719b976e",
   "metadata": {},
   "outputs": [],
   "source": [
    "ds.attrs['title']"
   ]
  },
  {
   "cell_type": "code",
   "execution_count": null,
   "id": "a455004c-c0c5-44ac-8c07-1b2cc6c46248",
   "metadata": {},
   "outputs": [],
   "source": [
    "ds_precip = ds['pr'].resample(time=\"M\").sum()\n",
    "ds_temp = ds[['tasmin','tasmax']].resample(time=\"M\").mean()\n",
    "ds = xr.merge([ds_precip,ds_temp])"
   ]
  },
  {
   "cell_type": "code",
   "execution_count": null,
   "id": "b5882607-9b38-42e3-aae6-3ff633c0a12e",
   "metadata": {},
   "outputs": [],
   "source": [
    "ds"
   ]
  },
  {
   "cell_type": "code",
   "execution_count": null,
   "id": "e5b43cd9-a0be-4fb7-9cb1-bafe4fee7fce",
   "metadata": {},
   "outputs": [],
   "source": []
  },
  {
   "cell_type": "code",
   "execution_count": null,
   "id": "c9479a37-f193-4a10-96c8-03f77ae67588",
   "metadata": {},
   "outputs": [],
   "source": []
  },
  {
   "cell_type": "code",
   "execution_count": null,
   "id": "7f0a0dcd-3f49-465c-b24e-4858ce1d06fa",
   "metadata": {},
   "outputs": [],
   "source": [
    "ds = ds.resample(time=\"M\").mean() # where M is for months"
   ]
  },
  {
   "cell_type": "code",
   "execution_count": null,
   "id": "ff1153d5-f6b9-4fce-80a2-618da2751a9c",
   "metadata": {},
   "outputs": [],
   "source": [
    "data = ds.sel(time='2022-01-31')"
   ]
  },
  {
   "cell_type": "code",
   "execution_count": null,
   "id": "aed8d291-2908-459e-ac55-0c755026a9b9",
   "metadata": {},
   "outputs": [],
   "source": [
    "type(data)"
   ]
  },
  {
   "cell_type": "code",
   "execution_count": null,
   "id": "dff79733-7de5-4b8c-bc89-d43ef67c353a",
   "metadata": {},
   "outputs": [],
   "source": [
    "data.to_netcdf(\"test_all.nc\")"
   ]
  },
  {
   "cell_type": "code",
   "execution_count": null,
   "id": "dcb6421e-d163-408c-a0f8-5769801d5a15",
   "metadata": {},
   "outputs": [],
   "source": [
    "# SPATIAL MASKING"
   ]
  },
  {
   "cell_type": "code",
   "execution_count": null,
   "id": "bca89e80-e4df-4cb1-99bb-dbd41f7b5988",
   "metadata": {},
   "outputs": [],
   "source": [
    "def intersect(lat, lon, polygons):\n",
    "    pt = Point(lon, lat)\n",
    "    for i, row in polygons.iterrows():\n",
    "        polygon = row.geometry\n",
    "        #if pt.within(polygon):\n",
    "        if polygon.contains(pt):\n",
    "            return row.OBJECTID\n",
    "            break\n",
    "    return None"
   ]
  },
  {
   "cell_type": "code",
   "execution_count": null,
   "id": "7f252ca9-d528-4cc4-ad00-5fe9a7c69c13",
   "metadata": {},
   "outputs": [],
   "source": [
    "def create_mask(time_slice, polygons, bbox):\n",
    "    # initialize an empty array with same shape as ds\n",
    "    mask = np.empty((ds.dims['lat'], ds.dims['lon']), dtype=\"object\")\n",
    "\n",
    "    # populate the array\n",
    "    for i, x in enumerate(time_slice.coords['lon']):\n",
    "        lon = x.values\n",
    "        print(lon)\n",
    "\n",
    "        for j, y in enumerate(time_slice.coords['lat']):\n",
    "            lat = y.values\n",
    "            \n",
    "            if bbox[\"top\"] > lat > bbox[\"bottom\"] and bbox[\"left\"] < lon < bbox[\"right\"]:\n",
    "\n",
    "                mask[j, i] = intersect(lat, lon, polygons)\n",
    "                #mask[(ds.dims['lat'] - 1) - j, i] = intersect(lat, lon, polygons)\n",
    "            else:\n",
    "                mask[j, i] = None\n",
    "                #mask[(ds.dims['lat'] - 1) - j, i] = None\n",
    "\n",
    "    return mask"
   ]
  },
  {
   "cell_type": "code",
   "execution_count": null,
   "id": "d11fb24d-f3ba-4b5c-a1cf-bf58fbbe99af",
   "metadata": {},
   "outputs": [],
   "source": [
    "data = gpd.read_file(basin_path)\n",
    "polygons = data[['OBJECTID', 'geometry']]\n",
    "bbox = {\n",
    "    \"top\": 42.5,\n",
    "    \"bottom\": 34.7,\n",
    "    \"left\": -123.1,\n",
    "    \"right\": -117.9,\n",
    "}\n",
    "mask = create_mask(ds, polygons, bbox)"
   ]
  },
  {
   "cell_type": "code",
   "execution_count": null,
   "id": "fb546c26-eb03-4293-b4d5-bbf0d6a357b7",
   "metadata": {},
   "outputs": [],
   "source": [
    "with open(\"Clip/mask2.npy\", \"wb\") as f:\n",
    "    np.save(f, mask)"
   ]
  },
  {
   "cell_type": "code",
   "execution_count": null,
   "id": "5d33b8da-4365-4082-9c37-2d7c894e67b6",
   "metadata": {},
   "outputs": [],
   "source": []
  },
  {
   "cell_type": "code",
   "execution_count": null,
   "id": "8c240201-92f8-4222-88e5-3c198f362e44",
   "metadata": {},
   "outputs": [],
   "source": [
    "with open(\"Clip/mask.npy\", \"rb\") as g:\n",
    "   shp_mask = np.load(g, allow_pickle=True)"
   ]
  },
  {
   "cell_type": "code",
   "execution_count": null,
   "id": "d2314227-429c-4a49-9567-e19f4ffdc44f",
   "metadata": {},
   "outputs": [],
   "source": [
    "flipped_shp_mask = np.flip(shp_mask, 1)"
   ]
  },
  {
   "cell_type": "code",
   "execution_count": null,
   "id": "154a4c21-29cd-4320-8a9f-fb97dcda7e06",
   "metadata": {},
   "outputs": [],
   "source": [
    "mask = flipped_shp_mask"
   ]
  },
  {
   "cell_type": "code",
   "execution_count": null,
   "id": "96ed5aca-3e46-49ab-aaf0-b419e2a5d0e6",
   "metadata": {},
   "outputs": [],
   "source": [
    "ds.coords['mask'] = (('lat', 'lon'), mask)"
   ]
  },
  {
   "cell_type": "code",
   "execution_count": null,
   "id": "1cb9fbd9-ab70-40e3-a6d0-3d7c1f4c5627",
   "metadata": {},
   "outputs": [],
   "source": [
    "ds.mask"
   ]
  },
  {
   "cell_type": "code",
   "execution_count": null,
   "id": "e723209a-f4c4-4cf1-a562-bffa99bb621d",
   "metadata": {},
   "outputs": [],
   "source": [
    "%matplotlib inline\n",
    "\n",
    "map_data = ds['pr'].sel(time='2022-01-31').where(ds.mask != None)\n",
    "\n",
    "#map_data = ds['pr'].sel(time='2022-01-31').where(ds.mask == 166)\n",
    "#map_data = ds['pr'].sel(time='2022-11-30')\n",
    "map_data.plot()"
   ]
  },
  {
   "cell_type": "code",
   "execution_count": null,
   "id": "50a68665-31a4-40b2-b333-0b836ffe1f88",
   "metadata": {},
   "outputs": [],
   "source": [
    "map_data.to_netcdf(\"test_all.nc\")"
   ]
  },
  {
   "cell_type": "code",
   "execution_count": null,
   "id": "0cb0ac15-8d55-4d66-bace-3e1d717abb10",
   "metadata": {},
   "outputs": [],
   "source": [
    "ds.coords"
   ]
  },
  {
   "cell_type": "code",
   "execution_count": null,
   "id": "5a60e55a-b4c0-46a5-aa55-f9792abad026",
   "metadata": {},
   "outputs": [],
   "source": [
    "mask_values = flipped_shp_mask[flipped_shp_mask != np.array(None)]"
   ]
  },
  {
   "cell_type": "code",
   "execution_count": null,
   "id": "c89e07ce-b0f5-41d8-b16d-7f5b4b9f3f6f",
   "metadata": {},
   "outputs": [],
   "source": [
    "oids = np.unique(mask_values)"
   ]
  },
  {
   "cell_type": "code",
   "execution_count": null,
   "id": "c1560f13-feda-4388-82f0-b0232757b7f6",
   "metadata": {},
   "outputs": [],
   "source": [
    "type(oids[10])"
   ]
  },
  {
   "cell_type": "code",
   "execution_count": null,
   "id": "48ff46ea-b1c5-49df-914a-47aa62c4699c",
   "metadata": {},
   "outputs": [],
   "source": []
  },
  {
   "cell_type": "code",
   "execution_count": null,
   "id": "c53123f6-e473-4488-9be0-6623c261d634",
   "metadata": {},
   "outputs": [],
   "source": [
    "time_slice = ds.pr[0]"
   ]
  },
  {
   "cell_type": "code",
   "execution_count": null,
   "id": "b58c747d-7807-4cbc-8b6c-bc3376962da1",
   "metadata": {},
   "outputs": [],
   "source": [
    "df = time_slice.to_dataframe()"
   ]
  },
  {
   "cell_type": "code",
   "execution_count": null,
   "id": "f9c9fbb2-a5fc-4276-b103-051fbd137656",
   "metadata": {},
   "outputs": [],
   "source": [
    "df.head()"
   ]
  },
  {
   "cell_type": "code",
   "execution_count": null,
   "id": "5bdd52c1-8a70-495c-bf18-d0af846f68d8",
   "metadata": {},
   "outputs": [],
   "source": [
    "df = df.reset_index()"
   ]
  },
  {
   "cell_type": "code",
   "execution_count": null,
   "id": "d8f6868b-8a37-4436-b84e-1f21f7e66c95",
   "metadata": {},
   "outputs": [],
   "source": [
    "df.head()"
   ]
  },
  {
   "cell_type": "code",
   "execution_count": null,
   "id": "b4ef16ad-af34-4aed-87f4-58151155efa0",
   "metadata": {},
   "outputs": [],
   "source": []
  },
  {
   "cell_type": "code",
   "execution_count": null,
   "id": "fc30ee94-9c88-4225-9b33-7f3322b750bd",
   "metadata": {},
   "outputs": [],
   "source": []
  },
  {
   "cell_type": "code",
   "execution_count": null,
   "id": "269055bf-5191-4842-8be1-fc538636bcbf",
   "metadata": {},
   "outputs": [],
   "source": [
    "point_data = ds[0].pr.to_dataframe()"
   ]
  },
  {
   "cell_type": "code",
   "execution_count": null,
   "id": "b677bda5-b602-40fa-96d6-6182905a6929",
   "metadata": {},
   "outputs": [],
   "source": [
    "point_data.head()"
   ]
  },
  {
   "cell_type": "code",
   "execution_count": null,
   "id": "6825425c-5d83-490d-85fd-cb65f2efe204",
   "metadata": {},
   "outputs": [],
   "source": [
    "ds.lat.attrs"
   ]
  },
  {
   "cell_type": "code",
   "execution_count": null,
   "id": "7e11dd20-a088-415b-8f7d-9d298c4056ee",
   "metadata": {},
   "outputs": [],
   "source": [
    "ds.lon.attrs"
   ]
  },
  {
   "cell_type": "code",
   "execution_count": null,
   "id": "c31c8f4c-84de-4e8e-8aff-14e013c988ec",
   "metadata": {},
   "outputs": [],
   "source": []
  }
 ],
 "metadata": {
  "kernelspec": {
   "display_name": "Python 3 (ipykernel)",
   "language": "python",
   "name": "python3"
  },
  "language_info": {
   "codemirror_mode": {
    "name": "ipython",
    "version": 3
   },
   "file_extension": ".py",
   "mimetype": "text/x-python",
   "name": "python",
   "nbconvert_exporter": "python",
   "pygments_lexer": "ipython3",
   "version": "3.10.9"
  }
 },
 "nbformat": 4,
 "nbformat_minor": 5
}
