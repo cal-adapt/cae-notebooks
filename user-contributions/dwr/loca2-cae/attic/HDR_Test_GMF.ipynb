{
 "cells": [
  {
   "cell_type": "code",
   "execution_count": null,
   "id": "9358c51b-96bd-4846-a399-585e0766afe0",
   "metadata": {},
   "outputs": [],
   "source": [
    "import shapely"
   ]
  },
  {
   "cell_type": "code",
   "execution_count": null,
   "id": "da082944-b322-42f3-919f-93b12fe3b033",
   "metadata": {},
   "outputs": [],
   "source": [
    "import geopandas as gpd"
   ]
  },
  {
   "cell_type": "code",
   "execution_count": null,
   "id": "1aa384b8-44d8-4f72-ad43-4fc94b0a2ece",
   "metadata": {},
   "outputs": [],
   "source": [
    "basin_path = \"Clip/CalSimIII_AllWatersheds_20200417_WGS84.shp\""
   ]
  },
  {
   "cell_type": "code",
   "execution_count": null,
   "id": "bf7e98f6-ddc2-4f08-b84e-28d4c7bb01d2",
   "metadata": {},
   "outputs": [],
   "source": [
    "data = gpd.read_file(basin_path)"
   ]
  },
  {
   "cell_type": "code",
   "execution_count": null,
   "id": "0a0f7917-d662-4ee5-bd25-e1bdc131f0a4",
   "metadata": {},
   "outputs": [],
   "source": [
    "data.head(1)"
   ]
  },
  {
   "cell_type": "code",
   "execution_count": null,
   "id": "320e7969-28b4-40e4-ad04-e5b58285c7ad",
   "metadata": {},
   "outputs": [],
   "source": [
    "%matplotlib inline"
   ]
  },
  {
   "cell_type": "code",
   "execution_count": null,
   "id": "d320f068-b6f2-46ce-aa1f-7fcceabc9355",
   "metadata": {},
   "outputs": [],
   "source": [
    "data.plot()"
   ]
  },
  {
   "cell_type": "code",
   "execution_count": null,
   "id": "6ddf6a99-f9f5-4da5-8949-d851241568ca",
   "metadata": {},
   "outputs": [],
   "source": [
    "from shapely.geometry import Point, Polygon"
   ]
  },
  {
   "cell_type": "code",
   "execution_count": null,
   "id": "0158c0c8-763e-462d-bf2c-f2973ca7233e",
   "metadata": {},
   "outputs": [],
   "source": [
    "p = Point(-119, 36.4)"
   ]
  },
  {
   "cell_type": "code",
   "execution_count": null,
   "id": "70c656ae-be9c-42fd-9cd7-d4ffd16ceb6e",
   "metadata": {},
   "outputs": [],
   "source": [
    "data.head()"
   ]
  },
  {
   "cell_type": "code",
   "execution_count": null,
   "id": "c9918d2a-455b-4b7a-8496-d99a928acecd",
   "metadata": {},
   "outputs": [],
   "source": [
    "polygons = data[['OBJECTID', 'geometry']]"
   ]
  },
  {
   "cell_type": "code",
   "execution_count": null,
   "id": "791dae83-bcc8-4de3-9f3c-800e6422d0bb",
   "metadata": {},
   "outputs": [],
   "source": [
    "polygons.shape"
   ]
  },
  {
   "cell_type": "code",
   "execution_count": null,
   "id": "aa388550-a543-4cbf-8b74-fc6cd2ac89ff",
   "metadata": {},
   "outputs": [],
   "source": [
    "p.x"
   ]
  },
  {
   "cell_type": "code",
   "execution_count": null,
   "id": "92147709-450d-4974-bf44-23977260f9a4",
   "metadata": {},
   "outputs": [],
   "source": [
    "for i, subbasin in polygons.iterrows():\n",
    "\n",
    "    polygon = subbasin.geometry\n",
    "    if p.within(polygon):\n",
    "        print(subbasin.OBJECTID)\n",
    "        break"
   ]
  },
  {
   "cell_type": "code",
   "execution_count": null,
   "id": "c065e805-5bb7-4068-9f3d-b8360715d66e",
   "metadata": {},
   "outputs": [],
   "source": []
  },
  {
   "cell_type": "code",
   "execution_count": null,
   "id": "48ee255c-3bc0-4d04-b7ed-1ad8ebaa978a",
   "metadata": {},
   "outputs": [],
   "source": [
    "import panel as pn\n",
    "pn.extension()\n",
    "\n",
    "import climakitae as ck"
   ]
  },
  {
   "cell_type": "code",
   "execution_count": null,
   "id": "4860cfb9-cbaf-424c-aca3-2d6819b3dee6",
   "metadata": {},
   "outputs": [],
   "source": [
    "app = ck.Application()"
   ]
  },
  {
   "cell_type": "code",
   "execution_count": null,
   "id": "dfa50afb-d717-4a8b-9136-e47157aa79c2",
   "metadata": {},
   "outputs": [],
   "source": [
    "app.select()\n"
   ]
  },
  {
   "cell_type": "code",
   "execution_count": null,
   "id": "15b80633-7ff8-485a-9cbb-01bb26377fd5",
   "metadata": {},
   "outputs": [],
   "source": [
    "data_to_use = app.retrieve()\n"
   ]
  },
  {
   "cell_type": "code",
   "execution_count": null,
   "id": "56f3c5a9-3177-4863-a3f0-ea30b2f8857a",
   "metadata": {},
   "outputs": [],
   "source": [
    "data_to_use\n"
   ]
  },
  {
   "cell_type": "code",
   "execution_count": null,
   "id": "152d79ce-fd2b-484a-970b-6991285e48c4",
   "metadata": {},
   "outputs": [],
   "source": [
    "data_to_use = app.load(data_to_use)"
   ]
  },
  {
   "cell_type": "code",
   "execution_count": null,
   "id": "6078cdb9-4086-4955-a436-9a7d2eae02f8",
   "metadata": {},
   "outputs": [],
   "source": [
    "app.view(data_to_use)"
   ]
  },
  {
   "cell_type": "code",
   "execution_count": null,
   "id": "a7b5b140-aa3b-4d5b-9d37-7f89a04e5c6b",
   "metadata": {},
   "outputs": [],
   "source": [
    "import intake\n",
    "col = intake.open_esm_datastore('https://cadcat.s3.amazonaws.com/cae-collection.json')"
   ]
  },
  {
   "cell_type": "code",
   "execution_count": null,
   "id": "8be67ded-6dae-45ee-86ef-10be6b295bd7",
   "metadata": {},
   "outputs": [],
   "source": [
    "col"
   ]
  },
  {
   "cell_type": "code",
   "execution_count": null,
   "id": "64eff478-0572-4a90-bb13-974342fabed6",
   "metadata": {},
   "outputs": [],
   "source": [
    "for k, v in col.items():\n",
    "    print(k)\n",
    "    #print(dir(v))\n",
    "    #print(v.df)\n",
    "    #print(v.df['path'])\n",
    "    for i, row in v.df.iterrows():\n",
    "        print(row)\n",
    "        \n",
    "    break"
   ]
  },
  {
   "cell_type": "code",
   "execution_count": null,
   "id": "09a9124a-15c9-42b2-ae50-21120dceb05a",
   "metadata": {},
   "outputs": [],
   "source": [
    "import rasterio as rio"
   ]
  },
  {
   "cell_type": "code",
   "execution_count": null,
   "id": "f2db8f27-7141-42d9-9682-087dc7c94b22",
   "metadata": {},
   "outputs": [],
   "source": []
  }
 ],
 "metadata": {
  "kernelspec": {
   "display_name": "Python 3 (ipykernel)",
   "language": "python",
   "name": "python3"
  },
  "language_info": {
   "codemirror_mode": {
    "name": "ipython",
    "version": 3
   },
   "file_extension": ".py",
   "mimetype": "text/x-python",
   "name": "python",
   "nbconvert_exporter": "python",
   "pygments_lexer": "ipython3",
   "version": "3.10.9"
  },
  "toc-autonumbering": true,
  "toc-showcode": false,
  "toc-showmarkdowntxt": false,
  "vscode": {
   "interpreter": {
    "hash": "fa62435a7c993a20a33814c0e1322a77ccc8b97298c0805cd9c362bad840ac52"
   }
  }
 },
 "nbformat": 4,
 "nbformat_minor": 5
}
