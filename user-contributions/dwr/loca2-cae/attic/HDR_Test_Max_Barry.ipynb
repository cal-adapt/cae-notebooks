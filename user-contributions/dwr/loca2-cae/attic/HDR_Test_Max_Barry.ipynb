{
 "cells": [
  {
   "cell_type": "code",
   "execution_count": null,
   "id": "48ee255c-3bc0-4d04-b7ed-1ad8ebaa978a",
   "metadata": {},
   "outputs": [],
   "source": [
    "import panel as pn\n",
    "pn.extension()\n",
    "\n",
    "import climakitae as ck"
   ]
  },
  {
   "cell_type": "code",
   "execution_count": null,
   "id": "4860cfb9-cbaf-424c-aca3-2d6819b3dee6",
   "metadata": {},
   "outputs": [],
   "source": [
    "app = ck.Application()"
   ]
  },
  {
   "cell_type": "code",
   "execution_count": null,
   "id": "dfa50afb-d717-4a8b-9136-e47157aa79c2",
   "metadata": {},
   "outputs": [],
   "source": [
    "app.select()\n"
   ]
  },
  {
   "cell_type": "code",
   "execution_count": null,
   "id": "15b80633-7ff8-485a-9cbb-01bb26377fd5",
   "metadata": {},
   "outputs": [],
   "source": [
    "data_to_use = app.retrieve()"
   ]
  },
  {
   "cell_type": "code",
   "execution_count": null,
   "id": "56f3c5a9-3177-4863-a3f0-ea30b2f8857a",
   "metadata": {},
   "outputs": [],
   "source": [
    "data_to_use\n"
   ]
  },
  {
   "cell_type": "code",
   "execution_count": null,
   "id": "152d79ce-fd2b-484a-970b-6991285e48c4",
   "metadata": {},
   "outputs": [],
   "source": [
    "data_to_use = app.load(data_to_use)"
   ]
  },
  {
   "cell_type": "code",
   "execution_count": null,
   "id": "6078cdb9-4086-4955-a436-9a7d2eae02f8",
   "metadata": {},
   "outputs": [],
   "source": [
    "app.view(data_to_use)"
   ]
  },
  {
   "cell_type": "code",
   "execution_count": null,
   "id": "c89cbfd8-be77-452b-84ea-f9dba618f1b6",
   "metadata": {},
   "outputs": [],
   "source": [
    "app.export_as()"
   ]
  },
  {
   "cell_type": "code",
   "execution_count": null,
   "id": "39a28d33-396e-4262-8a82-20cacf875674",
   "metadata": {},
   "outputs": [],
   "source": [
    "app.export_dataset(data_to_use, 'Test_1_Year')"
   ]
  },
  {
   "cell_type": "code",
   "execution_count": null,
   "id": "95c23fa4-5177-492d-a321-9f035ff44f0b",
   "metadata": {},
   "outputs": [],
   "source": []
  }
 ],
 "metadata": {
  "kernelspec": {
   "display_name": "Python 3 (ipykernel)",
   "language": "python",
   "name": "python3"
  },
  "language_info": {
   "codemirror_mode": {
    "name": "ipython",
    "version": 3
   },
   "file_extension": ".py",
   "mimetype": "text/x-python",
   "name": "python",
   "nbconvert_exporter": "python",
   "pygments_lexer": "ipython3",
   "version": "3.10.9"
  },
  "vscode": {
   "interpreter": {
    "hash": "fa62435a7c993a20a33814c0e1322a77ccc8b97298c0805cd9c362bad840ac52"
   }
  }
 },
 "nbformat": 4,
 "nbformat_minor": 5
}
