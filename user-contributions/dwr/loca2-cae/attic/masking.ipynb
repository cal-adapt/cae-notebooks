{
 "cells": [
  {
   "cell_type": "code",
   "execution_count": 4,
   "id": "bd1e0d55-f3cd-4e7c-af62-fa7025fc2f99",
   "metadata": {},
   "outputs": [],
   "source": [
    "import intake\n",
    "from shapely.geometry import Point, Polygon\n",
    "import geopandas as gpd\n",
    "import numpy as np"
   ]
  },
  {
   "cell_type": "code",
   "execution_count": 5,
   "id": "2ab309fc-d272-46cf-8e33-f208347228e6",
   "metadata": {},
   "outputs": [],
   "source": [
    "basin_path = \"Clip/CalSimIII_AllWatersheds_20200417_WGS84.shp\""
   ]
  },
  {
   "cell_type": "code",
   "execution_count": 6,
   "id": "3436ba3d-df88-4dd1-8d3a-295402de3d2e",
   "metadata": {},
   "outputs": [],
   "source": [
    "def get_dataset(dataset_params):\n",
    "    # Open catalog of available data sets using intake-esm package\n",
    "    cat = intake.open_esm_datastore('https://cadcat.s3.amazonaws.com/cae-collection.json')\n",
    "    cat_item = cat.search(\n",
    "        activity_id=dataset_params[\"activity_id\"],\n",
    "        institution_id=dataset_params[\"institution_id\"],\n",
    "        table_id=dataset_params[\"table_id\"], \n",
    "        variable_id=dataset_params[\"variable_id\"],\n",
    "        experiment_id=dataset_params[\"experiment_id\"],\n",
    "        grid_label=dataset_params[\"grid_label\"],\n",
    "        member_id=dataset_params[\"member_id\"],\n",
    "        source_id=dataset_params[\"source_id\"],  \n",
    "    )\n",
    "    data_dict = cat_item.to_dataset_dict(\n",
    "        xarray_open_kwargs={'consolidated': True},\n",
    "        storage_options={'anon': True}\n",
    "    )\n",
    "    \n",
    "    key = \"{}.{}.{}.{}.{}.{}\".format(\n",
    "            dataset_params['activity_id'],\n",
    "            dataset_params['institution_id'],\n",
    "            dataset_params['source_id'],\n",
    "            dataset_params['experiment_id'],\n",
    "            dataset_params['table_id'],\n",
    "            dataset_params['grid_label'],)\n",
    "    \n",
    "    return data_dict[key]"
   ]
  },
  {
   "cell_type": "code",
   "execution_count": 7,
   "id": "404c088c-3360-4cce-b976-e6b04181f8be",
   "metadata": {},
   "outputs": [
    {
     "name": "stdout",
     "output_type": "stream",
     "text": [
      "\n",
      "--> The keys in the returned dictionary of datasets are constructed as follows:\n",
      "\t'activity_id.institution_id.source_id.experiment_id.table_id.grid_label'\n"
     ]
    },
    {
     "data": {
      "text/html": [
       "\n",
       "<style>\n",
       "    /* Turns off some styling */\n",
       "    progress {\n",
       "        /* gets rid of default border in Firefox and Opera. */\n",
       "        border: none;\n",
       "        /* Needs to be in here for Safari polyfill so background images work as expected. */\n",
       "        background-size: auto;\n",
       "    }\n",
       "    progress:not([value]), progress:not([value])::-webkit-progress-bar {\n",
       "        background: repeating-linear-gradient(45deg, #7e7e7e, #7e7e7e 10px, #5c5c5c 10px, #5c5c5c 20px);\n",
       "    }\n",
       "    .progress-bar-interrupted, .progress-bar-interrupted::-webkit-progress-bar {\n",
       "        background: #F44336;\n",
       "    }\n",
       "</style>\n"
      ],
      "text/plain": [
       "<IPython.core.display.HTML object>"
      ]
     },
     "metadata": {},
     "output_type": "display_data"
    },
    {
     "data": {
      "text/html": [
       "\n",
       "    <div>\n",
       "      <progress value='1' class='' max='1' style='width:300px; height:20px; vertical-align: middle;'></progress>\n",
       "      100.00% [1/1 00:01&lt;00:00]\n",
       "    </div>\n",
       "    "
      ],
      "text/plain": [
       "<IPython.core.display.HTML object>"
      ]
     },
     "metadata": {},
     "output_type": "display_data"
    }
   ],
   "source": [
    "dataset_params = {\n",
    "    \"activity_id\": \"LOCA2\",\n",
    "    \"institution_id\": \"UCSD\",\n",
    "    \"table_id\": \"day\",\n",
    "    \"variable_id\": \"pr\",\n",
    "    \"experiment_id\": \"ssp245\",\n",
    "    \"member_id\": \"r1i1p1f2\",\n",
    "    \"source_id\": \"CNRM-ESM2-1\",\n",
    "    \"grid_label\": \"d03\",\n",
    "}\n",
    "ds = get_dataset(dataset_params)"
   ]
  },
  {
   "cell_type": "code",
   "execution_count": 5,
   "id": "e35e60d2-77df-44ba-b8d9-2b5ddcc0ce74",
   "metadata": {},
   "outputs": [],
   "source": [
    "# https://geohackweek.github.io/nDarrays/05-aggregation/"
   ]
  },
  {
   "cell_type": "code",
   "execution_count": 5,
   "id": "2878572c-5ea5-450a-9664-6dad91ea2b57",
   "metadata": {},
   "outputs": [],
   "source": [
    "# time slice\n",
    "time_slice = (2022, 2023)\n",
    "ds = ds.sel(time=slice(str(time_slice[0]), str(time_slice[1])))"
   ]
  },
  {
   "cell_type": "code",
   "execution_count": 10,
   "id": "53edaf9d-cfa6-41fb-848a-3ca51296c3b5",
   "metadata": {},
   "outputs": [],
   "source": [
    "ts = ds.pr[0]"
   ]
  },
  {
   "cell_type": "code",
   "execution_count": 11,
   "id": "68db214c-7195-4f66-8182-bd65d5dfda13",
   "metadata": {},
   "outputs": [],
   "source": [
    "# average for months\n",
    "ds = ds.resample(time=\"M\").mean() # where M is for months"
   ]
  },
  {
   "cell_type": "code",
   "execution_count": 40,
   "id": "a694b184-d65d-48dd-ad74-3224719b976e",
   "metadata": {},
   "outputs": [
    {
     "data": {
      "text/plain": [
       "'LOCA statistically downscaled climate model data, David W. Pierce, Scripps Institution of Oceanography'"
      ]
     },
     "execution_count": 40,
     "metadata": {},
     "output_type": "execute_result"
    }
   ],
   "source": [
    "ds.attrs['title']"
   ]
  },
  {
   "cell_type": "code",
   "execution_count": 13,
   "id": "dcb6421e-d163-408c-a0f8-5769801d5a15",
   "metadata": {},
   "outputs": [],
   "source": [
    "# SPATIAL MASKING"
   ]
  },
  {
   "cell_type": "code",
   "execution_count": 18,
   "id": "bca89e80-e4df-4cb1-99bb-dbd41f7b5988",
   "metadata": {},
   "outputs": [],
   "source": [
    "def intersect(lat, lon, polygons):\n",
    "    pt = Point(lon, lat)\n",
    "    for i, row in polygons.iterrows():\n",
    "        polygon = row.geometry\n",
    "        #if pt.within(polygon):\n",
    "        if polygon.contains(pt):\n",
    "            return row.OBJECTID\n",
    "            break\n",
    "    return None"
   ]
  },
  {
   "cell_type": "code",
   "execution_count": 22,
   "id": "7f252ca9-d528-4cc4-ad00-5fe9a7c69c13",
   "metadata": {},
   "outputs": [],
   "source": [
    "def create_mask(time_slice, polygons, bbox):\n",
    "    # initialize an empty array with same shape as ds\n",
    "    mask = np.empty((ds.dims['lat'], ds.dims['lon']), dtype=\"object\")\n",
    "\n",
    "    # populate the array\n",
    "    for i, x in enumerate(time_slice.coords['lon']):\n",
    "        lon = x.values\n",
    "        print(lon)\n",
    "\n",
    "        for j, y in enumerate(time_slice.coords['lat']):\n",
    "            lat = y.values\n",
    "            \n",
    "            if bbox[\"top\"] > lat > bbox[\"bottom\"] and bbox[\"left\"] < lon < bbox[\"right\"]:\n",
    "\n",
    "                mask[(ds.dims['lat'] - 1) - j, i] = intersect(lat, lon, polygons)\n",
    "            else:\n",
    "                mask[(ds.dims['lat'] - 1) - j, i] = None\n",
    "\n",
    "    return mask"
   ]
  },
  {
   "cell_type": "code",
   "execution_count": null,
   "id": "d11fb24d-f3ba-4b5c-a1cf-bf58fbbe99af",
   "metadata": {},
   "outputs": [],
   "source": [
    "data = gpd.read_file(basin_path)\n",
    "polygons = data[['OBJECTID', 'geometry']]\n",
    "bbox = {\n",
    "    \"top\": 42.5,\n",
    "    \"bottom\": 34.7,\n",
    "    \"left\": -123.1,\n",
    "    \"right\": -117.9,\n",
    "}\n",
    "mask = create_mask(ts, polygons, bbox)"
   ]
  },
  {
   "cell_type": "code",
   "execution_count": 24,
   "id": "759c791a-c934-4f11-8282-9d8dc9745d61",
   "metadata": {},
   "outputs": [
    {
     "data": {
      "text/plain": [
       "array([[None, None, None, ..., None, None, None],\n",
       "       [None, None, None, ..., None, None, None],\n",
       "       [None, None, None, ..., None, None, None],\n",
       "       ...,\n",
       "       [None, None, None, ..., None, None, None],\n",
       "       [None, None, None, ..., None, None, None],\n",
       "       [None, None, None, ..., None, None, None]], dtype=object)"
      ]
     },
     "execution_count": 24,
     "metadata": {},
     "output_type": "execute_result"
    }
   ],
   "source": [
    "mask"
   ]
  },
  {
   "cell_type": "code",
   "execution_count": 29,
   "id": "fb546c26-eb03-4293-b4d5-bbf0d6a357b7",
   "metadata": {},
   "outputs": [],
   "source": [
    "with open(\"Clip/mask.npy\", \"wb\") as f:\n",
    "    np.save(f, mask)"
   ]
  },
  {
   "cell_type": "code",
   "execution_count": 6,
   "id": "8c240201-92f8-4222-88e5-3c198f362e44",
   "metadata": {},
   "outputs": [],
   "source": [
    "with open(\"Clip/mask.npy\", \"rb\") as g:\n",
    "   shp_mask = np.load(g, allow_pickle=True)"
   ]
  },
  {
   "cell_type": "code",
   "execution_count": 42,
   "id": "648c4136-be70-4ef7-a049-b5f00e93d84d",
   "metadata": {},
   "outputs": [
    {
     "data": {
      "text/plain": [
       "array([[None, None, None, ..., None, None, None],\n",
       "       [None, None, None, ..., None, None, None],\n",
       "       [None, None, None, ..., None, None, None],\n",
       "       ...,\n",
       "       [None, None, None, ..., None, None, None],\n",
       "       [None, None, None, ..., None, None, None],\n",
       "       [None, None, None, ..., None, None, None]], dtype=object)"
      ]
     },
     "execution_count": 42,
     "metadata": {},
     "output_type": "execute_result"
    }
   ],
   "source": [
    "shp_mask"
   ]
  },
  {
   "cell_type": "code",
   "execution_count": 19,
   "id": "2544705c-ea5c-4939-b780-ef5600feca3b",
   "metadata": {},
   "outputs": [
    {
     "name": "stdout",
     "output_type": "stream",
     "text": [
      "None None\n",
      "None None\n",
      "\n",
      "None\n"
     ]
    }
   ],
   "source": [
    "print(f\"{mask[0, 0]} {mask[0, 1]}\")\n",
    "print(f\"{mask[1, 0]} {mask[1, 1]}\")\n",
    "print()\n",
    "print(f\"{mask[494, 558]}\")"
   ]
  },
  {
   "cell_type": "code",
   "execution_count": 7,
   "id": "d2314227-429c-4a49-9567-e19f4ffdc44f",
   "metadata": {},
   "outputs": [],
   "source": [
    "flipped_shp_mask = np.flip(shp_mask, 1)"
   ]
  },
  {
   "cell_type": "code",
   "execution_count": 16,
   "id": "154a4c21-29cd-4320-8a9f-fb97dcda7e06",
   "metadata": {},
   "outputs": [
    {
     "name": "stdout",
     "output_type": "stream",
     "text": [
      "None None\n",
      "None None\n",
      "\n",
      "None\n"
     ]
    }
   ],
   "source": [
    "mask = flipped_shp_mask\n",
    "print(f\"{mask[0, 0]} {mask[0, 1]}\")\n",
    "print(f\"{mask[1, 0]} {mask[1, 1]}\")\n",
    "print()\n",
    "print(f\"{mask[494, 558]}\")"
   ]
  },
  {
   "cell_type": "code",
   "execution_count": 12,
   "id": "96ed5aca-3e46-49ab-aaf0-b419e2a5d0e6",
   "metadata": {},
   "outputs": [],
   "source": [
    "ds.coords['mask'] = (('lat', 'lon'), flipped_shp_mask)"
   ]
  },
  {
   "cell_type": "code",
   "execution_count": null,
   "id": "518d6057-2ac6-4684-82bf-c85c4cb0f920",
   "metadata": {},
   "outputs": [],
   "source": [
    "ds['pr'].where(ds.mask is not None).plot()"
   ]
  },
  {
   "cell_type": "code",
   "execution_count": null,
   "id": "407caa0d-21ff-4cbf-a7f8-129c59c6ff8a",
   "metadata": {},
   "outputs": [],
   "source": [
    "import datetime\n",
    "print(datetime.datetime.now())"
   ]
  },
  {
   "cell_type": "code",
   "execution_count": 14,
   "id": "e723209a-f4c4-4cf1-a562-bffa99bb621d",
   "metadata": {},
   "outputs": [
    {
     "data": {
      "text/plain": [
       "<matplotlib.collections.QuadMesh at 0x7fd61ec9f2e0>"
      ]
     },
     "execution_count": 14,
     "metadata": {},
     "output_type": "execute_result"
    },
    {
     "data": {
      "image/png": "[encoded data removed]",
      "text/plain": [
       "<Figure size 640x480 with 2 Axes>"
      ]
     },
     "metadata": {},
     "output_type": "display_data"
    }
   ],
   "source": [
    "%matplotlib inline\n",
    "\n",
    "#map_data = ds['pr'].sel(time='2022-01-31').where(ds.mask != None)\n",
    "map_data = ds['pr'].sel(time='2022-01-31').where(ds.mask == 166)\n",
    "#map_data = ds['pr'].sel(time='2022-11-30')\n",
    "map_data.plot()"
   ]
  },
  {
   "cell_type": "code",
   "execution_count": 17,
   "id": "8c9efb07-37a0-4b4e-9f96-956969158fba",
   "metadata": {},
   "outputs": [
    {
     "data": {
      "text/plain": [
       "xarray.core.dataarray.DataArray"
      ]
     },
     "execution_count": 17,
     "metadata": {},
     "output_type": "execute_result"
    }
   ],
   "source": [
    "type(map_data)"
   ]
  },
  {
   "cell_type": "code",
   "execution_count": 16,
   "id": "50a68665-31a4-40b2-b333-0b836ffe1f88",
   "metadata": {},
   "outputs": [],
   "source": [
    "map_data.to_netcdf(\"test_166.nc\")"
   ]
  },
  {
   "cell_type": "code",
   "execution_count": 35,
   "id": "0cb0ac15-8d55-4d66-bace-3e1d717abb10",
   "metadata": {},
   "outputs": [
    {
     "data": {
      "text/plain": [
       "Coordinates:\n",
       "  * lat      (lat) float32 29.58 29.61 29.64 29.67 ... 44.92 44.95 44.98 45.02\n",
       "  * lon      (lon) float32 -128.4 -128.4 -128.4 -128.3 ... -111.0 -111.0 -111.0\n",
       "  * time     (time) datetime64[ns] 2022-01-01T12:00:00 ... 2100-12-31T12:00:00\n",
       "    mask     (lat, lon) object None None None None None ... None None None None"
      ]
     },
     "execution_count": 35,
     "metadata": {},
     "output_type": "execute_result"
    }
   ],
   "source": [
    "ds.coords"
   ]
  },
  {
   "cell_type": "code",
   "execution_count": 18,
   "id": "5a60e55a-b4c0-46a5-aa55-f9792abad026",
   "metadata": {},
   "outputs": [],
   "source": [
    "mask_values = flipped_shp_mask[flipped_shp_mask != np.array(None)]"
   ]
  },
  {
   "cell_type": "code",
   "execution_count": 20,
   "id": "c89e07ce-b0f5-41d8-b16d-7f5b4b9f3f6f",
   "metadata": {},
   "outputs": [],
   "source": [
    "oids = np.unique(mask_values)"
   ]
  },
  {
   "cell_type": "code",
   "execution_count": 23,
   "id": "c1560f13-feda-4388-82f0-b0232757b7f6",
   "metadata": {},
   "outputs": [
    {
     "data": {
      "text/plain": [
       "int"
      ]
     },
     "execution_count": 23,
     "metadata": {},
     "output_type": "execute_result"
    }
   ],
   "source": [
    "type(oids[10])"
   ]
  },
  {
   "cell_type": "code",
   "execution_count": 24,
   "id": "b040ddf2-e1e3-4a7b-9dda-9ccb4d62b9cf",
   "metadata": {},
   "outputs": [
    {
     "data": {
      "text/plain": [
       "array([0, 1, 2, 3, 4, 5, 6, 7, 8, 9, 10, 11, 12, 13, 14, 15, 16, 17, 18,\n",
       "       19, 20, 21, 22, 23, 24, 25, 26, 27, 28, 29, 30, 31, 32, 33, 34, 35,\n",
       "       36, 37, 38, 39, 40, 41, 42, 43, 44, 45, 46, 47, 48, 49, 50, 51, 52,\n",
       "       53, 54, 55, 56, 57, 58, 59, 60, 61, 62, 63, 64, 65, 66, 67, 68, 69,\n",
       "       70, 71, 72, 73, 74, 75, 76, 77, 78, 79, 80, 81, 82, 83, 84, 85, 86,\n",
       "       87, 88, 89, 90, 91, 92, 93, 94, 95, 96, 97, 98, 99, 100, 101, 102,\n",
       "       103, 104, 105, 106, 107, 108, 109, 110, 111, 112, 113, 114, 115,\n",
       "       116, 117, 118, 119, 120, 127, 128, 129, 130, 131, 132, 133, 134,\n",
       "       135, 136, 138, 141, 142, 143, 144, 145, 146, 147, 148, 149, 150,\n",
       "       151, 152, 153, 154, 155, 157, 158, 159, 160, 161, 162, 163, 164,\n",
       "       166, 167, 168, 169, 170, 171, 172, 173, 174, 175, 176, 177, 178,\n",
       "       179, 180, 181, 186, 188, 189, 190, 193, 194, 195, 196, 197, 198,\n",
       "       199, 200, 201, 202, 203, 204, 205, 206, 207, 208, 209, 210, 211,\n",
       "       212, 213, 214, 217, 218, 219, 220, 221, 222, 223, 224, 225, 226,\n",
       "       227, 228, 229, 231, 232, 233, 234, 235, 236, 237, 238, 241, 242,\n",
       "       243, 244, 245, 246, 247, 248, 249, 250, 251, 252, 253, 255, 256,\n",
       "       257, 258, 259, 260, 261, 262, 263, 264, 265, 266, 267, 268, 269,\n",
       "       270, 271, 272, 273, 274, 275, 276, 277, 278, 279, 280, 281, 282,\n",
       "       283, 284, 285, 286, 287, 288, 289, 290, 291, 292, 293, 294, 295,\n",
       "       296, 297, 298, 299, 300, 302, 303, 304, 305, 306, 307, 308, 309,\n",
       "       310, 311, 312, 313, 314, 316, 317, 318, 319, 320, 321, 322, 323,\n",
       "       324, 325, 326, 327, 331, 333, 334, 335, 336, 337, 338, 339, 340,\n",
       "       341, 342, 343, 344, 345, 346, 347, 348, 349, 350, 354, 355, 356,\n",
       "       357, 358, 359, 361, 362, 363, 364, 365, 366, 367, 368, 369, 370,\n",
       "       371, 373, 374, 375, 376, 377, 378], dtype=object)"
      ]
     },
     "execution_count": 24,
     "metadata": {},
     "output_type": "execute_result"
    }
   ],
   "source": [
    "oids"
   ]
  },
  {
   "cell_type": "code",
   "execution_count": null,
   "id": "48ff46ea-b1c5-49df-914a-47aa62c4699c",
   "metadata": {},
   "outputs": [],
   "source": []
  },
  {
   "cell_type": "code",
   "execution_count": 18,
   "id": "c53123f6-e473-4488-9be0-6623c261d634",
   "metadata": {},
   "outputs": [],
   "source": [
    "time_slice = ds.pr[0]"
   ]
  },
  {
   "cell_type": "code",
   "execution_count": 29,
   "id": "b58c747d-7807-4cbc-8b6c-bc3376962da1",
   "metadata": {},
   "outputs": [],
   "source": [
    "df = time_slice.to_dataframe()"
   ]
  },
  {
   "cell_type": "code",
   "execution_count": 30,
   "id": "f9c9fbb2-a5fc-4276-b103-051fbd137656",
   "metadata": {},
   "outputs": [
    {
     "data": {
      "text/html": [
       "<div>\n",
       "<style scoped>\n",
       "    .dataframe tbody tr th:only-of-type {\n",
       "        vertical-align: middle;\n",
       "    }\n",
       "\n",
       "    .dataframe tbody tr th {\n",
       "        vertical-align: top;\n",
       "    }\n",
       "\n",
       "    .dataframe thead th {\n",
       "        text-align: right;\n",
       "    }\n",
       "</style>\n",
       "<table border=\"1\" class=\"dataframe\">\n",
       "  <thead>\n",
       "    <tr style=\"text-align: right;\">\n",
       "      <th></th>\n",
       "      <th></th>\n",
       "      <th>time</th>\n",
       "      <th>pr</th>\n",
       "    </tr>\n",
       "    <tr>\n",
       "      <th>lat</th>\n",
       "      <th>lon</th>\n",
       "      <th></th>\n",
       "      <th></th>\n",
       "    </tr>\n",
       "  </thead>\n",
       "  <tbody>\n",
       "    <tr>\n",
       "      <th rowspan=\"5\" valign=\"top\">29.578125</th>\n",
       "      <th>-128.421875</th>\n",
       "      <td>2022-01-01 12:00:00</td>\n",
       "      <td>NaN</td>\n",
       "    </tr>\n",
       "    <tr>\n",
       "      <th>-128.390625</th>\n",
       "      <td>2022-01-01 12:00:00</td>\n",
       "      <td>NaN</td>\n",
       "    </tr>\n",
       "    <tr>\n",
       "      <th>-128.359375</th>\n",
       "      <td>2022-01-01 12:00:00</td>\n",
       "      <td>NaN</td>\n",
       "    </tr>\n",
       "    <tr>\n",
       "      <th>-128.328125</th>\n",
       "      <td>2022-01-01 12:00:00</td>\n",
       "      <td>NaN</td>\n",
       "    </tr>\n",
       "    <tr>\n",
       "      <th>-128.296875</th>\n",
       "      <td>2022-01-01 12:00:00</td>\n",
       "      <td>NaN</td>\n",
       "    </tr>\n",
       "  </tbody>\n",
       "</table>\n",
       "</div>"
      ],
      "text/plain": [
       "                                     time  pr\n",
       "lat       lon                                \n",
       "29.578125 -128.421875 2022-01-01 12:00:00 NaN\n",
       "          -128.390625 2022-01-01 12:00:00 NaN\n",
       "          -128.359375 2022-01-01 12:00:00 NaN\n",
       "          -128.328125 2022-01-01 12:00:00 NaN\n",
       "          -128.296875 2022-01-01 12:00:00 NaN"
      ]
     },
     "execution_count": 30,
     "metadata": {},
     "output_type": "execute_result"
    }
   ],
   "source": [
    "df.head()"
   ]
  },
  {
   "cell_type": "code",
   "execution_count": 32,
   "id": "5bdd52c1-8a70-495c-bf18-d0af846f68d8",
   "metadata": {},
   "outputs": [],
   "source": [
    "df = df.reset_index()"
   ]
  },
  {
   "cell_type": "code",
   "execution_count": 34,
   "id": "d8f6868b-8a37-4436-b84e-1f21f7e66c95",
   "metadata": {},
   "outputs": [
    {
     "data": {
      "text/html": [
       "<div>\n",
       "<style scoped>\n",
       "    .dataframe tbody tr th:only-of-type {\n",
       "        vertical-align: middle;\n",
       "    }\n",
       "\n",
       "    .dataframe tbody tr th {\n",
       "        vertical-align: top;\n",
       "    }\n",
       "\n",
       "    .dataframe thead th {\n",
       "        text-align: right;\n",
       "    }\n",
       "</style>\n",
       "<table border=\"1\" class=\"dataframe\">\n",
       "  <thead>\n",
       "    <tr style=\"text-align: right;\">\n",
       "      <th></th>\n",
       "      <th>lat</th>\n",
       "      <th>lon</th>\n",
       "      <th>time</th>\n",
       "      <th>pr</th>\n",
       "    </tr>\n",
       "  </thead>\n",
       "  <tbody>\n",
       "    <tr>\n",
       "      <th>0</th>\n",
       "      <td>29.578125</td>\n",
       "      <td>-128.421875</td>\n",
       "      <td>2022-01-01 12:00:00</td>\n",
       "      <td>NaN</td>\n",
       "    </tr>\n",
       "    <tr>\n",
       "      <th>1</th>\n",
       "      <td>29.578125</td>\n",
       "      <td>-128.390625</td>\n",
       "      <td>2022-01-01 12:00:00</td>\n",
       "      <td>NaN</td>\n",
       "    </tr>\n",
       "    <tr>\n",
       "      <th>2</th>\n",
       "      <td>29.578125</td>\n",
       "      <td>-128.359375</td>\n",
       "      <td>2022-01-01 12:00:00</td>\n",
       "      <td>NaN</td>\n",
       "    </tr>\n",
       "    <tr>\n",
       "      <th>3</th>\n",
       "      <td>29.578125</td>\n",
       "      <td>-128.328125</td>\n",
       "      <td>2022-01-01 12:00:00</td>\n",
       "      <td>NaN</td>\n",
       "    </tr>\n",
       "    <tr>\n",
       "      <th>4</th>\n",
       "      <td>29.578125</td>\n",
       "      <td>-128.296875</td>\n",
       "      <td>2022-01-01 12:00:00</td>\n",
       "      <td>NaN</td>\n",
       "    </tr>\n",
       "  </tbody>\n",
       "</table>\n",
       "</div>"
      ],
      "text/plain": [
       "         lat         lon                time  pr\n",
       "0  29.578125 -128.421875 2022-01-01 12:00:00 NaN\n",
       "1  29.578125 -128.390625 2022-01-01 12:00:00 NaN\n",
       "2  29.578125 -128.359375 2022-01-01 12:00:00 NaN\n",
       "3  29.578125 -128.328125 2022-01-01 12:00:00 NaN\n",
       "4  29.578125 -128.296875 2022-01-01 12:00:00 NaN"
      ]
     },
     "execution_count": 34,
     "metadata": {},
     "output_type": "execute_result"
    }
   ],
   "source": [
    "df.head()"
   ]
  },
  {
   "cell_type": "code",
   "execution_count": null,
   "id": "b4ef16ad-af34-4aed-87f4-58151155efa0",
   "metadata": {},
   "outputs": [],
   "source": []
  },
  {
   "cell_type": "code",
   "execution_count": null,
   "id": "fc30ee94-9c88-4225-9b33-7f3322b750bd",
   "metadata": {},
   "outputs": [],
   "source": []
  },
  {
   "cell_type": "code",
   "execution_count": null,
   "id": "269055bf-5191-4842-8be1-fc538636bcbf",
   "metadata": {},
   "outputs": [],
   "source": [
    "point_data = ds[0].pr.to_dataframe()"
   ]
  },
  {
   "cell_type": "code",
   "execution_count": null,
   "id": "b677bda5-b602-40fa-96d6-6182905a6929",
   "metadata": {},
   "outputs": [],
   "source": [
    "point_data.head()"
   ]
  },
  {
   "cell_type": "code",
   "execution_count": 64,
   "id": "6825425c-5d83-490d-85fd-cb65f2efe204",
   "metadata": {},
   "outputs": [
    {
     "data": {
      "text/plain": [
       "{'long_name': 'latitude',\n",
       " 'standard_name': 'latitude',\n",
       " 'units': 'degrees_north'}"
      ]
     },
     "execution_count": 64,
     "metadata": {},
     "output_type": "execute_result"
    }
   ],
   "source": [
    "ds.lat.attrs"
   ]
  },
  {
   "cell_type": "code",
   "execution_count": 65,
   "id": "7e11dd20-a088-415b-8f7d-9d298c4056ee",
   "metadata": {},
   "outputs": [
    {
     "data": {
      "text/plain": [
       "{}"
      ]
     },
     "execution_count": 65,
     "metadata": {},
     "output_type": "execute_result"
    }
   ],
   "source": [
    "ds.lon.attrs"
   ]
  },
  {
   "cell_type": "code",
   "execution_count": null,
   "id": "c31c8f4c-84de-4e8e-8aff-14e013c988ec",
   "metadata": {},
   "outputs": [],
   "source": []
  }
 ],
 "metadata": {
  "kernelspec": {
   "display_name": "Python 3 (ipykernel)",
   "language": "python",
   "name": "python3"
  },
  "language_info": {
   "codemirror_mode": {
    "name": "ipython",
    "version": 3
   },
   "file_extension": ".py",
   "mimetype": "text/x-python",
   "name": "python",
   "nbconvert_exporter": "python",
   "pygments_lexer": "ipython3",
   "version": "3.10.9"
  }
 },
 "nbformat": 4,
 "nbformat_minor": 5
}
