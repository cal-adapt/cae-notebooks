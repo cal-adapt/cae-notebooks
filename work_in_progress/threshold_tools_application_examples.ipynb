{
 "cells": [
  {
   "cell_type": "markdown",
   "id": "3f711b83-8288-4ea9-80b2-9effe3714db6",
   "metadata": {},
   "source": [
    "# Cal-Adapt Analytics Engine: Threshold Tools Application Examples"
   ]
  },
  {
   "cell_type": "markdown",
   "id": "bdedd8a4-cc9f-42ba-acb7-ee56f3a26001",
   "metadata": {},
   "source": [
    "A notebook on specific threshold-related applications with the *climakitae* package and *threshold_tools*. The notebook walks through both basic and advanced topics and covers capabilities such as evaluating goodness of fit, calculating return values and return periods, subsetting and filtering data, observing trends through time, and more.\n",
    "\n",
    "The notebook focuses on two major *threshold_tools* applications: **updating design standards** and **asset-by-asset vulnerability assessments**, which are highlighted as application examples throughout the notebook."
   ]
  },
  {
   "cell_type": "markdown",
   "id": "f7abc045-dc84-411b-bc65-2602570b59f0",
   "metadata": {},
   "source": [
    "### Step 0: Import"
   ]
  },
  {
   "cell_type": "markdown",
   "id": "a1932d4e-7e89-4468-9966-8cf995b06c29",
   "metadata": {},
   "source": [
    "#### Import necessary packages before running analysis"
   ]
  },
  {
   "cell_type": "code",
   "execution_count": null,
   "id": "bb848e55-ba33-45db-8628-9248c49b575d",
   "metadata": {},
   "outputs": [],
   "source": [
    "import xarray as xr\n",
    "import panel as pn\n",
    "pn.extension()"
   ]
  },
  {
   "cell_type": "code",
   "execution_count": null,
   "id": "470105c8-f8d9-4291-843c-9a450da097e9",
   "metadata": {
    "tags": []
   },
   "outputs": [],
   "source": [
    "import climakitae as ck\n",
    "from climakitae import threshold_tools"
   ]
  },
  {
   "cell_type": "markdown",
   "id": "59535bf4-c5d5-4723-b055-969338390b09",
   "metadata": {},
   "source": [
    "## Threshold Basics: Exploring Applications At County-Level"
   ]
  },
  {
   "cell_type": "markdown",
   "id": "d7fdcda6-3a1d-48df-8aa7-7a8b903e4849",
   "metadata": {},
   "source": [
    "### Step 1: Select"
   ]
  },
  {
   "cell_type": "markdown",
   "id": "ec0b9c5f-84e7-489f-9996-a8b345330035",
   "metadata": {},
   "source": [
    "#### Load a new application and call *select* to display interface from which to choose location, variables, scenarios, and designate warming levels of interest"
   ]
  },
  {
   "cell_type": "code",
   "execution_count": null,
   "id": "6625c7c9-69c8-43cf-8dae-ab0c960bd5a7",
   "metadata": {},
   "outputs": [],
   "source": [
    "app = ck.Application()"
   ]
  },
  {
   "cell_type": "markdown",
   "id": "ea4f9a2c-8193-453c-8212-b339e89a2b3a",
   "metadata": {},
   "source": [
    "#### Call *select* to display an interface from which to select the data to examine"
   ]
  },
  {
   "cell_type": "markdown",
   "id": "85c0af6f-3fba-48a4-b930-d5cb5f818cdb",
   "metadata": {},
   "source": [
    "For this section, please select:\n",
    "- timescale: \"monthly\"\n",
    "- variable: \"Air Temperature at 2m\"\n",
    "- units: \"degC\"\n",
    "- resolution: \"9 km\"\n",
    "- scenario: \"SSP 3-7.0 -- Business as Usual\" and \"Historical Climate\" \n",
    "- location subsets: \"CA counties\" area subset with \"Sacramento County\" cached area\n",
    "\n",
    "To learn more about the data available on the Analytics Engine, [see our data catalog](https://analytics.cal-adapt.org/data/). "
   ]
  },
  {
   "cell_type": "code",
   "execution_count": null,
   "id": "3713f2a6-87c4-43c0-9fe6-c1cb5392a7f1",
   "metadata": {},
   "outputs": [],
   "source": [
    "app.select()"
   ]
  },
  {
   "cell_type": "markdown",
   "id": "7831f136-2a7f-4089-9249-e5fb9535d016",
   "metadata": {},
   "source": [
    "### Step 2: Retrieve"
   ]
  },
  {
   "cell_type": "markdown",
   "id": "2da9e276-c56f-42ae-9f16-2e91969823fa",
   "metadata": {},
   "source": [
    "#### Call *app.retrieve()* to load the subset/combo of data specified"
   ]
  },
  {
   "cell_type": "code",
   "execution_count": null,
   "id": "d29bd17c-59c8-432d-964c-656e3f841ecc",
   "metadata": {},
   "outputs": [],
   "source": [
    "sacramento_ds = app.retrieve()\n",
    "sacramento_ds"
   ]
  },
  {
   "cell_type": "markdown",
   "id": "8583712b-c7fe-475b-81c1-fd1ac74444a4",
   "metadata": {},
   "source": [
    "#### Subset data by scenario and simulation to prepare it for *threshold_tools* functions"
   ]
  },
  {
   "cell_type": "markdown",
   "id": "4dcca170-901a-4352-8701-67bbbf48bf2e",
   "metadata": {},
   "source": [
    "Note: Currently threshold_tools requires a dataarray where this is only 1 simulation and 1 scenario selected"
   ]
  },
  {
   "cell_type": "code",
   "execution_count": null,
   "id": "20d01e3c-f346-4ff3-986d-298bf94e1bc6",
   "metadata": {},
   "outputs": [],
   "source": [
    "sacramento_da = sacramento_ds.sel(simulation='WRF_CNRM-ESM2-1_r1i1p1f2')"
   ]
  },
  {
   "cell_type": "markdown",
   "id": "38fffc5f-62c9-4363-a8e8-e7fcabda07b3",
   "metadata": {},
   "source": [
    "### Step 3: Transform"
   ]
  },
  {
   "cell_type": "markdown",
   "id": "c4b29f1c-4710-4102-be2c-0dc10a86b28d",
   "metadata": {},
   "source": [
    "#### Pull Annual Maximum Series (AMS) for all grid cells"
   ]
  },
  {
   "cell_type": "code",
   "execution_count": null,
   "id": "d6f5ac7a-a8e4-4b91-9f05-24abe8836ef0",
   "metadata": {},
   "outputs": [],
   "source": [
    "sacramento_ams = threshold_tools.get_ams(sacramento_da, extremes_type='max')\n",
    "sacramento_ams = app.load(sacramento_ams)"
   ]
  },
  {
   "cell_type": "markdown",
   "id": "76e407f2-b79c-4da8-ac7e-8bdae4c6a5e7",
   "metadata": {},
   "source": [
    "#### Subset data by time to prepare it for specific application"
   ]
  },
  {
   "cell_type": "code",
   "execution_count": null,
   "id": "69a512ea-43e5-4127-a239-51cf9b6f042c",
   "metadata": {},
   "outputs": [],
   "source": [
    "sacramento_1980_ams = sacramento_ams.sel(time=slice('1980-01-01', '2010-01-01'))"
   ]
  },
  {
   "cell_type": "markdown",
   "id": "cec6e267-2a31-4d88-bc4c-2da5c06bbdf1",
   "metadata": {},
   "source": [
    "#### Calculate goodness of fit of selected distribution"
   ]
  },
  {
   "cell_type": "markdown",
   "id": "8a0a051e-e53d-416c-90a9-03d20562acd5",
   "metadata": {},
   "source": [
    "<span style=\"color:#E47704\">\n",
    "\n",
    "**Application Example:** A electric utility in Sacramento wants to ensure that the return value and return period results they calculate are \"statistically sound\" and appropriate to use for their asset vulnerability assessments and design standards. \n",
    "    \n",
    "For instance, is the GEV probability distribution a good fit for the data and the right probability distribution to calculate return values and return periods? Example code applies statistical goodness of fit test, K-S test."
   ]
  },
  {
   "cell_type": "code",
   "execution_count": null,
   "id": "235aad88-5ec0-4413-adfc-0580158b438e",
   "metadata": {},
   "outputs": [],
   "source": [
    "sacramento_1980_ks = threshold_tools.get_ks_stat(sacramento_1980_ams, distr='gev', multiple_points=True)\n",
    "sacramento_1980_ks"
   ]
  },
  {
   "cell_type": "markdown",
   "id": "b97700eb-1f77-4cc1-9cc5-a6e7f892d050",
   "metadata": {},
   "source": [
    "#### Calculate return value for a selected return period"
   ]
  },
  {
   "cell_type": "markdown",
   "id": "6cdb4fab-4372-43b0-8f60-22926ce58061",
   "metadata": {},
   "source": [
    "<span style=\"color:#E47704\">\n",
    "    \n",
    "**Application Example:** A electric utility planning on building new electrical equipment in Sacramento wants to calculate the value of a 1-in-20-year extreme temperature event that occurred historically (during the 1980-2010 time period) as a benchmark input for updating the design standards of new equipment."
   ]
  },
  {
   "cell_type": "code",
   "execution_count": null,
   "id": "5786293b-4ae0-48a5-ac37-656a95363b36",
   "metadata": {},
   "outputs": [],
   "source": [
    "sacramento_1980_rv = threshold_tools.get_return_value(sacramento_1980_ams, return_period=20, \n",
    "                                                      distr='gev', bootstrap_runs=100, \n",
    "                                                      conf_int_lower_bound=2.5, \n",
    "                                                      conf_int_upper_bound=97.5, \n",
    "                                                      multiple_points=True)\n",
    "sacramento_1980_rv"
   ]
  },
  {
   "cell_type": "markdown",
   "id": "7fd86866-879c-4376-918b-8b0180eda52c",
   "metadata": {},
   "source": [
    "#### Calculate return period for a selected return value"
   ]
  },
  {
   "cell_type": "markdown",
   "id": "38359b2d-dd28-43b1-8bbd-7358a8b19672",
   "metadata": {},
   "source": [
    "<span style=\"color:#E47704\">\n",
    "    \n",
    "**Application Example:** An electric utility with existing electrical infrastructure in Sacramento wants to calculate the return period of a 35 degrees C temperature event that occurred historically (during the 1980-2010 time period) as a benchmark input for their recurring asset vulnerability assessment."
   ]
  },
  {
   "cell_type": "code",
   "execution_count": null,
   "id": "2eec901a-55b9-4f72-913c-6656dd5afae2",
   "metadata": {},
   "outputs": [],
   "source": [
    "sacramento_1980_rp = threshold_tools.get_return_period(sacramento_1980_ams, return_value=35, \n",
    "                                                       distr='gev', bootstrap_runs=100, \n",
    "                                                       conf_int_lower_bound=2.5, \n",
    "                                                       conf_int_upper_bound=97.5, \n",
    "                                                       multiple_points=True)\n",
    "sacramento_1980_rp"
   ]
  },
  {
   "cell_type": "markdown",
   "id": "17410c95-ffe6-49f6-9f2b-9be113edb55c",
   "metadata": {},
   "source": [
    "### Step 4: Visualize"
   ]
  },
  {
   "cell_type": "markdown",
   "id": "4e9553d2-d32e-4992-b54c-4f64d137f1b6",
   "metadata": {},
   "source": [
    "#### Visualize goodness of fit of distribution"
   ]
  },
  {
   "cell_type": "code",
   "execution_count": null,
   "id": "f34ebd3f-46f2-4d53-8363-8fcdc558750c",
   "metadata": {},
   "outputs": [],
   "source": [
    "threshold_tools.get_geospatial_plot(sacramento_1980_ks, data_variable='p_value')"
   ]
  },
  {
   "cell_type": "markdown",
   "id": "a5916453-3f56-4182-b35c-eea5abb59124",
   "metadata": {},
   "source": [
    "#### Visualize return value"
   ]
  },
  {
   "cell_type": "code",
   "execution_count": null,
   "id": "b9f643b8-3af2-4b9d-bbaf-4120c60b0c6a",
   "metadata": {},
   "outputs": [],
   "source": [
    "threshold_tools.get_geospatial_plot(sacramento_1980_rv, data_variable='return_value')"
   ]
  },
  {
   "cell_type": "markdown",
   "id": "2b0aa2c7-da58-4ae9-8990-d474abde4edd",
   "metadata": {},
   "source": [
    "#### Visualize return period"
   ]
  },
  {
   "cell_type": "code",
   "execution_count": null,
   "id": "4bf20164-0091-402f-97e0-163621669aaa",
   "metadata": {},
   "outputs": [],
   "source": [
    "threshold_tools.get_geospatial_plot(sacramento_1980_rp, data_variable='return_period', bar_max=100)"
   ]
  },
  {
   "cell_type": "markdown",
   "id": "c25b73c9-269b-4318-a8a8-16fea6159053",
   "metadata": {},
   "source": [
    "## Threshold Advanced: Exploring Variations At County-Level"
   ]
  },
  {
   "cell_type": "markdown",
   "id": "e5b02685-5d51-4cbd-91c4-1e746ec5dac2",
   "metadata": {},
   "source": [
    "### Step 3: Transform"
   ]
  },
  {
   "cell_type": "markdown",
   "id": "d03580da-6167-43c4-bd2b-87b8b4962a18",
   "metadata": {},
   "source": [
    "#### Subset data by time to prepare it for specific application"
   ]
  },
  {
   "cell_type": "code",
   "execution_count": null,
   "id": "8e8f3da5-b562-41f6-8841-73fa1234352d",
   "metadata": {},
   "outputs": [],
   "source": [
    "sacramento_2020_ams = sacramento_ams.sel(time=slice('2020-01-01', '2050-01-01'))\n",
    "sacramento_2050_ams = sacramento_ams.sel(time=slice('2050-01-01', '2080-01-01'))"
   ]
  },
  {
   "cell_type": "markdown",
   "id": "3558dc65-7a57-4022-b3a8-53c05b285bc0",
   "metadata": {},
   "source": [
    "#### Calculate return value for a selected return period"
   ]
  },
  {
   "cell_type": "markdown",
   "id": "94d0a6f5-d345-4897-b885-958a7df7d62b",
   "metadata": {},
   "source": [
    "<span style=\"color:#E47704\">\n",
    "    \n",
    "**Application Example:** A electric utility planning on building new electrical equipment in Sacramento wants to calculate the value of a 1-in-20-year extreme temperature event that will occur in the future (during the 2020-50 and 2050-80 time periods) to ensure:\n",
    "- that the planned equipment has the appropriate design standards to withstand extreme temperature events in the future,\n",
    "- and to update the design standards for any future equipment built."
   ]
  },
  {
   "cell_type": "code",
   "execution_count": null,
   "id": "d0c37de1-c8cf-4eaa-bd2a-6b88a7105aed",
   "metadata": {},
   "outputs": [],
   "source": [
    "sacramento_2020_rv = threshold_tools.get_return_value(sacramento_2020_ams, return_period=20,\n",
    "                                                distr='gev', bootstrap_runs=100, \n",
    "                                                conf_int_lower_bound=2.5, \n",
    "                                                conf_int_upper_bound=97.5, \n",
    "                                                multiple_points=True)\n",
    "sacramento_2020_rv"
   ]
  },
  {
   "cell_type": "code",
   "execution_count": null,
   "id": "220cc3c8-983a-4445-8b61-f8c47661a95f",
   "metadata": {},
   "outputs": [],
   "source": [
    "sacramento_2050_rv = threshold_tools.get_return_value(sacramento_2050_ams, return_period=20,\n",
    "                                                distr='gev', bootstrap_runs=100, \n",
    "                                                conf_int_lower_bound=2.5, \n",
    "                                                conf_int_upper_bound=97.5, \n",
    "                                                multiple_points=True)\n",
    "sacramento_2050_rv"
   ]
  },
  {
   "cell_type": "markdown",
   "id": "03a26d86-76c3-458a-9b75-f650f8e0d1c7",
   "metadata": {},
   "source": [
    "#### Calculate return period for a selected return value"
   ]
  },
  {
   "cell_type": "markdown",
   "id": "8c4ece6e-43b5-4e3f-8856-9b905db4d93e",
   "metadata": {},
   "source": [
    "<span style=\"color:#E47704\">\n",
    "    \n",
    "**Application Example:** A electric utility with existing electrical infrastructure in Sacramento wants to calculate the return period of a 44 degrees C temperature event that that will occur in the future (during the 2020-50 and 2050-80 time periods) to understand:\n",
    "- if the existing infrastructure will be impacted by more frequently occurring extreme temperature events in the future,\n",
    "- and to complete a more robust asset-by-asset vulnerability assessment.\n",
    "    \n",
    "For the utility, 33 degrees C (hypothetically) represents a county-wide historic average for a 1-in-20-year extreme temperature event (during the 1980-2010 time period)."
   ]
  },
  {
   "cell_type": "code",
   "execution_count": null,
   "id": "f095373d-27e5-4069-a7ea-98e503fe37a3",
   "metadata": {},
   "outputs": [],
   "source": [
    "sacramento_1980_rp = threshold_tools.get_return_period(sacramento_1980_ams, return_value=33,\n",
    "                                                       distr='gev', bootstrap_runs=100, \n",
    "                                                       conf_int_lower_bound=2.5, \n",
    "                                                       conf_int_upper_bound=97.5, \n",
    "                                                       multiple_points=True)\n",
    "sacramento_1980_rp"
   ]
  },
  {
   "cell_type": "code",
   "execution_count": null,
   "id": "c30e0252-e690-4a12-8476-e25656353782",
   "metadata": {},
   "outputs": [],
   "source": [
    "sacramento_2020_rp = threshold_tools.get_return_period(sacramento_2020_ams, return_value=33,\n",
    "                                                       distr='gev', bootstrap_runs=100, \n",
    "                                                       conf_int_lower_bound=2.5, \n",
    "                                                       conf_int_upper_bound=97.5, \n",
    "                                                       multiple_points=True)\n",
    "sacramento_2020_rp"
   ]
  },
  {
   "cell_type": "code",
   "execution_count": null,
   "id": "c2beee1d-a61c-45fe-a79f-5ef832ef881d",
   "metadata": {},
   "outputs": [],
   "source": [
    "sacramento_2050_rp = threshold_tools.get_return_period(sacramento_2050_ams, return_value=33,\n",
    "                                                       distr='gev', bootstrap_runs=100, \n",
    "                                                       conf_int_lower_bound=2.5, \n",
    "                                                       conf_int_upper_bound=97.5, \n",
    "                                                       multiple_points=True)\n",
    "sacramento_2050_rp"
   ]
  },
  {
   "cell_type": "markdown",
   "id": "a6150343-88a4-44dd-ae21-93579585268a",
   "metadata": {},
   "source": [
    "### Step 4: Visualize"
   ]
  },
  {
   "cell_type": "markdown",
   "id": "12952972-7a99-4b6a-be31-9ac57be5e191",
   "metadata": {},
   "source": [
    "#### Visualize return value"
   ]
  },
  {
   "cell_type": "code",
   "execution_count": null,
   "id": "c77f204e-ba7f-49ad-afef-f942813fd124",
   "metadata": {},
   "outputs": [],
   "source": [
    "threshold_tools.get_geospatial_plot(sacramento_1980_rv, data_variable='return_value',\n",
    "                                    bar_min=25, bar_max=50)"
   ]
  },
  {
   "cell_type": "code",
   "execution_count": null,
   "id": "bba730eb-2281-4244-b74e-90bc6bfcddee",
   "metadata": {},
   "outputs": [],
   "source": [
    "threshold_tools.get_geospatial_plot(sacramento_2020_rv, data_variable='return_value',\n",
    "                                    bar_min=25, bar_max=50)"
   ]
  },
  {
   "cell_type": "code",
   "execution_count": null,
   "id": "c248ec1d-d4a2-4e70-8532-21aefb14fd85",
   "metadata": {},
   "outputs": [],
   "source": [
    "threshold_tools.get_geospatial_plot(sacramento_2050_rv, data_variable='return_value',\n",
    "                                    bar_min=25, bar_max=50)"
   ]
  },
  {
   "cell_type": "markdown",
   "id": "95fe6541-7c0e-4399-81f5-6d506160b8eb",
   "metadata": {},
   "source": [
    "#### Visualize return period"
   ]
  },
  {
   "cell_type": "code",
   "execution_count": null,
   "id": "ce4f472a-9741-4949-97e7-486f6f3b267c",
   "metadata": {},
   "outputs": [],
   "source": [
    "threshold_tools.get_geospatial_plot(sacramento_1980_rp, data_variable='return_period', \n",
    "                                    bar_min=1, bar_max=100)"
   ]
  },
  {
   "cell_type": "code",
   "execution_count": null,
   "id": "ed2489ac-900c-456e-ac7a-5cdd66c4ed80",
   "metadata": {},
   "outputs": [],
   "source": [
    "threshold_tools.get_geospatial_plot(sacramento_2020_rp, data_variable='return_period',\n",
    "                                    bar_min=1, bar_max=100)"
   ]
  },
  {
   "cell_type": "code",
   "execution_count": null,
   "id": "3ab68550-d7ae-4759-b309-8dd918c36e95",
   "metadata": {},
   "outputs": [],
   "source": [
    "threshold_tools.get_geospatial_plot(sacramento_2050_rp, data_variable='return_period',\n",
    "                                    bar_min=1, bar_max=100)"
   ]
  },
  {
   "cell_type": "markdown",
   "id": "34b92acb-2cec-400b-8207-ba22d8a6ec9c",
   "metadata": {},
   "source": [
    "### Step 5: Export"
   ]
  },
  {
   "cell_type": "markdown",
   "id": "6e2d8b88-ad5f-419e-b015-c473434fe9cc",
   "metadata": {},
   "source": [
    "To export the threshold tools variables, we recommend NetCDF file format, which will work with any number of variables and dimensions in your dataset. \n",
    "If you would like to save data as a GeoTIFF or CSV file and the dataset contains scenarios or simulations, additionally provide arguments specifying the scenario (scenario=”historical”) and the simulation (simulation=”cesm2”).\n",
    "- CSV and GeoTIFF can only be used for data arrays with one variable\n",
    "- CSV works best for up to 2-dimensional data (e.g., lon x lat), and will be compressed and exported with a separate metadata file\n",
    "- GeoTIFF can accept 3 dimensions total:\n",
    "    - X and Y dimensions are required\n",
    "    - The third dimension is flexible and will be a \"band\" in the file: time, simulation, or scenario could go here\n",
    "    - Metadata will be accessible as \"tags\" in the .tif\n",
    "\n",
    "To export as a GeoTIFF or CSV file, please subset the data with your desired variable first, then select either CSV or GeoTIFF as your format (NetCDF will also work)."
   ]
  },
  {
   "cell_type": "code",
   "execution_count": null,
   "id": "8aafd70b-47ab-4217-a60f-dd05290eeba8",
   "metadata": {},
   "outputs": [],
   "source": [
    "app.export_as()"
   ]
  },
  {
   "cell_type": "markdown",
   "id": "7d0a91c7-9807-45b0-bb5e-698c812d139a",
   "metadata": {},
   "source": [
    "Next, write in the object you wish to export and your desired filename (in single or double quotation marks)."
   ]
  },
  {
   "cell_type": "code",
   "execution_count": null,
   "id": "3871e445-dd02-4b4f-bf0e-a998278e917d",
   "metadata": {},
   "outputs": [],
   "source": [
    "app.export_dataset(sacramento_2050_rp, 'my_filename_1')"
   ]
  },
  {
   "cell_type": "markdown",
   "id": "d3006556-0451-4b43-b91c-700ff195f765",
   "metadata": {},
   "source": [
    "An example of subsetting is below, for exporting to a CSV or GeoTIFF."
   ]
  },
  {
   "cell_type": "code",
   "execution_count": null,
   "id": "716b189a-6b5b-4638-bec6-b74e59fb80aa",
   "metadata": {},
   "outputs": [],
   "source": [
    "sacramento_1980_rp_variable = sacramento_1980_rp['return_period']"
   ]
  },
  {
   "cell_type": "code",
   "execution_count": null,
   "id": "b3309857-e9bc-4fb5-8034-deb9baff73d6",
   "metadata": {},
   "outputs": [],
   "source": [
    "app.export_as()"
   ]
  },
  {
   "cell_type": "code",
   "execution_count": null,
   "id": "04467a47-2b4c-4c02-b2da-e74082a8be9b",
   "metadata": {},
   "outputs": [],
   "source": [
    "app.export_dataset(sacramento_1980_rp_variable, 'my_filename_2')"
   ]
  }
 ],
 "metadata": {
  "kernelspec": {
   "display_name": "Python 3 (ipykernel)",
   "language": "python",
   "name": "python3"
  },
  "language_info": {
   "codemirror_mode": {
    "name": "ipython",
    "version": 3
   },
   "file_extension": ".py",
   "mimetype": "text/x-python",
   "name": "python",
   "nbconvert_exporter": "python",
   "pygments_lexer": "ipython3",
   "version": "3.9.13"
  }
 },
 "nbformat": 4,
 "nbformat_minor": 5
}
