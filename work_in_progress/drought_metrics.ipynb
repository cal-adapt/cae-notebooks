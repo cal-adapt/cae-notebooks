{
 "cells": [
  {
   "cell_type": "markdown",
   "id": "8912da04-5728-44ec-a4a9-27571c03e63b",
   "metadata": {},
   "source": [
    "# Calculating PET"
   ]
  },
  {
   "cell_type": "markdown",
   "id": "969f081d-f6d2-44cb-a8ad-3018bff1e6e7",
   "metadata": {},
   "source": [
    "### Using the Penman-Monteith method (most physically accurate)"
   ]
  },
  {
   "cell_type": "markdown",
   "id": "84ae473a-7074-4a08-93ce-baf3c9c9f0cf",
   "metadata": {},
   "source": [
    "**Variables needed:**\n",
    "- `tasmin`\n",
    "- `tasmax`\n",
    "- `relative humidity`\n",
    "- `radiation flux`\n",
    "    - rsds\n",
    "    - rsus\n",
    "    - rlds\n",
    "    - rlus\n",
    "- `wind speed (10m wind will be converted to 2m)`"
   ]
  },
  {
   "cell_type": "code",
   "execution_count": null,
   "id": "e9752727-9950-4d3e-9ce9-2e3f63df0a2a",
   "metadata": {},
   "outputs": [],
   "source": [
    "import xclim\n",
    "import os\n",
    "import xarray as xr\n",
    "import pandas as pd\n",
    "import numpy as np\n",
    "from climakitae.core.data_interface import get_data\n",
    "from climakitae.core.data_load import load\n",
    "from climakitae.util.utils import add_dummy_time_to_wl"
   ]
  },
  {
   "cell_type": "code",
   "execution_count": null,
   "id": "b0d5ec82-885d-42b0-90fd-45b55c3c9b33",
   "metadata": {},
   "outputs": [],
   "source": [
    "lat = 37.805993\n",
    "lon = -122.273715\n",
    "\n",
    "variables = [\n",
    "    \"Maximum air temperature at 2m\",\n",
    "    \"Minimum air temperature at 2m\", # Writing this twice since it's used for both min and max temp calculation\n",
    "    # \"Maximum air temperature at 2m\",\n",
    "    \"Relative humidity\",\n",
    "    # \"Shortwave flux at the surface\",\n",
    "    \"Instantaneous downwelling shortwave flux at bottom\",\n",
    "    \"Instantaneous upwelling shortwave flux at bottom\",\n",
    "    \"Instantaneous downwelling longwave flux at bottom\",\n",
    "    \"Instantaneous upwelling longwave flux at bottom\",\n",
    "    \"Mean wind speed at 10m\",\n",
    "    \"Precipitation (total)\",\n",
    "]"
   ]
  },
  {
   "cell_type": "code",
   "execution_count": null,
   "id": "1a286df6-b4fb-421d-a60b-8330a2b7bc30",
   "metadata": {},
   "outputs": [],
   "source": [
    "file_names = ['tasmin', 'tasmax', 'hurs', 'rsds', 'rsus', 'rlds', 'rlus', 'wspd10mean', 'precip']\n",
    "datas = []\n",
    "\n",
    "for i, variable in enumerate(file_names):\n",
    "    file_path = f\"tmp_data/{variable}_daily.nc\"\n",
    "\n",
    "    if os.path.exists(file_path):\n",
    "        print(f\"Reading {variable} from file.\")\n",
    "        da = xr.open_dataarray(file_path)\n",
    "    else:\n",
    "        print(f\"Computing {variables[i]}\")\n",
    "        ae_var_name = variables[i]\n",
    "        timescale = 'daily'\n",
    "        # if variable == 'tasmin':\n",
    "        #     ae_var_name = 'Air Temperature at 2m'\n",
    "        if variable == 'rlus' or variable == 'rsus':\n",
    "            timescale = 'hourly'\n",
    "        da = get_data(\n",
    "            variable=ae_var_name,\n",
    "            resolution='3 km',\n",
    "            timescale=timescale,\n",
    "            latitude=(lat - 0.02, lat + 0.02),\n",
    "            longitude=(lon - 0.02, lon + 0.02),\n",
    "            approach=\"Warming Level\",\n",
    "            warming_level=[0.8, 1.5, 2.0, 3.0],\n",
    "            # scenario='SSP 3-7.0',\n",
    "            # time_slice=(2030, 2060),\n",
    "            downscaling_method=\"Dynamical\"\n",
    "        )\n",
    "        da = load(add_dummy_time_to_wl(da), progress_bar=True)\n",
    "        if variable == 'tasmin':\n",
    "            agg_da = da.squeeze().resample(time='D').min()\n",
    "        elif variable == 'tasmax':\n",
    "            agg_da = da.squeeze().resample(time='D').max()\n",
    "        elif variable == 'precip':\n",
    "            agg_da = da.squeeze().resample(time='D').sum()\n",
    "        else:\n",
    "            agg_da = da.squeeze().resample(time='D').mean()\n",
    "        agg_da.to_netcdf(file_path)  # Save for reuse\n",
    "        da = agg_da\n",
    "\n",
    "    datas.append(da)"
   ]
  },
  {
   "cell_type": "code",
   "execution_count": null,
   "id": "4bd47984-650c-4893-8ba3-0caf2db3a599",
   "metadata": {},
   "outputs": [],
   "source": [
    "# Creating daily variables for all hourly variables\n",
    "tasmin = datas[0]\n",
    "tasmax = datas[1]\n",
    "hurs = datas[2] / 100 # Convert from % to fraction\n",
    "new_hurs = hurs.assign_attrs(units='1')\n",
    "rsds = datas[3]\n",
    "rsus = datas[4]\n",
    "rlds = datas[5]\n",
    "rlus = datas[6]\n",
    "sfcWind = datas[7]\n",
    "precip = datas[8]"
   ]
  },
  {
   "cell_type": "code",
   "execution_count": null,
   "id": "b9715258-4c1a-46a1-9f4b-40b58d69a5f1",
   "metadata": {},
   "outputs": [],
   "source": [
    "# %cd xclim\n",
    "# !git checkout v0.54.0\n",
    "# !pip install -e ."
   ]
  },
  {
   "cell_type": "code",
   "execution_count": null,
   "id": "d8208bed-13ab-40e4-883d-f91d8a5103c0",
   "metadata": {},
   "outputs": [],
   "source": [
    "pet_calc = xclim.indices.potential_evapotranspiration(\n",
    "    tasmin=tasmin,\n",
    "    tasmax=tasmax,\n",
    "    hurs=new_hurs,\n",
    "    rsds=rsds,\n",
    "    rsus=rsus,\n",
    "    rlds=rlds,\n",
    "    rlus=rlus,\n",
    "    sfcWind=sfcWind,\n",
    "    method=\"FAO_PM98\"\n",
    ")"
   ]
  },
  {
   "cell_type": "code",
   "execution_count": null,
   "id": "77a546cc-097f-48db-9ff8-b6bf75b8789a",
   "metadata": {},
   "outputs": [],
   "source": [
    "(pet_calc * 86400).plot.hist()"
   ]
  },
  {
   "cell_type": "markdown",
   "id": "00443502-b72e-469f-9126-15d95e7f5d9f",
   "metadata": {},
   "source": [
    "# PDSI"
   ]
  },
  {
   "cell_type": "markdown",
   "id": "562abebd-e60c-4eff-8c8d-4c328689a9db",
   "metadata": {},
   "source": [
    "In order to re-create environment to run the following cells you need to:\n",
    "1. git clone `climate_indices` locally\n",
    "2. `pip install poetry`\n",
    "3. modify `pyproject.toml` to accomodate Python 3.12, and change different package requirements as needed\n",
    "4. `poetry install` in `climate_indices` directory"
   ]
  },
  {
   "cell_type": "code",
   "execution_count": null,
   "id": "7ef1e4ee-bc9f-4d9c-91ca-4aa0cd80b6bb",
   "metadata": {},
   "outputs": [],
   "source": [
    "import climate_indices\n",
    "import matplotlib.pyplot  as plt\n",
    "from climate_indices.palmer import pdsi"
   ]
  },
  {
   "cell_type": "code",
   "execution_count": null,
   "id": "df17a2af-d944-47fc-ac19-148a3208ee34",
   "metadata": {},
   "outputs": [],
   "source": [
    "mon_pet = (pet_calc * 86400 / 25.4).resample(time='1ME').sum()\n",
    "mon_precip = (precip / 25.4).resample(time='1ME').sum()"
   ]
  },
  {
   "cell_type": "code",
   "execution_count": null,
   "id": "48f8f4c9-9d02-429b-982b-24d5d98d40f0",
   "metadata": {},
   "outputs": [],
   "source": [
    "def combine_wl_to_dummy_time(\n",
    "    da: xr.DataArray,\n",
    "    baseline_wl: float,\n",
    "    future_wls: list[float],\n",
    "    start_date: str = \"2000-01-31\",\n",
    ") -> xr.DataArray:\n",
    "    \"\"\"\n",
    "    Combine baseline warming level with multiple future warming levels into one\n",
    "    DataArray along a new 'combined_wl' dimension.\n",
    "\n",
    "    Parameters\n",
    "    ----------\n",
    "    da : xr.DataArray\n",
    "        Original data with dims including 'warming_level' and 'time'.\n",
    "    baseline_wl : float\n",
    "        The warming level used for the first time segment.\n",
    "    future_wls : list of float\n",
    "        Warming levels to concatenate after baseline.\n",
    "    start_date : str\n",
    "        Start date for the combined time series (monthly freq).\n",
    "    \n",
    "    Returns\n",
    "    -------\n",
    "    xr.DataArray\n",
    "        Combined DataArray with new dimension 'combined_wl' and coordinate labels like \"0.8 to 1.5\".\n",
    "    \"\"\"\n",
    "    months_per_wl = da.sizes['time']\n",
    "    total_months = 2 * months_per_wl\n",
    "    new_time = pd.date_range(start_date, periods=total_months, freq='ME')\n",
    "\n",
    "    combined_list = []\n",
    "    combined_labels = []\n",
    "\n",
    "    for fw in future_wls:\n",
    "        da_base = da.sel(warming_level=baseline_wl)\n",
    "        da_future = da.sel(warming_level=fw)\n",
    "\n",
    "        combined = xr.concat([da_base, da_future], dim='time')\n",
    "        combined = combined.assign_coords(time=new_time)\n",
    "\n",
    "        wl_flag = np.array([baseline_wl] * months_per_wl + [fw] * months_per_wl)\n",
    "        combined = combined.assign_coords(warming_level_flag=('time', wl_flag))\n",
    "\n",
    "        combined_list.append(combined)\n",
    "        combined_labels.append(f\"{int(baseline_wl * 10):02d}_to_{int(fw * 10):02d}\")\n",
    "\n",
    "    combined_da = xr.concat(combined_list, dim='combined_wl')\n",
    "    combined_da = combined_da.assign_coords(combined_wl=combined_labels)\n",
    "\n",
    "    return combined_da"
   ]
  },
  {
   "cell_type": "code",
   "execution_count": null,
   "id": "6b74e88e-4b66-4b02-a8b0-cb860ba3334c",
   "metadata": {},
   "outputs": [],
   "source": [
    "mon_pet_transform = combine_wl_to_dummy_time(mon_pet, baseline_wl=0.8, future_wls=[1.5,2.0,3.0])\n",
    "mon_precip_transform = combine_wl_to_dummy_time(mon_precip, baseline_wl=0.8, future_wls=[1.5,2.0,3.0])"
   ]
  },
  {
   "cell_type": "code",
   "execution_count": null,
   "id": "6490a2fc-a65b-48ed-823c-a1bf5e5f8c50",
   "metadata": {},
   "outputs": [],
   "source": [
    "from climakitae.core.data_export import export"
   ]
  },
  {
   "cell_type": "code",
   "execution_count": null,
   "id": "e5d1b38e-de51-45af-bbed-2b8c755e7607",
   "metadata": {},
   "outputs": [],
   "source": [
    "time_idx = mon_precip_transform.time\n",
    "sims = mon_precip.simulation.values\n",
    "for comb_wl in mon_pet_transform.combined_wl.values:\n",
    "    one_pet_wl = mon_pet_transform.sel(combined_wl=comb_wl)\n",
    "    one_precip_wl = mon_precip_transform.sel(combined_wl=comb_wl)\n",
    "    for sim in sims:\n",
    "        pdsi_calc = pdsi(\n",
    "            precips=one_precip_wl.sel(simulation=sim).values,\n",
    "            pet=one_pet_wl.sel(simulation=sim).values,\n",
    "            awc=5,\n",
    "            data_start_year=2000,\n",
    "            calibration_year_initial=2000,\n",
    "            calibration_year_final=2030,\n",
    "        )\n",
    "        # print(f\"Alpha: {pdsi_calc[4]['alpha']}\")\n",
    "        # print(f\"Beta: {pdsi_calc[4]['beta']}\")\n",
    "        # print(f\"Gamma: {pdsi_calc[4]['gamma']}\")\n",
    "        # print(f\"Delta: {pdsi_calc[4]['delta']}\")\n",
    "        \n",
    "        pdsi_da = xr.DataArray(\n",
    "            pdsi_calc[0],\n",
    "            coords={\"time\": time_idx, 'simulation': sim},\n",
    "            dims=[\"time\"],\n",
    "        )\n",
    "\n",
    "        filename = f\"{sim.split('_')[1]}_{comb_wl}\"\n",
    "        filepath = f\"tmp_data/{filename}_pdsi_calc.nc\"\n",
    "        if os.path.exists(filepath):\n",
    "            print(f\"File {filepath} already exists. Skipping saving data.\")\n",
    "        else:\n",
    "            export(pdsi_da, filepath)\n",
    "        \n",
    "        plt.hist(pdsi_calc[0][360:])\n",
    "        plt.title(filename)\n",
    "        plt.show()\n",
    "        "
   ]
  },
  {
   "cell_type": "markdown",
   "id": "b0251ad5-9c45-4f47-b161-699d6a2c5469",
   "metadata": {},
   "source": [
    "## EDDI"
   ]
  },
  {
   "cell_type": "code",
   "execution_count": null,
   "id": "34a46f5f-3357-46f9-bb75-facf2af91d9a",
   "metadata": {},
   "outputs": [],
   "source": [
    "from xclim.indices.stats import standardized_index"
   ]
  },
  {
   "cell_type": "code",
   "execution_count": null,
   "id": "ca778340-28d9-4d02-bf0f-7c8fbe9abe1e",
   "metadata": {},
   "outputs": [],
   "source": [
    "pet_roll = mon_pet_transform.rolling(time=30, center=False).sum()"
   ]
  },
  {
   "cell_type": "code",
   "execution_count": null,
   "id": "441bd960-afe2-4d41-af9d-9d750539a69c",
   "metadata": {},
   "outputs": [],
   "source": [
    "for wl in pet_roll.combined_wl.values:\n",
    "    \n",
    "    eddi = standardized_index(\n",
    "        pet_roll.sel(combined_wl=wl), \n",
    "        freq=None,\n",
    "        window=1,\n",
    "        dist=\"gamma\",\n",
    "        method=\"ML\",\n",
    "        zero_inflated=False,\n",
    "        fitkwargs={},  # could pass e.g. {'floc': 0} for gamma\n",
    "        cal_start=\"2000-01-31\",\n",
    "        cal_end=\"2029-12-31\"\n",
    "    )\n",
    "    \n",
    "    for sim in eddi.simulation.values:\n",
    "        plt.hist(eddi.sel(simulation=sim))\n",
    "        plt.title(f\"{sim} {wl}\")\n",
    "        plt.show();"
   ]
  }
 ],
 "metadata": {
  "kernelspec": {
   "display_name": "Python 3 (ipykernel)",
   "language": "python",
   "name": "python3"
  },
  "language_info": {
   "codemirror_mode": {
    "name": "ipython",
    "version": 3
   },
   "file_extension": ".py",
   "mimetype": "text/x-python",
   "name": "python",
   "nbconvert_exporter": "python",
   "pygments_lexer": "ipython3",
   "version": "3.12.10"
  }
 },
 "nbformat": 4,
 "nbformat_minor": 5
}
