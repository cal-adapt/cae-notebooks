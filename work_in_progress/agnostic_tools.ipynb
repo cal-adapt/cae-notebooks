{
 "cells": [
  {
   "cell_type": "markdown",
   "id": "ef7922ef-4c61-4cca-9ab1-5d64c7b7c0cb",
   "metadata": {
    "tags": []
   },
   "source": [
    "# Developing Model Agnostic Tools \n",
    "\n",
    "This notebook runs through the development of two agnostic tools of interest for model selection based on a desired data metric.<br><br>\n",
    "**1. Lookup Warming Level and Year Tool**: This tool illustrates the on-going development of functionality to identify either a **warming level** or a **year** of interest, based on a given scenario. This tool ties warming levels, climate scenarios, and year together for a specific location that may be of interest to stakeholders for their planning needs.<br>*Intended Application*: As a utility analyst, I want to be able to enter either a warming level or year of interest, and extract information on the model distribution at that warming level or year for my analysis needs. <br><br>\n",
    "**2. WRF/LOCA2-Hybrid Simulation Explorer Tool**: This tool illustrates the on-going development of functionality to identify the WRF or LOCA2-Hybrid simulations that match a pre-selected list of statistics for a metric, namely the min, max, quartiles, and middle 10% of models. <br>*Intended Application*: As a policy-maker exploring future projects, I want to understand the landscape of WRF or LOCA2-Hybrid runs in order to utilize a range of projections in my decision-making. "
   ]
  },
  {
   "cell_type": "markdown",
   "id": "95ba7286-4410-45a3-95d1-dbf8f289f3ec",
   "metadata": {},
   "source": [
    "**Runtime**: With the default settings, this notebook takes approximately **1-2 minutes** to run from start to finish. Modifications to selections may increase the runtime. "
   ]
  },
  {
   "cell_type": "markdown",
   "id": "1b76b576",
   "metadata": {},
   "source": [
    "### Step 0: Setup "
   ]
  },
  {
   "cell_type": "code",
   "execution_count": null,
   "id": "69533e24-7ade-40db-91c9-e9725179ea6a",
   "metadata": {
    "tags": []
   },
   "outputs": [],
   "source": [
    "from climakitae.explore.agnostic import (\n",
    "    create_lookup_tables,\n",
    "    agg_area_subset_sims, \n",
    "    agg_lat_lon_sims, \n",
    "    show_available_vars,\n",
    "    get_available_units,\n",
    ")\n",
    "from climakitaegui.explore.agnostic import (\n",
    "    create_conversion_function,\n",
    "    plot_LOCA,\n",
    "    plot_WRF,\n",
    "    plot_climate_response_WRF,\n",
    "    plot_climate_response_LOCA,\n",
    ")\n",
    "import numpy as np"
   ]
  },
  {
   "cell_type": "markdown",
   "id": "2c77cda9-755f-46a9-8fd6-9a6789fb6be6",
   "metadata": {
    "tags": []
   },
   "source": [
    "## Tool 1: Lookup Warming Level and Year\n",
    "\n",
    "This tool is designed to provide critical information on the connections between global warming levels, scenario, and timing amongst model simulations. We utilize SSP3-7.0 here as the climate scenario. The handy `find_warm_level_or_time` function will return either the `warming_level` or `year` of interest based on the inputs and is completely flexible for input needs. Warming levels are constrained to 1.5°C, 2.0°C, and 3°C, as only a portion of model simulations do not reach 4°C warming to provide statistical confidence in the results. \n",
    "\n",
    "### Step 1: Create the model lookup tables\n",
    "The `find_warm_level_or_time` function is built off of look-up tables for all simulations and their designated warming levels based on the 1850-1900 historical baseline as is standard in the global warming levels approach. First we need to generate the lookup tables that this function utilizes. "
   ]
  },
  {
   "cell_type": "code",
   "execution_count": null,
   "id": "ea128a8d-4e61-43ca-bd04-a84272d91926",
   "metadata": {},
   "outputs": [],
   "source": [
    "lookup_tables = create_lookup_tables()\n",
    "find_warm_level_or_time = create_conversion_function(lookup_tables)"
   ]
  },
  {
   "cell_type": "markdown",
   "id": "f29b83be-a20e-4ed3-a5f6-c3bc92b043d3",
   "metadata": {},
   "source": [
    "### Step 2: Example usage of the Lookup Function for Identifying a Year\n",
    "\n",
    "In the following cells, we demonstrate how to find the year and month of interest when a **warming level** is passed as input to the tool, and returns several key pieces of information based on SSP3-7.0 as the climate scenario:\n",
    "- A histogram of all 80 simulations binned by when the simulation reaches the input warming level\n",
    "- Median year, and the specific year-month"
   ]
  },
  {
   "cell_type": "code",
   "execution_count": null,
   "id": "11b53342-7d53-4458-bf28-b8517a3d49f0",
   "metadata": {
    "tags": []
   },
   "outputs": [],
   "source": [
    "find_warm_level_or_time(warming_level='1.2')"
   ]
  },
  {
   "cell_type": "code",
   "execution_count": null,
   "id": "5ca0d69e-4de7-4fb1-92c6-8ad5be4f14e2",
   "metadata": {
    "tags": []
   },
   "outputs": [],
   "source": [
    "find_warm_level_or_time(warming_level='2.0')"
   ]
  },
  {
   "cell_type": "code",
   "execution_count": null,
   "id": "16c29465-16eb-4b29-a520-651e8eb348d7",
   "metadata": {
    "tags": []
   },
   "outputs": [],
   "source": [
    "find_warm_level_or_time(warming_level='3.0')"
   ]
  },
  {
   "cell_type": "markdown",
   "id": "3dee3866-09ab-401c-8b0d-eb562d9e1ab4",
   "metadata": {},
   "source": [
    "### Step 3: Example usage of the Lookup Tool to find the projected warming level\n",
    "\n",
    "In the following cells, we demonstrate how to find the warming level interest when a **year** is passed as input to the tool, and returns several key pieces of information based on SSP3-7.0 as the climate scenario:\n",
    "- A histogram of all 80 simulations binned by warming level\n",
    "- The major warming level nearest to the median projected warming level\n",
    "- Information on the median projected warming level"
   ]
  },
  {
   "cell_type": "code",
   "execution_count": null,
   "id": "12f7dd6b-e365-4879-9cad-abf1438a9a57",
   "metadata": {
    "tags": []
   },
   "outputs": [],
   "source": [
    "find_warm_level_or_time(year=2043)"
   ]
  },
  {
   "cell_type": "code",
   "execution_count": null,
   "id": "9a479297-7f07-47f7-9584-6abdd66ff43c",
   "metadata": {
    "tags": []
   },
   "outputs": [],
   "source": [
    "find_warm_level_or_time(year=2050)"
   ]
  },
  {
   "cell_type": "code",
   "execution_count": null,
   "id": "c3922f3b-7bed-49c0-abcd-07d80abdffbe",
   "metadata": {
    "tags": []
   },
   "outputs": [],
   "source": [
    "find_warm_level_or_time(year=2070)"
   ]
  },
  {
   "cell_type": "code",
   "execution_count": null,
   "id": "1f37c237-7d8f-499d-ad30-0dce0e0b3b65",
   "metadata": {
    "tags": []
   },
   "outputs": [],
   "source": [
    "find_warm_level_or_time(year=2100)"
   ]
  },
  {
   "cell_type": "markdown",
   "id": "8484334a-d9fb-4c0b-86c8-59f12d4ee0fe",
   "metadata": {},
   "source": [
    "## Tool 2: Simulation Explorer Tool\n",
    "\n",
    "Now we demonstrate the on-going development of the Simulation Explorer tool. Given a specific location and pre-calculated metric of interest, this tool returns information on the statistical distribution of simulations based on the selected metric for suitability in planning design."
   ]
  },
  {
   "cell_type": "markdown",
   "id": "614b1c51-a443-498d-9739-3d5b85f8b7c5",
   "metadata": {},
   "source": [
    "### Step 1: Identify parameters and location of interest\n",
    "\n",
    "Below, we offer an example of default settings to set-up the Simulation Explorer Tool. You can also customize these parameters, including months, years, and downscaling method (\"Dynamical\" or \"Statistical\").\n",
    "\n",
    "**Note**: If you use the default downscaling method of \"Dynamical\" to analyze WRF data, the timescale is set to monthly by default. This retrieves the 4 monthly-aggregated simulations and takes approximately 1-2 minutes to run. However, if you would like to look at all 8 available models, set `wrf_timescale` to \"hourly\"; the notebook will take much longer to run (~45 minutes) as it has to compute a much larger dataset!\n",
    "\n",
    "If you select the \"Statistical\" downscaling method for analyzing LOCA2-Hybrid data, the timescale can only be monthly, because of how computationally-heavy it is to aggregate on more granular timescales."
   ]
  },
  {
   "cell_type": "code",
   "execution_count": null,
   "id": "39a36683-dc9b-4947-8513-99dc5fcb5e67",
   "metadata": {
    "tags": []
   },
   "outputs": [],
   "source": [
    "# Months desired for analysis, Jan = 1\n",
    "months = range(1, 13)\n",
    "\n",
    "# Years desired for analysis, inclusive\n",
    "years = (2013, 2040)\n",
    "\n",
    "# Options are: \"Dynamical\" (WRF) or \"Statistical\" (LOCA2-Hybrid)\n",
    "downscaling_method = 'Statistical'\n",
    "\n",
    "# Options are: \"monthly\" (4 monthly-aggregated WRF models),  or \"hourly\" (8 hourly WRF models -- time intensive!)\n",
    "# Ignore this line if you are just using 'Statistical' data\n",
    "wrf_timescale = 'monthly'\n",
    "\n",
    "# This shows the available variables for your inputs\n",
    "show_available_vars(downscaling_method, wrf_timescale)"
   ]
  },
  {
   "cell_type": "code",
   "execution_count": null,
   "id": "200d0d1f-fca8-4e78-93c8-99ae1671e0c7",
   "metadata": {
    "tags": []
   },
   "outputs": [],
   "source": [
    "# Input desired variable\n",
    "variable = 'Maximum air temperature at 2m' # change variable if so desired HERE\n",
    "\n",
    "# Select desired aggregation function (another option is \"np.median\")\n",
    "agg_func = np.mean\n",
    "\n",
    "# Select latitude and longitude range; replace with individual numbers if you're only looking for a specific lat/lon point\n",
    "lat_range = (32.58, 33.20)\n",
    "lon_range = (-117.125, -117.345)\n",
    "\n",
    "# Select your desired units\n",
    "print(get_available_units(variable, downscaling_method))\n",
    "units = 'K' # change unit if so desired HERE"
   ]
  },
  {
   "cell_type": "markdown",
   "id": "50b8515c-7761-4bc4-bd47-0bd20ff98765",
   "metadata": {},
   "source": [
    "### Step 2: Run analyses"
   ]
  },
  {
   "cell_type": "markdown",
   "id": "73f77913-1827-4b62-a213-1391640e63a7",
   "metadata": {},
   "source": [
    "With the below function, we can look at the distribution for a gridcell at a specific lat/lon. For WRF data, the will take between 1-3 min. For LOCA2-Hybrid data, this can take up to ~5 min."
   ]
  },
  {
   "cell_type": "code",
   "execution_count": null,
   "id": "fa453eea-ea45-4b60-a9c8-db83ea1cddcf",
   "metadata": {
    "tags": []
   },
   "outputs": [],
   "source": [
    "%%time\n",
    "single_stats_gridcell, multiple_stats_gridcell, results_gridcell = agg_lat_lon_sims(lat_range, lon_range, downscaling_method, variable, agg_func, units, years, months, wrf_timescale)"
   ]
  },
  {
   "cell_type": "markdown",
   "id": "11713e44-5b57-4664-92aa-1fbecdda299e",
   "metadata": {},
   "source": [
    "With the next function below, we can look at the distribution of simulations across a selected metric for the state of California. This will take some time since it's calculating over a much larger area - hang tight!"
   ]
  },
  {
   "cell_type": "code",
   "execution_count": null,
   "id": "5667f859-e666-431f-bdac-945cf03f0def",
   "metadata": {
    "tags": []
   },
   "outputs": [],
   "source": [
    "%%time\n",
    "area_subset = 'states' # Choose your `area_subset`\n",
    "selected_area = 'CA' # Choose your `selected_area`\n",
    "single_stats_area, multiple_stats_area, results_area = agg_area_subset_sims(area_subset, selected_area, downscaling_method, variable, agg_func, units, years, months, wrf_timescale)"
   ]
  },
  {
   "cell_type": "markdown",
   "id": "720b579c-03ea-4a21-9255-6228dda8faff",
   "metadata": {
    "tags": []
   },
   "source": [
    "### Step 3: Extract simulations based on specific statistics.\n",
    "Below we illustrate how to retrieve simulations on the min, median, max, and the middle 10% of the distribution of simulations from the results of the above gridcell aggregation. Feel free to change the below cells from `single_stats_gridcell` to `single_stats_area` if you'd rather see the results of an area aggregation."
   ]
  },
  {
   "cell_type": "code",
   "execution_count": null,
   "id": "ccd7b64c-9bc6-46d1-939c-c6ed2eb2efd0",
   "metadata": {
    "tags": []
   },
   "outputs": [],
   "source": [
    "min_sim = single_stats_gridcell['min']\n",
    "# min_sim = single_stats_area['min']\n",
    "min_sim"
   ]
  },
  {
   "cell_type": "code",
   "execution_count": null,
   "id": "faf690b9-7bf8-4d95-9ce5-8a153e35b5fd",
   "metadata": {
    "tags": []
   },
   "outputs": [],
   "source": [
    "med_sim = single_stats_gridcell['median']\n",
    "# med_sim = single_stats_area['median']\n",
    "med_sim"
   ]
  },
  {
   "cell_type": "code",
   "execution_count": null,
   "id": "fab1519e-ccf1-4189-b06d-c02f905e3864",
   "metadata": {
    "tags": []
   },
   "outputs": [],
   "source": [
    "max_sim = single_stats_gridcell['max']\n",
    "# max_sim = single_stats_area['max']\n",
    "max_sim"
   ]
  },
  {
   "cell_type": "code",
   "execution_count": null,
   "id": "2fab0d28-c0cf-48d8-8cf5-20745e26d6ad",
   "metadata": {
    "tags": []
   },
   "outputs": [],
   "source": [
    "# Finding statistics that return multiple simulations\n",
    "mid_10 = multiple_stats_gridcell['middle 10%']\n",
    "# mid_10 = multiple_stats_area['middle 10%']\n",
    "mid_10"
   ]
  },
  {
   "cell_type": "markdown",
   "id": "c292c297-77f7-41f4-8846-b6671cb72d50",
   "metadata": {},
   "source": [
    "### Step 4: Visualize the distribution of results"
   ]
  },
  {
   "cell_type": "markdown",
   "id": "4e84a9d3-400c-4856-86e0-f46109c0136b",
   "metadata": {},
   "source": [
    "Here, you can view some initial distributions of your results through bar plots and scatter plots."
   ]
  },
  {
   "cell_type": "markdown",
   "id": "772bdde8-55ce-47be-bf75-5a9204d7e9d7",
   "metadata": {},
   "source": [
    "If we were interested in plotting two aggregations against each other, we can compute a different metric over the same area to see how the models quantitatively differ across two variables. We will use `agg_lat_lon_sims` again to aggregate the simulations across gridcells, but once again, if you're doing an analysis over an area instead, feel free to change `agg_lat_lon_sims` to `agg_area_subset_sims`.\n",
    "\n",
    "If you're not interested in a second variable, you can also just skip the following cell."
   ]
  },
  {
   "cell_type": "code",
   "execution_count": null,
   "id": "5f9d0cfe-e106-457e-a384-d180bbd96540",
   "metadata": {
    "tags": []
   },
   "outputs": [],
   "source": [
    "%%time\n",
    "variable2 = 'Precipitation (total)'\n",
    "units2 = 'mm'\n",
    "single_stats_gridcell2, multiple_stats_gridcell2, results_gridcell2 = agg_lat_lon_sims(lat_range, lon_range, downscaling_method, variable2, agg_func, units2, years, months, wrf_timescale)\n",
    "\n",
    "## alternative version, if you are using an aggregated area instead of a single gridcell selection\n",
    "# single_stats_area2, multiple_stats_area2, results_area2 = agg_area_subset_sims(area_subset, selected_area, downscaling_method, variable2, agg_func, units2, years, months, wrf_timescale)"
   ]
  },
  {
   "cell_type": "markdown",
   "id": "07bec268-3403-4d91-92da-27dd466fb32a",
   "metadata": {},
   "source": [
    "Below, replace `results_gridcell` with `results_area` and `single_stats_gridcell` with `single_stats_area` if you ran your analysis on a gridcell vs. on a selected area."
   ]
  },
  {
   "cell_type": "code",
   "execution_count": null,
   "id": "552f61c7-f688-4162-a91a-fe3830ef82fc",
   "metadata": {
    "tags": []
   },
   "outputs": [],
   "source": [
    "# Plotting distribution of simulations based on if your downscaling method was 'Dynamical' (WRF) or 'Statistical' (LOCA2-Hybrid).\n",
    "if downscaling_method == 'Dynamical':\n",
    "    plot_WRF(results_gridcell, agg_func, years)\n",
    "elif downscaling_method == 'Statistical':\n",
    "    plot_LOCA(results_gridcell, agg_func, years, single_stats_gridcell)"
   ]
  },
  {
   "cell_type": "markdown",
   "id": "d697345e-16d1-4817-8e65-c06fb0a962fc",
   "metadata": {},
   "source": [
    "If you calculated the second variable, you can view both aggregated variables on a scatterplot:"
   ]
  },
  {
   "cell_type": "code",
   "execution_count": null,
   "id": "35af05d1-655b-480b-8cd4-81a634439a2d",
   "metadata": {
    "tags": []
   },
   "outputs": [],
   "source": [
    "# Plotting 2 climate metrics against each other based on if your downscaling method was 'Dynamical' (WRF) or 'Statistical' (LOCA2-Hybrid).\n",
    "if downscaling_method == 'Dynamical':\n",
    "    plot = plot_climate_response_WRF(results_gridcell, results_gridcell2)\n",
    "elif downscaling_method == 'Statistical':\n",
    "    plot = plot_climate_response_LOCA(results_gridcell, results_gridcell2)\n",
    "    \n",
    "display(plot)"
   ]
  }
 ],
 "metadata": {
  "kernelspec": {
   "display_name": "Python 3 (ipykernel)",
   "language": "python",
   "name": "python3"
  },
  "language_info": {
   "codemirror_mode": {
    "name": "ipython",
    "version": 3
   },
   "file_extension": ".py",
   "mimetype": "text/x-python",
   "name": "python",
   "nbconvert_exporter": "python",
   "pygments_lexer": "ipython3",
   "version": "3.9.13"
  }
 },
 "nbformat": 4,
 "nbformat_minor": 5
}
