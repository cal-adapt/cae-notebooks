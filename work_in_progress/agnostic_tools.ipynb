{
 "cells": [
  {
   "cell_type": "markdown",
   "id": "ef7922ef-4c61-4cca-9ab1-5d64c7b7c0cb",
   "metadata": {},
   "source": [
    "# Developing Model Agnostic Tools \n",
    "\n",
    "This notebook runs through the development of two agnostic tools of interest for model selection based on a desired data metric. <br>\n",
    "- **Lookup Warming Level and Year Tool**: This tool illustrates the on-going development of functionality to identify either a **warming level** or a **year** of interest, based on a given scenario. This Tool ties warming levels, climate scenarios, and year together for a specific location that may be of interest to stakeholders for their planning neeeds.<br> *Intended Application*: As a utility analyst, I want to be able to enter any of the two following elements and have the third provided so I can utilize the information for models and understand the relationship to global warming levels. <br><br>\n",
    "- **LOCA Simulation Explorer Tool**: This tool illustrates the on-going development of functionality to identify the LOCA simulations that match a pre-selected list of statistics for a metric, namely the min, max, quartiles, and middle 10% of models. <br>*Intended Application*: As a policy maker exploring future projects, I want to understand the landscape of LOCA runs in order to utilize a range of projections in my decision making. "
   ]
  },
  {
   "cell_type": "markdown",
   "id": "879adb45-90de-40c4-8368-bc9442e03bbd",
   "metadata": {},
   "source": [
    "## Step 0: Setup "
   ]
  },
  {
   "cell_type": "code",
   "execution_count": null,
   "id": "69533e24-7ade-40db-91c9-e9725179ea6a",
   "metadata": {
    "tags": []
   },
   "outputs": [],
   "source": [
    "import numpy as np\n",
    "import pandas as pd\n",
    "import xarray as xr\n",
    "import climakitae as ck\n",
    "from dask import compute\n",
    "from climakitae.explore.agnostic import (\n",
    "    create_lookup_tables,\n",
    "    create_conversion_function,\n",
    "    get_cached_area_loca, \n",
    "    get_lat_lon_loca, \n",
    "    plot_sims, \n",
    "    create_interactive_panel\n",
    ")"
   ]
  },
  {
   "cell_type": "markdown",
   "id": "2c77cda9-755f-46a9-8fd6-9a6789fb6be6",
   "metadata": {},
   "source": [
    "## Tool 1: Lookup Warming Level and Year\n",
    "\n",
    "This tool is designed to provide critical information on the connections between global warming levels, scenario, and timing amongst model simulations. We utilize SSP3-7.0 here as the climate scenario. The handy `find_warm_level_or_time` function will return either the `warming_level` or `year` of interest based on the inputs and is completely flexible for input needs. Warming levels are constrained to 1.5°C, 2.0°C, and 3°C, as only a portion of model simulations do not reach 4°C warming to provide statistical confidence in the results. \n",
    "\n",
    "### Step 1: Create the model lookup tables\n",
    "The `find_warm_level_or_time` function is built off of look-up tables for all simulations and their designated warming levels based on the 1850-1900 historical baseline as is standard in the global warming levels approach. First we need to generate the lookup tables that this function utilizes. "
   ]
  },
  {
   "cell_type": "code",
   "execution_count": null,
   "id": "915c1b5a-aaf4-4e74-9c10-e545a2d96553",
   "metadata": {
    "tags": []
   },
   "outputs": [],
   "source": [
    "lookup_tables = create_lookup_tables()\n",
    "find_warm_level_or_time = create_conversion_function(lookup_tables)"
   ]
  },
  {
   "cell_type": "markdown",
   "id": "f29b83be-a20e-4ed3-a5f6-c3bc92b043d3",
   "metadata": {},
   "source": [
    "### Step 2: Example usage of the Lookup Function for Identifying a Year\n",
    "\n",
    "In the following cells, we demonstrate how to find the year and month of interest when a **warming level** is passed as input to the tool, and returns several key pieces of information based on SSP3-7.0 as the climate scenario:\n",
    "- A histogram of all 80 simulations binned by when the simulation reaches the input warming level\n",
    "- Median year, and the specific year-month"
   ]
  },
  {
   "cell_type": "code",
   "execution_count": null,
   "id": "11b53342-7d53-4458-bf28-b8517a3d49f0",
   "metadata": {
    "tags": []
   },
   "outputs": [],
   "source": [
    "find_warm_level_or_time(warming_level='1.5')"
   ]
  },
  {
   "cell_type": "code",
   "execution_count": null,
   "id": "5ca0d69e-4de7-4fb1-92c6-8ad5be4f14e2",
   "metadata": {
    "tags": []
   },
   "outputs": [],
   "source": [
    "find_warm_level_or_time(warming_level='2.0')"
   ]
  },
  {
   "cell_type": "code",
   "execution_count": null,
   "id": "16c29465-16eb-4b29-a520-651e8eb348d7",
   "metadata": {
    "tags": []
   },
   "outputs": [],
   "source": [
    "find_warm_level_or_time(warming_level='3.0')"
   ]
  },
  {
   "cell_type": "markdown",
   "id": "3dee3866-09ab-401c-8b0d-eb562d9e1ab4",
   "metadata": {},
   "source": [
    "### Step 3: Example usage of the Lookup Tool to find the projected warming level\n",
    "\n",
    "In the following cells, we demonstrate how to find the warming level interest when a **year** is passed as input to the tool, and returns several key pieces of information based on SSP3-7.0 as the climate scenario:\n",
    "- A histogram of all 80 simulations binned by warming level\n",
    "- The major warming level nearest to the median projected warming level\n",
    "- Information on the median projected warming level"
   ]
  },
  {
   "cell_type": "code",
   "execution_count": null,
   "id": "12f7dd6b-e365-4879-9cad-abf1438a9a57",
   "metadata": {
    "tags": []
   },
   "outputs": [],
   "source": [
    "find_warm_level_or_time(year=2025)"
   ]
  },
  {
   "cell_type": "code",
   "execution_count": null,
   "id": "9a479297-7f07-47f7-9584-6abdd66ff43c",
   "metadata": {
    "tags": []
   },
   "outputs": [],
   "source": [
    "find_warm_level_or_time(year=2050)"
   ]
  },
  {
   "cell_type": "code",
   "execution_count": null,
   "id": "c3922f3b-7bed-49c0-abcd-07d80abdffbe",
   "metadata": {
    "tags": []
   },
   "outputs": [],
   "source": [
    "find_warm_level_or_time(year=2070)"
   ]
  },
  {
   "cell_type": "code",
   "execution_count": null,
   "id": "1f37c237-7d8f-499d-ad30-0dce0e0b3b65",
   "metadata": {
    "tags": []
   },
   "outputs": [],
   "source": [
    "find_warm_level_or_time(year=2100)"
   ]
  },
  {
   "cell_type": "markdown",
   "id": "8484334a-d9fb-4c0b-86c8-59f12d4ee0fe",
   "metadata": {},
   "source": [
    "## Tool 2: LOCA Simulation Explorer Tool\n",
    "\n",
    "Now we demonstrate the on-going development for the LOCA Simulation Explorer tool. Given a specific location and pre-calculated metric of interest, this tool returns information on the statistical distribution of simulations based on the selected metric for suitability in planning design. \n",
    "\n",
    "Current metrics include: Average Maximum Air Temperature (2030-2059), Average Minimum Air Temperature (2030-2059), Average Maximum Relative Humidity (2030-2059), and Average Annual Total Precipitation (2030-2059). More metrics, and customization of metrics, is forthcoming. \n",
    "\n",
    "### Step 1: Spin up a cluster to utilize compute resources\n",
    "Because there are large number of LOCA simulations to analyze, spinning up a cluster will help speed up calculations. This may take a minute or two to set-up. "
   ]
  },
  {
   "cell_type": "code",
   "execution_count": null,
   "id": "65a4beb3-f3e6-4e15-aa92-12e2798f3133",
   "metadata": {},
   "outputs": [],
   "source": [
    "from climakitae.util.cluster import Cluster\n",
    "cluster = Cluster()\n",
    "cluster.adapt(minimum=0, maximum=43)\n",
    "client = cluster.get_client()\n",
    "client"
   ]
  },
  {
   "cell_type": "markdown",
   "id": "614b1c51-a443-498d-9739-3d5b85f8b7c5",
   "metadata": {},
   "source": [
    "### Step 2: Select metric to explore\n",
    "\n",
    "At present there are 4 available metrics to explore the distribution amongst LOCA simulations. We'll utilize `Average Max Air Temperature` in our examples below."
   ]
  },
  {
   "cell_type": "code",
   "execution_count": null,
   "id": "b3436870-d134-4ed6-9d88-a906357fe247",
   "metadata": {},
   "outputs": [],
   "source": [
    "# Create interactive panel\n",
    "panel, dropdown_val = create_interactive_panel()\n",
    "panel"
   ]
  },
  {
   "cell_type": "markdown",
   "id": "9faf9f3b-e39b-4ca1-81d1-c7d268bf3560",
   "metadata": {},
   "source": [
    "### Step 3: Identify location of interest\n",
    "\n",
    "Next, we identify a single gridcell location to visualize the results. This will take a minute or two to calculate all the input statistics. Hang tight!"
   ]
  },
  {
   "cell_type": "code",
   "execution_count": null,
   "id": "a318071e-6698-4d98-a472-b19e11a4153f",
   "metadata": {},
   "outputs": [],
   "source": [
    "%%time\n",
    "single_stats_gridcell, multiple_stats_gridcell, sorted_sims_gridcell = get_lat_lon_loca(37.8012, -122.2583, dropdown_val.value)"
   ]
  },
  {
   "cell_type": "markdown",
   "id": "11713e44-5b57-4664-92aa-1fbecdda299e",
   "metadata": {},
   "source": [
    "With the below function, we can look at the distribution of LOCA simulations across a selected dropdown value for the SCE service territory."
   ]
  },
  {
   "cell_type": "code",
   "execution_count": null,
   "id": "56d38026-1496-44e6-ac80-18b68fe20549",
   "metadata": {},
   "outputs": [],
   "source": [
    "%%time\n",
    "# Running function\n",
    "single_stats_area, sorted_sims_area = get_cached_area_loca(\"CA Electric Load Serving Entities (IOU & POU)\", 'Southern California Edison', dropdown_val.value)"
   ]
  },
  {
   "cell_type": "markdown",
   "id": "720b579c-03ea-4a21-9255-6228dda8faff",
   "metadata": {},
   "source": [
    "### Step 4: Visualize distribution amongst simulations\n",
    "Below we illustrate how to retrieve information on the min, max, 25th and 75th quartiles, and the middle 10% of the distribution."
   ]
  },
  {
   "cell_type": "code",
   "execution_count": null,
   "id": "109094f8-383c-42ad-8e5b-2d22b165b5dd",
   "metadata": {},
   "outputs": [],
   "source": [
    "single_stats_area['min']"
   ]
  },
  {
   "cell_type": "code",
   "execution_count": null,
   "id": "ccd7b64c-9bc6-46d1-939c-c6ed2eb2efd0",
   "metadata": {},
   "outputs": [],
   "source": [
    "min_sim = single_stats_gridcell['min']\n",
    "min_sim"
   ]
  },
  {
   "cell_type": "code",
   "execution_count": null,
   "id": "5f0b3dbf-8205-4b87-9df5-422c66d68c60",
   "metadata": {},
   "outputs": [],
   "source": [
    "q1_sim = single_stats_gridcell['q1']\n",
    "q1_sim"
   ]
  },
  {
   "cell_type": "code",
   "execution_count": null,
   "id": "faf690b9-7bf8-4d95-9ce5-8a153e35b5fd",
   "metadata": {},
   "outputs": [],
   "source": [
    "med_sim = single_stats_gridcell['median']\n",
    "med_sim"
   ]
  },
  {
   "cell_type": "code",
   "execution_count": null,
   "id": "f084ee72-6e2d-4fc8-9595-99e98bf24220",
   "metadata": {},
   "outputs": [],
   "source": [
    "q3_sim = single_stats_gridcell['q3']\n",
    "q3_sim"
   ]
  },
  {
   "cell_type": "code",
   "execution_count": null,
   "id": "fab1519e-ccf1-4189-b06d-c02f905e3864",
   "metadata": {},
   "outputs": [],
   "source": [
    "max_sim = single_stats_gridcell['max']\n",
    "max_sim"
   ]
  },
  {
   "cell_type": "code",
   "execution_count": null,
   "id": "2fab0d28-c0cf-48d8-8cf5-20745e26d6ad",
   "metadata": {},
   "outputs": [],
   "source": [
    "# Finding statistics that return multiple simulations\n",
    "mid_10 = multiple_stats_gridcell['middle 10%']\n",
    "mid_10"
   ]
  },
  {
   "cell_type": "markdown",
   "id": "c292c297-77f7-41f4-8846-b6671cb72d50",
   "metadata": {},
   "source": [
    "### Step 5: Visualize the distribution"
   ]
  },
  {
   "cell_type": "code",
   "execution_count": null,
   "id": "54998ed6-9930-4a1b-b638-d89ffbc76334",
   "metadata": {},
   "outputs": [],
   "source": [
    "# Showing distribution of results\n",
    "\n",
    "### TODO: This is actually a visualization of a given gridcell, not of SCE service territory.\n",
    "plot_sims(sorted_sims_gridcell, dropdown_val.value)"
   ]
  },
  {
   "cell_type": "code",
   "execution_count": null,
   "id": "dd601eed-1b1a-4511-aaeb-00d8c5653a74",
   "metadata": {
    "tags": []
   },
   "outputs": [],
   "source": [
    "# Showing distribution of results\n",
    "plot_sims(sorted_sims_area, dropdown_val.value)"
   ]
  }
 ],
 "metadata": {
  "kernelspec": {
   "display_name": "Python 3 (ipykernel)",
   "language": "python",
   "name": "python3"
  },
  "language_info": {
   "codemirror_mode": {
    "name": "ipython",
    "version": 3
   },
   "file_extension": ".py",
   "mimetype": "text/x-python",
   "name": "python",
   "nbconvert_exporter": "python",
   "pygments_lexer": "ipython3",
   "version": "3.9.13"
  }
 },
 "nbformat": 4,
 "nbformat_minor": 5
}
