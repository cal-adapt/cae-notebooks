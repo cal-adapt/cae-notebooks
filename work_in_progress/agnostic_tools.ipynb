{
 "cells": [
  {
   "cell_type": "markdown",
   "id": "ef7922ef-4c61-4cca-9ab1-5d64c7b7c0cb",
   "metadata": {},
   "source": [
    "# Developing Model Agnostic Tools \n",
    "\n",
    "This notebook runs through the development of two agnostic tools of interest for model selection based on a desired data metric.<br><br>\n",
    "**1. Lookup Warming Level and Year Tool**: This tool illustrates the on-going development of functionality to identify either a **warming level** or a **year** of interest, based on a given scenario. This tool ties warming levels, climate scenarios, and year together for a specific location that may be of interest to stakeholders for their planning needs.<br><br>*Intended Application*: As a utility analyst, I want to be able to enter either a warming level or year of interest, and extract information on the model distribution at that warming level or year for my analysis needs. <br><br>\n",
    "**2. WRF/LOCA Simulation Explorer Tool**: This tool illustrates the on-going development of functionality to identify the WRF or LOCA simulations that match a pre-selected list of statistics for a metric, namely the min, max, quartiles, and middle 10% of models. <br><br>*Intended Application*: As a policy-maker exploring future projects, I want to understand the landscape of WRF or LOCA runs in order to utilize a range of projections in my decision-making. "
   ]
  },
  {
   "cell_type": "markdown",
   "id": "879adb45-90de-40c4-8368-bc9442e03bbd",
   "metadata": {},
   "source": [
    "## Step 0: Setup "
   ]
  },
  {
   "cell_type": "code",
   "execution_count": 32,
   "id": "12f5277f-9bee-4bff-83ca-1caeff92397b",
   "metadata": {},
   "outputs": [],
   "source": [
    "%reload_ext autoreload\n",
    "%autoreload 2"
   ]
  },
  {
   "cell_type": "code",
   "execution_count": 33,
   "id": "69533e24-7ade-40db-91c9-e9725179ea6a",
   "metadata": {
    "tags": []
   },
   "outputs": [],
   "source": [
    "from climakitae.explore.agnostic import (\n",
    "    create_lookup_tables,\n",
    "    create_conversion_function,\n",
    "    agg_area_subset_sims, \n",
    "    agg_lat_lon_sims, \n",
    "    plot_sims,\n",
    "    plot_WRF\n",
    ")"
   ]
  },
  {
   "cell_type": "markdown",
   "id": "2c77cda9-755f-46a9-8fd6-9a6789fb6be6",
   "metadata": {},
   "source": [
    "## Tool 1: Lookup Warming Level and Year\n",
    "\n",
    "This tool is designed to provide critical information on the connections between global warming levels, scenario, and timing amongst model simulations. We utilize SSP3-7.0 here as the climate scenario. The handy `find_warm_level_or_time` function will return either the `warming_level` or `year` of interest based on the inputs and is completely flexible for input needs. Warming levels are constrained to 1.5°C, 2.0°C, and 3°C, as only a portion of model simulations do not reach 4°C warming to provide statistical confidence in the results. \n",
    "\n",
    "### Step 1: Create the model lookup tables\n",
    "The `find_warm_level_or_time` function is built off of look-up tables for all simulations and their designated warming levels based on the 1850-1900 historical baseline as is standard in the global warming levels approach. First we need to generate the lookup tables that this function utilizes. "
   ]
  },
  {
   "cell_type": "code",
   "execution_count": null,
   "id": "ea128a8d-4e61-43ca-bd04-a84272d91926",
   "metadata": {},
   "outputs": [],
   "source": [
    "lookup_tables = create_lookup_tables()\n",
    "find_warm_level_or_time = create_conversion_function(lookup_tables)"
   ]
  },
  {
   "cell_type": "markdown",
   "id": "f29b83be-a20e-4ed3-a5f6-c3bc92b043d3",
   "metadata": {},
   "source": [
    "### Step 2: Example usage of the Lookup Function for Identifying a Year\n",
    "\n",
    "In the following cells, we demonstrate how to find the year and month of interest when a **warming level** is passed as input to the tool, and returns several key pieces of information based on SSP3-7.0 as the climate scenario:\n",
    "- A histogram of all 80 simulations binned by when the simulation reaches the input warming level\n",
    "- Median year, and the specific year-month"
   ]
  },
  {
   "cell_type": "code",
   "execution_count": null,
   "id": "11b53342-7d53-4458-bf28-b8517a3d49f0",
   "metadata": {
    "tags": []
   },
   "outputs": [],
   "source": [
    "find_warm_level_or_time(warming_level='1.5')"
   ]
  },
  {
   "cell_type": "code",
   "execution_count": null,
   "id": "5ca0d69e-4de7-4fb1-92c6-8ad5be4f14e2",
   "metadata": {
    "tags": []
   },
   "outputs": [],
   "source": [
    "find_warm_level_or_time(warming_level='2.0')"
   ]
  },
  {
   "cell_type": "code",
   "execution_count": null,
   "id": "16c29465-16eb-4b29-a520-651e8eb348d7",
   "metadata": {
    "tags": []
   },
   "outputs": [],
   "source": [
    "find_warm_level_or_time(warming_level='3.0')"
   ]
  },
  {
   "cell_type": "markdown",
   "id": "3dee3866-09ab-401c-8b0d-eb562d9e1ab4",
   "metadata": {},
   "source": [
    "### Step 3: Example usage of the Lookup Tool to find the projected warming level\n",
    "\n",
    "In the following cells, we demonstrate how to find the warming level interest when a **year** is passed as input to the tool, and returns several key pieces of information based on SSP3-7.0 as the climate scenario:\n",
    "- A histogram of all 80 simulations binned by warming level\n",
    "- The major warming level nearest to the median projected warming level\n",
    "- Information on the median projected warming level"
   ]
  },
  {
   "cell_type": "code",
   "execution_count": null,
   "id": "12f7dd6b-e365-4879-9cad-abf1438a9a57",
   "metadata": {
    "tags": []
   },
   "outputs": [],
   "source": [
    "find_warm_level_or_time(year=2043)"
   ]
  },
  {
   "cell_type": "code",
   "execution_count": null,
   "id": "9a479297-7f07-47f7-9584-6abdd66ff43c",
   "metadata": {
    "tags": []
   },
   "outputs": [],
   "source": [
    "find_warm_level_or_time(year=2050)"
   ]
  },
  {
   "cell_type": "code",
   "execution_count": null,
   "id": "c3922f3b-7bed-49c0-abcd-07d80abdffbe",
   "metadata": {
    "tags": []
   },
   "outputs": [],
   "source": [
    "find_warm_level_or_time(year=2070)"
   ]
  },
  {
   "cell_type": "code",
   "execution_count": null,
   "id": "1f37c237-7d8f-499d-ad30-0dce0e0b3b65",
   "metadata": {
    "tags": []
   },
   "outputs": [],
   "source": [
    "find_warm_level_or_time(year=2100)"
   ]
  },
  {
   "cell_type": "markdown",
   "id": "8484334a-d9fb-4c0b-86c8-59f12d4ee0fe",
   "metadata": {},
   "source": [
    "## Tool 2: Simulation Explorer Tool\n",
    "\n",
    "Now we demonstrate the on-going development of the Simulation Explorer tool. Given a specific location and pre-calculated metric of interest, this tool returns information on the statistical distribution of simulations based on the selected metric for suitability in planning design. \n",
    "\n",
    "Current metrics include: Average Maximum Air Temperature (2030-2059), Average Minimum Air Temperature (2030-2059), Average Maximum Relative Humidity (2030-2059), and Average Annual Total Precipitation (2030-2059). More metrics, and customization of metrics, is forthcoming. "
   ]
  },
  {
   "cell_type": "markdown",
   "id": "614b1c51-a443-498d-9739-3d5b85f8b7c5",
   "metadata": {},
   "source": [
    "### Step 1: Identify parameters and location of interest\n",
    "\n",
    "At present, there are 4 available metrics to explore the distribution amongst LOCA or WRF simulations. Below are the listed names for these metrics that you can input in the following cell:\n",
    "\n",
    "**Metrics:**\n",
    "- `Average Max Air Temperature`\n",
    "- `Average Min Air Temperature`\n",
    "- `Average Max Relative Humidity`\n",
    "- `Average Annual Total Precipitation`\n",
    "\n",
    "We'll utilize `Average Max Air Temperature` in our examples below."
   ]
  },
  {
   "cell_type": "code",
   "execution_count": 10,
   "id": "39a36683-dc9b-4947-8513-99dc5fcb5e67",
   "metadata": {},
   "outputs": [],
   "source": [
    "### Change these parameters to your choosing\n",
    "\n",
    "# Months desired for analysis, Jan = 1\n",
    "months = [4, 5, 7]\n",
    "\n",
    "# Years desired for analysis, inclusive\n",
    "years = (2030, 2059)\n",
    "\n",
    "# Change this metric to one of the above that you'd like\n",
    "metric = \"Average Max Air Temperature\"\n",
    "\n",
    "# Change this method to describe if you'd like to examine LOCA or WRF simulations\n",
    "method = 'WRF'"
   ]
  },
  {
   "cell_type": "code",
   "execution_count": 68,
   "id": "5ad06bd0-f802-4cb5-a910-67433051e711",
   "metadata": {},
   "outputs": [],
   "source": [
    "from climakitae.core.data_interface import DataInterface, _get_variable_options_df, _get_user_options"
   ]
  },
  {
   "cell_type": "code",
   "execution_count": 78,
   "id": "fca2ac73-58bb-4698-bdb1-abeb865dff2c",
   "metadata": {},
   "outputs": [],
   "source": [
    "data_interface = DataInterface()\n",
    "data_catalog = data_interface.data_catalog\n",
    "available_vars = data_interface._variable_descriptions"
   ]
  },
  {
   "cell_type": "code",
   "execution_count": 84,
   "id": "c8155aae-684f-4bb2-b5d6-a0f6e7ae873d",
   "metadata": {},
   "outputs": [],
   "source": [
    "allowed_vars = set(_get_variable_options_df(available_vars, _get_user_options(data_catalog, 'Dynamical', 'monthly', '3 km')[2], 'Dynamical', 'monthly')['display_name'].values)\n"
   ]
  },
  {
   "cell_type": "markdown",
   "id": "50b8515c-7761-4bc4-bd47-0bd20ff98765",
   "metadata": {},
   "source": [
    "### Step 2: Run analyses"
   ]
  },
  {
   "cell_type": "markdown",
   "id": "73f77913-1827-4b62-a213-1391640e63a7",
   "metadata": {},
   "source": [
    "With the below function, we can look at the distribution of either LOCA or WRF simulations for a gridcell at a specific lat/lon. This will take a couple minutes to calculate all the aggregations. Hang tight!"
   ]
  },
  {
   "cell_type": "code",
   "execution_count": 19,
   "id": "fa453eea-ea45-4b60-a9c8-db83ea1cddcf",
   "metadata": {},
   "outputs": [
    {
     "name": "stdout",
     "output_type": "stream",
     "text": [
      "Input coordinates: (32.88, -117.23)\n",
      "Nearest grid cell coordinates: (32.89, -117.23)\n",
      "CPU times: user 8.14 s, sys: 2.74 s, total: 10.9 s\n",
      "Wall time: 12.5 s\n"
     ]
    }
   ],
   "source": [
    "%%time\n",
    "single_stats_gridcell, multiple_stats_gridcell, results_gridcell = agg_lat_lon_sims(32.8812, -117.2344, metric, years, method, months)\n"
   ]
  },
  {
   "cell_type": "markdown",
   "id": "11713e44-5b57-4664-92aa-1fbecdda299e",
   "metadata": {},
   "source": [
    "With this below function, we can look at the distribution of simulations across a selected metric for the SCE service territory. This calculation will take longer, since it will compute across a much larger area (~10 min). Run the cell, go refill some water, take a break, and come back in about 10 minutes."
   ]
  },
  {
   "cell_type": "code",
   "execution_count": 11,
   "id": "56d38026-1496-44e6-ac80-18b68fe20549",
   "metadata": {},
   "outputs": [
    {
     "name": "stdout",
     "output_type": "stream",
     "text": [
      "CPU times: user 15.6 s, sys: 7.53 s, total: 23.1 s\n",
      "Wall time: 20.8 s\n"
     ]
    }
   ],
   "source": [
    "%%time\n",
    "single_stats_area, multiple_stats_area, results_area = agg_area_subset_sims('states', 'CA', metric, years, method, months)\n"
   ]
  },
  {
   "cell_type": "markdown",
   "id": "720b579c-03ea-4a21-9255-6228dda8faff",
   "metadata": {},
   "source": [
    "### Step 3: Extract simulations based on specific statistics.\n",
    "Below we illustrate how to retrieve simulations on the min, max, 25th and 75th quartiles, and the middle 10% of the distribution."
   ]
  },
  {
   "cell_type": "code",
   "execution_count": null,
   "id": "ccd7b64c-9bc6-46d1-939c-c6ed2eb2efd0",
   "metadata": {},
   "outputs": [],
   "source": [
    "min_sim = single_stats_gridcell['min']\n",
    "min_sim"
   ]
  },
  {
   "cell_type": "code",
   "execution_count": null,
   "id": "5f0b3dbf-8205-4b87-9df5-422c66d68c60",
   "metadata": {},
   "outputs": [],
   "source": [
    "q1_sim = single_stats_gridcell['q1']\n",
    "q1_sim"
   ]
  },
  {
   "cell_type": "code",
   "execution_count": null,
   "id": "faf690b9-7bf8-4d95-9ce5-8a153e35b5fd",
   "metadata": {},
   "outputs": [],
   "source": [
    "med_sim = single_stats_gridcell['median']\n",
    "med_sim"
   ]
  },
  {
   "cell_type": "code",
   "execution_count": null,
   "id": "f084ee72-6e2d-4fc8-9595-99e98bf24220",
   "metadata": {},
   "outputs": [],
   "source": [
    "q3_sim = single_stats_gridcell['q3']\n",
    "q3_sim"
   ]
  },
  {
   "cell_type": "code",
   "execution_count": null,
   "id": "fab1519e-ccf1-4189-b06d-c02f905e3864",
   "metadata": {},
   "outputs": [],
   "source": [
    "max_sim = single_stats_gridcell['max']\n",
    "max_sim"
   ]
  },
  {
   "cell_type": "code",
   "execution_count": null,
   "id": "2fab0d28-c0cf-48d8-8cf5-20745e26d6ad",
   "metadata": {},
   "outputs": [],
   "source": [
    "# Finding statistics that return multiple simulations\n",
    "mid_10 = multiple_stats_gridcell['middle 10%']\n",
    "mid_10"
   ]
  },
  {
   "cell_type": "markdown",
   "id": "c292c297-77f7-41f4-8846-b6671cb72d50",
   "metadata": {},
   "source": [
    "### Step 4: Visualize the distribution of results"
   ]
  },
  {
   "cell_type": "code",
   "execution_count": 38,
   "id": "6aa49fff-20c7-45e2-9a97-25f78ccaa92b",
   "metadata": {},
   "outputs": [
    {
     "data": {
      "image/png": "[encoded data removed]",
      "text/plain": [
       "<Figure size 640x480 with 1 Axes>"
      ]
     },
     "metadata": {},
     "output_type": "display_data"
    }
   ],
   "source": [
    "# Plotting distribution of simulations based on if your method was 'WRF' or 'LOCA'.\n",
    "if method == 'WRF':\n",
    "    plot_WRF(results_area, metric)\n",
    "elif method == 'LOCA':\n",
    "    plot_sims(results_area, metric, years, single_stats_area)"
   ]
  }
 ],
 "metadata": {
  "kernelspec": {
   "display_name": "Python 3 (ipykernel)",
   "language": "python",
   "name": "python3"
  },
  "language_info": {
   "codemirror_mode": {
    "name": "ipython",
    "version": 3
   },
   "file_extension": ".py",
   "mimetype": "text/x-python",
   "name": "python",
   "nbconvert_exporter": "python",
   "pygments_lexer": "ipython3",
   "version": "3.9.13"
  }
 },
 "nbformat": 4,
 "nbformat_minor": 5
}
