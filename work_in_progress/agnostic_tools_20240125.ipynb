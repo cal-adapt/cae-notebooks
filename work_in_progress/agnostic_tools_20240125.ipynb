{
 "cells": [
  {
   "cell_type": "markdown",
   "id": "ef7922ef-4c61-4cca-9ab1-5d64c7b7c0cb",
   "metadata": {},
   "source": [
    "# Agnostic Tools "
   ]
  },
  {
   "cell_type": "markdown",
   "id": "879adb45-90de-40c4-8368-bc9442e03bbd",
   "metadata": {},
   "source": [
    "## Step 0: Setup "
   ]
  },
  {
   "cell_type": "markdown",
   "id": "c00e4373-fd75-4c7e-9358-3c82125346cd",
   "metadata": {
    "tags": []
   },
   "source": [
    "Import tools needed."
   ]
  },
  {
   "cell_type": "code",
   "execution_count": null,
   "id": "69533e24-7ade-40db-91c9-e9725179ea6a",
   "metadata": {
    "tags": []
   },
   "outputs": [],
   "source": [
    "import numpy as np\n",
    "import pandas as pd\n",
    "import xarray as xr\n",
    "import climakitae as ck\n",
    "from dask import compute\n",
    "from climakitae.explore.agnostic import (\n",
    "    create_lookup_tables,\n",
    "    create_conversion_function,\n",
    "    get_cached_area_loca, \n",
    "    get_lat_lon_loca, \n",
    "    plot_sims, \n",
    "    create_interactive_panel\n",
    ")"
   ]
  },
  {
   "cell_type": "markdown",
   "id": "2c77cda9-755f-46a9-8fd6-9a6789fb6be6",
   "metadata": {},
   "source": [
    "## Tool 1"
   ]
  },
  {
   "cell_type": "markdown",
   "id": "9b3ebce2-bead-4a71-a71d-1761af0d9e72",
   "metadata": {
    "execution": {
     "iopub.execute_input": "2024-01-18T18:25:24.970067Z",
     "iopub.status.busy": "2024-01-18T18:25:24.969659Z",
     "iopub.status.idle": "2024-01-18T18:25:24.978311Z",
     "shell.execute_reply": "2024-01-18T18:25:24.977333Z",
     "shell.execute_reply.started": "2024-01-18T18:25:24.970003Z"
    }
   },
   "source": [
    "### Create the conversion function `find_warm_level_or_time`. This will take some time."
   ]
  },
  {
   "cell_type": "code",
   "execution_count": null,
   "id": "915c1b5a-aaf4-4e74-9c10-e545a2d96553",
   "metadata": {
    "tags": []
   },
   "outputs": [],
   "source": [
    "lookup_tables = create_lookup_tables()\n",
    "find_warm_level_or_time = create_conversion_function(lookup_tables) "
   ]
  },
  {
   "cell_type": "markdown",
   "id": "f29b83be-a20e-4ed3-a5f6-c3bc92b043d3",
   "metadata": {},
   "source": [
    "### Find the year and month when a warming level is projected to be reached under SSP370."
   ]
  },
  {
   "cell_type": "code",
   "execution_count": null,
   "id": "11b53342-7d53-4458-bf28-b8517a3d49f0",
   "metadata": {
    "tags": []
   },
   "outputs": [],
   "source": [
    "find_warm_level_or_time(warming_level='1.5')"
   ]
  },
  {
   "cell_type": "code",
   "execution_count": null,
   "id": "5ca0d69e-4de7-4fb1-92c6-8ad5be4f14e2",
   "metadata": {
    "tags": []
   },
   "outputs": [],
   "source": [
    "find_warm_level_or_time(warming_level='2.0')"
   ]
  },
  {
   "cell_type": "code",
   "execution_count": null,
   "id": "16c29465-16eb-4b29-a520-651e8eb348d7",
   "metadata": {
    "tags": []
   },
   "outputs": [],
   "source": [
    "find_warm_level_or_time(warming_level='3.0')"
   ]
  },
  {
   "cell_type": "code",
   "execution_count": null,
   "id": "466ef021-284d-4d3d-855d-c92ff6efa0d1",
   "metadata": {
    "tags": []
   },
   "outputs": [],
   "source": [
    "find_warm_level_or_time(warming_level='4.0')"
   ]
  },
  {
   "cell_type": "markdown",
   "id": "3dee3866-09ab-401c-8b0d-eb562d9e1ab4",
   "metadata": {},
   "source": [
    "### Find the projected warming level for a year under SSP370."
   ]
  },
  {
   "cell_type": "code",
   "execution_count": null,
   "id": "12f7dd6b-e365-4879-9cad-abf1438a9a57",
   "metadata": {
    "tags": []
   },
   "outputs": [],
   "source": [
    "find_warm_level_or_time(year=2025)"
   ]
  },
  {
   "cell_type": "code",
   "execution_count": null,
   "id": "9a479297-7f07-47f7-9584-6abdd66ff43c",
   "metadata": {
    "tags": []
   },
   "outputs": [],
   "source": [
    "find_warm_level_or_time(year=2050)"
   ]
  },
  {
   "cell_type": "code",
   "execution_count": null,
   "id": "c3922f3b-7bed-49c0-abcd-07d80abdffbe",
   "metadata": {
    "tags": []
   },
   "outputs": [],
   "source": [
    "find_warm_level_or_time(year=2070)"
   ]
  },
  {
   "cell_type": "code",
   "execution_count": null,
   "id": "1f37c237-7d8f-499d-ad30-0dce0e0b3b65",
   "metadata": {
    "tags": []
   },
   "outputs": [],
   "source": [
    "find_warm_level_or_time(year=2100)"
   ]
  },
  {
   "cell_type": "markdown",
   "id": "8484334a-d9fb-4c0b-86c8-59f12d4ee0fe",
   "metadata": {},
   "source": [
    "## Tool 2"
   ]
  },
  {
   "cell_type": "code",
   "execution_count": null,
   "id": "65a4beb3-f3e6-4e15-aa92-12e2798f3133",
   "metadata": {},
   "outputs": [],
   "source": [
    "from climakitae.util.cluster import Cluster\n",
    "cluster = Cluster()\n",
    "cluster.adapt(minimum=0, maximum=43)\n",
    "client = cluster.get_client()\n",
    "client"
   ]
  },
  {
   "cell_type": "code",
   "execution_count": null,
   "id": "b3436870-d134-4ed6-9d88-a906357fe247",
   "metadata": {},
   "outputs": [],
   "source": [
    "# Create interactive panel\n",
    "panel, dropdown_val = create_interactive_panel()\n",
    "panel"
   ]
  },
  {
   "cell_type": "markdown",
   "id": "9faf9f3b-e39b-4ca1-81d1-c7d268bf3560",
   "metadata": {},
   "source": [
    "### Running Function and Visualizations of Simulations"
   ]
  },
  {
   "cell_type": "markdown",
   "id": "ed0e51a6-515a-4052-ae49-0be724e03fe8",
   "metadata": {},
   "source": [
    "With the below function, we can look at the distribution of LOCA simulations for a given lat/lon nearest-gridcell."
   ]
  },
  {
   "cell_type": "code",
   "execution_count": null,
   "id": "a318071e-6698-4d98-a472-b19e11a4153f",
   "metadata": {},
   "outputs": [],
   "source": [
    "%%time\n",
    "# Running function\n",
    "single_stats_gridcell, multiple_stats_gridcell, sorted_sims_gridcell = get_lat_lon_loca(37.8012, -122.2583, dropdown_val.value)"
   ]
  },
  {
   "cell_type": "markdown",
   "id": "11713e44-5b57-4664-92aa-1fbecdda299e",
   "metadata": {},
   "source": [
    "With the below function, we can look at the distribution of LOCA simulations across a selected dropdown value for the SCE service territory."
   ]
  },
  {
   "cell_type": "code",
   "execution_count": null,
   "id": "56d38026-1496-44e6-ac80-18b68fe20549",
   "metadata": {},
   "outputs": [],
   "source": [
    "%%time\n",
    "# Running function\n",
    "single_stats_area, sorted_sims_area = get_cached_area_loca(\"CA Electric Load Serving Entities (IOU & POU)\", 'Southern California Edison', dropdown_val.value)"
   ]
  },
  {
   "cell_type": "code",
   "execution_count": null,
   "id": "109094f8-383c-42ad-8e5b-2d22b165b5dd",
   "metadata": {},
   "outputs": [],
   "source": [
    "single_stats_area['min']"
   ]
  },
  {
   "cell_type": "markdown",
   "id": "76b68824-9b20-40aa-bdcd-21447e11b7c1",
   "metadata": {
    "tags": []
   },
   "source": [
    "#### Showing the different simulations"
   ]
  },
  {
   "cell_type": "code",
   "execution_count": null,
   "id": "ccd7b64c-9bc6-46d1-939c-c6ed2eb2efd0",
   "metadata": {},
   "outputs": [],
   "source": [
    "min_sim = single_stats_gridcell['min']\n",
    "min_sim"
   ]
  },
  {
   "cell_type": "code",
   "execution_count": null,
   "id": "5f0b3dbf-8205-4b87-9df5-422c66d68c60",
   "metadata": {},
   "outputs": [],
   "source": [
    "q1_sim = single_stats_gridcell['q1']\n",
    "q1_sim"
   ]
  },
  {
   "cell_type": "code",
   "execution_count": null,
   "id": "faf690b9-7bf8-4d95-9ce5-8a153e35b5fd",
   "metadata": {},
   "outputs": [],
   "source": [
    "med_sim = single_stats_gridcell['median']\n",
    "med_sim"
   ]
  },
  {
   "cell_type": "code",
   "execution_count": null,
   "id": "f084ee72-6e2d-4fc8-9595-99e98bf24220",
   "metadata": {},
   "outputs": [],
   "source": [
    "q3_sim = single_stats_gridcell['q3']\n",
    "q3_sim"
   ]
  },
  {
   "cell_type": "code",
   "execution_count": null,
   "id": "fab1519e-ccf1-4189-b06d-c02f905e3864",
   "metadata": {},
   "outputs": [],
   "source": [
    "max_sim = single_stats_gridcell['max']\n",
    "max_sim"
   ]
  },
  {
   "cell_type": "code",
   "execution_count": null,
   "id": "2fab0d28-c0cf-48d8-8cf5-20745e26d6ad",
   "metadata": {},
   "outputs": [],
   "source": [
    "# Finding statistics that return multiple simulations\n",
    "mid_10 = multiple_stats_gridcell['middle 10%']\n",
    "mid_10"
   ]
  },
  {
   "cell_type": "markdown",
   "id": "c292c297-77f7-41f4-8846-b6671cb72d50",
   "metadata": {},
   "source": [
    "#### Distribution"
   ]
  },
  {
   "cell_type": "code",
   "execution_count": null,
   "id": "54998ed6-9930-4a1b-b638-d89ffbc76334",
   "metadata": {},
   "outputs": [],
   "source": [
    "# Showing distribution of results\n",
    "\n",
    "### TODO: This is actually a visualization of a given gridcell, not of SCE service territory.\n",
    "plot_sims(sorted_sims_gridcell, dropdown_val.value)"
   ]
  },
  {
   "cell_type": "code",
   "execution_count": null,
   "id": "dd601eed-1b1a-4511-aaeb-00d8c5653a74",
   "metadata": {},
   "outputs": [],
   "source": [
    "# Showing distribution of results\n",
    "plot_sims(sorted_sims_area, dropdown_val.value)"
   ]
  }
 ],
 "metadata": {
  "kernelspec": {
   "display_name": "Python 3 (ipykernel)",
   "language": "python",
   "name": "python3"
  },
  "language_info": {
   "codemirror_mode": {
    "name": "ipython",
    "version": 3
   },
   "file_extension": ".py",
   "mimetype": "text/x-python",
   "name": "python",
   "nbconvert_exporter": "python",
   "pygments_lexer": "ipython3",
   "version": "3.9.13"
  }
 },
 "nbformat": 4,
 "nbformat_minor": 5
}
