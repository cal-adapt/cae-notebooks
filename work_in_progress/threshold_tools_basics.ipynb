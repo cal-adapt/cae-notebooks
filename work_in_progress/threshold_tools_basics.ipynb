{
 "cells": [
  {
   "cell_type": "markdown",
   "id": "0892c866-e625-4ed9-a7a3-7437b0c71372",
   "metadata": {
    "id": "0892c866-e625-4ed9-a7a3-7437b0c71372",
    "tags": []
   },
   "source": [
    "# Cal-Adapt Analytics Engine: Threshold Tools Basics"
   ]
  },
  {
   "cell_type": "markdown",
   "id": "f2f64bdd-38ab-431e-8b6c-85336b3a6495",
   "metadata": {
    "id": "f2f64bdd-38ab-431e-8b6c-85336b3a6495"
   },
   "source": [
    "A notebook on how to use the `climakitae` package and its `threshold_tools` to calculate values of interest related to extreme weather events including:\n",
    "- __return values__ (e.g., the value of a high temperature that will be reached once every 10 years, i.e., the value of a high temperature event with a 10-year return period)\n",
    "- __return probabilities__ (e.g., the probability of temperature exceeding 300 Kelvin)\n",
    "- __return periods__ (e.g., how often, on average, a 300 Kelvin monthly average temperature event will occur; how often, on average, a 150 mm daily precipitation event will occur)\n",
    "\n",
    "The notebook allows you to choose the data you want to use for the calculations. [Data available on the Analytics Engine](https://analytics.cal-adapt.org/data/) include future climate projections and historial climate data of multiple variables at different spatial resolutions, geographic locations, and temporal resolutions. You may also visualize the resulting values of interest on maps and export all results.\n",
    "\n",
    "In this notebook, return values, probabilities, and periods can be inferred from extreme weather events identified as the events with the maximum value in a year (e.g. the hottest hour in a year). To examine the changing frequency of events above or below a specific threshold value (e.g. critical value for infrastructure), please see the *threshold_tools_exceedance.ipynb* notebook. Development to use return value, probability, and return period calculation tools with threshold values instead of maximum values is currently ongoing.\n",
    "\n",
    "This notebook provides code to perform example analyses. Information on how to customize the code for your own analysis is also available.\n",
    "\n",
    "To execute a code 'cell' of this notebook, place the cursor in the cell and press the 'play' icon, or simply press shift+enter together. Some cells will take longer to run, and you will see a [∗] to the left of the cell while Analytics Engine is still working.\n",
    "\n",
    "\n",
    "The techniques in this notebook come from applications of extreme value theory to climate data. For further reading on this topic, see [Cooley 2009](https://link.springer.com/article/10.1007/s10584-009-9627-x)."
   ]
  },
  {
   "cell_type": "markdown",
   "id": "75e715a2-8aa5-4d1d-8ac1-3819d136136f",
   "metadata": {
    "id": "75e715a2-8aa5-4d1d-8ac1-3819d136136f"
   },
   "source": [
    "<a id='setup'></a>\n",
    "## Step 0: Setup"
   ]
  },
  {
   "cell_type": "markdown",
   "id": "8c38c4a0-96c7-41ec-b4e5-cc6f35f1b7e7",
   "metadata": {
    "id": "8c38c4a0-96c7-41ec-b4e5-cc6f35f1b7e7"
   },
   "source": [
    "### Import neccessary packages before running analysis"
   ]
  },
  {
   "cell_type": "code",
   "execution_count": null,
   "id": "06921645",
   "metadata": {
    "id": "06921645"
   },
   "outputs": [],
   "source": [
    "import panel as pn\n",
    "pn.extension()"
   ]
  },
  {
   "cell_type": "code",
   "execution_count": null,
   "id": "1700f497-f85b-4d74-8150-1cfc32a9e4d9",
   "metadata": {
    "id": "1700f497-f85b-4d74-8150-1cfc32a9e4d9",
    "tags": []
   },
   "outputs": [],
   "source": [
    "import xarray as xr\n",
    "\n",
    "import climakitae as ck\n",
    "from climakitae import threshold_tools"
   ]
  },
  {
   "cell_type": "markdown",
   "id": "ea90980b-aa82-442b-9e1e-ec809bde86c9",
   "metadata": {
    "id": "ea90980b-aa82-442b-9e1e-ec809bde86c9"
   },
   "source": [
    "### Load a new `climakitae` application"
   ]
  },
  {
   "cell_type": "code",
   "execution_count": null,
   "id": "8afd4668-4e0e-4386-9b91-39feb323d866",
   "metadata": {
    "id": "8afd4668-4e0e-4386-9b91-39feb323d866"
   },
   "outputs": [],
   "source": [
    "app = ck.Application()"
   ]
  },
  {
   "cell_type": "markdown",
   "id": "49d7b471-cf37-4f74-8d50-b29fd6f5bbc1",
   "metadata": {
    "id": "49d7b471-cf37-4f74-8d50-b29fd6f5bbc1"
   },
   "source": [
    "<a id='sel'></a>\n",
    "## Step 1: Select and retrieve data of interest"
   ]
  },
  {
   "cell_type": "markdown",
   "id": "563ce1e6-ad03-43bb-b6ad-d5a26016230f",
   "metadata": {
    "id": "563ce1e6-ad03-43bb-b6ad-d5a26016230f"
   },
   "source": [
    "### Select data"
   ]
  },
  {
   "cell_type": "markdown",
   "id": "53bd3073-285a-492d-b914-3919559cfaa3",
   "metadata": {
    "id": "53bd3073-285a-492d-b914-3919559cfaa3"
   },
   "source": [
    "In the code cell below, the `app.select()` function of the `climakitae` app displays an interface for data selection. The selected data will be used to calculate return values, probabilities, and periods.\n",
    "\n",
    "To perform the example analyses provided later in the notebook, use the area subset option dropdown option (displayed in `app.select()` below the inset map) to subset the data to the state of California (CA). Otherwise, you can keep the default options displayed by the panel the same.\n",
    "\n",
    "To learn more about the data available on the Analytics Engine, see our [data catalog](https://analytics.cal-adapt.org/data/). The *getting_started.ipynb* notebook contains additional explanations of the data.\n",
    "\n",
    "<span style=\"color:red\"><b>Warning:</b></span> Ensure that you __don't__ compute an area average across grid cells within your selected region. You can achieve this by setting the area average option to **No** in the second tab on the interface.\n",
    "\n",
    "__Note:__\n",
    "- This version only offers the [dynamically-downscaled](https://dept.atmos.ucla.edu/alexhall/downscaling-cmip6) data.\n",
    "- If you select 'daily' for 'Timescale', it will result in a daily aggregation of the hourly data. If you select 'monthly' for 'Timescale', it will result in a monthly aggregation of the daily data. The aggregation can be average, maximum, or sum as appropriate for the data variable.\n",
    "\n",
    "__Tip:__ When performing your own analysis with __Future Model Data__, select just one scenario. It helps to streamline the analysis."
   ]
  },
  {
   "cell_type": "code",
   "execution_count": null,
   "id": "1fff8052-489f-4182-8dee-c165fd1b53a6",
   "metadata": {
    "id": "1fff8052-489f-4182-8dee-c165fd1b53a6",
    "tags": []
   },
   "outputs": [],
   "source": [
    "app.select()"
   ]
  },
  {
   "cell_type": "markdown",
   "id": "c042d793-725f-4fe4-ac60-33c5c00b6a62",
   "metadata": {
    "id": "c042d793-725f-4fe4-ac60-33c5c00b6a62"
   },
   "source": [
    "### Retrieve data"
   ]
  },
  {
   "cell_type": "markdown",
   "id": "aa0850bb-5ae1-47da-b228-ba6651438d4e",
   "metadata": {
    "id": "aa0850bb-5ae1-47da-b228-ba6651438d4e"
   },
   "source": [
    "Run `app.retrieve()` to load the data selected above."
   ]
  },
  {
   "cell_type": "code",
   "execution_count": null,
   "id": "5c0a0be4-c09f-4e56-8edc-d47eacfa539c",
   "metadata": {
    "id": "5c0a0be4-c09f-4e56-8edc-d47eacfa539c",
    "scrolled": true,
    "tags": []
   },
   "outputs": [],
   "source": [
    "generated_data = app.retrieve()"
   ]
  },
  {
   "cell_type": "markdown",
   "id": "6021719d-ddc9-43bb-a4ee-ce5de5c1299c",
   "metadata": {
    "id": "6021719d-ddc9-43bb-a4ee-ce5de5c1299c"
   },
   "source": [
    "__Note:__ The code cell above may take several minutes. When it finishes running, you can preview the loaded data below. The data will be stored as a `DataArray` object called `generated_data`. Learn more about `DataArray` [here](http://gallery.pangeo.io/repos/pangeo-data/pangeo-tutorial-gallery/xarray.html#Xarray-data-structures).\n",
    "\n",
    "__Tip:__ In Step 2, you will subset the data by one scenario and and one simulation. Available scenarios and simulations can also be found in the data preview."
   ]
  },
  {
   "cell_type": "code",
   "execution_count": null,
   "id": "a83e3d37-6d65-45c9-b137-08a4c2e07218",
   "metadata": {
    "id": "a83e3d37-6d65-45c9-b137-08a4c2e07218"
   },
   "outputs": [],
   "source": [
    "generated_data"
   ]
  },
  {
   "cell_type": "markdown",
   "id": "5dBpO1XXzWWj",
   "metadata": {
    "id": "5dBpO1XXzWWj"
   },
   "source": [
    "<a id='transform'></a>\n",
    "## Step 2: Transform data to prepare for calculations"
   ]
  },
  {
   "cell_type": "markdown",
   "id": "4d505537-5ebe-4004-9113-12e02c447be6",
   "metadata": {
    "id": "4d505537-5ebe-4004-9113-12e02c447be6"
   },
   "source": [
    "### Subset data by scenario and simulation to prepare it for `threshold_tools` functions"
   ]
  },
  {
   "cell_type": "markdown",
   "id": "1-yg98_0e3jr",
   "metadata": {
    "id": "1-yg98_0e3jr"
   },
   "source": [
    "Currently, `threshold_tools` functions that perform the calculations requires an input `DataArray` where there is only one scenario and one simulation selected. Replace `scenario=` and `simulation=` with the particular selections that are present in your data. \n",
    "\n",
    "__Tip:__ Available selections can be found in the preview of `generated_data` in Step 1.\n",
    "\n",
    "The example code selects 'historical' as the scenario and 'cnrm-esm2-1' as the simulation. The resulting `subsetted_data` is a `DataArray` that contains one value for each grid cell at each timestamp."
   ]
  },
  {
   "cell_type": "code",
   "execution_count": null,
   "id": "d687a334-28b1-4281-a4b6-2d0190daec48",
   "metadata": {
    "id": "d687a334-28b1-4281-a4b6-2d0190daec48"
   },
   "outputs": [],
   "source": [
    "subsetted_data = generated_data.sel(scenario='historical').sel(simulation='WRF_CNRM-ESM2-1_r1i1p1f2')\n",
    "subsetted_data"
   ]
  },
  {
   "cell_type": "markdown",
   "id": "FFSZAY-zeAPo",
   "metadata": {
    "id": "FFSZAY-zeAPo"
   },
   "source": [
    "__Note:__ All the following calculations are performed on individual grid cells."
   ]
  },
  {
   "cell_type": "markdown",
   "id": "2efcbeb2-d4d8-4756-8ab0-050ae79aa75f",
   "metadata": {
    "id": "2efcbeb2-d4d8-4756-8ab0-050ae79aa75f"
   },
   "source": [
    "### Pull Annual Maximum Series (AMS) for all grid cells"
   ]
  },
  {
   "cell_type": "markdown",
   "id": "fd019335-b8f9-45ea-938f-34d5619a5853",
   "metadata": {
    "id": "fd019335-b8f9-45ea-938f-34d5619a5853"
   },
   "source": [
    "This is the first step of extreme value analysis -- identifying what conditions are extreme. In this example, we default to considering each annual maximum value as a sample of an extreme event. Here, extreme events are evaluated using the annual block maxima approach, which determines the maximum value within a given block period (year). Because this approach considers only the maximum, it is limited when multiple extremes occur in a single year, since some of the extremes (that may be more extreme than the maxima in subsequent years) are excluded. This limitation makes the tools in this notebook not ideal for California in cases such as atmospheric river events or evaluating extreme wet and dry years. \n",
    "\n",
    "After pulling the AMS, run `app.load` to bring the data down to an appropriate size for later computations.\n",
    "\n",
    "__Note:__ Running `app.load` may take several minutes."
   ]
  },
  {
   "cell_type": "code",
   "execution_count": null,
   "id": "22452c68-35c3-42af-907d-a776851422ce",
   "metadata": {
    "collapsed": true,
    "id": "22452c68-35c3-42af-907d-a776851422ce",
    "jupyter": {
     "outputs_hidden": true
    },
    "tags": []
   },
   "outputs": [],
   "source": [
    "ams = threshold_tools.get_ams(subsetted_data, extremes_type='max')\n",
    "ams = app.load(ams) \n",
    "ams"
   ]
  },
  {
   "cell_type": "markdown",
   "id": "WWWEVNARXbKx",
   "metadata": {
    "id": "WWWEVNARXbKx"
   },
   "source": [
    "<a id='calc'></a>\n",
    "## Step 3: Calculate values of interest"
   ]
  },
  {
   "cell_type": "markdown",
   "id": "xsauAth1yPfj",
   "metadata": {
    "id": "xsauAth1yPfj"
   },
   "source": [
    "__Note:__ All calculated values will be stored in `Dataset` objects. Learn more about them [here](http://gallery.pangeo.io/repos/pangeo-data/pangeo-tutorial-gallery/xarray.html#Xarray-data-structures)."
   ]
  },
  {
   "cell_type": "markdown",
   "id": "foba6A9dqxKi",
   "metadata": {
    "id": "foba6A9dqxKi"
   },
   "source": [
    "### 3a) Find a distribution to use for calculation"
   ]
  },
  {
   "cell_type": "markdown",
   "id": "kNgoinr3CIzH",
   "metadata": {
    "id": "kNgoinr3CIzH"
   },
   "source": [
    "Calculating return values, probabilities, and periods requires [fitting a probability distribution](https://en.wikipedia.org/wiki/Probability_distribution_fitting) to the annual maximum data values computed in Step 2. Step 3a) contains tools for finding a distribution that fits the data well. You can select among a list of distributions and evalute how well a selected distribution fits the annual maximum data values. The evaluation is conducted through a goodness of fit statistical test. You can also visualize the test results on a map."
   ]
  },
  {
   "cell_type": "markdown",
   "id": "aC2IE8I409T4",
   "metadata": {
    "id": "aC2IE8I409T4"
   },
   "source": [
    "#### Test goodness of fit of selected distribution"
   ]
  },
  {
   "cell_type": "markdown",
   "id": "MjEiEvJL-ytA",
   "metadata": {
    "id": "MjEiEvJL-ytA"
   },
   "source": [
    "The `get_ks_stat` function of `threshold_tools` performs the [KS goodness of fit test](https://en.wikipedia.org/wiki/Kolmogorov%E2%80%93Smirnov_test). The test can be used to evaluate the fit between data and a reference probability distribution. Specifically, the function tests the null hypothesis that the input data are distributed according to the selected distribution. The alternative hypothesis is that the data are _not_ distributed according to the distribution. The function outputs p-values from the tests. At the confidence level of 95%, the null hypothesis should be rejected in favor of the alternative if the p-value is less than the critical value of 0.05, suggesting that the selected distribution _doesn't_ fit the data well.\n",
    "\n",
    "The example code performs the KS test on the AMS data with the generalized extreme value (GEV) distribution as the reference distribution.\n",
    "\n",
    "Below is a full list of reference distributions that can be specified in the `distr=` part the `get_ks_stat` function, along with information on the situations in which each distribution is often used.\n",
    "\n",
    "- __gev__ - Generalized extreme value (GEV) distribution - allows for a continuous range of different shapes, and will reduce to the Gumbel, Weibull, and Generalized Pareto distributions under different conditions. The GEV distribution may generally provide a better fit than the three individual distributions, and is a common distribution used in hydrological applications.\n",
    "- __gumbel__ - Gumbel distribution - Range of interest is unlimited\n",
    "- __weibull__ - Weibull distribution - Range of interest has an upper limit\n",
    "- __pearson3__ - Pearson Type III distribution - Range of interest has a lower limit\n",
    "- __genpareto__ - Generalized Pareto distribution - This distribution is often used in application for river flood events and suggested to be of a good general fit for precipitation in the United States.\n"
   ]
  },
  {
   "cell_type": "code",
   "execution_count": null,
   "id": "e3eff081-3555-43fe-9b93-ad5c9ae32d7a",
   "metadata": {
    "collapsed": true,
    "id": "e3eff081-3555-43fe-9b93-ad5c9ae32d7a",
    "jupyter": {
     "outputs_hidden": true
    },
    "tags": []
   },
   "outputs": [],
   "source": [
    "goodness_of_fit = threshold_tools.get_ks_stat(ams, distr='gev', multiple_points=True)\n",
    "goodness_of_fit"
   ]
  },
  {
   "cell_type": "markdown",
   "id": "ttJh3rYl5Qmc",
   "metadata": {
    "id": "ttJh3rYl5Qmc"
   },
   "source": [
    "Evaluate the p-values in the `goodness_of_fit` `Dataset` to ensure the selected distribution fits the data well. Once you have identified a distribution with satisfactory goodness of fit, please proceed to Step 3b) to calculate return values, probabilities, and/or periods.\n",
    "\n",
    "__Tip:__ You may also map the p-values below. "
   ]
  },
  {
   "cell_type": "markdown",
   "id": "94a24f65-6eba-44d3-8366-220a28f04eff",
   "metadata": {
    "id": "94a24f65-6eba-44d3-8366-220a28f04eff"
   },
   "source": [
    "#### Visualize goodness of fit test results"
   ]
  },
  {
   "cell_type": "markdown",
   "id": "ff96b922-711a-49ec-8566-3a3c4500a939",
   "metadata": {
    "id": "ff96b922-711a-49ec-8566-3a3c4500a939"
   },
   "source": [
    "Observe a geospatial map of p-values from the KS test to ensure the selected distribution fits the data well. The p-values should be above the critical value associated with your desired level of confidence.\n",
    "\n",
    "If you have been following the example code, notice the p-values are all above 0.05, so at the 95% confidence level, the GEV distribution fits the AMS well."
   ]
  },
  {
   "cell_type": "code",
   "execution_count": null,
   "id": "6b9a7db3-34de-44fa-93b0-04f38b39dba6",
   "metadata": {
    "collapsed": true,
    "id": "6b9a7db3-34de-44fa-93b0-04f38b39dba6",
    "jupyter": {
     "outputs_hidden": true
    },
    "tags": []
   },
   "outputs": [],
   "source": [
    "threshold_tools.get_geospatial_plot(goodness_of_fit, data_variable='p_value')"
   ]
  },
  {
   "cell_type": "markdown",
   "id": "ovntWRE3roW6",
   "metadata": {
    "id": "ovntWRE3roW6"
   },
   "source": [
    "### 3b) Calculate values of interest using a distribution that fits the data well"
   ]
  },
  {
   "cell_type": "markdown",
   "id": "5ab6c1af-24fb-470b-97a7-f3b355a18874",
   "metadata": {
    "id": "5ab6c1af-24fb-470b-97a7-f3b355a18874"
   },
   "source": [
    "#### Calculate return value for a selected return period"
   ]
  },
  {
   "cell_type": "markdown",
   "id": "VxTkdPfJmPsI",
   "metadata": {
    "id": "VxTkdPfJmPsI"
   },
   "source": [
    "The `get_return_value` function in `threshold_tools` calculates the return value for a certain return period (i.e., 1-in-X-year event). Confidence intervals of the return values can also be calculated.\n",
    "\n",
    "The example code calculates the return value for a 1-in-10-year extreme high monthly average temperature event. The return values are inferred from GEV distributions fitted to the AMS. A hundred bootstrap samples are also used to calculate 95% confidence intervals.\n",
    "\n",
    "To perform your own analysis, specify `distr=` as the distribution you found in Step 3a), and `return_period=` as the return period of your interest (in years). You may also specify a different number of bootstrap samples used to calculate confidence intervals, as well as different lower and upper bounds of the confidence intervals. \n",
    "\n",
    "__Tip:__ `bootstrap_runs`, `conf_int_lower_bound`, and `conf_int_upper_bound` are set to the default values in the example. If you want to perform the analysis with these default values, you don't need to specify them explicitly. For instance, the example code is equivalent to `threshold_tools.get_return_value(ams, return_period=10, distr='gev', multiple_points=True)`\n"
   ]
  },
  {
   "cell_type": "code",
   "execution_count": null,
   "id": "4c0cd847-1a20-4abc-a1b8-a84e7e1debe1",
   "metadata": {
    "id": "4c0cd847-1a20-4abc-a1b8-a84e7e1debe1"
   },
   "outputs": [],
   "source": [
    "return_value = threshold_tools.get_return_value(\n",
    "    ams, return_period=10, distr='gev',\n",
    "    bootstrap_runs=100,\n",
    "    conf_int_lower_bound=2.5,\n",
    "    conf_int_upper_bound=97.5,\n",
    "    multiple_points=True\n",
    ")\n",
    "return_value"
   ]
  },
  {
   "cell_type": "markdown",
   "id": "QSL3hggX0ltB",
   "metadata": {
    "id": "QSL3hggX0ltB"
   },
   "source": [
    "Examine the results in the `return_value` `Dataset`, proceed to calculate the next value of your interest, or visualize `return_value` [here](#vis_return_value) in Step 4."
   ]
  },
  {
   "cell_type": "markdown",
   "id": "61e8fd0d-25f4-4dfa-914b-00ae70acaf5a",
   "metadata": {
    "id": "61e8fd0d-25f4-4dfa-914b-00ae70acaf5a"
   },
   "source": [
    "#### Calculate return probability of exceedance of selected threshold"
   ]
  },
  {
   "cell_type": "markdown",
   "id": "MHFnBmt-11jv",
   "metadata": {
    "id": "MHFnBmt-11jv"
   },
   "source": [
    "The `get_return_prob` function in `threshold_tools` calculates the probability of a variable exceeding a certain threshold. Confidence intervals of the return probabilities can also be calculated.\n",
    "\n",
    "The example code calculates the probability of monthly average temperature exceeding 300 Kelvin. The return probabilities are inferred from Pearson Type III distributions fitted to the AMS. By default, a hundred bootstrap samples are also used to calculate 95% confidence intervals.\n",
    "\n",
    "__Note:__ The number of bootstrap samples and the confidence level of confidence intervals are not specified explicitly in the example code, and are therefore set to the default values: `bootstrap_runs=100, conf_int_lower_bound=2.5, conf_int_upper_bound=97.5`.\n",
    "\n",
    "To perform your own analysis, specify `distr=` as the distribution you found in Step 3a), and `threshold=` as the threshold of your interest. The unit of the threshold is assumed to be the same as that of the data variable in the AMS. You may also specify the number of bootstrap samples (using `bootstrap_runs=`), as well as the lower and upper bounds of the confidence intervals (using `conf_int_lower_bound=` and `conf_int_upper_bound=`)."
   ]
  },
  {
   "cell_type": "code",
   "execution_count": null,
   "id": "a65eb953-e638-4328-9268-89578770e3d3",
   "metadata": {
    "id": "a65eb953-e638-4328-9268-89578770e3d3"
   },
   "outputs": [],
   "source": [
    "return_prob = threshold_tools.get_return_prob(ams, threshold=300, distr='pearson3', multiple_points=True)\n",
    "return_prob"
   ]
  },
  {
   "cell_type": "markdown",
   "id": "9oRk02rTO-sW",
   "metadata": {
    "id": "9oRk02rTO-sW"
   },
   "source": [
    "Examine the results in the `return_prob` `Dataset`, proceed to calculate the next value of your interest, or visualize `return_prob` [here](#vis_return_prob) in the Step 4."
   ]
  },
  {
   "cell_type": "markdown",
   "id": "7a71a999-18fb-441f-b458-b873891faf64",
   "metadata": {
    "id": "7a71a999-18fb-441f-b458-b873891faf64"
   },
   "source": [
    "#### Calculate return period for a selected return value"
   ]
  },
  {
   "cell_type": "markdown",
   "id": "gKvdSxKEBt8H",
   "metadata": {
    "id": "gKvdSxKEBt8H"
   },
   "source": [
    "The `get_return_period` function in `threshold_tools` calculates the return period (i.e., 1-in-X-year) for a certain return value. Confidence intervals of the return periods can also be calculated.\n",
    "\n",
    "The example code calculates the return period of 300 Kelvin events. The return periods are inferred from Weibull distributions fitted to the AMS. By default, a hundred bootstrap samples are also used to calculate 95% confidence intervals.\n",
    "\n",
    "__Note:__ The number of bootstrap samples and the confidence level of confidence intervals are not specified explicitly in the example code, and are therefore set to the default values: `bootstrap_runs=100, conf_int_lower_bound=2.5, conf_int_upper_bound=97.5`.\n",
    "\n",
    "To perform your own analysis, specify `distr=` as the distribution you found in Step 3a), and `return_value=` as the threshold of your interest. The unit of the return value is assumed to be the same as that of the data variable in the AMS. You may also specify the number of bootstrap samples (using `bootstrap_runs=`), as well as the lower and upper bounds of the confidence intervals (using `conf_int_lower_bound=` and `conf_int_upper_bound=`)."
   ]
  },
  {
   "cell_type": "code",
   "execution_count": null,
   "id": "9233d090-f8b3-4274-b091-1cef479ffe38",
   "metadata": {
    "id": "9233d090-f8b3-4274-b091-1cef479ffe38"
   },
   "outputs": [],
   "source": [
    "return_period = threshold_tools.get_return_period(ams, return_value=300, distr='weibull', multiple_points=True)\n",
    "return_period"
   ]
  },
  {
   "cell_type": "markdown",
   "id": "0NK5fe95OzfH",
   "metadata": {
    "id": "0NK5fe95OzfH"
   },
   "source": [
    "Examine the results in the `return_period` `Dataset`, or visualize `return_period` [here](#vis_return_period) in the Step 4."
   ]
  },
  {
   "cell_type": "markdown",
   "id": "cd12d449-7a22-4533-8c9f-0cd65f3ee2f7",
   "metadata": {
    "id": "cd12d449-7a22-4533-8c9f-0cd65f3ee2f7"
   },
   "source": [
    "<a id='vis'></a>\n",
    "## Step 4: Visualize values of interest"
   ]
  },
  {
   "cell_type": "markdown",
   "id": "2I0nQTRcfhU1",
   "metadata": {
    "id": "2I0nQTRcfhU1"
   },
   "source": [
    "This step allows you to visualize the `Dataset` outputs from Step 3b)."
   ]
  },
  {
   "cell_type": "markdown",
   "id": "808801af-932a-43d4-9e24-7efa36f884df",
   "metadata": {
    "id": "808801af-932a-43d4-9e24-7efa36f884df"
   },
   "source": [
    "<a id='vis_return_value'></a>\n",
    "### Visualize return value"
   ]
  },
  {
   "cell_type": "markdown",
   "id": "042212f2-09ec-45be-8d97-4c5526482acc",
   "metadata": {
    "id": "042212f2-09ec-45be-8d97-4c5526482acc"
   },
   "source": [
    "Observe a geospatial map of return values for selected return period."
   ]
  },
  {
   "cell_type": "code",
   "execution_count": null,
   "id": "e6daf6f5-52d5-48da-b2a6-99cef16bdf0d",
   "metadata": {
    "id": "e6daf6f5-52d5-48da-b2a6-99cef16bdf0d"
   },
   "outputs": [],
   "source": [
    "threshold_tools.get_geospatial_plot(return_value, data_variable='return_value')"
   ]
  },
  {
   "cell_type": "markdown",
   "id": "b49e0227-d97d-4f95-b82b-bbd2cc30ea82",
   "metadata": {
    "id": "b49e0227-d97d-4f95-b82b-bbd2cc30ea82"
   },
   "source": [
    "<a id='vis_return_prob'></a>\n",
    "### Visualize return probability"
   ]
  },
  {
   "cell_type": "markdown",
   "id": "2bb4e1e7-33f0-44c7-8bed-2537e30e0cd6",
   "metadata": {
    "id": "2bb4e1e7-33f0-44c7-8bed-2537e30e0cd6"
   },
   "source": [
    "Observe a geospatial map of return probabilities of exceedance of selected threshold."
   ]
  },
  {
   "cell_type": "code",
   "execution_count": null,
   "id": "62c71b4c-9627-44c8-83b1-d49fb3050fb7",
   "metadata": {
    "id": "62c71b4c-9627-44c8-83b1-d49fb3050fb7"
   },
   "outputs": [],
   "source": [
    "threshold_tools.get_geospatial_plot(return_prob, data_variable='return_prob')"
   ]
  },
  {
   "cell_type": "markdown",
   "id": "251f4a84-25f2-453e-80ba-3ecc1916fbca",
   "metadata": {
    "id": "251f4a84-25f2-453e-80ba-3ecc1916fbca"
   },
   "source": [
    "<a id='vis_return_period'></a>\n",
    "### Visualize return period"
   ]
  },
  {
   "cell_type": "markdown",
   "id": "5a7702ce-7bdb-4792-8592-8d58441c7623",
   "metadata": {
    "id": "5a7702ce-7bdb-4792-8592-8d58441c7623"
   },
   "source": [
    "Observe a geospatial map of return periods for selected return value."
   ]
  },
  {
   "cell_type": "code",
   "execution_count": null,
   "id": "968a2715-a854-4fe2-b3b5-92f724f9f86d",
   "metadata": {
    "id": "968a2715-a854-4fe2-b3b5-92f724f9f86d"
   },
   "outputs": [],
   "source": [
    "threshold_tools.get_geospatial_plot(return_period, data_variable='return_period', bar_max=1000)"
   ]
  },
  {
   "cell_type": "markdown",
   "id": "TJ5ypwAvp-mY",
   "metadata": {
    "id": "TJ5ypwAvp-mY"
   },
   "source": [
    "When you are done with Step 4, you may export results in [Step 5](#export), or clean up the notebook in [Step 6](#end).\n"
   ]
  },
  {
   "cell_type": "markdown",
   "id": "b9688a2a-e72b-4239-b8fb-56ae8080bdc5",
   "metadata": {
    "id": "b9688a2a-e72b-4239-b8fb-56ae8080bdc5"
   },
   "source": [
    "<a id='export'></a>\n",
    "## Step 5: Export results\n",
    "\n",
    "To export any `DataArray` or `Dataset` object in the notebook (the AMS, the return values, etc.), first execute the following code cell and pick a file format.\n",
    "\n",
    "__Tip:__ We recommend the NetCDF file format, which will work with any number of dimensions in your `DataArray` or `Dataset`."
   ]
  },
  {
   "cell_type": "code",
   "execution_count": null,
   "id": "eca5edd7-acee-427b-a4a5-e74fb425d7a0",
   "metadata": {
    "id": "eca5edd7-acee-427b-a4a5-e74fb425d7a0"
   },
   "outputs": [],
   "source": [
    "app.export_as()"
   ]
  },
  {
   "cell_type": "markdown",
   "id": "4cb3a817-9313-49d0-9fac-ae4810f63110",
   "metadata": {
    "id": "4cb3a817-9313-49d0-9fac-ae4810f63110"
   },
   "source": [
    "Next, specify the `DataArray` or `Dataset` object you wish to export and your desired file name (in single or double quotation marks)."
   ]
  },
  {
   "cell_type": "code",
   "execution_count": null,
   "id": "3211a176-e026-463c-b479-05b8b735bf9d",
   "metadata": {
    "id": "3211a176-e026-463c-b479-05b8b735bf9d"
   },
   "outputs": [],
   "source": [
    "app.export_dataset(return_period, 'my_filename_1')"
   ]
  },
  {
   "cell_type": "markdown",
   "id": "087c0d3d-e96d-4134-b37f-7c90db035154",
   "metadata": {
    "id": "087c0d3d-e96d-4134-b37f-7c90db035154"
   },
   "source": [
    "If you would like to save data as a CSV or GeoTIFF file, __please note:__\n",
    "\n",
    "- CSV and GeoTIFF can only be used for `DataArray`\n",
    "- CSV works the best for up to 2-dimensional data (e.g., lon x lat), and will be compressed and exported with a separate metadata file\n",
    "- GeoTIFF can accept 3 dimensions in total:\n",
    "    - x and y dimensions are required\n",
    "    - The third dimension is flexible and will be a \"band\" in the file: time, simulation, or scenario could go here\n",
    "    - Metadata will be accessible as \"tags\" in the .tif file\n",
    "    \n"
   ]
  },
  {
   "cell_type": "markdown",
   "id": "XuuVcrS1012j",
   "metadata": {
    "id": "XuuVcrS1012j"
   },
   "source": [
    "To export a `Dataset` as a CSV or GeoTIFF file, please subset it with your desired variable first, then select either CSV or GeoTIFF as your format (NetCDF will also work). For example:"
   ]
  },
  {
   "cell_type": "code",
   "execution_count": null,
   "id": "c042aac6-980e-4b66-b3b0-eaa2f9179e7a",
   "metadata": {
    "id": "c042aac6-980e-4b66-b3b0-eaa2f9179e7a"
   },
   "outputs": [],
   "source": [
    "variable = 'return_period'\n",
    "return_period_variable = return_period[variable]"
   ]
  },
  {
   "cell_type": "code",
   "execution_count": null,
   "id": "ebccea83-07bf-41d6-b263-9aa137861b3f",
   "metadata": {
    "id": "ebccea83-07bf-41d6-b263-9aa137861b3f"
   },
   "outputs": [],
   "source": [
    "app.export_as()"
   ]
  },
  {
   "cell_type": "code",
   "execution_count": null,
   "id": "f7662a3c-be83-41d7-b65f-1ce968fc99d1",
   "metadata": {
    "id": "f7662a3c-be83-41d7-b65f-1ce968fc99d1"
   },
   "outputs": [],
   "source": [
    "app.export_dataset(return_period_variable, 'my_filename_2')"
   ]
  },
  {
   "cell_type": "markdown",
   "id": "sCTvk13XkTbV",
   "metadata": {
    "id": "sCTvk13XkTbV"
   },
   "source": [
    "<a id='end'></a>\n",
    "## Step 6: Clean up"
   ]
  },
  {
   "cell_type": "markdown",
   "id": "b57e04f1-c3eb-40dd-806f-06e2e86b5c05",
   "metadata": {
    "id": "b57e04f1-c3eb-40dd-806f-06e2e86b5c05"
   },
   "source": [
    "Lastly, when you are done, close your cluster resources to free them up for the next time you work. "
   ]
  },
  {
   "cell_type": "code",
   "execution_count": null,
   "id": "e23c484c-b1c8-444f-875c-55296dfca12d",
   "metadata": {
    "id": "e23c484c-b1c8-444f-875c-55296dfca12d"
   },
   "outputs": [],
   "source": [
    "cluster.close()"
   ]
  }
 ],
 "metadata": {
  "colab": {
   "provenance": []
  },
  "kernelspec": {
   "display_name": "Python 3 (ipykernel)",
   "language": "python",
   "name": "python3"
  },
  "language_info": {
   "codemirror_mode": {
    "name": "ipython",
    "version": 3
   },
   "file_extension": ".py",
   "mimetype": "text/x-python",
   "name": "python",
   "nbconvert_exporter": "python",
   "pygments_lexer": "ipython3",
   "version": "3.9.13"
  }
 },
 "nbformat": 4,
 "nbformat_minor": 5
}
