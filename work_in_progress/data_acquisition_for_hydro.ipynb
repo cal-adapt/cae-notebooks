{
 "cells": [
  {
   "cell_type": "markdown",
   "id": "ef2ead23-9cb0-4182-9f61-8d37a2debf1f",
   "metadata": {},
   "source": [
    "### Climate Data Acquisition for Hydrological Renewables\n",
    "\n",
    "This notebook quickly walks through how to access AE data at 9km for several variables:\n",
    "- Precipitation (mm/day)\n",
    "- Min and max temperature (degC)\n",
    "- Relative humidity (%)\n",
    "- Mean wind speed (m/s)\n",
    "\n",
    "At present, this notebook sets-up access the historical dynamically downscaled WRF simulations. \n",
    "\n",
    "#### Step 0: Set-up\n",
    "Import the climakitae library and other dependencies."
   ]
  },
  {
   "cell_type": "code",
   "execution_count": null,
   "id": "f2235890-5eef-4f4d-9350-b3aa7144bd20",
   "metadata": {
    "tags": []
   },
   "outputs": [],
   "source": [
    "import climakitae as ck\n",
    "import xarray as xr\n",
    "import numpy as np"
   ]
  },
  {
   "cell_type": "markdown",
   "id": "1fc44e80-3fef-4fe3-ad63-dcda867b4c13",
   "metadata": {},
   "source": [
    "#### Step 1: Grab and process all required input data\n",
    "Two important notes:\n",
    "1. Not all models in the Cal-Adapt: Analytics Engine have the solar variables critical for renewables generation - only 4 out of 8 do. We will carefully subset our variables to ensure that the same 4 models are selected for consistency. However, if you need the other models, comment out (by adding a `#` symbol) to the lines of code below that are noted for subsetting for specific models.\n",
    "2. The dynamically downscaled WRF data in the Cal-Adapt: Analytics Engine is in UTC time."
   ]
  },
  {
   "cell_type": "code",
   "execution_count": null,
   "id": "430c68d8-0cc7-46c1-9943-2d5b53072f69",
   "metadata": {
    "tags": []
   },
   "outputs": [],
   "source": [
    "selections = ck.Select()\n",
    "\n",
    "# default selections applicable to all variables selected\n",
    "selections.data_type = \"Gridded\"\n",
    "selections.area_average = \"No\"\n",
    "selections.scenario_historical = [\"Historical Climate\"]\n",
    "selections.timescale = \"hourly\"\n",
    "selections.resolution = \"9 km\"\n",
    "selections.area_subset = \"states\"\n",
    "selections.cached_area = ['CA']"
   ]
  },
  {
   "cell_type": "code",
   "execution_count": null,
   "id": "570c2bf2-7106-4e55-a057-6b4c7465814b",
   "metadata": {
    "tags": []
   },
   "outputs": [],
   "source": [
    "# these 4 models are consistent with the solar/wind efforts\n",
    "data_models = ['WRF_MIROC6_r1i1p1f1', 'WRF_TaiESM1_r1i1p1f1', 'WRF_EC-Earth3_r1i1p1f1', 'WRF_MPI-ESM1-2-HR_r3i1p1f1']"
   ]
  },
  {
   "cell_type": "markdown",
   "id": "c9190c2a-57d8-4d85-bf78-7e70529e9ce4",
   "metadata": {},
   "source": [
    "Now that we have set up default settings, let's start retrieving data. We will need to aggregate variables to daily timescales for the following variables:"
   ]
  },
  {
   "cell_type": "code",
   "execution_count": null,
   "id": "7b136b53-1e9f-49d6-9e79-0cdf43635734",
   "metadata": {
    "tags": []
   },
   "outputs": [],
   "source": [
    "# air temperature\n",
    "selections.variable = \"Air Temperature at 2m\"\n",
    "selections.units = \"degC\"\n",
    "temp_data = selections.retrieve()\n",
    "temp_data = temp_data.sel(simulation = data_models) # subset for specific models\n",
    "\n",
    "# max air temp\n",
    "max_airtemp_data = temp_data.resample(time=\"1D\").max() # daily max air temp\n",
    "max_airtemp_data.name = \"Daily max air temperature\" # rename for clarity\n",
    "\n",
    "# min air temp\n",
    "min_airtemp_data = temp_data.resample(time=\"1D\").min() # daily min air temp\n",
    "min_airtemp_data.name = \"Daily min air temperature\" # rename for clarity"
   ]
  },
  {
   "cell_type": "code",
   "execution_count": null,
   "id": "b28ec782-1637-4658-8bf8-0d69fab3cc11",
   "metadata": {
    "tags": []
   },
   "outputs": [],
   "source": [
    "# precipitation (split across two variables that we will sum)\n",
    "selections.variable = \"Precipitation (cumulus portion only)\"\n",
    "selections.units = \"mm/day\"\n",
    "precip_cumulus_data = selections.retrieve()\n",
    "precip_cumulus_data = precip_cumulus_data.sel(simulation = data_models) # subset for specific models\n",
    "\n",
    "selections.variable = \"Precipitation (grid-scale portion only)\"\n",
    "selections.units = \"mm/day\"\n",
    "precip_grid_data = selections.retrieve()\n",
    "precip_grid_data = precip_grid_data.sel(simulation = data_models) # subset for specific models\n",
    "\n",
    "# sum precipitation together and aggregate to daily\n",
    "precip_data = precip_cumulus_data + precip_grid_data\n",
    "precip_data = precip_data.resample(time=\"1D\").sum() # daily total precip\n",
    "precip_data.name = \"Daily precipitation\" # rename for clarity"
   ]
  },
  {
   "cell_type": "code",
   "execution_count": null,
   "id": "a855f35f-ad97-4fc9-9da8-de78e07ffd19",
   "metadata": {},
   "outputs": [],
   "source": [
    "# relative humidity\n",
    "selections.variable = \"Relative humidity\"\n",
    "selections.units = \"%\"\n",
    "rh_data = selections.retrieve()\n",
    "rh_data = rh_data.sel(simulation = data_models) # subset for specific models\n",
    "\n",
    "rh_data = rh_data.resample(time=\"1D\").mean() # daily mean relative humidity\n",
    "rh_data.name = \"Daily relative humidity\"  # rename for clarity"
   ]
  },
  {
   "cell_type": "code",
   "execution_count": null,
   "id": "f317df19-8fc1-41a9-8287-2e31f1aa2aee",
   "metadata": {},
   "outputs": [],
   "source": [
    "# wind speed\n",
    "selections.variable = \"Wind speed at 10m\"\n",
    "selections.units = \"m s-1\"\n",
    "ws_data = selections.retrieve()\n",
    "ws_data = ws_data.sel(simulation = data_models) # subset for specific models\n",
    "\n",
    "# mean wind speed\n",
    "mean_windspd_data = ws_data.resample(time=\"1D\").mean() # daily mean wind speed\n",
    "mean_windspd_data.name = \"Daily mean wind speed\" # rename for clarity"
   ]
  },
  {
   "cell_type": "markdown",
   "id": "c853661d-32d7-485b-a39a-389bf45a8436",
   "metadata": {},
   "source": [
    "**Note**: Each variable is approximately 1.6GB of data. If you need to download the data, we strongly recommend further subsetting for specific locations first to trim down the size. In the next cell, we are going to load in **only a small subset** for visualization purposes only. An example of how to download to a netcdf file is in the last cell of this notebook. "
   ]
  },
  {
   "cell_type": "code",
   "execution_count": null,
   "id": "5cf0f6e4-9a29-43c9-807f-36c3dbc6fde9",
   "metadata": {
    "tags": []
   },
   "outputs": [],
   "source": [
    "data_to_view = max_airtemp_data.isel(time=np.arange(0,30)) # selecting only first 30 days\n",
    "data_to_view = ck.load(data_to_view)\n",
    "ck.view(data_to_view)"
   ]
  },
  {
   "cell_type": "markdown",
   "id": "8cba70ad-039d-4566-aeb5-b0a3e3b648d0",
   "metadata": {},
   "source": [
    "#### Step 2: Access the dynamically-downscaled Historical Reconstruction (WRF-ERA5) data\n",
    "WRF-ERA5 is available on the Analytics Engine for a longer period of time that the WRF data above: 1950-2022. In the step below we will retrieve the WRF-ERA5 data and subset the time index so that it matches the WRF data - if you need a longer period of time, modify to: `selections.time_slice = (1950, 2022)`."
   ]
  },
  {
   "cell_type": "code",
   "execution_count": null,
   "id": "1c8c4def-f127-41a6-90f2-29fc68d1ac5c",
   "metadata": {
    "tags": []
   },
   "outputs": [],
   "source": [
    "selections.data_type = \"Gridded\"\n",
    "selections.area_average = \"No\"\n",
    "selections.scenario_historical = [\"Historical Reconstruction\"]\n",
    "selections.time_slice = (1980, 2014) # subsetting to match WRF data\n",
    "selections.timescale = \"daily\"\n",
    "selections.resolution = \"9 km\"\n",
    "selections.area_subset = \"states\"\n",
    "selections.cached_area = ['CA']"
   ]
  },
  {
   "cell_type": "code",
   "execution_count": null,
   "id": "bfe3e14b-a042-4e10-b574-f9b6de554f58",
   "metadata": {
    "tags": []
   },
   "outputs": [],
   "source": [
    "# there's only one simulation for the WRF-ERA5 so we can batch run all variables\n",
    "selections.variable = \"Maximum air temperature at 2m\"\n",
    "selections.units = \"degC\"\n",
    "era5_max_temp_data = selections.retrieve()\n",
    "\n",
    "selections.variable = \"Minimum air temperature at 2m\"\n",
    "selections.units = \"degC\"\n",
    "era5_min_temp_data = selections.retrieve()\n",
    "\n",
    "selections.variable = \"Precipitation (total)\"\n",
    "selections.units = \"mm/day\"\n",
    "era5_precip_data = selections.retrieve()\n",
    "\n",
    "selections.variable = \"Relative humidity\"\n",
    "selections.units = \"%\"\n",
    "era5_rh_data = selections.retrieve()\n",
    "\n",
    "selections.variable = \"Mean wind speed at 10m\"\n",
    "selections.units = \"m/s\"\n",
    "era5_ws_data = selections.retrieve()"
   ]
  },
  {
   "cell_type": "code",
   "execution_count": null,
   "id": "d65fe2c6-21aa-4fc1-9ac4-fb0ad5c29af1",
   "metadata": {
    "tags": []
   },
   "outputs": [],
   "source": [
    "# load all data in and compute\n",
    "all_era5_vars = xr.merge([era5_max_temp_data.squeeze(), era5_min_temp_data.squeeze(), era5_precip_data.squeeze(), era5_rh_data.squeeze(), era5_ws_data.squeeze()])\n",
    "all_era5_vars = all_era5_vars.compute()\n",
    "all_era5_vars"
   ]
  },
  {
   "cell_type": "markdown",
   "id": "82ceb5e9-d364-4db7-bee0-d55f3b94a65f",
   "metadata": {},
   "source": [
    "**Optional**: Visualize at a single variable (as an example)"
   ]
  },
  {
   "cell_type": "code",
   "execution_count": null,
   "id": "c7f1c734-e04c-4f24-8012-6926c8e66681",
   "metadata": {
    "tags": []
   },
   "outputs": [],
   "source": [
    "tmax = all_era5_vars['Maximum air temperature at 2m']\n",
    "ck.view(tmax)"
   ]
  },
  {
   "cell_type": "markdown",
   "id": "5cbeb74a-d480-4a8a-a1b5-6beca740f556",
   "metadata": {},
   "source": [
    "**Optional**: If you need to work with the data locally, you can export it to a .nc file with the following line of code -- the data will download to the filetree on the left hand side. Uncomment it (by removing the \"#\" symbol) to run and export the data. "
   ]
  },
  {
   "cell_type": "code",
   "execution_count": null,
   "id": "fb1abe3b-9456-490b-994e-2c93bf6cf5a2",
   "metadata": {},
   "outputs": [],
   "source": [
    "# filename = \"historical_era5_renewables_data\" ## modify file name if needed\n",
    "# ck.export(all_era5_vars, filename, 'NetCDF')"
   ]
  }
 ],
 "metadata": {
  "kernelspec": {
   "display_name": "Python 3 (ipykernel)",
   "language": "python",
   "name": "python3"
  },
  "language_info": {
   "codemirror_mode": {
    "name": "ipython",
    "version": 3
   },
   "file_extension": ".py",
   "mimetype": "text/x-python",
   "name": "python",
   "nbconvert_exporter": "python",
   "pygments_lexer": "ipython3",
   "version": "3.9.13"
  }
 },
 "nbformat": 4,
 "nbformat_minor": 5
}
