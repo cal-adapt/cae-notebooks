{
 "cells": [
  {
   "cell_type": "markdown",
   "id": "ef2ead23-9cb0-4182-9f61-8d37a2debf1f",
   "metadata": {},
   "source": [
    "### Climate Data Acquisition for Hydrological Renewables\n",
    "\n",
    "This notebook quickly walks through how to access AE data at 9km for several variables:\n",
    "- Precipitation (mm/day)\n",
    "- Min and max temperature (degC)\n",
    "- Relative humidity (%)\n",
    "- Mean wind speed (m/s)\n",
    "\n",
    "At present, this notebook sets-up access the historical dynamically downscaled WRF simulations. \n",
    "\n",
    "**Runtime**: With the default settings, this notebook takes approximately **5-10 minutes** to run from start to finish. Modifications to selections may increase the runtime. \n",
    "\n",
    "#### Step 0: Set-up\n",
    "Import the climakitae library and other dependencies."
   ]
  },
  {
   "cell_type": "code",
   "execution_count": null,
   "id": "f2235890-5eef-4f4d-9350-b3aa7144bd20",
   "metadata": {
    "tags": []
   },
   "outputs": [],
   "source": [
    "import climakitae as ck\n",
    "import climakitaegui as ckg\n",
    "from climakitae.core.data_interface import DataParameters\n",
    "\n",
    "import xarray as xr\n",
    "import numpy as np"
   ]
  },
  {
   "cell_type": "markdown",
   "id": "e2069c01-0dde-4d0d-9732-fa84200dc173",
   "metadata": {},
   "source": [
    "#### Semi-bulk processing for WRF data download\n",
    "**Warning**: Each variable *per model* is approximately 5-7GB of data and will take approximately 20-30 minutes to load and export. To download the data, it may either save to the filetree to the left (in which you can right click and download), or a URL link to an s3 bucket will be provided (click the link and your download will begin), depending on the available memory space.\n",
    "\n",
    "We've provided an easy \"bulk\" function to set-up and export the data for you. All you need to do is modify which model you want to download by changing the `number` in `data_models[NUMBER]` from 0-3, and the variable. You can then call this function after you have calculated your variable of interest (we demonstrate this below as well). \n",
    "\n",
    "**Note**: If you see the memory in the bottom bar of your web browser approaching 30GB, we recommend either hitting the `stop` button, or restarting your kernel by selecting `\"restart kernel and clear all outputs\"` in the top bar under `Kernel` and returning to this notebook. If the hub crashes on you because of memory space, restarting the kernel with this option will help. "
   ]
  },
  {
   "cell_type": "code",
   "execution_count": null,
   "id": "0776b8e6-7ef4-4236-a06c-70805b65f56e",
   "metadata": {},
   "outputs": [],
   "source": [
    "def bulk_run(model_to_run, var):\n",
    "    print('Running bulk_run on {} will take approx. 5-10 minutes!\\n'.format(model_to_run))\n",
    "    print('Loading variable into memory space...')\n",
    "    var = ck.load(var) # about 2-3 min.\n",
    "    print('Variable loaded into memory!')\n",
    "\n",
    "    filename = \"{}_{}\".format(model_to_run, var.name.replace(\" \", \"_\"))\n",
    "    print('\\nPreparing {} for export...'.format(filename))\n",
    "\n",
    "    ck.export(var, filename, 'NetCDF')\n",
    "    var.close() # to save memory on the hub / not crash\n",
    "    print('\\nVariable closed to save space in memory')"
   ]
  },
  {
   "cell_type": "markdown",
   "id": "1fc44e80-3fef-4fe3-ad63-dcda867b4c13",
   "metadata": {},
   "source": [
    "#### Step 1a: Grab and process all required input data\n",
    "Two important notes:\n",
    "1. Not all models in the Cal-Adapt: Analytics Engine have the solar variables critical for renewables generation - only 4 out of 8 do, and they are currently only available at hourly timesteps. We will carefully subset our variables to ensure that the same 4 models are selected for consistency, and aggregate to daily timescales. However, if you need the other models, comment out (by adding a `#` symbol) to the lines of code below that are noted for subsetting for specific models. \n",
    "2. The dynamically downscaled WRF data in the Cal-Adapt: Analytics Engine is in UTC time."
   ]
  },
  {
   "cell_type": "code",
   "execution_count": null,
   "id": "430c68d8-0cc7-46c1-9943-2d5b53072f69",
   "metadata": {
    "tags": []
   },
   "outputs": [],
   "source": [
    "selections = DataParameters()\n",
    "\n",
    "# default selections applicable to all variables selected\n",
    "selections.data_type = \"Gridded\"\n",
    "selections.area_average = \"No\"\n",
    "selections.scenario_ssp = [\"SSP 3-7.0\"]\n",
    "selections.timescale = \"daily\"\n",
    "selections.resolution = \"9 km\"\n",
    "selections.time_slice = (2015, 2060)\n",
    "\n",
    "# selections.show() # to see the GUI panel for more customizeable selections"
   ]
  },
  {
   "cell_type": "code",
   "execution_count": null,
   "id": "570c2bf2-7106-4e55-a057-6b4c7465814b",
   "metadata": {
    "tags": []
   },
   "outputs": [],
   "source": [
    "# these 4 models are consistent with the solar/wind efforts\n",
    "data_models = ['WRF_MIROC6_r1i1p1f1', 'WRF_TaiESM1_r1i1p1f1', 'WRF_EC-Earth3_r1i1p1f1', 'WRF_MPI-ESM1-2-HR_r3i1p1f1']\n",
    "\n",
    "# highly recommended to run a single model at a time\n",
    "data_models = data_models[0]\n",
    "data_models # confirmation of selection"
   ]
  },
  {
   "cell_type": "markdown",
   "id": "c9190c2a-57d8-4d85-bf78-7e70529e9ce4",
   "metadata": {},
   "source": [
    "Now that we have set up default settings, let's start retrieving data. We will need to aggregate variables to daily timescales for the following variables:"
   ]
  },
  {
   "cell_type": "code",
   "execution_count": null,
   "id": "7b136b53-1e9f-49d6-9e79-0cdf43635734",
   "metadata": {
    "tags": []
   },
   "outputs": [],
   "source": [
    "# air temperature\n",
    "selections.variable = \"Air Temperature at 2m\"\n",
    "selections.units = \"degC\"\n",
    "mean_airtemp_data = selections.retrieve()\n",
    "mean_airtemp_data = mean_airtemp_data.sel(simulation = data_models) # subset for specific models\n",
    "\n",
    "# max air temp\n",
    "selections.variable = 'Maximum air temperature at 2m'\n",
    "max_airtemp_data = selections.retrieve()\n",
    "max_airtemp_data = max_airtemp_data.sel(simulation = data_models) # subset for specific models\n",
    "\n",
    "# min air temp\n",
    "selections.variable = 'Minimum air temperature at 2m'\n",
    "min_airtemp_data = selections.retrieve()\n",
    "min_airtemp_data = min_airtemp_data.sel(simulation = data_models) # subset for specific models"
   ]
  },
  {
   "cell_type": "code",
   "execution_count": null,
   "id": "b28ec782-1637-4658-8bf8-0d69fab3cc11",
   "metadata": {
    "tags": []
   },
   "outputs": [],
   "source": [
    "# precipitation (split across two variables that we will sum)\n",
    "selections.variable = \"Precipitation (total)\"\n",
    "selections.units = \"mm\"\n",
    "precip_data = selections.retrieve()\n",
    "precip_data = precip_data.sel(simulation = data_models) # subset for specific models"
   ]
  },
  {
   "cell_type": "code",
   "execution_count": null,
   "id": "a855f35f-ad97-4fc9-9da8-de78e07ffd19",
   "metadata": {
    "tags": []
   },
   "outputs": [],
   "source": [
    "# relative humidity\n",
    "selections.variable = \"Relative humidity\"\n",
    "selections.units = \"[0 to 100]\"  # percent\n",
    "rh_data = selections.retrieve()\n",
    "rh_data = rh_data.sel(simulation = data_models) # subset for specific models"
   ]
  },
  {
   "cell_type": "code",
   "execution_count": null,
   "id": "f317df19-8fc1-41a9-8287-2e31f1aa2aee",
   "metadata": {
    "tags": []
   },
   "outputs": [],
   "source": [
    "# wind speed\n",
    "selections.variable = \"Mean wind speed at 10m\"\n",
    "selections.units = \"m/s\"\n",
    "ws_data = selections.retrieve()\n",
    "ws_data = ws_data.sel(simulation = data_models) # subset for specific models"
   ]
  },
  {
   "cell_type": "markdown",
   "id": "3a899ede-b26d-42a6-84cd-094c8857a0bd",
   "metadata": {},
   "source": [
    "In the next cell, we are going to load in **only a small subset** for visualization purposes only."
   ]
  },
  {
   "cell_type": "code",
   "execution_count": null,
   "id": "5cf0f6e4-9a29-43c9-807f-36c3dbc6fde9",
   "metadata": {
    "tags": []
   },
   "outputs": [],
   "source": [
    "data_to_view = max_airtemp_data.isel(time=np.arange(0,5)) # selecting only first 5 days\n",
    "data_to_view = ck.load(data_to_view)\n",
    "ckg.view(data_to_view)"
   ]
  },
  {
   "cell_type": "markdown",
   "id": "9127c019-5c00-4683-baaf-fd21726a4545",
   "metadata": {},
   "source": [
    "#### Step 1b: Export\n",
    "There are two options for export:\n",
    "* Using the `bulk_run` function, which will process and **export a single model and 1 variable at a time**. This approximately is 6 GB of data, and takes 5-10 minutes per model per variable.\n",
    "* Merging all WRF variables together and **export a single model with all 6 variables**. This is approximately 35 GB of data, and will take approx. 1 hour. "
   ]
  },
  {
   "cell_type": "code",
   "execution_count": null,
   "id": "8854c369-11dd-4d92-95f2-4978363991c7",
   "metadata": {},
   "outputs": [],
   "source": [
    "# option 1: Bulk run, export of 1 model, 1 variable at a time\n",
    "%%time\n",
    "bulk_run(data_models, max_airtemp_data)"
   ]
  },
  {
   "cell_type": "code",
   "execution_count": null,
   "id": "7455f5fa-727c-4cfe-8dcc-924de2033dd9",
   "metadata": {},
   "outputs": [],
   "source": [
    "# option 2: Merge, export of 1 model 6 variables at a time\n",
    "filename_export = f\"{data_models}_allvars\"\n",
    "wrf_ds = xr.merge([mean_airtemp_data, max_airtemp_data, min_airtemp_data, precip_data, rh_data, ws_data]).squeeze() # removes \"scenario\" dimension of 1\n",
    "ck.export(wrf_ds, filename_export, 'NetCDF')"
   ]
  },
  {
   "cell_type": "markdown",
   "id": "8cba70ad-039d-4566-aeb5-b0a3e3b648d0",
   "metadata": {},
   "source": [
    "#### Step 2a: Access the dynamically-downscaled Historical Reconstruction (WRF-ERA5) data\n",
    "WRF-ERA5 is available on the Analytics Engine for a longer period of time that the WRF data above: 1950-2022. In the step below we will retrieve the WRF-ERA5 data and subset the time index so that it matches the historical length of the WRF data (with \"Historical Climate\") - if you need a longer period of time, modify: `selections.time_slice = (START_YEAR, END_YEAR)`."
   ]
  },
  {
   "cell_type": "code",
   "execution_count": null,
   "id": "1c8c4def-f127-41a6-90f2-29fc68d1ac5c",
   "metadata": {
    "tags": []
   },
   "outputs": [],
   "source": [
    "selections.data_type = \"Gridded\"\n",
    "selections.area_average = \"No\"\n",
    "selections.scenario_historical = [\"Historical Reconstruction\"]\n",
    "selections.scenario_ssp = []\n",
    "selections.time_slice = (1980, 2014) # subsetting to match WRF data\n",
    "selections.timescale = \"daily\"\n",
    "selections.resolution = \"9 km\""
   ]
  },
  {
   "cell_type": "code",
   "execution_count": null,
   "id": "bfe3e14b-a042-4e10-b574-f9b6de554f58",
   "metadata": {
    "tags": []
   },
   "outputs": [],
   "source": [
    "# there's only one simulation for the WRF-ERA5 so we can batch run all variables\n",
    "selections.variable = \"Air Temperature at 2m\"\n",
    "selections.units = \"degC\"\n",
    "era5_mean_temp_data = selections.retrieve()\n",
    "era5_mean_temp_data.name = \"Mean air temperature at 2m\" # rename for clarity\n",
    "\n",
    "selections.variable = \"Maximum air temperature at 2m\"\n",
    "selections.units = \"degC\"\n",
    "era5_max_temp_data = selections.retrieve()\n",
    "\n",
    "selections.variable = \"Minimum air temperature at 2m\"\n",
    "selections.units = \"degC\"\n",
    "era5_min_temp_data = selections.retrieve()\n",
    "\n",
    "selections.variable = \"Precipitation (total)\"\n",
    "selections.units = \"mm\"\n",
    "era5_precip_data = selections.retrieve()\n",
    "\n",
    "selections.variable = \"Relative humidity\"\n",
    "selections.units = \"[0 to 100]\"  # percent\n",
    "era5_rh_data = selections.retrieve()\n",
    "\n",
    "selections.variable = \"Mean wind speed at 10m\"\n",
    "selections.units = \"m/s\"\n",
    "era5_ws_data = selections.retrieve()"
   ]
  },
  {
   "cell_type": "markdown",
   "id": "82ceb5e9-d364-4db7-bee0-d55f3b94a65f",
   "metadata": {},
   "source": [
    "**Optional**: Visualize at a single variable (as an example)"
   ]
  },
  {
   "cell_type": "code",
   "execution_count": null,
   "id": "c7f1c734-e04c-4f24-8012-6926c8e66681",
   "metadata": {
    "tags": []
   },
   "outputs": [],
   "source": [
    "data_to_view = era5_max_temp_data.isel(time=np.arange(0,5)) # selecting only first 5 days\n",
    "data_to_view = ck.load(data_to_view)\n",
    "ckg.view(data_to_view)"
   ]
  },
  {
   "cell_type": "markdown",
   "id": "ba9b290f-6da7-48ae-ad93-dbd03b2065f4",
   "metadata": {},
   "source": [
    "#### Step 2b: Export \n",
    "Like the WRF data, there are two options here. Since the ERA5 data is much less complex, this will take a shorter amount of time to run. \n",
    "There are two options for export:\n",
    "* Using the `bulk_run` function, which will process and **export 1 variable at a time**. This approximately is 5 GB of data, and takes 2-5 minutes per variable. \n",
    "* Merging all ERA5 variables together and **export all 6 variables**. This is approximately 26 GB of data, and will take approx. 20 minutes. "
   ]
  },
  {
   "cell_type": "code",
   "execution_count": null,
   "id": "cc369165-ce71-4a18-9aba-84714ed88dbf",
   "metadata": {
    "tags": []
   },
   "outputs": [],
   "source": [
    "# Option 1: Bulk run, 1 variable at a time\n",
    "%%time\n",
    "bulk_run('WRF-ERA5', era5_max_temp_data)"
   ]
  },
  {
   "cell_type": "code",
   "execution_count": null,
   "id": "d507ada2-fee2-4b84-87de-35b2f63a71f0",
   "metadata": {
    "tags": []
   },
   "outputs": [],
   "source": [
    "# Option 2: Merge, all 6 variables\n",
    "era5_ds = xr.merge([era5_mean_temp_data, era5_max_temp_data, era5_min_temp_data, era5_precip_data, era5_rh_data, era5_ws_data]).squeeze() # removes dimension of 1\n",
    "ck.export(era5_ds, 'era5_all_vars', 'NetCDF')"
   ]
  }
 ],
 "metadata": {
  "kernelspec": {
   "display_name": "Python 3 (ipykernel)",
   "language": "python",
   "name": "python3"
  },
  "language_info": {
   "codemirror_mode": {
    "name": "ipython",
    "version": 3
   },
   "file_extension": ".py",
   "mimetype": "text/x-python",
   "name": "python",
   "nbconvert_exporter": "python",
   "pygments_lexer": "ipython3",
   "version": "3.9.13"
  }
 },
 "nbformat": 4,
 "nbformat_minor": 5
}
