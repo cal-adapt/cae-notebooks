{
 "cells": [
  {
   "cell_type": "markdown",
   "id": "d144d7c0-02c8-4b37-a357-a9c9f3112f08",
   "metadata": {},
   "source": [
    "# Calculating a Typical Meteorological Year\n",
    "<br>This notebook walks through the process of calculating a [Typical Meteorological Year](https://nsrdb.nrel.gov/data-sets/tmy), an hourly dataset used for applications in energy and building systems modeling. Because this represents average rather than extreme conditions, an TMY dataset is not suited for designing systems to meet the worst-case conditions occurring at a location. \n",
    "\n",
    "The TMY methodology here mirrors that of the Sandia/NREL TMY3 methodology, and uses historic and projected downscaled climate data available through the Cal-Adapt: Analytics Engine catalog. As this methodology heavily weights the solar radiation input data, be aware that the final selection of \"typical\" months may not be typical for other variables. \n",
    "\n",
    "**Intended Application** As a user, I want to <span style=\"color:#FF0000\">**generate a typical meteorological year file**</span> for a location of interest:\n",
    "- Understand the methods that are involved in generating a TMY dataset\n",
    "- Visualize the TMY dataset across all input variables\n",
    "- Export the TMY dataset for available models for input into my workflow\n",
    "\n",
    "**Note**: \n",
    "1. This notebook is a **full demonstration** of the Typical Meteorological Year methodology, for full transparency. For practical generation of a TMY dataset, a user <span style=\"color:#FF0000\">**only needs to provide 2 elements**</span>: the **location**, and **reference time period**. These selections are highlighted below for you. \n",
    "2. The Analytics Engine at present has an *Average Meteorological Year* functionality. The methods shown throughout this notebook will soon replace the underlying backend `climakitae` code for the AMY in order to better address our user needs, i.e., we are working to replace the AMY with the TMY methods. We provide this walkthrough to demonstrate confidence in the \"AMY to TMY\" conversion process for our users in the meantime. \n",
    "\n",
    "**Runtime**: With the default settings, this notebook takes approximately **30 minutes** to run from start to finish. Modifications to selections may increase the runtime."
   ]
  },
  {
   "cell_type": "markdown",
   "id": "8f3a4e19-0c14-4bb8-b410-68f93cc7a2a4",
   "metadata": {},
   "source": [
    "### Step 0: Set-up\n",
    "\n",
    "Import the [climakitae](https://github.com/cal-adapt/climakitae) library and other dependencies."
   ]
  },
  {
   "cell_type": "code",
   "execution_count": 1,
   "id": "9f9fa255-d19b-4c44-95fd-128770eee30d",
   "metadata": {},
   "outputs": [],
   "source": [
    "%load_ext autoreload\n",
    "%autoreload 2"
   ]
  },
  {
   "cell_type": "code",
   "execution_count": 2,
   "id": "915116c8-7f12-473e-baa2-656349be1070",
   "metadata": {
    "tags": []
   },
   "outputs": [
    {
     "data": {
      "text/html": [
       "<script type=\"esms-options\">{\"shimMode\": true}</script><style>*[data-root-id],\n",
       "*[data-root-id] > * {\n",
       "  box-sizing: border-box;\n",
       "  font-family: var(--jp-ui-font-family);\n",
       "  font-size: var(--jp-ui-font-size1);\n",
       "  color: var(--vscode-editor-foreground, var(--jp-ui-font-color1));\n",
       "}\n",
       "\n",
       "/* Override VSCode background color */\n",
       ".cell-output-ipywidget-background:has(\n",
       "    > .cell-output-ipywidget-background > .lm-Widget > *[data-root-id]\n",
       "  ),\n",
       ".cell-output-ipywidget-background:has(> .lm-Widget > *[data-root-id]) {\n",
       "  background-color: transparent !important;\n",
       "}\n",
       "</style>"
      ]
     },
     "metadata": {},
     "output_type": "display_data"
    },
    {
     "data": {
      "application/javascript": [
       "(function(root) {\n",
       "  function now() {\n",
       "    return new Date();\n",
       "  }\n",
       "\n",
       "  const force = true;\n",
       "  const py_version = '3.7.3'.replace('rc', '-rc.').replace('.dev', '-dev.');\n",
       "  const reloading = false;\n",
       "  const Bokeh = root.Bokeh;\n",
       "\n",
       "  // Set a timeout for this load but only if we are not already initializing\n",
       "  if (typeof (root._bokeh_timeout) === \"undefined\" || (force || !root._bokeh_is_initializing)) {\n",
       "    root._bokeh_timeout = Date.now() + 5000;\n",
       "    root._bokeh_failed_load = false;\n",
       "  }\n",
       "\n",
       "  function run_callbacks() {\n",
       "    try {\n",
       "      root._bokeh_onload_callbacks.forEach(function(callback) {\n",
       "        if (callback != null)\n",
       "          callback();\n",
       "      });\n",
       "    } finally {\n",
       "      delete root._bokeh_onload_callbacks;\n",
       "    }\n",
       "    console.debug(\"Bokeh: all callbacks have finished\");\n",
       "  }\n",
       "\n",
       "  function load_libs(css_urls, js_urls, js_modules, js_exports, callback) {\n",
       "    if (css_urls == null) css_urls = [];\n",
       "    if (js_urls == null) js_urls = [];\n",
       "    if (js_modules == null) js_modules = [];\n",
       "    if (js_exports == null) js_exports = {};\n",
       "\n",
       "    root._bokeh_onload_callbacks.push(callback);\n",
       "\n",
       "    if (root._bokeh_is_loading > 0) {\n",
       "      // Don't load bokeh if it is still initializing\n",
       "      console.debug(\"Bokeh: BokehJS is being loaded, scheduling callback at\", now());\n",
       "      return null;\n",
       "    } else if (js_urls.length === 0 && js_modules.length === 0 && Object.keys(js_exports).length === 0) {\n",
       "      // There is nothing to load\n",
       "      run_callbacks();\n",
       "      return null;\n",
       "    }\n",
       "\n",
       "    function on_load() {\n",
       "      root._bokeh_is_loading--;\n",
       "      if (root._bokeh_is_loading === 0) {\n",
       "        console.debug(\"Bokeh: all BokehJS libraries/stylesheets loaded\");\n",
       "        run_callbacks()\n",
       "      }\n",
       "    }\n",
       "    window._bokeh_on_load = on_load\n",
       "\n",
       "    function on_error(e) {\n",
       "      const src_el = e.srcElement\n",
       "      console.error(\"failed to load \" + (src_el.href || src_el.src));\n",
       "    }\n",
       "\n",
       "    const skip = [];\n",
       "    if (window.requirejs) {\n",
       "      window.requirejs.config({'packages': {}, 'paths': {}, 'shim': {}});\n",
       "      root._bokeh_is_loading = css_urls.length + 0;\n",
       "    } else {\n",
       "      root._bokeh_is_loading = css_urls.length + js_urls.length + js_modules.length + Object.keys(js_exports).length;\n",
       "    }\n",
       "\n",
       "    const existing_stylesheets = []\n",
       "    const links = document.getElementsByTagName('link')\n",
       "    for (let i = 0; i < links.length; i++) {\n",
       "      const link = links[i]\n",
       "      if (link.href != null) {\n",
       "        existing_stylesheets.push(link.href)\n",
       "      }\n",
       "    }\n",
       "    for (let i = 0; i < css_urls.length; i++) {\n",
       "      const url = css_urls[i];\n",
       "      const escaped = encodeURI(url)\n",
       "      if (existing_stylesheets.indexOf(escaped) !== -1) {\n",
       "        on_load()\n",
       "        continue;\n",
       "      }\n",
       "      const element = document.createElement(\"link\");\n",
       "      element.onload = on_load;\n",
       "      element.onerror = on_error;\n",
       "      element.rel = \"stylesheet\";\n",
       "      element.type = \"text/css\";\n",
       "      element.href = url;\n",
       "      console.debug(\"Bokeh: injecting link tag for BokehJS stylesheet: \", url);\n",
       "      document.body.appendChild(element);\n",
       "    }    var existing_scripts = []\n",
       "    const scripts = document.getElementsByTagName('script')\n",
       "    for (let i = 0; i < scripts.length; i++) {\n",
       "      var script = scripts[i]\n",
       "      if (script.src != null) {\n",
       "        existing_scripts.push(script.src)\n",
       "      }\n",
       "    }\n",
       "    for (let i = 0; i < js_urls.length; i++) {\n",
       "      const url = js_urls[i];\n",
       "      const escaped = encodeURI(url)\n",
       "      if (skip.indexOf(escaped) !== -1 || existing_scripts.indexOf(escaped) !== -1) {\n",
       "        if (!window.requirejs) {\n",
       "          on_load();\n",
       "        }\n",
       "        continue;\n",
       "      }\n",
       "      const element = document.createElement('script');\n",
       "      element.onload = on_load;\n",
       "      element.onerror = on_error;\n",
       "      element.async = false;\n",
       "      element.src = url;\n",
       "      console.debug(\"Bokeh: injecting script tag for BokehJS library: \", url);\n",
       "      document.head.appendChild(element);\n",
       "    }\n",
       "    for (let i = 0; i < js_modules.length; i++) {\n",
       "      const url = js_modules[i];\n",
       "      const escaped = encodeURI(url)\n",
       "      if (skip.indexOf(escaped) !== -1 || existing_scripts.indexOf(escaped) !== -1) {\n",
       "        if (!window.requirejs) {\n",
       "          on_load();\n",
       "        }\n",
       "        continue;\n",
       "      }\n",
       "      var element = document.createElement('script');\n",
       "      element.onload = on_load;\n",
       "      element.onerror = on_error;\n",
       "      element.async = false;\n",
       "      element.src = url;\n",
       "      element.type = \"module\";\n",
       "      console.debug(\"Bokeh: injecting script tag for BokehJS library: \", url);\n",
       "      document.head.appendChild(element);\n",
       "    }\n",
       "    for (const name in js_exports) {\n",
       "      const url = js_exports[name];\n",
       "      const escaped = encodeURI(url)\n",
       "      if (skip.indexOf(escaped) >= 0 || root[name] != null) {\n",
       "        if (!window.requirejs) {\n",
       "          on_load();\n",
       "        }\n",
       "        continue;\n",
       "      }\n",
       "      var element = document.createElement('script');\n",
       "      element.onerror = on_error;\n",
       "      element.async = false;\n",
       "      element.type = \"module\";\n",
       "      console.debug(\"Bokeh: injecting script tag for BokehJS library: \", url);\n",
       "      element.textContent = `\n",
       "      import ${name} from \"${url}\"\n",
       "      window.${name} = ${name}\n",
       "      window._bokeh_on_load()\n",
       "      `\n",
       "      document.head.appendChild(element);\n",
       "    }\n",
       "    if (!js_urls.length && !js_modules.length) {\n",
       "      on_load()\n",
       "    }\n",
       "  };\n",
       "\n",
       "  function inject_raw_css(css) {\n",
       "    const element = document.createElement(\"style\");\n",
       "    element.appendChild(document.createTextNode(css));\n",
       "    document.body.appendChild(element);\n",
       "  }\n",
       "\n",
       "  const js_urls = [\"https://cdn.holoviz.org/panel/1.7.1/dist/bundled/reactiveesm/es-module-shims@^1.10.0/dist/es-module-shims.min.js\", \"https://cdn.bokeh.org/bokeh/release/bokeh-3.7.3.min.js\", \"https://cdn.bokeh.org/bokeh/release/bokeh-gl-3.7.3.min.js\", \"https://cdn.bokeh.org/bokeh/release/bokeh-widgets-3.7.3.min.js\", \"https://cdn.bokeh.org/bokeh/release/bokeh-tables-3.7.3.min.js\", \"https://cdn.holoviz.org/panel/1.7.1/dist/panel.min.js\"];\n",
       "  const js_modules = [];\n",
       "  const js_exports = {};\n",
       "  const css_urls = [];\n",
       "  const inline_js = [    function(Bokeh) {\n",
       "      Bokeh.set_log_level(\"info\");\n",
       "    },\n",
       "function(Bokeh) {} // ensure no trailing comma for IE\n",
       "  ];\n",
       "\n",
       "  function run_inline_js() {\n",
       "    if ((root.Bokeh !== undefined) || (force === true)) {\n",
       "      for (let i = 0; i < inline_js.length; i++) {\n",
       "        try {\n",
       "          inline_js[i].call(root, root.Bokeh);\n",
       "        } catch(e) {\n",
       "          if (!reloading) {\n",
       "            throw e;\n",
       "          }\n",
       "        }\n",
       "      }\n",
       "      // Cache old bokeh versions\n",
       "      if (Bokeh != undefined && !reloading) {\n",
       "        var NewBokeh = root.Bokeh;\n",
       "        if (Bokeh.versions === undefined) {\n",
       "          Bokeh.versions = new Map();\n",
       "        }\n",
       "        if (NewBokeh.version !== Bokeh.version) {\n",
       "          Bokeh.versions.set(NewBokeh.version, NewBokeh)\n",
       "        }\n",
       "        root.Bokeh = Bokeh;\n",
       "      }\n",
       "    } else if (Date.now() < root._bokeh_timeout) {\n",
       "      setTimeout(run_inline_js, 100);\n",
       "    } else if (!root._bokeh_failed_load) {\n",
       "      console.log(\"Bokeh: BokehJS failed to load within specified timeout.\");\n",
       "      root._bokeh_failed_load = true;\n",
       "    }\n",
       "    root._bokeh_is_initializing = false\n",
       "  }\n",
       "\n",
       "  function load_or_wait() {\n",
       "    // Implement a backoff loop that tries to ensure we do not load multiple\n",
       "    // versions of Bokeh and its dependencies at the same time.\n",
       "    // In recent versions we use the root._bokeh_is_initializing flag\n",
       "    // to determine whether there is an ongoing attempt to initialize\n",
       "    // bokeh, however for backward compatibility we also try to ensure\n",
       "    // that we do not start loading a newer (Panel>=1.0 and Bokeh>3) version\n",
       "    // before older versions are fully initialized.\n",
       "    if (root._bokeh_is_initializing && Date.now() > root._bokeh_timeout) {\n",
       "      // If the timeout and bokeh was not successfully loaded we reset\n",
       "      // everything and try loading again\n",
       "      root._bokeh_timeout = Date.now() + 5000;\n",
       "      root._bokeh_is_initializing = false;\n",
       "      root._bokeh_onload_callbacks = undefined;\n",
       "      root._bokeh_is_loading = 0\n",
       "      console.log(\"Bokeh: BokehJS was loaded multiple times but one version failed to initialize.\");\n",
       "      load_or_wait();\n",
       "    } else if (root._bokeh_is_initializing || (typeof root._bokeh_is_initializing === \"undefined\" && root._bokeh_onload_callbacks !== undefined)) {\n",
       "      setTimeout(load_or_wait, 100);\n",
       "    } else {\n",
       "      root._bokeh_is_initializing = true\n",
       "      root._bokeh_onload_callbacks = []\n",
       "      const bokeh_loaded = root.Bokeh != null && (root.Bokeh.version === py_version || (root.Bokeh.versions !== undefined && root.Bokeh.versions.has(py_version)));\n",
       "      if (!reloading && !bokeh_loaded) {\n",
       "        if (root.Bokeh) {\n",
       "          root.Bokeh = undefined;\n",
       "        }\n",
       "        console.debug(\"Bokeh: BokehJS not loaded, scheduling load and callback at\", now());\n",
       "      }\n",
       "      load_libs(css_urls, js_urls, js_modules, js_exports, function() {\n",
       "        console.debug(\"Bokeh: BokehJS plotting callback run at\", now());\n",
       "        run_inline_js();\n",
       "      });\n",
       "    }\n",
       "  }\n",
       "  // Give older versions of the autoload script a head-start to ensure\n",
       "  // they initialize before we start loading newer version.\n",
       "  setTimeout(load_or_wait, 100)\n",
       "}(window));"
      ],
      "application/vnd.holoviews_load.v0+json": "(function(root) {\n  function now() {\n    return new Date();\n  }\n\n  const force = true;\n  const py_version = '3.7.3'.replace('rc', '-rc.').replace('.dev', '-dev.');\n  const reloading = false;\n  const Bokeh = root.Bokeh;\n\n  // Set a timeout for this load but only if we are not already initializing\n  if (typeof (root._bokeh_timeout) === \"undefined\" || (force || !root._bokeh_is_initializing)) {\n    root._bokeh_timeout = Date.now() + 5000;\n    root._bokeh_failed_load = false;\n  }\n\n  function run_callbacks() {\n    try {\n      root._bokeh_onload_callbacks.forEach(function(callback) {\n        if (callback != null)\n          callback();\n      });\n    } finally {\n      delete root._bokeh_onload_callbacks;\n    }\n    console.debug(\"Bokeh: all callbacks have finished\");\n  }\n\n  function load_libs(css_urls, js_urls, js_modules, js_exports, callback) {\n    if (css_urls == null) css_urls = [];\n    if (js_urls == null) js_urls = [];\n    if (js_modules == null) js_modules = [];\n    if (js_exports == null) js_exports = {};\n\n    root._bokeh_onload_callbacks.push(callback);\n\n    if (root._bokeh_is_loading > 0) {\n      // Don't load bokeh if it is still initializing\n      console.debug(\"Bokeh: BokehJS is being loaded, scheduling callback at\", now());\n      return null;\n    } else if (js_urls.length === 0 && js_modules.length === 0 && Object.keys(js_exports).length === 0) {\n      // There is nothing to load\n      run_callbacks();\n      return null;\n    }\n\n    function on_load() {\n      root._bokeh_is_loading--;\n      if (root._bokeh_is_loading === 0) {\n        console.debug(\"Bokeh: all BokehJS libraries/stylesheets loaded\");\n        run_callbacks()\n      }\n    }\n    window._bokeh_on_load = on_load\n\n    function on_error(e) {\n      const src_el = e.srcElement\n      console.error(\"failed to load \" + (src_el.href || src_el.src));\n    }\n\n    const skip = [];\n    if (window.requirejs) {\n      window.requirejs.config({'packages': {}, 'paths': {}, 'shim': {}});\n      root._bokeh_is_loading = css_urls.length + 0;\n    } else {\n      root._bokeh_is_loading = css_urls.length + js_urls.length + js_modules.length + Object.keys(js_exports).length;\n    }\n\n    const existing_stylesheets = []\n    const links = document.getElementsByTagName('link')\n    for (let i = 0; i < links.length; i++) {\n      const link = links[i]\n      if (link.href != null) {\n        existing_stylesheets.push(link.href)\n      }\n    }\n    for (let i = 0; i < css_urls.length; i++) {\n      const url = css_urls[i];\n      const escaped = encodeURI(url)\n      if (existing_stylesheets.indexOf(escaped) !== -1) {\n        on_load()\n        continue;\n      }\n      const element = document.createElement(\"link\");\n      element.onload = on_load;\n      element.onerror = on_error;\n      element.rel = \"stylesheet\";\n      element.type = \"text/css\";\n      element.href = url;\n      console.debug(\"Bokeh: injecting link tag for BokehJS stylesheet: \", url);\n      document.body.appendChild(element);\n    }    var existing_scripts = []\n    const scripts = document.getElementsByTagName('script')\n    for (let i = 0; i < scripts.length; i++) {\n      var script = scripts[i]\n      if (script.src != null) {\n        existing_scripts.push(script.src)\n      }\n    }\n    for (let i = 0; i < js_urls.length; i++) {\n      const url = js_urls[i];\n      const escaped = encodeURI(url)\n      if (skip.indexOf(escaped) !== -1 || existing_scripts.indexOf(escaped) !== -1) {\n        if (!window.requirejs) {\n          on_load();\n        }\n        continue;\n      }\n      const element = document.createElement('script');\n      element.onload = on_load;\n      element.onerror = on_error;\n      element.async = false;\n      element.src = url;\n      console.debug(\"Bokeh: injecting script tag for BokehJS library: \", url);\n      document.head.appendChild(element);\n    }\n    for (let i = 0; i < js_modules.length; i++) {\n      const url = js_modules[i];\n      const escaped = encodeURI(url)\n      if (skip.indexOf(escaped) !== -1 || existing_scripts.indexOf(escaped) !== -1) {\n        if (!window.requirejs) {\n          on_load();\n        }\n        continue;\n      }\n      var element = document.createElement('script');\n      element.onload = on_load;\n      element.onerror = on_error;\n      element.async = false;\n      element.src = url;\n      element.type = \"module\";\n      console.debug(\"Bokeh: injecting script tag for BokehJS library: \", url);\n      document.head.appendChild(element);\n    }\n    for (const name in js_exports) {\n      const url = js_exports[name];\n      const escaped = encodeURI(url)\n      if (skip.indexOf(escaped) >= 0 || root[name] != null) {\n        if (!window.requirejs) {\n          on_load();\n        }\n        continue;\n      }\n      var element = document.createElement('script');\n      element.onerror = on_error;\n      element.async = false;\n      element.type = \"module\";\n      console.debug(\"Bokeh: injecting script tag for BokehJS library: \", url);\n      element.textContent = `\n      import ${name} from \"${url}\"\n      window.${name} = ${name}\n      window._bokeh_on_load()\n      `\n      document.head.appendChild(element);\n    }\n    if (!js_urls.length && !js_modules.length) {\n      on_load()\n    }\n  };\n\n  function inject_raw_css(css) {\n    const element = document.createElement(\"style\");\n    element.appendChild(document.createTextNode(css));\n    document.body.appendChild(element);\n  }\n\n  const js_urls = [\"https://cdn.holoviz.org/panel/1.7.1/dist/bundled/reactiveesm/es-module-shims@^1.10.0/dist/es-module-shims.min.js\", \"https://cdn.bokeh.org/bokeh/release/bokeh-3.7.3.min.js\", \"https://cdn.bokeh.org/bokeh/release/bokeh-gl-3.7.3.min.js\", \"https://cdn.bokeh.org/bokeh/release/bokeh-widgets-3.7.3.min.js\", \"https://cdn.bokeh.org/bokeh/release/bokeh-tables-3.7.3.min.js\", \"https://cdn.holoviz.org/panel/1.7.1/dist/panel.min.js\"];\n  const js_modules = [];\n  const js_exports = {};\n  const css_urls = [];\n  const inline_js = [    function(Bokeh) {\n      Bokeh.set_log_level(\"info\");\n    },\nfunction(Bokeh) {} // ensure no trailing comma for IE\n  ];\n\n  function run_inline_js() {\n    if ((root.Bokeh !== undefined) || (force === true)) {\n      for (let i = 0; i < inline_js.length; i++) {\n        try {\n          inline_js[i].call(root, root.Bokeh);\n        } catch(e) {\n          if (!reloading) {\n            throw e;\n          }\n        }\n      }\n      // Cache old bokeh versions\n      if (Bokeh != undefined && !reloading) {\n        var NewBokeh = root.Bokeh;\n        if (Bokeh.versions === undefined) {\n          Bokeh.versions = new Map();\n        }\n        if (NewBokeh.version !== Bokeh.version) {\n          Bokeh.versions.set(NewBokeh.version, NewBokeh)\n        }\n        root.Bokeh = Bokeh;\n      }\n    } else if (Date.now() < root._bokeh_timeout) {\n      setTimeout(run_inline_js, 100);\n    } else if (!root._bokeh_failed_load) {\n      console.log(\"Bokeh: BokehJS failed to load within specified timeout.\");\n      root._bokeh_failed_load = true;\n    }\n    root._bokeh_is_initializing = false\n  }\n\n  function load_or_wait() {\n    // Implement a backoff loop that tries to ensure we do not load multiple\n    // versions of Bokeh and its dependencies at the same time.\n    // In recent versions we use the root._bokeh_is_initializing flag\n    // to determine whether there is an ongoing attempt to initialize\n    // bokeh, however for backward compatibility we also try to ensure\n    // that we do not start loading a newer (Panel>=1.0 and Bokeh>3) version\n    // before older versions are fully initialized.\n    if (root._bokeh_is_initializing && Date.now() > root._bokeh_timeout) {\n      // If the timeout and bokeh was not successfully loaded we reset\n      // everything and try loading again\n      root._bokeh_timeout = Date.now() + 5000;\n      root._bokeh_is_initializing = false;\n      root._bokeh_onload_callbacks = undefined;\n      root._bokeh_is_loading = 0\n      console.log(\"Bokeh: BokehJS was loaded multiple times but one version failed to initialize.\");\n      load_or_wait();\n    } else if (root._bokeh_is_initializing || (typeof root._bokeh_is_initializing === \"undefined\" && root._bokeh_onload_callbacks !== undefined)) {\n      setTimeout(load_or_wait, 100);\n    } else {\n      root._bokeh_is_initializing = true\n      root._bokeh_onload_callbacks = []\n      const bokeh_loaded = root.Bokeh != null && (root.Bokeh.version === py_version || (root.Bokeh.versions !== undefined && root.Bokeh.versions.has(py_version)));\n      if (!reloading && !bokeh_loaded) {\n        if (root.Bokeh) {\n          root.Bokeh = undefined;\n        }\n        console.debug(\"Bokeh: BokehJS not loaded, scheduling load and callback at\", now());\n      }\n      load_libs(css_urls, js_urls, js_modules, js_exports, function() {\n        console.debug(\"Bokeh: BokehJS plotting callback run at\", now());\n        run_inline_js();\n      });\n    }\n  }\n  // Give older versions of the autoload script a head-start to ensure\n  // they initialize before we start loading newer version.\n  setTimeout(load_or_wait, 100)\n}(window));"
     },
     "metadata": {},
     "output_type": "display_data"
    },
    {
     "data": {
      "application/javascript": [
       "\n",
       "if ((window.PyViz === undefined) || (window.PyViz instanceof HTMLElement)) {\n",
       "  window.PyViz = {comms: {}, comm_status:{}, kernels:{}, receivers: {}, plot_index: []}\n",
       "}\n",
       "\n",
       "\n",
       "    function JupyterCommManager() {\n",
       "    }\n",
       "\n",
       "    JupyterCommManager.prototype.register_target = function(plot_id, comm_id, msg_handler) {\n",
       "      if (window.comm_manager || ((window.Jupyter !== undefined) && (Jupyter.notebook.kernel != null))) {\n",
       "        var comm_manager = window.comm_manager || Jupyter.notebook.kernel.comm_manager;\n",
       "        comm_manager.register_target(comm_id, function(comm) {\n",
       "          comm.on_msg(msg_handler);\n",
       "        });\n",
       "      } else if ((plot_id in window.PyViz.kernels) && (window.PyViz.kernels[plot_id])) {\n",
       "        window.PyViz.kernels[plot_id].registerCommTarget(comm_id, function(comm) {\n",
       "          comm.onMsg = msg_handler;\n",
       "        });\n",
       "      } else if (typeof google != 'undefined' && google.colab.kernel != null) {\n",
       "        google.colab.kernel.comms.registerTarget(comm_id, (comm) => {\n",
       "          var messages = comm.messages[Symbol.asyncIterator]();\n",
       "          function processIteratorResult(result) {\n",
       "            var message = result.value;\n",
       "            console.log(message)\n",
       "            var content = {data: message.data, comm_id};\n",
       "            var buffers = []\n",
       "            for (var buffer of message.buffers || []) {\n",
       "              buffers.push(new DataView(buffer))\n",
       "            }\n",
       "            var metadata = message.metadata || {};\n",
       "            var msg = {content, buffers, metadata}\n",
       "            msg_handler(msg);\n",
       "            return messages.next().then(processIteratorResult);\n",
       "          }\n",
       "          return messages.next().then(processIteratorResult);\n",
       "        })\n",
       "      }\n",
       "    }\n",
       "\n",
       "    JupyterCommManager.prototype.get_client_comm = function(plot_id, comm_id, msg_handler) {\n",
       "      if (comm_id in window.PyViz.comms) {\n",
       "        return window.PyViz.comms[comm_id];\n",
       "      } else if (window.comm_manager || ((window.Jupyter !== undefined) && (Jupyter.notebook.kernel != null))) {\n",
       "        var comm_manager = window.comm_manager || Jupyter.notebook.kernel.comm_manager;\n",
       "        var comm = comm_manager.new_comm(comm_id, {}, {}, {}, comm_id);\n",
       "        if (msg_handler) {\n",
       "          comm.on_msg(msg_handler);\n",
       "        }\n",
       "      } else if ((plot_id in window.PyViz.kernels) && (window.PyViz.kernels[plot_id])) {\n",
       "        var comm = window.PyViz.kernels[plot_id].connectToComm(comm_id);\n",
       "        comm.open();\n",
       "        if (msg_handler) {\n",
       "          comm.onMsg = msg_handler;\n",
       "        }\n",
       "      } else if (typeof google != 'undefined' && google.colab.kernel != null) {\n",
       "        var comm_promise = google.colab.kernel.comms.open(comm_id)\n",
       "        comm_promise.then((comm) => {\n",
       "          window.PyViz.comms[comm_id] = comm;\n",
       "          if (msg_handler) {\n",
       "            var messages = comm.messages[Symbol.asyncIterator]();\n",
       "            function processIteratorResult(result) {\n",
       "              var message = result.value;\n",
       "              var content = {data: message.data};\n",
       "              var metadata = message.metadata || {comm_id};\n",
       "              var msg = {content, metadata}\n",
       "              msg_handler(msg);\n",
       "              return messages.next().then(processIteratorResult);\n",
       "            }\n",
       "            return messages.next().then(processIteratorResult);\n",
       "          }\n",
       "        })\n",
       "        var sendClosure = (data, metadata, buffers, disposeOnDone) => {\n",
       "          return comm_promise.then((comm) => {\n",
       "            comm.send(data, metadata, buffers, disposeOnDone);\n",
       "          });\n",
       "        };\n",
       "        var comm = {\n",
       "          send: sendClosure\n",
       "        };\n",
       "      }\n",
       "      window.PyViz.comms[comm_id] = comm;\n",
       "      return comm;\n",
       "    }\n",
       "    window.PyViz.comm_manager = new JupyterCommManager();\n",
       "    \n",
       "\n",
       "\n",
       "var JS_MIME_TYPE = 'application/javascript';\n",
       "var HTML_MIME_TYPE = 'text/html';\n",
       "var EXEC_MIME_TYPE = 'application/vnd.holoviews_exec.v0+json';\n",
       "var CLASS_NAME = 'output';\n",
       "\n",
       "/**\n",
       " * Render data to the DOM node\n",
       " */\n",
       "function render(props, node) {\n",
       "  var div = document.createElement(\"div\");\n",
       "  var script = document.createElement(\"script\");\n",
       "  node.appendChild(div);\n",
       "  node.appendChild(script);\n",
       "}\n",
       "\n",
       "/**\n",
       " * Handle when a new output is added\n",
       " */\n",
       "function handle_add_output(event, handle) {\n",
       "  var output_area = handle.output_area;\n",
       "  var output = handle.output;\n",
       "  if ((output.data == undefined) || (!output.data.hasOwnProperty(EXEC_MIME_TYPE))) {\n",
       "    return\n",
       "  }\n",
       "  var id = output.metadata[EXEC_MIME_TYPE][\"id\"];\n",
       "  var toinsert = output_area.element.find(\".\" + CLASS_NAME.split(' ')[0]);\n",
       "  if (id !== undefined) {\n",
       "    var nchildren = toinsert.length;\n",
       "    var html_node = toinsert[nchildren-1].children[0];\n",
       "    html_node.innerHTML = output.data[HTML_MIME_TYPE];\n",
       "    var scripts = [];\n",
       "    var nodelist = html_node.querySelectorAll(\"script\");\n",
       "    for (var i in nodelist) {\n",
       "      if (nodelist.hasOwnProperty(i)) {\n",
       "        scripts.push(nodelist[i])\n",
       "      }\n",
       "    }\n",
       "\n",
       "    scripts.forEach( function (oldScript) {\n",
       "      var newScript = document.createElement(\"script\");\n",
       "      var attrs = [];\n",
       "      var nodemap = oldScript.attributes;\n",
       "      for (var j in nodemap) {\n",
       "        if (nodemap.hasOwnProperty(j)) {\n",
       "          attrs.push(nodemap[j])\n",
       "        }\n",
       "      }\n",
       "      attrs.forEach(function(attr) { newScript.setAttribute(attr.name, attr.value) });\n",
       "      newScript.appendChild(document.createTextNode(oldScript.innerHTML));\n",
       "      oldScript.parentNode.replaceChild(newScript, oldScript);\n",
       "    });\n",
       "    if (JS_MIME_TYPE in output.data) {\n",
       "      toinsert[nchildren-1].children[1].textContent = output.data[JS_MIME_TYPE];\n",
       "    }\n",
       "    output_area._hv_plot_id = id;\n",
       "    if ((window.Bokeh !== undefined) && (id in Bokeh.index)) {\n",
       "      window.PyViz.plot_index[id] = Bokeh.index[id];\n",
       "    } else {\n",
       "      window.PyViz.plot_index[id] = null;\n",
       "    }\n",
       "  } else if (output.metadata[EXEC_MIME_TYPE][\"server_id\"] !== undefined) {\n",
       "    var bk_div = document.createElement(\"div\");\n",
       "    bk_div.innerHTML = output.data[HTML_MIME_TYPE];\n",
       "    var script_attrs = bk_div.children[0].attributes;\n",
       "    for (var i = 0; i < script_attrs.length; i++) {\n",
       "      toinsert[toinsert.length - 1].childNodes[1].setAttribute(script_attrs[i].name, script_attrs[i].value);\n",
       "    }\n",
       "    // store reference to server id on output_area\n",
       "    output_area._bokeh_server_id = output.metadata[EXEC_MIME_TYPE][\"server_id\"];\n",
       "  }\n",
       "}\n",
       "\n",
       "/**\n",
       " * Handle when an output is cleared or removed\n",
       " */\n",
       "function handle_clear_output(event, handle) {\n",
       "  var id = handle.cell.output_area._hv_plot_id;\n",
       "  var server_id = handle.cell.output_area._bokeh_server_id;\n",
       "  if (((id === undefined) || !(id in PyViz.plot_index)) && (server_id !== undefined)) { return; }\n",
       "  var comm = window.PyViz.comm_manager.get_client_comm(\"hv-extension-comm\", \"hv-extension-comm\", function () {});\n",
       "  if (server_id !== null) {\n",
       "    comm.send({event_type: 'server_delete', 'id': server_id});\n",
       "    return;\n",
       "  } else if (comm !== null) {\n",
       "    comm.send({event_type: 'delete', 'id': id});\n",
       "  }\n",
       "  delete PyViz.plot_index[id];\n",
       "  if ((window.Bokeh !== undefined) & (id in window.Bokeh.index)) {\n",
       "    var doc = window.Bokeh.index[id].model.document\n",
       "    doc.clear();\n",
       "    const i = window.Bokeh.documents.indexOf(doc);\n",
       "    if (i > -1) {\n",
       "      window.Bokeh.documents.splice(i, 1);\n",
       "    }\n",
       "  }\n",
       "}\n",
       "\n",
       "/**\n",
       " * Handle kernel restart event\n",
       " */\n",
       "function handle_kernel_cleanup(event, handle) {\n",
       "  delete PyViz.comms[\"hv-extension-comm\"];\n",
       "  window.PyViz.plot_index = {}\n",
       "}\n",
       "\n",
       "/**\n",
       " * Handle update_display_data messages\n",
       " */\n",
       "function handle_update_output(event, handle) {\n",
       "  handle_clear_output(event, {cell: {output_area: handle.output_area}})\n",
       "  handle_add_output(event, handle)\n",
       "}\n",
       "\n",
       "function register_renderer(events, OutputArea) {\n",
       "  function append_mime(data, metadata, element) {\n",
       "    // create a DOM node to render to\n",
       "    var toinsert = this.create_output_subarea(\n",
       "    metadata,\n",
       "    CLASS_NAME,\n",
       "    EXEC_MIME_TYPE\n",
       "    );\n",
       "    this.keyboard_manager.register_events(toinsert);\n",
       "    // Render to node\n",
       "    var props = {data: data, metadata: metadata[EXEC_MIME_TYPE]};\n",
       "    render(props, toinsert[0]);\n",
       "    element.append(toinsert);\n",
       "    return toinsert\n",
       "  }\n",
       "\n",
       "  events.on('output_added.OutputArea', handle_add_output);\n",
       "  events.on('output_updated.OutputArea', handle_update_output);\n",
       "  events.on('clear_output.CodeCell', handle_clear_output);\n",
       "  events.on('delete.Cell', handle_clear_output);\n",
       "  events.on('kernel_ready.Kernel', handle_kernel_cleanup);\n",
       "\n",
       "  OutputArea.prototype.register_mime_type(EXEC_MIME_TYPE, append_mime, {\n",
       "    safe: true,\n",
       "    index: 0\n",
       "  });\n",
       "}\n",
       "\n",
       "if (window.Jupyter !== undefined) {\n",
       "  try {\n",
       "    var events = require('base/js/events');\n",
       "    var OutputArea = require('notebook/js/outputarea').OutputArea;\n",
       "    if (OutputArea.prototype.mime_types().indexOf(EXEC_MIME_TYPE) == -1) {\n",
       "      register_renderer(events, OutputArea);\n",
       "    }\n",
       "  } catch(err) {\n",
       "  }\n",
       "}\n"
      ],
      "application/vnd.holoviews_load.v0+json": "\nif ((window.PyViz === undefined) || (window.PyViz instanceof HTMLElement)) {\n  window.PyViz = {comms: {}, comm_status:{}, kernels:{}, receivers: {}, plot_index: []}\n}\n\n\n    function JupyterCommManager() {\n    }\n\n    JupyterCommManager.prototype.register_target = function(plot_id, comm_id, msg_handler) {\n      if (window.comm_manager || ((window.Jupyter !== undefined) && (Jupyter.notebook.kernel != null))) {\n        var comm_manager = window.comm_manager || Jupyter.notebook.kernel.comm_manager;\n        comm_manager.register_target(comm_id, function(comm) {\n          comm.on_msg(msg_handler);\n        });\n      } else if ((plot_id in window.PyViz.kernels) && (window.PyViz.kernels[plot_id])) {\n        window.PyViz.kernels[plot_id].registerCommTarget(comm_id, function(comm) {\n          comm.onMsg = msg_handler;\n        });\n      } else if (typeof google != 'undefined' && google.colab.kernel != null) {\n        google.colab.kernel.comms.registerTarget(comm_id, (comm) => {\n          var messages = comm.messages[Symbol.asyncIterator]();\n          function processIteratorResult(result) {\n            var message = result.value;\n            console.log(message)\n            var content = {data: message.data, comm_id};\n            var buffers = []\n            for (var buffer of message.buffers || []) {\n              buffers.push(new DataView(buffer))\n            }\n            var metadata = message.metadata || {};\n            var msg = {content, buffers, metadata}\n            msg_handler(msg);\n            return messages.next().then(processIteratorResult);\n          }\n          return messages.next().then(processIteratorResult);\n        })\n      }\n    }\n\n    JupyterCommManager.prototype.get_client_comm = function(plot_id, comm_id, msg_handler) {\n      if (comm_id in window.PyViz.comms) {\n        return window.PyViz.comms[comm_id];\n      } else if (window.comm_manager || ((window.Jupyter !== undefined) && (Jupyter.notebook.kernel != null))) {\n        var comm_manager = window.comm_manager || Jupyter.notebook.kernel.comm_manager;\n        var comm = comm_manager.new_comm(comm_id, {}, {}, {}, comm_id);\n        if (msg_handler) {\n          comm.on_msg(msg_handler);\n        }\n      } else if ((plot_id in window.PyViz.kernels) && (window.PyViz.kernels[plot_id])) {\n        var comm = window.PyViz.kernels[plot_id].connectToComm(comm_id);\n        comm.open();\n        if (msg_handler) {\n          comm.onMsg = msg_handler;\n        }\n      } else if (typeof google != 'undefined' && google.colab.kernel != null) {\n        var comm_promise = google.colab.kernel.comms.open(comm_id)\n        comm_promise.then((comm) => {\n          window.PyViz.comms[comm_id] = comm;\n          if (msg_handler) {\n            var messages = comm.messages[Symbol.asyncIterator]();\n            function processIteratorResult(result) {\n              var message = result.value;\n              var content = {data: message.data};\n              var metadata = message.metadata || {comm_id};\n              var msg = {content, metadata}\n              msg_handler(msg);\n              return messages.next().then(processIteratorResult);\n            }\n            return messages.next().then(processIteratorResult);\n          }\n        })\n        var sendClosure = (data, metadata, buffers, disposeOnDone) => {\n          return comm_promise.then((comm) => {\n            comm.send(data, metadata, buffers, disposeOnDone);\n          });\n        };\n        var comm = {\n          send: sendClosure\n        };\n      }\n      window.PyViz.comms[comm_id] = comm;\n      return comm;\n    }\n    window.PyViz.comm_manager = new JupyterCommManager();\n    \n\n\nvar JS_MIME_TYPE = 'application/javascript';\nvar HTML_MIME_TYPE = 'text/html';\nvar EXEC_MIME_TYPE = 'application/vnd.holoviews_exec.v0+json';\nvar CLASS_NAME = 'output';\n\n/**\n * Render data to the DOM node\n */\nfunction render(props, node) {\n  var div = document.createElement(\"div\");\n  var script = document.createElement(\"script\");\n  node.appendChild(div);\n  node.appendChild(script);\n}\n\n/**\n * Handle when a new output is added\n */\nfunction handle_add_output(event, handle) {\n  var output_area = handle.output_area;\n  var output = handle.output;\n  if ((output.data == undefined) || (!output.data.hasOwnProperty(EXEC_MIME_TYPE))) {\n    return\n  }\n  var id = output.metadata[EXEC_MIME_TYPE][\"id\"];\n  var toinsert = output_area.element.find(\".\" + CLASS_NAME.split(' ')[0]);\n  if (id !== undefined) {\n    var nchildren = toinsert.length;\n    var html_node = toinsert[nchildren-1].children[0];\n    html_node.innerHTML = output.data[HTML_MIME_TYPE];\n    var scripts = [];\n    var nodelist = html_node.querySelectorAll(\"script\");\n    for (var i in nodelist) {\n      if (nodelist.hasOwnProperty(i)) {\n        scripts.push(nodelist[i])\n      }\n    }\n\n    scripts.forEach( function (oldScript) {\n      var newScript = document.createElement(\"script\");\n      var attrs = [];\n      var nodemap = oldScript.attributes;\n      for (var j in nodemap) {\n        if (nodemap.hasOwnProperty(j)) {\n          attrs.push(nodemap[j])\n        }\n      }\n      attrs.forEach(function(attr) { newScript.setAttribute(attr.name, attr.value) });\n      newScript.appendChild(document.createTextNode(oldScript.innerHTML));\n      oldScript.parentNode.replaceChild(newScript, oldScript);\n    });\n    if (JS_MIME_TYPE in output.data) {\n      toinsert[nchildren-1].children[1].textContent = output.data[JS_MIME_TYPE];\n    }\n    output_area._hv_plot_id = id;\n    if ((window.Bokeh !== undefined) && (id in Bokeh.index)) {\n      window.PyViz.plot_index[id] = Bokeh.index[id];\n    } else {\n      window.PyViz.plot_index[id] = null;\n    }\n  } else if (output.metadata[EXEC_MIME_TYPE][\"server_id\"] !== undefined) {\n    var bk_div = document.createElement(\"div\");\n    bk_div.innerHTML = output.data[HTML_MIME_TYPE];\n    var script_attrs = bk_div.children[0].attributes;\n    for (var i = 0; i < script_attrs.length; i++) {\n      toinsert[toinsert.length - 1].childNodes[1].setAttribute(script_attrs[i].name, script_attrs[i].value);\n    }\n    // store reference to server id on output_area\n    output_area._bokeh_server_id = output.metadata[EXEC_MIME_TYPE][\"server_id\"];\n  }\n}\n\n/**\n * Handle when an output is cleared or removed\n */\nfunction handle_clear_output(event, handle) {\n  var id = handle.cell.output_area._hv_plot_id;\n  var server_id = handle.cell.output_area._bokeh_server_id;\n  if (((id === undefined) || !(id in PyViz.plot_index)) && (server_id !== undefined)) { return; }\n  var comm = window.PyViz.comm_manager.get_client_comm(\"hv-extension-comm\", \"hv-extension-comm\", function () {});\n  if (server_id !== null) {\n    comm.send({event_type: 'server_delete', 'id': server_id});\n    return;\n  } else if (comm !== null) {\n    comm.send({event_type: 'delete', 'id': id});\n  }\n  delete PyViz.plot_index[id];\n  if ((window.Bokeh !== undefined) & (id in window.Bokeh.index)) {\n    var doc = window.Bokeh.index[id].model.document\n    doc.clear();\n    const i = window.Bokeh.documents.indexOf(doc);\n    if (i > -1) {\n      window.Bokeh.documents.splice(i, 1);\n    }\n  }\n}\n\n/**\n * Handle kernel restart event\n */\nfunction handle_kernel_cleanup(event, handle) {\n  delete PyViz.comms[\"hv-extension-comm\"];\n  window.PyViz.plot_index = {}\n}\n\n/**\n * Handle update_display_data messages\n */\nfunction handle_update_output(event, handle) {\n  handle_clear_output(event, {cell: {output_area: handle.output_area}})\n  handle_add_output(event, handle)\n}\n\nfunction register_renderer(events, OutputArea) {\n  function append_mime(data, metadata, element) {\n    // create a DOM node to render to\n    var toinsert = this.create_output_subarea(\n    metadata,\n    CLASS_NAME,\n    EXEC_MIME_TYPE\n    );\n    this.keyboard_manager.register_events(toinsert);\n    // Render to node\n    var props = {data: data, metadata: metadata[EXEC_MIME_TYPE]};\n    render(props, toinsert[0]);\n    element.append(toinsert);\n    return toinsert\n  }\n\n  events.on('output_added.OutputArea', handle_add_output);\n  events.on('output_updated.OutputArea', handle_update_output);\n  events.on('clear_output.CodeCell', handle_clear_output);\n  events.on('delete.Cell', handle_clear_output);\n  events.on('kernel_ready.Kernel', handle_kernel_cleanup);\n\n  OutputArea.prototype.register_mime_type(EXEC_MIME_TYPE, append_mime, {\n    safe: true,\n    index: 0\n  });\n}\n\nif (window.Jupyter !== undefined) {\n  try {\n    var events = require('base/js/events');\n    var OutputArea = require('notebook/js/outputarea').OutputArea;\n    if (OutputArea.prototype.mime_types().indexOf(EXEC_MIME_TYPE) == -1) {\n      register_renderer(events, OutputArea);\n    }\n  } catch(err) {\n  }\n}\n"
     },
     "metadata": {},
     "output_type": "display_data"
    },
    {
     "data": {
      "application/vnd.holoviews_exec.v0+json": "",
      "text/html": [
       "<div id='58828a01-65a6-45cc-8d69-cbd86d6f8fc4'>\n",
       "  <div id=\"acd2921f-ad65-4889-8a79-5e21fb7b119b\" data-root-id=\"58828a01-65a6-45cc-8d69-cbd86d6f8fc4\" style=\"display: contents;\"></div>\n",
       "</div>\n",
       "<script type=\"application/javascript\">(function(root) {\n",
       "  var docs_json = {\"372fbf1d-e079-4053-b190-209cea2af797\":{\"version\":\"3.7.3\",\"title\":\"Bokeh Application\",\"roots\":[{\"type\":\"object\",\"name\":\"panel.models.browser.BrowserInfo\",\"id\":\"58828a01-65a6-45cc-8d69-cbd86d6f8fc4\"},{\"type\":\"object\",\"name\":\"panel.models.comm_manager.CommManager\",\"id\":\"77dbf8ee-a220-4277-a497-5f8f4b26ff75\",\"attributes\":{\"plot_id\":\"58828a01-65a6-45cc-8d69-cbd86d6f8fc4\",\"comm_id\":\"f604d2b795714badb78dcb8fda3a6561\",\"client_comm_id\":\"35dd113b4b7a48c991e13e828e7fc61a\"}}],\"defs\":[{\"type\":\"model\",\"name\":\"ReactiveHTML1\"},{\"type\":\"model\",\"name\":\"FlexBox1\",\"properties\":[{\"name\":\"align_content\",\"kind\":\"Any\",\"default\":\"flex-start\"},{\"name\":\"align_items\",\"kind\":\"Any\",\"default\":\"flex-start\"},{\"name\":\"flex_direction\",\"kind\":\"Any\",\"default\":\"row\"},{\"name\":\"flex_wrap\",\"kind\":\"Any\",\"default\":\"wrap\"},{\"name\":\"gap\",\"kind\":\"Any\",\"default\":\"\"},{\"name\":\"justify_content\",\"kind\":\"Any\",\"default\":\"flex-start\"}]},{\"type\":\"model\",\"name\":\"FloatPanel1\",\"properties\":[{\"name\":\"config\",\"kind\":\"Any\",\"default\":{\"type\":\"map\"}},{\"name\":\"contained\",\"kind\":\"Any\",\"default\":true},{\"name\":\"position\",\"kind\":\"Any\",\"default\":\"right-top\"},{\"name\":\"offsetx\",\"kind\":\"Any\",\"default\":null},{\"name\":\"offsety\",\"kind\":\"Any\",\"default\":null},{\"name\":\"theme\",\"kind\":\"Any\",\"default\":\"primary\"},{\"name\":\"status\",\"kind\":\"Any\",\"default\":\"normalized\"}]},{\"type\":\"model\",\"name\":\"GridStack1\",\"properties\":[{\"name\":\"ncols\",\"kind\":\"Any\",\"default\":null},{\"name\":\"nrows\",\"kind\":\"Any\",\"default\":null},{\"name\":\"allow_resize\",\"kind\":\"Any\",\"default\":true},{\"name\":\"allow_drag\",\"kind\":\"Any\",\"default\":true},{\"name\":\"state\",\"kind\":\"Any\",\"default\":[]}]},{\"type\":\"model\",\"name\":\"drag1\",\"properties\":[{\"name\":\"slider_width\",\"kind\":\"Any\",\"default\":5},{\"name\":\"slider_color\",\"kind\":\"Any\",\"default\":\"black\"},{\"name\":\"value\",\"kind\":\"Any\",\"default\":50}]},{\"type\":\"model\",\"name\":\"click1\",\"properties\":[{\"name\":\"terminal_output\",\"kind\":\"Any\",\"default\":\"\"},{\"name\":\"debug_name\",\"kind\":\"Any\",\"default\":\"\"},{\"name\":\"clears\",\"kind\":\"Any\",\"default\":0}]},{\"type\":\"model\",\"name\":\"FastWrapper1\",\"properties\":[{\"name\":\"object\",\"kind\":\"Any\",\"default\":null},{\"name\":\"style\",\"kind\":\"Any\",\"default\":null}]},{\"type\":\"model\",\"name\":\"NotificationArea1\",\"properties\":[{\"name\":\"js_events\",\"kind\":\"Any\",\"default\":{\"type\":\"map\"}},{\"name\":\"max_notifications\",\"kind\":\"Any\",\"default\":5},{\"name\":\"notifications\",\"kind\":\"Any\",\"default\":[]},{\"name\":\"position\",\"kind\":\"Any\",\"default\":\"bottom-right\"},{\"name\":\"_clear\",\"kind\":\"Any\",\"default\":0},{\"name\":\"types\",\"kind\":\"Any\",\"default\":[{\"type\":\"map\",\"entries\":[[\"type\",\"warning\"],[\"background\",\"#ffc107\"],[\"icon\",{\"type\":\"map\",\"entries\":[[\"className\",\"fas fa-exclamation-triangle\"],[\"tagName\",\"i\"],[\"color\",\"white\"]]}]]},{\"type\":\"map\",\"entries\":[[\"type\",\"info\"],[\"background\",\"#007bff\"],[\"icon\",{\"type\":\"map\",\"entries\":[[\"className\",\"fas fa-info-circle\"],[\"tagName\",\"i\"],[\"color\",\"white\"]]}]]}]}]},{\"type\":\"model\",\"name\":\"Notification\",\"properties\":[{\"name\":\"background\",\"kind\":\"Any\",\"default\":null},{\"name\":\"duration\",\"kind\":\"Any\",\"default\":3000},{\"name\":\"icon\",\"kind\":\"Any\",\"default\":null},{\"name\":\"message\",\"kind\":\"Any\",\"default\":\"\"},{\"name\":\"notification_type\",\"kind\":\"Any\",\"default\":null},{\"name\":\"_rendered\",\"kind\":\"Any\",\"default\":false},{\"name\":\"_destroyed\",\"kind\":\"Any\",\"default\":false}]},{\"type\":\"model\",\"name\":\"TemplateActions1\",\"properties\":[{\"name\":\"open_modal\",\"kind\":\"Any\",\"default\":0},{\"name\":\"close_modal\",\"kind\":\"Any\",\"default\":0}]},{\"type\":\"model\",\"name\":\"BootstrapTemplateActions1\",\"properties\":[{\"name\":\"open_modal\",\"kind\":\"Any\",\"default\":0},{\"name\":\"close_modal\",\"kind\":\"Any\",\"default\":0}]},{\"type\":\"model\",\"name\":\"TemplateEditor1\",\"properties\":[{\"name\":\"layout\",\"kind\":\"Any\",\"default\":[]}]},{\"type\":\"model\",\"name\":\"MaterialTemplateActions1\",\"properties\":[{\"name\":\"open_modal\",\"kind\":\"Any\",\"default\":0},{\"name\":\"close_modal\",\"kind\":\"Any\",\"default\":0}]},{\"type\":\"model\",\"name\":\"ReactiveESM1\",\"properties\":[{\"name\":\"esm_constants\",\"kind\":\"Any\",\"default\":{\"type\":\"map\"}}]},{\"type\":\"model\",\"name\":\"JSComponent1\",\"properties\":[{\"name\":\"esm_constants\",\"kind\":\"Any\",\"default\":{\"type\":\"map\"}}]},{\"type\":\"model\",\"name\":\"ReactComponent1\",\"properties\":[{\"name\":\"esm_constants\",\"kind\":\"Any\",\"default\":{\"type\":\"map\"}}]},{\"type\":\"model\",\"name\":\"AnyWidgetComponent1\",\"properties\":[{\"name\":\"esm_constants\",\"kind\":\"Any\",\"default\":{\"type\":\"map\"}}]},{\"type\":\"model\",\"name\":\"request_value1\",\"properties\":[{\"name\":\"fill\",\"kind\":\"Any\",\"default\":\"none\"},{\"name\":\"_synced\",\"kind\":\"Any\",\"default\":null},{\"name\":\"_request_sync\",\"kind\":\"Any\",\"default\":0}]}]}};\n",
       "  var render_items = [{\"docid\":\"372fbf1d-e079-4053-b190-209cea2af797\",\"roots\":{\"58828a01-65a6-45cc-8d69-cbd86d6f8fc4\":\"acd2921f-ad65-4889-8a79-5e21fb7b119b\"},\"root_ids\":[\"58828a01-65a6-45cc-8d69-cbd86d6f8fc4\"]}];\n",
       "  var docs = Object.values(docs_json)\n",
       "  if (!docs) {\n",
       "    return\n",
       "  }\n",
       "  const py_version = docs[0].version.replace('rc', '-rc.').replace('.dev', '-dev.')\n",
       "  async function embed_document(root) {\n",
       "    var Bokeh = get_bokeh(root)\n",
       "    await Bokeh.embed.embed_items_notebook(docs_json, render_items);\n",
       "    for (const render_item of render_items) {\n",
       "      for (const root_id of render_item.root_ids) {\n",
       "\tconst id_el = document.getElementById(root_id)\n",
       "\tif (id_el.children.length && id_el.children[0].hasAttribute('data-root-id')) {\n",
       "\t  const root_el = id_el.children[0]\n",
       "\t  root_el.id = root_el.id + '-rendered'\n",
       "\t  for (const child of root_el.children) {\n",
       "            // Ensure JupyterLab does not capture keyboard shortcuts\n",
       "            // see: https://jupyterlab.readthedocs.io/en/4.1.x/extension/notebook.html#keyboard-interaction-model\n",
       "\t    child.setAttribute('data-lm-suppress-shortcuts', 'true')\n",
       "\t  }\n",
       "\t}\n",
       "      }\n",
       "    }\n",
       "  }\n",
       "  function get_bokeh(root) {\n",
       "    if (root.Bokeh === undefined) {\n",
       "      return null\n",
       "    } else if (root.Bokeh.version !== py_version) {\n",
       "      if (root.Bokeh.versions === undefined || !root.Bokeh.versions.has(py_version)) {\n",
       "\treturn null\n",
       "      }\n",
       "      return root.Bokeh.versions.get(py_version);\n",
       "    } else if (root.Bokeh.version === py_version) {\n",
       "      return root.Bokeh\n",
       "    }\n",
       "    return null\n",
       "  }\n",
       "  function is_loaded(root) {\n",
       "    var Bokeh = get_bokeh(root)\n",
       "    return (Bokeh != null && Bokeh.Panel !== undefined)\n",
       "  }\n",
       "  if (is_loaded(root)) {\n",
       "    embed_document(root);\n",
       "  } else {\n",
       "    var attempts = 0;\n",
       "    var timer = setInterval(function(root) {\n",
       "      if (is_loaded(root)) {\n",
       "        clearInterval(timer);\n",
       "        embed_document(root);\n",
       "      } else if (document.readyState == \"complete\") {\n",
       "        attempts++;\n",
       "        if (attempts > 200) {\n",
       "          clearInterval(timer);\n",
       "\t  var Bokeh = get_bokeh(root)\n",
       "\t  if (Bokeh == null || Bokeh.Panel == null) {\n",
       "            console.warn(\"Panel: ERROR: Unable to run Panel code because Bokeh or Panel library is missing\");\n",
       "\t  } else {\n",
       "\t    console.warn(\"Panel: WARNING: Attempting to render but not all required libraries could be resolved.\")\n",
       "\t    embed_document(root)\n",
       "\t  }\n",
       "        }\n",
       "      }\n",
       "    }, 25, root)\n",
       "  }\n",
       "})(window);</script>"
      ]
     },
     "metadata": {
      "application/vnd.holoviews_exec.v0+json": {
       "id": "58828a01-65a6-45cc-8d69-cbd86d6f8fc4"
      }
     },
     "output_type": "display_data"
    }
   ],
   "source": [
    "import climakitae as ck\n",
    "from climakitae.util.utils import (\n",
    "    convert_to_local_time,\n",
    "    get_closest_gridcell,\n",
    ")\n",
    "from climakitae.core.data_export import write_tmy_file\n",
    "from climakitae.core.data_interface import get_data\n",
    "import climakitaegui as ckg\n",
    "\n",
    "import pandas as pd\n",
    "import xarray as xr\n",
    "import numpy as np\n",
    "import pkg_resources\n",
    "from tqdm.auto import tqdm  # Progress bar\n",
    "\n",
    "import warnings\n",
    "warnings.filterwarnings(\"ignore\")"
   ]
  },
  {
   "cell_type": "code",
   "execution_count": 4,
   "id": "e3708955-0860-4983-8a49-58fffe3df8e2",
   "metadata": {},
   "outputs": [],
   "source": [
    "from tmy_functions import TMY"
   ]
  },
  {
   "cell_type": "markdown",
   "id": "10bd29b6-4bd4-4e3e-864e-688480d8edb1",
   "metadata": {},
   "source": [
    "### Step 1: Grab and process all required input data\n",
    "\n",
    "The [TMY3 method](https://www.nrel.gov/docs/fy08osti/43156.pdf) selects a \"typical\" month based on ten daily variables: max, min, and mean air and dew point temperatures, max and mean wind speed, global irradiance and direct irradiance.  \n",
    "\n",
    "#### Step 1a: Select location of interest\n",
    "TMYs are calculated for a specific location of interest, like a building or power plant. Here, we will use a known weather station location, via their latitude and longitude to extract the data that we need to calculate the TMY. In the example below, we will look specifically at Los Angeles International Airport, but will note in the code below how you can provide your own location coordinates too. "
   ]
  },
  {
   "cell_type": "code",
   "execution_count": 5,
   "id": "c93a86a0-7a14-47c7-bf89-ee5c76a34aa2",
   "metadata": {
    "tags": []
   },
   "outputs": [
    {
     "data": {
      "text/html": [
       "<div>\n",
       "<style scoped>\n",
       "    .dataframe tbody tr th:only-of-type {\n",
       "        vertical-align: middle;\n",
       "    }\n",
       "\n",
       "    .dataframe tbody tr th {\n",
       "        vertical-align: top;\n",
       "    }\n",
       "\n",
       "    .dataframe thead th {\n",
       "        text-align: right;\n",
       "    }\n",
       "</style>\n",
       "<table border=\"1\" class=\"dataframe\">\n",
       "  <thead>\n",
       "    <tr style=\"text-align: right;\">\n",
       "      <th></th>\n",
       "      <th>state</th>\n",
       "      <th>station</th>\n",
       "      <th>city</th>\n",
       "      <th>ID</th>\n",
       "      <th>LAT_Y</th>\n",
       "      <th>LON_X</th>\n",
       "      <th>station id</th>\n",
       "      <th>elevation</th>\n",
       "    </tr>\n",
       "  </thead>\n",
       "  <tbody>\n",
       "    <tr>\n",
       "      <th>0</th>\n",
       "      <td>CA</td>\n",
       "      <td>Bakersfield Meadows Field (KBFL)</td>\n",
       "      <td>Bakersfield</td>\n",
       "      <td>KBFL</td>\n",
       "      <td>35.43424</td>\n",
       "      <td>-119.05524</td>\n",
       "      <td>72384023155</td>\n",
       "      <td>149.3</td>\n",
       "    </tr>\n",
       "    <tr>\n",
       "      <th>1</th>\n",
       "      <td>CA</td>\n",
       "      <td>Blythe Asos (KBLH)</td>\n",
       "      <td>Blythe</td>\n",
       "      <td>KBLH</td>\n",
       "      <td>33.61876</td>\n",
       "      <td>-114.71451</td>\n",
       "      <td>74718823158</td>\n",
       "      <td>120.4</td>\n",
       "    </tr>\n",
       "    <tr>\n",
       "      <th>2</th>\n",
       "      <td>CA</td>\n",
       "      <td>Burbank-Glendale-Pasadena Airport (KBUR)</td>\n",
       "      <td>Burbank</td>\n",
       "      <td>KBUR</td>\n",
       "      <td>34.19966</td>\n",
       "      <td>-118.36543</td>\n",
       "      <td>72288023152</td>\n",
       "      <td>222.7</td>\n",
       "    </tr>\n",
       "    <tr>\n",
       "      <th>3</th>\n",
       "      <td>CA</td>\n",
       "      <td>Needles Airport (KEED)</td>\n",
       "      <td>Needles</td>\n",
       "      <td>KEED</td>\n",
       "      <td>34.76783</td>\n",
       "      <td>-114.61842</td>\n",
       "      <td>72380523179</td>\n",
       "      <td>270.6</td>\n",
       "    </tr>\n",
       "    <tr>\n",
       "      <th>4</th>\n",
       "      <td>CA</td>\n",
       "      <td>Fresno Yosemite International Airport (KFAT)</td>\n",
       "      <td>Fresno</td>\n",
       "      <td>KFAT</td>\n",
       "      <td>36.77999</td>\n",
       "      <td>-119.72016</td>\n",
       "      <td>72389093193</td>\n",
       "      <td>101.9</td>\n",
       "    </tr>\n",
       "  </tbody>\n",
       "</table>\n",
       "</div>"
      ],
      "text/plain": [
       "  state                                       station         city    ID  \\\n",
       "0    CA              Bakersfield Meadows Field (KBFL)  Bakersfield  KBFL   \n",
       "1    CA                            Blythe Asos (KBLH)       Blythe  KBLH   \n",
       "2    CA      Burbank-Glendale-Pasadena Airport (KBUR)      Burbank  KBUR   \n",
       "3    CA                        Needles Airport (KEED)      Needles  KEED   \n",
       "4    CA  Fresno Yosemite International Airport (KFAT)       Fresno  KFAT   \n",
       "\n",
       "      LAT_Y      LON_X   station id  elevation  \n",
       "0  35.43424 -119.05524  72384023155      149.3  \n",
       "1  33.61876 -114.71451  74718823158      120.4  \n",
       "2  34.19966 -118.36543  72288023152      222.7  \n",
       "3  34.76783 -114.61842  72380523179      270.6  \n",
       "4  36.77999 -119.72016  72389093193      101.9  "
      ]
     },
     "execution_count": 5,
     "metadata": {},
     "output_type": "execute_result"
    }
   ],
   "source": [
    "# read in station file of CA HadISD stations\n",
    "stn_file = pkg_resources.resource_filename(\"climakitae\", \"data/hadisd_stations.csv\")\n",
    "stn_file = pd.read_csv(stn_file, index_col=[0])\n",
    "stn_file.head(5)"
   ]
  },
  {
   "cell_type": "code",
   "execution_count": 6,
   "id": "ff7e25d5-a9da-4605-837d-2e93b0f77c45",
   "metadata": {
    "tags": []
   },
   "outputs": [
    {
     "data": {
      "text/plain": [
       "(33.93816, -118.3866)"
      ]
     },
     "execution_count": 6,
     "metadata": {},
     "output_type": "execute_result"
    }
   ],
   "source": [
    "# grab airport\n",
    "stn_name = \"Los Angeles International Airport (KLAX)\"\n",
    "stn_code = stn_file.loc[stn_file[\"station\"] == stn_name][\"station id\"].item()\n",
    "one_station = stn_file.loc[stn_file[\"station\"] == stn_name]\n",
    "stn_lat = one_station.LAT_Y.item()\n",
    "stn_lon = one_station.LON_X.item()\n",
    "stn_state = one_station.state.item()\n",
    "stn_lat, stn_lon"
   ]
  },
  {
   "cell_type": "code",
   "execution_count": 7,
   "id": "cf7bfcbd-eb4d-48fe-af35-1d81e842eb97",
   "metadata": {},
   "outputs": [
    {
     "name": "stdout",
     "output_type": "stream",
     "text": [
      "72295023174\n"
     ]
    }
   ],
   "source": [
    "print(stn_code)"
   ]
  },
  {
   "cell_type": "markdown",
   "id": "5ba66963-c12f-4b47-8e37-b532fe8e38a0",
   "metadata": {},
   "source": [
    "Alternatively, you may want to provide your own location instead of one of the HadISD stations above. If so, uncomment the cell below by removing the `#` symbol and modifying the lines of code. Note, with custom locations, if an elevation is not provided, a default value of 0.0 m will be used. "
   ]
  },
  {
   "cell_type": "code",
   "execution_count": 8,
   "id": "30f7f107-2221-4e95-be18-8e2db5dc3850",
   "metadata": {
    "tags": []
   },
   "outputs": [],
   "source": [
    "## provide your own location, via latitude and longitude coordinates\n",
    "# stn_lat = YOUR_LAT_HERE\n",
    "# stn_lon = YOUR_LON_HERE\n",
    "# stn_state = 'YOUR_STATE_HERE'\n",
    "# stn_name = 'YOUR_STATION_NAME_HERE'\n",
    "# stn_code = 'custom'\n",
    "# stn_elev = YOUR_ELEV_HERE # meters"
   ]
  },
  {
   "cell_type": "markdown",
   "id": "8201db8a-27b5-483f-ae13-2391c5842554",
   "metadata": {},
   "source": [
    "#### Step 1b: Select time frame of interest\n",
    "The second required input for generating a TMY dataset is the **time frame of interest**. The recommended minimum number of input years for a TMY dataset is 15-20 years worth of daily data; we will use 30 years to represent a standard climatological period. For data post-2014, we will utilize SSP 3-7.0, although scenario selection in the near-future is relatively independent. If calculating a TMY for the far-future, **carefully consider which scenario SSP to include**, as there will be **significant** differences present. \n",
    "\n",
    "We will also process the data for our designated station location (latitude, and longitude) at 9 km over the <span style=\"color:#FF0000\">1990-2020 period</span> as an example. **Note**: An additional year (2021) is also loaded to pad the end of the dataset after converting to local time in the next few steps -- this is done for you when subsetting for the data. "
   ]
  },
  {
   "cell_type": "code",
   "execution_count": 9,
   "id": "9616dce6-47e7-4919-a1b1-62dce7dc700a",
   "metadata": {},
   "outputs": [],
   "source": [
    "# selected reference period\n",
    "start_year = 1990\n",
    "end_year = 2020"
   ]
  },
  {
   "cell_type": "code",
   "execution_count": 13,
   "id": "e72119d1-cc2f-429d-a0d2-383c5ef1dbb6",
   "metadata": {},
   "outputs": [],
   "source": [
    "tmy = TMY( stn_lat, stn_lon, start_year, end_year, verbose=True)"
   ]
  },
  {
   "cell_type": "code",
   "execution_count": 14,
   "id": "7aac9458-8514-427e-9e9c-1c10847d5bc0",
   "metadata": {},
   "outputs": [
    {
     "data": {
      "text/plain": [
       "['WRF_EC-Earth3_r1i1p1f1',\n",
       " 'WRF_MPI-ESM1-2-HR_r3i1p1f1',\n",
       " 'WRF_TaiESM1_r1i1p1f1',\n",
       " 'WRF_MIROC6_r1i1p1f1']"
      ]
     },
     "execution_count": 14,
     "metadata": {},
     "output_type": "execute_result"
    }
   ],
   "source": [
    "tmy.data_models"
   ]
  },
  {
   "cell_type": "code",
   "execution_count": null,
   "id": "50cee0e1-0e70-43ff-9d89-f26e44f9efff",
   "metadata": {},
   "outputs": [
    {
     "name": "stdout",
     "output_type": "stream",
     "text": [
      "Running TMY workflow. Expected overall runtime: 40 minutes\n",
      "Loading variables. Expected runtime: 7 minutes\n",
      "Getting air temperature.\n",
      "Data converted to America/Los_Angeles timezone.\n",
      "Getting dew point temperature.\n",
      "Data converted to America/Los_Angeles timezone.\n",
      "Getting wind speed.\n",
      "Data converted to America/Los_Angeles timezone.\n",
      "Getting global irradiance.\n",
      "Data converted to America/Los_Angeles timezone.\n",
      "Getting direct normal irradiance.\n",
      "Data converted to America/Los_Angeles timezone.\n",
      "Loading all variables into memory.\n",
      "All TMY variables loaded.\n",
      "Getting top months for TMY. Expected runtime: < 1 min\n",
      "Calculating CDF climatology.\n",
      "Calculating monthly CDF.\n",
      "Calculating weighted FS statistic.\n",
      "Top months:\n",
      "    month                  simulation  year\n",
      "0       1      WRF_EC-Earth3_r1i1p1f1  2017\n",
      "1       2      WRF_EC-Earth3_r1i1p1f1  2018\n",
      "2       3      WRF_EC-Earth3_r1i1p1f1  2008\n",
      "3       4      WRF_EC-Earth3_r1i1p1f1  2019\n",
      "4       5      WRF_EC-Earth3_r1i1p1f1  2003\n",
      "5       6      WRF_EC-Earth3_r1i1p1f1  2013\n",
      "6       7      WRF_EC-Earth3_r1i1p1f1  2001\n",
      "7       8      WRF_EC-Earth3_r1i1p1f1  1999\n",
      "8       9      WRF_EC-Earth3_r1i1p1f1  1996\n",
      "9      10      WRF_EC-Earth3_r1i1p1f1  2011\n",
      "10     11      WRF_EC-Earth3_r1i1p1f1  1997\n",
      "11     12      WRF_EC-Earth3_r1i1p1f1  1996\n",
      "12      1         WRF_MIROC6_r1i1p1f1  1998\n",
      "13      2         WRF_MIROC6_r1i1p1f1  2005\n",
      "14      3         WRF_MIROC6_r1i1p1f1  2003\n",
      "15      4         WRF_MIROC6_r1i1p1f1  1998\n",
      "16      5         WRF_MIROC6_r1i1p1f1  2003\n",
      "17      6         WRF_MIROC6_r1i1p1f1  2005\n",
      "18      7         WRF_MIROC6_r1i1p1f1  1996\n",
      "19      8         WRF_MIROC6_r1i1p1f1  2009\n",
      "20      9         WRF_MIROC6_r1i1p1f1  1999\n",
      "21     10         WRF_MIROC6_r1i1p1f1  1995\n",
      "22     11         WRF_MIROC6_r1i1p1f1  2007\n",
      "23     12         WRF_MIROC6_r1i1p1f1  1990\n",
      "24      1  WRF_MPI-ESM1-2-HR_r3i1p1f1  2011\n",
      "25      2  WRF_MPI-ESM1-2-HR_r3i1p1f1  2008\n",
      "26      3  WRF_MPI-ESM1-2-HR_r3i1p1f1  2011\n",
      "27      4  WRF_MPI-ESM1-2-HR_r3i1p1f1  2001\n",
      "28      5  WRF_MPI-ESM1-2-HR_r3i1p1f1  2014\n",
      "29      6  WRF_MPI-ESM1-2-HR_r3i1p1f1  2008\n",
      "30      7  WRF_MPI-ESM1-2-HR_r3i1p1f1  2012\n",
      "31      8  WRF_MPI-ESM1-2-HR_r3i1p1f1  2018\n",
      "32      9  WRF_MPI-ESM1-2-HR_r3i1p1f1  2014\n",
      "33     10  WRF_MPI-ESM1-2-HR_r3i1p1f1  2005\n",
      "34     11  WRF_MPI-ESM1-2-HR_r3i1p1f1  1990\n",
      "35     12  WRF_MPI-ESM1-2-HR_r3i1p1f1  2015\n",
      "36      1        WRF_TaiESM1_r1i1p1f1  1995\n",
      "37      2        WRF_TaiESM1_r1i1p1f1  2008\n",
      "38      3        WRF_TaiESM1_r1i1p1f1  2014\n",
      "39      4        WRF_TaiESM1_r1i1p1f1  2012\n",
      "40      5        WRF_TaiESM1_r1i1p1f1  1990\n",
      "41      6        WRF_TaiESM1_r1i1p1f1  2020\n",
      "42      7        WRF_TaiESM1_r1i1p1f1  1998\n",
      "43      8        WRF_TaiESM1_r1i1p1f1  2005\n",
      "44      9        WRF_TaiESM1_r1i1p1f1  2014\n",
      "45     10        WRF_TaiESM1_r1i1p1f1  2005\n",
      "46     11        WRF_TaiESM1_r1i1p1f1  2008\n",
      "47     12        WRF_TaiESM1_r1i1p1f1  2001\n",
      "Done.\n",
      "Generating TMY data to export. Expected runtime: 30 minutes\n",
      "STEP 1: RETRIEVING HOURLY DATA FROM CATALOG\n",
      "\n",
      "Retrieving data for Air Temperature at 2m... Data converted to America/Los_Angeles timezone.\n",
      "complete!\n",
      "Retrieving data for Dew point temperature... Data converted to America/Los_Angeles timezone.\n",
      "complete!\n",
      "Retrieving data for Relative humidity... Data converted to America/Los_Angeles timezone.\n",
      "complete!\n",
      "Retrieving data for Instantaneous downwelling shortwave flux at bottom... Data converted to America/Los_Angeles timezone.\n",
      "complete!\n",
      "Retrieving data for Shortwave surface downward direct normal irradiance... Data converted to America/Los_Angeles timezone.\n",
      "complete!\n",
      "Retrieving data for Shortwave surface downward diffuse irradiance... Data converted to America/Los_Angeles timezone.\n",
      "complete!\n",
      "Retrieving data for Instantaneous downwelling longwave flux at bottom... Data converted to America/Los_Angeles timezone.\n",
      "complete!\n",
      "Retrieving data for Wind speed at 10m... Data converted to America/Los_Angeles timezone.\n",
      "complete!\n",
      "Retrieving data for Wind direction at 10m... Data converted to America/Los_Angeles timezone.\n",
      "complete!\n",
      "Retrieving data for Surface Pressure... Data converted to America/Los_Angeles timezone.\n",
      "complete!\n",
      "\n",
      "STEP 2: CALCULATING TYPICAL METEOROLOGICAL YEAR PER MODEL SIMULATION\n",
      "Progress bar shows code looping through each month in the year.\n",
      "\n",
      "Calculating TMY for simulation: WRF_EC-Earth3_r1i1p1f1\n"
     ]
    },
    {
     "data": {
      "application/vnd.jupyter.widget-view+json": {
       "model_id": "6e8a7c0f1d2c4547aedf5f8c2b39577d",
       "version_major": 2,
       "version_minor": 0
      },
      "text/plain": [
       "  0%|          | 0/12 [00:00<?, ?it/s]"
      ]
     },
     "metadata": {},
     "output_type": "display_data"
    }
   ],
   "source": [
    "%%time\n",
    "tmy.generate_tmy()"
   ]
  },
  {
   "cell_type": "markdown",
   "id": "15867d87-1951-4ec5-a503-35a61516810f",
   "metadata": {},
   "source": [
    "#### Step 1c: Retrieve variables in catalog\n",
    "It is important to note that not all models in the Cal-Adapt: Analytics Engine have the solar variables critical for TMY file generation - in fact, only 4 do! We will carefully subset our variables to ensure that the same 4 models are selected for consistency. \n",
    "\n",
    "Lastly, because the dynamically downscaled WRF data in the Cal-Adapt: Analytics Engine is in UTC time, we'll convert to the timezone of the station we've selected. This is particularly important for the timing of solar radiation max and min, which is a critical piece of a TMY. The handy `convert_to_local_time` function corrects for this, and ensures that all data are within the same daily timestamp."
   ]
  },
  {
   "cell_type": "code",
   "execution_count": null,
   "id": "1b1efd48-d816-41d3-9c11-a2ac65699373",
   "metadata": {
    "tags": []
   },
   "outputs": [],
   "source": [
    "# selected models\n",
    "data_models = [\n",
    "    \"WRF_EC-Earth3_r1i1p1f1\",\n",
    "    \"WRF_MPI-ESM1-2-HR_r3i1p1f1\",\n",
    "    \"WRF_TaiESM1_r1i1p1f1\",\n",
    "    \"WRF_MIROC6_r1i1p1f1\",\n",
    "]"
   ]
  },
  {
   "cell_type": "markdown",
   "id": "0799c331-5024-484d-beb2-cf97333aed9b",
   "metadata": {},
   "source": [
    "Now that we have set up the model list, let's start retrieving data! We will need to calculate summary statistics and reduce to daily timescales for the following variables:"
   ]
  },
  {
   "cell_type": "code",
   "execution_count": null,
   "id": "122c91ab-8946-4bca-a0dc-12836581b722",
   "metadata": {
    "tags": []
   },
   "outputs": [],
   "source": [
    "# air temperature\n",
    "temp_data = get_data(\n",
    "    variable=\"Air Temperature at 2m\",\n",
    "    resolution=\"9 km\",\n",
    "    timescale=\"hourly\",\n",
    "    data_type=\"Gridded\",\n",
    "    units=\"degC\",\n",
    "    latitude=(stn_lat - 0.05, stn_lat + 0.05),\n",
    "    longitude=(stn_lon - 0.06, stn_lon + 0.06),\n",
    "    area_average=\"Yes\",\n",
    "    scenario=[\"Historical Climate\", \"SSP 3-7.0\"],\n",
    "    time_slice=(start_year, end_year + 1),\n",
    ")\n",
    "\n",
    "temp_data = convert_to_local_time(\n",
    "    temp_data, stn_lon, stn_lat\n",
    ")  # convert to local timezone, provide lon/lat because area average data lacks coordinates\n",
    "temp_data = temp_data.sel(\n",
    "    {\"time\": slice(f\"{start_year}-01-01\", f\"{end_year}-12-31\")}\n",
    ")\n",
    "temp_data = temp_data.sel(simulation=data_models)\n",
    "\n",
    "# max air temp\n",
    "max_airtemp_data = temp_data.resample(time=\"1D\").max()  # daily max air temp\n",
    "max_airtemp_data.name = \"Daily max air temperature\"  # rename for clarity\n",
    "\n",
    "# min air temp\n",
    "min_airtemp_data = temp_data.resample(time=\"1D\").min()  # daily min air temp\n",
    "min_airtemp_data.name = \"Daily min air temperature\"  # rename for clarity\n",
    "\n",
    "# mean air temp\n",
    "mean_airtemp_data = temp_data.resample(time=\"1D\").mean()  # daily mean air temp\n",
    "mean_airtemp_data.name = \"Daily mean air temperature\"  # rename for clarity"
   ]
  },
  {
   "cell_type": "markdown",
   "id": "868fff96-9508-4435-932b-bce39a02427a",
   "metadata": {
    "execution": {
     "iopub.execute_input": "2023-05-11T19:09:40.599835Z",
     "iopub.status.busy": "2023-05-11T19:09:40.599455Z",
     "iopub.status.idle": "2023-05-11T19:09:44.067646Z",
     "shell.execute_reply": "2023-05-11T19:09:44.066937Z",
     "shell.execute_reply.started": "2023-05-11T19:09:40.599805Z"
    }
   },
   "source": [
    "Retrieve and calculate max and mean wind speed:"
   ]
  },
  {
   "cell_type": "code",
   "execution_count": null,
   "id": "aee63c6e-48b0-47bd-9903-2d4862c91ee0",
   "metadata": {
    "tags": []
   },
   "outputs": [],
   "source": [
    "# wind speed\n",
    "ws_data = get_data(\n",
    "    variable=\"Wind speed at 10m\",\n",
    "    resolution=\"9 km\",\n",
    "    timescale=\"hourly\",\n",
    "    data_type=\"Gridded\",\n",
    "    units=\"m s-1\",\n",
    "    latitude=(stn_lat - 0.05, stn_lat + 0.05),\n",
    "    longitude=(stn_lon - 0.06, stn_lon + 0.06),\n",
    "    area_average=\"Yes\",\n",
    "    scenario=[\"Historical Climate\", \"SSP 3-7.0\"],\n",
    "    time_slice=(start_year, end_year + 1),\n",
    ")\n",
    "\n",
    "ws_data = convert_to_local_time(\n",
    "    ws_data, stn_lon, stn_lat\n",
    ")  # convert to local timezone, provide lon/lat because area average data lacks coordinates\n",
    "ws_data = ws_data.sel(\n",
    "    {\"time\": slice(f\"{start_year}-01-01\", f\"{end_year}-12-31\")}\n",
    ")  # your desired time slice in local time\n",
    "ws_data = ws_data.sel(simulation=data_models)\n",
    "\n",
    "# max wind speed\n",
    "max_windspd_data = ws_data.resample(time=\"1D\").max()  # daily max wind speed\n",
    "max_windspd_data.name = \"Daily max wind speed\"  # rename for clarity\n",
    "\n",
    "# mean wind speed\n",
    "mean_windspd_data = ws_data.resample(time=\"1D\").mean()  # daily mean wind speed\n",
    "mean_windspd_data.name = \"Daily mean wind speed\"  # rename for clarity"
   ]
  },
  {
   "cell_type": "markdown",
   "id": "e5768520-77e1-45b3-92f8-ab7c3a9f7932",
   "metadata": {},
   "source": [
    "Retrieve and calculate max, min, and mean dew point temperature:"
   ]
  },
  {
   "cell_type": "code",
   "execution_count": null,
   "id": "6e54570e-f44b-4eeb-87f9-8d1128cbb1c1",
   "metadata": {
    "tags": []
   },
   "outputs": [],
   "source": [
    "# dew point temperature\n",
    "dewpt_data = get_data(\n",
    "    variable=\"Dew point temperature\",\n",
    "    resolution=\"9 km\",\n",
    "    timescale=\"hourly\",\n",
    "    data_type=\"Gridded\",\n",
    "    units=\"degC\",\n",
    "    latitude=(stn_lat - 0.05, stn_lat + 0.05),\n",
    "    longitude=(stn_lon - 0.06, stn_lon + 0.06),\n",
    "    area_average=\"Yes\",\n",
    "    scenario=[\"Historical Climate\", \"SSP 3-7.0\"],\n",
    "    time_slice=(start_year, end_year + 1),\n",
    ")\n",
    "\n",
    "dewpt_data = convert_to_local_time(\n",
    "    dewpt_data, stn_lon, stn_lat\n",
    ")  # convert to local timezone, provide lon/lat because area average data lacks coordinates\n",
    "dewpt_data = dewpt_data.sel(\n",
    "    {\"time\": slice(f\"{start_year}-01-01\", f\"{end_year}-12-31\")}\n",
    ")\n",
    "dewpt_data = dewpt_data.sel(simulation=data_models)\n",
    "\n",
    "# max dew point\n",
    "max_dewpt_data = dewpt_data.resample(time=\"1D\").max()  # daily max dewpoint temp\n",
    "max_dewpt_data.name = \"Daily max dewpoint temperature\"  # rename for clarity\n",
    "\n",
    "# min dew point\n",
    "min_dewpt_data = dewpt_data.resample(time=\"1D\").min()  # daily min dewpoint temp\n",
    "min_dewpt_data.name = \"Daily min dewpoint temperature\"  # rename for clarity\n",
    "\n",
    "# mean dew point\n",
    "mean_dewpt_data = dewpt_data.resample(time=\"1D\").mean()  # daily mean dewpoint temp\n",
    "mean_dewpt_data.name = \"Daily mean dewpoint temperature\"  # rename for clarity"
   ]
  },
  {
   "cell_type": "markdown",
   "id": "2421571f-fcac-44fa-aedb-b3f8e77bfa3c",
   "metadata": {},
   "source": [
    "Next, retrieve global horizontal irradiance. GHI is within the Analytics Engine catalog at daily resolutions, but for the TMY methodology, we need to calculate the total accumulated GHI received over the course of the day, so we will retrieve hourly data instead and calculate the necessary information below. The same process is repeated for the direct normal irradiance. "
   ]
  },
  {
   "cell_type": "code",
   "execution_count": 20,
   "id": "31adc629-3205-412d-9274-2c447ce21621",
   "metadata": {
    "tags": []
   },
   "outputs": [
    {
     "name": "stdout",
     "output_type": "stream",
     "text": [
      "Data converted to America/Los_Angeles timezone.\n"
     ]
    },
    {
     "ename": "NameError",
     "evalue": "name 'data_models' is not defined",
     "output_type": "error",
     "traceback": [
      "\u001b[0;31m---------------------------------------------------------------------------\u001b[0m",
      "\u001b[0;31mNameError\u001b[0m                                 Traceback (most recent call last)",
      "Cell \u001b[0;32mIn[20], line 20\u001b[0m\n\u001b[1;32m     14\u001b[0m global_irradiance_data \u001b[38;5;241m=\u001b[39m convert_to_local_time(\n\u001b[1;32m     15\u001b[0m     global_irradiance_data, stn_lon, stn_lat\n\u001b[1;32m     16\u001b[0m )  \u001b[38;5;66;03m# convert to local timezone, provide lon/lat because area average data lacks coordinates\u001b[39;00m\n\u001b[1;32m     17\u001b[0m global_irradiance_data \u001b[38;5;241m=\u001b[39m global_irradiance_data\u001b[38;5;241m.\u001b[39msel(\n\u001b[1;32m     18\u001b[0m     {\u001b[38;5;124m\"\u001b[39m\u001b[38;5;124mtime\u001b[39m\u001b[38;5;124m\"\u001b[39m: \u001b[38;5;28mslice\u001b[39m(\u001b[38;5;124mf\u001b[39m\u001b[38;5;124m\"\u001b[39m\u001b[38;5;132;01m{\u001b[39;00mstart_year\u001b[38;5;132;01m}\u001b[39;00m\u001b[38;5;124m-01-01\u001b[39m\u001b[38;5;124m\"\u001b[39m, \u001b[38;5;124mf\u001b[39m\u001b[38;5;124m\"\u001b[39m\u001b[38;5;132;01m{\u001b[39;00mend_year\u001b[38;5;132;01m}\u001b[39;00m\u001b[38;5;124m-12-31\u001b[39m\u001b[38;5;124m\"\u001b[39m)}\n\u001b[1;32m     19\u001b[0m )\n\u001b[0;32m---> 20\u001b[0m global_irradiance_data \u001b[38;5;241m=\u001b[39m global_irradiance_data\u001b[38;5;241m.\u001b[39msel(simulation\u001b[38;5;241m=\u001b[39m\u001b[43mdata_models\u001b[49m)\n\u001b[1;32m     22\u001b[0m global_irradiance_data\u001b[38;5;241m.\u001b[39mname \u001b[38;5;241m=\u001b[39m \u001b[38;5;124m\"\u001b[39m\u001b[38;5;124mGlobal horizontal irradiance\u001b[39m\u001b[38;5;124m\"\u001b[39m  \u001b[38;5;66;03m# rename for clarity\u001b[39;00m\n\u001b[1;32m     23\u001b[0m \u001b[38;5;66;03m# total global horizontal irradiance (accumulation of hourly data over a 24-hour period)\u001b[39;00m\n",
      "\u001b[0;31mNameError\u001b[0m: name 'data_models' is not defined"
     ]
    }
   ],
   "source": [
    "# global irradiance\n",
    "global_irradiance_data = get_data(\n",
    "    variable=\"Instantaneous downwelling shortwave flux at bottom\",\n",
    "    resolution=\"9 km\",\n",
    "    timescale=\"hourly\",\n",
    "    data_type=\"Gridded\",\n",
    "    latitude=(stn_lat - 0.05, stn_lat + 0.05),\n",
    "    longitude=(stn_lon - 0.06, stn_lon + 0.06),\n",
    "    area_average=\"Yes\",\n",
    "    scenario=[\"Historical Climate\", \"SSP 3-7.0\"],\n",
    "    time_slice=(start_year, end_year + 1),\n",
    ")\n",
    "\n",
    "global_irradiance_data = convert_to_local_time(\n",
    "    global_irradiance_data, stn_lon, stn_lat\n",
    ")  # convert to local timezone, provide lon/lat because area average data lacks coordinates\n",
    "global_irradiance_data = global_irradiance_data.sel(\n",
    "    {\"time\": slice(f\"{start_year}-01-01\", f\"{end_year}-12-31\")}\n",
    ")\n",
    "global_irradiance_data = global_irradiance_data.sel(simulation=data_models)\n",
    "\n",
    "global_irradiance_data.name = \"Global horizontal irradiance\"  # rename for clarity\n",
    "# total global horizontal irradiance (accumulation of hourly data over a 24-hour period)\n",
    "total_ghi_data = global_irradiance_data.resample(time=\"1D\").sum()  "
   ]
  },
  {
   "cell_type": "code",
   "execution_count": 21,
   "id": "2221a8da-26b7-4c52-8e92-fc62102fef04",
   "metadata": {},
   "outputs": [
    {
     "data": {
      "text/plain": [
       "{'variable_id': 'swdnb',\n",
       " 'extended_description': \"Shortwave radiation from the sun that reaches Earth's surface.\",\n",
       " 'units': 'W/m2',\n",
       " 'data_type': 'Gridded',\n",
       " 'resolution': np.str_('9 km'),\n",
       " 'frequency': np.str_('hourly'),\n",
       " 'location_subset': ['coordinate selection'],\n",
       " 'approach': 'Time',\n",
       " 'downscaling_method': np.str_('Dynamical'),\n",
       " 'institution': 'UCLA',\n",
       " 'grid_mapping': 'Lambert_Conformal',\n",
       " 'timezone': 'America/Los_Angeles'}"
      ]
     },
     "execution_count": 21,
     "metadata": {},
     "output_type": "execute_result"
    }
   ],
   "source": [
    "global_irradiance_data.attrs"
   ]
  },
  {
   "cell_type": "code",
   "execution_count": null,
   "id": "fd2fd1f3-fbee-4dd6-9ad9-61a9c925cd25",
   "metadata": {
    "tags": []
   },
   "outputs": [],
   "source": [
    "# direct normal irradiance\n",
    "direct_irradiance_data = get_data(\n",
    "    variable=\"Shortwave surface downward direct normal irradiance\",\n",
    "    resolution=\"9 km\",\n",
    "    timescale=\"hourly\",\n",
    "    data_type=\"Gridded\",\n",
    "    latitude=(stn_lat - 0.05, stn_lat + 0.05),\n",
    "    longitude=(stn_lon - 0.06, stn_lon + 0.06),\n",
    "    area_average=\"Yes\",\n",
    "    scenario=[\"Historical Climate\", \"SSP 3-7.0\"],\n",
    "    time_slice=(start_year, end_year + 1),\n",
    ")\n",
    "\n",
    "direct_irradiance_data = convert_to_local_time(\n",
    "    direct_irradiance_data, stn_lon, stn_lat\n",
    ")  # convert to local timezone, provide lon/lat because area average data lacks coordinates\n",
    "direct_irradiance_data = direct_irradiance_data.sel(\n",
    "    {\"time\": slice(f\"{start_year}-01-01\", f\"{end_year}-12-31\")}\n",
    ")\n",
    "direct_irradiance_data = direct_irradiance_data.sel(simulation=data_models)\n",
    "\n",
    "direct_irradiance_data.name = \"Direct normal irradiance\"  # rename for clarity\n",
    "# total direct normal irradiance (accumulation of hourly data over a 24-hour period)\n",
    "total_dni_data = direct_irradiance_data.resample(time=\"1D\").sum()  "
   ]
  },
  {
   "cell_type": "markdown",
   "id": "faf2ea23-b6f9-4665-be6e-0dc5bf5da726",
   "metadata": {},
   "source": [
    "#### Step 1d: Load all variables\n",
    "Now that we have all of our data retrieved and calculated, it is time to actually load the data into memory. Previously, xarray has lazily loaded the data, but we will actually grab it now. This will take approximately **7 minutes**. "
   ]
  },
  {
   "cell_type": "code",
   "execution_count": null,
   "id": "6806e4f2-2828-4e1a-9f22-0ae1aac9dfca",
   "metadata": {
    "tags": []
   },
   "outputs": [],
   "source": [
    "all_vars = xr.merge(\n",
    "    [\n",
    "        max_airtemp_data.squeeze(),\n",
    "        min_airtemp_data.squeeze(),\n",
    "        mean_airtemp_data.squeeze(),\n",
    "        max_dewpt_data.squeeze(),\n",
    "        min_dewpt_data.squeeze(),\n",
    "        mean_dewpt_data.squeeze(),\n",
    "        max_windspd_data.squeeze(),\n",
    "        mean_windspd_data.squeeze(),\n",
    "        total_ghi_data.squeeze(),\n",
    "        total_dni_data.squeeze(),\n",
    "    ]\n",
    ")"
   ]
  },
  {
   "cell_type": "code",
   "execution_count": null,
   "id": "c39f1e1f-c0da-405b-848d-8f584c3fa804",
   "metadata": {
    "tags": []
   },
   "outputs": [],
   "source": [
    "# load all indices in\n",
    "all_vars = all_vars.compute()"
   ]
  },
  {
   "cell_type": "markdown",
   "id": "1ccfed5a-4a71-4ff3-be45-d20565d44cf4",
   "metadata": {},
   "source": [
    "### Step 2: Calculate cumulative distribution functions\n",
    "\n",
    "For the TMY, the cumulative distribution function gives the proportion of values that are less than or equal to a specified value of the index. In this case, we want to identify months that are as close to the long-term climatology for each variable as possible, indicating months that are \"typical\".  \n",
    "\n",
    "#### Step 2a: Calculate long-term climatology CDFs for each index\n",
    "First, we need to calculate the long-term climatology for each index for each month so we can establish the baseline pattern. "
   ]
  },
  {
   "cell_type": "code",
   "execution_count": null,
   "id": "44e54317-35e5-4465-93a7-9cd4772f11a2",
   "metadata": {
    "tags": []
   },
   "outputs": [],
   "source": [
    "from cdf_functions import get_cdf, plot_one_var_cdf, get_cdf_monthly, fs_statistic, compute_weighted_fs, generate_tmy_data"
   ]
  },
  {
   "cell_type": "code",
   "execution_count": null,
   "id": "4b852f3a-5b9e-42b8-9224-ee5c17341456",
   "metadata": {
    "tags": []
   },
   "outputs": [],
   "source": [
    "cdf_climatology = get_cdf(all_vars)"
   ]
  },
  {
   "cell_type": "markdown",
   "id": "87af453d-6f91-4668-804f-7264d2929e58",
   "metadata": {},
   "source": [
    "In the plot below, we'll display maximum air temperature to assess the climatological CDF pattern, but you can modify the variable here to one of your choosing to see the pattern too! Also select a different month by moving the slider bar to see the pattern throughout the year. "
   ]
  },
  {
   "cell_type": "code",
   "execution_count": null,
   "id": "8ca17cbe-1b58-4767-978c-ddf91056e45d",
   "metadata": {
    "tags": []
   },
   "outputs": [],
   "source": [
    "# Choose your desired variable\n",
    "var = \"Daily max air temperature\"\n",
    "\n",
    "# Make the plot\n",
    "cdf_plot = plot_one_var_cdf(cdf_climatology, var)\n",
    "display(cdf_plot)"
   ]
  },
  {
   "cell_type": "markdown",
   "id": "fe84c83b-e764-4bdd-8a6f-8ab67016ca97",
   "metadata": {},
   "source": [
    "#### Step 2b: Calculate CDFs for each index for all months\n",
    "\n",
    "Next, we will calculate CDF for each month and each variable, for which we ultimately will compare against climatology. For the individual months, we must also exclude the period of time during a major volcanic eruption (Pinatubo: June 1991 to December 1994) as the aerosols have an impact on solar variables. The cells below functions exclude this data from our data next. "
   ]
  },
  {
   "cell_type": "code",
   "execution_count": null,
   "id": "826631ec-f25b-42dc-9928-6a0d5ed4f376",
   "metadata": {
    "tags": []
   },
   "outputs": [],
   "source": [
    "cdf_monthly = get_cdf_monthly(all_vars)"
   ]
  },
  {
   "cell_type": "markdown",
   "id": "881f5728-de7b-4d21-8622-e39437b64dbd",
   "metadata": {},
   "source": [
    "Now we'll remove the volcanic years: "
   ]
  },
  {
   "cell_type": "code",
   "execution_count": null,
   "id": "9dabb491-0c8b-48a7-b519-bf135fceaf9d",
   "metadata": {
    "tags": []
   },
   "outputs": [],
   "source": [
    "# Remove the years for the Pinatubo eruption\n",
    "cdf_monthly = cdf_monthly.where(\n",
    "    (~cdf_monthly.year.isin([1991, 1992, 1993, 1994])), np.nan, drop=True\n",
    ")"
   ]
  },
  {
   "cell_type": "markdown",
   "id": "3f526746-efce-48ec-ae3c-e86359097ac2",
   "metadata": {},
   "source": [
    "Like the climatology CDF figure above, let's check out the individual months next. You can modify the variable, and month-year to display too. "
   ]
  },
  {
   "cell_type": "code",
   "execution_count": null,
   "id": "e57e582a-e24f-41bc-8da7-6c8567338240",
   "metadata": {
    "tags": []
   },
   "outputs": [],
   "source": [
    "# Choose your desired variable\n",
    "var = \"Daily max air temperature\"\n",
    "\n",
    "# Make the plot\n",
    "cdf_plot_mon_yr = plot_one_var_cdf(cdf_monthly,var)\n",
    "display(cdf_plot_mon_yr)"
   ]
  },
  {
   "cell_type": "markdown",
   "id": "5ad80428-e476-408a-927a-ddb33f801c37",
   "metadata": {},
   "source": [
    "### Step 3: Compare climatology CDF to monthly CDF for each variable\n",
    "\n",
    "Now that we have the distributions for the long-term climatology of our 30-year period, and the corresponding distribution for each month in that 30-year period, we need to assess how each individual month compares to the long-term climatology. In essence, we are looking for the individual months that best capture the climatology distribution. \n",
    "\n",
    "#### Step 3a: Calculate the Finkelstein-Schafer statistic \n",
    "The [Finkelstein-Schafer statistic](https://academic.oup.com/biomet/article-abstract/58/3/641/233677) determines the absolute difference between the long-term climatology and candidate CDF profiles, and considers the number of days within each month. We will use a handy function `fs_statistic` to calculate this below. "
   ]
  },
  {
   "cell_type": "code",
   "execution_count": null,
   "id": "2dab26fd-1c1c-4122-9158-4f35035dfe6c",
   "metadata": {
    "tags": []
   },
   "outputs": [],
   "source": [
    "all_vars_fs = fs_statistic(cdf_climatology, cdf_monthly)"
   ]
  },
  {
   "cell_type": "markdown",
   "id": "f85fb8c2-2e5f-48eb-bfea-9fe0d3fc37e2",
   "metadata": {},
   "source": [
    "#### Step 3b: Weight the F-S statistic\n",
    "\n",
    "Next, we weight the F-S statistic results based on the input variables. The [TMY3](https://www.nrel.gov/docs/fy08osti/43156.pdf) method places a higher weight on the solar variables (global irradiance and direct irradiance), which we follow here. "
   ]
  },
  {
   "cell_type": "code",
   "execution_count": null,
   "id": "8d48c015-b629-4504-8913-02b8ec9544df",
   "metadata": {
    "tags": []
   },
   "outputs": [],
   "source": [
    "weighted_fs = compute_weighted_fs(all_vars_fs)"
   ]
  },
  {
   "cell_type": "markdown",
   "id": "3711568f-3622-4103-89e9-a908d545a569",
   "metadata": {},
   "source": [
    "#### Step 3c: Select candidate months for consideration\n",
    "Once weighted, we select the top candidate months for each month that have lowest weighted sums, meaning that these candidate months are the closest to the long-term climatology for that month. "
   ]
  },
  {
   "cell_type": "code",
   "execution_count": null,
   "id": "1145ea68-735c-46c7-8f5e-bc314c900248",
   "metadata": {
    "tags": []
   },
   "outputs": [],
   "source": [
    "# Sum\n",
    "weighted_fs_sum = (\n",
    "    weighted_fs.to_array().sum(dim=[\"variable\", \"bin_number\"]).drop([\"data\"])\n",
    ")\n",
    "\n",
    "# Pass the weighted F-S sum data for simplicity\n",
    "ds = weighted_fs_sum\n",
    "\n",
    "df_list = []\n",
    "num_values = (\n",
    "    1  # Selecting the top value for now, persistence statistics calls for top 5\n",
    ")\n",
    "for sim in ds.simulation.values:\n",
    "    for mon in ds.month.values:\n",
    "        da_i = ds.sel(month=mon, simulation=sim)\n",
    "        top_xr = da_i.sortby(da_i, ascending=True)[:num_values].expand_dims(\n",
    "            [\"month\", \"simulation\"]\n",
    "        )\n",
    "        top_df_i = top_xr.to_dataframe(name=\"top_values\")\n",
    "        df_list.append(top_df_i)\n",
    "\n",
    "# Concatenate list together for all months and simulations\n",
    "top_df = pd.concat(df_list).drop(columns=[\"top_values\"]).reset_index()\n",
    "top_df"
   ]
  },
  {
   "cell_type": "markdown",
   "id": "78ddeab6-c43b-42ca-ad8e-396cb90fce49",
   "metadata": {},
   "source": [
    "The data table above represents the ideal months that represent the long term climatology based on the 10 indices for the 4 simulations in the Analytics Engine catalog. Meaning, for a \"typical\" meteorological year, WRF_EC-Earth3 data for Jan will come from Jan 2017, data for Feb will come from 2018, and so on. In the next step, we will generate the resulting \"TMY\" file that is commonly used in such applications. "
   ]
  },
  {
   "cell_type": "markdown",
   "id": "0cd2214b-0368-49a6-bf71-f17916a7f860",
   "metadata": {},
   "source": [
    "### Step 4: Generate the TMY data outputs\n",
    "\n",
    "Generally, the following data is outputted using the TMY months:\n",
    "- Date & time (UTC)\n",
    "- Air temperature at 2m [°C]\n",
    "- Dew point temperature [°C]\n",
    "- Relative humidity [%]\n",
    "- Global horizontal irradiance [W/m2]\n",
    "- Direct normal irradiance [W/m2]\n",
    "- Diffuse horizontal irradiance [W/m2]\n",
    "- Downwelling infrared radiation [W/m2]\n",
    "- Wind speed at 10m [m/s]\n",
    "- Wind direction at 10m [°]\n",
    "- Surface air pressure [Pa]\n",
    "\n",
    "The following function will retrieve all of this data for the designated TMY month and concatenate it together into a pandas dataframe so that we can export it as a csv file. We'll do this next. "
   ]
  },
  {
   "cell_type": "markdown",
   "id": "e792e895-ac9f-4bcf-8c56-9fa0c9e6597a",
   "metadata": {},
   "source": [
    "In the next cell, we will run the `generate_tmy_data` function which will retrieve, subset, and format the data for each month according to the TMY months for all requested variables. We have included print statements so you can watch the progress for each variable in each month as it builds. \n",
    "\n",
    "<span style=\"color:#FF0000\">**Note**: <span style=\"color:#000000\"> This will take time! On the Analytics Engine JupyterHub, this takes approximately 22 minutes. Progress bars will indicate the status of generating the TMY data for each simulation. "
   ]
  },
  {
   "cell_type": "code",
   "execution_count": null,
   "id": "8b8e87db-afc8-4bb2-a653-1f735b02449b",
   "metadata": {
    "tags": []
   },
   "outputs": [],
   "source": [
    "latitude=(stn_lat - 0.05, stn_lat + 0.05)\n",
    "longitude=(stn_lon - 0.06, stn_lon + 0.06)\n",
    "tmy_data_to_export = generate_tmy_data(top_df, latitude, longitude, stn_lat, stn_lon, start_year, end_year, data_models)"
   ]
  },
  {
   "cell_type": "markdown",
   "id": "d25572b6-2e07-442f-9ea3-90825943ad54",
   "metadata": {},
   "source": [
    "Let's observe what the TMY data looks like for one of the simulations:"
   ]
  },
  {
   "cell_type": "code",
   "execution_count": null,
   "id": "272fe2e0-7f10-4e8a-9c2e-fde2cd9f7cf7",
   "metadata": {
    "tags": []
   },
   "outputs": [],
   "source": [
    "simulation = \"WRF_MPI-ESM1-2-HR_r3i1p1f1\"\n",
    "tmy_data_to_export[simulation].head(5)"
   ]
  },
  {
   "cell_type": "markdown",
   "id": "9951a416-b2bf-4924-84b2-f5fd409913bc",
   "metadata": {},
   "source": [
    "Next, we visualize the TMY data itself."
   ]
  },
  {
   "cell_type": "code",
   "execution_count": null,
   "id": "07ceebfa-a927-43e3-8bb9-28ee700d1c27",
   "metadata": {
    "tags": []
   },
   "outputs": [],
   "source": [
    "tmy_data_to_export[simulation].plot(\n",
    "    x=\"time\",\n",
    "    y=[\n",
    "        \"Air Temperature at 2m\",\n",
    "        \"Dew point temperature\",\n",
    "        \"Relative humidity\",\n",
    "        \"Instantaneous downwelling shortwave flux at bottom\",\n",
    "        \"Shortwave surface downward direct normal irradiance\",\n",
    "        \"Shortwave surface downward diffuse irradiance\",\n",
    "        \"Instantaneous downwelling longwave flux at bottom\",\n",
    "        \"Wind speed at 10m\",\n",
    "        \"Wind direction at 10m\",\n",
    "        \"Surface Pressure\",\n",
    "    ],\n",
    "    title=f\"Typical Meteorological Year ({simulation})\",\n",
    "    subplots=True,\n",
    "    figsize=(10, 8),\n",
    "    legend=True,\n",
    ");"
   ]
  },
  {
   "cell_type": "markdown",
   "id": "ab490aa2-3b4e-428a-8740-1f174b7c55f5",
   "metadata": {},
   "source": [
    "Lastly, let's export the TMY data below as csv files. There will be a file per simulation downloaded. When utilizing TMY data in your own workflows, we recommend that **all simulations are considered** in your analyses, especially for future scenarios. Note, if you are working with a custom location, please also provide the optional `stn_elev` argument to `write_tmy_file`; if no elevation value is provided, an elevation value of 0.0 is set as the default. "
   ]
  },
  {
   "cell_type": "code",
   "execution_count": null,
   "id": "1388c1c3-f141-4ff4-8155-79fc606a0854",
   "metadata": {
    "tags": []
   },
   "outputs": [],
   "source": [
    "for sim, tmy in tmy_data_to_export.items():\n",
    "    filename = \"TMY_{0}_{1}\".format(\n",
    "        stn_name.replace(\" \", \"_\").replace(\"(\", \"\").replace(\")\", \"\"), sim\n",
    "    ).lower()\n",
    "    write_tmy_file(\n",
    "        filename,\n",
    "        tmy_data_to_export[sim],\n",
    "        (start_year, end_year),\n",
    "        stn_name,\n",
    "        stn_code,\n",
    "        stn_lat,\n",
    "        stn_lon,\n",
    "        stn_state,\n",
    "        file_ext=\"epw\",\n",
    "    )"
   ]
  },
  {
   "cell_type": "code",
   "execution_count": null,
   "id": "4c1bb2dc-3f2e-49a3-84eb-a65f68a8350f",
   "metadata": {},
   "outputs": [],
   "source": [
    "stn_lat"
   ]
  },
  {
   "cell_type": "code",
   "execution_count": null,
   "id": "a9f35557-475e-4fa1-b1f4-5576493f6fe9",
   "metadata": {},
   "outputs": [],
   "source": []
  }
 ],
 "metadata": {
  "kernelspec": {
   "display_name": "Python 3 (ipykernel)",
   "language": "python",
   "name": "python3"
  },
  "language_info": {
   "codemirror_mode": {
    "name": "ipython",
    "version": 3
   },
   "file_extension": ".py",
   "mimetype": "text/x-python",
   "name": "python",
   "nbconvert_exporter": "python",
   "pygments_lexer": "ipython3",
   "version": "3.12.10"
  }
 },
 "nbformat": 4,
 "nbformat_minor": 5
}
