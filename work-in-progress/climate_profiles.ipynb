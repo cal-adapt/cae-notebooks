{
 "cells": [
  {
   "cell_type": "code",
   "execution_count": null,
   "metadata": {},
   "outputs": [],
   "source": [
    "%reload_ext autoreload\n",
    "%autoreload 2"
   ]
  },
  {
   "cell_type": "code",
   "execution_count": null,
   "metadata": {},
   "outputs": [],
   "source": [
    "from climakitae.explore.amy import get_climate_profile"
   ]
  },
  {
   "cell_type": "code",
   "execution_count": null,
   "metadata": {},
   "outputs": [],
   "source": [
    "selection = {\n",
    "    \"variable\": \"Air Temperature at 2m\",\n",
    "    \"resolution\": \"3 km\",\n",
    "    \"warming_level\": [2.0],\n",
    "    # \"warming_level\": [1.5, 1.75, 2.0, 2.25, 2.5],\n",
    "    \"units\": \"degF\",\n",
    "    \"cached_area\": ['Los Angeles County'],\n",
    "}"
   ]
  },
  {
   "cell_type": "code",
   "execution_count": null,
   "metadata": {},
   "outputs": [],
   "source": [
    "profile = get_climate_profile(**selection)"
   ]
  },
  {
   "cell_type": "code",
   "execution_count": null,
   "metadata": {},
   "outputs": [],
   "source": [
    "import matplotlib.pyplot as plt\n",
    "import pandas as pd\n",
    "\n",
    "# plotting for only one warming level\n",
    "idx = pd.IndexSlice\n",
    "sims = profile.columns.get_level_values(\"Simulation\").unique().tolist()\n",
    "\n",
    "for sim in sims:\n",
    "    # Select columns for the current simulation\n",
    "    data = profile.loc[:, idx[:, sim]]\n",
    "    # Assuming the first level is month and the second is simulation\n",
    "    # We'll plot a heatmap of the data for each simulation\n",
    "    plt.figure(figsize=(12, 6))\n",
    "    plt.imshow(data.values.T, aspect='auto', cmap='coolwarm')\n",
    "    plt.colorbar(label=f\"{selection['variable']} ({selection['units']})\")\n",
    "    plt.yticks(range(data.shape[1]), data.columns.get_level_values(0))\n",
    "    plt.xticks(range(data.shape[0]), data.index)\n",
    "    plt.title(f\"{sim} - {selection['variable']} at {selection['warming_level'][0]}°C Warming\")\n",
    "    plt.xlabel(\"Day of Year\")\n",
    "    plt.ylabel(\"Hour of Day\")\n",
    "    vmin = -max(abs(data.values.max()), abs(data.values.min()))\n",
    "    vmax = max(abs(data.values.max()), abs(data.values.min()))\n",
    "    xtick_freq = max(1, data.shape[0] // 12)\n",
    "    plt.xticks(range(0, data.shape[0], xtick_freq), data.index[::xtick_freq])\n",
    "    plt.clim(vmin, vmax)\n",
    "    plt.show()\n",
    "\n",
    "# plotting for multiple warming levels\n",
    "# idx = pd.IndexSlice\n",
    "# sims = profile.columns.get_level_values(\"Simulation\").unique().tolist()\n",
    "# wls = profile.columns.get_level_values(\"Warming_Level\").unique().tolist()\n",
    "\n",
    "# for wl in wls:\n",
    "#     for sim in sims:\n",
    "#         # Select columns for the current simulation\n",
    "#         data = profile.loc[:, idx[:, wl, sim]]\n",
    "#         # Assuming the first level is month and the second is simulation\n",
    "#         # We'll plot a heatmap of the data for each simulation\n",
    "#         plt.figure(figsize=(12, 6))\n",
    "#         plt.imshow(data.values.T, aspect='auto', cmap='coolwarm')\n",
    "#         plt.colorbar(label=f\"{selection['variable']} ({selection['units']})\")\n",
    "#         plt.yticks(range(data.shape[1]), data.columns.get_level_values(0))\n",
    "#         plt.xticks(range(data.shape[0]), data.index)\n",
    "#         plt.title(f\"{sim} - {selection['variable']} at {wl}°C Warming\")\n",
    "#         plt.xlabel(\"Day of Year\")\n",
    "#         plt.ylabel(\"Hour of Day\")\n",
    "#         vmin = -max(abs(data.values.max()), abs(data.values.min()))\n",
    "#         vmax = max(abs(data.values.max()), abs(data.values.min()))\n",
    "#         xtick_freq = max(1, data.shape[0] // 12)\n",
    "#         plt.xticks(range(0, data.shape[0], xtick_freq), data.index[::xtick_freq])\n",
    "#         plt.clim(vmin, vmax)\n",
    "#         plt.show()"
   ]
  },
  {
   "cell_type": "code",
   "execution_count": null,
   "metadata": {},
   "outputs": [],
   "source": []
  }
 ],
 "metadata": {
  "kernelspec": {
   "display_name": "climakitae",
   "language": "python",
   "name": "python3"
  },
  "language_info": {
   "codemirror_mode": {
    "name": "ipython",
    "version": 3
   },
   "file_extension": ".py",
   "mimetype": "text/x-python",
   "name": "python",
   "nbconvert_exporter": "python",
   "pygments_lexer": "ipython3",
   "version": "3.12.11"
  }
 },
 "nbformat": 4,
 "nbformat_minor": 2
}
