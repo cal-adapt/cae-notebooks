{
 "cells": [
  {
   "cell_type": "markdown",
   "id": "7a3cf884-99e9-4d57-b06e-1bd5e28bf2a8",
   "metadata": {},
   "source": [
    "# Event Finder"
   ]
  },
  {
   "cell_type": "markdown",
   "id": "dc6a9512-4168-450d-a7f8-a8673acb50f0",
   "metadata": {},
   "source": [
    "The goal of this notebook is to develop a generalized event finder. Based on user selected variable and event definitions, this notebook will search all simulations to find these events.  \n",
    "\n",
    "Inputs:\n",
    "\n",
    "* Domain, a custom shapefile\n",
    "* One variable\n",
    "* Low and/or High thresholds\n",
    "* Duration \n",
    "* Global Warming Level\n",
    "\n",
    "**Runtime**: With the default settings, this notebook takes approximately 25 minutes to run from start to finish. Modifications to selections may increase the runtime.\n",
    "\n",
    "**Troubleshooting**: Kernel crashing when running get_data()? Try loading a smaller spatial area by setting the `latitude` and `longitude` variables or using a `cached_area`."
   ]
  },
  {
   "cell_type": "markdown",
   "id": "5060f3db-9d70-4adf-8a3a-2d1262284f24",
   "metadata": {},
   "source": [
    "## Make Selections"
   ]
  },
  {
   "cell_type": "markdown",
   "id": "a58342c3-171b-4c3f-8484-ba83e129f458",
   "metadata": {},
   "source": [
    "Before running this notebook, make the following selections for variables, domain, and GWLs."
   ]
  },
  {
   "cell_type": "markdown",
   "id": "d9e1bee8-e922-42a6-86ce-a1cdeb4152d5",
   "metadata": {},
   "source": [
    "1. Select a timescale - this will impact which downscaling methods are available and which variables are available."
   ]
  },
  {
   "cell_type": "code",
   "execution_count": 1,
   "id": "bdddfe99-51b2-4605-9bf4-1735310dcfd8",
   "metadata": {},
   "outputs": [],
   "source": [
    "timescale = \"daily\"  # options are hourly, daily or monthly"
   ]
  },
  {
   "cell_type": "markdown",
   "id": "9c120955-37b7-4451-9d01-cd0f90aec6e5",
   "metadata": {},
   "source": [
    "2. Select a variable - the code below displays which variables are available based on your timescale options"
   ]
  },
  {
   "cell_type": "code",
   "execution_count": 2,
   "id": "e691d4b8-be96-4b5b-adb7-6c2dd096f446",
   "metadata": {},
   "outputs": [],
   "source": [
    "# import function\n",
    "from climakitae.explore.agnostic import show_available_vars"
   ]
  },
  {
   "cell_type": "code",
   "execution_count": 3,
   "id": "476785a8-f9e0-48d9-9b42-54fb475e1142",
   "metadata": {
    "scrolled": true
   },
   "outputs": [
    {
     "data": {
      "text/plain": [
       "['Air Temperature at 2m',\n",
       " 'Precipitation (total)',\n",
       " 'Relative humidity',\n",
       " 'Dew point temperature',\n",
       " 'Mean wind speed at 10m',\n",
       " 'Maximum wind speed at 10m',\n",
       " 'Surface Pressure',\n",
       " 'Specific humidity at 2m',\n",
       " 'Surface skin temperature',\n",
       " 'Maximum air temperature at 2m',\n",
       " 'Minimum air temperature at 2m',\n",
       " 'Instantaneous downwelling longwave flux at bottom',\n",
       " 'Instantaneous downwelling shortwave flux at bottom',\n",
       " 'Shortwave flux at the surface',\n",
       " 'Longwave flux at the surface',\n",
       " 'Sensible heat flux at the surface',\n",
       " 'Latent heat flux at the surface',\n",
       " 'Ground heat flux',\n",
       " 'Snowfall',\n",
       " 'Liquid water path',\n",
       " 'Evaporation',\n",
       " 'Ice water path',\n",
       " 'Maximum precipitation',\n",
       " 'Effective Temperature']"
      ]
     },
     "execution_count": 3,
     "metadata": {},
     "output_type": "execute_result"
    }
   ],
   "source": [
    "# display variables available for this analysis\n",
    "# only showing dynamical because statistical has a smaller subset that is in the larger dynamical subset\n",
    "# only difference is max/min RH is available in statistical and not in dynamical\n",
    "show_available_vars(\"Dynamical\", timescale)"
   ]
  },
  {
   "cell_type": "code",
   "execution_count": 7,
   "id": "6f4e3520-b2d7-4286-9413-6eb4b6f01732",
   "metadata": {},
   "outputs": [],
   "source": [
    "# make selection from list above\n",
    "event_variable = \"Maximum wind speed at 10m\"\n",
    "event_units = \"mph\""
   ]
  },
  {
   "cell_type": "markdown",
   "id": "b45e2688-9fcd-46b2-8b22-b2e6c2529aab",
   "metadata": {},
   "source": [
    "3. Define Event - Select a method for establishing the event"
   ]
  },
  {
   "cell_type": "code",
   "execution_count": 5,
   "id": "be4e8c6d-95ff-44d5-a072-5cb3df6e6689",
   "metadata": {},
   "outputs": [],
   "source": [
    "# define the function that will be used to calculate the event threshold\n",
    "event_threshold_function = \"1 in x\"  # options are \"percentile\" or \"1 in x\"\n",
    "event_threshold_direction = (\n",
    "    \">\"  # look for events above or below the result from the threshold function\n",
    ")\n",
    "event_threshold_function_params = (\n",
    "    10  # if 1 in X include X, if quantile, include quantile (0.25, 0.5, etc.)\n",
    ")\n",
    "event_duration = 1  # how many consecutive events need to be observed to be a hit"
   ]
  },
  {
   "cell_type": "markdown",
   "id": "bf5f22c3-573c-49b7-8fc7-4409f29a7890",
   "metadata": {},
   "source": [
    "4. Select a baseline and future GWL"
   ]
  },
  {
   "cell_type": "code",
   "execution_count": 6,
   "id": "173ae0ad-f3fd-4ae0-9f15-da6ca8e8cb67",
   "metadata": {},
   "outputs": [],
   "source": [
    "# current options 0.8, 1.0, 1.2, 1.5, 2.0, 2.5, 3.0, 4.0\n",
    "baseline_gwl = \"0.8\"\n",
    "future_gwl = \"2.0\""
   ]
  },
  {
   "cell_type": "markdown",
   "id": "934fb2e4-fde5-444e-9625-52b15e975547",
   "metadata": {},
   "source": [
    "5. Select Spatial Domain - Replace the ellipses with the path to your region shapefile and a name for your region.\n",
    "\n",
    "For example, someone studying the Pajaro watershed might have a shapefile path that looks like this:\n",
    "```\n",
    "shapefile_filename = \"PajaroRiverWatershed.zip\"\n",
    "spatial_domain = \"Pajaro\"  # name will appear in title\n",
    "```"
   ]
  },
  {
   "cell_type": "code",
   "execution_count": 8,
   "id": "fb0184a4-2211-4009-a64c-fcdffcfe0e7c",
   "metadata": {},
   "outputs": [],
   "source": [
    "# edit path below and filename for shapefile to use\n",
    "shapefile_filename = \"~/the-shoppe/ventura/pcluster/VenturaRiverWatershed/VenturaRiverWatershed_WBDHUC10.shp\" # replace ellipsis with filepath\n",
    "spatial_domain_name = \"ventura\" # name will appear in title"
   ]
  },
  {
   "cell_type": "markdown",
   "id": "d4cc217f-1798-4f01-b229-5355a1a4af66",
   "metadata": {},
   "source": [
    "6. Select Resolution - select the the model resolution (3km, 9km, 45 km)"
   ]
  },
  {
   "cell_type": "code",
   "execution_count": 9,
   "id": "2bec78e6-f175-4c18-9548-51955a7750c0",
   "metadata": {},
   "outputs": [],
   "source": [
    "resolution = \"3 km\""
   ]
  },
  {
   "cell_type": "markdown",
   "id": "7e596229-2674-4975-86bc-aca0715007e6",
   "metadata": {},
   "source": [
    "7. Aggregation Method - select a method to aggregate spatially"
   ]
  },
  {
   "cell_type": "code",
   "execution_count": 10,
   "id": "21ef88e1-63e8-4951-8a2b-4a2ff26426fe",
   "metadata": {},
   "outputs": [],
   "source": [
    "aggregation = \"max\"  # options are mean, median, sum, min, max"
   ]
  },
  {
   "cell_type": "markdown",
   "id": "2c13e8a5-9b40-49d4-8252-713d06ba9be2",
   "metadata": {},
   "source": [
    "## Import libraries & define functions"
   ]
  },
  {
   "cell_type": "code",
   "execution_count": 11,
   "id": "adb26eb0-4136-40aa-b899-3fb5eabbc7bc",
   "metadata": {},
   "outputs": [],
   "source": [
    "import climakitae as ck\n",
    "from climakitae.core.data_interface import (\n",
    "    get_data_options,\n",
    "    get_subsetting_options,\n",
    "    get_data,\n",
    ")\n",
    "from climakitae.util.utils import add_dummy_time_to_wl\n",
    "from climakitae.explore import threshold_tools\n",
    "from climakitae.explore.threshold_tools import (\n",
    "    get_block_maxima,\n",
    "    get_return_value,\n",
    "    get_return_period,\n",
    ")\n",
    "from climakitae.core.data_load import load\n",
    "\n",
    "import xarray as xr\n",
    "import pandas as pd\n",
    "import geopandas as gpd\n",
    "from shapely.geometry import mapping\n",
    "import seaborn as sns\n",
    "import matplotlib.pyplot as plt\n",
    "import numpy as np"
   ]
  },
  {
   "cell_type": "code",
   "execution_count": 12,
   "id": "57dc5c7d-c2be-421a-a931-b04db7fb7853",
   "metadata": {},
   "outputs": [],
   "source": [
    "def clip_to_shapefile(da, shapefile):\n",
    "    \"\"\"\n",
    "    Clip a DataArray to the boundaries of a shapefile.\n",
    "\n",
    "    Parameters:\n",
    "    - da: xarray DataArray to be clipped\n",
    "    - shapefile: path to the shapefile\n",
    "\n",
    "    Returns:\n",
    "    - Clipped DataArray\n",
    "    \"\"\"\n",
    "    # Read the shapefile using geopandas\n",
    "    gdf = gpd.read_file(shapefile)\n",
    "\n",
    "    # Ensure the DataArray has a CRS set\n",
    "    # da.rio.write_crs(\"epsg:2228\", inplace=True)\n",
    "\n",
    "    # Clip the DataArray using the shapefile geometry\n",
    "    clipped_da = da.rio.clip(gdf.geometry.apply(mapping), gdf.crs, drop=True)\n",
    "\n",
    "    return clipped_da"
   ]
  },
  {
   "cell_type": "markdown",
   "id": "f1a63905-0dfe-460e-8f86-2f021b4a1251",
   "metadata": {},
   "source": [
    "## Step 1: Define Event "
   ]
  },
  {
   "cell_type": "markdown",
   "id": "23f16c35-fcb4-443c-b608-c78269cd8fe8",
   "metadata": {},
   "source": [
    "Use the baseline GWL to define the event threshold"
   ]
  },
  {
   "cell_type": "markdown",
   "id": "4e79040e-9c8c-4e6b-9f99-9f217001ef3f",
   "metadata": {},
   "source": [
    "### Pull Baseline Data"
   ]
  },
  {
   "cell_type": "code",
   "execution_count": 13,
   "id": "cf6675b1-3462-4413-8ee6-fb60424c6a5f",
   "metadata": {},
   "outputs": [],
   "source": [
    "latitude = (34.29642 - 0.04, 34.66964 + 0.04)\n",
    "longitude = (-119.51431 - 0.04, -119.08539 + 0.04)"
   ]
  },
  {
   "cell_type": "markdown",
   "id": "837d9193-67a6-4b81-b3e2-56ca177df2f9",
   "metadata": {},
   "source": [
    "#### Dynamical Downscaling (WRF)"
   ]
  },
  {
   "cell_type": "code",
   "execution_count": 14,
   "id": "7b892744-6079-4e86-ad02-6f9e231e7705",
   "metadata": {},
   "outputs": [],
   "source": [
    "# WRF downscaling\n",
    "wrf_data = get_data(\n",
    "    variable=event_variable,\n",
    "    downscaling_method=\"Dynamical\",\n",
    "    resolution=resolution,\n",
    "    timescale=timescale,\n",
    "    units=event_units,\n",
    "    # Modify your approach\n",
    "    approach=\"Warming Level\",\n",
    "    warming_level=float(baseline_gwl),\n",
    "    latitude=latitude,\n",
    "    longitude=longitude\n",
    ")"
   ]
  },
  {
   "cell_type": "code",
   "execution_count": 15,
   "id": "83b43dac-7ce1-4e0d-9040-4b8b07d94e47",
   "metadata": {},
   "outputs": [],
   "source": [
    "# rename lat lon\n",
    "wrf_data = wrf_data.rename({\"x\": \"longitude\", \"y\": \"latitude\"})"
   ]
  },
  {
   "cell_type": "code",
   "execution_count": 16,
   "id": "455b3470-2adb-4484-8575-df3c1ab0652f",
   "metadata": {},
   "outputs": [],
   "source": [
    "# add a dummy time variable\n",
    "wrf_data = add_dummy_time_to_wl(wrf_data)"
   ]
  },
  {
   "cell_type": "markdown",
   "id": "460b14f0-bd4f-4ea5-84bf-13e3b7595d07",
   "metadata": {},
   "source": [
    "#### Statistical Downscaling (LOCA2)"
   ]
  },
  {
   "cell_type": "code",
   "execution_count": 17,
   "id": "b20297d5-cbde-43ae-8270-748d8ef2ad90",
   "metadata": {},
   "outputs": [],
   "source": [
    "# grab correct variable name for LOCA2\n",
    "loca_variable = [event_variable]\n",
    "# temperature\n",
    "if loca_variable[0] == \"Air Temperature at 2m\":\n",
    "    loca_variable = [\"Maximum air temperature at 2m\", \"Minimum air temperature at 2m\"]\n",
    "# relative humidity\n",
    "if loca_variable[0] == \"Relative humidity\":\n",
    "    loca_variable = [\"Minimum relative humidity\", \"Maximum relative humidity\"]"
   ]
  },
  {
   "cell_type": "code",
   "execution_count": 18,
   "id": "620ef737-27cc-4768-905a-8d93debcaa83",
   "metadata": {},
   "outputs": [
    {
     "name": "stdout",
     "output_type": "stream",
     "text": [
      "ERROR: No data found for your input values. Please modify your data request. \n",
      "Returning None\n"
     ]
    }
   ],
   "source": [
    "# statistical - loca2 downscaling xvariable\n",
    "loca_data = [\n",
    "    get_data(\n",
    "        variable=GETVAR,\n",
    "        downscaling_method=\"Statistical\",\n",
    "        resolution=resolution,\n",
    "        units=event_units,\n",
    "        timescale=timescale,\n",
    "        # Modify your approach\n",
    "        approach=\"Warming Level\",\n",
    "        warming_level=float(baseline_gwl),\n",
    "        latitude=latitude,\n",
    "        longitude=longitude\n",
    "    )\n",
    "    for GETVAR in loca_variable\n",
    "]"
   ]
  },
  {
   "cell_type": "code",
   "execution_count": 19,
   "id": "6a75c6b9-1c2a-45a1-ab56-488d2e3075c9",
   "metadata": {},
   "outputs": [],
   "source": [
    "# if we need to average\n",
    "if loca_data[0] is not None:\n",
    "    # temperature\n",
    "    if event_variable == \"Air Temperature at 2m\":\n",
    "        loca_data = (loca_data[0] + loca_data[1]) / 2\n",
    "        loca_data.name = \"Air Temperature at 2m\"\n",
    "\n",
    "    # relative humidity\n",
    "    if event_variable == \"Relative humidity\":\n",
    "        loca_data = (loca_data[0] + loca_data[1]) / 2\n",
    "        loca_data.name = \"Relative humidity\""
   ]
  },
  {
   "cell_type": "code",
   "execution_count": 20,
   "id": "55d9412a-65c6-4cf7-a294-60aea59987fd",
   "metadata": {},
   "outputs": [
    {
     "ename": "ValueError",
     "evalue": "DataArray does not contain necessary warming level information.",
     "output_type": "error",
     "traceback": [
      "\u001b[0;31m---------------------------------------------------------------------------\u001b[0m",
      "\u001b[0;31mValueError\u001b[0m                                Traceback (most recent call last)",
      "Cell \u001b[0;32mIn[20], line 15\u001b[0m\n\u001b[1;32m     13\u001b[0m     loca_data \u001b[38;5;241m=\u001b[39m loca_data\u001b[38;5;241m.\u001b[39mrename({\u001b[38;5;124m\"\u001b[39m\u001b[38;5;124mlon\u001b[39m\u001b[38;5;124m\"\u001b[39m: \u001b[38;5;124m\"\u001b[39m\u001b[38;5;124mlongitude\u001b[39m\u001b[38;5;124m\"\u001b[39m, \u001b[38;5;124m\"\u001b[39m\u001b[38;5;124mlat\u001b[39m\u001b[38;5;124m\"\u001b[39m: \u001b[38;5;124m\"\u001b[39m\u001b[38;5;124mlatitude\u001b[39m\u001b[38;5;124m\"\u001b[39m})\n\u001b[1;32m     14\u001b[0m \u001b[38;5;66;03m# add a dummy time variable\u001b[39;00m\n\u001b[0;32m---> 15\u001b[0m loca_data \u001b[38;5;241m=\u001b[39m \u001b[43madd_dummy_time_to_wl\u001b[49m\u001b[43m(\u001b[49m\u001b[43mloca_data\u001b[49m\u001b[43m)\u001b[49m\n",
      "File \u001b[0;32m/srv/conda/envs/notebook/lib/python3.12/site-packages/climakitae/util/utils.py:957\u001b[0m, in \u001b[0;36madd_dummy_time_to_wl\u001b[0;34m(wl_da)\u001b[0m\n\u001b[1;32m    954\u001b[0m         wl_time_dim \u001b[38;5;241m=\u001b[39m dim\n\u001b[1;32m    956\u001b[0m \u001b[38;5;28;01mif\u001b[39;00m wl_time_dim \u001b[38;5;241m==\u001b[39m \u001b[38;5;124m\"\u001b[39m\u001b[38;5;124m\"\u001b[39m:\n\u001b[0;32m--> 957\u001b[0m     \u001b[38;5;28;01mraise\u001b[39;00m \u001b[38;5;167;01mValueError\u001b[39;00m(\n\u001b[1;32m    958\u001b[0m         \u001b[38;5;124m\"\u001b[39m\u001b[38;5;124mDataArray does not contain necessary warming level information.\u001b[39m\u001b[38;5;124m\"\u001b[39m\n\u001b[1;32m    959\u001b[0m     )\n\u001b[1;32m    961\u001b[0m \u001b[38;5;66;03m# Determine time frequency name and pandas freq string mapping\u001b[39;00m\n\u001b[1;32m    962\u001b[0m \u001b[38;5;28;01mif\u001b[39;00m wl_time_dim \u001b[38;5;241m==\u001b[39m \u001b[38;5;124m\"\u001b[39m\u001b[38;5;124mtime_delta\u001b[39m\u001b[38;5;124m\"\u001b[39m:\n",
      "\u001b[0;31mValueError\u001b[0m: DataArray does not contain necessary warming level information."
     ]
    }
   ],
   "source": [
    "# unlist if needed\n",
    "if type(loca_data) == list:\n",
    "    loca_data = loca_data[0]\n",
    "\n",
    "# now merge\n",
    "# first check if there is valid loca data - requires that both x and y have valid data\n",
    "if loca_data is None:\n",
    "    # set to wrf\n",
    "    loca_data = wrf_data\n",
    "    # replace with all NaNs\n",
    "    loca_data = loca_data * np.nan\n",
    "else:\n",
    "    loca_data = loca_data.rename({\"lon\": \"longitude\", \"lat\": \"latitude\"})\n",
    "# add a dummy time variable\n",
    "loca_data = add_dummy_time_to_wl(loca_data)"
   ]
  },
  {
   "cell_type": "markdown",
   "id": "e7fa6c97-72a1-4a54-8517-6f09a9b2a3de",
   "metadata": {},
   "source": [
    "### Downsize Data"
   ]
  },
  {
   "cell_type": "code",
   "execution_count": null,
   "id": "ea3d8c83-2e24-45e7-971f-10af048b6507",
   "metadata": {},
   "outputs": [],
   "source": [
    "# clip to shapefile\n",
    "wrf_data = clip_to_shapefile(wrf_data, shapefile_filename)\n",
    "loca_data = clip_to_shapefile(loca_data, shapefile_filename)"
   ]
  },
  {
   "cell_type": "code",
   "execution_count": null,
   "id": "e1186a8f-1dee-4503-a3f0-10f3597cf28b",
   "metadata": {},
   "outputs": [],
   "source": [
    "# average across domain (we want single timeseries)\n",
    "wrf_data = eval(f\"wrf_data.{aggregation}(['longitude','latitude'])\")\n",
    "loca_data = eval(f\"loca_data.{aggregation}(['longitude','latitude'])\")"
   ]
  },
  {
   "cell_type": "markdown",
   "id": "b9647bf9-55cc-4955-9560-2710545945f1",
   "metadata": {},
   "source": [
    "### Import Data"
   ]
  },
  {
   "cell_type": "code",
   "execution_count": null,
   "id": "d5f092f8-d779-431e-8c2c-af7afcc7c5ae",
   "metadata": {},
   "outputs": [],
   "source": [
    "loca_data = load(loca_data, progress_bar=True).squeeze()\n",
    "wrf_data = load(wrf_data, progress_bar=True).squeeze()"
   ]
  },
  {
   "cell_type": "markdown",
   "id": "d6df8018-03ae-4123-bb1f-bd5edbaf8f1d",
   "metadata": {},
   "source": [
    "### Define Event"
   ]
  },
  {
   "cell_type": "code",
   "execution_count": null,
   "id": "badcda25-e3da-434c-b50f-dcec84af2d4e",
   "metadata": {},
   "outputs": [],
   "source": [
    "# determine what method to define event\n",
    "if event_threshold_function == \"percentile\":\n",
    "    # calculate the percentile\n",
    "    loca_threshold = loca_data.quantile(\n",
    "        dim=\"time\", q=event_threshold_function_params\n",
    "    ).squeeze()\n",
    "    wrf_threshold = wrf_data.quantile(\n",
    "        dim=\"time\", q=event_threshold_function_params\n",
    "    ).squeeze()\n",
    "# if 1 in x\n",
    "if event_threshold_function == \"1 in x\":\n",
    "    if event_threshold_direction == \">\":\n",
    "        extreme_type = \"max\"\n",
    "    else:\n",
    "        extreme_type = \"min\"\n",
    "    # initialize\n",
    "    loca_list = []\n",
    "    loca_sim_list = []\n",
    "    for sim in loca_data.simulation:\n",
    "        try:\n",
    "            loca_ams = get_block_maxima(\n",
    "                loca_data.sel({\"simulation\": sim}),\n",
    "                check_ess=False,\n",
    "                extremes_type=extreme_type,\n",
    "            )\n",
    "            loca_rv = get_return_value(\n",
    "                loca_ams,\n",
    "                return_period=event_threshold_function_params,\n",
    "                multiple_points=False,\n",
    "            )\n",
    "            loca_rv = loca_rv.expand_dims(dim=\"simulation\")\n",
    "            loca_list.append(loca_rv)\n",
    "            loca_sim_list.append(sim.data.item())\n",
    "        except Exception as e:\n",
    "            # Usually exception is due to missing data at chosen GWL such that\n",
    "            # get_block_maxima cannot run. Skip this simulation.\n",
    "            print(e)\n",
    "            print(\"Skipping \", sim.data.item())\n",
    "    loca_threshold = xr.concat(\n",
    "        loca_list, loca_data.simulation.sel({\"simulation\": loca_sim_list})\n",
    "    )\n",
    "    loca_threshold = loca_threshold[\"return_value\"].squeeze()\n",
    "    # intalize\n",
    "    wrf_list = []\n",
    "    for sim in wrf_data.simulation:\n",
    "        wrf_ams = get_block_maxima(\n",
    "            wrf_data.sel({\"simulation\": sim}),\n",
    "            check_ess=False,\n",
    "            extremes_type=extreme_type,\n",
    "        )\n",
    "        wrf_rv = get_return_value(\n",
    "            wrf_ams,\n",
    "            return_period=event_threshold_function_params,\n",
    "            multiple_points=False,\n",
    "        )\n",
    "        wrf_rv = wrf_rv.expand_dims(dim=\"simulation\")\n",
    "        wrf_list.append(wrf_rv)\n",
    "    wrf_threshold = xr.concat(wrf_list, wrf_data.simulation)\n",
    "    wrf_threshold = wrf_threshold[\"return_value\"].squeeze()"
   ]
  },
  {
   "cell_type": "code",
   "execution_count": null,
   "id": "2b3c179e-46f5-4757-b6c3-cd1d21c55094",
   "metadata": {},
   "outputs": [],
   "source": [
    "# remove baseline data to free up memory\n",
    "del loca_data\n",
    "del wrf_data"
   ]
  },
  {
   "cell_type": "markdown",
   "id": "0e9f4909-4ac2-4de9-b578-bd468564c64c",
   "metadata": {},
   "source": [
    "## Step 2: Estimate Event 'Hits'"
   ]
  },
  {
   "cell_type": "markdown",
   "id": "88245347-207a-4e90-8cea-25b2e40d6b9e",
   "metadata": {},
   "source": [
    "Use the future GWL to estimate event hits"
   ]
  },
  {
   "cell_type": "markdown",
   "id": "fe1403e2-38c7-4ef2-8219-e286026813d5",
   "metadata": {},
   "source": [
    "### Pull Future GWL Data"
   ]
  },
  {
   "cell_type": "markdown",
   "id": "08b83966-01fd-4aea-ad7e-f899dd1eb631",
   "metadata": {},
   "source": [
    "#### Dynamical Downscaling (WRF)"
   ]
  },
  {
   "cell_type": "code",
   "execution_count": null,
   "id": "370d6a0b-8011-440e-9fd7-ac405c99789f",
   "metadata": {},
   "outputs": [],
   "source": [
    "# WRF downscaling\n",
    "wrf_data = get_data(\n",
    "    variable=event_variable,\n",
    "    downscaling_method=\"Dynamical\",\n",
    "    resolution=resolution,\n",
    "    timescale=timescale,\n",
    "    units=event_units,\n",
    "    # Modify your approach\n",
    "    approach=\"Warming Level\",\n",
    "    warming_level=float(future_gwl),\n",
    ")"
   ]
  },
  {
   "cell_type": "code",
   "execution_count": null,
   "id": "e11e637f-943d-4067-bf5c-dd380d5e80e0",
   "metadata": {},
   "outputs": [],
   "source": [
    "# rename lat lon\n",
    "wrf_data = wrf_data.rename({\"x\": \"longitude\", \"y\": \"latitude\"})"
   ]
  },
  {
   "cell_type": "code",
   "execution_count": null,
   "id": "19ac0072-fd96-42c3-90be-62dc2408b85c",
   "metadata": {},
   "outputs": [],
   "source": [
    "# add a dummy time variable\n",
    "wrf_data = add_dummy_time_to_wl(wrf_data)"
   ]
  },
  {
   "cell_type": "markdown",
   "id": "8ae453be-2f9d-41dd-874e-9b89ba8912db",
   "metadata": {},
   "source": [
    "#### Statistical Downscaling (LOCA2)"
   ]
  },
  {
   "cell_type": "code",
   "execution_count": null,
   "id": "92e20059-8450-4f61-bb6c-a83f81f30b97",
   "metadata": {},
   "outputs": [],
   "source": [
    "# grab correct variable name for LOCA2\n",
    "loca_variable = [event_variable]\n",
    "# temperature\n",
    "if loca_variable[0] == \"Air Temperature at 2m\":\n",
    "    loca_variable = [\"Maximum air temperature at 2m\", \"Minimum air temperature at 2m\"]\n",
    "# relative humidity\n",
    "if loca_variable[0] == \"Relative humidity\":\n",
    "    loca_variable = [\"Minimum relative humidity\", \"Maximum relative humidity\"]"
   ]
  },
  {
   "cell_type": "code",
   "execution_count": null,
   "id": "8df66a47-a94a-4a77-a85e-f8b8f7d2b7f7",
   "metadata": {},
   "outputs": [],
   "source": [
    "# statistical - loca2 downscaling xvariable\n",
    "loca_data = [\n",
    "    get_data(\n",
    "        variable=GETVAR,\n",
    "        downscaling_method=\"Statistical\",\n",
    "        resolution=resolution,\n",
    "        units=event_units,\n",
    "        timescale=timescale,\n",
    "        # Modify your approach\n",
    "        approach=\"Warming Level\",\n",
    "        warming_level=float(future_gwl),\n",
    "    )\n",
    "    for GETVAR in loca_variable\n",
    "]"
   ]
  },
  {
   "cell_type": "code",
   "execution_count": null,
   "id": "2cc01278-d46d-4fa8-a60a-14ab537873f5",
   "metadata": {},
   "outputs": [],
   "source": [
    "# if we need to average\n",
    "if loca_data[0] is not None:\n",
    "    # temperature\n",
    "    if event_variable == \"Air Temperature at 2m\":\n",
    "        loca_data = (loca_data[0] + loca_data[1]) / 2\n",
    "        loca_data.name = \"Air Temperature at 2m\"\n",
    "\n",
    "    # relative humidity\n",
    "    if event_variable == \"Relative humidity\":\n",
    "        loca_data = (loca_data[0] + loca_data[1]) / 2\n",
    "        loca_data.name = \"Relative humidity\""
   ]
  },
  {
   "cell_type": "code",
   "execution_count": null,
   "id": "af493e5c-af81-4152-9c71-2620f0bf5a93",
   "metadata": {},
   "outputs": [],
   "source": [
    "# unlist if needed\n",
    "if type(loca_data) == list:\n",
    "    loca_data = loca_data[0]\n",
    "\n",
    "# now merge\n",
    "# first check if there is valid LOCA2 data - requires that both x and y have valid data\n",
    "if loca_data is None:\n",
    "    # set to wrf\n",
    "    loca_data = wrf_data\n",
    "    # replace with all NaNs\n",
    "    loca_data = loca_data * np.nan\n",
    "else:\n",
    "    loca_data = loca_data.rename({\"lon\": \"longitude\", \"lat\": \"latitude\"})\n",
    "# add a dummy time variable\n",
    "loca_data = add_dummy_time_to_wl(loca_data)"
   ]
  },
  {
   "cell_type": "markdown",
   "id": "b7e2c8f0-7a8a-430b-93ca-84cebfac03b0",
   "metadata": {},
   "source": [
    "### Downsize Data"
   ]
  },
  {
   "cell_type": "code",
   "execution_count": null,
   "id": "9216fea0-1e25-484a-bea3-0cd6b9e746f3",
   "metadata": {},
   "outputs": [],
   "source": [
    "# clip to shapefile\n",
    "wrf_data = clip_to_shapefile(wrf_data, shapefile_filename)\n",
    "loca_data = clip_to_shapefile(loca_data, shapefile_filename)"
   ]
  },
  {
   "cell_type": "code",
   "execution_count": null,
   "id": "8ef43fe7-891b-42c3-930c-3d79eb987094",
   "metadata": {},
   "outputs": [],
   "source": [
    "# average across domain (we want single timeseries)\n",
    "wrf_data = eval(f\"wrf_data.{aggregation}(['longitude','latitude'])\")\n",
    "loca_data = eval(f\"loca_data.{aggregation}(['longitude','latitude'])\")"
   ]
  },
  {
   "cell_type": "markdown",
   "id": "a1500d85-4975-4f97-840d-7dadeaaaf02d",
   "metadata": {},
   "source": [
    "### Import Data"
   ]
  },
  {
   "cell_type": "code",
   "execution_count": null,
   "id": "755ebda2-0e56-4482-8410-a2028ffb55fe",
   "metadata": {},
   "outputs": [],
   "source": [
    "loca_data = load(loca_data, progress_bar=True).squeeze()\n",
    "wrf_data = load(wrf_data, progress_bar=True).squeeze()"
   ]
  },
  {
   "cell_type": "code",
   "execution_count": null,
   "id": "83c85cd3-4bd2-451a-99aa-44d240a7b00b",
   "metadata": {},
   "outputs": [],
   "source": [
    "# If simulation is missing in baseline dataset,\n",
    "# drop from future. Seems to be a LOCA2 issue only.\n",
    "loca_sim_list_new = list(loca_data.simulation.values)\n",
    "loca_sim_list = [x for x in loca_sim_list if x in loca_sim_list_new]\n",
    "loca_data = loca_data.sel({\"simulation\": loca_sim_list})"
   ]
  },
  {
   "cell_type": "markdown",
   "id": "d2bacdda-e0dd-4e9e-b14b-1ebbc9654285",
   "metadata": {},
   "source": [
    "### Count Hits"
   ]
  },
  {
   "cell_type": "code",
   "execution_count": null,
   "id": "b364dc94-ad72-42f1-b466-34364ae2d90a",
   "metadata": {},
   "outputs": [],
   "source": [
    "### create a 'hit' for in events\n",
    "# initialize an array to fill\n",
    "wrfEventHit = np.zeros(wrf_data.values.shape)\n",
    "locaEventHit = np.zeros(loca_data.values.shape)\n",
    "\n",
    "# loop through each time stamp\n",
    "for itime in range(0, len(wrf_data[\"time\"])):\n",
    "    # look at this time stamp + duration\n",
    "    timeIndex = list(range(itime, (itime + event_duration)))\n",
    "    # remove any values that are greater than our time\n",
    "    timeIndex = [x for x in timeIndex if x < len(wrf_data[\"time\"])]\n",
    "\n",
    "    ### Start with WRF\n",
    "    # pull out the data to test\n",
    "    testWRFData = wrf_data[timeIndex, :]\n",
    "\n",
    "    # for each simulation, check if the values are greater or less than the threshold\n",
    "    if event_threshold_direction == \"<\":\n",
    "        wrfCounts = (testWRFData < wrf_threshold).sum(dim=\"time\")\n",
    "    if event_threshold_direction == \">\":\n",
    "        wrfCounts = (testWRFData > wrf_threshold).sum(dim=\"time\")\n",
    "\n",
    "    # if you have greater than or equal to duration count as a 'hit'\n",
    "    wrfHitIndex = wrfCounts >= event_duration\n",
    "\n",
    "    # now save hits\n",
    "    wrfEventHit[itime, wrfHitIndex] = 1\n",
    "\n",
    "    ### Move to Loca\n",
    "    # pull out the data to test\n",
    "    testLOCAData = loca_data[timeIndex, :]\n",
    "\n",
    "    # for each simulation, check if the values are greater or less than the threshold\n",
    "    if event_threshold_direction == \"<\":\n",
    "        locaCounts = (testLOCAData < loca_threshold).sum(dim=\"time\")\n",
    "    if event_threshold_direction == \">\":\n",
    "        locaCounts = (testLOCAData > loca_threshold).sum(dim=\"time\")\n",
    "\n",
    "    # if you have greater than or equal to duration count as a 'hit'\n",
    "    locaHitIndex = locaCounts >= event_duration\n",
    "\n",
    "    # now save hits\n",
    "    locaEventHit[itime, locaHitIndex] = 1"
   ]
  },
  {
   "cell_type": "code",
   "execution_count": null,
   "id": "c1934c61-4a87-4391-ab79-a6661b066ad4",
   "metadata": {},
   "outputs": [],
   "source": [
    "# now add hits to xarray\n",
    "wrf_data = wrf_data.assign_coords(event_hit=((\"time\", \"simulation\"), wrfEventHit))\n",
    "loca_data = loca_data.assign_coords(event_hit=((\"time\", \"simulation\"), locaEventHit))"
   ]
  },
  {
   "cell_type": "markdown",
   "id": "fa8f8040-66b1-41d0-85ae-17098531be5f",
   "metadata": {},
   "source": [
    "## Prep for Plotting"
   ]
  },
  {
   "cell_type": "code",
   "execution_count": null,
   "id": "824ff484-c839-4bbf-8720-218d95ca32a4",
   "metadata": {},
   "outputs": [],
   "source": [
    "# create a 'model' variable\n",
    "lsims = loca_data.simulation.values.tolist()\n",
    "loca_models = [s.split(\"_\")[1] for s in lsims]\n",
    "loca_data = loca_data.assign_coords(models=(\"simulation\", loca_models))"
   ]
  },
  {
   "cell_type": "code",
   "execution_count": null,
   "id": "d7fe5ee8-c927-4b59-8a00-d36ec4641fee",
   "metadata": {},
   "outputs": [],
   "source": [
    "wsims = wrf_data.simulation.values.tolist()\n",
    "wrf_models = [s.split(\"_\")[1] for s in wsims]\n",
    "wrf_data = wrf_data.assign_coords(models=(\"simulation\", wrf_models))"
   ]
  },
  {
   "cell_type": "code",
   "execution_count": null,
   "id": "e52ee7e3-538a-49bc-ae1e-d50d3b9a25e6",
   "metadata": {},
   "outputs": [],
   "source": [
    "# create a realization variable\n",
    "loca_realization = [s.split(\"_\")[2] + \"_\" + s.split(\"_\")[3] for s in lsims]\n",
    "loca_data = loca_data.assign_coords(relization=(\"simulation\", loca_realization))\n",
    "wrf_realization = [s.split(\"_\")[2] + \"_\" + s.split(\"_\")[3] for s in wsims]\n",
    "wrf_data = wrf_data.assign_coords(relization=(\"simulation\", wrf_realization))"
   ]
  },
  {
   "cell_type": "code",
   "execution_count": null,
   "id": "eddba318-75b3-4f0d-ab67-9ac661f2e597",
   "metadata": {},
   "outputs": [],
   "source": [
    "# create a data frame to make plotting easier\n",
    "locaDF = loca_data.to_dataframe().reset_index()\n",
    "wrfDF = wrf_data.to_dataframe().reset_index()"
   ]
  },
  {
   "cell_type": "code",
   "execution_count": null,
   "id": "d4032074-c906-409d-b9c3-a9dc5f6f5e85",
   "metadata": {},
   "outputs": [],
   "source": [
    "# Create a downscaling name\n",
    "locaDF[\"downscaling\"] = \"loca2\"\n",
    "wrfDF[\"downscaling\"] = \"wrf\""
   ]
  },
  {
   "cell_type": "code",
   "execution_count": null,
   "id": "9b464e37-5358-4024-b6b6-6264628b3a0d",
   "metadata": {},
   "outputs": [],
   "source": [
    "# combine into one\n",
    "finalDF = pd.concat([locaDF, wrfDF], keys=locaDF.keys())"
   ]
  },
  {
   "cell_type": "markdown",
   "id": "e0c210f7-be93-414b-9dea-498a0e49bc24",
   "metadata": {},
   "source": [
    "## Step 3: Plot Results (Yay!)"
   ]
  },
  {
   "cell_type": "code",
   "execution_count": null,
   "id": "12359547-1330-4172-8330-3bb154720ead",
   "metadata": {},
   "outputs": [],
   "source": [
    "# plot all the data\n",
    "def annotate(data, **kws):\n",
    "    ax = plt.gca()\n",
    "    ax.scatter(\n",
    "        data.time.where(data.event_hit == 1),\n",
    "        data[event_variable].where(data.event_hit == 1),\n",
    "        color=\"r\",\n",
    "    )\n",
    "\n",
    "\n",
    "g1 = sns.relplot(\n",
    "    data=finalDF,\n",
    "    x=\"time\",\n",
    "    y=event_variable,\n",
    "    col=\"simulation\",\n",
    "    color=\"grey\",\n",
    "    col_wrap=4,\n",
    "    kind=\"line\",\n",
    "    height=5,\n",
    "    aspect=1,\n",
    "    facet_kws=dict(sharex=False),\n",
    ")\n",
    "g1.map_dataframe(annotate)\n",
    "# g1.map(sns.scatterplot,data=finalDF[finalDF[\"event_hit\"] == 1],\n",
    "#              x=\"time\", y=event_variable, color='r')"
   ]
  },
  {
   "cell_type": "code",
   "execution_count": null,
   "id": "6f8c2710-2530-4bb8-98e4-036506c642e0",
   "metadata": {},
   "outputs": [],
   "source": [
    "# Save the figure to a file\n",
    "if event_threshold_function == \"1 in x\":\n",
    "    event_name = f\"1_in_{event_threshold_function_params}\"\n",
    "else:\n",
    "    event_name = event_threshold_function_params + \"_percentile\"\n",
    "g1.savefig(\n",
    "    f\"event_finder_{event_variable}_under_{future_gwl}gwl_with_{event_name}_{event_duration}{timescale}duration.jpeg\".replace(\n",
    "        \" \", \"_\"\n",
    "    )\n",
    ")"
   ]
  },
  {
   "cell_type": "code",
   "execution_count": null,
   "id": "4cd2dd8c-a7f8-4b7a-889d-311af99e5120",
   "metadata": {},
   "outputs": [],
   "source": [
    "# save event data\n",
    "finalDF.to_parquet(\n",
    "    f\"event_{event_variable}_under_{future_gwl}gwl_with_{event_name}_{event_duration}{timescale}duration\".replace(\n",
    "        \" \", \"_\"\n",
    "    )\n",
    ")"
   ]
  }
 ],
 "metadata": {
  "kernelspec": {
   "display_name": "Python 3 (ipykernel)",
   "language": "python",
   "name": "python3"
  },
  "language_info": {
   "codemirror_mode": {
    "name": "ipython",
    "version": 3
   },
   "file_extension": ".py",
   "mimetype": "text/x-python",
   "name": "python",
   "nbconvert_exporter": "python",
   "pygments_lexer": "ipython3",
   "version": "3.12.10"
  }
 },
 "nbformat": 4,
 "nbformat_minor": 5
}
