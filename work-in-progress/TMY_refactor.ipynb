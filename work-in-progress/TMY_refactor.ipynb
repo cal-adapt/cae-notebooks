{
 "cells": [
  {
   "cell_type": "markdown",
   "id": "defbbda8-2af9-4853-a11b-3a303078d79a",
   "metadata": {},
   "source": [
    "# Calculating a Typical Meteorological Year\n",
    "<br>This notebook walks through the process of calculating a [Typical Meteorological Year](https://nsrdb.nrel.gov/data-sets/tmy), an hourly dataset used for applications in energy and building systems modeling. Because this represents average rather than extreme conditions, an TMY dataset is not suited for designing systems to meet the worst-case conditions occurring at a location. \n",
    "\n",
    "The TMY methodology here mirrors that of the Sandia/NREL TMY3 methodology, and uses historic and projected downscaled climate data available through the Cal-Adapt: Analytics Engine catalog. As this methodology heavily weights the solar radiation input data, be aware that the final selection of \"typical\" months may not be typical for other variables. \n",
    "\n",
    "**Intended Application** As a user, I want to <span style=\"color:#FF0000\">**generate a typical meteorological year file**</span> for a location of interest:\n",
    "- Understand the methods that are involved in generating a TMY dataset\n",
    "- Visualize the TMY dataset across all input variables\n",
    "- Export the TMY dataset for available models for input into my workflow\n",
    "\n",
    "**Note**: \n",
    "1. This notebook is a **full demonstration** of the Typical Meteorological Year methodology, for full transparency. For practical generation of a TMY dataset, a user <span style=\"color:#FF0000\">**only needs to provide 2 elements**</span>: the **location**, and **reference time period**. These selections are highlighted below for you. \n",
    "2. The Analytics Engine at present has an *Average Meteorological Year* functionality. The methods shown throughout this notebook will soon replace the underlying backend `climakitae` code for the AMY in order to better address our user needs, i.e., we are working to replace the AMY with the TMY methods. We provide this walkthrough to demonstrate confidence in the \"AMY to TMY\" conversion process for our users in the meantime. \n",
    "\n",
    "**Runtime**: With the default settings, this notebook takes approximately **30 minutes** to run from start to finish. Modifications to selections may increase the runtime."
   ]
  },
  {
   "cell_type": "markdown",
   "id": "3980ac79-7d49-4b5a-b546-78e7cabf7cb6",
   "metadata": {},
   "source": [
    "### Step 0: Set-up\n",
    "\n",
    "Import the [climakitae](https://github.com/cal-adapt/climakitae) library and other dependencies."
   ]
  },
  {
   "cell_type": "code",
   "execution_count": null,
   "id": "d4f84659-89f9-4c38-83c6-c6b353b14a3b",
   "metadata": {},
   "outputs": [],
   "source": [
    "#import climakitae as ck\n",
    "from tmy_functions import TMY\n",
    "#from climakitae.util.utils import (\n",
    "#    convert_to_local_time,\n",
    "#    get_closest_gridcell,\n",
    "#)\n",
    "#from climakitae.core.data_export import write_tmy_file\n",
    "#from climakitae.core.data_interface import get_data\n",
    "#import climakitaegui as ckg\n",
    "\n",
    "#import pandas as pd\n",
    "#import xarray as xr\n",
    "#import numpy as np\n",
    "#import pkg_resources\n",
    "#from tqdm.auto import tqdm  # Progress bar\n",
    "\n",
    "import warnings\n",
    "\n",
    "warnings.filterwarnings(\"ignore\")"
   ]
  },
  {
   "cell_type": "markdown",
   "id": "0e3f3146-9f57-4e1d-b3c0-c0bb47519969",
   "metadata": {},
   "source": [
    "### Step 1: Grab and process all required input data\n",
    "\n",
    "The [TMY3 method](https://www.nrel.gov/docs/fy08osti/43156.pdf) selects a \"typical\" month based on ten daily variables: max, min, and mean air and dew point temperatures, max and mean wind speed, global irradiance and direct irradiance.  \n",
    "\n",
    "#### Step 1a: Select location of interest\n",
    "TMYs are calculated for a specific location of interest, like a building or power plant. Here, we will use a known weather station location, via their latitude and longitude to extract the data that we need to calculate the TMY. In the example below, we will look specifically at Los Angeles International Airport, but will note in the code below how you can provide your own location coordinates too. "
   ]
  },
  {
   "cell_type": "code",
   "execution_count": null,
   "id": "797a336b-65ee-4ce4-a939-72dd9342fb42",
   "metadata": {},
   "outputs": [],
   "source": [
    "stn_name = \"Los Angeles International Airport (KLAX)\"\n",
    "# Show how to see all station names"
   ]
  },
  {
   "cell_type": "markdown",
   "id": "e2a79592-7542-456c-a1d1-b7dc9b5fc367",
   "metadata": {},
   "source": [
    "#### Step 1b: Select time frame of interest\n",
    "The second required input for generating a TMY dataset is the **time frame of interest**. The recommended minimum number of input years for a TMY dataset is 15-20 years worth of daily data; we will use 30 years to represent a standard climatological period. For data post-2014, we will utilize SSP 3-7.0, although scenario selection in the near-future is relatively independent. If calculating a TMY for the far-future, **carefully consider which scenario SSP to include**, as there will be **significant** differences present. \n",
    "\n",
    "We will also process the data for our designated station location (latitude, and longitude) at 9 km over the <span style=\"color:#FF0000\">1990-2020 period</span> as an example. **Note**: An additional year (2021) is also loaded to pad the end of the dataset after converting to local time in the next few steps -- this is done for you when subsetting for the data. "
   ]
  },
  {
   "cell_type": "code",
   "execution_count": null,
   "id": "ed710054-71c5-4883-80c5-293c1c154d17",
   "metadata": {},
   "outputs": [],
   "source": [
    "# selected reference period\n",
    "start_year = 1990\n",
    "end_year = 2020"
   ]
  },
  {
   "cell_type": "markdown",
   "id": "0869a098-12d6-4f11-85cc-a5aba5d3df29",
   "metadata": {},
   "source": [
    "### Step 2: Generate the TMY data outputs\n",
    "\n",
    "Generally, the following data is outputted using the TMY months:\n",
    "- Date & time (UTC)\n",
    "- Air temperature at 2m [°C]\n",
    "- Dew point temperature [°C]\n",
    "- Relative humidity [%]\n",
    "- Global horizontal irradiance [W/m2]\n",
    "- Direct normal irradiance [W/m2]\n",
    "- Diffuse horizontal irradiance [W/m2]\n",
    "- Downwelling infrared radiation [W/m2]\n",
    "- Wind speed at 10m [m/s]\n",
    "- Wind direction at 10m [°]\n",
    "- Surface air pressure [Pa]\n",
    "\n",
    "We can use the TMY object to set up, run, and output TMY results to file. The first step is to initialize the object with your desired reference period (`start_year` and `end_year`) and location (`stn_name`).  "
   ]
  },
  {
   "cell_type": "code",
   "execution_count": null,
   "id": "027c5d66-7171-4f67-a6d5-c13a4843ce4b",
   "metadata": {},
   "outputs": [],
   "source": [
    "# Initialize TMY object\n",
    "tmy = TMY(start_year, end_year, stn_name, verbose=True)"
   ]
  },
  {
   "cell_type": "markdown",
   "id": "60dac2b9-cb0c-4395-a309-f78abd014d40",
   "metadata": {},
   "source": [
    "We can run the entire TMY workflow with a single command, as shown below. This will write 4 TMY files, one for each model.  \n",
    "The runtime for this command can reach up to **30 minutes**. Because we set `verbose` to True, the class will print updates as different parts of the workflow initialize."
   ]
  },
  {
   "cell_type": "code",
   "execution_count": null,
   "id": "9ad6f622-e31f-4f41-bdf7-1898f459c983",
   "metadata": {},
   "outputs": [],
   "source": [
    "tmy.generate_tmy()"
   ]
  },
  {
   "cell_type": "markdown",
   "id": "53704638-cc1e-4af9-832c-b9e6d1cef29d",
   "metadata": {},
   "source": [
    "Let's observe what the TMY data looks like for one of the simulations:"
   ]
  },
  {
   "cell_type": "code",
   "execution_count": null,
   "id": "380ece63-6c46-40ae-9184-26501886581f",
   "metadata": {},
   "outputs": [],
   "source": [
    "# view tmy_data_to_export"
   ]
  },
  {
   "cell_type": "markdown",
   "id": "7cf860f9-0b6d-485a-b133-4cb98ba5b9de",
   "metadata": {},
   "source": [
    "Next, we visualize the TMY data itself. We show the results for a single simulation:"
   ]
  },
  {
   "cell_type": "code",
   "execution_count": null,
   "id": "95e67b3f-c5b6-4515-9481-145abe774f97",
   "metadata": {},
   "outputs": [],
   "source": [
    "tmy.show_tmy_data_to_export(\"WRF_MPI-ESM1-2-HR_r3i1p1f1\")"
   ]
  },
  {
   "cell_type": "markdown",
   "id": "4e2871d7-64b5-4ece-8fd4-5f1610bd4824",
   "metadata": {},
   "source": [
    "### Explore the TMY process"
   ]
  },
  {
   "cell_type": "markdown",
   "id": "3081aede-02e6-4e89-b534-ab143eb707c1",
   "metadata": {},
   "source": [
    "#### Models\n",
    "It is important to note that not all models in the Cal-Adapt: Analytics Engine have the solar variables critical for TMY file generation - in fact, only 4 do! The TMY class subsets our variables to ensure that the same 4 models are selected for consistency. The simulations are shown below:"
   ]
  },
  {
   "cell_type": "code",
   "execution_count": null,
   "id": "94b684f3-fa03-4947-937c-0eeeb924c1cd",
   "metadata": {},
   "outputs": [],
   "source": [
    "tmy.data_models"
   ]
  },
  {
   "cell_type": "code",
   "execution_count": null,
   "id": "361b9f2e-21a9-4833-bce7-fb50c173b57d",
   "metadata": {},
   "outputs": [],
   "source": []
  },
  {
   "cell_type": "markdown",
   "id": "9f9c48d9-7df9-4c64-a01c-23d358a9a2f4",
   "metadata": {},
   "source": [
    "### CDF\n",
    "\n",
    "Now that we've run the TMY workflow, we can investigate the Cumulative Distribution Function results that were used to select top months.\n",
    "\n",
    "In the plot below, we'll display maximum air temperature to assess the climatological CDF pattern, but you can modify the variable here to one of your choosing to see the pattern too! Also select a different month by moving the slider bar to see the pattern throughout the year. "
   ]
  },
  {
   "cell_type": "code",
   "execution_count": null,
   "id": "07e16654-973e-4985-b90c-4d8dd6fa9ef8",
   "metadata": {},
   "outputs": [],
   "source": [
    "# Choose your desired variable\n",
    "var = \"Daily max air temperature\"\n",
    "\n",
    "# Make the plot\n",
    "cdf_plot = plot_one_var_cdf(tmy.cdf_climatology, var)\n",
    "display(cdf_plot)"
   ]
  },
  {
   "cell_type": "markdown",
   "id": "9172073a-a52d-4c7f-bba9-2fedb152157e",
   "metadata": {},
   "source": [
    "Like the climatology CDF figure above, let's check out the individual months next. You can modify the variable, and month-year to display too. "
   ]
  },
  {
   "cell_type": "code",
   "execution_count": null,
   "id": "43caf3b8-b596-4e90-b7be-c99416e1c461",
   "metadata": {},
   "outputs": [],
   "source": [
    "# Choose your desired variable\n",
    "var = \"Daily max air temperature\"\n",
    "\n",
    "# Make the plot\n",
    "cdf_plot_mon_yr = plot_one_var_cdf(tmy.cdf_monthly,var)\n",
    "display(cdf_plot_mon_yr)"
   ]
  },
  {
   "cell_type": "code",
   "execution_count": null,
   "id": "1269951e-28b4-4b46-b04f-ab14f9ddc1ab",
   "metadata": {},
   "outputs": [],
   "source": []
  }
 ],
 "metadata": {
  "kernelspec": {
   "display_name": "Python 3 (ipykernel)",
   "language": "python",
   "name": "python3"
  },
  "language_info": {
   "codemirror_mode": {
    "name": "ipython",
    "version": 3
   },
   "file_extension": ".py",
   "mimetype": "text/x-python",
   "name": "python",
   "nbconvert_exporter": "python",
   "pygments_lexer": "ipython3",
   "version": "3.12.10"
  }
 },
 "nbformat": 4,
 "nbformat_minor": 5
}
