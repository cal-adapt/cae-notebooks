{
 "cells": [
  {
   "cell_type": "markdown",
   "id": "2fa5d079-be15-4066-a79a-4169530ad30e",
   "metadata": {},
   "source": [
    "# Coinciding Event Count"
   ]
  },
  {
   "cell_type": "markdown",
   "id": "e85829b2-83ba-489d-8158-b335ca10ca01",
   "metadata": {},
   "source": [
    "The goal of this notebook is to count the number of times that an event occurs before, during, or after a designaged climate state. This notebook requires:\n",
    "* event_finder.ipynb\n",
    "* climate_state_finder.ipynb\n"
   ]
  },
  {
   "cell_type": "markdown",
   "id": "ed4e69e9-d3c1-4e41-9d4f-5ccd4068784e",
   "metadata": {},
   "source": [
    "## Make Selections"
   ]
  },
  {
   "cell_type": "markdown",
   "id": "c8495e47-8632-4cb5-a1c6-39719c87be18",
   "metadata": {},
   "source": [
    "1. Make climate selections "
   ]
  },
  {
   "cell_type": "code",
   "execution_count": 1,
   "id": "90d34ace-48fc-40f4-acd2-fc82fbee1d4b",
   "metadata": {},
   "outputs": [],
   "source": [
    "climate_variable = \"Precipitation (total)\"\n",
    "climate_duration = \"24\"\n",
    "climate_timescale = \"monthly\" "
   ]
  },
  {
   "cell_type": "markdown",
   "id": "92f8a8fb-cc63-4d58-a7d4-6ac8d1c363c3",
   "metadata": {},
   "source": [
    "2. Make event selections"
   ]
  },
  {
   "cell_type": "code",
   "execution_count": 2,
   "id": "f5c0505c-081a-4add-886f-434a6c258a65",
   "metadata": {},
   "outputs": [],
   "source": [
    "event_variable = \"Precipitation (total)\"\n",
    "event_duration = \"1\"\n",
    "event_timescale = \"daily\" \n",
    "event_method = \"1_in_10\""
   ]
  },
  {
   "cell_type": "markdown",
   "id": "f67dfea5-9448-4abc-8b69-88140556003b",
   "metadata": {},
   "source": [
    "3. Select GWL "
   ]
  },
  {
   "cell_type": "code",
   "execution_count": 3,
   "id": "c7707eb1-f3e2-4ea3-b330-212207ff5420",
   "metadata": {},
   "outputs": [],
   "source": [
    "gwl = \"3.0\""
   ]
  },
  {
   "cell_type": "markdown",
   "id": "93153428-39be-4981-9e10-1a19c71dea00",
   "metadata": {},
   "source": [
    "4. Select type of integration "
   ]
  },
  {
   "cell_type": "code",
   "execution_count": 4,
   "id": "c7ccd936-1a16-4834-bd87-9490426f7f29",
   "metadata": {},
   "outputs": [],
   "source": [
    "# Matched up\n",
    "# Event happens right after a climate state? \n",
    "# event happens within X {time} of climate state observed? \n",
    "event_climate_state_overlap_type = \"after\" # during, after, or before\n",
    "event_climate_state_overlap_duration = 90 # some number MUST BE IN DAYS\n",
    "event_climate_state_overlap_duration_units = \"days\"  \n",
    "climate_state_direction = \"negative\" # positive, negative, either "
   ]
  },
  {
   "cell_type": "markdown",
   "id": "23a8a13c-b770-45fc-85ba-58a62e13c360",
   "metadata": {},
   "source": [
    "## Import Libraries"
   ]
  },
  {
   "cell_type": "code",
   "execution_count": 5,
   "id": "d8b048e9-d076-4f4e-890c-e2986afba5f7",
   "metadata": {},
   "outputs": [],
   "source": [
    "import pandas as pd\n",
    "import xarray as xr\n",
    "import seaborn as sns\n",
    "import matplotlib.pyplot as plt\n",
    "import numpy as np\n",
    "import os"
   ]
  },
  {
   "cell_type": "markdown",
   "id": "cf85247b-c133-435c-b95f-a5df15e01ccc",
   "metadata": {},
   "source": [
    "## Load Data"
   ]
  },
  {
   "cell_type": "code",
   "execution_count": 6,
   "id": "3d1c8828-e731-4d07-a787-c89761781b27",
   "metadata": {},
   "outputs": [],
   "source": [
    "# start with climate \n",
    "clim_filename = (f'climate_state/climate_state_{climate_variable}_under_{gwl}gwl_with_{climate_duration}{climate_timescale}duration.nc'.replace(\" \", \"_\"))\n",
    "climData = xr.open_dataset(clim_filename)"
   ]
  },
  {
   "cell_type": "code",
   "execution_count": 7,
   "id": "1f77b7e6-1e04-4021-b6e7-010219890c7f",
   "metadata": {},
   "outputs": [],
   "source": [
    "# move to event \n",
    "event_filename = (f'event_finder/event_{event_variable}_under_{gwl}gwl_with_{event_method}_{event_duration}{event_timescale}duration.nc'.replace(\" \", \"_\"))\n",
    "eventData = xr.open_dataset(event_filename)"
   ]
  },
  {
   "cell_type": "markdown",
   "id": "5fea78f9-1e4f-4bb2-8f31-2d8e531102d3",
   "metadata": {},
   "source": [
    "## Prepare Data"
   ]
  },
  {
   "cell_type": "code",
   "execution_count": 8,
   "id": "f9c6b2d9-146c-47d0-a1dc-f501449260c5",
   "metadata": {},
   "outputs": [],
   "source": [
    "# resample climate data to hourly\n",
    "if climate_timescale != \"hourly\":\n",
    "    clim_hourly = climData.resample(time=\"1h\").ffill()\n",
    "else:\n",
    "    clim_hourly=climData"
   ]
  },
  {
   "cell_type": "code",
   "execution_count": 9,
   "id": "c8d0106a-9cb0-4715-a80e-7a7cfab5ac3f",
   "metadata": {},
   "outputs": [],
   "source": [
    "# resample event data to hourly\n",
    "if event_timescale != \"hourly\":\n",
    "    event_hourly = eventData.resample(time=\"1h\").ffill()\n",
    "else:\n",
    "    event_hourly=eventData"
   ]
  },
  {
   "cell_type": "code",
   "execution_count": 10,
   "id": "8265935d-f1fe-4a8c-bea5-1b1dff2cf76b",
   "metadata": {},
   "outputs": [],
   "source": [
    "# remove unnecessary coordinates\n",
    "event_hourly = event_hourly.drop_vars([\"centered_year\",\"spatial_ref\",\n",
    "                                       \"Lambert_Conformal\"])\n"
   ]
  },
  {
   "cell_type": "code",
   "execution_count": 11,
   "id": "0762649d-3661-44f7-b431-3de307b90061",
   "metadata": {},
   "outputs": [],
   "source": [
    "# remove unnecessary coordinates\n",
    "clim_hourly = clim_hourly.drop_vars([\"climate_state_high\",\n",
    "                                     \"climate_state_low\"])"
   ]
  },
  {
   "cell_type": "code",
   "execution_count": 12,
   "id": "6a3ca5b2-2d7f-4fea-8e2f-64a29e8889a8",
   "metadata": {},
   "outputs": [],
   "source": [
    "# rename precipitation\n",
    "clim_hourly = clim_hourly.rename({\"Precipitation (total)\": \"Climate Precipitation (total)\"})\n",
    "event_hourly = event_hourly.rename({\"Precipitation (total)\": \"Event Precipitation (total)\"})"
   ]
  },
  {
   "cell_type": "markdown",
   "id": "932e2ed4-6f82-4205-a74c-2c1aeb50cfab",
   "metadata": {},
   "source": [
    "## Merge"
   ]
  },
  {
   "cell_type": "code",
   "execution_count": 13,
   "id": "091622a7-83d6-4d58-8f12-1c48ea51877e",
   "metadata": {},
   "outputs": [],
   "source": [
    " # concat climate state and event \n",
    "final = xr.merge([event_hourly,clim_hourly],compat=\"override\")"
   ]
  },
  {
   "cell_type": "code",
   "execution_count": 14,
   "id": "a46177cd-9d6c-4bd5-a3d6-fae2a4c302b3",
   "metadata": {},
   "outputs": [],
   "source": [
    "# convert to data frame for easy facet plotting\n",
    "mergedDF = final.to_dataframe()"
   ]
  },
  {
   "cell_type": "markdown",
   "id": "604cd694-cbc7-4e8a-ad49-417ecbd7caaa",
   "metadata": {},
   "source": [
    "## Initial plotting "
   ]
  },
  {
   "cell_type": "code",
   "execution_count": 15,
   "id": "df82966c-7820-4587-8040-5f35bd6160ff",
   "metadata": {},
   "outputs": [
    {
     "data": {
      "text/plain": [
       "'\\ng1 = sns.relplot(\\n    data=mergedDF,\\n    x=\"time\", y=f\\'Climate {climate_variable}\\',\\n    col=\"simulation\",color=\"black\",col_wrap=4,\\n    kind=\"line\", \\n    height=5, aspect=1, facet_kws=dict(sharex=False)\\n)\\n'"
      ]
     },
     "execution_count": 15,
     "metadata": {},
     "output_type": "execute_result"
    }
   ],
   "source": [
    "'''\n",
    "g1 = sns.relplot(\n",
    "    data=mergedDF,\n",
    "    x=\"time\", y=f'Climate {climate_variable}',\n",
    "    col=\"simulation\",color=\"black\",col_wrap=4,\n",
    "    kind=\"line\", \n",
    "    height=5, aspect=1, facet_kws=dict(sharex=False)\n",
    ")\n",
    "'''"
   ]
  },
  {
   "cell_type": "code",
   "execution_count": 16,
   "id": "e52d6524-6ea1-4435-84dc-888182aa0cdd",
   "metadata": {},
   "outputs": [
    {
     "data": {
      "text/plain": [
       "'\\ndef test (data, **kws):\\n    ax = plt.gca()\\n    ax.axvline(0, ls=\\'--\\',color=\"black\")\\ng1.map_dataframe(test)\\n'"
      ]
     },
     "execution_count": 16,
     "metadata": {},
     "output_type": "execute_result"
    }
   ],
   "source": [
    "'''\n",
    "def test (data, **kws):\n",
    "    ax = plt.gca()\n",
    "    ax.axvline(0, ls='--',color=\"black\")\n",
    "g1.map_dataframe(test)\n",
    "'''"
   ]
  },
  {
   "cell_type": "code",
   "execution_count": 17,
   "id": "4a777965-a69b-48a5-8aef-00e6fc4a2523",
   "metadata": {},
   "outputs": [
    {
     "data": {
      "text/plain": [
       "'\\n# create a plot that simply overlays the climate states with the events \\ndef climate(data, **kws):\\n    ax = plt.gca()\\n    ax.axhline(0, ls=\\'--\\',color=\"black\")\\n    ax.fill_between(data.time,data[f\\'Climate {climate_variable}\\'],where=data.climate_state_hit == 1,facecolor=\\'maroon\\',alpha=.5)\\n    ax.fill_between(data.time,data[f\\'Climate {climate_variable}\\'],where=data.climate_state_hit == -1,facecolor=\\'darkblue\\',alpha=.5)\\ndef event(data, **kws):\\n    ax = plt.gca()\\n    ax.axvline(data.time[data.event_hit == 1], ls=\\'--\\',color=\"black\")\\ng1 = sns.relplot(\\n    data=mergedDF,\\n    x=\"time\", y=f\\'Climate {climate_variable}\\',\\n    col=\"simulation\",color=\"black\",col_wrap=4,\\n    kind=\"line\", \\n    height=5, aspect=1, facet_kws=dict(sharex=False)\\n)\\ng1.map_dataframe(climate)\\n'"
      ]
     },
     "execution_count": 17,
     "metadata": {},
     "output_type": "execute_result"
    }
   ],
   "source": [
    "'''\n",
    "# create a plot that simply overlays the climate states with the events \n",
    "def climate(data, **kws):\n",
    "    ax = plt.gca()\n",
    "    ax.axhline(0, ls='--',color=\"black\")\n",
    "    ax.fill_between(data.time,data[f'Climate {climate_variable}'],where=data.climate_state_hit == 1,facecolor='maroon',alpha=.5)\n",
    "    ax.fill_between(data.time,data[f'Climate {climate_variable}'],where=data.climate_state_hit == -1,facecolor='darkblue',alpha=.5)\n",
    "def event(data, **kws):\n",
    "    ax = plt.gca()\n",
    "    ax.axvline(data.time[data.event_hit == 1], ls='--',color=\"black\")\n",
    "g1 = sns.relplot(\n",
    "    data=mergedDF,\n",
    "    x=\"time\", y=f'Climate {climate_variable}',\n",
    "    col=\"simulation\",color=\"black\",col_wrap=4,\n",
    "    kind=\"line\", \n",
    "    height=5, aspect=1, facet_kws=dict(sharex=False)\n",
    ")\n",
    "g1.map_dataframe(climate)\n",
    "'''"
   ]
  },
  {
   "cell_type": "code",
   "execution_count": 18,
   "id": "d5cbc083-bfb9-4a7a-b32c-6e9949567626",
   "metadata": {},
   "outputs": [
    {
     "data": {
      "text/plain": [
       "'\\ndef event(data, **kws):\\n    ax = plt.gca()\\n    ax.axvline(data[\"time\"].iloc[5], ls=\\'--\\',color=\"black\")\\n'"
      ]
     },
     "execution_count": 18,
     "metadata": {},
     "output_type": "execute_result"
    }
   ],
   "source": [
    "'''\n",
    "def event(data, **kws):\n",
    "    ax = plt.gca()\n",
    "    ax.axvline(data[\"time\"].iloc[5], ls='--',color=\"black\")\n",
    "'''"
   ]
  },
  {
   "cell_type": "code",
   "execution_count": 19,
   "id": "d089b8ee-d60a-400f-978f-d59fd16f893a",
   "metadata": {},
   "outputs": [
    {
     "data": {
      "text/plain": [
       "'\\ng1.map_dataframe(event)\\n'"
      ]
     },
     "execution_count": 19,
     "metadata": {},
     "output_type": "execute_result"
    }
   ],
   "source": [
    "'''\n",
    "g1.map_dataframe(event)\n",
    "'''"
   ]
  },
  {
   "cell_type": "markdown",
   "id": "f3ab5263-91c3-49c6-a955-078d1468d99e",
   "metadata": {},
   "source": [
    "## Frequency Count"
   ]
  },
  {
   "cell_type": "markdown",
   "id": "8ee59434-69d0-4b23-a6c7-bfa003c09083",
   "metadata": {},
   "source": [
    "For a given climate state and see if the event occurred within, after, or before"
   ]
  },
  {
   "cell_type": "code",
   "execution_count": null,
   "id": "c66cc20d-607e-4ea8-8609-92b99c3bce8d",
   "metadata": {},
   "outputs": [],
   "source": [
    "# create a new variable for coindicing events (1 is a hit; 0 is a miss) \n",
    "final_coinciding_event_count = np.zeros(final[\"simulation\"].values.shape)\n",
    "for isim in range(final[\"simulation\"].values.shape[0]):\n",
    "    # pull out climate hits\n",
    "    climate_hits = final[\"climate_state_hit\"][:,isim]\n",
    "    # pull out event hits\n",
    "    event_hits = final[\"event_hit\"][:,isim]\n",
    "    \n",
    "    # depending on desired climate state -- Positive\n",
    "    if (climate_state_direction == \"positive\") & (len(np.where(climate_hits==1)[0]) > 0):\n",
    "        # find all occurrences of one\n",
    "        goodIndex = np.where(climate_hits == 1)[0]\n",
    "        # determine the number of times the simulation is in this climate state\n",
    "        diffStates = np.diff(goodIndex)\n",
    "        newStates = (np.where(diffStates > 1)[0])+1\n",
    "        numStates = len(newStates)+1\n",
    "        # create an index with start states\n",
    "        startState = np.append(np.array(goodIndex[0]),goodIndex[newStates])\n",
    "        for istate in range(numStates):\n",
    "            if istate == (numStates-1):\n",
    "                currentEndState = goodIndex[len(goodIndex)-1]\n",
    "            else:\n",
    "                currentEndState = goodIndex[newStates[istate-1]-1]\n",
    "            if istate ==0:\n",
    "                endState = np.array([currentEndState])\n",
    "            else:\n",
    "                endState = np.append(endState,currentEndState)\n",
    "        # create a coindicing events array to keep track of counts\n",
    "        coincidingEvents = np.zeros(numStates)\n",
    "        # now loop through each state to look if events occur\n",
    "        for istate in range(numStates):\n",
    "            ### depending on the type overlap - look for events\n",
    "            # If during\n",
    "            if event_climate_state_overlap_type == \"during\":\n",
    "                # pull out events durign cliamte state\n",
    "                temp_events = event_hits[startState[istate]:endState[istate]]\n",
    "                # find if there were any events\n",
    "                goodEventHits = np.where(temp_events == 1)\n",
    "                # if there are events - then count\n",
    "                if len(goodEventHits) > 0:\n",
    "                    coincidingEvents[istate] = 1\n",
    "            # If after\n",
    "            if event_climate_state_overlap_type == \"after\":\n",
    "                # pull out events durign cliamte state\n",
    "                temp_events = event_hits[endState[istate]:endState[istate]+event_climate_state_overlap_duration*24]\n",
    "                # find if there were any events\n",
    "                goodEventHits = np.where(temp_events == 1)\n",
    "                # if there are events - then count\n",
    "                if len(goodEventHits) > 0:\n",
    "                    coincidingEvents[istate] = 1\n",
    "            # If before\n",
    "            if event_climate_state_overlap_type == \"before\":\n",
    "                # pull out events durign cliamte state\n",
    "                temp_events = event_hits[startState[istate]-event_climate_state_overlap_duration*24:startState[istate]]\n",
    "                # find if there were any events\n",
    "                goodEventHits = np.where(temp_events == 1)\n",
    "                # if there are events - then count\n",
    "                if len(goodEventHits) > 0:\n",
    "                    coincidingEvents[istate] = 1\n",
    "        # based on this - save the number of coinciding events for this simulation\n",
    "        final_coinciding_event_count[isim] = coincidingEvents.sum()\n",
    "\n",
    "    # depending on desired climate state -- Negative\n",
    "    if (climate_state_direction == \"negative\") & (len(np.where(climate_hits==-1)[0]) > 0):\n",
    "        # find all occurrences of -1 \n",
    "        goodIndex = np.where(climate_hits == -1)[0]\n",
    "        # determine the number of times the simulation is in this climate state\n",
    "        diffStates = np.diff(goodIndex)\n",
    "        newStates = (np.where(diffStates > 1)[0])+1\n",
    "        numStates = len(newStates)+1\n",
    "        # create an index with start states\n",
    "        startState = np.append(np.array(goodIndex[0]),goodIndex[newStates])\n",
    "        for istate in range(numStates):\n",
    "            if istate == (numStates-1):\n",
    "                currentEndState = goodIndex[len(goodIndex)-1]\n",
    "            else:\n",
    "                currentEndState = goodIndex[newStates[istate-1]-1]\n",
    "            if istate ==0:\n",
    "                endState = np.array([currentEndState])\n",
    "            else:\n",
    "                endState = np.append(endState,currentEndState)\n",
    "        # create a coindicing events array to keep track of counts\n",
    "        coincidingEvents = np.zeros(numStates)\n",
    "        # now loop through each state to look if events occur\n",
    "        for istate in range(numStates):\n",
    "            ### depending on the type overlap - look for events\n",
    "            # If during\n",
    "            if event_climate_state_overlap_type == \"during\":\n",
    "                # pull out events durign cliamte state\n",
    "                temp_events = event_hits[startState[istate]:endState[istate]]\n",
    "                # find if there were any events\n",
    "                goodEventHits = np.where(temp_events == 1)\n",
    "                # if there are events - then count\n",
    "                if len(goodEventHits) > 0:\n",
    "                    coincidingEvents[istate] = 1\n",
    "            # If after\n",
    "            if event_climate_state_overlap_type == \"after\":\n",
    "                # pull out events durign cliamte state\n",
    "                temp_events = event_hits[endState[istate]:endState[istate]+event_climate_state_overlap_duration*24]\n",
    "                # find if there were any events\n",
    "                goodEventHits = np.where(temp_events == 1)\n",
    "                # if there are events - then count\n",
    "                if len(goodEventHits) > 0:\n",
    "                    coincidingEvents[istate] = 1\n",
    "            # If before\n",
    "            if event_climate_state_overlap_type == \"before\":\n",
    "                # pull out events durign cliamte state\n",
    "                temp_events = event_hits[startState[istate]-event_climate_state_overlap_duration*24:startState[istate]]\n",
    "                # find if there were any events\n",
    "                goodEventHits = np.where(temp_events == 1)\n",
    "                # if there are events - then count\n",
    "                if len(goodEventHits) > 0:\n",
    "                    coincidingEvents[istate] = 1\n",
    "        # based on this - save the number of coinciding events for this simulation\n",
    "        final_coinciding_event_count[isim] = coincidingEvents.sum()\n",
    "\n",
    "    # depending on desired climate state -- either\n",
    "    if (climate_state_direction == \"either\") & (len(np.where(climate_hits !=0 )[0]) > 0):\n",
    "        # find all occurrences of either 1 or -1\n",
    "        goodIndex = np.where(climate_hits != 0)[0]\n",
    "        # determine the number of times the simulation is in this climate state\n",
    "        diffStates = np.diff(goodIndex)\n",
    "        newStates = (np.where(diffStates > 1)[0])+1\n",
    "        numStates = len(newStates)+1\n",
    "        # create an index with start states\n",
    "        startState = np.append(np.array(goodIndex[0]),goodIndex[newStates])\n",
    "        for istate in range(numStates):\n",
    "            if istate == (numStates-1):\n",
    "                currentEndState = goodIndex[len(goodIndex)-1]\n",
    "            else:\n",
    "                currentEndState = goodIndex[newStates[istate-1]-1]\n",
    "            if istate ==0:\n",
    "                endState = np.array([currentEndState])\n",
    "            else:\n",
    "                endState = np.append(endState,currentEndState)\n",
    "        # create a coindicing events array to keep track of counts\n",
    "        coincidingEvents = np.zeros(numStates)\n",
    "        # now loop through each state to look if events occur\n",
    "        for istate in range(numStates):\n",
    "            ### depending on the type overlap - look for events\n",
    "            # If during\n",
    "            if event_climate_state_overlap_type == \"during\":\n",
    "                # pull out events durign cliamte state\n",
    "                temp_events = event_hits[startState[istate]:endState[istate]]\n",
    "                # find if there were any events\n",
    "                goodEventHits = np.where(temp_events == 1)\n",
    "                # if there are events - then count\n",
    "                if len(goodEventHits) > 0:\n",
    "                    coincidingEvents[istate] = 1\n",
    "            # If after\n",
    "            if event_climate_state_overlap_type == \"after\":\n",
    "                # pull out events durign cliamte state\n",
    "                temp_events = event_hits[endState[istate]:endState[istate]+event_climate_state_overlap_duration*24]\n",
    "                # find if there were any events\n",
    "                goodEventHits = np.where(temp_events == 1)\n",
    "                # if there are events - then count\n",
    "                if len(goodEventHits) > 0:\n",
    "                    coincidingEvents[istate] = 1\n",
    "            # If before\n",
    "            if event_climate_state_overlap_type == \"before\":\n",
    "                # pull out events durign cliamte state\n",
    "                temp_events = event_hits[startState[istate]-event_climate_state_overlap_duration*24:startState[istate]]\n",
    "                # find if there were any events\n",
    "                goodEventHits = np.where(temp_events == 1)\n",
    "                # if there are events - then count\n",
    "                if len(goodEventHits) > 0:\n",
    "                    coincidingEvents[istate] = 1\n",
    "        # based on this - save the number of coinciding events for this simulation\n",
    "        final_coinciding_event_count[isim] = coincidingEvents.sum()        "
   ]
  },
  {
   "cell_type": "markdown",
   "id": "06fc2c41-f688-4d2a-a542-0ef70fe980c2",
   "metadata": {},
   "source": [
    "## Save Data"
   ]
  },
  {
   "cell_type": "code",
   "execution_count": null,
   "id": "f2c72824-857a-4093-a948-a53d6f32fa06",
   "metadata": {},
   "outputs": [],
   "source": [
    "# create a directory for saving everything, if it does not exist already\n",
    "folder_path = \"coinciding_events\"  # Replace with your desired folder path\n",
    "\n",
    "try:\n",
    "    os.makedirs(folder_path, exist_ok=True)\n",
    "    print(f\"Folder '{folder_path}' created successfully or already exists.\")\n",
    "except OSError as e:\n",
    "    print(f\"Error creating folder '{folder_path}': {e}\")"
   ]
  },
  {
   "cell_type": "code",
   "execution_count": null,
   "id": "b90bed2e-9b9a-4b9d-be41-ca7f6265c875",
   "metadata": {},
   "outputs": [],
   "source": [
    "final"
   ]
  },
  {
   "cell_type": "code",
   "execution_count": null,
   "id": "9f97793f-79cc-4f0e-abf8-9a68e0f04761",
   "metadata": {},
   "outputs": [],
   "source": [
    "# prep array for saving\n",
    "final_count = xr.DataArray(final_coinciding_event_count,\n",
    "                           coords={'simulation':final[\"simulation\"],\n",
    "                                  'gwl':gwl,'event_variable':event_variable,\n",
    "                                   'downscaling':final[\"downscaling\"],\n",
    "                                   'event_duration':f'{event_duration}_{event_timescale}',\n",
    "                                   'event_type':event_method,\n",
    "                                   'climate_variable':climate_variable,\n",
    "                                   'climate_duration':f'{climate_duration}_{climate_timescale}',\n",
    "                                   'climate_direction':climate_state_direction,\n",
    "                                   'overlap': event_climate_state_overlap_type,\n",
    "                                   'overlap_duration': f'{event_climate_state_overlap_duration}_{event_climate_state_overlap_duration_units}'\n",
    "                                  },\n",
    "                            dims='simulation')\n",
    "final_count = final_count.rename(\"count\")\n",
    "final_count = final_count.to_dataset()"
   ]
  },
  {
   "cell_type": "code",
   "execution_count": null,
   "id": "c34848bb-4236-4f49-aef2-0b9d79941131",
   "metadata": {},
   "outputs": [],
   "source": [
    "# save count for summary stats/plotting later \n",
    "final_count.to_netcdf(f'coinciding_events/coinciding_event_count_for_climate_state_{climate_state_direction}_'\\\n",
    "    f'{climate_variable}_{climate_duration}_'\\\n",
    "    f'{climate_timescale}_with_{event_variable}_{event_duration}_{event_timescale}_'\\\n",
    "    f'{event_method}_event_{event_climate_state_overlap_type}_{event_climate_state_overlap_duration}_'\\\n",
    "    f'{event_climate_state_overlap_duration_units}_gwl_{gwl}.nc'\n",
    "    .replace(\" \", \"_\"))"
   ]
  }
 ],
 "metadata": {
  "kernelspec": {
   "display_name": "Python 3 (ipykernel)",
   "language": "python",
   "name": "python3"
  },
  "language_info": {
   "codemirror_mode": {
    "name": "ipython",
    "version": 3
   },
   "file_extension": ".py",
   "mimetype": "text/x-python",
   "name": "python",
   "nbconvert_exporter": "python",
   "pygments_lexer": "ipython3",
   "version": "3.12.10"
  }
 },
 "nbformat": 4,
 "nbformat_minor": 5
}
