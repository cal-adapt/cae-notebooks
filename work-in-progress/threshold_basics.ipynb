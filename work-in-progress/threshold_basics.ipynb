{
 "cells": [
  {
   "cell_type": "markdown",
   "id": "0892c866-e625-4ed9-a7a3-7437b0c71372",
   "metadata": {
    "id": "0892c866-e625-4ed9-a7a3-7437b0c71372",
    "tags": []
   },
   "source": [
    "# Cal-Adapt Analytics Engine: Threshold Tools Basics"
   ]
  },
  {
   "cell_type": "markdown",
   "id": "f2f64bdd-38ab-431e-8b6c-85336b3a6495",
   "metadata": {
    "id": "f2f64bdd-38ab-431e-8b6c-85336b3a6495"
   },
   "source": [
    "In this notebook, return values, probabilities, and periods can be inferred from extreme weather events identified as the events with the maximum value in a year (e.g. the hottest hour in a year). To examine the changing frequency of events above or below a specific threshold value (e.g. critical value for infrastructure), please see the *threshold_exceedance.ipynb* notebook. Development to use return value, probability, and return period calculation tools with threshold values instead of maximum values is currently ongoing.\n",
    "\n",
    "**Intended application**: As a user, I want to understand <span style=\"color:#FF0000\">**how to characterize extreme weather events**</span> by:\n",
    "1. Calculating the return values, periods, and probabilities of a region of interest\n",
    "2. Visualize the spatial distribution of return values, periods, and probabilities across a region of interest\n",
    "\n",
    "**Terms used in this notebook**:\n",
    "- __return values__ (e.g., the value of a high temperature that will be reached once every 10 years, i.e., the value of a high temperature event with a 10-year return period)\n",
    "- __return probabilities__ (e.g., the probability of temperature exceeding 300 Kelvin)\n",
    "- __return periods__ (e.g., how often, on average, a 300 Kelvin monthly average temperature event will occur; how often, on average, a 150 mm daily precipitation event will occur)\n",
    "\n",
    "The techniques in this notebook come from applications of extreme value theory to climate data. For further reading on this topic, see [Cooley 2009](https://link.springer.com/article/10.1007/s10584-009-9627-x)."
   ]
  },
  {
   "cell_type": "markdown",
   "id": "af3f57a1-5452-4c1e-95e5-89d149c5dad5",
   "metadata": {},
   "source": [
    "**Runtime**: With the default settings, this notebook takes approximately **50-55 minutes** to run from start to finish. Modifications to selections may increase the runtime. "
   ]
  },
  {
   "cell_type": "markdown",
   "id": "75e715a2-8aa5-4d1d-8ac1-3819d136136f",
   "metadata": {
    "id": "75e715a2-8aa5-4d1d-8ac1-3819d136136f",
    "tags": []
   },
   "source": [
    "## Step 0: Setup\n",
    "Import necessary packages before running analysis"
   ]
  },
  {
   "cell_type": "code",
   "execution_count": null,
   "id": "1700f497-f85b-4d74-8150-1cfc32a9e4d9",
   "metadata": {
    "id": "1700f497-f85b-4d74-8150-1cfc32a9e4d9",
    "tags": []
   },
   "outputs": [],
   "source": [
    "import xarray as xr\n",
    "\n",
    "import climakitae as ck\n",
    "import climakitaegui as ckg\n",
    "from climakitae.explore import threshold_tools\n",
    "from climakitaegui.explore import threshold_tools as threshold_tools_gui"
   ]
  },
  {
   "cell_type": "markdown",
   "id": "49d7b471-cf37-4f74-8d50-b29fd6f5bbc1",
   "metadata": {
    "id": "49d7b471-cf37-4f74-8d50-b29fd6f5bbc1"
   },
   "source": [
    "## Step 1: Select and retrieve data of interest\n",
    "### 1a) Select data\n",
    "In the code cell below, the `ck.Select()` function of the `climakitae` app displays an interface for data selection. The selected data will be used to calculate return values, probabilities, and periods. To perform the example analyses provided later in the notebook, we recommend using the defaults, except subset the data by the state of California (CA).\n",
    "\n",
    "<span style=\"color:red\"><b>Warning:</b></span> Ensure that you __don't__ compute an area average across grid cells within your selected region by setting the area average option to **No**.\n",
    "\n",
    "__Note:__\n",
    "- This version only offers the [dynamically-downscaled](https://dept.atmos.ucla.edu/alexhall/downscaling-cmip6) data.\n",
    "- If you select 'daily' for 'Timescale', it will result in a daily aggregation of the hourly data. If you select 'monthly' for 'Timescale', it will result in a monthly aggregation of the daily data. The aggregation can be average, maximum, or sum as appropriate for the data variable.\n",
    "\n",
    "__Tip:__ When performing your own analysis with __Future Model Data__, select just one scenario to help streamline the analysis."
   ]
  },
  {
   "cell_type": "code",
   "execution_count": null,
   "id": "1fff8052-489f-4182-8dee-c165fd1b53a6",
   "metadata": {
    "id": "1fff8052-489f-4182-8dee-c165fd1b53a6",
    "tags": []
   },
   "outputs": [],
   "source": [
    "selections = ckg.Select()\n",
    "selections.area_subset = 'states'\n",
    "selections.cached_area = ['CA']\n",
    "selections.resolution = '45 km'\n",
    "selections.show()"
   ]
  },
  {
   "cell_type": "markdown",
   "id": "c042d793-725f-4fe4-ac60-33c5c00b6a62",
   "metadata": {
    "id": "c042d793-725f-4fe4-ac60-33c5c00b6a62"
   },
   "source": [
    "### 1b) Retrieve data\n",
    "\n",
    "The next cell may take several minutes to run, as there is a lot of data being retrieved. Hang tight!"
   ]
  },
  {
   "cell_type": "code",
   "execution_count": null,
   "id": "5c0a0be4-c09f-4e56-8edc-d47eacfa539c",
   "metadata": {
    "id": "5c0a0be4-c09f-4e56-8edc-d47eacfa539c",
    "scrolled": true,
    "tags": []
   },
   "outputs": [],
   "source": [
    "generated_data = selections.retrieve()"
   ]
  },
  {
   "cell_type": "markdown",
   "id": "5dBpO1XXzWWj",
   "metadata": {
    "id": "5dBpO1XXzWWj"
   },
   "source": [
    "<a id='transform'></a>\n",
    "## Step 2: Transform data to prepare for calculations"
   ]
  },
  {
   "cell_type": "markdown",
   "id": "4d505537-5ebe-4004-9113-12e02c447be6",
   "metadata": {
    "id": "4d505537-5ebe-4004-9113-12e02c447be6"
   },
   "source": [
    "### 2a) Subset data by scenario and simulation to prepare it for `threshold_tools` functions\n",
    "\n",
    "Currently, the `threshold_tools` functions that perform the calculations require an input where there is only one scenario and one simulation selected. In the cell below, we select 'Historical Climate' as the scenario, and 'WRF-CNRM-ESM2-1_r1ip1f2' as the simulation, but you can replace `scenario` and `simulation` with different selections (viewable in `generated_data` above!)."
   ]
  },
  {
   "cell_type": "code",
   "execution_count": null,
   "id": "d687a334-28b1-4281-a4b6-2d0190daec48",
   "metadata": {
    "id": "d687a334-28b1-4281-a4b6-2d0190daec48"
   },
   "outputs": [],
   "source": [
    "subsetted_data = generated_data.sel(scenario='Historical Climate').sel(simulation='WRF_CNRM-ESM2-1_r1i1p1f2')\n",
    "subsetted_data"
   ]
  },
  {
   "cell_type": "markdown",
   "id": "2efcbeb2-d4d8-4756-8ab0-050ae79aa75f",
   "metadata": {
    "id": "2efcbeb2-d4d8-4756-8ab0-050ae79aa75f"
   },
   "source": [
    "### Step 2b) Calculate Annual Maximum Series (AMS) for all grid cells\n",
    "\n",
    "This is the first step of extreme value analysis -- identifying what conditions are extreme. We default to considering each annual maximum value as a sample of an extreme event. Here, extreme events are evaluated using the annual block maxima approach, which determines the maximum value within a given block period (year). Because this approach considers only the maximum, it is limited when multiple extremes occur in a single year, since some of the extremes (that may be more extreme than the maxima in subsequent years) are excluded. This limitation makes the tools in this notebook not ideal for California in cases such as atmospheric river events or evaluating extreme wet and dry years. \n",
    "\n",
    "After calculating the AMS, run `ck.load` to bring the data down to an appropriate size for later computations - this step may take several minutes. "
   ]
  },
  {
   "cell_type": "code",
   "execution_count": null,
   "id": "22452c68-35c3-42af-907d-a776851422ce",
   "metadata": {
    "id": "22452c68-35c3-42af-907d-a776851422ce",
    "tags": []
   },
   "outputs": [],
   "source": [
    "ams = threshold_tools.get_block_maxima(subsetted_data, extremes_type='max', check_ess=False)\n",
    "ams = ck.load(ams)\n",
    "ams"
   ]
  },
  {
   "cell_type": "markdown",
   "id": "WWWEVNARXbKx",
   "metadata": {
    "id": "WWWEVNARXbKx"
   },
   "source": [
    "## Step 3: Calculate values of interest\n",
    "### 3a) Find a distribution to use for calculation\n",
    "Calculating return values, probabilities, and periods requires [fitting a probability distribution](https://en.wikipedia.org/wiki/Probability_distribution_fitting) to the annual maximum data values computed in Step 2. Step 3a) contains tools for finding a distribution that fits the data well. You can select among a list of distributions and evaluate how well a selected distribution fits the annual maximum data values. The evaluation is conducted through a goodness of fit statistical test. You can also visualize the test results on a map.\n",
    "\n",
    "**Test goodness of fit of selected distribution**\n",
    "The `get_ks_stat` function of `threshold_tools` performs the [KS goodness of fit test](https://en.wikipedia.org/wiki/Kolmogorov%E2%80%93Smirnov_test). The test can be used to evaluate the fit between data and a reference probability distribution. Specifically, the function tests the null hypothesis that the input data are distributed according to the selected distribution. The alternative hypothesis is that the data are _not_ distributed according to the distribution. The function outputs p-values from the tests. At the confidence level of 95%, the null hypothesis should be rejected in favor of the alternative if the p-value is less than the critical value of 0.05, suggesting that the selected distribution _doesn't_ fit the data well.\n",
    "\n",
    "The cell below performs the KS test on the AMS data with the generalized extreme value (GEV) distribution as the reference distribution.\n",
    "\n",
    "Below is a full list of reference distributions that can be specified in the `distr=` part the `get_ks_stat` function, along with information on the situations in which each distribution is often used.\n",
    "\n",
    "- __gev__ - Generalized extreme value (GEV) distribution - allows for a continuous range of different shapes, and will reduce to the Gumbel, Weibull, and Generalized Pareto distributions under different conditions. The GEV distribution may generally provide a better fit than the three individual distributions, and is a common distribution used in hydrological applications.\n",
    "- __gumbel__ - Gumbel distribution - Range of interest is unlimited\n",
    "- __weibull__ - Weibull distribution - Range of interest has an upper limit\n",
    "- __pearson3__ - Pearson Type III distribution - Range of interest has a lower limit\n",
    "- __genpareto__ - Generalized Pareto distribution - This distribution is often used in application for river flood events and suggested to be of a good general fit for precipitation in the United States."
   ]
  },
  {
   "cell_type": "code",
   "execution_count": null,
   "id": "e3eff081-3555-43fe-9b93-ad5c9ae32d7a",
   "metadata": {
    "id": "e3eff081-3555-43fe-9b93-ad5c9ae32d7a",
    "tags": []
   },
   "outputs": [],
   "source": [
    "goodness_of_fit = threshold_tools.get_ks_stat(ams, distr='gev', multiple_points=True)\n",
    "goodness_of_fit"
   ]
  },
  {
   "cell_type": "markdown",
   "id": "ttJh3rYl5Qmc",
   "metadata": {
    "id": "ttJh3rYl5Qmc"
   },
   "source": [
    "Evaluate the p-values in the `goodness_of_fit` data to ensure the selected distribution fits the data well. Once you have identified a distribution with satisfactory goodness of fit, please proceed to Step 3b) to calculate return values, probabilities, and/or periods.\n",
    "\n",
    "**Visualize goodness of fit test results**\n",
    "\n",
    "Observe a geospatial map of p-values from the KS test to ensure the selected distribution fits the data well. The p-values should be above the critical value associated with your desired level of confidence. We default to a p-value of 0.05, or the 95% confidence level."
   ]
  },
  {
   "cell_type": "code",
   "execution_count": null,
   "id": "6b9a7db3-34de-44fa-93b0-04f38b39dba6",
   "metadata": {
    "id": "6b9a7db3-34de-44fa-93b0-04f38b39dba6",
    "tags": []
   },
   "outputs": [],
   "source": [
    "threshold_tools_gui.get_geospatial_plot(goodness_of_fit, data_variable='p_value')"
   ]
  },
  {
   "cell_type": "markdown",
   "id": "ovntWRE3roW6",
   "metadata": {
    "id": "ovntWRE3roW6"
   },
   "source": [
    "### 3b) Calculate values of interest using a distribution that fits the data well\n",
    "\n",
    "**Calculate return value for a selected return period**\n",
    "The `get_return_value` function in `threshold_tools` calculates the return value for a certain return period (i.e., 1-in-X-year event). Confidence intervals of the return values can also be calculated. The cell below calculates the return value for a 1-in-10-year extreme high monthly average temperature event. The return values are inferred from GEV distributions fitted to the AMS. A hundred bootstrap samples are also used to calculate 95% confidence intervals.\n",
    "\n",
    "To perform your own analysis, specify `distr=` as the distribution you found in Step 3a), and `return_period=` as the return period of your interest (in years). You may also specify a different number of bootstrap samples used to calculate confidence intervals, as well as different lower and upper bounds of the confidence intervals. \n",
    "\n",
    "__Tip:__ `bootstrap_runs`, `conf_int_lower_bound`, and `conf_int_upper_bound` are set to the default values in the example. If you want to perform the analysis with these default values, you don't need to specify them explicitly. For instance, the example code is equivalent to `threshold_tools.get_return_value(ams, return_period=10, distr='gev', multiple_points=True)`"
   ]
  },
  {
   "cell_type": "markdown",
   "id": "9f7af1ed-2a85-46cd-b301-b83de0fe6c84",
   "metadata": {},
   "source": [
    "**Note:** Since we're running 100 bootstraps, this cell will take a while (~20 min.)!"
   ]
  },
  {
   "cell_type": "code",
   "execution_count": null,
   "id": "4c0cd847-1a20-4abc-a1b8-a84e7e1debe1",
   "metadata": {
    "id": "4c0cd847-1a20-4abc-a1b8-a84e7e1debe1"
   },
   "outputs": [],
   "source": [
    "%%time\n",
    "return_value = threshold_tools.get_return_value(\n",
    "    ams, return_period=10, distr='gev',\n",
    "    bootstrap_runs=100,\n",
    "    conf_int_lower_bound=2.5,\n",
    "    conf_int_upper_bound=97.5,\n",
    "    multiple_points=True\n",
    ")\n",
    "return_value"
   ]
  },
  {
   "cell_type": "markdown",
   "id": "61e8fd0d-25f4-4dfa-914b-00ae70acaf5a",
   "metadata": {
    "id": "61e8fd0d-25f4-4dfa-914b-00ae70acaf5a"
   },
   "source": [
    "#### 3c) Calculate return probability of exceedance of selected threshold\n",
    "\n",
    "The `get_return_prob` function in `threshold_tools` calculates the probability of a variable exceeding a certain threshold. Confidence intervals of the return probabilities can also be calculated. The cell below calculates the probability of monthly average temperature exceeding 300 Kelvin. The return probabilities are inferred from Pearson Type III distributions fitted to the AMS. By default, a hundred bootstrap samples are also used to calculate 95% confidence intervals.\n",
    "\n",
    "To perform your own analysis, specify `distr=` as the distribution you found in Step 3a), and `threshold=` as the threshold of your interest. The unit of the threshold is assumed to be the same as that of the data variable in the AMS. You may also specify the number of bootstrap samples (using `bootstrap_runs=`), as well as the lower and upper bounds of the confidence intervals (using `conf_int_lower_bound=` and `conf_int_upper_bound=`)."
   ]
  },
  {
   "cell_type": "markdown",
   "id": "3f087edc-7669-4dfe-8979-eff834b951c3",
   "metadata": {},
   "source": [
    "**Note:** Similarly here, we're also running 100 bootstraps in the backend to get the return probability from a bootstrapped distribution. This will take less time (~10 min.)."
   ]
  },
  {
   "cell_type": "code",
   "execution_count": null,
   "id": "a65eb953-e638-4328-9268-89578770e3d3",
   "metadata": {
    "id": "a65eb953-e638-4328-9268-89578770e3d3"
   },
   "outputs": [],
   "source": [
    "%%time\n",
    "return_prob = threshold_tools.get_return_prob(ams, threshold=300, distr='pearson3', multiple_points=True)\n",
    "return_prob"
   ]
  },
  {
   "cell_type": "markdown",
   "id": "7a71a999-18fb-441f-b458-b873891faf64",
   "metadata": {
    "id": "7a71a999-18fb-441f-b458-b873891faf64"
   },
   "source": [
    "#### 3d) Calculate return period for a selected return value\n",
    "\n",
    "The `get_return_period` function in `threshold_tools` calculates the return period (i.e., 1-in-X-year) for a certain return value. Confidence intervals of the return periods can also be calculated.\n",
    "\n",
    "The example code calculates the return period of 300 Kelvin events. The return periods are inferred from Weibull distributions fitted to the AMS. By default, a hundred bootstrap samples are also used to calculate 95% confidence intervals."
   ]
  },
  {
   "cell_type": "markdown",
   "id": "3e75154e-3b38-41f7-99dd-63bcc39179b5",
   "metadata": {},
   "source": [
    "**Note:** Same note as above for `pearson3`. This will take ~10 min."
   ]
  },
  {
   "cell_type": "code",
   "execution_count": null,
   "id": "9233d090-f8b3-4274-b091-1cef479ffe38",
   "metadata": {
    "id": "9233d090-f8b3-4274-b091-1cef479ffe38"
   },
   "outputs": [],
   "source": [
    "%%time\n",
    "return_period = threshold_tools.get_return_period(ams, return_value=300, distr='weibull', multiple_points=True)\n",
    "return_period"
   ]
  },
  {
   "cell_type": "markdown",
   "id": "cd12d449-7a22-4533-8c9f-0cd65f3ee2f7",
   "metadata": {
    "id": "cd12d449-7a22-4533-8c9f-0cd65f3ee2f7"
   },
   "source": [
    "## Step 4: Visualize values of interest\n",
    "\n",
    "In the next 3 cells we'll visualize our results, starting with the return value:"
   ]
  },
  {
   "cell_type": "code",
   "execution_count": null,
   "id": "e6daf6f5-52d5-48da-b2a6-99cef16bdf0d",
   "metadata": {
    "id": "e6daf6f5-52d5-48da-b2a6-99cef16bdf0d"
   },
   "outputs": [],
   "source": [
    "threshold_tools_gui.get_geospatial_plot(return_value, data_variable='return_value')"
   ]
  },
  {
   "cell_type": "markdown",
   "id": "2bb4e1e7-33f0-44c7-8bed-2537e30e0cd6",
   "metadata": {
    "id": "2bb4e1e7-33f0-44c7-8bed-2537e30e0cd6"
   },
   "source": [
    "Next, return probabilities:"
   ]
  },
  {
   "cell_type": "code",
   "execution_count": null,
   "id": "62c71b4c-9627-44c8-83b1-d49fb3050fb7",
   "metadata": {
    "id": "62c71b4c-9627-44c8-83b1-d49fb3050fb7"
   },
   "outputs": [],
   "source": [
    "threshold_tools_gui.get_geospatial_plot(return_prob, data_variable='return_prob')"
   ]
  },
  {
   "cell_type": "markdown",
   "id": "5a7702ce-7bdb-4792-8592-8d58441c7623",
   "metadata": {
    "id": "5a7702ce-7bdb-4792-8592-8d58441c7623"
   },
   "source": [
    "Lastly, return periods:"
   ]
  },
  {
   "cell_type": "code",
   "execution_count": null,
   "id": "968a2715-a854-4fe2-b3b5-92f724f9f86d",
   "metadata": {
    "id": "968a2715-a854-4fe2-b3b5-92f724f9f86d"
   },
   "outputs": [],
   "source": [
    "threshold_tools_gui.get_geospatial_plot(return_period, data_variable='return_period', bar_max=1000)"
   ]
  },
  {
   "cell_type": "markdown",
   "id": "b9688a2a-e72b-4239-b8fb-56ae8080bdc5",
   "metadata": {
    "id": "b9688a2a-e72b-4239-b8fb-56ae8080bdc5",
    "tags": []
   },
   "source": [
    "<a id='export'></a>\n",
    "## Step 5: Export results\n",
    "\n",
    "To save data as a file, call `export` and input your desired\n",
    "1) data to export – an [xarray DataArray or Dataset](https://docs.xarray.dev/en/stable/user-guide/data-structures.html), as output by e.g. selections.retrieve()\n",
    "2) output file name (without file extension)\n",
    "3) file format (\"NetCDF\" or \"CSV\")\n",
    "\n",
    "As an example, the next cell exports `return_period` to a NetCDF file named \"my_filename_1\"."
   ]
  },
  {
   "cell_type": "code",
   "execution_count": null,
   "id": "3211a176-e026-463c-b479-05b8b735bf9d",
   "metadata": {
    "id": "3211a176-e026-463c-b479-05b8b735bf9d"
   },
   "outputs": [],
   "source": [
    "ck.export(return_period, \"my_filename_1\", \"NetCDF\")"
   ]
  },
  {
   "cell_type": "markdown",
   "id": "087c0d3d-e96d-4134-b37f-7c90db035154",
   "metadata": {
    "id": "087c0d3d-e96d-4134-b37f-7c90db035154"
   },
   "source": [
    "You may also export only one of the variables in an xarray Dataset. For example:"
   ]
  },
  {
   "cell_type": "code",
   "execution_count": null,
   "id": "c042aac6-980e-4b66-b3b0-eaa2f9179e7a",
   "metadata": {
    "id": "c042aac6-980e-4b66-b3b0-eaa2f9179e7a"
   },
   "outputs": [],
   "source": [
    "variable = \"return_period\"\n",
    "return_period_variable = return_period[variable]"
   ]
  },
  {
   "cell_type": "code",
   "execution_count": null,
   "id": "f7662a3c-be83-41d7-b65f-1ce968fc99d1",
   "metadata": {
    "id": "f7662a3c-be83-41d7-b65f-1ce968fc99d1"
   },
   "outputs": [],
   "source": [
    "ck.export(return_period_variable, \"my_filename_2\", \"CSV\")"
   ]
  }
 ],
 "metadata": {
  "colab": {
   "provenance": []
  },
  "kernelspec": {
   "display_name": "Python 3 (ipykernel)",
   "language": "python",
   "name": "python3"
  },
  "language_info": {
   "codemirror_mode": {
    "name": "ipython",
    "version": 3
   },
   "file_extension": ".py",
   "mimetype": "text/x-python",
   "name": "python",
   "nbconvert_exporter": "python",
   "pygments_lexer": "ipython3",
   "version": "3.9.13"
  }
 },
 "nbformat": 4,
 "nbformat_minor": 5
}
