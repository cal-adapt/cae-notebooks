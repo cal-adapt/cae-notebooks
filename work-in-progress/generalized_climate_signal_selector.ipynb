{
 "cells": [
  {
   "cell_type": "markdown",
   "id": "c6631da4-16b8-40a4-925f-63469ab44729",
   "metadata": {},
   "source": [
    "# Climate Signal Selector"
   ]
  },
  {
   "cell_type": "markdown",
   "id": "cf468365-7761-4f6f-9acc-6cf57b710aca",
   "metadata": {},
   "source": [
    "The goal of this notebook is to develop a climate state selector that is generalized. Any variable can be requested. The result is a figure highlighting the overall change signal fo the variable. For example, temperature would show models that run hotter or colder. This allows a user to subset models for specific climate states they are most interested in. "
   ]
  },
  {
   "cell_type": "markdown",
   "id": "184997ea-5953-44f4-9669-6eca77460b7b",
   "metadata": {},
   "source": [
    "This work is built off of early work done by Will. Expanding to make this more generalized and allowing any variable to examined. "
   ]
  },
  {
   "cell_type": "markdown",
   "id": "86b5296d-f650-4d7a-8df7-b4972861e971",
   "metadata": {},
   "source": [
    "Inputs:\n",
    "* Domain, either as a county name or a custom shapefile\n",
    "* Two variables to put on the x-axis and y-axis\n",
    "* Time domain / GWL to use as the baseline and future period to compute change signal over\n",
    "* Operation to use to aggregate over the time domain within each time period"
   ]
  },
  {
   "cell_type": "markdown",
   "id": "e7c584f5-1bf8-459d-a8e4-3d349c3dbd74",
   "metadata": {},
   "source": [
    "## Make Selections"
   ]
  },
  {
   "cell_type": "markdown",
   "id": "e3a5d823-12ce-4e7e-9b37-8f9f6065c8a9",
   "metadata": {},
   "source": [
    "Before running this notebook, make the following selections for variables, domain, and GWLs. "
   ]
  },
  {
   "cell_type": "markdown",
   "id": "38217ecd-3c23-4b33-a7f0-8bcb9b759393",
   "metadata": {},
   "source": [
    "1. Select a timescale - this will impact which downscaling methods are available and which variables are available."
   ]
  },
  {
   "cell_type": "code",
   "execution_count": null,
   "id": "8dc2d237-1c33-4d21-94a4-5bdababd41b2",
   "metadata": {},
   "outputs": [],
   "source": [
    "timescale = \"hourly\" # options are hourly, daily or monthly"
   ]
  },
  {
   "cell_type": "markdown",
   "id": "47265af1-81be-4700-a0d2-266523628d7e",
   "metadata": {},
   "source": [
    "2. Select a variable - the code below displays which variables are available based on your timescale options."
   ]
  },
  {
   "cell_type": "code",
   "execution_count": null,
   "id": "ef11e34b-be04-4dc4-bb0b-a68400d754c3",
   "metadata": {},
   "outputs": [],
   "source": [
    "# import function \n",
    "from climakitae.explore.agnostic import (\n",
    "  show_available_vars\n",
    ")"
   ]
  },
  {
   "cell_type": "code",
   "execution_count": null,
   "id": "57b25620-31a8-4120-acc3-6abe907d5715",
   "metadata": {},
   "outputs": [
    {
     "data": {
      "text/plain": [
       "['Air Temperature at 2m',\n",
       " 'Precipitation (total)',\n",
       " 'Relative humidity',\n",
       " 'Wind speed at 10m',\n",
       " 'Wind direction at 10m',\n",
       " 'Dew point temperature',\n",
       " 'West-East component of Wind at 10m',\n",
       " 'North-South component of Wind at 10m',\n",
       " 'Surface Pressure',\n",
       " 'Specific humidity at 2m',\n",
       " 'Water Vapor Mixing Ratio at 2m',\n",
       " 'Surface skin temperature',\n",
       " 'Instantaneous downwelling longwave flux at bottom',\n",
       " 'Instantaneous downwelling clear sky longwave flux at bottom',\n",
       " 'Instantaneous upwelling longwave flux at bottom',\n",
       " 'Instantaneous upwelling clear sky longwave flux at bottom',\n",
       " 'Shortwave surface downward direct normal irradiance',\n",
       " 'Shortwave surface downward direct irradiance',\n",
       " 'Shortwave surface downward diffuse irradiance',\n",
       " 'Instantaneous downwelling shortwave flux at bottom',\n",
       " 'Instantaneous downwelling clear sky shortwave flux at bottom',\n",
       " 'Instantaneous upwelling shortwave flux at bottom',\n",
       " 'Instantaneous upwelling clear sky shortwave flux at bottom',\n",
       " 'Snowfall (snow and ice)',\n",
       " 'Precipitation (cumulus portion only)',\n",
       " 'Precipitation (grid-scale portion only)',\n",
       " 'Fosberg fire weather index',\n",
       " 'NOAA Heat Index']"
      ]
     },
     "execution_count": 3,
     "metadata": {},
     "output_type": "execute_result"
    }
   ],
   "source": [
    "# display variables available for this analysis \n",
    "# only showing dynamical because statistical has a smaller subset that is in the larger dynamical subset\n",
    "# only difference is max/min RH is available in statistical and not in dynamical \n",
    "show_available_vars(\"Dynamical\",timescale)"
   ]
  },
  {
   "cell_type": "code",
   "execution_count": null,
   "id": "b3e0a635-9e78-41cc-b582-737992d76bcf",
   "metadata": {},
   "outputs": [],
   "source": [
    "# make selection from list above\n",
    "x_variable = \"Wind speed at 10m\"\n",
    "y_variable = \"Air Temperature at 2m\""
   ]
  },
  {
   "cell_type": "markdown",
   "id": "980c5dbb-476a-4a27-8c1f-624bf15d68f5",
   "metadata": {},
   "source": [
    "3. Select a GWLs - select a reference gwl and a future gwl "
   ]
  },
  {
   "cell_type": "code",
   "execution_count": null,
   "id": "8a5b841e-934a-4162-a146-6ed1e65b8ed6",
   "metadata": {},
   "outputs": [],
   "source": [
    "# current options 0.8, 1.0, 1.2, 1.5, 2.0, 2.5, 3.0, 4.0\n",
    "reference_gwl = \"0.8\"\n",
    "future_gwl = \"3.0\""
   ]
  },
  {
   "cell_type": "markdown",
   "id": "093e13a7-2c95-4b7b-91c1-cded91820923",
   "metadata": {},
   "source": [
    "4. Select Spatial Domain - provide a shapefile to clip data to"
   ]
  },
  {
   "cell_type": "code",
   "execution_count": null,
   "id": "9f36c09d-f910-4587-835f-9c335fa0fa19",
   "metadata": {},
   "outputs": [],
   "source": [
    "# edit path below and filename for shapefile to use\n",
    "shapefile_filename = 'VenturaRiverWatershed'\n",
    "spatial_domian = \"Ventura\" # name will appear in title"
   ]
  },
  {
   "cell_type": "markdown",
   "id": "fdd0fe0c-7b3b-4088-9bdb-a40c338b98ed",
   "metadata": {},
   "source": [
    "5. Select Resolution - select the the model resolution (3km, 9km, 45 km)"
   ]
  },
  {
   "cell_type": "code",
   "execution_count": null,
   "id": "3bf0a24b-9a3a-48f7-9ae9-62e6b767e806",
   "metadata": {},
   "outputs": [],
   "source": [
    "resolution = \"3 km\""
   ]
  },
  {
   "cell_type": "markdown",
   "id": "18bbf85b-bddb-4682-b2c8-b09a9fe880dc",
   "metadata": {},
   "source": [
    "6. Select Change Signal - decide if you want absolute or fractional change"
   ]
  },
  {
   "cell_type": "code",
   "execution_count": null,
   "id": "e0b4ff38-1d61-42fd-aa9b-96e9c0354da3",
   "metadata": {},
   "outputs": [],
   "source": [
    "change_signal = \"percentage\" # options are percentage or absolute"
   ]
  },
  {
   "cell_type": "markdown",
   "id": "0ad78d81-80c4-4066-b8e9-2f7a8c0072aa",
   "metadata": {},
   "source": [
    "## Import libraries & define functions"
   ]
  },
  {
   "cell_type": "code",
   "execution_count": null,
   "id": "79b96a1b-d935-4286-800d-469076450465",
   "metadata": {},
   "outputs": [],
   "source": [
    "import climakitae as ck \n",
    "from climakitae.core.data_interface import (\n",
    "    get_data_options, \n",
    "    get_subsetting_options, \n",
    "    get_data\n",
    ")\n",
    "from climakitae.core.data_load import load\n",
    "\n",
    "import xarray as xr\n",
    "import pandas as pd\n",
    "import geopandas as gpd\n",
    "from shapely.geometry import mapping\n",
    "import seaborn as sns\n",
    "import matplotlib.pyplot as plt\n",
    "import numpy as np"
   ]
  },
  {
   "cell_type": "code",
   "execution_count": null,
   "id": "fb8ac325-172a-43a8-a215-387429ce78bc",
   "metadata": {},
   "outputs": [],
   "source": [
    "def clip_to_shapefile(da, shapefile):\n",
    "    \"\"\"\n",
    "    Clip a DataArray to the boundaries of a shapefile.\n",
    "\n",
    "    Parameters:\n",
    "    - da: xarray DataArray to be clipped\n",
    "    - shapefile: path to the shapefile\n",
    "\n",
    "    Returns:\n",
    "    - Clipped DataArray\n",
    "    \"\"\"\n",
    "    # Read the shapefile using geopandas\n",
    "    gdf = gpd.read_file(shapefile)\n",
    "\n",
    "    # Ensure the DataArray has a CRS set\n",
    "    #da.rio.write_crs(\"epsg:2228\", inplace=True)\n",
    "\n",
    "    # Clip the DataArray using the shapefile geometry\n",
    "    clipped_da = da.rio.clip(gdf.geometry.apply(mapping), gdf.crs, drop=True)\n",
    "    #clipped_da= da.rio.clip(\n",
    "    #    geometries=gdf.geometry.to_crs(da.rio.crs), all_touched=True\n",
    "    #)\n",
    "\n",
    "   \n",
    "\n",
    "    return clipped_da"
   ]
  },
  {
   "cell_type": "markdown",
   "id": "c14f91ea-f477-42e4-942a-cdb94ff4ab63",
   "metadata": {},
   "source": [
    "## Pull Data"
   ]
  },
  {
   "cell_type": "markdown",
   "id": "589efb53-07ab-4d5d-857a-89cb96c2b05b",
   "metadata": {},
   "source": [
    "### Dynamical Downscaling (WRF)"
   ]
  },
  {
   "cell_type": "code",
   "execution_count": null,
   "id": "b6d7663a-c9c4-45ab-bcad-b399e7c21e74",
   "metadata": {},
   "outputs": [
    {
     "name": "stdout",
     "output_type": "stream",
     "text": [
      "!!!!!!!!!!!!!!!!!!!!!!!!!!!!!!!!!!!!!!!!!!!!!!!!!!!!!!!!!!!!!!!!!!!!!!!!!!!!!!!!!!!!!!!!!!!!!!!!!!\n",
      "!!! Returned data array is huge. Operations could take 10x to infinity longer than 1GB of data !!!\n",
      "!!!!!!!!!!!!!!!!!!!!!!!!!!!!!!!!!!!!!!!!!!!!!!!!!!!!!!!!!!!!!!!!!!!!!!!!!!!!!!!!!!!!!!!!!!!!!!!!!!\n",
      "\n",
      "WARNING FOR WARMING LEVELS APPROACH\n",
      "-----------------------------------\n",
      "There may be NaNs in your data for certain simulation/warming level combinations if the warming level is not reached for that particular simulation before the year 2100. \n",
      "\n",
      "This does not mean you have missing data, but rather a feature of how the data is combined in retrieval to return a single data object. \n",
      "\n",
      "If you want to remove these empty simulations, it is recommended to first subset the data object by each individual warming level and then dropping NaN values.\n",
      "!!!!!!!!!!!!!!!!!!!!!!!!!!!!!!!!!!!!!!!!!!!!!!!!!!!!!!!!!!!!!!!!!!!!!!!!!!!!!!!!!!!!!!!!!!!!!!!!!!\n",
      "!!! Returned data array is huge. Operations could take 10x to infinity longer than 1GB of data !!!\n",
      "!!!!!!!!!!!!!!!!!!!!!!!!!!!!!!!!!!!!!!!!!!!!!!!!!!!!!!!!!!!!!!!!!!!!!!!!!!!!!!!!!!!!!!!!!!!!!!!!!!\n",
      "\n",
      "WARNING FOR WARMING LEVELS APPROACH\n",
      "-----------------------------------\n",
      "There may be NaNs in your data for certain simulation/warming level combinations if the warming level is not reached for that particular simulation before the year 2100. \n",
      "\n",
      "This does not mean you have missing data, but rather a feature of how the data is combined in retrieval to return a single data object. \n",
      "\n",
      "If you want to remove these empty simulations, it is recommended to first subset the data object by each individual warming level and then dropping NaN values.\n"
     ]
    }
   ],
   "source": [
    "# WRF downscaling\n",
    "wrf_data_xy = [get_data(\n",
    "        variable = GETVAR, \n",
    "        downscaling_method = \"Dynamical\", \n",
    "        resolution = resolution, \n",
    "        timescale = timescale, \n",
    "        # Modify your approach \n",
    "        approach = \"Warming Level\",\n",
    "        warming_level= [float(reference_gwl), float(future_gwl)]\n",
    "    ) for GETVAR in [x_variable, y_variable]]\n",
    "# merge\n",
    "wrf_data_xy = xr.merge([wrf_data_xy[0], wrf_data_xy[1]])"
   ]
  },
  {
   "cell_type": "code",
   "execution_count": null,
   "id": "96dda579-8df6-4c6c-8843-ef2145470b79",
   "metadata": {},
   "outputs": [],
   "source": [
    "# rename lat lon\n",
    "wrf_data_xy=wrf_data_xy.rename({'x': 'longitude','y': 'latitude'})"
   ]
  },
  {
   "cell_type": "markdown",
   "id": "db4dc581-3780-43fa-8810-555f3785a9dd",
   "metadata": {},
   "source": [
    "### Statistical Downscaling (LOCA2)"
   ]
  },
  {
   "cell_type": "code",
   "execution_count": null,
   "id": "66091682-528f-4165-9504-e7a059695a09",
   "metadata": {},
   "outputs": [],
   "source": [
    "# grab correct variable name for LOCA2\n",
    "x_loca_variable = [x_variable]\n",
    "y_loca_variable = [y_variable]\n",
    "# temperature\n",
    "if x_loca_variable[0] == \"Air Temperature at 2m\":\n",
    "    x_loca_variable = [\"Maximum air temperature at 2m\", \"Minimum air temperature at 2m\"]\n",
    "if y_loca_variable[0] == \"Air Temperature at 2m\":\n",
    "    y_loca_variable = [\"Maximum air temperature at 2m\", \"Minimum air temperature at 2m\"]\n",
    "\n",
    "# relative humidity\n",
    "if x_loca_variable[0] == \"Relative humidity\":\n",
    "    x_loca_variable = [\"Minimum relative humidity\", \"Maximum relative humidity\"]\n",
    "if y_loca_variable[0] == \"Relative humidity\":\n",
    "    y_loca_variable = [\"Minimum relative humidity\", \"Maximum relative humidity\"]"
   ]
  },
  {
   "cell_type": "code",
   "execution_count": null,
   "id": "ba83bcd5-0d9b-49b0-a5a4-f70e07f65e91",
   "metadata": {},
   "outputs": [
    {
     "name": "stdout",
     "output_type": "stream",
     "text": [
      "ERROR: No data found for your input values. Please modify your data request. \n",
      "Returning None\n"
     ]
    }
   ],
   "source": [
    "# statistical - LOCA2 downscaling x variable\n",
    "loca_data_x = [get_data(\n",
    "        variable = GETVAR, \n",
    "        downscaling_method = \"Statistical\", \n",
    "        resolution = resolution, \n",
    "        timescale = timescale, \n",
    "        # Modify your approach \n",
    "        approach = \"Warming Level\",\n",
    "        warming_level= [float(reference_gwl), float(future_gwl)]\n",
    "    ) for GETVAR in x_loca_variable]"
   ]
  },
  {
   "cell_type": "code",
   "execution_count": null,
   "id": "7e7e3156-489c-4bc4-95ff-e3c3f591f27b",
   "metadata": {},
   "outputs": [
    {
     "name": "stdout",
     "output_type": "stream",
     "text": [
      "ERROR: No data found for your input values. Please modify your data request. \n",
      "Returning None\n",
      "ERROR: No data found for your input values. Please modify your data request. \n",
      "Returning None\n"
     ]
    }
   ],
   "source": [
    "# statistical - LOCA2 downscaling y variable\n",
    "loca_data_y = [get_data(\n",
    "        variable = GETVAR, \n",
    "        downscaling_method = \"Statistical\", \n",
    "        resolution = resolution, \n",
    "        timescale = timescale, \n",
    "        # Modify your approach \n",
    "        approach = \"Warming Level\",\n",
    "        warming_level= [float(reference_gwl), float(future_gwl)]\n",
    "    ) for GETVAR in y_loca_variable]"
   ]
  },
  {
   "cell_type": "code",
   "execution_count": null,
   "id": "6d7801a3-31a6-4ab5-a113-30dccbb22ba5",
   "metadata": {},
   "outputs": [],
   "source": [
    "# if we need to average \n",
    "if loca_data_y[0] is not None and loca_data_x[0] is not None:\n",
    "    # temperature\n",
    "    if x_variable == \"Air Temperature at 2m\":\n",
    "        loca_data_x = (loca_data_x[0] + loca_data_x[1]) / 2\n",
    "        loca_data_x.name = \"Air Temperature at 2m\"\n",
    "    if y_variable == \"Air Temperature at 2m\":\n",
    "        loca_data_y= (loca_data_y[0] + loca_data_y[1]) / 2\n",
    "        loca_data_y.name = \"Air Temperature at 2m\"\n",
    "        \n",
    "    # relative humidity\n",
    "    if x_variable == \"Relative humidity\":\n",
    "        loca_data_x = (loca_data_x[0] + loca_data_x[1]) / 2\n",
    "        loca_data_x.name = \"Relative humidity\"\n",
    "    if y_variable == \"Relative humidity\":\n",
    "        loca_data_y = (loca_data_y[0] + loca_data_y[1]) / 2\n",
    "        loca_data_y.name = \"Relative humidity\""
   ]
  },
  {
   "cell_type": "code",
   "execution_count": null,
   "id": "f0c2a4d7-1c51-4487-8ffe-791a7c175683",
   "metadata": {},
   "outputs": [],
   "source": [
    "# unlist if needed\n",
    "if type(loca_data_y) == list:\n",
    "    loca_data_y = loca_data_y[0]\n",
    "if type(loca_data_x) == list:\n",
    "    loca_data_x = loca_data_x[0]\n",
    "\n",
    "# now merge\n",
    "# first check if there is valid LOCA2 data - requires that both x and y have valid data\n",
    "if loca_data_y is None or loca_data_x is None:\n",
    "    # set to wrf\n",
    "    loca_data_xy = wrf_data_xy\n",
    "    # replace with all NaNs\n",
    "    loca_data_xy = loca_data_xy*np.nan\n",
    "else:\n",
    "    loca_data_xy = xr.merge([loca_data_x,loca_data_y])\n",
    "    loca_data_xy=loca_data_xy.rename({'lon': 'longitude','lat': 'latitude'})"
   ]
  },
  {
   "cell_type": "markdown",
   "id": "9e1dcab0-9aeb-40ae-9828-5314e0140af4",
   "metadata": {},
   "source": [
    "## Downsize Data  "
   ]
  },
  {
   "cell_type": "code",
   "execution_count": null,
   "id": "b73e20cd-90d4-4057-99ae-085a2bf8ecbe",
   "metadata": {},
   "outputs": [],
   "source": [
    "# clip to shapefile\n",
    "wrf_data_xy = clip_to_shapefile(wrf_data_xy, shapefile_filename)\n",
    "loca_data_xy = clip_to_shapefile(loca_data_xy, shapefile_filename)"
   ]
  },
  {
   "cell_type": "code",
   "execution_count": null,
   "id": "3147f13d-8c07-4b5e-8ea3-ebdaf8e73bfa",
   "metadata": {},
   "outputs": [],
   "source": [
    "# average across domain\n",
    "wrf_data_xy = wrf_data_xy.mean(['longitude','latitude'])\n",
    "loca_data_xy = loca_data_xy.mean(['longitude','latitude'])"
   ]
  },
  {
   "cell_type": "code",
   "execution_count": null,
   "id": "8c4a83c0-d965-4c77-b665-43473ff0d779",
   "metadata": {},
   "outputs": [],
   "source": [
    "# average across time\n",
    "wrf_data_xy = wrf_data_xy.mean(['time_delta'])\n",
    "loca_data_xy = loca_data_xy.mean(['time_delta'])"
   ]
  },
  {
   "cell_type": "markdown",
   "id": "2b6f6a39-97e1-42a9-a0bd-230933f6347d",
   "metadata": {},
   "source": [
    "## Import Data"
   ]
  },
  {
   "cell_type": "code",
   "execution_count": null,
   "id": "a780daba",
   "metadata": {},
   "outputs": [],
   "source": [
    "loca_data_xy = load(loca_data_xy, progress_bar=True)\n",
    "wrf_data_xy = load(wrf_data_xy, progress_bar=True)"
   ]
  },
  {
   "cell_type": "code",
   "execution_count": null,
   "id": "1166ea96-83c7-465f-acf6-12ad42e1afe7",
   "metadata": {},
   "outputs": [],
   "source": [
    "# merge the data\n",
    "merged_data = xr.merge([loca_data_xy, wrf_data_xy])"
   ]
  },
  {
   "cell_type": "markdown",
   "id": "3974ab61-d6c2-44f2-8e61-ad5dccea6895",
   "metadata": {},
   "source": [
    "## Calculate Change Signal"
   ]
  },
  {
   "cell_type": "code",
   "execution_count": null,
   "id": "ca668b29-84b3-41ca-bf84-316d7b24f473",
   "metadata": {},
   "outputs": [],
   "source": [
    "# for both the LOCA2 and WRF data calculate the change signal in absolute terms\n",
    "loca_delta_signal= loca_data_xy.sel(warming_level = float(future_gwl)) - loca_data_xy.sel(warming_level = float(reference_gwl))\n",
    "wrf_delta_signal= wrf_data_xy.sel(warming_level = float(future_gwl)) - wrf_data_xy.sel(warming_level = float(reference_gwl))"
   ]
  },
  {
   "cell_type": "code",
   "execution_count": null,
   "id": "4768cf31-b86c-4b90-a623-57a89002cc5a",
   "metadata": {},
   "outputs": [],
   "source": [
    "# if percentage calculate signal\n",
    "if change_signal == \"percentage\":\n",
    "    loca_delta_signal = (loca_delta_signal / loca_data_xy.sel(warming_level = float(reference_gwl))) * 100\n",
    "    wrf_delta_signal = (wrf_delta_signal / wrf_data_xy.sel(warming_level = float(reference_gwl))) * 100"
   ]
  },
  {
   "cell_type": "code",
   "execution_count": null,
   "id": "99503a63-068a-40ca-80e5-82e7d54025ad",
   "metadata": {},
   "outputs": [],
   "source": [
    "# compute\n",
    "loca_delta_signal = load(loca_delta_signal, progress_bar=True)\n",
    "wrf_delta_signal = load(wrf_delta_signal, progress_bar=True)"
   ]
  },
  {
   "cell_type": "markdown",
   "id": "693081ae-6edf-4971-af96-2527a76a7ccd",
   "metadata": {},
   "source": [
    "## Plot Results (Yay!) "
   ]
  },
  {
   "cell_type": "code",
   "execution_count": null,
   "id": "5671e772-241d-4bee-9590-c2ab2aa99f97",
   "metadata": {},
   "outputs": [],
   "source": [
    "# determine the simulation names\n",
    "lsims = loca_delta_signal.simulation.values\n",
    "wsims = wrf_delta_signal.simulation.values\n",
    "sims = lsims.tolist() + wsims.tolist()\n",
    "unique_models = list(set([s.split(\"_\")[1] for s in sims]))"
   ]
  },
  {
   "cell_type": "code",
   "execution_count": null,
   "id": "a33c0a9a-a2f7-4473-b4d8-43d992e1ef4f",
   "metadata": {},
   "outputs": [],
   "source": [
    "# create a pallette of colors\n",
    "col_palette  = sns.color_palette(\"viridis\", n_colors=len(unique_models))"
   ]
  },
  {
   "cell_type": "code",
   "execution_count": null,
   "id": "2edc20a0-7ef8-4f9b-9e12-149461ee6988",
   "metadata": {},
   "outputs": [],
   "source": [
    "# list of all possible markers\n",
    "markers = [\n",
    "    \"o\", \"<\",\"s\", \"^\", \"D\", \"X\", \"*\", \"P\", \"D\", \"h\",\">\"\n",
    "]"
   ]
  },
  {
   "cell_type": "code",
   "execution_count": null,
   "id": "d5255223-8c65-4bc6-a6e4-89fb37b4166f",
   "metadata": {},
   "outputs": [],
   "source": [
    "# set markers and colors\n",
    "model_colors = dict(zip(unique_models, col_palette))\n",
    "model_markers = dict(zip(unique_models, markers*4))"
   ]
  },
  {
   "cell_type": "code",
   "execution_count": null,
   "id": "b09cabea-e69a-483e-8c1a-2ccd723bdac1",
   "metadata": {},
   "outputs": [],
   "source": [
    "# set font size for plot\n",
    "plt.rcParams.update({'font.size': 14})"
   ]
  },
  {
   "cell_type": "code",
   "execution_count": null,
   "id": "31732fd9-af8c-4a12-940b-14be5246c53d",
   "metadata": {},
   "outputs": [
    {
     "data": {
      "image/png": "[encoded data removed]",
      "text/plain": [
       "<Figure size 1000x1000 with 1 Axes>"
      ]
     },
     "metadata": {},
     "output_type": "display_data"
    }
   ],
   "source": [
    "# create the scatterplot\n",
    "# plot setup\n",
    "figure = plt.figure(figsize=(10, 10))\n",
    "ax = figure.add_subplot(111)\n",
    "ax.set_title(f\"Change over {spatial_domain} \\n (GWL {reference_gwl} to GWL {future_gwl})\", fontsize=16)\n",
    "ax.set_xlabel(f\"{change_signal} change in {x_variable}\")\n",
    "ax.set_ylabel(f\"{change_signal} change in {y_variable}\")\n",
    "\n",
    "for i, loca_sim in enumerate(loca_delta_signal.simulation.values):\n",
    "    model = loca_sim.split(\"_\")[1]\n",
    "    color = model_colors[model]\n",
    "    marker = model_markers[model]\n",
    "    # rotate through markers\n",
    "    ax.scatter(loca_delta_signal[x_variable].sel(simulation=loca_sim), loca_delta_signal[y_variable].sel(simulation=loca_sim), color = color, label=None, marker=marker, s=100, alpha=0.5)\n",
    "\n",
    "for i, wrf_sim in enumerate(wrf_delta_signal.simulation.values):\n",
    "    model = wrf_sim.split(\"_\")[1]\n",
    "    color = model_colors[model]\n",
    "    marker = model_markers[model]\n",
    "    ax.scatter(wrf_delta_signal[x_variable].sel(simulation=wrf_sim), wrf_delta_signal[y_variable].sel(simulation=wrf_sim), color = color, label=None, linewidths=2, edgecolor='black', marker=marker, s=100, alpha=0.7)\n",
    "\n",
    "for model in unique_models:\n",
    "    ax.scatter([], [], color=model_colors[model], label=model, marker=model_markers[model], s=100, alpha=0.5)\n",
    "ax.scatter([], [], color=model_colors[unique_models[0]], label='  ', marker=model_markers[unique_models[0]], s=100, alpha=0.0)\n",
    "ax.scatter([], [], color=model_colors[unique_models[0]], label=' ', marker=model_markers[unique_models[0]], s=100, alpha=0.0)\n",
    "ax.axvline(x=0, color='black', linestyle='--')\n",
    "ax.axhline(y=0, color='black', linestyle='--')\n",
    "\n",
    "ax.scatter([], [], color=model_colors[unique_models[0]], label='LOCA', marker=model_markers[unique_models[0]], s=100, alpha=0.5)\n",
    "ax.scatter([], [], color=model_colors[unique_models[0]], label='WRF', marker=model_markers[unique_models[0]], linewidths=2, edgecolor='black', s=100, alpha=0.7)\n",
    "\n",
    "ax.legend(title=\"Model\", loc='upper left', bbox_to_anchor=(1, 1), fontsize='small')\n",
    "plt.tight_layout()"
   ]
  },
  {
   "cell_type": "code",
   "execution_count": null,
   "id": "37b425e1-d02c-455d-97d0-b7188c02d395",
   "metadata": {},
   "outputs": [],
   "source": [
    "# Save the figure to a file\n",
    "figure.savefig(f'climate_signal_{x_variable}_{y_variable}_under_{future_gwl}gwl_compared_to_{reference_gwl}gwl.jpeg'.replace(\" \", \"_\"))"
   ]
  }
 ],
 "metadata": {
  "kernelspec": {
   "display_name": "climakitae",
   "language": "python",
   "name": "python3"
  },
  "language_info": {
   "codemirror_mode": {
    "name": "ipython",
    "version": 3
   },
   "file_extension": ".py",
   "mimetype": "text/x-python",
   "name": "python",
   "nbconvert_exporter": "python",
   "pygments_lexer": "ipython3",
   "version": "3.12.7"
  }
 },
 "nbformat": 4,
 "nbformat_minor": 5
}
