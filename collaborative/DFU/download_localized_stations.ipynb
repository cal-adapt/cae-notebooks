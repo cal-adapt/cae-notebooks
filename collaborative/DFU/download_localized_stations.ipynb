{
 "cells": [
  {
   "cell_type": "markdown",
   "id": "ce8cbe9e-7f2c-433f-803f-806e5eb397bd",
   "metadata": {
    "execution": {
     "iopub.execute_input": "2024-02-22T00:33:15.607787Z",
     "iopub.status.busy": "2024-02-22T00:33:15.607407Z",
     "iopub.status.idle": "2024-02-22T00:33:15.611216Z",
     "shell.execute_reply": "2024-02-22T00:33:15.610551Z",
     "shell.execute_reply.started": "2024-02-22T00:33:15.607762Z"
    },
    "tags": []
   },
   "source": [
    "### Downloading bias-corrected air temperature and dewpoint temperature datasets\n",
    "By request, 71 stations were localized for both temperature and dewpoint temperature in a single dataset across WECC. \n",
    "\n",
    "**Note**: Dewpoint temperature was bias-corrected with the same procedure as air temperature, and independently of air temperature in this process. Because of this, there are instances where dewpoint temperature is larger than the concurrent air temperature value, which is physically inconsistent. On average between simulations, these inconsistencies occur largely in winter and near the daily minimum temperature.\n",
    "\n",
    "You can view the bias-corrected station datasets in [the data catalog](https://cadcat.s3.amazonaws.com/index.html#tmp/wrf/cae/stations/). Note, if you click on any of the files in the s3 bucket at this link, it will automatically download for you. "
   ]
  },
  {
   "cell_type": "code",
   "execution_count": null,
   "id": "68ea4baf-3e22-49dc-ba5f-1ae970a26976",
   "metadata": {
    "tags": []
   },
   "outputs": [],
   "source": [
    "# import useful packages\n",
    "import s3fs\n",
    "import boto3\n",
    "from botocore import UNSIGNED\n",
    "from botocore.config import Config\n",
    "\n",
    "import xarray as xr\n",
    "\n",
    "# set-up access to public s3 cadcat bucket where data is stored\n",
    "s3 = boto3.resource(\"s3\", config=Config(signature_version=UNSIGNED))\n",
    "s3_cl = boto3.client('s3', config=Config(signature_version=UNSIGNED)) # lower level process\n",
    "\n",
    "bucket_name = \"cadcat\"\n",
    "file_dir = \"tmp/wrf/cae/stations/\""
   ]
  },
  {
   "cell_type": "code",
   "execution_count": null,
   "id": "60ae61c9-ffdb-4cc2-8d8d-ecfac9d736a4",
   "metadata": {
    "tags": []
   },
   "outputs": [],
   "source": [
    "# optionally, list all files in file_dir to see what's available\n",
    "all_files = s3_cl.list_objects_v2(Bucket=bucket_name, Prefix=file_dir)\n",
    "for station in all_files.get('Contents', []):\n",
    "    print(station['Key'])"
   ]
  },
  {
   "cell_type": "code",
   "execution_count": null,
   "id": "f7ccb45b-aa0f-4927-bb16-8ccf2cc233ec",
   "metadata": {
    "tags": []
   },
   "outputs": [],
   "source": [
    "# pick a station to download\n",
    "# note if running on AE Hub, it will download to file tree on the left!\n",
    "fname = \"bc_tas_dpts_HadISD_72392523190.nc\" # change this to any of the bias-corrected files you wish to download\n",
    "s3.Bucket(bucket_name).download_file(file_dir+fname, fname) # downloads the file"
   ]
  },
  {
   "cell_type": "code",
   "execution_count": null,
   "id": "ae07f142-6037-492d-ab73-58b7d15a30fc",
   "metadata": {
    "tags": []
   },
   "outputs": [],
   "source": [
    "# open the file that just downloaded and inspect\n",
    "ds = xr.open_dataset(fname)\n",
    "ds"
   ]
  },
  {
   "cell_type": "code",
   "execution_count": null,
   "id": "dc676035-a695-4dbd-88b6-491265dcb947",
   "metadata": {
    "tags": []
   },
   "outputs": [],
   "source": [
    "# example of how to subset for summer months\n",
    "summer = [6, 7, 8, 9]\n",
    "ds_summer = ds.isel(time=ds.time.dt.month.isin(summer))"
   ]
  },
  {
   "cell_type": "code",
   "execution_count": null,
   "id": "258c291c-fc9e-4f1e-8ad8-6e6413c1799b",
   "metadata": {
    "tags": []
   },
   "outputs": [],
   "source": [
    "# example of looking at a single variable\n",
    "ds_temp = ds['Adjusted Air Temperature at 2m']\n",
    "ds_temp"
   ]
  }
 ],
 "metadata": {
  "kernelspec": {
   "display_name": "Python 3 (ipykernel)",
   "language": "python",
   "name": "python3"
  },
  "language_info": {
   "codemirror_mode": {
    "name": "ipython",
    "version": 3
   },
   "file_extension": ".py",
   "mimetype": "text/x-python",
   "name": "python",
   "nbconvert_exporter": "python",
   "pygments_lexer": "ipython3",
   "version": "3.9.13"
  }
 },
 "nbformat": 4,
 "nbformat_minor": 5
}
