{
 "cells": [
  {
   "cell_type": "markdown",
   "id": "ea212caf-71e6-49e7-b62a-6c8b4ef0e974",
   "metadata": {
    "tags": []
   },
   "source": [
    "# Heat Index Applications\n",
    "This notebook walks through the [NOAA Heat Index](https://www.weather.gov/ama/heatindex) using climate data projections in the Analytics Engine. \n",
    "\n",
    "To execute a given 'cell' of this notebook, place the cursor in the cell and press the 'play' icon, or simply press shift+enter together. Some cells will take longer to run, and you will see a [$\\ast$] to the left of the cell while AE is still working.\n",
    "\n",
    "**Intended Application**: As a user, I want to **<span style=\"color:#FF0000\">understand trends in Heat Index across my region</span>** by:\n",
    "1. Calculating the number of hours per day throughout the year of high Heat Index values\n",
    "2. Understanding the trend in nighttime temperatures that are above an 80°F Heat Index\n",
    "3. Determining the historical and projected number of days with a high Heat Index per month\n",
    "\n",
    "**Runtime**: With the default settings, this notebook takes approximately **16 minutes** to run from start to finish. Modifications to selections may increase the runtime. "
   ]
  },
  {
   "cell_type": "markdown",
   "id": "daff84fa-f458-43af-b72a-dce185fd84f6",
   "metadata": {
    "tags": []
   },
   "source": [
    "## Step 0: Set-up\n",
    "\n",
    "First, we'll import the python library [climakitae](https://github.com/cal-adapt/climakitae), our AE toolkit for climate data analysis, along with this specific functions from that library that we'll use in this notebook, as well as any other necessary python libraries to aid in analysis."
   ]
  },
  {
   "cell_type": "code",
   "execution_count": 9,
   "id": "dd32d726-1ec9-4136-8c1e-4692a0eea0af",
   "metadata": {
    "tags": []
   },
   "outputs": [
    {
     "data": {
      "text/html": [
       "<script type=\"esms-options\">{\"shimMode\": true}</script><style>*[data-root-id],\n",
       "*[data-root-id] > * {\n",
       "  box-sizing: border-box;\n",
       "  font-family: var(--jp-ui-font-family);\n",
       "  font-size: var(--jp-ui-font-size1);\n",
       "  color: var(--vscode-editor-foreground, var(--jp-ui-font-color1));\n",
       "}\n",
       "\n",
       "/* Override VSCode background color */\n",
       ".cell-output-ipywidget-background:has(\n",
       "    > .cell-output-ipywidget-background > .lm-Widget > *[data-root-id]\n",
       "  ),\n",
       ".cell-output-ipywidget-background:has(> .lm-Widget > *[data-root-id]) {\n",
       "  background-color: transparent !important;\n",
       "}\n",
       "</style>"
      ]
     },
     "metadata": {},
     "output_type": "display_data"
    },
    {
     "data": {
      "application/javascript": [
       "(function(root) {\n",
       "  function now() {\n",
       "    return new Date();\n",
       "  }\n",
       "\n",
       "  const force = false;\n",
       "  const py_version = '3.5.2'.replace('rc', '-rc.').replace('.dev', '-dev.');\n",
       "  const reloading = true;\n",
       "  const Bokeh = root.Bokeh;\n",
       "\n",
       "  // Set a timeout for this load but only if we are not already initializing\n",
       "  if (typeof (root._bokeh_timeout) === \"undefined\" || (force || !root._bokeh_is_initializing)) {\n",
       "    root._bokeh_timeout = Date.now() + 5000;\n",
       "    root._bokeh_failed_load = false;\n",
       "  }\n",
       "\n",
       "  function run_callbacks() {\n",
       "    try {\n",
       "      root._bokeh_onload_callbacks.forEach(function(callback) {\n",
       "        if (callback != null)\n",
       "          callback();\n",
       "      });\n",
       "    } finally {\n",
       "      delete root._bokeh_onload_callbacks;\n",
       "    }\n",
       "    console.debug(\"Bokeh: all callbacks have finished\");\n",
       "  }\n",
       "\n",
       "  function load_libs(css_urls, js_urls, js_modules, js_exports, callback) {\n",
       "    if (css_urls == null) css_urls = [];\n",
       "    if (js_urls == null) js_urls = [];\n",
       "    if (js_modules == null) js_modules = [];\n",
       "    if (js_exports == null) js_exports = {};\n",
       "\n",
       "    root._bokeh_onload_callbacks.push(callback);\n",
       "\n",
       "    if (root._bokeh_is_loading > 0) {\n",
       "      // Don't load bokeh if it is still initializing\n",
       "      console.debug(\"Bokeh: BokehJS is being loaded, scheduling callback at\", now());\n",
       "      return null;\n",
       "    } else if (js_urls.length === 0 && js_modules.length === 0 && Object.keys(js_exports).length === 0) {\n",
       "      // There is nothing to load\n",
       "      run_callbacks();\n",
       "      return null;\n",
       "    }\n",
       "\n",
       "    function on_load() {\n",
       "      root._bokeh_is_loading--;\n",
       "      if (root._bokeh_is_loading === 0) {\n",
       "        console.debug(\"Bokeh: all BokehJS libraries/stylesheets loaded\");\n",
       "        run_callbacks()\n",
       "      }\n",
       "    }\n",
       "    window._bokeh_on_load = on_load\n",
       "\n",
       "    function on_error(e) {\n",
       "      const src_el = e.srcElement\n",
       "      console.error(\"failed to load \" + (src_el.href || src_el.src));\n",
       "    }\n",
       "\n",
       "    const skip = [];\n",
       "    if (window.requirejs) {\n",
       "      window.requirejs.config({'packages': {}, 'paths': {}, 'shim': {}});\n",
       "      root._bokeh_is_loading = css_urls.length + 0;\n",
       "    } else {\n",
       "      root._bokeh_is_loading = css_urls.length + js_urls.length + js_modules.length + Object.keys(js_exports).length;\n",
       "    }\n",
       "\n",
       "    const existing_stylesheets = []\n",
       "    const links = document.getElementsByTagName('link')\n",
       "    for (let i = 0; i < links.length; i++) {\n",
       "      const link = links[i]\n",
       "      if (link.href != null) {\n",
       "        existing_stylesheets.push(link.href)\n",
       "      }\n",
       "    }\n",
       "    for (let i = 0; i < css_urls.length; i++) {\n",
       "      const url = css_urls[i];\n",
       "      const escaped = encodeURI(url)\n",
       "      if (existing_stylesheets.indexOf(escaped) !== -1) {\n",
       "        on_load()\n",
       "        continue;\n",
       "      }\n",
       "      const element = document.createElement(\"link\");\n",
       "      element.onload = on_load;\n",
       "      element.onerror = on_error;\n",
       "      element.rel = \"stylesheet\";\n",
       "      element.type = \"text/css\";\n",
       "      element.href = url;\n",
       "      console.debug(\"Bokeh: injecting link tag for BokehJS stylesheet: \", url);\n",
       "      document.body.appendChild(element);\n",
       "    }    var existing_scripts = []\n",
       "    const scripts = document.getElementsByTagName('script')\n",
       "    for (let i = 0; i < scripts.length; i++) {\n",
       "      var script = scripts[i]\n",
       "      if (script.src != null) {\n",
       "        existing_scripts.push(script.src)\n",
       "      }\n",
       "    }\n",
       "    for (let i = 0; i < js_urls.length; i++) {\n",
       "      const url = js_urls[i];\n",
       "      const escaped = encodeURI(url)\n",
       "      if (skip.indexOf(escaped) !== -1 || existing_scripts.indexOf(escaped) !== -1) {\n",
       "        if (!window.requirejs) {\n",
       "          on_load();\n",
       "        }\n",
       "        continue;\n",
       "      }\n",
       "      const element = document.createElement('script');\n",
       "      element.onload = on_load;\n",
       "      element.onerror = on_error;\n",
       "      element.async = false;\n",
       "      element.src = url;\n",
       "      console.debug(\"Bokeh: injecting script tag for BokehJS library: \", url);\n",
       "      document.head.appendChild(element);\n",
       "    }\n",
       "    for (let i = 0; i < js_modules.length; i++) {\n",
       "      const url = js_modules[i];\n",
       "      const escaped = encodeURI(url)\n",
       "      if (skip.indexOf(escaped) !== -1 || existing_scripts.indexOf(escaped) !== -1) {\n",
       "        if (!window.requirejs) {\n",
       "          on_load();\n",
       "        }\n",
       "        continue;\n",
       "      }\n",
       "      var element = document.createElement('script');\n",
       "      element.onload = on_load;\n",
       "      element.onerror = on_error;\n",
       "      element.async = false;\n",
       "      element.src = url;\n",
       "      element.type = \"module\";\n",
       "      console.debug(\"Bokeh: injecting script tag for BokehJS library: \", url);\n",
       "      document.head.appendChild(element);\n",
       "    }\n",
       "    for (const name in js_exports) {\n",
       "      const url = js_exports[name];\n",
       "      const escaped = encodeURI(url)\n",
       "      if (skip.indexOf(escaped) >= 0 || root[name] != null) {\n",
       "        if (!window.requirejs) {\n",
       "          on_load();\n",
       "        }\n",
       "        continue;\n",
       "      }\n",
       "      var element = document.createElement('script');\n",
       "      element.onerror = on_error;\n",
       "      element.async = false;\n",
       "      element.type = \"module\";\n",
       "      console.debug(\"Bokeh: injecting script tag for BokehJS library: \", url);\n",
       "      element.textContent = `\n",
       "      import ${name} from \"${url}\"\n",
       "      window.${name} = ${name}\n",
       "      window._bokeh_on_load()\n",
       "      `\n",
       "      document.head.appendChild(element);\n",
       "    }\n",
       "    if (!js_urls.length && !js_modules.length) {\n",
       "      on_load()\n",
       "    }\n",
       "  };\n",
       "\n",
       "  function inject_raw_css(css) {\n",
       "    const element = document.createElement(\"style\");\n",
       "    element.appendChild(document.createTextNode(css));\n",
       "    document.body.appendChild(element);\n",
       "  }\n",
       "\n",
       "  const js_urls = [\"https://cdn.holoviz.org/panel/1.5.3/dist/bundled/reactiveesm/es-module-shims@^1.10.0/dist/es-module-shims.min.js\"];\n",
       "  const js_modules = [];\n",
       "  const js_exports = {};\n",
       "  const css_urls = [];\n",
       "  const inline_js = [    function(Bokeh) {\n",
       "      Bokeh.set_log_level(\"info\");\n",
       "    },\n",
       "function(Bokeh) {} // ensure no trailing comma for IE\n",
       "  ];\n",
       "\n",
       "  function run_inline_js() {\n",
       "    if ((root.Bokeh !== undefined) || (force === true)) {\n",
       "      for (let i = 0; i < inline_js.length; i++) {\n",
       "        try {\n",
       "          inline_js[i].call(root, root.Bokeh);\n",
       "        } catch(e) {\n",
       "          if (!reloading) {\n",
       "            throw e;\n",
       "          }\n",
       "        }\n",
       "      }\n",
       "      // Cache old bokeh versions\n",
       "      if (Bokeh != undefined && !reloading) {\n",
       "        var NewBokeh = root.Bokeh;\n",
       "        if (Bokeh.versions === undefined) {\n",
       "          Bokeh.versions = new Map();\n",
       "        }\n",
       "        if (NewBokeh.version !== Bokeh.version) {\n",
       "          Bokeh.versions.set(NewBokeh.version, NewBokeh)\n",
       "        }\n",
       "        root.Bokeh = Bokeh;\n",
       "      }\n",
       "    } else if (Date.now() < root._bokeh_timeout) {\n",
       "      setTimeout(run_inline_js, 100);\n",
       "    } else if (!root._bokeh_failed_load) {\n",
       "      console.log(\"Bokeh: BokehJS failed to load within specified timeout.\");\n",
       "      root._bokeh_failed_load = true;\n",
       "    }\n",
       "    root._bokeh_is_initializing = false\n",
       "  }\n",
       "\n",
       "  function load_or_wait() {\n",
       "    // Implement a backoff loop that tries to ensure we do not load multiple\n",
       "    // versions of Bokeh and its dependencies at the same time.\n",
       "    // In recent versions we use the root._bokeh_is_initializing flag\n",
       "    // to determine whether there is an ongoing attempt to initialize\n",
       "    // bokeh, however for backward compatibility we also try to ensure\n",
       "    // that we do not start loading a newer (Panel>=1.0 and Bokeh>3) version\n",
       "    // before older versions are fully initialized.\n",
       "    if (root._bokeh_is_initializing && Date.now() > root._bokeh_timeout) {\n",
       "      // If the timeout and bokeh was not successfully loaded we reset\n",
       "      // everything and try loading again\n",
       "      root._bokeh_timeout = Date.now() + 5000;\n",
       "      root._bokeh_is_initializing = false;\n",
       "      root._bokeh_onload_callbacks = undefined;\n",
       "      root._bokeh_is_loading = 0\n",
       "      console.log(\"Bokeh: BokehJS was loaded multiple times but one version failed to initialize.\");\n",
       "      load_or_wait();\n",
       "    } else if (root._bokeh_is_initializing || (typeof root._bokeh_is_initializing === \"undefined\" && root._bokeh_onload_callbacks !== undefined)) {\n",
       "      setTimeout(load_or_wait, 100);\n",
       "    } else {\n",
       "      root._bokeh_is_initializing = true\n",
       "      root._bokeh_onload_callbacks = []\n",
       "      const bokeh_loaded = root.Bokeh != null && (root.Bokeh.version === py_version || (root.Bokeh.versions !== undefined && root.Bokeh.versions.has(py_version)));\n",
       "      if (!reloading && !bokeh_loaded) {\n",
       "        if (root.Bokeh) {\n",
       "          root.Bokeh = undefined;\n",
       "        }\n",
       "        console.debug(\"Bokeh: BokehJS not loaded, scheduling load and callback at\", now());\n",
       "      }\n",
       "      load_libs(css_urls, js_urls, js_modules, js_exports, function() {\n",
       "        console.debug(\"Bokeh: BokehJS plotting callback run at\", now());\n",
       "        run_inline_js();\n",
       "      });\n",
       "    }\n",
       "  }\n",
       "  // Give older versions of the autoload script a head-start to ensure\n",
       "  // they initialize before we start loading newer version.\n",
       "  setTimeout(load_or_wait, 100)\n",
       "}(window));"
      ],
      "application/vnd.holoviews_load.v0+json": "(function(root) {\n  function now() {\n    return new Date();\n  }\n\n  const force = false;\n  const py_version = '3.5.2'.replace('rc', '-rc.').replace('.dev', '-dev.');\n  const reloading = true;\n  const Bokeh = root.Bokeh;\n\n  // Set a timeout for this load but only if we are not already initializing\n  if (typeof (root._bokeh_timeout) === \"undefined\" || (force || !root._bokeh_is_initializing)) {\n    root._bokeh_timeout = Date.now() + 5000;\n    root._bokeh_failed_load = false;\n  }\n\n  function run_callbacks() {\n    try {\n      root._bokeh_onload_callbacks.forEach(function(callback) {\n        if (callback != null)\n          callback();\n      });\n    } finally {\n      delete root._bokeh_onload_callbacks;\n    }\n    console.debug(\"Bokeh: all callbacks have finished\");\n  }\n\n  function load_libs(css_urls, js_urls, js_modules, js_exports, callback) {\n    if (css_urls == null) css_urls = [];\n    if (js_urls == null) js_urls = [];\n    if (js_modules == null) js_modules = [];\n    if (js_exports == null) js_exports = {};\n\n    root._bokeh_onload_callbacks.push(callback);\n\n    if (root._bokeh_is_loading > 0) {\n      // Don't load bokeh if it is still initializing\n      console.debug(\"Bokeh: BokehJS is being loaded, scheduling callback at\", now());\n      return null;\n    } else if (js_urls.length === 0 && js_modules.length === 0 && Object.keys(js_exports).length === 0) {\n      // There is nothing to load\n      run_callbacks();\n      return null;\n    }\n\n    function on_load() {\n      root._bokeh_is_loading--;\n      if (root._bokeh_is_loading === 0) {\n        console.debug(\"Bokeh: all BokehJS libraries/stylesheets loaded\");\n        run_callbacks()\n      }\n    }\n    window._bokeh_on_load = on_load\n\n    function on_error(e) {\n      const src_el = e.srcElement\n      console.error(\"failed to load \" + (src_el.href || src_el.src));\n    }\n\n    const skip = [];\n    if (window.requirejs) {\n      window.requirejs.config({'packages': {}, 'paths': {}, 'shim': {}});\n      root._bokeh_is_loading = css_urls.length + 0;\n    } else {\n      root._bokeh_is_loading = css_urls.length + js_urls.length + js_modules.length + Object.keys(js_exports).length;\n    }\n\n    const existing_stylesheets = []\n    const links = document.getElementsByTagName('link')\n    for (let i = 0; i < links.length; i++) {\n      const link = links[i]\n      if (link.href != null) {\n        existing_stylesheets.push(link.href)\n      }\n    }\n    for (let i = 0; i < css_urls.length; i++) {\n      const url = css_urls[i];\n      const escaped = encodeURI(url)\n      if (existing_stylesheets.indexOf(escaped) !== -1) {\n        on_load()\n        continue;\n      }\n      const element = document.createElement(\"link\");\n      element.onload = on_load;\n      element.onerror = on_error;\n      element.rel = \"stylesheet\";\n      element.type = \"text/css\";\n      element.href = url;\n      console.debug(\"Bokeh: injecting link tag for BokehJS stylesheet: \", url);\n      document.body.appendChild(element);\n    }    var existing_scripts = []\n    const scripts = document.getElementsByTagName('script')\n    for (let i = 0; i < scripts.length; i++) {\n      var script = scripts[i]\n      if (script.src != null) {\n        existing_scripts.push(script.src)\n      }\n    }\n    for (let i = 0; i < js_urls.length; i++) {\n      const url = js_urls[i];\n      const escaped = encodeURI(url)\n      if (skip.indexOf(escaped) !== -1 || existing_scripts.indexOf(escaped) !== -1) {\n        if (!window.requirejs) {\n          on_load();\n        }\n        continue;\n      }\n      const element = document.createElement('script');\n      element.onload = on_load;\n      element.onerror = on_error;\n      element.async = false;\n      element.src = url;\n      console.debug(\"Bokeh: injecting script tag for BokehJS library: \", url);\n      document.head.appendChild(element);\n    }\n    for (let i = 0; i < js_modules.length; i++) {\n      const url = js_modules[i];\n      const escaped = encodeURI(url)\n      if (skip.indexOf(escaped) !== -1 || existing_scripts.indexOf(escaped) !== -1) {\n        if (!window.requirejs) {\n          on_load();\n        }\n        continue;\n      }\n      var element = document.createElement('script');\n      element.onload = on_load;\n      element.onerror = on_error;\n      element.async = false;\n      element.src = url;\n      element.type = \"module\";\n      console.debug(\"Bokeh: injecting script tag for BokehJS library: \", url);\n      document.head.appendChild(element);\n    }\n    for (const name in js_exports) {\n      const url = js_exports[name];\n      const escaped = encodeURI(url)\n      if (skip.indexOf(escaped) >= 0 || root[name] != null) {\n        if (!window.requirejs) {\n          on_load();\n        }\n        continue;\n      }\n      var element = document.createElement('script');\n      element.onerror = on_error;\n      element.async = false;\n      element.type = \"module\";\n      console.debug(\"Bokeh: injecting script tag for BokehJS library: \", url);\n      element.textContent = `\n      import ${name} from \"${url}\"\n      window.${name} = ${name}\n      window._bokeh_on_load()\n      `\n      document.head.appendChild(element);\n    }\n    if (!js_urls.length && !js_modules.length) {\n      on_load()\n    }\n  };\n\n  function inject_raw_css(css) {\n    const element = document.createElement(\"style\");\n    element.appendChild(document.createTextNode(css));\n    document.body.appendChild(element);\n  }\n\n  const js_urls = [\"https://cdn.holoviz.org/panel/1.5.3/dist/bundled/reactiveesm/es-module-shims@^1.10.0/dist/es-module-shims.min.js\"];\n  const js_modules = [];\n  const js_exports = {};\n  const css_urls = [];\n  const inline_js = [    function(Bokeh) {\n      Bokeh.set_log_level(\"info\");\n    },\nfunction(Bokeh) {} // ensure no trailing comma for IE\n  ];\n\n  function run_inline_js() {\n    if ((root.Bokeh !== undefined) || (force === true)) {\n      for (let i = 0; i < inline_js.length; i++) {\n        try {\n          inline_js[i].call(root, root.Bokeh);\n        } catch(e) {\n          if (!reloading) {\n            throw e;\n          }\n        }\n      }\n      // Cache old bokeh versions\n      if (Bokeh != undefined && !reloading) {\n        var NewBokeh = root.Bokeh;\n        if (Bokeh.versions === undefined) {\n          Bokeh.versions = new Map();\n        }\n        if (NewBokeh.version !== Bokeh.version) {\n          Bokeh.versions.set(NewBokeh.version, NewBokeh)\n        }\n        root.Bokeh = Bokeh;\n      }\n    } else if (Date.now() < root._bokeh_timeout) {\n      setTimeout(run_inline_js, 100);\n    } else if (!root._bokeh_failed_load) {\n      console.log(\"Bokeh: BokehJS failed to load within specified timeout.\");\n      root._bokeh_failed_load = true;\n    }\n    root._bokeh_is_initializing = false\n  }\n\n  function load_or_wait() {\n    // Implement a backoff loop that tries to ensure we do not load multiple\n    // versions of Bokeh and its dependencies at the same time.\n    // In recent versions we use the root._bokeh_is_initializing flag\n    // to determine whether there is an ongoing attempt to initialize\n    // bokeh, however for backward compatibility we also try to ensure\n    // that we do not start loading a newer (Panel>=1.0 and Bokeh>3) version\n    // before older versions are fully initialized.\n    if (root._bokeh_is_initializing && Date.now() > root._bokeh_timeout) {\n      // If the timeout and bokeh was not successfully loaded we reset\n      // everything and try loading again\n      root._bokeh_timeout = Date.now() + 5000;\n      root._bokeh_is_initializing = false;\n      root._bokeh_onload_callbacks = undefined;\n      root._bokeh_is_loading = 0\n      console.log(\"Bokeh: BokehJS was loaded multiple times but one version failed to initialize.\");\n      load_or_wait();\n    } else if (root._bokeh_is_initializing || (typeof root._bokeh_is_initializing === \"undefined\" && root._bokeh_onload_callbacks !== undefined)) {\n      setTimeout(load_or_wait, 100);\n    } else {\n      root._bokeh_is_initializing = true\n      root._bokeh_onload_callbacks = []\n      const bokeh_loaded = root.Bokeh != null && (root.Bokeh.version === py_version || (root.Bokeh.versions !== undefined && root.Bokeh.versions.has(py_version)));\n      if (!reloading && !bokeh_loaded) {\n        if (root.Bokeh) {\n          root.Bokeh = undefined;\n        }\n        console.debug(\"Bokeh: BokehJS not loaded, scheduling load and callback at\", now());\n      }\n      load_libs(css_urls, js_urls, js_modules, js_exports, function() {\n        console.debug(\"Bokeh: BokehJS plotting callback run at\", now());\n        run_inline_js();\n      });\n    }\n  }\n  // Give older versions of the autoload script a head-start to ensure\n  // they initialize before we start loading newer version.\n  setTimeout(load_or_wait, 100)\n}(window));"
     },
     "metadata": {},
     "output_type": "display_data"
    },
    {
     "data": {
      "application/javascript": [
       "\n",
       "if ((window.PyViz === undefined) || (window.PyViz instanceof HTMLElement)) {\n",
       "  window.PyViz = {comms: {}, comm_status:{}, kernels:{}, receivers: {}, plot_index: []}\n",
       "}\n",
       "\n",
       "\n",
       "    function JupyterCommManager() {\n",
       "    }\n",
       "\n",
       "    JupyterCommManager.prototype.register_target = function(plot_id, comm_id, msg_handler) {\n",
       "      if (window.comm_manager || ((window.Jupyter !== undefined) && (Jupyter.notebook.kernel != null))) {\n",
       "        var comm_manager = window.comm_manager || Jupyter.notebook.kernel.comm_manager;\n",
       "        comm_manager.register_target(comm_id, function(comm) {\n",
       "          comm.on_msg(msg_handler);\n",
       "        });\n",
       "      } else if ((plot_id in window.PyViz.kernels) && (window.PyViz.kernels[plot_id])) {\n",
       "        window.PyViz.kernels[plot_id].registerCommTarget(comm_id, function(comm) {\n",
       "          comm.onMsg = msg_handler;\n",
       "        });\n",
       "      } else if (typeof google != 'undefined' && google.colab.kernel != null) {\n",
       "        google.colab.kernel.comms.registerTarget(comm_id, (comm) => {\n",
       "          var messages = comm.messages[Symbol.asyncIterator]();\n",
       "          function processIteratorResult(result) {\n",
       "            var message = result.value;\n",
       "            console.log(message)\n",
       "            var content = {data: message.data, comm_id};\n",
       "            var buffers = []\n",
       "            for (var buffer of message.buffers || []) {\n",
       "              buffers.push(new DataView(buffer))\n",
       "            }\n",
       "            var metadata = message.metadata || {};\n",
       "            var msg = {content, buffers, metadata}\n",
       "            msg_handler(msg);\n",
       "            return messages.next().then(processIteratorResult);\n",
       "          }\n",
       "          return messages.next().then(processIteratorResult);\n",
       "        })\n",
       "      }\n",
       "    }\n",
       "\n",
       "    JupyterCommManager.prototype.get_client_comm = function(plot_id, comm_id, msg_handler) {\n",
       "      if (comm_id in window.PyViz.comms) {\n",
       "        return window.PyViz.comms[comm_id];\n",
       "      } else if (window.comm_manager || ((window.Jupyter !== undefined) && (Jupyter.notebook.kernel != null))) {\n",
       "        var comm_manager = window.comm_manager || Jupyter.notebook.kernel.comm_manager;\n",
       "        var comm = comm_manager.new_comm(comm_id, {}, {}, {}, comm_id);\n",
       "        if (msg_handler) {\n",
       "          comm.on_msg(msg_handler);\n",
       "        }\n",
       "      } else if ((plot_id in window.PyViz.kernels) && (window.PyViz.kernels[plot_id])) {\n",
       "        var comm = window.PyViz.kernels[plot_id].connectToComm(comm_id);\n",
       "        comm.open();\n",
       "        if (msg_handler) {\n",
       "          comm.onMsg = msg_handler;\n",
       "        }\n",
       "      } else if (typeof google != 'undefined' && google.colab.kernel != null) {\n",
       "        var comm_promise = google.colab.kernel.comms.open(comm_id)\n",
       "        comm_promise.then((comm) => {\n",
       "          window.PyViz.comms[comm_id] = comm;\n",
       "          if (msg_handler) {\n",
       "            var messages = comm.messages[Symbol.asyncIterator]();\n",
       "            function processIteratorResult(result) {\n",
       "              var message = result.value;\n",
       "              var content = {data: message.data};\n",
       "              var metadata = message.metadata || {comm_id};\n",
       "              var msg = {content, metadata}\n",
       "              msg_handler(msg);\n",
       "              return messages.next().then(processIteratorResult);\n",
       "            }\n",
       "            return messages.next().then(processIteratorResult);\n",
       "          }\n",
       "        }) \n",
       "        var sendClosure = (data, metadata, buffers, disposeOnDone) => {\n",
       "          return comm_promise.then((comm) => {\n",
       "            comm.send(data, metadata, buffers, disposeOnDone);\n",
       "          });\n",
       "        };\n",
       "        var comm = {\n",
       "          send: sendClosure\n",
       "        };\n",
       "      }\n",
       "      window.PyViz.comms[comm_id] = comm;\n",
       "      return comm;\n",
       "    }\n",
       "    window.PyViz.comm_manager = new JupyterCommManager();\n",
       "    \n",
       "\n",
       "\n",
       "var JS_MIME_TYPE = 'application/javascript';\n",
       "var HTML_MIME_TYPE = 'text/html';\n",
       "var EXEC_MIME_TYPE = 'application/vnd.holoviews_exec.v0+json';\n",
       "var CLASS_NAME = 'output';\n",
       "\n",
       "/**\n",
       " * Render data to the DOM node\n",
       " */\n",
       "function render(props, node) {\n",
       "  var div = document.createElement(\"div\");\n",
       "  var script = document.createElement(\"script\");\n",
       "  node.appendChild(div);\n",
       "  node.appendChild(script);\n",
       "}\n",
       "\n",
       "/**\n",
       " * Handle when a new output is added\n",
       " */\n",
       "function handle_add_output(event, handle) {\n",
       "  var output_area = handle.output_area;\n",
       "  var output = handle.output;\n",
       "  if ((output.data == undefined) || (!output.data.hasOwnProperty(EXEC_MIME_TYPE))) {\n",
       "    return\n",
       "  }\n",
       "  var id = output.metadata[EXEC_MIME_TYPE][\"id\"];\n",
       "  var toinsert = output_area.element.find(\".\" + CLASS_NAME.split(' ')[0]);\n",
       "  if (id !== undefined) {\n",
       "    var nchildren = toinsert.length;\n",
       "    var html_node = toinsert[nchildren-1].children[0];\n",
       "    html_node.innerHTML = output.data[HTML_MIME_TYPE];\n",
       "    var scripts = [];\n",
       "    var nodelist = html_node.querySelectorAll(\"script\");\n",
       "    for (var i in nodelist) {\n",
       "      if (nodelist.hasOwnProperty(i)) {\n",
       "        scripts.push(nodelist[i])\n",
       "      }\n",
       "    }\n",
       "\n",
       "    scripts.forEach( function (oldScript) {\n",
       "      var newScript = document.createElement(\"script\");\n",
       "      var attrs = [];\n",
       "      var nodemap = oldScript.attributes;\n",
       "      for (var j in nodemap) {\n",
       "        if (nodemap.hasOwnProperty(j)) {\n",
       "          attrs.push(nodemap[j])\n",
       "        }\n",
       "      }\n",
       "      attrs.forEach(function(attr) { newScript.setAttribute(attr.name, attr.value) });\n",
       "      newScript.appendChild(document.createTextNode(oldScript.innerHTML));\n",
       "      oldScript.parentNode.replaceChild(newScript, oldScript);\n",
       "    });\n",
       "    if (JS_MIME_TYPE in output.data) {\n",
       "      toinsert[nchildren-1].children[1].textContent = output.data[JS_MIME_TYPE];\n",
       "    }\n",
       "    output_area._hv_plot_id = id;\n",
       "    if ((window.Bokeh !== undefined) && (id in Bokeh.index)) {\n",
       "      window.PyViz.plot_index[id] = Bokeh.index[id];\n",
       "    } else {\n",
       "      window.PyViz.plot_index[id] = null;\n",
       "    }\n",
       "  } else if (output.metadata[EXEC_MIME_TYPE][\"server_id\"] !== undefined) {\n",
       "    var bk_div = document.createElement(\"div\");\n",
       "    bk_div.innerHTML = output.data[HTML_MIME_TYPE];\n",
       "    var script_attrs = bk_div.children[0].attributes;\n",
       "    for (var i = 0; i < script_attrs.length; i++) {\n",
       "      toinsert[toinsert.length - 1].childNodes[1].setAttribute(script_attrs[i].name, script_attrs[i].value);\n",
       "    }\n",
       "    // store reference to server id on output_area\n",
       "    output_area._bokeh_server_id = output.metadata[EXEC_MIME_TYPE][\"server_id\"];\n",
       "  }\n",
       "}\n",
       "\n",
       "/**\n",
       " * Handle when an output is cleared or removed\n",
       " */\n",
       "function handle_clear_output(event, handle) {\n",
       "  var id = handle.cell.output_area._hv_plot_id;\n",
       "  var server_id = handle.cell.output_area._bokeh_server_id;\n",
       "  if (((id === undefined) || !(id in PyViz.plot_index)) && (server_id !== undefined)) { return; }\n",
       "  var comm = window.PyViz.comm_manager.get_client_comm(\"hv-extension-comm\", \"hv-extension-comm\", function () {});\n",
       "  if (server_id !== null) {\n",
       "    comm.send({event_type: 'server_delete', 'id': server_id});\n",
       "    return;\n",
       "  } else if (comm !== null) {\n",
       "    comm.send({event_type: 'delete', 'id': id});\n",
       "  }\n",
       "  delete PyViz.plot_index[id];\n",
       "  if ((window.Bokeh !== undefined) & (id in window.Bokeh.index)) {\n",
       "    var doc = window.Bokeh.index[id].model.document\n",
       "    doc.clear();\n",
       "    const i = window.Bokeh.documents.indexOf(doc);\n",
       "    if (i > -1) {\n",
       "      window.Bokeh.documents.splice(i, 1);\n",
       "    }\n",
       "  }\n",
       "}\n",
       "\n",
       "/**\n",
       " * Handle kernel restart event\n",
       " */\n",
       "function handle_kernel_cleanup(event, handle) {\n",
       "  delete PyViz.comms[\"hv-extension-comm\"];\n",
       "  window.PyViz.plot_index = {}\n",
       "}\n",
       "\n",
       "/**\n",
       " * Handle update_display_data messages\n",
       " */\n",
       "function handle_update_output(event, handle) {\n",
       "  handle_clear_output(event, {cell: {output_area: handle.output_area}})\n",
       "  handle_add_output(event, handle)\n",
       "}\n",
       "\n",
       "function register_renderer(events, OutputArea) {\n",
       "  function append_mime(data, metadata, element) {\n",
       "    // create a DOM node to render to\n",
       "    var toinsert = this.create_output_subarea(\n",
       "    metadata,\n",
       "    CLASS_NAME,\n",
       "    EXEC_MIME_TYPE\n",
       "    );\n",
       "    this.keyboard_manager.register_events(toinsert);\n",
       "    // Render to node\n",
       "    var props = {data: data, metadata: metadata[EXEC_MIME_TYPE]};\n",
       "    render(props, toinsert[0]);\n",
       "    element.append(toinsert);\n",
       "    return toinsert\n",
       "  }\n",
       "\n",
       "  events.on('output_added.OutputArea', handle_add_output);\n",
       "  events.on('output_updated.OutputArea', handle_update_output);\n",
       "  events.on('clear_output.CodeCell', handle_clear_output);\n",
       "  events.on('delete.Cell', handle_clear_output);\n",
       "  events.on('kernel_ready.Kernel', handle_kernel_cleanup);\n",
       "\n",
       "  OutputArea.prototype.register_mime_type(EXEC_MIME_TYPE, append_mime, {\n",
       "    safe: true,\n",
       "    index: 0\n",
       "  });\n",
       "}\n",
       "\n",
       "if (window.Jupyter !== undefined) {\n",
       "  try {\n",
       "    var events = require('base/js/events');\n",
       "    var OutputArea = require('notebook/js/outputarea').OutputArea;\n",
       "    if (OutputArea.prototype.mime_types().indexOf(EXEC_MIME_TYPE) == -1) {\n",
       "      register_renderer(events, OutputArea);\n",
       "    }\n",
       "  } catch(err) {\n",
       "  }\n",
       "}\n"
      ],
      "application/vnd.holoviews_load.v0+json": "\nif ((window.PyViz === undefined) || (window.PyViz instanceof HTMLElement)) {\n  window.PyViz = {comms: {}, comm_status:{}, kernels:{}, receivers: {}, plot_index: []}\n}\n\n\n    function JupyterCommManager() {\n    }\n\n    JupyterCommManager.prototype.register_target = function(plot_id, comm_id, msg_handler) {\n      if (window.comm_manager || ((window.Jupyter !== undefined) && (Jupyter.notebook.kernel != null))) {\n        var comm_manager = window.comm_manager || Jupyter.notebook.kernel.comm_manager;\n        comm_manager.register_target(comm_id, function(comm) {\n          comm.on_msg(msg_handler);\n        });\n      } else if ((plot_id in window.PyViz.kernels) && (window.PyViz.kernels[plot_id])) {\n        window.PyViz.kernels[plot_id].registerCommTarget(comm_id, function(comm) {\n          comm.onMsg = msg_handler;\n        });\n      } else if (typeof google != 'undefined' && google.colab.kernel != null) {\n        google.colab.kernel.comms.registerTarget(comm_id, (comm) => {\n          var messages = comm.messages[Symbol.asyncIterator]();\n          function processIteratorResult(result) {\n            var message = result.value;\n            console.log(message)\n            var content = {data: message.data, comm_id};\n            var buffers = []\n            for (var buffer of message.buffers || []) {\n              buffers.push(new DataView(buffer))\n            }\n            var metadata = message.metadata || {};\n            var msg = {content, buffers, metadata}\n            msg_handler(msg);\n            return messages.next().then(processIteratorResult);\n          }\n          return messages.next().then(processIteratorResult);\n        })\n      }\n    }\n\n    JupyterCommManager.prototype.get_client_comm = function(plot_id, comm_id, msg_handler) {\n      if (comm_id in window.PyViz.comms) {\n        return window.PyViz.comms[comm_id];\n      } else if (window.comm_manager || ((window.Jupyter !== undefined) && (Jupyter.notebook.kernel != null))) {\n        var comm_manager = window.comm_manager || Jupyter.notebook.kernel.comm_manager;\n        var comm = comm_manager.new_comm(comm_id, {}, {}, {}, comm_id);\n        if (msg_handler) {\n          comm.on_msg(msg_handler);\n        }\n      } else if ((plot_id in window.PyViz.kernels) && (window.PyViz.kernels[plot_id])) {\n        var comm = window.PyViz.kernels[plot_id].connectToComm(comm_id);\n        comm.open();\n        if (msg_handler) {\n          comm.onMsg = msg_handler;\n        }\n      } else if (typeof google != 'undefined' && google.colab.kernel != null) {\n        var comm_promise = google.colab.kernel.comms.open(comm_id)\n        comm_promise.then((comm) => {\n          window.PyViz.comms[comm_id] = comm;\n          if (msg_handler) {\n            var messages = comm.messages[Symbol.asyncIterator]();\n            function processIteratorResult(result) {\n              var message = result.value;\n              var content = {data: message.data};\n              var metadata = message.metadata || {comm_id};\n              var msg = {content, metadata}\n              msg_handler(msg);\n              return messages.next().then(processIteratorResult);\n            }\n            return messages.next().then(processIteratorResult);\n          }\n        }) \n        var sendClosure = (data, metadata, buffers, disposeOnDone) => {\n          return comm_promise.then((comm) => {\n            comm.send(data, metadata, buffers, disposeOnDone);\n          });\n        };\n        var comm = {\n          send: sendClosure\n        };\n      }\n      window.PyViz.comms[comm_id] = comm;\n      return comm;\n    }\n    window.PyViz.comm_manager = new JupyterCommManager();\n    \n\n\nvar JS_MIME_TYPE = 'application/javascript';\nvar HTML_MIME_TYPE = 'text/html';\nvar EXEC_MIME_TYPE = 'application/vnd.holoviews_exec.v0+json';\nvar CLASS_NAME = 'output';\n\n/**\n * Render data to the DOM node\n */\nfunction render(props, node) {\n  var div = document.createElement(\"div\");\n  var script = document.createElement(\"script\");\n  node.appendChild(div);\n  node.appendChild(script);\n}\n\n/**\n * Handle when a new output is added\n */\nfunction handle_add_output(event, handle) {\n  var output_area = handle.output_area;\n  var output = handle.output;\n  if ((output.data == undefined) || (!output.data.hasOwnProperty(EXEC_MIME_TYPE))) {\n    return\n  }\n  var id = output.metadata[EXEC_MIME_TYPE][\"id\"];\n  var toinsert = output_area.element.find(\".\" + CLASS_NAME.split(' ')[0]);\n  if (id !== undefined) {\n    var nchildren = toinsert.length;\n    var html_node = toinsert[nchildren-1].children[0];\n    html_node.innerHTML = output.data[HTML_MIME_TYPE];\n    var scripts = [];\n    var nodelist = html_node.querySelectorAll(\"script\");\n    for (var i in nodelist) {\n      if (nodelist.hasOwnProperty(i)) {\n        scripts.push(nodelist[i])\n      }\n    }\n\n    scripts.forEach( function (oldScript) {\n      var newScript = document.createElement(\"script\");\n      var attrs = [];\n      var nodemap = oldScript.attributes;\n      for (var j in nodemap) {\n        if (nodemap.hasOwnProperty(j)) {\n          attrs.push(nodemap[j])\n        }\n      }\n      attrs.forEach(function(attr) { newScript.setAttribute(attr.name, attr.value) });\n      newScript.appendChild(document.createTextNode(oldScript.innerHTML));\n      oldScript.parentNode.replaceChild(newScript, oldScript);\n    });\n    if (JS_MIME_TYPE in output.data) {\n      toinsert[nchildren-1].children[1].textContent = output.data[JS_MIME_TYPE];\n    }\n    output_area._hv_plot_id = id;\n    if ((window.Bokeh !== undefined) && (id in Bokeh.index)) {\n      window.PyViz.plot_index[id] = Bokeh.index[id];\n    } else {\n      window.PyViz.plot_index[id] = null;\n    }\n  } else if (output.metadata[EXEC_MIME_TYPE][\"server_id\"] !== undefined) {\n    var bk_div = document.createElement(\"div\");\n    bk_div.innerHTML = output.data[HTML_MIME_TYPE];\n    var script_attrs = bk_div.children[0].attributes;\n    for (var i = 0; i < script_attrs.length; i++) {\n      toinsert[toinsert.length - 1].childNodes[1].setAttribute(script_attrs[i].name, script_attrs[i].value);\n    }\n    // store reference to server id on output_area\n    output_area._bokeh_server_id = output.metadata[EXEC_MIME_TYPE][\"server_id\"];\n  }\n}\n\n/**\n * Handle when an output is cleared or removed\n */\nfunction handle_clear_output(event, handle) {\n  var id = handle.cell.output_area._hv_plot_id;\n  var server_id = handle.cell.output_area._bokeh_server_id;\n  if (((id === undefined) || !(id in PyViz.plot_index)) && (server_id !== undefined)) { return; }\n  var comm = window.PyViz.comm_manager.get_client_comm(\"hv-extension-comm\", \"hv-extension-comm\", function () {});\n  if (server_id !== null) {\n    comm.send({event_type: 'server_delete', 'id': server_id});\n    return;\n  } else if (comm !== null) {\n    comm.send({event_type: 'delete', 'id': id});\n  }\n  delete PyViz.plot_index[id];\n  if ((window.Bokeh !== undefined) & (id in window.Bokeh.index)) {\n    var doc = window.Bokeh.index[id].model.document\n    doc.clear();\n    const i = window.Bokeh.documents.indexOf(doc);\n    if (i > -1) {\n      window.Bokeh.documents.splice(i, 1);\n    }\n  }\n}\n\n/**\n * Handle kernel restart event\n */\nfunction handle_kernel_cleanup(event, handle) {\n  delete PyViz.comms[\"hv-extension-comm\"];\n  window.PyViz.plot_index = {}\n}\n\n/**\n * Handle update_display_data messages\n */\nfunction handle_update_output(event, handle) {\n  handle_clear_output(event, {cell: {output_area: handle.output_area}})\n  handle_add_output(event, handle)\n}\n\nfunction register_renderer(events, OutputArea) {\n  function append_mime(data, metadata, element) {\n    // create a DOM node to render to\n    var toinsert = this.create_output_subarea(\n    metadata,\n    CLASS_NAME,\n    EXEC_MIME_TYPE\n    );\n    this.keyboard_manager.register_events(toinsert);\n    // Render to node\n    var props = {data: data, metadata: metadata[EXEC_MIME_TYPE]};\n    render(props, toinsert[0]);\n    element.append(toinsert);\n    return toinsert\n  }\n\n  events.on('output_added.OutputArea', handle_add_output);\n  events.on('output_updated.OutputArea', handle_update_output);\n  events.on('clear_output.CodeCell', handle_clear_output);\n  events.on('delete.Cell', handle_clear_output);\n  events.on('kernel_ready.Kernel', handle_kernel_cleanup);\n\n  OutputArea.prototype.register_mime_type(EXEC_MIME_TYPE, append_mime, {\n    safe: true,\n    index: 0\n  });\n}\n\nif (window.Jupyter !== undefined) {\n  try {\n    var events = require('base/js/events');\n    var OutputArea = require('notebook/js/outputarea').OutputArea;\n    if (OutputArea.prototype.mime_types().indexOf(EXEC_MIME_TYPE) == -1) {\n      register_renderer(events, OutputArea);\n    }\n  } catch(err) {\n  }\n}\n"
     },
     "metadata": {},
     "output_type": "display_data"
    },
    {
     "data": {
      "application/vnd.holoviews_exec.v0+json": "",
      "text/html": [
       "<div id='66ef8f77-17b3-4f46-be59-5e1b60db757e'>\n",
       "  <div id=\"fbe836a8-77be-4365-b09c-6ed944cf493d\" data-root-id=\"66ef8f77-17b3-4f46-be59-5e1b60db757e\" style=\"display: contents;\"></div>\n",
       "</div>\n",
       "<script type=\"application/javascript\">(function(root) {\n",
       "  var docs_json = {\"819c9f1f-0660-4bb7-817f-504afb1f7cfd\":{\"version\":\"3.5.2\",\"title\":\"Bokeh Application\",\"roots\":[{\"type\":\"object\",\"name\":\"panel.models.browser.BrowserInfo\",\"id\":\"66ef8f77-17b3-4f46-be59-5e1b60db757e\"},{\"type\":\"object\",\"name\":\"panel.models.comm_manager.CommManager\",\"id\":\"6ccc7def-c8a0-4c54-8054-e6c42042be52\",\"attributes\":{\"plot_id\":\"66ef8f77-17b3-4f46-be59-5e1b60db757e\",\"comm_id\":\"ff50b53425a4443fb31b28f949718ae5\",\"client_comm_id\":\"f8cb207283bb4ffea010125d2d36a7f9\"}}],\"defs\":[{\"type\":\"model\",\"name\":\"ReactiveHTML1\"},{\"type\":\"model\",\"name\":\"FlexBox1\",\"properties\":[{\"name\":\"align_content\",\"kind\":\"Any\",\"default\":\"flex-start\"},{\"name\":\"align_items\",\"kind\":\"Any\",\"default\":\"flex-start\"},{\"name\":\"flex_direction\",\"kind\":\"Any\",\"default\":\"row\"},{\"name\":\"flex_wrap\",\"kind\":\"Any\",\"default\":\"wrap\"},{\"name\":\"gap\",\"kind\":\"Any\",\"default\":\"\"},{\"name\":\"justify_content\",\"kind\":\"Any\",\"default\":\"flex-start\"}]},{\"type\":\"model\",\"name\":\"FloatPanel1\",\"properties\":[{\"name\":\"config\",\"kind\":\"Any\",\"default\":{\"type\":\"map\"}},{\"name\":\"contained\",\"kind\":\"Any\",\"default\":true},{\"name\":\"position\",\"kind\":\"Any\",\"default\":\"right-top\"},{\"name\":\"offsetx\",\"kind\":\"Any\",\"default\":null},{\"name\":\"offsety\",\"kind\":\"Any\",\"default\":null},{\"name\":\"theme\",\"kind\":\"Any\",\"default\":\"primary\"},{\"name\":\"status\",\"kind\":\"Any\",\"default\":\"normalized\"}]},{\"type\":\"model\",\"name\":\"GridStack1\",\"properties\":[{\"name\":\"mode\",\"kind\":\"Any\",\"default\":\"warn\"},{\"name\":\"ncols\",\"kind\":\"Any\",\"default\":null},{\"name\":\"nrows\",\"kind\":\"Any\",\"default\":null},{\"name\":\"allow_resize\",\"kind\":\"Any\",\"default\":true},{\"name\":\"allow_drag\",\"kind\":\"Any\",\"default\":true},{\"name\":\"state\",\"kind\":\"Any\",\"default\":[]}]},{\"type\":\"model\",\"name\":\"drag1\",\"properties\":[{\"name\":\"slider_width\",\"kind\":\"Any\",\"default\":5},{\"name\":\"slider_color\",\"kind\":\"Any\",\"default\":\"black\"},{\"name\":\"value\",\"kind\":\"Any\",\"default\":50}]},{\"type\":\"model\",\"name\":\"click1\",\"properties\":[{\"name\":\"terminal_output\",\"kind\":\"Any\",\"default\":\"\"},{\"name\":\"debug_name\",\"kind\":\"Any\",\"default\":\"\"},{\"name\":\"clears\",\"kind\":\"Any\",\"default\":0}]},{\"type\":\"model\",\"name\":\"FastWrapper1\",\"properties\":[{\"name\":\"object\",\"kind\":\"Any\",\"default\":null},{\"name\":\"style\",\"kind\":\"Any\",\"default\":null}]},{\"type\":\"model\",\"name\":\"NotificationAreaBase1\",\"properties\":[{\"name\":\"js_events\",\"kind\":\"Any\",\"default\":{\"type\":\"map\"}},{\"name\":\"position\",\"kind\":\"Any\",\"default\":\"bottom-right\"},{\"name\":\"_clear\",\"kind\":\"Any\",\"default\":0}]},{\"type\":\"model\",\"name\":\"NotificationArea1\",\"properties\":[{\"name\":\"js_events\",\"kind\":\"Any\",\"default\":{\"type\":\"map\"}},{\"name\":\"notifications\",\"kind\":\"Any\",\"default\":[]},{\"name\":\"position\",\"kind\":\"Any\",\"default\":\"bottom-right\"},{\"name\":\"_clear\",\"kind\":\"Any\",\"default\":0},{\"name\":\"types\",\"kind\":\"Any\",\"default\":[{\"type\":\"map\",\"entries\":[[\"type\",\"warning\"],[\"background\",\"#ffc107\"],[\"icon\",{\"type\":\"map\",\"entries\":[[\"className\",\"fas fa-exclamation-triangle\"],[\"tagName\",\"i\"],[\"color\",\"white\"]]}]]},{\"type\":\"map\",\"entries\":[[\"type\",\"info\"],[\"background\",\"#007bff\"],[\"icon\",{\"type\":\"map\",\"entries\":[[\"className\",\"fas fa-info-circle\"],[\"tagName\",\"i\"],[\"color\",\"white\"]]}]]}]}]},{\"type\":\"model\",\"name\":\"Notification\",\"properties\":[{\"name\":\"background\",\"kind\":\"Any\",\"default\":null},{\"name\":\"duration\",\"kind\":\"Any\",\"default\":3000},{\"name\":\"icon\",\"kind\":\"Any\",\"default\":null},{\"name\":\"message\",\"kind\":\"Any\",\"default\":\"\"},{\"name\":\"notification_type\",\"kind\":\"Any\",\"default\":null},{\"name\":\"_destroyed\",\"kind\":\"Any\",\"default\":false}]},{\"type\":\"model\",\"name\":\"TemplateActions1\",\"properties\":[{\"name\":\"open_modal\",\"kind\":\"Any\",\"default\":0},{\"name\":\"close_modal\",\"kind\":\"Any\",\"default\":0}]},{\"type\":\"model\",\"name\":\"BootstrapTemplateActions1\",\"properties\":[{\"name\":\"open_modal\",\"kind\":\"Any\",\"default\":0},{\"name\":\"close_modal\",\"kind\":\"Any\",\"default\":0}]},{\"type\":\"model\",\"name\":\"TemplateEditor1\",\"properties\":[{\"name\":\"layout\",\"kind\":\"Any\",\"default\":[]}]},{\"type\":\"model\",\"name\":\"MaterialTemplateActions1\",\"properties\":[{\"name\":\"open_modal\",\"kind\":\"Any\",\"default\":0},{\"name\":\"close_modal\",\"kind\":\"Any\",\"default\":0}]},{\"type\":\"model\",\"name\":\"ReactiveESM1\"},{\"type\":\"model\",\"name\":\"JSComponent1\"},{\"type\":\"model\",\"name\":\"ReactComponent1\"},{\"type\":\"model\",\"name\":\"AnyWidgetComponent1\"},{\"type\":\"model\",\"name\":\"request_value1\",\"properties\":[{\"name\":\"fill\",\"kind\":\"Any\",\"default\":\"none\"},{\"name\":\"_synced\",\"kind\":\"Any\",\"default\":null},{\"name\":\"_request_sync\",\"kind\":\"Any\",\"default\":0}]}]}};\n",
       "  var render_items = [{\"docid\":\"819c9f1f-0660-4bb7-817f-504afb1f7cfd\",\"roots\":{\"66ef8f77-17b3-4f46-be59-5e1b60db757e\":\"fbe836a8-77be-4365-b09c-6ed944cf493d\"},\"root_ids\":[\"66ef8f77-17b3-4f46-be59-5e1b60db757e\"]}];\n",
       "  var docs = Object.values(docs_json)\n",
       "  if (!docs) {\n",
       "    return\n",
       "  }\n",
       "  const py_version = docs[0].version.replace('rc', '-rc.').replace('.dev', '-dev.')\n",
       "  async function embed_document(root) {\n",
       "    var Bokeh = get_bokeh(root)\n",
       "    await Bokeh.embed.embed_items_notebook(docs_json, render_items);\n",
       "    for (const render_item of render_items) {\n",
       "      for (const root_id of render_item.root_ids) {\n",
       "\tconst id_el = document.getElementById(root_id)\n",
       "\tif (id_el.children.length && id_el.children[0].hasAttribute('data-root-id')) {\n",
       "\t  const root_el = id_el.children[0]\n",
       "\t  root_el.id = root_el.id + '-rendered'\n",
       "\t  for (const child of root_el.children) {\n",
       "            // Ensure JupyterLab does not capture keyboard shortcuts\n",
       "            // see: https://jupyterlab.readthedocs.io/en/4.1.x/extension/notebook.html#keyboard-interaction-model\n",
       "\t    child.setAttribute('data-lm-suppress-shortcuts', 'true')\n",
       "\t  }\n",
       "\t}\n",
       "      }\n",
       "    }\n",
       "  }\n",
       "  function get_bokeh(root) {\n",
       "    if (root.Bokeh === undefined) {\n",
       "      return null\n",
       "    } else if (root.Bokeh.version !== py_version) {\n",
       "      if (root.Bokeh.versions === undefined || !root.Bokeh.versions.has(py_version)) {\n",
       "\treturn null\n",
       "      }\n",
       "      return root.Bokeh.versions.get(py_version);\n",
       "    } else if (root.Bokeh.version === py_version) {\n",
       "      return root.Bokeh\n",
       "    }\n",
       "    return null\n",
       "  }\n",
       "  function is_loaded(root) {\n",
       "    var Bokeh = get_bokeh(root)\n",
       "    return (Bokeh != null && Bokeh.Panel !== undefined)\n",
       "  }\n",
       "  if (is_loaded(root)) {\n",
       "    embed_document(root);\n",
       "  } else {\n",
       "    var attempts = 0;\n",
       "    var timer = setInterval(function(root) {\n",
       "      if (is_loaded(root)) {\n",
       "        clearInterval(timer);\n",
       "        embed_document(root);\n",
       "      } else if (document.readyState == \"complete\") {\n",
       "        attempts++;\n",
       "        if (attempts > 200) {\n",
       "          clearInterval(timer);\n",
       "\t  var Bokeh = get_bokeh(root)\n",
       "\t  if (Bokeh == null || Bokeh.Panel == null) {\n",
       "            console.warn(\"Panel: ERROR: Unable to run Panel code because Bokeh or Panel library is missing\");\n",
       "\t  } else {\n",
       "\t    console.warn(\"Panel: WARNING: Attempting to render but not all required libraries could be resolved.\")\n",
       "\t    embed_document(root)\n",
       "\t  }\n",
       "        }\n",
       "      }\n",
       "    }, 25, root)\n",
       "  }\n",
       "})(window);</script>"
      ]
     },
     "metadata": {
      "application/vnd.holoviews_exec.v0+json": {
       "id": "66ef8f77-17b3-4f46-be59-5e1b60db757e"
      }
     },
     "output_type": "display_data"
    }
   ],
   "source": [
    "import climakitae as ck\n",
    "import climakitaegui as ckg\n",
    "import pandas as pd\n",
    "import panel as pn\n",
    "\n",
    "from climakitae.core.data_interface import get_data\n",
    "from climakitae.core.paths import stations_csv_path\n",
    "\n",
    "pn.extension()\n",
    "\n",
    "from climakitae.util.utils import (\n",
    "    read_csv_file,\n",
    "    get_closest_gridcell,\n",
    "    compute_multimodel_stats,\n",
    "    trendline,\n",
    "    summary_table,\n",
    "    convert_to_local_time,\n",
    ")"
   ]
  },
  {
   "cell_type": "markdown",
   "id": "c8aed519-86ff-4caf-86f1-a59d597cb60f",
   "metadata": {},
   "source": [
    "## Step 1: Select data\n",
    "\n",
    "### 1a) Grab location of interest by latitude and longitude\n",
    "First we'll grab specific locations of interest, by using the latitude and longitudeconvert_to_local_timeions of a weather station, and provide code to input a custom lat-lon location. Furthermore, we will **not** be retrieving the actual station data that is bias-corrected to that station for this example. At present bias-corrected station data on the Analytics Engine only provides air temperature as a variable, and for Heat Index we must also have either dew point temperature (coming soon!) or relative humidity. So for the time being, we will retrieve **non-bias corrected** data at the location of interest."
   ]
  },
  {
   "cell_type": "markdown",
   "id": "51db9824-fd69-4b6b-afa8-71033458a953",
   "metadata": {},
   "source": [
    "We will first look at the Fresno Airport weather station."
   ]
  },
  {
   "cell_type": "code",
   "execution_count": 10,
   "id": "1b78440b-7099-4416-9317-60e89ee7c1bd",
   "metadata": {
    "tags": []
   },
   "outputs": [
    {
     "data": {
      "text/html": [
       "<div>\n",
       "<style scoped>\n",
       "    .dataframe tbody tr th:only-of-type {\n",
       "        vertical-align: middle;\n",
       "    }\n",
       "\n",
       "    .dataframe tbody tr th {\n",
       "        vertical-align: top;\n",
       "    }\n",
       "\n",
       "    .dataframe thead th {\n",
       "        text-align: right;\n",
       "    }\n",
       "</style>\n",
       "<table border=\"1\" class=\"dataframe\">\n",
       "  <thead>\n",
       "    <tr style=\"text-align: right;\">\n",
       "      <th></th>\n",
       "      <th>state</th>\n",
       "      <th>station</th>\n",
       "      <th>city</th>\n",
       "      <th>ID</th>\n",
       "      <th>LAT_Y</th>\n",
       "      <th>LON_X</th>\n",
       "      <th>station id</th>\n",
       "      <th>elevation</th>\n",
       "    </tr>\n",
       "  </thead>\n",
       "  <tbody>\n",
       "    <tr>\n",
       "      <th>0</th>\n",
       "      <td>CA</td>\n",
       "      <td>Bakersfield Meadows Field (KBFL)</td>\n",
       "      <td>Bakersfield</td>\n",
       "      <td>KBFL</td>\n",
       "      <td>35.43424</td>\n",
       "      <td>-119.05524</td>\n",
       "      <td>72384023155</td>\n",
       "      <td>149.3</td>\n",
       "    </tr>\n",
       "    <tr>\n",
       "      <th>1</th>\n",
       "      <td>CA</td>\n",
       "      <td>Blythe Asos (KBLH)</td>\n",
       "      <td>Blythe</td>\n",
       "      <td>KBLH</td>\n",
       "      <td>33.61876</td>\n",
       "      <td>-114.71451</td>\n",
       "      <td>74718823158</td>\n",
       "      <td>120.4</td>\n",
       "    </tr>\n",
       "    <tr>\n",
       "      <th>2</th>\n",
       "      <td>CA</td>\n",
       "      <td>Burbank-Glendale-Pasadena Airport (KBUR)</td>\n",
       "      <td>Burbank</td>\n",
       "      <td>KBUR</td>\n",
       "      <td>34.19966</td>\n",
       "      <td>-118.36543</td>\n",
       "      <td>72288023152</td>\n",
       "      <td>222.7</td>\n",
       "    </tr>\n",
       "    <tr>\n",
       "      <th>3</th>\n",
       "      <td>CA</td>\n",
       "      <td>Needles Airport (KEED)</td>\n",
       "      <td>Needles</td>\n",
       "      <td>KEED</td>\n",
       "      <td>34.76783</td>\n",
       "      <td>-114.61842</td>\n",
       "      <td>72380523179</td>\n",
       "      <td>270.6</td>\n",
       "    </tr>\n",
       "    <tr>\n",
       "      <th>4</th>\n",
       "      <td>CA</td>\n",
       "      <td>Fresno Yosemite International Airport (KFAT)</td>\n",
       "      <td>Fresno</td>\n",
       "      <td>KFAT</td>\n",
       "      <td>36.77999</td>\n",
       "      <td>-119.72016</td>\n",
       "      <td>72389093193</td>\n",
       "      <td>101.9</td>\n",
       "    </tr>\n",
       "  </tbody>\n",
       "</table>\n",
       "</div>"
      ],
      "text/plain": [
       "  state                                       station         city    ID  \\\n",
       "0    CA              Bakersfield Meadows Field (KBFL)  Bakersfield  KBFL   \n",
       "1    CA                            Blythe Asos (KBLH)       Blythe  KBLH   \n",
       "2    CA      Burbank-Glendale-Pasadena Airport (KBUR)      Burbank  KBUR   \n",
       "3    CA                        Needles Airport (KEED)      Needles  KEED   \n",
       "4    CA  Fresno Yosemite International Airport (KFAT)       Fresno  KFAT   \n",
       "\n",
       "      LAT_Y      LON_X   station id  elevation  \n",
       "0  35.43424 -119.05524  72384023155      149.3  \n",
       "1  33.61876 -114.71451  74718823158      120.4  \n",
       "2  34.19966 -118.36543  72288023152      222.7  \n",
       "3  34.76783 -114.61842  72380523179      270.6  \n",
       "4  36.77999 -119.72016  72389093193      101.9  "
      ]
     },
     "execution_count": 10,
     "metadata": {},
     "output_type": "execute_result"
    }
   ],
   "source": [
    "wx_stns = read_csv_file(stations_csv_path, index_col=[0])\n",
    "wx_stns.head(5)"
   ]
  },
  {
   "cell_type": "code",
   "execution_count": 11,
   "id": "9972811a-b418-4841-991e-849e502ac612",
   "metadata": {
    "tags": []
   },
   "outputs": [
    {
     "name": "stdout",
     "output_type": "stream",
     "text": [
      "36.77999 -119.72016\n"
     ]
    }
   ],
   "source": [
    "station_name = \"Fresno Yosemite International Airport (KFAT)\"\n",
    "one_stn = wx_stns.loc[wx_stns[\"station\"] == station_name]\n",
    "\n",
    "stn_lat = one_stn.LAT_Y.values[0]\n",
    "stn_lon = one_stn.LON_X.values[0]\n",
    "print(stn_lat, stn_lon)"
   ]
  },
  {
   "cell_type": "markdown",
   "id": "c041cb58-5951-454e-aeae-f6280331c477",
   "metadata": {},
   "source": [
    "If you would like to provide your own latitude and longitude coordinates, you can also customize the cell below and pass your own values. However, if your location is outside of the default cached area (for example, we're looking at the PG&E service territory), you'll also need to reset the `selections.cached_area` to one that is more appropriate. You can check which options are available in the \"Subset the data by\" and \"Location selection\" dropdown menus in `selections.show()`."
   ]
  },
  {
   "cell_type": "code",
   "execution_count": 12,
   "id": "d3258596-3c08-476d-b9ad-ab69a604c747",
   "metadata": {},
   "outputs": [],
   "source": [
    "# stn_lat = YOUR_LAT_HERE\n",
    "# stn_lon = YOUR_LON_HERE\n",
    "# selections.cached_area = [\"YOUR CHOICE HERE\"] # if different cached area from default"
   ]
  },
  {
   "cell_type": "markdown",
   "id": "d8b0e172-6423-4551-b207-f445ba24e16b",
   "metadata": {},
   "source": [
    "Becasuse the dynamically downscaled WRF data in the Cal-Adapt: Analytics Engine is in UTC time, we'll convert to the timezome of the station we've selected. This is particularly important for determining the timing of the daily maximum and minimum temperatures. For a station located in Pacific Time (US), UTC time places the daily minimum \"in\" the day prior because UTC is 8 hours ahead of Pacific! The handy `convert_to_local_time` function corrects for this, and ensures that the resulting high and low temperatures are within the same daily timestamp. "
   ]
  },
  {
   "cell_type": "code",
   "execution_count": 13,
   "id": "5fd3619f-d083-4e27-8b7a-c8a96367823e",
   "metadata": {
    "tags": []
   },
   "outputs": [
    {
     "name": "stdout",
     "output_type": "stream",
     "text": [
      "!!!!!!!!!!!!!!!!!!!!!!!!!!!!!!!!!!!!!!!!!!!!!!!!!!!!!!!!!!!!!!!!!!!!!!!!!!!!!!!!!!!!!!!!!!!!!!!!!!\n",
      "!!! Returned data array is huge. Operations could take 10x to infinity longer than 1GB of data !!!\n",
      "!!!!!!!!!!!!!!!!!!!!!!!!!!!!!!!!!!!!!!!!!!!!!!!!!!!!!!!!!!!!!!!!!!!!!!!!!!!!!!!!!!!!!!!!!!!!!!!!!!\n",
      "\n",
      "WARNING\n",
      "-------\n",
      "You have retrieved data for more than one SSP, but not all ensemble members for each GCM are available for all SSPs.\n",
      "\n",
      "As a result, some scenario and simulation combinations may contain NaN values.\n",
      "\n",
      "If you want to remove these empty simulations, it is recommended to first subset the data object by each individual scenario and then dropping NaN values.\n"
     ]
    }
   ],
   "source": [
    "heatidx_hist_hour = get_data(\n",
    "    variable=\"NOAA Heat Index\",\n",
    "    resolution = \"9 km\",\n",
    "    timescale = \"hourly\",\n",
    "    data_type = \"Gridded\",\n",
    "    area_subset = \"CA Electric Load Serving Entities (IOU & POU)\",\n",
    "    cached_area = [\"Pacific Gas & Electric Company\"],\n",
    "    time_slice = (1981, 1991)\n",
    ")"
   ]
  },
  {
   "cell_type": "code",
   "execution_count": 1,
   "id": "9642e1f0-2b09-469c-8367-81bbf08341f7",
   "metadata": {},
   "outputs": [
    {
     "ename": "NameError",
     "evalue": "name 'heatidx_hist_hour' is not defined",
     "output_type": "error",
     "traceback": [
      "\u001b[0;31m---------------------------------------------------------------------------\u001b[0m",
      "\u001b[0;31mNameError\u001b[0m                                 Traceback (most recent call last)",
      "Cell \u001b[0;32mIn[1], line 1\u001b[0m\n\u001b[0;32m----> 1\u001b[0m \u001b[43mheatidx_hist_hour\u001b[49m\u001b[38;5;241m.\u001b[39mattrs\n",
      "\u001b[0;31mNameError\u001b[0m: name 'heatidx_hist_hour' is not defined"
     ]
    }
   ],
   "source": [
    "heatidx_hist_hour.attrs"
   ]
  },
  {
   "cell_type": "code",
   "execution_count": 14,
   "id": "05af9089-d21b-4611-a91e-bfa14948fb9a",
   "metadata": {
    "tags": []
   },
   "outputs": [
    {
     "name": "stdout",
     "output_type": "stream",
     "text": [
      "!!!!!!!!!!!!!!!!!!!!!!!!!!!!!!!!!!!!!!!!!!!!!!!!!!!!!!!!!!!!!!!!!!!!!!!!!!!!!!!!!!!!!!!\n",
      "! Returned data array is large. Operations could take up to 5x longer than 1GB of data!\n",
      "!!!!!!!!!!!!!!!!!!!!!!!!!!!!!!!!!!!!!!!!!!!!!!!!!!!!!!!!!!!!!!!!!!!!!!!!!!!!!!!!!!!!!!!\n",
      "\n",
      "Data converted to America/Los_Angeles timezone.\n"
     ]
    }
   ],
   "source": [
    "heatidx_hist_hour = convert_to_local_time(heatidx_hist_hour, selections)"
   ]
  },
  {
   "cell_type": "markdown",
   "id": "6724a205-a8e4-4fcc-9c76-d144677e7169",
   "metadata": {},
   "source": [
    "Now, we'll use the latitude and longitude values to retrieve the historical data at that gridcell. "
   ]
  },
  {
   "cell_type": "code",
   "execution_count": null,
   "id": "55e25ddd-b933-4b75-bcbe-31ecdb44b82a",
   "metadata": {},
   "outputs": [],
   "source": [
    "heatidx_hist_hour = get_closest_gridcell(heatidx_hist_hour, stn_lat, stn_lon)"
   ]
  },
  {
   "cell_type": "markdown",
   "id": "753706c6-85b7-4965-ae4e-ec884bd24d5f",
   "metadata": {},
   "source": [
    "Last, we load the data into memory. Because we are loading and computing on the entire dataset, this next code cell will take about **8 minutes**, hang tight! You will also see two warnings - don't worry! These are because of \"no data\" outside the spatial extent selected. "
   ]
  },
  {
   "cell_type": "code",
   "execution_count": null,
   "id": "77dd5ea4-511a-4544-afee-896820f81a89",
   "metadata": {
    "tags": []
   },
   "outputs": [],
   "source": [
    "heatidx_hist_hour = ck.load(heatidx_hist_hour)"
   ]
  },
  {
   "cell_type": "markdown",
   "id": "c7a632f0-78ca-484b-86eb-b133c0a955e7",
   "metadata": {},
   "source": [
    "### 1b) Retrieve the projected Heat Index data\n",
    "Next we will repeat the same data retrieval as we did for the historical data so we can compare. Like the historical data, retrieving the hourly projections data will also take a few minutes - hang tight!"
   ]
  },
  {
   "cell_type": "code",
   "execution_count": null,
   "id": "4a3d55fd-304f-482b-a9c7-04e7859b5db7",
   "metadata": {},
   "outputs": [],
   "source": [
    "# select future data\n",
    "selections.data_type = \"Gridded\"\n",
    "selections.area_subset = \"CA Electric Load Serving Entities (IOU & POU)\"\n",
    "selections.cached_area = [\"Pacific Gas & Electric Company\"]\n",
    "selections.timescale = \"hourly\"\n",
    "selections.variable_type = \"Derived Index\"\n",
    "selections.variable = \"NOAA Heat Index\"\n",
    "selections.resolution = \"9 km\"\n",
    "selections.scenario_historical = []\n",
    "selections.scenario_ssp = [\"SSP 3-7.0\"]\n",
    "selections.time_slice = (2040, 2070)  # mid-century"
   ]
  },
  {
   "cell_type": "code",
   "execution_count": null,
   "id": "c3645ba5-3533-4cda-95ff-801f9f709d5e",
   "metadata": {
    "tags": []
   },
   "outputs": [],
   "source": [
    "heatidx_proj_hour = selections.retrieve()\n",
    "heatidx_proj_hour = convert_to_local_time(heatidx_proj_hour, selections)\n",
    "heatidx_proj_hour = get_closest_gridcell(heatidx_proj_hour, stn_lat, stn_lon)"
   ]
  },
  {
   "cell_type": "markdown",
   "id": "ae6ef35a-85a0-4cb7-9aff-012f2d442edb",
   "metadata": {},
   "source": [
    "Now, we will load in the hourly heat index projections. Because we are loading and computing on the entire original dataset, this will take a few minutes. Hang tight! You'll also see the same data warnings again."
   ]
  },
  {
   "cell_type": "code",
   "execution_count": null,
   "id": "17a332fd-e672-40c8-aea3-815640453153",
   "metadata": {
    "tags": []
   },
   "outputs": [],
   "source": [
    "heatidx_proj_hour = ck.load(heatidx_proj_hour)"
   ]
  },
  {
   "cell_type": "markdown",
   "id": "ce9b05f0-b3fe-4d48-8164-4bb0fb41dd1f",
   "metadata": {},
   "source": [
    "## Step 2: Calculate the number of hours throughout the year above a threshold\n",
    "\n",
    "### 2a) Sum the hours per day\n",
    "\n",
    "Let's next determine what part of the day is above a Heat Index threshold, as well as how many hours in each day are above our designated threshold. The NOAA Heat Index  \"kicks in\" once the [NOAA Heat Index](https://www.noaa.gov/sites/default/files/2022-05/heatindex_chart_rh.pdf) value is above 80°F: prolonged exposure to a heat index above 80°F becomes dangerous to many people and especially vulnerable communities. The Occupational Safety and Health Administration (OSHA) uses the Heat Index to determine the risk of heat-related illness and protections for outdoor workers. Below are the [specific thresholds used by OSHA](https://www.nalc.org/workplace-issues/body/OSHA-Using-the-Heat-Index-A-Guide-for-Employers.pdf). We note that these values are slightly different than those used by the [NOAA Heat Index](https://www.noaa.gov/sites/default/files/2022-05/heatindex_chart_rh.pdf) system. We **strongly recommend** looking at multiple thresholds to understand Heat Index trends. \n",
    "\n",
    "| Classification | Heat Index |\n",
    "|----------------|------------|\n",
    "| Caution | <91°F |\n",
    "| Moderate | 91 - 103°F |\n",
    "| High | 103 - 115°F |\n",
    "| Very High to Extreme | 115+°F |\n",
    "\n",
    "We'll start with 80°F as our default threshold."
   ]
  },
  {
   "cell_type": "code",
   "execution_count": null,
   "id": "54d7f108-0d65-4306-b4d2-866d48ffa290",
   "metadata": {},
   "outputs": [],
   "source": [
    "hi_threshold = 80"
   ]
  },
  {
   "cell_type": "code",
   "execution_count": null,
   "id": "3e76e2c0-4f95-4424-972a-b1b1c079ead6",
   "metadata": {
    "tags": []
   },
   "outputs": [],
   "source": [
    "# counts the number of hours in each day above the heat index threshold\n",
    "num_heatidx_histhours = (heatidx_hist_hour >= hi_threshold).resample(time=\"1D\").sum()\n",
    "num_heatidx_histhours.name = \"Hours per day above Heat Index threshold of {}°F\".format(\n",
    "    hi_threshold\n",
    ")"
   ]
  },
  {
   "cell_type": "markdown",
   "id": "52685577-e904-4216-a320-82468d680e45",
   "metadata": {},
   "source": [
    "Let's identify one year to visualize the cycle in Heat Index temperatures. We are selecting 2000 here, but the commented out line of code below illustrates how to look at all of the data here. Just comment out the first line under visualize by adding a `#` symbol, and uncommenting the line below by removing the `#` symbol."
   ]
  },
  {
   "cell_type": "code",
   "execution_count": null,
   "id": "29d35f96-b811-4f7a-938f-1c54b40f1c15",
   "metadata": {
    "tags": []
   },
   "outputs": [],
   "source": [
    "data_one_year = num_heatidx_histhours.sel(time=\"2000\")\n",
    "\n",
    "# visualize\n",
    "data_one_year.hvplot.line(x=\"time\", by=\"simulation\")  # a specific year\n",
    "# num_heatidx_histhours.hvplot.line(x='time', by='simulation') # all years"
   ]
  },
  {
   "cell_type": "markdown",
   "id": "5b38dd97-c64d-4f8b-8017-c606aefb80e4",
   "metadata": {},
   "source": [
    "Heat Index values above our selected threshold (default is 80°F) begin to pick up in March for Fresno, and tail off in November. While high Heat Index values are critical to know during the summer months, we should be aware of high Heat Index values throughout the rest of the year as well. \n",
    "\n",
    "### 2b) Sum the total hours per year\n",
    "It may also be useful to know how many hours in the entire year are above the threshold in order to see the trends over time. We'll calculate this next."
   ]
  },
  {
   "cell_type": "code",
   "execution_count": null,
   "id": "9a93934d-d264-4d8a-a64e-8dde3c0e13fd",
   "metadata": {
    "tags": []
   },
   "outputs": [],
   "source": [
    "# sum per year\n",
    "num_heatidx_hist_hours_per_year = num_heatidx_histhours.groupby(\"time.year\").sum(\"time\")\n",
    "num_heatidx_hist_hours_per_year.name = (\n",
    "    \"Hours per year above Heat Index threshold of {}°F\".format(hi_threshold)\n",
    ")"
   ]
  },
  {
   "cell_type": "code",
   "execution_count": null,
   "id": "0497314f-cac2-4082-89fe-244b6cf3f18b",
   "metadata": {
    "tags": []
   },
   "outputs": [],
   "source": [
    "# visualize\n",
    "num_heatidx_hist_hours_per_year.hvplot.line(x=\"year\", by=\"simulation\")"
   ]
  },
  {
   "cell_type": "markdown",
   "id": "f0580381-cfc6-4840-88a1-1f4dea634a0b",
   "metadata": {},
   "source": [
    "For context, there are 8760 hours in a year. Let's also look at the future data to understand the projected trends in the number of high Heat Index hours per year. \n",
    "\n",
    "In the following cells, we'll do all of the computation above in a single go, to condense the number of cells to run. You don't need to modify anything, unless you made changes above. "
   ]
  },
  {
   "cell_type": "code",
   "execution_count": null,
   "id": "39dc6988-6107-42bb-af55-9585fe94e546",
   "metadata": {
    "tags": []
   },
   "outputs": [],
   "source": [
    "# counts the number of hours in each day above the heat index threshold\n",
    "num_heatidx_projhours = (heatidx_proj_hour >= hi_threshold).resample(time=\"1D\").sum()\n",
    "num_heatidx_projhours.name = \"Hours per day above Heat Index threshold of {}°F\".format(\n",
    "    hi_threshold\n",
    ")\n",
    "\n",
    "# sum per year\n",
    "num_heatidx_proj_hours_per_year = num_heatidx_projhours.groupby(\"time.year\").sum(\"time\")\n",
    "num_heatidx_proj_hours_per_year.name = (\n",
    "    \"Hours per year above Heat Index threshold of {}°F\".format(hi_threshold)\n",
    ")"
   ]
  },
  {
   "cell_type": "code",
   "execution_count": null,
   "id": "d6b58caa-4c1d-4dd5-a915-00fed9877366",
   "metadata": {},
   "outputs": [],
   "source": [
    "# visualize\n",
    "num_heatidx_proj_hours_per_year.hvplot.line(x=\"year\", by=\"simulation\")"
   ]
  },
  {
   "cell_type": "markdown",
   "id": "da0cd2be-e1bb-4f7a-99bd-76b976826571",
   "metadata": {},
   "source": [
    "### 2c) Export counts of hours per year\n",
    "First, we'll calculate summary statistics for our data object with a handy function `compute_multimodel_stats`, which will provide the min, max, mean, and median of our data. We'll also use a helper function `summary_table` which will transform our data objects into an easy-to-read dataframe. This dataframe will be exported as a .csv file and will be available in the file tree on the lefthandside of your screen. You can double click on it to view in a new window, or right-click to download. "
   ]
  },
  {
   "cell_type": "code",
   "execution_count": null,
   "id": "93d19924-7833-4dc8-a23d-26e7782c32ca",
   "metadata": {},
   "outputs": [],
   "source": [
    "# calculate statistics\n",
    "num_heatidx_hist_hours_per_year = compute_multimodel_stats(\n",
    "    num_heatidx_hist_hours_per_year\n",
    ")\n",
    "\n",
    "# table format with summary stats\n",
    "df_to_export = summary_table(num_heatidx_hist_hours_per_year)\n",
    "df_to_export.head(5)  # see first 5 rows"
   ]
  },
  {
   "cell_type": "code",
   "execution_count": null,
   "id": "5de59d34-6533-4fb3-b5c0-cc0e8e6dce35",
   "metadata": {},
   "outputs": [],
   "source": [
    "fn = \"num_heatidx_hours_per_year_{}\".format(\n",
    "    station_name.replace(\" \", \"_\").replace(\"(\", \"\").replace(\")\", \"\")\n",
    ")\n",
    "df_to_export.to_csv(\"{}.csv\".format(fn))"
   ]
  },
  {
   "cell_type": "markdown",
   "id": "f542cd41-3221-4db1-ad6b-3765a6bc8700",
   "metadata": {},
   "source": [
    "### 2d) Calculate the number of Heat Index days per month\n",
    "Alternatively, let's determine the number of days per month with Heat Index values above the threshold, as this may be useful for seasonal information. From the hourly Heat Index data, we'll now calculate the daily maximum heat index value. It is important to note that we will calculate the daily max heat index from the hourly heat index data, rather than taking the daily max air temperature and the average relative humidity, which artificially inflates the daily heat index value. \n",
    "\n",
    "If the daily median heat index is more relevant to your needs, we also provide the option in the cell below to calculate this instead. "
   ]
  },
  {
   "cell_type": "code",
   "execution_count": null,
   "id": "c25b83b5-c172-4d6e-a8e0-5adaa290178d",
   "metadata": {},
   "outputs": [],
   "source": [
    "# historical\n",
    "heatidx_hist_day = heatidx_hist_hour.resample(time=\"1D\").max()  # daily max\n",
    "# heatidx_hist_day = heatidx_hist_hour.resample(time='1D').median() # daily median\n",
    "\n",
    "# future\n",
    "heatidx_proj_day = heatidx_proj_hour.resample(time=\"1D\").max()  # daily max\n",
    "# heatidx_proj_day = heatidx_proj_hour.resample(time='1D').median() # daily median"
   ]
  },
  {
   "cell_type": "markdown",
   "id": "f3a9f584-d8fd-4892-b4ec-3c345a49accc",
   "metadata": {},
   "source": [
    "We'll also reset our Heat Index threshold to be 91°F to assess a higher threshold. "
   ]
  },
  {
   "cell_type": "code",
   "execution_count": null,
   "id": "aae3000e-14c5-4c3f-8efe-0fb68dcfd4bd",
   "metadata": {
    "tags": []
   },
   "outputs": [],
   "source": [
    "hi_threshold = 91"
   ]
  },
  {
   "cell_type": "code",
   "execution_count": null,
   "id": "fbf3bd46-4123-4640-9d5a-0221ed1f43b3",
   "metadata": {
    "tags": []
   },
   "outputs": [],
   "source": [
    "num_heatidx_histmonths = (heatidx_hist_day >= hi_threshold).resample(time=\"1M\").sum()\n",
    "num_heatidx_histmonths.name = (\n",
    "    \"Days per month above Heat Index threshold of {}°F\".format(hi_threshold)\n",
    ")"
   ]
  },
  {
   "cell_type": "code",
   "execution_count": null,
   "id": "8e741e9d-85a8-4384-bbdc-e556f93e3836",
   "metadata": {
    "tags": []
   },
   "outputs": [],
   "source": [
    "num_heatidx_histmonths.hvplot.line(x=\"time\", by=\"simulation\")"
   ]
  },
  {
   "cell_type": "markdown",
   "id": "5371b112-d61f-439b-9fbf-74f6829e42d5",
   "metadata": {},
   "source": [
    "### 2e) Export the counts of days per month of high Heat Index values\n",
    "\n",
    "Like steps 2c, we'll calculate the min, max, mean, and median trends and format a table for easy export. "
   ]
  },
  {
   "cell_type": "code",
   "execution_count": null,
   "id": "483622a0-c27f-462e-8fe6-d709aae485fb",
   "metadata": {
    "tags": []
   },
   "outputs": [],
   "source": [
    "# calculate summary stats\n",
    "num_heatidx_histmonths_stats = compute_multimodel_stats(num_heatidx_histmonths)\n",
    "\n",
    "# table format with summary stats\n",
    "df_to_export = summary_table(num_heatidx_histmonths_stats)\n",
    "df_to_export.head(5)  # see first 5 rows"
   ]
  },
  {
   "cell_type": "code",
   "execution_count": null,
   "id": "7792dd17-7d55-4890-98ce-1fe04186b154",
   "metadata": {
    "tags": []
   },
   "outputs": [],
   "source": [
    "fn = \"num_heatidx_histmonths_{}\".format(\n",
    "    station_name.replace(\" \", \"_\").replace(\"(\", \"\").replace(\")\", \"\")\n",
    ")\n",
    "df_to_export.to_csv(\"{}.csv\".format(fn))"
   ]
  },
  {
   "cell_type": "markdown",
   "id": "51aacf65-79b7-493f-bc01-9a1ff921ff57",
   "metadata": {},
   "source": [
    "## Step 3: Understand trends in nighttime temperatures\n",
    "Next we'll look specifically at nighttime temperatures in order to assess when it may be too hot outside for worker safety and for assets to cool down. \n",
    "\n",
    "### 3a) Subset for nighttime hours\n",
    "First, let's subset our hourly Heat Index data specifically for the nighttime hours. We will use 8pm-6am as \"nighttime\", but you can modify based on your needs as well."
   ]
  },
  {
   "cell_type": "code",
   "execution_count": null,
   "id": "9194b378-0a2c-4d2e-903e-039108305de9",
   "metadata": {
    "tags": []
   },
   "outputs": [],
   "source": [
    "night_subset = [20, 21, 22, 23, 0, 1, 2, 3, 4, 5, 6]  # 24 hour time\n",
    "heatidx_hist_nighthours = heatidx_hist_hour.isel(\n",
    "    time=heatidx_hist_hour.time.dt.hour.isin(night_subset)\n",
    ")"
   ]
  },
  {
   "cell_type": "markdown",
   "id": "ea99725a-44f0-4b2e-81a0-b4b73750a403",
   "metadata": {},
   "source": [
    "### 3b) Sum the number of nighttime hours above a threshold of 80°F per day and per year\n",
    "Like what we did above in Step 2a and 2b, we'll sum the nighttime Heat Index values for analysis. We'll use the same threshold as above, 91°F. But you can modify easily by setting this to any value of interest."
   ]
  },
  {
   "cell_type": "code",
   "execution_count": null,
   "id": "6a845b92-d1c9-4b97-9936-98b6df649291",
   "metadata": {
    "tags": []
   },
   "outputs": [],
   "source": [
    "# sum per day\n",
    "num_heatidx_hist_nighthours = (\n",
    "    (heatidx_hist_nighthours >= hi_threshold).resample(time=\"1D\").sum()\n",
    ")\n",
    "num_heatidx_hist_nighthours.name = (\n",
    "    \"Nighttime hours per day above Heat Index threshold of {}°F\".format(hi_threshold)\n",
    ")"
   ]
  },
  {
   "cell_type": "code",
   "execution_count": null,
   "id": "0b92fb40-c27e-4425-9599-b303d1a2a7ed",
   "metadata": {
    "tags": []
   },
   "outputs": [],
   "source": [
    "# visualize\n",
    "num_heatidx_hist_nighthours.hvplot.line(x=\"time\", by=\"simulation\")"
   ]
  },
  {
   "cell_type": "code",
   "execution_count": null,
   "id": "a651e804-0c0e-42e0-bc91-830b4e6296d7",
   "metadata": {
    "tags": []
   },
   "outputs": [],
   "source": [
    "# sum per year\n",
    "num_heatidx_hist_nighthours_per_year = num_heatidx_hist_nighthours.groupby(\n",
    "    \"time.year\"\n",
    ").sum(\"time\")\n",
    "num_heatidx_hist_nighthours_per_year.name = (\n",
    "    \"Nighttime hours per year above Heat Index threshold of {}°F\".format(hi_threshold)\n",
    ")"
   ]
  },
  {
   "cell_type": "code",
   "execution_count": null,
   "id": "9f9f5948-cf50-44f7-869d-cf7c3745dd3b",
   "metadata": {
    "tags": []
   },
   "outputs": [],
   "source": [
    "# visualize\n",
    "num_heatidx_hist_nighthours_per_year.hvplot.line(x=\"year\", by=\"simulation\")"
   ]
  },
  {
   "cell_type": "markdown",
   "id": "6ea6d794-e36c-449d-9b60-8f430cb6f7f5",
   "metadata": {},
   "source": [
    "We'll calculate the same steps for the projected future data, but won't visualize it here. We're just including it in case you need this information."
   ]
  },
  {
   "cell_type": "code",
   "execution_count": null,
   "id": "eb827328-6870-4730-9683-833d30db10a9",
   "metadata": {
    "tags": []
   },
   "outputs": [],
   "source": [
    "# subset for nighttime hours\n",
    "heatidx_proj_nighthours = heatidx_proj_hour.isel(\n",
    "    time=heatidx_proj_hour.time.dt.hour.isin(night_subset)\n",
    ")\n",
    "\n",
    "# sum per day\n",
    "num_heatidx_proj_nighthours = (\n",
    "    (heatidx_proj_nighthours >= hi_threshold).resample(time=\"1D\").sum()\n",
    ")\n",
    "num_heatidx_proj_nighthours.name = (\n",
    "    \"Nighttime hours per day above Heat Index threshold of {}°F\".format(hi_threshold)\n",
    ")\n",
    "\n",
    "# sum per year\n",
    "num_heatidx_proj_nighthours_per_year = num_heatidx_proj_nighthours.groupby(\n",
    "    \"time.year\"\n",
    ").sum(\"time\")\n",
    "num_heatidx_proj_nighthours_per_year.name = (\n",
    "    \"Nighttime hours per year above Heat Index threshold of {}°F\".format(hi_threshold)\n",
    ")"
   ]
  },
  {
   "cell_type": "markdown",
   "id": "05ceae22-ce93-4f6f-bc6d-5910f4c71d6e",
   "metadata": {},
   "source": [
    "### 3c) Export counts of nighttime hours per year\n",
    "\n",
    "Similar the above export steps, we'll export the counts of nighttime temperatures per year next. "
   ]
  },
  {
   "cell_type": "code",
   "execution_count": null,
   "id": "cca1a486-a895-4512-91f5-1065371d4898",
   "metadata": {
    "tags": []
   },
   "outputs": [],
   "source": [
    "# calculate summary stats\n",
    "num_heatidx_hist_nighthours_per_year = compute_multimodel_stats(\n",
    "    num_heatidx_hist_nighthours_per_year\n",
    ")\n",
    "\n",
    "# table format with summary stats\n",
    "df_to_export = summary_table(num_heatidx_hist_nighthours_per_year)\n",
    "df_to_export.head(5)  # see first 5 rows"
   ]
  },
  {
   "cell_type": "code",
   "execution_count": null,
   "id": "75795d34-452b-4761-a67d-52a782173d88",
   "metadata": {
    "tags": []
   },
   "outputs": [],
   "source": [
    "fn = \"num_heatidx_nighthours_per_year_{}\".format(\n",
    "    station_name.replace(\" \", \"_\").replace(\"(\", \"\").replace(\")\", \"\")\n",
    ")\n",
    "df_to_export.to_csv(\"{}.csv\".format(fn))"
   ]
  },
  {
   "cell_type": "markdown",
   "id": "2f4e4b46-5312-47e5-99fc-95fec3d828cc",
   "metadata": {},
   "source": [
    "## Step 4: Summarize the long term trends\n",
    "\n",
    "### 4a) Comparing historical and projected number of days in each year above a Heat Index threshold\n",
    "\n",
    "Using the [OSHA thresholds we noted above](https://www.nalc.org/workplace-issues/body/OSHA-Using-the-Heat-Index-A-Guide-for-Employers.pdf), we'll now look at a threshold of 91°F. Again, we **strongly recommend** looking at multiple thresholds to understand Heat Index trends."
   ]
  },
  {
   "cell_type": "code",
   "execution_count": null,
   "id": "d56313aa-3ae1-4143-a5ab-5530699fd7fa",
   "metadata": {
    "tags": []
   },
   "outputs": [],
   "source": [
    "hi_threshold = 91  # degF"
   ]
  },
  {
   "cell_type": "markdown",
   "id": "ae7b5f7f-4fc7-497a-b048-d1a51a698cb0",
   "metadata": {},
   "source": [
    "If you would like to look at a specific month or season, uncomment the next cell below. We are going to look at the entire year, and leave this cell commented out. You can also skip the next cell entirely if you want to retain information throughout the entire year. "
   ]
  },
  {
   "cell_type": "code",
   "execution_count": null,
   "id": "68794242-fb58-47d2-9584-036c5a36f32a",
   "metadata": {
    "tags": []
   },
   "outputs": [],
   "source": [
    "# month_subset = [5, 6, 7, 8, 9] # May, June, July, August, September\n",
    "# heatidx_hist_day = heatidx_hist_day.isel(time = heatidx_hist_day.time.dt.month.isin(month_subset)) # historical\n",
    "# heatidx_proj_day = heatidx_proj_day.isel(time = heatidx_proj_day.time.dt.month.isin(month_subset)) # future"
   ]
  },
  {
   "cell_type": "markdown",
   "id": "d3fd8414-78e5-442f-9a95-d7afabeeb4a6",
   "metadata": {},
   "source": [
    "Let's visualize the historical trends next. "
   ]
  },
  {
   "cell_type": "code",
   "execution_count": null,
   "id": "e84cc213-a1d7-40dc-9c4c-f6b0de22b80a",
   "metadata": {
    "tags": []
   },
   "outputs": [],
   "source": [
    "ckg.view(heatidx_hist_day)"
   ]
  },
  {
   "cell_type": "markdown",
   "id": "53fc2cdf-c986-4971-8705-b90bcdffab7a",
   "metadata": {},
   "source": [
    "What about the projected trends?"
   ]
  },
  {
   "cell_type": "code",
   "execution_count": null,
   "id": "18c25ba3-4c3d-4207-b942-ad4a6a432e71",
   "metadata": {
    "tags": []
   },
   "outputs": [],
   "source": [
    "ckg.view(heatidx_proj_day)"
   ]
  },
  {
   "cell_type": "markdown",
   "id": "807e1390-e116-4675-bcf0-835ed1bc66bb",
   "metadata": {},
   "source": [
    "Compare the median historical and projected Heat Index values."
   ]
  },
  {
   "cell_type": "code",
   "execution_count": null,
   "id": "2b6a2a99-e597-4854-9c99-a0a74d8e1c9d",
   "metadata": {
    "tags": []
   },
   "outputs": [],
   "source": [
    "# what is the projected change in the median daily max heat index value?\n",
    "hi_hist = heatidx_hist_day.median().values\n",
    "hi_proj = heatidx_proj_day.median().values\n",
    "print(\"Historical median Heat Index: {:.2f}\".format(hi_hist))\n",
    "print(\"Projected median Heat Index: {:.2f}\".format(hi_proj))\n",
    "print(\n",
    "    \"The projected change in the median Heat Index value from historical is: {:.2f}°F\".format(\n",
    "        hi_proj - hi_hist\n",
    "    )\n",
    ")"
   ]
  },
  {
   "cell_type": "markdown",
   "id": "cd7bc8f4-5771-4d1f-b452-da7eca795467",
   "metadata": {},
   "source": [
    "### 4b) Compare the historical and projected number of days above the threshold"
   ]
  },
  {
   "cell_type": "code",
   "execution_count": null,
   "id": "68838f70-68f7-4fd8-891a-8118a320f87c",
   "metadata": {
    "tags": []
   },
   "outputs": [],
   "source": [
    "# calculate number of days above threshold\n",
    "num_heatidx_histdays = (\n",
    "    (heatidx_hist_day >= hi_threshold).groupby(\"time.year\").sum(\"time\")\n",
    ")\n",
    "num_heatidx_histdays.name = \"Days above Heat Index threshold of {}°F\".format(\n",
    "    hi_threshold\n",
    ")\n",
    "\n",
    "# calculate summary statistics\n",
    "num_heatidx_histdays_stats = compute_multimodel_stats(num_heatidx_histdays)"
   ]
  },
  {
   "cell_type": "markdown",
   "id": "e0faec19-0a27-49fd-a2d9-ef8bb09280b0",
   "metadata": {},
   "source": [
    "Let's visualize the trends:"
   ]
  },
  {
   "cell_type": "code",
   "execution_count": null,
   "id": "f90c91fe-d586-42ea-bc20-2d6aee9dc928",
   "metadata": {
    "tags": []
   },
   "outputs": [],
   "source": [
    "num_heatidx_histdays.hvplot.line(x=\"year\", by=\"simulation\", title=\"\") * trendline(\n",
    "    num_heatidx_histdays_stats, kind=\"median\"\n",
    ").hvplot.line(x=\"year\", color=\"black\", line_dash=\"dashed\", label=\"trendline\")"
   ]
  },
  {
   "cell_type": "markdown",
   "id": "8e4351d2-9c1c-474f-b53e-ad6a612a7648",
   "metadata": {},
   "source": [
    "Note, if you've modified the threshold to be a higher value, for example 105°F, if the per-model trends and the median trend return flat lines, this indicates that for this location, the Heat Index value has not exceeded the modified threshold in the modeled data.\n",
    "\n",
    "We'll now repeat the process for the projected data."
   ]
  },
  {
   "cell_type": "code",
   "execution_count": null,
   "id": "dd7b1427-daba-429c-a0e8-b385cd6b6789",
   "metadata": {
    "tags": []
   },
   "outputs": [],
   "source": [
    "# calculate number of days above the threshold\n",
    "num_heatidx_projdays = (\n",
    "    (heatidx_proj_day >= hi_threshold).groupby(\"time.year\").sum(\"time\")\n",
    ")\n",
    "num_heatidx_projdays.name = \"Days above Heat Index threshold of {}°F\".format(\n",
    "    hi_threshold\n",
    ")\n",
    "\n",
    "# calculate statistics\n",
    "num_heatidx_projdays_stats = compute_multimodel_stats(num_heatidx_projdays)"
   ]
  },
  {
   "cell_type": "code",
   "execution_count": null,
   "id": "41d76861-93b3-41f7-ba3c-22c772813745",
   "metadata": {
    "tags": []
   },
   "outputs": [],
   "source": [
    "# visualize results\n",
    "num_heatidx_projdays.hvplot.line(x=\"year\", by=\"simulation\", title=\"\") * trendline(\n",
    "    num_heatidx_projdays_stats, kind=\"median\"\n",
    ").hvplot.line(x=\"year\", color=\"black\", line_dash=\"dashed\", label=\"trendline\")"
   ]
  },
  {
   "cell_type": "markdown",
   "id": "d9519ea9-54ec-4023-89a8-057e5c10cfca",
   "metadata": {},
   "source": [
    "### 4c) Export the number of days above a threshold"
   ]
  },
  {
   "cell_type": "code",
   "execution_count": null,
   "id": "698f025f-6d81-43a8-9bd5-98dbda9e65a3",
   "metadata": {
    "tags": []
   },
   "outputs": [],
   "source": [
    "# table format with summary stats\n",
    "df_to_export = summary_table(num_heatidx_projdays_stats)\n",
    "df_to_export.head(5)  # see first 5 rows"
   ]
  },
  {
   "cell_type": "code",
   "execution_count": null,
   "id": "d0b730bc-cbd8-45b8-9e59-ea1575298550",
   "metadata": {
    "tags": []
   },
   "outputs": [],
   "source": [
    "fn = \"num_heatidx_projdays_stats_{}\".format(\n",
    "    station_name.replace(\" \", \"_\").replace(\"(\", \"\").replace(\")\", \"\")\n",
    ")\n",
    "df_to_export.to_csv(\"{}.csv\".format(fn))"
   ]
  },
  {
   "cell_type": "markdown",
   "id": "eb801c38-79a9-4c29-bec5-4336584601b2",
   "metadata": {},
   "source": [
    "**Note**: Any of the data variables that we've calculated throughout this notebook can be exported to .csv, like we've demonstrated throughout this notebook. Feel free to use this code to export any other variables of interest."
   ]
  },
  {
   "cell_type": "markdown",
   "id": "5c53d155-671b-4222-933e-37124ab15202",
   "metadata": {},
   "source": [
    "## Step 5: Export WRF data\n",
    "In the cell below we also provide the optionality to export the input WRF data too. We demonstrate with the historical hourly Heat Index values here, but you can replace `heatidx_hist_hour` with your dataset of choice, including `heatidx_proj_hour`!"
   ]
  },
  {
   "cell_type": "code",
   "execution_count": null,
   "id": "97bbfac7-eac7-4dbf-8fef-316e29d451d2",
   "metadata": {
    "tags": []
   },
   "outputs": [],
   "source": [
    "ck.export(heatidx_hist_hour, \"my_filename\", \"netcdf\")"
   ]
  }
 ],
 "metadata": {
  "kernelspec": {
   "display_name": "Python 3 (ipykernel)",
   "language": "python",
   "name": "python3"
  },
  "language_info": {
   "codemirror_mode": {
    "name": "ipython",
    "version": 3
   },
   "file_extension": ".py",
   "mimetype": "text/x-python",
   "name": "python",
   "nbconvert_exporter": "python",
   "pygments_lexer": "ipython3",
   "version": "3.12.7"
  }
 },
 "nbformat": 4,
 "nbformat_minor": 5
}
