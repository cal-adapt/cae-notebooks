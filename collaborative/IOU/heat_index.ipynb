{
 "cells": [
  {
   "cell_type": "markdown",
   "id": "ea212caf-71e6-49e7-b62a-6c8b4ef0e974",
   "metadata": {},
   "source": [
    "# Heat Index Applications\n",
    "This notebook walks through the [NOAA Heat Index](https://www.weather.gov/ama/heatindex) throughout an energy service territory using climate data projections in the Analytics Engine. \n",
    "\n",
    "To execute a given 'cell' of this notebook, place the cursor in the cell and press the 'play' icon, or simply press shift+enter together. Some cells will take longer to run, and you will see a [$\\ast$] to the left of the cell while AE is still working.\n",
    "\n",
    "**Intended Application**: As a user, I want to **<span style=\"color:#FF0000\">understand summer trends in Heat Index across my region</span>** by:\n",
    "1. Determining the historical and future trends of extreme heat\n",
    "2. Understanding the trend in the number of days of high Heat Index values"
   ]
  },
  {
   "cell_type": "markdown",
   "id": "daff84fa-f458-43af-b72a-dce185fd84f6",
   "metadata": {},
   "source": [
    "## Step 0: Set-up\n",
    "\n",
    "First, we'll import the python library [climakitae](https://github.com/cal-adapt/climakitae), our AE toolkit for climate data analysis, along with this specific functions from that library that we'll use in this notebook, as well as any other necessary python libraries to aid in analysis."
   ]
  },
  {
   "cell_type": "code",
   "execution_count": null,
   "id": "dd32d726-1ec9-4136-8c1e-4692a0eea0af",
   "metadata": {},
   "outputs": [],
   "source": [
    "import climakitae as ck\n",
    "import pandas as pd\n",
    "\n",
    "from climakitae.util.utils import read_csv_file"
   ]
  },
  {
   "cell_type": "markdown",
   "id": "c8aed519-86ff-4caf-86f1-a59d597cb60f",
   "metadata": {},
   "source": [
    "## Step 1: Get data across service territory\n",
    "\n",
    "#### 1a) Grab location of interest by latitude and longitude\n",
    "First we'll grab specific locations of interest, by using the latitude and longitude locations of the weather stations (approx 7 weather stations) throughout the service territory, and provide code to input a custom lat-lon location. Furthermore, we will **not** be retrieving the actual station data that is bias-corrected to that station for this example. At present bias-corrected station data on the Analytics Engine only provides air temperature as a variable, and for Heat Index we must also have either dew point temperature (coming soon!) or relative humidity. So for the time being, we will retrieve **non-bias corrected** data at the location of interest."
   ]
  },
  {
   "cell_type": "code",
   "execution_count": null,
   "id": "d80a22d3-263d-4d47-8031-a1d9515f92eb",
   "metadata": {
    "tags": []
   },
   "outputs": [],
   "source": [
    "# select data\n",
    "selections = ck.Select()\n",
    "\n",
    "selections.data_type = 'Gridded'\n",
    "selections.timescale = 'hourly'\n",
    "selections.variable_type='Derived Index'\n",
    "selections.variable='NOAA Heat Index'\n",
    "selections.resolution = '9 km'\n",
    "selections.time_slice = (1981, 2010)"
   ]
  },
  {
   "cell_type": "markdown",
   "id": "51db9824-fd69-4b6b-afa8-71033458a953",
   "metadata": {},
   "source": [
    "Will use Fresno as an example first. For example, the following stations are within PG&E area: Arcata, Red Bluff, Stockton, San Jose, Fresno, San Luis Obisbpo, Bakersfield."
   ]
  },
  {
   "cell_type": "code",
   "execution_count": null,
   "id": "1b78440b-7099-4416-9317-60e89ee7c1bd",
   "metadata": {
    "tags": []
   },
   "outputs": [],
   "source": [
    "from climakitae.core.paths import stations_csv_path\n",
    "wx_stns = read_csv_file(stations_csv_path, index_col=[0])\n",
    "wx_stns.head(5)"
   ]
  },
  {
   "cell_type": "code",
   "execution_count": null,
   "id": "9972811a-b418-4841-991e-849e502ac612",
   "metadata": {
    "tags": []
   },
   "outputs": [],
   "source": [
    "station_name = 'Fresno Yosemite International Airport (KFAT)'\n",
    "one_stn = wx_stns.loc[wx_stns['station'] == station_name]\n",
    "\n",
    "stn_lat = one_stn.LAT_Y.values[0]\n",
    "stn_lon = one_stn.LON_X.values[0]\n",
    "print(stn_lat, stn_lon)"
   ]
  },
  {
   "cell_type": "markdown",
   "id": "c041cb58-5951-454e-aeae-f6280331c477",
   "metadata": {},
   "source": [
    "If you would like to provide your own latitude and longitude coordinates, you can also customize the cell below and pass your own values. "
   ]
  },
  {
   "cell_type": "code",
   "execution_count": null,
   "id": "d3258596-3c08-476d-b9ad-ab69a604c747",
   "metadata": {},
   "outputs": [],
   "source": [
    "# stn_lat = YOUR_LAT_HERE\n",
    "# stn_lon = YOUR_LON_HERE"
   ]
  },
  {
   "cell_type": "markdown",
   "id": "d8b0e172-6423-4551-b207-f445ba24e16b",
   "metadata": {},
   "source": [
    "Next, we'll use the latitude and longitude values to retrieve the historical data at that gridcell. "
   ]
  },
  {
   "cell_type": "code",
   "execution_count": null,
   "id": "09fba876-5f97-4262-b80e-a5ceb226e8db",
   "metadata": {
    "tags": []
   },
   "outputs": [],
   "source": [
    "selections.latitude = (stn_lat - 0.05, stn_lat + 0.05)\n",
    "selections.longitude = (stn_lon - 0.05, stn_lon + 0.05)\n",
    "\n",
    "# because we're retrieving a single grid cell, we also take the area average\n",
    "selections.area_average = 'Yes'"
   ]
  },
  {
   "cell_type": "code",
   "execution_count": null,
   "id": "5fd3619f-d083-4e27-8b7a-c8a96367823e",
   "metadata": {
    "tags": []
   },
   "outputs": [],
   "source": [
    "heatidx_hist_hour = selections.retrieve()"
   ]
  },
  {
   "cell_type": "markdown",
   "id": "eadfdfab-57fa-4bf4-826e-ec264d97c935",
   "metadata": {},
   "source": [
    "Choose a set of months to subset the data by. As we are interested in high heat events, we'll grab the May through September months. You can customize which months you may want to look at by modifying the `month_subset` object in the next cell below. This also helps trim our data size down further, which will speed up future data loading."
   ]
  },
  {
   "cell_type": "code",
   "execution_count": null,
   "id": "011a8667-243d-4767-85a4-f02235aada43",
   "metadata": {
    "tags": []
   },
   "outputs": [],
   "source": [
    "month_subset = [5, 6, 7, 8, 9] # May, June, July, August, September\n",
    "heatidx_hist_hour = heatidx_hist_hour.isel(time = heatidx_hist_hour.time.dt.month.isin(month_subset))"
   ]
  },
  {
   "cell_type": "code",
   "execution_count": null,
   "id": "0f513d81-4563-48ba-b66d-da8799941a7c",
   "metadata": {},
   "outputs": [],
   "source": [
    "heatidx_hist_hour = ck.load(heatidx_hist_hour) # taking long time ~ 4 min, might wait until after establishing daily vals"
   ]
  },
  {
   "cell_type": "markdown",
   "id": "38c7eee8-510d-4166-82f2-9a0016efb15d",
   "metadata": {},
   "source": [
    "This data object `heatidx_hist` now represents hourly data throughout the summer. \n",
    "\n",
    "#### 1b) Calculate the daily max heat index to establish climatological trends\n",
    "From the hourly heat index data, we'll now calculate the daily maximum heat index value. It is important to note that we will calculate the daily max heat index from the hourly heat index data, rather than taking the daily max air temperature and the average relative humidity, which artificially inflates the daily heat index value. \n",
    "\n",
    "If the daily median heat index is more relevant to your needs, we also provide the option in the cell below to calculate this instead. "
   ]
  },
  {
   "cell_type": "code",
   "execution_count": null,
   "id": "8f37c278-b285-4599-8d4f-1ca8458af82b",
   "metadata": {},
   "outputs": [],
   "source": [
    "heatidx_hist_day = heatidx_hist_hour.resample(time='1D').max() # daily max\n",
    "# heatidx_hist_day = heatidx_hist_hour.resample(time='1D').median() # daily median"
   ]
  },
  {
   "cell_type": "markdown",
   "id": "dea35a78-b63c-4b61-ad0f-ee709fd76072",
   "metadata": {},
   "source": [
    "Let's visualize the historical trend: "
   ]
  },
  {
   "cell_type": "code",
   "execution_count": null,
   "id": "f99ee702-9dd0-404f-8b0c-b59adfac5c06",
   "metadata": {},
   "outputs": [],
   "source": [
    "ck.view(heatidx_hist_day)"
   ]
  },
  {
   "cell_type": "markdown",
   "id": "30df5679-25ff-42f0-8128-54e10ac33a37",
   "metadata": {},
   "source": [
    "In the plot above, we visualize the daily max heat index values through the historical summer period. You'll note that in Fresno, there are daily values below 80°F. [Heat Index](https://www.weather.gov/ama/heatindex) typically only becomes \"noticeable\" to people above 80°F in terms of heat safety caution. We'll return to this in Step 2. \n",
    "\n",
    "#### 1c) Retrieve and calculate the projected trends\n",
    "Next we will repeat the same data retrieval and daily max process as we did for the historical data so we can compare. "
   ]
  },
  {
   "cell_type": "code",
   "execution_count": null,
   "id": "7cd8294f-dc4e-4353-a132-f236c98fb4c9",
   "metadata": {
    "tags": []
   },
   "outputs": [],
   "source": [
    "selections.data_type = 'Gridded'\n",
    "selections.timescale = 'hourly'\n",
    "selections.variable_type='Derived Index'\n",
    "selections.variable='NOAA Heat Index'\n",
    "selections.scenario_historical = []\n",
    "selections.scenario_ssp = ['SSP 3-7.0 -- Business as Usual']\n",
    "selections.time_slice = (2040, 2070) # mid-century\n",
    "selections.latitude = (stn_lat - 0.05, stn_lat + 0.05)\n",
    "selections.longitude = (stn_lon - 0.05, stn_lon + 0.05)\n",
    "selections.area_average = 'Yes'"
   ]
  },
  {
   "cell_type": "code",
   "execution_count": null,
   "id": "4d20af18-a2d8-4707-b97b-ccf064bbfed0",
   "metadata": {
    "tags": []
   },
   "outputs": [],
   "source": [
    "heatidx_proj_hour = selections.retrieve()\n",
    "heatidx_proj_hour = heatidx_proj_hour.isel(time = heatidx_proj_hour.time.dt.month.isin(month_subset))\n",
    "heatidx_proj_hour = ck.load(heatidx_proj_hour) \n",
    "heatidx_proj_day = heatidx_proj_hour.resample(time='1D').max() # daily max"
   ]
  },
  {
   "cell_type": "markdown",
   "id": "1337394f-9ca2-4e24-9b91-c2ecd56b700c",
   "metadata": {},
   "source": [
    "Now, let's visualize the projected Heat Index:"
   ]
  },
  {
   "cell_type": "code",
   "execution_count": null,
   "id": "bfd41f7e-1183-4f3d-80a3-00fe60e4eaa6",
   "metadata": {
    "tags": []
   },
   "outputs": [],
   "source": [
    "ck.view(heatidx_proj_day)"
   ]
  },
  {
   "cell_type": "markdown",
   "id": "b50dde60-9d24-495e-9d8b-9a140d5b05c5",
   "metadata": {},
   "source": [
    "Compare the median historical and projected Heat Index values."
   ]
  },
  {
   "cell_type": "code",
   "execution_count": null,
   "id": "2709c7cb-9005-4d8f-8e5f-b37c0732d28f",
   "metadata": {
    "tags": []
   },
   "outputs": [],
   "source": [
    "# what is the projected median heat index value?\n",
    "hi_hist = heatidx_hist_day.median().values\n",
    "hi_proj = heatidx_proj_day.median().values\n",
    "print('Historical median HI: {:.2f}'.format(hi_hist))\n",
    "print('Projected median HI: {:.2f}'.format(hi_proj))\n",
    "print('The projected change in the median Heat Index value from historical is: {:.2f}°F'.\n",
    "      format(hi_proj - hi_hist))"
   ]
  },
  {
   "cell_type": "markdown",
   "id": "2f4e4b46-5312-47e5-99fc-95fec3d828cc",
   "metadata": {},
   "source": [
    "### Step 2: Calculate the number of days each year above a Heat Index threshold\n",
    "\n",
    "As we noted above, the Heat Index only \"kicks in\" once the Heat Index value is above 80°F: prolonged exposure to a heat index above 80°F becomes dangerous to many people and especially vulnerable communities. We'll now calculate the number of days in each year (i.e., the summer period only) that are above a specific threshold. Because there are specific thresholds used in the Heat Index [classification](https://www.noaa.gov/sites/default/files/2022-05/heatindex_chart_rh.pdfhttps://www.noaa.gov/sites/default/files/2022-05/heatindex_chart_rh.pdf) system, we'll reproduce the NOAA guidance below and we **strongly recommend** looking at multiple thresholds to understand Heat Index trends. We will start with 80°F.\n",
    "\n",
    "| Classification | Heat Index |\n",
    "|----------------|------------|\n",
    "| Caution | 80 - 90°F|\n",
    "| Extreme Caution | 90 - 103°F |\n",
    "| Danger | 103 - 124°F |\n",
    "| Extreme Danger | 125+°F |"
   ]
  },
  {
   "cell_type": "code",
   "execution_count": null,
   "id": "d56313aa-3ae1-4143-a5ab-5530699fd7fa",
   "metadata": {
    "tags": []
   },
   "outputs": [],
   "source": [
    "hi_threshold = 80 # degF"
   ]
  },
  {
   "cell_type": "code",
   "execution_count": null,
   "id": "68838f70-68f7-4fd8-891a-8118a320f87c",
   "metadata": {
    "tags": []
   },
   "outputs": [],
   "source": [
    "num_heatidx_histdays = (heatidx_hist_day >= hi_threshold).groupby('time.year').sum('time')"
   ]
  },
  {
   "cell_type": "markdown",
   "id": "e0faec19-0a27-49fd-a2d9-ef8bb09280b0",
   "metadata": {},
   "source": [
    "Before we visualize the historical trend, we'll calculate the multi-model median trend."
   ]
  },
  {
   "cell_type": "code",
   "execution_count": null,
   "id": "cf457fd9-62d3-4cbe-af75-74a8b3b3569f",
   "metadata": {
    "tags": []
   },
   "outputs": [],
   "source": [
    "def trendline_median(data):\n",
    "    '''Calculates trendline with the multi-model median'''\n",
    "    data = data.sel(simulation=\"simulation median\")\n",
    "    m, b = data.polyfit(dim='year', deg=1).polyfit_coefficients.values\n",
    "    trendline = m * data.year + b # y = mx + b\n",
    "    trendline.name = 'trendline'\n",
    "    return trendline"
   ]
  },
  {
   "cell_type": "code",
   "execution_count": null,
   "id": "6320d8b2-b20b-4650-b2ec-d5fe4a3bd276",
   "metadata": {
    "tags": []
   },
   "outputs": [],
   "source": [
    "sim_med = (num_heatidx_histdays.median(dim='simulation').assign_coords({\"simulation\": \"simulation median\"}).expand_dims(\"simulation\"))\n",
    "hist_trend = trendline_median(sim_med)"
   ]
  },
  {
   "cell_type": "markdown",
   "id": "57a2f756-c27f-49dd-8fb8-698d42a28028",
   "metadata": {},
   "source": [
    "Visualize the historical trend in the number of days of Heat Index values above our designated threshold"
   ]
  },
  {
   "cell_type": "code",
   "execution_count": null,
   "id": "f25946f0-4f05-46b1-b129-5e1135bd5396",
   "metadata": {
    "tags": []
   },
   "outputs": [],
   "source": [
    "num_heatidx_histdays.hvplot.line(x='year', by='simulation', ylabel='# of days above {}°F Heat Index'.format(hi_threshold)) *\\\n",
    "hist_trend.hvplot.line(x='year', color='black', line_dash='dashed', label='trendline')"
   ]
  },
  {
   "cell_type": "markdown",
   "id": "8e4351d2-9c1c-474f-b53e-ad6a612a7648",
   "metadata": {},
   "source": [
    "Note, if you've modified the threshold to be a higher value, for example 105°F, if the per-model trends and the median trend return flat lines, this indicates that for this location, the Heat Index value has not exceeded the modified threshold in the modeled data.\n",
    "\n",
    "We'll now repeat the process for the projected data."
   ]
  },
  {
   "cell_type": "code",
   "execution_count": null,
   "id": "dd7b1427-daba-429c-a0e8-b385cd6b6789",
   "metadata": {
    "tags": []
   },
   "outputs": [],
   "source": [
    "num_heatidx_projdays = (heatidx_proj_day >= hi_threshold).groupby('time.year').sum('time')"
   ]
  },
  {
   "cell_type": "code",
   "execution_count": null,
   "id": "bfd52f13-8112-496f-b34e-d05e46626c69",
   "metadata": {
    "tags": []
   },
   "outputs": [],
   "source": [
    "sim_med = (num_heatidx_projdays.median(dim='simulation').assign_coords({\"simulation\": \"simulation median\"}).expand_dims(\"simulation\"))\n",
    "proj_trend = trendline_median(sim_med)"
   ]
  },
  {
   "cell_type": "code",
   "execution_count": null,
   "id": "41d76861-93b3-41f7-ba3c-22c772813745",
   "metadata": {
    "tags": []
   },
   "outputs": [],
   "source": [
    "num_heatidx_projdays.hvplot.line(x='year', by='simulation', ylabel='# of days above {}°F Heat Index'.format(hi_threshold)) *\\\n",
    "proj_trend.hvplot.line(x='year', color='black', line_dash='dashed', label='trendline')"
   ]
  },
  {
   "cell_type": "markdown",
   "id": "83433596-3d67-4a68-8fb8-909e6e74e363",
   "metadata": {},
   "source": [
    "### Step 3: Export\n",
    "Export any variable of interest here for your needs."
   ]
  },
  {
   "cell_type": "code",
   "execution_count": null,
   "id": "46c9a285-9d87-49c8-a094-d013d6b0ec91",
   "metadata": {},
   "outputs": [],
   "source": [
    "fn = 'heat_index_{}'.format(station_name.replace(\" \", \"_\"))"
   ]
  },
  {
   "cell_type": "code",
   "execution_count": null,
   "id": "0108f445-710b-405c-b5c2-44c96c3c8edf",
   "metadata": {
    "tags": []
   },
   "outputs": [],
   "source": [
    "# example for daily/annual data\n",
    "ck.export(heatidx_hist_day, fn, 'CSV')"
   ]
  }
 ],
 "metadata": {
  "kernelspec": {
   "display_name": "Python 3 (ipykernel)",
   "language": "python",
   "name": "python3"
  },
  "language_info": {
   "codemirror_mode": {
    "name": "ipython",
    "version": 3
   },
   "file_extension": ".py",
   "mimetype": "text/x-python",
   "name": "python",
   "nbconvert_exporter": "python",
   "pygments_lexer": "ipython3",
   "version": "3.9.13"
  }
 },
 "nbformat": 4,
 "nbformat_minor": 5
}
