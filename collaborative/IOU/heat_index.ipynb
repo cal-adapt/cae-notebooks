{
 "cells": [
  {
   "cell_type": "markdown",
   "id": "ea212caf-71e6-49e7-b62a-6c8b4ef0e974",
   "metadata": {},
   "source": [
    "# Heat Index Applications\n",
    "This notebook walks through the [NOAA Heat Index](https://www.weather.gov/ama/heatindex) using climate data projections in the Analytics Engine. \n",
    "\n",
    "To execute a given 'cell' of this notebook, place the cursor in the cell and press the 'play' icon, or simply press shift+enter together. Some cells will take longer to run, and you will see a [$\\ast$] to the left of the cell while AE is still working.\n",
    "\n",
    "**Intended Application**: As a user, I want to **<span style=\"color:#FF0000\">understand trends in Heat Index across my region</span>** by:\n",
    "1. Calculating the number of hours per day throughout the year of high Heat Index values\n",
    "2. Understanding the trend in nighttime temperatures that are above an 80°F Heat Index\n",
    "3. Determining the historical and projected summer trends in extreme heat"
   ]
  },
  {
   "cell_type": "markdown",
   "id": "daff84fa-f458-43af-b72a-dce185fd84f6",
   "metadata": {},
   "source": [
    "## Step 0: Set-up\n",
    "\n",
    "First, we'll import the python library [climakitae](https://github.com/cal-adapt/climakitae), our AE toolkit for climate data analysis, along with this specific functions from that library that we'll use in this notebook, as well as any other necessary python libraries to aid in analysis."
   ]
  },
  {
   "cell_type": "code",
   "execution_count": null,
   "id": "dd32d726-1ec9-4136-8c1e-4692a0eea0af",
   "metadata": {
    "tags": []
   },
   "outputs": [],
   "source": [
    "import climakitae as ck\n",
    "import pandas as pd\n",
    "\n",
    "from climakitae.util.utils import read_csv_file, get_closest_gridcell, compute_multimodel_stats, trendline, summary_table"
   ]
  },
  {
   "cell_type": "markdown",
   "id": "c8aed519-86ff-4caf-86f1-a59d597cb60f",
   "metadata": {},
   "source": [
    "## Step 1: Select data\n",
    "\n",
    "### 1a) Grab location of interest by latitude and longitude\n",
    "First we'll grab specific locations of interest, by using the latitude and longitude locations of a weather station, and provide code to input a custom lat-lon location. Furthermore, we will **not** be retrieving the actual station data that is bias-corrected to that station for this example. At present bias-corrected station data on the Analytics Engine only provides air temperature as a variable, and for Heat Index we must also have either dew point temperature (coming soon!) or relative humidity. So for the time being, we will retrieve **non-bias corrected** data at the location of interest."
   ]
  },
  {
   "cell_type": "code",
   "execution_count": null,
   "id": "d80a22d3-263d-4d47-8031-a1d9515f92eb",
   "metadata": {
    "tags": []
   },
   "outputs": [],
   "source": [
    "# select historical data\n",
    "selections = ck.Select()\n",
    "\n",
    "selections.data_type = 'Gridded'\n",
    "selections.area_subset = 'CA Electric Load Serving Entities (IOU & POU)'\n",
    "selections.cached_area = ['Pacific Gas & Electric Company']\n",
    "selections.timescale = 'hourly'\n",
    "selections.variable_type = 'Derived Index'\n",
    "selections.variable = 'NOAA Heat Index'\n",
    "selections.resolution = '9 km'\n",
    "selections.time_slice = (1981, 2010)"
   ]
  },
  {
   "cell_type": "markdown",
   "id": "51db9824-fd69-4b6b-afa8-71033458a953",
   "metadata": {},
   "source": [
    "We will first look at the Fresno Airport weather station."
   ]
  },
  {
   "cell_type": "code",
   "execution_count": null,
   "id": "1b78440b-7099-4416-9317-60e89ee7c1bd",
   "metadata": {
    "tags": []
   },
   "outputs": [],
   "source": [
    "from climakitae.core.paths import stations_csv_path\n",
    "wx_stns = read_csv_file(stations_csv_path, index_col=[0])\n",
    "wx_stns.head(5)"
   ]
  },
  {
   "cell_type": "code",
   "execution_count": null,
   "id": "9972811a-b418-4841-991e-849e502ac612",
   "metadata": {
    "tags": []
   },
   "outputs": [],
   "source": [
    "station_name = 'Fresno Yosemite International Airport (KFAT)'\n",
    "one_stn = wx_stns.loc[wx_stns['station'] == station_name]\n",
    "\n",
    "stn_lat = one_stn.LAT_Y.values[0]\n",
    "stn_lon = one_stn.LON_X.values[0]\n",
    "print(stn_lat, stn_lon)"
   ]
  },
  {
   "cell_type": "markdown",
   "id": "c041cb58-5951-454e-aeae-f6280331c477",
   "metadata": {},
   "source": [
    "If you would like to provide your own latitude and longitude coordinates, you can also customize the cell below and pass your own values. However, if your location is outside of the default cached area (for example, we're looking at the PG&E service territory), you'll also need to reset the `selections.cached_area` to one that is more appropriate. You can check which options are available in the \"Subset the data by\" and \"Location selection\" dropdown menus in `selections.show()`."
   ]
  },
  {
   "cell_type": "code",
   "execution_count": null,
   "id": "d3258596-3c08-476d-b9ad-ab69a604c747",
   "metadata": {},
   "outputs": [],
   "source": [
    "# stn_lat = YOUR_LAT_HERE\n",
    "# stn_lon = YOUR_LON_HERE\n",
    "# selections.cached_area = [\"YOUR CHOICE HERE\"] # if different cached area from default"
   ]
  },
  {
   "cell_type": "markdown",
   "id": "d8b0e172-6423-4551-b207-f445ba24e16b",
   "metadata": {},
   "source": [
    "Next, we'll use the latitude and longitude values to retrieve the historical data at that gridcell. "
   ]
  },
  {
   "cell_type": "code",
   "execution_count": null,
   "id": "5fd3619f-d083-4e27-8b7a-c8a96367823e",
   "metadata": {
    "tags": []
   },
   "outputs": [],
   "source": [
    "heatidx_hist_hour = selections.retrieve()"
   ]
  },
  {
   "cell_type": "code",
   "execution_count": null,
   "id": "55e25ddd-b933-4b75-bcbe-31ecdb44b82a",
   "metadata": {},
   "outputs": [],
   "source": [
    "heatidx_hist_hour = get_closest_gridcell(heatidx_hist_hour, stn_lat, stn_lon)"
   ]
  },
  {
   "cell_type": "markdown",
   "id": "753706c6-85b7-4965-ae4e-ec884bd24d5f",
   "metadata": {},
   "source": [
    "Next, load the data into memory. Because we are loading the entire dataset, this will take about 5 minutes, hang tight!"
   ]
  },
  {
   "cell_type": "code",
   "execution_count": null,
   "id": "77dd5ea4-511a-4544-afee-896820f81a89",
   "metadata": {},
   "outputs": [],
   "source": [
    "heatidx_hist_hour = ck.load(heatidx_hist_hour)"
   ]
  },
  {
   "cell_type": "markdown",
   "id": "c7a632f0-78ca-484b-86eb-b133c0a955e7",
   "metadata": {},
   "source": [
    "### 1b) Retrieve the projected Heat Index data\n",
    "Next we will repeat the same data retrieval as we did for the historical data so we can compare. Like the historical data, retrieving the hourly projections data will also take a few minutes - hang tight!"
   ]
  },
  {
   "cell_type": "code",
   "execution_count": null,
   "id": "4a3d55fd-304f-482b-a9c7-04e7859b5db7",
   "metadata": {},
   "outputs": [],
   "source": [
    "# select future data\n",
    "selections.data_type = 'Gridded'\n",
    "selections.area_subset = 'CA Electric Load Serving Entities (IOU & POU)'\n",
    "selections.cached_area = ['Pacific Gas & Electric Company']\n",
    "selections.timescale = 'hourly'\n",
    "selections.variable_type='Derived Index'\n",
    "selections.variable='NOAA Heat Index'\n",
    "selections.resolution = '9 km'\n",
    "selections.scenario_historical = []\n",
    "selections.scenario_ssp = ['SSP 3-7.0 -- Business as Usual']\n",
    "selections.time_slice = (2040, 2070) # mid-century"
   ]
  },
  {
   "cell_type": "code",
   "execution_count": null,
   "id": "c3645ba5-3533-4cda-95ff-801f9f709d5e",
   "metadata": {},
   "outputs": [],
   "source": [
    "heatidx_proj_hour = selections.retrieve()\n",
    "heatidx_proj_hour = get_closest_gridcell(heatidx_proj_hour, stn_lat, stn_lon)"
   ]
  },
  {
   "cell_type": "markdown",
   "id": "ae6ef35a-85a0-4cb7-9aff-012f2d442edb",
   "metadata": {},
   "source": [
    "Now, we will load in the hourly heat index projections. Because we are loading the entire dataset, this will take a few minutes. Hang tight!"
   ]
  },
  {
   "cell_type": "code",
   "execution_count": null,
   "id": "17a332fd-e672-40c8-aea3-815640453153",
   "metadata": {},
   "outputs": [],
   "source": [
    "heatidx_proj_hour = ck.load(heatidx_proj_hour)"
   ]
  },
  {
   "cell_type": "markdown",
   "id": "ce9b05f0-b3fe-4d48-8164-4bb0fb41dd1f",
   "metadata": {},
   "source": [
    "## Step 2: Calculate the number of hours throughout the year above a threshold\n",
    "\n",
    "### 2a) Sum the hours per day\n",
    "\n",
    "Let's next determine what part of the day is above a Heat Index threshold, as well as how many hours in each day are above our designated threshold. The NOAA Heat Index  \"kicks in\" once the [NOAA Heat Index](https://www.noaa.gov/sites/default/files/2022-05/heatindex_chart_rh.pdf) value is above 80°F: prolonged exposure to a heat index above 80°F becomes dangerous to many people and especially vulnerable communities. The Occupational Safety and Health Administration (OSHA) uses the Heat Index to determine the risk of heat-related illness and protections for outdoor workers. Below are the [specific thresholds used by OSHA](https://www.nalc.org/workplace-issues/body/OSHA-Using-the-Heat-Index-A-Guide-for-Employers.pdf). We note that these values are slightly different than those used by the [NOAA Heat Index](https://www.noaa.gov/sites/default/files/2022-05/heatindex_chart_rh.pdf) system. We **strongly recommend** looking at multiple thresholds to understand Heat Index trends. \n",
    "\n",
    "| Classification | Heat Index |\n",
    "|----------------|------------|\n",
    "| Caution | <91°F |\n",
    "| Moderate | 91 - 103°F |\n",
    "| High | 103 - 115°F |\n",
    "| Very High to Extreme | 115+°F |\n",
    "\n",
    "We'll start with 80°F as our default threshold."
   ]
  },
  {
   "cell_type": "code",
   "execution_count": null,
   "id": "54d7f108-0d65-4306-b4d2-866d48ffa290",
   "metadata": {},
   "outputs": [],
   "source": [
    "hi_threshold = 80"
   ]
  },
  {
   "cell_type": "code",
   "execution_count": null,
   "id": "3e76e2c0-4f95-4424-972a-b1b1c079ead6",
   "metadata": {
    "tags": []
   },
   "outputs": [],
   "source": [
    "# counts the number of hours in each day above the heat index threshold\n",
    "num_heatidx_histhours = (heatidx_hist_hour >= hi_threshold).resample(time='1D').sum()\n",
    "num_heatidx_histhours.name = 'Hours per day above Heat Index threshold of {}°F'.format(hi_threshold)"
   ]
  },
  {
   "cell_type": "markdown",
   "id": "52685577-e904-4216-a320-82468d680e45",
   "metadata": {},
   "source": [
    "Let's identify one year to visualize the cycle in Heat Index temperatures. We are selecting 2000 here, but the commented out line of code below illustrates how to look at all of the data here. Just comment out the first line under visualize by adding a `#` symbol, and uncommenting the line below by removing the `#` symbol."
   ]
  },
  {
   "cell_type": "code",
   "execution_count": null,
   "id": "29d35f96-b811-4f7a-938f-1c54b40f1c15",
   "metadata": {
    "tags": []
   },
   "outputs": [],
   "source": [
    "data_one_year = num_heatidx_histhours.sel(time=\"2000\")\n",
    "\n",
    "# visualize\n",
    "data_one_year.hvplot.line(x='time', by='simulation') # a specific year\n",
    "# num_heatidx_histhours.hvplot.line(x='time', by='simulation') # all years"
   ]
  },
  {
   "cell_type": "markdown",
   "id": "5b38dd97-c64d-4f8b-8017-c606aefb80e4",
   "metadata": {},
   "source": [
    "Heat Index values above our selected threshold (default is 80°F) begin to pick up in March for Fresno, and tail off in November. While high Heat Index values are critical to know during the summer months, we should be aware of high Heat Index values throughout the entire year as well. \n",
    "\n",
    "### 2b) Sum the total hours per year\n",
    "It may also be useful to know how many hours in the entire year above the threshold to see the trends over time. We'll calculate this next."
   ]
  },
  {
   "cell_type": "code",
   "execution_count": null,
   "id": "9a93934d-d264-4d8a-a64e-8dde3c0e13fd",
   "metadata": {
    "tags": []
   },
   "outputs": [],
   "source": [
    "# sum per year\n",
    "num_heatidx_hist_hours_per_year = num_heatidx_histhours.groupby('time.year').sum('time')\n",
    "num_heatidx_hist_hours_per_year.name = 'Hours per year above Heat Index threshold of {}°F'.format(hi_threshold)"
   ]
  },
  {
   "cell_type": "code",
   "execution_count": null,
   "id": "0497314f-cac2-4082-89fe-244b6cf3f18b",
   "metadata": {
    "tags": []
   },
   "outputs": [],
   "source": [
    "# visualize\n",
    "num_heatidx_hist_hours_per_year.hvplot.line(x='year', by='simulation')"
   ]
  },
  {
   "cell_type": "markdown",
   "id": "f0580381-cfc6-4840-88a1-1f4dea634a0b",
   "metadata": {},
   "source": [
    "For context, there are 8760 hours in a year. Let's also look at the future data to understand the projected trends in the number of high Heat Index hours per year. \n",
    "\n",
    "In the following cells, we'll do all of the computation above in a single go, to condense the number of cells to run. You don't need to modify anything, unless you made changes above. "
   ]
  },
  {
   "cell_type": "code",
   "execution_count": null,
   "id": "39dc6988-6107-42bb-af55-9585fe94e546",
   "metadata": {
    "tags": []
   },
   "outputs": [],
   "source": [
    "# counts the number of hours in each day above the heat index threshold\n",
    "num_heatidx_projhours = (heatidx_proj_hour >= hi_threshold).resample(time='1D').sum()\n",
    "num_heatidx_projhours.name = 'Hours per day above Heat Index threshold of {}°F'.format(hi_threshold)\n",
    "\n",
    "# sum per year\n",
    "num_heatidx_proj_hours_per_year = num_heatidx_projhours.groupby('time.year').sum('time')\n",
    "num_heatidx_proj_hours_per_year.name = 'Hours per year above Heat Index threshold of {}°F'.format(hi_threshold)"
   ]
  },
  {
   "cell_type": "code",
   "execution_count": null,
   "id": "d6b58caa-4c1d-4dd5-a915-00fed9877366",
   "metadata": {},
   "outputs": [],
   "source": [
    "# visualize\n",
    "num_heatidx_proj_hours_per_year.hvplot.line(x='year', by='simulation')"
   ]
  },
  {
   "cell_type": "markdown",
   "id": "5f5f571d-a8c9-472a-8dd8-736136b3da12",
   "metadata": {},
   "source": [
    "### 2c) Export counts of hours per year\n",
    "First we'll calculate summary statistics for our data object with a handy function `compute_multimodel_stats`, which will provide the min, max, mean, and median. We'll also use a helper function `summary_table` which will transform our data objects into an easy to read dataframe table."
   ]
  },
  {
   "cell_type": "code",
   "execution_count": null,
   "id": "1a6e222b-dbeb-46c8-b712-7d101e940d39",
   "metadata": {
    "tags": []
   },
   "outputs": [],
   "source": [
    "# calculate statistics\n",
    "num_heatidx_hist_hours_per_year = compute_multimodel_stats(num_heatidx_hist_hours_per_year)\n",
    "\n",
    "# table format with summary stats\n",
    "df_to_export = summary_table(num_heatidx_hist_hours_per_year)\n",
    "df_to_export.head(5) # see first 5 rows"
   ]
  },
  {
   "cell_type": "code",
   "execution_count": null,
   "id": "ce7764ff-e21f-4329-aacc-5852bb84864d",
   "metadata": {
    "tags": []
   },
   "outputs": [],
   "source": [
    "fn = 'num_heatidx_hours_per_year_{}'.format(station_name.replace(\" \", \"_\").replace(\"(\", \"\").replace(\")\", \"\"))\n",
    "df_to_export.to_csv('{}.csv'.format(fn))"
   ]
  },
  {
   "cell_type": "markdown",
   "id": "51aacf65-79b7-493f-bc01-9a1ff921ff57",
   "metadata": {},
   "source": [
    "## Step 3: Understand trends in nighttime temperatures\n",
    "Next we'll look specifically at nighttime temperatures in order to assess when it may be too hot outside for worker safety and for assets to cool down. \n",
    "\n",
    "### 3a) Subset for nighttime hours\n",
    "First, let's subset our hourly Heat Index data specifically for the nighttime hours. We will use 8pm-6am as \"nighttime\", but you can modify based on your needs as well. **Note:** The WRF data on the Cal-Adapt: Analytics Engine is in UTC time, and not in the local timezone. Timezone conversion functionality is currently in development and this notebook will be updated once available. For reference, California is -8 UTC (or -7 UTC when in Daylight Savings)."
   ]
  },
  {
   "cell_type": "code",
   "execution_count": null,
   "id": "9194b378-0a2c-4d2e-903e-039108305de9",
   "metadata": {},
   "outputs": [],
   "source": [
    "# help for modifications \n",
    "# 8pm Pacific is 3am UTC (0300 UTC), which is index 2\n",
    "# 6am Pacific is 1pm UTC (1300 UTC), which is index 12\n",
    "\n",
    "night_subset = [2, 3, 4, 5, 6, 7, 8, 9, 10, 11, 12] # currently in UTC time\n",
    "heatidx_hist_nighthours = heatidx_hist_hour.isel(time=heatidx_hist_hour.time.dt.hour.isin(night_subset))"
   ]
  },
  {
   "cell_type": "markdown",
   "id": "ea99725a-44f0-4b2e-81a0-b4b73750a403",
   "metadata": {},
   "source": [
    "### 3b) Sum the number of nights above a threshold of 80°F per day and per year\n",
    "Like what we did above in Step 2a and 2b, we'll sum the nighttime Heat Index values for analysis. We'll use the same threshold as above, 80°F. But you can modify easily by setting this to any value of interest."
   ]
  },
  {
   "cell_type": "code",
   "execution_count": null,
   "id": "6a845b92-d1c9-4b97-9936-98b6df649291",
   "metadata": {},
   "outputs": [],
   "source": [
    "# sum per day\n",
    "num_heatidx_hist_nighthours = (heatidx_hist_nighthours >= hi_threshold).resample(time='1D').sum()\n",
    "num_heatidx_hist_nighthours.name = 'Nighttime hours per day above Heat Index threshold of {}°F'.format(hi_threshold)"
   ]
  },
  {
   "cell_type": "code",
   "execution_count": null,
   "id": "0b92fb40-c27e-4425-9599-b303d1a2a7ed",
   "metadata": {
    "tags": []
   },
   "outputs": [],
   "source": [
    "# visualize\n",
    "num_heatidx_hist_nighthours.hvplot.line(x='time', by='simulation')"
   ]
  },
  {
   "cell_type": "code",
   "execution_count": null,
   "id": "a651e804-0c0e-42e0-bc91-830b4e6296d7",
   "metadata": {},
   "outputs": [],
   "source": [
    "# sum per year\n",
    "num_heatidx_hist_nighthours_per_year = num_heatidx_hist_nighthours.groupby('time.year').sum('time')\n",
    "num_heatidx_hist_nighthours_per_year.name = 'Nighttime hours per year above Heat Index threshold of {}°F'.format(hi_threshold)"
   ]
  },
  {
   "cell_type": "code",
   "execution_count": null,
   "id": "9f9f5948-cf50-44f7-869d-cf7c3745dd3b",
   "metadata": {
    "tags": []
   },
   "outputs": [],
   "source": [
    "# visualize\n",
    "num_heatidx_hist_nighthours_per_year.hvplot.line(x='year', by='simulation')"
   ]
  },
  {
   "cell_type": "markdown",
   "id": "6ea6d794-e36c-449d-9b60-8f430cb6f7f5",
   "metadata": {},
   "source": [
    "We'll calculate the same steps for the projected future data, but won't visualize, just in case you need this information."
   ]
  },
  {
   "cell_type": "code",
   "execution_count": null,
   "id": "eb827328-6870-4730-9683-833d30db10a9",
   "metadata": {},
   "outputs": [],
   "source": [
    "# subset for nighttime hours\n",
    "heatidx_proj_nighthours = heatidx_proj_hour.isel(time=heatidx_proj_hour.time.dt.hour.isin(night_subset))\n",
    "\n",
    "# sum per day\n",
    "num_heatidx_proj_nighthours = (heatidx_proj_nighthours >= hi_threshold).resample(time='1D').sum()\n",
    "num_heatidx_proj_nighthours.name = 'Nighttime hours per day above Heat Index threshold of {}°F'.format(hi_threshold)\n",
    "\n",
    "# sum per year\n",
    "num_heatidx_proj_nighthours_per_year = num_heatidx_proj_nighthours.groupby('time.year').sum('time')\n",
    "num_heatidx_proj_nighthours_per_year.name = 'Nighttime hours per year above Heat Index threshold of {}°F'.format(hi_threshold)"
   ]
  },
  {
   "cell_type": "markdown",
   "id": "05ceae22-ce93-4f6f-bc6d-5910f4c71d6e",
   "metadata": {},
   "source": [
    "### 3c) Export counts of nighttime temps per year\n",
    "\n",
    "Similar to Step 2c, we'll export next. "
   ]
  },
  {
   "cell_type": "code",
   "execution_count": null,
   "id": "cca1a486-a895-4512-91f5-1065371d4898",
   "metadata": {
    "tags": []
   },
   "outputs": [],
   "source": [
    "# calculate summary stats\n",
    "num_heatidx_hist_nighthours_per_year = compute_multimodel_stats(num_heatidx_hist_nighthours_per_year)\n",
    "\n",
    "# table format with summary stats\n",
    "df_to_export = summary_table(num_heatidx_hist_nighthours_per_year)\n",
    "df_to_export.head(5) # see first 5 rows"
   ]
  },
  {
   "cell_type": "code",
   "execution_count": null,
   "id": "75795d34-452b-4761-a67d-52a782173d88",
   "metadata": {},
   "outputs": [],
   "source": [
    "fn = 'num_heatidx_nighthours_per_year_{}'.format(station_name.replace(\" \", \"_\").replace(\"(\", \"\").replace(\")\", \"\"))\n",
    "df_to_export.to_csv('{}.csv'.format(fn))"
   ]
  },
  {
   "cell_type": "markdown",
   "id": "2f4e4b46-5312-47e5-99fc-95fec3d828cc",
   "metadata": {},
   "source": [
    "## Step 4: Summarize the long term trends\n",
    "\n",
    "### 4a) Calculate the number of days in each year above a Heat Index threshold\n",
    "\n",
    "Using the [OSHA thresholds we noted above](https://www.nalc.org/workplace-issues/body/OSHA-Using-the-Heat-Index-A-Guide-for-Employers.pdf), we'll now look at a threshold of 91°F. Again, we **strongly recommend** looking at multiple thresholds to understand Heat Index trends. We **strongly recommend** looking at multiple thresholds to understand Heat Index trends. "
   ]
  },
  {
   "cell_type": "code",
   "execution_count": null,
   "id": "d56313aa-3ae1-4143-a5ab-5530699fd7fa",
   "metadata": {
    "tags": []
   },
   "outputs": [],
   "source": [
    "hi_threshold = 91 # degF"
   ]
  },
  {
   "cell_type": "markdown",
   "id": "ae7b5f7f-4fc7-497a-b048-d1a51a698cb0",
   "metadata": {},
   "source": [
    "If you would like to look at a specific month or season, uncomment the next cell below. We are going to look at the entire year, and leave this cell commented out. You can also skip the next cell entirely if you want to retain information throughout the entire year. "
   ]
  },
  {
   "cell_type": "code",
   "execution_count": null,
   "id": "68794242-fb58-47d2-9584-036c5a36f32a",
   "metadata": {
    "tags": []
   },
   "outputs": [],
   "source": [
    "# month_subset = [5, 6, 7, 8, 9] # May, June, July, August, September\n",
    "# heatidx_hist_hour = heatidx_hist_hour.isel(time = heatidx_hist_hour.time.dt.month.isin(month_subset)) # historical\n",
    "# heatidx_proj_hour = heatidx_proj_hour.isel(time = heatidx_proj_hour.time.dt.month.isin(month_subset)) # future"
   ]
  },
  {
   "cell_type": "markdown",
   "id": "764c46d6-ce85-403b-9a2d-391abbd4bbe7",
   "metadata": {},
   "source": [
    "From the hourly Heat Index data, we'll now calculate the daily maximum heat index value. It is important to note that we will calculate the daily max heat index from the hourly heat index data, rather than taking the daily max air temperature and the average relative humidity, which artificially inflates the daily heat index value. \n",
    "\n",
    "If the daily median heat index is more relevant to your needs, we also provide the option in the cell below to calculate this instead. "
   ]
  },
  {
   "cell_type": "code",
   "execution_count": null,
   "id": "7a479030-0f8c-4b62-9b4c-d61d5363d1b6",
   "metadata": {},
   "outputs": [],
   "source": [
    "# historical\n",
    "heatidx_hist_day = heatidx_hist_hour.resample(time='1D').max() # daily max\n",
    "# heatidx_hist_day = heatidx_hist_hour.resample(time='1D').median() # daily median\n",
    "\n",
    "# future\n",
    "heatidx_proj_day = heatidx_proj_hour.resample(time='1D').max() # daily max\n",
    "# heatidx_proj_day = heatidx_proj_hour.resample(time='1D').median() # daily median"
   ]
  },
  {
   "cell_type": "markdown",
   "id": "d3fd8414-78e5-442f-9a95-d7afabeeb4a6",
   "metadata": {},
   "source": [
    "Let's visualize the historical trends next. "
   ]
  },
  {
   "cell_type": "code",
   "execution_count": null,
   "id": "e84cc213-a1d7-40dc-9c4c-f6b0de22b80a",
   "metadata": {},
   "outputs": [],
   "source": [
    "ck.view(heatidx_hist_day)"
   ]
  },
  {
   "cell_type": "markdown",
   "id": "807e1390-e116-4675-bcf0-835ed1bc66bb",
   "metadata": {},
   "source": [
    "Compare the median historical and projected Heat Index values."
   ]
  },
  {
   "cell_type": "code",
   "execution_count": null,
   "id": "2b6a2a99-e597-4854-9c99-a0a74d8e1c9d",
   "metadata": {
    "tags": []
   },
   "outputs": [],
   "source": [
    "# what is the projected change in the median daily max heat index value?\n",
    "hi_hist = heatidx_hist_day.median().values\n",
    "hi_proj = heatidx_proj_day.median().values\n",
    "print('Historical median Heat Index: {:.2f}'.format(hi_hist))\n",
    "print('Projected median Heat Index: {:.2f}'.format(hi_proj))\n",
    "print('The projected change in the median Heat Index value from historical is: {:.2f}°F'.\n",
    "      format(hi_proj - hi_hist))"
   ]
  },
  {
   "cell_type": "markdown",
   "id": "cd7bc8f4-5771-4d1f-b452-da7eca795467",
   "metadata": {},
   "source": [
    "### 4b) Calculate the number of days above the threshold"
   ]
  },
  {
   "cell_type": "code",
   "execution_count": null,
   "id": "68838f70-68f7-4fd8-891a-8118a320f87c",
   "metadata": {
    "tags": []
   },
   "outputs": [],
   "source": [
    "# calculate number of days above threshold\n",
    "num_heatidx_histdays = (heatidx_hist_day >= hi_threshold).groupby('time.year').sum('time')\n",
    "num_heatidx_histdays.name = 'Days above Heat Index threshold of {}°F'.format(hi_threshold)\n",
    "\n",
    "# calculate summary statistics\n",
    "num_heatidx_histdays_stats = compute_multimodel_stats(num_heatidx_histdays)"
   ]
  },
  {
   "cell_type": "markdown",
   "id": "e0faec19-0a27-49fd-a2d9-ef8bb09280b0",
   "metadata": {},
   "source": [
    "Let's visualize the trends:"
   ]
  },
  {
   "cell_type": "code",
   "execution_count": null,
   "id": "f90c91fe-d586-42ea-bc20-2d6aee9dc928",
   "metadata": {
    "tags": []
   },
   "outputs": [],
   "source": [
    "num_heatidx_histdays.hvplot.line(x='year', by='simulation', title='') *\\\n",
    "trendline(num_heatidx_histdays_stats, kind='median').hvplot.line(x='year', color='black', line_dash='dashed', label='trendline')"
   ]
  },
  {
   "cell_type": "markdown",
   "id": "8e4351d2-9c1c-474f-b53e-ad6a612a7648",
   "metadata": {},
   "source": [
    "Note, if you've modified the threshold to be a higher value, for example 105°F, if the per-model trends and the median trend return flat lines, this indicates that for this location, the Heat Index value has not exceeded the modified threshold in the modeled data.\n",
    "\n",
    "We'll now repeat the process for the projected data."
   ]
  },
  {
   "cell_type": "code",
   "execution_count": null,
   "id": "dd7b1427-daba-429c-a0e8-b385cd6b6789",
   "metadata": {
    "tags": []
   },
   "outputs": [],
   "source": [
    "# calculate number of days above the threshold\n",
    "num_heatidx_projdays = (heatidx_proj_day >= hi_threshold).groupby('time.year').sum('time')\n",
    "num_heatidx_projdays.name = 'Days above Heat Index threshold of {}°F'.format(hi_threshold)\n",
    "\n",
    "# calculate statistics\n",
    "num_heatidx_projdays_stats = compute_multimodel_stats(num_heatidx_projdays)"
   ]
  },
  {
   "cell_type": "code",
   "execution_count": null,
   "id": "41d76861-93b3-41f7-ba3c-22c772813745",
   "metadata": {
    "tags": []
   },
   "outputs": [],
   "source": [
    "# visualize results\n",
    "num_heatidx_projdays.hvplot.line(x='year', by='simulation', title='') *\\\n",
    "trendline(num_heatidx_projdays_stats, kind='median').hvplot.line(x='year', color='black', line_dash='dashed', label='trendline')"
   ]
  },
  {
   "cell_type": "markdown",
   "id": "d9519ea9-54ec-4023-89a8-057e5c10cfca",
   "metadata": {},
   "source": [
    "### 4c) Calculate the number of Heat Index days per month\n",
    "Alternatively, let's determine the number of days per month with Heat Index values above the threshold, as this may be useful for seasonal information. We'll be using the daily maximum Heat Index data."
   ]
  },
  {
   "cell_type": "code",
   "execution_count": null,
   "id": "698f025f-6d81-43a8-9bd5-98dbda9e65a3",
   "metadata": {
    "tags": []
   },
   "outputs": [],
   "source": [
    "num_heatidx_histmonths = (heatidx_hist_day >= hi_threshold).resample(time='1M').sum()\n",
    "num_heatidx_histmonths.name = 'Days per month above Heat Index threshold of {}°F'.format(hi_threshold)"
   ]
  },
  {
   "cell_type": "code",
   "execution_count": null,
   "id": "d0b730bc-cbd8-45b8-9e59-ea1575298550",
   "metadata": {
    "tags": []
   },
   "outputs": [],
   "source": [
    "num_heatidx_histmonths.hvplot.line(x='time', by='simulation')"
   ]
  },
  {
   "cell_type": "markdown",
   "id": "3889ae2b-557f-46a4-853a-06ee96901981",
   "metadata": {},
   "source": [
    "### 4d) Export summer counts of days per year\n",
    "\n",
    "Like steps 2c and 3c, we'll calculate the min, max, mean, and median trends and format a table for easy export. "
   ]
  },
  {
   "cell_type": "code",
   "execution_count": null,
   "id": "a3e08238-91cb-403b-b23f-ed2df3dd3060",
   "metadata": {
    "tags": []
   },
   "outputs": [],
   "source": [
    "# calculate summary stats\n",
    "num_heatidx_histdays_stats = compute_multimodel_stats(num_heatidx_histdays_stats)\n",
    "\n",
    "# table format with summary stats\n",
    "df_to_export = summary_table(num_heatidx_histdays_stats)\n",
    "df_to_export.head(5) # see first 5 rows"
   ]
  },
  {
   "cell_type": "code",
   "execution_count": null,
   "id": "39496d77-9e76-435d-a602-9fbb74cba462",
   "metadata": {},
   "outputs": [],
   "source": [
    "fn = 'num_heatidx_histdays_{}'.format(station_name.replace(\" \", \"_\").replace(\"(\", \"\").replace(\")\", \"\"))\n",
    "df_to_export.to_csv('{}.csv'.format(fn))"
   ]
  },
  {
   "cell_type": "markdown",
   "id": "eb801c38-79a9-4c29-bec5-4336584601b2",
   "metadata": {},
   "source": [
    "**Note**: Any of the data variables that we've calculated throughout this notebook can be exported! "
   ]
  },
  {
   "cell_type": "code",
   "execution_count": null,
   "id": "a9ec73ec-41fc-4fc0-bdea-8b6b0732476c",
   "metadata": {},
   "outputs": [],
   "source": []
  }
 ],
 "metadata": {
  "kernelspec": {
   "display_name": "Python 3 (ipykernel)",
   "language": "python",
   "name": "python3"
  },
  "language_info": {
   "codemirror_mode": {
    "name": "ipython",
    "version": 3
   },
   "file_extension": ".py",
   "mimetype": "text/x-python",
   "name": "python",
   "nbconvert_exporter": "python",
   "pygments_lexer": "ipython3",
   "version": "3.9.13"
  }
 },
 "nbformat": 4,
 "nbformat_minor": 5
}
