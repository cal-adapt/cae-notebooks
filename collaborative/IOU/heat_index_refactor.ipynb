{
 "cells": [
  {
   "cell_type": "markdown",
   "id": "21a1e9df-f4d7-4a12-b125-6e838b393965",
   "metadata": {},
   "source": [
    "# Heat Index Applications \n",
    "\n",
    "This notebook walks through the [NOAA Heat Index](https://www.weather.gov/ama/heatindex) using climate data projections in the Analytics Engine. \n",
    "\n",
    "To execute a given 'cell' of this notebook, place the cursor in the cell and press the 'play' icon, or simply press shift+enter together. Some cells will take longer to run, and you will see a [$\\ast$] to the left of the cell while AE is still working.\n",
    "\n",
    "**Intended Application**: As a user, I want to **<span style=\"color:#FF0000\">understand trends in Heat Index across my region</span>** by:\n",
    "1. Calculating the number of hours per day throughout the year of high Heat Index values\n",
    "2. Understanding the trend in nighttime temperatures that are above an 80°F Heat Index\n",
    "3. Determining the historical and projected number of days with a high Heat Index per month\n",
    "\n",
    "**Runtime**: With the default settings, this notebook takes approximately **8 minutes** to run from start to finish. Modifications to selections may increase the runtime. "
   ]
  },
  {
   "cell_type": "markdown",
   "id": "5431db4a-e438-42d4-b29b-0f731fd58e2f",
   "metadata": {},
   "source": [
    "## About the heat index data"
   ]
  },
  {
   "cell_type": "markdown",
   "id": "e6ecd0df-9f29-4342-9496-d145f819c93f",
   "metadata": {},
   "source": [
    "The heat index is calculated on-the-fly when get_data() is run. The methodolgy for computing heat index follows the NOAA heat index equation ([click here to visit NOAA Heat Index page](https://www.wpc.ncep.noaa.gov/html/heatindex_equation.shtml)). The source code for this calculation can be found in the climakitae tools module ([click here to see source code](https://github.com/cal-adapt/climakitae/blob/main/climakitae/tools/indices.py#L48)). "
   ]
  },
  {
   "cell_type": "markdown",
   "id": "57675eed-514a-41db-83fe-bc3297bb2ea1",
   "metadata": {},
   "source": [
    "## Step 0: Set-up\n",
    "\n",
    "First, we'll import the python library [climakitae](https://github.com/cal-adapt/climakitae), our AE toolkit for climate data analysis, along with this specific functions from that library that we'll use in this notebook, as well as any other necessary python libraries to aid in analysis."
   ]
  },
  {
   "cell_type": "code",
   "execution_count": null,
   "id": "b96755a7-23f0-4a28-81b3-0b0cf2ee6e6b",
   "metadata": {},
   "outputs": [],
   "source": [
    "import climakitae as ck\n",
    "import climakitaegui as ckg\n",
    "import pandas as pd\n",
    "import panel as pn\n",
    "\n",
    "pn.extension()\n",
    "\n",
    "from climakitae.util.utils import (\n",
    "    read_csv_file,\n",
    "    get_closest_gridcell,\n",
    "    compute_multimodel_stats,\n",
    "    trendline,\n",
    "    summary_table,\n",
    "    convert_to_local_time,\n",
    ")\n",
    "\n",
    "from climakitae.core.data_interface import get_data"
   ]
  },
  {
   "cell_type": "markdown",
   "id": "87f4aa9a-10c2-46ed-a4f9-5f0a418ade30",
   "metadata": {},
   "source": [
    "## Step 1: Select data\n",
    "\n",
    "### 1a) Grab location of interest by latitude and longitude\n",
    "First we'll grab specific locations of interest, by using the latitude and longitude of a weather station, and provide code to input a custom lat-lon location. Furthermore, we will **not** be retrieving the actual station data that is bias-corrected to that station for this example. At present bias-corrected station data on the Analytics Engine only provides air temperature as a variable, and for Heat Index we must also have either dew point temperature (coming soon!) or relative humidity. So for the time being, we will retrieve **non-bias corrected** data at the location of interest.\n",
    "\n",
    "Note: For demonstration purposes we are selecting only ten years of data, plus an extra year that will be lost after converting to local time. We recomend using a longer period (at least 30 years) for conducting a scientific analysis."
   ]
  },
  {
   "cell_type": "code",
   "execution_count": null,
   "id": "4635375c-361a-41a6-a495-f70321e95971",
   "metadata": {
    "scrolled": true
   },
   "outputs": [],
   "source": [
    "# select historical data\n",
    "heatidx_hist_hour = get_data(\n",
    "    variable=\"NOAA Heat Index\",\n",
    "    resolution=\"9 km\",\n",
    "    timescale=\"hourly\",\n",
    "    data_type=\"Gridded\",\n",
    "    area_subset=\"CA Electric Load Serving Entities (IOU & POU)\",\n",
    "    cached_area=[\"Pacific Gas & Electric Company\"],\n",
    "    scenario=[\"Historical Climate\"],\n",
    "    time_slice=(1981, 1991),  # Short period for quick demonstration\n",
    ")"
   ]
  },
  {
   "cell_type": "markdown",
   "id": "64236b9c-ccd7-451f-b12a-b2b5c081ec98",
   "metadata": {},
   "source": [
    "We will first look at the Fresno Airport weather station."
   ]
  },
  {
   "cell_type": "code",
   "execution_count": null,
   "id": "816756ec-562e-47a1-b57b-c16dd56b368c",
   "metadata": {},
   "outputs": [],
   "source": [
    "from climakitae.core.paths import stations_csv_path\n",
    "\n",
    "wx_stns = read_csv_file(stations_csv_path, index_col=[0])\n",
    "wx_stns.head(5)"
   ]
  },
  {
   "cell_type": "code",
   "execution_count": null,
   "id": "9805c333-0dca-4308-b4fc-d81bf5a9024e",
   "metadata": {},
   "outputs": [],
   "source": [
    "station_name = \"Bakersfield Meadows Field (KBFL)\"\n",
    "one_stn = wx_stns.loc[wx_stns[\"station\"] == station_name]\n",
    "\n",
    "stn_lat = one_stn.LAT_Y.values[0]\n",
    "stn_lon = one_stn.LON_X.values[0]\n",
    "print(stn_lat, stn_lon)"
   ]
  },
  {
   "cell_type": "markdown",
   "id": "bc464eea-0792-47e8-b044-f29cff03c68d",
   "metadata": {},
   "source": [
    "If you would like to provide your own latitude and longitude coordinates, you can also customize the cell below and pass your own values. However, if your location is outside of the default cached area (for example, we're looking at the PG&E service territory), you'll also need to reset the `selections.cached_area` to one that is more appropriate. You can check which options are available in the \"Subset the data by\" and \"Location selection\" dropdown menus in `selections.show()`."
   ]
  },
  {
   "cell_type": "code",
   "execution_count": null,
   "id": "8e552747-6f9a-40c4-a274-bdeb16bb47a7",
   "metadata": {},
   "outputs": [],
   "source": [
    "# stn_lat = YOUR_LAT_HERE\n",
    "# stn_lon = YOUR_LON_HERE\n",
    "# selections.cached_area = [\"YOUR CHOICE HERE\"] # if different cached area from default"
   ]
  },
  {
   "cell_type": "markdown",
   "id": "67753e36-b024-4796-b434-dc3b33f045ba",
   "metadata": {},
   "source": [
    "Now, we'll use the latitude and longitude values to retrieve the historical data at that gridcell. "
   ]
  },
  {
   "cell_type": "code",
   "execution_count": null,
   "id": "d48e5e8a-6575-45c8-a13b-b96485801779",
   "metadata": {},
   "outputs": [],
   "source": [
    "heatidx_hist_hour = get_closest_gridcell(heatidx_hist_hour, stn_lat, stn_lon)"
   ]
  },
  {
   "cell_type": "markdown",
   "id": "53a4b27a-b398-4c2a-ac72-1576ec04bf15",
   "metadata": {},
   "source": [
    "Now we load the data into memory. This step is quick for the small sample dataset used in the demo, but may take several minutes for larger datasets."
   ]
  },
  {
   "cell_type": "code",
   "execution_count": null,
   "id": "58d97793-d566-4683-ad2a-62e9cb81953d",
   "metadata": {},
   "outputs": [],
   "source": [
    "heatidx_hist_hour = ck.load(heatidx_hist_hour)"
   ]
  },
  {
   "cell_type": "markdown",
   "id": "93aad4a1-42e5-44b5-8217-72d44bc5dbec",
   "metadata": {},
   "source": [
    "Finally, we convert the data's time axis to use the local time of the selected station. The dynamically downscaled WRF data in the Cal-Adapt: Analytics Engine is in UTC time. Using the local time is particularly important for determining the timing of the daily maximum and minimum temperatures. For a station located in Pacific Time (US), UTC time places the daily minimum \"in\" the day prior because UTC is 8 hours ahead of Pacific! The handy `convert_to_local_time` function corrects for this, and ensures that the resulting high and low temperatures are within the same daily timestamp.  \n",
    "The time slice passed to `convert_to_local_time` is one year shorter than the original data slice. This is because a chunk of the last day of the last year will be missing in local time. By dropping the last year we will not have any missing data."
   ]
  },
  {
   "cell_type": "code",
   "execution_count": null,
   "id": "2b8d2a01-fa9f-45f5-8245-297cf122313d",
   "metadata": {},
   "outputs": [],
   "source": [
    "heatidx_hist_hour = convert_to_local_time(heatidx_hist_hour, (1981, 1990))"
   ]
  },
  {
   "cell_type": "markdown",
   "id": "08f0dafd-9162-4b8a-944d-bfdc93171c06",
   "metadata": {},
   "source": [
    "### 1b) Retrieve the projected Heat Index data\n",
    "Next we will repeat the same data retrieval as we did for the historical data so we can compare. Like the historical data, retrieving the hourly projections data will also take a few minutes - hang tight!"
   ]
  },
  {
   "cell_type": "code",
   "execution_count": null,
   "id": "41f3ec41-b16d-452b-9167-964b407ef905",
   "metadata": {},
   "outputs": [],
   "source": [
    "# select future data\n",
    "# select historical data\n",
    "heatidx_proj_hour = get_data(\n",
    "    variable=\"NOAA Heat Index\",\n",
    "    resolution=\"9 km\",\n",
    "    timescale=\"hourly\",\n",
    "    data_type=\"Gridded\",\n",
    "    approach=\"Time\",\n",
    "    scenario=[\"SSP 3-7.0\"],\n",
    "    area_subset=\"CA Electric Load Serving Entities (IOU & POU)\",\n",
    "    cached_area=[\"Pacific Gas & Electric Company\"],\n",
    "    time_slice=(2040, 2050),  # Short period for quick demonstration\n",
    ")"
   ]
  },
  {
   "cell_type": "markdown",
   "id": "0895cfd1-0437-4e20-ad2c-43d2081496b8",
   "metadata": {},
   "source": [
    "Following the procedure used for the historical data, we will select the data at the grid cell closest to the station."
   ]
  },
  {
   "cell_type": "code",
   "execution_count": null,
   "id": "4e78a461-1642-460e-a51f-ff5217c234b0",
   "metadata": {},
   "outputs": [],
   "source": [
    "heatidx_proj_hour = get_closest_gridcell(heatidx_proj_hour, stn_lat, stn_lon)"
   ]
  },
  {
   "cell_type": "markdown",
   "id": "b87cac36-7378-4fed-ace0-5ceb3064340a",
   "metadata": {},
   "source": [
    "Finally we load the data into memory and convert to local time as we did with the historical data."
   ]
  },
  {
   "cell_type": "code",
   "execution_count": null,
   "id": "cdf4af27-21e5-440f-b440-98ce9a1b64ec",
   "metadata": {},
   "outputs": [],
   "source": [
    "heatidx_proj_hour = ck.load(heatidx_proj_hour)\n",
    "heatidx_proj_hour = convert_to_local_time(heatidx_proj_hour, (2040, 2049))"
   ]
  },
  {
   "cell_type": "markdown",
   "id": "c9aba87f-6b92-45f0-9546-a3ff1f6f5103",
   "metadata": {},
   "source": [
    "## Step 2: Calculate the number of hours throughout the year above a threshold\n",
    "\n",
    "### 2a) Sum the hours per day\n",
    "\n",
    "Let's next determine what part of the day is above a Heat Index threshold, as well as how many hours in each day are above our designated threshold. The NOAA Heat Index  \"kicks in\" once the [NOAA Heat Index](https://www.noaa.gov/sites/default/files/2022-05/heatindex_chart_rh.pdf) value is above 80°F: prolonged exposure to a heat index above 80°F becomes dangerous to many people and especially vulnerable communities. The Occupational Safety and Health Administration (OSHA) uses the Heat Index to determine the risk of heat-related illness and protections for outdoor workers. Below are the [specific thresholds used by OSHA](https://www.nalc.org/workplace-issues/body/OSHA-Using-the-Heat-Index-A-Guide-for-Employers.pdf). We note that these values are slightly different than those used by the [NOAA Heat Index](https://www.noaa.gov/sites/default/files/2022-05/heatindex_chart_rh.pdf) system. We **strongly recommend** looking at multiple thresholds to understand Heat Index trends. \n",
    "\n",
    "| Classification | Heat Index |\n",
    "|----------------|------------|\n",
    "| Caution | <91°F |\n",
    "| Moderate | 91 - 103°F |\n",
    "| High | 103 - 115°F |\n",
    "| Very High to Extreme | 115+°F |\n",
    "\n",
    "We'll start with 80°F as our default threshold."
   ]
  },
  {
   "cell_type": "code",
   "execution_count": null,
   "id": "06780bc5-9344-4265-9ff7-b80cc43cf5c1",
   "metadata": {},
   "outputs": [],
   "source": [
    "hi_threshold = 80"
   ]
  },
  {
   "cell_type": "code",
   "execution_count": null,
   "id": "8f9f3f6f-0242-4dfd-9d87-9a6f813a13d0",
   "metadata": {},
   "outputs": [],
   "source": [
    "# counts the number of hours in each day above the heat index threshold\n",
    "num_heatidx_histhours = (heatidx_hist_hour >= hi_threshold).resample(time=\"1D\").sum()\n",
    "num_heatidx_histhours.name = (\n",
    "    f\"Hours per day above Heat Index threshold of {hi_threshold}°F\"\n",
    ")"
   ]
  },
  {
   "cell_type": "markdown",
   "id": "e6b5ca23-58dc-4640-8129-165dd0554f8d",
   "metadata": {},
   "source": [
    "Let's identify one year to visualize the cycle in Heat Index temperatures. We are selecting 1985 here, but the commented out line of code below illustrates how to look at all of the data here. Just comment out the first line under visualize by adding a `#` symbol, and uncommenting the line below by removing the `#` symbol."
   ]
  },
  {
   "cell_type": "code",
   "execution_count": null,
   "id": "173cd9bb-b56a-49cb-9ca3-f4fec13b36b7",
   "metadata": {},
   "outputs": [],
   "source": [
    "data_one_year = num_heatidx_histhours.sel(time=\"1985\")\n",
    "\n",
    "# visualize\n",
    "data_one_year.hvplot.line(x=\"time\", by=\"simulation\")  # a specific year\n",
    "# num_heatidx_histhours.hvplot.line(x='time', by='simulation') # all years"
   ]
  },
  {
   "cell_type": "markdown",
   "id": "26379501-03a4-44e4-bedd-6214434922de",
   "metadata": {},
   "source": [
    "Heat Index values above our selected threshold (default is 80°F) begin to pick up in March for Fresno, and tail off in November. While high Heat Index values are critical to know during the summer months, we should be aware of high Heat Index values throughout the rest of the year as well. \n",
    "\n",
    "### 2b) Sum the total hours per year\n",
    "It may also be useful to know how many hours in the entire year are above the threshold in order to see the trends over time. We'll calculate this next."
   ]
  },
  {
   "cell_type": "code",
   "execution_count": null,
   "id": "61e3c749-2a66-4742-b9f3-715f4528fe12",
   "metadata": {},
   "outputs": [],
   "source": [
    "# sum per year\n",
    "num_heatidx_hist_hours_per_year = num_heatidx_histhours.groupby(\"time.year\").sum(\"time\")\n",
    "num_heatidx_hist_hours_per_year.name = (\n",
    "    f\"Hours per year above Heat Index threshold of {hi_threshold}°F\"\n",
    ")"
   ]
  },
  {
   "cell_type": "code",
   "execution_count": null,
   "id": "a6f784b2-5392-4b3f-9573-2b009ca3f51a",
   "metadata": {},
   "outputs": [],
   "source": [
    "# visualize\n",
    "num_heatidx_hist_hours_per_year.hvplot.line(x=\"year\", by=\"simulation\")"
   ]
  },
  {
   "cell_type": "markdown",
   "id": "fd552c3b-b9e3-455c-bb6c-e73ad5512613",
   "metadata": {},
   "source": [
    "For context, there are 8760 hours in a year. Let's also look at the future data to understand the projected trends in the number of high Heat Index hours per year. \n",
    "\n",
    "In the following cells, we'll do all of the computation above in a single go, to condense the number of cells to run. You don't need to modify anything, unless you made changes above. "
   ]
  },
  {
   "cell_type": "code",
   "execution_count": null,
   "id": "f73bf05f-10ff-4ad5-bba2-f31eaa22149d",
   "metadata": {},
   "outputs": [],
   "source": [
    "# counts the number of hours in each day above the heat index threshold\n",
    "num_heatidx_projhours = (heatidx_proj_hour >= hi_threshold).resample(time=\"1D\").sum()\n",
    "num_heatidx_projhours.name = (\n",
    "    f\"Hours per day above Heat Index threshold of {hi_threshold}°F\"\n",
    ")\n",
    "\n",
    "# sum per year\n",
    "num_heatidx_proj_hours_per_year = num_heatidx_projhours.groupby(\"time.year\").sum(\"time\")\n",
    "num_heatidx_proj_hours_per_year.name = (\n",
    "    f\"Hours per year above Heat Index threshold of {hi_threshold}°F\"\n",
    ")"
   ]
  },
  {
   "cell_type": "code",
   "execution_count": null,
   "id": "090651f9-e346-4292-9efb-4106d0871ca2",
   "metadata": {},
   "outputs": [],
   "source": [
    "# visualize\n",
    "num_heatidx_proj_hours_per_year.hvplot.line(x=\"year\", by=\"simulation\")"
   ]
  },
  {
   "cell_type": "markdown",
   "id": "33935f97-f4c7-4c4f-a373-bc7c7b22cdc2",
   "metadata": {},
   "source": [
    "### 2c) Export counts of hours per year\n",
    "First, we'll calculate summary statistics for our data object with a handy function `compute_multimodel_stats`, which will provide the min, max, mean, and median of our data. We'll also use a helper function `summary_table` which will transform our data objects into an easy-to-read dataframe. This dataframe will be exported as a .csv file and will be available in the file tree on the lefthandside of your screen. You can double click on it to view in a new window, or right-click to download. "
   ]
  },
  {
   "cell_type": "code",
   "execution_count": null,
   "id": "959f7dde-cb51-461c-8594-dd6eeb5af68b",
   "metadata": {},
   "outputs": [],
   "source": [
    "# calculate statistics\n",
    "num_heatidx_hist_hours_per_year = compute_multimodel_stats(\n",
    "    num_heatidx_hist_hours_per_year\n",
    ")\n",
    "\n",
    "# table format with summary stats\n",
    "df_to_export = summary_table(num_heatidx_hist_hours_per_year)\n",
    "df_to_export.head(5)  # see first 5 rows"
   ]
  },
  {
   "cell_type": "code",
   "execution_count": null,
   "id": "44ce2461-4819-495a-bf64-c8420d1170c5",
   "metadata": {},
   "outputs": [],
   "source": [
    "stn_str = station_name.replace(\" \", \"_\").replace(\"(\", \"\").replace(\")\", \"\")\n",
    "fn = f\"num_heatidx_hours_per_year_{stn_str}\"\n",
    "\n",
    "df_to_export.to_csv(f\"{fn}.csv\")"
   ]
  },
  {
   "cell_type": "markdown",
   "id": "82587854-5109-4780-9e2f-1d6bd21b0997",
   "metadata": {},
   "source": [
    "### 2d) Calculate the number of Heat Index days per month\n",
    "Alternatively, let's determine the number of days per month with Heat Index values above the threshold, as this may be useful for seasonal information. From the hourly Heat Index data, we'll now calculate the daily maximum heat index value. It is important to note that we will calculate the daily max heat index from the hourly heat index data, rather than taking the daily max air temperature and the average relative humidity, which artificially inflates the daily heat index value. \n",
    "\n",
    "If the daily median heat index is more relevant to your needs, we also provide the option in the cell below to calculate this instead. "
   ]
  },
  {
   "cell_type": "code",
   "execution_count": null,
   "id": "7b7e0096-5bed-48af-937c-c923d513786f",
   "metadata": {},
   "outputs": [],
   "source": [
    "# historical\n",
    "heatidx_hist_day = heatidx_hist_hour.resample(time=\"1D\").max()  # daily max\n",
    "# heatidx_hist_day = heatidx_hist_hour.resample(time='1D').median() # daily median\n",
    "\n",
    "# future\n",
    "heatidx_proj_day = heatidx_proj_hour.resample(time=\"1D\").max()  # daily max\n",
    "# heatidx_proj_day = heatidx_proj_hour.resample(time='1D').median() # daily median"
   ]
  },
  {
   "cell_type": "markdown",
   "id": "dbf743cc-9804-4b22-ab91-7618b5ecc144",
   "metadata": {},
   "source": [
    "We'll also reset our Heat Index threshold to be 91°F to assess a higher threshold. "
   ]
  },
  {
   "cell_type": "code",
   "execution_count": null,
   "id": "4461928f-aef0-4f4d-9a30-0f8e8445892e",
   "metadata": {},
   "outputs": [],
   "source": [
    "hi_threshold = 91"
   ]
  },
  {
   "cell_type": "code",
   "execution_count": null,
   "id": "16929962-ac43-45ba-956f-f75a25a6cef9",
   "metadata": {},
   "outputs": [],
   "source": [
    "num_heatidx_histmonths = (heatidx_hist_day >= hi_threshold).resample(time=\"1ME\").sum()\n",
    "num_heatidx_histmonths.name = (\n",
    "    f\"Days per month above Heat Index threshold of {hi_threshold}°F\"\n",
    ")"
   ]
  },
  {
   "cell_type": "code",
   "execution_count": null,
   "id": "e5b5a221-b734-41ad-94d1-3cba72f1956f",
   "metadata": {},
   "outputs": [],
   "source": [
    "num_heatidx_histmonths.hvplot.line(x=\"time\", by=\"simulation\")"
   ]
  },
  {
   "cell_type": "markdown",
   "id": "ecc03676-976d-4b29-90c4-4b58925db1fc",
   "metadata": {},
   "source": [
    "### 2e) Export the counts of days per month of high Heat Index values\n",
    "\n",
    "Like steps 2c, we'll calculate the min, max, mean, and median trends and format a table for easy export. "
   ]
  },
  {
   "cell_type": "code",
   "execution_count": null,
   "id": "35d5a634-7215-4013-a564-5e64c8a58e5d",
   "metadata": {},
   "outputs": [],
   "source": [
    "# calculate summary stats\n",
    "num_heatidx_histmonths_stats = compute_multimodel_stats(num_heatidx_histmonths)\n",
    "\n",
    "# table format with summary stats\n",
    "df_to_export = summary_table(num_heatidx_histmonths_stats)\n",
    "df_to_export.head(5)  # see first 5 rows"
   ]
  },
  {
   "cell_type": "code",
   "execution_count": null,
   "id": "75f37247-349a-4eea-b6e6-b77d933d5f5d",
   "metadata": {},
   "outputs": [],
   "source": [
    "stn_str = station_name.replace(\" \", \"_\").replace(\"(\", \"\").replace(\")\", \"\")\n",
    "fn = f\"num_heatidx_histmonths_{stn_str}\"\n",
    "\n",
    "df_to_export.to_csv(f\"{fn}.csv\")"
   ]
  },
  {
   "cell_type": "markdown",
   "id": "9377ed10-f76f-473b-b867-eb0306eafab0",
   "metadata": {},
   "source": [
    "## Step 3: Understand trends in nighttime temperatures\n",
    "Next we'll look specifically at nighttime temperatures in order to assess when it may be too hot outside for worker safety and for assets to cool down. \n",
    "\n",
    "### 3a) Subset for nighttime hours\n",
    "First, let's subset our hourly Heat Index data specifically for the nighttime hours. We will use 8pm-6am as \"nighttime\", but you can modify based on your needs as well."
   ]
  },
  {
   "cell_type": "code",
   "execution_count": null,
   "id": "497db0f0-acc2-4388-afa9-fbb2b34b2bb9",
   "metadata": {},
   "outputs": [],
   "source": [
    "night_subset = [20, 21, 22, 23, 0, 1, 2, 3, 4, 5, 6]  # 24 hour time\n",
    "heatidx_hist_nighthours = heatidx_hist_hour.isel(\n",
    "    time=heatidx_hist_hour.time.dt.hour.isin(night_subset)\n",
    ")"
   ]
  },
  {
   "cell_type": "markdown",
   "id": "96f1af53-9a24-489b-b2ea-9f96f6f0e42b",
   "metadata": {},
   "source": [
    "### 3b) Sum the number of nighttime hours above a threshold of 80°F per day and per year\n",
    "Like what we did above in Step 2a and 2b, we'll sum the nighttime Heat Index values for analysis. We'll use the same threshold as above, 91°F. But you can modify easily by setting this to any value of interest."
   ]
  },
  {
   "cell_type": "code",
   "execution_count": null,
   "id": "10aa1cad-39ae-41cd-b04d-f0ef01974872",
   "metadata": {},
   "outputs": [],
   "source": [
    "# sum per day\n",
    "num_heatidx_hist_nighthours = (\n",
    "    (heatidx_hist_nighthours >= hi_threshold).resample(time=\"1D\").sum()\n",
    ")\n",
    "num_heatidx_hist_nighthours.name = (\n",
    "    f\"Nighttime hours per day above Heat Index threshold of {hi_threshold}°F\"\n",
    ")"
   ]
  },
  {
   "cell_type": "code",
   "execution_count": null,
   "id": "1c634824-0d80-4442-b797-00ca97b9576b",
   "metadata": {},
   "outputs": [],
   "source": [
    "# visualize\n",
    "num_heatidx_hist_nighthours.hvplot.line(x=\"time\", by=\"simulation\")"
   ]
  },
  {
   "cell_type": "code",
   "execution_count": null,
   "id": "98624651-d3d3-4d4a-9bf8-078080104196",
   "metadata": {},
   "outputs": [],
   "source": [
    "# sum per year\n",
    "num_heatidx_hist_nighthours_per_year = num_heatidx_hist_nighthours.groupby(\n",
    "    \"time.year\"\n",
    ").sum(\"time\")\n",
    "num_heatidx_hist_nighthours_per_year.name = (\n",
    "    f\"Nighttime hours per year above Heat Index threshold of {hi_threshold}°F\"\n",
    ")"
   ]
  },
  {
   "cell_type": "code",
   "execution_count": null,
   "id": "8e551b43-5266-49ba-8c3e-4d555d0a8b37",
   "metadata": {},
   "outputs": [],
   "source": [
    "# visualize\n",
    "num_heatidx_hist_nighthours_per_year.hvplot.line(x=\"year\", by=\"simulation\")"
   ]
  },
  {
   "cell_type": "markdown",
   "id": "e3440c6d-da29-4c74-8af6-bf0010f39e5a",
   "metadata": {},
   "source": [
    "We'll calculate the same steps for the projected future data, but won't visualize it here. We're just including it in case you need this information."
   ]
  },
  {
   "cell_type": "code",
   "execution_count": null,
   "id": "c1654cae-66c5-4af1-ab93-0b634ff8abaf",
   "metadata": {},
   "outputs": [],
   "source": [
    "# subset for nighttime hours\n",
    "heatidx_proj_nighthours = heatidx_proj_hour.isel(\n",
    "    time=heatidx_proj_hour.time.dt.hour.isin(night_subset)\n",
    ")\n",
    "\n",
    "# sum per day\n",
    "num_heatidx_proj_nighthours = (\n",
    "    (heatidx_proj_nighthours >= hi_threshold).resample(time=\"1D\").sum()\n",
    ")\n",
    "num_heatidx_proj_nighthours.name = (\n",
    "    f\"Nighttime hours per day above Heat Index threshold of {hi_threshold}°F\"\n",
    ")\n",
    "\n",
    "# sum per year\n",
    "num_heatidx_proj_nighthours_per_year = num_heatidx_proj_nighthours.groupby(\n",
    "    \"time.year\"\n",
    ").sum(\"time\")\n",
    "num_heatidx_proj_nighthours_per_year.name = (\n",
    "    f\"Nighttime hours per year above Heat Index threshold of {hi_threshold}°F\"\n",
    ")"
   ]
  },
  {
   "cell_type": "markdown",
   "id": "9df390b3-7f4b-43da-968f-82bdd784c752",
   "metadata": {},
   "source": [
    "### 3c) Export counts of nighttime hours per year\n",
    "\n",
    "Similar the above export steps, we'll export the counts of nighttime temperatures per year next. "
   ]
  },
  {
   "cell_type": "code",
   "execution_count": null,
   "id": "ebb5a842-e4db-4d9b-adad-e1d351958a6d",
   "metadata": {},
   "outputs": [],
   "source": [
    "# calculate summary stats\n",
    "num_heatidx_hist_nighthours_per_year = compute_multimodel_stats(\n",
    "    num_heatidx_hist_nighthours_per_year\n",
    ")\n",
    "\n",
    "# table format with summary stats\n",
    "df_to_export = summary_table(num_heatidx_hist_nighthours_per_year)\n",
    "df_to_export.head(5)  # see first 5 rows"
   ]
  },
  {
   "cell_type": "code",
   "execution_count": null,
   "id": "b7066ecd-c06a-4526-aa71-c30d44d960d2",
   "metadata": {},
   "outputs": [],
   "source": [
    "stn_str = station_name.replace(\" \", \"_\").replace(\"(\", \"\").replace(\")\", \"\")\n",
    "fn = f\"num_heatidx_nighthours_per_year_{stn_str}\"\n",
    "df_to_export.to_csv(f\"{fn}.csv\")"
   ]
  },
  {
   "cell_type": "markdown",
   "id": "58cf9288-6d12-4595-aaca-323cb64a42fa",
   "metadata": {},
   "source": [
    "## Step 4: Summarize the long term trends\n",
    "\n",
    "### 4a) Comparing historical and projected number of days in each year above a Heat Index threshold\n",
    "\n",
    "Using the [OSHA thresholds we noted above](https://www.nalc.org/workplace-issues/body/OSHA-Using-the-Heat-Index-A-Guide-for-Employers.pdf), we'll now look at a threshold of 91°F. Again, we **strongly recommend** looking at multiple thresholds to understand Heat Index trends."
   ]
  },
  {
   "cell_type": "code",
   "execution_count": null,
   "id": "94cd68f1-15ed-49da-9ee9-f363016b8d17",
   "metadata": {},
   "outputs": [],
   "source": [
    "hi_threshold = 91  # degF"
   ]
  },
  {
   "cell_type": "markdown",
   "id": "eb4ce6ae-0afd-4d97-bb9f-dc9e0ceb36a5",
   "metadata": {},
   "source": [
    "If you would like to look at a specific month or season, uncomment the next cell below. We are going to look at the entire year, and leave this cell commented out. You can also skip the next cell entirely if you want to retain information throughout the entire year. "
   ]
  },
  {
   "cell_type": "code",
   "execution_count": null,
   "id": "30375830-b64c-4d99-b168-c72ffc264da0",
   "metadata": {},
   "outputs": [],
   "source": [
    "# month_subset = [5, 6, 7, 8, 9] # May, June, July, August, September\n",
    "# heatidx_hist_day = heatidx_hist_day.isel(time = heatidx_hist_day.time.dt.month.isin(month_subset)) # historical\n",
    "# heatidx_proj_day = heatidx_proj_day.isel(time = heatidx_proj_day.time.dt.month.isin(month_subset)) # future"
   ]
  },
  {
   "cell_type": "markdown",
   "id": "8691030e-99c5-4c0b-9b84-c6e0e5bf3f0a",
   "metadata": {},
   "source": [
    "Let's visualize the historical trends next. "
   ]
  },
  {
   "cell_type": "code",
   "execution_count": null,
   "id": "da3c8a19-397c-4770-818e-42cfbf53b7fb",
   "metadata": {},
   "outputs": [],
   "source": [
    "ckg.view(heatidx_hist_day)"
   ]
  },
  {
   "cell_type": "code",
   "execution_count": null,
   "id": "7ce8364b-71a4-41a1-9f14-e899d4506540",
   "metadata": {},
   "outputs": [],
   "source": [
    "?trends"
   ]
  },
  {
   "cell_type": "code",
   "execution_count": null,
   "id": "e4dd9200-8f94-4b3a-a5b5-c922a2b39fee",
   "metadata": {},
   "outputs": [],
   "source": [
    "ckg.view(heatidx_proj_day)"
   ]
  },
  {
   "cell_type": "markdown",
   "id": "4b67048f-f3bc-46ea-af5b-a1c48d025897",
   "metadata": {},
   "source": [
    "Compare the median historical and projected Heat Index values."
   ]
  },
  {
   "cell_type": "code",
   "execution_count": null,
   "id": "b70423f4-fd9a-4d37-8161-5d92822db577",
   "metadata": {},
   "outputs": [],
   "source": [
    "# what is the projected change in the median daily max heat index value?\n",
    "hi_hist = heatidx_hist_day.median().values\n",
    "hi_proj = heatidx_proj_day.median().values\n",
    "print(f\"Historical median Heat Index: {hi_hist:.2f}\")\n",
    "print(f\"Projected median Heat Index: {hi_proj:.2f}\")\n",
    "print(\n",
    "    f\"The projected change in the median Heat Index value from historical is: {(hi_proj - hi_hist):.2f}°F\"\n",
    ")"
   ]
  },
  {
   "cell_type": "markdown",
   "id": "d1a7baa5-acfd-4d2e-a137-2d311a8158b8",
   "metadata": {},
   "source": [
    "### 4b) Compare the historical and projected number of days above the threshold"
   ]
  },
  {
   "cell_type": "code",
   "execution_count": null,
   "id": "a90aaf5c-0a81-4634-9d53-d2f3ceb8c4b8",
   "metadata": {},
   "outputs": [],
   "source": [
    "# calculate number of days above threshold\n",
    "num_heatidx_histdays = (\n",
    "    (heatidx_hist_day >= hi_threshold).groupby(\"time.year\").sum(\"time\")\n",
    ")\n",
    "num_heatidx_histdays.name = f\"Days above Heat Index threshold of {hi_threshold}°F\"\n",
    "\n",
    "# calculate summary statistics\n",
    "num_heatidx_histdays_stats = compute_multimodel_stats(num_heatidx_histdays)"
   ]
  },
  {
   "cell_type": "markdown",
   "id": "4702ba76-ef23-4717-b97d-2cdf12ae6954",
   "metadata": {},
   "source": [
    "Let's visualize the trends:"
   ]
  },
  {
   "cell_type": "code",
   "execution_count": null,
   "id": "1836b17e-9148-4f1c-ab9f-4f4e5a5367b8",
   "metadata": {},
   "outputs": [],
   "source": [
    "num_heatidx_histdays.hvplot.line(x=\"year\", by=\"simulation\", title=\"\") * trendline(\n",
    "    num_heatidx_histdays_stats, kind=\"median\"\n",
    ").hvplot.line(x=\"year\", color=\"black\", line_dash=\"dashed\", label=\"trendline\")"
   ]
  },
  {
   "cell_type": "markdown",
   "id": "ef70fd79-94b4-4e20-ad28-664437d68f40",
   "metadata": {},
   "source": [
    "Note, if you've modified the threshold to be a higher value, for example 105°F, if the per-model trends and the median trend return flat lines, this indicates that for this location, the Heat Index value has not exceeded the modified threshold in the modeled data.\n",
    "\n",
    "We'll now repeat the process for the projected data."
   ]
  },
  {
   "cell_type": "code",
   "execution_count": null,
   "id": "e62a8f01-1f02-4d9e-aed7-8af5d68479c1",
   "metadata": {},
   "outputs": [],
   "source": [
    "# calculate number of days above the threshold\n",
    "num_heatidx_projdays = (\n",
    "    (heatidx_proj_day >= hi_threshold).groupby(\"time.year\").sum(\"time\")\n",
    ")\n",
    "num_heatidx_projdays.name = f\"Days above Heat Index threshold of {hi_threshold}°F\"\n",
    "\n",
    "# calculate statistics\n",
    "num_heatidx_projdays_stats = compute_multimodel_stats(num_heatidx_projdays)"
   ]
  },
  {
   "cell_type": "code",
   "execution_count": null,
   "id": "7e3df391-8bd4-4bb7-9a50-362def3aebd5",
   "metadata": {},
   "outputs": [],
   "source": [
    "# visualize results\n",
    "num_heatidx_projdays.hvplot.line(x=\"year\", by=\"simulation\", title=\"\") * trendline(\n",
    "    num_heatidx_projdays_stats, kind=\"median\"\n",
    ").hvplot.line(x=\"year\", color=\"black\", line_dash=\"dashed\", label=\"trendline\")"
   ]
  },
  {
   "cell_type": "markdown",
   "id": "691839d6-0140-4014-a2ae-6725542ebdb9",
   "metadata": {},
   "source": [
    "### 4c) Export the number of days above a threshold"
   ]
  },
  {
   "cell_type": "code",
   "execution_count": null,
   "id": "b7e71b78-c37e-4ede-aec8-6ed8a9da1b83",
   "metadata": {},
   "outputs": [],
   "source": [
    "# table format with summary stats\n",
    "df_to_export = summary_table(num_heatidx_projdays_stats)\n",
    "df_to_export.head(5)  # see first 5 rows"
   ]
  },
  {
   "cell_type": "code",
   "execution_count": null,
   "id": "637593a2-0b0d-4dbd-b6c3-59bc6e6b9f56",
   "metadata": {},
   "outputs": [],
   "source": [
    "stn_str = station_name.replace(\" \", \"_\").replace(\"(\", \"\").replace(\")\", \"\")\n",
    "fn = f\"num_heatidx_projdays_stats_{stn_str}\"\n",
    "df_to_export.to_csv(f\"{fn}.csv\")"
   ]
  },
  {
   "cell_type": "markdown",
   "id": "534d76ad-8e04-43e2-8196-9b197bd3ceef",
   "metadata": {},
   "source": [
    "**Note**: Any of the data variables that we've calculated throughout this notebook can be exported to .csv, like we've demonstrated throughout this notebook. Feel free to use this code to export any other variables of interest."
   ]
  },
  {
   "cell_type": "markdown",
   "id": "ca1665cf-01a6-43a1-a544-e01d18a07cf4",
   "metadata": {},
   "source": [
    "## Step 5: Export WRF data\n",
    "In the cell below we also provide the optionality to export the input WRF data too. We demonstrate with the historical hourly Heat Index values here, but you can replace `heatidx_hist_hour` with your dataset of choice, including `heatidx_proj_hour`!"
   ]
  },
  {
   "cell_type": "code",
   "execution_count": null,
   "id": "90f71ad4-9786-4d85-ae6d-d4dfa34fe0e8",
   "metadata": {},
   "outputs": [],
   "source": [
    "ck.export(heatidx_hist_hour, \"my_filename\", \"netcdf\")"
   ]
  },
  {
   "cell_type": "code",
   "execution_count": null,
   "id": "f6c92add-5b93-410b-8507-c358a024ee26",
   "metadata": {},
   "outputs": [],
   "source": []
  }
 ],
 "metadata": {
  "kernelspec": {
   "display_name": "Python 3 (ipykernel)",
   "language": "python",
   "name": "python3"
  },
  "language_info": {
   "codemirror_mode": {
    "name": "ipython",
    "version": 3
   },
   "file_extension": ".py",
   "mimetype": "text/x-python",
   "name": "python",
   "nbconvert_exporter": "python",
   "pygments_lexer": "ipython3",
   "version": "3.12.8"
  }
 },
 "nbformat": 4,
 "nbformat_minor": 5
}
