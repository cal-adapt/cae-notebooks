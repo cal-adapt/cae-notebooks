{
 "cells": [
  {
   "cell_type": "markdown",
   "id": "0b9eabbc-b1ee-47a3-9413-3b16efd9ba36",
   "metadata": {},
   "source": [
    "# 8760 Notebook"
   ]
  },
  {
   "cell_type": "markdown",
   "id": "b92447a5-0985-4188-b5ed-c64ba9206926",
   "metadata": {},
   "source": [
    "In this notebook, we’ll generate an 8760 timeseries and insert 1-in-X events into it. We'll demonstrate how to insert either the minimum, maximum, or both types of 1-in-X events. You can choose specific times to insert the events, or let the backend automatically determine the median timing based on when those events occurred in the original timeseries."
   ]
  },
  {
   "cell_type": "markdown",
   "id": "abd6bee9-2dd1-4e31-be9a-4210d1bbf0b9",
   "metadata": {},
   "source": [
    "### Imports"
   ]
  },
  {
   "cell_type": "code",
   "execution_count": null,
   "id": "3528082a",
   "metadata": {},
   "outputs": [],
   "source": [
    "%reload_ext autoreload\n",
    "%autoreload 2"
   ]
  },
  {
   "cell_type": "code",
   "execution_count": null,
   "id": "6041164e-23c0-4d73-8492-899f199972ee",
   "metadata": {},
   "outputs": [],
   "source": [
    "import random\n",
    "import matplotlib.pyplot as plt\n",
    "import numpy as np\n",
    "import pandas as pd\n",
    "from phase3 import *\n",
    "from climakitae.util.warming_levels import get_gwl_at_year, get_year_at_gwl\n",
    "random.seed(35)\n",
    "\n",
    "import warnings\n",
    "warnings.filterwarnings(\"ignore\", category=RuntimeWarning)"
   ]
  },
  {
   "cell_type": "markdown",
   "id": "2b34672a-fb74-4c19-826c-6032b97d17e1",
   "metadata": {},
   "source": [
    "### Global Variables"
   ]
  },
  {
   "cell_type": "code",
   "execution_count": null,
   "id": "25396b86-3edc-4965-8c5c-4e5f378696ba",
   "metadata": {},
   "outputs": [],
   "source": [
    "# Putting locations into a DataFrame\n",
    "locations = {\n",
    "    \"Goleta\": (34.486652, -119.894310),\n",
    "    \"Isla Vista\": (34.427741, -119.855950),\n",
    "    \"Santa Barbara Mountains\": (34.518453, -119.799645),\n",
    "    \"Valencia\": (34.432468, -118.571098),\n",
    "    \"Castaic\": (34.492141, -118.605053),\n",
    "    \"Lebec\": (34.680102, -118.789246),\n",
    "}\n",
    "\n",
    "df = pd.DataFrame.from_dict(locations, orient='index', columns=['lat', 'lon']).reset_index()\n",
    "df.rename(columns={'index': 'location'}, inplace=True)\n",
    "\n",
    "# Santa Barbara area\n",
    "sb = df.iloc[:3][['lat', 'lon']]\n",
    "sb_locs = ['Goleta', 'Isla Vista', 'Santa Barbara Mountains']\n",
    "\n",
    "# Santa Clarita area\n",
    "sc = df.iloc[3:6][['lat', 'lon']]\n",
    "sc_locs = ['Valencia', 'Castaic', 'Lebec']"
   ]
  },
  {
   "cell_type": "code",
   "execution_count": null,
   "id": "3d55b3e4-44cf-4fdf-b69d-7cb6bdf0987c",
   "metadata": {},
   "outputs": [],
   "source": [
    "# Set params for 1-in-X calculations\n",
    "one_in_x = np.array([10, 100])\n",
    "event_duration = (1, 'day')\n",
    "distr = 'gev'"
   ]
  },
  {
   "cell_type": "markdown",
   "id": "c80362a8-81ee-4cdd-990f-0f2538ab5dfd",
   "metadata": {},
   "source": [
    "## Introduction of Custom WLs"
   ]
  },
  {
   "cell_type": "markdown",
   "id": "8419a0f9-5eed-44ab-b15f-a36e0000abc4",
   "metadata": {},
   "source": [
    "In this version, we will introduce custom warming levels, and a tool to help you find a custom WL appropriate for your planning processes.\n",
    "\n",
    "Below, you'll see how to use two functions that translate between years and GWLs.\n",
    "\n",
    "**An important note:**\n",
    "In order to use the SSP parameter for the following functions, the SSP values need to be one (or more) of the following:\n",
    "\n",
    "```\n",
    "\"Historical\", \"SSP 1-1.9\", \"SSP 1-2.6\", \"SSP 2-4.5\", \"SSP 3-7.0\", \"SSP 5-8.5\", or \"all\"\n",
    "```\n",
    "\n",
    "The bounds of the potential warming levels are from 0 to 5.702 for WRF, and the bounds of the valid years are from 1950-2100."
   ]
  },
  {
   "cell_type": "markdown",
   "id": "1329e29f-1f7b-420a-bf3d-d8409dfa8337",
   "metadata": {},
   "source": [
    "#### Examples"
   ]
  },
  {
   "cell_type": "markdown",
   "id": "92ce0a26-089d-40ce-86dd-f53b445dbb85",
   "metadata": {},
   "source": [
    "In this first example, we will use `get_gwl_at_year` to find the WL associated with a given year for SSP 3-7.0."
   ]
  },
  {
   "cell_type": "code",
   "execution_count": null,
   "id": "1dc7e2cf-a188-4f30-a1a2-223b85548f0a",
   "metadata": {},
   "outputs": [],
   "source": [
    "get_gwl_at_year(2020, ssp=\"SSP 3-7.0\")"
   ]
  },
  {
   "cell_type": "markdown",
   "id": "22b5d919-60f5-4ae7-9301-01ee6d77edc5",
   "metadata": {},
   "source": [
    "You can additionally pass in a year and get back GWLs across all SSPs."
   ]
  },
  {
   "cell_type": "code",
   "execution_count": null,
   "id": "d1a340ac-0ff7-4645-a3bf-5cfd2878c428",
   "metadata": {},
   "outputs": [],
   "source": [
    "get_gwl_at_year(2050, ssp=\"all\")"
   ]
  },
  {
   "cell_type": "markdown",
   "id": "103e6e34-61b6-4225-bb49-b0099a9d6a00",
   "metadata": {},
   "source": [
    "If you're interested in knowing what year is associated with a given warming level, you can do the reverse, with `get_year_at_gwl`."
   ]
  },
  {
   "cell_type": "code",
   "execution_count": null,
   "id": "79715a31-dd10-47d8-bbca-06c3148313a3",
   "metadata": {},
   "outputs": [],
   "source": [
    "get_year_at_gwl(2.1, ssp=\"SSP 3-7.0\")"
   ]
  },
  {
   "cell_type": "markdown",
   "id": "d4a51bec-cc70-410e-9496-4f342268d593",
   "metadata": {},
   "source": [
    "And the same `all` SSP argument if you wanted to see all SSPs."
   ]
  },
  {
   "cell_type": "code",
   "execution_count": null,
   "id": "a74d99e7-9c8d-420a-96ce-db0e5006ae5a",
   "metadata": {},
   "outputs": [],
   "source": [
    "get_year_at_gwl(2.1, ssp=\"all\")"
   ]
  },
  {
   "cell_type": "markdown",
   "id": "8a8fb7f2-ca58-489b-b33c-f01a36a7da82",
   "metadata": {},
   "source": [
    "You'll notice that the above DataFrame returns NaNs for certain SSPs, this is because those SSPs don't have any GCMs that reach that given level of warming."
   ]
  },
  {
   "cell_type": "code",
   "execution_count": null,
   "id": "05cafb36-8c64-4bee-8b10-a35caf0f8954",
   "metadata": {},
   "outputs": [],
   "source": [
    "# Example with a really high WL\n",
    "get_year_at_gwl(6.7, ssp=\"all\")"
   ]
  },
  {
   "cell_type": "markdown",
   "id": "a41023c5-7334-4262-b690-1dc455b868f4",
   "metadata": {},
   "source": [
    "From here, you can decide how you'd like to aggregate the WL values across the SSPs from the returned table from `get_gwl_at_year`. Then, you can pass in that WL value to the following `retrieve_data` function to get custom WL data!"
   ]
  },
  {
   "cell_type": "markdown",
   "id": "e1125df1-b4c3-4001-bf9b-c07f83a7c66d",
   "metadata": {},
   "source": [
    "## Reading/Loading WL Data"
   ]
  },
  {
   "cell_type": "code",
   "execution_count": null,
   "id": "0eb928a8-ca03-4fd7-9cd4-182aeb6fd66c",
   "metadata": {},
   "outputs": [],
   "source": [
    "### Retrieving saved files for SB/SC locations, or generating the data from scratch if not available locally\n",
    "sb_files = [\n",
    "#     'custom-wls/one_in_10-100_temperature_raw_data_34495N_-119882W.nc',\n",
    "#     'custom-wls/one_in_10-100_temperature_raw_data_34434N_-11987W.nc',\n",
    "#     'custom-wls/one_in_10-100_temperature_raw_data_3452N_-119782W.nc'\n",
    "]\n",
    "sc_files = [\n",
    "#     'one_in_10-100_temperature_raw_data_34425N_-118559W.nc',\n",
    "#     'one_in_10-100_temperature_raw_data_34492N_-118616W.nc',\n",
    "#     'one_in_10-100_temperature_raw_data_34695N_-118788W.nc',\n",
    "]\n",
    "\n",
    "# Pass in custom parameters\n",
    "clean_raw_data_sb = retrieve_data(\n",
    "    sb_locs, \n",
    "    sb, \n",
    "    sb_files, \n",
    "    'SB', \n",
    "    hour_offset=7, # Offset hours from UTC to a different timezone (-7 to PST)\n",
    "    warming_level=3.14159 # Pass in a custom WL here!\n",
    ")\n",
    "clean_raw_data_sc = retrieve_data(\n",
    "    sc_locs, \n",
    "    sc, \n",
    "    sc_files, \n",
    "    'SC', \n",
    "    hour_offset=7, \n",
    "    warming_level=2.71818\n",
    ")"
   ]
  },
  {
   "cell_type": "markdown",
   "id": "c1916508-8fb3-4c8a-b406-33088634370c",
   "metadata": {},
   "source": [
    "### Calculating 1-in-X events"
   ]
  },
  {
   "cell_type": "code",
   "execution_count": null,
   "id": "5ce2b41c-ccb9-4709-ba02-e3a2fca484fb",
   "metadata": {},
   "outputs": [],
   "source": [
    "%%time\n",
    "# Calculating the 1-in-X return values, and lower + upper CIs, for SB locations\n",
    "all_one_in_x_sb = get_one_in_x(clean_raw_data_sb, one_in_x, event_duration, distr, 'max')\n",
    "calc_data_sb = all_one_in_x_sb['return_value']"
   ]
  },
  {
   "cell_type": "code",
   "execution_count": null,
   "id": "405ce0d7-1637-464e-b851-e0e6d6195671",
   "metadata": {},
   "outputs": [],
   "source": [
    "%%time\n",
    "# Calculating the 1-in-X return values, and lower + upper CIs, for SC locations\n",
    "all_one_in_x_sc = get_one_in_x(clean_raw_data_sc, one_in_x, event_duration, distr, 'max')\n",
    "calc_data_sc = all_one_in_x_sc['return_value']"
   ]
  },
  {
   "cell_type": "code",
   "execution_count": null,
   "id": "1dd18a42-dce5-4286-9290-742cd3e85534",
   "metadata": {},
   "outputs": [],
   "source": [
    "# Plotting the 1-in-X values by simulation for Santa Barbara locations\n",
    "plot_retvals(calc_data_sb)"
   ]
  },
  {
   "cell_type": "code",
   "execution_count": null,
   "id": "d2557de6-8109-4dc8-992f-4feeb9c28004",
   "metadata": {},
   "outputs": [],
   "source": [
    "# Plotting the 1-in-X values by simulation for Santa Clarita locations\n",
    "plot_retvals(calc_data_sc)"
   ]
  },
  {
   "cell_type": "code",
   "execution_count": null,
   "id": "2c470110-1f85-4794-a813-948e26e0dbc9",
   "metadata": {},
   "outputs": [],
   "source": [
    "# Finding the median of the above plots along simulation dimension\n",
    "plot_med_val_by_locs(calc_data_sb)"
   ]
  },
  {
   "cell_type": "code",
   "execution_count": null,
   "id": "365a3a20-bf7b-487e-a15a-51b38e1608a3",
   "metadata": {},
   "outputs": [],
   "source": [
    "plot_med_val_by_locs(calc_data_sc)"
   ]
  },
  {
   "cell_type": "markdown",
   "id": "2c825971-488c-4210-be99-6e200b521352",
   "metadata": {},
   "source": [
    "# Inserting `time` amount of 1-in-X timesteps into 8760s"
   ]
  },
  {
   "cell_type": "markdown",
   "id": "0f70c36a-3212-4376-aea1-8ae042512e27",
   "metadata": {},
   "source": [
    "### Setting a number of +/- days for `ramp up` and `ramp down`, creating modified 8760s, and plotting them "
   ]
  },
  {
   "cell_type": "code",
   "execution_count": null,
   "id": "d533d16b-0788-4ca8-a66f-19cb0d37aaec",
   "metadata": {},
   "outputs": [],
   "source": [
    "# Setting param for number of +/- number of days to 'ramp up' and 'ramp down' by\n",
    "t = 14"
   ]
  },
  {
   "cell_type": "markdown",
   "id": "c8f7d1fa-6402-4b59-8fa9-da19b62a5f38",
   "metadata": {},
   "source": [
    "#### Here, we will look into how you can create a `modified8760` using the calculated median times to insert these 1-in-X events, and using the times that a user passes in."
   ]
  },
  {
   "cell_type": "markdown",
   "id": "de47b7a4-0698-4956-b07b-7670fa1e1e51",
   "metadata": {},
   "source": [
    "#### 1. Using calculated median times to insert 1-in-X events into"
   ]
  },
  {
   "cell_type": "code",
   "execution_count": null,
   "id": "814e171a-2ee4-4864-b656-e7778af55381",
   "metadata": {},
   "outputs": [],
   "source": [
    "# Create a modified 8760 that injects 1-in-X events into the median times these events occur by location\n",
    "modified8760_sb, insert_times = create_modified_8760(clean_raw_data_sb, all_one_in_x_sb, t)\n",
    "plot_modified8760s(modified8760_sb, insert_times, t)"
   ]
  },
  {
   "cell_type": "markdown",
   "id": "c8956e09-b193-4396-8509-4cc58613eec8",
   "metadata": {},
   "source": [
    "#### 2. Insert 1-in-X events at times that users pre-define"
   ]
  },
  {
   "cell_type": "code",
   "execution_count": null,
   "id": "b83c09fe-817c-453f-a197-5ac8de010b8b",
   "metadata": {},
   "outputs": [],
   "source": [
    "# This creates a dummy DataArray that follows the data shape needed to specify custom times\n",
    "dummy_times = create_empty_da(all_one_in_x_sb['return_value'], keep_dims=['location', 'one_in_x'])"
   ]
  },
  {
   "cell_type": "code",
   "execution_count": null,
   "id": "b8fd19b2-7d45-477d-8b48-3f1521fe4c7e",
   "metadata": {},
   "outputs": [],
   "source": [
    "# Here, you can manually change the values from `custom_times` to set specific times for these `one_in_x` events to occur.\n",
    "# `updates` can either be a list of dictionaries (if you're looking to set these different events at different times, or you can\n",
    "# set `updates` to a singular number to have all the events be inserted at the same time\n",
    "\n",
    "updates = [\n",
    "    {'location': 'Goleta', 'one_in_x': 10, 'value': 1000},\n",
    "    {'location': 'Isla Vista', 'one_in_x': 100, 'value': 1000}\n",
    "]\n",
    "\n",
    "# OR YOU CAN DO\n",
    "updates = 3015\n",
    "\n",
    "custom_times = set_custom_times(dummy_times, updates)"
   ]
  },
  {
   "cell_type": "code",
   "execution_count": null,
   "id": "e397ef45-a403-4c37-9720-8c5ea329aceb",
   "metadata": {},
   "outputs": [],
   "source": [
    "# Calculates the modified 8760 with 1-in-X events inserted at custom times\n",
    "modified8760_sb, insert_times = create_modified_8760(clean_raw_data_sb, all_one_in_x_sb, t, custom_times=custom_times)\n",
    "plot_modified8760s(modified8760_sb, insert_times, t)"
   ]
  },
  {
   "cell_type": "markdown",
   "id": "04383370-8e71-437b-a4ab-2c673d735d41",
   "metadata": {},
   "source": [
    "## Inserting a min 1-in-X event into already modified 8760"
   ]
  },
  {
   "cell_type": "markdown",
   "id": "ff863736-613f-41ef-9954-4e96cc33f902",
   "metadata": {},
   "source": [
    "Here, we will go through inserting another 1-in-X event into an already modified 8760, to showcase an 8760 timeseries with both a 1-in-X max temp and a 1-in-X min event inserted."
   ]
  },
  {
   "cell_type": "code",
   "execution_count": null,
   "id": "c68b33bf-3bfe-4a4f-9289-319a648d656c",
   "metadata": {},
   "outputs": [],
   "source": [
    "%%time\n",
    "# Calculating the 1-in-X min events,, and lower + upper CIs, for SB locations\n",
    "sb_one_in_x_min = get_one_in_x(clean_raw_data_sb, one_in_x, event_duration, distr, 'min')"
   ]
  },
  {
   "cell_type": "code",
   "execution_count": null,
   "id": "9d995791-91cf-4450-b2b1-b14d3fb2ab89",
   "metadata": {},
   "outputs": [],
   "source": [
    "# Plotting the 1-in-X values by simulation for Santa Barbara locations\n",
    "plot_retvals(sb_one_in_x_min['return_value'])"
   ]
  },
  {
   "cell_type": "code",
   "execution_count": null,
   "id": "14664668-e39c-4e62-a8d1-2cbe22ec5f9a",
   "metadata": {},
   "outputs": [],
   "source": [
    "# Custom inserting events at hour=1000\n",
    "updates = 1000\n",
    "custom_times = set_custom_times(dummy_times, updates)"
   ]
  },
  {
   "cell_type": "code",
   "execution_count": null,
   "id": "5cb8806f-bfc5-4d0d-a874-5b4722ecaebc",
   "metadata": {},
   "outputs": [],
   "source": [
    "# Insert a min 1-in-X event into already modified 8760\n",
    "two_events_8760_sb, insert_times = create_modified_8760(\n",
    "    clean_raw_data_sb,\n",
    "    sb_one_in_x_min, \n",
    "    t, \n",
    "    extremes_type='min', \n",
    "    # custom_times=custom_times, # Comment this out if you'd like the back-end to auto-calculate the median time to insert these events\n",
    "    custom_8760=modified8760_sb\n",
    ")"
   ]
  },
  {
   "cell_type": "code",
   "execution_count": null,
   "id": "236db044-e6b6-4c36-81e0-c90ab5c89f9a",
   "metadata": {},
   "outputs": [],
   "source": [
    "# Plot 8760 with 2 types of 1-in-X events inserted\n",
    "plot_modified8760s(two_events_8760_sb, insert_times, t)"
   ]
  },
  {
   "cell_type": "markdown",
   "id": "f6fd599d-3810-46b8-b6f9-666098ea9c74",
   "metadata": {},
   "source": [
    "### Do the same for SC, but at hour=6000"
   ]
  },
  {
   "cell_type": "code",
   "execution_count": null,
   "id": "3d7caa52-f3ec-42ce-a230-8dda567f74e7",
   "metadata": {},
   "outputs": [],
   "source": [
    "# Create `dummy_times` DataArray for SC\n",
    "dummy_times = create_empty_da(all_one_in_x_sc['return_value'], keep_dims=['location', 'one_in_x'])"
   ]
  },
  {
   "cell_type": "code",
   "execution_count": null,
   "id": "de3faf2a-8e18-4b45-8e6b-b39e01b0fba5",
   "metadata": {},
   "outputs": [],
   "source": [
    "# Modify event timing here\n",
    "updates = 6000\n",
    "custom_times = set_custom_times(dummy_times, updates)"
   ]
  },
  {
   "cell_type": "code",
   "execution_count": null,
   "id": "38466306-4786-410c-ad19-5b042aa43ed0",
   "metadata": {},
   "outputs": [],
   "source": [
    "# Create and plot modified 8760 for SC\n",
    "modified8760_sc, insert_times = create_modified_8760(clean_raw_data_sc, all_one_in_x_sc, t, custom_times=custom_times)\n",
    "plot_modified8760s(modified8760_sc, insert_times, t)"
   ]
  }
 ],
 "metadata": {
  "kernelspec": {
   "display_name": "climakitae",
   "language": "python",
   "name": "python3"
  },
  "language_info": {
   "codemirror_mode": {
    "name": "ipython",
    "version": 3
   },
   "file_extension": ".py",
   "mimetype": "text/x-python",
   "name": "python",
   "nbconvert_exporter": "python",
   "pygments_lexer": "ipython3",
   "version": "3.12.7"
  }
 },
 "nbformat": 4,
 "nbformat_minor": 5
}
