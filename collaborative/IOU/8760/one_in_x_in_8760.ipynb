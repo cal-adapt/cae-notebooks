{
 "cells": [
  {
   "cell_type": "markdown",
   "id": "0b9eabbc-b1ee-47a3-9413-3b16efd9ba36",
   "metadata": {},
   "source": [
    "# 8760 Notebook"
   ]
  },
  {
   "cell_type": "markdown",
   "id": "b92447a5-0985-4188-b5ed-c64ba9206926",
   "metadata": {},
   "source": [
    "In this notebook, we’ll generate an 8760 timeseries and insert 1-in-X events into it. We'll demonstrate how to insert either the minimum, maximum, or both types of 1-in-X events. You can choose specific times to insert the events, or let the backend automatically determine the median timing based on when those events occurred in the original timeseries."
   ]
  },
  {
   "cell_type": "markdown",
   "id": "abd6bee9-2dd1-4e31-be9a-4210d1bbf0b9",
   "metadata": {},
   "source": [
    "### Imports"
   ]
  },
  {
   "cell_type": "code",
   "execution_count": 1,
   "id": "6041164e-23c0-4d73-8492-899f199972ee",
   "metadata": {},
   "outputs": [
    {
     "data": {
      "text/html": [
       "<script type=\"esms-options\">{\"shimMode\": true}</script><style>*[data-root-id],\n",
       "*[data-root-id] > * {\n",
       "  box-sizing: border-box;\n",
       "  font-family: var(--jp-ui-font-family);\n",
       "  font-size: var(--jp-ui-font-size1);\n",
       "  color: var(--vscode-editor-foreground, var(--jp-ui-font-color1));\n",
       "}\n",
       "\n",
       "/* Override VSCode background color */\n",
       ".cell-output-ipywidget-background:has(\n",
       "  > .cell-output-ipywidget-background > .lm-Widget > *[data-root-id]\n",
       "),\n",
       ".cell-output-ipywidget-background:has(> .lm-Widget > *[data-root-id]) {\n",
       "  background-color: transparent !important;\n",
       "}\n",
       "</style>"
      ]
     },
     "metadata": {},
     "output_type": "display_data"
    },
    {
     "data": {
      "application/javascript": "(function(root) {\n  function now() {\n    return new Date();\n  }\n\n  const force = true;\n  const py_version = '3.7.3'.replace('rc', '-rc.').replace('.dev', '-dev.');\n  const reloading = false;\n  const Bokeh = root.Bokeh;\n\n  // Set a timeout for this load but only if we are not already initializing\n  if (typeof (root._bokeh_timeout) === \"undefined\" || (force || !root._bokeh_is_initializing)) {\n    root._bokeh_timeout = Date.now() + 5000;\n    root._bokeh_failed_load = false;\n  }\n\n  function run_callbacks() {\n    try {\n      root._bokeh_onload_callbacks.forEach(function(callback) {\n        if (callback != null)\n          callback();\n      });\n    } finally {\n      delete root._bokeh_onload_callbacks;\n    }\n    console.debug(\"Bokeh: all callbacks have finished\");\n  }\n\n  function load_libs(css_urls, js_urls, js_modules, js_exports, callback) {\n    if (css_urls == null) css_urls = [];\n    if (js_urls == null) js_urls = [];\n    if (js_modules == null) js_modules = [];\n    if (js_exports == null) js_exports = {};\n\n    root._bokeh_onload_callbacks.push(callback);\n\n    if (root._bokeh_is_loading > 0) {\n      // Don't load bokeh if it is still initializing\n      console.debug(\"Bokeh: BokehJS is being loaded, scheduling callback at\", now());\n      return null;\n    } else if (js_urls.length === 0 && js_modules.length === 0 && Object.keys(js_exports).length === 0) {\n      // There is nothing to load\n      run_callbacks();\n      return null;\n    }\n\n    function on_load() {\n      root._bokeh_is_loading--;\n      if (root._bokeh_is_loading === 0) {\n        console.debug(\"Bokeh: all BokehJS libraries/stylesheets loaded\");\n        run_callbacks()\n      }\n    }\n    window._bokeh_on_load = on_load\n\n    function on_error(e) {\n      const src_el = e.srcElement\n      console.error(\"failed to load \" + (src_el.href || src_el.src));\n    }\n\n    const skip = [];\n    if (window.requirejs) {\n      window.requirejs.config({'packages': {}, 'paths': {}, 'shim': {}});\n      root._bokeh_is_loading = css_urls.length + 0;\n    } else {\n      root._bokeh_is_loading = css_urls.length + js_urls.length + js_modules.length + Object.keys(js_exports).length;\n    }\n\n    const existing_stylesheets = []\n    const links = document.getElementsByTagName('link')\n    for (let i = 0; i < links.length; i++) {\n      const link = links[i]\n      if (link.href != null) {\n        existing_stylesheets.push(link.href)\n      }\n    }\n    for (let i = 0; i < css_urls.length; i++) {\n      const url = css_urls[i];\n      const escaped = encodeURI(url)\n      if (existing_stylesheets.indexOf(escaped) !== -1) {\n        on_load()\n        continue;\n      }\n      const element = document.createElement(\"link\");\n      element.onload = on_load;\n      element.onerror = on_error;\n      element.rel = \"stylesheet\";\n      element.type = \"text/css\";\n      element.href = url;\n      console.debug(\"Bokeh: injecting link tag for BokehJS stylesheet: \", url);\n      document.body.appendChild(element);\n    }    var existing_scripts = []\n    const scripts = document.getElementsByTagName('script')\n    for (let i = 0; i < scripts.length; i++) {\n      var script = scripts[i]\n      if (script.src != null) {\n        existing_scripts.push(script.src)\n      }\n    }\n    for (let i = 0; i < js_urls.length; i++) {\n      const url = js_urls[i];\n      const escaped = encodeURI(url)\n      if (skip.indexOf(escaped) !== -1 || existing_scripts.indexOf(escaped) !== -1) {\n        if (!window.requirejs) {\n          on_load();\n        }\n        continue;\n      }\n      const element = document.createElement('script');\n      element.onload = on_load;\n      element.onerror = on_error;\n      element.async = false;\n      element.src = url;\n      console.debug(\"Bokeh: injecting script tag for BokehJS library: \", url);\n      document.head.appendChild(element);\n    }\n    for (let i = 0; i < js_modules.length; i++) {\n      const url = js_modules[i];\n      const escaped = encodeURI(url)\n      if (skip.indexOf(escaped) !== -1 || existing_scripts.indexOf(escaped) !== -1) {\n        if (!window.requirejs) {\n          on_load();\n        }\n        continue;\n      }\n      var element = document.createElement('script');\n      element.onload = on_load;\n      element.onerror = on_error;\n      element.async = false;\n      element.src = url;\n      element.type = \"module\";\n      console.debug(\"Bokeh: injecting script tag for BokehJS library: \", url);\n      document.head.appendChild(element);\n    }\n    for (const name in js_exports) {\n      const url = js_exports[name];\n      const escaped = encodeURI(url)\n      if (skip.indexOf(escaped) >= 0 || root[name] != null) {\n        if (!window.requirejs) {\n          on_load();\n        }\n        continue;\n      }\n      var element = document.createElement('script');\n      element.onerror = on_error;\n      element.async = false;\n      element.type = \"module\";\n      console.debug(\"Bokeh: injecting script tag for BokehJS library: \", url);\n      element.textContent = `\n      import ${name} from \"${url}\"\n      window.${name} = ${name}\n      window._bokeh_on_load()\n      `\n      document.head.appendChild(element);\n    }\n    if (!js_urls.length && !js_modules.length) {\n      on_load()\n    }\n  };\n\n  function inject_raw_css(css) {\n    const element = document.createElement(\"style\");\n    element.appendChild(document.createTextNode(css));\n    document.body.appendChild(element);\n  }\n\n  const js_urls = [\"https://cdn.holoviz.org/panel/1.7.4/dist/bundled/reactiveesm/es-module-shims@^1.10.0/dist/es-module-shims.min.js\", \"https://cdn.bokeh.org/bokeh/release/bokeh-3.7.3.min.js\", \"https://cdn.bokeh.org/bokeh/release/bokeh-gl-3.7.3.min.js\", \"https://cdn.bokeh.org/bokeh/release/bokeh-widgets-3.7.3.min.js\", \"https://cdn.bokeh.org/bokeh/release/bokeh-tables-3.7.3.min.js\", \"https://cdn.holoviz.org/panel/1.7.4/dist/panel.min.js\"];\n  const js_modules = [];\n  const js_exports = {};\n  const css_urls = [];\n  const inline_js = [    function(Bokeh) {\n      Bokeh.set_log_level(\"info\");\n    },\nfunction(Bokeh) {} // ensure no trailing comma for IE\n  ];\n\n  function run_inline_js() {\n    if ((root.Bokeh !== undefined) || (force === true)) {\n      for (let i = 0; i < inline_js.length; i++) {\n        try {\n          inline_js[i].call(root, root.Bokeh);\n        } catch(e) {\n          if (!reloading) {\n            throw e;\n          }\n        }\n      }\n      // Cache old bokeh versions\n      if (Bokeh != undefined && !reloading) {\n        var NewBokeh = root.Bokeh;\n        if (Bokeh.versions === undefined) {\n          Bokeh.versions = new Map();\n        }\n        if (NewBokeh.version !== Bokeh.version) {\n          Bokeh.versions.set(NewBokeh.version, NewBokeh)\n        }\n        root.Bokeh = Bokeh;\n      }\n    } else if (Date.now() < root._bokeh_timeout) {\n      setTimeout(run_inline_js, 100);\n    } else if (!root._bokeh_failed_load) {\n      console.log(\"Bokeh: BokehJS failed to load within specified timeout.\");\n      root._bokeh_failed_load = true;\n    }\n    root._bokeh_is_initializing = false\n  }\n\n  function load_or_wait() {\n    // Implement a backoff loop that tries to ensure we do not load multiple\n    // versions of Bokeh and its dependencies at the same time.\n    // In recent versions we use the root._bokeh_is_initializing flag\n    // to determine whether there is an ongoing attempt to initialize\n    // bokeh, however for backward compatibility we also try to ensure\n    // that we do not start loading a newer (Panel>=1.0 and Bokeh>3) version\n    // before older versions are fully initialized.\n    if (root._bokeh_is_initializing && Date.now() > root._bokeh_timeout) {\n      // If the timeout and bokeh was not successfully loaded we reset\n      // everything and try loading again\n      root._bokeh_timeout = Date.now() + 5000;\n      root._bokeh_is_initializing = false;\n      root._bokeh_onload_callbacks = undefined;\n      root._bokeh_is_loading = 0\n      console.log(\"Bokeh: BokehJS was loaded multiple times but one version failed to initialize.\");\n      load_or_wait();\n    } else if (root._bokeh_is_initializing || (typeof root._bokeh_is_initializing === \"undefined\" && root._bokeh_onload_callbacks !== undefined)) {\n      setTimeout(load_or_wait, 100);\n    } else {\n      root._bokeh_is_initializing = true\n      root._bokeh_onload_callbacks = []\n      const bokeh_loaded = root.Bokeh != null && (root.Bokeh.version === py_version || (root.Bokeh.versions !== undefined && root.Bokeh.versions.has(py_version)));\n      if (!reloading && !bokeh_loaded) {\n        if (root.Bokeh) {\n          root.Bokeh = undefined;\n        }\n        console.debug(\"Bokeh: BokehJS not loaded, scheduling load and callback at\", now());\n      }\n      load_libs(css_urls, js_urls, js_modules, js_exports, function() {\n        console.debug(\"Bokeh: BokehJS plotting callback run at\", now());\n        run_inline_js();\n      });\n    }\n  }\n  // Give older versions of the autoload script a head-start to ensure\n  // they initialize before we start loading newer version.\n  setTimeout(load_or_wait, 100)\n}(window));",
      "application/vnd.holoviews_load.v0+json": ""
     },
     "metadata": {},
     "output_type": "display_data"
    },
    {
     "data": {
      "application/javascript": "\nif ((window.PyViz === undefined) || (window.PyViz instanceof HTMLElement)) {\n  window.PyViz = {comms: {}, comm_status:{}, kernels:{}, receivers: {}, plot_index: []}\n}\n\n\n    function JupyterCommManager() {\n    }\n\n    JupyterCommManager.prototype.register_target = function(plot_id, comm_id, msg_handler) {\n      if (window.comm_manager || ((window.Jupyter !== undefined) && (Jupyter.notebook.kernel != null))) {\n        var comm_manager = window.comm_manager || Jupyter.notebook.kernel.comm_manager;\n        comm_manager.register_target(comm_id, function(comm) {\n          comm.on_msg(msg_handler);\n        });\n      } else if ((plot_id in window.PyViz.kernels) && (window.PyViz.kernels[plot_id])) {\n        window.PyViz.kernels[plot_id].registerCommTarget(comm_id, function(comm) {\n          comm.onMsg = msg_handler;\n        });\n      } else if (typeof google != 'undefined' && google.colab.kernel != null) {\n        google.colab.kernel.comms.registerTarget(comm_id, (comm) => {\n          var messages = comm.messages[Symbol.asyncIterator]();\n          function processIteratorResult(result) {\n            var message = result.value;\n            var content = {data: message.data, comm_id};\n            var buffers = []\n            for (var buffer of message.buffers || []) {\n              buffers.push(new DataView(buffer))\n            }\n            var metadata = message.metadata || {};\n            var msg = {content, buffers, metadata}\n            msg_handler(msg);\n            return messages.next().then(processIteratorResult);\n          }\n          return messages.next().then(processIteratorResult);\n        })\n      }\n    }\n\n    JupyterCommManager.prototype.get_client_comm = function(plot_id, comm_id, msg_handler) {\n      if (comm_id in window.PyViz.comms) {\n        return window.PyViz.comms[comm_id];\n      } else if (window.comm_manager || ((window.Jupyter !== undefined) && (Jupyter.notebook.kernel != null))) {\n        var comm_manager = window.comm_manager || Jupyter.notebook.kernel.comm_manager;\n        var comm = comm_manager.new_comm(comm_id, {}, {}, {}, comm_id);\n        if (msg_handler) {\n          comm.on_msg(msg_handler);\n        }\n      } else if ((plot_id in window.PyViz.kernels) && (window.PyViz.kernels[plot_id])) {\n        var comm = window.PyViz.kernels[plot_id].connectToComm(comm_id);\n        let retries = 0;\n        const open = () => {\n          if (comm.active) {\n            comm.open();\n          } else if (retries > 3) {\n            console.warn('Comm target never activated')\n          } else {\n            retries += 1\n            setTimeout(open, 500)\n          }\n        }\n        if (comm.active) {\n          comm.open();\n        } else {\n          setTimeout(open, 500)\n        }\n        if (msg_handler) {\n          comm.onMsg = msg_handler;\n        }\n      } else if (typeof google != 'undefined' && google.colab.kernel != null) {\n        var comm_promise = google.colab.kernel.comms.open(comm_id)\n        comm_promise.then((comm) => {\n          window.PyViz.comms[comm_id] = comm;\n          if (msg_handler) {\n            var messages = comm.messages[Symbol.asyncIterator]();\n            function processIteratorResult(result) {\n              var message = result.value;\n              var content = {data: message.data};\n              var metadata = message.metadata || {comm_id};\n              var msg = {content, metadata}\n              msg_handler(msg);\n              return messages.next().then(processIteratorResult);\n            }\n            return messages.next().then(processIteratorResult);\n          }\n        })\n        var sendClosure = (data, metadata, buffers, disposeOnDone) => {\n          return comm_promise.then((comm) => {\n            comm.send(data, metadata, buffers, disposeOnDone);\n          });\n        };\n        var comm = {\n          send: sendClosure\n        };\n      }\n      window.PyViz.comms[comm_id] = comm;\n      return comm;\n    }\n    window.PyViz.comm_manager = new JupyterCommManager();\n    \n\n\nvar JS_MIME_TYPE = 'application/javascript';\nvar HTML_MIME_TYPE = 'text/html';\nvar EXEC_MIME_TYPE = 'application/vnd.holoviews_exec.v0+json';\nvar CLASS_NAME = 'output';\n\n/**\n * Render data to the DOM node\n */\nfunction render(props, node) {\n  var div = document.createElement(\"div\");\n  var script = document.createElement(\"script\");\n  node.appendChild(div);\n  node.appendChild(script);\n}\n\n/**\n * Handle when a new output is added\n */\nfunction handle_add_output(event, handle) {\n  var output_area = handle.output_area;\n  var output = handle.output;\n  if ((output.data == undefined) || (!output.data.hasOwnProperty(EXEC_MIME_TYPE))) {\n    return\n  }\n  var id = output.metadata[EXEC_MIME_TYPE][\"id\"];\n  var toinsert = output_area.element.find(\".\" + CLASS_NAME.split(' ')[0]);\n  if (id !== undefined) {\n    var nchildren = toinsert.length;\n    var html_node = toinsert[nchildren-1].children[0];\n    html_node.innerHTML = output.data[HTML_MIME_TYPE];\n    var scripts = [];\n    var nodelist = html_node.querySelectorAll(\"script\");\n    for (var i in nodelist) {\n      if (nodelist.hasOwnProperty(i)) {\n        scripts.push(nodelist[i])\n      }\n    }\n\n    scripts.forEach( function (oldScript) {\n      var newScript = document.createElement(\"script\");\n      var attrs = [];\n      var nodemap = oldScript.attributes;\n      for (var j in nodemap) {\n        if (nodemap.hasOwnProperty(j)) {\n          attrs.push(nodemap[j])\n        }\n      }\n      attrs.forEach(function(attr) { newScript.setAttribute(attr.name, attr.value) });\n      newScript.appendChild(document.createTextNode(oldScript.innerHTML));\n      oldScript.parentNode.replaceChild(newScript, oldScript);\n    });\n    if (JS_MIME_TYPE in output.data) {\n      toinsert[nchildren-1].children[1].textContent = output.data[JS_MIME_TYPE];\n    }\n    output_area._hv_plot_id = id;\n    if ((window.Bokeh !== undefined) && (id in Bokeh.index)) {\n      window.PyViz.plot_index[id] = Bokeh.index[id];\n    } else {\n      window.PyViz.plot_index[id] = null;\n    }\n  } else if (output.metadata[EXEC_MIME_TYPE][\"server_id\"] !== undefined) {\n    var bk_div = document.createElement(\"div\");\n    bk_div.innerHTML = output.data[HTML_MIME_TYPE];\n    var script_attrs = bk_div.children[0].attributes;\n    for (var i = 0; i < script_attrs.length; i++) {\n      toinsert[toinsert.length - 1].childNodes[1].setAttribute(script_attrs[i].name, script_attrs[i].value);\n    }\n    // store reference to server id on output_area\n    output_area._bokeh_server_id = output.metadata[EXEC_MIME_TYPE][\"server_id\"];\n  }\n}\n\n/**\n * Handle when an output is cleared or removed\n */\nfunction handle_clear_output(event, handle) {\n  var id = handle.cell.output_area._hv_plot_id;\n  var server_id = handle.cell.output_area._bokeh_server_id;\n  if (((id === undefined) || !(id in PyViz.plot_index)) && (server_id !== undefined)) { return; }\n  var comm = window.PyViz.comm_manager.get_client_comm(\"hv-extension-comm\", \"hv-extension-comm\", function () {});\n  if (server_id !== null) {\n    comm.send({event_type: 'server_delete', 'id': server_id});\n    return;\n  } else if (comm !== null) {\n    comm.send({event_type: 'delete', 'id': id});\n  }\n  delete PyViz.plot_index[id];\n  if ((window.Bokeh !== undefined) & (id in window.Bokeh.index)) {\n    var doc = window.Bokeh.index[id].model.document\n    doc.clear();\n    const i = window.Bokeh.documents.indexOf(doc);\n    if (i > -1) {\n      window.Bokeh.documents.splice(i, 1);\n    }\n  }\n}\n\n/**\n * Handle kernel restart event\n */\nfunction handle_kernel_cleanup(event, handle) {\n  delete PyViz.comms[\"hv-extension-comm\"];\n  window.PyViz.plot_index = {}\n}\n\n/**\n * Handle update_display_data messages\n */\nfunction handle_update_output(event, handle) {\n  handle_clear_output(event, {cell: {output_area: handle.output_area}})\n  handle_add_output(event, handle)\n}\n\nfunction register_renderer(events, OutputArea) {\n  function append_mime(data, metadata, element) {\n    // create a DOM node to render to\n    var toinsert = this.create_output_subarea(\n    metadata,\n    CLASS_NAME,\n    EXEC_MIME_TYPE\n    );\n    this.keyboard_manager.register_events(toinsert);\n    // Render to node\n    var props = {data: data, metadata: metadata[EXEC_MIME_TYPE]};\n    render(props, toinsert[0]);\n    element.append(toinsert);\n    return toinsert\n  }\n\n  events.on('output_added.OutputArea', handle_add_output);\n  events.on('output_updated.OutputArea', handle_update_output);\n  events.on('clear_output.CodeCell', handle_clear_output);\n  events.on('delete.Cell', handle_clear_output);\n  events.on('kernel_ready.Kernel', handle_kernel_cleanup);\n\n  OutputArea.prototype.register_mime_type(EXEC_MIME_TYPE, append_mime, {\n    safe: true,\n    index: 0\n  });\n}\n\nif (window.Jupyter !== undefined) {\n  try {\n    var events = require('base/js/events');\n    var OutputArea = require('notebook/js/outputarea').OutputArea;\n    if (OutputArea.prototype.mime_types().indexOf(EXEC_MIME_TYPE) == -1) {\n      register_renderer(events, OutputArea);\n    }\n  } catch(err) {\n  }\n}\n",
      "application/vnd.holoviews_load.v0+json": ""
     },
     "metadata": {},
     "output_type": "display_data"
    },
    {
     "data": {
      "application/vnd.holoviews_exec.v0+json": "",
      "text/html": [
       "<div id='371b27f9-78f2-4283-8aab-8a12cb95a2a4'>\n",
       "  <div id=\"db37d877-6508-4526-97e8-2b6861f848ae\" data-root-id=\"371b27f9-78f2-4283-8aab-8a12cb95a2a4\" style=\"display: contents;\"></div>\n",
       "</div>\n",
       "<script type=\"application/javascript\">(function(root) {\n",
       "  var docs_json = {\"ce7219e0-a579-4b0a-af49-ea2f3eb1324a\":{\"version\":\"3.7.3\",\"title\":\"Bokeh Application\",\"roots\":[{\"type\":\"object\",\"name\":\"panel.models.browser.BrowserInfo\",\"id\":\"371b27f9-78f2-4283-8aab-8a12cb95a2a4\"},{\"type\":\"object\",\"name\":\"panel.models.comm_manager.CommManager\",\"id\":\"67cf4f1b-5605-4900-8821-8bdec44283d8\",\"attributes\":{\"plot_id\":\"371b27f9-78f2-4283-8aab-8a12cb95a2a4\",\"comm_id\":\"e5cbe6ef2aa34b4daf920527ffd059f5\",\"client_comm_id\":\"73a9c0e474764ab7b94f25b918fb5def\"}}],\"defs\":[{\"type\":\"model\",\"name\":\"ReactiveHTML1\"},{\"type\":\"model\",\"name\":\"FlexBox1\",\"properties\":[{\"name\":\"align_content\",\"kind\":\"Any\",\"default\":\"flex-start\"},{\"name\":\"align_items\",\"kind\":\"Any\",\"default\":\"flex-start\"},{\"name\":\"flex_direction\",\"kind\":\"Any\",\"default\":\"row\"},{\"name\":\"flex_wrap\",\"kind\":\"Any\",\"default\":\"wrap\"},{\"name\":\"gap\",\"kind\":\"Any\",\"default\":\"\"},{\"name\":\"justify_content\",\"kind\":\"Any\",\"default\":\"flex-start\"}]},{\"type\":\"model\",\"name\":\"FloatPanel1\",\"properties\":[{\"name\":\"config\",\"kind\":\"Any\",\"default\":{\"type\":\"map\"}},{\"name\":\"contained\",\"kind\":\"Any\",\"default\":true},{\"name\":\"position\",\"kind\":\"Any\",\"default\":\"right-top\"},{\"name\":\"offsetx\",\"kind\":\"Any\",\"default\":null},{\"name\":\"offsety\",\"kind\":\"Any\",\"default\":null},{\"name\":\"theme\",\"kind\":\"Any\",\"default\":\"primary\"},{\"name\":\"status\",\"kind\":\"Any\",\"default\":\"normalized\"}]},{\"type\":\"model\",\"name\":\"GridStack1\",\"properties\":[{\"name\":\"ncols\",\"kind\":\"Any\",\"default\":null},{\"name\":\"nrows\",\"kind\":\"Any\",\"default\":null},{\"name\":\"allow_resize\",\"kind\":\"Any\",\"default\":true},{\"name\":\"allow_drag\",\"kind\":\"Any\",\"default\":true},{\"name\":\"state\",\"kind\":\"Any\",\"default\":[]}]},{\"type\":\"model\",\"name\":\"drag1\",\"properties\":[{\"name\":\"slider_width\",\"kind\":\"Any\",\"default\":5},{\"name\":\"slider_color\",\"kind\":\"Any\",\"default\":\"black\"},{\"name\":\"value\",\"kind\":\"Any\",\"default\":50}]},{\"type\":\"model\",\"name\":\"click1\",\"properties\":[{\"name\":\"terminal_output\",\"kind\":\"Any\",\"default\":\"\"},{\"name\":\"debug_name\",\"kind\":\"Any\",\"default\":\"\"},{\"name\":\"clears\",\"kind\":\"Any\",\"default\":0}]},{\"type\":\"model\",\"name\":\"ReactiveESM1\",\"properties\":[{\"name\":\"esm_constants\",\"kind\":\"Any\",\"default\":{\"type\":\"map\"}}]},{\"type\":\"model\",\"name\":\"JSComponent1\",\"properties\":[{\"name\":\"esm_constants\",\"kind\":\"Any\",\"default\":{\"type\":\"map\"}}]},{\"type\":\"model\",\"name\":\"ReactComponent1\",\"properties\":[{\"name\":\"use_shadow_dom\",\"kind\":\"Any\",\"default\":true},{\"name\":\"esm_constants\",\"kind\":\"Any\",\"default\":{\"type\":\"map\"}}]},{\"type\":\"model\",\"name\":\"AnyWidgetComponent1\",\"properties\":[{\"name\":\"use_shadow_dom\",\"kind\":\"Any\",\"default\":true},{\"name\":\"esm_constants\",\"kind\":\"Any\",\"default\":{\"type\":\"map\"}}]},{\"type\":\"model\",\"name\":\"FastWrapper1\",\"properties\":[{\"name\":\"object\",\"kind\":\"Any\",\"default\":null},{\"name\":\"style\",\"kind\":\"Any\",\"default\":null}]},{\"type\":\"model\",\"name\":\"NotificationArea1\",\"properties\":[{\"name\":\"js_events\",\"kind\":\"Any\",\"default\":{\"type\":\"map\"}},{\"name\":\"max_notifications\",\"kind\":\"Any\",\"default\":5},{\"name\":\"notifications\",\"kind\":\"Any\",\"default\":[]},{\"name\":\"position\",\"kind\":\"Any\",\"default\":\"bottom-right\"},{\"name\":\"_clear\",\"kind\":\"Any\",\"default\":0},{\"name\":\"types\",\"kind\":\"Any\",\"default\":[{\"type\":\"map\",\"entries\":[[\"type\",\"warning\"],[\"background\",\"#ffc107\"],[\"icon\",{\"type\":\"map\",\"entries\":[[\"className\",\"fas fa-exclamation-triangle\"],[\"tagName\",\"i\"],[\"color\",\"white\"]]}]]},{\"type\":\"map\",\"entries\":[[\"type\",\"info\"],[\"background\",\"#007bff\"],[\"icon\",{\"type\":\"map\",\"entries\":[[\"className\",\"fas fa-info-circle\"],[\"tagName\",\"i\"],[\"color\",\"white\"]]}]]}]}]},{\"type\":\"model\",\"name\":\"Notification\",\"properties\":[{\"name\":\"background\",\"kind\":\"Any\",\"default\":null},{\"name\":\"duration\",\"kind\":\"Any\",\"default\":3000},{\"name\":\"icon\",\"kind\":\"Any\",\"default\":null},{\"name\":\"message\",\"kind\":\"Any\",\"default\":\"\"},{\"name\":\"notification_type\",\"kind\":\"Any\",\"default\":null},{\"name\":\"_rendered\",\"kind\":\"Any\",\"default\":false},{\"name\":\"_destroyed\",\"kind\":\"Any\",\"default\":false}]},{\"type\":\"model\",\"name\":\"TemplateActions1\",\"properties\":[{\"name\":\"open_modal\",\"kind\":\"Any\",\"default\":0},{\"name\":\"close_modal\",\"kind\":\"Any\",\"default\":0}]},{\"type\":\"model\",\"name\":\"BootstrapTemplateActions1\",\"properties\":[{\"name\":\"open_modal\",\"kind\":\"Any\",\"default\":0},{\"name\":\"close_modal\",\"kind\":\"Any\",\"default\":0}]},{\"type\":\"model\",\"name\":\"TemplateEditor1\",\"properties\":[{\"name\":\"layout\",\"kind\":\"Any\",\"default\":[]}]},{\"type\":\"model\",\"name\":\"MaterialTemplateActions1\",\"properties\":[{\"name\":\"open_modal\",\"kind\":\"Any\",\"default\":0},{\"name\":\"close_modal\",\"kind\":\"Any\",\"default\":0}]},{\"type\":\"model\",\"name\":\"request_value1\",\"properties\":[{\"name\":\"fill\",\"kind\":\"Any\",\"default\":\"none\"},{\"name\":\"_synced\",\"kind\":\"Any\",\"default\":null},{\"name\":\"_request_sync\",\"kind\":\"Any\",\"default\":0}]},{\"type\":\"model\",\"name\":\"holoviews.plotting.bokeh.raster.HoverModel\",\"properties\":[{\"name\":\"xy\",\"kind\":\"Any\",\"default\":null},{\"name\":\"data\",\"kind\":\"Any\",\"default\":null}]}]}};\n",
       "  var render_items = [{\"docid\":\"ce7219e0-a579-4b0a-af49-ea2f3eb1324a\",\"roots\":{\"371b27f9-78f2-4283-8aab-8a12cb95a2a4\":\"db37d877-6508-4526-97e8-2b6861f848ae\"},\"root_ids\":[\"371b27f9-78f2-4283-8aab-8a12cb95a2a4\"]}];\n",
       "  var docs = Object.values(docs_json)\n",
       "  if (!docs) {\n",
       "    return\n",
       "  }\n",
       "  const py_version = docs[0].version.replace('rc', '-rc.').replace('.dev', '-dev.')\n",
       "  async function embed_document(root) {\n",
       "    var Bokeh = get_bokeh(root)\n",
       "    await Bokeh.embed.embed_items_notebook(docs_json, render_items);\n",
       "    for (const render_item of render_items) {\n",
       "      for (const root_id of render_item.root_ids) {\n",
       "\tconst id_el = document.getElementById(root_id)\n",
       "\tif (id_el.children.length && id_el.children[0].hasAttribute('data-root-id')) {\n",
       "\t  const root_el = id_el.children[0]\n",
       "\t  root_el.id = root_el.id + '-rendered'\n",
       "\t  for (const child of root_el.children) {\n",
       "            // Ensure JupyterLab does not capture keyboard shortcuts\n",
       "            // see: https://jupyterlab.readthedocs.io/en/4.1.x/extension/notebook.html#keyboard-interaction-model\n",
       "\t    child.setAttribute('data-lm-suppress-shortcuts', 'true')\n",
       "\t  }\n",
       "\t}\n",
       "      }\n",
       "    }\n",
       "  }\n",
       "  function get_bokeh(root) {\n",
       "    if (root.Bokeh === undefined) {\n",
       "      return null\n",
       "    } else if (root.Bokeh.version !== py_version) {\n",
       "      if (root.Bokeh.versions === undefined || !root.Bokeh.versions.has(py_version)) {\n",
       "\treturn null\n",
       "      }\n",
       "      return root.Bokeh.versions.get(py_version);\n",
       "    } else if (root.Bokeh.version === py_version) {\n",
       "      return root.Bokeh\n",
       "    }\n",
       "    return null\n",
       "  }\n",
       "  function is_loaded(root) {\n",
       "    var Bokeh = get_bokeh(root)\n",
       "    return (Bokeh != null && Bokeh.Panel !== undefined)\n",
       "  }\n",
       "  if (is_loaded(root)) {\n",
       "    embed_document(root);\n",
       "  } else {\n",
       "    var attempts = 0;\n",
       "    var timer = setInterval(function(root) {\n",
       "      if (is_loaded(root)) {\n",
       "        clearInterval(timer);\n",
       "        embed_document(root);\n",
       "      } else if (document.readyState == \"complete\") {\n",
       "        attempts++;\n",
       "        if (attempts > 200) {\n",
       "          clearInterval(timer);\n",
       "\t  var Bokeh = get_bokeh(root)\n",
       "\t  if (Bokeh == null || Bokeh.Panel == null) {\n",
       "            console.warn(\"Panel: ERROR: Unable to run Panel code because Bokeh or Panel library is missing\");\n",
       "\t  } else {\n",
       "\t    console.warn(\"Panel: WARNING: Attempting to render but not all required libraries could be resolved.\")\n",
       "\t    embed_document(root)\n",
       "\t  }\n",
       "        }\n",
       "      }\n",
       "    }, 25, root)\n",
       "  }\n",
       "})(window);</script>"
      ]
     },
     "metadata": {
      "application/vnd.holoviews_exec.v0+json": {
       "id": "371b27f9-78f2-4283-8aab-8a12cb95a2a4"
      }
     },
     "output_type": "display_data"
    }
   ],
   "source": [
    "import random\n",
    "import numpy as np\n",
    "import pandas as pd\n",
    "from one_in_x_in_8760 import *\n",
    "from climakitae.util.warming_levels import get_gwl_at_year, get_year_at_gwl\n",
    "random.seed(35)\n",
    "\n",
    "import warnings\n",
    "warnings.filterwarnings(\"ignore\", category=RuntimeWarning)"
   ]
  },
  {
   "cell_type": "markdown",
   "id": "2b34672a-fb74-4c19-826c-6032b97d17e1",
   "metadata": {},
   "source": [
    "### Global Variables"
   ]
  },
  {
   "cell_type": "code",
   "execution_count": 2,
   "id": "25396b86-3edc-4965-8c5c-4e5f378696ba",
   "metadata": {},
   "outputs": [],
   "source": [
    "# Putting locations into a DataFrame\n",
    "locations = {\n",
    "    \"Goleta\": (34.486652, -119.894310),\n",
    "    \"Isla Vista\": (34.427741, -119.855950),\n",
    "    \"Santa Barbara Mountains\": (34.518453, -119.799645),\n",
    "    \"Valencia\": (34.432468, -118.571098),\n",
    "    \"Castaic\": (34.492141, -118.605053),\n",
    "    \"Lebec\": (34.680102, -118.789246),\n",
    "}\n",
    "\n",
    "df = pd.DataFrame.from_dict(locations, orient='index', columns=['lat', 'lon']).reset_index()\n",
    "df.rename(columns={'index': 'location'}, inplace=True)\n",
    "\n",
    "# Santa Barbara area\n",
    "sb = df.iloc[:3][['lat', 'lon']]\n",
    "sb_locs = ['Goleta', 'Isla Vista', 'Santa Barbara Mountains']\n",
    "\n",
    "# Santa Clarita area\n",
    "sc = df.iloc[3:6][['lat', 'lon']]\n",
    "sc_locs = ['Valencia', 'Castaic', 'Lebec']"
   ]
  },
  {
   "cell_type": "code",
   "execution_count": 3,
   "id": "3d55b3e4-44cf-4fdf-b69d-7cb6bdf0987c",
   "metadata": {},
   "outputs": [],
   "source": [
    "# Set params for 1-in-X calculations\n",
    "one_in_x = np.array([10, 100])\n",
    "event_duration = (1, 'day')\n",
    "distr = 'gev'"
   ]
  },
  {
   "cell_type": "markdown",
   "id": "c80362a8-81ee-4cdd-990f-0f2538ab5dfd",
   "metadata": {},
   "source": [
    "## Introduction of Custom WLs"
   ]
  },
  {
   "cell_type": "markdown",
   "id": "8419a0f9-5eed-44ab-b15f-a36e0000abc4",
   "metadata": {},
   "source": [
    "In this version, we will introduce custom warming levels, and a tool to help you find a custom WL appropriate for your planning processes.\n",
    "\n",
    "Below, you'll see how to use two functions that translate between years and GWLs.\n",
    "\n",
    "**An important note:**\n",
    "In order to use the SSP parameter for the following functions, the SSP values need to be one (or more) of the following:\n",
    "\n",
    "```\n",
    "\"Historical\", \"SSP 1-1.9\", \"SSP 1-2.6\", \"SSP 2-4.5\", \"SSP 3-7.0\", \"SSP 5-8.5\", or \"all\"\n",
    "```\n",
    "\n",
    "The bounds of the potential warming levels are from 0 to 5.702 for WRF, and the bounds of the valid years are from 1950-2100."
   ]
  },
  {
   "cell_type": "markdown",
   "id": "1329e29f-1f7b-420a-bf3d-d8409dfa8337",
   "metadata": {},
   "source": [
    "#### Examples"
   ]
  },
  {
   "cell_type": "markdown",
   "id": "92ce0a26-089d-40ce-86dd-f53b445dbb85",
   "metadata": {},
   "source": [
    "In this first example, we will use `get_gwl_at_year` to find the WL associated with a given year for SSP 3-7.0."
   ]
  },
  {
   "cell_type": "code",
   "execution_count": 4,
   "id": "1dc7e2cf-a188-4f30-a1a2-223b85548f0a",
   "metadata": {},
   "outputs": [
    {
     "data": {
      "text/html": [
       "<div>\n",
       "<style scoped>\n",
       "    .dataframe tbody tr th:only-of-type {\n",
       "        vertical-align: middle;\n",
       "    }\n",
       "\n",
       "    .dataframe tbody tr th {\n",
       "        vertical-align: top;\n",
       "    }\n",
       "\n",
       "    .dataframe thead th {\n",
       "        text-align: right;\n",
       "    }\n",
       "</style>\n",
       "<table border=\"1\" class=\"dataframe\">\n",
       "  <thead>\n",
       "    <tr style=\"text-align: right;\">\n",
       "      <th></th>\n",
       "      <th>5%</th>\n",
       "      <th>Mean</th>\n",
       "      <th>95%</th>\n",
       "    </tr>\n",
       "  </thead>\n",
       "  <tbody>\n",
       "    <tr>\n",
       "      <th>SSP 3-7.0</th>\n",
       "      <td>1.091037</td>\n",
       "      <td>1.220171</td>\n",
       "      <td>1.370755</td>\n",
       "    </tr>\n",
       "  </tbody>\n",
       "</table>\n",
       "</div>"
      ],
      "text/plain": [
       "                 5%      Mean       95%\n",
       "SSP 3-7.0  1.091037  1.220171  1.370755"
      ]
     },
     "execution_count": 4,
     "metadata": {},
     "output_type": "execute_result"
    }
   ],
   "source": [
    "get_gwl_at_year(2020, ssp=\"SSP 3-7.0\")"
   ]
  },
  {
   "cell_type": "markdown",
   "id": "22b5d919-60f5-4ae7-9301-01ee6d77edc5",
   "metadata": {},
   "source": [
    "You can additionally pass in a year and get back GWLs across all SSPs."
   ]
  },
  {
   "cell_type": "code",
   "execution_count": 5,
   "id": "d1a340ac-0ff7-4645-a3bf-5cfd2878c428",
   "metadata": {},
   "outputs": [
    {
     "data": {
      "text/html": [
       "<div>\n",
       "<style scoped>\n",
       "    .dataframe tbody tr th:only-of-type {\n",
       "        vertical-align: middle;\n",
       "    }\n",
       "\n",
       "    .dataframe tbody tr th {\n",
       "        vertical-align: top;\n",
       "    }\n",
       "\n",
       "    .dataframe thead th {\n",
       "        text-align: right;\n",
       "    }\n",
       "</style>\n",
       "<table border=\"1\" class=\"dataframe\">\n",
       "  <thead>\n",
       "    <tr style=\"text-align: right;\">\n",
       "      <th></th>\n",
       "      <th>5%</th>\n",
       "      <th>Mean</th>\n",
       "      <th>95%</th>\n",
       "    </tr>\n",
       "  </thead>\n",
       "  <tbody>\n",
       "    <tr>\n",
       "      <th>SSP 1-1.9</th>\n",
       "      <td>1.256735</td>\n",
       "      <td>1.565448</td>\n",
       "      <td>1.915745</td>\n",
       "    </tr>\n",
       "    <tr>\n",
       "      <th>SSP 1-2.6</th>\n",
       "      <td>1.385746</td>\n",
       "      <td>1.723816</td>\n",
       "      <td>2.156090</td>\n",
       "    </tr>\n",
       "    <tr>\n",
       "      <th>SSP 2-4.5</th>\n",
       "      <td>1.613802</td>\n",
       "      <td>1.945774</td>\n",
       "      <td>2.400275</td>\n",
       "    </tr>\n",
       "    <tr>\n",
       "      <th>SSP 3-7.0</th>\n",
       "      <td>1.741237</td>\n",
       "      <td>2.100658</td>\n",
       "      <td>2.558017</td>\n",
       "    </tr>\n",
       "    <tr>\n",
       "      <th>SSP 5-8.5</th>\n",
       "      <td>1.899726</td>\n",
       "      <td>2.348434</td>\n",
       "      <td>2.870155</td>\n",
       "    </tr>\n",
       "  </tbody>\n",
       "</table>\n",
       "</div>"
      ],
      "text/plain": [
       "                 5%      Mean       95%\n",
       "SSP 1-1.9  1.256735  1.565448  1.915745\n",
       "SSP 1-2.6  1.385746  1.723816  2.156090\n",
       "SSP 2-4.5  1.613802  1.945774  2.400275\n",
       "SSP 3-7.0  1.741237  2.100658  2.558017\n",
       "SSP 5-8.5  1.899726  2.348434  2.870155"
      ]
     },
     "execution_count": 5,
     "metadata": {},
     "output_type": "execute_result"
    }
   ],
   "source": [
    "get_gwl_at_year(2050, ssp=\"all\")"
   ]
  },
  {
   "cell_type": "markdown",
   "id": "103e6e34-61b6-4225-bb49-b0099a9d6a00",
   "metadata": {},
   "source": [
    "If you're interested in knowing what year is associated with a given warming level, you can do the reverse, with `get_year_at_gwl`."
   ]
  },
  {
   "cell_type": "code",
   "execution_count": 6,
   "id": "79715a31-dd10-47d8-bbca-06c3148313a3",
   "metadata": {},
   "outputs": [
    {
     "data": {
      "text/html": [
       "<div>\n",
       "<style scoped>\n",
       "    .dataframe tbody tr th:only-of-type {\n",
       "        vertical-align: middle;\n",
       "    }\n",
       "\n",
       "    .dataframe tbody tr th {\n",
       "        vertical-align: top;\n",
       "    }\n",
       "\n",
       "    .dataframe thead th {\n",
       "        text-align: right;\n",
       "    }\n",
       "</style>\n",
       "<table border=\"1\" class=\"dataframe\">\n",
       "  <thead>\n",
       "    <tr style=\"text-align: right;\">\n",
       "      <th></th>\n",
       "      <th>5%</th>\n",
       "      <th>Mean</th>\n",
       "      <th>95%</th>\n",
       "    </tr>\n",
       "  </thead>\n",
       "  <tbody>\n",
       "    <tr>\n",
       "      <th>SSP 3-7.0</th>\n",
       "      <td>2040</td>\n",
       "      <td>2050</td>\n",
       "      <td>2065</td>\n",
       "    </tr>\n",
       "  </tbody>\n",
       "</table>\n",
       "</div>"
      ],
      "text/plain": [
       "             5%  Mean   95%\n",
       "SSP 3-7.0  2040  2050  2065"
      ]
     },
     "execution_count": 6,
     "metadata": {},
     "output_type": "execute_result"
    }
   ],
   "source": [
    "get_year_at_gwl(2.1, ssp=\"SSP 3-7.0\")"
   ]
  },
  {
   "cell_type": "markdown",
   "id": "d4a51bec-cc70-410e-9496-4f342268d593",
   "metadata": {},
   "source": [
    "And the same `all` SSP argument if you wanted to see all SSPs."
   ]
  },
  {
   "cell_type": "code",
   "execution_count": 7,
   "id": "a74d99e7-9c8d-420a-96ce-db0e5006ae5a",
   "metadata": {},
   "outputs": [
    {
     "data": {
      "text/html": [
       "<div>\n",
       "<style scoped>\n",
       "    .dataframe tbody tr th:only-of-type {\n",
       "        vertical-align: middle;\n",
       "    }\n",
       "\n",
       "    .dataframe tbody tr th {\n",
       "        vertical-align: top;\n",
       "    }\n",
       "\n",
       "    .dataframe thead th {\n",
       "        text-align: right;\n",
       "    }\n",
       "</style>\n",
       "<table border=\"1\" class=\"dataframe\">\n",
       "  <thead>\n",
       "    <tr style=\"text-align: right;\">\n",
       "      <th></th>\n",
       "      <th>5%</th>\n",
       "      <th>Mean</th>\n",
       "      <th>95%</th>\n",
       "    </tr>\n",
       "  </thead>\n",
       "  <tbody>\n",
       "    <tr>\n",
       "      <th>Historical</th>\n",
       "      <td>NaN</td>\n",
       "      <td>NaN</td>\n",
       "      <td>NaN</td>\n",
       "    </tr>\n",
       "    <tr>\n",
       "      <th>SSP 1-1.9</th>\n",
       "      <td>NaN</td>\n",
       "      <td>NaN</td>\n",
       "      <td>NaN</td>\n",
       "    </tr>\n",
       "    <tr>\n",
       "      <th>SSP 1-2.6</th>\n",
       "      <td>NaN</td>\n",
       "      <td>NaN</td>\n",
       "      <td>NaN</td>\n",
       "    </tr>\n",
       "    <tr>\n",
       "      <th>SSP 2-4.5</th>\n",
       "      <td>2042.0</td>\n",
       "      <td>2057.0</td>\n",
       "      <td>2092.0</td>\n",
       "    </tr>\n",
       "    <tr>\n",
       "      <th>SSP 3-7.0</th>\n",
       "      <td>2040.0</td>\n",
       "      <td>2050.0</td>\n",
       "      <td>2065.0</td>\n",
       "    </tr>\n",
       "    <tr>\n",
       "      <th>SSP 5-8.5</th>\n",
       "      <td>2036.0</td>\n",
       "      <td>2045.0</td>\n",
       "      <td>2057.0</td>\n",
       "    </tr>\n",
       "  </tbody>\n",
       "</table>\n",
       "</div>"
      ],
      "text/plain": [
       "                5%    Mean     95%\n",
       "Historical     NaN     NaN     NaN\n",
       "SSP 1-1.9      NaN     NaN     NaN\n",
       "SSP 1-2.6      NaN     NaN     NaN\n",
       "SSP 2-4.5   2042.0  2057.0  2092.0\n",
       "SSP 3-7.0   2040.0  2050.0  2065.0\n",
       "SSP 5-8.5   2036.0  2045.0  2057.0"
      ]
     },
     "execution_count": 7,
     "metadata": {},
     "output_type": "execute_result"
    }
   ],
   "source": [
    "get_year_at_gwl(2.1, ssp=\"all\")"
   ]
  },
  {
   "cell_type": "markdown",
   "id": "8a8fb7f2-ca58-489b-b33c-f01a36a7da82",
   "metadata": {},
   "source": [
    "You'll notice that the above DataFrame returns NaNs for certain SSPs, this is because those SSPs don't have any GCMs that reach that given level of warming."
   ]
  },
  {
   "cell_type": "code",
   "execution_count": 8,
   "id": "05cafb36-8c64-4bee-8b10-a35caf0f8954",
   "metadata": {},
   "outputs": [
    {
     "data": {
      "text/html": [
       "<div>\n",
       "<style scoped>\n",
       "    .dataframe tbody tr th:only-of-type {\n",
       "        vertical-align: middle;\n",
       "    }\n",
       "\n",
       "    .dataframe tbody tr th {\n",
       "        vertical-align: top;\n",
       "    }\n",
       "\n",
       "    .dataframe thead th {\n",
       "        text-align: right;\n",
       "    }\n",
       "</style>\n",
       "<table border=\"1\" class=\"dataframe\">\n",
       "  <thead>\n",
       "    <tr style=\"text-align: right;\">\n",
       "      <th></th>\n",
       "      <th>5%</th>\n",
       "      <th>Mean</th>\n",
       "      <th>95%</th>\n",
       "    </tr>\n",
       "  </thead>\n",
       "  <tbody>\n",
       "    <tr>\n",
       "      <th>Historical</th>\n",
       "      <td>NaN</td>\n",
       "      <td>NaN</td>\n",
       "      <td>NaN</td>\n",
       "    </tr>\n",
       "    <tr>\n",
       "      <th>SSP 1-1.9</th>\n",
       "      <td>NaN</td>\n",
       "      <td>NaN</td>\n",
       "      <td>NaN</td>\n",
       "    </tr>\n",
       "    <tr>\n",
       "      <th>SSP 1-2.6</th>\n",
       "      <td>NaN</td>\n",
       "      <td>NaN</td>\n",
       "      <td>NaN</td>\n",
       "    </tr>\n",
       "    <tr>\n",
       "      <th>SSP 2-4.5</th>\n",
       "      <td>NaN</td>\n",
       "      <td>NaN</td>\n",
       "      <td>NaN</td>\n",
       "    </tr>\n",
       "    <tr>\n",
       "      <th>SSP 3-7.0</th>\n",
       "      <td>NaN</td>\n",
       "      <td>NaN</td>\n",
       "      <td>NaN</td>\n",
       "    </tr>\n",
       "    <tr>\n",
       "      <th>SSP 5-8.5</th>\n",
       "      <td>NaN</td>\n",
       "      <td>NaN</td>\n",
       "      <td>NaN</td>\n",
       "    </tr>\n",
       "  </tbody>\n",
       "</table>\n",
       "</div>"
      ],
      "text/plain": [
       "            5%  Mean  95%\n",
       "Historical NaN   NaN  NaN\n",
       "SSP 1-1.9  NaN   NaN  NaN\n",
       "SSP 1-2.6  NaN   NaN  NaN\n",
       "SSP 2-4.5  NaN   NaN  NaN\n",
       "SSP 3-7.0  NaN   NaN  NaN\n",
       "SSP 5-8.5  NaN   NaN  NaN"
      ]
     },
     "execution_count": 8,
     "metadata": {},
     "output_type": "execute_result"
    }
   ],
   "source": [
    "# Example with a really high WL\n",
    "get_year_at_gwl(6.7, ssp=\"all\")"
   ]
  },
  {
   "cell_type": "markdown",
   "id": "a41023c5-7334-4262-b690-1dc455b868f4",
   "metadata": {},
   "source": [
    "From here, you can decide how you'd like to aggregate the WL values across the SSPs from the returned table from `get_gwl_at_year`. Then, you can pass in that WL value to the following `retrieve_data` function to get custom WL data!"
   ]
  },
  {
   "cell_type": "markdown",
   "id": "e1125df1-b4c3-4001-bf9b-c07f83a7c66d",
   "metadata": {},
   "source": [
    "## Reading/Loading WL Data"
   ]
  },
  {
   "cell_type": "code",
   "execution_count": null,
   "id": "0eb928a8-ca03-4fd7-9cd4-182aeb6fd66c",
   "metadata": {},
   "outputs": [
    {
     "name": "stdout",
     "output_type": "stream",
     "text": [
      "Attempting to load saved SB files...\n",
      "Falling back to cava_data for SB due to error: no files to open\n",
      "Using `cava_data` to fetch SB data instead...\n",
      "Calculating 1-in-10 year, 1-day Max Air Temperature at 2m for all seasons for Warming Level 3.142°C and 1-in-100 year, 1-day Max Air Temperature at 2m for all seasons for Warming Level 3.142°C\n",
      "--- Selecting Data Points --- \n",
      "\n",
      "Selecting data for (34.486652, -119.89431)\n",
      "Selecting data for (34.427741, -119.85595)\n",
      "Selecting data for (34.518453, -119.799645)\n",
      "\n",
      "--- Loading Data into Memory ---\n",
      "\n",
      "Point (34.49457931518555, -119.88214111328125)\n",
      "Processing data to read 8.02 MB of data into memory... \n",
      "[################                        ] | 40% Completed | 77.74 ss"
     ]
    }
   ],
   "source": [
    "### Retrieving saved files for SB/SC locations, or generating the data from scratch if not available locally\n",
    "sb_files = [\n",
    "#     'custom-wls/one_in_10-100_temperature_raw_data_34495N_-119882W.nc',\n",
    "#     'custom-wls/one_in_10-100_temperature_raw_data_34434N_-11987W.nc',\n",
    "#     'custom-wls/one_in_10-100_temperature_raw_data_3452N_-119782W.nc'\n",
    "]\n",
    "sc_files = [\n",
    "#     'one_in_10-100_temperature_raw_data_34425N_-118559W.nc',\n",
    "#     'one_in_10-100_temperature_raw_data_34492N_-118616W.nc',\n",
    "#     'one_in_10-100_temperature_raw_data_34695N_-118788W.nc',\n",
    "]\n",
    "\n",
    "# Pass in custom parameters\n",
    "clean_raw_data_sb = retrieve_data(\n",
    "    sb_locs, \n",
    "    sb, \n",
    "    sb_files, \n",
    "    'SB', \n",
    "    hour_offset=7, # Offset hours from UTC to a different timezone (-7 to PST)\n",
    "    warming_level=3.14159 # Pass in a custom WL here!\n",
    ")\n",
    "clean_raw_data_sc = retrieve_data(\n",
    "    sc_locs, \n",
    "    sc, \n",
    "    sc_files, \n",
    "    'SC', \n",
    "    hour_offset=7, \n",
    "    warming_level=2.71818\n",
    ")"
   ]
  },
  {
   "cell_type": "markdown",
   "id": "c1916508-8fb3-4c8a-b406-33088634370c",
   "metadata": {},
   "source": [
    "### Calculating 1-in-X events"
   ]
  },
  {
   "cell_type": "code",
   "execution_count": null,
   "id": "5ce2b41c-ccb9-4709-ba02-e3a2fca484fb",
   "metadata": {},
   "outputs": [],
   "source": [
    "%%time\n",
    "# Calculating the 1-in-X return values, and lower + upper CIs, for SB locations\n",
    "all_one_in_x_sb = get_one_in_x(clean_raw_data_sb, one_in_x, event_duration, distr, 'max')\n",
    "calc_data_sb = all_one_in_x_sb['return_value']"
   ]
  },
  {
   "cell_type": "code",
   "execution_count": null,
   "id": "405ce0d7-1637-464e-b851-e0e6d6195671",
   "metadata": {},
   "outputs": [],
   "source": [
    "%%time\n",
    "# Calculating the 1-in-X return values, and lower + upper CIs, for SC locations\n",
    "all_one_in_x_sc = get_one_in_x(clean_raw_data_sc, one_in_x, event_duration, distr, 'max')\n",
    "calc_data_sc = all_one_in_x_sc['return_value']"
   ]
  },
  {
   "cell_type": "code",
   "execution_count": null,
   "id": "1dd18a42-dce5-4286-9290-742cd3e85534",
   "metadata": {},
   "outputs": [],
   "source": [
    "# Plotting the 1-in-X values by simulation for Santa Barbara locations\n",
    "plot_retvals(calc_data_sb)"
   ]
  },
  {
   "cell_type": "code",
   "execution_count": null,
   "id": "d2557de6-8109-4dc8-992f-4feeb9c28004",
   "metadata": {},
   "outputs": [],
   "source": [
    "# Plotting the 1-in-X values by simulation for Santa Clarita locations\n",
    "plot_retvals(calc_data_sc)"
   ]
  },
  {
   "cell_type": "code",
   "execution_count": null,
   "id": "2c470110-1f85-4794-a813-948e26e0dbc9",
   "metadata": {},
   "outputs": [],
   "source": [
    "# Finding the median of the above plots along simulation dimension\n",
    "plot_med_val_by_locs(calc_data_sb)"
   ]
  },
  {
   "cell_type": "code",
   "execution_count": null,
   "id": "365a3a20-bf7b-487e-a15a-51b38e1608a3",
   "metadata": {},
   "outputs": [],
   "source": [
    "plot_med_val_by_locs(calc_data_sc)"
   ]
  },
  {
   "cell_type": "markdown",
   "id": "2c825971-488c-4210-be99-6e200b521352",
   "metadata": {},
   "source": [
    "# Inserting `time` amount of 1-in-X timesteps into 8760s"
   ]
  },
  {
   "cell_type": "markdown",
   "id": "0f70c36a-3212-4376-aea1-8ae042512e27",
   "metadata": {},
   "source": [
    "### Setting a number of +/- days for `ramp up` and `ramp down`, creating modified 8760s, and plotting them "
   ]
  },
  {
   "cell_type": "code",
   "execution_count": null,
   "id": "d533d16b-0788-4ca8-a66f-19cb0d37aaec",
   "metadata": {},
   "outputs": [],
   "source": [
    "# Setting param for number of +/- number of days to 'ramp up' and 'ramp down' by\n",
    "t = 14"
   ]
  },
  {
   "cell_type": "markdown",
   "id": "c8f7d1fa-6402-4b59-8fa9-da19b62a5f38",
   "metadata": {},
   "source": [
    "#### Here, we will look into how you can create a `modified8760` using the calculated median times to insert these 1-in-X events, and using the times that a user passes in."
   ]
  },
  {
   "cell_type": "markdown",
   "id": "de47b7a4-0698-4956-b07b-7670fa1e1e51",
   "metadata": {},
   "source": [
    "#### 1. Using calculated median times to insert 1-in-X events into"
   ]
  },
  {
   "cell_type": "code",
   "execution_count": null,
   "id": "814e171a-2ee4-4864-b656-e7778af55381",
   "metadata": {},
   "outputs": [],
   "source": [
    "# Create a modified 8760 that injects 1-in-X events into the median times these events occur by location\n",
    "modified8760_sb, insert_times = create_modified_8760(clean_raw_data_sb, all_one_in_x_sb, t)\n",
    "plot_modified8760s(modified8760_sb, insert_times, t)"
   ]
  },
  {
   "cell_type": "markdown",
   "id": "c8956e09-b193-4396-8509-4cc58613eec8",
   "metadata": {},
   "source": [
    "#### 2. Insert 1-in-X events at times that users pre-define"
   ]
  },
  {
   "cell_type": "code",
   "execution_count": null,
   "id": "b83c09fe-817c-453f-a197-5ac8de010b8b",
   "metadata": {},
   "outputs": [],
   "source": [
    "# This creates a dummy DataArray that follows the data shape needed to specify custom times\n",
    "dummy_times = create_empty_da(all_one_in_x_sb['return_value'], keep_dims=['location', 'one_in_x'])"
   ]
  },
  {
   "cell_type": "code",
   "execution_count": null,
   "id": "b8fd19b2-7d45-477d-8b48-3f1521fe4c7e",
   "metadata": {},
   "outputs": [],
   "source": [
    "# Here, you can manually change the values from `custom_times` to set specific times for these `one_in_x` events to occur.\n",
    "# `updates` can either be a list of dictionaries (if you're looking to set these different events at different times, or you can\n",
    "# set `updates` to a singular number to have all the events be inserted at the same time\n",
    "\n",
    "updates = [\n",
    "    {'location': 'Goleta', 'one_in_x': 10, 'value': 1000},\n",
    "    {'location': 'Isla Vista', 'one_in_x': 100, 'value': 1000}\n",
    "]\n",
    "\n",
    "# OR YOU CAN DO\n",
    "updates = 3015\n",
    "\n",
    "custom_times = set_custom_times(dummy_times, updates)"
   ]
  },
  {
   "cell_type": "code",
   "execution_count": null,
   "id": "e397ef45-a403-4c37-9720-8c5ea329aceb",
   "metadata": {},
   "outputs": [],
   "source": [
    "# Calculates the modified 8760 with 1-in-X events inserted at custom times\n",
    "modified8760_sb, insert_times = create_modified_8760(clean_raw_data_sb, all_one_in_x_sb, t, custom_times=custom_times)\n",
    "plot_modified8760s(modified8760_sb, insert_times, t)"
   ]
  },
  {
   "cell_type": "markdown",
   "id": "04383370-8e71-437b-a4ab-2c673d735d41",
   "metadata": {},
   "source": [
    "## Inserting a min 1-in-X event into already modified 8760"
   ]
  },
  {
   "cell_type": "markdown",
   "id": "ff863736-613f-41ef-9954-4e96cc33f902",
   "metadata": {},
   "source": [
    "Here, we will go through inserting another 1-in-X event into an already modified 8760, to showcase an 8760 timeseries with both a 1-in-X max temp and a 1-in-X min event inserted."
   ]
  },
  {
   "cell_type": "code",
   "execution_count": null,
   "id": "c68b33bf-3bfe-4a4f-9289-319a648d656c",
   "metadata": {},
   "outputs": [],
   "source": [
    "%%time\n",
    "# Calculating the 1-in-X min events,, and lower + upper CIs, for SB locations\n",
    "sb_one_in_x_min = get_one_in_x(clean_raw_data_sb, one_in_x, event_duration, distr, 'min')"
   ]
  },
  {
   "cell_type": "code",
   "execution_count": null,
   "id": "9d995791-91cf-4450-b2b1-b14d3fb2ab89",
   "metadata": {},
   "outputs": [],
   "source": [
    "# Plotting the 1-in-X values by simulation for Santa Barbara locations\n",
    "plot_retvals(sb_one_in_x_min['return_value'])"
   ]
  },
  {
   "cell_type": "code",
   "execution_count": null,
   "id": "14664668-e39c-4e62-a8d1-2cbe22ec5f9a",
   "metadata": {},
   "outputs": [],
   "source": [
    "# Custom inserting events at hour=1000\n",
    "updates = 1000\n",
    "custom_times = set_custom_times(dummy_times, updates)"
   ]
  },
  {
   "cell_type": "code",
   "execution_count": null,
   "id": "5cb8806f-bfc5-4d0d-a874-5b4722ecaebc",
   "metadata": {},
   "outputs": [],
   "source": [
    "# Insert a min 1-in-X event into already modified 8760\n",
    "two_events_8760_sb, insert_times = create_modified_8760(\n",
    "    clean_raw_data_sb,\n",
    "    sb_one_in_x_min, \n",
    "    t, \n",
    "    extremes_type='min', \n",
    "    # custom_times=custom_times, # Comment this out if you'd like the back-end to auto-calculate the median time to insert these events\n",
    "    custom_8760=modified8760_sb\n",
    ")"
   ]
  },
  {
   "cell_type": "code",
   "execution_count": null,
   "id": "236db044-e6b6-4c36-81e0-c90ab5c89f9a",
   "metadata": {},
   "outputs": [],
   "source": [
    "# Plot 8760 with 2 types of 1-in-X events inserted\n",
    "plot_modified8760s(two_events_8760_sb, insert_times, t)"
   ]
  },
  {
   "cell_type": "markdown",
   "id": "f6fd599d-3810-46b8-b6f9-666098ea9c74",
   "metadata": {},
   "source": [
    "### Do the same for SC, but at hour=6000"
   ]
  },
  {
   "cell_type": "code",
   "execution_count": null,
   "id": "3d7caa52-f3ec-42ce-a230-8dda567f74e7",
   "metadata": {},
   "outputs": [],
   "source": [
    "# Create `dummy_times` DataArray for SC\n",
    "dummy_times = create_empty_da(all_one_in_x_sc['return_value'], keep_dims=['location', 'one_in_x'])"
   ]
  },
  {
   "cell_type": "code",
   "execution_count": null,
   "id": "de3faf2a-8e18-4b45-8e6b-b39e01b0fba5",
   "metadata": {},
   "outputs": [],
   "source": [
    "# Modify event timing here\n",
    "updates = 6000\n",
    "custom_times = set_custom_times(dummy_times, updates)"
   ]
  },
  {
   "cell_type": "code",
   "execution_count": null,
   "id": "38466306-4786-410c-ad19-5b042aa43ed0",
   "metadata": {},
   "outputs": [],
   "source": [
    "# Create and plot modified 8760 for SC\n",
    "modified8760_sc, insert_times = create_modified_8760(clean_raw_data_sc, all_one_in_x_sc, t, custom_times=custom_times)\n",
    "plot_modified8760s(modified8760_sc, insert_times, t)"
   ]
  }
 ],
 "metadata": {
  "kernelspec": {
   "display_name": "climakitae",
   "language": "python",
   "name": "python3"
  },
  "language_info": {
   "codemirror_mode": {
    "name": "ipython",
    "version": 3
   },
   "file_extension": ".py",
   "mimetype": "text/x-python",
   "name": "python",
   "nbconvert_exporter": "python",
   "pygments_lexer": "ipython3",
   "version": "3.12.7"
  }
 },
 "nbformat": 4,
 "nbformat_minor": 5
}
