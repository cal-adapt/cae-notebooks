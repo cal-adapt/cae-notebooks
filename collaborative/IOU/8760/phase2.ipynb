{
 "cells": [
  {
   "cell_type": "markdown",
   "id": "0b9eabbc-b1ee-47a3-9413-3b16efd9ba36",
   "metadata": {},
   "source": [
    "# 8760 Notebook"
   ]
  },
  {
   "cell_type": "markdown",
   "id": "abd6bee9-2dd1-4e31-be9a-4210d1bbf0b9",
   "metadata": {},
   "source": [
    "### Imports"
   ]
  },
  {
   "cell_type": "code",
   "execution_count": null,
   "id": "6041164e-23c0-4d73-8492-899f199972ee",
   "metadata": {},
   "outputs": [],
   "source": [
    "import random\n",
    "import matplotlib.pyplot as plt\n",
    "import numpy as np\n",
    "import pandas as pd\n",
    "import xarray as xr\n",
    "import os\n",
    "from typing import List, Union, Tuple\n",
    "from datetime import timedelta\n",
    "from climakitae.explore.vulnerability import cava_data\n",
    "from climakitae.util.utils import add_dummy_time_to_wl\n",
    "from climakitae.explore.threshold_tools import (\n",
    "    get_block_maxima,\n",
    "    get_return_value,\n",
    ")\n",
    "from phase2 import *\n",
    "random.seed(42)"
   ]
  },
  {
   "cell_type": "markdown",
   "id": "2b34672a-fb74-4c19-826c-6032b97d17e1",
   "metadata": {},
   "source": [
    "### Global Variables"
   ]
  },
  {
   "cell_type": "code",
   "execution_count": null,
   "id": "25396b86-3edc-4965-8c5c-4e5f378696ba",
   "metadata": {},
   "outputs": [],
   "source": [
    "# Putting locations into a DataFrame\n",
    "locations = {\n",
    "    \"goleta\": (34.486652, -119.894310),\n",
    "    \"iv\": (34.427741, -119.855950),\n",
    "    \"sb_mountains\": (34.518453, -119.799645),\n",
    "    \"valencia\": (34.432468, -118.571098),\n",
    "    \"castaic\": (34.492141, -118.605053),\n",
    "    \"lebec\": (34.680102, -118.789246),\n",
    "}\n",
    "\n",
    "df = pd.DataFrame.from_dict(locations, orient='index', columns=['lat', 'lon']).reset_index()\n",
    "df.rename(columns={'index': 'location'}, inplace=True)"
   ]
  },
  {
   "cell_type": "code",
   "execution_count": null,
   "id": "b9ac9576-d42f-4393-89b5-6d07132b28c0",
   "metadata": {},
   "outputs": [],
   "source": [
    "# Santa Barbara area\n",
    "sb = df.iloc[:3][['lat', 'lon']]\n",
    "sb_locs = ['goleta', 'iv', 'sb_mountains']\n",
    "\n",
    "# Santa Clarita area\n",
    "sc = df.iloc[3:6][['lat', 'lon']]\n",
    "sc_locs = ['valencia', 'castaic', 'lebec']"
   ]
  },
  {
   "cell_type": "code",
   "execution_count": null,
   "id": "3d55b3e4-44cf-4fdf-b69d-7cb6bdf0987c",
   "metadata": {},
   "outputs": [],
   "source": [
    "# Set params for 1-in-X calculations\n",
    "one_in_x = np.array([10, 100])\n",
    "event_duration = (1, 'day')\n",
    "distr = 'gev'"
   ]
  },
  {
   "cell_type": "markdown",
   "id": "f2f6dd9e-cfc9-4f63-b365-ccb962dae0bd",
   "metadata": {},
   "source": [
    "### Grabbing appropriate datasets"
   ]
  },
  {
   "cell_type": "code",
   "execution_count": null,
   "id": "42de5f22-7a7c-4f59-ad78-88cb73ae76f7",
   "metadata": {},
   "outputs": [],
   "source": [
    "### Retrieving saved files for SB/SC locations, or generating the data from scratch if not available locally\n",
    "sb_files = [\n",
    "    'one_in_10-100_temperature_raw_data_34495N_-119882W.nc',\n",
    "    'one_in_10-100_temperature_raw_data_34434N_-11987W.nc',\n",
    "    'one_in_10-100_temperature_raw_data_3452N_-119782W.nc'\n",
    "]\n",
    "sc_files = [\n",
    "    'one_in_10-100_temperature_raw_data_34425N_-118559W.nc',\n",
    "    'one_in_10-100_temperature_raw_data_34492N_-118616W.nc',\n",
    "    'one_in_10-100_temperature_raw_data_34695N_-118788W.nc',\n",
    "]\n",
    "\n",
    "clean_raw_data_sb = retrieve_data(sb_locs, sb, sb_files, 'SB')\n",
    "clean_raw_data_sc = retrieve_data(sc_locs, sc, sc_files, 'SC')"
   ]
  },
  {
   "cell_type": "markdown",
   "id": "c1916508-8fb3-4c8a-b406-33088634370c",
   "metadata": {},
   "source": [
    "### Calculating 1-in-X events"
   ]
  },
  {
   "cell_type": "code",
   "execution_count": null,
   "id": "5ce2b41c-ccb9-4709-ba02-e3a2fca484fb",
   "metadata": {},
   "outputs": [],
   "source": [
    "%%time\n",
    "# Calculating the 1-in-X return values, and lower + upper CIs, for SB locations\n",
    "all_one_in_x_sb = get_one_in_x(clean_raw_data_sb, one_in_x, event_duration, distr)\n",
    "calc_data_sb = all_one_in_x_sb['return_value']"
   ]
  },
  {
   "cell_type": "code",
   "execution_count": null,
   "id": "405ce0d7-1637-464e-b851-e0e6d6195671",
   "metadata": {},
   "outputs": [],
   "source": [
    "%%time\n",
    "# Calculating the 1-in-X return values, and lower + upper CIs, for SC locations\n",
    "all_one_in_x_sc = get_one_in_x(clean_raw_data_sc, one_in_x, event_duration, distr)\n",
    "calc_data_sc = all_one_in_x_sc['return_value']"
   ]
  },
  {
   "cell_type": "code",
   "execution_count": null,
   "id": "1dd18a42-dce5-4286-9290-742cd3e85534",
   "metadata": {},
   "outputs": [],
   "source": [
    "# Plotting the 1-in-X values by simulation for Santa Barbara locations\n",
    "plot_retvals(calc_data_sb)"
   ]
  },
  {
   "cell_type": "code",
   "execution_count": null,
   "id": "d2557de6-8109-4dc8-992f-4feeb9c28004",
   "metadata": {},
   "outputs": [],
   "source": [
    "# Plotting the 1-in-X values by simulation for Santa Clarita locations\n",
    "plot_retvals(calc_data_sc)"
   ]
  },
  {
   "cell_type": "code",
   "execution_count": null,
   "id": "2c470110-1f85-4794-a813-948e26e0dbc9",
   "metadata": {},
   "outputs": [],
   "source": [
    "# Finding the median of the above plots along simulation dimension\n",
    "plot_med_val_by_locs(calc_data_sb)"
   ]
  },
  {
   "cell_type": "code",
   "execution_count": null,
   "id": "365a3a20-bf7b-487e-a15a-51b38e1608a3",
   "metadata": {},
   "outputs": [],
   "source": [
    "plot_med_val_by_locs(calc_data_sc)"
   ]
  },
  {
   "cell_type": "markdown",
   "id": "2c825971-488c-4210-be99-6e200b521352",
   "metadata": {},
   "source": [
    "# Inserting `time` amount of 1-in-X timesteps into 8760s"
   ]
  },
  {
   "cell_type": "markdown",
   "id": "77161427-36e8-40c4-8e0f-f2a002367a1e",
   "metadata": {},
   "source": [
    "### Setting a number of +/- days for `ramp up` and `ramp down`, creating modified 8760s, and plotting them "
   ]
  },
  {
   "cell_type": "code",
   "execution_count": null,
   "id": "1ed1bb04-e22e-402a-a7be-fad1362e3b68",
   "metadata": {},
   "outputs": [],
   "source": [
    "# Setting param for number of +/- number of days to 'ramp up' and 'ramp down' by\n",
    "t = 7"
   ]
  },
  {
   "cell_type": "markdown",
   "id": "80ed3e0b-8daa-48d5-a1d6-45d0f658242c",
   "metadata": {},
   "source": [
    "#### Here, we will look into how you can create a `modified8760` using the calculated median times to insert these 1-in-X events, and using the times that a user passes in."
   ]
  },
  {
   "cell_type": "markdown",
   "id": "8c0f4f46-0441-4085-9302-0b7db4861542",
   "metadata": {},
   "source": [
    "#### 1. Using calculated median times to insert 1-in-X events into"
   ]
  },
  {
   "cell_type": "code",
   "execution_count": null,
   "id": "26bb2119-44ab-477a-9e48-3657ec4c85f1",
   "metadata": {},
   "outputs": [],
   "source": [
    "# Create a modified 8760 that injects 1-in-X events into the median times these events occur by location\n",
    "modified8760_sb = create_modified_8760(clean_raw_data_sb, all_one_in_x_sb, t)"
   ]
  },
  {
   "cell_type": "code",
   "execution_count": null,
   "id": "fa750b8e-cdc6-41dd-a888-86837b6d38bd",
   "metadata": {},
   "outputs": [],
   "source": [
    "# Plot the modified 8760 to see the events inserted!\n",
    "plot_modified8760s(modified8760_sb)"
   ]
  },
  {
   "cell_type": "markdown",
   "id": "6e935d40-0594-4d3d-a0e8-037a52f8fee8",
   "metadata": {},
   "source": [
    "#### 2. Insert 1-in-X events at times that users pre-define"
   ]
  },
  {
   "cell_type": "code",
   "execution_count": null,
   "id": "c71000ea-8e25-4adb-aef6-97d607af3e43",
   "metadata": {},
   "outputs": [],
   "source": [
    "# This creates a dummy DataArray that follows the data shape needed to specify custom times\n",
    "dummy_times = create_empty_da(all_one_in_x_sb['return_value'], keep_dims=['location', 'one_in_x'])"
   ]
  },
  {
   "cell_type": "code",
   "execution_count": null,
   "id": "97143193-17d4-4f09-af8c-fc5e5d099b54",
   "metadata": {},
   "outputs": [],
   "source": [
    "# Here, you can manually change the values from `custom_times` to set specific times for these `one_in_x` events to occur.\n",
    "# `updates` can either be a list of dictionaries (if you're looking to set these different events at different times, or you can\n",
    "# set `updates` to a singular number to have all the events be inserted at the same time\n",
    "\n",
    "updates = [\n",
    "    {'location': 'goleta', 'one_in_x': 10, 'value': 1000},\n",
    "    {'location': 'iv', 'one_in_x': 100, 'value': 1000}\n",
    "]\n",
    "\n",
    "# OR YOU CAN DO\n",
    "updates = 3000\n",
    "\n",
    "custom_times = set_custom_times(dummy_times, updates)"
   ]
  },
  {
   "cell_type": "code",
   "execution_count": null,
   "id": "3992d8e6-7f30-492d-9aa8-de84e38245d5",
   "metadata": {},
   "outputs": [],
   "source": [
    "# Calculates the modified 8760 with 1-in-X events inserted at custom times\n",
    "modified8760_sb = create_modified_8760(clean_raw_data_sb, all_one_in_x_sb, t, custom_times=custom_times)"
   ]
  },
  {
   "cell_type": "code",
   "execution_count": null,
   "id": "99cb16d3-e706-44cb-8c94-f99300ec30d5",
   "metadata": {},
   "outputs": [],
   "source": [
    "plot_modified8760s(modified8760_sb)"
   ]
  },
  {
   "cell_type": "markdown",
   "id": "b0172eed-8a5a-4a90-840e-1b94d4ff3b72",
   "metadata": {},
   "source": [
    "#### Do the same for SC, but at hour=6000"
   ]
  },
  {
   "cell_type": "code",
   "execution_count": null,
   "id": "ae67a9ed-4e25-419a-80c4-5e0fd6bc3902",
   "metadata": {},
   "outputs": [],
   "source": [
    "# Create `dummy_times` DataArray for SC\n",
    "dummy_times = create_empty_da(all_one_in_x_sc['return_value'], keep_dims=['location', 'one_in_x'])"
   ]
  },
  {
   "cell_type": "code",
   "execution_count": null,
   "id": "63e616ef-ec16-4966-896f-33a565cc5365",
   "metadata": {},
   "outputs": [],
   "source": [
    "# Modify event timing here\n",
    "updates = 6000\n",
    "custom_times = set_custom_times(dummy_times, updates)"
   ]
  },
  {
   "cell_type": "code",
   "execution_count": null,
   "id": "314ec19c-b54c-4e33-81a4-43e0141864b1",
   "metadata": {},
   "outputs": [],
   "source": [
    "# Create and plot modified 8760 for SC\n",
    "modified8760_sc = create_modified_8760(clean_raw_data_sc, all_one_in_x_sc, t, custom_times=custom_times)\n",
    "plot_modified8760s(modified8760_sc)"
   ]
  }
 ],
 "metadata": {
  "kernelspec": {
   "display_name": "Python 3 (ipykernel)",
   "language": "python",
   "name": "python3"
  },
  "language_info": {
   "codemirror_mode": {
    "name": "ipython",
    "version": 3
   },
   "file_extension": ".py",
   "mimetype": "text/x-python",
   "name": "python",
   "nbconvert_exporter": "python",
   "pygments_lexer": "ipython3",
   "version": "3.12.8"
  }
 },
 "nbformat": 4,
 "nbformat_minor": 5
}
