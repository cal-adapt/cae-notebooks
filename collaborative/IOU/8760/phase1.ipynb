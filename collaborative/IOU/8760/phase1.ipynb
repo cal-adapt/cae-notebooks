{
 "cells": [
  {
   "cell_type": "markdown",
   "id": "0b9eabbc-b1ee-47a3-9413-3b16efd9ba36",
   "metadata": {},
   "source": [
    "# 8760 Notebook"
   ]
  },
  {
   "cell_type": "markdown",
   "id": "abd6bee9-2dd1-4e31-be9a-4210d1bbf0b9",
   "metadata": {},
   "source": [
    "### Imports"
   ]
  },
  {
   "cell_type": "code",
   "execution_count": null,
   "id": "6041164e-23c0-4d73-8492-899f199972ee",
   "metadata": {},
   "outputs": [],
   "source": [
    "import random\n",
    "import matplotlib.pyplot as plt\n",
    "import numpy as np\n",
    "import pandas as pd\n",
    "import cftime\n",
    "import xarray as xr\n",
    "import hvplot.xarray\n",
    "import holoviews as hv\n",
    "import panel as pn\n",
    "from typing import List, Union, Tuple\n",
    "from climakitae.explore.vulnerability import cava_data\n",
    "from climakitae.util.utils import add_dummy_time_to_wl\n",
    "from climakitae.explore.threshold_tools import (\n",
    "    get_block_maxima,\n",
    "    get_return_value,\n",
    "    get_ks_stat,\n",
    "    _get_fitted_distr,\n",
    "    _calculate_return,\n",
    "    _conf_int,\n",
    "    _get_distr_func,\n",
    ")\n",
    "from phase1 import *\n",
    "random.seed(42)"
   ]
  },
  {
   "cell_type": "markdown",
   "id": "2b34672a-fb74-4c19-826c-6032b97d17e1",
   "metadata": {},
   "source": [
    "### Global Variables"
   ]
  },
  {
   "cell_type": "code",
   "execution_count": null,
   "id": "25396b86-3edc-4965-8c5c-4e5f378696ba",
   "metadata": {},
   "outputs": [],
   "source": [
    "# Putting locations into a DataFrame\n",
    "locations = {\n",
    "    \"goleta\": (34.486652, -119.894310),\n",
    "    \"iv\": (34.427741, -119.855950),\n",
    "    \"sb_mountains\": (34.518453, -119.799645),\n",
    "    \"valencia\": (34.432468, -118.571098),\n",
    "    \"castaic\": (34.492141, -118.605053),\n",
    "    \"lebec\": (34.680102, -118.789246),\n",
    "}\n",
    "\n",
    "df = pd.DataFrame.from_dict(locations, orient='index', columns=['lat', 'lon']).reset_index()\n",
    "df.rename(columns={'index': 'location'}, inplace=True)"
   ]
  },
  {
   "cell_type": "code",
   "execution_count": null,
   "id": "b9ac9576-d42f-4393-89b5-6d07132b28c0",
   "metadata": {},
   "outputs": [],
   "source": [
    "# Santa Barbara area\n",
    "sb = df.iloc[:3][['lat', 'lon']]\n",
    "sb_locs = ['goleta', 'iv', 'sb_mountains']\n",
    "\n",
    "# Santa Clarita area\n",
    "sc = df.iloc[3:6][['lat', 'lon']]\n",
    "sc_locs = ['valencia', 'castaic', 'lebec']"
   ]
  },
  {
   "cell_type": "code",
   "execution_count": null,
   "id": "3d55b3e4-44cf-4fdf-b69d-7cb6bdf0987c",
   "metadata": {},
   "outputs": [],
   "source": [
    "# Set params for 1-in-X calculations\n",
    "one_in_x = np.array([10, 100])\n",
    "event_duration = (1, 'day')\n",
    "distr = 'gev'"
   ]
  },
  {
   "cell_type": "markdown",
   "id": "f2f6dd9e-cfc9-4f63-b365-ccb962dae0bd",
   "metadata": {},
   "source": [
    "### Grabbing appropriate datasets"
   ]
  },
  {
   "cell_type": "code",
   "execution_count": null,
   "id": "d72e9fbc-ba97-4815-9d0e-9fd671251e74",
   "metadata": {},
   "outputs": [],
   "source": [
    "locs = [sb, sc]\n",
    "datas = []\n",
    "for loc in locs:\n",
    "    data = cava_data(\n",
    "        ## Set-up\n",
    "        loc, # select a single location\n",
    "        variable=\"Air Temperature at 2m\",\n",
    "        units=\"degF\", # change units\n",
    "        downscaling_method=\"Dynamical\",  # WRF data \n",
    "        approach=\"Warming Level\",  \n",
    "        warming_level=2.0,\n",
    "        wrf_bias_adjust=False, # return bias adjusted WRF models\n",
    "    \n",
    "        # These are passed in but the export method is 'raw', so no calculation is done\n",
    "        # This is because `cava_data` doesn't currently provide lower/upper CI limits for the bootstrapped 1-in-X 'gev' distributions\n",
    "        metric_calc='max',\n",
    "        one_in_x=[10, 100],\n",
    "        event_duration=(1, 'day'),\n",
    "        \n",
    "        ## Export\n",
    "        export_method=\"raw\",\n",
    "        file_format=\"NetCDF\",\n",
    "    )\n",
    "    datas.append(data)\n",
    "\n",
    "sb_data, sc_data = datas"
   ]
  },
  {
   "cell_type": "markdown",
   "id": "c1916508-8fb3-4c8a-b406-33088634370c",
   "metadata": {},
   "source": [
    "### Cleaning data and generating 1-in-X calculations"
   ]
  },
  {
   "cell_type": "code",
   "execution_count": null,
   "id": "81dcebc7-ed1d-4cc9-b37d-dc2d6834c7ae",
   "metadata": {},
   "outputs": [],
   "source": [
    "# Cleaning the raw data from `cava_data`\n",
    "clean_raw_data_sb = clean_raw_data(sb_data, sb_locs)\n",
    "clean_raw_data_sc = clean_raw_data(sc_data, sc_locs)"
   ]
  },
  {
   "cell_type": "code",
   "execution_count": null,
   "id": "5ce2b41c-ccb9-4709-ba02-e3a2fca484fb",
   "metadata": {},
   "outputs": [],
   "source": [
    "%%time\n",
    "# Calculating the 1-in-X return values, and lower + upper CIs, for SB locations\n",
    "all_one_in_x_sb = get_one_in_x(clean_raw_data_sb, one_in_x, event_duration, distr)\n",
    "calc_data_sb = all_one_in_x_sb['return_value']"
   ]
  },
  {
   "cell_type": "code",
   "execution_count": null,
   "id": "405ce0d7-1637-464e-b851-e0e6d6195671",
   "metadata": {},
   "outputs": [],
   "source": [
    "%%time\n",
    "# Calculating the 1-in-X return values, and lower + upper CIs, for SC locations\n",
    "all_one_in_x_sc = get_one_in_x(clean_raw_data_sc, one_in_x, event_duration, distr)\n",
    "calc_data_sc = all_one_in_x_sc['return_value']"
   ]
  },
  {
   "cell_type": "code",
   "execution_count": null,
   "id": "1dd18a42-dce5-4286-9290-742cd3e85534",
   "metadata": {},
   "outputs": [],
   "source": [
    "# Plotting the 1-in-X values by simulation for Santa Barbara locations\n",
    "plot_retvals(calc_data_sb)"
   ]
  },
  {
   "cell_type": "code",
   "execution_count": null,
   "id": "d2557de6-8109-4dc8-992f-4feeb9c28004",
   "metadata": {},
   "outputs": [],
   "source": [
    "# Plotting the 1-in-X values by simulation for Santa Clarita locations\n",
    "plot_retvals(calc_data_sc)"
   ]
  },
  {
   "cell_type": "code",
   "execution_count": null,
   "id": "2c470110-1f85-4794-a813-948e26e0dbc9",
   "metadata": {},
   "outputs": [],
   "source": [
    "# Finding the median of the above plots along simulation dimension\n",
    "plot_med_val_by_locs(calc_data_sb)"
   ]
  },
  {
   "cell_type": "code",
   "execution_count": null,
   "id": "365a3a20-bf7b-487e-a15a-51b38e1608a3",
   "metadata": {},
   "outputs": [],
   "source": [
    "plot_med_val_by_locs(calc_data_sc)"
   ]
  },
  {
   "cell_type": "code",
   "execution_count": null,
   "id": "737bc7a8-13ab-49a6-9807-9946e257ddfc",
   "metadata": {},
   "outputs": [],
   "source": [
    "### Finding the median `hour_of_year` that this 1-in-X event occurs for each simulation\n",
    "med_hrs_sb = find_med_hrs(clean_raw_data_sb, all_one_in_x_sb)\n",
    "med_hrs_sc = find_med_hrs(clean_raw_data_sc, all_one_in_x_sc)"
   ]
  },
  {
   "cell_type": "code",
   "execution_count": null,
   "id": "e96af54e-c1a7-41e7-8d29-ab7de2103aff",
   "metadata": {},
   "outputs": [],
   "source": [
    "# Plotting the median `hour_of_year` by simulation for Santa Barbara locations\n",
    "plot_retvals(med_hrs_sb, time_axis=True)"
   ]
  },
  {
   "cell_type": "code",
   "execution_count": null,
   "id": "7eaea9cb-1d57-4723-bb86-c38c351af141",
   "metadata": {},
   "outputs": [],
   "source": [
    "# Plotting the median `hour_of_year` by simulation for Santa Clairta locations\n",
    "plot_retvals(med_hrs_sc, time_axis=True)"
   ]
  },
  {
   "cell_type": "code",
   "execution_count": null,
   "id": "2c32dea7-a8e1-4204-9077-d6a65dff7c14",
   "metadata": {},
   "outputs": [],
   "source": [
    "# Aggregating along simulation dimension\n",
    "plot_med_val_by_locs(med_hrs_sb, time_axis=True)"
   ]
  },
  {
   "cell_type": "code",
   "execution_count": null,
   "id": "12588b5c-d6d1-406d-9ad9-a4ce3a5d4d58",
   "metadata": {},
   "outputs": [],
   "source": [
    "# Aggregating along simulation dimension\n",
    "plot_med_val_by_locs(med_hrs_sc, time_axis=True)"
   ]
  },
  {
   "cell_type": "markdown",
   "id": "e78238b5-ec6d-47c4-8944-351f43fa38ab",
   "metadata": {},
   "source": [
    "### Inserting 1-in-X events into 8760s"
   ]
  },
  {
   "cell_type": "code",
   "execution_count": null,
   "id": "967fda94-91b8-453d-8dbc-6df11a975ad7",
   "metadata": {},
   "outputs": [],
   "source": [
    "# Calculating the modified 8760s with the 1-in-X events inserted in\n",
    "median8760_sb = clean_raw_data_sb.groupby('hour_of_year').median().median(dim='simulation').squeeze()\n",
    "\n",
    "modified8760_sb = insert_at_hrs(\n",
    "    median8760_sb,    # (location, hour_of_year)\n",
    "    med_hrs_sb.median(dim='simulation'),    # (location, one_in_x)\n",
    "    calc_data_sb.median(dim='simulation'),  # (location, one_in_x)\n",
    "    window=12\n",
    ")"
   ]
  },
  {
   "cell_type": "code",
   "execution_count": null,
   "id": "4fc15e91-317d-418b-b636-84c5634254e3",
   "metadata": {},
   "outputs": [],
   "source": [
    "# Doing the same for Santa Clarita locations\n",
    "median8760_sc = clean_raw_data_sc.groupby('hour_of_year').median().median(dim='simulation').squeeze()\n",
    "\n",
    "modified8760_sc = insert_at_hrs(\n",
    "    median8760_sc,    # (location, hour_of_year)\n",
    "    med_hrs_sc.median(dim='simulation'),    # (location, one_in_x)\n",
    "    calc_data_sc.median(dim='simulation'),  # (location, one_in_x)\n",
    "    window=12\n",
    ")"
   ]
  },
  {
   "cell_type": "code",
   "execution_count": null,
   "id": "1a256dc6-fb1c-4e65-94f8-9d25163d53d4",
   "metadata": {},
   "outputs": [],
   "source": [
    "# Plot the modified 8760s\n",
    "plot_modified8760s(modified8760_sb)"
   ]
  },
  {
   "cell_type": "code",
   "execution_count": null,
   "id": "04aa6899-fcc2-4ef1-890a-8d90930a9977",
   "metadata": {},
   "outputs": [],
   "source": [
    "# Plot the modified 8760s\n",
    "plot_modified8760s(modified8760_sc)"
   ]
  }
 ],
 "metadata": {
  "kernelspec": {
   "display_name": "Python 3 (ipykernel)",
   "language": "python",
   "name": "python3"
  },
  "language_info": {
   "codemirror_mode": {
    "name": "ipython",
    "version": 3
   },
   "file_extension": ".py",
   "mimetype": "text/x-python",
   "name": "python",
   "nbconvert_exporter": "python",
   "pygments_lexer": "ipython3",
   "version": "3.12.8"
  }
 },
 "nbformat": 4,
 "nbformat_minor": 5
}
