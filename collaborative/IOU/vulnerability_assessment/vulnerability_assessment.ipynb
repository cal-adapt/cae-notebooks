{
 "cells": [
  {
   "cell_type": "markdown",
   "id": "90ef497a-dcb7-4b23-aa33-2b7690294144",
   "metadata": {},
   "source": [
    "# Vulnerability Assessment Pilot\n",
    "This notebook demonstrates on-going development of climate adaptation vulnerability assessment (CAVA) support using climate data in the Analytics Engine. \n",
    "\n",
    "To execute a given 'cell' of this notebook, place the cursor in the cell and press the 'play' icon, or simply press shift+enter together. Some cells will take longer to run, and you will see a [$\\ast$] to the left of the cell while AE is still working.\n",
    "\n",
    "**Intended Application**: As a user, I want to **<span style=\"color:#FF0000\">access climate projections data for my vulnerability assessment report</span>** by:\n",
    "1. Retrieve data metrics required for planning needs\n",
    "\n",
    "**Runtime**: With the default settings, this notebook takes approximately **less than 10 minutes** to run from start to finish. Modifications to selections may increase the runtime. <br>*This notebook is currently in progress, runtime will change as improvements and further analyses are added.*\n",
    "\n",
    "### Step 0: Set-up\n",
    "\n",
    "First, we'll import the Python library [climakitae](https://github.com/cal-adapt/climakitae), our AE toolkit for climate data analysis, along with this specific functions from that library that we'll use in this notebook, as well as any other necessary Python libraries to aid in analysis."
   ]
  },
  {
   "cell_type": "code",
   "execution_count": null,
   "id": "be3d6530-a94d-416e-81a3-2fac5e79bf72",
   "metadata": {
    "tags": []
   },
   "outputs": [],
   "source": [
    "import climakitae as ck\n",
    "import pandas as pd\n",
    "\n",
    "from climakitae.explore.vulnerability import cava_data"
   ]
  },
  {
   "cell_type": "markdown",
   "id": "153b50c3-5e8c-4f4c-b7e2-1839ae0c462f",
   "metadata": {
    "tags": []
   },
   "source": [
    "### Step 1: Import locations\n",
    "Now we'll read in point-based locations that we want to retrieve data for. For custom inputs, there are two options: (1) Input a single pair of latitude - longitude values; and (2) Import a csv file of locations that will each run. In the code below we show what each option looks like. \n",
    "\n",
    "Functionality to assess over a gridded area (region) is in the works as well!"
   ]
  },
  {
   "cell_type": "code",
   "execution_count": null,
   "id": "f86bed4b-a58d-4d9b-9a06-adfb5fb89717",
   "metadata": {},
   "outputs": [],
   "source": [
    "## select a single custom location\n",
    "# your_lat = LAT\n",
    "# your_lon = LON"
   ]
  },
  {
   "cell_type": "markdown",
   "id": "c435c50f-dec5-4440-9bd6-e5207a317f92",
   "metadata": {},
   "source": [
    "To import your own custom locations, we recommend putting your csv file in the same folder as this notebook for ease:\n",
    "1. Drag and drop a csv file into the file tree on the left hand side; or\n",
    "2. Use the `upload` button (the \"up arrow\" symbol next to the large blue plus symbol above the file tree). \n",
    "\n",
    "<span style=\"color:#FF0000\">**Formatting note**</span>: For the code cells below to work, there must be **2 columns labeled `lat` and `lon`**. Functionality to accept different labeling is forthcoming!\n",
    "\n",
    "In the cell below, we read the csv file in. We extracted three random locations from the HadISD station list as an example here -- you'll want to replace with your own locations file!"
   ]
  },
  {
   "cell_type": "code",
   "execution_count": null,
   "id": "e7a7366d-562b-4921-8c70-ae76a91a206c",
   "metadata": {},
   "outputs": [],
   "source": [
    "# Read in dummy locations from `stations_csv` file\n",
    "from climakitae.core.paths import stations_csv_path\n",
    "from climakitae.util.utils import read_csv_file\n",
    "example_locs = read_csv_file(stations_csv_path, index_col=0)[['LAT_Y', 'LON_X']].rename(columns={'LAT_Y': 'lat', 'LON_X': 'lon'})"
   ]
  },
  {
   "cell_type": "code",
   "execution_count": null,
   "id": "17a24db2-dc22-41b9-a259-682781a0b0b0",
   "metadata": {
    "tags": []
   },
   "outputs": [],
   "source": [
    "# select a location from the location list\n",
    "one_loc = example_locs.loc[example_locs.index == 0]\n",
    "loc_lat = one_loc.lat.values[0]\n",
    "loc_lon = one_loc.lon.values[0]\n",
    "print(loc_lat, loc_lon)"
   ]
  },
  {
   "cell_type": "markdown",
   "id": "33a18588-8941-416f-b641-5dcd7d342884",
   "metadata": {},
   "source": [
    "### Step 2: Retrieve metric data"
   ]
  },
  {
   "cell_type": "markdown",
   "id": "5654fe37-8070-4c9a-8404-051b6412be47",
   "metadata": {},
   "source": [
    "Here, we'll list some of the available arguments for the `cava_data` function for certain parameters."
   ]
  },
  {
   "cell_type": "code",
   "execution_count": null,
   "id": "b4c35317-e5b9-45bf-9d06-634b0d33725e",
   "metadata": {},
   "outputs": [],
   "source": [
    "available_variables = [\n",
    "    \"Air Temperature at 2m\",\n",
    "    \"Precipitation (total)\",\n",
    "    \"NOAA Heat Index\",\n",
    "]\n",
    "available_metrics = [\"min\", \"max\", \"mean\", \"median\"]\n",
    "ssps = [\"SSP2-4.5\", \"SSP3-7.0\", \"SSP5-8.5\"]\n",
    "export_method = ['off-ramp', 'calculate', 'both']"
   ]
  },
  {
   "cell_type": "markdown",
   "id": "1495078a-97ab-4be1-b154-20330c6ab270",
   "metadata": {},
   "source": [
    "Now, we'll run the `cava_data` function with the arguments that you have changed below."
   ]
  },
  {
   "cell_type": "code",
   "execution_count": null,
   "id": "c89a2fc7-bc64-4edb-8446-648a183eb8c3",
   "metadata": {},
   "outputs": [],
   "source": [
    "data = cava_data(\n",
    "    example_locs.iloc[:1],\n",
    "    time_start_year=2030,\n",
    "    time_end_year=2050,\n",
    "    units=\"degF\",\n",
    "    downscaling_method=\"Dynamical\",  # default for now ## mandatory\n",
    "    approach=\"time\",  \n",
    "    warming_level='3.0',\n",
    "    wrf_bc=True,\n",
    "    historical_data=\"Historical Climate\",  # or \"historical reconstruction\"\n",
    "    ssp_data=[\"SSP3-7.0\"],\n",
    "    variable=\"Air Temperature at 2m\",  ## mandatory, must eventually accept temp, precip, or heat index\n",
    "    metric_calc=\"max\", \n",
    "    heat_idx_threshold=None, # Heat Index Threshold\n",
    "    one_in_x=2, # One-in-X\n",
    "    percentile=None, # Likeliness\n",
    "    season=\"summer\",\n",
    "    export_method=\"calculate\",  # off-ramp, full calculate, both\n",
    "    separate_files=True, # Toggle to determine whether or not the user wants to separate climate variable information into separate files\n",
    "    file_format=\"NetCDF\",\n",
    ")"
   ]
  },
  {
   "cell_type": "markdown",
   "id": "befaee12-c451-4827-a783-8bf6ca9257bc",
   "metadata": {},
   "source": [
    "---"
   ]
  },
  {
   "cell_type": "markdown",
   "id": "d7e6b5b8-ce77-4202-8f8f-73a6b2debc10",
   "metadata": {},
   "source": [
    "### Appendix: Table Generation Sample Code"
   ]
  },
  {
   "cell_type": "markdown",
   "id": "9c558433-b9c2-4b3a-b001-cce58c9067e0",
   "metadata": {},
   "source": [
    "Below, you'll find code that generates a vulnerability table given the email Alex C. sent about different variables SCE is looking to track. Feel free to run it and check it out! It is still very much in progress."
   ]
  },
  {
   "cell_type": "code",
   "execution_count": null,
   "id": "81e1889d-c155-4d36-b134-abaafd7bf711",
   "metadata": {},
   "outputs": [],
   "source": [
    "from climakitae.explore.vulnerability_table import create_vul_table"
   ]
  },
  {
   "cell_type": "code",
   "execution_count": null,
   "id": "6c35d388-1989-4716-8c9f-d78f435c9bb7",
   "metadata": {},
   "outputs": [],
   "source": [
    "df = create_vul_table(example_locs.iloc[10])"
   ]
  }
 ],
 "metadata": {
  "kernelspec": {
   "display_name": "Python 3 (ipykernel)",
   "language": "python",
   "name": "python3"
  },
  "language_info": {
   "codemirror_mode": {
    "name": "ipython",
    "version": 3
   },
   "file_extension": ".py",
   "mimetype": "text/x-python",
   "name": "python",
   "nbconvert_exporter": "python",
   "pygments_lexer": "ipython3",
   "version": "3.9.13"
  }
 },
 "nbformat": 4,
 "nbformat_minor": 5
}
