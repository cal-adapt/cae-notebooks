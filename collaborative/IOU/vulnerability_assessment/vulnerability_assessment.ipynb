{
 "cells": [
  {
   "cell_type": "markdown",
   "id": "90ef497a-dcb7-4b23-aa33-2b7690294144",
   "metadata": {},
   "source": [
    "# Vulnerability Assessment Pilot\n",
    "This notebook demonstrates on-going development of climate adaptation vulnerability assessment (CAVA) support using climate data in the Analytics Engine. \n",
    "\n",
    "To execute a given 'cell' of this notebook, place the cursor in the cell and press the 'play' icon, or simply press shift+enter together. Some cells will take longer to run, and you will see a [$\\ast$] to the left of the cell while AE is still working.\n",
    "\n",
    "**Intended Application**: As a user, I want to **<span style=\"color:#FF0000\">access climate projections data for my vulnerability assessment report</span>** by:\n",
    "1. Retrieve data metrics required for planning needs\n",
    "\n",
    "**Runtime**: With the default settings, this notebook takes approximately **less than 10 minutes** to run from start to finish. Modifications to selections may increase the runtime. <br>*This notebook is currently in progress, runtime will change as improvements and further analyses are added.*\n",
    "\n",
    "### Step 0: Set-up\n",
    "\n",
    "First, we'll import the Python library [climakitae](https://github.com/cal-adapt/climakitae), our AE toolkit for climate data analysis, along with this specific functions from that library that we'll use in this notebook, as well as any other necessary Python libraries to aid in analysis."
   ]
  },
  {
   "cell_type": "code",
   "execution_count": null,
   "id": "be3d6530-a94d-416e-81a3-2fac5e79bf72",
   "metadata": {
    "tags": []
   },
   "outputs": [],
   "source": [
    "import climakitae as ck\n",
    "import pandas as pd\n",
    "\n",
    "from climakitae.explore.vulnerability import cava_data"
   ]
  },
  {
   "cell_type": "markdown",
   "id": "153b50c3-5e8c-4f4c-b7e2-1839ae0c462f",
   "metadata": {
    "tags": []
   },
   "source": [
    "### Step 1: Import locations\n",
    "Now we'll read in point-based locations that we want to retrieve data for. For custom inputs, there are two options: (1) Input a single pair of latitude - longitude values; and (2) Import a csv file of locations that will each run. In the code below we show what each option looks like. \n",
    "\n",
    "Functionality to assess over a gridded area (region) is in the works as well!"
   ]
  },
  {
   "cell_type": "code",
   "execution_count": null,
   "id": "f86bed4b-a58d-4d9b-9a06-adfb5fb89717",
   "metadata": {},
   "outputs": [],
   "source": [
    "## select a single custom location\n",
    "# your_lat = LAT\n",
    "# your_lon = LON"
   ]
  },
  {
   "cell_type": "markdown",
   "id": "c435c50f-dec5-4440-9bd6-e5207a317f92",
   "metadata": {},
   "source": [
    "To import your own custom locations, we recommend putting your csv file in the same folder as this notebook for ease:\n",
    "1. Drag and drop a csv file into the file tree on the left hand side; or\n",
    "2. Use the `upload` button (the \"up arrow\" symbol next to the large blue plus symbol above the file tree). \n",
    "\n",
    "<span style=\"color:#FF0000\">**Formatting note**</span>: For the code cells below to work, there must be **2 columns labeled `lat` and `lon`**. Functionality to accept different labeling is forthcoming!\n",
    "\n",
    "In the cell below, we read the csv file in. We extracted three random locations from the HadISD station list as an example here -- you'll want to replace with your own locations file!"
   ]
  },
  {
   "cell_type": "code",
   "execution_count": null,
   "id": "e7a7366d-562b-4921-8c70-ae76a91a206c",
   "metadata": {},
   "outputs": [],
   "source": [
    "# Read in dummy locations from `stations_csv` file\n",
    "from climakitae.core.paths import stations_csv_path\n",
    "from climakitae.util.utils import read_csv_file\n",
    "example_locs = read_csv_file(stations_csv_path, index_col=0)[['LAT_Y', 'LON_X']].rename(columns={'LAT_Y': 'lat', 'LON_X': 'lon'})"
   ]
  },
  {
   "cell_type": "code",
   "execution_count": null,
   "id": "17a24db2-dc22-41b9-a259-682781a0b0b0",
   "metadata": {
    "tags": []
   },
   "outputs": [],
   "source": [
    "# select a location from the location list\n",
    "one_loc = example_locs.loc[example_locs.index == 0]\n",
    "loc_lat = one_loc.lat.values[0]\n",
    "loc_lon = one_loc.lon.values[0]\n",
    "print(loc_lat, loc_lon)"
   ]
  },
  {
   "cell_type": "markdown",
   "id": "33a18588-8941-416f-b641-5dcd7d342884",
   "metadata": {},
   "source": [
    "### Step 2: Retrieve metric data"
   ]
  },
  {
   "cell_type": "markdown",
   "id": "d5bafbc5-2695-422e-a6b7-4795aeb418ad",
   "metadata": {},
   "source": [
    "The `cava_data` funciontality is designed to provide flexibility over customizable metric calculation. Below is a table outlining all avaialble arguments to the `cava_data` function. The \"Required\" flag notes whether the argument must be passed to start generating data. Input options for each argument is provided, as well as whether a setting is required for any of the required selections. \n",
    "\n",
    "| Argument | Required? | Options | Argument required for | Notes |\n",
    "|----------|-----------|---------|-----------------------|-------|\n",
    "|location | Yes | Pass a location via csv. | |*In progress direct input*|\n",
    "|variable | Yes | \"Air Temperature at 2m\", \"NOAA Heat Index\"| |*In progress \"Precipitation (total)\"* |\n",
    "|approach | Yes | \"time\", \"gwl\" | | *In progress GWL*|\n",
    "|downscaling_method | Yes | \"dynamical\", \"statistical\"| | *In progress statistical*|\n",
    "|time_start_year | No | Numerical (min is 1981) | Required for **approach=time** |\n",
    "|time_end_year | No | Numerical (max is 2100) | Required for **approach=time**|\n",
    "|historical_data| No | \"Historical Climate\", \"Historical Reconstruction\" | | *In progress Historical Reconstruction*|\n",
    "|ssp_data | No | \"[SSP2-4.5]\", \"[SSP3-7.0]\", \"[SSP5-8.5]\" | Required for **approach=time** |Dynamical only has SSP3-7.0, Statisical has all 3|\n",
    "|warming_level| No| \"1.5\", \"2.0\", \"3.0\" | Required for **approach=gwl**|\n",
    "|metric_calc| No | \"max\", \"min\" |\n",
    "|heat_idx_threshold | No | Numerical | Required for **variable=\"NOAA Heat Index\"** |\n",
    "|one_in_x | No | Numerical |\n",
    "|percentile | No | Numerical (0-100) | | Default set to 50th percentile |\n",
    "|season| No | \"summer\", \"winter\", \"all\" |\n",
    "|units | Optional | Temp/Heat Index: \"degF\", \"degC\", \"K\". Precip: \"mm\", \"inches\" | | Default for temp/heat index is DegF. *In progress Precip*|\n",
    "|wrf_bc| Optional | True, False | | Only applicalble for **downscaling_method=\"dynamical\"**. Default is True |\n",
    "|export_method| Optional | \"off-ramp\", \"calculate\", \"both\" |  |Default set to \"both\" |\n",
    "|file_format | Optional | \"NetCDF\", \"csv\" |  |Default set to \"NetCDF\" |\n",
    "|separate_files | Optional | True, False |"
   ]
  },
  {
   "cell_type": "markdown",
   "id": "f311c009-62a6-418b-b409-c831c3b3747d",
   "metadata": {},
   "source": [
    "For example, if I wanted to calculate **Likely summer day high temperature for 2030, where likely is the 75th percentile, in Celsius, using WRF data, and export only the calculated metric data** I would input:<br>\n",
    "data = cava_data(<br>\n",
    "   location = example_locs, <br>\n",
    "   variable = \"Air Temperature at 2m\", <br>\n",
    "   approach = \"time\", <br>\n",
    "   downscaling_method = \"Dynamical\", <br>\n",
    "   time_start_year = 2030, <br>\n",
    "   time_start_end = 2050, <br>\n",
    "   ssp_data = [\"SSP3-7.0\"], <br>\n",
    "   metric_calc = \"max\", <br>\n",
    "   percentile = 75, <br>\n",
    "   season = \"summer\", <br>\n",
    "   units = \"degC\", <br>\n",
    "   export_method = \"calculate\"<br>\n",
    ")"
   ]
  },
  {
   "cell_type": "code",
   "execution_count": null,
   "id": "c89a2fc7-bc64-4edb-8446-648a183eb8c3",
   "metadata": {
    "tags": []
   },
   "outputs": [],
   "source": [
    "data = cava_data(\n",
    "    example_locs.iloc[:1],\n",
    "    time_start_year=2030,\n",
    "    time_end_year=2050,\n",
    "    units=\"degF\",\n",
    "    downscaling_method=\"Dynamical\",  # default for now ## mandatory\n",
    "    approach=\"time\",  \n",
    "    warming_level='3.0',\n",
    "    wrf_bc=True,\n",
    "    historical_data=\"Historical Climate\",  # or \"historical reconstruction\"\n",
    "    ssp_data=[\"SSP3-7.0\"],\n",
    "    variable=\"Air Temperature at 2m\",  ## mandatory, must eventually accept temp, precip, or heat index\n",
    "    metric_calc=\"max\", \n",
    "    heat_idx_threshold=None, # Heat Index Threshold\n",
    "    one_in_x=2, # One-in-X\n",
    "    percentile=None, # Likeliness\n",
    "    season=\"summer\",\n",
    "    export_method=\"calculate\",  # off-ramp, full calculate, both\n",
    "    separate_files=True, # Toggle to determine whether or not the user wants to separate climate variable information into separate files\n",
    "    file_format=\"NetCDF\",\n",
    ")"
   ]
  },
  {
   "cell_type": "markdown",
   "id": "befaee12-c451-4827-a783-8bf6ca9257bc",
   "metadata": {},
   "source": [
    "---"
   ]
  },
  {
   "cell_type": "markdown",
   "id": "d7e6b5b8-ce77-4202-8f8f-73a6b2debc10",
   "metadata": {},
   "source": [
    "### Appendix: Table Generation Sample Code"
   ]
  },
  {
   "cell_type": "markdown",
   "id": "9c558433-b9c2-4b3a-b001-cce58c9067e0",
   "metadata": {},
   "source": [
    "Below, you'll find code that generates a table with different climate data metrics used in a CAVA Report. Feel free to run it and check it out! It is still very much in progress."
   ]
  },
  {
   "cell_type": "code",
   "execution_count": null,
   "id": "81e1889d-c155-4d36-b134-abaafd7bf711",
   "metadata": {},
   "outputs": [],
   "source": [
    "from climakitae.explore.vulnerability_table import create_vul_table"
   ]
  },
  {
   "cell_type": "code",
   "execution_count": null,
   "id": "6c35d388-1989-4716-8c9f-d78f435c9bb7",
   "metadata": {},
   "outputs": [],
   "source": [
    "df = create_vul_table(example_locs.iloc[10])"
   ]
  }
 ],
 "metadata": {
  "kernelspec": {
   "display_name": "Python 3 (ipykernel)",
   "language": "python",
   "name": "python3"
  },
  "language_info": {
   "codemirror_mode": {
    "name": "ipython",
    "version": 3
   },
   "file_extension": ".py",
   "mimetype": "text/x-python",
   "name": "python",
   "nbconvert_exporter": "python",
   "pygments_lexer": "ipython3",
   "version": "3.9.13"
  }
 },
 "nbformat": 4,
 "nbformat_minor": 5
}
