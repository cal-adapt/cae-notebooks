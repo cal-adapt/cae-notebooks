{
 "cells": [
  {
   "cell_type": "markdown",
   "id": "4568d804-5e4e-4eb9-849c-dca0cb070904",
   "metadata": {},
   "source": [
    "# Climate data for hourly load forecast model\n",
    "How can AE tools be used to generate synthetic time series for Demand Forecast Unit applications in the hourly load forecasting model?"
   ]
  },
  {
   "cell_type": "code",
   "execution_count": null,
   "id": "29651f54-d982-4665-830b-8d01852644f4",
   "metadata": {},
   "outputs": [],
   "source": [
    "import climakitae as ck\n",
    "import xarray as xr\n",
    "import hvplot.pandas \n",
    "import pandas as pd\n",
    "import panel as pn\n",
    "pn.extension()"
   ]
  },
  {
   "cell_type": "code",
   "execution_count": null,
   "id": "057d2555-9671-4422-a20e-df847cc1841a",
   "metadata": {},
   "outputs": [],
   "source": [
    "app = ck.Application()"
   ]
  },
  {
   "cell_type": "markdown",
   "id": "85c289ef-1374-4457-8ca3-688bab78d020",
   "metadata": {},
   "source": [
    "## Step 1) Average Meteorological Year (AMY) \n",
    "First, set `app.location` to the location you wish to subset the data by. We've selected the Demand Forecast Zone for the LA Metro region. **This can also be set in the app.select panel by just selecting your desired region from the dropdown.** <br><br>An area average will be computed over the grid cells in this selected region in the next step."
   ]
  },
  {
   "cell_type": "code",
   "execution_count": null,
   "id": "3508afbb-a383-46f0-96d4-56c792f00cad",
   "metadata": {},
   "outputs": [],
   "source": [
    "app.location.area_subset = \"CA Electricity Demand Forecast Zones\"\n",
    "app.location.cached_area = \"LA Metro\""
   ]
  },
  {
   "cell_type": "markdown",
   "id": "91316c65-69b6-4fbc-b120-f23049e84800",
   "metadata": {},
   "source": [
    "Next, choose the variable you wish to observe and the units of that variable. Again, this can also be set in the app.select panel. "
   ]
  },
  {
   "cell_type": "code",
   "execution_count": null,
   "id": "bf50b33f-fba6-4414-847b-61455abc449d",
   "metadata": {},
   "outputs": [],
   "source": [
    "app.selections.variable = \"Air Temperature at 2m\" \n",
    "app.selections.units = \"degF\""
   ]
  },
  {
   "cell_type": "markdown",
   "id": "1ad28340-2fbf-48ca-ba25-75db2905eeb7",
   "metadata": {},
   "source": [
    "Next, set the spatial resolution you would like to use. The options are 45 km, 9 km, and 3 km, but we recommend sticking with just 45 km or 9 km to avoid long compute times or overloading the available memory."
   ]
  },
  {
   "cell_type": "code",
   "execution_count": null,
   "id": "d94bbbb0-80be-4fed-8d6b-522fffbc1477",
   "metadata": {},
   "outputs": [],
   "source": [
    "app.selections.resolution = \"45 km\""
   ]
  },
  {
   "cell_type": "markdown",
   "id": "f51db07c-8a8b-4ff8-8d85-a3954d7ca0aa",
   "metadata": {},
   "source": [
    "Now, we'll use the function `retrieve_meteo_yr_data()` from climakitae.meteo_yr to easily grab the relevant data from the AWS catalog. You can modify `year_start` and `year_end` to set the data's date range; the default range is 30 years past the set start year. <br><br>By default, this function will grab SSP 3-7.0; to change this, simply set the argument `ssp` to whatever SSP you're interested in. We'll show you how to do this in step 2 when we compute a severe meteorological year. "
   ]
  },
  {
   "cell_type": "code",
   "execution_count": null,
   "id": "fedcbdf8-85b1-4d81-8305-5f21bb9a32f5",
   "metadata": {},
   "outputs": [],
   "source": [
    "t2_data_historical = app.retrieve_meteo_yr_data(year_start=1984, year_end=2014)\n",
    "t2_data_current_day = app.retrieve_meteo_yr_data(year_start=1993, year_end=2023)\n",
    "t2_data_future_15yr = app.retrieve_meteo_yr_data(year_start=2023, year_end=2053)\n",
    "t2_data_future_30yr = app.retrieve_meteo_yr_data(year_start=2038, year_end=2068)"
   ]
  },
  {
   "cell_type": "markdown",
   "id": "b86b9e43-42a8-41ba-b5ac-2093a144fe5d",
   "metadata": {},
   "source": [
    "The data is returned as an xarray DataArray object, an excellent data type for easily manipulating gridded data. "
   ]
  },
  {
   "cell_type": "markdown",
   "id": "cba4dfe5-24c2-403b-8404-d5142aca0d2c",
   "metadata": {},
   "source": [
    "### 1c) Calculate an average meteorological year \n",
    "Before performing any calculations, we'll load the data into memory. This cell will likely take a few minutes to run. "
   ]
  },
  {
   "cell_type": "code",
   "execution_count": null,
   "id": "9fc4313b-56d6-4b24-8ee1-3c673abd3e78",
   "metadata": {},
   "outputs": [],
   "source": [
    "%%time\n",
    "t2_data_historical = app.load(t2_data_historical)\n",
    "t2_data_current_day = app.load(t2_data_current_day)\n",
    "t2_data_future_15yr = app.load(t2_data_future_15yr)\n",
    "t2_data_future_30yr = app.load(t2_data_future_30yr)"
   ]
  },
  {
   "cell_type": "markdown",
   "id": "28412252-ddd7-4101-b60d-7907cd1861ed",
   "metadata": {},
   "source": [
    "Next, we'll use the function `compute_amy()` from climakitae.meteo_yr to compute the average meteorological year for each input dataset. We'll also set the argument `show_pbar=True` to output a progress bar. "
   ]
  },
  {
   "cell_type": "code",
   "execution_count": null,
   "id": "b11c74c7-1ec0-4688-a98f-44e7b71a5aed",
   "metadata": {},
   "outputs": [],
   "source": [
    "from climakitae.meteo_yr import compute_amy"
   ]
  },
  {
   "cell_type": "code",
   "execution_count": null,
   "id": "1ced1463-c0c7-4a6a-ba54-839a67dea3af",
   "metadata": {},
   "outputs": [],
   "source": [
    "%%time\n",
    "t2_amy_historical = compute_amy(t2_data_historical, show_pbar=True)\n",
    "t2_amy_current_day = compute_amy(t2_data_current_day, show_pbar=True)\n",
    "t2_amy_future_15yr = compute_amy(t2_data_future_15yr, show_pbar=True)\n",
    "t2_amy_future_30yr = compute_amy(t2_data_future_30yr, show_pbar=True)"
   ]
  },
  {
   "cell_type": "markdown",
   "id": "6b6e61a4-e123-456c-a956-bc3bd000e21a",
   "metadata": {},
   "source": [
    "Lastly, let's preview what this output data looks like. The data is returned as a pandas DataFrame, a tabular object that can easily be output to a csv file. Below, we can view the first 5 rows. "
   ]
  },
  {
   "cell_type": "code",
   "execution_count": null,
   "id": "641d792d-e1d4-4e54-ac07-0ac08a0906d9",
   "metadata": {},
   "outputs": [],
   "source": [
    "t2_amy_historical.head()"
   ]
  },
  {
   "cell_type": "markdown",
   "id": "49519d38-5d77-49b3-a8eb-1b2dc9d8f50c",
   "metadata": {},
   "source": [
    "### 1d) Make a heatmap of the data \n",
    "We'll use the helper function `meteo_yr_heatmap` available in climakitae to easily make a heatmap of the data."
   ]
  },
  {
   "cell_type": "code",
   "execution_count": null,
   "id": "1043b46e-058c-4abb-90da-bb9e18dde3d3",
   "metadata": {},
   "outputs": [],
   "source": [
    "from climakitae.meteo_yr import meteo_yr_heatmap"
   ]
  },
  {
   "cell_type": "code",
   "execution_count": null,
   "id": "b396fb2f-d753-4ada-879b-51f46bbf8735",
   "metadata": {},
   "outputs": [],
   "source": [
    "var_and_units = \"{0} ({1})\".format(t2_data_historical.name,t2_data_historical.units)\n",
    "meteo_yr_heatmap(\n",
    "    meteo_yr_df=t2_amy_historical, \n",
    "    title=\"Historical Meteorological Year\",\n",
    "    clabel=var_and_units\n",
    ")"
   ]
  },
  {
   "cell_type": "markdown",
   "id": "1f9156ed-be45-47bf-a5ca-a227833da145",
   "metadata": {},
   "source": [
    "### 1e) Compare the mean monthly data for each dataset \n",
    "To do this, we'll first compute the mean monthly value using the helper function `compute_mean_monthly_meteo_yr` from climakitae. Then, we'll use hvplot to make an interactive line plot of the data. You can see the mean monthly temperature is projected to be warmer for every month as we go farther into the future. "
   ]
  },
  {
   "cell_type": "code",
   "execution_count": null,
   "id": "d46f97a7-2ced-4f7f-bced-c764de7264b5",
   "metadata": {},
   "outputs": [],
   "source": [
    "from climakitae.meteo_yr import compute_mean_monthly_meteo_yr"
   ]
  },
  {
   "cell_type": "code",
   "execution_count": null,
   "id": "bf224773-ae14-44f6-a4a4-a174eba7008c",
   "metadata": {},
   "outputs": [],
   "source": [
    "# Compute mean monthly_values\n",
    "t2_amy_historical_monmean = compute_mean_monthly_meteo_yr(t2_amy_historical, col_name=\"historical\")\n",
    "t2_amy_current_day_monmean = compute_mean_monthly_meteo_yr(t2_amy_current_day, col_name=\"current_day\")\n",
    "t2_amy_future_15yr_monmean = compute_mean_monthly_meteo_yr(t2_amy_future_15yr, col_name=\"future_15yr\")\n",
    "t2_amy_future_30yr_monmean = compute_mean_monthly_meteo_yr(t2_amy_future_30yr, col_name=\"future_30yr\")\n",
    "\n",
    "# Merge the individual dataframes so it's easier to plot \n",
    "data_all = pd.concat(\n",
    "    [t2_amy_future_30yr_monmean,t2_amy_future_15yr_monmean,t2_amy_current_day_monmean,t2_amy_historical_monmean], \n",
    "    axis=\"columns\"\n",
    ")\n",
    "\n",
    "# Display the lineplot! \n",
    "data_all.hvplot(width=800, height=300, grid=True, ylabel=var_and_units,title=\"Average Meteorological Year: Comparison Between Time Periods\")"
   ]
  },
  {
   "cell_type": "markdown",
   "id": "e5c08c8a-653e-4f11-9c3f-07906e59afb5",
   "metadata": {},
   "source": [
    "### 1f) Output the data to a csv file "
   ]
  },
  {
   "cell_type": "code",
   "execution_count": null,
   "id": "00272e1f-434b-4a27-8872-bd3c58e7d20e",
   "metadata": {},
   "outputs": [],
   "source": [
    "t2_amy_historical.to_csv(\"t2_amy_historical.csv\")"
   ]
  },
  {
   "cell_type": "markdown",
   "id": "cd0223c0-671b-4090-886c-b3ab61140669",
   "metadata": {},
   "source": [
    "### 1g) Repeat this process for another variable \n",
    "Now, we'll perform the same computations as above for dew point temperature. You could also put this code in a loop to streamline this process-- we've separated it here to better show the process, but a loop would be faster and more streamlined, especially if you want to compute AMY for several variables. "
   ]
  },
  {
   "cell_type": "code",
   "execution_count": null,
   "id": "2e964937-fc43-440d-b8dd-53e305406649",
   "metadata": {},
   "outputs": [],
   "source": [
    "# %%time\n",
    "# # Reset variable and units \n",
    "# app.selections.variable = \"Dew point temperature\" \n",
    "# app.selections.units = \"degF\"\n",
    "\n",
    "# # Retrieve data\n",
    "# dpt_data_historical = app.retrieve_meteo_yr_data(year_start=1984, year_end=2014)\n",
    "# dpt_data_current_day = app.retrieve_meteo_yr_data(year_start=1993, year_end=2023)\n",
    "# dpt_data_future_15yr = app.retrieve_meteo_yr_data(year_start=2023, year_end=2053)\n",
    "# dpt_data_future_30yr = app.retrieve_meteo_yr_data(year_start=2038, year_end=2068)\n",
    "\n",
    "# # Read data into memory \n",
    "# dpt_data_historical = app.load(dpt_data_historical)\n",
    "# dpt_data_current_day = app.load(dpt_data_current_day)\n",
    "# dpt_data_future_15yr = app.load(dpt_data_future_15yr)\n",
    "# dpt_data_future_30yr = app.load(dpt_data_future_30yr)\n",
    "\n",
    "# # Compute AMY \n",
    "# dpt_amy_historical = compute_amy(dpt_data_historical, show_pbar=True)\n",
    "# dpt_data_current_day = compute_amy(dpt_data_current_day, show_pbar=True)\n",
    "# dpt_amy_future_15yr = compute_amy(dpt_data_future_15yr, show_pbar=True)\n",
    "# dpt_amy_future_30yr = compute_amy(dpt_data_future_30yr, show_pbar=True)"
   ]
  },
  {
   "cell_type": "markdown",
   "id": "e4ce8fdb-debb-4b8f-91b6-cbb76b036749",
   "metadata": {},
   "source": [
    "## Step 2) Severe Meteorological Year"
   ]
  },
  {
   "cell_type": "markdown",
   "id": "09acbcef-8a25-46d8-8d6f-43f327a22dc4",
   "metadata": {
    "tags": []
   },
   "source": [
    "### 2a) Compute the Severe Meteorological Year\n",
    "Next we'll explore how to determine a 'severe' meteorological year, by quantifying severity with the 90th percentile of the data. \n",
    "\n",
    "Let's return to air temperature at 2m for our variable for ease. Because we already have this data loaded from step 1, we can skip ahead to computing the severe meteorological year. We will calculate the severe meteorological year with the climakitae function `compute_severe_yr()` which utilizes the 90th percentile to examine extremes."
   ]
  },
  {
   "cell_type": "code",
   "execution_count": null,
   "id": "4e3ab8ac-3b0a-4cee-a550-20d83e420a4e",
   "metadata": {},
   "outputs": [],
   "source": [
    "from climakitae.meteo_yr import compute_severe_yr"
   ]
  },
  {
   "cell_type": "code",
   "execution_count": null,
   "id": "00f7d471-2310-493f-81d0-40ed490cf716",
   "metadata": {},
   "outputs": [],
   "source": [
    "%%time\n",
    "t2_smy_historical = compute_severe_yr(t2_data_historical, show_pbar=True)\n",
    "t2_smy_current_day = compute_severe_yr(t2_data_current_day, show_pbar=True)\n",
    "t2_smy_future_15yr = compute_severe_yr(t2_data_future_15yr, show_pbar=True)\n",
    "t2_smy_future_30yr = compute_severe_yr(t2_data_future_30yr, show_pbar=True)"
   ]
  },
  {
   "cell_type": "markdown",
   "id": "ec8c922d-5765-4262-b68c-700ee9c3b69b",
   "metadata": {},
   "source": [
    "### 2b) Compare the Average Meteorological Year and Severe Meteorological Year"
   ]
  },
  {
   "cell_type": "markdown",
   "id": "e4aaea3d-f835-4213-b638-5232055eb25f",
   "metadata": {},
   "source": [
    "Here, we'll show mean monthly values for the average meteorological year and the severe meteorological year. We can use the helper function `compute_mean_monthly_meteo_yr` to compute the monthly mean values for each dataset, then hvplot to make interactive lineplots of the data (just as we did in step 1e). You can easily see in the outputted lineplot that the Severe Meteorological Year shows higher average monthly temperatures. "
   ]
  },
  {
   "cell_type": "code",
   "execution_count": null,
   "id": "b25144ce-9edd-444a-8a0f-ea7b5391e32c",
   "metadata": {},
   "outputs": [],
   "source": [
    "# Compute monthly mean values \n",
    "t2_amy_historical_monmean = compute_mean_monthly_meteo_yr(t2_amy_historical, col_name=\"Average Meteorological Year\")\n",
    "t2_smy_historical_monmean = compute_mean_monthly_meteo_yr(t2_smy_historical, col_name=\"Severe Meteorological Year\")\n",
    "\n",
    "# Merge the individual dataframes so it's easier to plot \n",
    "data_all = pd.concat( \n",
    "    [t2_smy_historical_monmean,t2_amy_historical_monmean], \n",
    "    axis=\"columns\"\n",
    ")\n",
    "\n",
    "# Display plot! \n",
    "data_all.hvplot(width=800, height=300, grid=True, ylabel=var_and_units, title=\"Historical Meteorological Year: Comparing Average vs. Severe\")"
   ]
  },
  {
   "cell_type": "markdown",
   "id": "fd2733d6-4553-4911-bbb7-80f21c18f516",
   "metadata": {},
   "source": [
    "### 2c) Mid and high climate scenarios for the future\n",
    "\n",
    "Let's now repeat this process to calculate a severe meteorological year in a high climate scenario. We'll demonstrate how to do this for the period 30 years in the future, then compare with the SSP3-7.0 severe meteorological year. <br><br>To change the scenario used, simply set the argument `ssp` to your desired scenario in the function `app.retrieve_meteo_yr_data`. This function defaults to SSP3-7.0, so we only need to set this argument if we want to use SSP5-8.5 or SSP2-4.5."
   ]
  },
  {
   "cell_type": "code",
   "execution_count": null,
   "id": "dea2c811-4f26-4c65-a9ed-cd0ed373be4e",
   "metadata": {},
   "outputs": [],
   "source": [
    "%%time\n",
    "# Retrieve data\n",
    "t2_ssp585_data_future_30yr = app.retrieve_meteo_yr_data(year_start=2038, year_end=2068, ssp=\"SSP 5-8.5 -- Burn it All\")\n",
    "\n",
    "# Read data into memory \n",
    "t2_ssp585_data_future_30yr = app.load(t2_ssp585_data_future_30yr)\n",
    "\n",
    "# Compute Severe Meteorological Year \n",
    "t2_ssp585_smy_future_30yr = compute_severe_yr(t2_ssp585_data_future_30yr, show_pbar=True)"
   ]
  },
  {
   "cell_type": "markdown",
   "id": "76e994f4-d571-4631-b590-6bf457ed5c6f",
   "metadata": {},
   "source": [
    "Next, lets compute a monthly mean and produce a comparison lineplot, like we did the the previous step. "
   ]
  },
  {
   "cell_type": "code",
   "execution_count": null,
   "id": "2d50ec9d-6ba4-4cc1-8435-82b6bebadeba",
   "metadata": {},
   "outputs": [],
   "source": [
    "# Compute monthly mean values \n",
    "t2_ssp370_30yr_mon_mean = compute_mean_monthly_meteo_yr(t2_smy_future_30yr, col_name=\"SSP 3-7.0 -- Business as Usual\")\n",
    "t2_ssp585_30yr_mon_mean = compute_mean_monthly_meteo_yr(t2_ssp585_smy_future_30yr, col_name=\"SSP 5-8.5 -- Burn it All\")\n",
    "\n",
    "# Merge the individual dataframes so it's easier to plot \n",
    "data_all = pd.concat( \n",
    "    [t2_ssp370_30yr_mon_mean,t2_ssp585_30yr_mon_mean], \n",
    "    axis=\"columns\"\n",
    ")\n",
    "\n",
    "# Display plot! \n",
    "data_all.hvplot(width=800, height=300, grid=True, ylabel=var_and_units, title=\"Severe Meteorological Year: Comparing High vs. Mid Scenarios\")"
   ]
  },
  {
   "cell_type": "markdown",
   "id": "a144fafc-7bfb-4393-8ab5-d31af78d4c96",
   "metadata": {},
   "source": [
    "### 2d) Output the mid and high scenario severe meteorological year data"
   ]
  },
  {
   "cell_type": "code",
   "execution_count": null,
   "id": "6d1396f5-9f33-4c06-8f02-3690c4483718",
   "metadata": {},
   "outputs": [],
   "source": [
    "t2_ssp585_smy_future_30yr.to_csv(\"t2_ssp585_smy_future_30yr.csv\") # mid scenario"
   ]
  },
  {
   "cell_type": "code",
   "execution_count": null,
   "id": "5039442d-48fa-4fe8-b8fe-0907830d6525",
   "metadata": {},
   "outputs": [],
   "source": [
    "t2_smy_future_30yr.to_csv(\"t2_smy_future_30yr.csv\") # high scenario"
   ]
  }
 ],
 "metadata": {
  "kernelspec": {
   "display_name": "Python 3 (ipykernel)",
   "language": "python",
   "name": "python3"
  },
  "language_info": {
   "codemirror_mode": {
    "name": "ipython",
    "version": 3
   },
   "file_extension": ".py",
   "mimetype": "text/x-python",
   "name": "python",
   "nbconvert_exporter": "python",
   "pygments_lexer": "ipython3",
   "version": "3.9.7"
  }
 },
 "nbformat": 4,
 "nbformat_minor": 5
}
