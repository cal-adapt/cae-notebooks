{
 "cells": [
  {
   "cell_type": "markdown",
   "id": "49898327-28b8-4118-b034-d20529fe8418",
   "metadata": {},
   "source": [
    "# Extreme heat distributions using a Global Warming Level approach"
   ]
  },
  {
   "cell_type": "markdown",
   "id": "c3623eb5-ced0-452a-bf14-efd4ab4e66ff",
   "metadata": {},
   "source": [
    "Because warming levels are defined based on amount of global mean temperature change, they can be used to compare possible outcomes across multiple scenarios and model simulations. \n",
    "\n",
    "Warming levels are often used in international policy discussions, such as the [Paris Agreement](https://unfccc.int/process-and-meetings/the-paris-agreement/the-paris-agreement) to limit warming to 2˚C.\n",
    "\n",
    "In this example, we will:\n",
    "\n",
    "- Examine the range of possibility in regional changes in daily maximum temperature across climate models \n",
    "\n",
    "- Calculate a distribution for days exceeding a maximum temperature threshold\n",
    "    - Contingent on a warming level\n",
    "    - Using a \"traditional\" method, with data centered around some future year for one emissions scenario"
   ]
  },
  {
   "cell_type": "markdown",
   "id": "07c0eb87-5be0-4447-8c02-722dc6476412",
   "metadata": {
    "tags": []
   },
   "source": [
    "## Step 0: Setup"
   ]
  },
  {
   "cell_type": "markdown",
   "id": "f4dab5f1-134e-4371-b848-522c37aac44f",
   "metadata": {},
   "source": [
    "Import libraries needed."
   ]
  },
  {
   "cell_type": "code",
   "execution_count": null,
   "id": "8cdb17d4-0dac-4dad-ab1e-8efc5d506220",
   "metadata": {
    "tags": []
   },
   "outputs": [],
   "source": [
    "from climakitae.explore import warming_levels\n",
    "from climakitae.explore.threshold_tools import get_exceedance_count\n",
    "from climakitae.util.utils import get_closest_gridcell"
   ]
  },
  {
   "cell_type": "markdown",
   "id": "6d7d5b89-eb18-49b0-8410-e5283a89dab4",
   "metadata": {},
   "source": [
    "Spin up some extra computing resources: essential for the highest resolution data."
   ]
  },
  {
   "cell_type": "code",
   "execution_count": null,
   "id": "2bb4505e-2353-4534-8807-a852b27cbaeb",
   "metadata": {
    "tags": []
   },
   "outputs": [],
   "source": [
    "from climakitae.util.cluster import Cluster\n",
    "cluster = Cluster()\n",
    "cluster.adapt(minimum=0, maximum=43)\n",
    "client = cluster.get_client()\n",
    "cluster"
   ]
  },
  {
   "cell_type": "markdown",
   "id": "4274cd9b-6a58-4ad0-aa4e-d85b590810c2",
   "metadata": {},
   "source": [
    "## Step 1: Explore data"
   ]
  },
  {
   "cell_type": "markdown",
   "id": "7539acd2-be4a-4b95-98ff-6cd35c75829f",
   "metadata": {},
   "source": [
    "Launch a toolkit to view localized projections under varying levels of warming. First, choose a variable, and spatial area of interest. "
   ]
  },
  {
   "cell_type": "code",
   "execution_count": null,
   "id": "add369c1-1880-4843-8dde-529b0cc0d78e",
   "metadata": {
    "tags": []
   },
   "outputs": [],
   "source": [
    "wl = warming_levels()"
   ]
  },
  {
   "cell_type": "code",
   "execution_count": null,
   "id": "04b87f37-fe96-434e-8085-432bdf888df6",
   "metadata": {
    "tags": []
   },
   "outputs": [],
   "source": [
    "wl.choose_data()"
   ]
  },
  {
   "cell_type": "markdown",
   "id": "745129d9-17f4-4b95-bc14-78719f8fdcfa",
   "metadata": {},
   "source": [
    "A latitude and longitude of interest:"
   ]
  },
  {
   "cell_type": "code",
   "execution_count": null,
   "id": "8069a8ba-9e13-4522-b745-46a3683b4c96",
   "metadata": {
    "tags": []
   },
   "outputs": [],
   "source": [
    "my_lat, my_lon = 34.08214634521255, -117.2425643"
   ]
  },
  {
   "cell_type": "markdown",
   "id": "a3e5890c-a9f0-4dd2-9fd6-0bfa67a150fa",
   "metadata": {},
   "source": [
    "A range that will result in the nearest gridcell being included:"
   ]
  },
  {
   "cell_type": "code",
   "execution_count": null,
   "id": "2203f24d-4406-4b33-99e8-fbb65d5b0d5d",
   "metadata": {
    "tags": []
   },
   "outputs": [],
   "source": [
    "wl.wl_params.latitude=(34.0,34.3)\n",
    "wl.wl_params.longitude=(-117.5,-117.1)"
   ]
  },
  {
   "cell_type": "markdown",
   "id": "faa0ad08-88d4-447d-a34b-cb2035feda7d",
   "metadata": {},
   "source": [
    "And let's set a few other things for this example, in case we forget to do so above:"
   ]
  },
  {
   "cell_type": "code",
   "execution_count": null,
   "id": "32fa4079-74f1-42e0-93ee-8b47c0183d95",
   "metadata": {
    "tags": []
   },
   "outputs": [],
   "source": [
    "wl.wl_params.variable=\"Maximum air temperature at 2m\"\n",
    "wl.wl_params.units=\"degF\"\n",
    "wl.wl_params.timescale=\"daily\"\n",
    "wl.wl_params.downscaling_method=[\"Statistical\"]\n",
    "wl.wl_params.anom=\"No\""
   ]
  },
  {
   "cell_type": "markdown",
   "id": "6853f5e9-8084-4f69-b8c4-acc36d615278",
   "metadata": {},
   "source": [
    "### Now retrieve and process the data\n",
    "The calculate step may take a while to complete. Selecting statistical downscaling will take longer because there are more simulations to work with, and they are at the highest spatial resolution (~10min with a cluster)."
   ]
  },
  {
   "cell_type": "code",
   "execution_count": null,
   "id": "6afd95fb-d231-4159-b736-5eb9e3108716",
   "metadata": {
    "tags": []
   },
   "outputs": [],
   "source": [
    "%%time\n",
    "wl.calculate()"
   ]
  },
  {
   "cell_type": "markdown",
   "id": "8ec9685c-939c-437b-bcf5-b0512e1a63f0",
   "metadata": {},
   "source": [
    "### Next visualize the regional response at a series of global warming levels.\n",
    "Use the drop down menu to visualize when a specified global warming level in reached for a scenario of interest. Scenarios shown are Shared Socioeconomic Pathways ([SSPs](https://www.sciencedirect.com/science/article/pii/S0959378016300681)): ranging from low (SSP 1-1.9) to high (SSP 5-8.5) emissions trajectories. \n",
    "\n",
    "To learn more about the data available on the Analytics Engine, [see our data catalog](https://analytics.cal-adapt.org/data/). "
   ]
  },
  {
   "cell_type": "code",
   "execution_count": null,
   "id": "b538032f-63d9-4cdd-8534-c7acb1252b33",
   "metadata": {
    "tags": []
   },
   "outputs": [],
   "source": [
    "wl.visualize()"
   ]
  },
  {
   "cell_type": "markdown",
   "id": "183deba2-9aca-45ee-bed8-8ae90c4db735",
   "metadata": {},
   "source": [
    "The visualize step, above, is optional if you want to go directly to extracting the data."
   ]
  },
  {
   "cell_type": "markdown",
   "id": "ab7c8c40-b8e9-46a7-aef5-6b2a9c5a3b06",
   "metadata": {},
   "source": [
    "### Extract 30yr slices of data centered at warming levels:"
   ]
  },
  {
   "cell_type": "code",
   "execution_count": null,
   "id": "0590d49b-5678-44e3-8149-05e2747c13f7",
   "metadata": {
    "tags": []
   },
   "outputs": [],
   "source": [
    "gwl_slices = wl.sliced_data\n",
    "gwl_slices"
   ]
  },
  {
   "cell_type": "markdown",
   "id": "14a1052d-9aea-4e5c-a615-65b0baef4a73",
   "metadata": {},
   "source": [
    "Now let's limit ourselves to only the nearest gridcell to our location of interest:"
   ]
  },
  {
   "cell_type": "code",
   "execution_count": null,
   "id": "3dd2e77a-16e7-4766-80d9-0406c82df786",
   "metadata": {
    "tags": []
   },
   "outputs": [],
   "source": [
    "gwl_slices = gwl_slices.sel(lat=my_lat,lon=my_lon,method='nearest')"
   ]
  },
  {
   "cell_type": "markdown",
   "id": "27b75d28-ba53-46c9-90a7-e8ffd8e9b397",
   "metadata": {},
   "source": [
    "Choose one warming level to focus on:"
   ]
  },
  {
   "cell_type": "code",
   "execution_count": null,
   "id": "52c09d59-cffa-498d-a308-8dccbe5ececf",
   "metadata": {
    "tags": []
   },
   "outputs": [],
   "source": [
    "two_degrees = gwl_slices.sel(warming_level='2.0').squeeze()"
   ]
  },
  {
   "cell_type": "markdown",
   "id": "3297baf2-5aac-4566-8ba0-9e9e649a65cb",
   "metadata": {},
   "source": [
    "Get a feel for how the data is stored, by looking at the timeseries. The 30-year slice is different for each simulation, with some that reach the warming level sooner or later that others. "
   ]
  },
  {
   "cell_type": "code",
   "execution_count": null,
   "id": "f58bd588-1ccb-42cd-b28f-605c5fac471e",
   "metadata": {
    "tags": []
   },
   "outputs": [],
   "source": [
    "two_degrees.squeeze().to_pandas().plot(legend=None,figsize=[13,2])"
   ]
  },
  {
   "cell_type": "markdown",
   "id": "8b878b32-0662-4cdf-83f7-903f0b19390e",
   "metadata": {},
   "source": [
    "To rearrange this data to use it in the next step. \n",
    "\n",
    "(This took 10 minutes by itself.\n",
    "\n",
    "Produces a deluge of warning messages too.\n",
    "\n",
    "You might find a better way to do this. Or maybe you can avoid having to do this. \n",
    "\n",
    "The only reason I did it was that otherwise all of the nan items got added into the bin for 0-days per year. But there might be a way to do the histogram-binning step that ignores nans, and that would be a better solution.)"
   ]
  },
  {
   "cell_type": "code",
   "execution_count": null,
   "id": "235e34cb-1ab7-4914-aba8-d733affea9ca",
   "metadata": {
    "tags": []
   },
   "outputs": [],
   "source": [
    "%%time\n",
    "import pandas as pd\n",
    "def align_time(y):\n",
    "    y = y.dropna(dim='time')\n",
    "    # start from an arbitrary year -- won't matter which we call it\n",
    "    y['time'] = pd.date_range('20000101',periods=len(y.time),freq='1D')\n",
    "    return y\n",
    "\n",
    "two_degrees_stacked = two_degrees.groupby('all_sims').apply(align_time)\n",
    "two_degrees_stacked"
   ]
  },
  {
   "cell_type": "code",
   "execution_count": null,
   "id": "34f56f92-ded1-4778-adb0-f264f078e470",
   "metadata": {},
   "outputs": [],
   "source": [
    "two_degrees_stacked"
   ]
  },
  {
   "cell_type": "markdown",
   "id": "d13b9d7f-936c-480a-886f-536d4def1b01",
   "metadata": {},
   "source": [
    "### Next: calculate exceedences of 115˚F"
   ]
  },
  {
   "cell_type": "markdown",
   "id": "4cc30525-26d0-4db6-a873-d3f66c5a6f50",
   "metadata": {},
   "source": [
    "We'll use a function from threshold_tools: it defaults to grouping by the year"
   ]
  },
  {
   "cell_type": "code",
   "execution_count": null,
   "id": "11743c27-f84a-4291-9deb-1c1f603b5859",
   "metadata": {
    "tags": []
   },
   "outputs": [],
   "source": [
    "threshold_value = 115\n",
    "gwl_dist = get_exceedance_count(two_degrees_stacked,threshold_value)"
   ]
  },
  {
   "cell_type": "code",
   "execution_count": null,
   "id": "03611616-783e-472c-8c83-2faa7acf6245",
   "metadata": {
    "tags": []
   },
   "outputs": [],
   "source": [
    "n_samples = 30 * len(gwl_dist.all_sims)\n",
    "print('Sample size: '+str(n_samples))"
   ]
  },
  {
   "cell_type": "markdown",
   "id": "16cc5161-3ff4-471e-b383-ebc64ff306fb",
   "metadata": {},
   "source": [
    "**Note:** the built-in xarray approach is from matplotlib: https://matplotlib.org/stable/api/_as_gen/matplotlib.pyplot.hist.html\n",
    "\n",
    "You can also calculate this separately (with this, or another, library), and then you've got the bins and values saved and you can play around with the plot formatting as a separate issue. Should be possible to do a logy with matplotlib, and overwrite that title to be something nicer."
   ]
  },
  {
   "cell_type": "code",
   "execution_count": null,
   "id": "4a3e843a-1494-42de-97a5-498767e51d6e",
   "metadata": {
    "tags": []
   },
   "outputs": [],
   "source": [
    "counts, bins, x = gwl_dist.plot.hist(bins=20)"
   ]
  },
  {
   "cell_type": "markdown",
   "id": "9297a748-c352-4de8-8833-917ea7234dc3",
   "metadata": {
    "execution": {
     "iopub.execute_input": "2023-09-13T19:19:04.792479Z",
     "iopub.status.busy": "2023-09-13T19:19:04.792104Z",
     "iopub.status.idle": "2023-09-13T19:19:04.795645Z",
     "shell.execute_reply": "2023-09-13T19:19:04.794888Z",
     "shell.execute_reply.started": "2023-09-13T19:19:04.792455Z"
    },
    "tags": []
   },
   "source": [
    "**Insert here:** probability of >10 days?\n",
    "\n",
    "Fit a distribution to do so? if so, include a confidence interval."
   ]
  },
  {
   "cell_type": "code",
   "execution_count": null,
   "id": "4a98866e-8953-46a7-9185-d934813c3ea2",
   "metadata": {},
   "outputs": [],
   "source": [
    "#[insert code here]"
   ]
  },
  {
   "cell_type": "markdown",
   "id": "9b17e067-306b-4993-921c-1272c3d87f4d",
   "metadata": {},
   "source": [
    "### Compare with \"traditional\" approach"
   ]
  },
  {
   "cell_type": "markdown",
   "id": "13fd7fc4-11b4-455d-8fbc-29441e3558b9",
   "metadata": {},
   "source": [
    "We can grab the same data that the warming_levels tool starts from before it subsets the data: accessed as wl.catalog_data"
   ]
  },
  {
   "cell_type": "code",
   "execution_count": null,
   "id": "31c45435-ee11-490b-9e0c-2595712b0810",
   "metadata": {
    "tags": []
   },
   "outputs": [],
   "source": [
    "time_horizon = wl.catalog_data.sel(scenario=\"Historical + SSP 3-7.0 -- Business as Usual\")"
   ]
  },
  {
   "cell_type": "markdown",
   "id": "23fc8e28-af1b-4850-b134-bf4f07f81aab",
   "metadata": {},
   "source": [
    "To compare this with a traditional approach, let's select a 30-year slice centered on **2047 (the year when SSP3-7.0 reaches 2˚C** above preindustrial according to the IPCC weighted consensus projection -- see graphic above).\n",
    "\n",
    "We'll use the same window for number of years around the time of interest."
   ]
  },
  {
   "cell_type": "code",
   "execution_count": null,
   "id": "3945c5f9-78c3-4eeb-b963-71b78eb019ac",
   "metadata": {
    "tags": []
   },
   "outputs": [],
   "source": [
    "my_window = wl.wl_params.window"
   ]
  },
  {
   "cell_type": "code",
   "execution_count": null,
   "id": "18739dd6-cec7-4fa3-98a9-c0b53073564a",
   "metadata": {
    "tags": []
   },
   "outputs": [],
   "source": [
    "time_horizon = time_horizon.sel(time=slice(str(2047-my_window),str(2047+(my_window-1))))"
   ]
  },
  {
   "cell_type": "markdown",
   "id": "bbc9d5dd-8ffc-4bd6-b6ab-c7a28248626e",
   "metadata": {},
   "source": [
    "Again, we'll need to extract the gridcell of interest:"
   ]
  },
  {
   "cell_type": "code",
   "execution_count": null,
   "id": "c423d8a1-e46d-45ae-9a42-fd00615ea57c",
   "metadata": {
    "tags": []
   },
   "outputs": [],
   "source": [
    "time_horizon = time_horizon.sel(lat=my_lat,lon=my_lon,method='nearest')"
   ]
  },
  {
   "cell_type": "markdown",
   "id": "0ed4bc88-e8a1-4735-b0ed-5c1ada7dc098",
   "metadata": {},
   "source": [
    "And count up the threshold exceedences:"
   ]
  },
  {
   "cell_type": "code",
   "execution_count": null,
   "id": "931cd5c5-be63-49b9-9efb-948447984b70",
   "metadata": {
    "tags": []
   },
   "outputs": [],
   "source": [
    "time_period_dist = get_exceedance_count(time_horizon,threshold_value)"
   ]
  },
  {
   "cell_type": "code",
   "execution_count": null,
   "id": "cee1f9a4-8fe6-483e-9d49-97a3a5c92816",
   "metadata": {
    "tags": []
   },
   "outputs": [],
   "source": [
    "n_samples = len(time_period_dist.time) * len(time_period_dist.simulation)\n",
    "print('Sample size: '+str(n_samples))"
   ]
  },
  {
   "cell_type": "code",
   "execution_count": null,
   "id": "863c9db6-6bfb-412d-a32f-6d73b4551783",
   "metadata": {
    "tags": []
   },
   "outputs": [],
   "source": [
    "time_period_dist.plot.hist(bins=bins) #using same bins as the plot above"
   ]
  },
  {
   "cell_type": "markdown",
   "id": "acf9dda8-a372-4c15-a4d0-a0e72063b6aa",
   "metadata": {},
   "source": [
    "**Last thing to (potentially) add:** resample the warming-level-contingent data using a bootstrapping approach. Select a random 1770 samples from the 3420. Plot the histogram (or fit the distribution if you've been doing that above) for that subset. Do this *n* times to get an idea of how much better-sampled you really are with 2x the samples."
   ]
  },
  {
   "cell_type": "code",
   "execution_count": null,
   "id": "3b8770d2-e6ca-4e36-b54c-415c31a8a5de",
   "metadata": {},
   "outputs": [],
   "source": [
    "#[insert code here]"
   ]
  },
  {
   "cell_type": "code",
   "execution_count": null,
   "id": "1fe1f079-d2fe-4186-a683-5d93aa70444e",
   "metadata": {},
   "outputs": [],
   "source": []
  }
 ],
 "metadata": {
  "kernelspec": {
   "display_name": "Python [conda env:notebook] *",
   "language": "python",
   "name": "conda-env-notebook-py"
  },
  "language_info": {
   "codemirror_mode": {
    "name": "ipython",
    "version": 3
   },
   "file_extension": ".py",
   "mimetype": "text/x-python",
   "name": "python",
   "nbconvert_exporter": "python",
   "pygments_lexer": "ipython3",
   "version": "3.9.13"
  }
 },
 "nbformat": 4,
 "nbformat_minor": 5
}
