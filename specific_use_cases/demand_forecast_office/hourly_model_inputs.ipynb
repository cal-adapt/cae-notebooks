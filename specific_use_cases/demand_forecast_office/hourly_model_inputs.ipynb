{
 "cells": [
  {
   "cell_type": "markdown",
   "id": "1ef234a4-1197-4ff1-b82f-24b9cc28d249",
   "metadata": {},
   "source": [
    "# DFU Notebook 4: Working with hourly projections data \n",
    "Exploring how hourly projections data can be used as inputs into DFU hourly models "
   ]
  },
  {
   "cell_type": "markdown",
   "id": "bac647be-c6c9-4244-a38f-0828d59b4f28",
   "metadata": {},
   "source": [
    "## Step 0: Setup \n",
    "Import the climakitae library and any other required packages."
   ]
  },
  {
   "cell_type": "code",
   "execution_count": null,
   "id": "39d46996-9deb-4736-a3b8-2f56d8a1290c",
   "metadata": {},
   "outputs": [],
   "source": [
    "import climakitae as ck\n",
    "from climakitae.cluster import Cluster\n",
    "from climakitae.utils import get_closest_gridcell\n",
    "import pandas as pd\n",
    "import xarray as xr"
   ]
  },
  {
   "cell_type": "markdown",
   "id": "dfb29575-fd42-4d6d-b901-ce5a7578bdd3",
   "metadata": {},
   "source": [
    "Initialize a [climakitae.Application](https://climakitae.readthedocs.io/en/latest/generated/climakitae.Application.html) object. "
   ]
  },
  {
   "cell_type": "code",
   "execution_count": null,
   "id": "877edad9-6eda-45ee-9b77-f4082cfc0324",
   "metadata": {},
   "outputs": [],
   "source": [
    "app = ck.Application()"
   ]
  },
  {
   "cell_type": "markdown",
   "id": "081178fa-5ac4-47a7-aeeb-8212ac1195c6",
   "metadata": {},
   "source": [
    "Additionally, get set up to make the computing go faster by executing the following cell. It will likely take several minutes to spin up! Learn more about dask and see some common troubleshooting tips on our FAQ page."
   ]
  },
  {
   "cell_type": "code",
   "execution_count": null,
   "id": "291e32be-44e5-4c65-8b9b-aeab045d68d2",
   "metadata": {},
   "outputs": [],
   "source": [
    "cluster = Cluster()\n",
    "cluster.adapt(minimum=0, maximum=8)\n",
    "client = cluster.get_client()\n",
    "cluster"
   ]
  },
  {
   "cell_type": "markdown",
   "id": "22ce8036-d1fa-49b2-b7f9-e56e8ab8c304",
   "metadata": {},
   "source": [
    "## Part 1: Monthly extremes\n",
    "### 1a) Retrieve catalog data using a configuration csv file\n",
    "We can easily use the climakitae helper function `retrieve_from_csv` to use a configuration csv file to retrieve data from the AE data catalog. To modify the retrieved data, simply modify the csv file. See the [function documentation](https://climakitae.readthedocs.io/en/latest/generated/climakitae.Application.retrieve_from_csv.html#climakitae.Application.retrieve_from_csv) for more information. Because we are retrieving two data variables, the data will be returned as an [xarray Dataset](https://docs.xarray.dev/en/stable/generated/xarray.Dataset.html) object. "
   ]
  },
  {
   "cell_type": "code",
   "execution_count": null,
   "id": "0137bd9f-d352-4343-99f3-1a382bce28cc",
   "metadata": {},
   "outputs": [],
   "source": [
    "t2_daily = app.retrieve_from_csv(\"data/config_min_max_daily_temp.csv\")"
   ]
  },
  {
   "cell_type": "markdown",
   "id": "cccc3ebd-831a-4d64-a1b8-779657bbce92",
   "metadata": {
    "tags": []
   },
   "source": [
    "### 1b) Preview the data \n",
    "You can review the retrieved data easily in the notebook. You'll see that we've retrieved daily minimum and maximum 2 meter air temperature data for SSP 3-7.0 for the time period of 1980-2050 at a grid resolution of 9km. <br><br>The daily min and max data has been pre-computed by our team using the hourly 2m Air Temperature data so that these derived variables don't need to be computed on the fly. "
   ]
  },
  {
   "cell_type": "code",
   "execution_count": null,
   "id": "be34c995-0f1c-4a42-a956-c5f1c6901601",
   "metadata": {},
   "outputs": [],
   "source": [
    "display(t2_daily)"
   ]
  },
  {
   "cell_type": "markdown",
   "id": "d328726b-0285-4085-9174-89952e7e64df",
   "metadata": {},
   "source": [
    "### 1c) Find the monthly minimum and maximum air temperature\n",
    "We'll resample the daily data to monthly using [xarray's resample function](https://docs.xarray.dev/en/stable/generated/xarray.DataArray.resample.html#xarray.DataArray.resample), then compute a minimum and maximum. We'll combine the derived monthly variables to create a new xarray Dataset object. "
   ]
  },
  {
   "cell_type": "code",
   "execution_count": null,
   "id": "bc0ed317-1430-4b2c-9b9d-b5266657bcf8",
   "metadata": {},
   "outputs": [],
   "source": [
    "# Resample to monthly\n",
    "mon_min = t2_daily[\"Daily minimum air temperature at 2m\"].resample(\n",
    "    time=\"MS\").min().assign_attrs({\"frequency\":\"monthly\"})\n",
    "mon_max = t2_daily[\"Daily maximum air temperature at 2m\"].resample(\n",
    "    time=\"MS\").max().assign_attrs({\"frequency\":\"monthly\"})\n",
    "\n",
    "# Rename variable daily --> monthly \n",
    "mon_min.name = \"Monthly minimum air temperature at 2m\"\n",
    "mon_max.name = \"Monthly maximum air temperature at 2m\"\n",
    "\n",
    "# Create new combined object \n",
    "t2_monthly = xr.merge([mon_min, mon_max], combine_attrs=\"drop_conflicts\")"
   ]
  },
  {
   "cell_type": "markdown",
   "id": "e822fefe-ffdf-4c1c-9296-d97b25a2d114",
   "metadata": {},
   "source": [
    "## 1d) Get data from the closest grid cell to the weather station. \n",
    "As an example - to replicate the historical observations at Sacramento Executive Airport, grab the grid cell from the model nearest to the airport."
   ]
  },
  {
   "cell_type": "code",
   "execution_count": null,
   "id": "a143dc1e-2bba-4848-b9c8-127200199f31",
   "metadata": {},
   "outputs": [],
   "source": [
    "stations_df = pd.read_csv(\"data/CEC_Forecast_Weather Stations_California.csv\", index_col=\"STATION\")\n",
    "one_station = stations_df.loc[\"SACRAMENTO EXECUTIVE AIRPORT\"]\n",
    "\n",
    "data_closest_gridcell = get_closest_gridcell(\n",
    "    data=t2_monthly,\n",
    "    lat=one_station.LAT_Y,\n",
    "    lon=one_station.LON_X, \n",
    ")"
   ]
  },
  {
   "cell_type": "markdown",
   "id": "503681ad-d628-4569-9757-6d3a9f20bb73",
   "metadata": {},
   "source": [
    "## 1e) Subset the data by time period \n",
    "We'll create a separate data object for the historical baseline period, and a separate data object for the 30 year future period. The time period can be easily modified by changing the years in the code below. For example, to change the historical baseline period to 1990-2020, use the following code: `data_closest_gridcell.sel(time=slice(\"1990\",\"2020\"))`"
   ]
  },
  {
   "cell_type": "code",
   "execution_count": null,
   "id": "758d435e-3787-49b7-aa2b-93e42f24d0e4",
   "metadata": {},
   "outputs": [],
   "source": [
    "historical_baseline = data_closest_gridcell.sel(time=slice(\"1981\", \"2010\"))\n",
    "future_30yr = data_closest_gridcell.sel(time=slice(\"2020\",\"2050\"))"
   ]
  },
  {
   "cell_type": "markdown",
   "id": "7bd0e619-6f23-4f93-b6d5-2dbf6f90c7c3",
   "metadata": {},
   "source": [
    "## 1f) Read the data into memory. \n",
    "Until this point, the data is only lazily loaded into the notebook, so this step will take several minutes. You'll notice that we've added a [Jupyter magic command](https://ipython.readthedocs.io/en/stable/interactive/magics.html), `%%time`, to the top of the cell, which will print final time it takes to perform this step once the code finishes running. "
   ]
  },
  {
   "cell_type": "code",
   "execution_count": null,
   "id": "616d2059-eb67-41fd-963d-7ab049b3625f",
   "metadata": {},
   "outputs": [],
   "source": [
    "%%time\n",
    "historical_baseline = app.load(historical_baseline)\n",
    "future_30yr = app.load(future_30yr)"
   ]
  },
  {
   "cell_type": "markdown",
   "id": "313e0924-77f5-47dc-956a-4554f013017a",
   "metadata": {},
   "source": [
    "### 1g) Plot the data"
   ]
  },
  {
   "cell_type": "code",
   "execution_count": null,
   "id": "c94f26ca-b94a-4be6-9ca7-42e445c9cf46",
   "metadata": {},
   "outputs": [],
   "source": [
    "def interactive_lineplot(data, dynamic=True, ylim=(0,130),ylabel=\"Air Temperature (degF)\",line_dash=\"solid\"): \n",
    "    \"\"\"Create an interactive lineplot using monthly data for each simulation in the dataset.\n",
    "    Setting dynamic=False (the default) makes the plot take longer to produce upfront, but everything \n",
    "    is zippy after (the developer's personal preference). \n",
    "    Setting dynamic=True means the plot will only be generated once you change the settings.\n",
    "    line_dash options: 'solid', 'dashed', 'dotted', 'dotdash', 'dashdot'\n",
    "    \"\"\"\n",
    "    plots_all = None\n",
    "    for (sim, color) in zip(data.simulation.values,['#377eb8', '#ff7f00', '#4daf4a','#f781bf']):\n",
    "        plot_i = data.isel(\n",
    "            scenario=0).sel(simulation=sim).hvplot.line(\n",
    "            groupby=\"time.month\", \n",
    "            width=550, height=350, \n",
    "            label=sim,\n",
    "            line_dash=line_dash,\n",
    "            grid=True,\n",
    "            ylabel=ylabel,\n",
    "            color=color,\n",
    "            ylim=ylim, # Set limits of y axis \n",
    "            dynamic=dynamic \n",
    "        )\n",
    "        plots_all = plot_i if plots_all is None else plots_all*plot_i\n",
    "\n",
    "    plots_all = plots_all.opts(legend_position='bottom') # Move legend to bottom of plot \n",
    "    return plots_all"
   ]
  },
  {
   "cell_type": "code",
   "execution_count": null,
   "id": "71188ec7-0de4-45c3-8baf-86b6127a9877",
   "metadata": {},
   "outputs": [],
   "source": [
    "pl1 = interactive_lineplot(historical_baseline[\"Monthly minimum air temperature at 2m\"])\n",
    "pl2 = interactive_lineplot(historical_baseline[\"Monthly maximum air temperature at 2m\"])\n",
    "(pl1*pl2).opts(legend_position='bottom')"
   ]
  },
  {
   "cell_type": "code",
   "execution_count": null,
   "id": "638b9172-ce07-4bd9-9347-3db6dd4495a5",
   "metadata": {},
   "outputs": [],
   "source": [
    "pl1 = interactive_lineplot(future_30yr[\"Monthly minimum air temperature at 2m\"])\n",
    "pl2 = interactive_lineplot(future_30yr[\"Monthly maximum air temperature at 2m\"])\n",
    "(pl1*pl2).opts(legend_position='bottom')"
   ]
  },
  {
   "cell_type": "markdown",
   "id": "1e26f28c-30a0-4f2c-8aa1-9618e418ffdb",
   "metadata": {},
   "source": [
    "## Part 2: Diurnal trends\n",
    "Find the day in each season that has the lowest minimum temperature **or** the highest maximum temperature"
   ]
  },
  {
   "cell_type": "markdown",
   "id": "7c35f4ef-bb64-474d-821a-9984295dbc2d",
   "metadata": {},
   "source": [
    "### 2a) Retrieve the data \n",
    "Same as we've done in Part 1, here we'll grab the data using the `retrieve_from_csv` function and get the closest gridcell to the Sacramento weatherstation.\n",
    "\n",
    "Along with the future 30yr data, we'll also retrieve the Historical Reconstruction ERA5-WRF data from 1981-2010 as our historical baseline. We'll add this data to our plots at the end, so that it can be compared to the future period. By setting `merge` to `False` in the funtion, we're indicating that we want the two datasets returned separately, instead of merged into the same object (which would be incompatible as the datasets cover different time periods and have different dimensions) "
   ]
  },
  {
   "cell_type": "code",
   "execution_count": null,
   "id": "0c2b33e6-78c4-4519-8c1c-696ffdf7de5c",
   "metadata": {},
   "outputs": [],
   "source": [
    "t2_hourly_future, t2_hourly_historical = app.retrieve_from_csv(\"data/config_hourly_2m_temp.csv\", merge=False)"
   ]
  },
  {
   "cell_type": "code",
   "execution_count": null,
   "id": "73b6ae75-8d79-4a29-94ad-e40f7f458a23",
   "metadata": {},
   "outputs": [],
   "source": [
    "t2_hourly_future_sac = get_closest_gridcell(\n",
    "    data=t2_hourly_future,\n",
    "    lat=one_station.LAT_Y,\n",
    "    lon=one_station.LON_X, \n",
    ")\n",
    "t2_hourly_historical_sac = get_closest_gridcell(\n",
    "    data=t2_hourly_historical,\n",
    "    lat=one_station.LAT_Y,\n",
    "    lon=one_station.LON_X, \n",
    ")"
   ]
  },
  {
   "cell_type": "markdown",
   "id": "e3155190-a6cc-4649-be86-3608a550fba7",
   "metadata": {},
   "source": [
    "### 2b) Read the data into memory"
   ]
  },
  {
   "cell_type": "code",
   "execution_count": null,
   "id": "b97ffd7c-6ae0-4323-8e6c-a3c76a60308a",
   "metadata": {},
   "outputs": [],
   "source": [
    "%%time\n",
    "t2_hourly_future_sac = app.load(t2_hourly_future_sac)\n",
    "t2_hourly_historical_sac = app.load(t2_hourly_historical_sac)"
   ]
  },
  {
   "cell_type": "markdown",
   "id": "797fb5b7-7365-4962-a2b7-53b50982a810",
   "metadata": {},
   "source": [
    "### 2c) Find the hour in each season that has the lowest minimum temperature **or** the highest maximum temperature\n",
    "Choose whether you are interested in a min or max by setting `by` to `\"min\"` or `\"max\"`. In the following cell, we'll find the diurnal cycle for the entire day in which this hour occurs."
   ]
  },
  {
   "cell_type": "code",
   "execution_count": null,
   "id": "36d8d895-7b3b-4359-b7cb-cfe2cb2e7dc6",
   "metadata": {},
   "outputs": [],
   "source": [
    "by = \"min\""
   ]
  },
  {
   "cell_type": "code",
   "execution_count": null,
   "id": "be9ba049-b916-4d27-a722-6a0865a0c70e",
   "metadata": {},
   "outputs": [],
   "source": [
    "if by == \"min\": \n",
    "    # Compute the value at \n",
    "    values_reached = t2_hourly_future_sac.groupby(\"time.season\").min()\n",
    "    values_reached_historical = t2_hourly_historical_sac.groupby(\"time.season\").min()\n",
    "    # Set the plot title \n",
    "    title = \"Diurnal cycles for the day with the lowest temperature miminum, by season\"\n",
    "elif by == \"max\": \n",
    "    values_reached = t2_hourly_future_sac.groupby(\"time.season\").max()\n",
    "    values_reached_historical = t2_hourly_historical_sac.groupby(\"time.season\").max()\n",
    "    title = \"Diurnal cycles for the day with the highest temperature maximum, by season\""
   ]
  },
  {
   "cell_type": "markdown",
   "id": "9bd25e21-5c5a-48da-9639-07fa2d4ce95e",
   "metadata": {},
   "source": [
    "### 2d) Plot the results \n",
    "In this cell, we'll find the hour the target values are reached, and the data for that corresponding day.  "
   ]
  },
  {
   "cell_type": "code",
   "execution_count": null,
   "id": "8fe91e97-9963-4280-b6e0-a57029e5e7c2",
   "metadata": {},
   "outputs": [],
   "source": [
    "season_accessors = {\"SON\":\"Autumn\",\"DJF\":\"Winter\",\"MAM\":\"Spring\",\"JJA\":\"Summer\"}\n",
    "\n",
    "plots_all = None\n",
    "diurnal_cycles_by_season = []\n",
    "for season in [\"MAM\",\"JJA\",\"SON\",\"DJF\"]: \n",
    "    diurnal_cycles_by_sim = []\n",
    "    for simulation in t2_hourly_future_sac.simulation.values: \n",
    "        \n",
    "        # FUTURE\n",
    "        # Find hour the target value is reached, and data for the corresponding day\n",
    "        value_reached_by_season = values_reached.sel(season = season, simulation=simulation)\n",
    "        data_by_season = t2_hourly_future_sac.sel(time=t2_hourly_future_sac.time.dt.season==season, simulation = simulation) \n",
    "        hour_value_is_reached = data_by_season.where(data_by_season == value_reached_by_season, drop=True).time\n",
    "        day_value_is_reached = pd.to_datetime(hour_value_is_reached).strftime(\"%b %d %Y\").item()\n",
    "        diurnal_cycle = data_by_season.sel(time=day_value_is_reached).isel(scenario=0)\n",
    "        diurnal_cycle[\"time\"] = diurnal_cycle.time.dt.hour\n",
    "        diurnal_cycle = diurnal_cycle.assign_coords(\n",
    "            {\"season\":season,\"day\":day_value_is_reached}\n",
    "        ).expand_dims(\"simulation\")\n",
    "        diurnal_cycles_by_sim.append(diurnal_cycle)\n",
    "    \n",
    "    diurnal_cycle_sims_all = xr.concat(diurnal_cycles_by_sim, dim=\"simulation\")\n",
    "    diurnal_cycles_by_season.append(diurnal_cycle_sims_all)\n",
    "    \n",
    "    plot_i = diurnal_cycle_sims_all.hvplot.line(\n",
    "        x=\"time\", \n",
    "        grid=True, \n",
    "        title=season_accessors[season],\n",
    "        xlabel=\"Hour of Day\",\n",
    "        width=575, height=250\n",
    "    ).overlay().opts(legend_position='right')\n",
    "    \n",
    "    # HISTORICAL\n",
    "    # Find hour the target value is reached, and data for the corresponding day\n",
    "    value_reached_by_season = values_reached_historical.sel(season=season, simulation=\"era5\", scenario=\"reanalysis\")\n",
    "    data_by_season = t2_hourly_historical_sac.sel(time=t2_hourly_historical_sac.time.dt.season==season, simulation=\"era5\", scenario=\"reanalysis\")\n",
    "    hour_value_is_reached = data_by_season.where(data_by_season == value_reached_by_season, drop=True).time\n",
    "    day_value_is_reached = pd.to_datetime(hour_value_is_reached).strftime(\"%b %d %Y\").item()\n",
    "    diurnal_cycle_historical = data_by_season.sel(time=day_value_is_reached)\n",
    "    diurnal_cycle_historical[\"hour\"] = diurnal_cycle_historical.time.dt.hour\n",
    "    plot_i *= diurnal_cycle_historical.hvplot.line(\n",
    "        label=\"{0}: {1}\".format(\"historical\", day_value_is_reached),\n",
    "        xlabel=\"Hour of Day\",\n",
    "        line_dash=\"dashed\",\n",
    "        grid=True, \n",
    "        color=\"black\",\n",
    "        title=season_accessors[season], \n",
    "        width=575, height=250\n",
    "    ) \n",
    "    plots_all = plot_i if plots_all is None else plots_all+plot_i\n",
    "\n",
    "diurnal_data = xr.concat(diurnal_cycles_by_season, dim=\"season\")\n",
    "plots_all = plots_all.cols(2).opts(title=title)\n",
    "plots_all"
   ]
  },
  {
   "cell_type": "markdown",
   "id": "3a94ce7b-ff40-4c0e-be16-d390bcebd202",
   "metadata": {},
   "source": [
    "### 2e) Observe the output data\n",
    "The data used to generate the plots above are available in the xr.DataArray object `diurnal_data`, computed in the code cell above. Here, we'll display the data so that you can observe the dimensions."
   ]
  },
  {
   "cell_type": "code",
   "execution_count": null,
   "id": "10fa2713-0a01-426c-80f2-50a88a998493",
   "metadata": {},
   "outputs": [],
   "source": [
    "display(diurnal_data)"
   ]
  },
  {
   "cell_type": "markdown",
   "id": "1b6bca92-28ad-4554-baea-33e2bcd328aa",
   "metadata": {},
   "source": [
    "### 2d) Export the results \n",
    "Choose your desired filetype (we recommend NetCDF) and export the data. We've left the actual export code, `app.export_dataset` commented out; if you want to save the file, simply remove the comment (#)"
   ]
  },
  {
   "cell_type": "code",
   "execution_count": null,
   "id": "50069a63-766a-49b0-80b2-6aeaf587b057",
   "metadata": {},
   "outputs": [],
   "source": [
    "app.export_as()"
   ]
  },
  {
   "cell_type": "code",
   "execution_count": null,
   "id": "0ce5b605-48ed-4fec-aa3f-237fa938e52c",
   "metadata": {},
   "outputs": [],
   "source": [
    "#app.export_dataset(diurnal_data, file_name=\"diurnal_data\")"
   ]
  }
 ],
 "metadata": {
  "kernelspec": {
   "display_name": "Python 3 (ipykernel)",
   "language": "python",
   "name": "python3"
  },
  "language_info": {
   "codemirror_mode": {
    "name": "ipython",
    "version": 3
   },
   "file_extension": ".py",
   "mimetype": "text/x-python",
   "name": "python",
   "nbconvert_exporter": "python",
   "pygments_lexer": "ipython3",
   "version": "3.9.7"
  }
 },
 "nbformat": 4,
 "nbformat_minor": 5
}
